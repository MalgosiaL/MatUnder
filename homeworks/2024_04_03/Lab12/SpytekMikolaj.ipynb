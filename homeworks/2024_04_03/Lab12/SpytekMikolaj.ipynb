{
 "cells": [
  {
   "cell_type": "markdown",
   "metadata": {},
   "source": [
    "# Mathematical Underpinnings - Lab 6"
   ]
  },
  {
   "cell_type": "code",
   "execution_count": 71,
   "metadata": {},
   "outputs": [],
   "source": [
    "from sklearn.metrics import mutual_info_score\n",
    "import numpy as np\n",
    "import matplotlib.pyplot as plt\n",
    "import seaborn as sns\n",
    "import pandas as pd\n"
   ]
  },
  {
   "cell_type": "markdown",
   "metadata": {},
   "source": [
    "## Useful functions"
   ]
  },
  {
   "cell_type": "code",
   "execution_count": 72,
   "metadata": {},
   "outputs": [],
   "source": [
    "def discetize_2bins(X):\n",
    "    X_discrete = 1*(X >= 0)\n",
    "    return X_discrete"
   ]
  },
  {
   "cell_type": "code",
   "execution_count": 73,
   "metadata": {},
   "outputs": [],
   "source": [
    "def conditional_permutation(X, Z):\n",
    "\n",
    "    z_values = np.unique(Z)\n",
    "    n_z_values = len(z_values)\n",
    "    n = len(Z)\n",
    "\n",
    "    X_b = np.zeros(n)\n",
    "\n",
    "    for i in range(n_z_values):\n",
    "\n",
    "        z_value_tmp = z_values[i]\n",
    "\n",
    "        X_b[Z == z_value_tmp] = np.random.permutation(X[Z == z_value_tmp])\n",
    "\n",
    "    return X_b"
   ]
  },
  {
   "cell_type": "code",
   "execution_count": 74,
   "metadata": {},
   "outputs": [],
   "source": [
    "def conditional_mutual_information(X, Y, Z):\n",
    "\n",
    "    z_values = np.unique(Z)\n",
    "    n_z_values = len(z_values)\n",
    "    n = len(Z)\n",
    "\n",
    "    cmi = 0\n",
    "\n",
    "    for i in range(n_z_values):\n",
    "\n",
    "        z_value_tmp = z_values[i]\n",
    "        z_condition = (Z == z_value_tmp)\n",
    "\n",
    "        X_z = X[z_condition]\n",
    "        Y_z = Y[z_condition]\n",
    "\n",
    "        mi_XY_z = mutual_info_score(X_z, Y_z)\n",
    "        p_z = np.sum(z_condition)/n\n",
    "\n",
    "        cmi += p_z*mi_XY_z\n",
    "\n",
    "    return cmi"
   ]
  },
  {
   "cell_type": "code",
   "execution_count": 75,
   "metadata": {},
   "outputs": [],
   "source": [
    "# II(X;Y;Z)\n",
    "def interaction_information(X, Y, Z):\n",
    "    return conditional_mutual_information(X, Y, Z) - mutual_info_score(X, Y)"
   ]
  },
  {
   "cell_type": "code",
   "execution_count": 76,
   "metadata": {},
   "outputs": [],
   "source": [
    "# II(X;Y;Z1;Z2)\n",
    "def interaction_information2(X, Y, Z1, Z2):\n",
    "    Z_1_and_2 = 2*Z2 + Z1\n",
    "    return interaction_information(X, Y, Z_1_and_2) - interaction_information(X, Y, Z1) - interaction_information(X, Y, Z2)"
   ]
  },
  {
   "cell_type": "markdown",
   "metadata": {},
   "source": [
    "## Task 1"
   ]
  },
  {
   "cell_type": "code",
   "execution_count": 77,
   "metadata": {},
   "outputs": [],
   "source": [
    "def secmi2(X, Y, Z):\n",
    "    \n",
    "    ii = 0\n",
    "    for iter in range(len(np.unique(Z))):\n",
    "        ii += interaction_information(X, Y, Z[:, iter])\n",
    "\n",
    "    return mutual_info_score(X, Y) + ii\n",
    "\n",
    "def secmi3(X, Y, Z):\n",
    "\n",
    "    ii = 0\n",
    "    ii2 = 0\n",
    "    for iter in range(len(np.unique(Z))):\n",
    "        ii += interaction_information(X, Y, Z[:, iter])\n",
    "        for iter2 in range(iter+1, len(np.unique(Z))):\n",
    "            ii2 += interaction_information2(X, Y, Z[:, iter], Z[:, iter2])\n",
    "\n",
    "    return mutual_info_score(X, Y) + ii + ii2\n"
   ]
  },
  {
   "cell_type": "markdown",
   "metadata": {},
   "source": [
    "### a)"
   ]
  },
  {
   "cell_type": "code",
   "execution_count": 78,
   "metadata": {},
   "outputs": [],
   "source": [
    "def cond_indep_test_permutation(X, Y, Z, B, stat):\n",
    "\n",
    "    n_col_Z = Z.shape[1]\n",
    "    Z_1dim = np.dot(Z, 2**np.linspace(0, n_col_Z-1, n_col_Z))\n",
    "\n",
    "    if stat == \"cmi\":\n",
    "        stat_value = conditional_mutual_information(X, Y, Z_1dim)\n",
    "    if stat == \"secmi2\":\n",
    "        stat_value = secmi2(X, Y, Z)\n",
    "    if stat == \"secmi3\":\n",
    "        stat_value = secmi3(X, Y, Z)\n",
    "\n",
    "    condition_p_value = 0\n",
    "    for b in range(B):\n",
    "        X_b = conditional_permutation(X, Z_1dim)\n",
    "\n",
    "        if stat == \"cmi\":\n",
    "            stat_value_b = conditional_mutual_information(X_b, Y, Z_1dim)\n",
    "        if stat == \"secmi2\":\n",
    "            stat_value_b = secmi2(X_b, Y, Z)\n",
    "        if stat == \"secmi3\":\n",
    "            stat_value_b = secmi3(X_b, Y, Z)\n",
    "\n",
    "        if stat_value <= stat_value_b:\n",
    "            condition_p_value += 1\n",
    "\n",
    "    p_value = (1 + condition_p_value)/(1 + B)\n",
    "\n",
    "    return 2*len(X)*stat_value, p_value"
   ]
  },
  {
   "cell_type": "markdown",
   "metadata": {},
   "source": [
    "### b)"
   ]
  },
  {
   "cell_type": "code",
   "execution_count": 81,
   "metadata": {},
   "outputs": [],
   "source": [
    "def sample_data(n, seed = 42):\n",
    "    np.random.seed(seed)\n",
    "    Y = np.where(np.random.normal(0, 1, n)>=0, 1, -1)\n",
    "    Z = np.where(np.random.normal(0, 1, 3*n) + Y.repeat(3)>=0, 1, -1).reshape(n, 3)\n",
    "    X = np.where(np.random.normal(0, 1, n) + Z[:, 0]>=0, 1, -1)\n",
    "\n",
    "    return X, Y, Z "
   ]
  },
  {
   "cell_type": "code",
   "execution_count": 84,
   "metadata": {},
   "outputs": [
    {
     "name": "stdout",
     "output_type": "stream",
     "text": [
      "p-value for the conditional independence test with the CMI(X, Y | (Z1, Z2)):  0.3465346534653465\n",
      "p-value for the conditional independence test with the CMI(X, Y | (Z2, Z3)):  0.009900990099009901\n",
      "p-value for the conditional independence test with the seCMI2(X, Y | (Z1, Z2)):  0.9504950495049505\n",
      "p-value for the conditional independence test with the seCMI2(X, Y | (Z2, Z3)):  0.009900990099009901\n",
      "p-value for the conditional independence test with the seCMI3(X, Y | (Z1, Z2)):  0.31683168316831684\n",
      "p-value for the conditional independence test with the seCMI3(X, Y | (Z2, Z3)):  0.009900990099009901\n"
     ]
    }
   ],
   "source": [
    "X, Y, Z = sample_data(1000)\n",
    "\n",
    "# conditional independence tests\n",
    "\n",
    "B = 100\n",
    "\n",
    "stat = \"cmi\"\n",
    "stat_value, p_value = cond_indep_test_permutation(X, Y, Z[:, 0:2], B, stat)\n",
    "print(\"p-value for the conditional independence test with the CMI(X, Y | (Z1, Z2)): \", p_value)\n",
    "stat_value, p_value = cond_indep_test_permutation(X, Y, Z[:, 1:3], B, stat)\n",
    "print(\"p-value for the conditional independence test with the CMI(X, Y | (Z2, Z3)): \", p_value)\n",
    "\n",
    "stat = \"secmi2\"\n",
    "\n",
    "stat_value, p_value = cond_indep_test_permutation(X, Y, Z[:, 0:2], B, stat)\n",
    "print(\"p-value for the conditional independence test with the seCMI2(X, Y | (Z1, Z2)): \", p_value)\n",
    "stat_value, p_value = cond_indep_test_permutation(X, Y, Z[:, 1:3], B, stat)\n",
    "print(\"p-value for the conditional independence test with the seCMI2(X, Y | (Z2, Z3)): \", p_value)\n",
    "\n",
    "stat = \"secmi3\"\n",
    "stat_value, p_value = cond_indep_test_permutation(X, Y, Z[:, 0:2], B, stat)\n",
    "print(\"p-value for the conditional independence test with the seCMI3(X, Y | (Z1, Z2)): \", p_value)\n",
    "stat_value, p_value = cond_indep_test_permutation(X, Y, Z[:, 1:3], B, stat)\n",
    "print(\"p-value for the conditional independence test with the seCMI3(X, Y | (Z2, Z3)): \", p_value)\n",
    "\n"
   ]
  },
  {
   "cell_type": "code",
   "execution_count": 87,
   "metadata": {},
   "outputs": [
    {
     "name": "stderr",
     "output_type": "stream",
     "text": [
      "100%|██████████| 100/100 [07:27<00:00,  4.47s/it]\n"
     ]
    }
   ],
   "source": [
    "from tqdm import tqdm\n",
    "N = 100\n",
    "B = 50\n",
    "scenarios = [\"sc1\", \"sc2\"]\n",
    "stats = [\"cmi\", \"secmi2\", \"secmi3\"]\n",
    "\n",
    "p_values = np.zeros((N, len(scenarios), len(stats)))\n",
    "\n",
    "for i in tqdm(range(N)):\n",
    "    for stat in stats:\n",
    "        for j, scenario in enumerate(scenarios):\n",
    "            X, Y, Z = sample_data(1000, seed = i)\n",
    "            if scenario == \"sc1\":\n",
    "                st = 0\n",
    "                en = 2\n",
    "            if scenario == \"sc2\":\n",
    "                st = 1\n",
    "                en = 3\n",
    "            stat_value, p_value = cond_indep_test_permutation(X, Y, Z[:, st:en], B, stat)\n",
    "            p_values[i, j, stats.index(stat)] = p_value\n",
    "\n",
    "p_values_df = pd.DataFrame(p_values.reshape(N, -1), columns = [f\"{scenario}_{stat}\" for scenario in scenarios for stat in stats])\n",
    "\n"
   ]
  },
  {
   "cell_type": "code",
   "execution_count": 88,
   "metadata": {},
   "outputs": [
    {
     "data": {
      "text/html": [
       "<div>\n",
       "<style scoped>\n",
       "    .dataframe tbody tr th:only-of-type {\n",
       "        vertical-align: middle;\n",
       "    }\n",
       "\n",
       "    .dataframe tbody tr th {\n",
       "        vertical-align: top;\n",
       "    }\n",
       "\n",
       "    .dataframe thead th {\n",
       "        text-align: right;\n",
       "    }\n",
       "</style>\n",
       "<table border=\"1\" class=\"dataframe\">\n",
       "  <thead>\n",
       "    <tr style=\"text-align: right;\">\n",
       "      <th></th>\n",
       "      <th>sc1_cmi</th>\n",
       "      <th>sc1_secmi2</th>\n",
       "      <th>sc1_secmi3</th>\n",
       "      <th>sc2_cmi</th>\n",
       "      <th>sc2_secmi2</th>\n",
       "      <th>sc2_secmi3</th>\n",
       "    </tr>\n",
       "  </thead>\n",
       "  <tbody>\n",
       "    <tr>\n",
       "      <th>0</th>\n",
       "      <td>0.509804</td>\n",
       "      <td>0.313725</td>\n",
       "      <td>0.509804</td>\n",
       "      <td>0.019608</td>\n",
       "      <td>0.019608</td>\n",
       "      <td>0.019608</td>\n",
       "    </tr>\n",
       "    <tr>\n",
       "      <th>1</th>\n",
       "      <td>0.294118</td>\n",
       "      <td>0.431373</td>\n",
       "      <td>0.294118</td>\n",
       "      <td>0.019608</td>\n",
       "      <td>0.019608</td>\n",
       "      <td>0.019608</td>\n",
       "    </tr>\n",
       "    <tr>\n",
       "      <th>2</th>\n",
       "      <td>0.313725</td>\n",
       "      <td>0.215686</td>\n",
       "      <td>0.313725</td>\n",
       "      <td>0.019608</td>\n",
       "      <td>0.019608</td>\n",
       "      <td>0.019608</td>\n",
       "    </tr>\n",
       "    <tr>\n",
       "      <th>3</th>\n",
       "      <td>1.000000</td>\n",
       "      <td>0.764706</td>\n",
       "      <td>1.000000</td>\n",
       "      <td>0.019608</td>\n",
       "      <td>0.019608</td>\n",
       "      <td>0.019608</td>\n",
       "    </tr>\n",
       "    <tr>\n",
       "      <th>4</th>\n",
       "      <td>0.607843</td>\n",
       "      <td>1.000000</td>\n",
       "      <td>0.607843</td>\n",
       "      <td>0.019608</td>\n",
       "      <td>0.019608</td>\n",
       "      <td>0.019608</td>\n",
       "    </tr>\n",
       "  </tbody>\n",
       "</table>\n",
       "</div>"
      ],
      "text/plain": [
       "    sc1_cmi  sc1_secmi2  sc1_secmi3   sc2_cmi  sc2_secmi2  sc2_secmi3\n",
       "0  0.509804    0.313725    0.509804  0.019608    0.019608    0.019608\n",
       "1  0.294118    0.431373    0.294118  0.019608    0.019608    0.019608\n",
       "2  0.313725    0.215686    0.313725  0.019608    0.019608    0.019608\n",
       "3  1.000000    0.764706    1.000000  0.019608    0.019608    0.019608\n",
       "4  0.607843    1.000000    0.607843  0.019608    0.019608    0.019608"
      ]
     },
     "execution_count": 88,
     "metadata": {},
     "output_type": "execute_result"
    }
   ],
   "source": [
    "p_values_df.head()"
   ]
  },
  {
   "cell_type": "code",
   "execution_count": 89,
   "metadata": {},
   "outputs": [
    {
     "data": {
      "text/html": [
       "<div>\n",
       "<style scoped>\n",
       "    .dataframe tbody tr th:only-of-type {\n",
       "        vertical-align: middle;\n",
       "    }\n",
       "\n",
       "    .dataframe tbody tr th {\n",
       "        vertical-align: top;\n",
       "    }\n",
       "\n",
       "    .dataframe thead th {\n",
       "        text-align: right;\n",
       "    }\n",
       "</style>\n",
       "<table border=\"1\" class=\"dataframe\">\n",
       "  <thead>\n",
       "    <tr style=\"text-align: right;\">\n",
       "      <th></th>\n",
       "      <th></th>\n",
       "      <th>number of rejections</th>\n",
       "    </tr>\n",
       "    <tr>\n",
       "      <th>scenario</th>\n",
       "      <th>statistic</th>\n",
       "      <th></th>\n",
       "    </tr>\n",
       "  </thead>\n",
       "  <tbody>\n",
       "    <tr>\n",
       "      <th rowspan=\"3\" valign=\"top\">sc1</th>\n",
       "      <th>cmi</th>\n",
       "      <td>4</td>\n",
       "    </tr>\n",
       "    <tr>\n",
       "      <th>secmi2</th>\n",
       "      <td>4</td>\n",
       "    </tr>\n",
       "    <tr>\n",
       "      <th>secmi3</th>\n",
       "      <td>4</td>\n",
       "    </tr>\n",
       "    <tr>\n",
       "      <th rowspan=\"3\" valign=\"top\">sc2</th>\n",
       "      <th>cmi</th>\n",
       "      <td>100</td>\n",
       "    </tr>\n",
       "    <tr>\n",
       "      <th>secmi2</th>\n",
       "      <td>100</td>\n",
       "    </tr>\n",
       "    <tr>\n",
       "      <th>secmi3</th>\n",
       "      <td>100</td>\n",
       "    </tr>\n",
       "  </tbody>\n",
       "</table>\n",
       "</div>"
      ],
      "text/plain": [
       "                    number of rejections\n",
       "scenario statistic                      \n",
       "sc1      cmi                           4\n",
       "         secmi2                        4\n",
       "         secmi3                        4\n",
       "sc2      cmi                         100\n",
       "         secmi2                      100\n",
       "         secmi3                      100"
      ]
     },
     "execution_count": 89,
     "metadata": {},
     "output_type": "execute_result"
    }
   ],
   "source": [
    "alpha = 0.05\n",
    "rejections = np.sum(p_values < alpha, axis = 0)\n",
    "rejections_df = pd.DataFrame(rejections.reshape(1, -1), columns = [f\"{scenario}_{stat}\" for scenario in scenarios for stat in stats])\n",
    "rejections_df = rejections_df.T\n",
    "rejections_df.columns = [\"number of rejections\"]\n",
    "rejections_df = rejections_df.reset_index()\n",
    "rejections_df[\"scenario\"] = rejections_df[\"index\"].apply(lambda x: x.split(\"_\")[0])\n",
    "rejections_df[\"statistic\"] = rejections_df[\"index\"].apply(lambda x: x.split(\"_\")[1])\n",
    "rejections_df = rejections_df.drop(\"index\", axis = 1)\n",
    "rejections_df.set_index([\"scenario\", \"statistic\"], inplace = True)\n",
    "rejections_df\n"
   ]
  },
  {
   "cell_type": "code",
   "execution_count": 90,
   "metadata": {},
   "outputs": [
    {
     "data": {
      "image/png": "[encoded data removed]",
      "text/plain": [
       "<Figure size 640x480 with 1 Axes>"
      ]
     },
     "metadata": {},
     "output_type": "display_data"
    }
   ],
   "source": [
    "sns.boxplot(data = p_values_df)\n",
    "plt.ylabel(\"p-value\")\n",
    "plt.show()\n"
   ]
  },
  {
   "cell_type": "markdown",
   "metadata": {},
   "source": [
    "### c)"
   ]
  },
  {
   "cell_type": "code",
   "execution_count": 96,
   "metadata": {},
   "outputs": [],
   "source": [
    "def sample_data2(n, seed = 42):\n",
    "    np.random.seed(seed)\n",
    "\n",
    "    X = np.random.binomial(1, 0.5, n)\n",
    "    Z1 = np.random.binomial(1, 0.5, n)\n",
    "    Z2 = np.random.binomial(1, 0.5, n)\n",
    "    Z3 = np.random.binomial(1, 0.5, n)\n",
    "\n",
    "    Y = np.zeros(n)\n",
    "    size1 = np.sum((X+Z1+Z2)% 2 == 1)\n",
    "    Y[(X+Z1+Z2)% 2 == 1] = np.random.choice([0, 1], size = (size1,), p = [0.2, 0.8])\n",
    "    Y[(X+Z1+Z2)% 2 == 0] = np.random.choice([0, 1], size = (n - size1, ), p = [0.8, 0.2])\n",
    "\n",
    "    return X, Y, Z1, Z2, Z3"
   ]
  },
  {
   "cell_type": "code",
   "execution_count": 97,
   "metadata": {},
   "outputs": [
    {
     "name": "stderr",
     "output_type": "stream",
     "text": [
      "100%|██████████| 100/100 [07:25<00:00,  4.45s/it]\n"
     ]
    }
   ],
   "source": [
    "N = 100\n",
    "scenarios = [\"sc1\", \"sc2\"]\n",
    "stats = [\"cmi\", \"secmi2\", \"secmi3\"]\n",
    "B = 50\n",
    "\n",
    "p_values = np.zeros((N, len(scenarios), len(stats)))\n",
    "\n",
    "for i in tqdm(range(N)):\n",
    "    for stat in stats:\n",
    "        for j, scenario in enumerate(scenarios):\n",
    "            X, Y, Z1, Z2, Z3 = sample_data2(1000, seed = i)\n",
    "            if scenario == \"sc1\":\n",
    "                Z = np.array([Z1, Z2]).T\n",
    "            if scenario == \"sc2\":\n",
    "                Z = np.array([Z2, Z3]).T\n",
    "            stat_value, p_value = cond_indep_test_permutation(X, Y, Z, B, stat)\n",
    "            p_values[i, j, stats.index(stat)] = p_value\n",
    "\n",
    "p_values_df = pd.DataFrame(p_values.reshape(N, -1), columns = [f\"{scenario}_{stat}\" for scenario in scenarios for stat in stats])"
   ]
  },
  {
   "cell_type": "code",
   "execution_count": 100,
   "metadata": {},
   "outputs": [
    {
     "data": {
      "text/html": [
       "<div>\n",
       "<style scoped>\n",
       "    .dataframe tbody tr th:only-of-type {\n",
       "        vertical-align: middle;\n",
       "    }\n",
       "\n",
       "    .dataframe tbody tr th {\n",
       "        vertical-align: top;\n",
       "    }\n",
       "\n",
       "    .dataframe thead th {\n",
       "        text-align: right;\n",
       "    }\n",
       "</style>\n",
       "<table border=\"1\" class=\"dataframe\">\n",
       "  <thead>\n",
       "    <tr style=\"text-align: right;\">\n",
       "      <th></th>\n",
       "      <th></th>\n",
       "      <th>number of rejections</th>\n",
       "    </tr>\n",
       "    <tr>\n",
       "      <th>scenario</th>\n",
       "      <th>statistic</th>\n",
       "      <th></th>\n",
       "    </tr>\n",
       "  </thead>\n",
       "  <tbody>\n",
       "    <tr>\n",
       "      <th rowspan=\"3\" valign=\"top\">sc1</th>\n",
       "      <th>cmi</th>\n",
       "      <td>100</td>\n",
       "    </tr>\n",
       "    <tr>\n",
       "      <th>secmi2</th>\n",
       "      <td>3</td>\n",
       "    </tr>\n",
       "    <tr>\n",
       "      <th>secmi3</th>\n",
       "      <td>100</td>\n",
       "    </tr>\n",
       "    <tr>\n",
       "      <th rowspan=\"3\" valign=\"top\">sc2</th>\n",
       "      <th>cmi</th>\n",
       "      <td>8</td>\n",
       "    </tr>\n",
       "    <tr>\n",
       "      <th>secmi2</th>\n",
       "      <td>3</td>\n",
       "    </tr>\n",
       "    <tr>\n",
       "      <th>secmi3</th>\n",
       "      <td>8</td>\n",
       "    </tr>\n",
       "  </tbody>\n",
       "</table>\n",
       "</div>"
      ],
      "text/plain": [
       "                    number of rejections\n",
       "scenario statistic                      \n",
       "sc1      cmi                         100\n",
       "         secmi2                        3\n",
       "         secmi3                      100\n",
       "sc2      cmi                           8\n",
       "         secmi2                        3\n",
       "         secmi3                        8"
      ]
     },
     "execution_count": 100,
     "metadata": {},
     "output_type": "execute_result"
    }
   ],
   "source": [
    "alpha = 0.05\n",
    "rejections = np.sum(p_values < alpha, axis = 0)\n",
    "rejections_df = pd.DataFrame(rejections.reshape(1, -1), columns = [f\"{scenario}_{stat}\" for scenario in scenarios for stat in stats])\n",
    "rejections_df = rejections_df.T\n",
    "rejections_df.columns = [\"number of rejections\"]\n",
    "rejections_df = rejections_df.reset_index()\n",
    "rejections_df[\"scenario\"] = rejections_df[\"index\"].apply(lambda x: x.split(\"_\")[0])\n",
    "rejections_df[\"statistic\"] = rejections_df[\"index\"].apply(lambda x: x.split(\"_\")[1])\n",
    "rejections_df = rejections_df.drop(\"index\", axis = 1)\n",
    "rejections_df.set_index([\"scenario\", \"statistic\"], inplace = True)\n",
    "rejections_df\n"
   ]
  },
  {
   "cell_type": "code",
   "execution_count": 101,
   "metadata": {},
   "outputs": [
    {
     "data": {
      "text/html": [
       "<div>\n",
       "<style scoped>\n",
       "    .dataframe tbody tr th:only-of-type {\n",
       "        vertical-align: middle;\n",
       "    }\n",
       "\n",
       "    .dataframe tbody tr th {\n",
       "        vertical-align: top;\n",
       "    }\n",
       "\n",
       "    .dataframe thead th {\n",
       "        text-align: right;\n",
       "    }\n",
       "</style>\n",
       "<table border=\"1\" class=\"dataframe\">\n",
       "  <thead>\n",
       "    <tr style=\"text-align: right;\">\n",
       "      <th></th>\n",
       "      <th>sc1_cmi</th>\n",
       "      <th>sc1_secmi2</th>\n",
       "      <th>sc1_secmi3</th>\n",
       "      <th>sc2_cmi</th>\n",
       "      <th>sc2_secmi2</th>\n",
       "      <th>sc2_secmi3</th>\n",
       "    </tr>\n",
       "  </thead>\n",
       "  <tbody>\n",
       "    <tr>\n",
       "      <th>0</th>\n",
       "      <td>0.019608</td>\n",
       "      <td>0.882353</td>\n",
       "      <td>0.019608</td>\n",
       "      <td>0.588235</td>\n",
       "      <td>0.470588</td>\n",
       "      <td>0.588235</td>\n",
       "    </tr>\n",
       "    <tr>\n",
       "      <th>1</th>\n",
       "      <td>0.019608</td>\n",
       "      <td>0.254902</td>\n",
       "      <td>0.019608</td>\n",
       "      <td>0.196078</td>\n",
       "      <td>0.098039</td>\n",
       "      <td>0.196078</td>\n",
       "    </tr>\n",
       "    <tr>\n",
       "      <th>2</th>\n",
       "      <td>0.019608</td>\n",
       "      <td>0.137255</td>\n",
       "      <td>0.019608</td>\n",
       "      <td>0.686275</td>\n",
       "      <td>0.490196</td>\n",
       "      <td>0.686275</td>\n",
       "    </tr>\n",
       "    <tr>\n",
       "      <th>3</th>\n",
       "      <td>0.019608</td>\n",
       "      <td>0.470588</td>\n",
       "      <td>0.019608</td>\n",
       "      <td>0.470588</td>\n",
       "      <td>0.509804</td>\n",
       "      <td>0.470588</td>\n",
       "    </tr>\n",
       "    <tr>\n",
       "      <th>4</th>\n",
       "      <td>0.019608</td>\n",
       "      <td>0.941176</td>\n",
       "      <td>0.019608</td>\n",
       "      <td>0.039216</td>\n",
       "      <td>0.431373</td>\n",
       "      <td>0.039216</td>\n",
       "    </tr>\n",
       "  </tbody>\n",
       "</table>\n",
       "</div>"
      ],
      "text/plain": [
       "    sc1_cmi  sc1_secmi2  sc1_secmi3   sc2_cmi  sc2_secmi2  sc2_secmi3\n",
       "0  0.019608    0.882353    0.019608  0.588235    0.470588    0.588235\n",
       "1  0.019608    0.254902    0.019608  0.196078    0.098039    0.196078\n",
       "2  0.019608    0.137255    0.019608  0.686275    0.490196    0.686275\n",
       "3  0.019608    0.470588    0.019608  0.470588    0.509804    0.470588\n",
       "4  0.019608    0.941176    0.019608  0.039216    0.431373    0.039216"
      ]
     },
     "execution_count": 101,
     "metadata": {},
     "output_type": "execute_result"
    }
   ],
   "source": [
    "p_values_df.head()"
   ]
  },
  {
   "cell_type": "code",
   "execution_count": 102,
   "metadata": {},
   "outputs": [
    {
     "data": {
      "image/png": "[encoded data removed]",
      "text/plain": [
       "<Figure size 640x480 with 1 Axes>"
      ]
     },
     "metadata": {},
     "output_type": "display_data"
    }
   ],
   "source": [
    "sns.boxplot(data = p_values_df)\n",
    "plt.ylabel(\"p-value\")\n",
    "plt.show()"
   ]
  },
  {
   "cell_type": "markdown",
   "metadata": {},
   "source": [
    "## Task 2\n",
    " \n",
    "in R"
   ]
  }
 ],
 "metadata": {
  "kernelspec": {
   "display_name": "dydaktyka",
   "language": "python",
   "name": "python3"
  },
  "language_info": {
   "codemirror_mode": {
    "name": "ipython",
    "version": 3
   },
   "file_extension": ".py",
   "mimetype": "text/x-python",
   "name": "python",
   "nbconvert_exporter": "python",
   "pygments_lexer": "ipython3",
   "version": "3.11.8"
  }
 },
 "nbformat": 4,
 "nbformat_minor": 2
}
