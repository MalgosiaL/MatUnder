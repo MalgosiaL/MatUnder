{
 "cells": [
  {
   "cell_type": "markdown",
   "metadata": {},
   "source": [
    "# Mathematical Underpinnings - Lab 2"
   ]
  },
  {
   "cell_type": "markdown",
   "metadata": {},
   "source": [
    "## Task 1"
   ]
  },
  {
   "cell_type": "code",
   "execution_count": 2,
   "metadata": {},
   "outputs": [],
   "source": [
    "import numpy as np"
   ]
  },
  {
   "cell_type": "markdown",
   "metadata": {},
   "source": [
    "### a)\n",
    "\n",
    "$R(a,a^*) = \\mathbb{E} \\mathcal{L}(f(X), Y) = \\mathbb{E}(aX - Y)^2 = ...$,\n",
    "\n",
    "In our task we know $a^* = 1$."
   ]
  },
  {
   "cell_type": "code",
   "execution_count": 3,
   "metadata": {},
   "outputs": [],
   "source": [
    "def population_risk(a, sigma_eps):\n",
    "    return a**2 + sigma_eps**2 + 1 - 2*a"
   ]
  },
  {
   "cell_type": "markdown",
   "metadata": {},
   "source": [
    "### b)"
   ]
  },
  {
   "cell_type": "code",
   "execution_count": 4,
   "metadata": {},
   "outputs": [],
   "source": [
    "# sampling\n",
    "n = 50\n",
    "sigma_squared = 1\n",
    "X = np.random.randn(n)"
   ]
  },
  {
   "cell_type": "code",
   "execution_count": 5,
   "metadata": {},
   "outputs": [],
   "source": [
    "eps = np.sqrt(sigma_squared)*np.random.randn(n)\n",
    "Y = X + eps"
   ]
  },
  {
   "cell_type": "code",
   "execution_count": 6,
   "metadata": {},
   "outputs": [],
   "source": [
    "np.random.seed(123)"
   ]
  },
  {
   "cell_type": "markdown",
   "metadata": {},
   "source": [
    "Empirical risk: $\\frac{1}{n} \\sum_{i=1}^n (ax_i - y_i)^2$"
   ]
  },
  {
   "cell_type": "code",
   "execution_count": 7,
   "metadata": {},
   "outputs": [],
   "source": [
    "def empirical_risk(a, x, y):\n",
    "#     n = len(X)\n",
    "#     return 1/n * sum((a*x-y)**2)\n",
    "    return np.sum((a*x-y)**2)/y.shape[0]"
   ]
  },
  {
   "cell_type": "markdown",
   "metadata": {},
   "source": [
    "### c)"
   ]
  },
  {
   "cell_type": "code",
   "execution_count": 8,
   "metadata": {},
   "outputs": [],
   "source": [
    "# code, plot\n",
    "import matplotlib.pyplot as plt"
   ]
  },
  {
   "cell_type": "code",
   "execution_count": 9,
   "metadata": {},
   "outputs": [],
   "source": [
    "a_grid = np.arange(1/2,1.5, 0.01)\n",
    "R_population = [population_risk(a, sigma_squared) for a in a_grid]\n",
    "R_empirical = [empirical_risk(a, X, Y) for a in a_grid]"
   ]
  },
  {
   "cell_type": "code",
   "execution_count": 10,
   "metadata": {},
   "outputs": [],
   "source": [
    "R_pop_min = min(R_population)\n",
    "R_emp_min = min(R_empirical)\n",
    "R_pop_a_min = a_grid[np.where(R_population == R_pop_min)][0]\n",
    "R_emp_a_min = a_grid[np.where(R_empirical == R_emp_min)][0]\n",
    "R_pop_empamin = population_risk(R_emp_a_min, sigma_squared)"
   ]
  },
  {
   "cell_type": "code",
   "execution_count": 11,
   "metadata": {},
   "outputs": [
    {
     "data": {
      "text/plain": [
       "<matplotlib.legend.Legend at 0x254c5c719d0>"
      ]
     },
     "execution_count": 11,
     "metadata": {},
     "output_type": "execute_result"
    },
    {
     "data": {
      "image/png": "[encoded data removed]",
      "text/plain": [
       "<Figure size 432x288 with 1 Axes>"
      ]
     },
     "metadata": {
      "needs_background": "light"
     },
     "output_type": "display_data"
    }
   ],
   "source": [
    "#plt.scatter(a_grid, R_empirical)\n",
    "plt.plot(a_grid, R_empirical, label='R_empirical')\n",
    "plt.plot(a_grid, R_population, label='R_population')\n",
    "plt.scatter(R_pop_a_min, R_pop_min, c=\"green\")\n",
    "plt.scatter(R_emp_a_min, R_emp_min, c=\"green\")\n",
    "plt.scatter(R_emp_a_min, R_pop_empamin, c=\"red\")\n",
    "plt.legend()"
   ]
  },
  {
   "cell_type": "markdown",
   "metadata": {},
   "source": [
    "### d)"
   ]
  },
  {
   "cell_type": "markdown",
   "metadata": {},
   "source": [
    "Excess risk: $$E(\\hat a, a^*) =R(\\hat a, a^*) - \\textrm{inf}_{a \\in A_0} R(a, a^*)$$"
   ]
  },
  {
   "cell_type": "code",
   "execution_count": 12,
   "metadata": {},
   "outputs": [],
   "source": [
    "# excess risk\n",
    "L = 200\n",
    "R_excess = 0\n",
    "n = 500\n",
    "\n",
    "for l in range(L):\n",
    "    \n",
    "    X = np.random.randn(n)\n",
    "    eps = np.sqrt(sigma_squared)*np.random.randn(n)\n",
    "    Y = X + eps\n",
    "\n",
    "    a_grid = np.arange(1/2,1.5, 0.01)\n",
    "    R_population = [population_risk(a, sigma_squared) for a in a_grid]\n",
    "    R_empirical = [empirical_risk(a, X, Y) for a in a_grid]\n",
    "\n",
    "    R_pop_min = min(R_population)\n",
    "    R_emp_min = min(R_empirical)\n",
    "    R_pop_a_min = a_grid[np.where(R_population == R_pop_min)][0]\n",
    "    R_emp_a_min = a_grid[np.where(R_empirical == R_emp_min)][0]\n",
    "    R_pop_empamin = population_risk(R_emp_a_min, sigma_squared)\n",
    "    R_excess += R_pop_empamin - R_pop_min\n",
    "R_excess = R_excess/L"
   ]
  },
  {
   "cell_type": "code",
   "execution_count": 13,
   "metadata": {},
   "outputs": [
    {
     "data": {
      "text/plain": [
       "0.0017660000000000186"
      ]
     },
     "execution_count": 13,
     "metadata": {},
     "output_type": "execute_result"
    }
   ],
   "source": [
    "R_excess"
   ]
  },
  {
   "cell_type": "code",
   "execution_count": 39,
   "metadata": {},
   "outputs": [],
   "source": [
    "# simulations with fixed sample size"
   ]
  },
  {
   "cell_type": "code",
   "execution_count": 276,
   "metadata": {},
   "outputs": [],
   "source": [
    "# simulations for various sample sizes"
   ]
  },
  {
   "cell_type": "code",
   "execution_count": 40,
   "metadata": {},
   "outputs": [],
   "source": [
    "# a nice plot visualising the results (how the unconditional excess risk changes with a sample size)"
   ]
  }
 ],
 "metadata": {
  "kernelspec": {
   "display_name": "Python 3 (ipykernel)",
   "language": "python",
   "name": "python3"
  },
  "language_info": {
   "codemirror_mode": {
    "name": "ipython",
    "version": 3
   },
   "file_extension": ".py",
   "mimetype": "text/x-python",
   "name": "python",
   "nbconvert_exporter": "python",
   "pygments_lexer": "ipython3",
   "version": "3.9.12"
  }
 },
 "nbformat": 4,
 "nbformat_minor": 2
}
