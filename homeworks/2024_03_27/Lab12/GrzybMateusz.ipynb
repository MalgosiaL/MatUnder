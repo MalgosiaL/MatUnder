{
 "cells": [
  {
   "cell_type": "code",
   "execution_count": 1,
   "metadata": {},
   "outputs": [],
   "source": [
    "from sklearn.metrics import mutual_info_score\n",
    "#from sklearn.feature_selection import chi2\n",
    "from scipy.stats import chi2_contingency\n",
    "from scipy.stats import chi2\n",
    "import numpy as np\n",
    "import matplotlib.pyplot as plt\n",
    "from scipy.stats import gaussian_kde, pearsonr\n",
    "import seaborn as sns\n",
    "import pandas as pd"
   ]
  },
  {
   "cell_type": "code",
   "execution_count": 2,
   "metadata": {},
   "outputs": [],
   "source": [
    "np.random.seed(997)"
   ]
  },
  {
   "cell_type": "markdown",
   "metadata": {},
   "source": [
    "# Mathematical Underpinnings - Lab 5"
   ]
  },
  {
   "cell_type": "markdown",
   "metadata": {},
   "source": [
    "Tests to verify hipoteses of independence (from Lab 4):"
   ]
  },
  {
   "cell_type": "code",
   "execution_count": 3,
   "metadata": {},
   "outputs": [],
   "source": [
    "def indep_test_asymptotic(X, Y, stat=\"mi\"):\n",
    "\n",
    "    if stat == \"mi\":\n",
    "\n",
    "        stat_value = 2*len(X)*mutual_info_score(X, Y)\n",
    "\n",
    "    if stat == \"chi2\":\n",
    "\n",
    "        test_res = (chi2_contingency(pd.crosstab(X, Y)))\n",
    "        stat_value = test_res.statistic\n",
    "\n",
    "    df = (len(np.unique(X)) - 1)*(len(np.unique(Y)) - 1)\n",
    "\n",
    "    p_value = 1 - chi2.cdf(stat_value, df=df)\n",
    "\n",
    "    return stat_value, p_value\n",
    "\n",
    "def indep_test_permutation(X, Y, B=1000, stat=\"mi\"):\n",
    "\n",
    "    stat_value = mutual_info_score(X, Y)\n",
    "\n",
    "    condition_p_value = 0\n",
    "    for b in range(B):\n",
    "        X_b = np.random.permutation(X)\n",
    "\n",
    "        stat_value_b = mutual_info_score(X_b, Y)\n",
    "\n",
    "        if stat_value <= stat_value_b:\n",
    "            condition_p_value += 1\n",
    "\n",
    "    p_value = (1 + condition_p_value)/(1 + B)\n",
    "\n",
    "    return 2*len(X)*stat_value, p_value"
   ]
  },
  {
   "cell_type": "markdown",
   "metadata": {},
   "source": [
    "## Task 1"
   ]
  },
  {
   "cell_type": "code",
   "execution_count": 4,
   "metadata": {},
   "outputs": [],
   "source": [
    "# a function which computes CMI"
   ]
  },
  {
   "cell_type": "code",
   "execution_count": 5,
   "metadata": {},
   "outputs": [],
   "source": [
    "def conditional_mutual_info_score(x, y, z):\n",
    "    cmi = 0\n",
    "    for val in np.unique(z):\n",
    "        cmi += mutual_info_score(x[z == val], y[z == val]) * np.sum(z == val) / len(z)\n",
    "    return cmi"
   ]
  },
  {
   "cell_type": "markdown",
   "metadata": {},
   "source": [
    "### a)"
   ]
  },
  {
   "cell_type": "code",
   "execution_count": 6,
   "metadata": {},
   "outputs": [],
   "source": [
    "# CI test based on CMI and asymptotics"
   ]
  },
  {
   "cell_type": "code",
   "execution_count": 7,
   "metadata": {},
   "outputs": [],
   "source": [
    "def asymptotic_conditional_independence_test(x, y, z):\n",
    "    statistic_value = 2 * len(z) * conditional_mutual_info_score(x, y, z)\n",
    "    df = (len(np.unique(x)) - 1) * (len(np.unique(y)) - 1) * len(np.unique(z))\n",
    "    p_value = chi2.sf(statistic_value, df)\n",
    "    return statistic_value, p_value"
   ]
  },
  {
   "cell_type": "markdown",
   "metadata": {},
   "source": [
    "### b)"
   ]
  },
  {
   "cell_type": "code",
   "execution_count": 8,
   "metadata": {},
   "outputs": [],
   "source": [
    "# CI test based on CMI and permutations"
   ]
  },
  {
   "cell_type": "code",
   "execution_count": 9,
   "metadata": {},
   "outputs": [],
   "source": [
    "def conditional_permuation(x, y):\n",
    "    x = x.copy()\n",
    "    for val in np.unique(y):\n",
    "        x[y == val] = np.random.permutation(x[y == val])\n",
    "    return x\n",
    "\n",
    "\n",
    "def permutation_conditional_independence_test(x, y, z, B=1000):\n",
    "    statistic_value = conditional_mutual_info_score(x, y, z)\n",
    "    p_value = 1\n",
    "    for _ in range(B):\n",
    "        p_value += int(\n",
    "            conditional_mutual_info_score(conditional_permuation(x, z), y, z)\n",
    "            >= statistic_value\n",
    "        )\n",
    "    p_value /= 1 + B\n",
    "    return statistic_value, p_value"
   ]
  },
  {
   "cell_type": "markdown",
   "metadata": {},
   "source": [
    "### c)"
   ]
  },
  {
   "cell_type": "code",
   "execution_count": 10,
   "metadata": {},
   "outputs": [],
   "source": [
    "def binarize(x):\n",
    "    return np.where(x >= 0, 1, -1)"
   ]
  },
  {
   "cell_type": "markdown",
   "metadata": {},
   "source": [
    "conditionaly independent"
   ]
  },
  {
   "cell_type": "code",
   "execution_count": 11,
   "metadata": {},
   "outputs": [],
   "source": [
    "n_samples = 1000\n",
    "z = binarize(np.random.standard_normal(n_samples))\n",
    "x = binarize(np.random.standard_normal(n_samples) + z / 2)\n",
    "y = binarize(np.random.standard_normal(n_samples) + z / 2)"
   ]
  },
  {
   "cell_type": "code",
   "execution_count": 12,
   "metadata": {},
   "outputs": [
    {
     "name": "stdout",
     "output_type": "stream",
     "text": [
      "Statistic value: 0.1618, P value: 0.9223\n"
     ]
    }
   ],
   "source": [
    "statistic_value, p_value = asymptotic_conditional_independence_test(x, y, z)\n",
    "print(f\"Statistic value: {statistic_value:.4f}, P value: {p_value:.4f}\")"
   ]
  },
  {
   "cell_type": "code",
   "execution_count": 13,
   "metadata": {},
   "outputs": [
    {
     "name": "stdout",
     "output_type": "stream",
     "text": [
      "Statistic value: 0.0001, P value: 0.9311\n"
     ]
    }
   ],
   "source": [
    "statistic_value, p_value = permutation_conditional_independence_test(x, y, z)\n",
    "print(f\"Statistic value: {statistic_value:.4f}, P value: {p_value:.4f}\")"
   ]
  },
  {
   "cell_type": "markdown",
   "metadata": {},
   "source": [
    "conditionaly dependent"
   ]
  },
  {
   "cell_type": "code",
   "execution_count": 14,
   "metadata": {},
   "outputs": [],
   "source": [
    "n_samples = 1000\n",
    "x = binarize(np.random.standard_normal(n_samples))\n",
    "y = binarize(np.random.standard_normal(n_samples))\n",
    "z = binarize(np.random.standard_normal(n_samples) + (x + y) / 2)"
   ]
  },
  {
   "cell_type": "code",
   "execution_count": 15,
   "metadata": {},
   "outputs": [
    {
     "name": "stdout",
     "output_type": "stream",
     "text": [
      "Statistic value: 13.1731, P value: 0.0014\n"
     ]
    }
   ],
   "source": [
    "statistic_value, p_value = asymptotic_conditional_independence_test(x, y, z)\n",
    "print(f\"Statistic value: {statistic_value:.4f}, P value: {p_value:.4f}\")"
   ]
  },
  {
   "cell_type": "code",
   "execution_count": 16,
   "metadata": {},
   "outputs": [
    {
     "name": "stdout",
     "output_type": "stream",
     "text": [
      "Statistic value: 0.0066, P value: 0.0030\n"
     ]
    }
   ],
   "source": [
    "statistic_value, p_value = permutation_conditional_independence_test(x, y, z)\n",
    "print(f\"Statistic value: {statistic_value:.4f}, P value: {p_value:.4f}\")"
   ]
  },
  {
   "cell_type": "markdown",
   "metadata": {},
   "source": [
    "The results of all tests are as expected."
   ]
  },
  {
   "cell_type": "markdown",
   "metadata": {},
   "source": [
    "## Task 2"
   ]
  },
  {
   "cell_type": "code",
   "execution_count": 17,
   "metadata": {},
   "outputs": [],
   "source": [
    "def sample_from_model_1(n_samples=1000):\n",
    "    z = binarize(np.random.standard_normal(n_samples))\n",
    "    x = binarize(np.random.standard_normal(n_samples) + z / 2)\n",
    "    y = binarize(np.random.standard_normal(n_samples) + z / 2)\n",
    "    return x, y, z\n",
    "\n",
    "\n",
    "def sample_from_model_2(n_samples=1000):\n",
    "    x = binarize(np.random.standard_normal(n_samples))\n",
    "    z = binarize(np.random.standard_normal(n_samples) + x / 2)\n",
    "    y = binarize(np.random.standard_normal(n_samples) + z / 2)\n",
    "    return x, y, z\n",
    "\n",
    "\n",
    "def sample_from_model_3(n_samples=1000):\n",
    "    x = binarize(np.random.standard_normal(n_samples))\n",
    "    y = binarize(np.random.standard_normal(n_samples))\n",
    "    z = binarize(np.random.standard_normal(n_samples) + (x + y) / 2)\n",
    "    return x, y, z"
   ]
  },
  {
   "cell_type": "markdown",
   "metadata": {},
   "source": [
    "### a)"
   ]
  },
  {
   "cell_type": "markdown",
   "metadata": {},
   "source": [
    "answer:\n",
    "\n",
    "- model 1 - unconditionally dependent, conditionally independent\n",
    "- model 2 - unconditionally dependent, conditionally independent\n",
    "- model 3 - unconditionally independent, conditionally dependent"
   ]
  },
  {
   "cell_type": "markdown",
   "metadata": {},
   "source": [
    "### b)"
   ]
  },
  {
   "cell_type": "markdown",
   "metadata": {},
   "source": [
    "model 1"
   ]
  },
  {
   "cell_type": "code",
   "execution_count": 18,
   "metadata": {},
   "outputs": [
    {
     "name": "stdout",
     "output_type": "stream",
     "text": [
      "MI: 0.0063, CMI: 0.0004\n"
     ]
    }
   ],
   "source": [
    "x1, y1, z1 = sample_from_model_1()\n",
    "mi = mutual_info_score(x1, y1)\n",
    "cmi = conditional_mutual_info_score(x1, y1, z1)\n",
    "print(f\"MI: {mi:.4f}, CMI: {cmi:.4f}\")"
   ]
  },
  {
   "cell_type": "markdown",
   "metadata": {},
   "source": [
    "model 2"
   ]
  },
  {
   "cell_type": "code",
   "execution_count": 19,
   "metadata": {},
   "outputs": [
    {
     "name": "stdout",
     "output_type": "stream",
     "text": [
      "MI: 0.0142, CMI: 0.0010\n"
     ]
    }
   ],
   "source": [
    "x2, y2, z2 = sample_from_model_2()\n",
    "mi = mutual_info_score(x2, y2)\n",
    "cmi = conditional_mutual_info_score(x2, y2, z2)\n",
    "print(f\"MI: {mi:.4f}, CMI: {cmi:.4f}\")"
   ]
  },
  {
   "cell_type": "markdown",
   "metadata": {},
   "source": [
    "model 3"
   ]
  },
  {
   "cell_type": "code",
   "execution_count": 20,
   "metadata": {},
   "outputs": [
    {
     "name": "stdout",
     "output_type": "stream",
     "text": [
      "MI: 0.0000, CMI: 0.0087\n"
     ]
    }
   ],
   "source": [
    "x3, y3, z3 = sample_from_model_3()\n",
    "mi = mutual_info_score(x3, y3)\n",
    "cmi = conditional_mutual_info_score(x3, y3, z3)\n",
    "print(f\"MI: {mi:.4f}, CMI: {cmi:.4f}\")"
   ]
  },
  {
   "cell_type": "markdown",
   "metadata": {},
   "source": [
    "The results are in line with the above answer."
   ]
  },
  {
   "cell_type": "markdown",
   "metadata": {},
   "source": [
    "### c)"
   ]
  },
  {
   "cell_type": "markdown",
   "metadata": {},
   "source": [
    "model 1"
   ]
  },
  {
   "cell_type": "code",
   "execution_count": 21,
   "metadata": {},
   "outputs": [
    {
     "name": "stdout",
     "output_type": "stream",
     "text": [
      "Statistic value: 12.6514, P value: 0.0004\n"
     ]
    }
   ],
   "source": [
    "statistic_value, p_value = indep_test_asymptotic(x1, y1)\n",
    "print(f\"Statistic value: {statistic_value:.4f}, P value: {p_value:.4f}\")"
   ]
  },
  {
   "cell_type": "code",
   "execution_count": 22,
   "metadata": {},
   "outputs": [
    {
     "name": "stdout",
     "output_type": "stream",
     "text": [
      "Statistic value: 12.6514, P value: 0.0010\n"
     ]
    }
   ],
   "source": [
    "statistic_value, p_value = indep_test_permutation(x1, y1)\n",
    "print(f\"Statistic value: {statistic_value:.4f}, P value: {p_value:.4f}\")"
   ]
  },
  {
   "cell_type": "code",
   "execution_count": 23,
   "metadata": {},
   "outputs": [
    {
     "name": "stdout",
     "output_type": "stream",
     "text": [
      "Statistic value: 0.7532, P value: 0.6862\n"
     ]
    }
   ],
   "source": [
    "statistic_value, p_value = asymptotic_conditional_independence_test(x1, y1, z1)\n",
    "print(f\"Statistic value: {statistic_value:.4f}, P value: {p_value:.4f}\")"
   ]
  },
  {
   "cell_type": "code",
   "execution_count": 24,
   "metadata": {},
   "outputs": [
    {
     "name": "stdout",
     "output_type": "stream",
     "text": [
      "Statistic value: 0.0004, P value: 0.6983\n"
     ]
    }
   ],
   "source": [
    "statistic_value, p_value = permutation_conditional_independence_test(x1, y1, z1)\n",
    "print(f\"Statistic value: {statistic_value:.4f}, P value: {p_value:.4f}\")"
   ]
  },
  {
   "cell_type": "markdown",
   "metadata": {},
   "source": [
    "model 2"
   ]
  },
  {
   "cell_type": "code",
   "execution_count": 25,
   "metadata": {},
   "outputs": [
    {
     "name": "stdout",
     "output_type": "stream",
     "text": [
      "Statistic value: 28.4686, P value: 0.0000\n"
     ]
    }
   ],
   "source": [
    "statistic_value, p_value = indep_test_asymptotic(x2, y2)\n",
    "print(f\"Statistic value: {statistic_value:.4f}, P value: {p_value:.4f}\")"
   ]
  },
  {
   "cell_type": "code",
   "execution_count": 26,
   "metadata": {},
   "outputs": [
    {
     "name": "stdout",
     "output_type": "stream",
     "text": [
      "Statistic value: 28.4686, P value: 0.0010\n"
     ]
    }
   ],
   "source": [
    "statistic_value, p_value = indep_test_permutation(x2, y2)\n",
    "print(f\"Statistic value: {statistic_value:.4f}, P value: {p_value:.4f}\")"
   ]
  },
  {
   "cell_type": "code",
   "execution_count": 27,
   "metadata": {},
   "outputs": [
    {
     "name": "stdout",
     "output_type": "stream",
     "text": [
      "Statistic value: 1.9691, P value: 0.3736\n"
     ]
    }
   ],
   "source": [
    "statistic_value, p_value = asymptotic_conditional_independence_test(x2, y2, z2)\n",
    "print(f\"Statistic value: {statistic_value:.4f}, P value: {p_value:.4f}\")"
   ]
  },
  {
   "cell_type": "code",
   "execution_count": 28,
   "metadata": {},
   "outputs": [
    {
     "name": "stdout",
     "output_type": "stream",
     "text": [
      "Statistic value: 0.0010, P value: 0.4006\n"
     ]
    }
   ],
   "source": [
    "statistic_value, p_value = permutation_conditional_independence_test(x2, y2, z2)\n",
    "print(f\"Statistic value: {statistic_value:.4f}, P value: {p_value:.4f}\")"
   ]
  },
  {
   "cell_type": "markdown",
   "metadata": {},
   "source": [
    "model 3"
   ]
  },
  {
   "cell_type": "code",
   "execution_count": 29,
   "metadata": {},
   "outputs": [
    {
     "name": "stdout",
     "output_type": "stream",
     "text": [
      "Statistic value: 0.0153, P value: 0.9017\n"
     ]
    }
   ],
   "source": [
    "statistic_value, p_value = indep_test_asymptotic(x3, y3)\n",
    "print(f\"Statistic value: {statistic_value:.4f}, P value: {p_value:.4f}\")"
   ]
  },
  {
   "cell_type": "code",
   "execution_count": 30,
   "metadata": {},
   "outputs": [
    {
     "name": "stdout",
     "output_type": "stream",
     "text": [
      "Statistic value: 0.0153, P value: 0.9341\n"
     ]
    }
   ],
   "source": [
    "statistic_value, p_value = indep_test_permutation(x3, y3)\n",
    "print(f\"Statistic value: {statistic_value:.4f}, P value: {p_value:.4f}\")"
   ]
  },
  {
   "cell_type": "code",
   "execution_count": 31,
   "metadata": {},
   "outputs": [
    {
     "name": "stdout",
     "output_type": "stream",
     "text": [
      "Statistic value: 17.3554, P value: 0.0002\n"
     ]
    }
   ],
   "source": [
    "statistic_value, p_value = asymptotic_conditional_independence_test(x3, y3, z3)\n",
    "print(f\"Statistic value: {statistic_value:.4f}, P value: {p_value:.4f}\")"
   ]
  },
  {
   "cell_type": "code",
   "execution_count": 32,
   "metadata": {},
   "outputs": [
    {
     "name": "stdout",
     "output_type": "stream",
     "text": [
      "Statistic value: 0.0087, P value: 0.0020\n"
     ]
    }
   ],
   "source": [
    "statistic_value, p_value = permutation_conditional_independence_test(x3, y3, z3)\n",
    "print(f\"Statistic value: {statistic_value:.4f}, P value: {p_value:.4f}\")"
   ]
  },
  {
   "cell_type": "markdown",
   "metadata": {},
   "source": [
    "The results of all tests are as expected."
   ]
  }
 ],
 "metadata": {
  "kernelspec": {
   "display_name": "dydaktyka",
   "language": "python",
   "name": "python3"
  },
  "language_info": {
   "codemirror_mode": {
    "name": "ipython",
    "version": 3
   },
   "file_extension": ".py",
   "mimetype": "text/x-python",
   "name": "python",
   "nbconvert_exporter": "python",
   "pygments_lexer": "ipython3",
   "version": "3.12.2"
  }
 },
 "nbformat": 4,
 "nbformat_minor": 2
}
