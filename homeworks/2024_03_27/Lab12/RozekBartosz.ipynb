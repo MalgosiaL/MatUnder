{
 "cells": [
  {
   "cell_type": "code",
   "execution_count": 2,
   "metadata": {},
   "outputs": [],
   "source": [
    "from sklearn.metrics import mutual_info_score\n",
    "#from sklearn.feature_selection import chi2\n",
    "from scipy.stats import chi2_contingency\n",
    "from scipy.stats import chi2\n",
    "import numpy as np\n",
    "import matplotlib.pyplot as plt\n",
    "from scipy.stats import gaussian_kde, pearsonr\n",
    "import seaborn as sns\n",
    "import pandas as pd"
   ]
  },
  {
   "cell_type": "markdown",
   "metadata": {},
   "source": [
    "# Mathematical Underpinnings - Lab 4"
   ]
  },
  {
   "cell_type": "markdown",
   "metadata": {},
   "source": [
    "Tests to verify hipoteses of independence (from Lab 4):"
   ]
  },
  {
   "cell_type": "code",
   "execution_count": 3,
   "metadata": {},
   "outputs": [],
   "source": [
    "def indep_test_asymptotic(X, Y, stat):\n",
    "\n",
    "    if stat == \"mi\":\n",
    "\n",
    "        stat_value = 2*len(X)*mutual_info_score(X, Y)\n",
    "\n",
    "    if stat == \"chi2\":\n",
    "\n",
    "        test_res = (chi2_contingency(pd.crosstab(X, Y)))\n",
    "        stat_value = test_res.statistic\n",
    "\n",
    "    df = (len(np.unique(X)) - 1)*(len(np.unique(Y)) - 1)\n",
    "\n",
    "    p_value = 1 - chi2.cdf(stat_value, df=df)\n",
    "\n",
    "    return stat_value, p_value\n",
    "\n",
    "def indep_test_permutation(X, Y, B, stat=\"mi\"):\n",
    "\n",
    "    stat_value = mutual_info_score(X, Y)\n",
    "\n",
    "    condition_p_value = 0\n",
    "    for b in range(B):\n",
    "        X_b = np.random.permutation(X)\n",
    "\n",
    "        stat_value_b = mutual_info_score(X_b, Y)\n",
    "\n",
    "        if stat_value <= stat_value_b:\n",
    "            condition_p_value += 1\n",
    "\n",
    "    p_value = (1 + condition_p_value)/(1 + B)\n",
    "\n",
    "    return 2*len(X)*stat_value, p_value"
   ]
  },
  {
   "cell_type": "code",
   "execution_count": 4,
   "metadata": {},
   "outputs": [],
   "source": [
    "def gen_data(n=1000, rho = 0.5):\n",
    "    data_2d = np.random.multivariate_normal(np.zeros(2), np.array([[1, rho], [rho, 1]]), n)\n",
    "\n",
    "    x_bins = np.linspace(data_2d[:,0].min(), data_2d[:,0].max(), 10)\n",
    "    y_bins = np.linspace(data_2d[:,1].min(), data_2d[:,1].max(), 10)\n",
    "\n",
    "    x_discrete = np.digitize(data_2d[:,0], bins=x_bins)\n",
    "    y_discrete = np.digitize(data_2d[:,1], bins=y_bins)\n",
    "    return x_discrete, y_discrete"
   ]
  },
  {
   "cell_type": "code",
   "execution_count": 5,
   "metadata": {},
   "outputs": [
    {
     "data": {
      "text/plain": [
       "array([3, 2, 3, 4, 1, 3, 2, 4, 4, 3])"
      ]
     },
     "execution_count": 5,
     "metadata": {},
     "output_type": "execute_result"
    }
   ],
   "source": [
    "np.random.binomial(size=10, n=5, p=0.5)"
   ]
  },
  {
   "cell_type": "markdown",
   "metadata": {},
   "source": [
    "## Task 1"
   ]
  },
  {
   "cell_type": "code",
   "execution_count": 6,
   "metadata": {},
   "outputs": [],
   "source": [
    "# a function which computes CMI"
   ]
  },
  {
   "cell_type": "code",
   "execution_count": 7,
   "metadata": {},
   "outputs": [],
   "source": [
    "X, Y = gen_data(rho = 0.1)\n",
    "Z = np.random.binomial(size=len(X), n=4, p=0.5)"
   ]
  },
  {
   "cell_type": "code",
   "execution_count": 8,
   "metadata": {},
   "outputs": [],
   "source": [
    "def cmi(X, Y, Z):\n",
    "    cmi_value = 0\n",
    "    for uniq_Z in np.unique(Z):\n",
    "        p = np.sum(Z == uniq_Z)/len(Z)\n",
    "        cmi_value += p * mutual_info_score(X[Z == uniq_Z],Y[Z == uniq_Z])\n",
    "    return cmi_value"
   ]
  },
  {
   "cell_type": "code",
   "execution_count": 9,
   "metadata": {},
   "outputs": [
    {
     "data": {
      "text/plain": [
       "0.13038258884571582"
      ]
     },
     "execution_count": 9,
     "metadata": {},
     "output_type": "execute_result"
    }
   ],
   "source": [
    "cmi(X,Y,Z)"
   ]
  },
  {
   "cell_type": "markdown",
   "metadata": {},
   "source": [
    "### a)"
   ]
  },
  {
   "cell_type": "code",
   "execution_count": 10,
   "metadata": {},
   "outputs": [],
   "source": [
    "# CI test based on CMI and asymptotics"
   ]
  },
  {
   "cell_type": "code",
   "execution_count": 11,
   "metadata": {},
   "outputs": [],
   "source": [
    "def cond_indep_test_asymptotic(X, Y, Z):\n",
    "\n",
    "    stat_value = 2*len(X)*cmi(X, Y, Z)\n",
    "\n",
    "    df = (len(np.unique(X)) - 1)*(len(np.unique(Y)) - 1)*len(np.unique(Z))\n",
    "\n",
    "    p_value = chi2.sf(stat_value, df=df)\n",
    "\n",
    "    return stat_value, p_value"
   ]
  },
  {
   "cell_type": "code",
   "execution_count": 12,
   "metadata": {},
   "outputs": [
    {
     "data": {
      "text/plain": [
       "(246.83711055598982, 0.9999999999557527)"
      ]
     },
     "execution_count": 12,
     "metadata": {},
     "output_type": "execute_result"
    }
   ],
   "source": [
    "X, Y = gen_data(rho = 0.2)\n",
    "Z = np.random.binomial(size=len(X), n=4, p=0.5)\n",
    "cond_indep_test_asymptotic(X, Y, Z)"
   ]
  },
  {
   "cell_type": "markdown",
   "metadata": {},
   "source": [
    "### b)"
   ]
  },
  {
   "cell_type": "code",
   "execution_count": 13,
   "metadata": {},
   "outputs": [],
   "source": [
    "# CI test based on CMI and permutations"
   ]
  },
  {
   "cell_type": "code",
   "execution_count": 14,
   "metadata": {},
   "outputs": [],
   "source": [
    "def cond_indep_test_permutation(X, Y, Z, B = 500, stat=\"mi\"):\n",
    "\n",
    "    sorting_strat = np.argsort(Z)\n",
    "    Z_sorted = np.sort(Z)\n",
    "    X_sorted = X[sorting_strat]\n",
    "    Y_sorted = Y[sorting_strat]\n",
    "    stat_value = cmi(X, Y, Z)\n",
    "\n",
    "    condition_p_value = 0\n",
    "    for b in range(B):\n",
    "        X_b = np.concatenate([np.random.permutation(X_sorted[Z_sorted == z_val]) for z_val in np.unique(Z)])\n",
    "\n",
    "        stat_value_b = cmi(X_b, Y_sorted, Z_sorted)\n",
    "\n",
    "        if stat_value <= stat_value_b:\n",
    "            condition_p_value += 1\n",
    "\n",
    "    p_value = (1 + condition_p_value)/(1 + B)\n",
    "\n",
    "    return 2*len(X)*stat_value, p_value"
   ]
  },
  {
   "cell_type": "code",
   "execution_count": 15,
   "metadata": {},
   "outputs": [
    {
     "data": {
      "text/plain": [
       "(435.93432906878576, 0.001996007984031936)"
      ]
     },
     "execution_count": 15,
     "metadata": {},
     "output_type": "execute_result"
    }
   ],
   "source": [
    "X, Y = gen_data(rho = 0.5)\n",
    "Z = np.random.binomial(size=len(X), n=4, p=0.5)\n",
    "cond_indep_test_permutation(X, Y, Z)\n"
   ]
  },
  {
   "cell_type": "markdown",
   "metadata": {},
   "source": [
    "### c)"
   ]
  },
  {
   "cell_type": "markdown",
   "metadata": {},
   "source": [
    "conditionaly independent"
   ]
  },
  {
   "cell_type": "code",
   "execution_count": 16,
   "metadata": {},
   "outputs": [
    {
     "name": "stdout",
     "output_type": "stream",
     "text": [
      "Asymptotic - Statistic: 248.25148058457708, p-value: 0.9999999999300225\n",
      "Permutation - Statistic: 248.25148058457708, p-value: 0.6906187624750499\n"
     ]
    }
   ],
   "source": [
    "X, Y = gen_data(rho = 0)\n",
    "Z = np.random.binomial(size=len(X), n=4, p=0.5)\n",
    "s,pv = cond_indep_test_asymptotic(X, Y, Z)\n",
    "print(f\"Asymptotic - Statistic: {s}, p-value: {pv}\")\n",
    "s,pv = cond_indep_test_permutation(X, Y, Z)\n",
    "print(f\"Permutation - Statistic: {s}, p-value: {pv}\")"
   ]
  },
  {
   "cell_type": "markdown",
   "metadata": {},
   "source": [
    "conditionaly dependent"
   ]
  },
  {
   "cell_type": "code",
   "execution_count": 19,
   "metadata": {},
   "outputs": [
    {
     "name": "stdout",
     "output_type": "stream",
     "text": [
      "Asymptotic - Statistic: 499.10977527613585, p-value: 0.0009562191238579951\n",
      "Permutation - Statistic: 499.10977527613585, p-value: 0.001996007984031936\n"
     ]
    }
   ],
   "source": [
    "X, Y = gen_data(rho = 0.5)\n",
    "Z = np.random.binomial(size=len(X), n=4, p=0.5)\n",
    "s,pv = cond_indep_test_asymptotic(X, Y, Z)\n",
    "print(f\"Asymptotic - Statistic: {s}, p-value: {pv}\")\n",
    "s,pv = cond_indep_test_permutation(X, Y, Z)\n",
    "print(f\"Permutation - Statistic: {s}, p-value: {pv}\")"
   ]
  },
  {
   "cell_type": "markdown",
   "metadata": {},
   "source": [
    "## Task 2"
   ]
  },
  {
   "cell_type": "code",
   "execution_count": 20,
   "metadata": {},
   "outputs": [],
   "source": [
    "def binary_discrete(x):\n",
    "    return (x > 0)*2-1"
   ]
  },
  {
   "cell_type": "code",
   "execution_count": 21,
   "metadata": {},
   "outputs": [],
   "source": [
    "def sample_from_model1(n=1000):\n",
    "    Z = np.random.normal(0, 1, n)\n",
    "    Z = binary_discrete(Z)\n",
    "    X = binary_discrete(np.random.normal(Z/2, 1, n))\n",
    "    Y = binary_discrete(np.random.normal(Z/2, 1, n))\n",
    "    return X,Y,Z\n",
    "\n",
    "def sample_from_model2(n=1000):\n",
    "    X = np.random.normal(0, 1, n)\n",
    "    X = binary_discrete(X)\n",
    "    Z = binary_discrete(np.random.normal(X/2, 1, n))\n",
    "    Y = binary_discrete(np.random.normal(Z/2, 1, n))\n",
    "    return X,Y,Z\n",
    "\n",
    "def sample_from_model3(n=1000):\n",
    "    X = binary_discrete(np.random.normal(0, 1, n))\n",
    "    Y = binary_discrete(np.random.normal(0, 1, n))\n",
    "    Z = binary_discrete(np.random.normal((X+Y)/2, 1, n))\n",
    "    return X,Y,Z"
   ]
  },
  {
   "cell_type": "markdown",
   "metadata": {},
   "source": [
    "### a)"
   ]
  },
  {
   "cell_type": "markdown",
   "metadata": {},
   "source": [
    "Unconditionally dependent, conditionally independent - model 1\n",
    "\n",
    "UD, CI - model 2\n",
    "\n",
    "UI, CD - model 3"
   ]
  },
  {
   "cell_type": "markdown",
   "metadata": {},
   "source": [
    "### b) c)"
   ]
  },
  {
   "cell_type": "code",
   "execution_count": 22,
   "metadata": {},
   "outputs": [],
   "source": [
    "def test_dependence(pval, th=0.05):\n",
    "    return 'Dependent' if pval < th else 'Independent*'"
   ]
  },
  {
   "cell_type": "code",
   "execution_count": 57,
   "metadata": {
    "scrolled": true
   },
   "outputs": [
    {
     "name": "stdout",
     "output_type": "stream",
     "text": [
      "Model 1\n",
      "MI:0.007007438047019587\n",
      "CMI:0.00188159921097073\n",
      "Unconditionally: Dependent\n",
      "Conditionally: Independent*\n",
      "Model 2\n",
      "MI:0.011892716942830839\n",
      "CMI:0.0003923372126279079\n",
      "Unconditionally: Dependent\n",
      "Conditionally: Independent*\n",
      "Model 3\n",
      "MI:6.0233859839886605e-06\n",
      "CMI:0.007018702850808585\n",
      "Unconditionally: Independent*\n",
      "Conditionally: Dependent\n"
     ]
    }
   ],
   "source": [
    "X,Y,Z = sample_from_model1()\n",
    "print(f\"Model 1\\nMI:{mutual_info_score(X, Y)}\\nCMI:{cmi(X,Y,Z)}\")\n",
    "print(f\"Unconditionally: {test_dependence(indep_test_asymptotic(X,Y,stat='mi')[1])}\")\n",
    "print(f\"Conditionally: {test_dependence(cond_indep_test_asymptotic(X,Y,Z)[1])}\")\n",
    "\n",
    "X,Y,Z = sample_from_model2()\n",
    "print(f\"Model 2\\nMI:{mutual_info_score(X, Y)}\\nCMI:{cmi(X,Y,Z)}\")\n",
    "print(f\"Unconditionally: {test_dependence(indep_test_asymptotic(X,Y,stat='mi')[1])}\")\n",
    "print(f\"Conditionally: {test_dependence(cond_indep_test_asymptotic(X,Y,Z)[1])}\")\n",
    "\n",
    "X,Y,Z = sample_from_model3()\n",
    "print(f\"Model 3\\nMI:{mutual_info_score(X, Y)}\\nCMI:{cmi(X,Y,Z)}\")\n",
    "print(f\"Unconditionally: {test_dependence(indep_test_asymptotic(X,Y,stat='mi')[1])}\")\n",
    "print(f\"Conditionally: {test_dependence(cond_indep_test_asymptotic(X,Y,Z)[1])}\")"
   ]
  },
  {
   "cell_type": "code",
   "execution_count": null,
   "metadata": {},
   "outputs": [],
   "source": []
  }
 ],
 "metadata": {
  "kernelspec": {
   "display_name": "Python 3 (ipykernel)",
   "language": "python",
   "name": "python3"
  },
  "language_info": {
   "codemirror_mode": {
    "name": "ipython",
    "version": 3
   },
   "file_extension": ".py",
   "mimetype": "text/x-python",
   "name": "python",
   "nbconvert_exporter": "python",
   "pygments_lexer": "ipython3",
   "version": "3.11.2"
  }
 },
 "nbformat": 4,
 "nbformat_minor": 4
}
