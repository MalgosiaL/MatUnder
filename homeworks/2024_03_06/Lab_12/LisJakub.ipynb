{
 "cells": [
  {
   "attachments": {},
   "cell_type": "markdown",
   "metadata": {},
   "source": [
    "# Mathematical Underpinnings - Lab 2"
   ]
  },
  {
   "cell_type": "code",
   "execution_count": null,
   "outputs": [],
   "source": [
    "import numpy as np\n",
    "import matplotlib.pyplot as plt\n",
    "\n",
    "np.random.seed(123)"
   ],
   "metadata": {
    "collapsed": false,
    "is_executing": true,
    "ExecuteTime": {
     "start_time": "2024-03-09T18:31:16.804439Z"
    }
   }
  },
  {
   "attachments": {},
   "cell_type": "markdown",
   "metadata": {},
   "source": [
    "## Task 1"
   ]
  },
  {
   "cell_type": "markdown",
   "metadata": {},
   "source": [
    "### a)\n",
    "\n",
    "$$R(a,a^*) = \\mathbb{E} \\mathcal{L}(f(X), Y) = \\mathbb{E}(aX - Y)^2 = \\mathbb{E}(aX - (X + \\epsilon)^2) = a^2 \\mathbb{E} X^2 - 2a \\mathbb{E} X(X+\\epsilon) + \\mathbb{E} (X + \\epsilon)^2 = \\star,$$\n",
    "\n",
    "$$\\mathbb{E}X^2 = Var X + (\\mathbb{E} X )^2 = 1 + 0^2 = 1,$$\n",
    "\n",
    "$$\\mathbb{E} X(X+\\epsilon) = \\mathbb{E}X^2 + \\mathbb{E}X\\epsilon = 1 + \\mathbb{E}X \\mathbb{E}\\epsilon = 1 + 0 = 1,$$\n",
    "\n",
    "$$\\mathbb{E}(X+\\epsilon)^2 = \\mathbb{E} (X^2 + 2X\\epsilon + \\epsilon^2) = \\mathbb{E}X^2 + 2 \\mathbb{E}X\\epsilon + \\mathbb{E} \\epsilon^2 = 1 + 0 + Var\\epsilon + (\\mathbb{E}\\epsilon)^2 = 1 + \\sigma^2.$$\n",
    "\n",
    "Thus,\n",
    "\n",
    "$$\\star = a^2 - 2a + 1 + \\sigma^2 = (a-1)^2 + \\sigma^2.$$\n",
    "\n",
    "In our task we know $a^* = 1$."
   ]
  },
  {
   "cell_type": "code",
   "execution_count": null,
   "metadata": {
    "is_executing": true
   },
   "outputs": [],
   "source": [
    "def population_risk(a, sigma_eps):\n",
    "    return (a - 1) ** 2 + sigma_eps**2"
   ]
  },
  {
   "attachments": {},
   "cell_type": "markdown",
   "metadata": {},
   "source": [
    "### b)"
   ]
  },
  {
   "cell_type": "code",
   "execution_count": null,
   "metadata": {
    "is_executing": true
   },
   "outputs": [],
   "source": [
    "# sampling\n",
    "\n",
    "n = 50\n",
    "sigma_eps = 1\n",
    "X = np.random.normal(0, 1, n)\n",
    "a = 1\n",
    "Y = a * X + np.random.normal(0, sigma_eps, n)"
   ]
  },
  {
   "cell_type": "markdown",
   "metadata": {},
   "source": [
    "Empirical risk: $\\frac{1}{n} \\sum_{i=1}^n (ax_i - y_i)^2$"
   ]
  },
  {
   "cell_type": "code",
   "execution_count": null,
   "metadata": {
    "is_executing": true
   },
   "outputs": [],
   "source": [
    "def empirical_risk(a, x, y):\n",
    "    return np.sum((a * x - y) ** 2) / y.shape[0]"
   ]
  },
  {
   "attachments": {},
   "cell_type": "markdown",
   "metadata": {},
   "source": [
    "### c)"
   ]
  },
  {
   "cell_type": "code",
   "execution_count": null,
   "metadata": {
    "is_executing": true
   },
   "outputs": [],
   "source": [
    "# code, plot\n",
    "\n",
    "N = 1001\n",
    "a = np.linspace(0, 2, num=N)\n",
    "\n",
    "pop_risk = population_risk(a, sigma_eps)\n",
    "min_pop_risk = min(pop_risk)\n",
    "min_pop_risk_idx = list(pop_risk).index(min_pop_risk)\n",
    "\n",
    "emp_risk = []\n",
    "for a_i in a:\n",
    "    emp_risk.append(empirical_risk(a_i, X, Y))\n",
    "min_emp_risk = min(emp_risk)\n",
    "min_emp_risk_idx = emp_risk.index(min_emp_risk)\n",
    "\n",
    "plt.plot(a, pop_risk)\n",
    "plt.plot(a, emp_risk)\n",
    "plt.plot(a[min_pop_risk_idx], min_pop_risk, \"o\")\n",
    "plt.plot(a[min_emp_risk_idx], min_emp_risk, \"o\")\n",
    "plt.plot(a[min_emp_risk_idx], pop_risk[min_emp_risk_idx], \"o\")\n",
    "plt.show()"
   ]
  },
  {
   "attachments": {},
   "cell_type": "markdown",
   "metadata": {},
   "source": [
    "### d)"
   ]
  },
  {
   "cell_type": "markdown",
   "metadata": {},
   "source": [
    "Excess risk: $$E(\\hat a, a^*) =R(\\hat a, a^*) - \\textrm{inf}_{a \\in A_0} R(a, a^*)$$"
   ]
  },
  {
   "cell_type": "code",
   "execution_count": null,
   "outputs": [],
   "source": [
    "# excess risk\n",
    "\n",
    "\n",
    "def excess_risk(a_hat, a0, sigma_eps):\n",
    "    return population_risk(a_hat, sigma_eps) - population_risk(a0, sigma_eps)\n",
    "\n",
    "\n",
    "a0 = a[min_pop_risk_idx]\n",
    "a_hat = a[min_emp_risk_idx]\n",
    "sigma = pop_risk[min_emp_risk_idx]\n",
    "print(excess_risk(a_hat, a0, sigma))"
   ],
   "metadata": {
    "collapsed": false,
    "is_executing": true
   }
  },
  {
   "cell_type": "code",
   "execution_count": null,
   "metadata": {
    "is_executing": true
   },
   "outputs": [],
   "source": [
    "from sklearn.linear_model import LinearRegression\n",
    "\n",
    "# simulations with fixed sample size\n",
    "\n",
    "n, L = 50, 200\n",
    "excess_risk_seq = np.zeros(L)\n",
    "\n",
    "for i in range(L):\n",
    "    x = np.random.normal(0, 1, n)\n",
    "    eps = np.random.normal(0, sigma, n)\n",
    "    y = a0 * x + eps\n",
    "\n",
    "    mod = LinearRegression()\n",
    "    mod.fit(x.reshape(-1, 1), y)\n",
    "    a_hat = mod.coef_[0]\n",
    "\n",
    "    excess_risk_seq[i] = population_risk(a_hat, sigma) - population_risk(a0, sigma)\n",
    "\n",
    "print(np.mean(excess_risk_seq))"
   ]
  },
  {
   "cell_type": "code",
   "execution_count": null,
   "metadata": {
    "is_executing": true
   },
   "outputs": [],
   "source": [
    "# simulations for various sample sizes\n",
    "\n",
    "N = 1001\n",
    "a = np.linspace(-5, 5, num=N)\n",
    "n_seq = [25, 50, 75] + [100 * i for i in range(1, 6)] + [1000]\n",
    "means = []\n",
    "for n in n_seq:\n",
    "    excess_risk_seq = np.zeros(L)\n",
    "    for i in range(L):\n",
    "        x = np.random.normal(0, 1, n)\n",
    "        eps = np.random.normal(0, sigma, n)\n",
    "        y = a0 * x + eps\n",
    "\n",
    "        mod = LinearRegression()\n",
    "        mod.fit(x.reshape(-1, 1), y)\n",
    "        a_hat = mod.coef_[0]\n",
    "\n",
    "        excess_risk_seq[i] = excess_risk(a_hat, a0, sigma)\n",
    "\n",
    "    means.append(np.mean(excess_risk_seq))"
   ]
  },
  {
   "cell_type": "code",
   "execution_count": null,
   "metadata": {
    "is_executing": true
   },
   "outputs": [],
   "source": [
    "# a nice plot visualising the results (how the unconditional excess risk changes with a sample size)\n",
    "\n",
    "plt.plot(n_seq, means)\n",
    "plt.hlines(0, 25, max(n_seq), color=\"black\")\n",
    "plt.show()"
   ]
  }
 ],
 "metadata": {
  "kernelspec": {
   "display_name": "base",
   "language": "python",
   "name": "python3"
  },
  "language_info": {
   "codemirror_mode": {
    "name": "ipython",
    "version": 3
   },
   "file_extension": ".py",
   "mimetype": "text/x-python",
   "name": "python",
   "nbconvert_exporter": "python",
   "pygments_lexer": "ipython3",
   "version": "3.9.16"
  },
  "orig_nbformat": 4
 },
 "nbformat": 4,
 "nbformat_minor": 2
}
