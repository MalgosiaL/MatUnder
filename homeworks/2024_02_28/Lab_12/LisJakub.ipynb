{
 "cells": [
  {
   "attachments": {},
   "cell_type": "markdown",
   "metadata": {},
   "source": [
    "# Mathematical Underpinnings - Lab 1"
   ]
  },
  {
   "attachments": {},
   "cell_type": "markdown",
   "metadata": {},
   "source": [
    "## Task 1\n",
    "### a) Generative approach \n",
    "\n",
    "We know $\\pi = P(Y=1)$ and the distributions $f(x|Y=1)$ and $f(x|Y=-1)$.\n",
    "\n",
    "#### First bullet point"
   ]
  },
  {
   "cell_type": "code",
   "execution_count": 36,
   "metadata": {
    "ExecuteTime": {
     "end_time": "2024-03-05T23:44:37.953332Z",
     "start_time": "2024-03-05T23:44:37.789500Z"
    }
   },
   "outputs": [],
   "source": [
    "import numpy as np\n",
    "import matplotlib.pyplot as plt\n",
    "from sklearn.linear_model import LogisticRegression"
   ]
  },
  {
   "cell_type": "code",
   "execution_count": 37,
   "metadata": {
    "ExecuteTime": {
     "end_time": "2024-03-05T23:44:37.961023Z",
     "start_time": "2024-03-05T23:44:37.797373Z"
    }
   },
   "outputs": [],
   "source": [
    "m1 = np.array([1, 1])\n",
    "m2 = np.array([0, 0])\n",
    "\n",
    "sigma = np.array([[1, -0.5], [-0.5, 1]])"
   ]
  },
  {
   "cell_type": "code",
   "execution_count": 38,
   "metadata": {
    "ExecuteTime": {
     "end_time": "2024-03-05T23:44:38.052009Z",
     "start_time": "2024-03-05T23:44:37.805080Z"
    }
   },
   "outputs": [],
   "source": [
    "# sampling\n",
    "n = 500\n",
    "Y_generative = [1] * n + [-1] * n\n",
    "X_generative = np.concatenate(\n",
    "    [\n",
    "        np.random.multivariate_normal(m1, sigma, n),\n",
    "        np.random.multivariate_normal(m2, sigma, n),\n",
    "    ]\n",
    ")"
   ]
  },
  {
   "cell_type": "markdown",
   "metadata": {},
   "source": [
    "Does the distribution of $P(Y=1|X=x)=p(y=1|x)$ correspond to a logistic model?\n",
    "\n",
    "A hint: Use Bayes theorem to compute $p(y=1|x)$. Is it possible to represent $p(y=1|x)$ as $\\frac{e^{\\beta_0 + \\beta x}}{1 + e^{\\beta_0 + \\beta x}}$?\n"
   ]
  },
  {
   "cell_type": "markdown",
   "source": [
    "$$p(y=1|x)=\\frac{p(x|y=1)p(y=1)}{p(x)}$$\n",
    "$$p(x)=p(x|y=1)p(y=1)+p(x|y=-1)p(y=-1)$$\n",
    "\n",
    "Answer: Yes, it corresponds to a logistic model."
   ],
   "metadata": {
    "collapsed": false
   }
  },
  {
   "cell_type": "markdown",
   "metadata": {},
   "source": [
    "#### Second bullet point"
   ]
  },
  {
   "cell_type": "markdown",
   "metadata": {},
   "source": [
    "Find the formulas for the parameters of the logistic model (the coefficients and the intercept).\n",
    "\n",
    "A hint: Use the representation of $p(y=1|x)$ from the first bullet point and solve for $\\beta_0$ and $\\beta$."
   ]
  },
  {
   "cell_type": "markdown",
   "source": [
    "$$\\beta_0=log\\frac{\\pi}{1-\\pi}+\\frac{1}{2} m_2^T\\Sigma^{-1}m_2-\\frac{1}{2} m_1^T\\Sigma^{-1}m_1$$\n",
    "$$\\beta=\\Sigma^{-1}(m_1-m_2)$$"
   ],
   "metadata": {
    "collapsed": false
   }
  },
  {
   "cell_type": "code",
   "execution_count": 39,
   "metadata": {
    "ExecuteTime": {
     "end_time": "2024-03-05T23:44:38.075801Z",
     "start_time": "2024-03-05T23:44:37.816436Z"
    }
   },
   "outputs": [
    {
     "name": "stdout",
     "output_type": "stream",
     "text": [
      "B = [2. 2.], B_0 = -2.0\n"
     ]
    }
   ],
   "source": [
    "# computing beta_0 and beta using the formulas\n",
    "\n",
    "B_0 = -0.5 * (m1 @ np.linalg.inv(sigma) @ m1 - m2 @ np.linalg.inv(sigma) @ m2)\n",
    "B = np.linalg.inv(sigma) @ (m1 - m2)\n",
    "print(f\"B = {B}, B_0 = {B_0}\")"
   ]
  },
  {
   "cell_type": "code",
   "execution_count": 40,
   "metadata": {
    "ExecuteTime": {
     "end_time": "2024-03-05T23:44:38.083493Z",
     "start_time": "2024-03-05T23:44:37.826092Z"
    }
   },
   "outputs": [
    {
     "data": {
      "text/plain": "(array([-2.38188312]), array([[2.23252021, 2.32529736]]))"
     },
     "execution_count": 40,
     "metadata": {},
     "output_type": "execute_result"
    }
   ],
   "source": [
    "# a logistic model\n",
    "mod_a = LogisticRegression(penalty=None)\n",
    "mod_a.fit(X_generative, Y_generative)\n",
    "(mod_a.intercept_, mod_a.coef_)"
   ]
  },
  {
   "cell_type": "markdown",
   "metadata": {},
   "source": [
    "### b) Discriminative approach\n",
    "\n",
    "We know $f(x)$ and $P(Y=1|X=x)$.\n",
    "\n",
    "#### First bullet point"
   ]
  },
  {
   "cell_type": "code",
   "execution_count": 41,
   "metadata": {
    "ExecuteTime": {
     "end_time": "2024-03-05T23:44:38.088323Z",
     "start_time": "2024-03-05T23:44:37.840174Z"
    }
   },
   "outputs": [],
   "source": [
    "# sampling\n",
    "n = 1000\n",
    "x1 = np.random.multivariate_normal(m1, sigma, n)\n",
    "x2 = np.random.multivariate_normal(m2, sigma, n)\n",
    "mixture_coef = np.random.binomial(1, 0.5, n)\n",
    "X_discriminative = np.vstack((x1[mixture_coef == 0, :], x2[mixture_coef == 1, :]))\n",
    "probability_y = 1 / (1 + np.exp(-(-2 + np.dot(X_discriminative, np.array([2, 2])))))\n",
    "Y_discriminative = np.random.binomial(1, probability_y, n)"
   ]
  },
  {
   "cell_type": "code",
   "execution_count": 42,
   "metadata": {
    "ExecuteTime": {
     "end_time": "2024-03-05T23:44:38.101854Z",
     "start_time": "2024-03-05T23:44:37.849224Z"
    }
   },
   "outputs": [
    {
     "data": {
      "text/plain": "(array([-1.88428981]), array([[1.92599876, 1.98630168]]))"
     },
     "execution_count": 42,
     "metadata": {},
     "output_type": "execute_result"
    }
   ],
   "source": [
    "mod_b = LogisticRegression(penalty=None)\n",
    "mod_b.fit(X_discriminative, Y_discriminative)\n",
    "(mod_b.intercept_, mod_b.coef_)"
   ]
  },
  {
   "cell_type": "markdown",
   "metadata": {},
   "source": [
    "#### Second bullet point"
   ]
  },
  {
   "cell_type": "code",
   "execution_count": 43,
   "metadata": {
    "ExecuteTime": {
     "end_time": "2024-03-05T23:44:38.275305Z",
     "start_time": "2024-03-05T23:44:37.887902Z"
    }
   },
   "outputs": [
    {
     "data": {
      "text/plain": "<Figure size 640x480 with 2 Axes>",
      "image/png": "[encoded data removed]"
     },
     "metadata": {},
     "output_type": "display_data"
    }
   ],
   "source": [
    "plt.subplot(1, 2, 1)\n",
    "plt.scatter(X_generative[:, 0], X_generative[:, 1], c=Y_generative)\n",
    "plt.ylim(-4, 4)\n",
    "plt.xlim(-4, 4)\n",
    "plt.subplot(1, 2, 2)\n",
    "plt.scatter(X_discriminative[:, 0], X_discriminative[:, 1], c=Y_discriminative)\n",
    "plt.ylim(-4, 4)\n",
    "plt.xlim(-4, 4)\n",
    "plt.show()"
   ]
  },
  {
   "cell_type": "markdown",
   "metadata": {},
   "source": [
    "What distinguishes the generative approach from the discriminative approach?"
   ]
  },
  {
   "cell_type": "markdown",
   "source": [
    "**Answer:** We have the same joint distributions of $p(x,y)$ (as seen in scatterplots), but the two approches differ from a simulation and modeling point of view. For example, in generative approach we cannot estimate $\\pi$. In generative approach $\\pi$ and $\\beta_0$ are entangled as indicated by the formulas in a). "
   ],
   "metadata": {
    "collapsed": false
   }
  },
  {
   "cell_type": "markdown",
   "metadata": {},
   "source": [
    "### c)"
   ]
  },
  {
   "cell_type": "markdown",
   "metadata": {},
   "source": [
    "To sample from $f_{X|Y=-1}$, first, we will give an answer to Q1.\n",
    "\n",
    "Q1. A hint: use Bayes theorem for $p(x|y=-1)$ and use law of total probability for $p(x)$.\n",
    "\n",
    "**Answer:** We can use a formula, we obtained in a)\n",
    "\n",
    "$$p(y=1|x) = \\frac{\\pi p(x|y=1)}{\\pi p(x|y=1) + (1-\\pi) p(x|y=-1)}.$$\n",
    "\n",
    "Now we transform to get a formula for $p(x|y=-1)$:\n",
    "\n",
    "$$ p(x|y=-1) = \\frac{\\pi p(x|y=1) (1- p(y=1|x))}{p(y=1|x)(1-\\pi)}.$$\n",
    "\n",
    "We plug in $p(x|y=1) = \\exp(-x)$ as $X$ given $Y=1$ follows an exponential distribution with $\\lambda=1$, $p(y=1|x) = 1/(1+\\exp(-\\beta_0-\\beta_1 x))$ (a logistic model assumption) and $p(y=-1|x) = 1/(1+\\exp(\\beta_0+\\beta_1 x))$, thus\n",
    "\n",
    "$$ p(x|y=-1) = \\frac{\\pi \\exp(-x)}{\\exp(\\beta_0+\\beta_1 x)(1-\\pi)} = C_{\\beta_0, \\pi} \\exp(-(\\beta_1+1)x).$$\n",
    "\n",
    "$X$ given $Y=-1$ also follows exponential distribution with $\\lambda=\\beta_1+1$."
   ]
  },
  {
   "cell_type": "code",
   "execution_count": 44,
   "metadata": {
    "ExecuteTime": {
     "end_time": "2024-03-05T23:44:38.284473Z",
     "start_time": "2024-03-05T23:44:38.275690Z"
    }
   },
   "outputs": [],
   "source": [
    "# sampling\n",
    "\n",
    "beta1 = 1\n",
    "n1 = 1000\n",
    "x1 = np.random.exponential(1, size=n1)\n",
    "n2 = 2000\n",
    "x2 = np.random.exponential(1 / (beta1 + 1), size=n2)\n",
    "X = np.concatenate([x1, x2]).reshape(-1, 1)\n",
    "y = np.concatenate([np.ones(n1), np.zeros(n2)])"
   ]
  },
  {
   "cell_type": "code",
   "execution_count": 45,
   "metadata": {
    "ExecuteTime": {
     "end_time": "2024-03-05T23:44:38.296898Z",
     "start_time": "2024-03-05T23:44:38.285825Z"
    }
   },
   "outputs": [
    {
     "data": {
      "text/plain": "(array([-1.43687279]), array([[1.06591363]]))"
     },
     "execution_count": 45,
     "metadata": {},
     "output_type": "execute_result"
    }
   ],
   "source": [
    "# a model\n",
    "mod = LogisticRegression(penalty=None)\n",
    "mod.fit(X, y)\n",
    "(mod.intercept_, mod.coef_)"
   ]
  },
  {
   "cell_type": "markdown",
   "metadata": {},
   "source": [
    "Q2, Q3. A hint: what is the distribution of $f_{X|Y=-1}$? What ia a norming constant?\n",
    "\n",
    "Q2. Once π is fixed, do we have freedom to choose an intercept in the logistic model thus constructed?\n",
    "\n",
    "No, we do not have freedom to choose an intercept.\n",
    "\n",
    "Q3. If π is not given, is the intercept in the logistic model uniquely determined?\n",
    "\n",
    "No, it depends on $\\pi$.\n",
    "\n",
    "The reasoning leading to the answers follows from Q1 (above) and $\\beta_0$ calculations (below)."
   ]
  },
  {
   "cell_type": "markdown",
   "metadata": {},
   "source": [
    "If that is doable, given $\\beta_1$ and $\\pi$ compute $\\beta_0$.\n",
    "\n",
    "A hint: Of course it is, compute $\\beta_0$."
   ]
  },
  {
   "cell_type": "markdown",
   "source": [
    "We have from Q1\n",
    "\n",
    "$$p(x|y=-1) = \\frac{\\pi}{1-\\pi} \\exp(-\\beta_0) \\exp(-(\\beta_1+1)x)$$\n",
    "\n",
    "We can substitute from the task $\\pi = \\frac{1}{3}$, $\\beta_1=1$.\n",
    "\n",
    "$$p(x|y=-1) = \\frac{1}{2} \\exp(-\\beta_0)\\cdot\\exp(-2x).$$\n",
    "\n",
    "It is the exponential distribution with $\\lambda = 2$ and its integral equals to 1. Hence, $\\frac{1}{2}\\cdot\\exp(-\\beta_0) = 2$.\n",
    "\n",
    "We obtain that $\\beta_0 = -\\log(4)$."
   ],
   "metadata": {
    "collapsed": false
   }
  },
  {
   "cell_type": "code",
   "execution_count": 46,
   "outputs": [
    {
     "data": {
      "text/plain": "-1.3862943611198906"
     },
     "execution_count": 46,
     "metadata": {},
     "output_type": "execute_result"
    }
   ],
   "source": [
    "-np.log(4)"
   ],
   "metadata": {
    "collapsed": false,
    "ExecuteTime": {
     "end_time": "2024-03-05T23:44:38.394759Z",
     "start_time": "2024-03-05T23:44:38.296286Z"
    }
   }
  },
  {
   "cell_type": "code",
   "execution_count": 47,
   "outputs": [
    {
     "data": {
      "text/plain": "-1.3862943611198908"
     },
     "execution_count": 47,
     "metadata": {},
     "output_type": "execute_result"
    }
   ],
   "source": [
    "# a numeric answer to the question about beta0\n",
    "pi_c = n1 / (n1 + n2)\n",
    "-np.log((1 - pi_c) / pi_c * (beta1 + 1))"
   ],
   "metadata": {
    "collapsed": false,
    "ExecuteTime": {
     "end_time": "2024-03-05T23:44:38.395212Z",
     "start_time": "2024-03-05T23:44:38.306764Z"
    }
   }
  },
  {
   "attachments": {},
   "cell_type": "markdown",
   "metadata": {},
   "source": [
    "## Task 2"
   ]
  },
  {
   "cell_type": "markdown",
   "metadata": {},
   "source": [
    "### a)\n",
    "\n",
    "$R(a,a^*) = \\mathbb{E} \\mathcal{L}(f(X), Y) = \\mathbb{E}(aX - Y)^2 = ...$,\n",
    "\n",
    "In our task we know $a^* = 1$."
   ]
  },
  {
   "cell_type": "code",
   "execution_count": 48,
   "metadata": {
    "ExecuteTime": {
     "end_time": "2024-03-05T23:44:38.395398Z",
     "start_time": "2024-03-05T23:44:38.315445Z"
    }
   },
   "outputs": [],
   "source": [
    "# def population_risk(a, sigma_eps):\n",
    "#     return ..."
   ]
  },
  {
   "attachments": {},
   "cell_type": "markdown",
   "metadata": {},
   "source": [
    "### b)"
   ]
  },
  {
   "cell_type": "code",
   "execution_count": 49,
   "metadata": {
    "ExecuteTime": {
     "end_time": "2024-03-05T23:44:38.395624Z",
     "start_time": "2024-03-05T23:44:38.320402Z"
    }
   },
   "outputs": [],
   "source": [
    "# sampling"
   ]
  },
  {
   "cell_type": "markdown",
   "metadata": {},
   "source": [
    "Empirical risk: $\\frac{1}{n} \\sum_{i=1}^n (ax_i - y_i)^2$"
   ]
  },
  {
   "cell_type": "code",
   "execution_count": 50,
   "metadata": {
    "ExecuteTime": {
     "end_time": "2024-03-05T23:44:38.395787Z",
     "start_time": "2024-03-05T23:44:38.332922Z"
    }
   },
   "outputs": [],
   "source": [
    "# def empirical_risk(a, x, y):\n",
    "#     return ..."
   ]
  },
  {
   "attachments": {},
   "cell_type": "markdown",
   "metadata": {},
   "source": [
    "### c)"
   ]
  },
  {
   "cell_type": "code",
   "execution_count": 51,
   "metadata": {
    "ExecuteTime": {
     "end_time": "2024-03-05T23:44:38.395959Z",
     "start_time": "2024-03-05T23:44:38.339733Z"
    }
   },
   "outputs": [],
   "source": [
    "# code, plot"
   ]
  },
  {
   "attachments": {},
   "cell_type": "markdown",
   "metadata": {},
   "source": [
    "### d)"
   ]
  },
  {
   "cell_type": "markdown",
   "metadata": {},
   "source": [
    "Excess risk: $$E(\\hat a, a^*) =R(\\hat a, a^*) - \\textrm{inf}_{a \\in A_0} R(a, a^*)$$"
   ]
  },
  {
   "cell_type": "code",
   "execution_count": 52,
   "metadata": {
    "ExecuteTime": {
     "end_time": "2024-03-05T23:44:38.396115Z",
     "start_time": "2024-03-05T23:44:38.344100Z"
    }
   },
   "outputs": [],
   "source": [
    "# excess risk\n",
    "# ..."
   ]
  },
  {
   "cell_type": "code",
   "execution_count": 53,
   "metadata": {
    "ExecuteTime": {
     "end_time": "2024-03-05T23:44:38.396280Z",
     "start_time": "2024-03-05T23:44:38.349562Z"
    }
   },
   "outputs": [],
   "source": [
    "# simulations with fixed sample size"
   ]
  },
  {
   "cell_type": "code",
   "execution_count": 54,
   "metadata": {
    "ExecuteTime": {
     "end_time": "2024-03-05T23:44:38.396460Z",
     "start_time": "2024-03-05T23:44:38.364082Z"
    }
   },
   "outputs": [],
   "source": [
    "# simulations for various sample sizes"
   ]
  },
  {
   "cell_type": "code",
   "execution_count": 55,
   "metadata": {
    "ExecuteTime": {
     "end_time": "2024-03-05T23:44:38.396989Z",
     "start_time": "2024-03-05T23:44:38.368212Z"
    }
   },
   "outputs": [],
   "source": [
    "# a nice plot visualising the results (how the unconditional excess risk changes with a sample size)"
   ]
  }
 ],
 "metadata": {
  "kernelspec": {
   "display_name": "base",
   "language": "python",
   "name": "python3"
  },
  "language_info": {
   "codemirror_mode": {
    "name": "ipython",
    "version": 3
   },
   "file_extension": ".py",
   "mimetype": "text/x-python",
   "name": "python",
   "nbconvert_exporter": "python",
   "pygments_lexer": "ipython3",
   "version": "3.9.16"
  },
  "orig_nbformat": 4
 },
 "nbformat": 4,
 "nbformat_minor": 2
}
