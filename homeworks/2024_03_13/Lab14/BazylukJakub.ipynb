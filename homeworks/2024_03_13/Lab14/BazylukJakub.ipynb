{
 "cells": [
  {
   "cell_type": "markdown",
   "metadata": {},
   "source": [
    "# Mathematical Underpinnings - Lab 3"
   ]
  },
  {
   "cell_type": "markdown",
   "metadata": {},
   "source": [
    "  - A set $S_n = \\{x_1, x_2, \\ldots, x_n\\}$ is **shattered** by a class $\\mathcal{C}$ (or $\\mathcal{C}$ shatters $S_n$) if $|\\{S_n \\cap c: c \\in \\mathcal{C}\\}| = 2^n$.\n",
    "\n",
    "  - **Shattering coefficient** of $\\mathcal{C}$ is a number such that $\\mathcal{S}_{\\mathcal{C}}(n) = \\max_{S_n} |\\{S_n \\cap c: c \\in \\mathcal{C}\\}|$.\n",
    "\n",
    "  - **Vapnik–Chervonenkis** dimension of $\\mathcal{C}$ is $VC(\\mathcal{C}) = \\min_n \\{n: \\mathcal{S}_{\\mathcal{C}}(n) < 2^n\\}$.\n",
    "\n",
    "*What to do if we have a class of functions $\\mathcal{F}$ instead of a set of subsets $\\mathcal{C}$*\n",
    "\n",
    "  - **Subgraph** of a function $f$ is defined as $\\textrm{Subgraph}(f) = \\{x: f(x) \\leq 0\\}$.\n",
    "\n",
    "  - Then $\\mathcal{C}$ from the above definitions is defined as $\\mathcal{C} = \\{\\textrm{Subgraph}(f): f \\in \\mathcal{F}\\}$\n",
    "\n",
    "  - **Example** for linear decision boundaries in $\\mathbb{R}^2$: \n",
    "  \n",
    "      A function: $f_b(x) = f_b(x^{1}, x^{2}) = b^{0} + b^{1}x^{1} + b^{2}x^{2}$\n",
    "      \n",
    "      A hyperplane (in $\\mathbb{R}^2$ a line): $f_b(x^{1}, x^{2}) = b^{0} + b^{1}x^{1} + b^{2}x^{2} = 0$\n",
    "\n",
    "      $\\textrm{Subgraph}(f_b) = \\{\\textrm{A half space bounded by a hyperplane given above}\\}$\n",
    "\n",
    "      A family of functions: $\\mathcal{F} = \\{f_b: b \\in \\mathbb{R}^3\\}$\n",
    "  \n",
    "      $\\mathcal{C} = \\{\\textrm{All half spaces separated by all hyperplanes}\\}$"
   ]
  },
  {
   "cell_type": "markdown",
   "metadata": {},
   "source": [
    "## Task 1\n",
    "\n",
    "### a)\n",
    "\n",
    "Facts from the lecture:\n",
    "\n",
    "  - If $\\mathcal{F}_{a,b} = \\{f: f(x) = a'x +b\\}$ (a family of linear functions in $\\mathbb{R}^d$), then $VC(\\mathcal{F}_{a,b}) \\leq d+3$.\n",
    "  - If $\\mathcal{F}_{a,b} = \\{f: f(x) = a'x +b\\}$ (a family of linear functions in $\\mathbb{R}^d$), then $VC(\\mathcal{F}_{a,b}) = d+2$.\n",
    "\n",
    "Of course the second implies the first fact, but both are given as proving inequality is simpler (and we repeat what exactly was on the lecture).\n",
    "\n",
    "\n",
    "*Pictures on paper*"
   ]
  },
  {
   "cell_type": "code",
   "execution_count": 1,
   "metadata": {},
   "outputs": [],
   "source": [
    "# useful functions to find all possible assigments of classes:\n",
    "# (I recommend usin combinations, as we don't need to compute the same with the classes swiched)\n",
    "import matplotlib.pyplot as plt\n",
    "from itertools import combinations\n",
    "#from itertools import permutations\n",
    "# from itertools import product\n",
    "import numpy as np\n",
    "from sklearn import svm\n",
    "from sklearn import tree"
   ]
  },
  {
   "cell_type": "markdown",
   "metadata": {},
   "source": [
    "### b)"
   ]
  },
  {
   "cell_type": "code",
   "execution_count": 2,
   "metadata": {},
   "outputs": [],
   "source": [
    "# S_n is an array (n) x (d). In rows are point in R^d and there are n of them\n",
    "def is_shattered(S):\n",
    "    d = S.shape[1]\n",
    "    n = S.shape[0]\n",
    "    for k in range(1,n): # no need to consider reversed classes, for some reason changing n to int(np.ceil(n/2 + 1)) raises random error\n",
    "        for comb in combinations(np.arange(n),k):\n",
    "            y = np.zeros(n)\n",
    "            y[list(comb)] = 1\n",
    "            svc = svm.SVC(C=10000, shrinking=False, kernel='linear', tol=1e-5)\n",
    "            if svc.fit(S, y).score(S, y) != 1:\n",
    "                return False\n",
    "    return True\n",
    "    \n",
    "#     for y in different assigment of classes to points in S_n:\n",
    "#         check if they are linearly separable\n",
    "#         i.e. if we can fit a line so for the points in S_n with classes y the classification error is 0\n",
    "\n",
    "#     if for at least for one y the answer is no, then return False, else return True\n",
    "#     return True/False"
   ]
  },
  {
   "cell_type": "markdown",
   "metadata": {},
   "source": [
    "### c)"
   ]
  },
  {
   "cell_type": "code",
   "execution_count": 3,
   "metadata": {},
   "outputs": [
    {
     "name": "stdout",
     "output_type": "stream",
     "text": [
      "False\n"
     ]
    },
    {
     "data": {
      "image/png": "[encoded data removed]",
      "text/plain": [
       "<Figure size 640x480 with 16 Axes>"
      ]
     },
     "metadata": {},
     "output_type": "display_data"
    }
   ],
   "source": [
    "S = np.random.randn(8).reshape(4,2)\n",
    "i = 1\n",
    "plt.subplot(4,4,i)\n",
    "for k in range(4):\n",
    "    for comb in combinations(np.arange(4),k):\n",
    "        y = np.zeros(4)\n",
    "        y[list(comb)] = 1\n",
    "        plt.subplot(4,4,i)\n",
    "        i += 1\n",
    "        plt.scatter(S[:,0], S[:,1], c= y)\n",
    "plt.subplot(4,4,i)\n",
    "plt.scatter(S[:,0], S[:,1], c= \"yellow\")\n",
    "print(is_shattered(S))"
   ]
  },
  {
   "cell_type": "code",
   "execution_count": 6,
   "metadata": {},
   "outputs": [],
   "source": [
    "# there should be 2^n = 2^4 = 16 pictures \n",
    "# (or 8 if you don't differentiate class swithes, \n",
    "# or 8-1=7 if you don't take into account the case in which all observations belongs to one class)"
   ]
  },
  {
   "cell_type": "markdown",
   "metadata": {},
   "source": [
    "### d)"
   ]
  },
  {
   "cell_type": "code",
   "execution_count": 5,
   "metadata": {},
   "outputs": [],
   "source": [
    "# -1 means there was a bug\n",
    "VC = -np.ones(9)\n",
    "for d in range(2,11):\n",
    "    # we know that the actual value is d + 2\n",
    "    ns = np.arange(d + 2 - 3, d + 2 + 4)\n",
    "    for n in ns:\n",
    "        # to avoid negative shape\n",
    "        if n > 0:\n",
    "            break_flag = 0\n",
    "            for i in range(50):\n",
    "                S = np.random.randn(d*n).reshape(n,d)\n",
    "                if is_shattered(S):\n",
    "                    # this means that VC dimension is at least n + 1\n",
    "                    # estimated V-C\n",
    "                    VC[d-2] = n + 1\n",
    "                    # no need to do remaing ~50 simulations\n",
    "                    break_flag = 1\n",
    "                    break\n",
    "            # for efficiency\n",
    "            if break_flag == 0:\n",
    "                break"
   ]
  },
  {
   "cell_type": "code",
   "execution_count": 6,
   "metadata": {},
   "outputs": [
    {
     "data": {
      "text/plain": [
       "array([ 4.,  5.,  6.,  7.,  8.,  9., 10.])"
      ]
     },
     "execution_count": 6,
     "metadata": {},
     "output_type": "execute_result"
    }
   ],
   "source": [
    "# we expect 4, 5, ..., 12\n",
    "VC"
   ]
  },
  {
   "cell_type": "markdown",
   "metadata": {},
   "source": [
    "### e)"
   ]
  },
  {
   "cell_type": "code",
   "execution_count": 9,
   "metadata": {},
   "outputs": [],
   "source": [
    "# what it actually does is find the VC dimension of all balls B(x, r) in R^d and R^d/B(x,r)"
   ]
  },
  {
   "cell_type": "code",
   "execution_count": 2,
   "metadata": {},
   "outputs": [],
   "source": [
    "# A hint: change a kernel in SVM\n",
    "def custom_kernel(X, Y):\n",
    "      return np.dot(np.concatenate((np.ones(X.shape[0]).reshape(-1,1), X, np.sum(X**2, axis=1).reshape(-1,1)),axis=1),\n",
    "                    np.concatenate((np.ones(Y.shape[0]).reshape(-1,1), Y, np.sum(Y**2, axis=1).reshape(-1,1)),axis=1).T)\n",
    "\n",
    "def is_shattered_ball(S):\n",
    "    d = S.shape[1]\n",
    "    n = S.shape[0]\n",
    "    for k in range(1,int(np.ceil(n/2 + 1))):\n",
    "        for comb in combinations(np.arange(n),k):\n",
    "            y = np.zeros(n)\n",
    "            y[list(comb)] = 1\n",
    "            svc = svm.SVC(kernel = custom_kernel, tol =1e-10, C = 10000)\n",
    "            if svc.fit(S, y).score(S, y) != 1:\n",
    "                return False\n",
    "    return True"
   ]
  },
  {
   "cell_type": "code",
   "execution_count": 3,
   "metadata": {},
   "outputs": [
    {
     "name": "stdout",
     "output_type": "stream",
     "text": [
      "False\n"
     ]
    },
    {
     "data": {
      "image/png": "[encoded data removed]",
      "text/plain": [
       "<Figure size 800x400 with 2 Axes>"
      ]
     },
     "metadata": {},
     "output_type": "display_data"
    }
   ],
   "source": [
    "dim = 5\n",
    "S = np.random.randn(2*dim).reshape(dim,2)\n",
    "y = [1,0,0,0,0]\n",
    "\n",
    "\n",
    "svc  = svm.SVC(kernel=custom_kernel, C = 10000)\n",
    "svc.fit(S, y)\n",
    "def plot_balls(svc, S, y):\n",
    "    # Create meshgrid to plot decision surface\n",
    "    xx, yy = np.meshgrid(np.linspace(-3, 3, 500),\n",
    "                         np.linspace(-3, 3, 500))\n",
    "    # Evaluate decision function on meshgrid\n",
    "    Z = svc.decision_function(np.c_[xx.ravel(), yy.ravel()])\n",
    "    Z = Z.reshape(xx.shape)\n",
    "    # Plot decision boundary and support vectors\n",
    "    plt.contour(xx, yy, Z, colors='k', levels=[-1, 0, 1], alpha=0.5, linestyles=['--', '-', '--'])\n",
    "    plt.scatter(S[:, 0], S[:, 1], c=y, s=30, cmap=plt.cm.Paired)\n",
    "    \n",
    "plt.figure(figsize=(8,4))\n",
    "plt.subplot(1,2,1)\n",
    "plot_balls(svc, S, svc.predict(S))\n",
    "plt.subplot(1,2,2)\n",
    "plot_balls(svc, S, y)\n",
    "\n",
    "print(is_shattered_ball(S))"
   ]
  },
  {
   "cell_type": "code",
   "execution_count": 4,
   "metadata": {
    "scrolled": true
   },
   "outputs": [],
   "source": [
    "# -1 means there was a bug\n",
    "VC = -np.ones(7)\n",
    "for d in range(2,9):\n",
    "    # we expect the actual value to be around d + 3 (considering different set F)\n",
    "    ns = np.arange(d + 3 - 3, d + 3 + 4)\n",
    "    for n in ns:\n",
    "        # to avoid negative shape\n",
    "        if n > 0:\n",
    "            break_flag = 0\n",
    "            for i in range(50):\n",
    "                S = np.random.randn(d*n).reshape(n,d)\n",
    "                if is_shattered_ball(S):\n",
    "                    # this means that VC dimension is at least n + 1\n",
    "                    # estimated V-C\n",
    "                    VC[d-2] = n + 1\n",
    "                    # no need to do remaing ~50 simulations\n",
    "                    break_flag = 1\n",
    "                    break\n",
    "            # for efficiency\n",
    "            if break_flag == 0:\n",
    "                break"
   ]
  },
  {
   "cell_type": "code",
   "execution_count": 5,
   "metadata": {},
   "outputs": [
    {
     "data": {
      "text/plain": [
       "array([ 5., -1., -1., -1., -1., -1., -1.])"
      ]
     },
     "execution_count": 5,
     "metadata": {},
     "output_type": "execute_result"
    }
   ],
   "source": [
    "# computationally tractable for d <= 8\n",
    "VC"
   ]
  },
  {
   "cell_type": "code",
   "execution_count": 6,
   "metadata": {},
   "outputs": [
    {
     "name": "stdout",
     "output_type": "stream",
     "text": [
      "-1.0\n",
      "-1.0\n",
      "-1.0\n",
      "-1.0\n",
      "-1.0\n",
      "-1.0\n",
      "-1.0\n"
     ]
    }
   ],
   "source": [
    "# since algoritm is very efficient we get rid of range(50) loop\n",
    "# -1 means there was a bug\n",
    "VC = -np.ones(7)\n",
    "for d in range(2,9):\n",
    "    # we expect the actual value to be around d + 3 (considering different set F)\n",
    "    ns = np.arange(d + 3 - 3, d + 3 + 4)\n",
    "    for n in ns:\n",
    "        # to avoid negative shape\n",
    "        if n > 0:\n",
    "            break_flag = 0\n",
    "            S = np.random.randn(d*n).reshape(n,d)\n",
    "            if is_shattered_ball(S):\n",
    "                # this means that VC dimension is at least n + 1\n",
    "                # estimated V-C\n",
    "                VC[d-2] = n + 1\n",
    "                # no need to do remaing ~50 simulations\n",
    "                break_flag = 1\n",
    "            # for efficiency\n",
    "            if break_flag == 0:\n",
    "                break"
   ]
  },
  {
   "cell_type": "code",
   "execution_count": 7,
   "metadata": {},
   "outputs": [
    {
     "data": {
      "text/plain": [
       "array([ 5.,  6.,  7.,  8.,  9., 10., 11.])"
      ]
     },
     "execution_count": 7,
     "metadata": {},
     "output_type": "execute_result"
    }
   ],
   "source": [
    "VC"
   ]
  },
  {
   "cell_type": "code",
   "execution_count": 8,
   "metadata": {},
   "outputs": [],
   "source": [
    "# S_n is an array (n) x (d). In rows are point in R^d and there are n of them\n",
    "def is_shattered_tree(S):\n",
    "    d = S.shape[1]\n",
    "    n = S.shape[0]\n",
    "    for k in range(1,int(np.ceil(n/2 + 1))):\n",
    "        for comb in combinations(np.arange(n),k):\n",
    "            y = np.zeros(n)\n",
    "            y[list(comb)] = 1\n",
    "            decision = tree.DecisionTreeClassifier()\n",
    "            if decision.fit(S, y).score(S, y) != 1:\n",
    "                return False\n",
    "    return True"
   ]
  },
  {
   "cell_type": "code",
   "execution_count": 9,
   "metadata": {},
   "outputs": [
    {
     "data": {
      "text/plain": [
       "True"
      ]
     },
     "execution_count": 9,
     "metadata": {},
     "output_type": "execute_result"
    }
   ],
   "source": [
    "# Since pure tree is always gonna give the right answer, it doesn't make much sense to estimate V-C = inf\n",
    "# We expect S to be shattered regardless of n and d\n",
    "n = 15\n",
    "d = 8\n",
    "S = np.random.randn(n*d).reshape(n,d)\n",
    "y = np.random.randint(n)\n",
    "is_shattered_tree(S)"
   ]
  },
  {
   "cell_type": "code",
   "execution_count": 10,
   "metadata": {},
   "outputs": [],
   "source": [
    "# S_n is an array (n) x (d). In rows are point in R^d and there are n of them\n",
    "def is_shattered_tree_pruned(S, alpha):\n",
    "    d = S.shape[1]\n",
    "    n = S.shape[0]\n",
    "    for k in range(1,int(np.ceil(n/2 + 1))):\n",
    "        for comb in combinations(np.arange(n),k):\n",
    "            y = np.zeros(n)\n",
    "            y[list(comb)] = 1\n",
    "            decision = tree.DecisionTreeClassifier(ccp_alpha = alpha)\n",
    "            if decision.fit(S, y).score(S, y) != 1:\n",
    "                return False\n",
    "    return True"
   ]
  },
  {
   "cell_type": "code",
   "execution_count": 63,
   "metadata": {},
   "outputs": [],
   "source": [
    "def VC_tree_pruned(max_d, alpha):   \n",
    "    VC = -np.ones(max_d-2)\n",
    "    for d in range(2,max_d):\n",
    "        # we expect the actual value to be around d + 3 (considering different set F)\n",
    "        ns = np.arange(1, d + 5)\n",
    "        for n in ns:\n",
    "            # to avoid negative shape\n",
    "            if n > 0:\n",
    "                break_flag = 0\n",
    "                for i in range(50):\n",
    "                    S = np.random.randn(d*n).reshape(n,d)\n",
    "                    if is_shattered_tree_pruned(S, 0.1): \n",
    "                        # this means that VC dimension is at least n + 1\n",
    "                        # estimated V-C\n",
    "                        VC[d-2] = n + 1\n",
    "                        # no need to do remaing ~50 simulations\n",
    "                        break_flag = 1\n",
    "                        break\n",
    "                # for efficiency\n",
    "                if break_flag == 0:\n",
    "                    break\n",
    "    return VC"
   ]
  },
  {
   "cell_type": "code",
   "execution_count": 64,
   "metadata": {},
   "outputs": [
    {
     "data": {
      "text/plain": [
       "array([ 7.,  8.,  9.,  9.,  9., 12., 12., 12.])"
      ]
     },
     "execution_count": 64,
     "metadata": {},
     "output_type": "execute_result"
    }
   ],
   "source": [
    "VC_tree_pruned(10,1)"
   ]
  },
  {
   "cell_type": "code",
   "execution_count": 65,
   "metadata": {},
   "outputs": [
    {
     "data": {
      "text/plain": [
       "array([ 7.,  8.,  9.,  9., 10., 11., 11., 12.])"
      ]
     },
     "execution_count": 65,
     "metadata": {},
     "output_type": "execute_result"
    }
   ],
   "source": [
    "VC_tree_pruned(10,3)"
   ]
  },
  {
   "cell_type": "code",
   "execution_count": 66,
   "metadata": {},
   "outputs": [
    {
     "data": {
      "text/plain": [
       "array([ 7.,  8.,  9., 10., 10., 11., 12., 12.])"
      ]
     },
     "execution_count": 66,
     "metadata": {},
     "output_type": "execute_result"
    }
   ],
   "source": [
    "VC_tree_pruned(10,0.1)"
   ]
  },
  {
   "cell_type": "code",
   "execution_count": 67,
   "metadata": {},
   "outputs": [
    {
     "data": {
      "text/plain": [
       "array([ 7.,  8.,  8.,  9., 11., 11., 12., 12., 12., 12., 13., 13., 13.])"
      ]
     },
     "execution_count": 67,
     "metadata": {},
     "output_type": "execute_result"
    }
   ],
   "source": [
    "VC_tree_pruned(15,0.1)"
   ]
  },
  {
   "cell_type": "code",
   "execution_count": 68,
   "metadata": {},
   "outputs": [
    {
     "data": {
      "text/plain": [
       "array([ 7.,  8.,  9., 10., 11., 10., 12., 12., 12., 12., 12., 13., 13.])"
      ]
     },
     "execution_count": 68,
     "metadata": {},
     "output_type": "execute_result"
    }
   ],
   "source": [
    "VC_tree_pruned(15,5)"
   ]
  }
 ],
 "metadata": {
  "kernelspec": {
   "display_name": "Python 3 (ipykernel)",
   "language": "python",
   "name": "python3"
  },
  "language_info": {
   "codemirror_mode": {
    "name": "ipython",
    "version": 3
   },
   "file_extension": ".py",
   "mimetype": "text/x-python",
   "name": "python",
   "nbconvert_exporter": "python",
   "pygments_lexer": "ipython3",
   "version": "3.9.2"
  }
 },
 "nbformat": 4,
 "nbformat_minor": 2
}
