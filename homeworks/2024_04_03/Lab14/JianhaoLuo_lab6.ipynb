{
  "nbformat": 4,
  "nbformat_minor": 0,
  "metadata": {
    "colab": {
      "provenance": []
    },
    "kernelspec": {
      "name": "python3",
      "display_name": "Python 3"
    },
    "language_info": {
      "name": "python"
    }
  },
  "cells": [
    {
      "cell_type": "code",
      "execution_count": 1,
      "metadata": {
        "id": "kkZG7BRMByfN"
      },
      "outputs": [],
      "source": [
        "import numpy as np\n",
        "from sklearn.metrics import mutual_info_score\n",
        "\n",
        "def conditional_mutual_information(X, Y, Z):\n",
        "    z_values = np.unique(Z)\n",
        "    n_z_values = len(z_values)\n",
        "    n = len(Z)\n",
        "\n",
        "    cmi = 0\n",
        "\n",
        "    for i in range(n_z_values):\n",
        "        z_value_tmp = z_values[i]\n",
        "        z_condition = (Z == z_value_tmp)\n",
        "\n",
        "        X_z = X[z_condition]\n",
        "        Y_z = Y[z_condition]\n",
        "\n",
        "        mi_XY_z = mutual_info_score(X_z, Y_z)\n",
        "        p_z = np.sum(z_condition) / n\n",
        "\n",
        "        cmi += p_z * mi_XY_z\n",
        "\n",
        "    return cmi\n",
        "\n",
        "def interaction_information(X, Y, Z):\n",
        "    return conditional_mutual_information(X, Y, Z) - mutual_info_score(X, Y)\n",
        "\n",
        "def interaction_information2(X, Y, Z1, Z2):\n",
        "    Z_1_and_2 = 2*Z2 + Z1\n",
        "    return (interaction_information(X, Y, Z_1_and_2) -\n",
        "            interaction_information(X, Y, Z1) -\n",
        "            interaction_information(X, Y, Z2))\n",
        "\n",
        "def conditional_permutation_test(X, Y, Z, B=50, stat='CMI'):\n",
        "    if stat == 'CMI':\n",
        "        original_stat = mutual_info_score(X, Y)\n",
        "    elif stat == 'SECMI2':\n",
        "        original_stat = mutual_info_score(X, Y) + sum(interaction_information(X, Y, Z[:, i]) for i in range(Z.shape[1]))\n",
        "    elif stat == 'SECMI3':\n",
        "        original_stat = mutual_info_score(X, Y) + sum(interaction_information2(X, Y, Z[:, i], Z[:, j]) for i in range(Z.shape[1]) for j in range(i+1, Z.shape[1]))\n",
        "    else:\n",
        "        raise ValueError(\"Invalid stat parameter. Choose 'CMI', 'SECMI2', or 'SECMI3'\")\n",
        "\n",
        "    permuted_stats = []\n",
        "    for _ in range(B):\n",
        "        Y_permuted = np.random.permutation(Y)\n",
        "        if stat == 'CMI':\n",
        "            permuted_stat = mutual_info_score(X, Y_permuted)\n",
        "        elif stat == 'SECMI2':\n",
        "            permuted_stat = mutual_info_score(X, Y_permuted) + sum(interaction_information(X, Y_permuted, Z[:, i]) for i in range(Z.shape[1]))\n",
        "        elif stat == 'SECMI3':\n",
        "            permuted_stat = mutual_info_score(X, Y_permuted) + sum(interaction_information2(X, Y_permuted, Z[:, i], Z[:, j]) for i in range(Z.shape[1]) for j in range(i+1, Z.shape[1]))\n",
        "\n",
        "        permuted_stats.append(permuted_stat)\n",
        "\n",
        "    p_value = np.mean([stat >= original_stat for stat in permuted_stats])\n",
        "\n",
        "    return original_stat, p_value\n",
        "\n",
        "# This implementation now includes the provided definition of conditional_mutual_information, allowing for accurate computation of CMI, SECMI2, and SECMI3.\n",
        "\n"
      ]
    },
    {
      "cell_type": "markdown",
      "source": [
        "a)"
      ],
      "metadata": {
        "id": "PJf86pVFU1Wj"
      }
    },
    {
      "cell_type": "code",
      "source": [
        "import numpy as np\n",
        "\n",
        "def generate_distributions(n=100):\n",
        "    \"\"\"\n",
        "    Generate samples for X, Y, Z1, Z2, Z3 based on specified distributions.\n",
        "\n",
        "    Parameters:\n",
        "    - n (int): Number of samples to generate.\n",
        "\n",
        "    Returns:\n",
        "    - X, Y, Z (numpy.ndarray): Arrays containing the samples for X, Y, and [Z1, Z2, Z3].\n",
        "    \"\"\"\n",
        "    # Independent variables X, Z1, Z2, Z3\n",
        "    X = np.random.binomial(1, 0.5, n)\n",
        "    Z1 = np.random.binomial(1, 0.5, n)\n",
        "    Z2 = np.random.binomial(1, 0.5, n)\n",
        "    Z3 = np.random.binomial(1, 0.5, n)  # Independent of X, Y, Z1, Z2\n",
        "\n",
        "    # Compute X + Z1 + Z2 modulo 2\n",
        "    X_plus_Z1_Z2_mod2 = (X + Z1 + Z2) % 2\n",
        "\n",
        "    # Generate Y based on X + Z1 + Z2 mod 2\n",
        "    Y = np.array([np.random.binomial(1, 0.8 if mod == 1 else 0.2) for mod in X_plus_Z1_Z2_mod2])\n",
        "\n",
        "    # Combine Z1, Z2, Z3 into a single array (multivariate Z)\n",
        "    Z = np.vstack((Z1, Z2, Z3)).T\n",
        "\n",
        "    return X, Y, Z\n",
        "\n",
        "# Example usage:\n",
        "X, Y, Z = generate_distributions(n=100)\n",
        "\n",
        "conditional_permutation_test(X,Y,Z)\n"
      ],
      "metadata": {
        "id": "NmomCuuAOMRQ",
        "outputId": "3ab1632f-7c28-45d4-fc5e-f2c192483480",
        "colab": {
          "base_uri": "https://localhost:8080/"
        }
      },
      "execution_count": 4,
      "outputs": [
        {
          "output_type": "execute_result",
          "data": {
            "text/plain": [
              "(0.0018532979889825385, 0.42)"
            ]
          },
          "metadata": {},
          "execution_count": 4
        }
      ]
    },
    {
      "cell_type": "code",
      "source": [
        "def sample_from_model1(n = 100):\n",
        "    Y = 2*(np.random.randn(n) > 0) - 1\n",
        "    Z1 = 2*(Y/2 + np.random.randn(n) > 0) - 1\n",
        "    Z2 = 2*(Y/2 + np.random.randn(n) > 0) - 1\n",
        "    Z3 = 2*(Y/2 + np.random.randn(n) > 0) - 1\n",
        "    X = 2*(Z1/2 + np.random.randn(n) > 0) - 1\n",
        "    return X,Y, np.stack((Z1,Z2,Z3), axis = -1)"
      ],
      "metadata": {
        "id": "KCbBl5IlU6lM"
      },
      "execution_count": 5,
      "outputs": []
    },
    {
      "cell_type": "code",
      "source": [
        "n_tests = 100\n",
        "alpha = 5/100\n",
        "cmi_test = 0\n",
        "secmi2_test = 0\n",
        "secmi3_test = 0\n",
        "\n",
        "for n in range(n_tests):\n",
        "    X,Y,Z = sample_from_model1(n = 500)\n",
        "    cmi_test += conditional_permutation_test(X,Y,Z[:,0:2])[1] <= alpha\n",
        "    secmi2_test += conditional_permutation_test(X,Y,Z[:,0:2], stat=\"SECMI2\")[1] <= alpha\n",
        "    secmi3_test += conditional_permutation_test(X,Y,Z[:,0:2], stat=\"SECMI3\")[1] <= alpha\n",
        "print(\"Test 1 CMI test rejection rate: \" + str(cmi_test/n_tests))\n",
        "print(\"Test 1 secmi2 test rejection rate: \" + str(secmi2_test/n_tests))\n",
        "print(\"Test 1 secmi3 test rejection rate: \" + str(secmi3_test/n_tests))"
      ],
      "metadata": {
        "colab": {
          "base_uri": "https://localhost:8080/"
        },
        "id": "be9GyKdWVEbO",
        "outputId": "0d784459-b5d8-48f2-8b98-2b99831fda3d"
      },
      "execution_count": 10,
      "outputs": [
        {
          "output_type": "stream",
          "name": "stdout",
          "text": [
            "Test 1 CMI test rejection rate: 0.92\n",
            "Test 1 secmi2 test rejection rate: 0.02\n",
            "Test 1 secmi3 test rejection rate: 0.89\n"
          ]
        }
      ]
    },
    {
      "cell_type": "code",
      "source": [
        "for n in range(n_tests):\n",
        "    X,Y,Z = sample_from_model1(n = 500)\n",
        "    cmi_test += conditional_permutation_test(X,Y,Z[:,1:3])[1] <= alpha\n",
        "    secmi2_test += conditional_permutation_test(X,Y,Z[:,1:3], stat=\"SECMI2\")[1] <= alpha\n",
        "    secmi3_test += conditional_permutation_test(X,Y,Z[:,1:3], stat=\"SECMI3\")[1] <= alpha\n",
        "print(\"Test 1 CMI test rejection rate: \" + str(cmi_test/n_tests))\n",
        "print(\"Test 1 secmi2 test rejection rate: \" + str(secmi2_test/n_tests))\n",
        "print(\"Test 1 secmi3 test rejection rate: \" + str(secmi3_test/n_tests))"
      ],
      "metadata": {
        "colab": {
          "base_uri": "https://localhost:8080/"
        },
        "id": "Sg7fQ9VnYwgb",
        "outputId": "645c94cb-12a8-45d0-f245-dcb61edd4495"
      },
      "execution_count": 11,
      "outputs": [
        {
          "output_type": "stream",
          "name": "stdout",
          "text": [
            "Test 1 CMI test rejection rate: 1.76\n",
            "Test 1 secmi2 test rejection rate: 0.63\n",
            "Test 1 secmi3 test rejection rate: 1.74\n"
          ]
        }
      ]
    },
    {
      "cell_type": "markdown",
      "source": [
        "c)"
      ],
      "metadata": {
        "id": "kh3y_gUWZoYI"
      }
    },
    {
      "cell_type": "code",
      "source": [
        "def sample_from_model2(n = 100):\n",
        "    X = 2*np.random.randint(0,2,n) -1\n",
        "    Z1 = 2*np.random.randint(0,2,n) -1\n",
        "    Z2 = 2*np.random.randint(0,2,n) -1\n",
        "    Z3 = 2*np.random.randint(0,2,n) -1\n",
        "    # create vector of probabilities\n",
        "    p = 0.2 * np.ones(n)\n",
        "    p[X + Z1 + Z2 % 2 == 1] = 0.8\n",
        "    Y = 2*np.random.binomial(1, p) -1\n",
        "    return X,Y,np.stack((Z1,Z2,Z3), axis = -1)"
      ],
      "metadata": {
        "id": "MsMRxxfOZpit"
      },
      "execution_count": 12,
      "outputs": []
    },
    {
      "cell_type": "code",
      "source": [
        "n_tests = 100\n",
        "alpha = 5/100\n",
        "cmi_test = 0\n",
        "secmi2_test = 0\n",
        "secmi3_test = 0\n",
        "for n in range(n_tests):\n",
        "    X,Y,Z = sample_from_model1(n = 500)\n",
        "    cmi_test += conditional_permutation_test(X,Y,Z[:,0:2])[1] <= alpha\n",
        "    secmi2_test += conditional_permutation_test(X,Y,Z[:,0:2], stat=\"SECMI2\")[1] <= alpha\n",
        "    secmi3_test += conditional_permutation_test(X,Y,Z[:,0:2], stat=\"SECMI3\")[1] <= alpha\n",
        "print(\"Test 1 CMI test rejection rate: \" + str(cmi_test/n_tests))\n",
        "print(\"Test 1 secmi2 test rejection rate: \" + str(secmi2_test/n_tests))\n",
        "print(\"Test 1 secmi3 test rejection rate: \" + str(secmi3_test/n_tests))"
      ],
      "metadata": {
        "colab": {
          "base_uri": "https://localhost:8080/"
        },
        "id": "eT_ywfaIZ4Ek",
        "outputId": "ec82015e-d1d4-46cb-d296-a1396954978d"
      },
      "execution_count": 13,
      "outputs": [
        {
          "output_type": "stream",
          "name": "stdout",
          "text": [
            "Test 1 CMI test rejection rate: 0.88\n",
            "Test 1 secmi2 test rejection rate: 0.07\n",
            "Test 1 secmi3 test rejection rate: 0.85\n"
          ]
        }
      ]
    },
    {
      "cell_type": "code",
      "source": [
        "for n in range(n_tests):\n",
        "    X,Y,Z = sample_from_model1(n = 500)\n",
        "    cmi_test += conditional_permutation_test(X,Y,Z[:,1:3])[1] <= alpha\n",
        "    secmi2_test += conditional_permutation_test(X,Y,Z[:,1:3], stat=\"SECMI2\")[1] <= alpha\n",
        "    secmi3_test += conditional_permutation_test(X,Y,Z[:,1:3], stat=\"SECMI3\")[1] <= alpha\n",
        "print(\"Test 1 CMI test rejection rate: \" + str(cmi_test/n_tests))\n",
        "print(\"Test 1 secmi2 test rejection rate: \" + str(secmi2_test/n_tests))\n",
        "print(\"Test 1 secmi3 test rejection rate: \" + str(secmi3_test/n_tests))"
      ],
      "metadata": {
        "colab": {
          "base_uri": "https://localhost:8080/"
        },
        "id": "TkIDznXuhm6h",
        "outputId": "e3def089-4771-4a9d-e5fb-7d24dbe5c003"
      },
      "execution_count": 14,
      "outputs": [
        {
          "output_type": "stream",
          "name": "stdout",
          "text": [
            "Test 1 CMI test rejection rate: 1.77\n",
            "Test 1 secmi2 test rejection rate: 0.58\n",
            "Test 1 secmi3 test rejection rate: 1.72\n"
          ]
        }
      ]
    }
  ]
}