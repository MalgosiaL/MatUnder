{
 "cells": [
  {
   "cell_type": "code",
   "execution_count": 6,
   "metadata": {},
   "outputs": [],
   "source": [
    "from sklearn.metrics import mutual_info_score\n",
    "#from sklearn.feature_selection import chi2\n",
    "from scipy.stats import chi2_contingency\n",
    "from scipy.stats import chi2\n",
    "import numpy as np\n",
    "import matplotlib.pyplot as plt\n",
    "from scipy.stats import gaussian_kde, pearsonr\n",
    "import seaborn as sns\n",
    "import pandas as pd\n",
    "import copy"
   ]
  },
  {
   "cell_type": "markdown",
   "metadata": {},
   "source": [
    "# Mathematical Underpinnings - Lab 4"
   ]
  },
  {
   "cell_type": "markdown",
   "metadata": {},
   "source": [
    "Tests to verify hipoteses of independence (from Lab 4):"
   ]
  },
  {
   "cell_type": "code",
   "execution_count": 69,
   "metadata": {},
   "outputs": [],
   "source": [
    "def indep_test_asymptotic(X, Y, stat='mi'):\n",
    "\n",
    "    if stat == \"mi\":\n",
    "\n",
    "        stat_value = 2*len(X)*mutual_info_score(X, Y)\n",
    "\n",
    "    if stat == \"chi2\":\n",
    "\n",
    "        test_res = (chi2_contingency(pd.crosstab(X, Y)))\n",
    "        stat_value = test_res.statistic\n",
    "\n",
    "    df = (len(np.unique(X)) - 1)*(len(np.unique(Y)) - 1)\n",
    "\n",
    "    p_value = 1 - chi2.cdf(stat_value, df=df)\n",
    "\n",
    "    return stat_value, p_value\n",
    "\n",
    "def indep_test_permutation(X, Y, B, stat=\"mi\"):\n",
    "\n",
    "    stat_value = mutual_info_score(X, Y)\n",
    "\n",
    "    condition_p_value = 0\n",
    "    for b in range(B):\n",
    "        X_b = np.random.permutation(X)\n",
    "\n",
    "        stat_value_b = mutual_info_score(X_b, Y)\n",
    "\n",
    "        if stat_value <= stat_value_b:\n",
    "            condition_p_value += 1\n",
    "\n",
    "    p_value = (1 + condition_p_value)/(1 + B)\n",
    "\n",
    "    return 2*len(X)*stat_value, p_value"
   ]
  },
  {
   "cell_type": "markdown",
   "metadata": {},
   "source": [
    "## Task 1"
   ]
  },
  {
   "cell_type": "code",
   "execution_count": 8,
   "metadata": {},
   "outputs": [],
   "source": [
    "def calc_CMI(X, Y, Z):\n",
    "    cmi_value = 0\n",
    "    len_Z = len(Z)\n",
    "    for z in np.unique(Z):\n",
    "        cmi_value += mutual_info_score(X[Z==z], Y[Z==z]) * (len(Z[Z==z]) / len_Z)\n",
    "    return cmi_value"
   ]
  },
  {
   "cell_type": "markdown",
   "metadata": {},
   "source": [
    "### a)"
   ]
  },
  {
   "cell_type": "code",
   "execution_count": 12,
   "metadata": {},
   "outputs": [],
   "source": [
    "def conditional_indepedence_asymptotic_test(X, Y, Z):\n",
    "    stat_value = 2*len(X)*calc_CMI(X, Y, Z)\n",
    "    df = (len(np.unique(X)) - 1) * (len(np.unique(Y)) - 1) * len(np.unique(Z))\n",
    "    p_value = 1 - chi2.cdf(stat_value, df=df)\n",
    "    return stat_value, p_value"
   ]
  },
  {
   "cell_type": "markdown",
   "metadata": {},
   "source": [
    "### b)"
   ]
  },
  {
   "cell_type": "code",
   "execution_count": 13,
   "metadata": {},
   "outputs": [],
   "source": [
    "# CI test based on CMI and permutations\n",
    "def conditional_permutation(X, Z):\n",
    "    X = copy.deepcopy(X)\n",
    "    for z in np.unique(Z):\n",
    "        X_z = X[Z==z]\n",
    "        X_z = np.random.permutation(X_z)\n",
    "        X[Z==z] = X_z\n",
    "    return X\n",
    "\n",
    "def conditional_independence_permutation_test(X, Y, Z, B):\n",
    "    stat_value = calc_CMI(X, Y, Z)\n",
    "    condition_p_value = 0\n",
    "    for b in range(B):\n",
    "        X_b = conditional_permutation(X, Z)\n",
    "        stat_value_b = calc_CMI(X_b, Y, Z)\n",
    "        if stat_value <=stat_value_b:\n",
    "            condition_p_value += 1\n",
    "    p_value = (1 + condition_p_value)/(1+B)\n",
    "    return 2*len(X)*stat_value, p_value"
   ]
  },
  {
   "cell_type": "markdown",
   "metadata": {},
   "source": [
    "### c)"
   ]
  },
  {
   "cell_type": "markdown",
   "metadata": {},
   "source": [
    "conditionaly independent"
   ]
  },
  {
   "cell_type": "code",
   "execution_count": 18,
   "metadata": {},
   "outputs": [
    {
     "name": "stdout",
     "output_type": "stream",
     "text": [
      "Asymptotic test of conditional independence with mutual information\n",
      "Stat value: 177.54170567047782, p-value: 0.9994363580066558\n",
      "Permutation test of conditional independence\n",
      "Stat value: 177.54170567047782, p-value: 0.7254901960784313\n"
     ]
    }
   ],
   "source": [
    "n = 1000\n",
    "X = pd.cut(np.random.normal(0, 1, n), bins=10, labels=False)\n",
    "Y = pd.cut(np.random.normal(0, 2, n), bins=10, labels=False)\n",
    "Z = np.random.randint(0,3,n)\n",
    "\n",
    "print('Asymptotic test of conditional independence with mutual information')\n",
    "stat_value, p_value = conditional_indepedence_asymptotic_test(X, Y, Z)\n",
    "print(f'Stat value: {stat_value}, p-value: {p_value}')\n",
    "print('Permutation test of conditional independence')\n",
    "stat_value, p_value = conditional_independence_permutation_test(X, Y, Z, 50)\n",
    "print(f'Stat value: {stat_value}, p-value: {p_value}')"
   ]
  },
  {
   "cell_type": "markdown",
   "metadata": {},
   "source": [
    "conditionaly dependent"
   ]
  },
  {
   "cell_type": "code",
   "execution_count": 50,
   "metadata": {},
   "outputs": [
    {
     "name": "stdout",
     "output_type": "stream",
     "text": [
      "Asymptotic test of conditional independence with mutual information\n",
      "Stat value: 358.1106144190442, p-value: 1.1102230246251565e-16\n",
      "Permutation test of conditional independence\n",
      "Stat value: 358.1106144190442, p-value: 0.0196078431372549\n"
     ]
    }
   ],
   "source": [
    "n = 500\n",
    "X1, Y1 = np.random.multivariate_normal(np.zeros(2), np.array([[1, 0.5], [0.5, 1]]), n).T\n",
    "Z1 = np.ones(n)\n",
    "X2, Y2 = np.random.multivariate_normal(np.zeros(2), np.array([[1, -0.5], [-0.5, 1]]), n).T\n",
    "Z2 = np.ones(n) * 2\n",
    "X = pd.cut(np.concatenate([X1, X2]), bins=10, labels=False)\n",
    "Y = pd.cut(np.concatenate([Y1, Y2]), bins=10, labels=False)\n",
    "Z = np.concatenate([Z1, Z2])\n",
    "\n",
    "print('Asymptotic test of conditional independence with mutual information')\n",
    "stat_value, p_value = conditional_indepedence_asymptotic_test(X, Y, Z)\n",
    "print(f'Stat value: {stat_value}, p-value: {p_value}')\n",
    "print('Permutation test of conditional independence')\n",
    "stat_value, p_value = conditional_independence_permutation_test(X, Y, Z, 50)\n",
    "print(f'Stat value: {stat_value}, p-value: {p_value}')"
   ]
  },
  {
   "cell_type": "markdown",
   "metadata": {},
   "source": [
    "## Task 2"
   ]
  },
  {
   "cell_type": "code",
   "execution_count": 54,
   "metadata": {},
   "outputs": [],
   "source": [
    "def discretize(Q):\n",
    "    Q[Q < 0] = -1\n",
    "    Q[Q >= 0] = 1\n",
    "    return Q\n",
    "\n",
    "def sample_from_model1(n=1000):\n",
    "    Z = discretize(np.random.normal(0, 1, n))\n",
    "    X = discretize(np.random.normal(Z/2, 1))\n",
    "    Y = discretize(np.random.normal(Z/2, 1))\n",
    "    return X, Y, Z\n",
    "\n",
    "def sample_from_model2(n=1000):\n",
    "    X = discretize(np.random.normal(0, 1, n))\n",
    "    Z = discretize(np.random.normal(X/2, 1))\n",
    "    Y = discretize(np.random.normal(Z/2, 1))\n",
    "    return X, Y, Z\n",
    "\n",
    "def sample_from_model3(n=1000):\n",
    "    X = discretize(np.random.normal(0, 1, n))\n",
    "    Y = discretize(np.random.normal(0, 1, n))\n",
    "    Z = discretize(np.random.normal((X+Y)/2, 1))\n",
    "    return X, Y, Z"
   ]
  },
  {
   "cell_type": "markdown",
   "metadata": {},
   "source": [
    "### a)"
   ]
  },
  {
   "cell_type": "markdown",
   "metadata": {},
   "source": [
    "Model 1: X and Y dependent, but conditionally independent;\n",
    "\n",
    "\n",
    "Model 2: X and Y dependent, but conditionally independent;\n",
    "\n",
    "\n",
    "Model 3: X and Y independent, but conditionally dependent."
   ]
  },
  {
   "cell_type": "markdown",
   "metadata": {},
   "source": [
    "### b)"
   ]
  },
  {
   "cell_type": "code",
   "execution_count": 60,
   "metadata": {},
   "outputs": [
    {
     "name": "stdout",
     "output_type": "stream",
     "text": [
      "Mutual information: 0.011891689444400555\n",
      "Conditional mutual information: 0.00010055999396948617\n"
     ]
    }
   ],
   "source": [
    "#Model1\n",
    "X, Y, Z = sample_from_model1()\n",
    "print(f'Mutual information: {mutual_info_score(X, Y)}')\n",
    "print(f'Conditional mutual information: {calc_CMI(X, Y, Z)}')"
   ]
  },
  {
   "cell_type": "code",
   "execution_count": 64,
   "metadata": {},
   "outputs": [
    {
     "name": "stdout",
     "output_type": "stream",
     "text": [
      "Mutual information: 0.01317202982810034\n",
      "Conditional mutual information: 0.00011355964710381205\n"
     ]
    }
   ],
   "source": [
    "#Model2\n",
    "X, Y, Z = sample_from_model2()\n",
    "print(f'Mutual information: {mutual_info_score(X, Y)}')\n",
    "print(f'Conditional mutual information: {calc_CMI(X, Y, Z)}')"
   ]
  },
  {
   "cell_type": "code",
   "execution_count": 62,
   "metadata": {},
   "outputs": [
    {
     "name": "stdout",
     "output_type": "stream",
     "text": [
      "Mutual information: 8.10397914918215e-05\n",
      "Conditional mutual information: 0.010781476819218191\n"
     ]
    }
   ],
   "source": [
    "#Model3\n",
    "X, Y, Z = sample_from_model3()\n",
    "print(f'Mutual information: {mutual_info_score(X, Y)}')\n",
    "print(f'Conditional mutual information: {calc_CMI(X, Y, Z)}')"
   ]
  },
  {
   "cell_type": "markdown",
   "metadata": {},
   "source": [
    "### c)"
   ]
  },
  {
   "cell_type": "code",
   "execution_count": 73,
   "metadata": {},
   "outputs": [
    {
     "name": "stdout",
     "output_type": "stream",
     "text": [
      "Conditional independance test for Model 1 stat value: 1.171134703676019, p value 0.5567898764234305\n",
      "Independence test for Model 1 stat value: 23.385019517736083, p value 1.3260721574148704e-06\n",
      "Conditional independance test for Model 2 stat value: 6.593957004016993, p value 0.036994778348677704\n",
      "Independence test for Model 2 stat value: 18.606580325979948, p value 1.6066501696498925e-05\n",
      "Conditional independance test for Model 3 stat value: 12.51411399374058, p value 0.0019168788840249196\n",
      "Independence test for Model 3 stat value: 2.1287546009043368, p value 0.1445581656205558\n"
     ]
    }
   ],
   "source": [
    "X1, Y1, Z1 = sample_from_model1()\n",
    "X2, Y2, Z2 = sample_from_model2()\n",
    "X3, Y3, Z3 = sample_from_model3()\n",
    "# Model 1\n",
    "cta_stat_1, cta_p_1 = conditional_indepedence_asymptotic_test(X1, Y1, Z1)\n",
    "ctp_stat_1, ctp_p_1 = indep_test_asymptotic(X1, Y1)\n",
    "\n",
    "print(f\"Conditional independance test for Model 1 stat value: {cta_stat_1}, p value {cta_p_1}\")\n",
    "print(f\"Independence test for Model 1 stat value: {ctp_stat_1}, p value {ctp_p_1}\")\n",
    "\n",
    "# Model 2\n",
    "cta_stat_2, cta_p_2 = conditional_indepedence_asymptotic_test(X2, Y2, Z2)\n",
    "ctp_stat_2, ctp_p_2 = indep_test_asymptotic(X2, Y2)\n",
    "\n",
    "print(f\"Conditional independance test for Model 2 stat value: {cta_stat_2}, p value {cta_p_2}\")\n",
    "print(f\"Independence test for Model 2 stat value: {ctp_stat_2}, p value {ctp_p_2}\")\n",
    "\n",
    "# Model 1\n",
    "cta_stat_3, cta_p_3 = conditional_indepedence_asymptotic_test(X3, Y3, Z3)\n",
    "ctp_stat_3, ctp_p_3 = indep_test_asymptotic(X3, Y3)\n",
    "\n",
    "print(f\"Conditional independance test for Model 3 stat value: {cta_stat_3}, p value {cta_p_3}\")\n",
    "print(f\"Independence test for Model 3 stat value: {ctp_stat_3}, p value {ctp_p_3}\")"
   ]
  },
  {
   "cell_type": "code",
   "execution_count": null,
   "metadata": {},
   "outputs": [],
   "source": []
  }
 ],
 "metadata": {
  "kernelspec": {
   "display_name": "Python 3 (ipykernel)",
   "language": "python",
   "name": "python3"
  },
  "language_info": {
   "codemirror_mode": {
    "name": "ipython",
    "version": 3
   },
   "file_extension": ".py",
   "mimetype": "text/x-python",
   "name": "python",
   "nbconvert_exporter": "python",
   "pygments_lexer": "ipython3",
   "version": "3.9.12"
  }
 },
 "nbformat": 4,
 "nbformat_minor": 2
}
