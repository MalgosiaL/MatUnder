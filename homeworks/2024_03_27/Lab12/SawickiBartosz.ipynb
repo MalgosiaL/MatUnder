{
 "cells": [
  {
   "cell_type": "code",
   "execution_count": 1,
   "metadata": {
    "ExecuteTime": {
     "end_time": "2024-04-03T07:55:11.653026300Z",
     "start_time": "2024-04-03T07:55:11.307983300Z"
    }
   },
   "outputs": [],
   "source": [
    "from sklearn.metrics import mutual_info_score\n",
    "#from sklearn.feature_selection import chi2\n",
    "from scipy.stats import chi2_contingency\n",
    "from scipy.stats import chi2\n",
    "import numpy as np\n",
    "import matplotlib.pyplot as plt\n",
    "from scipy.stats import gaussian_kde, pearsonr\n",
    "import seaborn as sns\n",
    "import pandas as pd"
   ]
  },
  {
   "cell_type": "markdown",
   "metadata": {},
   "source": [
    "# Mathematical Underpinnings - Lab 5"
   ]
  },
  {
   "cell_type": "markdown",
   "metadata": {},
   "source": [
    "Tests to verify hipoteses of independence (from Lab 4):"
   ]
  },
  {
   "cell_type": "code",
   "execution_count": 2,
   "metadata": {
    "ExecuteTime": {
     "end_time": "2024-04-03T07:55:11.710941600Z",
     "start_time": "2024-04-03T07:55:11.661006200Z"
    }
   },
   "outputs": [],
   "source": [
    "def indep_test_asymptotic(X, Y, stat):\n",
    "\n",
    "    if stat == \"mi\":\n",
    "\n",
    "        stat_value = 2*len(X)*mutual_info_score(X, Y)\n",
    "\n",
    "    if stat == \"chi2\":\n",
    "\n",
    "        test_res = (chi2_contingency(pd.crosstab(X, Y)))\n",
    "        stat_value = test_res.statistic\n",
    "\n",
    "    df = (len(np.unique(X)) - 1)*(len(np.unique(Y)) - 1)\n",
    "\n",
    "    p_value = 1 - chi2.cdf(stat_value, df=df)\n",
    "\n",
    "    return stat_value, p_value\n",
    "\n",
    "def indep_test_permutation(X, Y, B, stat=\"mi\"):\n",
    "\n",
    "    stat_value = mutual_info_score(X, Y)\n",
    "\n",
    "    condition_p_value = 0\n",
    "    for b in range(B):\n",
    "        X_b = np.random.permutation(X)\n",
    "\n",
    "        stat_value_b = mutual_info_score(X_b, Y)\n",
    "\n",
    "        if stat_value <= stat_value_b:\n",
    "            condition_p_value += 1\n",
    "\n",
    "    p_value = (1 + condition_p_value)/(1 + B)\n",
    "\n",
    "    return 2*len(X)*stat_value, p_value"
   ]
  },
  {
   "cell_type": "markdown",
   "metadata": {},
   "source": [
    "## Task 1"
   ]
  },
  {
   "cell_type": "code",
   "execution_count": 3,
   "metadata": {
    "ExecuteTime": {
     "end_time": "2024-04-03T07:55:11.736872500Z",
     "start_time": "2024-04-03T07:55:11.689001100Z"
    }
   },
   "outputs": [],
   "source": [
    "# a function which computes CMI\n",
    "\n",
    "def cond_mutual_info_score(X, Y, Z):\n",
    "    z_values, z_counts = np.unique(Z, return_counts=True)\n",
    "    z_proba = z_counts / len(Z)\n",
    "    cond_mi_score = 0\n",
    "    for z_val, p_z in zip(z_values, z_proba):\n",
    "        selected_idx = (Z==z_val)\n",
    "        cond_mi_score += p_z * mutual_info_score(X[selected_idx], Y[selected_idx])\n",
    "    return cond_mi_score"
   ]
  },
  {
   "cell_type": "markdown",
   "metadata": {},
   "source": [
    "### a)"
   ]
  },
  {
   "cell_type": "code",
   "execution_count": 4,
   "metadata": {
    "ExecuteTime": {
     "end_time": "2024-04-03T07:55:11.796640500Z",
     "start_time": "2024-04-03T07:55:11.722910800Z"
    }
   },
   "outputs": [],
   "source": [
    "# CI test based on CMI and asymptotics\n",
    "def cond_indep_test_asymptotic(X, Y, Z):\n",
    "    stat_value = 2*len(X)*cond_mutual_info_score(X, Y, Z)\n",
    "\n",
    "    df = (len(np.unique(X)) - 1)*(len(np.unique(Y)) - 1) * len(np.unique(Z))\n",
    "\n",
    "    p_value = 1 - chi2.cdf(stat_value, df=df)\n",
    "\n",
    "    return stat_value, p_value"
   ]
  },
  {
   "cell_type": "markdown",
   "metadata": {},
   "source": [
    "### b)"
   ]
  },
  {
   "cell_type": "code",
   "execution_count": 5,
   "metadata": {
    "ExecuteTime": {
     "end_time": "2024-04-03T07:55:11.996287900Z",
     "start_time": "2024-04-03T07:55:11.807625800Z"
    }
   },
   "outputs": [],
   "source": [
    "# CI test based on CMI and permutations\n",
    "def conditional_permutauion(X, Z):\n",
    "    X_temp = X.copy()\n",
    "    z_values = np.unique(Z)\n",
    "    for z_val in z_values:\n",
    "        selected_idx = (Z==z_val)\n",
    "        X_temp[selected_idx] = np.random.permutation(X[selected_idx])\n",
    "    return X_temp\n",
    "\n",
    "def cond_indep_test_permutation(X, Y, Z, B):\n",
    "\n",
    "    stat_value = cond_mutual_info_score(X, Y, Z)\n",
    "\n",
    "    condition_p_value = 0\n",
    "    for b in range(B):\n",
    "        X_b = conditional_permutauion(X, Z)\n",
    "\n",
    "        stat_value_b = cond_mutual_info_score(X_b, Y, Z)\n",
    "\n",
    "        if stat_value <= stat_value_b:\n",
    "            condition_p_value += 1\n",
    "\n",
    "    p_value = (1 + condition_p_value)/(1 + B)\n",
    "\n",
    "    return 2*len(X)*stat_value, p_value"
   ]
  },
  {
   "cell_type": "markdown",
   "metadata": {},
   "source": [
    "### c)"
   ]
  },
  {
   "cell_type": "markdown",
   "metadata": {},
   "source": [
    "conditionaly independent"
   ]
  },
  {
   "cell_type": "code",
   "execution_count": 6,
   "metadata": {
    "ExecuteTime": {
     "end_time": "2024-04-03T07:55:12.169384300Z",
     "start_time": "2024-04-03T07:55:12.004094900Z"
    }
   },
   "outputs": [
    {
     "data": {
      "text/plain": "0.43425881313749787"
     },
     "execution_count": 6,
     "metadata": {},
     "output_type": "execute_result"
    }
   ],
   "source": [
    "x, y = np.random.normal(size=100), np.random.normal(10, 2, size=100)\n",
    "_, x_bins = np.histogram(x)\n",
    "_, y_bins = np.histogram(y)\n",
    "x, y = np.digitize(x, x_bins), np.digitize(y, y_bins)\n",
    "z = np.zeros(100)#np.random.randint(3, size=100)\n",
    "cond_mutual_info_score(x, y, z)"
   ]
  },
  {
   "cell_type": "code",
   "execution_count": 7,
   "metadata": {
    "ExecuteTime": {
     "end_time": "2024-04-03T07:55:12.216938300Z",
     "start_time": "2024-04-03T07:55:12.110590500Z"
    }
   },
   "outputs": [
    {
     "data": {
      "text/plain": "(86.85176262749957, 0.574399524266727)"
     },
     "execution_count": 7,
     "metadata": {},
     "output_type": "execute_result"
    }
   ],
   "source": [
    "cond_indep_test_asymptotic(x, y, z)"
   ]
  },
  {
   "cell_type": "code",
   "execution_count": 8,
   "metadata": {
    "ExecuteTime": {
     "end_time": "2024-04-03T07:55:12.924686100Z",
     "start_time": "2024-04-03T07:55:12.212949200Z"
    }
   },
   "outputs": [
    {
     "data": {
      "text/plain": "(86.85176262749957, 0.12871287128712872)"
     },
     "execution_count": 8,
     "metadata": {},
     "output_type": "execute_result"
    }
   ],
   "source": [
    "cond_indep_test_permutation(x, y, z, B=100)"
   ]
  },
  {
   "cell_type": "markdown",
   "metadata": {},
   "source": [
    "conditionaly dependent"
   ]
  },
  {
   "cell_type": "code",
   "execution_count": 16,
   "outputs": [],
   "source": [
    "X = np.random.normal(0, 1, 1000)\n",
    "X = np.where(X>=0, 1, 0)\n",
    "Z = np.random.normal(0, 1, 1000)\n",
    "Z = np.where(Z>=0, 1, 0)\n",
    "\n",
    "Y = np.logical_xor(X, Z).astype(int)"
   ],
   "metadata": {
    "collapsed": false,
    "ExecuteTime": {
     "end_time": "2024-04-03T09:24:07.020879300Z",
     "start_time": "2024-04-03T09:24:07.007704200Z"
    }
   }
  },
  {
   "cell_type": "code",
   "execution_count": 19,
   "outputs": [
    {
     "data": {
      "text/plain": "0.6915815065799037"
     },
     "execution_count": 19,
     "metadata": {},
     "output_type": "execute_result"
    }
   ],
   "source": [
    "cond_mutual_info_score(X, Y, Z)"
   ],
   "metadata": {
    "collapsed": false,
    "ExecuteTime": {
     "end_time": "2024-04-03T09:24:21.142143Z",
     "start_time": "2024-04-03T09:24:21.091280100Z"
    }
   }
  },
  {
   "cell_type": "code",
   "execution_count": 17,
   "outputs": [
    {
     "data": {
      "text/plain": "(1383.1630131598074, 0.0)"
     },
     "execution_count": 17,
     "metadata": {},
     "output_type": "execute_result"
    }
   ],
   "source": [
    "cond_indep_test_asymptotic(X, Y, Z)"
   ],
   "metadata": {
    "collapsed": false,
    "ExecuteTime": {
     "end_time": "2024-04-03T09:24:09.583340Z",
     "start_time": "2024-04-03T09:24:09.567718200Z"
    }
   }
  },
  {
   "cell_type": "code",
   "execution_count": 18,
   "outputs": [
    {
     "data": {
      "text/plain": "(1383.1630131598074, 0.009900990099009901)"
     },
     "execution_count": 18,
     "metadata": {},
     "output_type": "execute_result"
    }
   ],
   "source": [
    "cond_indep_test_permutation(X, Y, Z, B=100)"
   ],
   "metadata": {
    "collapsed": false,
    "ExecuteTime": {
     "end_time": "2024-04-03T09:24:12.133254900Z",
     "start_time": "2024-04-03T09:24:11.870167400Z"
    }
   }
  },
  {
   "cell_type": "markdown",
   "metadata": {},
   "source": [
    "## Task 2"
   ]
  },
  {
   "cell_type": "code",
   "execution_count": 12,
   "metadata": {
    "ExecuteTime": {
     "end_time": "2024-04-03T07:55:32.219052800Z",
     "start_time": "2024-04-03T07:55:32.206080Z"
    }
   },
   "outputs": [],
   "source": [
    "n=1000\n",
    "\n",
    "def sample_from_model1():\n",
    "    z = np.random.normal(size=n)\n",
    "    z_discrete = z > 2\n",
    "\n",
    "def sample_from_model2():\n",
    "    pass\n",
    "\n",
    "def sample_from_model3():\n",
    "    pass"
   ]
  },
  {
   "cell_type": "markdown",
   "metadata": {},
   "source": [
    "### a)"
   ]
  },
  {
   "cell_type": "markdown",
   "metadata": {},
   "source": [
    "answer:"
   ]
  },
  {
   "cell_type": "markdown",
   "metadata": {},
   "source": [
    "### b)"
   ]
  },
  {
   "cell_type": "code",
   "execution_count": 12,
   "metadata": {
    "ExecuteTime": {
     "end_time": "2024-04-03T07:55:32.280731500Z",
     "start_time": "2024-04-03T07:55:32.221046800Z"
    }
   },
   "outputs": [],
   "source": []
  },
  {
   "cell_type": "markdown",
   "metadata": {},
   "source": [
    "### c)"
   ]
  },
  {
   "cell_type": "code",
   "execution_count": 12,
   "metadata": {
    "ExecuteTime": {
     "end_time": "2024-04-03T07:55:32.283323800Z",
     "start_time": "2024-04-03T07:55:32.233850200Z"
    }
   },
   "outputs": [],
   "source": []
  }
 ],
 "metadata": {
  "kernelspec": {
   "display_name": "Python 3 (ipykernel)",
   "language": "python",
   "name": "python3"
  },
  "language_info": {
   "codemirror_mode": {
    "name": "ipython",
    "version": 3
   },
   "file_extension": ".py",
   "mimetype": "text/x-python",
   "name": "python",
   "nbconvert_exporter": "python",
   "pygments_lexer": "ipython3",
   "version": "3.11.5"
  }
 },
 "nbformat": 4,
 "nbformat_minor": 4
}
