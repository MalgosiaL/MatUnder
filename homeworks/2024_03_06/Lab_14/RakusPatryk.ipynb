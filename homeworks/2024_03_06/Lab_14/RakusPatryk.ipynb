{
 "cells": [
  {
   "cell_type": "markdown",
   "metadata": {},
   "source": [
    "# Mathematical Underpinnings - Lab 2"
   ]
  },
  {
   "cell_type": "code",
   "execution_count": 134,
   "metadata": {},
   "outputs": [],
   "source": [
    "import numpy as np\n",
    "import matplotlib.pyplot as plt\n",
    "import seaborn as sns\n",
    "from scipy.optimize import minimize\n",
    "from tqdm import tqdm"
   ]
  },
  {
   "cell_type": "markdown",
   "metadata": {},
   "source": [
    "## Task 1"
   ]
  },
  {
   "cell_type": "markdown",
   "metadata": {},
   "source": [
    "### a)\n",
    "\n",
    "$R(a,a^*) = \\mathbb{E} \\mathcal{L}(f(X), Y) = \\mathbb{E}(aX - Y)^2 = ...$,\n",
    "\n",
    "In our task we know $a^* = 1$."
   ]
  },
  {
   "cell_type": "code",
   "execution_count": 135,
   "metadata": {},
   "outputs": [],
   "source": [
    "def population_risk(a, sigma_eps):\n",
    "    return a**2 - 2*a + 1 + sigma_eps**2"
   ]
  },
  {
   "cell_type": "markdown",
   "metadata": {},
   "source": [
    "### b)"
   ]
  },
  {
   "cell_type": "code",
   "execution_count": 136,
   "metadata": {},
   "outputs": [],
   "source": [
    "# sampling\n",
    "n = 50\n",
    "sigma = 1\n",
    "\n",
    "X = np.random.normal(0, 1, size=n)\n",
    "eps = np.random.normal(0, sigma**2, size=n)\n",
    "y = X + eps"
   ]
  },
  {
   "cell_type": "markdown",
   "metadata": {},
   "source": [
    "Empirical risk: $\\frac{1}{n} \\sum_{i=1}^n (ax_i - y_i)^2$"
   ]
  },
  {
   "cell_type": "code",
   "execution_count": 137,
   "metadata": {},
   "outputs": [],
   "source": [
    "def empirical_risk(a, X, y):\n",
    "    return ((a*X - y)**2).mean()"
   ]
  },
  {
   "cell_type": "markdown",
   "metadata": {},
   "source": [
    "### c)"
   ]
  },
  {
   "cell_type": "markdown",
   "metadata": {},
   "source": [
    "#### population risk\n",
    "$a^2 - 2a + 1 - \\sigma^2$ where $\\sigma = 1$\n",
    "\n",
    "derivative is $2a - 2$, so argmin is 1 and min is 1\n",
    "\n",
    "#### empirical risk below"
   ]
  },
  {
   "cell_type": "code",
   "execution_count": 138,
   "metadata": {},
   "outputs": [
    {
     "name": "stdout",
     "output_type": "stream",
     "text": [
      "1\n",
      "0.7574816860390439\n"
     ]
    }
   ],
   "source": [
    "# code, plot\n",
    "print(population_risk(1, 1))\n",
    "print(empirical_risk(1, X, y))\n",
    "\n",
    "\n",
    "a_vals = np.linspace(0, 2, num=300)\n",
    "pop_risks = population_risk(a_vals, 1)\n",
    "\n",
    "emp_risks = [0] * len(a_vals)\n",
    "for i in range(len(a_vals)):\n",
    "    emp_risks[i] = empirical_risk(a_vals[i], X, y)"
   ]
  },
  {
   "cell_type": "code",
   "execution_count": 139,
   "metadata": {},
   "outputs": [
    {
     "name": "stdout",
     "output_type": "stream",
     "text": [
      "      fun: 0.755301117238286\n",
      " hess_inv: array([[0.55198967]])\n",
      "      jac: array([0.])\n",
      "  message: 'Optimization terminated successfully.'\n",
      "     nfev: 6\n",
      "      nit: 2\n",
      "     njev: 3\n",
      "   status: 0\n",
      "  success: True\n",
      "        x: array([0.95093572])\n"
     ]
    }
   ],
   "source": [
    "res = minimize(empirical_risk, 0, args=(X, y))\n",
    "print(res)\n",
    "min_val_emp = res.fun\n",
    "min_arg_emp = res.x"
   ]
  },
  {
   "cell_type": "code",
   "execution_count": 140,
   "metadata": {},
   "outputs": [
    {
     "name": "stdout",
     "output_type": "stream",
     "text": [
      "      fun: 1.0\n",
      " hess_inv: array([[0.5]])\n",
      "      jac: array([0.])\n",
      "  message: 'Optimization terminated successfully.'\n",
      "     nfev: 6\n",
      "      nit: 2\n",
      "     njev: 3\n",
      "   status: 0\n",
      "  success: True\n",
      "        x: array([0.99999999])\n"
     ]
    }
   ],
   "source": [
    "res = minimize(population_risk, 0, args=(1))\n",
    "print(res)\n",
    "min_val_pop = res.fun\n",
    "min_arg_pop = res.x"
   ]
  },
  {
   "cell_type": "code",
   "execution_count": 148,
   "metadata": {},
   "outputs": [
    {
     "data": {
      "image/png": "[encoded data removed]",
      "text/plain": [
       "<Figure size 432x288 with 1 Axes>"
      ]
     },
     "metadata": {
      "needs_background": "light"
     },
     "output_type": "display_data"
    }
   ],
   "source": [
    "sns.lineplot(x=a_vals, y=pop_risks, label='population risk')\n",
    "sns.lineplot(x=a_vals, y=emp_risks, label='empirical risk')\n",
    "plt.scatter(x=min_arg_emp, y=population_risk(min_arg_emp, 1), color='black', label='population risk for empirical argmin')\n",
    "plt.scatter(x=min_arg_emp, y=min_val_emp, color='orange', label='empirical min')\n",
    "plt.scatter(x=min_arg_pop, y=min_val_pop, color='blue', label='population min')\n",
    "plt.legend()\n",
    "plt.show()"
   ]
  },
  {
   "cell_type": "markdown",
   "metadata": {},
   "source": [
    "### d)"
   ]
  },
  {
   "cell_type": "markdown",
   "metadata": {},
   "source": [
    "Excess risk: $$E(\\hat a, a^*) =R(\\hat a, a^*) - \\textrm{inf}_{a \\in A_0} R(a, a^*)$$"
   ]
  },
  {
   "cell_type": "code",
   "execution_count": 142,
   "metadata": {},
   "outputs": [
    {
     "name": "stdout",
     "output_type": "stream",
     "text": [
      "[0.0024073]\n"
     ]
    }
   ],
   "source": [
    "# excess risk\n",
    "print(population_risk(min_arg_emp, 1) - min_val_pop)"
   ]
  },
  {
   "cell_type": "code",
   "execution_count": 143,
   "metadata": {},
   "outputs": [],
   "source": [
    "def get_excess_risk(n, sigma):\n",
    "    X = np.random.normal(0, 1, size=n)\n",
    "    eps = np.random.normal(0, sigma**2, size=n)\n",
    "    y = X + eps\n",
    "    \n",
    "    res = minimize(empirical_risk, 0, args=(X, y))\n",
    "    min_val_emp = res.fun\n",
    "    min_arg_emp = res.x\n",
    "\n",
    "    res = minimize(population_risk, 0, args=(sigma))\n",
    "    min_val_pop = res.fun\n",
    "    min_arg_pop = res.x\n",
    "    \n",
    "    return population_risk(min_arg_emp, sigma) - min_val_pop"
   ]
  },
  {
   "cell_type": "code",
   "execution_count": 144,
   "metadata": {},
   "outputs": [],
   "source": [
    "# simulations with fixed sample size\n",
    "L = 200\n",
    "n = 50\n",
    "sigma = 1\n",
    "\n",
    "ex_risks = [0] * L\n",
    "for i in range(L):\n",
    "    ex_risks[i] = get_excess_risk(n, sigma)"
   ]
  },
  {
   "cell_type": "code",
   "execution_count": 145,
   "metadata": {},
   "outputs": [
    {
     "data": {
      "text/plain": [
       "0.019411218390436427"
      ]
     },
     "execution_count": 145,
     "metadata": {},
     "output_type": "execute_result"
    }
   ],
   "source": [
    "np.mean(ex_risks)"
   ]
  },
  {
   "cell_type": "code",
   "execution_count": 146,
   "metadata": {},
   "outputs": [],
   "source": [
    "# simulations for various sample sizes\n",
    "L = 200\n",
    "n = 50\n",
    "sigma = 1\n",
    "\n",
    "ex_risks_all = []\n",
    "n_list = range(50, 601, 50)\n",
    "for n in n_list:\n",
    "    ex_risks = [0] * L\n",
    "    for i in range(L):\n",
    "        ex_risks[i] = get_excess_risk(n, sigma)\n",
    "    \n",
    "    ex_risks_all.append(ex_risks)\n",
    "ex_risks_all = np.array(ex_risks_all)"
   ]
  },
  {
   "cell_type": "code",
   "execution_count": 147,
   "metadata": {},
   "outputs": [
    {
     "data": {
      "image/png": "[encoded data removed]",
      "text/plain": [
       "<Figure size 360x360 with 1 Axes>"
      ]
     },
     "metadata": {
      "needs_background": "light"
     },
     "output_type": "display_data"
    }
   ],
   "source": [
    "# a nice plot visualising the results (how the unconditional excess risk changes with a sample size)\n",
    "sns.relplot(x=np.array([[n] * L for n in n_list]).flatten(), y=ex_risks_all.flatten(), kind='line')\n",
    "plt.xlabel('sample size')\n",
    "plt.ylabel('excess risk')\n",
    "plt.show()"
   ]
  }
 ],
 "metadata": {
  "kernelspec": {
   "display_name": "396",
   "language": "python",
   "name": "396"
  },
  "language_info": {
   "codemirror_mode": {
    "name": "ipython",
    "version": 3
   },
   "file_extension": ".py",
   "mimetype": "text/x-python",
   "name": "python",
   "nbconvert_exporter": "python",
   "pygments_lexer": "ipython3",
   "version": "3.9.6"
  }
 },
 "nbformat": 4,
 "nbformat_minor": 2
}
