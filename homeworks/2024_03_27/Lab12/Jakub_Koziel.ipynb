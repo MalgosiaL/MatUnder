{
 "cells": [
  {
   "cell_type": "code",
   "execution_count": 1,
   "metadata": {},
   "outputs": [],
   "source": [
    "from sklearn.metrics import mutual_info_score\n",
    "#from sklearn.feature_selection import chi2\n",
    "from scipy.stats import chi2_contingency\n",
    "from scipy.stats import chi2\n",
    "import numpy as np\n",
    "import matplotlib.pyplot as plt\n",
    "from scipy.stats import gaussian_kde, pearsonr\n",
    "import seaborn as sns\n",
    "import pandas as pd"
   ]
  },
  {
   "cell_type": "markdown",
   "metadata": {},
   "source": [
    "# Mathematical Underpinnings - Lab 5"
   ]
  },
  {
   "cell_type": "markdown",
   "source": [
    "w Task 1a można pominąć chi2"
   ],
   "metadata": {
    "collapsed": false
   }
  },
  {
   "cell_type": "markdown",
   "metadata": {},
   "source": [
    "Tests to verify hipoteses of independence (from Lab 4):"
   ]
  },
  {
   "cell_type": "code",
   "execution_count": 2,
   "metadata": {},
   "outputs": [],
   "source": [
    "def indep_test_asymptotic(X, Y, stat):\n",
    "    if stat == \"mi\":\n",
    "        stat_value = 2 * len(X) * mutual_info_score(X, Y)\n",
    "\n",
    "    if stat == \"chi2\":\n",
    "        test_res = (chi2_contingency(pd.crosstab(X, Y)))\n",
    "        stat_value = test_res.statistic\n",
    "\n",
    "    df = (len(np.unique(X)) - 1) * (len(np.unique(Y)) - 1)\n",
    "\n",
    "    p_value = 1 - chi2.cdf(stat_value, df=df)\n",
    "\n",
    "    return stat_value, p_value\n",
    "\n",
    "\n",
    "def indep_test_permutation(X, Y, B, stat=\"mi\"):\n",
    "    stat_value = mutual_info_score(X, Y)\n",
    "\n",
    "    condition_p_value = 0\n",
    "    for b in range(B):\n",
    "        X_b = np.random.permutation(X)\n",
    "\n",
    "        stat_value_b = mutual_info_score(X_b, Y)\n",
    "\n",
    "        if stat_value <= stat_value_b:\n",
    "            condition_p_value += 1\n",
    "\n",
    "    p_value = (1 + condition_p_value) / (1 + B)\n",
    "\n",
    "    return 2 * len(X) * stat_value, p_value"
   ]
  },
  {
   "cell_type": "markdown",
   "metadata": {},
   "source": [
    "## Task 1"
   ]
  },
  {
   "cell_type": "code",
   "execution_count": 3,
   "metadata": {},
   "outputs": [],
   "source": [
    "# a function which computes CMI\n",
    "\n"
   ]
  },
  {
   "cell_type": "markdown",
   "metadata": {},
   "source": [
    "### a)"
   ]
  },
  {
   "cell_type": "code",
   "execution_count": 4,
   "metadata": {},
   "outputs": [],
   "source": [
    "# CI test based on CMI and asymptotics\n",
    "\n",
    "def asymptotic_conditional_independence_test(data):\n",
    "    Z_unique = np.unique(data[:, 2])\n",
    "\n",
    "    cmi = 0\n",
    "\n",
    "    for z in Z_unique:\n",
    "        data_z = data[data[:, 2] == z,]\n",
    "        cmi += len(data_z) / len(data) * mutual_info_score(data_z[:, 0], data_z[:, 1])\n",
    "\n",
    "    stat_value = 2 * len(data) * cmi\n",
    "    df = (len(np.unique(data[:, 0])) - 1) * (len(np.unique(data[:, 1])) - 1) * len(np.unique(data[:, 2]))\n",
    "    p_value = chi2.sf(stat_value, df)\n",
    "    return stat_value, p_value"
   ]
  },
  {
   "cell_type": "markdown",
   "metadata": {},
   "source": [
    "### b)"
   ]
  },
  {
   "cell_type": "code",
   "execution_count": 5,
   "metadata": {},
   "outputs": [],
   "source": [
    "# CI test based on CMI and permutations\n",
    "\n",
    "def cond_indep_test_permutation(X, Y, Z, B, data, stat=\"mi\"):\n",
    "    Z_unique = np.unique(data[:, 2])\n",
    "\n",
    "    stat_value = 0\n",
    "\n",
    "    for z in Z_unique:\n",
    "        data_z = data[data[:, 2] == z,]\n",
    "        stat_value += len(data_z) / len(data) * mutual_info_score(data_z[:, 0], data_z[:, 1])\n",
    "\n",
    "    condition_p_value = 0\n",
    "    for b in range(B):\n",
    "\n",
    "        X_b = None\n",
    "\n",
    "        for z in np.unique(Z):\n",
    "            if X_b is None:\n",
    "                #print(len(data[:, 2] == z))\n",
    "                X_b = np.random.permutation(X[data[:, 2] == z])\n",
    "                X_b = np.reshape(X_b, (-1, 1))\n",
    "\n",
    "            else:\n",
    "                #print(np.random.permutation(X[data[:, 2] == z]))\n",
    "                X_update = np.reshape(np.random.permutation(X[data[:, 2] == z]), (-1, 1))\n",
    "                #print(X_update)\n",
    "                X_b = np.vstack([X_b, X_update])\n",
    "\n",
    "        stat_value_b = 0\n",
    "        for z in Z_unique:\n",
    "            data_z = data[data[:, 2] == z,]\n",
    "            stat_value_b += len(data_z) / len(data) * mutual_info_score(X_b[data[:, 2] == z].flatten(), data_z[:, 1])\n",
    "\n",
    "        if stat_value <= stat_value_b:\n",
    "            condition_p_value += 1\n",
    "\n",
    "    p_value = (1 + condition_p_value) / (1 + B)\n",
    "\n",
    "    return 2 * len(X) * stat_value, p_value"
   ]
  },
  {
   "cell_type": "markdown",
   "metadata": {},
   "source": [
    "### c)"
   ]
  },
  {
   "cell_type": "markdown",
   "metadata": {},
   "source": [
    "conditionaly independent"
   ]
  },
  {
   "cell_type": "code",
   "execution_count": 6,
   "outputs": [],
   "source": [
    "def binarize(x):\n",
    "    return np.where(x >= 0, 1, -1)"
   ],
   "metadata": {
    "collapsed": false
   }
  },
  {
   "cell_type": "code",
   "execution_count": 7,
   "metadata": {},
   "outputs": [],
   "source": [
    "n_samples = 1000\n",
    "z = binarize(np.random.standard_normal(n_samples))\n",
    "x = binarize(np.random.standard_normal(n_samples) + z / 2)\n",
    "y = binarize(np.random.standard_normal(n_samples) + z / 2)"
   ]
  },
  {
   "cell_type": "code",
   "execution_count": 8,
   "outputs": [],
   "source": [
    "data = np.hstack([np.reshape(x, (-1, 1)),np.reshape(y, (-1, 1)),np.reshape(z, (-1, 1))])"
   ],
   "metadata": {
    "collapsed": false
   }
  },
  {
   "cell_type": "code",
   "execution_count": 9,
   "outputs": [
    {
     "name": "stdout",
     "output_type": "stream",
     "text": [
      "Statistic value: 0.5110, P value: 0.7745\n"
     ]
    }
   ],
   "source": [
    "statistic_value, p_value = asymptotic_conditional_independence_test(data)\n",
    "print(f\"Statistic value: {statistic_value:.4f}, P value: {p_value:.4f}\")"
   ],
   "metadata": {
    "collapsed": false
   }
  },
  {
   "cell_type": "code",
   "execution_count": 10,
   "outputs": [
    {
     "name": "stdout",
     "output_type": "stream",
     "text": [
      "Statistic value: 0.5110, P value: 0.7502\n"
     ]
    }
   ],
   "source": [
    "statistic_value, p_value = cond_indep_test_permutation(x, y, z, 1000, data)\n",
    "print(f\"Statistic value: {statistic_value:.4f}, P value: {p_value:.4f}\")"
   ],
   "metadata": {
    "collapsed": false
   }
  },
  {
   "cell_type": "markdown",
   "metadata": {},
   "source": [
    "conditionaly dependent"
   ]
  },
  {
   "cell_type": "code",
   "execution_count": 11,
   "metadata": {},
   "outputs": [],
   "source": [
    "n_samples = 1000\n",
    "x = binarize(np.random.standard_normal(n_samples))\n",
    "y = binarize(np.random.standard_normal(n_samples))\n",
    "z = binarize(np.random.standard_normal(n_samples) + (x + y) / 2)"
   ]
  },
  {
   "cell_type": "code",
   "execution_count": 12,
   "outputs": [],
   "source": [
    "data = np.hstack([np.reshape(x, (-1, 1)),np.reshape(y, (-1, 1)),np.reshape(z, (-1, 1))])"
   ],
   "metadata": {
    "collapsed": false
   }
  },
  {
   "cell_type": "code",
   "execution_count": 13,
   "outputs": [
    {
     "name": "stdout",
     "output_type": "stream",
     "text": [
      "12.863847306779471 0.0016093520194517459\n"
     ]
    }
   ],
   "source": [
    "statistic_value, p_value = asymptotic_conditional_independence_test(data)\n",
    "print(statistic_value, p_value)"
   ],
   "metadata": {
    "collapsed": false
   }
  },
  {
   "cell_type": "code",
   "execution_count": 14,
   "outputs": [
    {
     "name": "stdout",
     "output_type": "stream",
     "text": [
      "12.863847306779471 0.000999000999000999\n"
     ]
    }
   ],
   "source": [
    "statistic_value, p_value = cond_indep_test_permutation(x, y, z, 1000, data)\n",
    "print(statistic_value, p_value)"
   ],
   "metadata": {
    "collapsed": false
   }
  },
  {
   "cell_type": "markdown",
   "metadata": {},
   "source": [
    "## Task 2"
   ]
  },
  {
   "cell_type": "code",
   "execution_count": 1,
   "metadata": {},
   "outputs": [],
   "source": [
    "def sample_from_model1():\n",
    "    pass\n",
    "\n",
    "\n",
    "def sample_from_model2():\n",
    "    pass\n",
    "\n",
    "\n",
    "def sample_from_model3():\n",
    "    pass"
   ]
  },
  {
   "cell_type": "markdown",
   "metadata": {},
   "source": [
    "### a)"
   ]
  },
  {
   "cell_type": "markdown",
   "metadata": {},
   "source": [
    "answer:"
   ]
  },
  {
   "cell_type": "markdown",
   "metadata": {},
   "source": [
    "### b)"
   ]
  },
  {
   "cell_type": "code",
   "execution_count": null,
   "metadata": {},
   "outputs": [],
   "source": []
  },
  {
   "cell_type": "markdown",
   "metadata": {},
   "source": [
    "### c)"
   ]
  },
  {
   "cell_type": "code",
   "execution_count": null,
   "metadata": {},
   "outputs": [],
   "source": []
  }
 ],
 "metadata": {
  "kernelspec": {
   "display_name": "dydaktyka",
   "language": "python",
   "name": "python3"
  },
  "language_info": {
   "codemirror_mode": {
    "name": "ipython",
    "version": 3
   },
   "file_extension": ".py",
   "mimetype": "text/x-python",
   "name": "python",
   "nbconvert_exporter": "python",
   "pygments_lexer": "ipython3",
   "version": "3.9.16"
  }
 },
 "nbformat": 4,
 "nbformat_minor": 2
}
