{
 "cells": [
  {
   "cell_type": "markdown",
   "metadata": {},
   "source": [
    "# Mathematical Underpinnings - Lab 3"
   ]
  },
  {
   "cell_type": "markdown",
   "metadata": {},
   "source": [
    "  - A set $S_n = \\{x_1, x_2, \\ldots, x_n\\}$ is **shattered** by a class $\\mathcal{C}$ (or $\\mathcal{C}$ shatters $S_n$) if $|\\{S_n \\cap c: c \\in \\mathcal{C}\\}| = 2^n$.\n",
    "\n",
    "  - **Shattering coefficient** of $\\mathcal{C}$ is a number such that $\\mathcal{S}_{\\mathcal{C}}(n) = \\max_{S_n} |\\{S_n \\cap c: c \\in \\mathcal{C}\\}|$.\n",
    "\n",
    "  - **Vapnik–Chervonenkis** dimension of $\\mathcal{C}$ is $VC(\\mathcal{C}) = \\min_n \\{n: \\mathcal{S}_{\\mathcal{C}}(n) < 2^n\\}$.\n",
    "\n",
    "*What to do if we have a class of functions $\\mathcal{F}$ instead of a set of subsets $\\mathcal{C}$*\n",
    "\n",
    "  - **Subgraph** of a function $f$ is defined as $\\textrm{Subgraph}(f) = \\{x: f(x) \\leq 0\\}$.\n",
    "\n",
    "  - Then $\\mathcal{C}$ from the above definitions is defined as $\\mathcal{C} = \\{\\textrm{Subgraph}(f): f \\in \\mathcal{F}\\}$\n",
    "\n",
    "  - **Example** for linear decision boundaries in $\\mathbb{R}^2$: \n",
    "  \n",
    "      A function: $f_b(x) = f_b(x^{1}, x^{2}) = b^{0} + b^{1}x^{1} + b^{2}x^{2}$\n",
    "      \n",
    "      A hyperplane (in $\\mathbb{R}^2$ a line): $f_b(x^{1}, x^{2}) = b^{0} + b^{1}x^{1} + b^{2}x^{2} = 0$\n",
    "\n",
    "      $\\textrm{Subgraph}(f_b) = \\{\\textrm{A half space bounded by a hyperplane given above}\\}$\n",
    "\n",
    "      A family of functions: $\\mathcal{F} = \\{f_b: b \\in \\mathbb{R}^3\\}$\n",
    "  \n",
    "      $\\mathcal{C} = \\{\\textrm{All half spaces separated by all hyperplanes}\\}$"
   ]
  },
  {
   "cell_type": "markdown",
   "metadata": {},
   "source": [
    "## Task 1\n",
    "\n",
    "### a)\n",
    "\n",
    "Facts from the lecture:\n",
    "\n",
    "  - If $\\mathcal{F}_{a,b} = \\{f: f(x) = a'x +b\\}$ (a family of linear functions in $\\mathbb{R}^d$), then $VC(\\mathcal{F}_{a,b}) \\leq d+2$.\n",
    "  - If $\\mathcal{F}_{a,b} = \\{f: f(x) = a'x +b\\}$ (a family of linear functions in $\\mathbb{R}^d$), then $VC(\\mathcal{F}_{a,b}) = d+2$.\n",
    "\n",
    "Of course the second implies the first fact, but both are given as proving inequality is simpler (and we repeat what exactly was on the lecture).\n",
    "\n",
    "\n",
    "*Pictures on paper*"
   ]
  },
  {
   "cell_type": "markdown",
   "metadata": {},
   "source": [
    "### b)"
   ]
  },
  {
   "cell_type": "code",
   "execution_count": 1,
   "metadata": {},
   "outputs": [],
   "source": [
    "from itertools import combinations\n",
    "\n",
    "import matplotlib.pyplot as plt\n",
    "import numpy as np\n",
    "import pandas as pd\n",
    "import scipy\n",
    "from sklearn.svm import SVC"
   ]
  },
  {
   "cell_type": "code",
   "execution_count": 2,
   "metadata": {},
   "outputs": [],
   "source": [
    "# function that checks if the set is shattered by a family F_{a,b}\n",
    "\n",
    "def is_shattered(S_n, plot=False):\n",
    "    n, d = S_n.shape\n",
    "    n_plots = 2**n - 2\n",
    "\n",
    "    if plot:\n",
    "        fig, axs = plt.subplots(2, n_plots, figsize=(n_plots, 2))\n",
    "        axs[0, 0].set_ylabel(\"True\")\n",
    "        axs[1, 0].set_ylabel(\"Pred\")\n",
    "    axi = 0\n",
    "    out = True\n",
    "    for i in range(1, n):\n",
    "        for c in combinations(range(n), i):\n",
    "            y = np.zeros(shape=n)\n",
    "            y[list(c)] = 1\n",
    "\n",
    "            svc = SVC(C=10000, shrinking=False, kernel=\"linear\", tol=1e-5)\n",
    "            svc.fit(S_n, y)\n",
    "            y_hat = svc.predict(S_n)\n",
    "\n",
    "            if plot:\n",
    "                axs[0, axi].scatter(S_n[:, 0], S_n[:, 1], c=y)\n",
    "                axs[0, axi].set_xticks([])\n",
    "                axs[0, axi].set_yticks([])\n",
    "\n",
    "                axs[1, axi].scatter(S_n[:, 0], S_n[:, 1], c=y_hat)\n",
    "                axs[1, axi].set_xticks([])\n",
    "                axs[1, axi].set_yticks([])\n",
    "\n",
    "            if not (y == y_hat).all():\n",
    "                out = False\n",
    "                if plot:\n",
    "                    for spine in axs[0, axi].spines.values():\n",
    "                        spine.set_edgecolor(\"red\")\n",
    "                    for spine in axs[1, axi].spines.values():\n",
    "                        spine.set_edgecolor(\"red\")\n",
    "            axi += 1\n",
    "    if plot:\n",
    "        if out:\n",
    "            plt.suptitle(\"The set IS scattered\")\n",
    "        else:\n",
    "            plt.suptitle(\"The set IS NOT scattered\")\n",
    "    return out"
   ]
  },
  {
   "cell_type": "code",
   "execution_count": 3,
   "metadata": {},
   "outputs": [
    {
     "data": {
      "text/plain": [
       "True"
      ]
     },
     "execution_count": 3,
     "metadata": {},
     "output_type": "execute_result"
    }
   ],
   "source": [
    "S_n = np.array([\n",
    "    [0, 0],\n",
    "    [1, 0],\n",
    "    [0, 1]\n",
    "])\n",
    "\n",
    "is_shattered(S_n)"
   ]
  },
  {
   "cell_type": "code",
   "execution_count": 4,
   "metadata": {},
   "outputs": [
    {
     "data": {
      "text/plain": [
       "False"
      ]
     },
     "execution_count": 4,
     "metadata": {},
     "output_type": "execute_result"
    }
   ],
   "source": [
    "S_n = np.array([\n",
    "    [0, 0],\n",
    "    [1, 0],\n",
    "    [2, 0]\n",
    "])\n",
    "# points on the same line -> the set is not shattered\n",
    "is_shattered(S_n)"
   ]
  },
  {
   "cell_type": "markdown",
   "metadata": {},
   "source": [
    "### c)"
   ]
  },
  {
   "cell_type": "code",
   "execution_count": 5,
   "metadata": {},
   "outputs": [],
   "source": [
    "# there should be 2^n = 2^4 = 16 pictures \n",
    "# (or 8 if you don't differentiate class swithes, \n",
    "# or 8-1=7 if you don't take into account the case in which all observations belongs to one class)"
   ]
  },
  {
   "cell_type": "code",
   "execution_count": 6,
   "metadata": {},
   "outputs": [
    {
     "data": {
      "image/png": "[encoded data removed]",
      "text/plain": [
       "<Figure size 200x200 with 4 Axes>"
      ]
     },
     "metadata": {},
     "output_type": "display_data"
    }
   ],
   "source": [
    "S_n = np.array([\n",
    "    [0, 0],\n",
    "    [1, 1],\n",
    "])\n",
    "\n",
    "is_shattered(S_n, plot=True);"
   ]
  },
  {
   "cell_type": "code",
   "execution_count": 7,
   "metadata": {},
   "outputs": [
    {
     "data": {
      "image/png": "[encoded data removed]",
      "text/plain": [
       "<Figure size 1400x200 with 28 Axes>"
      ]
     },
     "metadata": {},
     "output_type": "display_data"
    }
   ],
   "source": [
    "S_n = np.array([\n",
    "    [0, 0],\n",
    "    [0, 1],\n",
    "    [1, 0],\n",
    "    [1, 1],\n",
    "])\n",
    "# cases without linear separability are marked with red color\n",
    "is_shattered(S_n, plot=True);"
   ]
  },
  {
   "cell_type": "markdown",
   "metadata": {},
   "source": [
    "### d)"
   ]
  },
  {
   "cell_type": "code",
   "execution_count": null,
   "metadata": {},
   "outputs": [],
   "source": [
    "# code\n",
    "records = []\n",
    "\n",
    "N = 50\n",
    "for d in [2, 3, 4, 5, 6, 7, 8, 9, 10]:\n",
    "    n = 2\n",
    "    while True:\n",
    "        for i in range(N):\n",
    "            print(d, n, i)\n",
    "            S_n = scipy.stats.multivariate_normal.rvs(size=(n, d))\n",
    "            shattered = is_shattered(S_n)\n",
    "            if shattered:\n",
    "                break\n",
    "\n",
    "        if not shattered:\n",
    "            break\n",
    "        else:\n",
    "            n += 1\n",
    "\n",
    "    records.append({\n",
    "        \"d\": d,\n",
    "        \"VC\": n,\n",
    "    })"
   ]
  },
  {
   "cell_type": "code",
   "execution_count": 29,
   "metadata": {},
   "outputs": [
    {
     "data": {
      "text/html": [
       "<div>\n",
       "<style scoped>\n",
       "    .dataframe tbody tr th:only-of-type {\n",
       "        vertical-align: middle;\n",
       "    }\n",
       "\n",
       "    .dataframe tbody tr th {\n",
       "        vertical-align: top;\n",
       "    }\n",
       "\n",
       "    .dataframe thead th {\n",
       "        text-align: right;\n",
       "    }\n",
       "</style>\n",
       "<table border=\"1\" class=\"dataframe\">\n",
       "  <thead>\n",
       "    <tr style=\"text-align: right;\">\n",
       "      <th></th>\n",
       "      <th>d</th>\n",
       "      <th>VC</th>\n",
       "    </tr>\n",
       "  </thead>\n",
       "  <tbody>\n",
       "    <tr>\n",
       "      <th>0</th>\n",
       "      <td>2</td>\n",
       "      <td>4</td>\n",
       "    </tr>\n",
       "    <tr>\n",
       "      <th>1</th>\n",
       "      <td>3</td>\n",
       "      <td>5</td>\n",
       "    </tr>\n",
       "    <tr>\n",
       "      <th>2</th>\n",
       "      <td>4</td>\n",
       "      <td>6</td>\n",
       "    </tr>\n",
       "    <tr>\n",
       "      <th>3</th>\n",
       "      <td>5</td>\n",
       "      <td>7</td>\n",
       "    </tr>\n",
       "    <tr>\n",
       "      <th>4</th>\n",
       "      <td>6</td>\n",
       "      <td>8</td>\n",
       "    </tr>\n",
       "    <tr>\n",
       "      <th>5</th>\n",
       "      <td>7</td>\n",
       "      <td>9</td>\n",
       "    </tr>\n",
       "    <tr>\n",
       "      <th>6</th>\n",
       "      <td>8</td>\n",
       "      <td>10</td>\n",
       "    </tr>\n",
       "    <tr>\n",
       "      <th>7</th>\n",
       "      <td>9</td>\n",
       "      <td>11</td>\n",
       "    </tr>\n",
       "    <tr>\n",
       "      <th>8</th>\n",
       "      <td>10</td>\n",
       "      <td>12</td>\n",
       "    </tr>\n",
       "  </tbody>\n",
       "</table>\n",
       "</div>"
      ],
      "text/plain": [
       "    d  VC\n",
       "0   2   4\n",
       "1   3   5\n",
       "2   4   6\n",
       "3   5   7\n",
       "4   6   8\n",
       "5   7   9\n",
       "6   8  10\n",
       "7   9  11\n",
       "8  10  12"
      ]
     },
     "execution_count": 29,
     "metadata": {},
     "output_type": "execute_result"
    }
   ],
   "source": [
    "df = pd.DataFrame(records)\n",
    "df"
   ]
  },
  {
   "cell_type": "code",
   "execution_count": 32,
   "metadata": {},
   "outputs": [
    {
     "data": {
      "image/png": "[encoded data removed]",
      "text/plain": [
       "<Figure size 640x480 with 1 Axes>"
      ]
     },
     "metadata": {},
     "output_type": "display_data"
    }
   ],
   "source": [
    "df.plot.scatter(x=\"d\", y=\"VC\")\n",
    "plt.title(r\"Estimated Vapnik-Chervonenkis dimension for $d=2, \\ldots, 10$\")\n",
    "plt.show()"
   ]
  },
  {
   "cell_type": "markdown",
   "metadata": {},
   "source": [
    "The estimation results are consistent with the fact from the lecture:\n",
    "* $\\mathcal{F}_{a,b} = \\{f: f(x) = a'x +b\\}$ (a family of linear functions in $\\mathbb{R}^d$), then $VC(\\mathcal{F}_{a,b}) = d+2$"
   ]
  },
  {
   "cell_type": "markdown",
   "metadata": {},
   "source": [
    "### e)"
   ]
  },
  {
   "cell_type": "code",
   "execution_count": null,
   "metadata": {},
   "outputs": [],
   "source": [
    "# A hint: change a kernel in SVM"
   ]
  }
 ],
 "metadata": {
  "kernelspec": {
   "display_name": "dydaktyka",
   "language": "python",
   "name": "python3"
  },
  "language_info": {
   "codemirror_mode": {
    "name": "ipython",
    "version": 3
   },
   "file_extension": ".py",
   "mimetype": "text/x-python",
   "name": "python",
   "nbconvert_exporter": "python",
   "pygments_lexer": "ipython3",
   "version": "3.10.11"
  }
 },
 "nbformat": 4,
 "nbformat_minor": 2
}
