{
 "cells": [
  {
   "cell_type": "markdown",
   "metadata": {
    "id": "vdcvf6SSl1SE"
   },
   "source": [
    "# Mathematical Underpinnings - Lab 7"
   ]
  },
  {
   "cell_type": "code",
   "execution_count": 26,
   "metadata": {
    "id": "XMmRp3ftl1SH",
    "executionInfo": {
     "status": "ok",
     "timestamp": 1712853449748,
     "user_tz": -120,
     "elapsed": 241,
     "user": {
      "displayName": "Małgorzata Łazęcka",
      "userId": "03377429567880890658"
     }
    },
    "ExecuteTime": {
     "end_time": "2024-04-16T15:05:46.136763Z",
     "start_time": "2024-04-16T15:05:46.124765Z"
    }
   },
   "outputs": [],
   "source": [
    "import tensorflow as tf\n",
    "import keras\n",
    "import numpy as np\n",
    "import matplotlib.pyplot as plt\n",
    "\n",
    "from keras.layers import Input, Dense, Lambda, InputLayer, concatenate\n",
    "from keras.models import Model, Sequential\n",
    "from keras import backend as K\n",
    "from keras import metrics\n",
    "from keras.datasets import mnist\n",
    "from keras.utils import to_categorical\n",
    "\n",
    "from sklearn.model_selection import train_test_split"
   ]
  },
  {
   "cell_type": "markdown",
   "metadata": {
    "id": "Miu3nt5Xl1SI"
   },
   "source": [
    "## Task 1\n",
    "\n",
    "### a)"
   ]
  },
  {
   "cell_type": "code",
   "execution_count": 27,
   "metadata": {
    "id": "V6nuk5H1l1SJ",
    "executionInfo": {
     "status": "ok",
     "timestamp": 1712853452871,
     "user_tz": -120,
     "elapsed": 233,
     "user": {
      "displayName": "Małgorzata Łazęcka",
      "userId": "03377429567880890658"
     }
    },
    "ExecuteTime": {
     "end_time": "2024-04-16T15:05:46.280764Z",
     "start_time": "2024-04-16T15:05:46.269766Z"
    }
   },
   "outputs": [],
   "source": [
    "def KL_mult_normal(mu1, mu2, Sigma1, Sigma2):\n",
    "    # the formula is here: https://statproofbook.github.io/P/mvn-kl.html\n",
    "    return (np.dot(mu2-mu1, np.dot(np.linalg.inv(Sigma2), mu2 - mu1)) + np.sum(np.diag(np.dot(np.linalg.inv(Sigma2), Sigma1))) \\\n",
    "        - np.log(np.linalg.det(Sigma1)/np.linalg.det(Sigma2)) - mu1.shape[0])/2"
   ]
  },
  {
   "cell_type": "code",
   "execution_count": 28,
   "metadata": {
    "id": "FmFrBHkgl1SJ",
    "executionInfo": {
     "status": "ok",
     "timestamp": 1712854075786,
     "user_tz": -120,
     "elapsed": 249,
     "user": {
      "displayName": "Małgorzata Łazęcka",
      "userId": "03377429567880890658"
     }
    },
    "ExecuteTime": {
     "end_time": "2024-04-16T15:05:46.311763Z",
     "start_time": "2024-04-16T15:05:46.292773Z"
    }
   },
   "outputs": [],
   "source": [
    "def T_opt(x, mu1, mu2, Sigma1, Sigma2):\n",
    "    # compute log(p(x)/q(x)), where p and q are multivariate normal with parameters mu1, Sigma1 and mu2, Sigma2 respectively\n",
    "    # density of multivariate normal distribution is e.g. here: https://en.wikipedia.org/wiki/Multivariate_normal_distribution\n",
    "    res = np.zeros(x.shape[0])\n",
    "    for i in range(x.shape[0]):\n",
    "        ft = -np.log(np.linalg.det(Sigma1))/2 - np.dot(np.dot(np.linalg.inv(Sigma1), (x[i,:] - mu1)), x[i,:] - mu1)/2\n",
    "        st = np.log(np.linalg.det(Sigma2))/2 + np.dot(np.dot(np.linalg.inv(Sigma2), x[i,:] - mu2), x[i,:] - mu2)/2\n",
    "        res[i] = ft+st\n",
    "    return res"
   ]
  },
  {
   "cell_type": "markdown",
   "metadata": {
    "id": "dZas_vzRl1SJ"
   },
   "source": [
    "### b)"
   ]
  },
  {
   "cell_type": "code",
   "execution_count": 29,
   "metadata": {
    "id": "JlOhBgTql1SJ",
    "executionInfo": {
     "status": "ok",
     "timestamp": 1712854973100,
     "user_tz": -120,
     "elapsed": 324,
     "user": {
      "displayName": "Małgorzata Łazęcka",
      "userId": "03377429567880890658"
     }
    },
    "ExecuteTime": {
     "end_time": "2024-04-16T15:05:46.343763Z",
     "start_time": "2024-04-16T15:05:46.323764Z"
    }
   },
   "outputs": [],
   "source": [
    "# sample n = 10000 observations out of np.random.multivariate_normal(mu1, Sigma1, size=n)\n",
    "# and sample n = 10000 observations out of np.random.multivariate_normal(mu2, Sigma2, size=n)\n",
    "# then concatenate the two matrices (your final x is a matrix 2n x 5)\n",
    "# then create a vector y that will have n ones and n zeros (of size 2n)\n",
    "\n",
    "# np.random.seed(123)\n",
    "n = 10000\n",
    "mu1 = np.array([1, 1, 1, 0, 0])/5\n",
    "mu2 = np.array([0, 0, 1, 1, 1])/5\n",
    "Sigma1 = (np.eye(5)*9 + np.ones((5,5)))/10\n",
    "Sigma2 = 1.2*np.eye(5) - np.ones((5,5))/5\n",
    "x1 = np.random.multivariate_normal(mu1, Sigma1, size=n)\n",
    "x2 = np.random.multivariate_normal(mu2, Sigma2, size=n)\n",
    "x = np.concatenate((x1, x2), axis=0)\n",
    "y = np.concatenate((1.0*np.ones(n), 0.0*np.zeros(n)))\n"
   ]
  },
  {
   "cell_type": "code",
   "execution_count": 30,
   "metadata": {
    "id": "7YA9-af8l1SK",
    "executionInfo": {
     "status": "ok",
     "timestamp": 1712854973487,
     "user_tz": -120,
     "elapsed": 1,
     "user": {
      "displayName": "Małgorzata Łazęcka",
      "userId": "03377429567880890658"
     }
    },
    "ExecuteTime": {
     "end_time": "2024-04-16T15:05:46.359771Z",
     "start_time": "2024-04-16T15:05:46.352767Z"
    }
   },
   "outputs": [],
   "source": [
    "def DV_fun(y, t):\n",
    "    # y - an indicator [y[i]=1 if t[i] corresponds to x sampled from the distribution p, y[i]=0 otherwise]\n",
    "    # t a vector (of the same length as y) t = log(p(x)/q(x))\n",
    "    n1 = np.sum(y)\n",
    "    n2 = np.sum(1 - y)\n",
    "    return np.sum(t*y)/n1 - np.log(np.sum(np.exp(t)*(1-y))/n2)"
   ]
  },
  {
   "cell_type": "code",
   "execution_count": 31,
   "metadata": {
    "colab": {
     "base_uri": "https://localhost:8080/"
    },
    "id": "oLzlpPpCl1SK",
    "executionInfo": {
     "status": "ok",
     "timestamp": 1712854973846,
     "user_tz": -120,
     "elapsed": 2,
     "user": {
      "displayName": "Małgorzata Łazęcka",
      "userId": "03377429567880890658"
     }
    },
    "outputId": "2316dcf2-08e3-440a-fcdb-4c6d5ad59137",
    "ExecuteTime": {
     "end_time": "2024-04-16T15:05:46.391764Z",
     "start_time": "2024-04-16T15:05:46.381764Z"
    }
   },
   "outputs": [
    {
     "data": {
      "text/plain": "2.169075737042572"
     },
     "execution_count": 31,
     "metadata": {},
     "output_type": "execute_result"
    }
   ],
   "source": [
    "KL_mult_normal(mu1, mu2, Sigma1, Sigma2)"
   ]
  },
  {
   "cell_type": "code",
   "execution_count": 32,
   "metadata": {
    "colab": {
     "base_uri": "https://localhost:8080/"
    },
    "id": "30KzVxSHl1SK",
    "executionInfo": {
     "status": "ok",
     "timestamp": 1712854975917,
     "user_tz": -120,
     "elapsed": 1466,
     "user": {
      "displayName": "Małgorzata Łazęcka",
      "userId": "03377429567880890658"
     }
    },
    "outputId": "f3403ba3-6a06-4019-eb8c-1c7dfb0c069b",
    "ExecuteTime": {
     "end_time": "2024-04-16T15:05:50.862365Z",
     "start_time": "2024-04-16T15:05:46.401767Z"
    }
   },
   "outputs": [
    {
     "data": {
      "text/plain": "2.1529706283761714"
     },
     "execution_count": 32,
     "metadata": {},
     "output_type": "execute_result"
    }
   ],
   "source": [
    "DV_fun(y, T_opt(x, mu1, mu2, Sigma1, Sigma2))"
   ]
  },
  {
   "cell_type": "code",
   "source": [
    "# 18:56"
   ],
   "metadata": {
    "id": "JJaaQLzFDiBx",
    "ExecuteTime": {
     "end_time": "2024-04-16T15:05:50.878361Z",
     "start_time": "2024-04-16T15:05:50.864361Z"
    }
   },
   "execution_count": 33,
   "outputs": []
  },
  {
   "cell_type": "markdown",
   "metadata": {
    "id": "EplD4T6-l1SK"
   },
   "source": [
    "### c)"
   ]
  },
  {
   "cell_type": "code",
   "execution_count": 34,
   "metadata": {
    "id": "JHMxjpLHl1SK",
    "executionInfo": {
     "status": "ok",
     "timestamp": 1712855014398,
     "user_tz": -120,
     "elapsed": 244,
     "user": {
      "displayName": "Małgorzata Łazęcka",
      "userId": "03377429567880890658"
     }
    },
    "ExecuteTime": {
     "end_time": "2024-04-16T15:05:50.893361Z",
     "start_time": "2024-04-16T15:05:50.881362Z"
    }
   },
   "outputs": [],
   "source": [
    "def DV_loss(y_true, T_x):\n",
    "    n1 = tf.math.reduce_sum(y_true)\n",
    "    n2 = tf.math.reduce_sum(tf.subtract(tf.convert_to_tensor(1.0), y_true))\n",
    "    first_term = tf.math.reduce_sum(tf.math.multiply(T_x, y_true))/n1\n",
    "    second_term = tf.math.log(tf.math.reduce_sum(tf.math.multiply(tf.math.exp(T_x), tf.subtract(tf.convert_to_tensor(1.0), y_true)))/n2)\n",
    "    return -(first_term - second_term)"
   ]
  },
  {
   "cell_type": "markdown",
   "metadata": {
    "id": "-8IbmVHrl1SL"
   },
   "source": [
    "### d)"
   ]
  },
  {
   "cell_type": "code",
   "execution_count": 35,
   "metadata": {
    "id": "IuHcTFoHl1SL",
    "executionInfo": {
     "status": "ok",
     "timestamp": 1712855058228,
     "user_tz": -120,
     "elapsed": 246,
     "user": {
      "displayName": "Małgorzata Łazęcka",
      "userId": "03377429567880890658"
     }
    },
    "ExecuteTime": {
     "end_time": "2024-04-16T15:05:51.020362Z",
     "start_time": "2024-04-16T15:05:50.895364Z"
    }
   },
   "outputs": [],
   "source": [
    "model_inputs = keras.Input(shape=(5,))\n",
    "layer_out = Dense(64, activation='softplus')(model_inputs)\n",
    "#layer_out = Dense(125, activation='tanh')(layer_out)\n",
    "layer_out = Dense(64)(layer_out)\n",
    "model_outputs = Dense(1)(layer_out)\n",
    "model = keras.Model(model_inputs, model_outputs)\n",
    "\n",
    "optimizer = keras.optimizers.SGD(learning_rate=1e-2)\n",
    "es = tf.keras.callbacks.EarlyStopping(monitor='val_loss', mode='min', verbose=1, patience=5)\n",
    "model.compile(optimizer=optimizer, loss=DV_loss)"
   ]
  },
  {
   "cell_type": "code",
   "execution_count": 36,
   "metadata": {
    "id": "iQm5BL24l1SL",
    "executionInfo": {
     "status": "ok",
     "timestamp": 1712855060202,
     "user_tz": -120,
     "elapsed": 274,
     "user": {
      "displayName": "Małgorzata Łazęcka",
      "userId": "03377429567880890658"
     }
    },
    "ExecuteTime": {
     "end_time": "2024-04-16T15:05:51.036366Z",
     "start_time": "2024-04-16T15:05:51.022362Z"
    }
   },
   "outputs": [],
   "source": [
    "x_train, x_test, y_train, y_test = train_test_split(x, y, test_size=0.25)"
   ]
  },
  {
   "cell_type": "code",
   "execution_count": 37,
   "metadata": {
    "colab": {
     "base_uri": "https://localhost:8080/"
    },
    "id": "rQQjoLdHl1SM",
    "executionInfo": {
     "status": "ok",
     "timestamp": 1712855070601,
     "user_tz": -120,
     "elapsed": 9270,
     "user": {
      "displayName": "Małgorzata Łazęcka",
      "userId": "03377429567880890658"
     }
    },
    "outputId": "6db5205f-e5ea-4d07-ed53-b3945cd27870",
    "ExecuteTime": {
     "end_time": "2024-04-16T15:06:03.095800Z",
     "start_time": "2024-04-16T15:05:51.038362Z"
    }
   },
   "outputs": [
    {
     "name": "stdout",
     "output_type": "stream",
     "text": [
      "Epoch 1/100\n",
      "\u001B[1m15/15\u001B[0m \u001B[32m━━━━━━━━━━━━━━━━━━━━\u001B[0m\u001B[37m\u001B[0m \u001B[1m1s\u001B[0m 20ms/step - loss: 0.0142 - val_loss: -0.0153\n",
      "Epoch 2/100\n",
      "\u001B[1m15/15\u001B[0m \u001B[32m━━━━━━━━━━━━━━━━━━━━\u001B[0m\u001B[37m\u001B[0m \u001B[1m0s\u001B[0m 6ms/step - loss: -0.0197 - val_loss: -0.0388\n",
      "Epoch 3/100\n",
      "\u001B[1m15/15\u001B[0m \u001B[32m━━━━━━━━━━━━━━━━━━━━\u001B[0m\u001B[37m\u001B[0m \u001B[1m0s\u001B[0m 6ms/step - loss: -0.0448 - val_loss: -0.0526\n",
      "Epoch 4/100\n",
      "\u001B[1m15/15\u001B[0m \u001B[32m━━━━━━━━━━━━━━━━━━━━\u001B[0m\u001B[37m\u001B[0m \u001B[1m0s\u001B[0m 5ms/step - loss: -0.0545 - val_loss: -0.0609\n",
      "Epoch 5/100\n",
      "\u001B[1m15/15\u001B[0m \u001B[32m━━━━━━━━━━━━━━━━━━━━\u001B[0m\u001B[37m\u001B[0m \u001B[1m0s\u001B[0m 5ms/step - loss: -0.0642 - val_loss: -0.0658\n",
      "Epoch 6/100\n",
      "\u001B[1m15/15\u001B[0m \u001B[32m━━━━━━━━━━━━━━━━━━━━\u001B[0m\u001B[37m\u001B[0m \u001B[1m0s\u001B[0m 5ms/step - loss: -0.0676 - val_loss: -0.0690\n",
      "Epoch 7/100\n",
      "\u001B[1m15/15\u001B[0m \u001B[32m━━━━━━━━━━━━━━━━━━━━\u001B[0m\u001B[37m\u001B[0m \u001B[1m0s\u001B[0m 5ms/step - loss: -0.0718 - val_loss: -0.0714\n",
      "Epoch 8/100\n",
      "\u001B[1m15/15\u001B[0m \u001B[32m━━━━━━━━━━━━━━━━━━━━\u001B[0m\u001B[37m\u001B[0m \u001B[1m0s\u001B[0m 5ms/step - loss: -0.0716 - val_loss: -0.0731\n",
      "Epoch 9/100\n",
      "\u001B[1m15/15\u001B[0m \u001B[32m━━━━━━━━━━━━━━━━━━━━\u001B[0m\u001B[37m\u001B[0m \u001B[1m0s\u001B[0m 4ms/step - loss: -0.0733 - val_loss: -0.0745\n",
      "Epoch 10/100\n",
      "\u001B[1m15/15\u001B[0m \u001B[32m━━━━━━━━━━━━━━━━━━━━\u001B[0m\u001B[37m\u001B[0m \u001B[1m0s\u001B[0m 7ms/step - loss: -0.0692 - val_loss: -0.0758\n",
      "Epoch 11/100\n",
      "\u001B[1m15/15\u001B[0m \u001B[32m━━━━━━━━━━━━━━━━━━━━\u001B[0m\u001B[37m\u001B[0m \u001B[1m0s\u001B[0m 6ms/step - loss: -0.0762 - val_loss: -0.0770\n",
      "Epoch 12/100\n",
      "\u001B[1m15/15\u001B[0m \u001B[32m━━━━━━━━━━━━━━━━━━━━\u001B[0m\u001B[37m\u001B[0m \u001B[1m0s\u001B[0m 6ms/step - loss: -0.0785 - val_loss: -0.0782\n",
      "Epoch 13/100\n",
      "\u001B[1m15/15\u001B[0m \u001B[32m━━━━━━━━━━━━━━━━━━━━\u001B[0m\u001B[37m\u001B[0m \u001B[1m0s\u001B[0m 6ms/step - loss: -0.0673 - val_loss: -0.0794\n",
      "Epoch 14/100\n",
      "\u001B[1m15/15\u001B[0m \u001B[32m━━━━━━━━━━━━━━━━━━━━\u001B[0m\u001B[37m\u001B[0m \u001B[1m0s\u001B[0m 5ms/step - loss: -0.0738 - val_loss: -0.0805\n",
      "Epoch 15/100\n",
      "\u001B[1m15/15\u001B[0m \u001B[32m━━━━━━━━━━━━━━━━━━━━\u001B[0m\u001B[37m\u001B[0m \u001B[1m0s\u001B[0m 6ms/step - loss: -0.0759 - val_loss: -0.0817\n",
      "Epoch 16/100\n",
      "\u001B[1m15/15\u001B[0m \u001B[32m━━━━━━━━━━━━━━━━━━━━\u001B[0m\u001B[37m\u001B[0m \u001B[1m0s\u001B[0m 5ms/step - loss: -0.0841 - val_loss: -0.0830\n",
      "Epoch 17/100\n",
      "\u001B[1m15/15\u001B[0m \u001B[32m━━━━━━━━━━━━━━━━━━━━\u001B[0m\u001B[37m\u001B[0m \u001B[1m0s\u001B[0m 5ms/step - loss: -0.0912 - val_loss: -0.0842\n",
      "Epoch 18/100\n",
      "\u001B[1m15/15\u001B[0m \u001B[32m━━━━━━━━━━━━━━━━━━━━\u001B[0m\u001B[37m\u001B[0m \u001B[1m0s\u001B[0m 6ms/step - loss: -0.0878 - val_loss: -0.0854\n",
      "Epoch 19/100\n",
      "\u001B[1m15/15\u001B[0m \u001B[32m━━━━━━━━━━━━━━━━━━━━\u001B[0m\u001B[37m\u001B[0m \u001B[1m0s\u001B[0m 6ms/step - loss: -0.0912 - val_loss: -0.0866\n",
      "Epoch 20/100\n",
      "\u001B[1m15/15\u001B[0m \u001B[32m━━━━━━━━━━━━━━━━━━━━\u001B[0m\u001B[37m\u001B[0m \u001B[1m0s\u001B[0m 6ms/step - loss: -0.1022 - val_loss: -0.0878\n",
      "Epoch 21/100\n",
      "\u001B[1m15/15\u001B[0m \u001B[32m━━━━━━━━━━━━━━━━━━━━\u001B[0m\u001B[37m\u001B[0m \u001B[1m0s\u001B[0m 6ms/step - loss: -0.0942 - val_loss: -0.0889\n",
      "Epoch 22/100\n",
      "\u001B[1m15/15\u001B[0m \u001B[32m━━━━━━━━━━━━━━━━━━━━\u001B[0m\u001B[37m\u001B[0m \u001B[1m0s\u001B[0m 6ms/step - loss: -0.0964 - val_loss: -0.0902\n",
      "Epoch 23/100\n",
      "\u001B[1m15/15\u001B[0m \u001B[32m━━━━━━━━━━━━━━━━━━━━\u001B[0m\u001B[37m\u001B[0m \u001B[1m0s\u001B[0m 5ms/step - loss: -0.0960 - val_loss: -0.0915\n",
      "Epoch 24/100\n",
      "\u001B[1m15/15\u001B[0m \u001B[32m━━━━━━━━━━━━━━━━━━━━\u001B[0m\u001B[37m\u001B[0m \u001B[1m0s\u001B[0m 5ms/step - loss: -0.1030 - val_loss: -0.0928\n",
      "Epoch 25/100\n",
      "\u001B[1m15/15\u001B[0m \u001B[32m━━━━━━━━━━━━━━━━━━━━\u001B[0m\u001B[37m\u001B[0m \u001B[1m0s\u001B[0m 5ms/step - loss: -0.1077 - val_loss: -0.0941\n",
      "Epoch 26/100\n",
      "\u001B[1m15/15\u001B[0m \u001B[32m━━━━━━━━━━━━━━━━━━━━\u001B[0m\u001B[37m\u001B[0m \u001B[1m0s\u001B[0m 5ms/step - loss: -0.1000 - val_loss: -0.0954\n",
      "Epoch 27/100\n",
      "\u001B[1m15/15\u001B[0m \u001B[32m━━━━━━━━━━━━━━━━━━━━\u001B[0m\u001B[37m\u001B[0m \u001B[1m0s\u001B[0m 5ms/step - loss: -0.0958 - val_loss: -0.0968\n",
      "Epoch 28/100\n",
      "\u001B[1m15/15\u001B[0m \u001B[32m━━━━━━━━━━━━━━━━━━━━\u001B[0m\u001B[37m\u001B[0m \u001B[1m0s\u001B[0m 6ms/step - loss: -0.1100 - val_loss: -0.0982\n",
      "Epoch 29/100\n",
      "\u001B[1m15/15\u001B[0m \u001B[32m━━━━━━━━━━━━━━━━━━━━\u001B[0m\u001B[37m\u001B[0m \u001B[1m0s\u001B[0m 5ms/step - loss: -0.0976 - val_loss: -0.0997\n",
      "Epoch 30/100\n",
      "\u001B[1m15/15\u001B[0m \u001B[32m━━━━━━━━━━━━━━━━━━━━\u001B[0m\u001B[37m\u001B[0m \u001B[1m0s\u001B[0m 6ms/step - loss: -0.1073 - val_loss: -0.1012\n",
      "Epoch 31/100\n",
      "\u001B[1m15/15\u001B[0m \u001B[32m━━━━━━━━━━━━━━━━━━━━\u001B[0m\u001B[37m\u001B[0m \u001B[1m0s\u001B[0m 6ms/step - loss: -0.1004 - val_loss: -0.1026\n",
      "Epoch 32/100\n",
      "\u001B[1m15/15\u001B[0m \u001B[32m━━━━━━━━━━━━━━━━━━━━\u001B[0m\u001B[37m\u001B[0m \u001B[1m0s\u001B[0m 5ms/step - loss: -0.1051 - val_loss: -0.1043\n",
      "Epoch 33/100\n",
      "\u001B[1m15/15\u001B[0m \u001B[32m━━━━━━━━━━━━━━━━━━━━\u001B[0m\u001B[37m\u001B[0m \u001B[1m0s\u001B[0m 5ms/step - loss: -0.1093 - val_loss: -0.1058\n",
      "Epoch 34/100\n",
      "\u001B[1m15/15\u001B[0m \u001B[32m━━━━━━━━━━━━━━━━━━━━\u001B[0m\u001B[37m\u001B[0m \u001B[1m0s\u001B[0m 5ms/step - loss: -0.1210 - val_loss: -0.1076\n",
      "Epoch 35/100\n",
      "\u001B[1m15/15\u001B[0m \u001B[32m━━━━━━━━━━━━━━━━━━━━\u001B[0m\u001B[37m\u001B[0m \u001B[1m0s\u001B[0m 7ms/step - loss: -0.1181 - val_loss: -0.1093\n",
      "Epoch 36/100\n",
      "\u001B[1m15/15\u001B[0m \u001B[32m━━━━━━━━━━━━━━━━━━━━\u001B[0m\u001B[37m\u001B[0m \u001B[1m0s\u001B[0m 6ms/step - loss: -0.1135 - val_loss: -0.1111\n",
      "Epoch 37/100\n",
      "\u001B[1m15/15\u001B[0m \u001B[32m━━━━━━━━━━━━━━━━━━━━\u001B[0m\u001B[37m\u001B[0m \u001B[1m0s\u001B[0m 6ms/step - loss: -0.1111 - val_loss: -0.1131\n",
      "Epoch 38/100\n",
      "\u001B[1m15/15\u001B[0m \u001B[32m━━━━━━━━━━━━━━━━━━━━\u001B[0m\u001B[37m\u001B[0m \u001B[1m0s\u001B[0m 6ms/step - loss: -0.1271 - val_loss: -0.1151\n",
      "Epoch 39/100\n",
      "\u001B[1m15/15\u001B[0m \u001B[32m━━━━━━━━━━━━━━━━━━━━\u001B[0m\u001B[37m\u001B[0m \u001B[1m0s\u001B[0m 6ms/step - loss: -0.1219 - val_loss: -0.1172\n",
      "Epoch 40/100\n",
      "\u001B[1m15/15\u001B[0m \u001B[32m━━━━━━━━━━━━━━━━━━━━\u001B[0m\u001B[37m\u001B[0m \u001B[1m0s\u001B[0m 5ms/step - loss: -0.1220 - val_loss: -0.1193\n",
      "Epoch 41/100\n",
      "\u001B[1m15/15\u001B[0m \u001B[32m━━━━━━━━━━━━━━━━━━━━\u001B[0m\u001B[37m\u001B[0m \u001B[1m0s\u001B[0m 4ms/step - loss: -0.1142 - val_loss: -0.1215\n",
      "Epoch 42/100\n",
      "\u001B[1m15/15\u001B[0m \u001B[32m━━━━━━━━━━━━━━━━━━━━\u001B[0m\u001B[37m\u001B[0m \u001B[1m0s\u001B[0m 5ms/step - loss: -0.1351 - val_loss: -0.1239\n",
      "Epoch 43/100\n",
      "\u001B[1m15/15\u001B[0m \u001B[32m━━━━━━━━━━━━━━━━━━━━\u001B[0m\u001B[37m\u001B[0m \u001B[1m0s\u001B[0m 5ms/step - loss: -0.1381 - val_loss: -0.1264\n",
      "Epoch 44/100\n",
      "\u001B[1m15/15\u001B[0m \u001B[32m━━━━━━━━━━━━━━━━━━━━\u001B[0m\u001B[37m\u001B[0m \u001B[1m0s\u001B[0m 5ms/step - loss: -0.1334 - val_loss: -0.1291\n",
      "Epoch 45/100\n",
      "\u001B[1m15/15\u001B[0m \u001B[32m━━━━━━━━━━━━━━━━━━━━\u001B[0m\u001B[37m\u001B[0m \u001B[1m0s\u001B[0m 5ms/step - loss: -0.1288 - val_loss: -0.1320\n",
      "Epoch 46/100\n",
      "\u001B[1m15/15\u001B[0m \u001B[32m━━━━━━━━━━━━━━━━━━━━\u001B[0m\u001B[37m\u001B[0m \u001B[1m0s\u001B[0m 6ms/step - loss: -0.1276 - val_loss: -0.1349\n",
      "Epoch 47/100\n",
      "\u001B[1m15/15\u001B[0m \u001B[32m━━━━━━━━━━━━━━━━━━━━\u001B[0m\u001B[37m\u001B[0m \u001B[1m0s\u001B[0m 6ms/step - loss: -0.1416 - val_loss: -0.1381\n",
      "Epoch 48/100\n",
      "\u001B[1m15/15\u001B[0m \u001B[32m━━━━━━━━━━━━━━━━━━━━\u001B[0m\u001B[37m\u001B[0m \u001B[1m0s\u001B[0m 5ms/step - loss: -0.1458 - val_loss: -0.1416\n",
      "Epoch 49/100\n",
      "\u001B[1m15/15\u001B[0m \u001B[32m━━━━━━━━━━━━━━━━━━━━\u001B[0m\u001B[37m\u001B[0m \u001B[1m0s\u001B[0m 6ms/step - loss: -0.1479 - val_loss: -0.1452\n",
      "Epoch 50/100\n",
      "\u001B[1m15/15\u001B[0m \u001B[32m━━━━━━━━━━━━━━━━━━━━\u001B[0m\u001B[37m\u001B[0m \u001B[1m0s\u001B[0m 5ms/step - loss: -0.1449 - val_loss: -0.1492\n",
      "Epoch 51/100\n",
      "\u001B[1m15/15\u001B[0m \u001B[32m━━━━━━━━━━━━━━━━━━━━\u001B[0m\u001B[37m\u001B[0m \u001B[1m0s\u001B[0m 5ms/step - loss: -0.1472 - val_loss: -0.1533\n",
      "Epoch 52/100\n",
      "\u001B[1m15/15\u001B[0m \u001B[32m━━━━━━━━━━━━━━━━━━━━\u001B[0m\u001B[37m\u001B[0m \u001B[1m0s\u001B[0m 4ms/step - loss: -0.1609 - val_loss: -0.1578\n",
      "Epoch 53/100\n",
      "\u001B[1m15/15\u001B[0m \u001B[32m━━━━━━━━━━━━━━━━━━━━\u001B[0m\u001B[37m\u001B[0m \u001B[1m0s\u001B[0m 4ms/step - loss: -0.1497 - val_loss: -0.1627\n",
      "Epoch 54/100\n",
      "\u001B[1m15/15\u001B[0m \u001B[32m━━━━━━━━━━━━━━━━━━━━\u001B[0m\u001B[37m\u001B[0m \u001B[1m0s\u001B[0m 6ms/step - loss: -0.1685 - val_loss: -0.1681\n",
      "Epoch 55/100\n",
      "\u001B[1m15/15\u001B[0m \u001B[32m━━━━━━━━━━━━━━━━━━━━\u001B[0m\u001B[37m\u001B[0m \u001B[1m0s\u001B[0m 6ms/step - loss: -0.1713 - val_loss: -0.1740\n",
      "Epoch 56/100\n",
      "\u001B[1m15/15\u001B[0m \u001B[32m━━━━━━━━━━━━━━━━━━━━\u001B[0m\u001B[37m\u001B[0m \u001B[1m0s\u001B[0m 5ms/step - loss: -0.1840 - val_loss: -0.1801\n",
      "Epoch 57/100\n",
      "\u001B[1m15/15\u001B[0m \u001B[32m━━━━━━━━━━━━━━━━━━━━\u001B[0m\u001B[37m\u001B[0m \u001B[1m0s\u001B[0m 6ms/step - loss: -0.1825 - val_loss: -0.1871\n",
      "Epoch 58/100\n",
      "\u001B[1m15/15\u001B[0m \u001B[32m━━━━━━━━━━━━━━━━━━━━\u001B[0m\u001B[37m\u001B[0m \u001B[1m0s\u001B[0m 5ms/step - loss: -0.1845 - val_loss: -0.1945\n",
      "Epoch 59/100\n",
      "\u001B[1m15/15\u001B[0m \u001B[32m━━━━━━━━━━━━━━━━━━━━\u001B[0m\u001B[37m\u001B[0m \u001B[1m0s\u001B[0m 6ms/step - loss: -0.2061 - val_loss: -0.2028\n",
      "Epoch 60/100\n",
      "\u001B[1m15/15\u001B[0m \u001B[32m━━━━━━━━━━━━━━━━━━━━\u001B[0m\u001B[37m\u001B[0m \u001B[1m0s\u001B[0m 7ms/step - loss: -0.2122 - val_loss: -0.2118\n",
      "Epoch 61/100\n",
      "\u001B[1m15/15\u001B[0m \u001B[32m━━━━━━━━━━━━━━━━━━━━\u001B[0m\u001B[37m\u001B[0m \u001B[1m0s\u001B[0m 6ms/step - loss: -0.2212 - val_loss: -0.2221\n",
      "Epoch 62/100\n",
      "\u001B[1m15/15\u001B[0m \u001B[32m━━━━━━━━━━━━━━━━━━━━\u001B[0m\u001B[37m\u001B[0m \u001B[1m0s\u001B[0m 5ms/step - loss: -0.2281 - val_loss: -0.2334\n",
      "Epoch 63/100\n",
      "\u001B[1m15/15\u001B[0m \u001B[32m━━━━━━━━━━━━━━━━━━━━\u001B[0m\u001B[37m\u001B[0m \u001B[1m0s\u001B[0m 6ms/step - loss: -0.2431 - val_loss: -0.2460\n",
      "Epoch 64/100\n",
      "\u001B[1m15/15\u001B[0m \u001B[32m━━━━━━━━━━━━━━━━━━━━\u001B[0m\u001B[37m\u001B[0m \u001B[1m0s\u001B[0m 11ms/step - loss: -0.2601 - val_loss: -0.2599\n",
      "Epoch 65/100\n",
      "\u001B[1m15/15\u001B[0m \u001B[32m━━━━━━━━━━━━━━━━━━━━\u001B[0m\u001B[37m\u001B[0m \u001B[1m0s\u001B[0m 10ms/step - loss: -0.2593 - val_loss: -0.2759\n",
      "Epoch 66/100\n",
      "\u001B[1m15/15\u001B[0m \u001B[32m━━━━━━━━━━━━━━━━━━━━\u001B[0m\u001B[37m\u001B[0m \u001B[1m0s\u001B[0m 9ms/step - loss: -0.2889 - val_loss: -0.2939\n",
      "Epoch 67/100\n",
      "\u001B[1m15/15\u001B[0m \u001B[32m━━━━━━━━━━━━━━━━━━━━\u001B[0m\u001B[37m\u001B[0m \u001B[1m0s\u001B[0m 7ms/step - loss: -0.3062 - val_loss: -0.3142\n",
      "Epoch 68/100\n",
      "\u001B[1m15/15\u001B[0m \u001B[32m━━━━━━━━━━━━━━━━━━━━\u001B[0m\u001B[37m\u001B[0m \u001B[1m0s\u001B[0m 5ms/step - loss: -0.3408 - val_loss: -0.3375\n",
      "Epoch 69/100\n",
      "\u001B[1m15/15\u001B[0m \u001B[32m━━━━━━━━━━━━━━━━━━━━\u001B[0m\u001B[37m\u001B[0m \u001B[1m0s\u001B[0m 5ms/step - loss: -0.3503 - val_loss: -0.3641\n",
      "Epoch 70/100\n",
      "\u001B[1m15/15\u001B[0m \u001B[32m━━━━━━━━━━━━━━━━━━━━\u001B[0m\u001B[37m\u001B[0m \u001B[1m0s\u001B[0m 6ms/step - loss: -0.3642 - val_loss: -0.3946\n",
      "Epoch 71/100\n",
      "\u001B[1m15/15\u001B[0m \u001B[32m━━━━━━━━━━━━━━━━━━━━\u001B[0m\u001B[37m\u001B[0m \u001B[1m0s\u001B[0m 6ms/step - loss: -0.3931 - val_loss: -0.4300\n",
      "Epoch 72/100\n",
      "\u001B[1m15/15\u001B[0m \u001B[32m━━━━━━━━━━━━━━━━━━━━\u001B[0m\u001B[37m\u001B[0m \u001B[1m0s\u001B[0m 7ms/step - loss: -0.4371 - val_loss: -0.4708\n",
      "Epoch 73/100\n",
      "\u001B[1m15/15\u001B[0m \u001B[32m━━━━━━━━━━━━━━━━━━━━\u001B[0m\u001B[37m\u001B[0m \u001B[1m0s\u001B[0m 7ms/step - loss: -0.4934 - val_loss: -0.5189\n",
      "Epoch 74/100\n",
      "\u001B[1m15/15\u001B[0m \u001B[32m━━━━━━━━━━━━━━━━━━━━\u001B[0m\u001B[37m\u001B[0m \u001B[1m0s\u001B[0m 4ms/step - loss: -0.5384 - val_loss: -0.5753\n",
      "Epoch 75/100\n",
      "\u001B[1m15/15\u001B[0m \u001B[32m━━━━━━━━━━━━━━━━━━━━\u001B[0m\u001B[37m\u001B[0m \u001B[1m0s\u001B[0m 4ms/step - loss: -0.5964 - val_loss: -0.6418\n",
      "Epoch 76/100\n",
      "\u001B[1m15/15\u001B[0m \u001B[32m━━━━━━━━━━━━━━━━━━━━\u001B[0m\u001B[37m\u001B[0m \u001B[1m0s\u001B[0m 5ms/step - loss: -0.6601 - val_loss: -0.7199\n",
      "Epoch 77/100\n",
      "\u001B[1m15/15\u001B[0m \u001B[32m━━━━━━━━━━━━━━━━━━━━\u001B[0m\u001B[37m\u001B[0m \u001B[1m0s\u001B[0m 5ms/step - loss: -0.7284 - val_loss: -0.8124\n",
      "Epoch 78/100\n",
      "\u001B[1m15/15\u001B[0m \u001B[32m━━━━━━━━━━━━━━━━━━━━\u001B[0m\u001B[37m\u001B[0m \u001B[1m0s\u001B[0m 6ms/step - loss: -0.8409 - val_loss: -0.9227\n",
      "Epoch 79/100\n",
      "\u001B[1m15/15\u001B[0m \u001B[32m━━━━━━━━━━━━━━━━━━━━\u001B[0m\u001B[37m\u001B[0m \u001B[1m0s\u001B[0m 5ms/step - loss: -0.9248 - val_loss: -1.0532\n",
      "Epoch 80/100\n",
      "\u001B[1m15/15\u001B[0m \u001B[32m━━━━━━━━━━━━━━━━━━━━\u001B[0m\u001B[37m\u001B[0m \u001B[1m0s\u001B[0m 6ms/step - loss: -1.0274 - val_loss: -1.2053\n",
      "Epoch 81/100\n",
      "\u001B[1m15/15\u001B[0m \u001B[32m━━━━━━━━━━━━━━━━━━━━\u001B[0m\u001B[37m\u001B[0m \u001B[1m0s\u001B[0m 5ms/step - loss: -1.2072 - val_loss: -1.3790\n",
      "Epoch 82/100\n",
      "\u001B[1m15/15\u001B[0m \u001B[32m━━━━━━━━━━━━━━━━━━━━\u001B[0m\u001B[37m\u001B[0m \u001B[1m0s\u001B[0m 5ms/step - loss: -1.3960 - val_loss: -1.5703\n",
      "Epoch 83/100\n",
      "\u001B[1m15/15\u001B[0m \u001B[32m━━━━━━━━━━━━━━━━━━━━\u001B[0m\u001B[37m\u001B[0m \u001B[1m0s\u001B[0m 5ms/step - loss: -1.5953 - val_loss: -1.7646\n",
      "Epoch 84/100\n",
      "\u001B[1m15/15\u001B[0m \u001B[32m━━━━━━━━━━━━━━━━━━━━\u001B[0m\u001B[37m\u001B[0m \u001B[1m0s\u001B[0m 5ms/step - loss: -1.7777 - val_loss: -1.9287\n",
      "Epoch 85/100\n",
      "\u001B[1m15/15\u001B[0m \u001B[32m━━━━━━━━━━━━━━━━━━━━\u001B[0m\u001B[37m\u001B[0m \u001B[1m0s\u001B[0m 4ms/step - loss: -1.7876 - val_loss: -2.0834\n",
      "Epoch 86/100\n",
      "\u001B[1m15/15\u001B[0m \u001B[32m━━━━━━━━━━━━━━━━━━━━\u001B[0m\u001B[37m\u001B[0m \u001B[1m0s\u001B[0m 4ms/step - loss: -1.9391 - val_loss: -2.1811\n",
      "Epoch 87/100\n",
      "\u001B[1m15/15\u001B[0m \u001B[32m━━━━━━━━━━━━━━━━━━━━\u001B[0m\u001B[37m\u001B[0m \u001B[1m0s\u001B[0m 5ms/step - loss: -2.0608 - val_loss: -2.2385\n",
      "Epoch 88/100\n",
      "\u001B[1m15/15\u001B[0m \u001B[32m━━━━━━━━━━━━━━━━━━━━\u001B[0m\u001B[37m\u001B[0m \u001B[1m0s\u001B[0m 5ms/step - loss: -1.9500 - val_loss: -2.2935\n",
      "Epoch 89/100\n",
      "\u001B[1m15/15\u001B[0m \u001B[32m━━━━━━━━━━━━━━━━━━━━\u001B[0m\u001B[37m\u001B[0m \u001B[1m0s\u001B[0m 5ms/step - loss: -2.0218 - val_loss: -2.3287\n",
      "Epoch 90/100\n",
      "\u001B[1m15/15\u001B[0m \u001B[32m━━━━━━━━━━━━━━━━━━━━\u001B[0m\u001B[37m\u001B[0m \u001B[1m0s\u001B[0m 5ms/step - loss: -2.1273 - val_loss: -2.2652\n",
      "Epoch 91/100\n",
      "\u001B[1m15/15\u001B[0m \u001B[32m━━━━━━━━━━━━━━━━━━━━\u001B[0m\u001B[37m\u001B[0m \u001B[1m0s\u001B[0m 6ms/step - loss: -1.8820 - val_loss: -2.3511\n",
      "Epoch 92/100\n",
      "\u001B[1m15/15\u001B[0m \u001B[32m━━━━━━━━━━━━━━━━━━━━\u001B[0m\u001B[37m\u001B[0m \u001B[1m0s\u001B[0m 5ms/step - loss: -2.1197 - val_loss: -2.3519\n",
      "Epoch 93/100\n",
      "\u001B[1m15/15\u001B[0m \u001B[32m━━━━━━━━━━━━━━━━━━━━\u001B[0m\u001B[37m\u001B[0m \u001B[1m0s\u001B[0m 5ms/step - loss: -1.8163 - val_loss: -2.3388\n",
      "Epoch 94/100\n",
      "\u001B[1m15/15\u001B[0m \u001B[32m━━━━━━━━━━━━━━━━━━━━\u001B[0m\u001B[37m\u001B[0m \u001B[1m0s\u001B[0m 5ms/step - loss: -2.0245 - val_loss: -2.3437\n",
      "Epoch 95/100\n",
      "\u001B[1m15/15\u001B[0m \u001B[32m━━━━━━━━━━━━━━━━━━━━\u001B[0m\u001B[37m\u001B[0m \u001B[1m0s\u001B[0m 6ms/step - loss: -1.9551 - val_loss: -2.3498\n",
      "Epoch 96/100\n",
      "\u001B[1m15/15\u001B[0m \u001B[32m━━━━━━━━━━━━━━━━━━━━\u001B[0m\u001B[37m\u001B[0m \u001B[1m0s\u001B[0m 5ms/step - loss: -1.9873 - val_loss: -2.3723\n",
      "Epoch 97/100\n",
      "\u001B[1m15/15\u001B[0m \u001B[32m━━━━━━━━━━━━━━━━━━━━\u001B[0m\u001B[37m\u001B[0m \u001B[1m0s\u001B[0m 5ms/step - loss: -1.8913 - val_loss: -2.4061\n",
      "Epoch 98/100\n",
      "\u001B[1m15/15\u001B[0m \u001B[32m━━━━━━━━━━━━━━━━━━━━\u001B[0m\u001B[37m\u001B[0m \u001B[1m0s\u001B[0m 9ms/step - loss: -1.8848 - val_loss: -2.3992\n",
      "Epoch 99/100\n",
      "\u001B[1m15/15\u001B[0m \u001B[32m━━━━━━━━━━━━━━━━━━━━\u001B[0m\u001B[37m\u001B[0m \u001B[1m0s\u001B[0m 5ms/step - loss: -1.9356 - val_loss: -2.3968\n",
      "Epoch 100/100\n",
      "\u001B[1m15/15\u001B[0m \u001B[32m━━━━━━━━━━━━━━━━━━━━\u001B[0m\u001B[37m\u001B[0m \u001B[1m0s\u001B[0m 6ms/step - loss: -2.0433 - val_loss: -2.3818\n"
     ]
    }
   ],
   "source": [
    "hist = model.fit(x_train, y_train, epochs=100, batch_size=1024, validation_data=(x_test, y_test), callbacks=[es])"
   ]
  },
  {
   "cell_type": "code",
   "execution_count": 38,
   "metadata": {
    "colab": {
     "base_uri": "https://localhost:8080/",
     "height": 430
    },
    "id": "-kYo5KkJl1SM",
    "executionInfo": {
     "status": "ok",
     "timestamp": 1712855109256,
     "user_tz": -120,
     "elapsed": 527,
     "user": {
      "displayName": "Małgorzata Łazęcka",
      "userId": "03377429567880890658"
     }
    },
    "outputId": "0336d925-5210-4c98-874f-e7c1f10fc036",
    "ExecuteTime": {
     "end_time": "2024-04-16T15:06:03.312825Z",
     "start_time": "2024-04-16T15:06:03.097802Z"
    }
   },
   "outputs": [
    {
     "data": {
      "text/plain": "<Figure size 640x480 with 1 Axes>",
      "image/png": "[encoded data removed]"
     },
     "metadata": {},
     "output_type": "display_data"
    }
   ],
   "source": [
    "plt.plot(hist.history['loss'])\n",
    "plt.plot(hist.history['val_loss'])\n",
    "plt.show()"
   ]
  },
  {
   "cell_type": "markdown",
   "metadata": {
    "id": "zAUPAi7Yl1SM"
   },
   "source": [
    "### e)"
   ]
  },
  {
   "cell_type": "code",
   "execution_count": 39,
   "metadata": {
    "colab": {
     "base_uri": "https://localhost:8080/"
    },
    "id": "c3qnEYqql1SM",
    "executionInfo": {
     "status": "ok",
     "timestamp": 1712856439558,
     "user_tz": -120,
     "elapsed": 2870,
     "user": {
      "displayName": "Małgorzata Łazęcka",
      "userId": "03377429567880890658"
     }
    },
    "outputId": "139e2574-82de-4e35-9b99-6261c6259c24",
    "ExecuteTime": {
     "end_time": "2024-04-16T15:06:04.466910Z",
     "start_time": "2024-04-16T15:06:03.314803Z"
    }
   },
   "outputs": [
    {
     "name": "stdout",
     "output_type": "stream",
     "text": [
      "\u001B[1m625/625\u001B[0m \u001B[32m━━━━━━━━━━━━━━━━━━━━\u001B[0m\u001B[37m\u001B[0m \u001B[1m1s\u001B[0m 1ms/step\n"
     ]
    }
   ],
   "source": [
    "t_x_pred = model.predict(x)[:,0]"
   ]
  },
  {
   "cell_type": "code",
   "execution_count": 40,
   "metadata": {
    "id": "4wL4M8Eel1SN",
    "executionInfo": {
     "status": "ok",
     "timestamp": 1712856440933,
     "user_tz": -120,
     "elapsed": 1376,
     "user": {
      "displayName": "Małgorzata Łazęcka",
      "userId": "03377429567880890658"
     }
    },
    "ExecuteTime": {
     "end_time": "2024-04-16T15:06:08.422744Z",
     "start_time": "2024-04-16T15:06:04.467912Z"
    }
   },
   "outputs": [],
   "source": [
    "t_x_opt = T_opt(x, mu1, mu2, Sigma1, Sigma2)"
   ]
  },
  {
   "cell_type": "code",
   "execution_count": 41,
   "metadata": {
    "colab": {
     "base_uri": "https://localhost:8080/",
     "height": 430
    },
    "id": "LF1e6FdWl1SN",
    "executionInfo": {
     "status": "ok",
     "timestamp": 1712856441502,
     "user_tz": -120,
     "elapsed": 571,
     "user": {
      "displayName": "Małgorzata Łazęcka",
      "userId": "03377429567880890658"
     }
    },
    "outputId": "1f24a869-9745-40e5-d03a-a2d69d3ecf77",
    "ExecuteTime": {
     "end_time": "2024-04-16T15:06:08.801246Z",
     "start_time": "2024-04-16T15:06:08.427732Z"
    }
   },
   "outputs": [
    {
     "data": {
      "text/plain": "<Figure size 640x480 with 1 Axes>",
      "image/png": "[encoded data removed]"
     },
     "metadata": {},
     "output_type": "display_data"
    }
   ],
   "source": [
    "plt.plot(t_x_opt)\n",
    "plt.plot(t_x_pred)\n",
    "\n",
    "plt.show()"
   ]
  },
  {
   "cell_type": "code",
   "source": [
    "plt.plot(t_x_pred[y==1], t_x_opt[y==1], \"o\", alpha=0.2, markersize=2)\n",
    "plt.plot(t_x_pred[y==0], t_x_opt[y==0], \"o\", alpha=0.2, markersize=2)\n",
    "plt.grid()\n",
    "plt.show()"
   ],
   "metadata": {
    "colab": {
     "base_uri": "https://localhost:8080/",
     "height": 430
    },
    "id": "AAATWc1oM0ii",
    "executionInfo": {
     "status": "ok",
     "timestamp": 1712856454682,
     "user_tz": -120,
     "elapsed": 1782,
     "user": {
      "displayName": "Małgorzata Łazęcka",
      "userId": "03377429567880890658"
     }
    },
    "outputId": "6faaa07e-7954-49df-e123-24e2790a59a3",
    "ExecuteTime": {
     "end_time": "2024-04-16T15:06:09.145247Z",
     "start_time": "2024-04-16T15:06:08.804248Z"
    }
   },
   "execution_count": 42,
   "outputs": [
    {
     "data": {
      "text/plain": "<Figure size 640x480 with 1 Axes>",
      "image/png": "[encoded data removed]"
     },
     "metadata": {},
     "output_type": "display_data"
    }
   ]
  },
  {
   "cell_type": "code",
   "execution_count": 43,
   "metadata": {
    "colab": {
     "base_uri": "https://localhost:8080/",
     "height": 430
    },
    "id": "FlmICDCal1SN",
    "executionInfo": {
     "status": "ok",
     "timestamp": 1712856103173,
     "user_tz": -120,
     "elapsed": 567,
     "user": {
      "displayName": "Małgorzata Łazęcka",
      "userId": "03377429567880890658"
     }
    },
    "outputId": "aded465b-008f-49a8-cbbb-7174e54d52c6",
    "ExecuteTime": {
     "end_time": "2024-04-16T15:06:09.492248Z",
     "start_time": "2024-04-16T15:06:09.148248Z"
    }
   },
   "outputs": [
    {
     "data": {
      "text/plain": "<Figure size 640x480 with 1 Axes>",
      "image/png": "[encoded data removed]"
     },
     "metadata": {},
     "output_type": "display_data"
    }
   ],
   "source": [
    "plt.plot(t_x_pred, t_x_opt, \"o\")\n",
    "plt.show()"
   ]
  },
  {
   "cell_type": "code",
   "execution_count": 44,
   "metadata": {
    "colab": {
     "base_uri": "https://localhost:8080/"
    },
    "id": "qfHonEMZl1SN",
    "executionInfo": {
     "status": "ok",
     "timestamp": 1712856200274,
     "user_tz": -120,
     "elapsed": 240,
     "user": {
      "displayName": "Małgorzata Łazęcka",
      "userId": "03377429567880890658"
     }
    },
    "outputId": "483251e3-87a6-4940-d869-8e0ffec67c77",
    "ExecuteTime": {
     "end_time": "2024-04-16T15:06:09.508247Z",
     "start_time": "2024-04-16T15:06:09.495247Z"
    }
   },
   "outputs": [
    {
     "data": {
      "text/plain": "2.0410633233999294"
     },
     "execution_count": 44,
     "metadata": {},
     "output_type": "execute_result"
    }
   ],
   "source": [
    "DV_fun(y, t_x_pred)"
   ]
  },
  {
   "cell_type": "code",
   "execution_count": 45,
   "metadata": {
    "colab": {
     "base_uri": "https://localhost:8080/"
    },
    "id": "Y98oUKf9l1SO",
    "executionInfo": {
     "status": "ok",
     "timestamp": 1712856219108,
     "user_tz": -120,
     "elapsed": 342,
     "user": {
      "displayName": "Małgorzata Łazęcka",
      "userId": "03377429567880890658"
     }
    },
    "outputId": "77c2aa33-a0c0-4264-cd6c-0f5bfeb0949f",
    "ExecuteTime": {
     "end_time": "2024-04-16T15:06:09.524248Z",
     "start_time": "2024-04-16T15:06:09.511246Z"
    }
   },
   "outputs": [
    {
     "data": {
      "text/plain": "2.1529706283761714"
     },
     "execution_count": 45,
     "metadata": {},
     "output_type": "execute_result"
    }
   ],
   "source": [
    "DV_fun(y, t_x_opt)"
   ]
  },
  {
   "cell_type": "code",
   "execution_count": 46,
   "metadata": {
    "id": "ee2YQL7ol1SO",
    "executionInfo": {
     "status": "ok",
     "timestamp": 1712856250051,
     "user_tz": -120,
     "elapsed": 419,
     "user": {
      "displayName": "Małgorzata Łazęcka",
      "userId": "03377429567880890658"
     }
    },
    "ExecuteTime": {
     "end_time": "2024-04-16T15:06:09.556246Z",
     "start_time": "2024-04-16T15:06:09.527249Z"
    }
   },
   "outputs": [],
   "source": [
    "# new data\n",
    "n_new = 10000\n",
    "x1 = np.random.multivariate_normal(mu1, Sigma1, size=n_new)\n",
    "x2 = np.random.multivariate_normal(mu2, Sigma2, size=n_new)\n",
    "x_new = np.concatenate((x1, x2), axis=0)\n",
    "y_new = np.concatenate((1.0*np.ones(n_new), 0.0*np.zeros(n_new)))"
   ]
  },
  {
   "cell_type": "code",
   "source": [
    "t_x_pred = model.predict(x_new)\n",
    "t_x_pred = t_x_pred[:,0]"
   ],
   "metadata": {
    "colab": {
     "base_uri": "https://localhost:8080/"
    },
    "id": "MvCCZFdwMDx4",
    "executionInfo": {
     "status": "ok",
     "timestamp": 1712856264535,
     "user_tz": -120,
     "elapsed": 2158,
     "user": {
      "displayName": "Małgorzata Łazęcka",
      "userId": "03377429567880890658"
     }
    },
    "outputId": "6e6f5d09-e950-4e35-81cd-bba466a66354",
    "ExecuteTime": {
     "end_time": "2024-04-16T15:06:10.958248Z",
     "start_time": "2024-04-16T15:06:09.559247Z"
    }
   },
   "execution_count": 47,
   "outputs": [
    {
     "name": "stdout",
     "output_type": "stream",
     "text": [
      "\u001B[1m625/625\u001B[0m \u001B[32m━━━━━━━━━━━━━━━━━━━━\u001B[0m\u001B[37m\u001B[0m \u001B[1m1s\u001B[0m 1ms/step\n"
     ]
    }
   ]
  },
  {
   "cell_type": "code",
   "source": [
    "t_x_opt = T_opt(x_new, mu1, mu2, Sigma1, Sigma2)"
   ],
   "metadata": {
    "id": "NU_cfpmGMK1c",
    "executionInfo": {
     "status": "ok",
     "timestamp": 1712856289190,
     "user_tz": -120,
     "elapsed": 2919,
     "user": {
      "displayName": "Małgorzata Łazęcka",
      "userId": "03377429567880890658"
     }
    },
    "ExecuteTime": {
     "end_time": "2024-04-16T15:06:14.779942Z",
     "start_time": "2024-04-16T15:06:10.960248Z"
    }
   },
   "execution_count": 48,
   "outputs": []
  },
  {
   "cell_type": "code",
   "source": [
    "DV_fun(y_new, t_x_pred)"
   ],
   "metadata": {
    "colab": {
     "base_uri": "https://localhost:8080/"
    },
    "id": "WKuFMLnxMPVo",
    "executionInfo": {
     "status": "ok",
     "timestamp": 1712856300549,
     "user_tz": -120,
     "elapsed": 279,
     "user": {
      "displayName": "Małgorzata Łazęcka",
      "userId": "03377429567880890658"
     }
    },
    "outputId": "30ffd799-967b-47ae-bc6a-a6e24fc8c4e3",
    "ExecuteTime": {
     "end_time": "2024-04-16T15:06:14.795915Z",
     "start_time": "2024-04-16T15:06:14.781913Z"
    }
   },
   "execution_count": 49,
   "outputs": [
    {
     "data": {
      "text/plain": "2.1450487183809717"
     },
     "execution_count": 49,
     "metadata": {},
     "output_type": "execute_result"
    }
   ]
  },
  {
   "cell_type": "code",
   "source": [
    "DV_fun(y_new, t_x_opt)"
   ],
   "metadata": {
    "colab": {
     "base_uri": "https://localhost:8080/"
    },
    "id": "5quaMnF2MSxF",
    "executionInfo": {
     "status": "ok",
     "timestamp": 1712856315083,
     "user_tz": -120,
     "elapsed": 237,
     "user": {
      "displayName": "Małgorzata Łazęcka",
      "userId": "03377429567880890658"
     }
    },
    "outputId": "cd0d5489-190c-4c5a-c3c7-c8cae09796c0",
    "ExecuteTime": {
     "end_time": "2024-04-16T15:06:14.811913Z",
     "start_time": "2024-04-16T15:06:14.797912Z"
    }
   },
   "execution_count": 50,
   "outputs": [
    {
     "data": {
      "text/plain": "2.3200929107822943"
     },
     "execution_count": 50,
     "metadata": {},
     "output_type": "execute_result"
    }
   ]
  },
  {
   "cell_type": "markdown",
   "metadata": {
    "id": "iSIk6efpl1SO"
   },
   "source": [
    "### f)"
   ]
  },
  {
   "cell_type": "code",
   "execution_count": 51,
   "metadata": {
    "id": "_ZF06PZUl1SO",
    "ExecuteTime": {
     "end_time": "2024-04-16T15:06:14.826911Z",
     "start_time": "2024-04-16T15:06:14.812912Z"
    }
   },
   "outputs": [],
   "source": [
    "def NWJ_loss(y_true, T_x):\n",
    "    first_term = tf.math.reduce_mean(T_x[y_true == 1])\n",
    "    second_term = tf.math.reduce_mean(tf.math.exp(T_x[y_true == 0]-1))\n",
    "    return -(first_term - second_term)"
   ]
  },
  {
   "cell_type": "code",
   "execution_count": 52,
   "metadata": {
    "id": "eWzHzM8al1SO",
    "ExecuteTime": {
     "end_time": "2024-04-16T15:06:14.841911Z",
     "start_time": "2024-04-16T15:06:14.827911Z"
    }
   },
   "outputs": [],
   "source": [
    "def NWJ_func(y, t): \n",
    "    return np.mean(t[y==1]) - np.mean(np.exp(t[y==0]-1))"
   ]
  },
  {
   "cell_type": "code",
   "outputs": [
    {
     "data": {
      "text/plain": "2.3092562066686737"
     },
     "execution_count": 53,
     "metadata": {},
     "output_type": "execute_result"
    }
   ],
   "source": [
    "NWJ_func(y, t_x_opt+1)"
   ],
   "metadata": {
    "collapsed": false,
    "ExecuteTime": {
     "end_time": "2024-04-16T15:06:14.872911Z",
     "start_time": "2024-04-16T15:06:14.844911Z"
    }
   },
   "execution_count": 53
  },
  {
   "cell_type": "code",
   "outputs": [],
   "source": [
    "model_inputs = keras.Input(shape=(5,))\n",
    "layer_out = Dense(48, activation=\"softplus\")(model_inputs)\n",
    "model_outputs = Dense(1)(layer_out)\n",
    "model2 = keras.Model(model_inputs, model_outputs)\n",
    "optimizer2 = keras.optimizers.AdamW(learning_rate=0.001)\n",
    "es2 = tf.keras.callbacks.EarlyStopping(monitor=\"val_loss\", mode=\"min\", verbose=1, patience=5)\n",
    "model2.compile(optimizer=optimizer2, loss=NWJ_loss)"
   ],
   "metadata": {
    "collapsed": false,
    "ExecuteTime": {
     "end_time": "2024-04-16T15:06:14.919909Z",
     "start_time": "2024-04-16T15:06:14.874913Z"
    }
   },
   "execution_count": 54
  },
  {
   "cell_type": "code",
   "outputs": [
    {
     "name": "stdout",
     "output_type": "stream",
     "text": [
      "Epoch 1/100\n",
      "\u001B[1m15/15\u001B[0m \u001B[32m━━━━━━━━━━━━━━━━━━━━\u001B[0m\u001B[37m\u001B[0m \u001B[1m1s\u001B[0m 19ms/step - loss: 0.2599 - val_loss: 0.0772\n",
      "Epoch 2/100\n",
      "\u001B[1m15/15\u001B[0m \u001B[32m━━━━━━━━━━━━━━━━━━━━\u001B[0m\u001B[37m\u001B[0m \u001B[1m0s\u001B[0m 4ms/step - loss: 0.0435 - val_loss: -0.0030\n",
      "Epoch 3/100\n",
      "\u001B[1m15/15\u001B[0m \u001B[32m━━━━━━━━━━━━━━━━━━━━\u001B[0m\u001B[37m\u001B[0m \u001B[1m0s\u001B[0m 5ms/step - loss: -0.0190 - val_loss: -0.0513\n",
      "Epoch 4/100\n",
      "\u001B[1m15/15\u001B[0m \u001B[32m━━━━━━━━━━━━━━━━━━━━\u001B[0m\u001B[37m\u001B[0m \u001B[1m0s\u001B[0m 4ms/step - loss: -0.0603 - val_loss: -0.0780\n",
      "Epoch 5/100\n",
      "\u001B[1m15/15\u001B[0m \u001B[32m━━━━━━━━━━━━━━━━━━━━\u001B[0m\u001B[37m\u001B[0m \u001B[1m0s\u001B[0m 5ms/step - loss: -0.0868 - val_loss: -0.0942\n",
      "Epoch 6/100\n",
      "\u001B[1m15/15\u001B[0m \u001B[32m━━━━━━━━━━━━━━━━━━━━\u001B[0m\u001B[37m\u001B[0m \u001B[1m0s\u001B[0m 6ms/step - loss: -0.1057 - val_loss: -0.1060\n",
      "Epoch 7/100\n",
      "\u001B[1m15/15\u001B[0m \u001B[32m━━━━━━━━━━━━━━━━━━━━\u001B[0m\u001B[37m\u001B[0m \u001B[1m0s\u001B[0m 5ms/step - loss: -0.1080 - val_loss: -0.1168\n",
      "Epoch 8/100\n",
      "\u001B[1m15/15\u001B[0m \u001B[32m━━━━━━━━━━━━━━━━━━━━\u001B[0m\u001B[37m\u001B[0m \u001B[1m0s\u001B[0m 5ms/step - loss: -0.1171 - val_loss: -0.1275\n",
      "Epoch 9/100\n",
      "\u001B[1m15/15\u001B[0m \u001B[32m━━━━━━━━━━━━━━━━━━━━\u001B[0m\u001B[37m\u001B[0m \u001B[1m0s\u001B[0m 5ms/step - loss: -0.1384 - val_loss: -0.1394\n",
      "Epoch 10/100\n",
      "\u001B[1m15/15\u001B[0m \u001B[32m━━━━━━━━━━━━━━━━━━━━\u001B[0m\u001B[37m\u001B[0m \u001B[1m0s\u001B[0m 5ms/step - loss: -0.1385 - val_loss: -0.1524\n",
      "Epoch 11/100\n",
      "\u001B[1m15/15\u001B[0m \u001B[32m━━━━━━━━━━━━━━━━━━━━\u001B[0m\u001B[37m\u001B[0m \u001B[1m0s\u001B[0m 3ms/step - loss: -0.1521 - val_loss: -0.1667\n",
      "Epoch 12/100\n",
      "\u001B[1m15/15\u001B[0m \u001B[32m━━━━━━━━━━━━━━━━━━━━\u001B[0m\u001B[37m\u001B[0m \u001B[1m0s\u001B[0m 4ms/step - loss: -0.1601 - val_loss: -0.1827\n",
      "Epoch 13/100\n",
      "\u001B[1m15/15\u001B[0m \u001B[32m━━━━━━━━━━━━━━━━━━━━\u001B[0m\u001B[37m\u001B[0m \u001B[1m0s\u001B[0m 3ms/step - loss: -0.1797 - val_loss: -0.2006\n",
      "Epoch 14/100\n",
      "\u001B[1m15/15\u001B[0m \u001B[32m━━━━━━━━━━━━━━━━━━━━\u001B[0m\u001B[37m\u001B[0m \u001B[1m0s\u001B[0m 4ms/step - loss: -0.1968 - val_loss: -0.2219\n",
      "Epoch 15/100\n",
      "\u001B[1m15/15\u001B[0m \u001B[32m━━━━━━━━━━━━━━━━━━━━\u001B[0m\u001B[37m\u001B[0m \u001B[1m0s\u001B[0m 4ms/step - loss: -0.2324 - val_loss: -0.2456\n",
      "Epoch 16/100\n",
      "\u001B[1m15/15\u001B[0m \u001B[32m━━━━━━━━━━━━━━━━━━━━\u001B[0m\u001B[37m\u001B[0m \u001B[1m0s\u001B[0m 4ms/step - loss: -0.2512 - val_loss: -0.2726\n",
      "Epoch 17/100\n",
      "\u001B[1m15/15\u001B[0m \u001B[32m━━━━━━━━━━━━━━━━━━━━\u001B[0m\u001B[37m\u001B[0m \u001B[1m0s\u001B[0m 5ms/step - loss: -0.2837 - val_loss: -0.3038\n",
      "Epoch 18/100\n",
      "\u001B[1m15/15\u001B[0m \u001B[32m━━━━━━━━━━━━━━━━━━━━\u001B[0m\u001B[37m\u001B[0m \u001B[1m0s\u001B[0m 5ms/step - loss: -0.3048 - val_loss: -0.3392\n",
      "Epoch 19/100\n",
      "\u001B[1m15/15\u001B[0m \u001B[32m━━━━━━━━━━━━━━━━━━━━\u001B[0m\u001B[37m\u001B[0m \u001B[1m0s\u001B[0m 5ms/step - loss: -0.3389 - val_loss: -0.3798\n",
      "Epoch 20/100\n",
      "\u001B[1m15/15\u001B[0m \u001B[32m━━━━━━━━━━━━━━━━━━━━\u001B[0m\u001B[37m\u001B[0m \u001B[1m0s\u001B[0m 5ms/step - loss: -0.3682 - val_loss: -0.4255\n",
      "Epoch 21/100\n",
      "\u001B[1m15/15\u001B[0m \u001B[32m━━━━━━━━━━━━━━━━━━━━\u001B[0m\u001B[37m\u001B[0m \u001B[1m0s\u001B[0m 4ms/step - loss: -0.4214 - val_loss: -0.4778\n",
      "Epoch 22/100\n",
      "\u001B[1m15/15\u001B[0m \u001B[32m━━━━━━━━━━━━━━━━━━━━\u001B[0m\u001B[37m\u001B[0m \u001B[1m0s\u001B[0m 4ms/step - loss: -0.4883 - val_loss: -0.5369\n",
      "Epoch 23/100\n",
      "\u001B[1m15/15\u001B[0m \u001B[32m━━━━━━━━━━━━━━━━━━━━\u001B[0m\u001B[37m\u001B[0m \u001B[1m0s\u001B[0m 3ms/step - loss: -0.5374 - val_loss: -0.6024\n",
      "Epoch 24/100\n",
      "\u001B[1m15/15\u001B[0m \u001B[32m━━━━━━━━━━━━━━━━━━━━\u001B[0m\u001B[37m\u001B[0m \u001B[1m0s\u001B[0m 4ms/step - loss: -0.6200 - val_loss: -0.6756\n",
      "Epoch 25/100\n",
      "\u001B[1m15/15\u001B[0m \u001B[32m━━━━━━━━━━━━━━━━━━━━\u001B[0m\u001B[37m\u001B[0m \u001B[1m0s\u001B[0m 4ms/step - loss: -0.6866 - val_loss: -0.7567\n",
      "Epoch 26/100\n",
      "\u001B[1m15/15\u001B[0m \u001B[32m━━━━━━━━━━━━━━━━━━━━\u001B[0m\u001B[37m\u001B[0m \u001B[1m0s\u001B[0m 4ms/step - loss: -0.7665 - val_loss: -0.8450\n",
      "Epoch 27/100\n",
      "\u001B[1m15/15\u001B[0m \u001B[32m━━━━━━━━━━━━━━━━━━━━\u001B[0m\u001B[37m\u001B[0m \u001B[1m0s\u001B[0m 5ms/step - loss: -0.8681 - val_loss: -0.9417\n",
      "Epoch 28/100\n",
      "\u001B[1m15/15\u001B[0m \u001B[32m━━━━━━━━━━━━━━━━━━━━\u001B[0m\u001B[37m\u001B[0m \u001B[1m0s\u001B[0m 4ms/step - loss: -0.9557 - val_loss: -1.0447\n",
      "Epoch 29/100\n",
      "\u001B[1m15/15\u001B[0m \u001B[32m━━━━━━━━━━━━━━━━━━━━\u001B[0m\u001B[37m\u001B[0m \u001B[1m0s\u001B[0m 4ms/step - loss: -1.0580 - val_loss: -1.1558\n",
      "Epoch 30/100\n",
      "\u001B[1m15/15\u001B[0m \u001B[32m━━━━━━━━━━━━━━━━━━━━\u001B[0m\u001B[37m\u001B[0m \u001B[1m0s\u001B[0m 5ms/step - loss: -1.1482 - val_loss: -1.2680\n",
      "Epoch 31/100\n",
      "\u001B[1m15/15\u001B[0m \u001B[32m━━━━━━━━━━━━━━━━━━━━\u001B[0m\u001B[37m\u001B[0m \u001B[1m0s\u001B[0m 4ms/step - loss: -1.2797 - val_loss: -1.3866\n",
      "Epoch 32/100\n",
      "\u001B[1m15/15\u001B[0m \u001B[32m━━━━━━━━━━━━━━━━━━━━\u001B[0m\u001B[37m\u001B[0m \u001B[1m0s\u001B[0m 4ms/step - loss: -1.3949 - val_loss: -1.5034\n",
      "Epoch 33/100\n",
      "\u001B[1m15/15\u001B[0m \u001B[32m━━━━━━━━━━━━━━━━━━━━\u001B[0m\u001B[37m\u001B[0m \u001B[1m0s\u001B[0m 3ms/step - loss: -1.4738 - val_loss: -1.6117\n",
      "Epoch 34/100\n",
      "\u001B[1m15/15\u001B[0m \u001B[32m━━━━━━━━━━━━━━━━━━━━\u001B[0m\u001B[37m\u001B[0m \u001B[1m0s\u001B[0m 3ms/step - loss: -1.5784 - val_loss: -1.7211\n",
      "Epoch 35/100\n",
      "\u001B[1m15/15\u001B[0m \u001B[32m━━━━━━━━━━━━━━━━━━━━\u001B[0m\u001B[37m\u001B[0m \u001B[1m0s\u001B[0m 5ms/step - loss: -1.6895 - val_loss: -1.8072\n",
      "Epoch 36/100\n",
      "\u001B[1m15/15\u001B[0m \u001B[32m━━━━━━━━━━━━━━━━━━━━\u001B[0m\u001B[37m\u001B[0m \u001B[1m0s\u001B[0m 4ms/step - loss: -1.7370 - val_loss: -1.8914\n",
      "Epoch 37/100\n",
      "\u001B[1m15/15\u001B[0m \u001B[32m━━━━━━━━━━━━━━━━━━━━\u001B[0m\u001B[37m\u001B[0m \u001B[1m0s\u001B[0m 6ms/step - loss: -1.7853 - val_loss: -1.9190\n",
      "Epoch 38/100\n",
      "\u001B[1m15/15\u001B[0m \u001B[32m━━━━━━━━━━━━━━━━━━━━\u001B[0m\u001B[37m\u001B[0m \u001B[1m0s\u001B[0m 4ms/step - loss: -1.8004 - val_loss: -1.9974\n",
      "Epoch 39/100\n",
      "\u001B[1m15/15\u001B[0m \u001B[32m━━━━━━━━━━━━━━━━━━━━\u001B[0m\u001B[37m\u001B[0m \u001B[1m0s\u001B[0m 5ms/step - loss: -1.8566 - val_loss: -2.0257\n",
      "Epoch 40/100\n",
      "\u001B[1m15/15\u001B[0m \u001B[32m━━━━━━━━━━━━━━━━━━━━\u001B[0m\u001B[37m\u001B[0m \u001B[1m0s\u001B[0m 4ms/step - loss: -1.8378 - val_loss: -2.0527\n",
      "Epoch 41/100\n",
      "\u001B[1m15/15\u001B[0m \u001B[32m━━━━━━━━━━━━━━━━━━━━\u001B[0m\u001B[37m\u001B[0m \u001B[1m0s\u001B[0m 5ms/step - loss: -1.9484 - val_loss: -2.0614\n",
      "Epoch 42/100\n",
      "\u001B[1m15/15\u001B[0m \u001B[32m━━━━━━━━━━━━━━━━━━━━\u001B[0m\u001B[37m\u001B[0m \u001B[1m0s\u001B[0m 4ms/step - loss: -1.8127 - val_loss: -2.0870\n",
      "Epoch 43/100\n",
      "\u001B[1m15/15\u001B[0m \u001B[32m━━━━━━━━━━━━━━━━━━━━\u001B[0m\u001B[37m\u001B[0m \u001B[1m0s\u001B[0m 4ms/step - loss: -1.7740 - val_loss: -2.0967\n",
      "Epoch 44/100\n",
      "\u001B[1m15/15\u001B[0m \u001B[32m━━━━━━━━━━━━━━━━━━━━\u001B[0m\u001B[37m\u001B[0m \u001B[1m0s\u001B[0m 4ms/step - loss: -1.9725 - val_loss: -2.0919\n",
      "Epoch 45/100\n",
      "\u001B[1m15/15\u001B[0m \u001B[32m━━━━━━━━━━━━━━━━━━━━\u001B[0m\u001B[37m\u001B[0m \u001B[1m0s\u001B[0m 4ms/step - loss: -2.0420 - val_loss: -2.1176\n",
      "Epoch 46/100\n",
      "\u001B[1m15/15\u001B[0m \u001B[32m━━━━━━━━━━━━━━━━━━━━\u001B[0m\u001B[37m\u001B[0m \u001B[1m0s\u001B[0m 5ms/step - loss: -1.8880 - val_loss: -2.1053\n",
      "Epoch 47/100\n",
      "\u001B[1m15/15\u001B[0m \u001B[32m━━━━━━━━━━━━━━━━━━━━\u001B[0m\u001B[37m\u001B[0m \u001B[1m0s\u001B[0m 5ms/step - loss: -1.8857 - val_loss: -2.1288\n",
      "Epoch 48/100\n",
      "\u001B[1m15/15\u001B[0m \u001B[32m━━━━━━━━━━━━━━━━━━━━\u001B[0m\u001B[37m\u001B[0m \u001B[1m0s\u001B[0m 5ms/step - loss: -1.9290 - val_loss: -2.1125\n",
      "Epoch 49/100\n",
      "\u001B[1m15/15\u001B[0m \u001B[32m━━━━━━━━━━━━━━━━━━━━\u001B[0m\u001B[37m\u001B[0m \u001B[1m0s\u001B[0m 4ms/step - loss: -1.9730 - val_loss: -2.1360\n",
      "Epoch 50/100\n",
      "\u001B[1m15/15\u001B[0m \u001B[32m━━━━━━━━━━━━━━━━━━━━\u001B[0m\u001B[37m\u001B[0m \u001B[1m0s\u001B[0m 5ms/step - loss: -1.9806 - val_loss: -2.1284\n",
      "Epoch 51/100\n",
      "\u001B[1m15/15\u001B[0m \u001B[32m━━━━━━━━━━━━━━━━━━━━\u001B[0m\u001B[37m\u001B[0m \u001B[1m0s\u001B[0m 4ms/step - loss: -1.9198 - val_loss: -2.1303\n",
      "Epoch 52/100\n",
      "\u001B[1m15/15\u001B[0m \u001B[32m━━━━━━━━━━━━━━━━━━━━\u001B[0m\u001B[37m\u001B[0m \u001B[1m0s\u001B[0m 4ms/step - loss: -1.9098 - val_loss: -2.1450\n",
      "Epoch 53/100\n",
      "\u001B[1m15/15\u001B[0m \u001B[32m━━━━━━━━━━━━━━━━━━━━\u001B[0m\u001B[37m\u001B[0m \u001B[1m0s\u001B[0m 4ms/step - loss: -1.9448 - val_loss: -2.1396\n",
      "Epoch 54/100\n",
      "\u001B[1m15/15\u001B[0m \u001B[32m━━━━━━━━━━━━━━━━━━━━\u001B[0m\u001B[37m\u001B[0m \u001B[1m0s\u001B[0m 4ms/step - loss: -2.0615 - val_loss: -2.1532\n",
      "Epoch 55/100\n",
      "\u001B[1m15/15\u001B[0m \u001B[32m━━━━━━━━━━━━━━━━━━━━\u001B[0m\u001B[37m\u001B[0m \u001B[1m0s\u001B[0m 4ms/step - loss: -1.9417 - val_loss: -2.1350\n",
      "Epoch 56/100\n",
      "\u001B[1m15/15\u001B[0m \u001B[32m━━━━━━━━━━━━━━━━━━━━\u001B[0m\u001B[37m\u001B[0m \u001B[1m0s\u001B[0m 5ms/step - loss: -1.7724 - val_loss: -2.1536\n",
      "Epoch 57/100\n",
      "\u001B[1m15/15\u001B[0m \u001B[32m━━━━━━━━━━━━━━━━━━━━\u001B[0m\u001B[37m\u001B[0m \u001B[1m0s\u001B[0m 4ms/step - loss: -1.8227 - val_loss: -2.1420\n",
      "Epoch 58/100\n",
      "\u001B[1m15/15\u001B[0m \u001B[32m━━━━━━━━━━━━━━━━━━━━\u001B[0m\u001B[37m\u001B[0m \u001B[1m0s\u001B[0m 4ms/step - loss: -2.0184 - val_loss: -2.1639\n",
      "Epoch 59/100\n",
      "\u001B[1m15/15\u001B[0m \u001B[32m━━━━━━━━━━━━━━━━━━━━\u001B[0m\u001B[37m\u001B[0m \u001B[1m0s\u001B[0m 4ms/step - loss: -2.0753 - val_loss: -2.1345\n",
      "Epoch 60/100\n",
      "\u001B[1m15/15\u001B[0m \u001B[32m━━━━━━━━━━━━━━━━━━━━\u001B[0m\u001B[37m\u001B[0m \u001B[1m0s\u001B[0m 4ms/step - loss: -1.9507 - val_loss: -2.1523\n",
      "Epoch 61/100\n",
      "\u001B[1m15/15\u001B[0m \u001B[32m━━━━━━━━━━━━━━━━━━━━\u001B[0m\u001B[37m\u001B[0m \u001B[1m0s\u001B[0m 4ms/step - loss: -1.9080 - val_loss: -2.1553\n",
      "Epoch 62/100\n",
      "\u001B[1m15/15\u001B[0m \u001B[32m━━━━━━━━━━━━━━━━━━━━\u001B[0m\u001B[37m\u001B[0m \u001B[1m0s\u001B[0m 6ms/step - loss: -2.0472 - val_loss: -2.1695\n",
      "Epoch 63/100\n",
      "\u001B[1m15/15\u001B[0m \u001B[32m━━━━━━━━━━━━━━━━━━━━\u001B[0m\u001B[37m\u001B[0m \u001B[1m0s\u001B[0m 5ms/step - loss: -2.0218 - val_loss: -2.1302\n",
      "Epoch 64/100\n",
      "\u001B[1m15/15\u001B[0m \u001B[32m━━━━━━━━━━━━━━━━━━━━\u001B[0m\u001B[37m\u001B[0m \u001B[1m0s\u001B[0m 5ms/step - loss: -1.9789 - val_loss: -2.1600\n",
      "Epoch 65/100\n",
      "\u001B[1m15/15\u001B[0m \u001B[32m━━━━━━━━━━━━━━━━━━━━\u001B[0m\u001B[37m\u001B[0m \u001B[1m0s\u001B[0m 4ms/step - loss: -2.0847 - val_loss: -2.1713\n",
      "Epoch 66/100\n",
      "\u001B[1m15/15\u001B[0m \u001B[32m━━━━━━━━━━━━━━━━━━━━\u001B[0m\u001B[37m\u001B[0m \u001B[1m0s\u001B[0m 3ms/step - loss: -1.8839 - val_loss: -2.1222\n",
      "Epoch 67/100\n",
      "\u001B[1m15/15\u001B[0m \u001B[32m━━━━━━━━━━━━━━━━━━━━\u001B[0m\u001B[37m\u001B[0m \u001B[1m0s\u001B[0m 4ms/step - loss: -1.9095 - val_loss: -2.1705\n",
      "Epoch 68/100\n",
      "\u001B[1m15/15\u001B[0m \u001B[32m━━━━━━━━━━━━━━━━━━━━\u001B[0m\u001B[37m\u001B[0m \u001B[1m0s\u001B[0m 4ms/step - loss: -2.1283 - val_loss: -2.1734\n",
      "Epoch 69/100\n",
      "\u001B[1m15/15\u001B[0m \u001B[32m━━━━━━━━━━━━━━━━━━━━\u001B[0m\u001B[37m\u001B[0m \u001B[1m0s\u001B[0m 4ms/step - loss: -1.7950 - val_loss: -2.1131\n",
      "Epoch 70/100\n",
      "\u001B[1m15/15\u001B[0m \u001B[32m━━━━━━━━━━━━━━━━━━━━\u001B[0m\u001B[37m\u001B[0m \u001B[1m0s\u001B[0m 5ms/step - loss: -2.0208 - val_loss: -2.1672\n",
      "Epoch 71/100\n",
      "\u001B[1m15/15\u001B[0m \u001B[32m━━━━━━━━━━━━━━━━━━━━\u001B[0m\u001B[37m\u001B[0m \u001B[1m0s\u001B[0m 4ms/step - loss: -1.9420 - val_loss: -2.1541\n",
      "Epoch 72/100\n",
      "\u001B[1m15/15\u001B[0m \u001B[32m━━━━━━━━━━━━━━━━━━━━\u001B[0m\u001B[37m\u001B[0m \u001B[1m0s\u001B[0m 5ms/step - loss: -1.9722 - val_loss: -2.1638\n",
      "Epoch 73/100\n",
      "\u001B[1m15/15\u001B[0m \u001B[32m━━━━━━━━━━━━━━━━━━━━\u001B[0m\u001B[37m\u001B[0m \u001B[1m0s\u001B[0m 4ms/step - loss: -1.9293 - val_loss: -2.1635\n",
      "Epoch 73: early stopping\n"
     ]
    }
   ],
   "source": [
    "hist = model2.fit(x_train, y_train, epochs=100, batch_size=1024, validation_data=(x_test, y_test), callbacks=[es2])"
   ],
   "metadata": {
    "collapsed": false,
    "ExecuteTime": {
     "end_time": "2024-04-16T15:06:23.027388Z",
     "start_time": "2024-04-16T15:06:14.921914Z"
    }
   },
   "execution_count": 55
  },
  {
   "cell_type": "code",
   "outputs": [
    {
     "data": {
      "text/plain": "<Figure size 640x480 with 1 Axes>",
      "image/png": "[encoded data removed]"
     },
     "metadata": {},
     "output_type": "display_data"
    }
   ],
   "source": [
    "plt.plot(hist.history[\"loss\"])\n",
    "plt.plot(hist.history[\"val_loss\"])\n",
    "plt.show()"
   ],
   "metadata": {
    "collapsed": false,
    "ExecuteTime": {
     "end_time": "2024-04-16T15:06:23.212387Z",
     "start_time": "2024-04-16T15:06:23.030388Z"
    }
   },
   "execution_count": 56
  },
  {
   "cell_type": "code",
   "outputs": [
    {
     "name": "stdout",
     "output_type": "stream",
     "text": [
      "\u001B[1m625/625\u001B[0m \u001B[32m━━━━━━━━━━━━━━━━━━━━\u001B[0m\u001B[37m\u001B[0m \u001B[1m1s\u001B[0m 954us/step\n"
     ]
    },
    {
     "data": {
      "text/plain": "2.005125"
     },
     "execution_count": 60,
     "metadata": {},
     "output_type": "execute_result"
    }
   ],
   "source": [
    "NWJ_func(y, model2.predict(x))"
   ],
   "metadata": {
    "collapsed": false,
    "ExecuteTime": {
     "end_time": "2024-04-16T15:07:35.705485Z",
     "start_time": "2024-04-16T15:07:34.849455Z"
    }
   },
   "execution_count": 60
  },
  {
   "cell_type": "code",
   "outputs": [
    {
     "name": "stdout",
     "output_type": "stream",
     "text": [
      "\u001B[1m625/625\u001B[0m \u001B[32m━━━━━━━━━━━━━━━━━━━━\u001B[0m\u001B[37m\u001B[0m \u001B[1m1s\u001B[0m 926us/step\n"
     ]
    },
    {
     "data": {
      "text/plain": "2.0310507"
     },
     "execution_count": 59,
     "metadata": {},
     "output_type": "execute_result"
    }
   ],
   "source": [
    "NWJ_func(y_new, model2.predict(x_new))"
   ],
   "metadata": {
    "collapsed": false,
    "ExecuteTime": {
     "end_time": "2024-04-16T15:07:30.656202Z",
     "start_time": "2024-04-16T15:07:29.699206Z"
    }
   },
   "execution_count": 59
  },
  {
   "cell_type": "code",
   "outputs": [],
   "source": [],
   "metadata": {
    "collapsed": false
   }
  }
 ],
 "metadata": {
  "kernelspec": {
   "display_name": "Python 3 (ipykernel)",
   "language": "python",
   "name": "python3"
  },
  "language_info": {
   "codemirror_mode": {
    "name": "ipython",
    "version": 3
   },
   "file_extension": ".py",
   "mimetype": "text/x-python",
   "name": "python",
   "nbconvert_exporter": "python",
   "pygments_lexer": "ipython3",
   "version": "3.9.16"
  },
  "colab": {
   "provenance": []
  }
 },
 "nbformat": 4,
 "nbformat_minor": 0
}
