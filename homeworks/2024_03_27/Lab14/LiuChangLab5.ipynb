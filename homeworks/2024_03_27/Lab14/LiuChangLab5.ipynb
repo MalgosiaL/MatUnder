{
 "cells": [
  {
   "cell_type": "code",
   "execution_count": 2,
   "metadata": {},
   "outputs": [],
   "source": [
    "from sklearn.metrics import mutual_info_score\n",
    "#from sklearn.feature_selection import chi2\n",
    "from scipy.stats import chi2_contingency\n",
    "from scipy.stats import chi2\n",
    "import numpy as np\n",
    "import matplotlib.pyplot as plt\n",
    "from scipy.stats import gaussian_kde, pearsonr\n",
    "import seaborn as sns\n",
    "import pandas as pd"
   ]
  },
  {
   "cell_type": "markdown",
   "metadata": {},
   "source": [
    "# Mathematical Underpinnings - Lab 4"
   ]
  },
  {
   "cell_type": "markdown",
   "metadata": {},
   "source": [
    "Tests to verify hipoteses of independence (from Lab 4):"
   ]
  },
  {
   "cell_type": "code",
   "execution_count": 3,
   "metadata": {},
   "outputs": [],
   "source": [
    "def indep_test_asymptotic(X, Y, stat):\n",
    "\n",
    "    if stat == \"mi\":\n",
    "\n",
    "        stat_value = 2*len(X)*mutual_info_score(X, Y)\n",
    "\n",
    "    if stat == \"chi2\":\n",
    "\n",
    "        test_res = (chi2_contingency(pd.crosstab(X, Y)))\n",
    "        stat_value = test_res.statistic\n",
    "\n",
    "    df = (len(np.unique(X)) - 1)*(len(np.unique(Y)) - 1)\n",
    "\n",
    "    p_value = 1 - chi2.cdf(stat_value, df=df)\n",
    "\n",
    "    return stat_value, p_value\n",
    "\n",
    "def indep_test_permutation(X, Y, B, stat=\"mi\"):\n",
    "\n",
    "    stat_value = mutual_info_score(X, Y)\n",
    "\n",
    "    condition_p_value = 0\n",
    "    for b in range(B):\n",
    "        X_b = np.random.permutation(X)\n",
    "\n",
    "        stat_value_b = mutual_info_score(X_b, Y)\n",
    "\n",
    "        if stat_value <= stat_value_b:\n",
    "            condition_p_value += 1\n",
    "\n",
    "    p_value = (1 + condition_p_value)/(1 + B)\n",
    "\n",
    "    return 2*len(X)*stat_value, p_value"
   ]
  },
  {
   "cell_type": "markdown",
   "metadata": {},
   "source": [
    "## Task 1"
   ]
  },
  {
   "cell_type": "code",
   "execution_count": 4,
   "metadata": {},
   "outputs": [],
   "source": [
    "# a function which computes CMI\n",
    "def conditional_mutual_information(X, Y, Z):\n",
    "\n",
    "    z_values = np.unique(Z)\n",
    "    n_z_values = len(z_values)\n",
    "    n = len(Z)\n",
    "\n",
    "    cmi = 0\n",
    "\n",
    "    for i in range(n_z_values):\n",
    "\n",
    "        z_value_tmp = z_values[i]\n",
    "        z_condition = (Z == z_value_tmp)\n",
    "\n",
    "        X_z = X[z_condition]\n",
    "        Y_z = Y[z_condition]\n",
    "\n",
    "        mi_XY_z = mutual_info_score(X_z, Y_z)\n",
    "        p_z = np.sum(z_condition)/n\n",
    "\n",
    "        cmi += p_z*mi_XY_z\n",
    "\n",
    "    return cmi"
   ]
  },
  {
   "cell_type": "markdown",
   "metadata": {},
   "source": [
    "### a)"
   ]
  },
  {
   "cell_type": "code",
   "execution_count": 5,
   "metadata": {},
   "outputs": [],
   "source": [
    "# CI test based on CMI and asymptotics\n",
    "def cond_indep_test_asymptotic(X, Y, Z, stat):\n",
    "\n",
    "    if stat == \"cmi\":\n",
    "\n",
    "        stat_value = 2*len(X)*conditional_mutual_information(X, Y, Z)\n",
    "\n",
    "    if stat == \"chi2\":\n",
    "        pass\n",
    "\n",
    "    df = (len(np.unique(X)) - 1)*(len(np.unique(Y)) - 1)*len(np.unique(Z))\n",
    "\n",
    "    p_value = 1 - chi2.cdf(stat_value, df=df)\n",
    "\n",
    "    return stat_value, p_value"
   ]
  },
  {
   "cell_type": "markdown",
   "metadata": {},
   "source": [
    "### b)"
   ]
  },
  {
   "cell_type": "code",
   "execution_count": 6,
   "metadata": {},
   "outputs": [],
   "source": [
    "# CI test based on CMI and permutations\n",
    "def conditional_permutation(X, Z):\n",
    "\n",
    "    z_values = np.unique(Z)\n",
    "    n_z_values = len(z_values)\n",
    "    n = len(Z)\n",
    "\n",
    "    X_b = np.zeros(n)\n",
    "\n",
    "    for i in range(n_z_values):\n",
    "\n",
    "        z_value_tmp = z_values[i]\n",
    "\n",
    "        X_b[Z == z_value_tmp] = np.random.permutation(X[Z == z_value_tmp])\n",
    "\n",
    "    return X_b\n",
    "\n",
    "def cond_indep_test_permutation(X, Y, Z, B, stat=\"cmi\"):\n",
    "\n",
    "    stat_value = conditional_mutual_information(X, Y, Z)\n",
    "\n",
    "    condition_p_value = 0\n",
    "    for b in range(B):\n",
    "        X_b = conditional_permutation(X, Z)\n",
    "\n",
    "        stat_value_b = conditional_mutual_information(X_b, Y, Z)\n",
    "\n",
    "        if stat_value <= stat_value_b:\n",
    "            condition_p_value += 1\n",
    "\n",
    "    p_value = (1 + condition_p_value)/(1 + B)\n",
    "\n",
    "    return 2*len(X)*stat_value, p_value"
   ]
  },
  {
   "cell_type": "markdown",
   "metadata": {},
   "source": [
    "### c)"
   ]
  },
  {
   "cell_type": "markdown",
   "metadata": {},
   "source": [
    "conditionaly independent"
   ]
  },
  {
   "cell_type": "code",
   "execution_count": 7,
   "metadata": {},
   "outputs": [],
   "source": [
    "X = np.random.choice(5, size=1000)\n",
    "Y = np.random.choice(5, size=1000)\n",
    "Z = np.random.choice(5, size=1000)"
   ]
  },
  {
   "cell_type": "code",
   "execution_count": 8,
   "metadata": {},
   "outputs": [
    {
     "name": "stdout",
     "output_type": "stream",
     "text": [
      "asymptotic test of conditional independence\n",
      "71.00896340885502 0.7536690344865403\n"
     ]
    }
   ],
   "source": [
    "print(\"asymptotic test of conditional independence\")\n",
    "stat_value, p_value = cond_indep_test_asymptotic(X, Y, Z, \"cmi\")\n",
    "print(stat_value, p_value)"
   ]
  },
  {
   "cell_type": "code",
   "execution_count": 9,
   "metadata": {},
   "outputs": [
    {
     "name": "stdout",
     "output_type": "stream",
     "text": [
      "permutation test of conditional independence\n"
     ]
    },
    {
     "name": "stdout",
     "output_type": "stream",
     "text": [
      "71.00896340885502 0.8712871287128713\n"
     ]
    }
   ],
   "source": [
    "print(\"permutation test of conditional independence\")\n",
    "stat_value, p_value = cond_indep_test_permutation(X, Y, Z, 100)\n",
    "print(stat_value, p_value)"
   ]
  },
  {
   "cell_type": "markdown",
   "metadata": {},
   "source": [
    "conditionaly dependent"
   ]
  },
  {
   "cell_type": "code",
   "execution_count": 10,
   "metadata": {},
   "outputs": [],
   "source": [
    "X = np.random.choice(5, size=1000)\n",
    "Y = np.random.choice(5, size=1000)\n",
    "where_equal = np.random.choice(2, size=1000)\n",
    "Y[where_equal == 0] = X[where_equal == 0]\n",
    "Z = np.random.choice(5, size=1000)"
   ]
  },
  {
   "cell_type": "code",
   "execution_count": 11,
   "metadata": {},
   "outputs": [
    {
     "name": "stdout",
     "output_type": "stream",
     "text": [
      "asymptotic test of conditional dependence\n"
     ]
    },
    {
     "data": {
      "text/plain": [
       "(998.4643003355621, 0.0)"
      ]
     },
     "execution_count": 11,
     "metadata": {},
     "output_type": "execute_result"
    }
   ],
   "source": [
    "print(\"asymptotic test of conditional dependence\")\n",
    "cond_indep_test_asymptotic(X, Y, Z, \"cmi\")"
   ]
  },
  {
   "cell_type": "code",
   "execution_count": 12,
   "metadata": {},
   "outputs": [
    {
     "name": "stdout",
     "output_type": "stream",
     "text": [
      "permutation test of conditional dependence\n"
     ]
    }
   ],
   "source": [
    "print(\"permutation test of conditional dependence\")\n",
    "stat_value, p_value = cond_indep_test_permutation(X, Y, Z, 100)"
   ]
  },
  {
   "cell_type": "markdown",
   "metadata": {},
   "source": [
    "## Task 2"
   ]
  },
  {
   "cell_type": "code",
   "execution_count": 13,
   "metadata": {},
   "outputs": [],
   "source": [
    "def discetize_2bins(X):\n",
    "    X_discrete = 1*(X >= 0) - 1*(X < 0)\n",
    "    return X_discrete\n",
    "def sample_from_model1(n):\n",
    "    Z_tile = np.random.normal(size=n)\n",
    "    Z = discetize_2bins(Z_tile)\n",
    "\n",
    "    X_tile = np.random.normal(loc=Z/2, size=n)\n",
    "    X = discetize_2bins(X_tile)\n",
    "\n",
    "    Y_tile = np.random.normal(loc=Z/2, size=n)\n",
    "    Y = discetize_2bins(Y_tile)\n",
    "\n",
    "    return X, Y, Z\n",
    "\n",
    "\n",
    "def sample_from_model2(n):\n",
    "    X_tile = np.random.normal(size=n)\n",
    "    X = discetize_2bins(X_tile)\n",
    "\n",
    "    Z_tile = np.random.normal(loc=X/2, size=n)\n",
    "    Z = discetize_2bins(Z_tile)\n",
    "\n",
    "    Y_tile = np.random.normal(loc=Z/2, size=n)\n",
    "    Y = discetize_2bins(Y_tile)\n",
    "    return X, Y, Z\n",
    "\n",
    "def sample_from_model3(n):\n",
    "    X_tile = np.random.normal(size=n)\n",
    "    X = discetize_2bins(X_tile)\n",
    "\n",
    "    Y_tile = np.random.normal(size=n)\n",
    "    Y = discetize_2bins(Y_tile)\n",
    "\n",
    "    Z_tile = np.random.normal(loc=(X+Y)/2, size=n)\n",
    "    Z = discetize_2bins(Z_tile)\n",
    "    return X, Y, Z"
   ]
  },
  {
   "cell_type": "markdown",
   "metadata": {},
   "source": [
    "### a)"
   ]
  },
  {
   "cell_type": "markdown",
   "metadata": {},
   "source": [
    "answer:\n",
    "model 1: X and Y dependent, conditionally independent given Z\n",
    "\n",
    "model 2: X and Y dependent, conditionally independent given Z\n",
    "\n",
    "model 3: X and Y independent, conditionally dependent given Z\n"
   ]
  },
  {
   "cell_type": "markdown",
   "metadata": {},
   "source": [
    "### b)"
   ]
  },
  {
   "cell_type": "code",
   "execution_count": 14,
   "metadata": {},
   "outputs": [
    {
     "name": "stdout",
     "output_type": "stream",
     "text": [
      "mutual information for model 1: 0.011636375281762257\n",
      "conditional mutual information for model 1: 9.113066449126827e-05\n"
     ]
    }
   ],
   "source": [
    "model1_x, model1_y, model1_z = sample_from_model1(1000)\n",
    "mi = mutual_info_score(model1_x, model1_y)\n",
    "print(\"mutual information for model 1:\", mi)\n",
    "stat_value = conditional_mutual_information(model1_x, model1_y, model1_z)\n",
    "print(\"conditional mutual information for model 1:\", stat_value)"
   ]
  },
  {
   "cell_type": "code",
   "execution_count": 15,
   "metadata": {},
   "outputs": [
    {
     "name": "stdout",
     "output_type": "stream",
     "text": [
      "mutual information for model 2: 0.00443631974765285\n",
      "conditional mutual information for model 2: 0.0030218100641348075\n"
     ]
    }
   ],
   "source": [
    "model2_x, model2_y, model2_z = sample_from_model2(1000)\n",
    "mi = mutual_info_score(model2_x, model2_y)\n",
    "print(\"mutual information for model 2:\", mi)\n",
    "stat_value = conditional_mutual_information(model2_x, model2_y, model2_z)\n",
    "print(\"conditional mutual information for model 2:\", stat_value)"
   ]
  },
  {
   "cell_type": "code",
   "execution_count": 16,
   "metadata": {},
   "outputs": [
    {
     "name": "stdout",
     "output_type": "stream",
     "text": [
      "mutual information for model 3: 0.0015726197449853485\n",
      "conditional mutual information for model 3: 0.016428708024691333\n"
     ]
    }
   ],
   "source": [
    "model3_x, model3_y, model3_z = sample_from_model3(1000)\n",
    "mi = mutual_info_score(model3_x, model3_y)\n",
    "print(\"mutual information for model 3:\", mi)\n",
    "stat_value = conditional_mutual_information(model3_x, model3_y, model3_z)\n",
    "print(\"conditional mutual information for model 3:\", stat_value)"
   ]
  },
  {
   "cell_type": "markdown",
   "metadata": {},
   "source": [
    "### c)"
   ]
  },
  {
   "cell_type": "markdown",
   "metadata": {},
   "source": [
    "Independence"
   ]
  },
  {
   "cell_type": "code",
   "execution_count": 17,
   "metadata": {},
   "outputs": [
    {
     "name": "stdout",
     "output_type": "stream",
     "text": [
      "Independence test for model 1\n",
      "23.272750563524514 1.405776494212141e-06\n",
      "conditional Independence test for model 1\n",
      "0.18226132898253655 0.912898419698284\n",
      "permutation test for model 1\n"
     ]
    },
    {
     "name": "stdout",
     "output_type": "stream",
     "text": [
      "0.18226132898253655 0.900990099009901\n"
     ]
    }
   ],
   "source": [
    "print(\"Independence test for model 1\")\n",
    "stat_value, p_value = indep_test_asymptotic(model1_x, model1_y, \"mi\")\n",
    "print(stat_value, p_value)\n",
    "print(\"conditional Independence test for model 1\")\n",
    "stat_value, p_value = cond_indep_test_asymptotic(model1_x, model1_y, model1_z, \"cmi\")\n",
    "print(stat_value, p_value)\n",
    "print(\"permutation test for model 1\")\n",
    "stat_value, p_value = cond_indep_test_permutation(model1_x, model1_y, model1_z, 100)\n",
    "print(stat_value, p_value)"
   ]
  },
  {
   "cell_type": "code",
   "execution_count": 18,
   "metadata": {},
   "outputs": [
    {
     "name": "stdout",
     "output_type": "stream",
     "text": [
      "Independence test for model 2\n",
      "8.872639495305702 0.0028947629546270948\n",
      "conditional Independence test for model 2\n",
      "6.043620128269615 0.04871296492320876\n",
      "permutation test for model 2\n",
      "6.043620128269615 0.039603960396039604\n"
     ]
    }
   ],
   "source": [
    "print(\"Independence test for model 2\")\n",
    "stat_value, p_value = indep_test_asymptotic(model2_x, model2_y, \"mi\")\n",
    "print(stat_value, p_value)\n",
    "print(\"conditional Independence test for model 2\")\n",
    "stat_value, p_value = cond_indep_test_asymptotic(model2_x, model2_y, model2_z, \"cmi\")\n",
    "print(stat_value, p_value)\n",
    "print(\"permutation test for model 2\")\n",
    "stat_value, p_value = cond_indep_test_permutation(model2_x, model2_y, model2_z, 100)\n",
    "print(stat_value, p_value)"
   ]
  },
  {
   "cell_type": "code",
   "execution_count": 19,
   "metadata": {},
   "outputs": [
    {
     "name": "stdout",
     "output_type": "stream",
     "text": [
      "Independence test for model 3\n",
      "3.145239489970697 0.07614882127972067\n",
      "conditional Independence test for model 3\n",
      "32.857416049382664 7.329979501147221e-08\n",
      "permutation test for model 3\n",
      "32.857416049382664 0.009900990099009901\n"
     ]
    }
   ],
   "source": [
    "print(\"Independence test for model 3\")\n",
    "stat_value, p_value = indep_test_asymptotic(model3_x, model3_y, \"mi\")\n",
    "print(stat_value, p_value)\n",
    "print(\"conditional Independence test for model 3\")\n",
    "stat_value, p_value = cond_indep_test_asymptotic(model3_x, model3_y, model3_z, \"cmi\")\n",
    "print(stat_value, p_value)\n",
    "print(\"permutation test for model 3\")\n",
    "stat_value, p_value = cond_indep_test_permutation(model3_x, model3_y, model3_z, 100)\n",
    "print(stat_value, p_value)"
   ]
  }
 ],
 "metadata": {
  "kernelspec": {
   "display_name": "dydaktyka",
   "language": "python",
   "name": "python3"
  },
  "language_info": {
   "codemirror_mode": {
    "name": "ipython",
    "version": 3
   },
   "file_extension": ".py",
   "mimetype": "text/x-python",
   "name": "python",
   "nbconvert_exporter": "python",
   "pygments_lexer": "ipython3",
   "version": "3.9.13"
  }
 },
 "nbformat": 4,
 "nbformat_minor": 2
}
