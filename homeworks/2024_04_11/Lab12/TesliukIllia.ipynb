{
  "cells": [
    {
      "cell_type": "markdown",
      "metadata": {
        "id": "vdcvf6SSl1SE"
      },
      "source": [
        "# Mathematical Underpinnings - Lab 7"
      ]
    },
    {
      "cell_type": "code",
      "execution_count": 1,
      "metadata": {
        "id": "XMmRp3ftl1SH"
      },
      "outputs": [],
      "source": [
        "import tensorflow as tf\n",
        "import keras\n",
        "import numpy as np\n",
        "import matplotlib.pyplot as plt\n",
        "\n",
        "from keras.layers import Input, Dense, Lambda, InputLayer, concatenate\n",
        "from keras.models import Model, Sequential\n",
        "from keras import backend as K\n",
        "from keras import metrics\n",
        "from keras.datasets import mnist\n",
        "from keras.utils import to_categorical\n",
        "\n",
        "from sklearn.model_selection import train_test_split"
      ]
    },
    {
      "cell_type": "markdown",
      "metadata": {
        "id": "Miu3nt5Xl1SI"
      },
      "source": [
        "## Task 1\n",
        "\n",
        "### a)"
      ]
    },
    {
      "cell_type": "code",
      "execution_count": 2,
      "metadata": {
        "id": "V6nuk5H1l1SJ"
      },
      "outputs": [],
      "source": [
        "def KL_mult_normal(mu1, mu2, Sigma1, Sigma2):\n",
        "    # the formula is here: https://statproofbook.github.io/P/mvn-kl.html\n",
        "    return (np.dot(mu2-mu1, np.dot(np.linalg.inv(Sigma2), mu2 - mu1)) + np.sum(np.diag(np.dot(np.linalg.inv(Sigma2), Sigma1))) \\\n",
        "        - np.log(np.linalg.det(Sigma1)/np.linalg.det(Sigma2)) - mu1.shape[0])/2"
      ]
    },
    {
      "cell_type": "code",
      "execution_count": 3,
      "metadata": {
        "id": "FmFrBHkgl1SJ"
      },
      "outputs": [],
      "source": [
        "def T_opt(x, mu1, mu2, Sigma1, Sigma2):\n",
        "    # compute log(p(x)/q(x)), where p and q are multivariate normal with parameters mu1, Sigma1 and mu2, Sigma2 respectively\n",
        "    # density of multivariate normal distribution is e.g. here: https://en.wikipedia.org/wiki/Multivariate_normal_distribution\n",
        "    res = np.zeros(x.shape[0])\n",
        "    for i in range(x.shape[0]):\n",
        "        ft = -np.log(np.linalg.det(Sigma1))/2 - np.dot(np.dot(np.linalg.inv(Sigma1), (x[i,:] - mu1)), x[i,:] - mu1)/2\n",
        "        st = np.log(np.linalg.det(Sigma2))/2 + np.dot(np.dot(np.linalg.inv(Sigma2), x[i,:] - mu2), x[i,:] - mu2)/2\n",
        "        res[i] = ft+st\n",
        "    return res"
      ]
    },
    {
      "cell_type": "markdown",
      "metadata": {
        "id": "dZas_vzRl1SJ"
      },
      "source": [
        "### b)"
      ]
    },
    {
      "cell_type": "code",
      "execution_count": 35,
      "metadata": {
        "id": "JlOhBgTql1SJ"
      },
      "outputs": [],
      "source": [
        "# sample n = 10000 observations out of np.random.multivariate_normal(mu1, Sigma1, size=n)\n",
        "# and sample n = 10000 observations out of np.random.multivariate_normal(mu2, Sigma2, size=n)\n",
        "# then concatenate the two matrices (your final x is a matrix 2n x 5)\n",
        "# then create a vector y that will have n ones and n zeros (of size 2n)\n",
        "\n",
        "# np.random.seed(123)\n",
        "n = 10000\n",
        "mu1 = np.array([1, 1, 1, 0, 0])/5\n",
        "mu2 = np.array([0, 0, 1, 1, 1])/5\n",
        "Sigma1 = (np.eye(5)*9 + np.ones((5,5)))/10\n",
        "Sigma2 = 1.2*np.eye(5) - np.ones((5,5))/5\n",
        "x1 = np.random.multivariate_normal(mu1, Sigma1, size=n)\n",
        "x2 = np.random.multivariate_normal(mu2, Sigma2, size=n)\n",
        "x = np.concatenate((x1, x2), axis=0)\n",
        "y = np.concatenate((1.0*np.ones(n), 0.0*np.zeros(n)))\n"
      ]
    },
    {
      "cell_type": "code",
      "execution_count": 5,
      "metadata": {
        "id": "7YA9-af8l1SK"
      },
      "outputs": [],
      "source": [
        "def DV_fun(y, t):\n",
        "    # y - an indicator [y[i]=1 if t[i] corresponds to x sampled from the distribution p, y[i]=0 otherwise]\n",
        "    # t a vector (of the same length as y) t = log(p(x)/q(x))\n",
        "    n1 = np.sum(y)\n",
        "    n2 = np.sum(1 - y)\n",
        "    return np.sum(t*y)/n1 - np.log(np.sum(np.exp(t)*(1-y))/n2)"
      ]
    },
    {
      "cell_type": "code",
      "execution_count": 6,
      "metadata": {
        "colab": {
          "base_uri": "https://localhost:8080/"
        },
        "id": "oLzlpPpCl1SK",
        "outputId": "23438952-df33-461d-95a3-dd0b47580ec3"
      },
      "outputs": [
        {
          "output_type": "execute_result",
          "data": {
            "text/plain": [
              "2.169075737042572"
            ]
          },
          "metadata": {},
          "execution_count": 6
        }
      ],
      "source": [
        "KL_mult_normal(mu1, mu2, Sigma1, Sigma2)"
      ]
    },
    {
      "cell_type": "code",
      "execution_count": 7,
      "metadata": {
        "colab": {
          "base_uri": "https://localhost:8080/"
        },
        "id": "30KzVxSHl1SK",
        "outputId": "7a8f94a5-7de9-4f4d-d7c8-623423479686"
      },
      "outputs": [
        {
          "output_type": "execute_result",
          "data": {
            "text/plain": [
              "2.2382987287261025"
            ]
          },
          "metadata": {},
          "execution_count": 7
        }
      ],
      "source": [
        "DV_fun(y, T_opt(x, mu1, mu2, Sigma1, Sigma2))"
      ]
    },
    {
      "cell_type": "markdown",
      "metadata": {
        "id": "EplD4T6-l1SK"
      },
      "source": [
        "### c)"
      ]
    },
    {
      "cell_type": "code",
      "execution_count": 8,
      "metadata": {
        "id": "JHMxjpLHl1SK"
      },
      "outputs": [],
      "source": [
        "def DV_loss(y_true, T_x):\n",
        "    n1 = tf.math.reduce_sum(y_true)\n",
        "    n2 = tf.math.reduce_sum(tf.subtract(tf.convert_to_tensor(1.0), y_true))\n",
        "    first_term = tf.math.reduce_sum(tf.math.multiply(T_x, y_true))/n1\n",
        "    second_term = tf.math.log(tf.math.reduce_sum(tf.math.multiply(tf.math.exp(T_x), tf.subtract(tf.convert_to_tensor(1.0), y_true)))/n2)\n",
        "    return -(first_term - second_term)"
      ]
    },
    {
      "cell_type": "markdown",
      "metadata": {
        "id": "-8IbmVHrl1SL"
      },
      "source": [
        "### d)"
      ]
    },
    {
      "cell_type": "code",
      "execution_count": 36,
      "metadata": {
        "id": "IuHcTFoHl1SL"
      },
      "outputs": [],
      "source": [
        "model_inputs = keras.Input(shape=(5))\n",
        "layer_out = Dense(64, activation='softplus')(model_inputs)\n",
        "#layer_out = Dense(125, activation='tanh')(layer_out)\n",
        "layer_out = Dense(64)(layer_out)\n",
        "model_outputs = Dense(1)(layer_out)\n",
        "model = keras.Model(model_inputs, model_outputs)\n",
        "\n",
        "optimizer = keras.optimizers.SGD(learning_rate=1e-2)\n",
        "es = tf.keras.callbacks.EarlyStopping(monitor='val_loss', mode='min', verbose=1, patience=5)\n",
        "model.compile(optimizer=optimizer, loss=DV_loss)"
      ]
    },
    {
      "cell_type": "code",
      "execution_count": 37,
      "metadata": {
        "id": "iQm5BL24l1SL"
      },
      "outputs": [],
      "source": [
        "x_train, x_test, y_train, y_test = train_test_split(x, y, test_size=0.25)"
      ]
    },
    {
      "cell_type": "code",
      "execution_count": 12,
      "metadata": {
        "colab": {
          "base_uri": "https://localhost:8080/"
        },
        "id": "rQQjoLdHl1SM",
        "outputId": "b68e44a8-7ccf-466a-f262-d57224f246c7"
      },
      "outputs": [
        {
          "output_type": "stream",
          "name": "stdout",
          "text": [
            "Epoch 1/100\n",
            "15/15 [==============================] - 1s 22ms/step - loss: 0.0234 - val_loss: -0.0078\n",
            "Epoch 2/100\n",
            "15/15 [==============================] - 0s 8ms/step - loss: -0.0220 - val_loss: -0.0390\n",
            "Epoch 3/100\n",
            "15/15 [==============================] - 0s 8ms/step - loss: -0.0456 - val_loss: -0.0550\n",
            "Epoch 4/100\n",
            "15/15 [==============================] - 0s 8ms/step - loss: -0.0579 - val_loss: -0.0638\n",
            "Epoch 5/100\n",
            "15/15 [==============================] - 0s 8ms/step - loss: -0.0658 - val_loss: -0.0692\n",
            "Epoch 6/100\n",
            "15/15 [==============================] - 0s 8ms/step - loss: -0.0705 - val_loss: -0.0729\n",
            "Epoch 7/100\n",
            "15/15 [==============================] - 0s 8ms/step - loss: -0.0741 - val_loss: -0.0757\n",
            "Epoch 8/100\n",
            "15/15 [==============================] - 0s 8ms/step - loss: -0.0771 - val_loss: -0.0781\n",
            "Epoch 9/100\n",
            "15/15 [==============================] - 0s 9ms/step - loss: -0.0798 - val_loss: -0.0803\n",
            "Epoch 10/100\n",
            "15/15 [==============================] - 0s 7ms/step - loss: -0.0817 - val_loss: -0.0824\n",
            "Epoch 11/100\n",
            "15/15 [==============================] - 0s 7ms/step - loss: -0.0844 - val_loss: -0.0845\n",
            "Epoch 12/100\n",
            "15/15 [==============================] - 0s 6ms/step - loss: -0.0865 - val_loss: -0.0866\n",
            "Epoch 13/100\n",
            "15/15 [==============================] - 0s 7ms/step - loss: -0.0887 - val_loss: -0.0887\n",
            "Epoch 14/100\n",
            "15/15 [==============================] - 0s 6ms/step - loss: -0.0910 - val_loss: -0.0910\n",
            "Epoch 15/100\n",
            "15/15 [==============================] - 0s 6ms/step - loss: -0.0935 - val_loss: -0.0933\n",
            "Epoch 16/100\n",
            "15/15 [==============================] - 0s 6ms/step - loss: -0.0958 - val_loss: -0.0956\n",
            "Epoch 17/100\n",
            "15/15 [==============================] - 0s 7ms/step - loss: -0.0984 - val_loss: -0.0980\n",
            "Epoch 18/100\n",
            "15/15 [==============================] - 0s 6ms/step - loss: -0.1005 - val_loss: -0.1006\n",
            "Epoch 19/100\n",
            "15/15 [==============================] - 0s 7ms/step - loss: -0.1033 - val_loss: -0.1032\n",
            "Epoch 20/100\n",
            "15/15 [==============================] - 0s 7ms/step - loss: -0.1061 - val_loss: -0.1060\n",
            "Epoch 21/100\n",
            "15/15 [==============================] - 0s 7ms/step - loss: -0.1093 - val_loss: -0.1090\n",
            "Epoch 22/100\n",
            "15/15 [==============================] - 0s 8ms/step - loss: -0.1123 - val_loss: -0.1120\n",
            "Epoch 23/100\n",
            "15/15 [==============================] - 0s 11ms/step - loss: -0.1154 - val_loss: -0.1153\n",
            "Epoch 24/100\n",
            "15/15 [==============================] - 0s 11ms/step - loss: -0.1189 - val_loss: -0.1187\n",
            "Epoch 25/100\n",
            "15/15 [==============================] - 0s 9ms/step - loss: -0.1225 - val_loss: -0.1223\n",
            "Epoch 26/100\n",
            "15/15 [==============================] - 0s 12ms/step - loss: -0.1259 - val_loss: -0.1261\n",
            "Epoch 27/100\n",
            "15/15 [==============================] - 0s 9ms/step - loss: -0.1300 - val_loss: -0.1303\n",
            "Epoch 28/100\n",
            "15/15 [==============================] - 0s 9ms/step - loss: -0.1348 - val_loss: -0.1346\n",
            "Epoch 29/100\n",
            "15/15 [==============================] - 0s 9ms/step - loss: -0.1388 - val_loss: -0.1393\n",
            "Epoch 30/100\n",
            "15/15 [==============================] - 0s 9ms/step - loss: -0.1437 - val_loss: -0.1443\n",
            "Epoch 31/100\n",
            "15/15 [==============================] - 0s 9ms/step - loss: -0.1493 - val_loss: -0.1497\n",
            "Epoch 32/100\n",
            "15/15 [==============================] - 0s 10ms/step - loss: -0.1551 - val_loss: -0.1554\n",
            "Epoch 33/100\n",
            "15/15 [==============================] - 0s 13ms/step - loss: -0.1612 - val_loss: -0.1617\n",
            "Epoch 34/100\n",
            "15/15 [==============================] - 0s 14ms/step - loss: -0.1675 - val_loss: -0.1686\n",
            "Epoch 35/100\n",
            "15/15 [==============================] - 0s 14ms/step - loss: -0.1748 - val_loss: -0.1760\n",
            "Epoch 36/100\n",
            "15/15 [==============================] - 0s 14ms/step - loss: -0.1825 - val_loss: -0.1841\n",
            "Epoch 37/100\n",
            "15/15 [==============================] - 0s 15ms/step - loss: -0.1910 - val_loss: -0.1931\n",
            "Epoch 38/100\n",
            "15/15 [==============================] - 0s 12ms/step - loss: -0.2008 - val_loss: -0.2030\n",
            "Epoch 39/100\n",
            "15/15 [==============================] - 0s 9ms/step - loss: -0.2111 - val_loss: -0.2139\n",
            "Epoch 40/100\n",
            "15/15 [==============================] - 0s 7ms/step - loss: -0.2227 - val_loss: -0.2261\n",
            "Epoch 41/100\n",
            "15/15 [==============================] - 0s 7ms/step - loss: -0.2356 - val_loss: -0.2396\n",
            "Epoch 42/100\n",
            "15/15 [==============================] - 0s 7ms/step - loss: -0.2500 - val_loss: -0.2547\n",
            "Epoch 43/100\n",
            "15/15 [==============================] - 0s 7ms/step - loss: -0.2664 - val_loss: -0.2719\n",
            "Epoch 44/100\n",
            "15/15 [==============================] - 0s 7ms/step - loss: -0.2841 - val_loss: -0.2910\n",
            "Epoch 45/100\n",
            "15/15 [==============================] - 0s 7ms/step - loss: -0.3047 - val_loss: -0.3129\n",
            "Epoch 46/100\n",
            "15/15 [==============================] - 0s 7ms/step - loss: -0.3279 - val_loss: -0.3376\n",
            "Epoch 47/100\n",
            "15/15 [==============================] - 0s 9ms/step - loss: -0.3555 - val_loss: -0.3662\n",
            "Epoch 48/100\n",
            "15/15 [==============================] - 0s 7ms/step - loss: -0.3857 - val_loss: -0.3991\n",
            "Epoch 49/100\n",
            "15/15 [==============================] - 0s 6ms/step - loss: -0.4211 - val_loss: -0.4372\n",
            "Epoch 50/100\n",
            "15/15 [==============================] - 0s 7ms/step - loss: -0.4623 - val_loss: -0.4814\n",
            "Epoch 51/100\n",
            "15/15 [==============================] - 0s 7ms/step - loss: -0.5100 - val_loss: -0.5334\n",
            "Epoch 52/100\n",
            "15/15 [==============================] - 0s 7ms/step - loss: -0.5664 - val_loss: -0.5948\n",
            "Epoch 53/100\n",
            "15/15 [==============================] - 0s 7ms/step - loss: -0.6334 - val_loss: -0.6671\n",
            "Epoch 54/100\n",
            "15/15 [==============================] - 0s 7ms/step - loss: -0.7118 - val_loss: -0.7532\n",
            "Epoch 55/100\n",
            "15/15 [==============================] - 0s 7ms/step - loss: -0.8042 - val_loss: -0.8547\n",
            "Epoch 56/100\n",
            "15/15 [==============================] - 0s 7ms/step - loss: -0.9162 - val_loss: -0.9752\n",
            "Epoch 57/100\n",
            "15/15 [==============================] - 0s 6ms/step - loss: -1.0474 - val_loss: -1.1166\n",
            "Epoch 58/100\n",
            "15/15 [==============================] - 0s 7ms/step - loss: -1.2027 - val_loss: -1.2793\n",
            "Epoch 59/100\n",
            "15/15 [==============================] - 0s 8ms/step - loss: -1.3774 - val_loss: -1.4581\n",
            "Epoch 60/100\n",
            "15/15 [==============================] - 0s 6ms/step - loss: -1.5636 - val_loss: -1.6330\n",
            "Epoch 61/100\n",
            "15/15 [==============================] - 0s 6ms/step - loss: -1.7444 - val_loss: -1.7808\n",
            "Epoch 62/100\n",
            "15/15 [==============================] - 0s 6ms/step - loss: -1.8989 - val_loss: -1.8609\n",
            "Epoch 63/100\n",
            "15/15 [==============================] - 0s 6ms/step - loss: -2.0077 - val_loss: -1.8531\n",
            "Epoch 64/100\n",
            "15/15 [==============================] - 0s 6ms/step - loss: -2.0662 - val_loss: -1.7594\n",
            "Epoch 65/100\n",
            "15/15 [==============================] - 0s 6ms/step - loss: -2.1193 - val_loss: -1.8134\n",
            "Epoch 66/100\n",
            "15/15 [==============================] - 0s 8ms/step - loss: -2.1237 - val_loss: -1.4995\n",
            "Epoch 67/100\n",
            "15/15 [==============================] - 0s 8ms/step - loss: -2.1362 - val_loss: -1.7924\n",
            "Epoch 67: early stopping\n"
          ]
        }
      ],
      "source": [
        "hist = model.fit(x_train, y_train, epochs=100, batch_size=1024, validation_data=(x_test, y_test), callbacks=[es])"
      ]
    },
    {
      "cell_type": "code",
      "execution_count": 13,
      "metadata": {
        "colab": {
          "base_uri": "https://localhost:8080/",
          "height": 430
        },
        "id": "-kYo5KkJl1SM",
        "outputId": "8cc9961a-daba-42c9-b6e8-55a84b1a82b3"
      },
      "outputs": [
        {
          "output_type": "display_data",
          "data": {
            "text/plain": [
              "<Figure size 640x480 with 1 Axes>"
            ],
            "image/png": "[encoded data removed]"
          },
          "metadata": {}
        }
      ],
      "source": [
        "plt.plot(hist.history['loss'])\n",
        "plt.plot(hist.history['val_loss'])\n",
        "plt.show()"
      ]
    },
    {
      "cell_type": "markdown",
      "metadata": {
        "id": "zAUPAi7Yl1SM"
      },
      "source": [
        "### e)"
      ]
    },
    {
      "cell_type": "code",
      "execution_count": 14,
      "metadata": {
        "colab": {
          "base_uri": "https://localhost:8080/"
        },
        "id": "c3qnEYqql1SM",
        "outputId": "d28f11e5-ef00-4227-95a7-c10864d10fc5"
      },
      "outputs": [
        {
          "output_type": "stream",
          "name": "stdout",
          "text": [
            "625/625 [==============================] - 1s 1ms/step\n"
          ]
        }
      ],
      "source": [
        "t_x_pred = model.predict(x)[:,0]"
      ]
    },
    {
      "cell_type": "code",
      "execution_count": 15,
      "metadata": {
        "id": "4wL4M8Eel1SN"
      },
      "outputs": [],
      "source": [
        "t_x_opt = T_opt(x, mu1, mu2, Sigma1, Sigma2)"
      ]
    },
    {
      "cell_type": "code",
      "execution_count": 16,
      "metadata": {
        "colab": {
          "base_uri": "https://localhost:8080/",
          "height": 430
        },
        "id": "LF1e6FdWl1SN",
        "outputId": "1492a9a9-7f1a-4932-fc4c-258908a4c8ae"
      },
      "outputs": [
        {
          "output_type": "display_data",
          "data": {
            "text/plain": [
              "<Figure size 640x480 with 1 Axes>"
            ],
            "image/png": "[encoded data removed]"
          },
          "metadata": {}
        }
      ],
      "source": [
        "plt.plot(t_x_opt)\n",
        "plt.plot(t_x_pred)\n",
        "\n",
        "plt.show()"
      ]
    },
    {
      "cell_type": "code",
      "source": [
        "plt.plot(t_x_pred[y==1], t_x_opt[y==1], \"o\", alpha=0.2, markersize=2)\n",
        "plt.plot(t_x_pred[y==0], t_x_opt[y==0], \"o\", alpha=0.2, markersize=2)\n",
        "plt.grid()\n",
        "plt.show()"
      ],
      "metadata": {
        "colab": {
          "base_uri": "https://localhost:8080/",
          "height": 430
        },
        "id": "AAATWc1oM0ii",
        "outputId": "818b1bd6-7323-4837-9861-138f905ac195"
      },
      "execution_count": 17,
      "outputs": [
        {
          "output_type": "display_data",
          "data": {
            "text/plain": [
              "<Figure size 640x480 with 1 Axes>"
            ],
            "image/png": "[encoded data removed]"
          },
          "metadata": {}
        }
      ]
    },
    {
      "cell_type": "code",
      "execution_count": 18,
      "metadata": {
        "colab": {
          "base_uri": "https://localhost:8080/",
          "height": 430
        },
        "id": "FlmICDCal1SN",
        "outputId": "90a6dc87-8b01-4c5b-c25a-bdf5cb941d30"
      },
      "outputs": [
        {
          "output_type": "display_data",
          "data": {
            "text/plain": [
              "<Figure size 640x480 with 1 Axes>"
            ],
            "image/png": "[encoded data removed]"
          },
          "metadata": {}
        }
      ],
      "source": [
        "plt.plot(t_x_pred, t_x_opt, \"o\")\n",
        "plt.show()"
      ]
    },
    {
      "cell_type": "code",
      "execution_count": 19,
      "metadata": {
        "colab": {
          "base_uri": "https://localhost:8080/"
        },
        "id": "qfHonEMZl1SN",
        "outputId": "7378024d-9d27-4280-f0df-71685e504e41"
      },
      "outputs": [
        {
          "output_type": "execute_result",
          "data": {
            "text/plain": [
              "1.9704291241536946"
            ]
          },
          "metadata": {},
          "execution_count": 19
        }
      ],
      "source": [
        "DV_fun(y, t_x_pred)"
      ]
    },
    {
      "cell_type": "code",
      "execution_count": 20,
      "metadata": {
        "colab": {
          "base_uri": "https://localhost:8080/"
        },
        "id": "Y98oUKf9l1SO",
        "outputId": "e2db0441-c203-4128-c893-e7586b54dc69"
      },
      "outputs": [
        {
          "output_type": "execute_result",
          "data": {
            "text/plain": [
              "2.2382987287261025"
            ]
          },
          "metadata": {},
          "execution_count": 20
        }
      ],
      "source": [
        "DV_fun(y, t_x_opt)"
      ]
    },
    {
      "cell_type": "code",
      "execution_count": 21,
      "metadata": {
        "id": "ee2YQL7ol1SO"
      },
      "outputs": [],
      "source": [
        "# new data\n",
        "n_new = 10000\n",
        "x1 = np.random.multivariate_normal(mu1, Sigma1, size=n_new)\n",
        "x2 = np.random.multivariate_normal(mu2, Sigma2, size=n_new)\n",
        "x_new = np.concatenate((x1, x2), axis=0)\n",
        "y_new = np.concatenate((1.0*np.ones(n_new), 0.0*np.zeros(n_new)))"
      ]
    },
    {
      "cell_type": "code",
      "source": [
        "t_x_pred = model.predict(x_new)\n",
        "t_x_pred = t_x_pred[:,0]"
      ],
      "metadata": {
        "colab": {
          "base_uri": "https://localhost:8080/"
        },
        "id": "MvCCZFdwMDx4",
        "outputId": "ebea5a37-9bb2-406a-cb43-aa0a24e19b14"
      },
      "execution_count": 22,
      "outputs": [
        {
          "output_type": "stream",
          "name": "stdout",
          "text": [
            "625/625 [==============================] - 1s 2ms/step\n"
          ]
        }
      ]
    },
    {
      "cell_type": "code",
      "source": [
        "t_x_opt = T_opt(x_new, mu1, mu2, Sigma1, Sigma2)"
      ],
      "metadata": {
        "id": "NU_cfpmGMK1c"
      },
      "execution_count": 23,
      "outputs": []
    },
    {
      "cell_type": "code",
      "source": [
        "DV_fun(y_new, t_x_pred)"
      ],
      "metadata": {
        "colab": {
          "base_uri": "https://localhost:8080/"
        },
        "id": "WKuFMLnxMPVo",
        "outputId": "2795df92-9803-43bd-ff6f-5cab4ceb4593"
      },
      "execution_count": 24,
      "outputs": [
        {
          "output_type": "execute_result",
          "data": {
            "text/plain": [
              "2.2373627330152264"
            ]
          },
          "metadata": {},
          "execution_count": 24
        }
      ]
    },
    {
      "cell_type": "code",
      "source": [
        "DV_fun(y_new, t_x_opt)"
      ],
      "metadata": {
        "colab": {
          "base_uri": "https://localhost:8080/"
        },
        "id": "5quaMnF2MSxF",
        "outputId": "73638c79-a2dc-46d2-87f0-cde41a40def8"
      },
      "execution_count": 25,
      "outputs": [
        {
          "output_type": "execute_result",
          "data": {
            "text/plain": [
              "2.385730002424535"
            ]
          },
          "metadata": {},
          "execution_count": 25
        }
      ]
    },
    {
      "cell_type": "markdown",
      "metadata": {
        "id": "iSIk6efpl1SO"
      },
      "source": [
        "### f)"
      ]
    },
    {
      "cell_type": "code",
      "source": [
        "def NWJ_fun(y, t):\n",
        "  return np.mean(t[y == 1]) - np.mean(np.exp(t[y == 0] - 1))"
      ],
      "metadata": {
        "id": "pGE8UndwskV7"
      },
      "execution_count": 38,
      "outputs": []
    },
    {
      "cell_type": "code",
      "execution_count": 39,
      "metadata": {
        "id": "_ZF06PZUl1SO"
      },
      "outputs": [],
      "source": [
        "def NWJ_loss(y_true, y_pred):\n",
        "  n1 = tf.math.reduce_sum(y_true)\n",
        "  n2 = tf.math.reduce_sum(tf.subtract(tf.convert_to_tensor(1.0), y_true))\n",
        "  first_term = tf.math.reduce_sum(tf.math.multiply(y_pred, y_true)) / n1\n",
        "  second_term = tf.math.reduce_sum(tf.math.multiply(\n",
        "      tf.math.exp(tf.subtract(y_pred, tf.convert_to_tensor(1.0))),\n",
        "      tf.subtract(tf.convert_to_tensor(1.0), y_true))\n",
        "  ) / n2\n",
        "  return -(first_term - second_term)"
      ]
    },
    {
      "cell_type": "code",
      "source": [
        "model_inputs = keras.Input(shape=(5))\n",
        "layer_out = Dense(64, activation='softplus')(model_inputs)\n",
        "#layer_out = Dense(125, activation='tanh')(layer_out)\n",
        "#layer_out = Dense(64)(layer_out)\n",
        "model_outputs = Dense(1)(layer_out)\n",
        "model = keras.Model(model_inputs, model_outputs)\n",
        "\n",
        "optimizer = keras.optimizers.SGD(learning_rate=5e-3)\n",
        "es = tf.keras.callbacks.EarlyStopping(monitor='val_loss', mode='min', verbose=1, patience=5)\n",
        "model.compile(optimizer=optimizer, loss=NWJ_loss)"
      ],
      "metadata": {
        "id": "NWN5y7bHxQyI"
      },
      "execution_count": 60,
      "outputs": []
    },
    {
      "cell_type": "code",
      "source": [
        "hist2 = model.fit(x_train, y_train, epochs=300, batch_size=1024, validation_data=(x_test, y_test), callbacks=[es])"
      ],
      "metadata": {
        "colab": {
          "base_uri": "https://localhost:8080/"
        },
        "id": "TKXV8H92xTWc",
        "outputId": "d23ff516-902e-48c5-8935-8268becd88a0"
      },
      "execution_count": 61,
      "outputs": [
        {
          "output_type": "stream",
          "name": "stdout",
          "text": [
            "Epoch 1/300\n",
            "15/15 [==============================] - 1s 29ms/step - loss: -0.0192 - val_loss: -0.0284\n",
            "Epoch 2/300\n",
            "15/15 [==============================] - 0s 9ms/step - loss: -0.0278 - val_loss: -0.0338\n",
            "Epoch 3/300\n",
            "15/15 [==============================] - 0s 10ms/step - loss: -0.0330 - val_loss: -0.0385\n",
            "Epoch 4/300\n",
            "15/15 [==============================] - 0s 13ms/step - loss: -0.0372 - val_loss: -0.0424\n",
            "Epoch 5/300\n",
            "15/15 [==============================] - 0s 12ms/step - loss: -0.0409 - val_loss: -0.0458\n",
            "Epoch 6/300\n",
            "15/15 [==============================] - 0s 9ms/step - loss: -0.0439 - val_loss: -0.0487\n",
            "Epoch 7/300\n",
            "15/15 [==============================] - 0s 24ms/step - loss: -0.0468 - val_loss: -0.0512\n",
            "Epoch 8/300\n",
            "15/15 [==============================] - 0s 20ms/step - loss: -0.0491 - val_loss: -0.0534\n",
            "Epoch 9/300\n",
            "15/15 [==============================] - 0s 17ms/step - loss: -0.0512 - val_loss: -0.0553\n",
            "Epoch 10/300\n",
            "15/15 [==============================] - 0s 26ms/step - loss: -0.0528 - val_loss: -0.0569\n",
            "Epoch 11/300\n",
            "15/15 [==============================] - 0s 20ms/step - loss: -0.0545 - val_loss: -0.0584\n",
            "Epoch 12/300\n",
            "15/15 [==============================] - 0s 22ms/step - loss: -0.0562 - val_loss: -0.0597\n",
            "Epoch 13/300\n",
            "15/15 [==============================] - 0s 6ms/step - loss: -0.0574 - val_loss: -0.0609\n",
            "Epoch 14/300\n",
            "15/15 [==============================] - 0s 5ms/step - loss: -0.0584 - val_loss: -0.0620\n",
            "Epoch 15/300\n",
            "15/15 [==============================] - 0s 8ms/step - loss: -0.0597 - val_loss: -0.0629\n",
            "Epoch 16/300\n",
            "15/15 [==============================] - 0s 5ms/step - loss: -0.0606 - val_loss: -0.0638\n",
            "Epoch 17/300\n",
            "15/15 [==============================] - 0s 6ms/step - loss: -0.0616 - val_loss: -0.0647\n",
            "Epoch 18/300\n",
            "15/15 [==============================] - 0s 7ms/step - loss: -0.0622 - val_loss: -0.0654\n",
            "Epoch 19/300\n",
            "15/15 [==============================] - 0s 6ms/step - loss: -0.0627 - val_loss: -0.0662\n",
            "Epoch 20/300\n",
            "15/15 [==============================] - 0s 7ms/step - loss: -0.0636 - val_loss: -0.0669\n",
            "Epoch 21/300\n",
            "15/15 [==============================] - 0s 6ms/step - loss: -0.0641 - val_loss: -0.0675\n",
            "Epoch 22/300\n",
            "15/15 [==============================] - 0s 6ms/step - loss: -0.0650 - val_loss: -0.0682\n",
            "Epoch 23/300\n",
            "15/15 [==============================] - 0s 6ms/step - loss: -0.0653 - val_loss: -0.0688\n",
            "Epoch 24/300\n",
            "15/15 [==============================] - 0s 6ms/step - loss: -0.0662 - val_loss: -0.0694\n",
            "Epoch 25/300\n",
            "15/15 [==============================] - 0s 6ms/step - loss: -0.0664 - val_loss: -0.0700\n",
            "Epoch 26/300\n",
            "15/15 [==============================] - 0s 6ms/step - loss: -0.0675 - val_loss: -0.0705\n",
            "Epoch 27/300\n",
            "15/15 [==============================] - 0s 5ms/step - loss: -0.0681 - val_loss: -0.0711\n",
            "Epoch 28/300\n",
            "15/15 [==============================] - 0s 5ms/step - loss: -0.0683 - val_loss: -0.0717\n",
            "Epoch 29/300\n",
            "15/15 [==============================] - 0s 6ms/step - loss: -0.0692 - val_loss: -0.0723\n",
            "Epoch 30/300\n",
            "15/15 [==============================] - 0s 5ms/step - loss: -0.0695 - val_loss: -0.0728\n",
            "Epoch 31/300\n",
            "15/15 [==============================] - 0s 6ms/step - loss: -0.0704 - val_loss: -0.0734\n",
            "Epoch 32/300\n",
            "15/15 [==============================] - 0s 5ms/step - loss: -0.0706 - val_loss: -0.0739\n",
            "Epoch 33/300\n",
            "15/15 [==============================] - 0s 6ms/step - loss: -0.0716 - val_loss: -0.0745\n",
            "Epoch 34/300\n",
            "15/15 [==============================] - 0s 6ms/step - loss: -0.0718 - val_loss: -0.0750\n",
            "Epoch 35/300\n",
            "15/15 [==============================] - 0s 5ms/step - loss: -0.0724 - val_loss: -0.0756\n",
            "Epoch 36/300\n",
            "15/15 [==============================] - 0s 8ms/step - loss: -0.0730 - val_loss: -0.0761\n",
            "Epoch 37/300\n",
            "15/15 [==============================] - 0s 6ms/step - loss: -0.0735 - val_loss: -0.0767\n",
            "Epoch 38/300\n",
            "15/15 [==============================] - 0s 6ms/step - loss: -0.0741 - val_loss: -0.0772\n",
            "Epoch 39/300\n",
            "15/15 [==============================] - 0s 6ms/step - loss: -0.0747 - val_loss: -0.0778\n",
            "Epoch 40/300\n",
            "15/15 [==============================] - 0s 6ms/step - loss: -0.0752 - val_loss: -0.0784\n",
            "Epoch 41/300\n",
            "15/15 [==============================] - 0s 6ms/step - loss: -0.0757 - val_loss: -0.0789\n",
            "Epoch 42/300\n",
            "15/15 [==============================] - 0s 7ms/step - loss: -0.0765 - val_loss: -0.0795\n",
            "Epoch 43/300\n",
            "15/15 [==============================] - 0s 6ms/step - loss: -0.0769 - val_loss: -0.0801\n",
            "Epoch 44/300\n",
            "15/15 [==============================] - 0s 6ms/step - loss: -0.0776 - val_loss: -0.0806\n",
            "Epoch 45/300\n",
            "15/15 [==============================] - 0s 6ms/step - loss: -0.0777 - val_loss: -0.0812\n",
            "Epoch 46/300\n",
            "15/15 [==============================] - 0s 5ms/step - loss: -0.0787 - val_loss: -0.0818\n",
            "Epoch 47/300\n",
            "15/15 [==============================] - 0s 6ms/step - loss: -0.0792 - val_loss: -0.0824\n",
            "Epoch 48/300\n",
            "15/15 [==============================] - 0s 7ms/step - loss: -0.0795 - val_loss: -0.0830\n",
            "Epoch 49/300\n",
            "15/15 [==============================] - 0s 6ms/step - loss: -0.0805 - val_loss: -0.0836\n",
            "Epoch 50/300\n",
            "15/15 [==============================] - 0s 5ms/step - loss: -0.0808 - val_loss: -0.0841\n",
            "Epoch 51/300\n",
            "15/15 [==============================] - 0s 5ms/step - loss: -0.0815 - val_loss: -0.0848\n",
            "Epoch 52/300\n",
            "15/15 [==============================] - 0s 6ms/step - loss: -0.0824 - val_loss: -0.0854\n",
            "Epoch 53/300\n",
            "15/15 [==============================] - 0s 6ms/step - loss: -0.0830 - val_loss: -0.0860\n",
            "Epoch 54/300\n",
            "15/15 [==============================] - 0s 6ms/step - loss: -0.0835 - val_loss: -0.0867\n",
            "Epoch 55/300\n",
            "15/15 [==============================] - 0s 6ms/step - loss: -0.0840 - val_loss: -0.0872\n",
            "Epoch 56/300\n",
            "15/15 [==============================] - 0s 7ms/step - loss: -0.0847 - val_loss: -0.0879\n",
            "Epoch 57/300\n",
            "15/15 [==============================] - 0s 7ms/step - loss: -0.0853 - val_loss: -0.0886\n",
            "Epoch 58/300\n",
            "15/15 [==============================] - 0s 6ms/step - loss: -0.0857 - val_loss: -0.0892\n",
            "Epoch 59/300\n",
            "15/15 [==============================] - 0s 6ms/step - loss: -0.0868 - val_loss: -0.0898\n",
            "Epoch 60/300\n",
            "15/15 [==============================] - 0s 6ms/step - loss: -0.0871 - val_loss: -0.0905\n",
            "Epoch 61/300\n",
            "15/15 [==============================] - 0s 5ms/step - loss: -0.0878 - val_loss: -0.0912\n",
            "Epoch 62/300\n",
            "15/15 [==============================] - 0s 5ms/step - loss: -0.0889 - val_loss: -0.0919\n",
            "Epoch 63/300\n",
            "15/15 [==============================] - 0s 5ms/step - loss: -0.0891 - val_loss: -0.0925\n",
            "Epoch 64/300\n",
            "15/15 [==============================] - 0s 6ms/step - loss: -0.0900 - val_loss: -0.0931\n",
            "Epoch 65/300\n",
            "15/15 [==============================] - 0s 6ms/step - loss: -0.0907 - val_loss: -0.0939\n",
            "Epoch 66/300\n",
            "15/15 [==============================] - 0s 6ms/step - loss: -0.0913 - val_loss: -0.0946\n",
            "Epoch 67/300\n",
            "15/15 [==============================] - 0s 6ms/step - loss: -0.0920 - val_loss: -0.0953\n",
            "Epoch 68/300\n",
            "15/15 [==============================] - 0s 8ms/step - loss: -0.0926 - val_loss: -0.0960\n",
            "Epoch 69/300\n",
            "15/15 [==============================] - 0s 6ms/step - loss: -0.0933 - val_loss: -0.0968\n",
            "Epoch 70/300\n",
            "15/15 [==============================] - 0s 6ms/step - loss: -0.0938 - val_loss: -0.0975\n",
            "Epoch 71/300\n",
            "15/15 [==============================] - 0s 6ms/step - loss: -0.0952 - val_loss: -0.0983\n",
            "Epoch 72/300\n",
            "15/15 [==============================] - 0s 6ms/step - loss: -0.0955 - val_loss: -0.0991\n",
            "Epoch 73/300\n",
            "15/15 [==============================] - 0s 6ms/step - loss: -0.0962 - val_loss: -0.0998\n",
            "Epoch 74/300\n",
            "15/15 [==============================] - 0s 6ms/step - loss: -0.0973 - val_loss: -0.1006\n",
            "Epoch 75/300\n",
            "15/15 [==============================] - 0s 5ms/step - loss: -0.0982 - val_loss: -0.1014\n",
            "Epoch 76/300\n",
            "15/15 [==============================] - 0s 6ms/step - loss: -0.0988 - val_loss: -0.1022\n",
            "Epoch 77/300\n",
            "15/15 [==============================] - 0s 6ms/step - loss: -0.0996 - val_loss: -0.1030\n",
            "Epoch 78/300\n",
            "15/15 [==============================] - 0s 7ms/step - loss: -0.1006 - val_loss: -0.1038\n",
            "Epoch 79/300\n",
            "15/15 [==============================] - 0s 7ms/step - loss: -0.1012 - val_loss: -0.1046\n",
            "Epoch 80/300\n",
            "15/15 [==============================] - 0s 7ms/step - loss: -0.1020 - val_loss: -0.1055\n",
            "Epoch 81/300\n",
            "15/15 [==============================] - 0s 6ms/step - loss: -0.1027 - val_loss: -0.1063\n",
            "Epoch 82/300\n",
            "15/15 [==============================] - 0s 8ms/step - loss: -0.1038 - val_loss: -0.1072\n",
            "Epoch 83/300\n",
            "15/15 [==============================] - 0s 7ms/step - loss: -0.1047 - val_loss: -0.1081\n",
            "Epoch 84/300\n",
            "15/15 [==============================] - 0s 6ms/step - loss: -0.1058 - val_loss: -0.1090\n",
            "Epoch 85/300\n",
            "15/15 [==============================] - 0s 6ms/step - loss: -0.1064 - val_loss: -0.1098\n",
            "Epoch 86/300\n",
            "15/15 [==============================] - 0s 7ms/step - loss: -0.1076 - val_loss: -0.1107\n",
            "Epoch 87/300\n",
            "15/15 [==============================] - 0s 7ms/step - loss: -0.1081 - val_loss: -0.1117\n",
            "Epoch 88/300\n",
            "15/15 [==============================] - 0s 11ms/step - loss: -0.1092 - val_loss: -0.1126\n",
            "Epoch 89/300\n",
            "15/15 [==============================] - 0s 9ms/step - loss: -0.1101 - val_loss: -0.1136\n",
            "Epoch 90/300\n",
            "15/15 [==============================] - 0s 11ms/step - loss: -0.1111 - val_loss: -0.1146\n",
            "Epoch 91/300\n",
            "15/15 [==============================] - 0s 9ms/step - loss: -0.1120 - val_loss: -0.1156\n",
            "Epoch 92/300\n",
            "15/15 [==============================] - 0s 9ms/step - loss: -0.1132 - val_loss: -0.1166\n",
            "Epoch 93/300\n",
            "15/15 [==============================] - 0s 9ms/step - loss: -0.1140 - val_loss: -0.1177\n",
            "Epoch 94/300\n",
            "15/15 [==============================] - 0s 9ms/step - loss: -0.1154 - val_loss: -0.1187\n",
            "Epoch 95/300\n",
            "15/15 [==============================] - 0s 11ms/step - loss: -0.1163 - val_loss: -0.1197\n",
            "Epoch 96/300\n",
            "15/15 [==============================] - 0s 12ms/step - loss: -0.1170 - val_loss: -0.1208\n",
            "Epoch 97/300\n",
            "15/15 [==============================] - 0s 11ms/step - loss: -0.1185 - val_loss: -0.1219\n",
            "Epoch 98/300\n",
            "15/15 [==============================] - 0s 10ms/step - loss: -0.1193 - val_loss: -0.1231\n",
            "Epoch 99/300\n",
            "15/15 [==============================] - 0s 14ms/step - loss: -0.1207 - val_loss: -0.1241\n",
            "Epoch 100/300\n",
            "15/15 [==============================] - 0s 10ms/step - loss: -0.1216 - val_loss: -0.1253\n",
            "Epoch 101/300\n",
            "15/15 [==============================] - 0s 9ms/step - loss: -0.1229 - val_loss: -0.1265\n",
            "Epoch 102/300\n",
            "15/15 [==============================] - 0s 9ms/step - loss: -0.1240 - val_loss: -0.1277\n",
            "Epoch 103/300\n",
            "15/15 [==============================] - 0s 10ms/step - loss: -0.1255 - val_loss: -0.1289\n",
            "Epoch 104/300\n",
            "15/15 [==============================] - 0s 9ms/step - loss: -0.1264 - val_loss: -0.1302\n",
            "Epoch 105/300\n",
            "15/15 [==============================] - 0s 9ms/step - loss: -0.1278 - val_loss: -0.1314\n",
            "Epoch 106/300\n",
            "15/15 [==============================] - 0s 9ms/step - loss: -0.1291 - val_loss: -0.1327\n",
            "Epoch 107/300\n",
            "15/15 [==============================] - 0s 6ms/step - loss: -0.1304 - val_loss: -0.1339\n",
            "Epoch 108/300\n",
            "15/15 [==============================] - 0s 6ms/step - loss: -0.1315 - val_loss: -0.1353\n",
            "Epoch 109/300\n",
            "15/15 [==============================] - 0s 5ms/step - loss: -0.1332 - val_loss: -0.1367\n",
            "Epoch 110/300\n",
            "15/15 [==============================] - 0s 6ms/step - loss: -0.1341 - val_loss: -0.1381\n",
            "Epoch 111/300\n",
            "15/15 [==============================] - 0s 5ms/step - loss: -0.1359 - val_loss: -0.1395\n",
            "Epoch 112/300\n",
            "15/15 [==============================] - 0s 6ms/step - loss: -0.1373 - val_loss: -0.1410\n",
            "Epoch 113/300\n",
            "15/15 [==============================] - 0s 6ms/step - loss: -0.1388 - val_loss: -0.1424\n",
            "Epoch 114/300\n",
            "15/15 [==============================] - 0s 6ms/step - loss: -0.1402 - val_loss: -0.1440\n",
            "Epoch 115/300\n",
            "15/15 [==============================] - 0s 6ms/step - loss: -0.1419 - val_loss: -0.1455\n",
            "Epoch 116/300\n",
            "15/15 [==============================] - 0s 6ms/step - loss: -0.1435 - val_loss: -0.1470\n",
            "Epoch 117/300\n",
            "15/15 [==============================] - 0s 6ms/step - loss: -0.1446 - val_loss: -0.1486\n",
            "Epoch 118/300\n",
            "15/15 [==============================] - 0s 5ms/step - loss: -0.1465 - val_loss: -0.1502\n",
            "Epoch 119/300\n",
            "15/15 [==============================] - 0s 6ms/step - loss: -0.1480 - val_loss: -0.1519\n",
            "Epoch 120/300\n",
            "15/15 [==============================] - 0s 6ms/step - loss: -0.1500 - val_loss: -0.1536\n",
            "Epoch 121/300\n",
            "15/15 [==============================] - 0s 8ms/step - loss: -0.1516 - val_loss: -0.1553\n",
            "Epoch 122/300\n",
            "15/15 [==============================] - 0s 6ms/step - loss: -0.1538 - val_loss: -0.1571\n",
            "Epoch 123/300\n",
            "15/15 [==============================] - 0s 7ms/step - loss: -0.1550 - val_loss: -0.1589\n",
            "Epoch 124/300\n",
            "15/15 [==============================] - 0s 7ms/step - loss: -0.1573 - val_loss: -0.1608\n",
            "Epoch 125/300\n",
            "15/15 [==============================] - 0s 6ms/step - loss: -0.1592 - val_loss: -0.1627\n",
            "Epoch 126/300\n",
            "15/15 [==============================] - 0s 6ms/step - loss: -0.1607 - val_loss: -0.1646\n",
            "Epoch 127/300\n",
            "15/15 [==============================] - 0s 6ms/step - loss: -0.1630 - val_loss: -0.1666\n",
            "Epoch 128/300\n",
            "15/15 [==============================] - 0s 6ms/step - loss: -0.1651 - val_loss: -0.1686\n",
            "Epoch 129/300\n",
            "15/15 [==============================] - 0s 6ms/step - loss: -0.1670 - val_loss: -0.1706\n",
            "Epoch 130/300\n",
            "15/15 [==============================] - 0s 8ms/step - loss: -0.1691 - val_loss: -0.1728\n",
            "Epoch 131/300\n",
            "15/15 [==============================] - 0s 7ms/step - loss: -0.1713 - val_loss: -0.1749\n",
            "Epoch 132/300\n",
            "15/15 [==============================] - 0s 7ms/step - loss: -0.1731 - val_loss: -0.1771\n",
            "Epoch 133/300\n",
            "15/15 [==============================] - 0s 8ms/step - loss: -0.1756 - val_loss: -0.1794\n",
            "Epoch 134/300\n",
            "15/15 [==============================] - 0s 7ms/step - loss: -0.1779 - val_loss: -0.1817\n",
            "Epoch 135/300\n",
            "15/15 [==============================] - 0s 6ms/step - loss: -0.1804 - val_loss: -0.1841\n",
            "Epoch 136/300\n",
            "15/15 [==============================] - 0s 7ms/step - loss: -0.1827 - val_loss: -0.1865\n",
            "Epoch 137/300\n",
            "15/15 [==============================] - 0s 7ms/step - loss: -0.1852 - val_loss: -0.1890\n",
            "Epoch 138/300\n",
            "15/15 [==============================] - 0s 6ms/step - loss: -0.1880 - val_loss: -0.1916\n",
            "Epoch 139/300\n",
            "15/15 [==============================] - 0s 6ms/step - loss: -0.1907 - val_loss: -0.1942\n",
            "Epoch 140/300\n",
            "15/15 [==============================] - 0s 7ms/step - loss: -0.1932 - val_loss: -0.1969\n",
            "Epoch 141/300\n",
            "15/15 [==============================] - 0s 6ms/step - loss: -0.1964 - val_loss: -0.1996\n",
            "Epoch 142/300\n",
            "15/15 [==============================] - 0s 5ms/step - loss: -0.1991 - val_loss: -0.2025\n",
            "Epoch 143/300\n",
            "15/15 [==============================] - 0s 6ms/step - loss: -0.2015 - val_loss: -0.2053\n",
            "Epoch 144/300\n",
            "15/15 [==============================] - 0s 5ms/step - loss: -0.2047 - val_loss: -0.2082\n",
            "Epoch 145/300\n",
            "15/15 [==============================] - 0s 6ms/step - loss: -0.2072 - val_loss: -0.2113\n",
            "Epoch 146/300\n",
            "15/15 [==============================] - 0s 6ms/step - loss: -0.2108 - val_loss: -0.2143\n",
            "Epoch 147/300\n",
            "15/15 [==============================] - 0s 5ms/step - loss: -0.2137 - val_loss: -0.2176\n",
            "Epoch 148/300\n",
            "15/15 [==============================] - 0s 6ms/step - loss: -0.2172 - val_loss: -0.2209\n",
            "Epoch 149/300\n",
            "15/15 [==============================] - 0s 7ms/step - loss: -0.2202 - val_loss: -0.2243\n",
            "Epoch 150/300\n",
            "15/15 [==============================] - 0s 6ms/step - loss: -0.2237 - val_loss: -0.2277\n",
            "Epoch 151/300\n",
            "15/15 [==============================] - 0s 8ms/step - loss: -0.2277 - val_loss: -0.2312\n",
            "Epoch 152/300\n",
            "15/15 [==============================] - 0s 8ms/step - loss: -0.2309 - val_loss: -0.2348\n",
            "Epoch 153/300\n",
            "15/15 [==============================] - 0s 8ms/step - loss: -0.2349 - val_loss: -0.2385\n",
            "Epoch 154/300\n",
            "15/15 [==============================] - 0s 7ms/step - loss: -0.2385 - val_loss: -0.2424\n",
            "Epoch 155/300\n",
            "15/15 [==============================] - 0s 8ms/step - loss: -0.2424 - val_loss: -0.2462\n",
            "Epoch 156/300\n",
            "15/15 [==============================] - 0s 7ms/step - loss: -0.2465 - val_loss: -0.2503\n",
            "Epoch 157/300\n",
            "15/15 [==============================] - 0s 7ms/step - loss: -0.2504 - val_loss: -0.2545\n",
            "Epoch 158/300\n",
            "15/15 [==============================] - 0s 6ms/step - loss: -0.2546 - val_loss: -0.2587\n",
            "Epoch 159/300\n",
            "15/15 [==============================] - 0s 7ms/step - loss: -0.2592 - val_loss: -0.2631\n",
            "Epoch 160/300\n",
            "15/15 [==============================] - 0s 7ms/step - loss: -0.2638 - val_loss: -0.2676\n",
            "Epoch 161/300\n",
            "15/15 [==============================] - 0s 7ms/step - loss: -0.2682 - val_loss: -0.2722\n",
            "Epoch 162/300\n",
            "15/15 [==============================] - 0s 6ms/step - loss: -0.2735 - val_loss: -0.2769\n",
            "Epoch 163/300\n",
            "15/15 [==============================] - 0s 7ms/step - loss: -0.2778 - val_loss: -0.2818\n",
            "Epoch 164/300\n",
            "15/15 [==============================] - 0s 8ms/step - loss: -0.2825 - val_loss: -0.2868\n",
            "Epoch 165/300\n",
            "15/15 [==============================] - 0s 6ms/step - loss: -0.2878 - val_loss: -0.2920\n",
            "Epoch 166/300\n",
            "15/15 [==============================] - 0s 7ms/step - loss: -0.2935 - val_loss: -0.2973\n",
            "Epoch 167/300\n",
            "15/15 [==============================] - 0s 7ms/step - loss: -0.2998 - val_loss: -0.3027\n",
            "Epoch 168/300\n",
            "15/15 [==============================] - 0s 7ms/step - loss: -0.3053 - val_loss: -0.3083\n",
            "Epoch 169/300\n",
            "15/15 [==============================] - 0s 8ms/step - loss: -0.3102 - val_loss: -0.3141\n",
            "Epoch 170/300\n",
            "15/15 [==============================] - 0s 7ms/step - loss: -0.3161 - val_loss: -0.3200\n",
            "Epoch 171/300\n",
            "15/15 [==============================] - 0s 6ms/step - loss: -0.3224 - val_loss: -0.3262\n",
            "Epoch 172/300\n",
            "15/15 [==============================] - 0s 7ms/step - loss: -0.3287 - val_loss: -0.3325\n",
            "Epoch 173/300\n",
            "15/15 [==============================] - 0s 7ms/step - loss: -0.3350 - val_loss: -0.3390\n",
            "Epoch 174/300\n",
            "15/15 [==============================] - 0s 7ms/step - loss: -0.3423 - val_loss: -0.3457\n",
            "Epoch 175/300\n",
            "15/15 [==============================] - 0s 6ms/step - loss: -0.3485 - val_loss: -0.3525\n",
            "Epoch 176/300\n",
            "15/15 [==============================] - 0s 6ms/step - loss: -0.3557 - val_loss: -0.3596\n",
            "Epoch 177/300\n",
            "15/15 [==============================] - 0s 6ms/step - loss: -0.3634 - val_loss: -0.3670\n",
            "Epoch 178/300\n",
            "15/15 [==============================] - 0s 6ms/step - loss: -0.3708 - val_loss: -0.3745\n",
            "Epoch 179/300\n",
            "15/15 [==============================] - 0s 6ms/step - loss: -0.3785 - val_loss: -0.3822\n",
            "Epoch 180/300\n",
            "15/15 [==============================] - 0s 5ms/step - loss: -0.3867 - val_loss: -0.3903\n",
            "Epoch 181/300\n",
            "15/15 [==============================] - 0s 6ms/step - loss: -0.3951 - val_loss: -0.3985\n",
            "Epoch 182/300\n",
            "15/15 [==============================] - 0s 6ms/step - loss: -0.4034 - val_loss: -0.4070\n",
            "Epoch 183/300\n",
            "15/15 [==============================] - 0s 6ms/step - loss: -0.4124 - val_loss: -0.4157\n",
            "Epoch 184/300\n",
            "15/15 [==============================] - 0s 5ms/step - loss: -0.4211 - val_loss: -0.4247\n",
            "Epoch 185/300\n",
            "15/15 [==============================] - 0s 6ms/step - loss: -0.4304 - val_loss: -0.4340\n",
            "Epoch 186/300\n",
            "15/15 [==============================] - 0s 6ms/step - loss: -0.4399 - val_loss: -0.4437\n",
            "Epoch 187/300\n",
            "15/15 [==============================] - 0s 7ms/step - loss: -0.4495 - val_loss: -0.4536\n",
            "Epoch 188/300\n",
            "15/15 [==============================] - 0s 6ms/step - loss: -0.4606 - val_loss: -0.4638\n",
            "Epoch 189/300\n",
            "15/15 [==============================] - 0s 6ms/step - loss: -0.4709 - val_loss: -0.4744\n",
            "Epoch 190/300\n",
            "15/15 [==============================] - 0s 7ms/step - loss: -0.4819 - val_loss: -0.4853\n",
            "Epoch 191/300\n",
            "15/15 [==============================] - 0s 6ms/step - loss: -0.4927 - val_loss: -0.4964\n",
            "Epoch 192/300\n",
            "15/15 [==============================] - 0s 7ms/step - loss: -0.5045 - val_loss: -0.5080\n",
            "Epoch 193/300\n",
            "15/15 [==============================] - 0s 7ms/step - loss: -0.5167 - val_loss: -0.5200\n",
            "Epoch 194/300\n",
            "15/15 [==============================] - 0s 7ms/step - loss: -0.5297 - val_loss: -0.5324\n",
            "Epoch 195/300\n",
            "15/15 [==============================] - 0s 6ms/step - loss: -0.5411 - val_loss: -0.5451\n",
            "Epoch 196/300\n",
            "15/15 [==============================] - 0s 6ms/step - loss: -0.5548 - val_loss: -0.5582\n",
            "Epoch 197/300\n",
            "15/15 [==============================] - 0s 6ms/step - loss: -0.5682 - val_loss: -0.5717\n",
            "Epoch 198/300\n",
            "15/15 [==============================] - 0s 6ms/step - loss: -0.5826 - val_loss: -0.5858\n",
            "Epoch 199/300\n",
            "15/15 [==============================] - 0s 6ms/step - loss: -0.5964 - val_loss: -0.6002\n",
            "Epoch 200/300\n",
            "15/15 [==============================] - 0s 6ms/step - loss: -0.6127 - val_loss: -0.6152\n",
            "Epoch 201/300\n",
            "15/15 [==============================] - 0s 6ms/step - loss: -0.6274 - val_loss: -0.6306\n",
            "Epoch 202/300\n",
            "15/15 [==============================] - 0s 6ms/step - loss: -0.6430 - val_loss: -0.6465\n",
            "Epoch 203/300\n",
            "15/15 [==============================] - 0s 10ms/step - loss: -0.6594 - val_loss: -0.6629\n",
            "Epoch 204/300\n",
            "15/15 [==============================] - 0s 9ms/step - loss: -0.6764 - val_loss: -0.6798\n",
            "Epoch 205/300\n",
            "15/15 [==============================] - 0s 9ms/step - loss: -0.6940 - val_loss: -0.6972\n",
            "Epoch 206/300\n",
            "15/15 [==============================] - 0s 8ms/step - loss: -0.7129 - val_loss: -0.7152\n",
            "Epoch 207/300\n",
            "15/15 [==============================] - 0s 9ms/step - loss: -0.7306 - val_loss: -0.7337\n",
            "Epoch 208/300\n",
            "15/15 [==============================] - 0s 9ms/step - loss: -0.7498 - val_loss: -0.7529\n",
            "Epoch 209/300\n",
            "15/15 [==============================] - 0s 10ms/step - loss: -0.7689 - val_loss: -0.7726\n",
            "Epoch 210/300\n",
            "15/15 [==============================] - 0s 8ms/step - loss: -0.7896 - val_loss: -0.7928\n",
            "Epoch 211/300\n",
            "15/15 [==============================] - 0s 9ms/step - loss: -0.8106 - val_loss: -0.8136\n",
            "Epoch 212/300\n",
            "15/15 [==============================] - 0s 8ms/step - loss: -0.8321 - val_loss: -0.8352\n",
            "Epoch 213/300\n",
            "15/15 [==============================] - 0s 9ms/step - loss: -0.8547 - val_loss: -0.8573\n",
            "Epoch 214/300\n",
            "15/15 [==============================] - 0s 10ms/step - loss: -0.8782 - val_loss: -0.8801\n",
            "Epoch 215/300\n",
            "15/15 [==============================] - 0s 15ms/step - loss: -0.9017 - val_loss: -0.9034\n",
            "Epoch 216/300\n",
            "15/15 [==============================] - 0s 14ms/step - loss: -0.9252 - val_loss: -0.9275\n",
            "Epoch 217/300\n",
            "15/15 [==============================] - 0s 11ms/step - loss: -0.9498 - val_loss: -0.9521\n",
            "Epoch 218/300\n",
            "15/15 [==============================] - 0s 14ms/step - loss: -0.9754 - val_loss: -0.9772\n",
            "Epoch 219/300\n",
            "15/15 [==============================] - 0s 10ms/step - loss: -1.0011 - val_loss: -1.0033\n",
            "Epoch 220/300\n",
            "15/15 [==============================] - 0s 10ms/step - loss: -1.0283 - val_loss: -1.0296\n",
            "Epoch 221/300\n",
            "15/15 [==============================] - 0s 10ms/step - loss: -1.0557 - val_loss: -1.0566\n",
            "Epoch 222/300\n",
            "15/15 [==============================] - 0s 12ms/step - loss: -1.0834 - val_loss: -1.0843\n",
            "Epoch 223/300\n",
            "15/15 [==============================] - 0s 6ms/step - loss: -1.1118 - val_loss: -1.1122\n",
            "Epoch 224/300\n",
            "15/15 [==============================] - 0s 7ms/step - loss: -1.1407 - val_loss: -1.1411\n",
            "Epoch 225/300\n",
            "15/15 [==============================] - 0s 7ms/step - loss: -1.1706 - val_loss: -1.1702\n",
            "Epoch 226/300\n",
            "15/15 [==============================] - 0s 8ms/step - loss: -1.2017 - val_loss: -1.1996\n",
            "Epoch 227/300\n",
            "15/15 [==============================] - 0s 8ms/step - loss: -1.2309 - val_loss: -1.2296\n",
            "Epoch 228/300\n",
            "15/15 [==============================] - 0s 7ms/step - loss: -1.2625 - val_loss: -1.2593\n",
            "Epoch 229/300\n",
            "15/15 [==============================] - 0s 8ms/step - loss: -1.2931 - val_loss: -1.2900\n",
            "Epoch 230/300\n",
            "15/15 [==============================] - 0s 8ms/step - loss: -1.3261 - val_loss: -1.3206\n",
            "Epoch 231/300\n",
            "15/15 [==============================] - 0s 8ms/step - loss: -1.3568 - val_loss: -1.3515\n",
            "Epoch 232/300\n",
            "15/15 [==============================] - 0s 7ms/step - loss: -1.3890 - val_loss: -1.3821\n",
            "Epoch 233/300\n",
            "15/15 [==============================] - 0s 6ms/step - loss: -1.4211 - val_loss: -1.4128\n",
            "Epoch 234/300\n",
            "15/15 [==============================] - 0s 8ms/step - loss: -1.4536 - val_loss: -1.4426\n",
            "Epoch 235/300\n",
            "15/15 [==============================] - 0s 6ms/step - loss: -1.4834 - val_loss: -1.4726\n",
            "Epoch 236/300\n",
            "15/15 [==============================] - 0s 6ms/step - loss: -1.5164 - val_loss: -1.5021\n",
            "Epoch 237/300\n",
            "15/15 [==============================] - 0s 7ms/step - loss: -1.5478 - val_loss: -1.5306\n",
            "Epoch 238/300\n",
            "15/15 [==============================] - 0s 6ms/step - loss: -1.5783 - val_loss: -1.5592\n",
            "Epoch 239/300\n",
            "15/15 [==============================] - 0s 9ms/step - loss: -1.6086 - val_loss: -1.5864\n",
            "Epoch 240/300\n",
            "15/15 [==============================] - 0s 6ms/step - loss: -1.6387 - val_loss: -1.6131\n",
            "Epoch 241/300\n",
            "15/15 [==============================] - 0s 8ms/step - loss: -1.6661 - val_loss: -1.6385\n",
            "Epoch 242/300\n",
            "15/15 [==============================] - 0s 5ms/step - loss: -1.6939 - val_loss: -1.6631\n",
            "Epoch 243/300\n",
            "15/15 [==============================] - 0s 6ms/step - loss: -1.7202 - val_loss: -1.6863\n",
            "Epoch 244/300\n",
            "15/15 [==============================] - 0s 7ms/step - loss: -1.7470 - val_loss: -1.7089\n",
            "Epoch 245/300\n",
            "15/15 [==============================] - 0s 6ms/step - loss: -1.7736 - val_loss: -1.7284\n",
            "Epoch 246/300\n",
            "15/15 [==============================] - 0s 6ms/step - loss: -1.7943 - val_loss: -1.7470\n",
            "Epoch 247/300\n",
            "15/15 [==============================] - 0s 6ms/step - loss: -1.8180 - val_loss: -1.7648\n",
            "Epoch 248/300\n",
            "15/15 [==============================] - 0s 6ms/step - loss: -1.8410 - val_loss: -1.7826\n",
            "Epoch 249/300\n",
            "15/15 [==============================] - 0s 9ms/step - loss: -1.8605 - val_loss: -1.7961\n",
            "Epoch 250/300\n",
            "15/15 [==============================] - 0s 7ms/step - loss: -1.8778 - val_loss: -1.8102\n",
            "Epoch 251/300\n",
            "15/15 [==============================] - 0s 7ms/step - loss: -1.8957 - val_loss: -1.8208\n",
            "Epoch 252/300\n",
            "15/15 [==============================] - 0s 7ms/step - loss: -1.9143 - val_loss: -1.8295\n",
            "Epoch 253/300\n",
            "15/15 [==============================] - 0s 8ms/step - loss: -1.9252 - val_loss: -1.8397\n",
            "Epoch 254/300\n",
            "15/15 [==============================] - 0s 6ms/step - loss: -1.9400 - val_loss: -1.8418\n",
            "Epoch 255/300\n",
            "15/15 [==============================] - 0s 7ms/step - loss: -1.9520 - val_loss: -1.8554\n",
            "Epoch 256/300\n",
            "15/15 [==============================] - 0s 6ms/step - loss: -1.9641 - val_loss: -1.8569\n",
            "Epoch 257/300\n",
            "15/15 [==============================] - 0s 6ms/step - loss: -1.9760 - val_loss: -1.8673\n",
            "Epoch 258/300\n",
            "15/15 [==============================] - 0s 6ms/step - loss: -1.9871 - val_loss: -1.8627\n",
            "Epoch 259/300\n",
            "15/15 [==============================] - 0s 6ms/step - loss: -1.9925 - val_loss: -1.8721\n",
            "Epoch 260/300\n",
            "15/15 [==============================] - 0s 5ms/step - loss: -1.9960 - val_loss: -1.8689\n",
            "Epoch 261/300\n",
            "15/15 [==============================] - 0s 6ms/step - loss: -2.0123 - val_loss: -1.8704\n",
            "Epoch 262/300\n",
            "15/15 [==============================] - 0s 6ms/step - loss: -2.0148 - val_loss: -1.8686\n",
            "Epoch 263/300\n",
            "15/15 [==============================] - 0s 7ms/step - loss: -2.0195 - val_loss: -1.8808\n",
            "Epoch 264/300\n",
            "15/15 [==============================] - 0s 8ms/step - loss: -2.0233 - val_loss: -1.8717\n",
            "Epoch 265/300\n",
            "15/15 [==============================] - 0s 6ms/step - loss: -2.0264 - val_loss: -1.8747\n",
            "Epoch 266/300\n",
            "15/15 [==============================] - 0s 7ms/step - loss: -2.0352 - val_loss: -1.8741\n",
            "Epoch 267/300\n",
            "15/15 [==============================] - 0s 6ms/step - loss: -2.0356 - val_loss: -1.8728\n",
            "Epoch 268/300\n",
            "15/15 [==============================] - 0s 7ms/step - loss: -2.0437 - val_loss: -1.8773\n",
            "Epoch 268: early stopping\n"
          ]
        }
      ]
    },
    {
      "cell_type": "code",
      "source": [
        "plt.plot(hist2.history[\"loss\"])\n",
        "plt.plot(hist2.history[\"val_loss\"])\n",
        "plt.show()"
      ],
      "metadata": {
        "colab": {
          "base_uri": "https://localhost:8080/",
          "height": 430
        },
        "id": "Xhg2adyQu7Ym",
        "outputId": "2d854a1f-8244-45fa-83a7-820863cf5726"
      },
      "execution_count": 62,
      "outputs": [
        {
          "output_type": "display_data",
          "data": {
            "text/plain": [
              "<Figure size 640x480 with 1 Axes>"
            ],
            "image/png": "[encoded data removed]"
          },
          "metadata": {}
        }
      ]
    },
    {
      "cell_type": "code",
      "source": [
        "t_x_pred = model.predict(x)[:, 0]"
      ],
      "metadata": {
        "colab": {
          "base_uri": "https://localhost:8080/"
        },
        "id": "AUqWuTzzvFTz",
        "outputId": "380b8ec4-1ad8-4c91-8e71-49fdd00f9a94"
      },
      "execution_count": 71,
      "outputs": [
        {
          "output_type": "stream",
          "name": "stdout",
          "text": [
            "625/625 [==============================] - 3s 5ms/step\n"
          ]
        }
      ]
    },
    {
      "cell_type": "code",
      "source": [
        "t_x_opt = T_opt(x, mu1, mu2, Sigma1, Sigma2)"
      ],
      "metadata": {
        "id": "6tMAC_JrwTgB"
      },
      "execution_count": 72,
      "outputs": []
    },
    {
      "cell_type": "code",
      "source": [
        "plt.plot(t_x_opt)\n",
        "plt.plot(t_x_pred)\n",
        "\n",
        "plt.show()"
      ],
      "metadata": {
        "colab": {
          "base_uri": "https://localhost:8080/",
          "height": 430
        },
        "id": "h4ArEV2SwVmc",
        "outputId": "ace7aa82-ad01-4672-820e-4cfe425c7e9c"
      },
      "execution_count": 73,
      "outputs": [
        {
          "output_type": "display_data",
          "data": {
            "text/plain": [
              "<Figure size 640x480 with 1 Axes>"
            ],
            "image/png": "[encoded data removed]"
          },
          "metadata": {}
        }
      ]
    },
    {
      "cell_type": "code",
      "source": [
        "plt.plot(t_x_pred, t_x_opt, \"o\")\n",
        "plt.show()"
      ],
      "metadata": {
        "colab": {
          "base_uri": "https://localhost:8080/",
          "height": 430
        },
        "id": "7MwB7pZtwpGY",
        "outputId": "91d135f5-e52d-4c89-b30c-8da35f764cdb"
      },
      "execution_count": 74,
      "outputs": [
        {
          "output_type": "display_data",
          "data": {
            "text/plain": [
              "<Figure size 640x480 with 1 Axes>"
            ],
            "image/png": "[encoded data removed]"
          },
          "metadata": {}
        }
      ]
    },
    {
      "cell_type": "code",
      "source": [
        "NWJ_fun(y, t_x_pred)"
      ],
      "metadata": {
        "colab": {
          "base_uri": "https://localhost:8080/"
        },
        "id": "rH8dxjGTwpSb",
        "outputId": "53d0795d-395f-4445-ef12-41ef2bfee10a"
      },
      "execution_count": 75,
      "outputs": [
        {
          "output_type": "execute_result",
          "data": {
            "text/plain": [
              "2.0068727"
            ]
          },
          "metadata": {},
          "execution_count": 75
        }
      ]
    },
    {
      "cell_type": "code",
      "source": [
        "NWJ_fun(y, t_x_opt)"
      ],
      "metadata": {
        "colab": {
          "base_uri": "https://localhost:8080/"
        },
        "id": "yjZiWqZ6w3Fm",
        "outputId": "64553403-e727-471d-ea6f-df5b702aac40"
      },
      "execution_count": 76,
      "outputs": [
        {
          "output_type": "execute_result",
          "data": {
            "text/plain": [
              "1.8085485714652465"
            ]
          },
          "metadata": {},
          "execution_count": 76
        }
      ]
    },
    {
      "cell_type": "code",
      "source": [
        "t_x_pred = model.predict(x_new)[:, 0]"
      ],
      "metadata": {
        "colab": {
          "base_uri": "https://localhost:8080/"
        },
        "id": "qXqOF48Gw4t9",
        "outputId": "67f35a23-0e8a-41ce-925f-a83ac19311fc"
      },
      "execution_count": 77,
      "outputs": [
        {
          "output_type": "stream",
          "name": "stdout",
          "text": [
            "625/625 [==============================] - 1s 1ms/step\n"
          ]
        }
      ]
    },
    {
      "cell_type": "code",
      "source": [
        "t_x_opt = T_opt(x_new, mu1, mu2, Sigma1, Sigma2)"
      ],
      "metadata": {
        "id": "xuU3kVB_yFLd"
      },
      "execution_count": 78,
      "outputs": []
    },
    {
      "cell_type": "code",
      "source": [
        "NWJ_fun(y_new, t_x_pred)"
      ],
      "metadata": {
        "colab": {
          "base_uri": "https://localhost:8080/"
        },
        "id": "QS-xMr19yKpq",
        "outputId": "a86c24b6-a86d-4bb2-8a57-be0bada791a4"
      },
      "execution_count": 81,
      "outputs": [
        {
          "output_type": "execute_result",
          "data": {
            "text/plain": [
              "2.1286883"
            ]
          },
          "metadata": {},
          "execution_count": 81
        }
      ]
    },
    {
      "cell_type": "code",
      "source": [
        "NWJ_fun(y_new, t_x_opt)"
      ],
      "metadata": {
        "colab": {
          "base_uri": "https://localhost:8080/"
        },
        "id": "Z1TLdxoZyh3Q",
        "outputId": "72212b97-242b-4f2c-9d40-b83967cae4c0"
      },
      "execution_count": 82,
      "outputs": [
        {
          "output_type": "execute_result",
          "data": {
            "text/plain": [
              "1.9122792355903035"
            ]
          },
          "metadata": {},
          "execution_count": 82
        }
      ]
    },
    {
      "cell_type": "code",
      "source": [],
      "metadata": {
        "id": "l73ZsMp9yiC9"
      },
      "execution_count": null,
      "outputs": []
    }
  ],
  "metadata": {
    "kernelspec": {
      "display_name": "Python 3 (ipykernel)",
      "language": "python",
      "name": "python3"
    },
    "language_info": {
      "codemirror_mode": {
        "name": "ipython",
        "version": 3
      },
      "file_extension": ".py",
      "mimetype": "text/x-python",
      "name": "python",
      "nbconvert_exporter": "python",
      "pygments_lexer": "ipython3",
      "version": "3.9.16"
    },
    "colab": {
      "provenance": []
    }
  },
  "nbformat": 4,
  "nbformat_minor": 0
}