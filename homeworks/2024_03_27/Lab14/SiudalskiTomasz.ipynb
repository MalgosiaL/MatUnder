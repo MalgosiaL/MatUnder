{
 "cells": [
  {
   "cell_type": "code",
   "execution_count": 1,
   "metadata": {},
   "outputs": [],
   "source": [
    "from sklearn.metrics import mutual_info_score\n",
    "#from sklearn.feature_selection import chi2\n",
    "from scipy.stats import chi2_contingency\n",
    "from scipy.stats import chi2\n",
    "import numpy as np\n",
    "import matplotlib.pyplot as plt\n",
    "from scipy.stats import gaussian_kde, pearsonr\n",
    "import seaborn as sns\n",
    "import pandas as pd"
   ]
  },
  {
   "cell_type": "markdown",
   "metadata": {},
   "source": [
    "# Mathematical Underpinnings - Lab 4"
   ]
  },
  {
   "cell_type": "markdown",
   "metadata": {},
   "source": [
    "Tests to verify hipoteses of independence (from Lab 4):"
   ]
  },
  {
   "cell_type": "code",
   "execution_count": 2,
   "metadata": {},
   "outputs": [],
   "source": [
    "def indep_test_asymptotic(X, Y, stat):\n",
    "\n",
    "    if stat == \"mi\":\n",
    "\n",
    "        stat_value = 2*len(X)*mutual_info_score(X, Y)\n",
    "\n",
    "    if stat == \"chi2\":\n",
    "\n",
    "        test_res = (chi2_contingency(pd.crosstab(X, Y)))\n",
    "        stat_value = test_res.statistic\n",
    "\n",
    "    df = (len(np.unique(X)) - 1)*(len(np.unique(Y)) - 1)\n",
    "\n",
    "    p_value = 1 - chi2.cdf(stat_value, df=df)\n",
    "\n",
    "    return stat_value, p_value\n",
    "\n",
    "def indep_test_permutation(X, Y, B, stat=\"mi\"):\n",
    "\n",
    "    stat_value = mutual_info_score(X, Y)\n",
    "\n",
    "    condition_p_value = 0\n",
    "    for b in range(B):\n",
    "        X_b = np.random.permutation(X)\n",
    "\n",
    "        stat_value_b = mutual_info_score(X_b, Y)\n",
    "\n",
    "        if stat_value <= stat_value_b:\n",
    "            condition_p_value += 1\n",
    "\n",
    "    p_value = (1 + condition_p_value)/(1 + B)\n",
    "\n",
    "    return 2*len(X)*stat_value, p_value"
   ]
  },
  {
   "cell_type": "markdown",
   "metadata": {},
   "source": [
    "## Task 1"
   ]
  },
  {
   "cell_type": "code",
   "execution_count": 3,
   "metadata": {},
   "outputs": [],
   "source": [
    "# a function which computes CMI"
   ]
  },
  {
   "cell_type": "code",
   "execution_count": 4,
   "metadata": {},
   "outputs": [],
   "source": [
    "def cond_mutual_info(X, Y, Z):\n",
    "    mutual_info = 0\n",
    "    for i in np.unique(Z):\n",
    "        ind = np.where(Z==i)[0]\n",
    "        X_cond = X[ind]\n",
    "        Y_cond = Y[ind]\n",
    "        mutual_info += (len(ind)/len(Z)) * mutual_info_score(X_cond, Y_cond)\n",
    "    return mutual_info     "
   ]
  },
  {
   "cell_type": "markdown",
   "metadata": {},
   "source": [
    "### a)"
   ]
  },
  {
   "cell_type": "code",
   "execution_count": 5,
   "metadata": {},
   "outputs": [],
   "source": [
    "# CI test based on CMI and asymptotics"
   ]
  },
  {
   "cell_type": "code",
   "execution_count": 6,
   "metadata": {},
   "outputs": [],
   "source": [
    "def cond_indep_test_asymptotic(X, Y, Z, stat=\"mi\"):\n",
    "                          \n",
    "    stat_value = 2*len(X)*cond_mutual_info(X, Y, Z)\n",
    "\n",
    "    df = (len(np.unique(X)) - 1)*(len(np.unique(Y)) - 1)*(len(np.unique(Z)))\n",
    "\n",
    "    p_value = 1 - chi2.cdf(stat_value, df=df)\n",
    "\n",
    "    return stat_value, p_value"
   ]
  },
  {
   "cell_type": "markdown",
   "metadata": {},
   "source": [
    "### b)"
   ]
  },
  {
   "cell_type": "code",
   "execution_count": 7,
   "metadata": {},
   "outputs": [],
   "source": [
    "# CI test based on CMI and permutations"
   ]
  },
  {
   "cell_type": "code",
   "execution_count": 8,
   "metadata": {},
   "outputs": [],
   "source": [
    "def cond_indep_test_permutation(X, Y, Z, B, stat=\"mi\"):\n",
    "\n",
    "    stat_value = cond_mutual_info(X, Y, Z)\n",
    "\n",
    "    condition_p_value = 0\n",
    "    for b in range(B):\n",
    "        X_b = np.random.permutation(X)\n",
    "\n",
    "        stat_value_b = cond_mutual_info(X_b, Y, Z)\n",
    "\n",
    "        if stat_value <= stat_value_b:\n",
    "            condition_p_value += 1\n",
    "\n",
    "    p_value = (1 + condition_p_value)/(1 + B)\n",
    "\n",
    "    return 2*len(X)*stat_value, p_value"
   ]
  },
  {
   "cell_type": "markdown",
   "metadata": {},
   "source": [
    "### c)"
   ]
  },
  {
   "cell_type": "markdown",
   "metadata": {},
   "source": [
    "conditionaly independent"
   ]
  },
  {
   "cell_type": "code",
   "execution_count": 9,
   "metadata": {},
   "outputs": [],
   "source": [
    "sample_size = 1000\n",
    "\n",
    "X = np.random.normal(0, 1, sample_size)\n",
    "Y = np.random.normal(0, 1, sample_size)\n",
    "Z = np.random.normal(0, 1, sample_size)\n",
    "\n",
    "X_bins = np.linspace(X.min(), X.max(), 3)\n",
    "Y_bins = np.linspace(Y.min(), Y.max(), 3)\n",
    "Z_bins = np.linspace(Z.min(), Z.max(), 3)\n",
    "\n",
    "X_discrete = np.digitize(X, bins=X_bins)\n",
    "Y_discrete = np.digitize(Y, bins=Y_bins)\n",
    "Z_discrete = np.digitize(Z, bins=Z_bins)"
   ]
  },
  {
   "cell_type": "code",
   "execution_count": 10,
   "metadata": {},
   "outputs": [
    {
     "name": "stdout",
     "output_type": "stream",
     "text": [
      "Asymptotic test based on conditional mutual information:\n",
      "p-value: 0.9968858581205507\n",
      "Don't reject the null hypothesis\n"
     ]
    }
   ],
   "source": [
    "print(\"Asymptotic test based on conditional mutual information:\")\n",
    "pvalue = cond_indep_test_asymptotic(X_discrete, Y_discrete, Z_discrete, \"mi\")[1]\n",
    "print(f'p-value: {pvalue}')\n",
    "if pvalue < 0.05:\n",
    "    print(\"Reject the null hypothesis\")\n",
    "else:\n",
    "    print(\"Don't reject the null hypothesis\")"
   ]
  },
  {
   "cell_type": "code",
   "execution_count": 11,
   "metadata": {},
   "outputs": [
    {
     "name": "stdout",
     "output_type": "stream",
     "text": [
      "Permutation test:\n",
      "p-value: 0.801980198019802\n",
      "Don't reject the null hypothesis\n"
     ]
    }
   ],
   "source": [
    "print(\"Permutation test:\")\n",
    "pvalue = cond_indep_test_permutation(X_discrete, Y_discrete, Z_discrete, 100, \"mi\")[1]\n",
    "print(f'p-value: {pvalue}')\n",
    "if pvalue < 0.05:\n",
    "    print(\"Reject the null hypothesis\")\n",
    "else:\n",
    "    print(\"Don't reject the null hypothesis\")"
   ]
  },
  {
   "cell_type": "markdown",
   "metadata": {},
   "source": [
    "conditionaly dependent"
   ]
  },
  {
   "cell_type": "code",
   "execution_count": 12,
   "metadata": {},
   "outputs": [],
   "source": [
    "sample_size = 1000\n",
    "\n",
    "X_discrete = np.zeros(sample_size)\n",
    "Y_discrete = np.zeros(sample_size)\n",
    "\n",
    "Z = np.random.normal(0, 1, sample_size)\n",
    "Z_bins = np.linspace(Z.min(), Z.max(), 3)\n",
    "Z_discrete = np.digitize(Z, bins=Z_bins)\n",
    "\n",
    "\n",
    "for z in np.unique(Z_discrete):\n",
    "    mean = [0, 0]\n",
    "    covariance_matrix = [[1, 0.5], [0.5, 1]]\n",
    "\n",
    "    ind = np.where(Z_discrete==z)[0]\n",
    "    \n",
    "    sample = np.random.multivariate_normal(mean, covariance_matrix, len(ind))\n",
    "    x = sample[:, 0]\n",
    "    y = sample[:, 1]\n",
    "    \n",
    "    x_bins = np.linspace(x.min(), x.max(), 3)\n",
    "    y_bins = np.linspace(y.min(), y.max(), 3)\n",
    "    \n",
    "    x_discrete = np.digitize(x, bins=x_bins)\n",
    "    y_discrete = np.digitize(y, bins=y_bins)\n",
    "\n",
    "    X_discrete[ind] = x_discrete\n",
    "    Y_discrete[ind] = y_discrete"
   ]
  },
  {
   "cell_type": "code",
   "execution_count": 13,
   "metadata": {},
   "outputs": [
    {
     "name": "stdout",
     "output_type": "stream",
     "text": [
      "Asymptotic test based on conditional mutual information:\n",
      "p-value: 1.5765166949677223e-14\n",
      "Reject the null hypothesis\n"
     ]
    }
   ],
   "source": [
    "print(\"Asymptotic test based on conditional mutual information:\")\n",
    "pvalue = cond_indep_test_asymptotic(X_discrete, Y_discrete, Z_discrete, \"mi\")[1]\n",
    "print(f'p-value: {pvalue}')\n",
    "if pvalue < 0.05:\n",
    "    print(\"Reject the null hypothesis\")\n",
    "else:\n",
    "    print(\"Don't reject the null hypothesis\")"
   ]
  },
  {
   "cell_type": "code",
   "execution_count": 14,
   "metadata": {},
   "outputs": [
    {
     "name": "stdout",
     "output_type": "stream",
     "text": [
      "Permutation test:\n"
     ]
    },
    {
     "name": "stdout",
     "output_type": "stream",
     "text": [
      "p-value: 0.009900990099009901\n",
      "Reject the null hypothesis\n"
     ]
    }
   ],
   "source": [
    "print(\"Permutation test:\")\n",
    "pvalue = cond_indep_test_permutation(X_discrete, Y_discrete, Z_discrete, 100, \"mi\")[1]\n",
    "print(f'p-value: {pvalue}')\n",
    "if pvalue < 0.05:\n",
    "    print(\"Reject the null hypothesis\")\n",
    "else:\n",
    "    print(\"Don't reject the null hypothesis\")"
   ]
  },
  {
   "cell_type": "markdown",
   "metadata": {},
   "source": [
    "## Task 2"
   ]
  },
  {
   "cell_type": "code",
   "execution_count": 15,
   "metadata": {},
   "outputs": [],
   "source": [
    "def sample_from_model1():\n",
    "    sample_size = 1000\n",
    "    \n",
    "    Z = np.random.normal(0, 1, sample_size)\n",
    "    Z_discrete = np.digitize(Z, bins=[0])\n",
    "    Z_discrete[Z_discrete == 0] = -1\n",
    "\n",
    "    X = np.random.normal(Z_discrete/2, 1, sample_size)\n",
    "    X_discrete = np.digitize(X, bins=[0])\n",
    "    X_discrete[X_discrete == 0] = -1\n",
    "\n",
    "    Y = np.random.normal(Z_discrete/2, 1, sample_size)\n",
    "    Y_discrete = np.digitize(Y, bins=[0])\n",
    "    Y_discrete[Y_discrete == 0] = -1\n",
    "\n",
    "    return X_discrete, Y_discrete, Z_discrete"
   ]
  },
  {
   "cell_type": "code",
   "execution_count": 16,
   "metadata": {},
   "outputs": [],
   "source": [
    "def sample_from_model2():\n",
    "    sample_size = 1000\n",
    "\n",
    "    X = np.random.normal(0, 1, sample_size)\n",
    "    X_discrete = np.digitize(X, bins=[0])\n",
    "    X_discrete[X_discrete == 0] = -1\n",
    "    \n",
    "    Z = np.random.normal(X_discrete/2, 1, sample_size)\n",
    "    Z_discrete = np.digitize(Z, bins=[0])\n",
    "    Z_discrete[Z_discrete == 0] = -1\n",
    "\n",
    "    Y = np.random.normal(Z_discrete/2, 1, sample_size)\n",
    "    Y_discrete = np.digitize(Y, bins=[0])\n",
    "    Y_discrete[Y_discrete == 0] = -1\n",
    "    \n",
    "    return X_discrete, Y_discrete, Z_discrete"
   ]
  },
  {
   "cell_type": "code",
   "execution_count": 17,
   "metadata": {},
   "outputs": [],
   "source": [
    "def sample_from_model3():\n",
    "    sample_size = 1000\n",
    "\n",
    "    X = np.random.normal(0, 1, sample_size)\n",
    "    X_discrete = np.digitize(X, bins=[0])\n",
    "    X_discrete[X_discrete == 0] = -1\n",
    "\n",
    "    Y = np.random.normal(0, 1, sample_size)\n",
    "    Y_discrete = np.digitize(Y, bins=[0])\n",
    "    Y_discrete[Y_discrete == 0] = -1\n",
    "\n",
    "    \n",
    "    Z = np.random.normal((X_discrete+Y_discrete)/2, 1, sample_size)\n",
    "    Z_discrete = np.digitize(Z, bins=[0])\n",
    "    Z_discrete[Z_discrete == 0] = -1\n",
    "    \n",
    "    return X_discrete, Y_discrete, Z_discrete"
   ]
  },
  {
   "cell_type": "markdown",
   "metadata": {},
   "source": [
    "### a)"
   ]
  },
  {
   "cell_type": "markdown",
   "metadata": {},
   "source": [
    "answer: \\\n",
    "Model 1 : X and Y are dependent but X and Y are independent given Z \\\n",
    "Model 2 : X and Y are dependent but X and Y are independent given Z \\\n",
    "Model 3 : X and Y are independent but X and Y are dependent given Z"
   ]
  },
  {
   "cell_type": "markdown",
   "metadata": {},
   "source": [
    "### b)"
   ]
  },
  {
   "cell_type": "markdown",
   "metadata": {},
   "source": [
    "#### Model 1"
   ]
  },
  {
   "cell_type": "code",
   "execution_count": 18,
   "metadata": {},
   "outputs": [
    {
     "name": "stdout",
     "output_type": "stream",
     "text": [
      "Mutual information between X and Y:\n",
      "0.003610246588255428\n",
      "Conditional mutual information between X and Y given Z:\n",
      "0.0021709402328269124\n"
     ]
    }
   ],
   "source": [
    "X, Y, Z = sample_from_model1()\n",
    "\n",
    "print(\"Mutual information between X and Y:\")\n",
    "print(mutual_info_score(X, Y))\n",
    "print(\"Conditional mutual information between X and Y given Z:\")\n",
    "print(cond_mutual_info(X, Y, Z))"
   ]
  },
  {
   "cell_type": "markdown",
   "metadata": {},
   "source": [
    "#### Model 2"
   ]
  },
  {
   "cell_type": "code",
   "execution_count": 19,
   "metadata": {},
   "outputs": [
    {
     "name": "stdout",
     "output_type": "stream",
     "text": [
      "Mutual information between X and Y:\n",
      "0.013187009104361824\n",
      "Conditional mutual information between X and Y given Z:\n",
      "0.0011512107199705857\n"
     ]
    }
   ],
   "source": [
    "X, Y, Z = sample_from_model2()\n",
    "\n",
    "print(\"Mutual information between X and Y:\")\n",
    "print(mutual_info_score(X, Y))\n",
    "print(\"Conditional mutual information between X and Y given Z:\")\n",
    "print(cond_mutual_info(X, Y, Z))"
   ]
  },
  {
   "cell_type": "markdown",
   "metadata": {},
   "source": [
    "#### Model 3"
   ]
  },
  {
   "cell_type": "code",
   "execution_count": 20,
   "metadata": {},
   "outputs": [
    {
     "name": "stdout",
     "output_type": "stream",
     "text": [
      "Mutual information between X and Y:\n",
      "0.0005346946033590871\n",
      "Conditional mutual information between X and Y given Z:\n",
      "0.011311682778773157\n"
     ]
    }
   ],
   "source": [
    "X, Y, Z = sample_from_model3()\n",
    "\n",
    "print(\"Mutual information between X and Y:\")\n",
    "print(mutual_info_score(X, Y))\n",
    "print(\"Conditional mutual information between X and Y given Z:\")\n",
    "print(cond_mutual_info(X, Y, Z))"
   ]
  },
  {
   "cell_type": "markdown",
   "metadata": {},
   "source": [
    "### c)"
   ]
  },
  {
   "cell_type": "markdown",
   "metadata": {},
   "source": [
    "#### Model 1"
   ]
  },
  {
   "cell_type": "code",
   "execution_count": 21,
   "metadata": {},
   "outputs": [],
   "source": [
    "X, Y, Z = sample_from_model1()"
   ]
  },
  {
   "cell_type": "markdown",
   "metadata": {},
   "source": [
    "##### Independence"
   ]
  },
  {
   "cell_type": "code",
   "execution_count": 22,
   "metadata": {},
   "outputs": [
    {
     "name": "stdout",
     "output_type": "stream",
     "text": [
      "Asymptotic test based on mutual information:\n",
      "p-value: 5.319489388866394e-06\n",
      "X and Y are dependent\n",
      "Permutation test:\n",
      "p-value: 0.009900990099009901\n",
      "X and Y are dependent\n"
     ]
    }
   ],
   "source": [
    "print(\"Asymptotic test based on mutual information:\")\n",
    "pval_1 = indep_test_asymptotic(X, Y, \"mi\")[1]\n",
    "print(f'p-value: {pval_1}')\n",
    "if pval_1 < 0.05:\n",
    "    print(\"X and Y are dependent\")\n",
    "else:\n",
    "    print(\"X and Y are independent\")\n",
    "\n",
    "print(\"Permutation test:\")\n",
    "pval_2 = indep_test_permutation(X, Y, 100, \"mi\")[1]\n",
    "print(f'p-value: {pval_2}')\n",
    "if pval_2 < 0.05:\n",
    "    print(\"X and Y are dependent\")\n",
    "else:\n",
    "    print(\"X and Y are independent\")"
   ]
  },
  {
   "cell_type": "markdown",
   "metadata": {},
   "source": [
    "##### Conditional independence"
   ]
  },
  {
   "cell_type": "code",
   "execution_count": 23,
   "metadata": {},
   "outputs": [
    {
     "name": "stdout",
     "output_type": "stream",
     "text": [
      "Asymptotic test based on conditional mutual information:\n",
      "p-value: 0.5870807077745189\n",
      "X and Y are independent given Z\n",
      "Permutation test:\n",
      "p-value: 0.5445544554455446\n",
      "X and Y are independent given Z\n"
     ]
    }
   ],
   "source": [
    "print(\"Asymptotic test based on conditional mutual information:\")\n",
    "pval_3 = cond_indep_test_asymptotic(X, Y, Z, \"mi\")[1]\n",
    "print(f'p-value: {pval_3}')\n",
    "if pval_3 < 0.05:\n",
    "    print(\"X and Y are dependent given Z\")\n",
    "else:\n",
    "    print(\"X and Y are independent given Z\")\n",
    "\n",
    "print(\"Permutation test:\")\n",
    "pval_4 = cond_indep_test_permutation(X, Y, Z, 100, \"mi\")[1]\n",
    "print(f'p-value: {pval_4}')\n",
    "if pval_4 < 0.05:\n",
    "    print(\"X and Y are dependent given Z\")\n",
    "else:\n",
    "    print(\"X and Y are independent given Z\")"
   ]
  },
  {
   "cell_type": "markdown",
   "metadata": {},
   "source": [
    "#### Model 2"
   ]
  },
  {
   "cell_type": "code",
   "execution_count": 24,
   "metadata": {},
   "outputs": [],
   "source": [
    "X, Y, Z = sample_from_model2()"
   ]
  },
  {
   "cell_type": "markdown",
   "metadata": {},
   "source": [
    "##### Independence"
   ]
  },
  {
   "cell_type": "code",
   "execution_count": 25,
   "metadata": {},
   "outputs": [
    {
     "name": "stdout",
     "output_type": "stream",
     "text": [
      "Asymptotic test based on mutual information:\n",
      "p-value: 2.1245263289726424e-06\n",
      "X and Y are dependent\n",
      "Permutation test:\n"
     ]
    },
    {
     "name": "stdout",
     "output_type": "stream",
     "text": [
      "p-value: 0.009900990099009901\n",
      "X and Y are dependent\n"
     ]
    }
   ],
   "source": [
    "print(\"Asymptotic test based on mutual information:\")\n",
    "pval_1 = indep_test_asymptotic(X, Y, \"mi\")[1]\n",
    "print(f'p-value: {pval_1}')\n",
    "if pval_1 < 0.05:\n",
    "    print(\"X and Y are dependent\")\n",
    "else:\n",
    "    print(\"X and Y are independent\")\n",
    "\n",
    "print(\"Permutation test:\")\n",
    "pval_2 = indep_test_permutation(X, Y, 100, \"mi\")[1]\n",
    "print(f'p-value: {pval_2}')\n",
    "if pval_2 < 0.05:\n",
    "    print(\"X and Y are dependent\")\n",
    "else:\n",
    "    print(\"X and Y are independent\")"
   ]
  },
  {
   "cell_type": "markdown",
   "metadata": {},
   "source": [
    "##### Conditional independence"
   ]
  },
  {
   "cell_type": "code",
   "execution_count": 26,
   "metadata": {},
   "outputs": [
    {
     "name": "stdout",
     "output_type": "stream",
     "text": [
      "Asymptotic test based on conditional mutual information:\n",
      "p-value: 0.10192753924619047\n",
      "X and Y are independent given Z\n",
      "Permutation test:\n",
      "p-value: 0.12871287128712872\n",
      "X and Y are independent given Z\n"
     ]
    }
   ],
   "source": [
    "print(\"Asymptotic test based on conditional mutual information:\")\n",
    "pval_3 = cond_indep_test_asymptotic(X, Y, Z, \"mi\")[1]\n",
    "print(f'p-value: {pval_3}')\n",
    "if pval_3 < 0.05:\n",
    "    print(\"X and Y are dependent given Z\")\n",
    "else:\n",
    "    print(\"X and Y are independent given Z\")\n",
    "\n",
    "print(\"Permutation test:\")\n",
    "pval_4 = cond_indep_test_permutation(X, Y, Z, 100, \"mi\")[1]\n",
    "print(f'p-value: {pval_4}')\n",
    "if pval_4 < 0.05:\n",
    "    print(\"X and Y are dependent given Z\")\n",
    "else:\n",
    "    print(\"X and Y are independent given Z\")"
   ]
  },
  {
   "cell_type": "markdown",
   "metadata": {},
   "source": [
    "#### Model 3"
   ]
  },
  {
   "cell_type": "code",
   "execution_count": 27,
   "metadata": {},
   "outputs": [],
   "source": [
    "X, Y, Z = sample_from_model3()"
   ]
  },
  {
   "cell_type": "markdown",
   "metadata": {},
   "source": [
    "##### Independence"
   ]
  },
  {
   "cell_type": "code",
   "execution_count": 28,
   "metadata": {},
   "outputs": [
    {
     "name": "stdout",
     "output_type": "stream",
     "text": [
      "Asymptotic test based on mutual information:\n",
      "p-value: 0.8193933122883362\n",
      "X and Y are independent\n",
      "Permutation test:\n",
      "p-value: 0.8613861386138614\n",
      "X and Y are independent\n"
     ]
    }
   ],
   "source": [
    "print(\"Asymptotic test based on mutual information:\")\n",
    "pval_1 = indep_test_asymptotic(X, Y, \"mi\")[1]\n",
    "print(f'p-value: {pval_1}')\n",
    "if pval_1 < 0.05:\n",
    "    print(\"X and Y are dependent\")\n",
    "else:\n",
    "    print(\"X and Y are independent\")\n",
    "\n",
    "print(\"Permutation test:\")\n",
    "pval_2 = indep_test_permutation(X, Y, 100, \"mi\")[1]\n",
    "print(f'p-value: {pval_2}')\n",
    "if pval_2 < 0.05:\n",
    "    print(\"X and Y are dependent\")\n",
    "else:\n",
    "    print(\"X and Y are independent\")"
   ]
  },
  {
   "cell_type": "markdown",
   "metadata": {},
   "source": [
    "##### Conditional independence"
   ]
  },
  {
   "cell_type": "code",
   "execution_count": 29,
   "metadata": {},
   "outputs": [
    {
     "name": "stdout",
     "output_type": "stream",
     "text": [
      "Asymptotic test based on conditional mutual information:\n",
      "p-value: 0.0013173353545314903\n",
      "X and Y are dependent given Z\n",
      "Permutation test:\n",
      "p-value: 0.009900990099009901\n",
      "X and Y are dependent given Z\n"
     ]
    }
   ],
   "source": [
    "print(\"Asymptotic test based on conditional mutual information:\")\n",
    "pval_3 = cond_indep_test_asymptotic(X, Y, Z, \"mi\")[1]\n",
    "print(f'p-value: {pval_3}')\n",
    "if pval_3 < 0.05:\n",
    "    print(\"X and Y are dependent given Z\")\n",
    "else:\n",
    "    print(\"X and Y are independent given Z\")\n",
    "\n",
    "print(\"Permutation test:\")\n",
    "pval_4 = cond_indep_test_permutation(X, Y, Z, 100, \"mi\")[1]\n",
    "print(f'p-value: {pval_4}')\n",
    "if pval_4 < 0.05:\n",
    "    print(\"X and Y are dependent given Z\")\n",
    "else:\n",
    "    print(\"X and Y are independent given Z\")"
   ]
  },
  {
   "cell_type": "code",
   "execution_count": null,
   "metadata": {},
   "outputs": [],
   "source": []
  }
 ],
 "metadata": {
  "kernelspec": {
   "display_name": "Python 3 (ipykernel)",
   "language": "python",
   "name": "python3"
  },
  "language_info": {
   "codemirror_mode": {
    "name": "ipython",
    "version": 3
   },
   "file_extension": ".py",
   "mimetype": "text/x-python",
   "name": "python",
   "nbconvert_exporter": "python",
   "pygments_lexer": "ipython3",
   "version": "3.11.6"
  }
 },
 "nbformat": 4,
 "nbformat_minor": 4
}
