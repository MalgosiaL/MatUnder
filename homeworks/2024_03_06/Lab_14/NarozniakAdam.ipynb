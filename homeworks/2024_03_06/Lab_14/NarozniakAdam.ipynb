{
 "cells": [
  {
   "attachments": {},
   "cell_type": "markdown",
   "metadata": {},
   "source": [
    "# Mathematical Underpinnings - Lab 2"
   ]
  },
  {
   "cell_type": "code",
   "outputs": [],
   "source": [
    "import numpy as np\n",
    "import matplotlib.pyplot as plt\n",
    "import scipy"
   ],
   "metadata": {
    "collapsed": false,
    "ExecuteTime": {
     "end_time": "2024-03-06T14:07:27.449084Z",
     "start_time": "2024-03-06T14:07:27.409438Z"
    }
   },
   "execution_count": 40
  },
  {
   "attachments": {},
   "cell_type": "markdown",
   "metadata": {},
   "source": [
    "## Task 1"
   ]
  },
  {
   "cell_type": "markdown",
   "metadata": {},
   "source": [
    "### a)\n",
    "\n",
    "$R(a,a^*) = \\mathbb{E} \\mathcal{L}(f(X), Y) = \\mathbb{E}(aX - Y)^2 = ...$,\n",
    "\n",
    "In our task we know $a^* = 1$."
   ]
  },
  {
   "cell_type": "markdown",
   "source": [
    "$R(a,a^*) = \\mathbb{E} \\mathcal{L}(f(X), Y) = \\mathbb{E}(aX - Y)^2 = \\mathbb{E}(aX - (X + \\epsilon))^2 = \\mathbb{E}(X(a - 1) + \\epsilon)^2  = \\mathbb{E}(X^2(a - 1)^2 + 2X(a - 1)\\epsilon + \\epsilon^2) = (a-1)^2\\mathbb{E}(X^2) + 2(a-1)\\mathbb{E}(X)\\mathbb{E}(\\epsilon) + \\mathbb{E}(\\epsilon^2) = (a-1)^2 + \\sigma^2$,\n",
    "\n",
    "\n",
    "\n"
   ],
   "metadata": {
    "collapsed": false
   }
  },
  {
   "cell_type": "code",
   "outputs": [],
   "source": [
    "# (a - 1)^2 + sigma^2"
   ],
   "metadata": {
    "collapsed": false
   }
  },
  {
   "cell_type": "code",
   "execution_count": 14,
   "metadata": {
    "ExecuteTime": {
     "end_time": "2024-03-06T13:58:25.569105Z",
     "start_time": "2024-03-06T13:58:25.562195Z"
    }
   },
   "outputs": [],
   "source": [
    "def population_risk(a, sigma_eps):\n",
    "    return (a - 1)**2 + sigma_eps**2"
   ]
  },
  {
   "attachments": {},
   "cell_type": "markdown",
   "metadata": {},
   "source": [
    "### b)"
   ]
  },
  {
   "cell_type": "code",
   "execution_count": 72,
   "metadata": {
    "ExecuteTime": {
     "end_time": "2024-03-06T14:32:50.008969Z",
     "start_time": "2024-03-06T14:32:50.005244Z"
    }
   },
   "outputs": [],
   "source": [
    "# sampling\n",
    "n = 50\n",
    "sigma_pow_2 = 1\n",
    "X = np.random.normal(scale=1, size=n)\n",
    "epsilon = np.random.normal(scale=sigma_pow_2, size=n)\n",
    "a0 = 1\n",
    "Y = a0* X + epsilon"
   ]
  },
  {
   "cell_type": "code",
   "outputs": [
    {
     "data": {
      "text/plain": "array([-0.84892366, -0.37430672,  0.86263347])"
     },
     "execution_count": 73,
     "metadata": {},
     "output_type": "execute_result"
    }
   ],
   "source": [
    "X[:3]"
   ],
   "metadata": {
    "collapsed": false,
    "ExecuteTime": {
     "end_time": "2024-03-06T14:32:50.199215Z",
     "start_time": "2024-03-06T14:32:50.191159Z"
    }
   },
   "execution_count": 73
  },
  {
   "cell_type": "code",
   "outputs": [
    {
     "data": {
      "text/plain": "array([-0.46810467,  0.7406104 ,  1.76790104])"
     },
     "execution_count": 74,
     "metadata": {},
     "output_type": "execute_result"
    }
   ],
   "source": [
    "Y[:3]"
   ],
   "metadata": {
    "collapsed": false,
    "ExecuteTime": {
     "end_time": "2024-03-06T14:32:50.400673Z",
     "start_time": "2024-03-06T14:32:50.393586Z"
    }
   },
   "execution_count": 74
  },
  {
   "cell_type": "markdown",
   "metadata": {},
   "source": [
    "Empirical risk: $\\frac{1}{n} \\sum_{i=1}^n (ax_i - y_i)^2$"
   ]
  },
  {
   "cell_type": "code",
   "execution_count": 75,
   "metadata": {
    "ExecuteTime": {
     "end_time": "2024-03-06T14:32:50.737408Z",
     "start_time": "2024-03-06T14:32:50.734896Z"
    }
   },
   "outputs": [],
   "source": [
    "def empirical_risk(a, x, y):\n",
    "    y_hat = a * x \n",
    "    diff = y - y_hat\n",
    "    diff_pow_2 = np.power(diff, 2)\n",
    "    return np.mean(diff_pow_2) "
   ]
  },
  {
   "cell_type": "code",
   "outputs": [
    {
     "data": {
      "text/plain": "1.0529335592436733"
     },
     "execution_count": 76,
     "metadata": {},
     "output_type": "execute_result"
    }
   ],
   "source": [
    "empirical_risk(a=1, x=X, y=Y)"
   ],
   "metadata": {
    "collapsed": false,
    "ExecuteTime": {
     "end_time": "2024-03-06T14:32:50.931001Z",
     "start_time": "2024-03-06T14:32:50.927351Z"
    }
   },
   "execution_count": 76
  },
  {
   "attachments": {},
   "cell_type": "markdown",
   "metadata": {},
   "source": [
    "### c)"
   ]
  },
  {
   "cell_type": "code",
   "outputs": [],
   "source": [
    "a_range = np.linspace(-1, 3, num=300)\n",
    "# sigma_range = np.linspace(0, 3, num=300)\n",
    "sigma = 1. \n",
    "\n",
    "population_risks = np.array([population_risk(a, sigma) for a in a_range])\n",
    "empirical_risks = np.array([empirical_risk(a, X, Y) for a in a_range])"
   ],
   "metadata": {
    "collapsed": false,
    "ExecuteTime": {
     "end_time": "2024-03-06T14:32:51.309870Z",
     "start_time": "2024-03-06T14:32:51.306270Z"
    }
   },
   "execution_count": 77
  },
  {
   "cell_type": "code",
   "outputs": [],
   "source": [
    "import functools\n",
    "\n",
    "# population_risk_with_sigma_1 = functools.partial(population_risks, sigma_eps=1) \n",
    "def to_optimize(a):\n",
    "    return population_risk(a, sigma_eps=1)\n",
    "\n",
    "emp_min = scipy.optimize.minimize(to_optimize, x0=1)\n",
    "min_a_pop = emp_min[\"x\"]\n",
    "min_risk_pop = emp_min[\"fun\"]"
   ],
   "metadata": {
    "collapsed": false,
    "ExecuteTime": {
     "end_time": "2024-03-06T14:32:51.507902Z",
     "start_time": "2024-03-06T14:32:51.505820Z"
    }
   },
   "execution_count": 78
  },
  {
   "cell_type": "code",
   "outputs": [],
   "source": [
    "def to_optimize(a):\n",
    "    return empirical_risk(a, x=X, y=Y)\n",
    "emp_min = scipy.optimize.minimize(to_optimize, x0=1)\n",
    "min_a_emp = emp_min[\"x\"]\n",
    "min_risk_emp = emp_min[\"fun\"]"
   ],
   "metadata": {
    "collapsed": false,
    "ExecuteTime": {
     "end_time": "2024-03-06T14:32:51.731132Z",
     "start_time": "2024-03-06T14:32:51.724249Z"
    }
   },
   "execution_count": 79
  },
  {
   "cell_type": "code",
   "outputs": [],
   "source": [
    "#emp value on pupulation\n",
    "emp_val_on_pop = population_risk(min_a_emp, sigma_eps=1)"
   ],
   "metadata": {
    "collapsed": false,
    "ExecuteTime": {
     "end_time": "2024-03-06T14:32:51.946294Z",
     "start_time": "2024-03-06T14:32:51.941962Z"
    }
   },
   "execution_count": 80
  },
  {
   "cell_type": "code",
   "outputs": [
    {
     "data": {
      "text/plain": "<matplotlib.legend.Legend at 0x28497f910>"
     },
     "execution_count": 84,
     "metadata": {},
     "output_type": "execute_result"
    },
    {
     "data": {
      "text/plain": "<Figure size 640x480 with 1 Axes>",
      "image/png": "[encoded data removed]"
     },
     "metadata": {},
     "output_type": "display_data"
    }
   ],
   "source": [
    "plt.plot(a_range, population_risks, c=\"blue\", label=\"population\")\n",
    "plt.scatter(min_a_pop, min_risk_pop, c=\"blue\", label=\"min pop risk\")\n",
    "plt.plot(a_range, empirical_risks, c=\"orange\", label=\"empirical\")\n",
    "plt.scatter(min_a_emp, min_risk_emp, c=\"orange\", label=\"min emp risk\")\n",
    "plt.scatter(min_a_emp, emp_val_on_pop, c=\"red\", label=\"pop risk on emp a\")\n",
    "plt.xlim([0.75, 1.5])\n",
    "plt.ylim([0.75, 1.5])\n",
    "plt.xlabel(\"a\")\n",
    "plt.ylabel(\"Risk\")\n",
    "plt.legend()"
   ],
   "metadata": {
    "collapsed": false,
    "ExecuteTime": {
     "end_time": "2024-03-06T14:33:51.186753Z",
     "start_time": "2024-03-06T14:33:51.036692Z"
    }
   },
   "execution_count": 84
  },
  {
   "attachments": {},
   "cell_type": "markdown",
   "metadata": {},
   "source": [
    "### d)"
   ]
  },
  {
   "cell_type": "markdown",
   "metadata": {},
   "source": [
    "Excess risk: $$E(\\hat a, a^*) =R(\\hat a, a^*) - \\textrm{inf}_{a \\in A_0} R(a, a^*)$$"
   ]
  },
  {
   "cell_type": "code",
   "execution_count": 85,
   "metadata": {
    "ExecuteTime": {
     "end_time": "2024-03-06T14:36:01.136452Z",
     "start_time": "2024-03-06T14:36:01.130843Z"
    }
   },
   "outputs": [
    {
     "data": {
      "text/plain": "0.0077753991726992044"
     },
     "execution_count": 85,
     "metadata": {},
     "output_type": "execute_result"
    }
   ],
   "source": [
    "# excess risk\n",
    "excess_risk = emp_val_on_pop - min_risk_pop\n",
    "excess_risk[0]"
   ]
  },
  {
   "cell_type": "code",
   "execution_count": 90,
   "metadata": {
    "ExecuteTime": {
     "end_time": "2024-03-06T14:45:53.356866Z",
     "start_time": "2024-03-06T14:45:50.048546Z"
    }
   },
   "outputs": [
    {
     "name": "stdout",
     "output_type": "stream",
     "text": [
      "Mean excess risk for sample size 50 and 200 repeats\n",
      "0.024070492821122887\n"
     ]
    }
   ],
   "source": [
    "# simulations with fixed sample size\n",
    "L = 200\n",
    "n = 50\n",
    "samples_size_to_excess_risk = {}\n",
    "for n in range(20, 500, 10):\n",
    "    excess_risk_list = []\n",
    "    for l in range(L):\n",
    "        sigma_pow_2 = 1\n",
    "        X = np.random.normal(scale=1, size=n)\n",
    "        epsilon = np.random.normal(scale=sigma_pow_2, size=n)\n",
    "        a0 = 1\n",
    "        Y = a0* X + epsilon\n",
    "        def to_optimize(a):\n",
    "            return empirical_risk(a, x=X, y=Y)\n",
    "        emp_min = scipy.optimize.minimize(to_optimize, x0=1)\n",
    "        min_a_emp = emp_min[\"x\"]\n",
    "        min_risk_emp = emp_min[\"fun\"]\n",
    "        emp_val_on_pop = population_risk(min_a_emp, sigma_eps=1)\n",
    "        excess_risk = emp_val_on_pop - min_risk_pop\n",
    "        excess_risk_list.append(excess_risk[0])\n",
    "    samples_size_to_excess_risk[n] = np.mean(excess_risk_list)\n",
    "\n",
    "print(\"Mean excess risk for sample size 50 and 200 repeats\")  \n",
    "print(samples_size_to_excess_risk[50])"
   ]
  },
  {
   "cell_type": "code",
   "execution_count": 91,
   "metadata": {
    "ExecuteTime": {
     "end_time": "2024-03-06T14:45:53.357626Z",
     "start_time": "2024-03-06T14:45:53.344004Z"
    }
   },
   "outputs": [],
   "source": [
    "# simulations for various sample sizes"
   ]
  },
  {
   "cell_type": "code",
   "outputs": [
    {
     "data": {
      "text/plain": "[<matplotlib.lines.Line2D at 0x284ad4c70>]"
     },
     "execution_count": 92,
     "metadata": {},
     "output_type": "execute_result"
    },
    {
     "data": {
      "text/plain": "<Figure size 640x480 with 1 Axes>",
      "image/png": "[encoded data removed]"
     },
     "metadata": {},
     "output_type": "display_data"
    }
   ],
   "source": [
    "plt.plot(samples_size_to_excess_risk.keys(), samples_size_to_excess_risk.values())"
   ],
   "metadata": {
    "collapsed": false,
    "ExecuteTime": {
     "end_time": "2024-03-06T14:45:53.438354Z",
     "start_time": "2024-03-06T14:45:53.347334Z"
    }
   },
   "execution_count": 92
  },
  {
   "cell_type": "code",
   "execution_count": 40,
   "metadata": {},
   "outputs": [],
   "source": [
    "# a nice plot visualising the results (how the unconditional excess risk changes with a sample size)"
   ]
  }
 ],
 "metadata": {
  "kernelspec": {
   "display_name": "base",
   "language": "python",
   "name": "python3"
  },
  "language_info": {
   "codemirror_mode": {
    "name": "ipython",
    "version": 3
   },
   "file_extension": ".py",
   "mimetype": "text/x-python",
   "name": "python",
   "nbconvert_exporter": "python",
   "pygments_lexer": "ipython3",
   "version": "3.9.16"
  },
  "orig_nbformat": 4
 },
 "nbformat": 4,
 "nbformat_minor": 2
}
