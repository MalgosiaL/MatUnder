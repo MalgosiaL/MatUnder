{
 "cells": [
  {
   "cell_type": "code",
   "execution_count": 1,
   "metadata": {},
   "outputs": [],
   "source": [
    "from sklearn.metrics import mutual_info_score\n",
    "#from sklearn.feature_selection import chi2\n",
    "from scipy.stats import chi2_contingency\n",
    "from scipy.stats import chi2\n",
    "import numpy as np\n",
    "import matplotlib.pyplot as plt\n",
    "from scipy.stats import gaussian_kde, pearsonr\n",
    "import seaborn as sns\n",
    "import pandas as pd"
   ]
  },
  {
   "cell_type": "markdown",
   "metadata": {},
   "source": [
    "# Mathematical Underpinnings - Lab 4"
   ]
  },
  {
   "cell_type": "markdown",
   "metadata": {},
   "source": [
    "Tests to verify hipoteses of independence (from Lab 4):"
   ]
  },
  {
   "cell_type": "code",
   "execution_count": 2,
   "metadata": {},
   "outputs": [],
   "source": [
    "def indep_test_asymptotic(X, Y, stat):\n",
    "\n",
    "    if stat == \"mi\":\n",
    "\n",
    "        stat_value = 2*len(X)*mutual_info_score(X, Y)\n",
    "\n",
    "    if stat == \"chi2\":\n",
    "\n",
    "        test_res = (chi2_contingency(pd.crosstab(X, Y)))\n",
    "        stat_value = test_res.statistic\n",
    "\n",
    "    df = (len(np.unique(X)) - 1)*(len(np.unique(Y)) - 1)\n",
    "\n",
    "    p_value = 1 - chi2.cdf(stat_value, df=df)\n",
    "\n",
    "    return stat_value, p_value\n",
    "\n",
    "def indep_test_permutation(X, Y, B=100, stat=\"mi\"):\n",
    "    X = X.copy()\n",
    "    Y = Y.copy()\n",
    "\n",
    "    stat_value = mutual_info_score(X, Y)\n",
    "\n",
    "    condition_p_value = 0\n",
    "    for b in range(B):\n",
    "        X_b = np.random.permutation(X)\n",
    "\n",
    "        stat_value_b = mutual_info_score(X_b, Y)\n",
    "\n",
    "        if stat_value <= stat_value_b:\n",
    "            condition_p_value += 1\n",
    "\n",
    "    p_value = (1 + condition_p_value)/(1 + B)\n",
    "\n",
    "    return 2*len(X)*stat_value, p_value"
   ]
  },
  {
   "cell_type": "markdown",
   "metadata": {},
   "source": [
    "## Task 1"
   ]
  },
  {
   "cell_type": "code",
   "execution_count": 4,
   "metadata": {},
   "outputs": [],
   "source": [
    "# a function which computes CMI\n",
    "\n",
    "def CMI(X, Y, Z):\n",
    "    mi = 0\n",
    "    for z in np.unique(Z):\n",
    "        X_z = X[Z == z]\n",
    "        Y_z = Y[Z == z]\n",
    "        mi += mutual_info_score(X_z, Y_z) * len(X_z) / len(X)\n",
    "    return mi"
   ]
  },
  {
   "cell_type": "markdown",
   "metadata": {},
   "source": [
    "### a)"
   ]
  },
  {
   "cell_type": "code",
   "execution_count": 5,
   "metadata": {},
   "outputs": [],
   "source": [
    "def cond_indep_test_asymptotic(X, Y, Z):\n",
    "    X = X.copy()\n",
    "    Y = Y.copy()\n",
    "    Z = Z.copy()\n",
    "    stat_value = 2 * len(X) * CMI(X, Y, Z)\n",
    "\n",
    "    df = (len(np.unique(X)) - 1) * (len(np.unique(Y)) - 1) * len(np.unique(Z))\n",
    "\n",
    "    p_value = 1 - chi2.cdf(stat_value, df=df)\n",
    "\n",
    "    return stat_value, p_value"
   ]
  },
  {
   "cell_type": "markdown",
   "metadata": {},
   "source": [
    "### b)"
   ]
  },
  {
   "cell_type": "code",
   "execution_count": 6,
   "metadata": {},
   "outputs": [],
   "source": [
    "def cond_indep_test_permutation(X, Y, Z, B = 1000):\n",
    "    X = X.copy()\n",
    "    Y = Y.copy()\n",
    "    Z = Z.copy()\n",
    "    stat_value = CMI(X, Y, Z)\n",
    "\n",
    "    condition_p_value = 0\n",
    "    for b in range(B):\n",
    "        for z in np.unique(Z):\n",
    "            X[Z == z] = np.random.permutation(X[Z == z])\n",
    "\n",
    "        stat_value_b = CMI(X, Y, Z)\n",
    "        if stat_value <= stat_value_b:\n",
    "            condition_p_value += 1\n",
    "\n",
    "    p_value = (1 + condition_p_value)/(1 + B)\n",
    "           \n",
    "    return stat_value, p_value"
   ]
  },
  {
   "cell_type": "markdown",
   "metadata": {},
   "source": [
    "### c)"
   ]
  },
  {
   "cell_type": "markdown",
   "metadata": {},
   "source": [
    "conditionaly independent"
   ]
  },
  {
   "cell_type": "code",
   "execution_count": 7,
   "metadata": {},
   "outputs": [
    {
     "name": "stdout",
     "output_type": "stream",
     "text": [
      "Asymptotic test  (0.07491517046116947, 0.9632352722563632)\n",
      "Permutation test  (3.7457585230584734e-06, 0.971028971028971)\n"
     ]
    }
   ],
   "source": [
    "N = 10000\n",
    "rng = np.random.default_rng(2137)\n",
    "\n",
    "Z = rng.binomial(1, 0.5, N)\n",
    "X = rng.normal(0, 1, N) + Z/2\n",
    "X = np.where(X>=0, 1, -1)\n",
    "Y = rng.normal(0, 1, N) - Z/2\n",
    "Y = np.where(Y>=0, 1, -1)\n",
    "\n",
    "print(\"Asymptotic test \", cond_indep_test_asymptotic(X, Y, Z))\n",
    "print(\"Permutation test \", cond_indep_test_permutation(X, Y, Z))"
   ]
  },
  {
   "cell_type": "markdown",
   "metadata": {},
   "source": [
    "conditionaly dependent"
   ]
  },
  {
   "cell_type": "code",
   "execution_count": 9,
   "metadata": {},
   "outputs": [
    {
     "name": "stdout",
     "output_type": "stream",
     "text": [
      "Asymptotic test  (13862.757041752793, 0.0)\n",
      "Permutation test  (0.6931378520876397, 0.000999000999000999)\n"
     ]
    }
   ],
   "source": [
    "X = rng.normal(0, 1, N)\n",
    "X = np.where(X>=0, 1, 0)\n",
    "Z = rng.normal(0, 1, N)\n",
    "Z = np.where(Z>=0, 1, 0)\n",
    "\n",
    "Y = np.logical_xor(X, Z).astype(int)\n",
    "\n",
    "print(\"Asymptotic test \", cond_indep_test_asymptotic(X, Y, Z))\n",
    "print(\"Permutation test \", cond_indep_test_permutation(X, Y, Z))"
   ]
  },
  {
   "cell_type": "markdown",
   "metadata": {},
   "source": [
    "## Task 2"
   ]
  },
  {
   "cell_type": "code",
   "execution_count": 11,
   "metadata": {},
   "outputs": [],
   "source": [
    "def sample_from_model1():\n",
    "    n = 10000\n",
    "    Z_tilde = np.random.normal(0,1,n)\n",
    "    Z = (Z_tilde>0)*2-1\n",
    "\n",
    "    X_tilde = np.random.normal(0,1,n)+Z/2\n",
    "    X = (X_tilde>0)*2-1\n",
    "\n",
    "    Y_tilde = np.random.normal(0,1,n)+Z/2\n",
    "    Y = (Y_tilde>0)*2-1\n",
    "    return X, Y, Z\n",
    "\n",
    "def sample_from_model2():\n",
    "    n = 10000\n",
    "    X_tilde = np.random.normal(0,1,n)\n",
    "    X = (X_tilde>0)*2-1\n",
    "\n",
    "    Z_tilde = np.random.normal(0,1,n)+X/2\n",
    "    Z = (Z_tilde>0)*2-1\n",
    "\n",
    "    Y_tilde = np.random.normal(0,1,n)+X/2\n",
    "    Y = (Y_tilde>0)*2-1\n",
    "    return X, Y, Z\n",
    "    \n",
    "\n",
    "def sample_from_model3():\n",
    "    n = 10000\n",
    "    X_tilde = np.random.normal(0,1,n)\n",
    "    X = (X_tilde>0)*2-1\n",
    "\n",
    "    Y_tilde = np.random.normal(0,1,n)\n",
    "    Y = (Y_tilde>0)*2-1\n",
    "\n",
    "    Z_tilde = np.random.normal(0,1,n)+(X+Y)/2\n",
    "    Z = (Z_tilde>0)*2-1\n",
    "    return X, Y, Z"
   ]
  },
  {
   "cell_type": "markdown",
   "metadata": {},
   "source": [
    "### a)"
   ]
  },
  {
   "cell_type": "markdown",
   "metadata": {},
   "source": [
    "answer:\n",
    "\n",
    "model1 - conditionally independent through Z, dependent\n",
    "\n",
    "model2 - conditionally independent through Z, dependent\n",
    "\n",
    "model3 - conditionally dependent through Z, independent"
   ]
  },
  {
   "cell_type": "markdown",
   "metadata": {},
   "source": [
    "### b)"
   ]
  },
  {
   "cell_type": "code",
   "execution_count": 16,
   "metadata": {},
   "outputs": [],
   "source": [
    "X1, Y1, Z1 = sample_from_model1()\n",
    "X2, Y2, Z2 = sample_from_model2()\n",
    "X3, Y3, Z3 = sample_from_model3()"
   ]
  },
  {
   "cell_type": "markdown",
   "metadata": {},
   "source": [
    "MI(X,Y):"
   ]
  },
  {
   "cell_type": "code",
   "execution_count": 17,
   "metadata": {},
   "outputs": [
    {
     "name": "stdout",
     "output_type": "stream",
     "text": [
      "Model 1: 0.01057618077409661\n",
      "Model 2: 0.08051402009271016\n",
      "Model 3: 2.8786361938037963e-05\n"
     ]
    }
   ],
   "source": [
    "print(\"Model 1:\", mutual_info_score(X1, Y1))\n",
    "print(\"Model 2:\", mutual_info_score(X2, Y2))\n",
    "print(\"Model 3:\", mutual_info_score(X3, Y3))"
   ]
  },
  {
   "cell_type": "markdown",
   "metadata": {},
   "source": [
    "CMI(X,Y|Z)"
   ]
  },
  {
   "cell_type": "code",
   "execution_count": 25,
   "metadata": {},
   "outputs": [
    {
     "name": "stdout",
     "output_type": "stream",
     "text": [
      "Model 1: 9.527194210050589e-05\n",
      "Model 2: 0.06564770345830997\n",
      "Model 3: 0.007790428419281891\n"
     ]
    }
   ],
   "source": [
    "print(\"Model 1:\", CMI(X1, Y1, Z1))\n",
    "print(\"Model 2:\", CMI(X2, Y2, Z2))\n",
    "print(\"Model 3:\", CMI(X3, Y3, Z3))"
   ]
  },
  {
   "cell_type": "markdown",
   "metadata": {},
   "source": [
    "### c)"
   ]
  },
  {
   "cell_type": "markdown",
   "metadata": {},
   "source": [
    "permutation test CMI(X,Y|Z):"
   ]
  },
  {
   "cell_type": "code",
   "execution_count": 21,
   "metadata": {},
   "outputs": [
    {
     "name": "stdout",
     "output_type": "stream",
     "text": [
      "Model 1: (9.527194210050589e-05, 0.3866133866133866)\n",
      "Model 2: (0.06564770345830997, 0.000999000999000999)\n",
      "Model 3: (0.007790428419281891, 0.000999000999000999)\n"
     ]
    }
   ],
   "source": [
    "print(\"Model 1:\", cond_indep_test_permutation(X1, Y1, Z1))\n",
    "print(\"Model 2:\", cond_indep_test_permutation(X2, Y2, Z2))\n",
    "print(\"Model 3:\", cond_indep_test_permutation(X3, Y3, Z3))"
   ]
  },
  {
   "cell_type": "markdown",
   "metadata": {},
   "source": [
    "asymptotic test CMI(X,Y|Z):"
   ]
  },
  {
   "cell_type": "code",
   "execution_count": 22,
   "metadata": {},
   "outputs": [
    {
     "name": "stdout",
     "output_type": "stream",
     "text": [
      "Model 1: (1.9054388420101178, 0.3856907405197967)\n",
      "Model 2: (1312.9540691661996, 0.0)\n",
      "Model 3: (155.8085683856378, 0.0)\n"
     ]
    }
   ],
   "source": [
    "print(\"Model 1:\", cond_indep_test_asymptotic(X1, Y1, Z1))\n",
    "print(\"Model 2:\", cond_indep_test_asymptotic(X2, Y2, Z2))\n",
    "print(\"Model 3:\", cond_indep_test_asymptotic(X3, Y3, Z3))"
   ]
  },
  {
   "cell_type": "markdown",
   "metadata": {},
   "source": [
    "permutation test MI(X,Y):"
   ]
  },
  {
   "cell_type": "code",
   "execution_count": 24,
   "metadata": {},
   "outputs": [
    {
     "name": "stdout",
     "output_type": "stream",
     "text": [
      "Model 1: (211.5236154819322, 0.009900990099009901)\n",
      "Model 2: (1610.2804018542033, 0.009900990099009901)\n",
      "Model 3: (0.5757272387607593, 0.45544554455445546)\n"
     ]
    }
   ],
   "source": [
    "print(\"Model 1:\", indep_test_permutation(X1, Y1))\n",
    "print(\"Model 2:\", indep_test_permutation(X2, Y2))\n",
    "print(\"Model 3:\", indep_test_permutation(X3, Y3))"
   ]
  },
  {
   "cell_type": "markdown",
   "metadata": {},
   "source": [
    "asymptotic test MI(X,Y):"
   ]
  },
  {
   "cell_type": "code",
   "execution_count": null,
   "metadata": {},
   "outputs": [],
   "source": [
    "print(\"Model 1:\", indep_test_asymptotic(X1, Y1, \"mi\"))\n",
    "print(\"Model 2:\", indep_test_asymptotic(X2, Y2, \"mi\"))\n",
    "print(\"Model 3:\", indep_test_asymptotic(X3, Y3, \"mi\"))"
   ]
  },
  {
   "cell_type": "markdown",
   "metadata": {},
   "source": [
    "asymptotic test CHI^2:"
   ]
  },
  {
   "cell_type": "code",
   "execution_count": 26,
   "metadata": {},
   "outputs": [
    {
     "name": "stdout",
     "output_type": "stream",
     "text": [
      "Model 1: (210.19723533339362, 0.0)\n",
      "Model 2: (1564.99328003871, 0.0)\n",
      "Model 3: (0.5457670728269652, 0.46005244265441125)\n"
     ]
    }
   ],
   "source": [
    "print(\"Model 1:\", indep_test_asymptotic(X1, Y1, \"chi2\"))\n",
    "print(\"Model 2:\", indep_test_asymptotic(X2, Y2, \"chi2\"))\n",
    "print(\"Model 3:\", indep_test_asymptotic(X3, Y3, \"chi2\"))"
   ]
  }
 ],
 "metadata": {
  "kernelspec": {
   "display_name": "dydaktyka",
   "language": "python",
   "name": "python3"
  },
  "language_info": {
   "codemirror_mode": {
    "name": "ipython",
    "version": 3
   },
   "file_extension": ".py",
   "mimetype": "text/x-python",
   "name": "python",
   "nbconvert_exporter": "python",
   "pygments_lexer": "ipython3",
   "version": "3.10.13"
  }
 },
 "nbformat": 4,
 "nbformat_minor": 2
}
