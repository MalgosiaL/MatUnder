{
  "cells": [
    {
      "cell_type": "code",
      "execution_count": 1,
      "metadata": {
        "id": "c1ddKH7zHiTV"
      },
      "outputs": [],
      "source": [
        "from sklearn.metrics import mutual_info_score\n",
        "#from sklearn.feature_selection import chi2\n",
        "from scipy.stats import chi2_contingency\n",
        "from scipy.stats import chi2\n",
        "import numpy as np\n",
        "import matplotlib.pyplot as plt\n",
        "from scipy.stats import gaussian_kde, pearsonr\n",
        "import seaborn as sns\n",
        "import pandas as pd"
      ]
    },
    {
      "cell_type": "markdown",
      "metadata": {
        "id": "A1we9nIaHiTW"
      },
      "source": [
        "# Mathematical Underpinnings - Lab 4"
      ]
    },
    {
      "cell_type": "markdown",
      "metadata": {
        "id": "BWOmvIm8HiTX"
      },
      "source": [
        "Tests to verify hipoteses of independence (from Lab 4):"
      ]
    },
    {
      "cell_type": "code",
      "execution_count": 125,
      "metadata": {
        "id": "1y5VJqXaHiTX"
      },
      "outputs": [],
      "source": [
        "def indep_test_asymptotic(X, Y, stat=\"mi\"):\n",
        "\n",
        "    if stat == \"mi\":\n",
        "\n",
        "        stat_value = 2*len(X)*mutual_info_score(X, Y)\n",
        "\n",
        "    if stat == \"chi2\":\n",
        "\n",
        "        test_res = (chi2_contingency(pd.crosstab(X, Y)))\n",
        "        stat_value = test_res.statistic\n",
        "\n",
        "    df = (len(np.unique(X)) - 1)*(len(np.unique(Y)) - 1)\n",
        "\n",
        "    p_value = 1 - chi2.cdf(stat_value, df=df)\n",
        "\n",
        "    return stat_value, p_value\n",
        "\n",
        "def indep_test_permutation(X, Y, B, stat=\"mi\"):\n",
        "\n",
        "    stat_value = mutual_info_score(X, Y)\n",
        "\n",
        "    condition_p_value = 0\n",
        "    for b in range(B):\n",
        "        X_b = np.random.permutation(X)\n",
        "\n",
        "        stat_value_b = mutual_info_score(X_b, Y)\n",
        "\n",
        "        if stat_value <= stat_value_b:\n",
        "            condition_p_value += 1\n",
        "\n",
        "    p_value = (1 + condition_p_value)/(1 + B)\n",
        "\n",
        "    return 2*len(X)*stat_value, p_value"
      ]
    },
    {
      "cell_type": "markdown",
      "metadata": {
        "id": "0qEGkTkjHiTX"
      },
      "source": [
        "## Task 1"
      ]
    },
    {
      "cell_type": "code",
      "execution_count": 3,
      "metadata": {
        "id": "bgW6hqzkHiTX"
      },
      "outputs": [],
      "source": [
        "def CMI(X, Y, Z):\n",
        "  cmi = 0\n",
        "  for z in np.unique(Z):\n",
        "    cmi += mutual_info_score(X[Z == z], Y[Z == z]) * (len(Z[Z == z]) / len(Z))\n",
        "  return cmi"
      ]
    },
    {
      "cell_type": "markdown",
      "metadata": {
        "id": "yvJ3c1uBHiTX"
      },
      "source": [
        "### a)"
      ]
    },
    {
      "cell_type": "code",
      "execution_count": 4,
      "metadata": {
        "id": "Gs_09bjbHiTX"
      },
      "outputs": [],
      "source": [
        "def cond_indep_test_asymptotic(X, Y, Z):\n",
        "    stat_value = 2*len(X)*CMI(X, Y, Z)\n",
        "    df = (len(np.unique(X)) - 1)*(len(np.unique(Y)) - 1)*len(np.unique(Z))\n",
        "    p_value = 1 - chi2.cdf(stat_value, df=df)\n",
        "    return stat_value, p_value"
      ]
    },
    {
      "cell_type": "markdown",
      "metadata": {
        "id": "6hGG9wfTHiTX"
      },
      "source": [
        "### b)"
      ]
    },
    {
      "cell_type": "code",
      "execution_count": 5,
      "metadata": {
        "id": "GffXftUYHiTY"
      },
      "outputs": [],
      "source": [
        "def perm_X_on_Z(X, Z):\n",
        "  for z in np.unique(Z):\n",
        "    X[Z == z] = np.random.permutation(X[Z == z])\n",
        "  return X"
      ]
    },
    {
      "cell_type": "code",
      "source": [
        "def cond_test_permutation(X, Y, Z, B=100):\n",
        "    stat_value = CMI(X, Y, Z)\n",
        "    condition_p_value = 0\n",
        "    for b in range(B):\n",
        "        X_b = perm_X_on_Z(X, Z)\n",
        "        stat_value_b = CMI(X_b, Y, Z)\n",
        "        if stat_value <= stat_value_b:\n",
        "            condition_p_value += 1\n",
        "    p_value = (1 + condition_p_value)/(1 + B)\n",
        "    return 2*len(X)*stat_value, p_value"
      ],
      "metadata": {
        "id": "37JWmPESMDhu"
      },
      "execution_count": 10,
      "outputs": []
    },
    {
      "cell_type": "markdown",
      "metadata": {
        "id": "xiSwfMulHiTY"
      },
      "source": [
        "### c)"
      ]
    },
    {
      "cell_type": "code",
      "source": [
        "def generate_data(n, p):\n",
        "  X, Y = np.random.multivariate_normal(np.array([0, 0]), np.array([[1, p], [p, 1]]), size=n).T\n",
        "  Z = np.ones(n)\n",
        "  for z in range(2, 5):\n",
        "    X_new, Y_new = np.random.multivariate_normal(np.array([0, 0]), np.array([[1, p], [p, 1]]), size=n).T\n",
        "    Z_new = np.ones(n) * z\n",
        "\n",
        "    X = np.concatenate((X, X_new), axis=0)\n",
        "    Y = np.concatenate((Y, Y_new), axis=0)\n",
        "    Z = np.concatenate((Z, Z_new), axis=0)\n",
        "  return pd.cut(X, bins=10, labels=False), pd.cut(Y, bins=10, labels=False), Z"
      ],
      "metadata": {
        "id": "WqP3h-i4PPnT"
      },
      "execution_count": 94,
      "outputs": []
    },
    {
      "cell_type": "markdown",
      "metadata": {
        "id": "RFDllb_rHiTY"
      },
      "source": [
        "conditionaly independent"
      ]
    },
    {
      "cell_type": "code",
      "execution_count": 95,
      "metadata": {
        "colab": {
          "base_uri": "https://localhost:8080/"
        },
        "id": "qNz6cgSeHiTY",
        "outputId": "0bdffdb2-8bcc-4f88-ecab-dcb2c158a06c"
      },
      "outputs": [
        {
          "output_type": "stream",
          "name": "stdout",
          "text": [
            "Conditional independance test stat value: 178.57416869163853, p value 0.9993102413070204\n",
            "Conditional permutation test stat value: 178.57416869163853, p value 0.8811881188118812\n"
          ]
        }
      ],
      "source": [
        "np.random.seed(222)\n",
        "n = 1000\n",
        "X_indep = pd.cut(np.random.normal(0, 1, n), bins=10, labels=False)\n",
        "Y_indep = pd.cut(np.random.normal(0, 1, n), bins=10, labels=False)\n",
        "Z_indep = np.random.randint(0, 3, n)\n",
        "\n",
        "cta_stat, cta_p = cond_indep_test_asymptotic(X_indep, Y_indep, Z_indep)\n",
        "ctp_stat, ctp_p = cond_test_permutation(X_indep, Y_indep, Z_indep)\n",
        "\n",
        "print(f\"Conditional independance test stat value: {cta_stat}, p value {cta_p}\")\n",
        "print(f\"Conditional permutation test stat value: {ctp_stat}, p value {ctp_p}\")"
      ]
    },
    {
      "cell_type": "markdown",
      "metadata": {
        "id": "JA34W_5pHiTY"
      },
      "source": [
        "conditionaly dependent"
      ]
    },
    {
      "cell_type": "code",
      "execution_count": 97,
      "metadata": {
        "colab": {
          "base_uri": "https://localhost:8080/"
        },
        "id": "TwXNO9Q2HiTY",
        "outputId": "ba14ae8f-3e10-47a8-8ff8-120f036402ab"
      },
      "outputs": [
        {
          "output_type": "stream",
          "name": "stdout",
          "text": [
            "Conditional independance test stat value: 1282.2806875050526, p value 0.0\n",
            "Conditional permutation test stat value: 1282.2806875050526, p value 0.009900990099009901\n"
          ]
        }
      ],
      "source": [
        "X_dep, Y_dep, Z_dep = generate_data(n=1000, p=0.5)\n",
        "cta_stat_dep, cta_p_dep = cond_indep_test_asymptotic(X_dep, Y_dep, Z_dep)\n",
        "ctp_stat_dep, ctp_p_dep = cond_test_permutation(X_dep, Y_dep, Z_dep)\n",
        "\n",
        "print(f\"Conditional independance test stat value: {cta_stat_dep}, p value {cta_p_dep}\")\n",
        "print(f\"Conditional permutation test stat value: {ctp_stat_dep}, p value {ctp_p_dep}\")"
      ]
    },
    {
      "cell_type": "markdown",
      "metadata": {
        "id": "MJI7oPGdHiTY"
      },
      "source": [
        "## Task 2"
      ]
    },
    {
      "cell_type": "code",
      "execution_count": 139,
      "metadata": {
        "id": "bsMpDx3NHiTY"
      },
      "outputs": [],
      "source": [
        "def sample_from_model1(n=1000):\n",
        "    Z = np.random.normal(0, 1, n)\n",
        "    Z[Z<0] = -1\n",
        "    Z[Z>=0] = 1\n",
        "\n",
        "    X = np.random.normal(Z/2, 1, n)\n",
        "    X[X<0] = -1\n",
        "    X[X>=0] = 1\n",
        "\n",
        "    Y = np.random.normal(Z/2, 1, n)\n",
        "    Y[Y<0] = -1\n",
        "    Y[Y>=0] = 1\n",
        "\n",
        "    return X, Y, Z\n",
        "\n",
        "def sample_from_model2(n=1000):\n",
        "    X = np.random.normal(0, 1, n)\n",
        "    X[X<0] = -1\n",
        "    X[X>=0] = 1\n",
        "\n",
        "    Z = np.random.normal(X/2, 1, n)\n",
        "    Z[Z<0] = -1\n",
        "    Z[Z>=0] = 1\n",
        "\n",
        "    Y = np.random.normal(Z/2, 1, n)\n",
        "    Y[Y<0] = -1\n",
        "    Y[Y>=0] = 1\n",
        "\n",
        "    return X, Y, Z\n",
        "\n",
        "def sample_from_model3(n=1000):\n",
        "    X = np.random.normal(0, 1, n)\n",
        "    Y = np.random.normal(0, 1, n)\n",
        "\n",
        "    Y[Y<0] = -1\n",
        "    Y[Y>=0] = 1\n",
        "\n",
        "    X[X<0] = -1\n",
        "    X[X>=0] = 1\n",
        "\n",
        "    Z = np.random.normal((X+Y)/2, 1, n)\n",
        "    Z[Z<0] = -1\n",
        "    Z[Z>=0] = 1\n",
        "\n",
        "\n",
        "    return X, Y, Z"
      ]
    },
    {
      "cell_type": "markdown",
      "metadata": {
        "id": "vQN23HwWHiTY"
      },
      "source": [
        "### a)"
      ]
    },
    {
      "cell_type": "markdown",
      "metadata": {
        "id": "CfZ4tTsMHiTY"
      },
      "source": [
        "Model 1: X and Y dependent, but conditionally independent;\n",
        "\n",
        "\n",
        "Model 2: X and Y dependent, but conditionally independent;\n",
        "\n",
        "\n",
        "Model 3: X and Y independent, but conditionally dependent."
      ]
    },
    {
      "cell_type": "markdown",
      "metadata": {
        "id": "ejAtvWHjHiTY"
      },
      "source": [
        "### b)"
      ]
    },
    {
      "cell_type": "code",
      "execution_count": 134,
      "metadata": {
        "id": "3ihZW1qoHiTZ",
        "colab": {
          "base_uri": "https://localhost:8080/"
        },
        "outputId": "716c109c-bb98-42cf-bdb7-6fb581492fdf"
      },
      "outputs": [
        {
          "output_type": "stream",
          "name": "stdout",
          "text": [
            "Mutual information for Model 1 0.008151594349316282\n",
            "Mutual information for Model 2 0.013854544164044413\n",
            "Mutual information for Model 3 0.00019849850284847648\n",
            "Conditional mutual information for Model 1 0.0007804655484022727\n",
            "Conditional mutual information for Model 2 0.00022244382926404687\n",
            "Conditional mutual information for Model 3 0.006677010310498424\n"
          ]
        }
      ],
      "source": [
        "X1, Y1, Z1 = sample_from_model1()\n",
        "X2, Y2, Z2 = sample_from_model2()\n",
        "X3, Y3, Z3 = sample_from_model3()\n",
        "\n",
        "print(f\"Mutual information for Model 1 {mutual_info_score(X1, Y1)}\")\n",
        "print(f\"Mutual information for Model 2 {mutual_info_score(X2, Y2)}\")\n",
        "print(f\"Mutual information for Model 3 {mutual_info_score(X3, Y3)}\")\n",
        "\n",
        "print(f\"Conditional mutual information for Model 1 {CMI(X1, Y1, Z1)}\")\n",
        "print(f\"Conditional mutual information for Model 2 {CMI(X2, Y2, Z2)}\")\n",
        "print(f\"Conditional mutual information for Model 3 {CMI(X3, Y3, Z3)}\")"
      ]
    },
    {
      "cell_type": "markdown",
      "metadata": {
        "id": "9d8T9fBuHiTZ"
      },
      "source": [
        "### c)"
      ]
    },
    {
      "cell_type": "code",
      "execution_count": 138,
      "metadata": {
        "id": "ChEHjyiQHiTZ",
        "colab": {
          "base_uri": "https://localhost:8080/"
        },
        "outputId": "ad8b7256-a686-48ec-a891-d866fbc57e17"
      },
      "outputs": [
        {
          "output_type": "stream",
          "name": "stdout",
          "text": [
            "Conditional independance test for Model 1 stat value: 1.5609310968045456, p value 0.45819265078774585\n",
            "Independence test for Model 1 stat value: 16.303188698632564, p value 5.397305182530676e-05\n",
            "Conditional independance test for Model 2 stat value: 0.44488765852809375, p value 0.8005599735301961\n",
            "Independence test for Model 2 stat value: 27.709088328088825, p value 1.4099873313355715e-07\n",
            "Conditional independance test for Model 3 stat value: 13.354020620996849, p value 0.0012595379766049408\n",
            "Independence test for Model 3 stat value: 0.39699700569695295, p value 0.5286442174787276\n"
          ]
        }
      ],
      "source": [
        "# Model 1\n",
        "cta_stat_1, cta_p_1 = cond_indep_test_asymptotic(X1, Y1, Z1)\n",
        "ctp_stat_1, ctp_p_1 = indep_test_asymptotic(X1, Y1)\n",
        "\n",
        "print(f\"Conditional independance test for Model 1 stat value: {cta_stat_1}, p value {cta_p_1}\")\n",
        "print(f\"Independence test for Model 1 stat value: {ctp_stat_1}, p value {ctp_p_1}\")\n",
        "\n",
        "# Model 2\n",
        "cta_stat_2, cta_p_2 = cond_indep_test_asymptotic(X2, Y2, Z2)\n",
        "ctp_stat_2, ctp_p_2 = indep_test_asymptotic(X2, Y2)\n",
        "\n",
        "print(f\"Conditional independance test for Model 2 stat value: {cta_stat_2}, p value {cta_p_2}\")\n",
        "print(f\"Independence test for Model 2 stat value: {ctp_stat_2}, p value {ctp_p_2}\")\n",
        "\n",
        "# Model 1\n",
        "cta_stat_3, cta_p_3 = cond_indep_test_asymptotic(X3, Y3, Z3)\n",
        "ctp_stat_3, ctp_p_3 = indep_test_asymptotic(X3, Y3)\n",
        "\n",
        "print(f\"Conditional independance test for Model 3 stat value: {cta_stat_3}, p value {cta_p_3}\")\n",
        "print(f\"Independence test for Model 3 stat value: {ctp_stat_3}, p value {ctp_p_3}\")"
      ]
    }
  ],
  "metadata": {
    "kernelspec": {
      "display_name": "dydaktyka",
      "language": "python",
      "name": "python3"
    },
    "language_info": {
      "codemirror_mode": {
        "name": "ipython",
        "version": 3
      },
      "file_extension": ".py",
      "mimetype": "text/x-python",
      "name": "python",
      "nbconvert_exporter": "python",
      "pygments_lexer": "ipython3",
      "version": "3.9.16"
    },
    "colab": {
      "provenance": []
    }
  },
  "nbformat": 4,
  "nbformat_minor": 0
}