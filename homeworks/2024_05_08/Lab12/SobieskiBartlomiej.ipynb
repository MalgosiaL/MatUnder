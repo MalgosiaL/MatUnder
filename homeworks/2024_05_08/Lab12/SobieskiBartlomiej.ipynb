{
 "cells": [
  {
   "cell_type": "code",
   "execution_count": 118,
   "metadata": {},
   "outputs": [],
   "source": [
    "import numpy as np\n",
    "import seaborn as sns\n",
    "import matplotlib.pyplot as plt\n",
    "from scipy.stats import norm"
   ]
  },
  {
   "cell_type": "markdown",
   "metadata": {},
   "source": [
    "# Task 1"
   ]
  },
  {
   "cell_type": "markdown",
   "metadata": {},
   "source": [
    "## a)"
   ]
  },
  {
   "cell_type": "code",
   "execution_count": 119,
   "metadata": {},
   "outputs": [
    {
     "data": {
      "text/plain": [
       "<Axes: ylabel='Count'>"
      ]
     },
     "execution_count": 119,
     "metadata": {},
     "output_type": "execute_result"
    },
    {
     "data": {
      "image/png": "[encoded data removed]",
      "text/plain": [
       "<Figure size 640x480 with 1 Axes>"
      ]
     },
     "metadata": {},
     "output_type": "display_data"
    }
   ],
   "source": [
    "def joint_pdf(x):\n",
    "    return 0.3 * norm.pdf(x, 1, 1) + 0.8 * norm.pdf(x, 5, 2)\n",
    "\n",
    "n = 500\n",
    "\n",
    "mu_0 = 1\n",
    "sigma_0 = 1\n",
    "\n",
    "mu_1 = 5\n",
    "sigma_1 = 2\n",
    "\n",
    "pi_0 = 0.3\n",
    "pi_1 = 0.7\n",
    "\n",
    "def generate_data(n, mu_0, mu_1, sigma_0, sigma_1, pi_0, pi_1):\n",
    "    idx = np.random.choice(2, n, p = [pi_0, pi_1])\n",
    "\n",
    "    norm_0 = np.random.normal(mu_0, sigma_0, n)\n",
    "    norm_1 = np.random.normal(mu_1, sigma_1, n)\n",
    "\n",
    "    sample = np.zeros(n)\n",
    "    sample[idx == 0] = norm_0[idx == 0]\n",
    "    sample[idx == 1] = norm_1[idx == 1]\n",
    "    return sample\n",
    "\n",
    "sample = generate_data(n, mu_0, mu_1, sigma_0, sigma_1, pi_0, pi_1)\n",
    "\n",
    "fig, ax = plt.subplots()\n",
    "\n",
    "sns.histplot(sample, bins = int(n ** (1 / 2)), ax = ax)\n",
    "sns.lineplot(x = np.linspace(-2, 12, 100), y = joint_pdf(np.linspace(-2, 12, 100)), ax = ax)"
   ]
  },
  {
   "cell_type": "markdown",
   "metadata": {},
   "source": [
    "## b)"
   ]
  },
  {
   "cell_type": "markdown",
   "metadata": {},
   "source": [
    "$$ \\sum_{i=1}^n \\log{p(x_i, G_i = g_i \\mid \\theta)} = $$\n",
    "\n",
    "$$ E[G_i |x_i, \\theta] =  $$"
   ]
  },
  {
   "cell_type": "code",
   "execution_count": 120,
   "metadata": {},
   "outputs": [],
   "source": [
    "def ll(x, g):\n",
    "    p = np.zeros_like(x)\n",
    "    p[g == 0] = np.log(norm.pdf(x[g == 0], mu_0, sigma_0 ** (1 / 2))) + np.log(pi_0)\n",
    "    p[g == 1] = np.log(norm.pdf(x[g == 1], mu_1, sigma_1 ** (1 / 2))) + np.log(pi_1)\n",
    "    return np.sum(p)\n",
    "\n",
    "def ll_hat(x, theta):\n",
    "    mu_0, mu_1, sigma_0, sigma_1, pi_0, pi_1, gamma = theta\n",
    "    p = np.zeros_like(x)\n",
    "    p += gamma * (np.log(norm.pdf(x, mu_0, sigma_0 ** (1 / 2)))) + np.log(pi_0)\n",
    "    p += (1 - gamma) * (np.log(norm.pdf(x, mu_1, sigma_1 ** (1 / 2)))) + np.log(pi_1)\n",
    "    return np.sum(p)\n",
    "\n",
    "def update_gamma(x, theta):\n",
    "    mu_0, mu_1, sigma_0, sigma_1, pi_0, pi_1, gamma = theta\n",
    "    return (\n",
    "        pi_1\n",
    "        * norm.pdf(x, loc=mu_1, scale=np.sqrt(sigma_1))\n",
    "        / (\n",
    "            pi_0 * norm.pdf(x, loc=mu_0, scale=np.sqrt(sigma_0))\n",
    "            + pi_1 * norm.pdf(x, loc=mu_1, scale=np.sqrt(sigma_1))\n",
    "        )\n",
    "    )\n",
    "\n",
    "def update_sigma_0(x, theta):\n",
    "    mu_0, mu_1, sigma_0, sigma_1, pi_0, pi_1, gamma = theta\n",
    "    return np.sum((1 - gamma) * (x - mu_0) ** 2) / np.sum(1 - gamma)\n",
    "\n",
    "def update_sigma_1(x, theta):\n",
    "    mu_0, mu_1, sigma_0, sigma_1, pi_0, pi_1, gamma = theta\n",
    "    return np.sum(gamma * (x - mu_1) ** 2) / np.sum(gamma)\n",
    "\n",
    "def update_mu_0(x, theta):\n",
    "    mu_0, mu_1, sigma_0, sigma_1, pi_0, pi_1, gamma = theta\n",
    "    return np.sum((1 - gamma) * x) / np.sum(1 - gamma)\n",
    "\n",
    "def update_mu_1(x, theta):\n",
    "    mu_0, mu_1, sigma_0, sigma_1, pi_0, pi_1, gamma = theta\n",
    "    return np.sum(gamma * x) / np.sum(gamma)\n",
    "\n",
    "def update_pi_0(x, theta):\n",
    "    mu_0, mu_1, sigma_0, sigma_1, pi_0, pi_1, gamma = theta\n",
    "    return np.mean(1- gamma)\n",
    "\n",
    "def update_pi_1(x, theta):\n",
    "    mu_0, mu_1, sigma_0, sigma_1, pi_0, pi_1, gamma = theta\n",
    "    return np.mean(gamma)"
   ]
  },
  {
   "cell_type": "code",
   "execution_count": 121,
   "metadata": {},
   "outputs": [],
   "source": [
    "n = 5000\n",
    "\n",
    "gt_mu_0 = 1\n",
    "gt_sigma_0 = 1\n",
    "\n",
    "gt_mu_1 = 5\n",
    "gt_sigma_1 = 2\n",
    "\n",
    "gt_pi_0 = 0.3\n",
    "gt_pi_1 = 0.7\n",
    "\n",
    "sample = generate_data(n, gt_mu_0, gt_mu_1, gt_sigma_0, gt_sigma_1, gt_pi_0, gt_pi_1)\n",
    "\n",
    "N = 1000\n",
    "theta = [1., -1., 1., 5., 0.5, 0.5, None]\n",
    "\n",
    "last_ll = float('-Inf')\n",
    "\n",
    "for i in range(N):\n",
    "    theta[-1] = update_gamma(sample, theta)\n",
    "\n",
    "    mu_0, mu_1, sigma_0, sigma_1, pi_0, pi_1 = (\n",
    "        update_mu_0(sample, theta),\n",
    "        update_mu_1(sample, theta),\n",
    "        update_sigma_0(sample, theta),\n",
    "        update_sigma_1(sample, theta),\n",
    "        update_pi_0(sample, theta),\n",
    "        update_pi_1(sample, theta)\n",
    "    )\n",
    "    \n",
    "    theta[:-1] = mu_0, mu_1, sigma_0, sigma_1, pi_0, pi_1\n",
    "\n",
    "    loglik = ll_hat(sample, theta)\n",
    "\n",
    "    if abs(loglik - last_ll) < 1e-2:\n",
    "        break\n",
    "\n",
    "    last_ll = loglik"
   ]
  },
  {
   "cell_type": "code",
   "execution_count": 122,
   "metadata": {},
   "outputs": [
    {
     "name": "stdout",
     "output_type": "stream",
     "text": [
      "1 5 1 2 0.3 0.7\n"
     ]
    },
    {
     "data": {
      "text/plain": [
       "[0.9717899102986249,\n",
       " 5.05733791835646,\n",
       " 1.0008744767850208,\n",
       " 3.864174858465905,\n",
       " 0.29900134038798626,\n",
       " 0.7009986596120138]"
      ]
     },
     "execution_count": 122,
     "metadata": {},
     "output_type": "execute_result"
    }
   ],
   "source": [
    "print(gt_mu_0, gt_mu_1, gt_sigma_0, gt_sigma_1, gt_pi_0, gt_pi_1)\n",
    "theta[:-1]"
   ]
  }
 ],
 "metadata": {
  "kernelspec": {
   "display_name": "herald",
   "language": "python",
   "name": "python3"
  },
  "language_info": {
   "codemirror_mode": {
    "name": "ipython",
    "version": 3
   },
   "file_extension": ".py",
   "mimetype": "text/x-python",
   "name": "python",
   "nbconvert_exporter": "python",
   "pygments_lexer": "ipython3",
   "version": "3.10.12"
  }
 },
 "nbformat": 4,
 "nbformat_minor": 2
}
