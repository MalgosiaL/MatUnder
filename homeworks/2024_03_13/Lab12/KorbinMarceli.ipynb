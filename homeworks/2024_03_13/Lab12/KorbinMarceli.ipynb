{
 "cells": [
  {
   "cell_type": "markdown",
   "metadata": {},
   "source": [
    "# Mathematical Underpinnings - Lab 3"
   ]
  },
  {
   "cell_type": "markdown",
   "metadata": {},
   "source": [
    "  - A set $S_n = \\{x_1, x_2, \\ldots, x_n\\}$ is **shattered** by a class $\\mathcal{C}$ (or $\\mathcal{C}$ shatters $S_n$) if $|\\{S_n \\cap c: c \\in \\mathcal{C}\\}| = 2^n$.\n",
    "\n",
    "  - **Shattering coefficient** of $\\mathcal{C}$ is a number such that $\\mathcal{S}_{\\mathcal{C}}(n) = \\max_{S_n} |\\{S_n \\cap c: c \\in \\mathcal{C}\\}|$.\n",
    "\n",
    "  - **Vapnik–Chervonenkis** dimension of $\\mathcal{C}$ is $VC(\\mathcal{C}) = \\min_n \\{n: \\mathcal{S}_{\\mathcal{C}}(n) < 2^n\\}$.\n",
    "\n",
    "*What to do if we have a class of functions $\\mathcal{F}$ instead of a set of subsets $\\mathcal{C}$*\n",
    "\n",
    "  - **Subgraph** of a function $f$ is defined as $\\textrm{Subgraph}(f) = \\{x: f(x) \\leq 0\\}$.\n",
    "\n",
    "  - Then $\\mathcal{C}$ from the above definitions is defined as $\\mathcal{C} = \\{\\textrm{Subgraph}(f): f \\in \\mathcal{F}\\}$\n",
    "\n",
    "  - **Example** for linear decision boundaries in $\\mathbb{R}^2$: \n",
    "  \n",
    "      A function: $f_b(x) = f_b(x^{1}, x^{2}) = b^{0} + b^{1}x^{1} + b^{2}x^{2}$\n",
    "      \n",
    "      A hyperplane (in $\\mathbb{R}^2$ a line): $f_b(x^{1}, x^{2}) = b^{0} + b^{1}x^{1} + b^{2}x^{2} = 0$\n",
    "\n",
    "      $\\textrm{Subgraph}(f_b) = \\{\\textrm{A half space bounded by a hyperplane given above}\\}$\n",
    "\n",
    "      A family of functions: $\\mathcal{F} = \\{f_b: b \\in \\mathbb{R}^3\\}$\n",
    "  \n",
    "      $\\mathcal{C} = \\{\\textrm{All half spaces separated by all hyperplanes}\\}$"
   ]
  },
  {
   "cell_type": "code",
   "execution_count": 1,
   "metadata": {},
   "outputs": [],
   "source": [
    "import numpy as np\n",
    "from itertools import product\n",
    "from sklearn.svm import SVC\n",
    "import matplotlib.pyplot as plt"
   ]
  },
  {
   "cell_type": "markdown",
   "metadata": {},
   "source": [
    "## Task 1\n",
    "\n",
    "### a)\n",
    "\n",
    "Facts from the lecture:\n",
    "\n",
    "  - If $\\mathcal{F}_{a,b} = \\{f: f(x) = a'x +b\\}$ (a family of linear functions in $\\mathbb{R}^d$), then $VC(\\mathcal{F}_{a,b}) \\leq d+2$.\n",
    "  - If $\\mathcal{F}_{a,b} = \\{f: f(x) = a'x +b\\}$ (a family of linear functions in $\\mathbb{R}^d$), then $VC(\\mathcal{F}_{a,b}) = d+1$.\n",
    "\n",
    "Of course the second implies the first fact, but both are given as proving inequality is simpler (and we repeat what exactly was on the lecture).\n",
    "\n",
    "\n",
    "*Pictures on paper*"
   ]
  },
  {
   "cell_type": "code",
   "execution_count": 31,
   "metadata": {},
   "outputs": [],
   "source": [
    "set1 = np.array([[-1, 1], [1, 1]])\n",
    "set2 = np.array([[-1, 1], [0, 0], [1, 1]])"
   ]
  },
  {
   "cell_type": "markdown",
   "metadata": {},
   "source": [
    "#### Two points"
   ]
  },
  {
   "cell_type": "code",
   "execution_count": 33,
   "metadata": {},
   "outputs": [
    {
     "data": {
      "text/plain": [
       "<matplotlib.collections.PathCollection at 0x1e5580b20d0>"
      ]
     },
     "execution_count": 33,
     "metadata": {},
     "output_type": "execute_result"
    },
    {
     "data": {
      "image/png": "[encoded data removed]",
      "text/plain": [
       "<Figure size 432x288 with 1 Axes>"
      ]
     },
     "metadata": {
      "needs_background": "light"
     },
     "output_type": "display_data"
    }
   ],
   "source": [
    "plt.scatter(set1[:,0], set1[:,1])"
   ]
  },
  {
   "cell_type": "markdown",
   "metadata": {},
   "source": [
    "#### Three points"
   ]
  },
  {
   "cell_type": "code",
   "execution_count": 34,
   "metadata": {},
   "outputs": [
    {
     "data": {
      "text/plain": [
       "<matplotlib.collections.PathCollection at 0x1e555b698e0>"
      ]
     },
     "execution_count": 34,
     "metadata": {},
     "output_type": "execute_result"
    },
    {
     "data": {
      "image/png": "[encoded data removed]",
      "text/plain": [
       "<Figure size 432x288 with 1 Axes>"
      ]
     },
     "metadata": {
      "needs_background": "light"
     },
     "output_type": "display_data"
    }
   ],
   "source": [
    "plt.scatter(set2[:,0], set2[:,1])"
   ]
  },
  {
   "cell_type": "markdown",
   "metadata": {},
   "source": [
    "* three points are not shattered if they're together on one straight line"
   ]
  },
  {
   "cell_type": "markdown",
   "metadata": {},
   "source": [
    "#### Four points\n",
    "\n",
    "Four points on $\\mathbb{R}^2$ are actually never shattered by $\\mathcal{F}_{a,b}$; every example will be valid."
   ]
  },
  {
   "cell_type": "markdown",
   "metadata": {},
   "source": [
    "#### VC dimension of $\\mathcal{F}_{a,b}$ is 4"
   ]
  },
  {
   "cell_type": "markdown",
   "metadata": {},
   "source": [
    "### b)"
   ]
  },
  {
   "cell_type": "code",
   "execution_count": 17,
   "metadata": {},
   "outputs": [],
   "source": [
    "# # S_n is an array (n) x (d). In rows are point in R^d and there are n of them\n",
    "def is_shattered(d, n, S_n):\n",
    "    assert S_n.shape == (n, d)\n",
    "    \n",
    "    class_assignments = list(product(*[range(2)]*n))[1:(2**(n-1))]\n",
    "    for classes in class_assignments:\n",
    "        y = np.array(classes)\n",
    "        if len(np.unique(y)) == 1:\n",
    "            continue\n",
    "        svc = SVC(C=10000, shrinking=False, kernel='linear', tol=1e-5)\n",
    "        svc.fit(S_n, y)\n",
    "        if svc.score(S_n, y) < 1:\n",
    "            return False\n",
    "\n",
    "    return True"
   ]
  },
  {
   "cell_type": "code",
   "execution_count": 19,
   "metadata": {},
   "outputs": [],
   "source": [
    "S_n_1 = np.array([[-1, 1], [0, 0], [1, 1]])\n",
    "S_n_2 = np.array([[-1, -1], [0, 0], [1, 1]])\n",
    "n = 3\n",
    "d = 2"
   ]
  },
  {
   "cell_type": "code",
   "execution_count": 20,
   "metadata": {
    "scrolled": true
   },
   "outputs": [
    {
     "data": {
      "text/plain": [
       "True"
      ]
     },
     "execution_count": 20,
     "metadata": {},
     "output_type": "execute_result"
    }
   ],
   "source": [
    "is_shattered(d, n, S_n_1)"
   ]
  },
  {
   "cell_type": "code",
   "execution_count": 21,
   "metadata": {},
   "outputs": [
    {
     "data": {
      "text/plain": [
       "False"
      ]
     },
     "execution_count": 21,
     "metadata": {},
     "output_type": "execute_result"
    }
   ],
   "source": [
    "is_shattered(d, n, S_n_2)"
   ]
  },
  {
   "cell_type": "markdown",
   "metadata": {},
   "source": [
    "### c)"
   ]
  },
  {
   "cell_type": "code",
   "execution_count": 6,
   "metadata": {},
   "outputs": [],
   "source": [
    "def is_shattered_visualize(d, n, S_n):\n",
    "    assert S_n.shape == (n, d)\n",
    "    \n",
    "    plot_number = 2**(n-1)-1\n",
    "    class_assignments = list(product(*[range(2)]*n))[1:(plot_number+1)]\n",
    "    fig, ax = plt.subplots(plot_number, 1, figsize=(1, plot_number))\n",
    "    \n",
    "    for number, classes in enumerate(class_assignments):\n",
    "        y = np.array(classes)\n",
    "        ax[number].scatter(S_n[:,0], S_n[:,1], c=y)\n",
    "        \n",
    "        if len(np.unique(y))==1:\n",
    "            continue\n",
    "        \n",
    "        svc = SVC(C=10000, shrinking=False, kernel='linear', tol=1e-5)\n",
    "        svc.fit(S_n, y)\n",
    "        \n",
    "        if svc.score(S_n, y) < 1:\n",
    "            continue\n",
    "        \n",
    "        w = svc.coef_[0]\n",
    "        b = svc.intercept_[0]\n",
    "        \n",
    "        if w[1]==0:\n",
    "            ax[number].axvline(-b/w[0], c='#00c000')\n",
    "            continue\n",
    "        \n",
    "        x_points = np.linspace(S_n[:, 0].min(), S_n[:, 0].max())\n",
    "        y_points = -(w[0]/w[1])*x_points - b/w[1]\n",
    "        ax[number].plot(x_points, y_points, c='#00c000')"
   ]
  },
  {
   "cell_type": "code",
   "execution_count": 7,
   "metadata": {},
   "outputs": [],
   "source": [
    "S_4 = np.array([[1, 0], [0, 1], [-1, 0], [0, -1]])"
   ]
  },
  {
   "cell_type": "code",
   "execution_count": 8,
   "metadata": {},
   "outputs": [
    {
     "data": {
      "image/png": "[encoded data removed]",
      "text/plain": [
       "<Figure size 72x504 with 7 Axes>"
      ]
     },
     "metadata": {
      "needs_background": "light"
     },
     "output_type": "display_data"
    }
   ],
   "source": [
    "is_shattered_visualize(2, 4, S_4)"
   ]
  },
  {
   "cell_type": "markdown",
   "metadata": {},
   "source": [
    "### d)"
   ]
  },
  {
   "cell_type": "code",
   "execution_count": 30,
   "metadata": {},
   "outputs": [
    {
     "data": {
      "image/png": "[encoded data removed]",
      "text/plain": [
       "<Figure size 432x288 with 1 Axes>"
      ]
     },
     "metadata": {
      "needs_background": "light"
     },
     "output_type": "display_data"
    }
   ],
   "source": [
    "d_grid = list(range(2, 11))\n",
    "n_grid = list(range(3, 13))\n",
    "results_n = [13 for d in d_grid]\n",
    "for index, d in enumerate(d_grid):\n",
    "    mean = np.zeros(d)\n",
    "    cov = np.eye(d)\n",
    "    for n in n_grid:\n",
    "        broken_loop = False\n",
    "        for s in range(50):\n",
    "            S_n = np.random.multivariate_normal(mean, cov, n)\n",
    "            if is_shattered(d, n, S_n):\n",
    "                broken_loop = True\n",
    "                break\n",
    "        if not broken_loop:\n",
    "            results_n[index] = n\n",
    "            break\n",
    "\n",
    "plt.plot(d_grid, results_n)\n",
    "plt.xlabel('dimensions')\n",
    "plt.ylabel('VC dimension')\n",
    "plt.show()"
   ]
  },
  {
   "cell_type": "markdown",
   "metadata": {},
   "source": [
    "conclusion: $a, b \\in \\mathbb{R}^d \\Rightarrow VC(\\mathcal{F}_{a,b}) = d+1$ (agrees with a fact from the lecture brought up earlier in the notebook)"
   ]
  }
 ],
 "metadata": {
  "kernelspec": {
   "display_name": "Python 3 (ipykernel)",
   "language": "python",
   "name": "python3"
  },
  "language_info": {
   "codemirror_mode": {
    "name": "ipython",
    "version": 3
   },
   "file_extension": ".py",
   "mimetype": "text/x-python",
   "name": "python",
   "nbconvert_exporter": "python",
   "pygments_lexer": "ipython3",
   "version": "3.8.10"
  }
 },
 "nbformat": 4,
 "nbformat_minor": 2
}
