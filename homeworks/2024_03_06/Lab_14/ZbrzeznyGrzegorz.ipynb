{
  "cells": [
    {
      "cell_type": "markdown",
      "metadata": {
        "id": "PW1Zo0BJ7rlI"
      },
      "source": [
        "# Mathematical Underpinnings - Lab 2"
      ]
    },
    {
      "cell_type": "markdown",
      "metadata": {
        "id": "gs9O01Yk7rlI"
      },
      "source": [
        "## Task 1"
      ]
    },
    {
      "cell_type": "markdown",
      "metadata": {
        "id": "fM2nbFx97rlJ"
      },
      "source": [
        "### a)\n",
        "\n",
        "$R(a,a^*) = \\mathbb{E} \\mathcal{L}(f(X), Y) = \\mathbb{E}(aX - Y)^2 = \\mathbb{E}((aX)^2 + Y^2 - 2aXY) = a^2\\mathbb{E}(X^2) + \\mathbb{E}(Y^2) - 2a\\mathbb{E}(X^2 + X\\epsilon_i) = a^2(\\mathbb{E}(X)^2 + Var(X)) + \\mathbb{E}(Y)^2 + Var(Y) - 2a(\\mathbb{E}(X)^2 + Var(X) + \\mathbb{E}(X)\\mathbb{E}(\\epsilon_i)) = a^2 + Var(X + \\epsilon_i) - 2a = a^2 + \\sigma^2 + 1 - 2a = (a-1)^2 + \\sigma^2$\n",
        "\n",
        "As we can see argmin of $R(a, a^*)$ does not depend on $\\sigma^2$ since it is always $a^* = 1$ to minimize $(a-1)^2$.\n",
        "In our task we know $a^* = 1$."
      ]
    },
    {
      "cell_type": "code",
      "execution_count": 1,
      "metadata": {
        "id": "Zl9eOUgA7rlJ"
      },
      "outputs": [],
      "source": [
        "sigma_eps = 1\n",
        "def population_risk(a):\n",
        "    return (a - 1)**2 + sigma_eps"
      ]
    },
    {
      "cell_type": "markdown",
      "metadata": {
        "id": "qvo7Jhap7rlJ"
      },
      "source": [
        "### b)"
      ]
    },
    {
      "cell_type": "code",
      "source": [
        "import numpy as np\n",
        "import matplotlib.pyplot as plt"
      ],
      "metadata": {
        "id": "GQ38ryE8CmDl"
      },
      "execution_count": 12,
      "outputs": []
    },
    {
      "cell_type": "code",
      "execution_count": 13,
      "metadata": {
        "id": "hVKi6joT7rlJ"
      },
      "outputs": [],
      "source": [
        "# sampling\n",
        "n = 50\n",
        "var = 1\n",
        "eps = np.random.normal(0, var, n)\n",
        "X = np.random.normal(0, 1, n)"
      ]
    },
    {
      "cell_type": "code",
      "source": [
        "Y = X + eps"
      ],
      "metadata": {
        "id": "YFOofsehC5BT"
      },
      "execution_count": 14,
      "outputs": []
    },
    {
      "cell_type": "markdown",
      "metadata": {
        "id": "DXWPLHf-7rlJ"
      },
      "source": [
        "Empirical risk: $\\frac{1}{n} \\sum_{i=1}^n (ax_i - y_i)^2$"
      ]
    },
    {
      "cell_type": "code",
      "execution_count": 15,
      "metadata": {
        "id": "jexseLHv7rlJ"
      },
      "outputs": [],
      "source": [
        "def empirical_risk(a, X, Y):\n",
        "    n = len(X)\n",
        "    return (1 / n) * np.sum((a * X - Y)**2)"
      ]
    },
    {
      "cell_type": "markdown",
      "metadata": {
        "id": "Rj1YrcrU7rlJ"
      },
      "source": [
        "### c)"
      ]
    },
    {
      "cell_type": "code",
      "source": [
        "from scipy.optimize import minimize"
      ],
      "metadata": {
        "id": "U_Yp2D3DDUQY"
      },
      "execution_count": 16,
      "outputs": []
    },
    {
      "cell_type": "code",
      "source": [
        "min_emp = minimize(lambda a: empirical_risk(a, X, Y), 0)\n",
        "min_emp_x = min_emp[\"x\"][0]\n",
        "min_emp_y = min_emp[\"fun\"]"
      ],
      "metadata": {
        "id": "248vTj3WDT3g"
      },
      "execution_count": 17,
      "outputs": []
    },
    {
      "cell_type": "code",
      "source": [
        "min_pop = minimize(population_risk, [1])\n",
        "min_pop_x = min_pop[\"x\"][0]\n",
        "min_pop_y = min_pop[\"fun\"]"
      ],
      "metadata": {
        "id": "dWrlY_CcGcUz"
      },
      "execution_count": 18,
      "outputs": []
    },
    {
      "cell_type": "code",
      "execution_count": 19,
      "metadata": {
        "id": "HSg7f1GT7rlJ"
      },
      "outputs": [],
      "source": [
        "a_list = np.expand_dims(np.linspace(-2.0, 3.5, 100), 1)"
      ]
    },
    {
      "cell_type": "code",
      "source": [
        "emp_risk = np.apply_along_axis(empirical_risk, 1, a_list, X, Y)\n",
        "pop_risk = np.apply_along_axis(population_risk, 1, a_list)"
      ],
      "metadata": {
        "id": "FTa7MygKHW5u"
      },
      "execution_count": 20,
      "outputs": []
    },
    {
      "cell_type": "code",
      "source": [
        "plt.plot(a_list, emp_risk)\n",
        "plt.plot(a_list, pop_risk)\n",
        "plt.plot(min_emp_x, min_emp_y, color=\"blue\", marker=\"+\")\n",
        "plt.plot(min_pop_x, min_pop_y, color=\"orange\", marker=\"o\")\n",
        "plt.plot(min_emp_x, population_risk(min_emp_x), color=\"black\", marker=\"o\")\n",
        "plt.show()"
      ],
      "metadata": {
        "colab": {
          "base_uri": "https://localhost:8080/",
          "height": 430
        },
        "id": "3f8Be0iFILq5",
        "outputId": "01e052e3-13eb-4372-b25e-cad2a320ce83"
      },
      "execution_count": 21,
      "outputs": [
        {
          "output_type": "display_data",
          "data": {
            "text/plain": [
              "<Figure size 640x480 with 1 Axes>"
            ],
            "image/png": "[encoded data removed]"
          },
          "metadata": {}
        }
      ]
    },
    {
      "cell_type": "markdown",
      "source": [
        "ERM estimator is the black point on the plot"
      ],
      "metadata": {
        "id": "ltn7jMIZdurL"
      }
    },
    {
      "cell_type": "markdown",
      "metadata": {
        "id": "xjtCMDn-7rlJ"
      },
      "source": [
        "### d)"
      ]
    },
    {
      "cell_type": "code",
      "source": [
        "def experiment(n, L):\n",
        "  excess = 0\n",
        "  for i in range(L):\n",
        "    var = 1\n",
        "    eps = np.random.normal(0, var, n)\n",
        "    X = np.random.normal(0, 1, n)\n",
        "    Y = X + eps\n",
        "    min_emp = population_risk(minimize(lambda a: empirical_risk(a, X, Y), 0)[\"x\"][0])\n",
        "    min_pop = minimize(population_risk, 0)[\"fun\"]\n",
        "    excess += min_emp - min_pop\n",
        "  return excess / L"
      ],
      "metadata": {
        "id": "fAeToV7cILSo"
      },
      "execution_count": 25,
      "outputs": []
    },
    {
      "cell_type": "code",
      "source": [
        "n_list = [50, 100, 150, 200, 250, 300, 400, 500, 600, 700, 800, 900]\n",
        "means = []\n",
        "for n in n_list:\n",
        "  means.append(experiment(n, 200))"
      ],
      "metadata": {
        "id": "ejf2oaK3IK6x"
      },
      "execution_count": 26,
      "outputs": []
    },
    {
      "cell_type": "code",
      "source": [
        "plt.plot(n_list, means)"
      ],
      "metadata": {
        "colab": {
          "base_uri": "https://localhost:8080/",
          "height": 447
        },
        "id": "dG5RAa1kMIro",
        "outputId": "ee909910-e21c-49c1-c21a-9433ee8bd06d"
      },
      "execution_count": 27,
      "outputs": [
        {
          "output_type": "execute_result",
          "data": {
            "text/plain": [
              "[<matplotlib.lines.Line2D at 0x7a6728645630>]"
            ]
          },
          "metadata": {},
          "execution_count": 27
        },
        {
          "output_type": "display_data",
          "data": {
            "text/plain": [
              "<Figure size 640x480 with 1 Axes>"
            ],
            "image/png": "[encoded data removed]"
          },
          "metadata": {}
        }
      ]
    },
    {
      "cell_type": "markdown",
      "metadata": {
        "id": "YEZTWq-x7rlK"
      },
      "source": [
        "Excess risk: $$E(\\hat a, a^*) =R(\\hat a, a^*) - \\textrm{inf}_{a \\in A_0} R(a, a^*)$$"
      ]
    }
  ],
  "metadata": {
    "kernelspec": {
      "display_name": "base",
      "language": "python",
      "name": "python3"
    },
    "language_info": {
      "codemirror_mode": {
        "name": "ipython",
        "version": 3
      },
      "file_extension": ".py",
      "mimetype": "text/x-python",
      "name": "python",
      "nbconvert_exporter": "python",
      "pygments_lexer": "ipython3",
      "version": "3.9.16"
    },
    "orig_nbformat": 4,
    "colab": {
      "provenance": []
    }
  },
  "nbformat": 4,
  "nbformat_minor": 0
}