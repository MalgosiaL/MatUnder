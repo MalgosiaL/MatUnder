{
 "cells": [
  {
   "attachments": {},
   "cell_type": "markdown",
   "metadata": {},
   "source": [
    "# Mathematical Underpinnings - Lab 1"
   ]
  },
  {
   "attachments": {},
   "cell_type": "markdown",
   "metadata": {},
   "source": [
    "## Task 1\n",
    "### a) Generative approach \n",
    "\n",
    "We know $\\pi = P(Y=1)$ and the distributions $f(x|Y=1)$ and $f(x|Y=-1)$.\n",
    "\n",
    "#### First bullet point"
   ]
  },
  {
   "cell_type": "code",
   "execution_count": 1,
   "metadata": {},
   "outputs": [],
   "source": [
    "import numpy as np\n",
    "import matplotlib.pyplot as plt\n",
    "from sklearn.linear_model import LogisticRegression\n",
    "from sklearn.discriminant_analysis import LinearDiscriminantAnalysis"
   ]
  },
  {
   "cell_type": "code",
   "execution_count": 15,
   "metadata": {},
   "outputs": [],
   "source": [
    "np.random.seed(seed=123)"
   ]
  },
  {
   "cell_type": "code",
   "execution_count": 16,
   "metadata": {},
   "outputs": [],
   "source": [
    "m1 = np.array([1,1])\n",
    "m2 = np.array([0,0])\n",
    "\n",
    "sigma = np.array([[1, -0.5],[-0.5, 1]])\n",
    "\n",
    "n = 500"
   ]
  },
  {
   "cell_type": "code",
   "execution_count": 17,
   "metadata": {},
   "outputs": [],
   "source": [
    "X1 = np.random.multivariate_normal(m1, sigma, n)\n",
    "X2 = np.random.multivariate_normal(m2, sigma, n)\n",
    "X_generative = np.concatenate([X1,X2])"
   ]
  },
  {
   "cell_type": "code",
   "execution_count": 18,
   "metadata": {},
   "outputs": [],
   "source": [
    "Y_generative = np.concatenate([np.ones(n),np.zeros(n)])"
   ]
  },
  {
   "cell_type": "markdown",
   "metadata": {},
   "source": [
    "Does the distribution of $P(Y=1|X=x)=p(y=1|x)$ correspond to a logistic model?\n",
    "\n",
    "A hint: Use Bayes theorem to compute $p(y=1|x)$. Is it possible to represent $p(y=1|x)$ as $\\frac{e^{\\beta_0 + \\beta x}}{1 + e^{\\beta_0 + \\beta x}}$?\n"
   ]
  },
  {
   "cell_type": "markdown",
   "metadata": {},
   "source": [
    "$$p(x|y=1)=\\frac{1}{{(2\\pi)}^{p/2}{|\\Sigma|}^{1/2}}exp(-\\frac{1}{2}(x-\\mu_1)^{T}\\Sigma^{-1}(x-\\mu_1))$$\n",
    "\n",
    "$$p(x|y=-1)=\\frac{1}{{(2\\pi)}^{p/2}{|\\Sigma|}^{1/2}}exp(-\\frac{1}{2}(x-\\mu_2)^{T}\\Sigma^{-1}(x-\\mu_2))$$"
   ]
  },
  {
   "cell_type": "markdown",
   "metadata": {},
   "source": [
    "$$P(Y=1|X=x) = p(y=1|x) = \\frac{p(x|y=1)p(y=1)}{p(x)} = \\frac{p(x|y=1)p(y=1)}{p(x|y=1)p(y=1)+p(x|y=-1)p(y=-1)} =$$\n",
    "\n",
    "$$ = \\frac{\\pi p(x|y=1)}{\\pi p(x|y=1)+(1-\\pi)p(x|y=-1)} = \\frac{1}{1+\\frac{1-\\pi}{\\pi}\\frac{p(x|y=-1)}{p(x|y=1)}} $$\n"
   ]
  },
  {
   "cell_type": "markdown",
   "metadata": {},
   "source": [
    "$$ \\frac{1-\\pi}{\\pi}\\frac{p(x|y=-1)}{p(x|y=1)} = \\frac{1-\\pi}{\\pi}\\frac{exp(-\\frac{1}{2}(x-\\mu_2)^{T}\\Sigma^{-1}(x-\\mu_2))}{exp(-\\frac{1}{2}(x-\\mu_1)^{T}\\Sigma^{-1}(x-\\mu_1))} = $$\n",
    "\n",
    "$$ = \\frac{1-\\pi}{\\pi} exp(-\\frac{1}{2}(x-\\mu_2)^{T}\\Sigma^{-1}(x-\\mu_2)+\\frac{1}{2}(x-\\mu_1)^{T}\\Sigma^{-1}(x-\\mu_1)) = $$\n",
    "\n",
    "$$ = exp(log(\\frac{1-\\pi}{\\pi})+\\frac{1}{2}x^{T}\\Sigma^{-1}x-\\frac{1}{2}{\\mu_1}^{T}\\Sigma^{-1}x-\\frac{1}{2}x^{T}\\Sigma^{-1}\\mu_1+\\frac{1}{2}{\\mu_1}^{T}\\Sigma^{-1}\\mu_1 - $$\n",
    "\n",
    "$$ - \\frac{1}{2}x^{T}\\Sigma^{-1}x+\\frac{1}{2}{\\mu_2}^{T}\\Sigma^{-1}x+\\frac{1}{2}x^{T}\\Sigma^{-1}\\mu_2-\\frac{1}{2}{\\mu_2}^{T}\\Sigma^{-1}\\mu_2) = $$\n",
    "\n",
    "$$ = exp(log(\\frac{1-\\pi}{\\pi})-\\frac{1}{2}({\\mu_2}^{T}\\Sigma^{-1}\\mu_2-{\\mu_1}^{T}\\Sigma^{-1}\\mu_1)-(\\mu_1-\\mu_2)^{T} \\Sigma^{-1}x)$$"
   ]
  },
  {
   "cell_type": "markdown",
   "metadata": {},
   "source": [
    "$$p(y=1|x) = \\frac{1}{1+exp(-\\beta_0-\\beta x)} = \\frac{1}{1+exp(log(\\frac{1-\\pi}{\\pi})-\\frac{1}{2}({\\mu_2}^{T}\\Sigma^{-1}\\mu_2-{\\mu_1}^{T}\\Sigma^{-1}\\mu_1)-(\\mu_1-\\mu_2)^{T} \\Sigma^{-1}x)}$$"
   ]
  },
  {
   "cell_type": "markdown",
   "metadata": {},
   "source": [
    "$$-\\beta_0 = log(\\frac{1-\\pi}{\\pi})-\\frac{1}{2}({\\mu_2}^{T}\\Sigma^{-1}\\mu_2-{\\mu_1}^{T}\\Sigma^{-1}\\mu_1)$$ \n",
    "$$ -\\beta = -\\Sigma^{-1}(\\mu_1-\\mu_2)"
   ]
  },
  {
   "cell_type": "markdown",
   "metadata": {},
   "source": [
    "$$\\beta_0 = log(\\frac{\\pi}{1-\\pi})+\\frac{1}{2}({\\mu_2}^{T}\\Sigma^{-1}\\mu_2-{\\mu_1}^{T}\\Sigma^{-1}\\mu_1)$$ \n",
    "$$\\beta = \\Sigma^{-1}(\\mu_1-\\mu_2)"
   ]
  },
  {
   "cell_type": "markdown",
   "metadata": {},
   "source": [
    "#### Second bullet point"
   ]
  },
  {
   "cell_type": "markdown",
   "metadata": {},
   "source": [
    "Find the formulas for the parameters of the logistic model (the coefficients and the intercept).\n",
    "\n",
    "A hint: Use the representation of $p(y=1|x)$ from the first bullet point and solve for $\\beta_0$ and $\\beta$."
   ]
  },
  {
   "cell_type": "markdown",
   "metadata": {},
   "source": [
    "$$\\beta_0 = log(\\frac{\\pi}{1-\\pi})+\\frac{1}{2}({\\mu_2}^{T}\\Sigma^{-1}\\mu_2-{\\mu_1}^{T}\\Sigma^{-1}\\mu_1)$$ \n",
    "$$\\beta = \\Sigma^{-1}(\\mu_1-\\mu_2)"
   ]
  },
  {
   "cell_type": "code",
   "execution_count": 19,
   "metadata": {},
   "outputs": [],
   "source": [
    "sigma_inv = np.linalg.inv(sigma)\n",
    "beta = np.dot(sigma_inv, m1 - m2)"
   ]
  },
  {
   "cell_type": "code",
   "execution_count": 20,
   "metadata": {},
   "outputs": [],
   "source": [
    "pi1 = 0.5\n",
    "beta0 = np.log(pi1) - np.log(1 - pi1) + (m2.dot(sigma_inv.dot(m2)) - m1.dot(sigma_inv.dot(m1))) / 2"
   ]
  },
  {
   "cell_type": "code",
   "execution_count": 21,
   "metadata": {},
   "outputs": [
    {
     "name": "stdout",
     "output_type": "stream",
     "text": [
      "beta0: -2.0\n",
      "beta: [2. 2.]\n"
     ]
    }
   ],
   "source": [
    "print(f\"beta0: {beta0}\\nbeta: {beta}\")"
   ]
  },
  {
   "cell_type": "code",
   "execution_count": 22,
   "metadata": {},
   "outputs": [
    {
     "name": "stdout",
     "output_type": "stream",
     "text": [
      "[-2.05795569] [[2.15441149 2.02453956]]\n"
     ]
    }
   ],
   "source": [
    "# a logistic model\n",
    "mod_a = LogisticRegression(penalty=None)\n",
    "mod_a.fit(X_generative, Y_generative)\n",
    "print(mod_a.intercept_, mod_a.coef_)"
   ]
  },
  {
   "cell_type": "markdown",
   "metadata": {},
   "source": [
    "### b) Discriminative approach\n",
    "\n",
    "We know $f(x)$ and $P(Y=1|X=x)$.\n",
    "\n",
    "#### First bullet point"
   ]
  },
  {
   "cell_type": "code",
   "execution_count": 23,
   "metadata": {},
   "outputs": [],
   "source": [
    "n = 1000\n",
    "rv = np.random.binomial(1, 0.5, 1000)"
   ]
  },
  {
   "cell_type": "code",
   "execution_count": 24,
   "metadata": {},
   "outputs": [],
   "source": [
    "X1 = np.random.multivariate_normal(m1, sigma, n)\n",
    "X2 = np.random.multivariate_normal(m2, sigma, n)\n",
    "X_discriminative = np.vstack((X1[rv == 0, :], X2[rv == 1, :]))"
   ]
  },
  {
   "cell_type": "code",
   "execution_count": 25,
   "metadata": {},
   "outputs": [],
   "source": [
    "proba_y = 1 / (1 + np.exp(-(beta0 + np.dot(X_discriminative, beta))))\n",
    "Y_discriminative = np.random.binomial(1, proba_y, n)"
   ]
  },
  {
   "cell_type": "code",
   "execution_count": 26,
   "metadata": {},
   "outputs": [
    {
     "data": {
      "text/plain": [
       "(array([-1.91298296]), array([[1.95023135, 1.91915661]]))"
      ]
     },
     "execution_count": 26,
     "metadata": {},
     "output_type": "execute_result"
    }
   ],
   "source": [
    "mod_b = LogisticRegression(penalty=None)\n",
    "mod_b.fit(X_discriminative, Y_discriminative)\n",
    "(mod_b.intercept_, mod_b.coef_)"
   ]
  },
  {
   "cell_type": "markdown",
   "metadata": {},
   "source": [
    "#### Second bullet point"
   ]
  },
  {
   "cell_type": "code",
   "execution_count": 27,
   "metadata": {},
   "outputs": [
    {
     "data": {
      "image/png": "[encoded data removed]",
      "text/plain": [
       "<Figure size 640x480 with 2 Axes>"
      ]
     },
     "metadata": {},
     "output_type": "display_data"
    }
   ],
   "source": [
    "plt.subplot(1, 2, 1)\n",
    "plt.scatter(X_generative[:,0], X_generative[:,1], c=Y_generative)\n",
    "plt.ylim(-4,4)\n",
    "plt.xlim(-4,4)\n",
    "plt.subplot(1, 2, 2)\n",
    "plt.scatter(X_discriminative[:,0], X_discriminative[:,1], c=Y_discriminative)\n",
    "plt.ylim(-4,4)\n",
    "plt.xlim(-4,4)\n",
    "plt.show()"
   ]
  },
  {
   "cell_type": "markdown",
   "metadata": {},
   "source": [
    "What distinguishes the generative approach from the discriminative approach?"
   ]
  },
  {
   "cell_type": "markdown",
   "metadata": {},
   "source": [
    "### c)"
   ]
  },
  {
   "cell_type": "markdown",
   "metadata": {},
   "source": [
    "To sample from $f_{X|Y=-1}$, first, we will give an answer to Q1.\n",
    "\n",
    "Q1. A hint: use Bayes theorem for $p(x|y=-1)$ and use law of total probability for $p(x)$."
   ]
  },
  {
   "cell_type": "markdown",
   "metadata": {},
   "source": [
    "$$ p(y=1|x)=\\frac{1}{1+exp(-\\beta_0-\\beta_1 x)} $$\n",
    "\n",
    "$$ p(y=-1|x) = 1 - p(y=1|x) = \\frac{1}{1+exp(\\beta_0+\\beta_1 x)} $$\n",
    "\n",
    "$$ p(x|y=1) = exp(-x) $$"
   ]
  },
  {
   "cell_type": "markdown",
   "metadata": {},
   "source": [
    "$$  p(y=1|x) = \\frac{\\pi p(x|y=1)}{\\pi p(x|y=1)+(1-\\pi)p(x|y=-1)} $$\n",
    "\n",
    "$$ p(x|y=-1) = \\frac{\\pi p(x|y=1)(1-p(y=1|x))}{(1-\\pi)p(y=1|x)} = \\frac{\\pi p(x|y=1)p(y=-1|x)}{(1-\\pi)p(y=1|x)} = $$\n",
    "\n",
    "$$ = \\frac{\\pi}{1-\\pi}exp(-x)\\frac{1 - \\frac{1}{1+exp(-\\beta_0-\\beta_1 x)}}{\\frac{1}{1+exp(-\\beta_0-\\beta_1 x)}} = \\frac{\\pi}{1-\\pi}exp(-x)exp(-\\beta_0-\\beta_1 x) = $$\n",
    "\n",
    "$$ = \\frac{\\pi}{1-\\pi}exp(-\\beta_0)exp(-(\\beta_1+1)x) = C_{\\beta_0 \\pi}exp(-(\\beta_1+1)x)$$"
   ]
  },
  {
   "cell_type": "markdown",
   "metadata": {},
   "source": [
    "Q2, Q3. A hint: what is the distribution of $f_{X|Y=-1}$? What ia a norming constant?\n",
    "\n",
    "..."
   ]
  },
  {
   "cell_type": "markdown",
   "metadata": {},
   "source": [
    "If that is doable, given $\\beta_1$ and $\\pi$ compute $\\beta_0$.\n",
    "\n",
    "A hint: Of course it is, compute $\\beta_0$."
   ]
  },
  {
   "cell_type": "markdown",
   "metadata": {},
   "source": [
    "$$ \\frac{\\pi}{1-\\pi}exp(-\\beta_0) = C_{\\beta_0 \\pi} $$\n",
    "\n",
    "$$ \\beta_0 = -log(\\frac{1-\\pi}{\\pi} C_{\\beta_0 \\pi}) = -log(\\frac{1-\\pi}{\\pi} (\\beta_1+1))  "
   ]
  },
  {
   "cell_type": "markdown",
   "metadata": {},
   "source": [
    "$$ \\beta_0 = -log(4)$$"
   ]
  },
  {
   "cell_type": "code",
   "execution_count": 28,
   "metadata": {},
   "outputs": [],
   "source": [
    "# sampling\n",
    "\n",
    "n1 = 1000\n",
    "X1 = np.random.exponential(1, size=n1)"
   ]
  },
  {
   "cell_type": "code",
   "execution_count": 29,
   "metadata": {},
   "outputs": [],
   "source": [
    "beta1 = 1\n",
    "n2 = 2000\n",
    "X2 = np.random.exponential(1/(beta1 + 1), size=n2)"
   ]
  },
  {
   "cell_type": "code",
   "execution_count": 31,
   "metadata": {},
   "outputs": [],
   "source": [
    "X = np.concatenate([X1, X2]).reshape(-1, 1)\n",
    "y = np.concatenate([np.ones(n1), np.zeros(n2)])"
   ]
  },
  {
   "cell_type": "code",
   "execution_count": 32,
   "metadata": {},
   "outputs": [
    {
     "data": {
      "text/plain": [
       "(array([-1.34737297]), array([[0.98557825]]))"
      ]
     },
     "execution_count": 32,
     "metadata": {},
     "output_type": "execute_result"
    }
   ],
   "source": [
    "# a model\n",
    "mod = LogisticRegression(penalty=None)\n",
    "mod.fit(X, y)\n",
    "(mod.intercept_, mod.coef_)"
   ]
  },
  {
   "cell_type": "code",
   "execution_count": 33,
   "metadata": {},
   "outputs": [
    {
     "data": {
      "text/plain": [
       "-1.3862943611198908"
      ]
     },
     "execution_count": 33,
     "metadata": {},
     "output_type": "execute_result"
    }
   ],
   "source": [
    "# a numeric answer to the question about beta0\n",
    "pi_c = n1 / (n1 + n2)\n",
    "-np.log((1 - pi_c)/pi_c * (beta1 + 1))"
   ]
  },
  {
   "attachments": {},
   "cell_type": "markdown",
   "metadata": {},
   "source": [
    "## Task 2"
   ]
  },
  {
   "cell_type": "markdown",
   "metadata": {},
   "source": [
    "### a)\n",
    "\n",
    "$R(a,a^*) = \\mathbb{E} \\mathcal{L}(f(X), Y) = \\mathbb{E}(aX - Y)^2 = ...$,\n",
    "\n",
    "In our task we know $a^* = 1$."
   ]
  },
  {
   "cell_type": "code",
   "execution_count": 268,
   "metadata": {},
   "outputs": [],
   "source": [
    "# def population_risk(a, sigma_eps):\n",
    "#     return ..."
   ]
  },
  {
   "attachments": {},
   "cell_type": "markdown",
   "metadata": {},
   "source": [
    "### b)"
   ]
  },
  {
   "cell_type": "code",
   "execution_count": 269,
   "metadata": {},
   "outputs": [],
   "source": [
    "# sampling"
   ]
  },
  {
   "cell_type": "markdown",
   "metadata": {},
   "source": [
    "Empirical risk: $\\frac{1}{n} \\sum_{i=1}^n (ax_i - y_i)^2$"
   ]
  },
  {
   "cell_type": "code",
   "execution_count": 270,
   "metadata": {},
   "outputs": [],
   "source": [
    "# def empirical_risk(a, x, y):\n",
    "#     return ..."
   ]
  },
  {
   "attachments": {},
   "cell_type": "markdown",
   "metadata": {},
   "source": [
    "### c)"
   ]
  },
  {
   "cell_type": "code",
   "execution_count": 37,
   "metadata": {},
   "outputs": [],
   "source": [
    "# code, plot"
   ]
  },
  {
   "attachments": {},
   "cell_type": "markdown",
   "metadata": {},
   "source": [
    "### d)"
   ]
  },
  {
   "cell_type": "markdown",
   "metadata": {},
   "source": [
    "Excess risk: $$E(\\hat a, a^*) =R(\\hat a, a^*) - \\textrm{inf}_{a \\in A_0} R(a, a^*)$$"
   ]
  },
  {
   "cell_type": "code",
   "execution_count": 38,
   "metadata": {},
   "outputs": [],
   "source": [
    "# excess risk\n",
    "# ..."
   ]
  },
  {
   "cell_type": "code",
   "execution_count": 39,
   "metadata": {},
   "outputs": [],
   "source": [
    "# simulations with fixed sample size"
   ]
  },
  {
   "cell_type": "code",
   "execution_count": 276,
   "metadata": {},
   "outputs": [],
   "source": [
    "# simulations for various sample sizes"
   ]
  },
  {
   "cell_type": "code",
   "execution_count": 40,
   "metadata": {},
   "outputs": [],
   "source": [
    "# a nice plot visualising the results (how the unconditional excess risk changes with a sample size)"
   ]
  }
 ],
 "metadata": {
  "kernelspec": {
   "display_name": "base",
   "language": "python",
   "name": "python3"
  },
  "language_info": {
   "codemirror_mode": {
    "name": "ipython",
    "version": 3
   },
   "file_extension": ".py",
   "mimetype": "text/x-python",
   "name": "python",
   "nbconvert_exporter": "python",
   "pygments_lexer": "ipython3",
   "version": "3.9.18"
  },
  "orig_nbformat": 4
 },
 "nbformat": 4,
 "nbformat_minor": 2
}
