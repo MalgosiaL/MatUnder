{
 "cells": [
  {
   "cell_type": "code",
   "execution_count": 1,
   "metadata": {},
   "outputs": [],
   "source": [
    "from sklearn.metrics import mutual_info_score\n",
    "#from sklearn.feature_selection import chi2\n",
    "from scipy.stats import chi2_contingency\n",
    "from scipy.stats import chi2\n",
    "import numpy as np\n",
    "import matplotlib.pyplot as plt\n",
    "from scipy.stats import gaussian_kde, pearsonr\n",
    "import seaborn as sns\n",
    "import pandas as pd"
   ]
  },
  {
   "cell_type": "markdown",
   "metadata": {},
   "source": [
    "# Mathematical Underpinnings - Lab 4"
   ]
  },
  {
   "cell_type": "markdown",
   "metadata": {},
   "source": [
    "Tests to verify hipoteses of independence (from Lab 4):"
   ]
  },
  {
   "cell_type": "code",
   "execution_count": 2,
   "metadata": {},
   "outputs": [],
   "source": [
    "def indep_test_asymptotic(X, Y, stat):\n",
    "\n",
    "    if stat == \"mi\":\n",
    "\n",
    "        stat_value = 2*len(X)*mutual_info_score(X, Y)\n",
    "\n",
    "    if stat == \"chi2\":\n",
    "\n",
    "        test_res = (chi2_contingency(pd.crosstab(X, Y)))\n",
    "        stat_value = test_res.statistic\n",
    "\n",
    "    df = (len(np.unique(X)) - 1)*(len(np.unique(Y)) - 1)\n",
    "\n",
    "    p_value = 1 - chi2.cdf(stat_value, df=df)\n",
    "\n",
    "    return stat_value, p_value\n",
    "\n",
    "def indep_test_permutation(X, Y, B, stat=\"mi\"):\n",
    "\n",
    "    stat_value = mutual_info_score(X, Y)\n",
    "\n",
    "    condition_p_value = 0\n",
    "    for b in range(B):\n",
    "        X_b = np.random.permutation(X)\n",
    "\n",
    "        stat_value_b = mutual_info_score(X_b, Y)\n",
    "\n",
    "        if stat_value <= stat_value_b:\n",
    "            condition_p_value += 1\n",
    "\n",
    "    p_value = (1 + condition_p_value)/(1 + B)\n",
    "\n",
    "    return 2*len(X)*stat_value, p_value"
   ]
  },
  {
   "cell_type": "markdown",
   "metadata": {},
   "source": [
    "## Task 1"
   ]
  },
  {
   "cell_type": "code",
   "execution_count": 32,
   "metadata": {},
   "outputs": [
    {
     "name": "stdout",
     "output_type": "stream",
     "text": [
      "CMI(X;Y|Z) = 0.10464962875290966\n"
     ]
    }
   ],
   "source": [
    "from sklearn.metrics import mutual_info_score\n",
    "\n",
    "def cmi(x, y, z):\n",
    "    \"\"\"\n",
    "    Computes the Conditional Mutual Information (CMI) between three random variables X, Y, and Z.\n",
    "    \n",
    "    Parameters:\n",
    "        x: list or array-like object containing values of random variable X\n",
    "        y: list or array-like object containing values of random variable Y\n",
    "        z: list or array-like object containing values of random variable Z\n",
    "    \n",
    "    Returns:\n",
    "        cmi_value: the value of Conditional Mutual Information (CMI) between X, Y, and Z\n",
    "    \"\"\"\n",
    "    # Combine x, y, and z into tuples (x_i, y_i, z_i)\n",
    "    xyz = list(zip(x, y, z))\n",
    "\n",
    "    # Count occurrences of each z_i value\n",
    "    z_counts = {}\n",
    "    for _, _, z_i in xyz:\n",
    "        z_counts[z_i] = z_counts.get(z_i, 0) + 1\n",
    "\n",
    "    # Compute total number of samples\n",
    "    total_samples = len(x)\n",
    "\n",
    "    # Compute conditional mutual information\n",
    "    cmi_value = 0\n",
    "    for z_i, count in z_counts.items():\n",
    "        # Compute conditional probability p(z_i)\n",
    "        p_z = count / total_samples\n",
    "        # Filter x, y pairs where z equals z_i\n",
    "        xy_given_z = [(x_i, y_i) for x_i, y_i, z_i_temp in xyz if z_i_temp == z_i]\n",
    "        # Extract x and y from filtered pairs\n",
    "        x_given_z, y_given_z = zip(*xy_given_z)\n",
    "        # Compute mutual information I(x, y | z_i)\n",
    "        mi = mutual_info_score(x_given_z, y_given_z)\n",
    "        # Accumulate CMI\n",
    "        cmi_value += p_z * mi\n",
    "        \n",
    "    return cmi_value\n",
    "\n",
    "# Example usage:\n",
    "X = [1, 0, 1, 0, 1]\n",
    "Y = [0, 1, 1, 0, 1]\n",
    "Z = [1, 0, 1, 0, 0]\n",
    "\n",
    "result = cmi(X, Y, Z)\n",
    "print(\"CMI(X;Y|Z) =\", result)"
   ]
  },
  {
   "cell_type": "markdown",
   "metadata": {},
   "source": [
    "### a)"
   ]
  },
  {
   "cell_type": "code",
   "execution_count": 34,
   "metadata": {},
   "outputs": [
    {
     "name": "stdout",
     "output_type": "stream",
     "text": [
      "Test Statistic: 3.819085009768877\n",
      "p-value: 0.14814814814814814\n"
     ]
    }
   ],
   "source": [
    "# CI test based on CMI and asymptotics\n",
    "def asymptotic_test_cmi(x, y, z):\n",
    "    \"\"\"\n",
    "    Performs an asymptotic test of conditional independence between random variables X and Y given Z.\n",
    "    \n",
    "    Parameters:\n",
    "        x: list or array-like object containing values of random variable X\n",
    "        y: list or array-like object containing values of random variable Y\n",
    "        z: list or array-like object containing values of random variable Z\n",
    "    \n",
    "    Returns:\n",
    "        test_statistic: the test statistic value\n",
    "        p_value: the p-value for the test\n",
    "    \"\"\"\n",
    "    # Compute the CMI between X and Y given Z\n",
    "    cmi_value = cmi(x, y, z)\n",
    "    \n",
    "    # Compute the number of samples\n",
    "    n = len(x)\n",
    "    \n",
    "    # Determine the degrees of freedom for the chi-squared distribution\n",
    "    df = (len(set(x)) - 1) * (len(set(y)) - 1) * len(set(z))\n",
    "    \n",
    "    # Compute the test statistic\n",
    "    test_statistic = 2 * n * cmi_value\n",
    "    \n",
    "    # Compute the p-value\n",
    "    p_value = 1 - chi2.cdf(test_statistic, df)\n",
    "    \n",
    "    return test_statistic, p_value\n",
    "\n",
    "# Example usage:\n",
    "X = [1, 0, 1, 0, 1]\n",
    "Y = [0, 1, 1, 1, 0]\n",
    "Z = [1, 0, 1, 0, 0]\n",
    "\n",
    "test_statistic, p_value = asymptotic_test_cmi(X, Y, Z)\n",
    "print(\"Test Statistic:\", test_statistic)\n",
    "print(\"p-value:\", p_value)"
   ]
  },
  {
   "cell_type": "markdown",
   "metadata": {},
   "source": [
    "### b)"
   ]
  },
  {
   "cell_type": "code",
   "execution_count": 89,
   "metadata": {},
   "outputs": [
    {
     "name": "stdout",
     "output_type": "stream",
     "text": [
      "Test Statistic: 0.3819085009768877\n",
      "p-value: 0.36633663366336633\n"
     ]
    }
   ],
   "source": [
    "# CI test based on CMI and permutations\n",
    "def conditional_permutation_test(x, y, z, B=100):\n",
    "    \"\"\"\n",
    "    Performs a conditional permutation test for conditional independence between random variables X and Y given Z.\n",
    "    \n",
    "    Parameters:\n",
    "        x: list or array-like object containing values of random variable X\n",
    "        y: list or array-like object containing values of random variable Y\n",
    "        z: list or array-like object containing values of random variable Z\n",
    "        B: number of permutations (default is 100)\n",
    "    \n",
    "    Returns:\n",
    "        p_value: the p-value for the test\n",
    "    \"\"\"\n",
    "    # Compute the observed CMI\n",
    "    observed_cmi = cmi(x, y, z)\n",
    "    \n",
    "    # Initialize count of permuted CMIs less than or equal to observed CMI\n",
    "    count_permuted_cmi_bi_observed = 0\n",
    "    \n",
    "    # Iterate over permutations\n",
    "    for _ in range(B):\n",
    "        # Shuffle the values of x while preserving the grouping by z\n",
    "        permuted_x = np.zeros(len(x))\n",
    "        unique_z_values = np.unique(z)\n",
    "        for z_value in unique_z_values:\n",
    "            indices = np.where(np.array(z) == z_value)[0]\n",
    "            permuted_indices = np.random.permutation(indices)\n",
    "            permuted_x[indices] = np.array(x)[permuted_indices]\n",
    "        \n",
    "        # Compute CMI for permuted sample\n",
    "        permuted_cmi = cmi(permuted_x, y, z)\n",
    "        \n",
    "        # Check if permuted CMI is bigger than or equal to observed CMI\n",
    "        if observed_cmi <= permuted_cmi:\n",
    "            count_permuted_cmi_bi_observed += 1\n",
    "    \n",
    "    # Compute p-value\n",
    "    p_value = (1 + count_permuted_cmi_bi_observed) / (1 + B)\n",
    "    \n",
    "    return observed_cmi, p_value\n",
    "\n",
    "# Example usage:\n",
    "X = [1, 0, 1, 0, 1]\n",
    "Y = [0, 1, 1, 1, 0]\n",
    "Z = [1, 0, 1, 0, 0]\n",
    "\n",
    "observed_cmi, p_value = conditional_permutation_test(X, Y, Z)\n",
    "print(\"Test Statistic:\", observed_cmi)\n",
    "print(\"p-value:\", p_value)\n"
   ]
  },
  {
   "cell_type": "code",
   "execution_count": null,
   "metadata": {},
   "outputs": [],
   "source": []
  },
  {
   "cell_type": "markdown",
   "metadata": {},
   "source": [
    "### c)"
   ]
  },
  {
   "cell_type": "markdown",
   "metadata": {},
   "source": [
    "conditionaly independent"
   ]
  },
  {
   "cell_type": "code",
   "execution_count": 90,
   "metadata": {},
   "outputs": [
    {
     "name": "stdout",
     "output_type": "stream",
     "text": [
      "Asymptotic Test Statistic: 0.050627169180975096\n",
      "Asymptotic p-value: 0.9750041178176528\n",
      "Conditional Test Statistic: 2.531358459048755e-05\n",
      "Conditional p-value: 0.9900990099009901\n"
     ]
    }
   ],
   "source": [
    "def generate_independent_samples(sample_size):\n",
    "    \"\"\"\n",
    "    Generate synthetic samples for variables X, Y, and Z.\n",
    "    \n",
    "    Parameters:\n",
    "        sample_size: number of samples to generate\n",
    "    \n",
    "    Returns:\n",
    "        x: list containing values of random variable X\n",
    "        y: list containing values of random variable Y\n",
    "        z: list containing values of random variable Z\n",
    "    \"\"\"\n",
    "    x = np.random.randint(0, 2, size=sample_size)\n",
    "    y = np.random.randint(0, 2, size=sample_size)\n",
    "    z = np.random.randint(0, 2, size=sample_size)\n",
    "    \n",
    "    return x.tolist(), y.tolist(), z.tolist()\n",
    "    \n",
    "# Generate larger samples\n",
    "sample_size = 1000\n",
    "X, Y, Z = generate_samples(sample_size)\n",
    "\n",
    "# Perform asymptotic permutation test\n",
    "test_statistic, p_value = asymptotic_test_cmi(X, Y, Z)\n",
    "print(\"Asymptotic Test Statistic:\", test_statistic)\n",
    "print(\"Asymptotic p-value:\", p_value)\n",
    "\n",
    "# Perform conditional permutation test\n",
    "observed_cmi, p_value = conditional_permutation_test(X, Y, Z)\n",
    "print(\"Conditional Test Statistic:\", observed_cmi)\n",
    "print(\"Conditional p-value:\", p_value)"
   ]
  },
  {
   "cell_type": "markdown",
   "metadata": {},
   "source": [
    "conditionaly dependent"
   ]
  },
  {
   "cell_type": "code",
   "execution_count": 91,
   "metadata": {},
   "outputs": [
    {
     "name": "stdout",
     "output_type": "stream",
     "text": [
      "Asymptotic Test Statistic: 1386.0945747775522\n",
      "Asymptotic p-value: 0.0\n",
      "Conditional Test Statistic: 0.6930472873887761\n",
      "Conditional p-value: 0.009900990099009901\n"
     ]
    }
   ],
   "source": [
    "def sample_dependent_distribution(n_samples):\n",
    "    \"\"\"\n",
    "    Draw a sample from a distribution where X and Y are conditionally dependent given Z.\n",
    "    \n",
    "    Parameters:\n",
    "        n_samples: number of samples to draw\n",
    "        \n",
    "    Returns:\n",
    "        x: list containing values of random variable X\n",
    "        y: list containing values of random variable Y\n",
    "        z: list containing values of random variable Z\n",
    "    \"\"\"\n",
    "    x = np.random.randint(0, 2, size=sample_size)\n",
    "    y = 1 - x # negative of x\n",
    "    z = np.random.randint(0, 2, size=sample_size)\n",
    "    \n",
    "    return x.tolist(), y.tolist(), z.tolist()\n",
    "\n",
    "# Example usage:\n",
    "n_samples = 1000\n",
    "X, Y, Z = sample_dependent_distribution(n_samples)\n",
    "\n",
    "# Perform asymptotic permutation test\n",
    "test_statistic, p_value = asymptotic_test_cmi(X, Y, Z)\n",
    "print(\"Asymptotic Test Statistic:\", test_statistic)\n",
    "print(\"Asymptotic p-value:\", p_value)\n",
    "\n",
    "# Perform conditional permutation test\n",
    "observed_cmi, p_value = conditional_permutation_test(X, Y, Z)\n",
    "print(\"Conditional Test Statistic:\", observed_cmi)\n",
    "print(\"Conditional p-value:\", p_value)"
   ]
  },
  {
   "cell_type": "markdown",
   "metadata": {},
   "source": [
    "## Task 2"
   ]
  },
  {
   "cell_type": "code",
   "execution_count": 76,
   "metadata": {},
   "outputs": [],
   "source": [
    "def sample_from_model1():\n",
    "    pass\n",
    "\n",
    "def sample_from_model2():\n",
    "    pass\n",
    "\n",
    "def sample_from_model3():\n",
    "    pass"
   ]
  },
  {
   "cell_type": "markdown",
   "metadata": {},
   "source": [
    "### a)"
   ]
  },
  {
   "cell_type": "markdown",
   "metadata": {},
   "source": [
    "answer:"
   ]
  },
  {
   "cell_type": "markdown",
   "metadata": {},
   "source": [
    "### b)"
   ]
  },
  {
   "cell_type": "code",
   "execution_count": null,
   "metadata": {},
   "outputs": [],
   "source": []
  },
  {
   "cell_type": "markdown",
   "metadata": {},
   "source": [
    "### c)"
   ]
  },
  {
   "cell_type": "code",
   "execution_count": null,
   "metadata": {},
   "outputs": [],
   "source": []
  }
 ],
 "metadata": {
  "kernelspec": {
   "display_name": "Python 3 (ipykernel)",
   "language": "python",
   "name": "python3"
  },
  "language_info": {
   "codemirror_mode": {
    "name": "ipython",
    "version": 3
   },
   "file_extension": ".py",
   "mimetype": "text/x-python",
   "name": "python",
   "nbconvert_exporter": "python",
   "pygments_lexer": "ipython3",
   "version": "3.9.1"
  }
 },
 "nbformat": 4,
 "nbformat_minor": 2
}
