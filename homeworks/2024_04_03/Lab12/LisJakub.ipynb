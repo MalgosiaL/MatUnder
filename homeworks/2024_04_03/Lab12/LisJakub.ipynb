{
 "cells": [
  {
   "cell_type": "markdown",
   "metadata": {},
   "source": [
    "# Mathematical Underpinnings - Lab 6"
   ]
  },
  {
   "cell_type": "code",
   "execution_count": 166,
   "metadata": {
    "ExecuteTime": {
     "end_time": "2024-04-10T22:39:49.964831Z",
     "start_time": "2024-04-10T22:39:49.738802Z"
    }
   },
   "outputs": [],
   "source": [
    "import pandas as pd\n",
    "from sklearn.metrics import mutual_info_score\n",
    "import numpy as np\n",
    "from tqdm import tqdm"
   ]
  },
  {
   "cell_type": "markdown",
   "metadata": {},
   "source": [
    "## Useful functions"
   ]
  },
  {
   "cell_type": "code",
   "execution_count": 196,
   "metadata": {
    "ExecuteTime": {
     "end_time": "2024-04-10T23:10:47.100766Z",
     "start_time": "2024-04-10T23:10:47.085383Z"
    }
   },
   "outputs": [],
   "source": [
    "def discetize_2bins(X, false_value=-1):\n",
    "    X_discrete = np.where(X >= 0, 1, false_value)\n",
    "    return X_discrete"
   ]
  },
  {
   "cell_type": "code",
   "execution_count": 168,
   "metadata": {
    "ExecuteTime": {
     "end_time": "2024-04-10T22:39:50.230400Z",
     "start_time": "2024-04-10T22:39:49.755310Z"
    }
   },
   "outputs": [],
   "source": [
    "def conditional_permutation(X, Z):\n",
    "\n",
    "    z_values = np.unique(Z)\n",
    "    n_z_values = len(z_values)\n",
    "    n = len(Z)\n",
    "\n",
    "    X_b = np.zeros(n)\n",
    "\n",
    "    for i in range(n_z_values):\n",
    "\n",
    "        z_value_tmp = z_values[i]\n",
    "\n",
    "        X_b[Z == z_value_tmp] = np.random.permutation(X[Z == z_value_tmp])\n",
    "\n",
    "    return X_b"
   ]
  },
  {
   "cell_type": "code",
   "execution_count": 169,
   "metadata": {
    "ExecuteTime": {
     "end_time": "2024-04-10T22:39:50.230632Z",
     "start_time": "2024-04-10T22:39:49.760219Z"
    }
   },
   "outputs": [],
   "source": [
    "def conditional_mutual_information(X, Y, Z):\n",
    "\n",
    "    z_values = np.unique(Z)\n",
    "    n_z_values = len(z_values)\n",
    "    n = len(Z)\n",
    "\n",
    "    cmi = 0\n",
    "\n",
    "    for i in range(n_z_values):\n",
    "\n",
    "        z_value_tmp = z_values[i]\n",
    "        z_condition = (Z == z_value_tmp)\n",
    "\n",
    "        X_z = X[z_condition]\n",
    "        Y_z = Y[z_condition]\n",
    "\n",
    "        mi_XY_z = mutual_info_score(X_z, Y_z)\n",
    "        p_z = np.sum(z_condition)/n\n",
    "\n",
    "        cmi += p_z*mi_XY_z\n",
    "\n",
    "    return cmi"
   ]
  },
  {
   "cell_type": "code",
   "execution_count": 170,
   "metadata": {
    "ExecuteTime": {
     "end_time": "2024-04-10T22:39:50.230745Z",
     "start_time": "2024-04-10T22:39:49.766195Z"
    }
   },
   "outputs": [],
   "source": [
    "# II(X;Y;Z)\n",
    "def interaction_information(X, Y, Z):\n",
    "    return conditional_mutual_information(X, Y, Z) - mutual_info_score(X, Y)"
   ]
  },
  {
   "cell_type": "code",
   "execution_count": 171,
   "metadata": {
    "ExecuteTime": {
     "end_time": "2024-04-10T22:39:50.230836Z",
     "start_time": "2024-04-10T22:39:49.774109Z"
    }
   },
   "outputs": [],
   "source": [
    "# II(X;Y;Z1;Z2)\n",
    "def interaction_information2(X, Y, Z1, Z2):\n",
    "    Z_1_and_2 = 2*Z2 + Z1\n",
    "    return interaction_information(X, Y, Z_1_and_2) - interaction_information(X, Y, Z1) - interaction_information(X, Y, Z2)"
   ]
  },
  {
   "cell_type": "markdown",
   "metadata": {},
   "source": [
    "## Task 1"
   ]
  },
  {
   "cell_type": "code",
   "execution_count": 172,
   "metadata": {
    "ExecuteTime": {
     "end_time": "2024-04-10T22:39:50.230978Z",
     "start_time": "2024-04-10T22:39:49.782805Z"
    }
   },
   "outputs": [],
   "source": [
    "def secmi2(X, Y, Z):\n",
    "    mi = mutual_info_score(X, Y)\n",
    "    sum_ii_2 = sum([conditional_mutual_information(X, Y, Z[:, i]) for i in range(Z.shape[1])])\n",
    "    return mi + sum_ii_2\n",
    "\n",
    "\n",
    "def secmi3(X, Y, Z):\n",
    "    result = secmi2(X, Y, Z)\n",
    "    for i in range(Z.shape[1]):\n",
    "        for j in range(i):\n",
    "            result += interaction_information2(X, Y, Z[:, i], Z[:, j])\n",
    "    return result"
   ]
  },
  {
   "cell_type": "markdown",
   "metadata": {},
   "source": [
    "### a)"
   ]
  },
  {
   "cell_type": "code",
   "execution_count": 173,
   "metadata": {
    "ExecuteTime": {
     "end_time": "2024-04-10T22:39:50.231814Z",
     "start_time": "2024-04-10T22:39:49.794677Z"
    }
   },
   "outputs": [],
   "source": [
    "def cond_indep_test_permutation(X, Y, Z, B, stat):\n",
    "\n",
    "    n_col_Z = Z.shape[1]\n",
    "    Z_1dim = np.dot(Z, 2**np.linspace(0, n_col_Z-1, n_col_Z))\n",
    "\n",
    "    if stat == \"cmi\":\n",
    "        stat_value = conditional_mutual_information(X, Y, Z_1dim)\n",
    "    if stat == \"secmi2\":\n",
    "        stat_value = secmi2(X, Y, Z)\n",
    "    if stat == \"secmi3\":\n",
    "        stat_value = secmi3(X, Y, Z)\n",
    "\n",
    "    condition_p_value = 0\n",
    "    for b in range(B):\n",
    "        X_b = conditional_permutation(X, Z_1dim)\n",
    "\n",
    "        if stat == \"cmi\":\n",
    "            stat_value_b = conditional_mutual_information(X_b, Y, Z_1dim)\n",
    "        if stat == \"secmi2\":\n",
    "            stat_value_b = secmi2(X_b, Y, Z)\n",
    "        if stat == \"secmi3\":\n",
    "            stat_value_b = secmi3(X_b, Y, Z)\n",
    "\n",
    "        if stat_value <= stat_value_b:\n",
    "            condition_p_value += 1\n",
    "\n",
    "    p_value = (1 + condition_p_value)/(1 + B)\n",
    "\n",
    "    return 2*len(X)*stat_value, p_value"
   ]
  },
  {
   "cell_type": "markdown",
   "metadata": {},
   "source": [
    "### b)"
   ]
  },
  {
   "cell_type": "code",
   "execution_count": 174,
   "metadata": {
    "ExecuteTime": {
     "end_time": "2024-04-10T22:39:50.231962Z",
     "start_time": "2024-04-10T22:39:49.801081Z"
    }
   },
   "outputs": [],
   "source": [
    "def sample_1(n = 100, seed=8):\n",
    "    np.random.seed(seed)\n",
    "    Y = discetize_2bins(np.random.normal(0, 1, n))\n",
    "    Z = discetize_2bins(np.random.normal(0, 1, n * 3).reshape((n, 3)) + Y.reshape((n, 1)))\n",
    "    X = discetize_2bins(np.random.normal(0, 1, n) + Z[:, 0])\n",
    "    return X, Y, Z"
   ]
  },
  {
   "cell_type": "markdown",
   "source": [
    "The first conditional independence is true."
   ],
   "metadata": {
    "collapsed": false
   }
  },
  {
   "cell_type": "markdown",
   "source": [
    "### Running test 100 times"
   ],
   "metadata": {
    "collapsed": false
   }
  },
  {
   "cell_type": "code",
   "execution_count": 175,
   "outputs": [
    {
     "name": "stderr",
     "output_type": "stream",
     "text": [
      "100%|██████████| 100/100 [10:49<00:00,  6.49s/it]\n"
     ]
    }
   ],
   "source": [
    "num_of_repetition = 100\n",
    "rejected = [0] * 6\n",
    "p_value_thresh, B = 0.05, 100\n",
    "for i in tqdm(range(num_of_repetition)):\n",
    "    X, Y, Z = sample_1(n = 100, seed=i)\n",
    "    rejected[0] += int(cond_indep_test_permutation(X, Y, Z[:, [0, 1]], B, \"cmi\")[1] < p_value_thresh)\n",
    "    rejected[1] += int(cond_indep_test_permutation(X, Y, Z[:, [0, 1]], B, \"secmi2\")[1] < p_value_thresh)\n",
    "    rejected[2] += int(cond_indep_test_permutation(X, Y, Z[:, [0, 1]], B, \"secmi3\")[1] < p_value_thresh)\n",
    "    rejected[3] += int(cond_indep_test_permutation(X, Y, Z[:, [1, 2]], B, \"cmi\")[1] < p_value_thresh)\n",
    "    rejected[4] += int(cond_indep_test_permutation(X, Y, Z[:, [1, 2]], B, \"secmi2\")[1] < p_value_thresh)\n",
    "    rejected[5] += int(cond_indep_test_permutation(X, Y, Z[:, [1, 2]], B, \"secmi3\")[1] < p_value_thresh)"
   ],
   "metadata": {
    "collapsed": false,
    "ExecuteTime": {
     "end_time": "2024-04-10T22:50:39.075209Z",
     "start_time": "2024-04-10T22:39:49.815161Z"
    }
   }
  },
  {
   "cell_type": "code",
   "execution_count": 176,
   "outputs": [
    {
     "name": "stdout",
     "output_type": "stream",
     "text": [
      "The null hypotheses (with Z1, Z2) was rejected 5 times when CMI was used\n",
      "The null hypotheses (with Z1, Z2) was rejected 3 times when SECMI2 was used\n",
      "The null hypotheses (with Z1, Z2) was rejected 5 times when SECMI3 was used\n",
      "The null hypotheses (with Z2, Z3) was rejected 64 times when CMI was used\n",
      "The null hypotheses (with Z2, Z3) was rejected 83 times when SECMI2 was used\n",
      "The null hypotheses (with Z2, Z3) was rejected 83 times when SECMI3 was used\n"
     ]
    }
   ],
   "source": [
    "print(f\"The null hypotheses (with Z1, Z2) was rejected {rejected[0]} times when CMI was used\")\n",
    "print(f\"The null hypotheses (with Z1, Z2) was rejected {rejected[1]} times when SECMI2 was used\")\n",
    "print(f\"The null hypotheses (with Z1, Z2) was rejected {rejected[2]} times when SECMI3 was used\")\n",
    "print(f\"The null hypotheses (with Z2, Z3) was rejected {rejected[3]} times when CMI was used\")\n",
    "print(f\"The null hypotheses (with Z2, Z3) was rejected {rejected[4]} times when SECMI2 was used\")\n",
    "print(f\"The null hypotheses (with Z2, Z3) was rejected {rejected[5]} times when SECMI3 was used\")"
   ],
   "metadata": {
    "collapsed": false,
    "ExecuteTime": {
     "end_time": "2024-04-10T22:50:39.175976Z",
     "start_time": "2024-04-10T22:50:39.064314Z"
    }
   }
  },
  {
   "cell_type": "markdown",
   "metadata": {},
   "source": [
    "### c)"
   ]
  },
  {
   "cell_type": "markdown",
   "source": [
    "The second conditional independence is true."
   ],
   "metadata": {
    "collapsed": false
   }
  },
  {
   "cell_type": "code",
   "execution_count": 202,
   "metadata": {
    "ExecuteTime": {
     "end_time": "2024-04-11T08:06:18.951808Z",
     "start_time": "2024-04-11T08:06:18.926743Z"
    }
   },
   "outputs": [],
   "source": [
    "def sample_2(n = 100, seed=8):\n",
    "    np.random.seed(seed)\n",
    "    X = discetize_2bins(np.random.normal(0, 1, n), 0)\n",
    "    Z1 = discetize_2bins(np.random.normal(0, 1, n), 0)\n",
    "    Z2 = discetize_2bins(np.random.normal(0, 1, n), 0)\n",
    "    Z3 = discetize_2bins(np.random.normal(0, 1, n), 0)\n",
    "    Y = np.random.random(100)\n",
    "    sum_mod = (X + Z1 + Z2) % 2\n",
    "    for i in range(n):\n",
    "        tresh = 0.2 if sum_mod[i] == 1 else 0.8\n",
    "        Y[i] = 0 if Y[i] < tresh else 1  \n",
    "    return X, Y, np.transpose([Z1, Z2, Z3])"
   ]
  },
  {
   "cell_type": "code",
   "execution_count": 203,
   "outputs": [
    {
     "name": "stderr",
     "output_type": "stream",
     "text": [
      "100%|██████████| 100/100 [12:52<00:00,  7.72s/it]\n"
     ]
    }
   ],
   "source": [
    "num_of_repetition = 100\n",
    "rejected = [0] * 6\n",
    "p_value_thresh, B = 0.05, 100\n",
    "for i in tqdm(range(num_of_repetition)):\n",
    "    X, Y, Z = sample_2(n = 100, seed=i)\n",
    "    rejected[0] += int(cond_indep_test_permutation(X, Y, Z[:, [0, 1]], B, \"cmi\")[1] < p_value_thresh)\n",
    "    rejected[1] += int(cond_indep_test_permutation(X, Y, Z[:, [0, 1]], B, \"secmi2\")[1] < p_value_thresh)\n",
    "    rejected[2] += int(cond_indep_test_permutation(X, Y, Z[:, [0, 1]], B, \"secmi3\")[1] < p_value_thresh)\n",
    "    rejected[3] += int(cond_indep_test_permutation(X, Y, Z[:, [1, 2]], B, \"cmi\")[1] < p_value_thresh)\n",
    "    rejected[4] += int(cond_indep_test_permutation(X, Y, Z[:, [1, 2]], B, \"secmi2\")[1] < p_value_thresh)\n",
    "    rejected[5] += int(cond_indep_test_permutation(X, Y, Z[:, [1, 2]], B, \"secmi3\")[1] < p_value_thresh)"
   ],
   "metadata": {
    "collapsed": false,
    "ExecuteTime": {
     "end_time": "2024-04-11T08:19:12.604616Z",
     "start_time": "2024-04-11T08:06:20.404648Z"
    }
   }
  },
  {
   "cell_type": "code",
   "execution_count": 204,
   "outputs": [
    {
     "name": "stdout",
     "output_type": "stream",
     "text": [
      "The null hypotheses (with Z1, Z2) was rejected 100 times when CMI was used\n",
      "The null hypotheses (with Z1, Z2) was rejected 4 times when SECMI2 was used\n",
      "The null hypotheses (with Z1, Z2) was rejected 100 times when SECMI3 was used\n",
      "The null hypotheses (with Z2, Z3) was rejected 2 times when CMI was used\n",
      "The null hypotheses (with Z2, Z3) was rejected 3 times when SECMI2 was used\n",
      "The null hypotheses (with Z2, Z3) was rejected 3 times when SECMI3 was used\n"
     ]
    }
   ],
   "source": [
    "print(f\"The null hypotheses (with Z1, Z2) was rejected {rejected[0]} times when CMI was used\")\n",
    "print(f\"The null hypotheses (with Z1, Z2) was rejected {rejected[1]} times when SECMI2 was used\")\n",
    "print(f\"The null hypotheses (with Z1, Z2) was rejected {rejected[2]} times when SECMI3 was used\")\n",
    "print(f\"The null hypotheses (with Z2, Z3) was rejected {rejected[3]} times when CMI was used\")\n",
    "print(f\"The null hypotheses (with Z2, Z3) was rejected {rejected[4]} times when SECMI2 was used\")\n",
    "print(f\"The null hypotheses (with Z2, Z3) was rejected {rejected[5]} times when SECMI3 was used\")"
   ],
   "metadata": {
    "collapsed": false,
    "ExecuteTime": {
     "end_time": "2024-04-11T08:19:12.640166Z",
     "start_time": "2024-04-11T08:19:12.615626Z"
    }
   }
  }
 ],
 "metadata": {
  "kernelspec": {
   "display_name": "dydaktyka",
   "language": "python",
   "name": "python3"
  },
  "language_info": {
   "codemirror_mode": {
    "name": "ipython",
    "version": 3
   },
   "file_extension": ".py",
   "mimetype": "text/x-python",
   "name": "python",
   "nbconvert_exporter": "python",
   "pygments_lexer": "ipython3",
   "version": "3.9.16"
  }
 },
 "nbformat": 4,
 "nbformat_minor": 2
}
