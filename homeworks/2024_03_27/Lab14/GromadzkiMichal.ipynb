{
 "cells": [
  {
   "cell_type": "code",
   "execution_count": 1,
   "metadata": {},
   "outputs": [],
   "source": [
    "from sklearn.metrics import mutual_info_score\n",
    "#from sklearn.feature_selection import chi2\n",
    "from scipy.stats import chi2_contingency\n",
    "from scipy.stats import chi2\n",
    "import numpy as np\n",
    "import matplotlib.pyplot as plt\n",
    "from scipy.stats import gaussian_kde, pearsonr\n",
    "import seaborn as sns\n",
    "import pandas as pd"
   ]
  },
  {
   "cell_type": "markdown",
   "metadata": {},
   "source": [
    "# Mathematical Underpinnings - Lab 4"
   ]
  },
  {
   "cell_type": "markdown",
   "metadata": {},
   "source": [
    "Tests to verify hipoteses of independence (from Lab 4):"
   ]
  },
  {
   "cell_type": "code",
   "execution_count": 2,
   "metadata": {},
   "outputs": [],
   "source": [
    "def indep_test_asymptotic(X, Y, stat):\n",
    "    if stat == \"mi\":\n",
    "        stat_value = 2*len(X)*mutual_info_score(X, Y)\n",
    "    if stat == \"chi2\":\n",
    "        test_res = (chi2_contingency(pd.crosstab(X, Y)))\n",
    "        stat_value = test_res.statistic\n",
    "    df = (len(np.unique(X)) - 1)*(len(np.unique(Y)) - 1)\n",
    "    p_value = 1 - chi2.cdf(stat_value, df=df)\n",
    "    return stat_value, p_value\n",
    "\n",
    "def indep_test_permutation(X, Y, B, stat=\"mi\"):\n",
    "    stat_value = mutual_info_score(X, Y)\n",
    "    condition_p_value = 0\n",
    "    for b in range(B):\n",
    "        X_b = np.random.permutation(X)\n",
    "        stat_value_b = mutual_info_score(X_b, Y)\n",
    "        if stat_value <= stat_value_b:\n",
    "            condition_p_value += 1\n",
    "    p_value = (1 + condition_p_value)/(1 + B)\n",
    "    return 2*len(X)*stat_value, p_value"
   ]
  },
  {
   "cell_type": "markdown",
   "metadata": {},
   "source": [
    "## Task 1"
   ]
  },
  {
   "cell_type": "code",
   "execution_count": 3,
   "metadata": {},
   "outputs": [],
   "source": [
    "def CMI(X, Y, Z):\n",
    "    stat_value = 0\n",
    "    for z in np.unique(Z):\n",
    "        X_z = X[Z == z]\n",
    "        Y_z = Y[Z == z]\n",
    "        stat_value += mutual_info_score(X_z, Y_z) * len(X_z) / len(Z)\n",
    "    return stat_value"
   ]
  },
  {
   "cell_type": "markdown",
   "metadata": {},
   "source": [
    "### a)"
   ]
  },
  {
   "cell_type": "code",
   "execution_count": 4,
   "metadata": {},
   "outputs": [],
   "source": [
    "# CI test based on CMI and asymptotics\n",
    "def cond_indep_test_asymptotic(X, Y, Z):\n",
    "    stat_value = CMI(X, Y, Z)\n",
    "    stat_value = 2 * len(X) * stat_value\n",
    "    df = (len(np.unique(X)) - 1)*(len(np.unique(Y)) - 1)*(len(np.unique(Z)))\n",
    "    p_value = 1 - chi2.cdf(stat_value, df=df)\n",
    "    return stat_value, p_value"
   ]
  },
  {
   "cell_type": "markdown",
   "metadata": {},
   "source": [
    "### b)"
   ]
  },
  {
   "cell_type": "code",
   "execution_count": 14,
   "metadata": {},
   "outputs": [],
   "source": [
    "# CI test based on CMI and permutations\n",
    "def cond_indep_test_permutation(X, Y, Z, B):\n",
    "    stat_value = CMI(X, Y, Z)\n",
    "    condition_p_value = 0\n",
    "    for b in range(B):\n",
    "        stat_value_b = 0\n",
    "        for z in np.unique(Z):\n",
    "            X_b = np.random.permutation(X[Z == z])\n",
    "            p_z = (Z == z).sum() / len(Z)\n",
    "            stat_value_b += mutual_info_score(X_b, Y[Z == z]) * p_z\n",
    "\n",
    "\n",
    "        if stat_value <= stat_value_b:\n",
    "            condition_p_value += 1\n",
    "    p_value = (1 + condition_p_value)/(1 + B)\n",
    "    return 2*len(X)*stat_value, p_value"
   ]
  },
  {
   "cell_type": "markdown",
   "metadata": {},
   "source": [
    "### c)"
   ]
  },
  {
   "cell_type": "markdown",
   "metadata": {},
   "source": [
    "conditionaly independent"
   ]
  },
  {
   "cell_type": "code",
   "execution_count": 15,
   "metadata": {},
   "outputs": [],
   "source": [
    "n = 1000\n",
    "X = np.random.normal(0, 1, n)\n",
    "Y = np.random.normal(0, 1, n)\n",
    "Z = np.random.normal(0, 1, n)\n",
    "X = pd.cut(X, bins=10, labels=False)\n",
    "Y = pd.cut(Y, bins=10, labels=False)\n",
    "Z = pd.cut(Z, bins=10, labels=False)"
   ]
  },
  {
   "cell_type": "code",
   "execution_count": 16,
   "metadata": {},
   "outputs": [
    {
     "name": "stdout",
     "output_type": "stream",
     "text": [
      "(437.55559451925757, 1.0)\n"
     ]
    },
    {
     "name": "stdout",
     "output_type": "stream",
     "text": [
      "(437.55559451925757, 0.6237623762376238)\n"
     ]
    }
   ],
   "source": [
    "print(cond_indep_test_asymptotic(X, Y, Z))\n",
    "print(cond_indep_test_permutation(X, Y, Z, 100))"
   ]
  },
  {
   "cell_type": "markdown",
   "metadata": {},
   "source": [
    "conditionaly dependent"
   ]
  },
  {
   "cell_type": "code",
   "execution_count": 17,
   "metadata": {},
   "outputs": [],
   "source": [
    "data_2d = np.random.multivariate_normal(np.zeros(2), np.array([[1, 0.93], [0.93, 1]]), n).T\n",
    "X, Y = data_2d[0], data_2d[1]\n",
    "Z = np.random.normal(0, 1, n)\n",
    "X = pd.cut(X, bins=10, labels=False)\n",
    "Y = pd.cut(Y, bins=10, labels=False)\n",
    "Z = pd.cut(Z, bins=10, labels=False)"
   ]
  },
  {
   "cell_type": "code",
   "execution_count": 18,
   "metadata": {},
   "outputs": [
    {
     "name": "stdout",
     "output_type": "stream",
     "text": [
      "(1756.6286607736904, 0.0)\n"
     ]
    },
    {
     "name": "stdout",
     "output_type": "stream",
     "text": [
      "(1756.6286607736904, 0.009900990099009901)\n"
     ]
    }
   ],
   "source": [
    "print(cond_indep_test_asymptotic(X, Y, Z))\n",
    "print(cond_indep_test_permutation(X, Y, Z, 100))"
   ]
  },
  {
   "cell_type": "markdown",
   "metadata": {},
   "source": [
    "## Task 2"
   ]
  },
  {
   "cell_type": "code",
   "execution_count": 20,
   "metadata": {},
   "outputs": [],
   "source": [
    "def sample_from_model1():\n",
    "    n = 1000\n",
    "    Z = np.random.normal(0, 1, n)\n",
    "    Z_disc = np.where(Z < 0, -1, 1)\n",
    "    X = np.random.normal(Z / 2, 1)\n",
    "    X_disc = np.where(X < 0, -1, 1)\n",
    "    Y = np.random.normal(Z / 2, 1)\n",
    "    Y_disc = np.where(Y < 0, -1, 1)\n",
    "    return X_disc, Y_disc, Z_disc\n",
    "\n",
    "def sample_from_model2():\n",
    "    n = 1000\n",
    "    X = np.random.normal(0, 1, n)\n",
    "    X_disc = np.where(X < 0, -1, 1)\n",
    "    Z = np.random.normal(X / 2, 1)\n",
    "    Z_disc = np.where(Z < 0, -1, 1)\n",
    "    Y = np.random.normal(Z / 2, 1)\n",
    "    Y_disc = np.where(Y < 0, -1, 1)\n",
    "    return X_disc, Y_disc, Z_disc\n",
    "\n",
    "def sample_from_model3():\n",
    "    X = np.random.normal(0, 1, n)\n",
    "    X_disc = np.where(X < 0, -1, 1)\n",
    "    Y = np.random.normal(0, 1, n)\n",
    "    Y_disc = np.where(Y < 0, -1, 1)\n",
    "    Z = np.random.normal((X+Y) / 2, 1)\n",
    "    Z_disc = np.where(Z < 0, -1, 1)\n",
    "    return X_disc, Y_disc, Z_disc"
   ]
  },
  {
   "cell_type": "markdown",
   "metadata": {},
   "source": [
    "### a)"
   ]
  },
  {
   "cell_type": "markdown",
   "metadata": {},
   "source": [
    "Model 1 : X and Y are dependent but X and Y are independent given Z\n",
    "\n",
    "Model 2 : X and Y are dependent but X and Y are independent given Z\n",
    "\n",
    "Model 3 : X and Y are independent but X and Y are dependent given Z"
   ]
  },
  {
   "cell_type": "markdown",
   "metadata": {},
   "source": [
    "### b)"
   ]
  },
  {
   "cell_type": "code",
   "execution_count": 24,
   "metadata": {},
   "outputs": [
    {
     "name": "stdout",
     "output_type": "stream",
     "text": [
      "MI:\n",
      "0.00802203511600591\n",
      "CMI:\n",
      "0.002213018871598088\n"
     ]
    }
   ],
   "source": [
    "X, Y, Z = sample_from_model1()\n",
    "\n",
    "print(\"MI:\")\n",
    "print(mutual_info_score(X, Y))\n",
    "print(\"CMI:\")\n",
    "print(CMI(X, Y, Z))"
   ]
  },
  {
   "cell_type": "code",
   "execution_count": 25,
   "metadata": {},
   "outputs": [
    {
     "name": "stdout",
     "output_type": "stream",
     "text": [
      "MI:\n",
      "0.008616346741386838\n",
      "CMI:\n",
      "0.0007124620448937685\n"
     ]
    }
   ],
   "source": [
    "X, Y, Z = sample_from_model2()\n",
    "\n",
    "print(\"MI:\")\n",
    "print(mutual_info_score(X, Y))\n",
    "print(\"CMI:\")\n",
    "print(CMI(X, Y, Z))"
   ]
  },
  {
   "cell_type": "code",
   "execution_count": 26,
   "metadata": {},
   "outputs": [
    {
     "name": "stdout",
     "output_type": "stream",
     "text": [
      "MI:\n",
      "0.0004745795908426831\n",
      "CMI:\n",
      "0.004341929964913568\n"
     ]
    }
   ],
   "source": [
    "X, Y, Z = sample_from_model3()\n",
    "\n",
    "print(\"MI:\")\n",
    "print(mutual_info_score(X, Y))\n",
    "print(\"CMI:\")\n",
    "print(CMI(X, Y, Z))"
   ]
  },
  {
   "cell_type": "markdown",
   "metadata": {},
   "source": [
    "### c)"
   ]
  },
  {
   "cell_type": "code",
   "execution_count": 30,
   "metadata": {},
   "outputs": [
    {
     "name": "stdout",
     "output_type": "stream",
     "text": [
      "MI test: (14.371411624198638, 0.00015006342142187545)\n",
      "Permutation test: (14.371411624198638, 0.009900990099009901)\n",
      "CMI test: (2.0736842041485155, 0.35457262000386236)\n",
      "Cond permutation test: (2.0736842041485155, 0.36633663366336633)\n"
     ]
    }
   ],
   "source": [
    "B = 100\n",
    "X, Y, Z = sample_from_model1()\n",
    "\n",
    "print('MI test:', indep_test_asymptotic(X, Y, 'mi'))\n",
    "print('Permutation test:', indep_test_permutation(X, Y, B))\n",
    "print('CMI test:', cond_indep_test_asymptotic(X, Y, Z))\n",
    "print('Cond permutation test:', cond_indep_test_permutation(X, Y, Z, B))"
   ]
  },
  {
   "cell_type": "code",
   "execution_count": 34,
   "metadata": {},
   "outputs": [
    {
     "name": "stdout",
     "output_type": "stream",
     "text": [
      "MI test: (18.553855017263476, 1.6517084729272824e-05)\n",
      "Permutation test: (18.553855017263476, 0.009900990099009901)\n",
      "CMI test: (1.7111259458589545, 0.42504383554)\n",
      "Cond permutation test: (1.7111259458589545, 0.3564356435643564)\n"
     ]
    }
   ],
   "source": [
    "X, Y, Z = sample_from_model2()\n",
    "\n",
    "print('MI test:', indep_test_asymptotic(X, Y, 'mi'))\n",
    "print('Permutation test:', indep_test_permutation(X, Y, B))\n",
    "print('CMI test:', cond_indep_test_asymptotic(X, Y, Z))\n",
    "print('Cond permutation test:', cond_indep_test_permutation(X, Y, Z, B))"
   ]
  },
  {
   "cell_type": "code",
   "execution_count": 32,
   "metadata": {},
   "outputs": [
    {
     "name": "stdout",
     "output_type": "stream",
     "text": [
      "MI test: (0.8030438463001444, 0.3701848648823415)\n",
      "Permutation test: (0.8030438463001444, 0.43564356435643564)\n",
      "CMI test: (6.097485400227894, 0.04741850620963939)\n",
      "Cond permutation test: (6.097485400227894, 0.0891089108910891)\n"
     ]
    }
   ],
   "source": [
    "X, Y, Z = sample_from_model3()\n",
    "\n",
    "print('MI test:', indep_test_asymptotic(X, Y, 'mi'))\n",
    "print('Permutation test:', indep_test_permutation(X, Y, B))\n",
    "print('CMI test:', cond_indep_test_asymptotic(X, Y, Z))\n",
    "print('Cond permutation test:', cond_indep_test_permutation(X, Y, Z, B))"
   ]
  },
  {
   "cell_type": "code",
   "execution_count": null,
   "metadata": {},
   "outputs": [],
   "source": []
  }
 ],
 "metadata": {
  "kernelspec": {
   "display_name": "dydaktyka",
   "language": "python",
   "name": "python3"
  },
  "language_info": {
   "codemirror_mode": {
    "name": "ipython",
    "version": 3
   },
   "file_extension": ".py",
   "mimetype": "text/x-python",
   "name": "python",
   "nbconvert_exporter": "python",
   "pygments_lexer": "ipython3",
   "version": "3.10.12"
  }
 },
 "nbformat": 4,
 "nbformat_minor": 2
}
