{
 "cells": [
  {
   "cell_type": "code",
   "execution_count": 28,
   "metadata": {
    "ExecuteTime": {
     "end_time": "2024-04-04T15:09:39.604722Z",
     "start_time": "2024-04-04T15:09:39.592722Z"
    }
   },
   "outputs": [],
   "source": []
  },
  {
   "cell_type": "markdown",
   "metadata": {},
   "source": [
    "# Mathematical Underpinnings - Lab 6"
   ]
  },
  {
   "cell_type": "code",
   "execution_count": 29,
   "metadata": {
    "ExecuteTime": {
     "end_time": "2024-04-04T15:09:40.208130Z",
     "start_time": "2024-04-04T15:09:40.195059Z"
    }
   },
   "outputs": [],
   "source": [
    "from sklearn.metrics import mutual_info_score\n",
    "import numpy as np\n",
    "import matplotlib.pyplot as plt\n",
    "import seaborn as sns\n",
    "import pandas as pd\n",
    "from tqdm import tqdm"
   ]
  },
  {
   "cell_type": "markdown",
   "metadata": {},
   "source": [
    "## Useful functions"
   ]
  },
  {
   "cell_type": "code",
   "execution_count": 30,
   "metadata": {
    "ExecuteTime": {
     "end_time": "2024-04-04T15:09:40.240117Z",
     "start_time": "2024-04-04T15:09:40.215120Z"
    }
   },
   "outputs": [],
   "source": [
    "def discretize_2bins(X):\n",
    "    X_discrete = 1*(X >= 0)\n",
    "    return X_discrete"
   ]
  },
  {
   "cell_type": "code",
   "execution_count": 31,
   "metadata": {
    "ExecuteTime": {
     "end_time": "2024-04-04T15:09:40.256119Z",
     "start_time": "2024-04-04T15:09:40.246121Z"
    }
   },
   "outputs": [],
   "source": [
    "def conditional_permutation(X, Z):\n",
    "\n",
    "    z_values = np.unique(Z)\n",
    "    n_z_values = len(z_values)\n",
    "    n = len(Z)\n",
    "\n",
    "    X_b = np.zeros(n)\n",
    "\n",
    "    for i in range(n_z_values):\n",
    "\n",
    "        z_value_tmp = z_values[i]\n",
    "\n",
    "        X_b[Z == z_value_tmp] = np.random.permutation(X[Z == z_value_tmp])\n",
    "\n",
    "    return X_b"
   ]
  },
  {
   "cell_type": "code",
   "execution_count": 32,
   "metadata": {
    "ExecuteTime": {
     "end_time": "2024-04-04T15:09:40.272118Z",
     "start_time": "2024-04-04T15:09:40.266118Z"
    }
   },
   "outputs": [],
   "source": [
    "def conditional_mutual_information(X, Y, Z):\n",
    "\n",
    "    z_values = np.unique(Z)\n",
    "    n_z_values = len(z_values)\n",
    "    n = len(Z)\n",
    "\n",
    "    cmi = 0\n",
    "\n",
    "    for i in range(n_z_values):\n",
    "\n",
    "        z_value_tmp = z_values[i]\n",
    "        z_condition = (Z == z_value_tmp)\n",
    "\n",
    "        X_z = X[z_condition]\n",
    "        Y_z = Y[z_condition]\n",
    "\n",
    "        mi_XY_z = mutual_info_score(X_z, Y_z)\n",
    "        p_z = np.sum(z_condition)/n\n",
    "\n",
    "        cmi += p_z*mi_XY_z\n",
    "\n",
    "    return cmi"
   ]
  },
  {
   "cell_type": "code",
   "execution_count": 33,
   "metadata": {
    "ExecuteTime": {
     "end_time": "2024-04-04T15:09:40.288117Z",
     "start_time": "2024-04-04T15:09:40.274115Z"
    }
   },
   "outputs": [],
   "source": [
    "# II(X;Y;Z)\n",
    "def interaction_information(X, Y, Z):\n",
    "    return conditional_mutual_information(X, Y, Z) - mutual_info_score(X, Y)"
   ]
  },
  {
   "cell_type": "code",
   "execution_count": 34,
   "metadata": {
    "ExecuteTime": {
     "end_time": "2024-04-04T15:09:40.304117Z",
     "start_time": "2024-04-04T15:09:40.290116Z"
    }
   },
   "outputs": [],
   "source": [
    "# II(X;Y;Z1;Z2)\n",
    "def interaction_information2(X, Y, Z1, Z2):\n",
    "    Z_1_and_2 = 2*Z2 + Z1\n",
    "    return interaction_information(X, Y, Z_1_and_2) - interaction_information(X, Y, Z1) - interaction_information(X, Y, Z2)"
   ]
  },
  {
   "cell_type": "markdown",
   "metadata": {},
   "source": [
    "## Task 1"
   ]
  },
  {
   "cell_type": "code",
   "execution_count": 35,
   "metadata": {
    "ExecuteTime": {
     "end_time": "2024-04-04T15:09:40.320116Z",
     "start_time": "2024-04-04T15:09:40.306118Z"
    }
   },
   "outputs": [],
   "source": [
    "def secmi2(X, Y, Z):\n",
    "    z_cols = Z.shape[1]\n",
    "    stat_val = mutual_info_score(X, Y)\n",
    "    for i in range(z_cols):\n",
    "        Z_i = Z[:, i]\n",
    "        stat_val += interaction_information(Y, X, Z_i)\n",
    "    return stat_val\n",
    "\n",
    "def secmi3(X, Y, Z):\n",
    "    z_cols = Z.shape[1]\n",
    "    stat_val = secmi2(X, Y, Z)\n",
    "    for i in range(z_cols):\n",
    "        Z_i = Z[:, i]\n",
    "        for j in range(i+1, z_cols):\n",
    "            Z_j = Z[:, j]\n",
    "            stat_val += interaction_information2(Y, X, Z_i, Z_j)\n",
    "    return stat_val"
   ]
  },
  {
   "cell_type": "markdown",
   "metadata": {},
   "source": [
    "### a)"
   ]
  },
  {
   "cell_type": "code",
   "execution_count": 36,
   "metadata": {
    "ExecuteTime": {
     "end_time": "2024-04-04T15:09:40.336117Z",
     "start_time": "2024-04-04T15:09:40.322119Z"
    }
   },
   "outputs": [],
   "source": [
    "def cond_indep_test_permutation(X, Y, Z, B, stat):\n",
    "\n",
    "    n_col_Z = Z.shape[1]\n",
    "    Z_1dim = np.dot(Z, 2**np.linspace(0, n_col_Z-1, n_col_Z))\n",
    "\n",
    "    if stat == \"cmi\":\n",
    "        stat_value = conditional_mutual_information(X, Y, Z_1dim)\n",
    "    if stat == \"secmi2\":\n",
    "        stat_value = secmi2(X, Y, Z)\n",
    "    if stat == \"secmi3\":\n",
    "        stat_value = secmi3(X, Y, Z)\n",
    "\n",
    "    condition_p_value = 0\n",
    "    for b in range(B):\n",
    "        X_b = conditional_permutation(X, Z_1dim)\n",
    "\n",
    "        if stat == \"cmi\":\n",
    "            stat_value_b = conditional_mutual_information(X_b, Y, Z_1dim)\n",
    "        if stat == \"secmi2\":\n",
    "            stat_value_b = secmi2(X_b, Y, Z)\n",
    "        if stat == \"secmi3\":\n",
    "            stat_value_b = secmi3(X_b, Y, Z)\n",
    "\n",
    "        if stat_value <= stat_value_b:\n",
    "            condition_p_value += 1\n",
    "\n",
    "    p_value = (1 + condition_p_value)/(1 + B)\n",
    "\n",
    "    return 2*len(X)*stat_value, p_value"
   ]
  },
  {
   "cell_type": "markdown",
   "metadata": {},
   "source": [
    "### b)"
   ]
  },
  {
   "cell_type": "code",
   "execution_count": 37,
   "metadata": {
    "ExecuteTime": {
     "end_time": "2024-04-04T15:09:40.352117Z",
     "start_time": "2024-04-04T15:09:40.337115Z"
    }
   },
   "outputs": [],
   "source": [
    "def model_b(n):\n",
    "    Y = discretize_2bins(np.random.normal(size=n))\n",
    "    Y_err = np.repeat(Y.reshape((-1, 1)), 3, axis=1)\n",
    "    Z = discretize_2bins(np.random.multivariate_normal([1, 1, 1], np.eye(3), size=n) + Y_err)\n",
    "    X = discretize_2bins(np.random.normal(size=n) + Z[:, 0])\n",
    "    return X, Y, Z\n",
    "\n",
    "def experiment_b(stat, N=100, alpha=0.05, n=100, B=50):\n",
    "    h1_count = 0\n",
    "    h2_count = 0\n",
    "    for i in range(N):\n",
    "        X, Y, Z = model_b(n)\n",
    "        Z_12 = Z[:, 0:2]\n",
    "        Z_23 = Z[:, 1:3]\n",
    "        _, p_value1 = cond_indep_test_permutation(X, Y, Z_12, B, stat)\n",
    "        _, p_value2 = cond_indep_test_permutation(X, Y, Z_23, B, stat)\n",
    "        if p_value1 < alpha:\n",
    "            h1_count += 1\n",
    "        if p_value2 < alpha:\n",
    "            h2_count += 1\n",
    "    return h1_count, h2_count"
   ]
  },
  {
   "cell_type": "code",
   "outputs": [
    {
     "name": "stdout",
     "output_type": "stream",
     "text": [
      "Hypothesis 1 was rejected 3 times.\n",
      "Hypothesis 2 was rejected 6 times.\n"
     ]
    }
   ],
   "source": [
    "h1, h2 = experiment_b(\"cmi\")\n",
    "print(f\"Hypothesis 1 was rejected {h1} times.\")\n",
    "print(f\"Hypothesis 2 was rejected {h2} times.\")"
   ],
   "metadata": {
    "collapsed": false,
    "ExecuteTime": {
     "end_time": "2024-04-04T15:10:15.183779Z",
     "start_time": "2024-04-04T15:09:40.356119Z"
    }
   },
   "execution_count": 38
  },
  {
   "cell_type": "code",
   "outputs": [
    {
     "name": "stdout",
     "output_type": "stream",
     "text": [
      "Hypothesis 1 was rejected 3 times.\n",
      "Hypothesis 2 was rejected 2 times.\n"
     ]
    }
   ],
   "source": [
    "h1, h2 = experiment_b(\"secmi2\")\n",
    "print(f\"Hypothesis 1 was rejected {h1} times.\")\n",
    "print(f\"Hypothesis 2 was rejected {h2} times.\")"
   ],
   "metadata": {
    "collapsed": false,
    "ExecuteTime": {
     "end_time": "2024-04-04T15:11:21.425279Z",
     "start_time": "2024-04-04T15:10:15.184779Z"
    }
   },
   "execution_count": 39
  },
  {
   "cell_type": "code",
   "outputs": [
    {
     "name": "stdout",
     "output_type": "stream",
     "text": [
      "Hypothesis 1 was rejected 3 times.\n",
      "Hypothesis 2 was rejected 1 times.\n"
     ]
    }
   ],
   "source": [
    "h1, h2 = experiment_b(\"secmi3\")\n",
    "print(f\"Hypothesis 1 was rejected {h1} times.\")\n",
    "print(f\"Hypothesis 2 was rejected {h2} times.\")"
   ],
   "metadata": {
    "collapsed": false,
    "ExecuteTime": {
     "end_time": "2024-04-04T15:14:09.196415Z",
     "start_time": "2024-04-04T15:11:21.426239Z"
    }
   },
   "execution_count": 40
  },
  {
   "cell_type": "markdown",
   "metadata": {},
   "source": [
    "### c)"
   ]
  },
  {
   "cell_type": "code",
   "execution_count": 41,
   "metadata": {
    "ExecuteTime": {
     "end_time": "2024-04-04T15:14:09.211716Z",
     "start_time": "2024-04-04T15:14:09.198318Z"
    }
   },
   "outputs": [],
   "source": [
    "def model_c(n):\n",
    "    X = np.random.binomial(1, 0.5, n)\n",
    "    Z = np.random.binomial(1, 0.5, (n, 3))\n",
    "    X_Z = X + Z[:, 0] + Z[:, 1]\n",
    "    Y = np.zeros(n)\n",
    "    con_1 = (X_Z % 2 == 0)\n",
    "    con_2 = (X_Z % 2 == 1)\n",
    "    Y[con_1] = np.random.binomial(1, 0.2, np.sum(con_1))\n",
    "    Y[con_2] = np.random.binomial(1, 0.8, np.sum(con_2))\n",
    "    return X, Y, Z\n",
    "\n",
    "def experiment_c(stat, N=100, alpha=0.05, n=100, B=50):\n",
    "    h1_count = 0\n",
    "    h2_count = 0\n",
    "    for i in range(N):\n",
    "        X, Y, Z = model_c(n)\n",
    "        Z_12 = Z[:, 0:2]\n",
    "        Z_23 = Z[:, 1:3]\n",
    "        _, p_value1 = cond_indep_test_permutation(X, Y, Z_12, B, stat)\n",
    "        _, p_value2 = cond_indep_test_permutation(X, Y, Z_23, B, stat)\n",
    "        if p_value1 < alpha:\n",
    "            h1_count += 1\n",
    "        if p_value2 < alpha:\n",
    "            h2_count += 1\n",
    "    return h1_count, h2_count"
   ]
  },
  {
   "cell_type": "code",
   "outputs": [
    {
     "name": "stdout",
     "output_type": "stream",
     "text": [
      "Hypothesis 1 was rejected 100 times.\n",
      "Hypothesis 2 was rejected 5 times.\n"
     ]
    }
   ],
   "source": [
    "h1, h2 = experiment_c(\"cmi\")\n",
    "print(f\"Hypothesis 1 was rejected {h1} times.\")\n",
    "print(f\"Hypothesis 2 was rejected {h2} times.\")"
   ],
   "metadata": {
    "collapsed": false,
    "ExecuteTime": {
     "end_time": "2024-04-04T15:14:51.545868Z",
     "start_time": "2024-04-04T15:14:09.213685Z"
    }
   },
   "execution_count": 42
  },
  {
   "cell_type": "code",
   "outputs": [],
   "source": [
    "h1, h2 = experiment_c(\"secmi2\")\n",
    "print(f\"Hypothesis 1 was rejected {h1} times.\")\n",
    "print(f\"Hypothesis 2 was rejected {h2} times.\")"
   ],
   "metadata": {
    "collapsed": false,
    "is_executing": true,
    "ExecuteTime": {
     "start_time": "2024-04-04T15:14:51.546868Z"
    }
   },
   "execution_count": null
  },
  {
   "cell_type": "code",
   "outputs": [],
   "source": [
    "h1, h2 = experiment_c(\"secmi3\")\n",
    "print(f\"Hypothesis 1 was rejected {h1} times.\")\n",
    "print(f\"Hypothesis 2 was rejected {h2} times.\")"
   ],
   "metadata": {
    "collapsed": false,
    "is_executing": true
   },
   "execution_count": null
  },
  {
   "cell_type": "markdown",
   "metadata": {},
   "source": [
    "## Task 2\n",
    " \n",
    "in R"
   ]
  },
  {
   "cell_type": "code",
   "outputs": [],
   "source": [],
   "metadata": {
    "collapsed": false,
    "is_executing": true
   }
  }
 ],
 "metadata": {
  "kernelspec": {
   "display_name": "dydaktyka",
   "language": "python",
   "name": "python3"
  },
  "language_info": {
   "codemirror_mode": {
    "name": "ipython",
    "version": 3
   },
   "file_extension": ".py",
   "mimetype": "text/x-python",
   "name": "python",
   "nbconvert_exporter": "python",
   "pygments_lexer": "ipython3",
   "version": "3.9.16"
  }
 },
 "nbformat": 4,
 "nbformat_minor": 2
}
