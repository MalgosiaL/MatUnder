{
  "cells": [
    {
      "cell_type": "code",
      "execution_count": null,
      "metadata": {
        "id": "Go3piu13fAVY"
      },
      "outputs": [],
      "source": []
    },
    {
      "cell_type": "markdown",
      "metadata": {
        "id": "1GTJQbmcfAVY"
      },
      "source": [
        "# Mathematical Underpinnings - Lab 6"
      ]
    },
    {
      "cell_type": "code",
      "execution_count": 1,
      "metadata": {
        "id": "shO4sHKTfAVa"
      },
      "outputs": [],
      "source": [
        "from sklearn.metrics import mutual_info_score\n",
        "import numpy as np\n",
        "import matplotlib.pyplot as plt\n",
        "import seaborn as sns\n",
        "import pandas as pd\n",
        "from tqdm import tqdm"
      ]
    },
    {
      "cell_type": "markdown",
      "metadata": {
        "id": "yTNkK7LPfAVb"
      },
      "source": [
        "## Useful functions"
      ]
    },
    {
      "cell_type": "code",
      "execution_count": 2,
      "metadata": {
        "id": "uho2X9TwfAVb"
      },
      "outputs": [],
      "source": [
        "def discetize_2bins(X):\n",
        "    X_discrete = 1*(X >= 0)\n",
        "    return X_discrete"
      ]
    },
    {
      "cell_type": "code",
      "execution_count": 3,
      "metadata": {
        "id": "JgarHLxTfAVc"
      },
      "outputs": [],
      "source": [
        "def conditional_permutation(X, Z):\n",
        "\n",
        "    z_values = np.unique(Z)\n",
        "    n_z_values = len(z_values)\n",
        "    n = len(Z)\n",
        "\n",
        "    X_b = np.zeros(n)\n",
        "\n",
        "    for i in range(n_z_values):\n",
        "\n",
        "        z_value_tmp = z_values[i]\n",
        "\n",
        "        X_b[Z == z_value_tmp] = np.random.permutation(X[Z == z_value_tmp])\n",
        "\n",
        "    return X_b"
      ]
    },
    {
      "cell_type": "code",
      "execution_count": 4,
      "metadata": {
        "id": "6hsmtnl2fAVc"
      },
      "outputs": [],
      "source": [
        "def conditional_mutual_information(X, Y, Z):\n",
        "\n",
        "    z_values = np.unique(Z)\n",
        "    n_z_values = len(z_values)\n",
        "    n = len(Z)\n",
        "\n",
        "    cmi = 0\n",
        "\n",
        "    for i in range(n_z_values):\n",
        "\n",
        "        z_value_tmp = z_values[i]\n",
        "        z_condition = (Z == z_value_tmp)\n",
        "\n",
        "        X_z = X[z_condition]\n",
        "        Y_z = Y[z_condition]\n",
        "\n",
        "        mi_XY_z = mutual_info_score(X_z, Y_z)\n",
        "        p_z = np.sum(z_condition)/n\n",
        "\n",
        "        cmi += p_z*mi_XY_z\n",
        "\n",
        "    return cmi"
      ]
    },
    {
      "cell_type": "code",
      "execution_count": 5,
      "metadata": {
        "id": "-GExhTAJfAVc"
      },
      "outputs": [],
      "source": [
        "# II(X;Y;Z)\n",
        "def interaction_information(X, Y, Z):\n",
        "    return conditional_mutual_information(X, Y, Z) - mutual_info_score(X, Y)"
      ]
    },
    {
      "cell_type": "code",
      "execution_count": 6,
      "metadata": {
        "id": "xsglZ_OefAVd"
      },
      "outputs": [],
      "source": [
        "# II(X;Y;Z1;Z2)\n",
        "def interaction_information2(X, Y, Z1, Z2):\n",
        "    Z_1_and_2 = 2*Z2 + Z1\n",
        "    return interaction_information(X, Y, Z_1_and_2) - interaction_information(X, Y, Z1) - interaction_information(X, Y, Z2)"
      ]
    },
    {
      "cell_type": "markdown",
      "metadata": {
        "id": "J8-hKTKIfAVd"
      },
      "source": [
        "## Task 1"
      ]
    },
    {
      "cell_type": "code",
      "execution_count": 13,
      "metadata": {
        "id": "aOQcicC1fAVd"
      },
      "outputs": [],
      "source": [
        "def secmi2(X, Y, Z):\n",
        "  value = mutual_info_score(X,Y)\n",
        "  for i in range(Z.shape[1]):\n",
        "    value += interaction_information(X, Y, Z[:,i])\n",
        "  return value\n",
        "\n",
        "def secmi3(X, Y, Z):\n",
        "  value = mutual_info_score(X,Y)\n",
        "  for i in range(Z.shape[1]):\n",
        "    value += interaction_information(X, Y, Z[:,i])\n",
        "  for i in range(Z.shape[1]):\n",
        "    for j in range(i+1, Z.shape[1]):\n",
        "      value += interaction_information2(X, Y, Z[:,i], Z[:,j])\n",
        "  return value"
      ]
    },
    {
      "cell_type": "markdown",
      "metadata": {
        "id": "iDf1Wv7xfAVd"
      },
      "source": [
        "### a)"
      ]
    },
    {
      "cell_type": "code",
      "execution_count": 14,
      "metadata": {
        "id": "YpbzgJhffAVd"
      },
      "outputs": [],
      "source": [
        "def cond_indep_test_permutation(X, Y, Z, B, stat):\n",
        "\n",
        "    n_col_Z = Z.shape[1]\n",
        "    Z_1dim = np.dot(Z, 2**np.linspace(0, n_col_Z-1, n_col_Z))\n",
        "\n",
        "    if stat == \"cmi\":\n",
        "        stat_value = conditional_mutual_information(X, Y, Z_1dim)\n",
        "    if stat == \"secmi2\":\n",
        "        stat_value = secmi2(X, Y, Z)\n",
        "    if stat == \"secmi3\":\n",
        "        stat_value = secmi3(X, Y, Z)\n",
        "\n",
        "    condition_p_value = 0\n",
        "    for b in range(B):\n",
        "        X_b = conditional_permutation(X, Z_1dim)\n",
        "\n",
        "        if stat == \"cmi\":\n",
        "            stat_value_b = conditional_mutual_information(X_b, Y, Z_1dim)\n",
        "        if stat == \"secmi2\":\n",
        "            stat_value_b = secmi2(X_b, Y, Z)\n",
        "        if stat == \"secmi3\":\n",
        "            stat_value_b = secmi3(X_b, Y, Z)\n",
        "\n",
        "        if stat_value <= stat_value_b:\n",
        "            condition_p_value += 1\n",
        "\n",
        "    p_value = (1 + condition_p_value)/(1 + B)\n",
        "\n",
        "    return 2*len(X)*stat_value, p_value"
      ]
    },
    {
      "cell_type": "markdown",
      "metadata": {
        "id": "aKjxQ818fAVe"
      },
      "source": [
        "### b)"
      ]
    },
    {
      "cell_type": "code",
      "execution_count": 47,
      "metadata": {
        "id": "vMBZd1GMfAVe"
      },
      "outputs": [],
      "source": [
        "n = 100\n",
        "Y = np.random.normal(0,1,n)\n",
        "Y = discetize_2bins(Y)\n",
        "\n",
        "Z1 = np.random.normal(Y*2-1,1,n)\n",
        "Z1 = discetize_2bins(Z1)\n",
        "\n",
        "Z2 = np.random.normal(Y*2-1,1,n)\n",
        "Z2 = discetize_2bins(Z2)\n",
        "\n",
        "Z3 = np.random.normal(Y*2-1,1,n)\n",
        "Z3 = discetize_2bins(Z3)\n",
        "\n",
        "X = np.random.normal(Z1*2-1,1,n)\n",
        "X = discetize_2bins(X)"
      ]
    },
    {
      "cell_type": "code",
      "source": [
        "\n",
        "for stat in [\"cmi\", \"secmi2\", \"secmi3\"]:\n",
        "  print(f\"(Z1, Z2) Stat: {stat}, p-value: {cond_indep_test_permutation(X, Y, np.transpose([Z1, Z2]), B=50, stat=stat)[1]}\")\n",
        "print(\"\\n\")\n",
        "for stat in [\"cmi\", \"secmi2\", \"secmi3\"]:\n",
        "  print(f\"(Z2, Z3) Stat: {stat}, p-value: {cond_indep_test_permutation(X, Y, np.transpose([Z2, Z3]), B=50, stat=stat)[1]}\")"
      ],
      "metadata": {
        "colab": {
          "base_uri": "https://localhost:8080/"
        },
        "id": "yrL6w3tkjklD",
        "outputId": "cd55c860-5e21-424b-a217-4016d7ea90d3"
      },
      "execution_count": 48,
      "outputs": [
        {
          "output_type": "stream",
          "name": "stdout",
          "text": [
            "(Z1, Z2) Stat: cmi, p-value: 0.4117647058823529\n",
            "(Z1, Z2) Stat: secmi2, p-value: 0.3137254901960784\n",
            "(Z1, Z2) Stat: secmi3, p-value: 0.35294117647058826\n",
            "\n",
            "\n",
            "(Z2, Z3) Stat: cmi, p-value: 0.0196078431372549\n",
            "(Z2, Z3) Stat: secmi2, p-value: 0.09803921568627451\n",
            "(Z2, Z3) Stat: secmi3, p-value: 0.0392156862745098\n"
          ]
        }
      ]
    },
    {
      "cell_type": "code",
      "source": [
        "N = 100\n",
        "for stat in [\"cmi\", \"secmi2\", \"secmi3\"]:\n",
        "  rejected = 0\n",
        "  for _ in range(N):\n",
        "    p = cond_indep_test_permutation(X, Y, np.transpose([Z1, Z2]), B=50, stat=stat)[1]\n",
        "    if p<0.05:\n",
        "      rejected += 1\n",
        "  print(f\"(Z1, Z2) Stat: {stat}, rejection rate: {rejected/N}\")\n",
        "\n"
      ],
      "metadata": {
        "colab": {
          "base_uri": "https://localhost:8080/"
        },
        "id": "Z0-iLj11lAEh",
        "outputId": "16b27c15-cdbe-4d3f-eed0-3f121ed2eb91"
      },
      "execution_count": 49,
      "outputs": [
        {
          "output_type": "stream",
          "name": "stdout",
          "text": [
            "(Z1, Z2) Stat: cmi, rejection rate: 0.0\n",
            "(Z1, Z2) Stat: secmi2, rejection rate: 0.0\n",
            "(Z1, Z2) Stat: secmi3, rejection rate: 0.0\n"
          ]
        }
      ]
    },
    {
      "cell_type": "code",
      "source": [
        "for stat in [\"cmi\", \"secmi2\", \"secmi3\"]:\n",
        "  rejected = 0\n",
        "  for _ in range(N):\n",
        "    p = cond_indep_test_permutation(X, Y, np.transpose([Z2, Z3]), B=50, stat=stat)[1]\n",
        "    if p<0.05:\n",
        "      rejected += 1\n",
        "  print(f\"(Z2, Z3) Stat: {stat}, rejection rate: {rejected/N}\")"
      ],
      "metadata": {
        "colab": {
          "base_uri": "https://localhost:8080/"
        },
        "id": "S5F7d98Clgq_",
        "outputId": "2ee7dbad-f736-4603-aa2c-2ef79984866c"
      },
      "execution_count": 50,
      "outputs": [
        {
          "output_type": "stream",
          "name": "stdout",
          "text": [
            "(Z2, Z3) Stat: cmi, rejection rate: 0.6\n",
            "(Z2, Z3) Stat: secmi2, rejection rate: 0.08\n",
            "(Z2, Z3) Stat: secmi3, rejection rate: 0.5\n"
          ]
        }
      ]
    },
    {
      "cell_type": "markdown",
      "metadata": {
        "id": "qv47EWmDfAVe"
      },
      "source": [
        "### c)"
      ]
    },
    {
      "cell_type": "code",
      "execution_count": 51,
      "metadata": {
        "id": "oVrEKTWQfAVe"
      },
      "outputs": [],
      "source": [
        "n = 100\n",
        "X = (np.random.uniform(0,1,n)>1/2).astype(int)\n",
        "Z1 = (np.random.uniform(0,1,n)>1/2).astype(int)\n",
        "Z2 = (np.random.uniform(0,1,n)>1/2).astype(int)\n",
        "Z3 = (np.random.uniform(0,1,n)>1/2).astype(int)\n",
        "\n",
        "sum_2 = [(X[i]+Z1[i]+Z2[i])%2 for i in range(n)]\n",
        "\n",
        "prob = [0.2 if sum_2[i]==0 else 0.8 for i in range(n)]\n",
        "Y = np.random.binomial(1,prob)\n"
      ]
    },
    {
      "cell_type": "code",
      "source": [
        "N = 100\n",
        "for stat in [\"cmi\", \"secmi2\", \"secmi3\"]:\n",
        "  rejected = 0\n",
        "  for _ in range(N):\n",
        "    p = cond_indep_test_permutation(X, Y, np.transpose([Z1, Z2]), B=50, stat=stat)[1]\n",
        "    if p<0.05:\n",
        "      rejected += 1\n",
        "  print(f\"(Z1, Z2) Stat: {stat}, rejection rate: {rejected/N}\")\n",
        "\n",
        "print(\"\\n\")\n",
        "for stat in [\"cmi\", \"secmi2\", \"secmi3\"]:\n",
        "  rejected = 0\n",
        "  for _ in range(N):\n",
        "    p = cond_indep_test_permutation(X, Y, np.transpose([Z2, Z3]), B=50, stat=stat)[1]\n",
        "    if p<0.05:\n",
        "      rejected += 1\n",
        "  print(f\"(Z2, Z3) Stat: {stat}, rejection rate: {rejected/N}\")"
      ],
      "metadata": {
        "colab": {
          "base_uri": "https://localhost:8080/"
        },
        "id": "iRFlTLEnnk8r",
        "outputId": "24cbb91e-bc26-4bad-8e2a-dbe560cd7898"
      },
      "execution_count": 52,
      "outputs": [
        {
          "output_type": "stream",
          "name": "stdout",
          "text": [
            "(Z1, Z2) Stat: cmi, rejection rate: 1.0\n",
            "(Z1, Z2) Stat: secmi2, rejection rate: 0.0\n",
            "(Z1, Z2) Stat: secmi3, rejection rate: 1.0\n",
            "\n",
            "\n",
            "(Z2, Z3) Stat: cmi, rejection rate: 0.0\n",
            "(Z2, Z3) Stat: secmi2, rejection rate: 0.0\n",
            "(Z2, Z3) Stat: secmi3, rejection rate: 0.0\n"
          ]
        }
      ]
    },
    {
      "cell_type": "markdown",
      "metadata": {
        "id": "9vBO7f-tfAVe"
      },
      "source": [
        "## Task 2\n",
        "\n",
        "in R"
      ]
    },
    {
      "cell_type": "code",
      "source": [],
      "metadata": {
        "id": "SFaqVrj8pCjE"
      },
      "execution_count": 52,
      "outputs": []
    }
  ],
  "metadata": {
    "kernelspec": {
      "display_name": "dydaktyka",
      "language": "python",
      "name": "python3"
    },
    "language_info": {
      "codemirror_mode": {
        "name": "ipython",
        "version": 3
      },
      "file_extension": ".py",
      "mimetype": "text/x-python",
      "name": "python",
      "nbconvert_exporter": "python",
      "pygments_lexer": "ipython3",
      "version": "3.9.16"
    },
    "colab": {
      "provenance": []
    }
  },
  "nbformat": 4,
  "nbformat_minor": 0
}