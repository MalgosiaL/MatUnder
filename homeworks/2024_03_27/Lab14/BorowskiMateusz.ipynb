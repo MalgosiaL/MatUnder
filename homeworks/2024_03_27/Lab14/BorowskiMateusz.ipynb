{
 "cells": [
  {
   "cell_type": "code",
   "execution_count": 1,
   "metadata": {},
   "outputs": [],
   "source": [
    "from sklearn.metrics import mutual_info_score\n",
    "#from sklearn.feature_selection import chi2\n",
    "from scipy.stats import chi2_contingency\n",
    "from scipy.stats import chi2\n",
    "import numpy as np\n",
    "import matplotlib.pyplot as plt\n",
    "from scipy.stats import gaussian_kde, pearsonr\n",
    "import seaborn as sns\n",
    "import pandas as pd"
   ]
  },
  {
   "cell_type": "markdown",
   "metadata": {},
   "source": [
    "# Mathematical Underpinnings - Lab 4"
   ]
  },
  {
   "cell_type": "markdown",
   "metadata": {},
   "source": [
    "Tests to verify hipoteses of independence (from Lab 4):"
   ]
  },
  {
   "cell_type": "code",
   "execution_count": 2,
   "metadata": {},
   "outputs": [],
   "source": [
    "def indep_test_asymptotic(X, Y, stat):\n",
    "\n",
    "    if stat == \"mi\":\n",
    "\n",
    "        stat_value = 2 * len(X) * mutual_info_score(X, Y)\n",
    "\n",
    "    if stat == \"chi2\":\n",
    "\n",
    "        test_res = chi2_contingency(pd.crosstab(X, Y))\n",
    "        stat_value = test_res.statistic\n",
    "\n",
    "    df = (len(np.unique(X)) - 1) * (len(np.unique(Y)) - 1)\n",
    "\n",
    "    p_value = 1 - chi2.cdf(stat_value, df=df)\n",
    "\n",
    "    return stat_value, p_value\n",
    "\n",
    "\n",
    "def indep_test_permutation(X, Y, B, stat=\"mi\"):\n",
    "\n",
    "    stat_value = mutual_info_score(X, Y)\n",
    "\n",
    "    condition_p_value = 0\n",
    "    for b in range(B):\n",
    "        X_b = np.random.permutation(X)\n",
    "\n",
    "        stat_value_b = mutual_info_score(X_b, Y)\n",
    "\n",
    "        if stat_value <= stat_value_b:\n",
    "            condition_p_value += 1\n",
    "\n",
    "    p_value = (1 + condition_p_value) / (1 + B)\n",
    "\n",
    "    return 2 * len(X) * stat_value, p_value"
   ]
  },
  {
   "cell_type": "markdown",
   "metadata": {},
   "source": [
    "## Task 1"
   ]
  },
  {
   "cell_type": "markdown",
   "metadata": {},
   "source": [
    "this task is homework"
   ]
  },
  {
   "cell_type": "code",
   "execution_count": 3,
   "metadata": {},
   "outputs": [],
   "source": [
    "# a function which computes CMI\n",
    "\n",
    "\n",
    "def conditional_mutual_information(X, Y, Z):\n",
    "\n",
    "    z_values = np.unique(Z)\n",
    "    n = len(Z)\n",
    "\n",
    "    cmi = 0\n",
    "\n",
    "    for i in range(len(z_values)):\n",
    "\n",
    "        curr_z_value = z_values[i]\n",
    "        mask = Z == curr_z_value\n",
    "\n",
    "        mi_XY_z = mutual_info_score(X[mask], Y[mask])\n",
    "        p_z = np.sum(mask) / n\n",
    "\n",
    "        cmi += p_z * mi_XY_z\n",
    "\n",
    "    return cmi"
   ]
  },
  {
   "cell_type": "markdown",
   "metadata": {},
   "source": [
    "### a)"
   ]
  },
  {
   "cell_type": "code",
   "execution_count": 4,
   "metadata": {},
   "outputs": [],
   "source": [
    "# CI test based on CMI and asymptotics\n",
    "def cond_indep_test_asymptotic(X, Y, Z):\n",
    "\n",
    "    stat_value = 2 * len(X) * conditional_mutual_information(X, Y, Z)\n",
    "\n",
    "    df = (len(np.unique(X)) - 1) * (len(np.unique(Y)) - 1) * len(np.unique(Z))\n",
    "\n",
    "    p_value = 1 - chi2.cdf(stat_value, df=df)\n",
    "\n",
    "    return stat_value, p_value"
   ]
  },
  {
   "cell_type": "markdown",
   "metadata": {},
   "source": [
    "### b)"
   ]
  },
  {
   "cell_type": "code",
   "execution_count": 5,
   "metadata": {},
   "outputs": [],
   "source": [
    "# CI test based on CMI and permutations\n",
    "\n",
    "\n",
    "def conditional_permutation(X, Z):\n",
    "    rng = np.random.default_rng()\n",
    "\n",
    "    z_values = np.unique(Z)\n",
    "    n = len(Z)\n",
    "    X_b = np.zeros(n)\n",
    "\n",
    "    for i in range(len(z_values)):\n",
    "\n",
    "        curr_z_value = z_values[i]\n",
    "        X_b[Z == curr_z_value] = rng.permutation(X[Z == curr_z_value])\n",
    "\n",
    "    return X_b\n",
    "\n",
    "\n",
    "def cond_indep_test_permutation(X, Y, Z, B):\n",
    "\n",
    "    stat_value = conditional_mutual_information(X, Y, Z)\n",
    "\n",
    "    condition_p_value = 0\n",
    "    for b in range(B):\n",
    "        X_b = conditional_permutation(X, Z)\n",
    "\n",
    "        stat_value_b = conditional_mutual_information(X_b, Y, Z)\n",
    "\n",
    "        if stat_value <= stat_value_b:\n",
    "            condition_p_value += 1\n",
    "\n",
    "    p_value = (1 + condition_p_value) / (1 + B)\n",
    "\n",
    "    return 2 * len(X) * stat_value, p_value"
   ]
  },
  {
   "cell_type": "markdown",
   "metadata": {},
   "source": [
    "### c)"
   ]
  },
  {
   "cell_type": "markdown",
   "metadata": {},
   "source": [
    "conditionaly independent"
   ]
  },
  {
   "cell_type": "code",
   "execution_count": 93,
   "metadata": {},
   "outputs": [],
   "source": [
    "rng = np.random.default_rng()\n",
    "\n",
    "X = rng.choice(6, size=1000)\n",
    "Y = rng.choice(6, size=1000)\n",
    "Z = rng.choice(6, size=1000)"
   ]
  },
  {
   "cell_type": "code",
   "execution_count": 94,
   "metadata": {},
   "outputs": [
    {
     "data": {
      "text/plain": [
       "(150.12885210414842, 0.48168035338447124)"
      ]
     },
     "execution_count": 94,
     "metadata": {},
     "output_type": "execute_result"
    }
   ],
   "source": [
    "cond_indep_test_asymptotic(X, Y, Z)"
   ]
  },
  {
   "cell_type": "code",
   "execution_count": 95,
   "metadata": {},
   "outputs": [
    {
     "data": {
      "text/plain": [
       "(150.12885210414842, 0.7128712871287128)"
      ]
     },
     "execution_count": 95,
     "metadata": {},
     "output_type": "execute_result"
    }
   ],
   "source": [
    "cond_indep_test_permutation(X, Y, Z, 100)"
   ]
  },
  {
   "cell_type": "markdown",
   "metadata": {},
   "source": [
    "conditionaly dependent"
   ]
  },
  {
   "cell_type": "code",
   "execution_count": 96,
   "metadata": {},
   "outputs": [],
   "source": [
    "Y = rng.choice(10, size=1000)\n",
    "X = rng.choice(10, size=1000)\n",
    "\n",
    "eq_zero = rng.choice(2, size=1000)\n",
    "Y[eq_zero == 0] = X[eq_zero == 0]\n",
    "Z = rng.choice(5, size=1000)"
   ]
  },
  {
   "cell_type": "code",
   "execution_count": 97,
   "metadata": {},
   "outputs": [
    {
     "data": {
      "text/plain": [
       "(1897.758550621121, 0.0)"
      ]
     },
     "execution_count": 97,
     "metadata": {},
     "output_type": "execute_result"
    }
   ],
   "source": [
    "cond_indep_test_asymptotic(X, Y, Z)"
   ]
  },
  {
   "cell_type": "code",
   "execution_count": 98,
   "metadata": {},
   "outputs": [
    {
     "data": {
      "text/plain": [
       "(1897.758550621121, 0.009900990099009901)"
      ]
     },
     "execution_count": 98,
     "metadata": {},
     "output_type": "execute_result"
    }
   ],
   "source": [
    "cond_indep_test_permutation(X, Y, Z, 100)"
   ]
  },
  {
   "cell_type": "markdown",
   "metadata": {},
   "source": [
    "## Task 2"
   ]
  },
  {
   "cell_type": "code",
   "execution_count": 135,
   "metadata": {},
   "outputs": [],
   "source": [
    "rng = np.random.default_rng()\n",
    "\n",
    "\n",
    "def discretize(arr):\n",
    "    r = np.zeros_like(arr)\n",
    "    r[arr >= 0] = 1\n",
    "    r[arr < 0] = -1\n",
    "    return r\n",
    "\n",
    "\n",
    "def sample_from_model1(n):\n",
    "    Z_tilde = rng.normal(size=n)\n",
    "    Z = discretize(Z_tilde)\n",
    "\n",
    "    X_tilde = rng.normal(loc=Z / 2, scale=1, size=n)\n",
    "    X = discretize(X_tilde)\n",
    "\n",
    "    Y_tilde = rng.normal(loc=Z / 2, scale=1, size=n)\n",
    "    Y = discretize(Y_tilde)\n",
    "\n",
    "    return X, Y, Z\n",
    "\n",
    "\n",
    "def sample_from_model2(n):\n",
    "    X_tilde = rng.normal(size=n)\n",
    "    X = discretize(X_tilde)\n",
    "\n",
    "    Z_tilde = rng.normal(loc=X / 2, scale=1, size=n)\n",
    "    Z = discretize(Z_tilde)\n",
    "\n",
    "    Y_tilde = rng.normal(loc=Z / 2, scale=1, size=n)\n",
    "    Y = discretize(Y_tilde)\n",
    "\n",
    "    return X, Y, Z\n",
    "\n",
    "\n",
    "def sample_from_model3(n):\n",
    "    X_tilde = rng.normal(size=n)\n",
    "    Y_tilde = rng.normal(size=n)\n",
    "\n",
    "    X = discretize(X_tilde)\n",
    "    Y = discretize(Y_tilde)\n",
    "\n",
    "    Z_tilde = rng.normal(loc=(X + Y) / 2, scale=1, size=n)\n",
    "    Z = discretize(Z_tilde)\n",
    "\n",
    "    return X, Y, Z"
   ]
  },
  {
   "cell_type": "markdown",
   "metadata": {},
   "source": [
    "### a)"
   ]
  },
  {
   "cell_type": "markdown",
   "metadata": {},
   "source": [
    "answer:\n",
    "\n",
    "model 1:\n",
    "- independence: no\n",
    "- conditional independence: yes\n",
    "\n",
    "\n",
    "model 2:\n",
    "- independence: no\n",
    "- conditional independence: yes (Markov chain)\n",
    "\n",
    "\n",
    "model 3:\n",
    "- independence: yes\n",
    "- conditional independence: no"
   ]
  },
  {
   "cell_type": "markdown",
   "metadata": {},
   "source": [
    "### b)"
   ]
  },
  {
   "cell_type": "code",
   "execution_count": 150,
   "metadata": {},
   "outputs": [],
   "source": [
    "def mi_and_cmi(X, Y, Z):\n",
    "    print(f\"{' mutual information between X and Y' :#^60}\")\n",
    "    print(mutual_info_score(X, Y))\n",
    "\n",
    "    print(f\"{' conditional mutual information between X and Y given Z ' :#^60}\")\n",
    "    print(conditional_mutual_information(X, Y, Z))"
   ]
  },
  {
   "cell_type": "code",
   "execution_count": 146,
   "metadata": {},
   "outputs": [],
   "source": [
    "n = 1000"
   ]
  },
  {
   "cell_type": "code",
   "execution_count": 154,
   "metadata": {},
   "outputs": [
    {
     "name": "stdout",
     "output_type": "stream",
     "text": [
      "############ mutual information between X and Y#############\n",
      "0.022823037493722442\n",
      "## conditional mutual information between X and Y given Z ##\n",
      "0.0032749728604355515\n"
     ]
    }
   ],
   "source": [
    "mi_and_cmi(*sample_from_model1(n))"
   ]
  },
  {
   "cell_type": "code",
   "execution_count": 155,
   "metadata": {},
   "outputs": [
    {
     "name": "stdout",
     "output_type": "stream",
     "text": [
      "############ mutual information between X and Y#############\n",
      "0.017025738563786808\n",
      "## conditional mutual information between X and Y given Z ##\n",
      "0.00043250830244191853\n"
     ]
    }
   ],
   "source": [
    "mi_and_cmi(*sample_from_model2(n))"
   ]
  },
  {
   "cell_type": "code",
   "execution_count": 157,
   "metadata": {},
   "outputs": [
    {
     "name": "stdout",
     "output_type": "stream",
     "text": [
      "############ mutual information between X and Y#############\n",
      "0.0007121882149421777\n",
      "## conditional mutual information between X and Y given Z ##\n",
      "0.006909107075214898\n"
     ]
    }
   ],
   "source": [
    "mi_and_cmi(*sample_from_model3(n))"
   ]
  },
  {
   "cell_type": "markdown",
   "metadata": {},
   "source": [
    "### c)"
   ]
  },
  {
   "cell_type": "code",
   "execution_count": 144,
   "metadata": {},
   "outputs": [],
   "source": [
    "def indep_or_cond_indep(X, Y, Z, B=100):\n",
    "    print(f\"{' independence (asymptotic mi) ' :#^60}\")\n",
    "    print(f\"{' between X and Y ' :*>30}\")\n",
    "    print(indep_test_asymptotic(X, Y, \"mi\"))\n",
    "    print(f\"{' between X and Z ' :*>30}\")\n",
    "    print(indep_test_asymptotic(X, Z, \"mi\"))\n",
    "    print(f\"{' between Y and Z ' :*>30}\")\n",
    "    print(indep_test_asymptotic(Y, Z, \"mi\"))\n",
    "\n",
    "    print()\n",
    "\n",
    "    print(f\"{' independence (asymptotic chi2) ' :#^60}\")\n",
    "    print(f\"{' between X and Y ' :*>30}\")\n",
    "    print(indep_test_asymptotic(X, Y, \"chi2\"))\n",
    "    print(f\"{' between X and Z ' :*>30}\")\n",
    "    print(indep_test_asymptotic(X, Z, \"chi2\"))\n",
    "    print(f\"{' between Y and Z ' :*>30}\")\n",
    "    print(indep_test_asymptotic(Y, Z, \"chi2\"))\n",
    "\n",
    "    print()\n",
    "\n",
    "    print(f\"{' independence (permutation mi) ' :#^60}\")\n",
    "    print(f\"{' between X and Y ' :*>30}\")\n",
    "    print(indep_test_permutation(X, Y, B=B))\n",
    "    print(f\"{' between X and Z ' :*>30}\")\n",
    "    print(indep_test_permutation(X, Z, B=B))\n",
    "    print(f\"{' between Y and Z ' :*>30}\")\n",
    "    print(indep_test_permutation(Y, Z, B=B))\n",
    "\n",
    "    print()\n",
    "\n",
    "    print(f\"{' conditional indempendence (asymptotic cmi) ' :#^60}\")\n",
    "    print(cond_indep_test_asymptotic(X, Y, Z))\n",
    "\n",
    "    print(f\"{' conditional indempendence (permutation cmi) ' :#^60}\")\n",
    "    print(cond_indep_test_permutation(X, Y, Z, B=B))"
   ]
  },
  {
   "cell_type": "code",
   "execution_count": 147,
   "metadata": {},
   "outputs": [
    {
     "name": "stdout",
     "output_type": "stream",
     "text": [
      "############### independence (asymptotic mi) ###############\n",
      "************* between X and Y \n",
      "(7.4283487921561475, 0.006420422846351692)\n",
      "************* between X and Z \n",
      "(173.75771994784682, 0.0)\n",
      "************* between Y and Z \n",
      "(115.1085572236173, 0.0)\n",
      "\n",
      "############## independence (asymptotic chi2) ##############\n",
      "************* between X and Y \n",
      "(7.078380979077759, 0.007801947048665658)\n",
      "************* between X and Z \n",
      "(166.95920614283276, 0.0)\n",
      "************* between Y and Z \n",
      "(111.5435914960044, 0.0)\n",
      "\n",
      "############## independence (permutation mi) ###############\n",
      "************* between X and Y \n",
      "(7.4283487921561475, 0.009900990099009901)\n",
      "************* between X and Z \n",
      "(173.75771994784682, 0.009900990099009901)\n",
      "************* between Y and Z \n",
      "(115.1085572236173, 0.009900990099009901)\n",
      "\n",
      "######## conditional indempendence (asymptotic cmi) ########\n",
      "(3.835676940534005, 0.14692420017427454)\n",
      "####### conditional indempendence (permutation cmi) ########\n",
      "(3.835676940534005, 0.1782178217821782)\n"
     ]
    }
   ],
   "source": [
    "indep_or_cond_indep(*sample_from_model1(n))"
   ]
  },
  {
   "cell_type": "code",
   "execution_count": 148,
   "metadata": {},
   "outputs": [
    {
     "name": "stdout",
     "output_type": "stream",
     "text": [
      "############### independence (asymptotic mi) ###############\n",
      "************* between X and Y \n",
      "(18.093783871338086, 2.1028682169577095e-05)\n",
      "************* between X and Z \n",
      "(134.99922990307212, 0.0)\n",
      "************* between Y and Z \n",
      "(171.28520225473287, 0.0)\n",
      "\n",
      "############## independence (asymptotic chi2) ##############\n",
      "************* between X and Y \n",
      "(17.504757463675606, 2.8658965222971844e-05)\n",
      "************* between X and Z \n",
      "(130.40290263364156, 0.0)\n",
      "************* between Y and Z \n",
      "(164.72257238705197, 0.0)\n",
      "\n",
      "############## independence (permutation mi) ###############\n",
      "************* between X and Y \n",
      "(18.093783871338086, 0.009900990099009901)\n",
      "************* between X and Z \n",
      "(134.99922990307212, 0.009900990099009901)\n",
      "************* between Y and Z \n",
      "(171.28520225473287, 0.009900990099009901)\n",
      "\n",
      "######## conditional indempendence (asymptotic cmi) ########\n",
      "(0.5842717221646839, 0.7466670860835029)\n",
      "####### conditional indempendence (permutation cmi) ########\n",
      "(0.5842717221646839, 0.7128712871287128)\n"
     ]
    }
   ],
   "source": [
    "indep_or_cond_indep(*sample_from_model2(n))"
   ]
  },
  {
   "cell_type": "code",
   "execution_count": 149,
   "metadata": {},
   "outputs": [
    {
     "name": "stdout",
     "output_type": "stream",
     "text": [
      "############### independence (asymptotic mi) ###############\n",
      "************* between X and Y \n",
      "(0.2915942656678272, 0.5892006941230905)\n",
      "************* between X and Z \n",
      "(136.9658090614056, 0.0)\n",
      "************* between Y and Z \n",
      "(112.10430860605037, 0.0)\n",
      "\n",
      "############## independence (asymptotic chi2) ##############\n",
      "************* between X and Y \n",
      "(0.2271594524714508, 0.6336380976116874)\n",
      "************* between X and Z \n",
      "(132.36317860886166, 0.0)\n",
      "************* between Y and Z \n",
      "(108.58661923256281, 0.0)\n",
      "\n",
      "############## independence (permutation mi) ###############\n",
      "************* between X and Y \n",
      "(0.2915942656678272, 0.5742574257425742)\n",
      "************* between X and Z \n",
      "(136.9658090614056, 0.009900990099009901)\n",
      "************* between Y and Z \n",
      "(112.10430860605037, 0.009900990099009901)\n",
      "\n",
      "######## conditional indempendence (asymptotic cmi) ########\n",
      "(16.736832200933886, 0.00023208285870579548)\n",
      "####### conditional indempendence (permutation cmi) ########\n",
      "(16.736832200933886, 0.009900990099009901)\n"
     ]
    }
   ],
   "source": [
    "indep_or_cond_indep(*sample_from_model3(n))"
   ]
  }
 ],
 "metadata": {
  "kernelspec": {
   "display_name": "dydaktyka",
   "language": "python",
   "name": "python3"
  },
  "language_info": {
   "codemirror_mode": {
    "name": "ipython",
    "version": 3
   },
   "file_extension": ".py",
   "mimetype": "text/x-python",
   "name": "python",
   "nbconvert_exporter": "python",
   "pygments_lexer": "ipython3",
   "version": "3.10.9"
  }
 },
 "nbformat": 4,
 "nbformat_minor": 2
}
