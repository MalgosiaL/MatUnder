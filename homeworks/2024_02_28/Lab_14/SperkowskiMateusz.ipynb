{
 "cells": [
  {
   "attachments": {},
   "cell_type": "markdown",
   "metadata": {},
   "source": [
    "# Mathematical Underpinnings - Lab 1"
   ]
  },
  {
   "attachments": {},
   "cell_type": "markdown",
   "metadata": {},
   "source": [
    "## Task 1\n",
    "### a) Generative approach \n",
    "\n",
    "We know $\\pi = P(Y=1)$ and the distributions $f(x|Y=1)$ and $f(x|Y=-1)$.\n",
    "\n",
    "#### First bullet point"
   ]
  },
  {
   "cell_type": "code",
   "execution_count": 2,
   "metadata": {
    "ExecuteTime": {
     "end_time": "2024-03-02T12:33:20.371091Z",
     "start_time": "2024-03-02T12:33:20.362092Z"
    }
   },
   "outputs": [],
   "source": [
    "import numpy as np\n",
    "import matplotlib.pyplot as plt\n",
    "from sklearn.linear_model import LogisticRegression\n",
    "from sklearn.discriminant_analysis import LinearDiscriminantAnalysis"
   ]
  },
  {
   "cell_type": "code",
   "execution_count": 3,
   "metadata": {
    "ExecuteTime": {
     "end_time": "2024-03-02T12:33:20.863345Z",
     "start_time": "2024-03-02T12:33:20.813093Z"
    }
   },
   "outputs": [
    {
     "data": {
      "text/plain": "(array([[ 0.77857586,  1.2981237 ],\n        [-1.19349218,  0.77073926],\n        [-0.71271145,  1.33158537],\n        [-0.63735634,  1.08899748],\n        [-1.44423118, -0.87639057]]),\n array([1, 0, 0, 0, 0]))"
     },
     "execution_count": 3,
     "metadata": {},
     "output_type": "execute_result"
    }
   ],
   "source": [
    "# sampling from multivariate normal distribution and from Bernoulli\n",
    "\n",
    "x = np.random.multivariate_normal(np.array([0,0]), np.eye(2), 5)\n",
    "y = np.random.binomial(1, 0.5, 5)\n",
    "x, y"
   ]
  },
  {
   "cell_type": "code",
   "execution_count": 4,
   "metadata": {
    "ExecuteTime": {
     "end_time": "2024-03-02T12:33:20.879346Z",
     "start_time": "2024-03-02T12:33:20.866346Z"
    }
   },
   "outputs": [],
   "source": [
    "m1 = np.array([1,1])\n",
    "m2 = np.array([0,0])\n",
    "pi = 0.5\n",
    "sigma = np.array([[1, -0.5],[-0.5, 1]])"
   ]
  },
  {
   "cell_type": "code",
   "execution_count": 5,
   "metadata": {
    "ExecuteTime": {
     "end_time": "2024-03-02T12:33:20.894346Z",
     "start_time": "2024-03-02T12:33:20.882351Z"
    }
   },
   "outputs": [],
   "source": [
    "# sampling\n",
    "n = 1000\n",
    "X1_generative = np.random.multivariate_normal(m1, sigma, n//2)\n",
    "X2_generative = np.random.multivariate_normal(m2, sigma, n//2)\n",
    "X_generative = np.append(X1_generative, X2_generative, axis=0)\n",
    "Y_generative = np.append(np.ones(n//2), np.zeros(n//2))*2 -1"
   ]
  },
  {
   "cell_type": "code",
   "execution_count": 6,
   "metadata": {
    "ExecuteTime": {
     "end_time": "2024-03-02T12:33:20.958347Z",
     "start_time": "2024-03-02T12:33:20.927348Z"
    }
   },
   "outputs": [],
   "source": [
    "from scipy.stats import multivariate_normal\n",
    "var1 = multivariate_normal(mean=m1, cov=sigma)\n",
    "var2 = multivariate_normal(mean=m2, cov=sigma)\n",
    "var1.pdf([1,0])\n",
    "p_xy_p1 = var1.pdf(X_generative)\n",
    "p_xy_n1 = var2.pdf(X_generative)\n",
    "p_x = p_xy_p1*pi+p_xy_n1*(1-pi)\n",
    "p_yx = (p_xy_p1*pi)/p_x"
   ]
  },
  {
   "cell_type": "markdown",
   "metadata": {},
   "source": [
    "Does the distribution of $P(Y=1|X=x)=p(y=1|x)$ correspond to a logistic model?\n",
    "\n",
    "Yes it does.\n",
    "\n",
    "A hint: Use Bayes theorem to compute $p(y=1|x)$. Is it possible to represent $p(y=1|x)$ as $\\frac{e^{\\beta_0 + \\beta x}}{1 + e^{\\beta_0 + \\beta x}}$?\n"
   ]
  },
  {
   "cell_type": "markdown",
   "metadata": {},
   "source": [
    "#### Second bullet point"
   ]
  },
  {
   "cell_type": "markdown",
   "metadata": {},
   "source": [
    "Find the formulas for the parameters of the logistic model (the coefficients and the intercept).\n",
    "\n",
    "A hint: Use the representation of $p(y=1|x)$ from the first bullet point and solve for $\\beta_0$ and $\\beta$."
   ]
  },
  {
   "cell_type": "code",
   "execution_count": 7,
   "metadata": {
    "ExecuteTime": {
     "end_time": "2024-03-02T12:33:21.021348Z",
     "start_time": "2024-03-02T12:33:21.009348Z"
    }
   },
   "outputs": [
    {
     "data": {
      "text/plain": "(2.0, array([2., 2.]))"
     },
     "execution_count": 7,
     "metadata": {},
     "output_type": "execute_result"
    }
   ],
   "source": [
    "# computing beta_0 and beta using the formulas\n",
    "b0 = np.log(pi/(1-pi))+0.5*m2.T@np.linalg.inv(sigma)@m2+0.5*m1.T@np.linalg.inv(sigma)@m1\n",
    "b = np.linalg.inv(sigma)@(m1-m2)\n",
    "b0, b"
   ]
  },
  {
   "cell_type": "code",
   "execution_count": 8,
   "metadata": {
    "ExecuteTime": {
     "end_time": "2024-03-02T12:33:21.052346Z",
     "start_time": "2024-03-02T12:33:21.030351Z"
    }
   },
   "outputs": [
    {
     "data": {
      "text/plain": "(array([-2.08313217]), array([[2.10795556, 1.97782311]]))"
     },
     "execution_count": 8,
     "metadata": {},
     "output_type": "execute_result"
    }
   ],
   "source": [
    "# a logistic model\n",
    "mod_a = LogisticRegression(penalty=None)\n",
    "mod_a.fit(X_generative, Y_generative)\n",
    "(mod_a.intercept_, mod_a.coef_)"
   ]
  },
  {
   "cell_type": "markdown",
   "metadata": {},
   "source": [
    "### b) Discriminative approach\n",
    "\n",
    "We know $f(x)$ and $P(Y=1|X=x)$.\n",
    "\n",
    "#### First bullet point"
   ]
  },
  {
   "cell_type": "code",
   "execution_count": 9,
   "metadata": {
    "ExecuteTime": {
     "end_time": "2024-03-02T12:33:21.084349Z",
     "start_time": "2024-03-02T12:33:21.065346Z"
    }
   },
   "outputs": [],
   "source": [
    "# sampling\n",
    "X1_generative = np.random.multivariate_normal(m1, sigma, n)\n",
    "X2_generative = np.random.multivariate_normal(m2, sigma, n)\n",
    "mixture = np.random.binomial(1, 0.5, size=(n,1))\n",
    "X_discriminative = X1_generative*mixture + X2_generative*(1-mixture)\n",
    "beta_0 = -2\n",
    "beta = np.array(((2,2)))\n",
    "prob = 1/(1+np.exp(-beta_0-beta@X_discriminative.T))\n",
    "Y_discriminative = np.random.binomial(1, prob, n)*2-1"
   ]
  },
  {
   "cell_type": "code",
   "execution_count": 10,
   "metadata": {
    "ExecuteTime": {
     "end_time": "2024-03-02T12:33:21.100348Z",
     "start_time": "2024-03-02T12:33:21.086347Z"
    }
   },
   "outputs": [
    {
     "data": {
      "text/plain": "(array([-1.98945737]), array([[2.06974294, 1.89077002]]))"
     },
     "execution_count": 10,
     "metadata": {},
     "output_type": "execute_result"
    }
   ],
   "source": [
    "mod_b = LogisticRegression(penalty=None)\n",
    "mod_b.fit(X_discriminative, Y_discriminative)\n",
    "(mod_b.intercept_, mod_b.coef_)"
   ]
  },
  {
   "cell_type": "markdown",
   "metadata": {},
   "source": [
    "#### Second bullet point"
   ]
  },
  {
   "cell_type": "code",
   "execution_count": 11,
   "metadata": {
    "ExecuteTime": {
     "end_time": "2024-03-02T12:33:21.148346Z",
     "start_time": "2024-03-02T12:33:21.131348Z"
    }
   },
   "outputs": [
    {
     "data": {
      "text/plain": "(1000,)"
     },
     "execution_count": 11,
     "metadata": {},
     "output_type": "execute_result"
    }
   ],
   "source": [
    "X_generative[:,0].shape"
   ]
  },
  {
   "cell_type": "code",
   "execution_count": 12,
   "metadata": {
    "ExecuteTime": {
     "end_time": "2024-03-02T12:33:21.546242Z",
     "start_time": "2024-03-02T12:33:21.153349Z"
    }
   },
   "outputs": [
    {
     "data": {
      "text/plain": "<Figure size 640x480 with 2 Axes>",
      "image/png": "[encoded data removed]"
     },
     "metadata": {},
     "output_type": "display_data"
    }
   ],
   "source": [
    "plt.subplot(1, 2, 1)\n",
    "plt.scatter(X_generative[:,0], X_generative[:,1] , c=Y_generative)\n",
    "plt.ylim(-4,4)\n",
    "plt.xlim(-4,4)\n",
    "plt.subplot(1, 2, 2)\n",
    "plt.scatter(X_discriminative[:,0], X_discriminative[:,1] , c=Y_discriminative)\n",
    "plt.ylim(-4,4)\n",
    "plt.xlim(-4,4)\n",
    "plt.show()"
   ]
  },
  {
   "cell_type": "markdown",
   "metadata": {},
   "source": [
    "What distinguishes the generative approach from the discriminative approach?\n",
    "\n",
    "Distribution is similar. However in the generative approach we cannot estimate the p(Y=1) for the general population, where in the discrimantive approach we can."
   ]
  },
  {
   "cell_type": "markdown",
   "metadata": {},
   "source": [
    "### c)"
   ]
  },
  {
   "cell_type": "markdown",
   "metadata": {},
   "source": [
    "To sample from $f_{X|Y=-1}$, first, we will give an answer to Q1.\n",
    "\n",
    "Q1. A hint: use Bayes theorem for $p(x|y=-1)$ and use law of total probability for $p(x)$."
   ]
  },
  {
   "cell_type": "code",
   "execution_count": 13,
   "metadata": {
    "ExecuteTime": {
     "end_time": "2024-03-02T12:33:21.562271Z",
     "start_time": "2024-03-02T12:33:21.548210Z"
    }
   },
   "outputs": [],
   "source": [
    "# sampling\n",
    "\n",
    "beta1 = 1\n",
    "n1 = 1000\n",
    "x1 = np.random.exponential(1, size=n1)\n",
    "n2 = 2000\n",
    "x2 = np.random.exponential(1/(beta1 + 1), size=n2)\n",
    "X = np.concatenate([x1, x2]).reshape(-1, 1)\n",
    "y = np.concatenate([np.ones(n1), np.zeros(n2)])"
   ]
  },
  {
   "cell_type": "code",
   "execution_count": 14,
   "metadata": {
    "ExecuteTime": {
     "end_time": "2024-03-02T12:33:21.578208Z",
     "start_time": "2024-03-02T12:33:21.564211Z"
    }
   },
   "outputs": [
    {
     "data": {
      "text/plain": "(array([-1.30725537]), array([[0.87654072]]))"
     },
     "execution_count": 14,
     "metadata": {},
     "output_type": "execute_result"
    }
   ],
   "source": [
    "# a model\n",
    "mod = LogisticRegression(penalty=None)\n",
    "mod.fit(X, y)\n",
    "(mod.intercept_, mod.coef_)\n",
    "# ma wyjsc exp(1+beta_1), P(x|Y=-1) = C_pi,b_0 * exp(-(b_1+1)*x)\n",
    "# Q2, Q3, C_pi,b_0=b_1+1, b_0 = f(b_1, pi) = ~ -1.39, what is the function?"
   ]
  },
  {
   "cell_type": "markdown",
   "metadata": {},
   "source": [
    "Q2, Q3. A hint: what is the distribution of $f_{X|Y=-1}$? What ia a norming constant?\n",
    "\n",
    "..."
   ]
  },
  {
   "cell_type": "markdown",
   "metadata": {},
   "source": [
    "If that is doable, given $\\beta_1$ and $\\pi$ compute $\\beta_0$.\n",
    "\n",
    "Knowing that $f_{X|Y=-1}$ is an exponential distribution with parameter equal 2, and the integral of probability is equal to 1, we get $\\frac{\\exp(-\\beta_0)}{2} = 2$. Which means that $C_{\\beta_0, \\pi} = \\exp(-\\beta_0) \\frac{\\pi}{1-\\pi}$. We also know that $C_{\\beta_0, \\pi} = \\beta_1+1$.\n",
    "\n",
    "A hint: Of course it is, compute $\\beta_0$.\n",
    "\n",
    "$\\beta_0 = ln(C_\\pi/(1+\\beta_1))= ln(0.25)=-ln(4)$"
   ]
  },
  {
   "cell_type": "code",
   "execution_count": 19,
   "metadata": {
    "ExecuteTime": {
     "end_time": "2024-03-02T12:44:11.300313Z",
     "start_time": "2024-03-02T12:44:11.286175Z"
    }
   },
   "outputs": [
    {
     "data": {
      "text/plain": "-1.3862943611198908"
     },
     "execution_count": 19,
     "metadata": {},
     "output_type": "execute_result"
    }
   ],
   "source": [
    "b1 = 1\n",
    "c_pi = n1/(n1 + n2)\n",
    "- np.log((beta1 + 1) * (1 - c_pi) / c_pi)"
   ]
  },
  {
   "attachments": {},
   "cell_type": "markdown",
   "metadata": {},
   "source": [
    "## Task 2"
   ]
  },
  {
   "cell_type": "markdown",
   "metadata": {},
   "source": [
    "### a)\n",
    "\n",
    "$R(a,a^*) = \\mathbb{E} \\mathcal{L}(f(X), Y) = \\mathbb{E}(aX - Y)^2 = ...$,\n",
    "\n",
    "In our task we know $a^* = 1$."
   ]
  },
  {
   "cell_type": "code",
   "execution_count": 268,
   "metadata": {},
   "outputs": [],
   "source": [
    "# def population_risk(a, sigma_eps):\n",
    "#     return ..."
   ]
  },
  {
   "attachments": {},
   "cell_type": "markdown",
   "metadata": {},
   "source": [
    "### b)"
   ]
  },
  {
   "cell_type": "code",
   "execution_count": 269,
   "metadata": {},
   "outputs": [],
   "source": [
    "# sampling"
   ]
  },
  {
   "cell_type": "markdown",
   "metadata": {},
   "source": [
    "Empirical risk: $\\frac{1}{n} \\sum_{i=1}^n (ax_i - y_i)^2$"
   ]
  },
  {
   "cell_type": "code",
   "execution_count": 270,
   "metadata": {},
   "outputs": [],
   "source": [
    "# def empirical_risk(a, x, y):\n",
    "#     return ..."
   ]
  },
  {
   "attachments": {},
   "cell_type": "markdown",
   "metadata": {},
   "source": [
    "### c)"
   ]
  },
  {
   "cell_type": "code",
   "execution_count": 37,
   "metadata": {},
   "outputs": [],
   "source": [
    "# code, plot"
   ]
  },
  {
   "attachments": {},
   "cell_type": "markdown",
   "metadata": {},
   "source": [
    "### d)"
   ]
  },
  {
   "cell_type": "markdown",
   "metadata": {},
   "source": [
    "Excess risk: $$E(\\hat a, a^*) =R(\\hat a, a^*) - \\textrm{inf}_{a \\in A_0} R(a, a^*)$$"
   ]
  },
  {
   "cell_type": "code",
   "execution_count": 38,
   "metadata": {},
   "outputs": [],
   "source": [
    "# excess risk\n",
    "# ..."
   ]
  },
  {
   "cell_type": "code",
   "execution_count": 39,
   "metadata": {},
   "outputs": [],
   "source": [
    "# simulations with fixed sample size"
   ]
  },
  {
   "cell_type": "code",
   "execution_count": 276,
   "metadata": {},
   "outputs": [],
   "source": [
    "# simulations for various sample sizes"
   ]
  },
  {
   "cell_type": "code",
   "execution_count": 40,
   "metadata": {},
   "outputs": [],
   "source": [
    "# a nice plot visualising the results (how the unconditional excess risk changes with a sample size)"
   ]
  }
 ],
 "metadata": {
  "kernelspec": {
   "display_name": "base",
   "language": "python",
   "name": "python3"
  },
  "language_info": {
   "codemirror_mode": {
    "name": "ipython",
    "version": 3
   },
   "file_extension": ".py",
   "mimetype": "text/x-python",
   "name": "python",
   "nbconvert_exporter": "python",
   "pygments_lexer": "ipython3",
   "version": "3.10.9"
  },
  "orig_nbformat": 4
 },
 "nbformat": 4,
 "nbformat_minor": 2
}
