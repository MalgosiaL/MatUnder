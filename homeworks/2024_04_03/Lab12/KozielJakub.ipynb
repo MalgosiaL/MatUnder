{
 "cells": [
  {
   "cell_type": "markdown",
   "metadata": {},
   "source": [
    "# Mathematical Underpinnings - Lab 6"
   ]
  },
  {
   "cell_type": "code",
   "execution_count": 54,
   "metadata": {},
   "outputs": [],
   "source": [
    "from sklearn.metrics import mutual_info_score\n",
    "import numpy as np\n",
    "import matplotlib.pyplot as plt\n",
    "import seaborn as sns\n",
    "import pandas as pd\n",
    "#from tqdm import tqdm\n",
    "from scipy import stats"
   ]
  },
  {
   "cell_type": "markdown",
   "metadata": {},
   "source": [
    "## Useful functions"
   ]
  },
  {
   "cell_type": "code",
   "execution_count": 55,
   "metadata": {},
   "outputs": [],
   "source": [
    "def discretize_2bins(X):\n",
    "    X_discrete = 1 * (X >= 0)\n",
    "    return X_discrete"
   ]
  },
  {
   "cell_type": "code",
   "execution_count": 56,
   "metadata": {},
   "outputs": [],
   "source": [
    "def conditional_permutation(X, Z):\n",
    "    z_values = np.unique(Z)\n",
    "    n_z_values = len(z_values)\n",
    "    n = len(Z)\n",
    "\n",
    "    X_b = np.zeros(n)\n",
    "\n",
    "    for i in range(n_z_values):\n",
    "        z_value_tmp = z_values[i]\n",
    "\n",
    "        X_b[Z == z_value_tmp] = np.random.permutation(X[Z == z_value_tmp])\n",
    "\n",
    "    return X_b"
   ]
  },
  {
   "cell_type": "code",
   "execution_count": 57,
   "metadata": {},
   "outputs": [],
   "source": [
    "def conditional_mutual_information(X, Y, Z):\n",
    "    z_values = np.unique(Z)\n",
    "    n_z_values = len(z_values)\n",
    "    n = len(Z)\n",
    "\n",
    "    cmi = 0\n",
    "\n",
    "    for i in range(n_z_values):\n",
    "        z_value_tmp = z_values[i]\n",
    "        z_condition = (Z == z_value_tmp)\n",
    "\n",
    "        X_z = X[z_condition]\n",
    "        Y_z = Y[z_condition]\n",
    "\n",
    "        mi_XY_z = mutual_info_score(X_z, Y_z)\n",
    "        p_z = np.sum(z_condition) / n\n",
    "\n",
    "        cmi += p_z * mi_XY_z\n",
    "\n",
    "    return cmi"
   ]
  },
  {
   "cell_type": "code",
   "execution_count": 58,
   "metadata": {},
   "outputs": [],
   "source": [
    "# II(X;Y;Z)\n",
    "def interaction_information(X, Y, Z):\n",
    "    return conditional_mutual_information(X, Y, Z) - mutual_info_score(X, Y)"
   ]
  },
  {
   "cell_type": "code",
   "execution_count": 59,
   "metadata": {},
   "outputs": [],
   "source": [
    "# II(X;Y;Z1;Z2)\n",
    "def interaction_information2(X, Y, Z1, Z2):\n",
    "    Z_1_and_2 = 2 * Z2 + Z1\n",
    "    return interaction_information(X, Y, Z_1_and_2) - interaction_information(X, Y, Z1) - interaction_information(X, Y,\n",
    "                                                                                                                  Z2)"
   ]
  },
  {
   "cell_type": "markdown",
   "metadata": {},
   "source": [
    "## Task 1"
   ]
  },
  {
   "cell_type": "code",
   "execution_count": 60,
   "outputs": [],
   "source": [
    "def discretize_2bins_1_minus1(X):\n",
    "    X_discrete = discretize_2bins(X) * 2 - 1\n",
    "    return X_discrete"
   ],
   "metadata": {
    "collapsed": false
   }
  },
  {
   "cell_type": "code",
   "execution_count": 61,
   "metadata": {},
   "outputs": [],
   "source": [
    "def secmi2(X, Y, Z):\n",
    "    s = 0\n",
    "    for i in range(len(Z[0])):\n",
    "        s += interaction_information(Y, X, Z[:, i])\n",
    "    return mutual_info_score(X, Y) + s\n",
    "\n",
    "\n",
    "def secmi3(X, Y, Z):\n",
    "    s = 0\n",
    "    for i in range(len(Z[0]) - 1):\n",
    "        for j in range(i + 1, len(Z[0])):\n",
    "            s += interaction_information2(X, Y, Z[:, i], Z[:, j])\n",
    "\n",
    "    return secmi2(X, Y, Z) + s\n"
   ]
  },
  {
   "cell_type": "markdown",
   "metadata": {},
   "source": [
    "### a)"
   ]
  },
  {
   "cell_type": "code",
   "execution_count": 62,
   "metadata": {},
   "outputs": [],
   "source": [
    "def cond_indep_test_permutation(X, Y, Z, B=50, stat='cmi'):\n",
    "    n_col_Z = Z.shape[1]\n",
    "    Z_1dim = np.dot(Z, 2 ** np.linspace(0, n_col_Z - 1, n_col_Z))\n",
    "\n",
    "    if stat == \"cmi\":\n",
    "        stat_value = conditional_mutual_information(X, Y, Z_1dim)\n",
    "    if stat == \"secmi2\":\n",
    "        stat_value = secmi2(X, Y, Z)\n",
    "    if stat == \"secmi3\":\n",
    "        stat_value = secmi3(X, Y, Z)\n",
    "\n",
    "    condition_p_value = 0\n",
    "    for b in range(B):\n",
    "        X_b = conditional_permutation(X, Z_1dim)\n",
    "\n",
    "        if stat == \"cmi\":\n",
    "            stat_value_b = conditional_mutual_information(X_b, Y, Z_1dim)\n",
    "        if stat == \"secmi2\":\n",
    "            stat_value_b = secmi2(X_b, Y, Z)\n",
    "        if stat == \"secmi3\":\n",
    "            stat_value_b = secmi3(X_b, Y, Z)\n",
    "\n",
    "        if stat_value <= stat_value_b:\n",
    "            condition_p_value += 1\n",
    "\n",
    "    p_value = (1 + condition_p_value) / (1 + B)\n",
    "\n",
    "    return 2 * len(X) * stat_value, p_value"
   ]
  },
  {
   "cell_type": "markdown",
   "metadata": {},
   "source": [
    "### b)"
   ]
  },
  {
   "cell_type": "code",
   "execution_count": 63,
   "metadata": {},
   "outputs": [],
   "source": [
    "def generate_data(seed=123):\n",
    "    np.random.seed(seed=seed)\n",
    "\n",
    "    Y = stats.norm.rvs(0, 1, size=100)\n",
    "    Y_tilde = discretize_2bins_1_minus1(Y)\n",
    "\n",
    "    Z1 = stats.norm.rvs(0, 1, size=100) + Y_tilde\n",
    "    Z2 = stats.norm.rvs(0, 1, size=100) + Y_tilde\n",
    "    Z3 = stats.norm.rvs(0, 1, size=100) + Y_tilde\n",
    "\n",
    "    Z1_tilde = discretize_2bins_1_minus1(Z1)\n",
    "    Z2_tilde = discretize_2bins_1_minus1(Z2)\n",
    "    Z3_tilde = discretize_2bins_1_minus1(Z3)\n",
    "\n",
    "    Z_tilde = np.hstack([Z1_tilde.reshape(-1, 1), Z2_tilde.reshape(-1, 1), Z3_tilde.reshape(-1, 1)])\n",
    "\n",
    "    X = stats.norm.rvs(0, 1, size=100) + Z1_tilde\n",
    "    X_tilde = discretize_2bins_1_minus1(X)\n",
    "\n",
    "    return X_tilde, Y_tilde, Z_tilde"
   ]
  },
  {
   "cell_type": "code",
   "execution_count": 74,
   "outputs": [
    {
     "data": {
      "text/plain": "    cmi_case1  secmi2_case1  secmi3_case1  cmi_case2  secmi2_case2  \\\n0    0.117647      0.235294      0.156863   0.019608      0.019608   \n1    0.882353      0.921569      0.941176   0.078431      0.098039   \n2    0.039216      0.019608      0.039216   0.019608      0.019608   \n3    0.078431      0.411765      0.039216   0.019608      0.019608   \n4    0.137255      0.117647      0.235294   0.019608      0.019608   \n..        ...           ...           ...        ...           ...   \n95   0.019608      0.019608      0.019608   0.019608      0.019608   \n96   0.372549      0.313725      0.490196   0.215686      0.156863   \n97   0.294118      0.176471      0.274510   0.137255      0.254902   \n98   0.921569      0.784314      0.901961   0.019608      0.019608   \n99   0.843137      0.607843      0.901961   0.039216      0.058824   \n\n    secmi3_case2  \n0       0.019608  \n1       0.156863  \n2       0.019608  \n3       0.019608  \n4       0.019608  \n..           ...  \n95      0.019608  \n96      0.156863  \n97      0.156863  \n98      0.019608  \n99      0.039216  \n\n[100 rows x 6 columns]",
      "text/html": "<div>\n<style scoped>\n    .dataframe tbody tr th:only-of-type {\n        vertical-align: middle;\n    }\n\n    .dataframe tbody tr th {\n        vertical-align: top;\n    }\n\n    .dataframe thead th {\n        text-align: right;\n    }\n</style>\n<table border=\"1\" class=\"dataframe\">\n  <thead>\n    <tr style=\"text-align: right;\">\n      <th></th>\n      <th>cmi_case1</th>\n      <th>secmi2_case1</th>\n      <th>secmi3_case1</th>\n      <th>cmi_case2</th>\n      <th>secmi2_case2</th>\n      <th>secmi3_case2</th>\n    </tr>\n  </thead>\n  <tbody>\n    <tr>\n      <th>0</th>\n      <td>0.117647</td>\n      <td>0.235294</td>\n      <td>0.156863</td>\n      <td>0.019608</td>\n      <td>0.019608</td>\n      <td>0.019608</td>\n    </tr>\n    <tr>\n      <th>1</th>\n      <td>0.882353</td>\n      <td>0.921569</td>\n      <td>0.941176</td>\n      <td>0.078431</td>\n      <td>0.098039</td>\n      <td>0.156863</td>\n    </tr>\n    <tr>\n      <th>2</th>\n      <td>0.039216</td>\n      <td>0.019608</td>\n      <td>0.039216</td>\n      <td>0.019608</td>\n      <td>0.019608</td>\n      <td>0.019608</td>\n    </tr>\n    <tr>\n      <th>3</th>\n      <td>0.078431</td>\n      <td>0.411765</td>\n      <td>0.039216</td>\n      <td>0.019608</td>\n      <td>0.019608</td>\n      <td>0.019608</td>\n    </tr>\n    <tr>\n      <th>4</th>\n      <td>0.137255</td>\n      <td>0.117647</td>\n      <td>0.235294</td>\n      <td>0.019608</td>\n      <td>0.019608</td>\n      <td>0.019608</td>\n    </tr>\n    <tr>\n      <th>...</th>\n      <td>...</td>\n      <td>...</td>\n      <td>...</td>\n      <td>...</td>\n      <td>...</td>\n      <td>...</td>\n    </tr>\n    <tr>\n      <th>95</th>\n      <td>0.019608</td>\n      <td>0.019608</td>\n      <td>0.019608</td>\n      <td>0.019608</td>\n      <td>0.019608</td>\n      <td>0.019608</td>\n    </tr>\n    <tr>\n      <th>96</th>\n      <td>0.372549</td>\n      <td>0.313725</td>\n      <td>0.490196</td>\n      <td>0.215686</td>\n      <td>0.156863</td>\n      <td>0.156863</td>\n    </tr>\n    <tr>\n      <th>97</th>\n      <td>0.294118</td>\n      <td>0.176471</td>\n      <td>0.274510</td>\n      <td>0.137255</td>\n      <td>0.254902</td>\n      <td>0.156863</td>\n    </tr>\n    <tr>\n      <th>98</th>\n      <td>0.921569</td>\n      <td>0.784314</td>\n      <td>0.901961</td>\n      <td>0.019608</td>\n      <td>0.019608</td>\n      <td>0.019608</td>\n    </tr>\n    <tr>\n      <th>99</th>\n      <td>0.843137</td>\n      <td>0.607843</td>\n      <td>0.901961</td>\n      <td>0.039216</td>\n      <td>0.058824</td>\n      <td>0.039216</td>\n    </tr>\n  </tbody>\n</table>\n<p>100 rows × 6 columns</p>\n</div>"
     },
     "execution_count": 74,
     "metadata": {},
     "output_type": "execute_result"
    }
   ],
   "source": [
    "N = 100\n",
    "\n",
    "df_pvalues = pd.DataFrame(\n",
    "    columns=['cmi_case1', 'secmi2_case1', 'secmi3_case1', 'cmi_case2', 'secmi2_case2', 'secmi3_case2'])\n",
    "\n",
    "for i in range(N):\n",
    "    X_tilde, Y_tilde, Z_tilde = generate_data(i)\n",
    "\n",
    "    cmi_case1 = cond_indep_test_permutation(X_tilde, Y_tilde, Z_tilde[:, [0, 1]], B=50, stat='cmi')\n",
    "    secmi2_case1 = cond_indep_test_permutation(X_tilde, Y_tilde, Z_tilde[:, [0, 1]], B=50, stat='secmi2')\n",
    "    secmi3_case1 = cond_indep_test_permutation(X_tilde, Y_tilde, Z_tilde[:, [0, 1]], B=50, stat='secmi3')\n",
    "\n",
    "    cmi_case2 = cond_indep_test_permutation(X_tilde, Y_tilde, Z_tilde[:, [1, 2]], B=50, stat='cmi')\n",
    "    secmi2_case2 = cond_indep_test_permutation(X_tilde, Y_tilde, Z_tilde[:, [1, 2]], B=50, stat='secmi2')\n",
    "    secmi3_case2 = cond_indep_test_permutation(X_tilde, Y_tilde, Z_tilde[:, [1, 2]], B=50, stat='secmi3')\n",
    "\n",
    "    df_pvalues.loc[i] = [cmi_case1[1], secmi2_case1[1], secmi3_case1[1], cmi_case2[1], secmi2_case2[1], secmi3_case2[1]]\n",
    "\n",
    "df_pvalues"
   ],
   "metadata": {
    "collapsed": false
   }
  },
  {
   "cell_type": "code",
   "execution_count": 75,
   "outputs": [
    {
     "name": "stdout",
     "output_type": "stream",
     "text": [
      "cmi_case1 rejected in 0.04 cases\n",
      "secmi2_case1 rejected in 0.04 cases\n",
      "secmi3_case1 rejected in 0.03 cases\n",
      "cmi_case2 rejected in 0.6 cases\n",
      "secmi2_case2 rejected in 0.58 cases\n",
      "secmi3_case2 rejected in 0.6 cases\n"
     ]
    }
   ],
   "source": [
    "for test_name in ['cmi_case1', 'secmi2_case1', 'secmi3_case1', 'cmi_case2', 'secmi2_case2', 'secmi3_case2']:\n",
    "    fraction_of_rejected = len(df_pvalues[test_name].loc[lambda x: x < 0.05]) / len(df_pvalues)\n",
    "\n",
    "    print(f'{test_name} rejected in {fraction_of_rejected} cases')"
   ],
   "metadata": {
    "collapsed": false
   }
  },
  {
   "cell_type": "markdown",
   "source": [
    "Only the first conditional independence is true. We can observe that in test results. However, even in the second case hypothesis was rejected only around 60% of times."
   ],
   "metadata": {
    "collapsed": false
   }
  },
  {
   "cell_type": "markdown",
   "metadata": {},
   "source": [
    "### c)"
   ]
  },
  {
   "cell_type": "code",
   "execution_count": 92,
   "metadata": {},
   "outputs": [],
   "source": [
    "def generate_data2(seed=123):\n",
    "    np.random.seed(seed=seed)\n",
    "\n",
    "    X = stats.binom.rvs(1, 0.5, size=100)\n",
    "    Z1 = stats.binom.rvs(1, 0.5, size=100)\n",
    "    Z2 = stats.binom.rvs(1, 0.5, size=100)\n",
    "    Z3 = stats.binom.rvs(1, 0.5, size=100)\n",
    "\n",
    "    Z = np.hstack([Z1.reshape(-1, 1), Z2.reshape(-1, 1), Z3.reshape(-1, 1)])\n",
    "\n",
    "    Y = stats.binom.rvs(1, np.where(np.mod(X + Z1 + Z2, 2), 0.8, 0.2))\n",
    "\n",
    "    return X, Y, Z"
   ]
  },
  {
   "cell_type": "code",
   "execution_count": 96,
   "outputs": [
    {
     "data": {
      "text/plain": "    cmi_case1  secmi2_case1  secmi3_case1  cmi_case2  secmi2_case2  \\\n0    0.019608      0.588235      0.019608   0.313725      0.352941   \n1    0.019608      0.039216      0.019608   0.156863      0.039216   \n2    0.019608      0.921569      0.019608   0.862745      0.705882   \n3    0.019608      0.784314      0.019608   0.980392      0.882353   \n4    0.019608      0.450980      0.019608   0.549020      0.294118   \n..        ...           ...           ...        ...           ...   \n95   0.019608      0.470588      0.019608   1.000000      0.921569   \n96   0.019608      0.588235      0.019608   0.921569      0.882353   \n97   0.019608      0.666667      0.019608   0.372549      0.745098   \n98   0.019608      1.000000      0.019608   0.568627      0.450980   \n99   0.019608      0.313725      0.019608   0.254902      0.470588   \n\n    secmi3_case2  \n0       0.196078  \n1       0.117647  \n2       0.862745  \n3       0.823529  \n4       0.392157  \n..           ...  \n95      0.980392  \n96      0.921569  \n97      0.274510  \n98      0.647059  \n99      0.294118  \n\n[100 rows x 6 columns]",
      "text/html": "<div>\n<style scoped>\n    .dataframe tbody tr th:only-of-type {\n        vertical-align: middle;\n    }\n\n    .dataframe tbody tr th {\n        vertical-align: top;\n    }\n\n    .dataframe thead th {\n        text-align: right;\n    }\n</style>\n<table border=\"1\" class=\"dataframe\">\n  <thead>\n    <tr style=\"text-align: right;\">\n      <th></th>\n      <th>cmi_case1</th>\n      <th>secmi2_case1</th>\n      <th>secmi3_case1</th>\n      <th>cmi_case2</th>\n      <th>secmi2_case2</th>\n      <th>secmi3_case2</th>\n    </tr>\n  </thead>\n  <tbody>\n    <tr>\n      <th>0</th>\n      <td>0.019608</td>\n      <td>0.588235</td>\n      <td>0.019608</td>\n      <td>0.313725</td>\n      <td>0.352941</td>\n      <td>0.196078</td>\n    </tr>\n    <tr>\n      <th>1</th>\n      <td>0.019608</td>\n      <td>0.039216</td>\n      <td>0.019608</td>\n      <td>0.156863</td>\n      <td>0.039216</td>\n      <td>0.117647</td>\n    </tr>\n    <tr>\n      <th>2</th>\n      <td>0.019608</td>\n      <td>0.921569</td>\n      <td>0.019608</td>\n      <td>0.862745</td>\n      <td>0.705882</td>\n      <td>0.862745</td>\n    </tr>\n    <tr>\n      <th>3</th>\n      <td>0.019608</td>\n      <td>0.784314</td>\n      <td>0.019608</td>\n      <td>0.980392</td>\n      <td>0.882353</td>\n      <td>0.823529</td>\n    </tr>\n    <tr>\n      <th>4</th>\n      <td>0.019608</td>\n      <td>0.450980</td>\n      <td>0.019608</td>\n      <td>0.549020</td>\n      <td>0.294118</td>\n      <td>0.392157</td>\n    </tr>\n    <tr>\n      <th>...</th>\n      <td>...</td>\n      <td>...</td>\n      <td>...</td>\n      <td>...</td>\n      <td>...</td>\n      <td>...</td>\n    </tr>\n    <tr>\n      <th>95</th>\n      <td>0.019608</td>\n      <td>0.470588</td>\n      <td>0.019608</td>\n      <td>1.000000</td>\n      <td>0.921569</td>\n      <td>0.980392</td>\n    </tr>\n    <tr>\n      <th>96</th>\n      <td>0.019608</td>\n      <td>0.588235</td>\n      <td>0.019608</td>\n      <td>0.921569</td>\n      <td>0.882353</td>\n      <td>0.921569</td>\n    </tr>\n    <tr>\n      <th>97</th>\n      <td>0.019608</td>\n      <td>0.666667</td>\n      <td>0.019608</td>\n      <td>0.372549</td>\n      <td>0.745098</td>\n      <td>0.274510</td>\n    </tr>\n    <tr>\n      <th>98</th>\n      <td>0.019608</td>\n      <td>1.000000</td>\n      <td>0.019608</td>\n      <td>0.568627</td>\n      <td>0.450980</td>\n      <td>0.647059</td>\n    </tr>\n    <tr>\n      <th>99</th>\n      <td>0.019608</td>\n      <td>0.313725</td>\n      <td>0.019608</td>\n      <td>0.254902</td>\n      <td>0.470588</td>\n      <td>0.294118</td>\n    </tr>\n  </tbody>\n</table>\n<p>100 rows × 6 columns</p>\n</div>"
     },
     "execution_count": 96,
     "metadata": {},
     "output_type": "execute_result"
    }
   ],
   "source": [
    "N = 100\n",
    "\n",
    "df_pvalues = pd.DataFrame(\n",
    "    columns=['cmi_case1', 'secmi2_case1', 'secmi3_case1', 'cmi_case2', 'secmi2_case2', 'secmi3_case2'])\n",
    "\n",
    "for i in range(N):\n",
    "    X_tilde, Y_tilde, Z_tilde = generate_data2(i)\n",
    "\n",
    "    cmi_case1 = cond_indep_test_permutation(X_tilde, Y_tilde, Z_tilde[:, [0, 1]], B=50, stat='cmi')\n",
    "    secmi2_case1 = cond_indep_test_permutation(X_tilde, Y_tilde, Z_tilde[:, [0, 1]], B=50, stat='secmi2')\n",
    "    secmi3_case1 = cond_indep_test_permutation(X_tilde, Y_tilde, Z_tilde[:, [0, 1]], B=50, stat='secmi3')\n",
    "\n",
    "    cmi_case2 = cond_indep_test_permutation(X_tilde, Y_tilde, Z_tilde[:, [1, 2]], B=50, stat='cmi')\n",
    "    secmi2_case2 = cond_indep_test_permutation(X_tilde, Y_tilde, Z_tilde[:, [1, 2]], B=50, stat='secmi2')\n",
    "    secmi3_case2 = cond_indep_test_permutation(X_tilde, Y_tilde, Z_tilde[:, [1, 2]], B=50, stat='secmi3')\n",
    "\n",
    "    df_pvalues.loc[i] = [cmi_case1[1], secmi2_case1[1], secmi3_case1[1], cmi_case2[1], secmi2_case2[1], secmi3_case2[1]]\n",
    "\n",
    "df_pvalues"
   ],
   "metadata": {
    "collapsed": false
   }
  },
  {
   "cell_type": "code",
   "execution_count": 97,
   "outputs": [
    {
     "name": "stdout",
     "output_type": "stream",
     "text": [
      "cmi_case1 rejected in 1.0 cases\n",
      "secmi2_case1 rejected in 0.04 cases\n",
      "secmi3_case1 rejected in 1.0 cases\n",
      "cmi_case2 rejected in 0.05 cases\n",
      "secmi2_case2 rejected in 0.03 cases\n",
      "secmi3_case2 rejected in 0.02 cases\n"
     ]
    }
   ],
   "source": [
    "for test_name in ['cmi_case1', 'secmi2_case1', 'secmi3_case1', 'cmi_case2', 'secmi2_case2', 'secmi3_case2']:\n",
    "    fraction_of_rejected = len(df_pvalues[test_name].loc[lambda x: x < 0.05]) / len(df_pvalues)\n",
    "\n",
    "    print(f'{test_name} rejected in {fraction_of_rejected} cases')"
   ],
   "metadata": {
    "collapsed": false
   }
  },
  {
   "cell_type": "markdown",
   "source": [
    "Conditional independence is true in the second case. The SECMI2 test however is unable to detect 3-way interactions, therefore, as in this case this is exactly what we deal with, it is unable to perform correctly and reject the hypothesis in the first case."
   ],
   "metadata": {
    "collapsed": false
   }
  },
  {
   "cell_type": "markdown",
   "metadata": {},
   "source": [
    "## Task 2\n",
    " \n",
    "in R"
   ]
  }
 ],
 "metadata": {
  "kernelspec": {
   "display_name": "dydaktyka",
   "language": "python",
   "name": "python3"
  },
  "language_info": {
   "codemirror_mode": {
    "name": "ipython",
    "version": 3
   },
   "file_extension": ".py",
   "mimetype": "text/x-python",
   "name": "python",
   "nbconvert_exporter": "python",
   "pygments_lexer": "ipython3",
   "version": "3.9.16"
  }
 },
 "nbformat": 4,
 "nbformat_minor": 2
}
