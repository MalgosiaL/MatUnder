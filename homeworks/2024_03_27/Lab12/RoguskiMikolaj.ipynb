{
 "cells": [
  {
   "cell_type": "code",
   "execution_count": 4,
   "metadata": {
    "ExecuteTime": {
     "end_time": "2024-03-27T11:42:31.823356873Z",
     "start_time": "2024-03-27T11:42:31.662455626Z"
    }
   },
   "outputs": [],
   "source": [
    "from sklearn.metrics import mutual_info_score\n",
    "#from sklearn.feature_selection import chi2\n",
    "from scipy.stats import chi2_contingency\n",
    "from scipy.stats import chi2\n",
    "import numpy as np\n",
    "import matplotlib.pyplot as plt\n",
    "from scipy.stats import gaussian_kde, pearsonr\n",
    "import seaborn as sns\n",
    "import pandas as pd"
   ]
  },
  {
   "cell_type": "markdown",
   "metadata": {},
   "source": [
    "# Mathematical Underpinnings - Lab 4"
   ]
  },
  {
   "cell_type": "markdown",
   "metadata": {},
   "source": [
    "Tests to verify hipoteses of independence (from Lab 4):"
   ]
  },
  {
   "cell_type": "code",
   "execution_count": 101,
   "metadata": {
    "ExecuteTime": {
     "end_time": "2024-03-27T12:42:42.391531319Z",
     "start_time": "2024-03-27T12:42:42.365834918Z"
    }
   },
   "outputs": [],
   "source": [
    "def indep_test_asymptotic(X, Y, stat):\n",
    "\n",
    "    if stat == \"mi\":\n",
    "\n",
    "        stat_value = 2*len(X)*mutual_info_score(X, Y)\n",
    "\n",
    "    if stat == \"chi2\":\n",
    "\n",
    "        test_res = (chi2_contingency(pd.crosstab(X, Y)))\n",
    "        stat_value = test_res.statistic\n",
    "\n",
    "    df = (len(np.unique(X)) - 1)*(len(np.unique(Y)) - 1)\n",
    "\n",
    "    p_value = 1 - chi2.cdf(stat_value, df=df)\n",
    "\n",
    "    return stat_value, p_value\n",
    "\n",
    "def indep_test_permutation(X, Y, B, stat=\"mi\"):\n",
    "\n",
    "    stat_value = mutual_info_score(X, Y)\n",
    "\n",
    "    condition_p_value = 0\n",
    "    for b in range(B):\n",
    "        X_b = np.random.permutation(X)\n",
    "\n",
    "        stat_value_b = mutual_info_score(X_b, Y)\n",
    "\n",
    "        if stat_value <= stat_value_b:\n",
    "            condition_p_value += 1\n",
    "\n",
    "    p_value = (1 + condition_p_value)/(1 + B)\n",
    "\n",
    "    return 2*len(X)*stat_value, p_value"
   ]
  },
  {
   "cell_type": "markdown",
   "metadata": {},
   "source": [
    "## Task 1"
   ]
  },
  {
   "cell_type": "code",
   "execution_count": 41,
   "metadata": {
    "ExecuteTime": {
     "end_time": "2024-03-27T11:54:40.457270868Z",
     "start_time": "2024-03-27T11:54:40.397773553Z"
    }
   },
   "outputs": [],
   "source": [
    "# a function which computes CMI\n",
    "def compute_cmi(x, y, z):\n",
    "    z_vals, counts = np.unique(z, return_counts=True)\n",
    "    probs = counts / np.sum(counts)\n",
    "    stat_value = 0\n",
    "    for p, z_ in zip(probs, z_vals):\n",
    "        index = ( z_ == z)\n",
    "        score = mutual_info_score(x[index], y[index])\n",
    "        stat_value += p * score\n",
    "    return stat_value\n",
    "\n"
   ]
  },
  {
   "cell_type": "markdown",
   "metadata": {},
   "source": [
    "### a)"
   ]
  },
  {
   "cell_type": "code",
   "execution_count": null,
   "metadata": {},
   "outputs": [],
   "source": [
    "# CI test based on CMI and asymptotics\n",
    "\n",
    "def asymptotic_conditional_independence_test(x, y, z, stat=\"cmi\"):\n",
    "    assert stat in [\"cmi\", \"chi2\"]\n",
    "    if stat == \"cmi\":\n",
    "        stat_value = compute_cmi(x, y, z)\n",
    "        stat_value *= 2*x.shape[0]\n",
    "        df = (len(np.unique(x)) - 1)*(len(np.unique(y)) - 1) * len(np.unique(z))\n",
    "    if stat == \"chi2\":\n",
    "        test_res = (chi2_contingency(pd.crosstab(x, y)))\n",
    "        stat_value = test_res.statistic\n",
    "\n",
    "        df = (len(np.unique(x)) - 1)*(len(np.unique(y)) - 1)\n",
    "    \n",
    "    p_value = 1 - chi2.cdf(stat_value, df=df) # noqa\n",
    "\n",
    "    return stat_value, p_value # noqa"
   ]
  },
  {
   "cell_type": "code",
   "outputs": [
    {
     "name": "stdout",
     "output_type": "stream",
     "text": [
      "pearson (97.06414913234596, 0.10771490195555178)\n",
      "cmi (132.06883999117926, 0.9590956896146202)\n"
     ]
    }
   ],
   "source": [
    "data = np.random.multivariate_normal(np.zeros(2), np.array([[1, 0], [0, 1]]), 1000)\n",
    "disc_data_x = np.digitize(data[:, 0], np.linspace(data[:,0].min(), data[:,0].max(), 10))\n",
    "disc_data_y = np.digitize(data[:, 1], np.linspace(data[:,1].min(), data[:,1].max(), 10))\n",
    "z = np.random.randint(0, 2, size=disc_data_x.shape)\n",
    "print(\"pearson\", asymptotic_conditional_independence_test(disc_data_x, disc_data_y, z, \"chi2\"))\n",
    "print(\"cmi\", asymptotic_conditional_independence_test(disc_data_x, disc_data_y, z, \"cmi\"))"
   ],
   "metadata": {
    "collapsed": false,
    "ExecuteTime": {
     "end_time": "2024-03-27T12:16:29.789971708Z",
     "start_time": "2024-03-27T12:16:29.748686649Z"
    }
   },
   "execution_count": 74
  },
  {
   "cell_type": "markdown",
   "metadata": {},
   "source": [
    "### b)"
   ]
  },
  {
   "cell_type": "code",
   "execution_count": 61,
   "metadata": {
    "ExecuteTime": {
     "end_time": "2024-03-27T12:03:37.569077079Z",
     "start_time": "2024-03-27T12:03:37.543786915Z"
    }
   },
   "outputs": [],
   "source": [
    "# CI test based on CMI and permutations\n",
    "\n",
    "def in_class_permutations(x, z):\n",
    "    y = x.copy()\n",
    "    z_vals = np.unique(z)\n",
    "    for z_ in z_vals:\n",
    "        y[z == z_] = np.random.permutation(y[z==z_])\n",
    "    return y\n",
    "\n",
    "\n",
    "\n",
    "def conditional_permutations_independence_test(x, y, z, b=100):\n",
    "    stat_value = compute_cmi(x, y, z)\n",
    "    ctx = 1\n",
    "    for b_ in range(b):\n",
    "        ctx += compute_cmi(in_class_permutations(x, z), y, z) >= stat_value\n",
    "    return 2* len(x)*stat_value, ctx / (1 + b)"
   ]
  },
  {
   "cell_type": "code",
   "outputs": [
    {
     "data": {
      "text/plain": "(140.64183215470132, 0.19801980198019803)"
     },
     "execution_count": 67,
     "metadata": {},
     "output_type": "execute_result"
    }
   ],
   "source": [
    "data = np.random.multivariate_normal(np.zeros(2), np.array([[1, 0], [0, 1]]), 1000)\n",
    "disc_data_x = np.digitize(data[:, 0], np.linspace(data[:,0].min(), data[:,0].max(), 10))\n",
    "disc_data_y = np.digitize(data[:, 1], np.linspace(data[:,1].min(), data[:,1].max(), 10))\n",
    "z = np.random.randint(0, 2, size=disc_data_x.shape)\n",
    "conditional_permutations_independence_test(disc_data_x, disc_data_y, z)"
   ],
   "metadata": {
    "collapsed": false,
    "ExecuteTime": {
     "end_time": "2024-03-27T12:03:50.353001570Z",
     "start_time": "2024-03-27T12:03:49.823558217Z"
    }
   },
   "execution_count": 67
  },
  {
   "cell_type": "markdown",
   "metadata": {},
   "source": [
    "### c)"
   ]
  },
  {
   "cell_type": "markdown",
   "metadata": {},
   "source": [
    "conditionaly independent"
   ]
  },
  {
   "cell_type": "code",
   "execution_count": 70,
   "metadata": {
    "ExecuteTime": {
     "end_time": "2024-03-27T12:07:39.802285705Z",
     "start_time": "2024-03-27T12:07:39.309602619Z"
    }
   },
   "outputs": [
    {
     "name": "stdout",
     "output_type": "stream",
     "text": [
      "perm (116.06752250114444, 0.8712871287128713)\n",
      "asymp (116.06752250114444, 0.9974835371385276)\n"
     ]
    }
   ],
   "source": [
    "data = np.random.multivariate_normal(np.zeros(2), np.array([[1, 0], [0, 1]]), 1000)\n",
    "disc_data_x = np.digitize(data[:, 0], np.linspace(data[:,0].min(), data[:,0].max(), 10))\n",
    "disc_data_y = np.digitize(data[:, 1], np.linspace(data[:,1].min(), data[:,1].max(), 10))\n",
    "z = np.random.randint(0, 2, size=disc_data_x.shape)\n",
    "print(\"perm\", conditional_permutations_independence_test(disc_data_x, disc_data_y, z))\n",
    "print(\"asymp\", asymptotic_conditional_independence_test(disc_data_x, disc_data_y, z, \"cmi\"))"
   ]
  },
  {
   "cell_type": "markdown",
   "metadata": {},
   "source": [
    "conditionaly dependent"
   ]
  },
  {
   "cell_type": "code",
   "execution_count": 69,
   "metadata": {
    "ExecuteTime": {
     "end_time": "2024-03-27T12:07:22.804056034Z",
     "start_time": "2024-03-27T12:07:22.348610115Z"
    }
   },
   "outputs": [
    {
     "name": "stdout",
     "output_type": "stream",
     "text": [
      "perm (1347.7498732479448, 0.009900990099009901)\n",
      "asymp (1347.7498732479448, 0.0)\n"
     ]
    }
   ],
   "source": [
    "data = np.random.multivariate_normal(np.zeros(2), np.array([[1, 0], [0, 1]]), 1000)\n",
    "data[500:, :] = np.random.multivariate_normal(np.zeros(2), np.array([[1,1], [1,1]]), 500)\n",
    "disc_data_x = np.digitize(data[:, 0], np.linspace(data[:,0].min(), data[:,0].max(), 10))\n",
    "disc_data_y = np.digitize(data[:, 1], np.linspace(data[:,1].min(), data[:,1].max(), 10))\n",
    "z = np.zeros(1000)\n",
    "z[500:] = np.ones(500)\n",
    "print(\"perm\", conditional_permutations_independence_test(disc_data_x, disc_data_y, z))\n",
    "print(\"asymp\", asymptotic_conditional_independence_test(disc_data_x, disc_data_y, z, \"cmi\"))"
   ]
  },
  {
   "cell_type": "markdown",
   "metadata": {},
   "source": [
    "## Task 2"
   ]
  },
  {
   "cell_type": "code",
   "execution_count": 80,
   "metadata": {
    "ExecuteTime": {
     "end_time": "2024-03-27T12:33:29.279657448Z",
     "start_time": "2024-03-27T12:33:29.222777430Z"
    }
   },
   "outputs": [],
   "source": [
    "def sample_from_model1():\n",
    "    z_tilde = np.random.normal(0, 1, 1000)\n",
    "    z = np.where(z_tilde, -1, 1)\n",
    "    x_tilde = np.zeros(1000, float)\n",
    "    x_tilde[z==-1] = np.random.normal(-.5, 1, sum(z==-1))\n",
    "    x_tilde[z==1] = np.random.normal(.5, 1, sum(z==1))\n",
    "    y_tilde = np.zeros(1000, float)\n",
    "    y_tilde[z==-1] = np.random.normal(-.5, 1, sum(z==-1))\n",
    "    y_tilde[z==1] = np.random.normal(.5, 1, sum(z==1))\n",
    "    x = np.where(x_tilde < 0, -1, 1)\n",
    "    y = np.where(y_tilde < 0, -1, 1)\n",
    "    return x, y, z\n",
    "\n",
    "\n",
    "def sample_from_model2():\n",
    "    x_tilde = np.random.normal(0, 1, 1000)\n",
    "    x = np.where(x_tilde < 0, -1, 1)\n",
    "    z_tilde = np.zeros(1000, float)\n",
    "    z_tilde[x == -1] = np.random.normal(-.5, 1, sum(x==-1))\n",
    "    z_tilde[ x == 1] = np.random.normal(.5, 1, sum(x==1))\n",
    "    z = np.where(z_tilde < 0, -1, 1)\n",
    "    y_tilde = np.zeros(1000, float)\n",
    "    y_tilde[z == -1] = np.random.normal(-.5, 1, sum(z==-1))\n",
    "    y_tilde[ z == 1] = np.random.normal(.5, 1, sum(z==1))\n",
    "    y = np.where(y_tilde < 0, -1, 1)\n",
    "    return x, y, z\n",
    "\n",
    "\n",
    "def sample_from_model3():\n",
    "    x_tilde = np.random.normal(0, 1, 1000)\n",
    "    y_tilde = np.random.normal(0, 1, 1000)\n",
    "    x = np.where(x_tilde < 0, -1, 1)\n",
    "    y = np.where(y_tilde < 0, -1, 1)\n",
    "    z_tilde = np.zeros(1000, float)\n",
    "    z_tilde[x+y == -2] = np.random.normal(-1, 1, sum(x+y==-2))\n",
    "    z_tilde[x+y == 0] = np.random.normal(0, 1, sum(x+y==0))\n",
    "    z_tilde[x+y == 2] = np.random.normal(1, 1, sum(x+y==2))\n",
    "    z = np.where(z_tilde < 0, -1, 1)\n",
    "    return x, y, z"
   ]
  },
  {
   "cell_type": "markdown",
   "metadata": {},
   "source": [
    "### a)\n"
   ]
  },
  {
   "cell_type": "code",
   "outputs": [
    {
     "name": "stdout",
     "output_type": "stream",
     "text": [
      "perm1 (0.26093554671091646, 0.7029702970297029)\n",
      "asymp1 (0.26093554671091646, 0.6094781490819117)\n",
      "perm2 (1.207727952417956, 0.5742574257425742)\n",
      "asymp2 (1.207727952417956, 0.5466951326817019)\n",
      "perm3 (14.839995871596656, 0.009900990099009901)\n",
      "asymp3 (14.839995871596656, 0.0005991503822802002)\n"
     ]
    }
   ],
   "source": [
    "x, y, z = sample_from_model1()\n",
    "print(\"perm1\", conditional_permutations_independence_test(x, y, z, b=100))\n",
    "print(\"asymp1\", asymptotic_conditional_independence_test(x, y, z, \"cmi\"))\n",
    "\n",
    "x, y, z = sample_from_model2()\n",
    "print(\"perm2\", conditional_permutations_independence_test(x, y, z, b=100))\n",
    "print(\"asymp2\", asymptotic_conditional_independence_test(x, y, z, \"cmi\"))\n",
    "\n",
    "x, y, z = sample_from_model3()\n",
    "print(\"perm3\", conditional_permutations_independence_test(x, y, z, b=100))\n",
    "print(\"asymp3\", asymptotic_conditional_independence_test(x, y, z, \"cmi\"))"
   ],
   "metadata": {
    "collapsed": false,
    "ExecuteTime": {
     "end_time": "2024-03-27T12:40:53.235955205Z",
     "start_time": "2024-03-27T12:40:52.072055952Z"
    }
   },
   "execution_count": 99
  },
  {
   "cell_type": "code",
   "outputs": [
    {
     "name": "stdout",
     "output_type": "stream",
     "text": [
      "perm1 (0.1869848076032632, 0.7227722772277227)\n"
     ]
    },
    {
     "ename": "UnboundLocalError",
     "evalue": "cannot access local variable 'stat_value' where it is not associated with a value",
     "output_type": "error",
     "traceback": [
      "\u001B[0;31m---------------------------------------------------------------------------\u001B[0m",
      "\u001B[0;31mUnboundLocalError\u001B[0m                         Traceback (most recent call last)",
      "Cell \u001B[0;32mIn[102], line 3\u001B[0m\n\u001B[1;32m      1\u001B[0m x, y, z \u001B[38;5;241m=\u001B[39m sample_from_model1()\n\u001B[1;32m      2\u001B[0m \u001B[38;5;28mprint\u001B[39m(\u001B[38;5;124m\"\u001B[39m\u001B[38;5;124mperm1\u001B[39m\u001B[38;5;124m\"\u001B[39m, indep_test_permutation(x, y, \u001B[38;5;241m100\u001B[39m))\n\u001B[0;32m----> 3\u001B[0m \u001B[38;5;28mprint\u001B[39m(\u001B[38;5;124m\"\u001B[39m\u001B[38;5;124masymp1\u001B[39m\u001B[38;5;124m\"\u001B[39m, \u001B[43mindep_test_asymptotic\u001B[49m\u001B[43m(\u001B[49m\u001B[43mx\u001B[49m\u001B[43m,\u001B[49m\u001B[43m \u001B[49m\u001B[43my\u001B[49m\u001B[43m,\u001B[49m\u001B[43m \u001B[49m\u001B[38;5;124;43m\"\u001B[39;49m\u001B[38;5;124;43mcmi\u001B[39;49m\u001B[38;5;124;43m\"\u001B[39;49m\u001B[43m)\u001B[49m)\n\u001B[1;32m      5\u001B[0m x, y, z \u001B[38;5;241m=\u001B[39m sample_from_model2()\n\u001B[1;32m      6\u001B[0m \u001B[38;5;28mprint\u001B[39m(\u001B[38;5;124m\"\u001B[39m\u001B[38;5;124mperm1\u001B[39m\u001B[38;5;124m\"\u001B[39m, indep_test_permutation(x, y, \u001B[38;5;241m100\u001B[39m))\n",
      "Cell \u001B[0;32mIn[101], line 14\u001B[0m, in \u001B[0;36mindep_test_asymptotic\u001B[0;34m(X, Y, stat)\u001B[0m\n\u001B[1;32m     10\u001B[0m     stat_value \u001B[38;5;241m=\u001B[39m test_res\u001B[38;5;241m.\u001B[39mstatistic\n\u001B[1;32m     12\u001B[0m df \u001B[38;5;241m=\u001B[39m (\u001B[38;5;28mlen\u001B[39m(np\u001B[38;5;241m.\u001B[39munique(X)) \u001B[38;5;241m-\u001B[39m \u001B[38;5;241m1\u001B[39m)\u001B[38;5;241m*\u001B[39m(\u001B[38;5;28mlen\u001B[39m(np\u001B[38;5;241m.\u001B[39munique(Y)) \u001B[38;5;241m-\u001B[39m \u001B[38;5;241m1\u001B[39m)\n\u001B[0;32m---> 14\u001B[0m p_value \u001B[38;5;241m=\u001B[39m \u001B[38;5;241m1\u001B[39m \u001B[38;5;241m-\u001B[39m chi2\u001B[38;5;241m.\u001B[39mcdf(\u001B[43mstat_value\u001B[49m, df\u001B[38;5;241m=\u001B[39mdf)\n\u001B[1;32m     16\u001B[0m \u001B[38;5;28;01mreturn\u001B[39;00m stat_value, p_value\n",
      "\u001B[0;31mUnboundLocalError\u001B[0m: cannot access local variable 'stat_value' where it is not associated with a value"
     ]
    }
   ],
   "source": [
    "x, y, z = sample_from_model1()\n",
    "print(\"perm1\", indep_test_permutation(x, y, 100))\n",
    "print(\"asymp1\", indep_test_asymptotic(x, y, \"cmi\"))\n",
    "\n",
    "x, y, z = sample_from_model2()\n",
    "print(\"perm1\", indep_test_permutation(x, y, 100))\n",
    "print(\"asymp1\", indep_test_asymptotic(x, y, \"cmi\"))\n",
    "\n",
    "x, y, z = sample_from_model3()\n",
    "print(\"perm1\", indep_test_permutation(x, y, 100))\n",
    "print(\"asymp1\", indep_test_asymptotic(x, y, \"cmi\"))\n"
   ],
   "metadata": {
    "collapsed": false,
    "ExecuteTime": {
     "end_time": "2024-03-27T12:42:46.080562061Z",
     "start_time": "2024-03-27T12:42:45.822883323Z"
    }
   },
   "execution_count": 102
  },
  {
   "cell_type": "markdown",
   "metadata": {},
   "source": [
    "answer:"
   ]
  },
  {
   "cell_type": "markdown",
   "metadata": {},
   "source": [
    "### b)"
   ]
  },
  {
   "cell_type": "code",
   "execution_count": null,
   "metadata": {},
   "outputs": [],
   "source": []
  },
  {
   "cell_type": "markdown",
   "metadata": {},
   "source": [
    "### c)"
   ]
  },
  {
   "cell_type": "code",
   "execution_count": null,
   "metadata": {},
   "outputs": [],
   "source": []
  }
 ],
 "metadata": {
  "kernelspec": {
   "display_name": "dydaktyka",
   "language": "python",
   "name": "python3"
  },
  "language_info": {
   "codemirror_mode": {
    "name": "ipython",
    "version": 3
   },
   "file_extension": ".py",
   "mimetype": "text/x-python",
   "name": "python",
   "nbconvert_exporter": "python",
   "pygments_lexer": "ipython3",
   "version": "3.9.16"
  }
 },
 "nbformat": 4,
 "nbformat_minor": 2
}
