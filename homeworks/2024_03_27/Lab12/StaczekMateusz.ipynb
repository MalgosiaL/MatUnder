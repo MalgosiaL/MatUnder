{
 "cells": [
  {
   "cell_type": "code",
   "execution_count": 1,
   "metadata": {},
   "outputs": [],
   "source": [
    "from sklearn.metrics import mutual_info_score\n",
    "#from sklearn.feature_selection import chi2\n",
    "from scipy.stats import chi2_contingency\n",
    "from scipy.stats import chi2\n",
    "import numpy as np\n",
    "import matplotlib.pyplot as plt\n",
    "from scipy.stats import gaussian_kde, pearsonr\n",
    "import seaborn as sns\n",
    "import pandas as pd"
   ]
  },
  {
   "cell_type": "markdown",
   "metadata": {},
   "source": [
    "# Mathematical Underpinnings - Lab ~~4~~ 5"
   ]
  },
  {
   "cell_type": "markdown",
   "metadata": {},
   "source": [
    "Tests to verify hipoteses of independence (from Lab 4):"
   ]
  },
  {
   "cell_type": "code",
   "execution_count": 2,
   "metadata": {},
   "outputs": [],
   "source": [
    "def indep_test_asymptotic(X, Y, stat):\n",
    "\n",
    "    if stat == \"mi\":\n",
    "\n",
    "        stat_value = 2*len(X)*mutual_info_score(X, Y)\n",
    "\n",
    "    if stat == \"chi2\":\n",
    "\n",
    "        test_res = (chi2_contingency(pd.crosstab(X, Y)))\n",
    "        stat_value = test_res.statistic\n",
    "\n",
    "    df = (len(np.unique(X)) - 1)*(len(np.unique(Y)) - 1)\n",
    "\n",
    "    p_value = 1 - chi2.cdf(stat_value, df=df)\n",
    "\n",
    "    return stat_value, p_value\n",
    "\n",
    "def indep_test_permutation(X, Y, B, stat=\"mi\"):\n",
    "\n",
    "    stat_value = mutual_info_score(X, Y)\n",
    "\n",
    "    condition_p_value = 0\n",
    "    for b in range(B):\n",
    "        X_b = np.random.permutation(X)\n",
    "\n",
    "        stat_value_b = mutual_info_score(X_b, Y)\n",
    "\n",
    "        if stat_value <= stat_value_b:\n",
    "            condition_p_value += 1\n",
    "\n",
    "    p_value = (1 + condition_p_value)/(1 + B)\n",
    "\n",
    "    return 2*len(X)*stat_value, p_value"
   ]
  },
  {
   "cell_type": "markdown",
   "metadata": {},
   "source": [
    "## Task 1"
   ]
  },
  {
   "cell_type": "code",
   "execution_count": 3,
   "metadata": {},
   "outputs": [],
   "source": [
    "# a function which computes CMI"
   ]
  },
  {
   "cell_type": "code",
   "execution_count": 67,
   "metadata": {},
   "outputs": [
    {
     "data": {
      "text/plain": [
       "0.34657359027997264"
      ]
     },
     "execution_count": 67,
     "metadata": {},
     "output_type": "execute_result"
    }
   ],
   "source": [
    "CMI = lambda X, Y, Z: np.sum([mutual_info_score(X[Z == z], Y[Z == z]) * np.mean(Z == z) for z in np.unique(Z)])\n",
    "\n",
    "# example\n",
    "X = np.array([1, 2, 3, 4])\n",
    "Y = np.array([1, 2, 3, 3])\n",
    "Z = np.array([1, 1, 2, 2])\n",
    "\n",
    "CMI(X, Y, Z)"
   ]
  },
  {
   "cell_type": "markdown",
   "metadata": {},
   "source": [
    "### a)"
   ]
  },
  {
   "cell_type": "code",
   "execution_count": null,
   "metadata": {},
   "outputs": [],
   "source": [
    "# CI test based on CMI and asymptotics"
   ]
  },
  {
   "cell_type": "code",
   "execution_count": 69,
   "metadata": {},
   "outputs": [],
   "source": [
    "def asymptotic_conditional_independence_test(X, Y, Z):\n",
    "    # stat = \"cmi\"\n",
    "    stat_value_2nCMI = 2 * len(X) * CMI(X, Y, Z)\n",
    "    deg_of_freedom = (len(np.unique(X))-1) * (len(np.unique(Y))-1) * len(np.unique(Z))\n",
    "    p_value = 1 - chi2.cdf(stat_value_2nCMI, df=deg_of_freedom)\n",
    "    return stat_value_2nCMI, p_value"
   ]
  },
  {
   "cell_type": "markdown",
   "metadata": {},
   "source": [
    "### b)"
   ]
  },
  {
   "cell_type": "code",
   "execution_count": 70,
   "metadata": {},
   "outputs": [],
   "source": [
    "# CI test based on CMI and permutations"
   ]
  },
  {
   "cell_type": "code",
   "execution_count": 75,
   "metadata": {},
   "outputs": [],
   "source": [
    "def conditional_permutations_of_X(X, Y, Z, B):\n",
    "    # B - number of permutations\n",
    "    cmi_original = CMI(X, Y, Z)\n",
    "    stat_value_2nCMI = 2 * len(X) * cmi_original\n",
    "    cmi_original_smaller_than_cmi_permuted_counter = 0\n",
    "    for _ in range(B):\n",
    "        # for each unique z in Z, permute X separately\n",
    "        X_b = X.copy() \n",
    "        for z in np.unique(Z):\n",
    "            X_b[Z == z] = np.random.permutation(X[Z == z])\n",
    "\n",
    "        cmi_permuted = CMI(X_b, Y, Z)\n",
    "        cmi_original_smaller_than_cmi_permuted_counter += cmi_original <= cmi_permuted\n",
    "            \n",
    "    p_value = (1 + cmi_original_smaller_than_cmi_permuted_counter) / (1 + B)\n",
    "    return stat_value_2nCMI, p_value"
   ]
  },
  {
   "cell_type": "markdown",
   "metadata": {},
   "source": [
    "### c)"
   ]
  },
  {
   "cell_type": "code",
   "execution_count": 80,
   "metadata": {},
   "outputs": [],
   "source": [
    "N = 1000"
   ]
  },
  {
   "cell_type": "markdown",
   "metadata": {},
   "source": [
    "conditionaly independent"
   ]
  },
  {
   "cell_type": "code",
   "execution_count": 120,
   "metadata": {},
   "outputs": [
    {
     "name": "stdout",
     "output_type": "stream",
     "text": [
      "Conditional Mutual Information: 0.05\n",
      "Permutation: \n",
      "\tstatistic value - 93.5, \n",
      "\tp-value \t- 0.970\n",
      "Aymptotic: \n",
      "\tstatistic value - 93.5, \n",
      "\tp-value \t- 1.000\n"
     ]
    }
   ],
   "source": [
    "X = np.round(np.random.normal(0, 1, N))\n",
    "Y = np.round(np.random.normal(0, 1, N))\n",
    "Z = np.random.choice([1,2,3,4], N)\n",
    "\n",
    "test_perm_results = conditional_permutations_of_X(X, Y, Z, B=100)\n",
    "test_asymptotic_results = asymptotic_conditional_independence_test(X, Y, Z)\n",
    "\n",
    "print(f\"Conditional Mutual Information: {CMI(X,Y,Z):.2f}\")\n",
    "print(f\"Permutation: \\n\\tstatistic value - {test_perm_results[0]:.1f}, \\n\\tp-value \\t- {test_perm_results[1]:.3f}\")\n",
    "print(f\"Aymptotic: \\n\\tstatistic value - {test_asymptotic_results[0]:.1f}, \\n\\tp-value \\t- {test_asymptotic_results[1]:.3f}\")"
   ]
  },
  {
   "cell_type": "markdown",
   "metadata": {},
   "source": [
    "conditionaly dependent"
   ]
  },
  {
   "cell_type": "code",
   "execution_count": 123,
   "metadata": {},
   "outputs": [
    {
     "name": "stdout",
     "output_type": "stream",
     "text": [
      "Conditional Mutual Information: 0.68\n",
      "Permutation: \n",
      "\tstatistic value - 1364.9, \n",
      "\tp-value \t- 0.010\n",
      "Aymptotic: \n",
      "\tstatistic value - 1364.9, \n",
      "\tp-value \t- 0.000\n"
     ]
    }
   ],
   "source": [
    "X = np.round(np.random.normal(0, 1, N))\n",
    "Z = np.random.choice([1,2,3,4], N)\n",
    "Y = X * (Z > 2)\n",
    "\n",
    "test_perm_results = conditional_permutations_of_X(X, Y, Z, B=100)\n",
    "test_asymptotic_results = asymptotic_conditional_independence_test(X, Y, Z)\n",
    "\n",
    "print(f\"Conditional Mutual Information: {CMI(X,Y,Z):.2f}\")\n",
    "print(f\"Permutation: \\n\\tstatistic value - {test_perm_results[0]:.1f}, \\n\\tp-value \\t- {test_perm_results[1]:.3f}\")\n",
    "print(f\"Aymptotic: \\n\\tstatistic value - {test_asymptotic_results[0]:.1f}, \\n\\tp-value \\t- {test_asymptotic_results[1]:.3f}\")"
   ]
  },
  {
   "cell_type": "markdown",
   "metadata": {},
   "source": [
    "## Task 2"
   ]
  },
  {
   "cell_type": "code",
   "execution_count": 191,
   "metadata": {},
   "outputs": [],
   "source": [
    "def sample_from_model1(N):\n",
    "    Z_tilde = np.random.normal(0, 1, N)\n",
    "    Z = np.where(Z_tilde < 0, -1, 1)\n",
    "    X_tilde = np.array([np.random.normal(z/2, 1) for z in Z])\n",
    "    X = np.where(X_tilde < 0, -1, 1)\n",
    "    Y_tilde = np.array([np.random.normal(z/2, 1) for z in Z])\n",
    "    Y = np.where(Y_tilde < 0, -1, 1)\n",
    "    return X, Y, Z\n",
    "\n",
    "def sample_from_model2(N):\n",
    "    X_tilde = np.random.normal(0, 1, N)\n",
    "    X = np.where(X_tilde < 0, -1, 1)\n",
    "    Z_tilde = np.array([np.random.normal(x/2, 1) for x in X])\n",
    "    Z = np.where(Z_tilde < 0, -1, 1)\n",
    "    Y_tilde = np.array([np.random.normal(z/2, 1) for z in Z])\n",
    "    Y = np.where(Y_tilde < 0, -1, 1)\n",
    "    return X, Y, Z\n",
    "\n",
    "def sample_from_model3(N):\n",
    "    X_tilde = np.random.normal(0, 1, N)\n",
    "    X = np.where(X_tilde < 0, -1, 1)\n",
    "    Y_tilde = np.random.normal(0, 1, N)\n",
    "    Y = np.where(Y_tilde < 0, -1, 1)\n",
    "    Z_tilde = np.array([np.random.normal((x+y)/2, 1) for x, y in zip(X, Y)])\n",
    "    Z = np.where(Z_tilde < 0, -1, 1)\n",
    "    return X, Y, Z"
   ]
  },
  {
   "cell_type": "markdown",
   "metadata": {},
   "source": [
    "### a)"
   ]
  },
  {
   "cell_type": "markdown",
   "metadata": {},
   "source": [
    "Answer:\n",
    "1. X and Y are not independent, but independent conditionally on Z,\n",
    "2. X and Y are not independent, but independent conditionally on Z,\n",
    "3. X and Y are independent, but dependent conditionally on Z,"
   ]
  },
  {
   "cell_type": "markdown",
   "metadata": {},
   "source": [
    "### b)"
   ]
  },
  {
   "cell_type": "code",
   "execution_count": 206,
   "metadata": {},
   "outputs": [
    {
     "data": {
      "text/html": [
       "<div>\n",
       "<style scoped>\n",
       "    .dataframe tbody tr th:only-of-type {\n",
       "        vertical-align: middle;\n",
       "    }\n",
       "\n",
       "    .dataframe tbody tr th {\n",
       "        vertical-align: top;\n",
       "    }\n",
       "\n",
       "    .dataframe thead th {\n",
       "        text-align: right;\n",
       "    }\n",
       "</style>\n",
       "<table border=\"1\" class=\"dataframe\">\n",
       "  <thead>\n",
       "    <tr style=\"text-align: right;\">\n",
       "      <th></th>\n",
       "      <th>Model Name 1</th>\n",
       "      <th>MI_XY</th>\n",
       "      <th>CMI_XY|Z</th>\n",
       "    </tr>\n",
       "  </thead>\n",
       "  <tbody>\n",
       "    <tr>\n",
       "      <th>0</th>\n",
       "      <td>Model 1</td>\n",
       "      <td>0.012270</td>\n",
       "      <td>0.000030</td>\n",
       "    </tr>\n",
       "    <tr>\n",
       "      <th>1</th>\n",
       "      <td>Model 2</td>\n",
       "      <td>0.011172</td>\n",
       "      <td>0.000002</td>\n",
       "    </tr>\n",
       "    <tr>\n",
       "      <th>2</th>\n",
       "      <td>Model 3</td>\n",
       "      <td>0.000009</td>\n",
       "      <td>0.009415</td>\n",
       "    </tr>\n",
       "  </tbody>\n",
       "</table>\n",
       "</div>"
      ],
      "text/plain": [
       "  Model Name 1     MI_XY  CMI_XY|Z\n",
       "0      Model 1  0.012270  0.000030\n",
       "1      Model 2  0.011172  0.000002\n",
       "2      Model 3  0.000009  0.009415"
      ]
     },
     "execution_count": 206,
     "metadata": {},
     "output_type": "execute_result"
    }
   ],
   "source": [
    "N = 10000\n",
    "\n",
    "data_model_1 = sample_from_model1(N)\n",
    "data_model_2 = sample_from_model2(N)\n",
    "data_model_3 = sample_from_model3(N)\n",
    "\n",
    "fsinierivbsoervbaoiweucv = {\n",
    "    \"Model 1\": data_model_1,\n",
    "    \"Model 2\": data_model_2,\n",
    "    \"Model 3\": data_model_3\n",
    "}\n",
    "\n",
    "results = []\n",
    "\n",
    "for key, data in fsinierivbsoervbaoiweucv.items():\n",
    "    results.append({\"Model Name 1\": key,\n",
    "                    \"MI_XY\": mutual_info_score(*data[:2]),\n",
    "                    \"CMI_XY|Z\": CMI(*data)})\n",
    "\n",
    "pd.DataFrame(results)"
   ]
  },
  {
   "cell_type": "markdown",
   "metadata": {},
   "source": [
    "### c)"
   ]
  },
  {
   "cell_type": "code",
   "execution_count": 209,
   "metadata": {},
   "outputs": [
    {
     "name": "stdout",
     "output_type": "stream",
     "text": [
      "------------------------\n",
      "---Independence tests---\n",
      "------------------------\n",
      "Asymptotic test - MI\n",
      "Model 1: (245.40966072216008, 0.0)\n",
      "Model 2: (223.44187719507192, 0.0)\n",
      "Model 3: (0.18954073622623469, 0.6632991338938383)\n",
      "\n",
      "Asymptotic test - Pearson\n",
      "Model 1: (243.78260924612175, 0.0)\n",
      "Model 2: (222.0120899399622, 0.0)\n",
      "Model 3: (0.1725226731070022, 0.6778794912181693)\n",
      "\n",
      "Permutation tests - MI\n",
      "Model 1: (245.40966072216008, 0.009900990099009901)\n",
      "Model 2: (223.44187719507192, 0.009900990099009901)\n",
      "Model 3: (0.18954073622623469, 0.7326732673267327)\n",
      "------------------------\n",
      "---Conditional Independence tests---\n",
      "------------------------\n",
      "Asymptotic test - CMI\n",
      "Model 1: (0.6038747726433833, 0.7393843590145955)\n",
      "Model 2: (0.047500670249780996, 0.9765294844374284)\n",
      "Model 3: (188.29695298548756, 0.0)\n",
      "\n",
      "Permutation tests - CMI\n",
      "Model 1: (0.6038747726433833, 0.7128712871287128)\n",
      "Model 2: (0.047500670249780996, 0.9801980198019802)\n",
      "Model 3: (188.29695298548756, 0.009900990099009901)\n"
     ]
    }
   ],
   "source": [
    "print(\"------------------------\\n---Independence tests---\\n------------------------\")\n",
    "print(\"Asymptotic test - MI\")\n",
    "print(f\"Model 1: {indep_test_asymptotic(*data_model_1[:2], 'mi')}\")\n",
    "print(f\"Model 2: {indep_test_asymptotic(*data_model_2[:2], 'mi')}\")\n",
    "print(f\"Model 3: {indep_test_asymptotic(*data_model_3[:2], 'mi')}\")\n",
    "print(\"\\nAsymptotic test - Pearson\")\n",
    "print(f\"Model 1: {indep_test_asymptotic(*data_model_1[:2], 'chi2')}\")\n",
    "print(f\"Model 2: {indep_test_asymptotic(*data_model_2[:2], 'chi2')}\")\n",
    "print(f\"Model 3: {indep_test_asymptotic(*data_model_3[:2], 'chi2')}\")\n",
    "print(\"\\nPermutation tests - MI\")\n",
    "print(f\"Model 1: {indep_test_permutation(*data_model_1[:2], 100)}\")\n",
    "print(f\"Model 2: {indep_test_permutation(*data_model_2[:2], 100)}\")\n",
    "print(f\"Model 3: {indep_test_permutation(*data_model_3[:2], 100)}\")\n",
    "\n",
    "print(\"------------------------\\n---Conditional Independence tests---\\n------------------------\")\n",
    "print(\"Asymptotic test - CMI\")\n",
    "print(f\"Model 1: {asymptotic_conditional_independence_test(*data_model_1)}\")\n",
    "print(f\"Model 2: {asymptotic_conditional_independence_test(*data_model_2)}\")\n",
    "print(f\"Model 3: {asymptotic_conditional_independence_test(*data_model_3)}\")\n",
    "print(\"\\nPermutation tests - CMI\")\n",
    "print(f\"Model 1: {conditional_permutations_of_X(*data_model_1, 100)}\")\n",
    "print(f\"Model 2: {conditional_permutations_of_X(*data_model_2, 100)}\")\n",
    "print(f\"Model 3: {conditional_permutations_of_X(*data_model_3, 100)}\")"
   ]
  },
  {
   "cell_type": "markdown",
   "metadata": {},
   "source": [
    "Based on p-values:\n",
    "- In models 1 and 2: X and Y are not independent, but are independent conditionally on Z,\n",
    "- In model 3: X and Y are independent, but dependent conditionally on Z.\n",
    "\n",
    "Different tests point to the same conclusions."
   ]
  },
  {
   "cell_type": "markdown",
   "metadata": {},
   "source": [
    "### d) *"
   ]
  },
  {
   "cell_type": "code",
   "execution_count": 217,
   "metadata": {},
   "outputs": [],
   "source": [
    "def sample_from_model1_d(N):\n",
    "    Z_tilde = np.random.normal(0, 1, N)\n",
    "    X_tilde = np.array([np.random.normal(z_tilde/2, 1) for z_tilde in Z_tilde])\n",
    "    Y_tilde = np.array([np.random.normal(z_tilde/2, 1) for z_tilde in Z_tilde])\n",
    "    Z = np.where(Z_tilde < 0, -1, 1)\n",
    "    X = np.where(X_tilde < 0, -1, 1)\n",
    "    Y = np.where(Y_tilde < 0, -1, 1)\n",
    "    return X, Y, Z\n",
    "\n",
    "def sample_from_model2_d(N):\n",
    "    X_tilde = np.random.normal(0, 1, N)\n",
    "    Z_tilde = np.array([np.random.normal(x_tilde/2, 1) for x_tilde in X_tilde])\n",
    "    Y_tilde = np.array([np.random.normal(z_tilde/2, 1) for z_tilde in Z_tilde])\n",
    "    X = np.where(X_tilde < 0, -1, 1)\n",
    "    Z = np.where(Z_tilde < 0, -1, 1)\n",
    "    Y = np.where(Y_tilde < 0, -1, 1)\n",
    "    return X, Y, Z\n",
    "\n",
    "def sample_from_model3_d(N):\n",
    "    X_tilde = np.random.normal(0, 1, N)\n",
    "    Y_tilde = np.random.normal(0, 1, N)\n",
    "    Z_tilde = np.array([np.random.normal((x_tilde+y_tilde)/2, 1) for x_tilde, y_tilde in zip(X_tilde, Y_tilde)])\n",
    "    X = np.where(X_tilde < 0, -1, 1)\n",
    "    Y = np.where(Y_tilde < 0, -1, 1)\n",
    "    Z = np.where(Z_tilde < 0, -1, 1)\n",
    "    return X, Y, Z"
   ]
  },
  {
   "cell_type": "code",
   "execution_count": 236,
   "metadata": {},
   "outputs": [
    {
     "data": {
      "text/html": [
       "<div>\n",
       "<style scoped>\n",
       "    .dataframe tbody tr th:only-of-type {\n",
       "        vertical-align: middle;\n",
       "    }\n",
       "\n",
       "    .dataframe tbody tr th {\n",
       "        vertical-align: top;\n",
       "    }\n",
       "\n",
       "    .dataframe thead th {\n",
       "        text-align: right;\n",
       "    }\n",
       "</style>\n",
       "<table border=\"1\" class=\"dataframe\">\n",
       "  <thead>\n",
       "    <tr style=\"text-align: right;\">\n",
       "      <th></th>\n",
       "      <th>Model Name 1</th>\n",
       "      <th>MI_XY</th>\n",
       "      <th>CMI_XY|Z</th>\n",
       "    </tr>\n",
       "  </thead>\n",
       "  <tbody>\n",
       "    <tr>\n",
       "      <th>0</th>\n",
       "      <td>Model 1</td>\n",
       "      <td>0.006082</td>\n",
       "      <td>0.000554</td>\n",
       "    </tr>\n",
       "    <tr>\n",
       "      <th>1</th>\n",
       "      <td>Model 2</td>\n",
       "      <td>0.008973</td>\n",
       "      <td>0.000740</td>\n",
       "    </tr>\n",
       "    <tr>\n",
       "      <th>2</th>\n",
       "      <td>Model 3</td>\n",
       "      <td>0.000027</td>\n",
       "      <td>0.003668</td>\n",
       "    </tr>\n",
       "  </tbody>\n",
       "</table>\n",
       "</div>"
      ],
      "text/plain": [
       "  Model Name 1     MI_XY  CMI_XY|Z\n",
       "0      Model 1  0.006082  0.000554\n",
       "1      Model 2  0.008973  0.000740\n",
       "2      Model 3  0.000027  0.003668"
      ]
     },
     "execution_count": 236,
     "metadata": {},
     "output_type": "execute_result"
    }
   ],
   "source": [
    "N = 10000\n",
    "\n",
    "data_model_1_d = sample_from_model1_d(N)\n",
    "data_model_2_d = sample_from_model2_d(N)\n",
    "data_model_3_d = sample_from_model3_d(N)\n",
    "\n",
    "fsinierivbsoervbaoiweucv_d = {\n",
    "    \"Model 1\": data_model_1_d,\n",
    "    \"Model 2\": data_model_2_d,\n",
    "    \"Model 3\": data_model_3_d\n",
    "}\n",
    "\n",
    "results_d = []\n",
    "\n",
    "for key, data in fsinierivbsoervbaoiweucv_d.items():\n",
    "    results_d.append({\"Model Name 1\": key,\n",
    "                    \"MI_XY\": mutual_info_score(*data[:2]),\n",
    "                    \"CMI_XY|Z\": CMI(*data)})\n",
    "\n",
    "pd.DataFrame(results_d)"
   ]
  },
  {
   "cell_type": "code",
   "execution_count": 238,
   "metadata": {},
   "outputs": [
    {
     "name": "stdout",
     "output_type": "stream",
     "text": [
      "------------------------\n",
      "---Independence tests---\n",
      "------------------------\n",
      "Asymptotic test - MI\n",
      "Model 1: (121.64280410902117, 0.0)\n",
      "Model 2: (179.46374380909847, 0.0)\n",
      "Model 3: (0.5454932336257379, 0.4601650260715868)\n",
      "\n",
      "Asymptotic test - Pearson\n",
      "Model 1: (120.95598077394999, 0.0)\n",
      "Model 2: (178.3927267199013, 0.0)\n",
      "Model 3: (0.5163450171872781, 0.47240497166465745)\n",
      "\n",
      "Permutation tests - MI\n",
      "Model 1: (121.64280410902117, 0.009900990099009901)\n",
      "Model 2: (179.46374380909847, 0.009900990099009901)\n",
      "Model 3: (0.5454932336257379, 0.49504950495049505)\n",
      "------------------------\n",
      "---Conditional Independence tests---\n",
      "------------------------\n",
      "Asymptotic test - CMI\n",
      "Model 1: (11.084930588375567, 0.0039168587167914826)\n",
      "Model 2: (14.794943740558534, 0.0006128000424416857)\n",
      "Model 3: (73.35402352204817, 1.1102230246251565e-16)\n",
      "\n",
      "Permutation tests - CMI\n",
      "Model 1: (11.084930588375567, 0.009900990099009901)\n",
      "Model 2: (14.794943740558534, 0.009900990099009901)\n",
      "Model 3: (73.35402352204817, 0.009900990099009901)\n"
     ]
    }
   ],
   "source": [
    "print(\"------------------------\\n---Independence tests---\\n------------------------\")\n",
    "print(\"Asymptotic test - MI\")\n",
    "print(f\"Model 1: {indep_test_asymptotic(*data_model_1_d[:2], 'mi')}\")\n",
    "print(f\"Model 2: {indep_test_asymptotic(*data_model_2_d[:2], 'mi')}\")\n",
    "print(f\"Model 3: {indep_test_asymptotic(*data_model_3_d[:2], 'mi')}\")\n",
    "print(\"\\nAsymptotic test - Pearson\")\n",
    "print(f\"Model 1: {indep_test_asymptotic(*data_model_1_d[:2], 'chi2')}\")\n",
    "print(f\"Model 2: {indep_test_asymptotic(*data_model_2_d[:2], 'chi2')}\")\n",
    "print(f\"Model 3: {indep_test_asymptotic(*data_model_3_d[:2], 'chi2')}\")\n",
    "print(\"\\nPermutation tests - MI\")\n",
    "print(f\"Model 1: {indep_test_permutation(*data_model_1_d[:2], 100)}\")\n",
    "print(f\"Model 2: {indep_test_permutation(*data_model_2_d[:2], 100)}\")\n",
    "print(f\"Model 3: {indep_test_permutation(*data_model_3_d[:2], 100)}\")\n",
    "\n",
    "print(\"------------------------\\n---Conditional Independence tests---\\n------------------------\")\n",
    "print(\"Asymptotic test - CMI\")\n",
    "print(f\"Model 1: {asymptotic_conditional_independence_test(*data_model_1_d)}\")\n",
    "print(f\"Model 2: {asymptotic_conditional_independence_test(*data_model_2_d)}\")\n",
    "print(f\"Model 3: {asymptotic_conditional_independence_test(*data_model_3_d)}\")\n",
    "print(\"\\nPermutation tests - CMI\")\n",
    "print(f\"Model 1: {conditional_permutations_of_X(*data_model_1_d, 100)}\")\n",
    "print(f\"Model 2: {conditional_permutations_of_X(*data_model_2_d, 100)}\")\n",
    "print(f\"Model 3: {conditional_permutations_of_X(*data_model_3_d, 100)}\")"
   ]
  },
  {
   "cell_type": "markdown",
   "metadata": {},
   "source": [
    "Changed:\n",
    "- in all models, X and Y are now conditionally dependent,\n",
    "- p-value for independence of X and Y in model 3 is slightly smaller than earlier."
   ]
  }
 ],
 "metadata": {
  "kernelspec": {
   "display_name": "dydaktyka",
   "language": "python",
   "name": "python3"
  },
  "language_info": {
   "codemirror_mode": {
    "name": "ipython",
    "version": 3
   },
   "file_extension": ".py",
   "mimetype": "text/x-python",
   "name": "python",
   "nbconvert_exporter": "python",
   "pygments_lexer": "ipython3",
   "version": "3.11.4"
  }
 },
 "nbformat": 4,
 "nbformat_minor": 2
}
