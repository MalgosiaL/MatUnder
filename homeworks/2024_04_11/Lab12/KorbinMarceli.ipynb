{
 "cells": [
  {
   "cell_type": "markdown",
   "metadata": {},
   "source": [
    "# Mathematical Underpinnings - Lab 7"
   ]
  },
  {
   "cell_type": "code",
   "execution_count": 1,
   "metadata": {},
   "outputs": [
    {
     "name": "stderr",
     "output_type": "stream",
     "text": [
      "c:\\users\\kmarc\\appdata\\local\\programs\\python\\python38\\lib\\site-packages\\requests\\__init__.py:102: RequestsDependencyWarning: urllib3 (1.25.11) or chardet (5.2.0)/charset_normalizer (2.0.10) doesn't match a supported version!\n",
      "  warnings.warn(\"urllib3 ({}) or chardet ({})/charset_normalizer ({}) doesn't match a supported \"\n"
     ]
    }
   ],
   "source": [
    "import tensorflow as tf\n",
    "import keras\n",
    "import numpy as np\n",
    "import matplotlib.pyplot as plt\n",
    "\n",
    "from keras.layers import Input, Dense, Lambda, InputLayer, concatenate\n",
    "from keras.models import Model, Sequential\n",
    "from keras import backend as K\n",
    "from keras import metrics\n",
    "from keras.datasets import mnist\n",
    "from keras.utils import to_categorical\n",
    "\n",
    "from sklearn.model_selection import train_test_split"
   ]
  },
  {
   "cell_type": "markdown",
   "metadata": {},
   "source": [
    "## Task 1\n",
    "\n",
    "### a)"
   ]
  },
  {
   "cell_type": "code",
   "execution_count": 2,
   "metadata": {},
   "outputs": [],
   "source": [
    "def KL_mult_normal(mu1, mu2, Sigma1, Sigma2):\n",
    "    # the formula is here: https://statproofbook.github.io/P/mvn-kl.html\n",
    "    \n",
    "    Sigma2inv = np.linalg.inv(Sigma2)\n",
    "    mu_diff = mu2 - mu1\n",
    "    n = len(mu1)\n",
    "    \n",
    "    element1 = mu_diff @ Sigma2inv @ mu_diff\n",
    "    element2 = np.trace(Sigma2inv @ Sigma1)\n",
    "    element3 = np.log(np.linalg.det(Sigma1) / np.linalg.det(Sigma2))\n",
    "    result = (element1 + element2 - element3 - n) / 2\n",
    "    return result"
   ]
  },
  {
   "cell_type": "code",
   "execution_count": 3,
   "metadata": {},
   "outputs": [],
   "source": [
    "def T_opt(x, mu1, mu2, Sigma1, Sigma2):\n",
    "    # compute log(p(x)/q(x)), where p and q are multivariate normal with parameters mu1, Sigma1 and mu2, Sigma2 respectively\n",
    "    res = np.zeros(x.shape[0])\n",
    "    for i in range(x.shape[0]):\n",
    "        ft = -np.log(np.linalg.det(Sigma1))/2 - np.dot(np.dot(np.linalg.inv(Sigma1), (x[i,:] - mu1)), x[i,:] - mu1)/2\n",
    "        st = np.log(np.linalg.det(Sigma2))/2 + np.dot(np.dot(np.linalg.inv(Sigma2), x[i,:] - mu2), x[i,:] - mu2)/2\n",
    "        res[i] = ft+st\n",
    "    return res"
   ]
  },
  {
   "cell_type": "markdown",
   "metadata": {},
   "source": [
    "### b)"
   ]
  },
  {
   "cell_type": "code",
   "execution_count": 4,
   "metadata": {},
   "outputs": [],
   "source": [
    "# sample n = 10000 observations out of np.random.multivariate_normal(mu1, Sigma1, size=n)\n",
    "# and sample n = 10000 observations out of np.random.multivariate_normal(mu2, Sigma2, size=n)\n",
    "# then concatenate the two matrices (your final x is a matrix 2n x 5)\n",
    "# then create a vector y that will have n ones and n zeros (of size 2n)\n",
    "\n",
    "n = 10000\n",
    "mu1 = np.array([1, 1, 1, 0, 0]) / 5\n",
    "mu2 = mu1[::-1]\n",
    "\n",
    "ones = np.ones((5, 5))\n",
    "eye = np.eye(5)\n",
    "Sigma1 = (ones + eye*9) / 10\n",
    "Sigma2 = (eye*6 - ones) / 5\n",
    "p = np.random.multivariate_normal(mu1, Sigma1, size=n)\n",
    "q = np.random.multivariate_normal(mu2, Sigma2, size=n)\n",
    "\n",
    "x = np.concatenate((p, q))\n",
    "y = np.concatenate((np.ones(n), np.zeros(n)))"
   ]
  },
  {
   "cell_type": "code",
   "execution_count": 5,
   "metadata": {},
   "outputs": [
    {
     "data": {
      "text/plain": [
       "2.169075737042572"
      ]
     },
     "execution_count": 5,
     "metadata": {},
     "output_type": "execute_result"
    }
   ],
   "source": [
    "KL_mult_normal(mu1, mu2, Sigma1, Sigma2)"
   ]
  },
  {
   "cell_type": "code",
   "execution_count": 6,
   "metadata": {},
   "outputs": [],
   "source": [
    "def DV_fun(y, t):\n",
    "    # y - an indicator [y[i]=1 if t[i] corresponds to x sampled from the distribution p, y[i]=0 otherwise]\n",
    "    # t a vector (of the same length as y) t = log(p(x)/q(x))\n",
    "    n1 = np.sum(y)\n",
    "    n2 = np.sum(1-y)\n",
    "    element1 = np.sum(t*y)/n1\n",
    "    element2 = np.log(np.sum(np.exp(t)*(1-y))/n2)\n",
    "    return element1 - element2"
   ]
  },
  {
   "cell_type": "code",
   "execution_count": 7,
   "metadata": {},
   "outputs": [
    {
     "data": {
      "text/plain": [
       "1.3826768071660394"
      ]
     },
     "execution_count": 7,
     "metadata": {},
     "output_type": "execute_result"
    }
   ],
   "source": [
    "DV_fun(y, T_opt(x, mu1, mu2, Sigma1, Sigma2))"
   ]
  },
  {
   "cell_type": "markdown",
   "metadata": {},
   "source": [
    "### c)"
   ]
  },
  {
   "cell_type": "code",
   "execution_count": 8,
   "metadata": {},
   "outputs": [],
   "source": [
    "def DV_loss(y_true, T_x):\n",
    "    n1 = tf.math.reduce_sum(y_true)\n",
    "    n2 = tf.math.reduce_sum(tf.subtract(tf.convert_to_tensor(1.0), y_true))\n",
    "    first_term = tf.math.reduce_sum(tf.math.multiply(T_x, y_true))/n1\n",
    "    second_term = tf.math.log(tf.math.reduce_sum(tf.math.multiply(tf.math.exp(T_x), tf.subtract(tf.convert_to_tensor(1.0), y_true)))/n2)\n",
    "    return -(first_term - second_term) "
   ]
  },
  {
   "cell_type": "markdown",
   "metadata": {},
   "source": [
    "### d)"
   ]
  },
  {
   "cell_type": "code",
   "execution_count": 9,
   "metadata": {},
   "outputs": [],
   "source": [
    "model_inputs = keras.Input(shape=(5))\n",
    "layer_out = Dense(64, activation='softplus')(model_inputs)\n",
    "#layer_out = Dense(125, activation='tanh')(layer_out)\n",
    "layer_out = Dense(64)(layer_out)\n",
    "model_outputs = Dense(1)(layer_out)\n",
    "model = keras.Model(model_inputs, model_outputs)\n",
    "\n",
    "optimizer = keras.optimizers.SGD(learning_rate=1e-2)\n",
    "es = tf.keras.callbacks.EarlyStopping(monitor='val_loss', mode='min', verbose=1, patience=5)\n",
    "model.compile(optimizer=optimizer, loss=DV_loss)"
   ]
  },
  {
   "cell_type": "code",
   "execution_count": 10,
   "metadata": {},
   "outputs": [],
   "source": [
    "x_train, x_test, y_train, y_test = train_test_split(x, y, test_size=0.25)"
   ]
  },
  {
   "cell_type": "code",
   "execution_count": 11,
   "metadata": {},
   "outputs": [
    {
     "name": "stdout",
     "output_type": "stream",
     "text": [
      "Epoch 1/100\n",
      "15/15 [==============================] - 2s 49ms/step - loss: -0.0248 - val_loss: -0.0450\n",
      "Epoch 2/100\n",
      "15/15 [==============================] - 0s 12ms/step - loss: -0.0515 - val_loss: -0.0657\n",
      "Epoch 3/100\n",
      "15/15 [==============================] - 0s 10ms/step - loss: -0.0658 - val_loss: -0.0774\n",
      "Epoch 4/100\n",
      "15/15 [==============================] - 0s 13ms/step - loss: -0.0743 - val_loss: -0.0844\n",
      "Epoch 5/100\n",
      "15/15 [==============================] - 0s 12ms/step - loss: -0.0787 - val_loss: -0.0888\n",
      "Epoch 6/100\n",
      "15/15 [==============================] - 0s 13ms/step - loss: -0.0819 - val_loss: -0.0920\n",
      "Epoch 7/100\n",
      "15/15 [==============================] - 0s 13ms/step - loss: -0.0843 - val_loss: -0.0946\n",
      "Epoch 8/100\n",
      "15/15 [==============================] - 0s 10ms/step - loss: -0.0863 - val_loss: -0.0967\n",
      "Epoch 9/100\n",
      "15/15 [==============================] - 0s 11ms/step - loss: -0.0883 - val_loss: -0.0987\n",
      "Epoch 10/100\n",
      "15/15 [==============================] - 0s 11ms/step - loss: -0.0900 - val_loss: -0.1006\n",
      "Epoch 11/100\n",
      "15/15 [==============================] - 0s 12ms/step - loss: -0.0917 - val_loss: -0.1024\n",
      "Epoch 12/100\n",
      "15/15 [==============================] - 0s 10ms/step - loss: -0.0938 - val_loss: -0.1043\n",
      "Epoch 13/100\n",
      "15/15 [==============================] - 0s 11ms/step - loss: -0.0952 - val_loss: -0.1062\n",
      "Epoch 14/100\n",
      "15/15 [==============================] - 0s 12ms/step - loss: -0.0970 - val_loss: -0.1082\n",
      "Epoch 15/100\n",
      "15/15 [==============================] - 0s 13ms/step - loss: -0.0991 - val_loss: -0.1102\n",
      "Epoch 16/100\n",
      "15/15 [==============================] - 0s 13ms/step - loss: -0.1011 - val_loss: -0.1123\n",
      "Epoch 17/100\n",
      "15/15 [==============================] - 0s 13ms/step - loss: -0.1028 - val_loss: -0.1144\n",
      "Epoch 18/100\n",
      "15/15 [==============================] - 0s 13ms/step - loss: -0.1052 - val_loss: -0.1166\n",
      "Epoch 19/100\n",
      "15/15 [==============================] - 0s 12ms/step - loss: -0.1073 - val_loss: -0.1188\n",
      "Epoch 20/100\n",
      "15/15 [==============================] - 0s 12ms/step - loss: -0.1097 - val_loss: -0.1213\n",
      "Epoch 21/100\n",
      "15/15 [==============================] - 0s 13ms/step - loss: -0.1116 - val_loss: -0.1237\n",
      "Epoch 22/100\n",
      "15/15 [==============================] - 0s 12ms/step - loss: -0.1143 - val_loss: -0.1264\n",
      "Epoch 23/100\n",
      "15/15 [==============================] - 0s 11ms/step - loss: -0.1169 - val_loss: -0.1291\n",
      "Epoch 24/100\n",
      "15/15 [==============================] - 0s 13ms/step - loss: -0.1202 - val_loss: -0.1321\n",
      "Epoch 25/100\n",
      "15/15 [==============================] - 0s 13ms/step - loss: -0.1227 - val_loss: -0.1351\n",
      "Epoch 26/100\n",
      "15/15 [==============================] - 0s 13ms/step - loss: -0.1256 - val_loss: -0.1384\n",
      "Epoch 27/100\n",
      "15/15 [==============================] - 0s 13ms/step - loss: -0.1292 - val_loss: -0.1418\n",
      "Epoch 28/100\n",
      "15/15 [==============================] - 0s 13ms/step - loss: -0.1326 - val_loss: -0.1455\n",
      "Epoch 29/100\n",
      "15/15 [==============================] - 0s 12ms/step - loss: -0.1368 - val_loss: -0.1493\n",
      "Epoch 30/100\n",
      "15/15 [==============================] - 0s 12ms/step - loss: -0.1403 - val_loss: -0.1535\n",
      "Epoch 31/100\n",
      "15/15 [==============================] - 0s 13ms/step - loss: -0.1447 - val_loss: -0.1578\n",
      "Epoch 32/100\n",
      "15/15 [==============================] - 0s 12ms/step - loss: -0.1496 - val_loss: -0.1626\n",
      "Epoch 33/100\n",
      "15/15 [==============================] - 0s 13ms/step - loss: -0.1546 - val_loss: -0.1676\n",
      "Epoch 34/100\n",
      "15/15 [==============================] - 0s 12ms/step - loss: -0.1597 - val_loss: -0.1732\n",
      "Epoch 35/100\n",
      "15/15 [==============================] - 0s 12ms/step - loss: -0.1658 - val_loss: -0.1793\n",
      "Epoch 36/100\n",
      "15/15 [==============================] - 0s 12ms/step - loss: -0.1726 - val_loss: -0.1859\n",
      "Epoch 37/100\n",
      "15/15 [==============================] - 0s 11ms/step - loss: -0.1792 - val_loss: -0.1933\n",
      "Epoch 38/100\n",
      "15/15 [==============================] - 0s 12ms/step - loss: -0.1869 - val_loss: -0.2013\n",
      "Epoch 39/100\n",
      "15/15 [==============================] - 0s 12ms/step - loss: -0.1960 - val_loss: -0.2099\n",
      "Epoch 40/100\n",
      "15/15 [==============================] - 0s 11ms/step - loss: -0.2056 - val_loss: -0.2196\n",
      "Epoch 41/100\n",
      "15/15 [==============================] - 0s 14ms/step - loss: -0.2161 - val_loss: -0.2305\n",
      "Epoch 42/100\n",
      "15/15 [==============================] - 0s 13ms/step - loss: -0.2279 - val_loss: -0.2425\n",
      "Epoch 43/100\n",
      "15/15 [==============================] - 0s 12ms/step - loss: -0.2409 - val_loss: -0.2561\n",
      "Epoch 44/100\n",
      "15/15 [==============================] - 0s 13ms/step - loss: -0.2566 - val_loss: -0.2715\n",
      "Epoch 45/100\n",
      "15/15 [==============================] - 0s 13ms/step - loss: -0.2739 - val_loss: -0.2893\n",
      "Epoch 46/100\n",
      "15/15 [==============================] - 0s 12ms/step - loss: -0.2940 - val_loss: -0.3095\n",
      "Epoch 47/100\n",
      "15/15 [==============================] - 0s 12ms/step - loss: -0.3159 - val_loss: -0.3324\n",
      "Epoch 48/100\n",
      "15/15 [==============================] - 0s 11ms/step - loss: -0.3418 - val_loss: -0.3590\n",
      "Epoch 49/100\n",
      "15/15 [==============================] - 0s 12ms/step - loss: -0.3722 - val_loss: -0.3899\n",
      "Epoch 50/100\n",
      "15/15 [==============================] - 0s 13ms/step - loss: -0.4064 - val_loss: -0.4261\n",
      "Epoch 51/100\n",
      "15/15 [==============================] - 0s 12ms/step - loss: -0.4483 - val_loss: -0.4687\n",
      "Epoch 52/100\n",
      "15/15 [==============================] - 0s 13ms/step - loss: -0.4969 - val_loss: -0.5194\n",
      "Epoch 53/100\n",
      "15/15 [==============================] - 0s 12ms/step - loss: -0.5537 - val_loss: -0.5792\n",
      "Epoch 54/100\n",
      "15/15 [==============================] - 0s 12ms/step - loss: -0.6219 - val_loss: -0.6506\n",
      "Epoch 55/100\n",
      "15/15 [==============================] - 0s 14ms/step - loss: -0.7033 - val_loss: -0.7353\n",
      "Epoch 56/100\n",
      "15/15 [==============================] - 0s 12ms/step - loss: -0.8002 - val_loss: -0.8366\n",
      "Epoch 57/100\n",
      "15/15 [==============================] - 0s 11ms/step - loss: -0.9146 - val_loss: -0.9571\n",
      "Epoch 58/100\n",
      "15/15 [==============================] - 0s 13ms/step - loss: -1.0518 - val_loss: -1.0955\n",
      "Epoch 59/100\n",
      "15/15 [==============================] - 0s 11ms/step - loss: -1.2138 - val_loss: -1.2464\n",
      "Epoch 60/100\n",
      "15/15 [==============================] - 0s 12ms/step - loss: -1.3968 - val_loss: -1.3925\n",
      "Epoch 61/100\n",
      "15/15 [==============================] - 0s 11ms/step - loss: -1.5899 - val_loss: -1.4984\n",
      "Epoch 62/100\n",
      "15/15 [==============================] - 0s 11ms/step - loss: -1.7621 - val_loss: -1.5321\n",
      "Epoch 63/100\n",
      "15/15 [==============================] - 0s 12ms/step - loss: -1.9071 - val_loss: -1.5506\n",
      "Epoch 64/100\n",
      "15/15 [==============================] - 0s 13ms/step - loss: -1.9729 - val_loss: -1.4219\n",
      "Epoch 65/100\n",
      "15/15 [==============================] - 0s 12ms/step - loss: -2.0101 - val_loss: -1.4187\n",
      "Epoch 66/100\n",
      "15/15 [==============================] - 0s 12ms/step - loss: -1.9953 - val_loss: -1.2875\n",
      "Epoch 67/100\n",
      "15/15 [==============================] - 0s 11ms/step - loss: -2.0525 - val_loss: -1.3608\n",
      "Epoch 68/100\n",
      "15/15 [==============================] - 0s 12ms/step - loss: -2.1172 - val_loss: -1.3042\n",
      "Epoch 68: early stopping\n"
     ]
    }
   ],
   "source": [
    "hist = model.fit(x_train, y_train, epochs=100, batch_size=1024, validation_data=(x_test, y_test), callbacks=[es])"
   ]
  },
  {
   "cell_type": "code",
   "execution_count": 12,
   "metadata": {},
   "outputs": [
    {
     "data": {
      "image/png": "[encoded data removed]",
      "text/plain": [
       "<Figure size 432x288 with 1 Axes>"
      ]
     },
     "metadata": {
      "needs_background": "light"
     },
     "output_type": "display_data"
    }
   ],
   "source": [
    "plt.plot(hist.history['loss'])\n",
    "plt.plot(hist.history['val_loss'])\n",
    "plt.show()"
   ]
  },
  {
   "cell_type": "markdown",
   "metadata": {},
   "source": [
    "### e)"
   ]
  },
  {
   "cell_type": "code",
   "execution_count": 13,
   "metadata": {},
   "outputs": [
    {
     "name": "stdout",
     "output_type": "stream",
     "text": [
      "625/625 [==============================] - 2s 3ms/step\n"
     ]
    }
   ],
   "source": [
    "t_x_pred = model.predict(x)[:,0]"
   ]
  },
  {
   "cell_type": "code",
   "execution_count": 14,
   "metadata": {},
   "outputs": [],
   "source": [
    "t_x_opt = T_opt(x, mu1, mu2, Sigma1, Sigma2)"
   ]
  },
  {
   "cell_type": "code",
   "execution_count": 15,
   "metadata": {
    "scrolled": true
   },
   "outputs": [
    {
     "data": {
      "image/png": "[encoded data removed]",
      "text/plain": [
       "<Figure size 432x288 with 1 Axes>"
      ]
     },
     "metadata": {
      "needs_background": "light"
     },
     "output_type": "display_data"
    }
   ],
   "source": [
    "plt.plot(t_x_opt)\n",
    "plt.plot(t_x_pred)\n",
    "\n",
    "plt.show()"
   ]
  },
  {
   "cell_type": "code",
   "execution_count": 16,
   "metadata": {},
   "outputs": [
    {
     "data": {
      "image/png": "[encoded data removed]",
      "text/plain": [
       "<Figure size 432x288 with 1 Axes>"
      ]
     },
     "metadata": {
      "needs_background": "light"
     },
     "output_type": "display_data"
    }
   ],
   "source": [
    "plt.plot(t_x_pred, t_x_opt, \"o\")\n",
    "plt.show()"
   ]
  },
  {
   "cell_type": "code",
   "execution_count": 17,
   "metadata": {},
   "outputs": [
    {
     "data": {
      "text/plain": [
       "0.7682373220442349"
      ]
     },
     "execution_count": 17,
     "metadata": {},
     "output_type": "execute_result"
    }
   ],
   "source": [
    "DV_fun(y, t_x_pred)"
   ]
  },
  {
   "cell_type": "code",
   "execution_count": 18,
   "metadata": {},
   "outputs": [
    {
     "data": {
      "text/plain": [
       "1.3826768071660394"
      ]
     },
     "execution_count": 18,
     "metadata": {},
     "output_type": "execute_result"
    }
   ],
   "source": [
    "DV_fun(y, t_x_opt)"
   ]
  },
  {
   "cell_type": "code",
   "execution_count": 19,
   "metadata": {},
   "outputs": [
    {
     "name": "stdout",
     "output_type": "stream",
     "text": [
      "625/625 [==============================] - 2s 3ms/step\n"
     ]
    }
   ],
   "source": [
    "# new data\n",
    "p = np.random.multivariate_normal(mu1, Sigma1, size=n)\n",
    "q = np.random.multivariate_normal(mu2, Sigma2, size=n)\n",
    "\n",
    "x = np.concatenate((p, q))\n",
    "\n",
    "t_x_pred = model.predict(x)[:,0]\n",
    "t_x_opt = T_opt(x, mu1, mu2, Sigma1, Sigma2)"
   ]
  },
  {
   "cell_type": "code",
   "execution_count": 20,
   "metadata": {
    "scrolled": true
   },
   "outputs": [
    {
     "data": {
      "image/png": "[encoded data removed]",
      "text/plain": [
       "<Figure size 432x288 with 1 Axes>"
      ]
     },
     "metadata": {
      "needs_background": "light"
     },
     "output_type": "display_data"
    }
   ],
   "source": [
    "plt.plot(t_x_opt)\n",
    "plt.plot(t_x_pred)\n",
    "\n",
    "plt.show()"
   ]
  },
  {
   "cell_type": "code",
   "execution_count": 21,
   "metadata": {},
   "outputs": [
    {
     "data": {
      "image/png": "[encoded data removed]",
      "text/plain": [
       "<Figure size 432x288 with 1 Axes>"
      ]
     },
     "metadata": {
      "needs_background": "light"
     },
     "output_type": "display_data"
    }
   ],
   "source": [
    "plt.plot(t_x_pred, t_x_opt, \"o\")\n",
    "plt.show()"
   ]
  },
  {
   "cell_type": "code",
   "execution_count": 22,
   "metadata": {},
   "outputs": [
    {
     "data": {
      "text/plain": [
       "1.974467125345102"
      ]
     },
     "execution_count": 22,
     "metadata": {},
     "output_type": "execute_result"
    }
   ],
   "source": [
    "DV_fun(y, t_x_pred)"
   ]
  },
  {
   "cell_type": "code",
   "execution_count": 23,
   "metadata": {},
   "outputs": [
    {
     "data": {
      "text/plain": [
       "2.116350841347252"
      ]
     },
     "execution_count": 23,
     "metadata": {},
     "output_type": "execute_result"
    }
   ],
   "source": [
    "DV_fun(y, t_x_opt)"
   ]
  },
  {
   "cell_type": "markdown",
   "metadata": {},
   "source": [
    "### f)"
   ]
  },
  {
   "cell_type": "code",
   "execution_count": 24,
   "metadata": {},
   "outputs": [],
   "source": [
    "def NWJ_fun(y, t):\n",
    "    # y - an indicator [y[i]=1 if t[i] corresponds to x sampled from the distribution p, y[i]=0 otherwise]\n",
    "    # t a vector (of the same length as y) t = log(p(x)/q(x))\n",
    "    n1 = np.sum(y)\n",
    "    n2 = np.sum(1-y)\n",
    "    element1 = np.sum(t*y)/n1\n",
    "    element2 = np.sum(np.exp(t-1)*(1-y))/n2\n",
    "    return element1 - element2"
   ]
  },
  {
   "cell_type": "code",
   "execution_count": 25,
   "metadata": {},
   "outputs": [],
   "source": [
    "def NWJ_loss(y_true, T_x):\n",
    "    n1 = tf.math.reduce_sum(y_true)\n",
    "    n2 = tf.math.reduce_sum(tf.subtract(tf.convert_to_tensor(1.0), y_true))\n",
    "    first_term = tf.math.reduce_sum(tf.math.multiply(T_x, y_true))/n1\n",
    "    second_term = tf.math.reduce_sum(tf.math.multiply(tf.subtract(tf.math.exp(T_x), tf.convert_to_tensor(1.0)), \n",
    "                                                                  tf.subtract(tf.convert_to_tensor(1.0), y_true)\n",
    "                                                     ))/n2\n",
    "    return -(first_term - second_term) "
   ]
  },
  {
   "cell_type": "code",
   "execution_count": 26,
   "metadata": {},
   "outputs": [],
   "source": [
    "model_inputs = keras.Input(shape=(5))\n",
    "layer_out = Dense(64, activation='softplus')(model_inputs)\n",
    "#layer_out = Dense(125, activation='tanh')(layer_out)\n",
    "model_outputs = Dense(1)(layer_out)\n",
    "\n",
    "model2 = keras.Model(model_inputs, model_outputs)\n",
    "model2.compile(optimizer=optimizer, loss=NWJ_loss)"
   ]
  },
  {
   "cell_type": "code",
   "execution_count": 27,
   "metadata": {},
   "outputs": [],
   "source": [
    "x_train, x_test, y_train, y_test = train_test_split(x, y, test_size=0.25)"
   ]
  },
  {
   "cell_type": "code",
   "execution_count": 28,
   "metadata": {},
   "outputs": [
    {
     "name": "stdout",
     "output_type": "stream",
     "text": [
      "Epoch 1/100\n",
      "15/15 [==============================] - 1s 25ms/step - loss: 0.2174 - val_loss: 0.0285\n",
      "Epoch 2/100\n",
      "15/15 [==============================] - 0s 10ms/step - loss: 0.0109 - val_loss: -0.0027\n",
      "Epoch 3/100\n",
      "15/15 [==============================] - 0s 9ms/step - loss: -0.0144 - val_loss: -0.0257\n",
      "Epoch 4/100\n",
      "15/15 [==============================] - 0s 12ms/step - loss: -0.0330 - val_loss: -0.0429\n",
      "Epoch 5/100\n",
      "15/15 [==============================] - 0s 12ms/step - loss: -0.0465 - val_loss: -0.0556\n",
      "Epoch 6/100\n",
      "15/15 [==============================] - 0s 9ms/step - loss: -0.0564 - val_loss: -0.0652\n",
      "Epoch 7/100\n",
      "15/15 [==============================] - 0s 8ms/step - loss: -0.0637 - val_loss: -0.0727\n",
      "Epoch 8/100\n",
      "15/15 [==============================] - 0s 8ms/step - loss: -0.0696 - val_loss: -0.0785\n",
      "Epoch 9/100\n",
      "15/15 [==============================] - 0s 8ms/step - loss: -0.0740 - val_loss: -0.0831\n",
      "Epoch 10/100\n",
      "15/15 [==============================] - 0s 9ms/step - loss: -0.0774 - val_loss: -0.0868\n",
      "Epoch 11/100\n",
      "15/15 [==============================] - 0s 9ms/step - loss: -0.0801 - val_loss: -0.0899\n",
      "Epoch 12/100\n",
      "15/15 [==============================] - 0s 9ms/step - loss: -0.0827 - val_loss: -0.0925\n",
      "Epoch 13/100\n",
      "15/15 [==============================] - 0s 9ms/step - loss: -0.0846 - val_loss: -0.0949\n",
      "Epoch 14/100\n",
      "15/15 [==============================] - 0s 10ms/step - loss: -0.0865 - val_loss: -0.0970\n",
      "Epoch 15/100\n",
      "15/15 [==============================] - 0s 10ms/step - loss: -0.0880 - val_loss: -0.0988\n",
      "Epoch 16/100\n",
      "15/15 [==============================] - 0s 10ms/step - loss: -0.0893 - val_loss: -0.1005\n",
      "Epoch 17/100\n",
      "15/15 [==============================] - 0s 11ms/step - loss: -0.0915 - val_loss: -0.1022\n",
      "Epoch 18/100\n",
      "15/15 [==============================] - 0s 9ms/step - loss: -0.0930 - val_loss: -0.1040\n",
      "Epoch 19/100\n",
      "15/15 [==============================] - 0s 10ms/step - loss: -0.0942 - val_loss: -0.1057\n",
      "Epoch 20/100\n",
      "15/15 [==============================] - 0s 10ms/step - loss: -0.0957 - val_loss: -0.1070\n",
      "Epoch 21/100\n",
      "15/15 [==============================] - 0s 11ms/step - loss: -0.0971 - val_loss: -0.1088\n",
      "Epoch 22/100\n",
      "15/15 [==============================] - 0s 10ms/step - loss: -0.0987 - val_loss: -0.1104\n",
      "Epoch 23/100\n",
      "15/15 [==============================] - 0s 10ms/step - loss: -0.0999 - val_loss: -0.1120\n",
      "Epoch 24/100\n",
      "15/15 [==============================] - 0s 12ms/step - loss: -0.1019 - val_loss: -0.1137\n",
      "Epoch 25/100\n",
      "15/15 [==============================] - 0s 11ms/step - loss: -0.1033 - val_loss: -0.1155\n",
      "Epoch 26/100\n",
      "15/15 [==============================] - 0s 11ms/step - loss: -0.1049 - val_loss: -0.1172\n",
      "Epoch 27/100\n",
      "15/15 [==============================] - 0s 9ms/step - loss: -0.1066 - val_loss: -0.1190\n",
      "Epoch 28/100\n",
      "15/15 [==============================] - 0s 12ms/step - loss: -0.1080 - val_loss: -0.1208\n",
      "Epoch 29/100\n",
      "15/15 [==============================] - 0s 11ms/step - loss: -0.1100 - val_loss: -0.1226\n",
      "Epoch 30/100\n",
      "15/15 [==============================] - 0s 11ms/step - loss: -0.1120 - val_loss: -0.1245\n",
      "Epoch 31/100\n",
      "15/15 [==============================] - 0s 10ms/step - loss: -0.1136 - val_loss: -0.1265\n",
      "Epoch 32/100\n",
      "15/15 [==============================] - 0s 10ms/step - loss: -0.1156 - val_loss: -0.1284\n",
      "Epoch 33/100\n",
      "15/15 [==============================] - 0s 10ms/step - loss: -0.1177 - val_loss: -0.1304\n",
      "Epoch 34/100\n",
      "15/15 [==============================] - 0s 11ms/step - loss: -0.1195 - val_loss: -0.1328\n",
      "Epoch 35/100\n",
      "15/15 [==============================] - 0s 11ms/step - loss: -0.1219 - val_loss: -0.1350\n",
      "Epoch 36/100\n",
      "15/15 [==============================] - 0s 11ms/step - loss: -0.1240 - val_loss: -0.1373\n",
      "Epoch 37/100\n",
      "15/15 [==============================] - 0s 11ms/step - loss: -0.1265 - val_loss: -0.1397\n",
      "Epoch 38/100\n",
      "15/15 [==============================] - 0s 10ms/step - loss: -0.1284 - val_loss: -0.1420\n",
      "Epoch 39/100\n",
      "15/15 [==============================] - 0s 11ms/step - loss: -0.1310 - val_loss: -0.1448\n",
      "Epoch 40/100\n",
      "15/15 [==============================] - 0s 11ms/step - loss: -0.1337 - val_loss: -0.1474\n",
      "Epoch 41/100\n",
      "15/15 [==============================] - 0s 10ms/step - loss: -0.1361 - val_loss: -0.1502\n",
      "Epoch 42/100\n",
      "15/15 [==============================] - 0s 11ms/step - loss: -0.1387 - val_loss: -0.1531\n",
      "Epoch 43/100\n",
      "15/15 [==============================] - 0s 9ms/step - loss: -0.1418 - val_loss: -0.1561\n",
      "Epoch 44/100\n",
      "15/15 [==============================] - 0s 10ms/step - loss: -0.1448 - val_loss: -0.1591\n",
      "Epoch 45/100\n",
      "15/15 [==============================] - 0s 12ms/step - loss: -0.1478 - val_loss: -0.1624\n",
      "Epoch 46/100\n",
      "15/15 [==============================] - 0s 11ms/step - loss: -0.1511 - val_loss: -0.1659\n",
      "Epoch 47/100\n",
      "15/15 [==============================] - 0s 13ms/step - loss: -0.1545 - val_loss: -0.1694\n",
      "Epoch 48/100\n",
      "15/15 [==============================] - 0s 12ms/step - loss: -0.1581 - val_loss: -0.1731\n",
      "Epoch 49/100\n",
      "15/15 [==============================] - 0s 13ms/step - loss: -0.1616 - val_loss: -0.1769\n",
      "Epoch 50/100\n",
      "15/15 [==============================] - 0s 11ms/step - loss: -0.1654 - val_loss: -0.1811\n",
      "Epoch 51/100\n",
      "15/15 [==============================] - 0s 11ms/step - loss: -0.1695 - val_loss: -0.1853\n",
      "Epoch 52/100\n",
      "15/15 [==============================] - 0s 12ms/step - loss: -0.1738 - val_loss: -0.1898\n",
      "Epoch 53/100\n",
      "15/15 [==============================] - 0s 11ms/step - loss: -0.1783 - val_loss: -0.1944\n",
      "Epoch 54/100\n",
      "15/15 [==============================] - 0s 11ms/step - loss: -0.1830 - val_loss: -0.1993\n",
      "Epoch 55/100\n",
      "15/15 [==============================] - 0s 11ms/step - loss: -0.1875 - val_loss: -0.2044\n",
      "Epoch 56/100\n",
      "15/15 [==============================] - 0s 11ms/step - loss: -0.1932 - val_loss: -0.2099\n",
      "Epoch 57/100\n",
      "15/15 [==============================] - 0s 13ms/step - loss: -0.1984 - val_loss: -0.2156\n",
      "Epoch 58/100\n",
      "15/15 [==============================] - 0s 11ms/step - loss: -0.2041 - val_loss: -0.2213\n",
      "Epoch 59/100\n",
      "15/15 [==============================] - 0s 12ms/step - loss: -0.2097 - val_loss: -0.2278\n",
      "Epoch 60/100\n",
      "15/15 [==============================] - 0s 13ms/step - loss: -0.2166 - val_loss: -0.2346\n",
      "Epoch 61/100\n",
      "15/15 [==============================] - 0s 12ms/step - loss: -0.2238 - val_loss: -0.2415\n",
      "Epoch 62/100\n",
      "15/15 [==============================] - 0s 11ms/step - loss: -0.2303 - val_loss: -0.2488\n",
      "Epoch 63/100\n",
      "15/15 [==============================] - 0s 12ms/step - loss: -0.2380 - val_loss: -0.2569\n",
      "Epoch 64/100\n",
      "15/15 [==============================] - 0s 14ms/step - loss: -0.2459 - val_loss: -0.2652\n",
      "Epoch 65/100\n",
      "15/15 [==============================] - 0s 11ms/step - loss: -0.2544 - val_loss: -0.2741\n",
      "Epoch 66/100\n",
      "15/15 [==============================] - 0s 13ms/step - loss: -0.2633 - val_loss: -0.2835\n",
      "Epoch 67/100\n",
      "15/15 [==============================] - 0s 12ms/step - loss: -0.2729 - val_loss: -0.2934\n",
      "Epoch 68/100\n",
      "15/15 [==============================] - 0s 12ms/step - loss: -0.2825 - val_loss: -0.3039\n",
      "Epoch 69/100\n",
      "15/15 [==============================] - 0s 12ms/step - loss: -0.2934 - val_loss: -0.3151\n",
      "Epoch 70/100\n",
      "15/15 [==============================] - 0s 12ms/step - loss: -0.3044 - val_loss: -0.3271\n",
      "Epoch 71/100\n",
      "15/15 [==============================] - 0s 11ms/step - loss: -0.3167 - val_loss: -0.3396\n",
      "Epoch 72/100\n",
      "15/15 [==============================] - 0s 12ms/step - loss: -0.3293 - val_loss: -0.3533\n",
      "Epoch 73/100\n",
      "15/15 [==============================] - 0s 12ms/step - loss: -0.3433 - val_loss: -0.3677\n",
      "Epoch 74/100\n",
      "15/15 [==============================] - 0s 10ms/step - loss: -0.3577 - val_loss: -0.3830\n",
      "Epoch 75/100\n",
      "15/15 [==============================] - 0s 12ms/step - loss: -0.3731 - val_loss: -0.3993\n",
      "Epoch 76/100\n",
      "15/15 [==============================] - 0s 12ms/step - loss: -0.3897 - val_loss: -0.4166\n",
      "Epoch 77/100\n",
      "15/15 [==============================] - 0s 14ms/step - loss: -0.4076 - val_loss: -0.4352\n",
      "Epoch 78/100\n",
      "15/15 [==============================] - 0s 12ms/step - loss: -0.4263 - val_loss: -0.4549\n",
      "Epoch 79/100\n",
      "15/15 [==============================] - 0s 12ms/step - loss: -0.4465 - val_loss: -0.4762\n",
      "Epoch 80/100\n",
      "15/15 [==============================] - 0s 13ms/step - loss: -0.4677 - val_loss: -0.4986\n"
     ]
    },
    {
     "name": "stdout",
     "output_type": "stream",
     "text": [
      "Epoch 81/100\n",
      "15/15 [==============================] - 0s 12ms/step - loss: -0.4907 - val_loss: -0.5228\n",
      "Epoch 82/100\n",
      "15/15 [==============================] - 0s 13ms/step - loss: -0.5151 - val_loss: -0.5486\n",
      "Epoch 83/100\n",
      "15/15 [==============================] - 0s 12ms/step - loss: -0.5407 - val_loss: -0.5760\n",
      "Epoch 84/100\n",
      "15/15 [==============================] - 0s 12ms/step - loss: -0.5689 - val_loss: -0.6052\n",
      "Epoch 85/100\n",
      "15/15 [==============================] - 0s 10ms/step - loss: -0.5989 - val_loss: -0.6364\n",
      "Epoch 86/100\n",
      "15/15 [==============================] - 0s 12ms/step - loss: -0.6307 - val_loss: -0.6698\n",
      "Epoch 87/100\n",
      "15/15 [==============================] - 0s 12ms/step - loss: -0.6640 - val_loss: -0.7052\n",
      "Epoch 88/100\n",
      "15/15 [==============================] - 0s 14ms/step - loss: -0.6996 - val_loss: -0.7429\n",
      "Epoch 89/100\n",
      "15/15 [==============================] - 0s 12ms/step - loss: -0.7376 - val_loss: -0.7828\n",
      "Epoch 90/100\n",
      "15/15 [==============================] - 0s 14ms/step - loss: -0.7766 - val_loss: -0.8252\n",
      "Epoch 91/100\n",
      "15/15 [==============================] - 0s 12ms/step - loss: -0.8201 - val_loss: -0.8701\n",
      "Epoch 92/100\n",
      "15/15 [==============================] - 0s 13ms/step - loss: -0.8646 - val_loss: -0.9177\n",
      "Epoch 93/100\n",
      "15/15 [==============================] - 0s 14ms/step - loss: -0.9109 - val_loss: -0.9679\n",
      "Epoch 94/100\n",
      "15/15 [==============================] - 0s 12ms/step - loss: -0.9604 - val_loss: -1.0200\n",
      "Epoch 95/100\n",
      "15/15 [==============================] - 0s 12ms/step - loss: -1.0114 - val_loss: -1.0742\n",
      "Epoch 96/100\n",
      "15/15 [==============================] - 0s 12ms/step - loss: -1.0645 - val_loss: -1.1303\n",
      "Epoch 97/100\n",
      "15/15 [==============================] - 0s 14ms/step - loss: -1.1195 - val_loss: -1.1896\n",
      "Epoch 98/100\n",
      "15/15 [==============================] - 0s 13ms/step - loss: -1.1752 - val_loss: -1.2495\n",
      "Epoch 99/100\n",
      "15/15 [==============================] - 0s 12ms/step - loss: -1.2318 - val_loss: -1.3107\n",
      "Epoch 100/100\n",
      "15/15 [==============================] - 0s 13ms/step - loss: -1.2873 - val_loss: -1.3705\n"
     ]
    }
   ],
   "source": [
    "hist = model2.fit(x_train, y_train, epochs=100, batch_size=1024, validation_data=(x_test, y_test), callbacks=[es])"
   ]
  },
  {
   "cell_type": "code",
   "execution_count": 29,
   "metadata": {},
   "outputs": [
    {
     "data": {
      "image/png": "[encoded data removed]",
      "text/plain": [
       "<Figure size 432x288 with 1 Axes>"
      ]
     },
     "metadata": {
      "needs_background": "light"
     },
     "output_type": "display_data"
    }
   ],
   "source": [
    "plt.plot(hist.history['loss'])\n",
    "plt.plot(hist.history['val_loss'])\n",
    "plt.show()"
   ]
  },
  {
   "cell_type": "code",
   "execution_count": 30,
   "metadata": {},
   "outputs": [
    {
     "name": "stdout",
     "output_type": "stream",
     "text": [
      "625/625 [==============================] - 2s 3ms/step\n"
     ]
    }
   ],
   "source": [
    "t_x_pred = model2.predict(x)[:,0]"
   ]
  },
  {
   "cell_type": "code",
   "execution_count": 31,
   "metadata": {},
   "outputs": [],
   "source": [
    "t_x_opt = T_opt(x, mu1, mu2, Sigma1, Sigma2)"
   ]
  },
  {
   "cell_type": "code",
   "execution_count": 32,
   "metadata": {
    "scrolled": true
   },
   "outputs": [
    {
     "data": {
      "image/png": "[encoded data removed]",
      "text/plain": [
       "<Figure size 432x288 with 1 Axes>"
      ]
     },
     "metadata": {
      "needs_background": "light"
     },
     "output_type": "display_data"
    }
   ],
   "source": [
    "plt.plot(t_x_opt)\n",
    "plt.plot(t_x_pred)\n",
    "\n",
    "plt.show()"
   ]
  },
  {
   "cell_type": "code",
   "execution_count": 33,
   "metadata": {},
   "outputs": [
    {
     "data": {
      "image/png": "[encoded data removed]",
      "text/plain": [
       "<Figure size 432x288 with 1 Axes>"
      ]
     },
     "metadata": {
      "needs_background": "light"
     },
     "output_type": "display_data"
    }
   ],
   "source": [
    "plt.plot(t_x_pred, t_x_opt, \"o\")\n",
    "plt.show()"
   ]
  },
  {
   "cell_type": "code",
   "execution_count": 34,
   "metadata": {},
   "outputs": [
    {
     "data": {
      "text/plain": [
       "0.9531473519556224"
      ]
     },
     "execution_count": 34,
     "metadata": {},
     "output_type": "execute_result"
    }
   ],
   "source": [
    "NWJ_fun(y, t_x_pred)"
   ]
  },
  {
   "cell_type": "code",
   "execution_count": 35,
   "metadata": {},
   "outputs": [
    {
     "data": {
      "text/plain": [
       "1.7714920692860814"
      ]
     },
     "execution_count": 35,
     "metadata": {},
     "output_type": "execute_result"
    }
   ],
   "source": [
    "NWJ_fun(y, t_x_opt)"
   ]
  }
 ],
 "metadata": {
  "kernelspec": {
   "display_name": "Python 3 (ipykernel)",
   "language": "python",
   "name": "python3"
  },
  "language_info": {
   "codemirror_mode": {
    "name": "ipython",
    "version": 3
   },
   "file_extension": ".py",
   "mimetype": "text/x-python",
   "name": "python",
   "nbconvert_exporter": "python",
   "pygments_lexer": "ipython3",
   "version": "3.8.10"
  }
 },
 "nbformat": 4,
 "nbformat_minor": 4
}
