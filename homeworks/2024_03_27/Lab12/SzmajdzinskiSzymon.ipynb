{
 "cells": [
  {
   "cell_type": "code",
   "execution_count": 2,
   "metadata": {},
   "outputs": [],
   "source": [
    "from sklearn.metrics import mutual_info_score\n",
    "#from sklearn.feature_selection import chi2\n",
    "from scipy.stats import chi2_contingency\n",
    "from scipy.stats import chi2\n",
    "import numpy as np\n",
    "import matplotlib.pyplot as plt\n",
    "from scipy.stats import gaussian_kde, pearsonr\n",
    "import seaborn as sns\n",
    "import pandas as pd"
   ]
  },
  {
   "cell_type": "markdown",
   "metadata": {},
   "source": [
    "# Mathematical Underpinnings - Lab 4"
   ]
  },
  {
   "cell_type": "markdown",
   "metadata": {},
   "source": [
    "Tests to verify hipoteses of independence (from Lab 4):"
   ]
  },
  {
   "cell_type": "code",
   "execution_count": 3,
   "metadata": {},
   "outputs": [],
   "source": [
    "def indep_test_asymptotic(X, Y, stat):\n",
    "\n",
    "    if stat == \"mi\":\n",
    "\n",
    "        stat_value = 2*len(X)*mutual_info_score(X, Y)\n",
    "\n",
    "    if stat == \"chi2\":\n",
    "\n",
    "        test_res = (chi2_contingency(pd.crosstab(X, Y)))\n",
    "        stat_value = test_res.statistic\n",
    "\n",
    "    df = (len(np.unique(X)) - 1)*(len(np.unique(Y)) - 1)\n",
    "\n",
    "    p_value = 1 - chi2.cdf(stat_value, df=df)\n",
    "\n",
    "    return stat_value, p_value\n",
    "\n",
    "def indep_test_permutation(X, Y, B, stat=\"mi\"):\n",
    "\n",
    "    stat_value = mutual_info_score(X, Y)\n",
    "\n",
    "    condition_p_value = 0\n",
    "    for b in range(B):\n",
    "        X_b = np.random.permutation(X)\n",
    "\n",
    "        stat_value_b = mutual_info_score(X_b, Y)\n",
    "\n",
    "        if stat_value <= stat_value_b:\n",
    "            condition_p_value += 1\n",
    "\n",
    "    p_value = (1 + condition_p_value)/(1 + B)\n",
    "\n",
    "    return 2*len(X)*stat_value, p_value"
   ]
  },
  {
   "cell_type": "markdown",
   "metadata": {},
   "source": [
    "## Task 1"
   ]
  },
  {
   "cell_type": "code",
   "execution_count": 4,
   "metadata": {},
   "outputs": [],
   "source": [
    "def cmi(X, Y, Z):\n",
    "    stat = 0\n",
    "    n = len(Z)\n",
    "    for z_value in np.unique(Z):\n",
    "        stat += np.sum(Z == z_value)/n * mutual_info_score(X[Z == z_value], Y[Z == z_value])\n",
    "    return stat"
   ]
  },
  {
   "cell_type": "markdown",
   "metadata": {},
   "source": [
    "### a)"
   ]
  },
  {
   "cell_type": "code",
   "execution_count": 5,
   "metadata": {},
   "outputs": [],
   "source": [
    "def cond_indep_test_asymptotic(X, Y, Z):\n",
    "    stat_value = 2 * len(X) * cmi(X, Y, Z)\n",
    "    df = (len(np.unique(X)) - 1) * (len(np.unique(Y)) - 1) * len(np.unique(Z))\n",
    "    p_value = 1 - chi2.cdf(stat_value, df=df)\n",
    "\n",
    "    return stat_value, p_value"
   ]
  },
  {
   "cell_type": "markdown",
   "metadata": {},
   "source": [
    "### b)"
   ]
  },
  {
   "cell_type": "code",
   "execution_count": 6,
   "metadata": {},
   "outputs": [],
   "source": [
    "def cond_perm(X, Z):\n",
    "    X_b = np.zeros(len(X))\n",
    "    for z in np.unique(Z):\n",
    "        X_b[Z == z] = np.random.permutation(X[Z == z])\n",
    "    return X_b\n",
    "\n",
    "def cond_indep_test_permutation(X, Y, Z, B = 1000):\n",
    "    stat_value = cmi(X, Y, Z)\n",
    "    condition_p_value = 0\n",
    "    for _ in range(B):\n",
    "        X_b = cond_perm(X, Z)\n",
    "        stat_value_b = cmi(X_b, Y, Z)\n",
    "        if stat_value <= stat_value_b:\n",
    "            condition_p_value += 1\n",
    "    p_value = (1 + condition_p_value)/(1 + B)\n",
    "    return stat_value, p_value"
   ]
  },
  {
   "cell_type": "markdown",
   "metadata": {},
   "source": [
    "### c)"
   ]
  },
  {
   "cell_type": "markdown",
   "metadata": {},
   "source": [
    "conditionaly independent"
   ]
  },
  {
   "cell_type": "code",
   "execution_count": 7,
   "metadata": {},
   "outputs": [
    {
     "name": "stdout",
     "output_type": "stream",
     "text": [
      "Asymptotic test  (0.8904258263055527, 0.6406878506392288)\n",
      "Permutation test  (0.00044521291315277633, 0.6363636363636364)\n"
     ]
    }
   ],
   "source": [
    "Z = np.random.normal(0, 1, 1000)\n",
    "Z = np.where(Z < 0, -1, 1)\n",
    "X = np.random.normal(Z/2, 1, 1000)\n",
    "X = np.where(X < 0, -1, 1)\n",
    "Y = np.random.normal(Z/2, 1, 1000)\n",
    "Y = np.where(Y < 0, -1, 1)\n",
    "\n",
    "print(\"Asymptotic test \", cond_indep_test_asymptotic(X, Y, Z))\n",
    "print(\"Permutation test \", cond_indep_test_permutation(X, Y, Z))"
   ]
  },
  {
   "cell_type": "markdown",
   "metadata": {},
   "source": [
    "conditionaly dependent"
   ]
  },
  {
   "cell_type": "code",
   "execution_count": 8,
   "metadata": {},
   "outputs": [
    {
     "name": "stdout",
     "output_type": "stream",
     "text": [
      "Asymptotic test  (24.34761771071448, 5.163949545972102e-06)\n",
      "Permutation test  (0.012173808855357241, 0.000999000999000999)\n"
     ]
    }
   ],
   "source": [
    "X = np.random.normal(0, 1, 1000)\n",
    "X = np.where(X < 0, -1, 1)\n",
    "Y = np.random.normal(0, 1, 1000)\n",
    "Y = np.where(Y < 0, -1, 1)\n",
    "Z = np.random.normal((X + Y)/2, 1, 1000)\n",
    "Z = np.where(Z < 0, -1, 1)\n",
    "\n",
    "print(\"Asymptotic test \", cond_indep_test_asymptotic(X, Y, Z))\n",
    "print(\"Permutation test \", cond_indep_test_permutation(X, Y, Z))"
   ]
  },
  {
   "cell_type": "markdown",
   "metadata": {},
   "source": [
    "## Task 2"
   ]
  },
  {
   "cell_type": "code",
   "execution_count": 1,
   "metadata": {},
   "outputs": [],
   "source": [
    "def sample_from_model1():\n",
    "    Z = np.random.normal(0, 1, 1000)\n",
    "    Z = np.where(Z < 0, -1, 1)\n",
    "    X = np.random.normal(Z/2, 1, 1000)\n",
    "    X = np.where(X < 0, -1, 1)\n",
    "    Y = np.random.normal(Z/2, 1, 1000)\n",
    "    Y = np.where(Y < 0, -1, 1)\n",
    "    return X, Y, Z\n",
    "\n",
    "def sample_from_model2():\n",
    "    X = np.random.normal(0, 1, 1000)\n",
    "    X = np.where(X < 0, -1, 1)\n",
    "    Z = np.random.normal(X/2, 1, 1000)\n",
    "    Z = np.where(Z < 0, -1, 1)\n",
    "    Y = np.random.normal(Z/2, 1, 1000)\n",
    "    Y = np.where(Y < 0, -1, 1)\n",
    "    return X, Y, Z\n",
    "\n",
    "def sample_from_model3():\n",
    "    X = np.random.normal(0, 1, 1000)\n",
    "    X = np.where(X < 0, -1, 1)\n",
    "    Y = np.random.normal(0, 1, 1000)\n",
    "    Y = np.where(Y < 0, -1, 1)\n",
    "    Z = np.random.normal((X + Y)/2, 1, 1000)\n",
    "    Z = np.where(Z < 0, -1, 1)\n",
    "    return X, Y, Z"
   ]
  },
  {
   "cell_type": "markdown",
   "metadata": {},
   "source": [
    "### a)"
   ]
  },
  {
   "cell_type": "markdown",
   "metadata": {},
   "source": [
    "answer:"
   ]
  },
  {
   "cell_type": "markdown",
   "metadata": {},
   "source": [
    "### b)"
   ]
  },
  {
   "cell_type": "code",
   "execution_count": null,
   "metadata": {},
   "outputs": [],
   "source": [
    "# model1\n",
    "X, Y, Z = sample_from_model1()\n",
    "mi_XY = mutual_info_score(X, Y)\n",
    "mi_XY_Z = cmi(X, Y, Z)\n",
    "\n",
    "print(f\"Model 1 -> MI(X,Y): {mi_XY}, CMI(X,Y|Z): {mi_XY_Z}\")\n",
    "\n",
    "# model2\n",
    "X, Y, Z = sample_from_model2()\n",
    "mi_XY = mutual_info_score(X, Y)\n",
    "mi_XY_Z = cmi(X, Y, Z)\n",
    "\n",
    "print(f\"Model 2 -> MI(X,Y): {mi_XY}, CMI(X,Y|Z): {mi_XY_Z}\")\n",
    "\n",
    "# model3\n",
    "X, Y, Z = sample_from_model3()\n",
    "mi_XY = mutual_info_score(X, Y)\n",
    "mi_XY_Z = cmi(X, Y, Z)\n",
    "\n",
    "print(f\"Model 3 -> MI(X,Y): {mi_XY}, CMI(X,Y|Z): {mi_XY_Z}\")"
   ]
  },
  {
   "cell_type": "markdown",
   "metadata": {},
   "source": [
    "### c)"
   ]
  },
  {
   "cell_type": "code",
   "execution_count": null,
   "metadata": {},
   "outputs": [],
   "source": []
  }
 ],
 "metadata": {
  "kernelspec": {
   "display_name": "dydaktyka",
   "language": "python",
   "name": "python3"
  },
  "language_info": {
   "codemirror_mode": {
    "name": "ipython",
    "version": 3
   },
   "file_extension": ".py",
   "mimetype": "text/x-python",
   "name": "python",
   "nbconvert_exporter": "python",
   "pygments_lexer": "ipython3",
   "version": "3.10.9"
  }
 },
 "nbformat": 4,
 "nbformat_minor": 2
}
