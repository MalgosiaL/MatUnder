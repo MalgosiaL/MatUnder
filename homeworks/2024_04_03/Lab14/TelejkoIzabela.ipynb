{
 "cells": [
  {
   "cell_type": "markdown",
   "metadata": {},
   "source": [
    "# Mathematical Underpinnings - Lab 6"
   ]
  },
  {
   "cell_type": "code",
   "execution_count": 1,
   "metadata": {},
   "outputs": [],
   "source": [
    "from sklearn.metrics import mutual_info_score\n",
    "import numpy as np\n",
    "import matplotlib.pyplot as plt\n",
    "import seaborn as sns\n",
    "import pandas as pd\n",
    "from tqdm import tqdm"
   ]
  },
  {
   "cell_type": "markdown",
   "metadata": {},
   "source": [
    "## Useful functions"
   ]
  },
  {
   "cell_type": "code",
   "execution_count": 2,
   "metadata": {},
   "outputs": [],
   "source": [
    "def discetize_2bins(X):\n",
    "    X_discrete = 1*(X >= 0)\n",
    "    return X_discrete"
   ]
  },
  {
   "cell_type": "code",
   "execution_count": 3,
   "metadata": {},
   "outputs": [],
   "source": [
    "def conditional_permutation(X, Z):\n",
    "\n",
    "    z_values = np.unique(Z)\n",
    "    n_z_values = len(z_values)\n",
    "    n = len(Z)\n",
    "\n",
    "    X_b = np.zeros(n)\n",
    "\n",
    "    for i in range(n_z_values):\n",
    "\n",
    "        z_value_tmp = z_values[i]\n",
    "\n",
    "        X_b[Z == z_value_tmp] = np.random.permutation(X[Z == z_value_tmp])\n",
    "\n",
    "    return X_b"
   ]
  },
  {
   "cell_type": "code",
   "execution_count": 4,
   "metadata": {},
   "outputs": [],
   "source": [
    "def conditional_mutual_information(X, Y, Z):\n",
    "    z_values = np.unique(Z)\n",
    "    n_z_values = len(z_values)\n",
    "    n = len(Z)\n",
    "\n",
    "    cmi = 0\n",
    "\n",
    "    for i in range(n_z_values):\n",
    "\n",
    "        z_value_tmp = z_values[i]\n",
    "        z_condition = (Z == z_value_tmp)\n",
    "\n",
    "        X_z = X[z_condition]\n",
    "        Y_z = Y[z_condition]\n",
    "\n",
    "        mi_XY_z = mutual_info_score(X_z, Y_z)\n",
    "        p_z = np.sum(z_condition)/n\n",
    "\n",
    "        cmi += p_z*mi_XY_z\n",
    "\n",
    "    return cmi"
   ]
  },
  {
   "cell_type": "code",
   "execution_count": 5,
   "metadata": {},
   "outputs": [],
   "source": [
    "# II(X;Y;Z)\n",
    "def interaction_information(X, Y, Z):\n",
    "    return conditional_mutual_information(X, Y, Z) - mutual_info_score(X, Y)"
   ]
  },
  {
   "cell_type": "code",
   "execution_count": 6,
   "metadata": {},
   "outputs": [],
   "source": [
    "# II(X;Y;Z1;Z2)\n",
    "def interaction_information2(X, Y, Z1, Z2):\n",
    "    Z_1_and_2 = 2*Z2 + Z1\n",
    "    return interaction_information(X, Y, Z_1_and_2) - interaction_information(X, Y, Z1) - interaction_information(X, Y, Z2)"
   ]
  },
  {
   "cell_type": "markdown",
   "metadata": {},
   "source": [
    "## Task 1"
   ]
  },
  {
   "cell_type": "code",
   "execution_count": 7,
   "metadata": {},
   "outputs": [],
   "source": [
    "def secmi2(X, Y, Z):\n",
    "    n_col_Z = Z.shape[1]\n",
    "    Z_1dim = np.dot(Z, 2**np.linspace(0, n_col_Z-1, n_col_Z))\n",
    "    return mutual_info_score(X, Y) + conditional_mutual_information(X, Y, Z_1dim)\n",
    "\n",
    "def secmi3(X, Y, Z):\n",
    "    n_col_Z = Z.shape[1]\n",
    "    Z_1dim = np.dot(Z, 2**np.linspace(0, n_col_Z-1, n_col_Z))\n",
    "    secmi = mutual_info_score(X, Y) + conditional_mutual_information(X, Y, Z_1dim)\n",
    "    for i in range(n_col_Z-1):\n",
    "        for j in range(i+1, n_col_Z):\n",
    "            secmi += interaction_information2(X, Y, Z[:, i], Z[:, j])\n",
    "    return secmi"
   ]
  },
  {
   "cell_type": "markdown",
   "metadata": {},
   "source": [
    "### a)"
   ]
  },
  {
   "cell_type": "code",
   "execution_count": 8,
   "metadata": {},
   "outputs": [],
   "source": [
    "def cond_indep_test_permutation(X, Y, Z, B, stat):\n",
    "\n",
    "    n_col_Z = Z.shape[1]\n",
    "    Z_1dim = np.dot(Z, 2**np.linspace(0, n_col_Z-1, n_col_Z))\n",
    "\n",
    "    if stat == \"cmi\":\n",
    "        stat_value = conditional_mutual_information(X, Y, Z_1dim)\n",
    "    if stat == \"secmi2\":\n",
    "        stat_value = secmi2(X, Y, Z)\n",
    "    if stat == \"secmi3\":\n",
    "        stat_value = secmi3(X, Y, Z)\n",
    "\n",
    "    condition_p_value = 0\n",
    "    for b in range(B):\n",
    "        X_b = conditional_permutation(X, Z_1dim)\n",
    "\n",
    "        if stat == \"cmi\":\n",
    "            stat_value_b = conditional_mutual_information(X_b, Y, Z_1dim)\n",
    "        if stat == \"secmi2\":\n",
    "            stat_value_b = secmi2(X_b, Y, Z)\n",
    "        if stat == \"secmi3\":\n",
    "            stat_value_b = secmi3(X_b, Y, Z)\n",
    "\n",
    "        if stat_value <= stat_value_b:\n",
    "            condition_p_value += 1\n",
    "\n",
    "    p_value = (1 + condition_p_value)/(1 + B)\n",
    "\n",
    "    return 2*len(X)*stat_value, p_value"
   ]
  },
  {
   "cell_type": "markdown",
   "metadata": {},
   "source": [
    "### b)"
   ]
  },
  {
   "cell_type": "code",
   "execution_count": 18,
   "metadata": {},
   "outputs": [],
   "source": [
    "def discretize(v):\n",
    "    v[v < 0] = -1\n",
    "    v[v >= 0] = 1\n",
    "    return v\n",
    "\n",
    "def sample_from_model(n=100):\n",
    "    Y = discretize(np.random.normal(0, 1, n))\n",
    "    Z1 = discretize(np.random.normal(Y/2, 1))\n",
    "    Z2 = discretize(np.random.normal(Y/2, 1))\n",
    "    Z3 = discretize(np.random.normal(Y/2, 1))\n",
    "    X = discretize(np.random.normal(Z1/2, 1))\n",
    "    Z = np.concatenate([np.expand_dims(Z1, 1), np.expand_dims(Z2, 1), np.expand_dims(Z3, 1)], axis=1)\n",
    "    return X, Y, Z\n",
    "\n",
    "X, Y, Z = sample_from_model(1000)"
   ]
  },
  {
   "cell_type": "code",
   "execution_count": 15,
   "metadata": {},
   "outputs": [],
   "source": [
    "def run_test(X, Y, Z, test_type, N=100):\n",
    "    stat_values=[]\n",
    "    p_values = []\n",
    "    for i in range(N):\n",
    "        stat_value, p_value = cond_indep_test_permutation(X, Y, Z, 50, test_type)\n",
    "        stat_values.append(stat_value)\n",
    "        p_values.append(p_value)\n",
    "    rejected = np.sum(np.array(p_values)<=0.05)\n",
    "    print(f'average statistic value: {np.mean(stat_values)}, average p-value: {np.mean(p_values)}')\n",
    "    print(f'{rejected}/{N} hypothesis rejected')\n",
    "    \n",
    "def run_all_tests(X, Y, Z, N=100):\n",
    "    print(f'Test of conditional independence with conditional mutual information:')\n",
    "    run_test(X, Y, Z, 'cmi', N=100)\n",
    "    print('----------------------------------------------------')\n",
    "    print(f'Test of conditional independence with SECMI2:')\n",
    "    run_test(X, Y, Z, 'secmi2', N=100)\n",
    "    print('----------------------------------------------------')\n",
    "    print(f'Test of conditional independence with SECMI3:')\n",
    "    run_test(X, Y, Z, 'secmi3', N=100)"
   ]
  },
  {
   "cell_type": "markdown",
   "metadata": {},
   "source": [
    "$H_{0}: X \\!\\perp\\!\\!\\!\\perp Y | (Z_{1}, Z_{2})$"
   ]
  },
  {
   "cell_type": "code",
   "execution_count": 16,
   "metadata": {},
   "outputs": [
    {
     "name": "stdout",
     "output_type": "stream",
     "text": [
      "Test of conditional independence with conditional mutual information:\n",
      "average statistic value: 1.7790159370889287, average p-value: 0.789607843137255\n",
      "0/100 hypothesis rejected\n",
      "----------------------------------------------------\n",
      "Test of conditional independence with SECMI2:\n",
      "average statistic value: 26.932198810337226, average p-value: 0.24588235294117644\n",
      "0/100 hypothesis rejected\n",
      "----------------------------------------------------\n",
      "Test of conditional independence with SECMI3:\n",
      "average statistic value: 28.098418638571747, average p-value: 0.3227450980392157\n",
      "0/100 hypothesis rejected\n"
     ]
    }
   ],
   "source": [
    "run_all_tests(X, Y, Z[:, :2], N=100)"
   ]
  },
  {
   "cell_type": "markdown",
   "metadata": {},
   "source": [
    "$H_{0}: X \\!\\perp\\!\\!\\!\\perp Y | (Z_{2}, Z_{3})$"
   ]
  },
  {
   "cell_type": "code",
   "execution_count": 17,
   "metadata": {
    "scrolled": true
   },
   "outputs": [
    {
     "name": "stdout",
     "output_type": "stream",
     "text": [
      "Test of conditional independence with conditional mutual information:\n",
      "average statistic value: 20.25994844049766, average p-value: 0.020784313725490187\n",
      "100/100 hypothesis rejected\n",
      "----------------------------------------------------\n",
      "Test of conditional independence with SECMI2:\n",
      "average statistic value: 45.413131313745964, average p-value: 0.019607843137254895\n",
      "100/100 hypothesis rejected\n",
      "----------------------------------------------------\n",
      "Test of conditional independence with SECMI3:\n",
      "average statistic value: 46.66184189683528, average p-value: 0.019607843137254895\n",
      "100/100 hypothesis rejected\n"
     ]
    }
   ],
   "source": [
    "run_all_tests(X, Y, Z[:, 1:], N=100)"
   ]
  },
  {
   "cell_type": "markdown",
   "metadata": {},
   "source": [
    "### c)"
   ]
  },
  {
   "cell_type": "code",
   "execution_count": 53,
   "metadata": {},
   "outputs": [],
   "source": [
    "def sample_from_model2(n=1000):\n",
    "    X = np.random.binomial(1, 1/2, n)\n",
    "    Z1 = np.random.binomial(1, 1/2, n)\n",
    "    Z2 = np.random.binomial(1, 1/2, n)\n",
    "    Z3 = np.random.binomial(1, 1/2, n)\n",
    "    Z = np.concatenate([np.expand_dims(Z1, 1), np.expand_dims(Z2, 1), np.expand_dims(Z3, 1)], axis=1)\n",
    "    \n",
    "    cond = (X + Z1 + Z2) % 2\n",
    "    f = lambda x: x + 0.2 * (-1)**x\n",
    "    prob = f(cond)\n",
    "    Y = np.random.binomial(1, prob)\n",
    "    return X, Y, Z\n",
    "\n",
    "X, Y, Z = sample_from_model2()"
   ]
  },
  {
   "cell_type": "markdown",
   "metadata": {},
   "source": [
    "$H_{0}: X \\!\\perp\\!\\!\\!\\perp Y | (Z_{1}, Z_{2})$"
   ]
  },
  {
   "cell_type": "code",
   "execution_count": 54,
   "metadata": {},
   "outputs": [
    {
     "name": "stdout",
     "output_type": "stream",
     "text": [
      "Test of conditional independence with conditional mutual information:\n",
      "average statistic value: 361.6381442513802, average p-value: 0.019607843137254895\n",
      "100/100 hypothesis rejected\n",
      "----------------------------------------------------\n",
      "Test of conditional independence with SECMI2:\n",
      "average statistic value: 361.74161934665045, average p-value: 0.019607843137254895\n",
      "100/100 hypothesis rejected\n",
      "----------------------------------------------------\n",
      "Test of conditional independence with SECMI3:\n",
      "average statistic value: 720.6979523455254, average p-value: 0.019607843137254895\n",
      "100/100 hypothesis rejected\n"
     ]
    }
   ],
   "source": [
    "run_all_tests(X, Y, Z[:, :2], N=100)"
   ]
  },
  {
   "cell_type": "markdown",
   "metadata": {},
   "source": [
    "$H_{0}: X \\!\\perp\\!\\!\\!\\perp Y | (Z_{2}, Z_{3})$"
   ]
  },
  {
   "cell_type": "code",
   "execution_count": 55,
   "metadata": {
    "scrolled": true
   },
   "outputs": [
    {
     "name": "stdout",
     "output_type": "stream",
     "text": [
      "Test of conditional independence with conditional mutual information:\n",
      "average statistic value: 4.128131518255773, average p-value: 0.40470588235294125\n",
      "0/100 hypothesis rejected\n",
      "----------------------------------------------------\n",
      "Test of conditional independence with SECMI2:\n",
      "average statistic value: 4.231606613526196, average p-value: 0.503921568627451\n",
      "0/100 hypothesis rejected\n",
      "----------------------------------------------------\n",
      "Test of conditional independence with SECMI3:\n",
      "average statistic value: 5.678436867287572, average p-value: 0.43568627450980396\n",
      "0/100 hypothesis rejected\n"
     ]
    }
   ],
   "source": [
    "run_all_tests(X, Y, Z[:, 1:], N=100)"
   ]
  },
  {
   "cell_type": "markdown",
   "metadata": {},
   "source": [
    "## Task 2\n",
    " \n",
    "in R"
   ]
  }
 ],
 "metadata": {
  "kernelspec": {
   "display_name": "Python 3 (ipykernel)",
   "language": "python",
   "name": "python3"
  },
  "language_info": {
   "codemirror_mode": {
    "name": "ipython",
    "version": 3
   },
   "file_extension": ".py",
   "mimetype": "text/x-python",
   "name": "python",
   "nbconvert_exporter": "python",
   "pygments_lexer": "ipython3",
   "version": "3.10.9"
  }
 },
 "nbformat": 4,
 "nbformat_minor": 2
}
