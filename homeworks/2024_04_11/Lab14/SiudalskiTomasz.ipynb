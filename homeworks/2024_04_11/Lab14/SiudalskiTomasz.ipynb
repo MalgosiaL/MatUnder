{
  "cells": [
    {
      "cell_type": "markdown",
      "metadata": {
        "id": "vdcvf6SSl1SE"
      },
      "source": [
        "# Mathematical Underpinnings - Lab 7"
      ]
    },
    {
      "cell_type": "code",
      "execution_count": 4,
      "metadata": {
        "id": "XMmRp3ftl1SH"
      },
      "outputs": [],
      "source": [
        "import tensorflow as tf\n",
        "import keras\n",
        "import numpy as np\n",
        "import matplotlib.pyplot as plt\n",
        "\n",
        "from keras.layers import Input, Dense, Lambda, InputLayer, concatenate\n",
        "from keras.models import Model, Sequential\n",
        "from keras import backend as K\n",
        "from keras import metrics\n",
        "from keras.datasets import mnist\n",
        "from keras.utils import to_categorical\n",
        "\n",
        "from sklearn.model_selection import train_test_split"
      ]
    },
    {
      "cell_type": "markdown",
      "metadata": {
        "id": "Miu3nt5Xl1SI"
      },
      "source": [
        "## Task 1\n",
        "\n",
        "### a)"
      ]
    },
    {
      "cell_type": "code",
      "execution_count": 5,
      "metadata": {
        "id": "V6nuk5H1l1SJ"
      },
      "outputs": [],
      "source": [
        "def KL_mult_normal(mu1, mu2, Sigma1, Sigma2):\n",
        "    # the formula is here: https://statproofbook.github.io/P/mvn-kl.html\n",
        "    return (np.dot(mu2-mu1, np.dot(np.linalg.inv(Sigma2), mu2 - mu1)) + np.sum(np.diag(np.dot(np.linalg.inv(Sigma2), Sigma1))) \\\n",
        "        - np.log(np.linalg.det(Sigma1)/np.linalg.det(Sigma2)) - mu1.shape[0])/2"
      ]
    },
    {
      "cell_type": "code",
      "execution_count": 6,
      "metadata": {
        "id": "FmFrBHkgl1SJ"
      },
      "outputs": [],
      "source": [
        "def T_opt(x, mu1, mu2, Sigma1, Sigma2):\n",
        "    # compute log(p(x)/q(x)), where p and q are multivariate normal with parameters mu1, Sigma1 and mu2, Sigma2 respectively\n",
        "    # density of multivariate normal distribution is e.g. here: https://en.wikipedia.org/wiki/Multivariate_normal_distribution\n",
        "    res = np.zeros(x.shape[0])\n",
        "    for i in range(x.shape[0]):\n",
        "        ft = -np.log(np.linalg.det(Sigma1))/2 - np.dot(np.dot(np.linalg.inv(Sigma1), (x[i,:] - mu1)), x[i,:] - mu1)/2\n",
        "        st = np.log(np.linalg.det(Sigma2))/2 + np.dot(np.dot(np.linalg.inv(Sigma2), x[i,:] - mu2), x[i,:] - mu2)/2\n",
        "        res[i] = ft+st\n",
        "    return res"
      ]
    },
    {
      "cell_type": "markdown",
      "metadata": {
        "id": "dZas_vzRl1SJ"
      },
      "source": [
        "### b)"
      ]
    },
    {
      "cell_type": "code",
      "execution_count": 7,
      "metadata": {
        "id": "JlOhBgTql1SJ"
      },
      "outputs": [],
      "source": [
        "# sample n = 10000 observations out of np.random.multivariate_normal(mu1, Sigma1, size=n)\n",
        "# and sample n = 10000 observations out of np.random.multivariate_normal(mu2, Sigma2, size=n)\n",
        "# then concatenate the two matrices (your final x is a matrix 2n x 5)\n",
        "# then create a vector y that will have n ones and n zeros (of size 2n)\n",
        "\n",
        "# np.random.seed(123)\n",
        "n = 10000\n",
        "mu1 = np.array([1, 1, 1, 0, 0])/5\n",
        "mu2 = np.array([0, 0, 1, 1, 1])/5\n",
        "Sigma1 = (np.eye(5)*9 + np.ones((5,5)))/10\n",
        "Sigma2 = 1.2*np.eye(5) - np.ones((5,5))/5\n",
        "x1 = np.random.multivariate_normal(mu1, Sigma1, size=n)\n",
        "x2 = np.random.multivariate_normal(mu2, Sigma2, size=n)\n",
        "x = np.concatenate((x1, x2), axis=0)\n",
        "y = np.concatenate((1.0*np.ones(n), 0.0*np.zeros(n)))\n"
      ]
    },
    {
      "cell_type": "code",
      "execution_count": 8,
      "metadata": {
        "id": "7YA9-af8l1SK"
      },
      "outputs": [],
      "source": [
        "def DV_fun(y, t):\n",
        "    # y - an indicator [y[i]=1 if t[i] corresponds to x sampled from the distribution p, y[i]=0 otherwise]\n",
        "    # t a vector (of the same length as y) t = log(p(x)/q(x))\n",
        "    n1 = np.sum(y)\n",
        "    n2 = np.sum(1 - y)\n",
        "    return np.sum(t*y)/n1 - np.log(np.sum(np.exp(t)*(1-y))/n2)"
      ]
    },
    {
      "cell_type": "code",
      "execution_count": 9,
      "metadata": {
        "colab": {
          "base_uri": "https://localhost:8080/"
        },
        "id": "oLzlpPpCl1SK",
        "outputId": "c6ea90c4-5432-42c9-dbde-572d9d30100c"
      },
      "outputs": [
        {
          "output_type": "execute_result",
          "data": {
            "text/plain": [
              "2.169075737042572"
            ]
          },
          "metadata": {},
          "execution_count": 9
        }
      ],
      "source": [
        "KL_mult_normal(mu1, mu2, Sigma1, Sigma2)"
      ]
    },
    {
      "cell_type": "code",
      "execution_count": 10,
      "metadata": {
        "colab": {
          "base_uri": "https://localhost:8080/"
        },
        "id": "30KzVxSHl1SK",
        "outputId": "3c1be18d-f7c4-47ca-a286-e5086206dd7e"
      },
      "outputs": [
        {
          "output_type": "execute_result",
          "data": {
            "text/plain": [
              "1.8011401139807965"
            ]
          },
          "metadata": {},
          "execution_count": 10
        }
      ],
      "source": [
        "DV_fun(y, T_opt(x, mu1, mu2, Sigma1, Sigma2))"
      ]
    },
    {
      "cell_type": "code",
      "source": [
        "# 18:56"
      ],
      "metadata": {
        "id": "JJaaQLzFDiBx"
      },
      "execution_count": 11,
      "outputs": []
    },
    {
      "cell_type": "markdown",
      "metadata": {
        "id": "EplD4T6-l1SK"
      },
      "source": [
        "### c)"
      ]
    },
    {
      "cell_type": "code",
      "execution_count": 12,
      "metadata": {
        "id": "JHMxjpLHl1SK"
      },
      "outputs": [],
      "source": [
        "def DV_loss(y_true, T_x):\n",
        "    n1 = tf.math.reduce_sum(y_true)\n",
        "    n2 = tf.math.reduce_sum(tf.subtract(tf.convert_to_tensor(1.0), y_true))\n",
        "    first_term = tf.math.reduce_sum(tf.math.multiply(T_x, y_true))/n1\n",
        "    second_term = tf.math.log(tf.math.reduce_sum(tf.math.multiply(tf.math.exp(T_x), tf.subtract(tf.convert_to_tensor(1.0), y_true)))/n2)\n",
        "    return -(first_term - second_term)"
      ]
    },
    {
      "cell_type": "markdown",
      "metadata": {
        "id": "-8IbmVHrl1SL"
      },
      "source": [
        "### d)"
      ]
    },
    {
      "cell_type": "code",
      "execution_count": 13,
      "metadata": {
        "id": "IuHcTFoHl1SL"
      },
      "outputs": [],
      "source": [
        "model_inputs = keras.Input(shape=(5))\n",
        "layer_out = Dense(64, activation='softplus')(model_inputs)\n",
        "#layer_out = Dense(125, activation='tanh')(layer_out)\n",
        "layer_out = Dense(64)(layer_out)\n",
        "model_outputs = Dense(1)(layer_out)\n",
        "model = keras.Model(model_inputs, model_outputs)\n",
        "\n",
        "optimizer = keras.optimizers.SGD(learning_rate=1e-2)\n",
        "es = tf.keras.callbacks.EarlyStopping(monitor='val_loss', mode='min', verbose=1, patience=5)\n",
        "model.compile(optimizer=optimizer, loss=DV_loss)"
      ]
    },
    {
      "cell_type": "code",
      "execution_count": 14,
      "metadata": {
        "id": "iQm5BL24l1SL"
      },
      "outputs": [],
      "source": [
        "x_train, x_test, y_train, y_test = train_test_split(x, y, test_size=0.25)"
      ]
    },
    {
      "cell_type": "code",
      "execution_count": 15,
      "metadata": {
        "colab": {
          "base_uri": "https://localhost:8080/"
        },
        "id": "rQQjoLdHl1SM",
        "outputId": "dc307391-0558-4fd3-8523-692db20f1cf2"
      },
      "outputs": [
        {
          "output_type": "stream",
          "name": "stdout",
          "text": [
            "Epoch 1/100\n",
            "15/15 [==============================] - 3s 63ms/step - loss: -0.0152 - val_loss: -0.0139\n",
            "Epoch 2/100\n",
            "15/15 [==============================] - 0s 12ms/step - loss: -0.0385 - val_loss: -0.0325\n",
            "Epoch 3/100\n",
            "15/15 [==============================] - 0s 11ms/step - loss: -0.0532 - val_loss: -0.0451\n",
            "Epoch 4/100\n",
            "15/15 [==============================] - 0s 8ms/step - loss: -0.0632 - val_loss: -0.0541\n",
            "Epoch 5/100\n",
            "15/15 [==============================] - 0s 9ms/step - loss: -0.0705 - val_loss: -0.0611\n",
            "Epoch 6/100\n",
            "15/15 [==============================] - 0s 7ms/step - loss: -0.0765 - val_loss: -0.0669\n",
            "Epoch 7/100\n",
            "15/15 [==============================] - 0s 7ms/step - loss: -0.0812 - val_loss: -0.0720\n",
            "Epoch 8/100\n",
            "15/15 [==============================] - 0s 7ms/step - loss: -0.0853 - val_loss: -0.0768\n",
            "Epoch 9/100\n",
            "15/15 [==============================] - 0s 8ms/step - loss: -0.0895 - val_loss: -0.0813\n",
            "Epoch 10/100\n",
            "15/15 [==============================] - 0s 7ms/step - loss: -0.0936 - val_loss: -0.0855\n",
            "Epoch 11/100\n",
            "15/15 [==============================] - 0s 7ms/step - loss: -0.0969 - val_loss: -0.0896\n",
            "Epoch 12/100\n",
            "15/15 [==============================] - 0s 8ms/step - loss: -0.1008 - val_loss: -0.0939\n",
            "Epoch 13/100\n",
            "15/15 [==============================] - 0s 7ms/step - loss: -0.1049 - val_loss: -0.0982\n",
            "Epoch 14/100\n",
            "15/15 [==============================] - 0s 9ms/step - loss: -0.1082 - val_loss: -0.1026\n",
            "Epoch 15/100\n",
            "15/15 [==============================] - 0s 8ms/step - loss: -0.1124 - val_loss: -0.1071\n",
            "Epoch 16/100\n",
            "15/15 [==============================] - 0s 8ms/step - loss: -0.1166 - val_loss: -0.1117\n",
            "Epoch 17/100\n",
            "15/15 [==============================] - 0s 8ms/step - loss: -0.1208 - val_loss: -0.1166\n",
            "Epoch 18/100\n",
            "15/15 [==============================] - 0s 8ms/step - loss: -0.1256 - val_loss: -0.1215\n",
            "Epoch 19/100\n",
            "15/15 [==============================] - 0s 8ms/step - loss: -0.1304 - val_loss: -0.1268\n",
            "Epoch 20/100\n",
            "15/15 [==============================] - 0s 8ms/step - loss: -0.1355 - val_loss: -0.1324\n",
            "Epoch 21/100\n",
            "15/15 [==============================] - 0s 8ms/step - loss: -0.1408 - val_loss: -0.1382\n",
            "Epoch 22/100\n",
            "15/15 [==============================] - 0s 9ms/step - loss: -0.1468 - val_loss: -0.1445\n",
            "Epoch 23/100\n",
            "15/15 [==============================] - 0s 8ms/step - loss: -0.1529 - val_loss: -0.1512\n",
            "Epoch 24/100\n",
            "15/15 [==============================] - 0s 8ms/step - loss: -0.1593 - val_loss: -0.1584\n",
            "Epoch 25/100\n",
            "15/15 [==============================] - 0s 8ms/step - loss: -0.1672 - val_loss: -0.1663\n",
            "Epoch 26/100\n",
            "15/15 [==============================] - 0s 8ms/step - loss: -0.1746 - val_loss: -0.1746\n",
            "Epoch 27/100\n",
            "15/15 [==============================] - 0s 8ms/step - loss: -0.1831 - val_loss: -0.1839\n",
            "Epoch 28/100\n",
            "15/15 [==============================] - 0s 8ms/step - loss: -0.1931 - val_loss: -0.1939\n",
            "Epoch 29/100\n",
            "15/15 [==============================] - 0s 8ms/step - loss: -0.2028 - val_loss: -0.2047\n",
            "Epoch 30/100\n",
            "15/15 [==============================] - 0s 9ms/step - loss: -0.2139 - val_loss: -0.2167\n",
            "Epoch 31/100\n",
            "15/15 [==============================] - 0s 8ms/step - loss: -0.2264 - val_loss: -0.2300\n",
            "Epoch 32/100\n",
            "15/15 [==============================] - 0s 8ms/step - loss: -0.2402 - val_loss: -0.2446\n",
            "Epoch 33/100\n",
            "15/15 [==============================] - 0s 8ms/step - loss: -0.2558 - val_loss: -0.2611\n",
            "Epoch 34/100\n",
            "15/15 [==============================] - 0s 8ms/step - loss: -0.2725 - val_loss: -0.2794\n",
            "Epoch 35/100\n",
            "15/15 [==============================] - 0s 8ms/step - loss: -0.2923 - val_loss: -0.3000\n",
            "Epoch 36/100\n",
            "15/15 [==============================] - 0s 8ms/step - loss: -0.3136 - val_loss: -0.3231\n",
            "Epoch 37/100\n",
            "15/15 [==============================] - 0s 7ms/step - loss: -0.3384 - val_loss: -0.3495\n",
            "Epoch 38/100\n",
            "15/15 [==============================] - 0s 8ms/step - loss: -0.3669 - val_loss: -0.3794\n",
            "Epoch 39/100\n",
            "15/15 [==============================] - 0s 8ms/step - loss: -0.3985 - val_loss: -0.4137\n",
            "Epoch 40/100\n",
            "15/15 [==============================] - 0s 8ms/step - loss: -0.4355 - val_loss: -0.4532\n",
            "Epoch 41/100\n",
            "15/15 [==============================] - 0s 8ms/step - loss: -0.4790 - val_loss: -0.4990\n",
            "Epoch 42/100\n",
            "15/15 [==============================] - 0s 7ms/step - loss: -0.5282 - val_loss: -0.5519\n",
            "Epoch 43/100\n",
            "15/15 [==============================] - 0s 8ms/step - loss: -0.5866 - val_loss: -0.6144\n",
            "Epoch 44/100\n",
            "15/15 [==============================] - 0s 8ms/step - loss: -0.6553 - val_loss: -0.6865\n",
            "Epoch 45/100\n",
            "15/15 [==============================] - 0s 8ms/step - loss: -0.7350 - val_loss: -0.7714\n",
            "Epoch 46/100\n",
            "15/15 [==============================] - 0s 8ms/step - loss: -0.8308 - val_loss: -0.8705\n",
            "Epoch 47/100\n",
            "15/15 [==============================] - 0s 9ms/step - loss: -0.9429 - val_loss: -0.9854\n",
            "Epoch 48/100\n",
            "15/15 [==============================] - 0s 7ms/step - loss: -1.0718 - val_loss: -1.1159\n",
            "Epoch 49/100\n",
            "15/15 [==============================] - 0s 8ms/step - loss: -1.2189 - val_loss: -1.2544\n",
            "Epoch 50/100\n",
            "15/15 [==============================] - 0s 8ms/step - loss: -1.3881 - val_loss: -1.3894\n",
            "Epoch 51/100\n",
            "15/15 [==============================] - 0s 8ms/step - loss: -1.5574 - val_loss: -1.4891\n",
            "Epoch 52/100\n",
            "15/15 [==============================] - 0s 8ms/step - loss: -1.7159 - val_loss: -1.5213\n",
            "Epoch 53/100\n",
            "15/15 [==============================] - 0s 7ms/step - loss: -1.8524 - val_loss: -1.6471\n",
            "Epoch 54/100\n",
            "15/15 [==============================] - 0s 8ms/step - loss: -1.9184 - val_loss: -1.5014\n",
            "Epoch 55/100\n",
            "15/15 [==============================] - 0s 9ms/step - loss: -1.9738 - val_loss: -1.5848\n",
            "Epoch 56/100\n",
            "15/15 [==============================] - 0s 8ms/step - loss: -1.9687 - val_loss: -1.5468\n",
            "Epoch 57/100\n",
            "15/15 [==============================] - 0s 8ms/step - loss: -1.9405 - val_loss: -1.4856\n",
            "Epoch 58/100\n",
            "15/15 [==============================] - 0s 8ms/step - loss: -1.9604 - val_loss: -1.6507\n",
            "Epoch 59/100\n",
            "15/15 [==============================] - 0s 7ms/step - loss: -1.9713 - val_loss: -1.5706\n",
            "Epoch 60/100\n",
            "15/15 [==============================] - 0s 8ms/step - loss: -2.0095 - val_loss: -1.4501\n",
            "Epoch 61/100\n",
            "15/15 [==============================] - 0s 8ms/step - loss: -1.9339 - val_loss: -1.5901\n",
            "Epoch 62/100\n",
            "15/15 [==============================] - 0s 7ms/step - loss: -1.9620 - val_loss: -1.5464\n",
            "Epoch 63/100\n",
            "15/15 [==============================] - 0s 9ms/step - loss: -2.0114 - val_loss: -1.8416\n",
            "Epoch 64/100\n",
            "15/15 [==============================] - 0s 7ms/step - loss: -2.0604 - val_loss: -1.3725\n",
            "Epoch 65/100\n",
            "15/15 [==============================] - 0s 8ms/step - loss: -1.9802 - val_loss: -1.3752\n",
            "Epoch 66/100\n",
            "15/15 [==============================] - 0s 8ms/step - loss: -2.0230 - val_loss: -1.4412\n",
            "Epoch 67/100\n",
            "15/15 [==============================] - 0s 7ms/step - loss: -2.0571 - val_loss: -1.1707\n",
            "Epoch 68/100\n",
            "15/15 [==============================] - 0s 7ms/step - loss: -2.0078 - val_loss: -1.5127\n",
            "Epoch 68: early stopping\n"
          ]
        }
      ],
      "source": [
        "hist = model.fit(x_train, y_train, epochs=100, batch_size=1024, validation_data=(x_test, y_test), callbacks=[es])"
      ]
    },
    {
      "cell_type": "code",
      "execution_count": 16,
      "metadata": {
        "colab": {
          "base_uri": "https://localhost:8080/",
          "height": 430
        },
        "id": "-kYo5KkJl1SM",
        "outputId": "d3ae2a9c-ce7b-4948-805f-4ae39e1eae1b"
      },
      "outputs": [
        {
          "output_type": "display_data",
          "data": {
            "text/plain": [
              "<Figure size 640x480 with 1 Axes>"
            ],
            "image/png": "[encoded data removed]"
          },
          "metadata": {}
        }
      ],
      "source": [
        "plt.plot(hist.history['loss'])\n",
        "plt.plot(hist.history['val_loss'])\n",
        "plt.show()"
      ]
    },
    {
      "cell_type": "markdown",
      "metadata": {
        "id": "zAUPAi7Yl1SM"
      },
      "source": [
        "### e)"
      ]
    },
    {
      "cell_type": "code",
      "execution_count": 17,
      "metadata": {
        "colab": {
          "base_uri": "https://localhost:8080/"
        },
        "id": "c3qnEYqql1SM",
        "outputId": "727c4c6f-c822-45c4-f28d-4ca35c278ee9"
      },
      "outputs": [
        {
          "output_type": "stream",
          "name": "stdout",
          "text": [
            "625/625 [==============================] - 1s 2ms/step\n"
          ]
        }
      ],
      "source": [
        "t_x_pred = model.predict(x)[:,0]"
      ]
    },
    {
      "cell_type": "code",
      "execution_count": 18,
      "metadata": {
        "id": "4wL4M8Eel1SN"
      },
      "outputs": [],
      "source": [
        "t_x_opt = T_opt(x, mu1, mu2, Sigma1, Sigma2)"
      ]
    },
    {
      "cell_type": "code",
      "execution_count": 19,
      "metadata": {
        "colab": {
          "base_uri": "https://localhost:8080/",
          "height": 430
        },
        "id": "LF1e6FdWl1SN",
        "outputId": "88c39eaa-36a7-40d8-b235-59ed2aedb3d2"
      },
      "outputs": [
        {
          "output_type": "display_data",
          "data": {
            "text/plain": [
              "<Figure size 640x480 with 1 Axes>"
            ],
            "image/png": "[encoded data removed]"
          },
          "metadata": {}
        }
      ],
      "source": [
        "plt.plot(t_x_opt)\n",
        "plt.plot(t_x_pred)\n",
        "\n",
        "plt.show()"
      ]
    },
    {
      "cell_type": "code",
      "execution_count": 20,
      "metadata": {
        "colab": {
          "base_uri": "https://localhost:8080/",
          "height": 430
        },
        "id": "FlmICDCal1SN",
        "outputId": "58cda4d7-c764-4bb9-a0c7-5a8b0d9fe25d"
      },
      "outputs": [
        {
          "output_type": "display_data",
          "data": {
            "text/plain": [
              "<Figure size 640x480 with 1 Axes>"
            ],
            "image/png": "[encoded data removed]"
          },
          "metadata": {}
        }
      ],
      "source": [
        "plt.plot(t_x_pred, t_x_opt, \"o\")\n",
        "plt.show()"
      ]
    },
    {
      "cell_type": "code",
      "execution_count": 21,
      "metadata": {
        "colab": {
          "base_uri": "https://localhost:8080/"
        },
        "id": "qfHonEMZl1SN",
        "outputId": "0018bd20-b588-4c7a-cd5d-75f0a6c2d35d"
      },
      "outputs": [
        {
          "output_type": "execute_result",
          "data": {
            "text/plain": [
              "1.4060234266368141"
            ]
          },
          "metadata": {},
          "execution_count": 21
        }
      ],
      "source": [
        "DV_fun(y, t_x_pred)"
      ]
    },
    {
      "cell_type": "code",
      "execution_count": 22,
      "metadata": {
        "colab": {
          "base_uri": "https://localhost:8080/"
        },
        "id": "Y98oUKf9l1SO",
        "outputId": "424e58e4-c02e-442e-d880-7d2e75daecfe"
      },
      "outputs": [
        {
          "output_type": "execute_result",
          "data": {
            "text/plain": [
              "1.8011401139807965"
            ]
          },
          "metadata": {},
          "execution_count": 22
        }
      ],
      "source": [
        "DV_fun(y, t_x_opt)"
      ]
    },
    {
      "cell_type": "code",
      "execution_count": 23,
      "metadata": {
        "id": "ee2YQL7ol1SO"
      },
      "outputs": [],
      "source": [
        "# new data\n",
        "n_new = 10000\n",
        "x1 = np.random.multivariate_normal(mu1, Sigma1, size=n_new)\n",
        "x2 = np.random.multivariate_normal(mu2, Sigma2, size=n_new)\n",
        "x_new = np.concatenate((x1, x2), axis=0)\n",
        "y_new = np.concatenate((1.0*np.ones(n_new), 0.0*np.zeros(n_new)))"
      ]
    },
    {
      "cell_type": "code",
      "source": [
        "t_x_pred = model.predict(x_new)\n",
        "t_x_pred = t_x_pred[:,0]"
      ],
      "metadata": {
        "colab": {
          "base_uri": "https://localhost:8080/"
        },
        "id": "MvCCZFdwMDx4",
        "outputId": "db9ee5a0-93c9-4eb2-ced8-34129e4e272d"
      },
      "execution_count": 24,
      "outputs": [
        {
          "output_type": "stream",
          "name": "stdout",
          "text": [
            "625/625 [==============================] - 1s 2ms/step\n"
          ]
        }
      ]
    },
    {
      "cell_type": "code",
      "source": [
        "t_x_opt = T_opt(x_new, mu1, mu2, Sigma1, Sigma2)"
      ],
      "metadata": {
        "id": "NU_cfpmGMK1c"
      },
      "execution_count": 25,
      "outputs": []
    },
    {
      "cell_type": "code",
      "source": [
        "DV_fun(y_new, t_x_pred)"
      ],
      "metadata": {
        "colab": {
          "base_uri": "https://localhost:8080/"
        },
        "id": "WKuFMLnxMPVo",
        "outputId": "273e3a88-a2ba-4d1d-e47c-be0daf769fee"
      },
      "execution_count": 26,
      "outputs": [
        {
          "output_type": "execute_result",
          "data": {
            "text/plain": [
              "2.3402461977142206"
            ]
          },
          "metadata": {},
          "execution_count": 26
        }
      ]
    },
    {
      "cell_type": "code",
      "source": [
        "DV_fun(y_new, t_x_opt)"
      ],
      "metadata": {
        "colab": {
          "base_uri": "https://localhost:8080/"
        },
        "id": "5quaMnF2MSxF",
        "outputId": "5fa882e1-b12b-420b-9228-f0fbde0a7d93"
      },
      "execution_count": 27,
      "outputs": [
        {
          "output_type": "execute_result",
          "data": {
            "text/plain": [
              "2.4079491137150435"
            ]
          },
          "metadata": {},
          "execution_count": 27
        }
      ]
    },
    {
      "cell_type": "markdown",
      "source": [
        "#### HOMEWORK - just f)"
      ],
      "metadata": {
        "id": "y479sVW4lFU8"
      }
    },
    {
      "cell_type": "markdown",
      "metadata": {
        "id": "iSIk6efpl1SO"
      },
      "source": [
        "### f)"
      ]
    },
    {
      "cell_type": "code",
      "execution_count": 61,
      "metadata": {
        "id": "_ZF06PZUl1SO"
      },
      "outputs": [],
      "source": [
        "def NWJ_loss(y_true, T_x):\n",
        "    n1 = tf.math.reduce_sum(y_true)\n",
        "    n2 = tf.math.reduce_sum(tf.subtract(tf.convert_to_tensor(1.0), y_true))\n",
        "    first_term = tf.math.reduce_sum(tf.math.multiply(T_x, y_true))/n1\n",
        "    second_term = tf.math.reduce_sum(tf.math.multiply(tf.math.exp(T_x), tf.subtract(tf.convert_to_tensor(1.0), y_true)))/n2\n",
        "    return -(first_term - second_term)"
      ]
    },
    {
      "cell_type": "code",
      "source": [
        "def NWJ_fun(y, t):\n",
        "    return np.mean(t[y == 1]) - np.mean(np.exp(t[y == 0] - 1))"
      ],
      "metadata": {
        "id": "lnDLzn9rk2vN"
      },
      "execution_count": 62,
      "outputs": []
    },
    {
      "cell_type": "code",
      "execution_count": 63,
      "metadata": {
        "id": "b0ghJLQMXV9z"
      },
      "outputs": [],
      "source": [
        "model_inputs = keras.Input(shape=(5))\n",
        "layer_out = Dense(64, activation='softplus')(model_inputs)\n",
        "#layer_out = Dense(125, activation='tanh')(layer_out)\n",
        "layer_out = Dense(64)(layer_out)\n",
        "model_outputs = Dense(1)(layer_out)\n",
        "model = keras.Model(model_inputs, model_outputs)\n",
        "\n",
        "optimizer = keras.optimizers.SGD(learning_rate=1e-2)\n",
        "es = tf.keras.callbacks.EarlyStopping(monitor='val_loss', mode='min', verbose=1, patience=5)\n",
        "model.compile(optimizer=optimizer, loss=NWJ_loss)"
      ]
    },
    {
      "cell_type": "code",
      "execution_count": 64,
      "metadata": {
        "colab": {
          "base_uri": "https://localhost:8080/"
        },
        "outputId": "458561d1-6888-478f-b420-5fe7c1e98adc",
        "id": "wT5rf0zmXV9z"
      },
      "outputs": [
        {
          "output_type": "stream",
          "name": "stdout",
          "text": [
            "Epoch 1/100\n",
            "15/15 [==============================] - 1s 18ms/step - loss: 0.9623 - val_loss: 0.9511\n",
            "Epoch 2/100\n",
            "15/15 [==============================] - 0s 8ms/step - loss: 0.9466 - val_loss: 0.9409\n",
            "Epoch 3/100\n",
            "15/15 [==============================] - 0s 8ms/step - loss: 0.9375 - val_loss: 0.9337\n",
            "Epoch 4/100\n",
            "15/15 [==============================] - 0s 8ms/step - loss: 0.9308 - val_loss: 0.9282\n",
            "Epoch 5/100\n",
            "15/15 [==============================] - 0s 9ms/step - loss: 0.9255 - val_loss: 0.9241\n",
            "Epoch 6/100\n",
            "15/15 [==============================] - 0s 7ms/step - loss: 0.9217 - val_loss: 0.9210\n",
            "Epoch 7/100\n",
            "15/15 [==============================] - 0s 7ms/step - loss: 0.9185 - val_loss: 0.9178\n",
            "Epoch 8/100\n",
            "15/15 [==============================] - 0s 7ms/step - loss: 0.9155 - val_loss: 0.9153\n",
            "Epoch 9/100\n",
            "15/15 [==============================] - 0s 9ms/step - loss: 0.9128 - val_loss: 0.9129\n",
            "Epoch 10/100\n",
            "15/15 [==============================] - 0s 7ms/step - loss: 0.9103 - val_loss: 0.9104\n",
            "Epoch 11/100\n",
            "15/15 [==============================] - 0s 8ms/step - loss: 0.9077 - val_loss: 0.9085\n",
            "Epoch 12/100\n",
            "15/15 [==============================] - 0s 9ms/step - loss: 0.9052 - val_loss: 0.9059\n",
            "Epoch 13/100\n",
            "15/15 [==============================] - 0s 8ms/step - loss: 0.9027 - val_loss: 0.9036\n",
            "Epoch 14/100\n",
            "15/15 [==============================] - 0s 8ms/step - loss: 0.8999 - val_loss: 0.9009\n",
            "Epoch 15/100\n",
            "15/15 [==============================] - 0s 8ms/step - loss: 0.8973 - val_loss: 0.8983\n",
            "Epoch 16/100\n",
            "15/15 [==============================] - 0s 8ms/step - loss: 0.8944 - val_loss: 0.8957\n",
            "Epoch 17/100\n",
            "15/15 [==============================] - 0s 9ms/step - loss: 0.8914 - val_loss: 0.8930\n",
            "Epoch 18/100\n",
            "15/15 [==============================] - 0s 8ms/step - loss: 0.8887 - val_loss: 0.8894\n",
            "Epoch 19/100\n",
            "15/15 [==============================] - 0s 7ms/step - loss: 0.8849 - val_loss: 0.8862\n",
            "Epoch 20/100\n",
            "15/15 [==============================] - 0s 8ms/step - loss: 0.8813 - val_loss: 0.8826\n",
            "Epoch 21/100\n",
            "15/15 [==============================] - 0s 7ms/step - loss: 0.8778 - val_loss: 0.8794\n",
            "Epoch 22/100\n",
            "15/15 [==============================] - 0s 7ms/step - loss: 0.8736 - val_loss: 0.8747\n",
            "Epoch 23/100\n",
            "15/15 [==============================] - 0s 7ms/step - loss: 0.8692 - val_loss: 0.8709\n",
            "Epoch 24/100\n",
            "15/15 [==============================] - 0s 8ms/step - loss: 0.8641 - val_loss: 0.8664\n",
            "Epoch 25/100\n",
            "15/15 [==============================] - 0s 7ms/step - loss: 0.8595 - val_loss: 0.8607\n",
            "Epoch 26/100\n",
            "15/15 [==============================] - 0s 8ms/step - loss: 0.8538 - val_loss: 0.8555\n",
            "Epoch 27/100\n",
            "15/15 [==============================] - 0s 8ms/step - loss: 0.8482 - val_loss: 0.8498\n",
            "Epoch 28/100\n",
            "15/15 [==============================] - 0s 7ms/step - loss: 0.8414 - val_loss: 0.8428\n",
            "Epoch 29/100\n",
            "15/15 [==============================] - 0s 8ms/step - loss: 0.8347 - val_loss: 0.8360\n",
            "Epoch 30/100\n",
            "15/15 [==============================] - 0s 8ms/step - loss: 0.8267 - val_loss: 0.8279\n",
            "Epoch 31/100\n",
            "15/15 [==============================] - 0s 8ms/step - loss: 0.8189 - val_loss: 0.8199\n",
            "Epoch 32/100\n",
            "15/15 [==============================] - 0s 7ms/step - loss: 0.8094 - val_loss: 0.8099\n",
            "Epoch 33/100\n",
            "15/15 [==============================] - 0s 7ms/step - loss: 0.7994 - val_loss: 0.7996\n",
            "Epoch 34/100\n",
            "15/15 [==============================] - 0s 8ms/step - loss: 0.7879 - val_loss: 0.7876\n",
            "Epoch 35/100\n",
            "15/15 [==============================] - 0s 8ms/step - loss: 0.7753 - val_loss: 0.7747\n",
            "Epoch 36/100\n",
            "15/15 [==============================] - 0s 8ms/step - loss: 0.7612 - val_loss: 0.7607\n",
            "Epoch 37/100\n",
            "15/15 [==============================] - 0s 8ms/step - loss: 0.7461 - val_loss: 0.7436\n",
            "Epoch 38/100\n",
            "15/15 [==============================] - 0s 7ms/step - loss: 0.7276 - val_loss: 0.7256\n",
            "Epoch 39/100\n",
            "15/15 [==============================] - 0s 7ms/step - loss: 0.7072 - val_loss: 0.7037\n",
            "Epoch 40/100\n",
            "15/15 [==============================] - 0s 8ms/step - loss: 0.6845 - val_loss: 0.6798\n",
            "Epoch 41/100\n",
            "15/15 [==============================] - 0s 8ms/step - loss: 0.6583 - val_loss: 0.6523\n",
            "Epoch 42/100\n",
            "15/15 [==============================] - 0s 8ms/step - loss: 0.6286 - val_loss: 0.6210\n",
            "Epoch 43/100\n",
            "15/15 [==============================] - 0s 8ms/step - loss: 0.5943 - val_loss: 0.5851\n",
            "Epoch 44/100\n",
            "15/15 [==============================] - 0s 8ms/step - loss: 0.5533 - val_loss: 0.5412\n",
            "Epoch 45/100\n",
            "15/15 [==============================] - 0s 7ms/step - loss: 0.5062 - val_loss: 0.4929\n",
            "Epoch 46/100\n",
            "15/15 [==============================] - 0s 7ms/step - loss: 0.4519 - val_loss: 0.4388\n",
            "Epoch 47/100\n",
            "15/15 [==============================] - 0s 8ms/step - loss: 0.3870 - val_loss: 0.3662\n",
            "Epoch 48/100\n",
            "15/15 [==============================] - 0s 8ms/step - loss: 0.3115 - val_loss: 0.2849\n",
            "Epoch 49/100\n",
            "15/15 [==============================] - 0s 7ms/step - loss: 0.2235 - val_loss: 0.1886\n",
            "Epoch 50/100\n",
            "15/15 [==============================] - 0s 8ms/step - loss: 0.1190 - val_loss: 0.0801\n",
            "Epoch 51/100\n",
            "15/15 [==============================] - 0s 8ms/step - loss: -0.0033 - val_loss: -0.0444\n",
            "Epoch 52/100\n",
            "15/15 [==============================] - 0s 7ms/step - loss: -0.1452 - val_loss: -0.1740\n",
            "Epoch 53/100\n",
            "15/15 [==============================] - 0s 7ms/step - loss: -0.2983 - val_loss: -0.2943\n",
            "Epoch 54/100\n",
            "15/15 [==============================] - 0s 8ms/step - loss: -0.3963 - val_loss: -0.4205\n",
            "Epoch 55/100\n",
            "15/15 [==============================] - 0s 7ms/step - loss: -0.3839 - val_loss: -0.4120\n",
            "Epoch 56/100\n",
            "15/15 [==============================] - 0s 8ms/step - loss: -0.5997 - val_loss: -0.1235\n",
            "Epoch 57/100\n",
            "15/15 [==============================] - 0s 7ms/step - loss: 0.1272 - val_loss: 1.8308\n",
            "Epoch 58/100\n",
            "15/15 [==============================] - 0s 7ms/step - loss: 0.0169 - val_loss: 0.1692\n",
            "Epoch 59/100\n",
            "15/15 [==============================] - 0s 8ms/step - loss: -0.6240 - val_loss: 0.3450\n",
            "Epoch 59: early stopping\n"
          ]
        }
      ],
      "source": [
        "hist = model.fit(x_train, y_train, epochs=100, batch_size=1024, validation_data=(x_test, y_test), callbacks=[es])"
      ]
    },
    {
      "cell_type": "code",
      "execution_count": 65,
      "metadata": {
        "colab": {
          "base_uri": "https://localhost:8080/",
          "height": 430
        },
        "outputId": "7c60860a-238f-4924-acfe-04a4cddfcb77",
        "id": "oluFm1GOXV9z"
      },
      "outputs": [
        {
          "output_type": "display_data",
          "data": {
            "text/plain": [
              "<Figure size 640x480 with 1 Axes>"
            ],
            "image/png": "[encoded data removed]"
          },
          "metadata": {}
        }
      ],
      "source": [
        "plt.plot(hist.history['loss'])\n",
        "plt.plot(hist.history['val_loss'])\n",
        "plt.show()"
      ]
    },
    {
      "cell_type": "code",
      "execution_count": 66,
      "metadata": {
        "colab": {
          "base_uri": "https://localhost:8080/"
        },
        "outputId": "a948f7a1-d5d0-4b90-bc6f-bc82576a908c",
        "id": "AAJN3yRxXV90"
      },
      "outputs": [
        {
          "output_type": "stream",
          "name": "stdout",
          "text": [
            "625/625 [==============================] - 1s 2ms/step\n"
          ]
        }
      ],
      "source": [
        "t_x_pred = model.predict(x)[:,0]"
      ]
    },
    {
      "cell_type": "code",
      "execution_count": 67,
      "metadata": {
        "id": "hH3H_ew8XV90"
      },
      "outputs": [],
      "source": [
        "t_x_opt = T_opt(x, mu1, mu2, Sigma1, Sigma2)"
      ]
    },
    {
      "cell_type": "code",
      "execution_count": 68,
      "metadata": {
        "colab": {
          "base_uri": "https://localhost:8080/",
          "height": 430
        },
        "outputId": "7f0c4955-894e-409f-933d-0f9db2882cb9",
        "id": "L-0Q1zEGXV91"
      },
      "outputs": [
        {
          "output_type": "display_data",
          "data": {
            "text/plain": [
              "<Figure size 640x480 with 1 Axes>"
            ],
            "image/png": "[encoded data removed]"
          },
          "metadata": {}
        }
      ],
      "source": [
        "plt.plot(t_x_opt)\n",
        "plt.plot(t_x_pred)\n",
        "\n",
        "plt.show()"
      ]
    },
    {
      "cell_type": "code",
      "execution_count": 69,
      "metadata": {
        "colab": {
          "base_uri": "https://localhost:8080/",
          "height": 430
        },
        "outputId": "45440f76-cf68-4a9d-a75b-fb2e8a6e404a",
        "id": "vPisVBw1XV91"
      },
      "outputs": [
        {
          "output_type": "display_data",
          "data": {
            "text/plain": [
              "<Figure size 640x480 with 1 Axes>"
            ],
            "image/png": "[encoded data removed]"
          },
          "metadata": {}
        }
      ],
      "source": [
        "plt.plot(t_x_pred, t_x_opt, \"o\")\n",
        "plt.show()"
      ]
    },
    {
      "cell_type": "code",
      "execution_count": 70,
      "metadata": {
        "colab": {
          "base_uri": "https://localhost:8080/"
        },
        "outputId": "97d6ec08-aa4c-408b-b431-428db374c472",
        "id": "YirR7JoJXV91"
      },
      "outputs": [
        {
          "output_type": "execute_result",
          "data": {
            "text/plain": [
              "1.5872136"
            ]
          },
          "metadata": {},
          "execution_count": 70
        }
      ],
      "source": [
        "NWJ_fun(y, t_x_pred)"
      ]
    },
    {
      "cell_type": "code",
      "execution_count": 71,
      "metadata": {
        "colab": {
          "base_uri": "https://localhost:8080/"
        },
        "outputId": "0b69ca91-9f40-4b8c-af43-5225a894fab2",
        "id": "B2E86W8qXV91"
      },
      "outputs": [
        {
          "output_type": "execute_result",
          "data": {
            "text/plain": [
              "1.6480927732297759"
            ]
          },
          "metadata": {},
          "execution_count": 71
        }
      ],
      "source": [
        "NWJ_fun(y, t_x_opt)"
      ]
    },
    {
      "cell_type": "code",
      "execution_count": null,
      "metadata": {
        "id": "eWzHzM8al1SO"
      },
      "outputs": [],
      "source": []
    }
  ],
  "metadata": {
    "kernelspec": {
      "display_name": "Python 3 (ipykernel)",
      "language": "python",
      "name": "python3"
    },
    "language_info": {
      "codemirror_mode": {
        "name": "ipython",
        "version": 3
      },
      "file_extension": ".py",
      "mimetype": "text/x-python",
      "name": "python",
      "nbconvert_exporter": "python",
      "pygments_lexer": "ipython3",
      "version": "3.9.16"
    },
    "colab": {
      "provenance": []
    }
  },
  "nbformat": 4,
  "nbformat_minor": 0
}