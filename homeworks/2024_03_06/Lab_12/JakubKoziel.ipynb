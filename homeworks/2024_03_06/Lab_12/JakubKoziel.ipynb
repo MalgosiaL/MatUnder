{
 "cells": [
  {
   "attachments": {},
   "cell_type": "markdown",
   "metadata": {},
   "source": [
    "# Mathematical Underpinnings - Lab 2"
   ]
  },
  {
   "cell_type": "code",
   "execution_count": 1,
   "outputs": [],
   "source": [
    "import numpy as np\n",
    "import matplotlib.pyplot as plt\n",
    "\n",
    "np.random.seed(100)"
   ],
   "metadata": {
    "collapsed": false
   }
  },
  {
   "attachments": {},
   "cell_type": "markdown",
   "metadata": {},
   "source": [
    "## Task 1"
   ]
  },
  {
   "cell_type": "markdown",
   "metadata": {},
   "source": [
    "### a)\n",
    "\n",
    "\n",
    "\n",
    "We know that:\n",
    "\n",
    "$$\\mathbb{E}X^2 = Var X + (\\mathbb{E} X )^2 = 1 + 0^2 = 1,$$\n",
    "\n",
    "$$\\mathbb{E} X(X+\\epsilon) = \\mathbb{E}X^2 + \\mathbb{E}X\\epsilon = 1 + \\mathbb{E}X \\mathbb{E}\\epsilon = 1 + 0 = 1,$$\n",
    "\n",
    "$$\\mathbb{E}(X+\\epsilon)^2 = \\mathbb{E} (X^2 + 2X\\epsilon + \\epsilon^2) = \\mathbb{E}X^2 + 2 \\mathbb{E}X\\epsilon + \\mathbb{E} \\epsilon^2 = 1 + 0 + Var\\epsilon + (\\mathbb{E}\\epsilon)^2 = 1 + \\sigma^2.$$\n",
    "\n",
    "Thus,\n",
    "\n",
    "$$R(a,a^*) = \\mathbb{E} \\mathcal{L}(f(X), Y) = \\mathbb{E}(aX - Y)^2 = \\mathbb{E}(aX - (X + \\epsilon)^2) = a^2 \\mathbb{E} X^2 - 2a \\mathbb{E} X(X+\\epsilon) + \\mathbb{E} (X + \\epsilon)^2 = a^2 - 2a + 1 + \\sigma^2 = (a-1)^2 + \\sigma^2,$$\n",
    "\n",
    "In our task we know $a^* = 1$."
   ]
  },
  {
   "cell_type": "code",
   "execution_count": 2,
   "metadata": {},
   "outputs": [],
   "source": [
    "def population_risk(a, sigma_eps):\n",
    "    return (a - 1) ** 2 + sigma_eps**2"
   ]
  },
  {
   "attachments": {},
   "cell_type": "markdown",
   "metadata": {},
   "source": [
    "### b)"
   ]
  },
  {
   "cell_type": "code",
   "execution_count": 3,
   "metadata": {},
   "outputs": [],
   "source": [
    "# sampling\n",
    "\n",
    "n = 50\n",
    "sigma_eps = 1\n",
    "\n",
    "x = np.random.normal(0, 1, n)\n",
    "eps = np.random.normal(0, sigma_eps, n)\n",
    "y = x + eps"
   ]
  },
  {
   "cell_type": "markdown",
   "metadata": {},
   "source": [
    "Empirical risk: $\\frac{1}{n} \\sum_{i=1}^n (ax_i - y_i)^2$"
   ]
  },
  {
   "cell_type": "code",
   "execution_count": 4,
   "metadata": {},
   "outputs": [],
   "source": [
    "def empirical_risk(a, x, y):\n",
    "    return np.mean(np.square(a * x - y))"
   ]
  },
  {
   "cell_type": "code",
   "execution_count": 5,
   "outputs": [
    {
     "data": {
      "text/plain": "1.0149809795416014"
     },
     "execution_count": 5,
     "metadata": {},
     "output_type": "execute_result"
    }
   ],
   "source": [
    "empirical_risk(1, x, y)"
   ],
   "metadata": {
    "collapsed": false
   }
  },
  {
   "attachments": {},
   "cell_type": "markdown",
   "metadata": {},
   "source": [
    "### c)"
   ]
  },
  {
   "cell_type": "code",
   "execution_count": 6,
   "metadata": {},
   "outputs": [
    {
     "data": {
      "text/plain": "<Figure size 640x480 with 1 Axes>",
      "image/png": "[encoded data removed]"
     },
     "metadata": {},
     "output_type": "display_data"
    }
   ],
   "source": [
    "# code, plot\n",
    "X_list = np.linspace(0, 2, num=10000) # <- these are candidates for a in our model\n",
    "population_risk_calculated = population_risk(X_list, sigma_eps)\n",
    "empirical_risk_vector = [empirical_risk(x_i, x, y) for x_i in X_list]\n",
    "\n",
    "\n",
    "plt.plot(X_list, population_risk_calculated)\n",
    "plt.plot(X_list, empirical_risk_vector)\n",
    "\n",
    "plt.scatter(X_list[np.argmin(population_risk_calculated)], np.min(population_risk_calculated))\n",
    "plt.scatter(X_list[np.argmin(empirical_risk_vector)], np.min(empirical_risk_vector))\n",
    "plt.scatter(X_list[np.argmin(empirical_risk_vector)], population_risk_calculated[np.argmin(empirical_risk_vector)])\n",
    "\n",
    "plt.xlim(0.9, 1.1)\n",
    "plt.ylim(0.98, 1.08)\n",
    "\n",
    "plt.show()"
   ]
  },
  {
   "attachments": {},
   "cell_type": "markdown",
   "metadata": {},
   "source": [
    "### d)"
   ]
  },
  {
   "cell_type": "markdown",
   "metadata": {},
   "source": [
    "Excess risk: $$E(\\hat a, a^*) =R(\\hat a, a^*) - \\textrm{inf}_{a \\in A_0} R(a, a^*)$$"
   ]
  },
  {
   "cell_type": "code",
   "execution_count": 7,
   "metadata": {},
   "outputs": [
    {
     "name": "stdout",
     "output_type": "stream",
     "text": [
      "0.0004973794709204338\n"
     ]
    }
   ],
   "source": [
    "# excess risk\n",
    "\n",
    "def excess_risk(a_hat, a0, sigma_eps):\n",
    "    return population_risk(a_hat, sigma_eps) - population_risk(a0, sigma_eps)\n",
    "\n",
    "\n",
    "a0 = X_list[np.argmin(population_risk_calculated)]\n",
    "a_hat = X_list[np.argmin(empirical_risk_vector)]\n",
    "sigma = population_risk_calculated[np.argmin(empirical_risk_vector)]\n",
    "print(excess_risk(a_hat, a0, sigma))"
   ]
  },
  {
   "cell_type": "code",
   "execution_count": 8,
   "metadata": {},
   "outputs": [
    {
     "data": {
      "text/plain": "0.023167596417199655"
     },
     "execution_count": 8,
     "metadata": {},
     "output_type": "execute_result"
    }
   ],
   "source": [
    "# simulations with fixed sample size\n",
    "n, L = 50, 200\n",
    "\n",
    "\n",
    "def simulate(n, L, sigma, a0):\n",
    "    excess_risk = np.zeros(L)\n",
    "\n",
    "    for i in range(L):\n",
    "        x = np.random.normal(0, 1, n)\n",
    "        eps = np.random.normal(0, sigma, n)\n",
    "        y = a0 * x + eps\n",
    "\n",
    "        a_hat = np.sum(x * y) / np.sum(x**2)\n",
    "\n",
    "        excess_risk[i] = population_risk(a_hat, sigma) - population_risk(a0, sigma)\n",
    "\n",
    "    return np.mean(excess_risk)\n",
    "\n",
    "simulate(n, L, sigma, a0)"
   ]
  },
  {
   "cell_type": "code",
   "execution_count": 9,
   "metadata": {},
   "outputs": [],
   "source": [
    "# simulations for various sample sizes\n",
    "\n",
    "n_seq = [25, 50, 75, 100, 200, 300, 400, 500, 600, 700, 800, 900, 1000]\n",
    "means = []\n",
    "for n in n_seq:\n",
    "    means.append(simulate(n, L, sigma, a0))"
   ]
  },
  {
   "cell_type": "code",
   "execution_count": 10,
   "metadata": {},
   "outputs": [
    {
     "data": {
      "text/plain": "<Figure size 640x480 with 1 Axes>",
      "image/png": "[encoded data removed]"
     },
     "metadata": {},
     "output_type": "display_data"
    }
   ],
   "source": [
    "# a nice plot visualising the results (how the unconditional excess risk changes with a sample size)\n",
    "\n",
    "plt.plot(n_seq, means)\n",
    "plt.hlines(0, 25, max(n_seq), color=\"black\")\n",
    "plt.show()"
   ]
  },
  {
   "cell_type": "code",
   "execution_count": 10,
   "outputs": [],
   "source": [],
   "metadata": {
    "collapsed": false
   }
  }
 ],
 "metadata": {
  "kernelspec": {
   "display_name": "base",
   "language": "python",
   "name": "python3"
  },
  "language_info": {
   "codemirror_mode": {
    "name": "ipython",
    "version": 3
   },
   "file_extension": ".py",
   "mimetype": "text/x-python",
   "name": "python",
   "nbconvert_exporter": "python",
   "pygments_lexer": "ipython3",
   "version": "3.9.16"
  },
  "orig_nbformat": 4
 },
 "nbformat": 4,
 "nbformat_minor": 2
}
