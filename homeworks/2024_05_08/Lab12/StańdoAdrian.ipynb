{
  "cells": [
    {
      "cell_type": "markdown",
      "source": [
        "# Lab 9"
      ],
      "metadata": {
        "collapsed": false,
        "id": "3f9398bc56a2a77b"
      },
      "id": "3f9398bc56a2a77b"
    },
    {
      "cell_type": "code",
      "outputs": [],
      "source": [
        "import numpy as np\n",
        "import pandas as pd\n",
        "import matplotlib.pyplot as plt\n",
        "from scipy.stats import norm"
      ],
      "metadata": {
        "collapsed": true,
        "ExecuteTime": {
          "end_time": "2024-05-08T11:35:15.960410286Z",
          "start_time": "2024-05-08T11:35:15.915175502Z"
        },
        "id": "initial_id"
      },
      "id": "initial_id",
      "execution_count": 23
    },
    {
      "cell_type": "code",
      "outputs": [],
      "source": [],
      "metadata": {
        "ExecuteTime": {
          "end_time": "2024-05-08T11:35:16.134601124Z",
          "start_time": "2024-05-08T11:35:16.123342858Z"
        },
        "id": "eda12d2eaf428db9"
      },
      "id": "eda12d2eaf428db9",
      "execution_count": 23
    },
    {
      "cell_type": "markdown",
      "source": [
        "## a)"
      ],
      "metadata": {
        "collapsed": false,
        "id": "86439c77fe221cb4"
      },
      "id": "86439c77fe221cb4"
    },
    {
      "cell_type": "code",
      "outputs": [],
      "source": [
        "mi = np.array([1, 5])\n",
        "sigma = np.sqrt([1, 2])\n",
        "pi = np.array([0.3, 0.7])\n",
        "n = 2000"
      ],
      "metadata": {
        "ExecuteTime": {
          "end_time": "2024-05-08T11:35:16.411539186Z",
          "start_time": "2024-05-08T11:35:16.406403548Z"
        },
        "id": "9a28ece419a4e307"
      },
      "id": "9a28ece419a4e307",
      "execution_count": 24
    },
    {
      "cell_type": "code",
      "outputs": [],
      "source": [
        "np.random.seed(0)\n",
        "data = np.zeros(n)\n",
        "for i in range(n):\n",
        "    r = np.random.rand()\n",
        "    for j in range(len(pi)):\n",
        "        if r < np.sum(pi[:j+1]):\n",
        "            data[i] = np.random.normal(mi[j], sigma[j])\n",
        "            break"
      ],
      "metadata": {
        "ExecuteTime": {
          "end_time": "2024-05-08T11:35:16.660252556Z",
          "start_time": "2024-05-08T11:35:16.620631770Z"
        },
        "id": "6d7b6884e4125e94"
      },
      "id": "6d7b6884e4125e94",
      "execution_count": 25
    },
    {
      "cell_type": "code",
      "outputs": [
        {
          "output_type": "display_data",
          "data": {
            "text/plain": [
              "<Figure size 640x480 with 1 Axes>"
            ],
            "image/png": "[encoded data removed]"
          },
          "metadata": {}
        }
      ],
      "source": [
        "# draw a histogram of the data\n",
        "plt.hist(data, bins=30, density=True, alpha=0.5, label=\"Observed data\")\n",
        "\n",
        "# plot the true density function\n",
        "x = np.linspace(min(data), max(data), 100)\n",
        "\n",
        "y = np.sum([\n",
        "    pi[j] * np.exp(-0.5 * (x - mi[j])**2 / sigma[j]**2) / np.sqrt(2 * np.pi * sigma[j]**2)\n",
        "    for j in range(len(pi))\n",
        "], axis=0)\n",
        "plt.plot(x, y, label=\"True density\")\n",
        "\n",
        "plt.legend()\n",
        "plt.show()"
      ],
      "metadata": {
        "ExecuteTime": {
          "end_time": "2024-05-08T11:35:17.006974308Z",
          "start_time": "2024-05-08T11:35:16.792348654Z"
        },
        "colab": {
          "base_uri": "https://localhost:8080/",
          "height": 430
        },
        "id": "c691b24aab501c6d",
        "outputId": "23b9e6c6-cf3a-4b3c-a693-0633b7918613"
      },
      "id": "c691b24aab501c6d",
      "execution_count": 26
    },
    {
      "cell_type": "code",
      "outputs": [],
      "source": [],
      "metadata": {
        "ExecuteTime": {
          "end_time": "2024-05-08T11:35:17.053432646Z",
          "start_time": "2024-05-08T11:35:16.985633319Z"
        },
        "id": "3c218121f615ef2d"
      },
      "id": "3c218121f615ef2d",
      "execution_count": 26
    },
    {
      "cell_type": "markdown",
      "source": [
        "# b)"
      ],
      "metadata": {
        "collapsed": false,
        "id": "1b230ed82e46585d"
      },
      "id": "1b230ed82e46585d"
    },
    {
      "cell_type": "markdown",
      "source": [
        "$$\\sum_{i=1}^n \\log p(x_i, G_i | \\theta) = \\sum_{i=1}^n \\left( (1-g_i)(\\log N(\\mu_0, \\sigma_0^2) + \\log \\pi_0) + g_i(\\log N(\\mu_1, \\sigma_1^2) + \\log \\pi_1) \\right)$$\n",
        "\n",
        "$$\\gamma_i = \\frac{\\pi_0 N(\\mu_0, \\sigma_0^2)}{\\pi_0 N(\\mu_0, \\sigma_0^2) + \\pi_1 N(\\mu_1, \\sigma_1^2) }$$"
      ],
      "metadata": {
        "collapsed": false,
        "id": "acdb0250b4fa7c19"
      },
      "id": "acdb0250b4fa7c19"
    },
    {
      "cell_type": "code",
      "outputs": [],
      "source": [
        "def loglikelihood(data, G, mi, sigma, pi):\n",
        "    n = len(data)\n",
        "    logl = 0\n",
        "\n",
        "    for i in range(n):\n",
        "        for j in range(len(mi)):\n",
        "          logl += G[i][j] * (np.log(norm.pdf(data[i], loc=mi[j], scale=np.sqrt(sigma[j])))) + np.log(pi[j])\n",
        "\n",
        "    return logl"
      ],
      "metadata": {
        "ExecuteTime": {
          "end_time": "2024-05-08T11:35:17.184287147Z",
          "start_time": "2024-05-08T11:35:17.177709391Z"
        },
        "id": "28a77eae1c3f37c9"
      },
      "id": "28a77eae1c3f37c9",
      "execution_count": 27
    },
    {
      "cell_type": "code",
      "outputs": [],
      "source": [],
      "metadata": {
        "ExecuteTime": {
          "end_time": "2024-05-08T11:35:17.568577296Z",
          "start_time": "2024-05-08T11:35:17.555362032Z"
        },
        "id": "b4f5ba5d58135e88"
      },
      "id": "b4f5ba5d58135e88",
      "execution_count": 27
    },
    {
      "cell_type": "markdown",
      "source": [
        "# c)"
      ],
      "metadata": {
        "collapsed": false,
        "id": "6c8aa819d0694c94"
      },
      "id": "6c8aa819d0694c94"
    },
    {
      "cell_type": "code",
      "source": [
        "# E-step computations\n",
        "def E_step(data, mi, sigma, pi):\n",
        "    K = len(pi)\n",
        "    n = len(data)\n",
        "\n",
        "    gammas = np.zeros((n, K))\n",
        "\n",
        "    for i in range(K):\n",
        "        gammas[:, i] = pi[i] * norm.pdf(data, loc=mi[i], scale=np.sqrt(sigma[i]))\n",
        "\n",
        "    summed = np.sum(gammas, axis=1)[:, None]\n",
        "    return gammas / summed"
      ],
      "metadata": {
        "id": "7-yQOBkF2fgc"
      },
      "id": "7-yQOBkF2fgc",
      "execution_count": 28,
      "outputs": []
    },
    {
      "cell_type": "code",
      "outputs": [],
      "source": [],
      "metadata": {
        "ExecuteTime": {
          "end_time": "2024-05-08T11:35:18.251864551Z",
          "start_time": "2024-05-08T11:35:18.202558464Z"
        },
        "id": "b4a9a6f92bf7e4de"
      },
      "id": "b4a9a6f92bf7e4de",
      "execution_count": 28
    },
    {
      "cell_type": "markdown",
      "source": [
        "# d)"
      ],
      "metadata": {
        "collapsed": false,
        "id": "6c7fb6de9604f29f"
      },
      "id": "6c7fb6de9604f29f"
    },
    {
      "cell_type": "code",
      "outputs": [],
      "source": [
        "# M-step computations\n",
        "def M_step(data, G):\n",
        "    n = len(data)\n",
        "    K = G.shape[1]\n",
        "\n",
        "    mi = np.zeros(K)\n",
        "    sigma = np.zeros(K)\n",
        "    pi = np.zeros(K)\n",
        "\n",
        "    for j in range(K):\n",
        "        summed = np.sum(G[:, j])\n",
        "        mi[j] = np.sum(G[:, j] * data) / summed\n",
        "        sigma[j] = np.sum(G[:, j] * (data - mi[j]) ** 2) / summed\n",
        "\n",
        "    pi = np.mean(G, axis=0)\n",
        "    return mi, sigma, pi"
      ],
      "metadata": {
        "ExecuteTime": {
          "end_time": "2024-05-08T11:35:18.680726822Z",
          "start_time": "2024-05-08T11:35:18.673880890Z"
        },
        "id": "910743840ecc534b"
      },
      "id": "910743840ecc534b",
      "execution_count": 29
    },
    {
      "cell_type": "code",
      "source": [],
      "metadata": {
        "id": "LETRf3u-5yKL"
      },
      "id": "LETRf3u-5yKL",
      "execution_count": 29,
      "outputs": []
    },
    {
      "cell_type": "markdown",
      "source": [
        "# e)"
      ],
      "metadata": {
        "collapsed": false,
        "id": "99e7ffb37e5216c3"
      },
      "id": "99e7ffb37e5216c3"
    },
    {
      "cell_type": "code",
      "outputs": [],
      "source": [
        "# EM algorithm\n",
        "def EM_algorithm(data, mi, sigma, pi, max_iter=100, tol=1e-6):\n",
        "    logl = float(\"-Inf\")\n",
        "    for i in range(max_iter):\n",
        "        G = E_step(data, mi, sigma, pi)\n",
        "        mi, sigma, pi = M_step(data, G)\n",
        "\n",
        "        new_logl = loglikelihood(data, G, mi, sigma, pi)\n",
        "        if np.abs(new_logl - logl) < tol:\n",
        "            break\n",
        "        logl = new_logl\n",
        "\n",
        "    return mi, sigma, pi, logl"
      ],
      "metadata": {
        "ExecuteTime": {
          "end_time": "2024-05-08T11:35:19.456081108Z",
          "start_time": "2024-05-08T11:35:19.438612680Z"
        },
        "id": "8535100628e58966"
      },
      "id": "8535100628e58966",
      "execution_count": 30
    },
    {
      "cell_type": "code",
      "outputs": [],
      "source": [
        "mi_start = np.array([-1, 1])\n",
        "sigma_start = np.array([1, 1])\n",
        "pi_start = np.array([0.5, 0.5])"
      ],
      "metadata": {
        "ExecuteTime": {
          "end_time": "2024-05-08T11:35:19.730196709Z",
          "start_time": "2024-05-08T11:35:19.723192116Z"
        },
        "id": "7747c66d268bfeae"
      },
      "id": "7747c66d268bfeae",
      "execution_count": 31
    },
    {
      "cell_type": "code",
      "source": [],
      "metadata": {
        "id": "qBEUMdMt6AQ5"
      },
      "id": "qBEUMdMt6AQ5",
      "execution_count": 31,
      "outputs": []
    },
    {
      "cell_type": "code",
      "outputs": [],
      "source": [
        "theta_estimated = EM_algorithm(data, mi_start, sigma_start, pi_start)\n",
        "mi_estimated, sigma_estimated, pi_estimated, logl = theta_estimated"
      ],
      "metadata": {
        "ExecuteTime": {
          "end_time": "2024-05-08T11:35:20.242310026Z",
          "start_time": "2024-05-08T11:35:20.037620862Z"
        },
        "id": "cde2012c63aff927"
      },
      "id": "cde2012c63aff927",
      "execution_count": 32
    },
    {
      "cell_type": "code",
      "outputs": [
        {
          "output_type": "execute_result",
          "data": {
            "text/plain": [
              "             true  estimated  abs_diff\n",
              "mi_0     1.000000   0.962427  0.037573\n",
              "mi_1     5.000000   5.019592  0.019592\n",
              "sigma_0  1.000000   1.052259  0.052259\n",
              "sigma_1  1.414214   1.887204  0.472990\n",
              "pi_0     0.300000   0.301174  0.001174\n",
              "pi_1     0.700000   0.698826  0.001174"
            ],
            "text/html": [
              "\n",
              "  <div id=\"df-4ebccf6b-9940-461b-918c-9549f61248ab\" class=\"colab-df-container\">\n",
              "    <div>\n",
              "<style scoped>\n",
              "    .dataframe tbody tr th:only-of-type {\n",
              "        vertical-align: middle;\n",
              "    }\n",
              "\n",
              "    .dataframe tbody tr th {\n",
              "        vertical-align: top;\n",
              "    }\n",
              "\n",
              "    .dataframe thead th {\n",
              "        text-align: right;\n",
              "    }\n",
              "</style>\n",
              "<table border=\"1\" class=\"dataframe\">\n",
              "  <thead>\n",
              "    <tr style=\"text-align: right;\">\n",
              "      <th></th>\n",
              "      <th>true</th>\n",
              "      <th>estimated</th>\n",
              "      <th>abs_diff</th>\n",
              "    </tr>\n",
              "  </thead>\n",
              "  <tbody>\n",
              "    <tr>\n",
              "      <th>mi_0</th>\n",
              "      <td>1.000000</td>\n",
              "      <td>0.962427</td>\n",
              "      <td>0.037573</td>\n",
              "    </tr>\n",
              "    <tr>\n",
              "      <th>mi_1</th>\n",
              "      <td>5.000000</td>\n",
              "      <td>5.019592</td>\n",
              "      <td>0.019592</td>\n",
              "    </tr>\n",
              "    <tr>\n",
              "      <th>sigma_0</th>\n",
              "      <td>1.000000</td>\n",
              "      <td>1.052259</td>\n",
              "      <td>0.052259</td>\n",
              "    </tr>\n",
              "    <tr>\n",
              "      <th>sigma_1</th>\n",
              "      <td>1.414214</td>\n",
              "      <td>1.887204</td>\n",
              "      <td>0.472990</td>\n",
              "    </tr>\n",
              "    <tr>\n",
              "      <th>pi_0</th>\n",
              "      <td>0.300000</td>\n",
              "      <td>0.301174</td>\n",
              "      <td>0.001174</td>\n",
              "    </tr>\n",
              "    <tr>\n",
              "      <th>pi_1</th>\n",
              "      <td>0.700000</td>\n",
              "      <td>0.698826</td>\n",
              "      <td>0.001174</td>\n",
              "    </tr>\n",
              "  </tbody>\n",
              "</table>\n",
              "</div>\n",
              "    <div class=\"colab-df-buttons\">\n",
              "\n",
              "  <div class=\"colab-df-container\">\n",
              "    <button class=\"colab-df-convert\" onclick=\"convertToInteractive('df-4ebccf6b-9940-461b-918c-9549f61248ab')\"\n",
              "            title=\"Convert this dataframe to an interactive table.\"\n",
              "            style=\"display:none;\">\n",
              "\n",
              "  <svg xmlns=\"http://www.w3.org/2000/svg\" height=\"24px\" viewBox=\"0 -960 960 960\">\n",
              "    <path d=\"M120-120v-720h720v720H120Zm60-500h600v-160H180v160Zm220 220h160v-160H400v160Zm0 220h160v-160H400v160ZM180-400h160v-160H180v160Zm440 0h160v-160H620v160ZM180-180h160v-160H180v160Zm440 0h160v-160H620v160Z\"/>\n",
              "  </svg>\n",
              "    </button>\n",
              "\n",
              "  <style>\n",
              "    .colab-df-container {\n",
              "      display:flex;\n",
              "      gap: 12px;\n",
              "    }\n",
              "\n",
              "    .colab-df-convert {\n",
              "      background-color: #E8F0FE;\n",
              "      border: none;\n",
              "      border-radius: 50%;\n",
              "      cursor: pointer;\n",
              "      display: none;\n",
              "      fill: #1967D2;\n",
              "      height: 32px;\n",
              "      padding: 0 0 0 0;\n",
              "      width: 32px;\n",
              "    }\n",
              "\n",
              "    .colab-df-convert:hover {\n",
              "      background-color: #E2EBFA;\n",
              "      box-shadow: 0px 1px 2px rgba(60, 64, 67, 0.3), 0px 1px 3px 1px rgba(60, 64, 67, 0.15);\n",
              "      fill: #174EA6;\n",
              "    }\n",
              "\n",
              "    .colab-df-buttons div {\n",
              "      margin-bottom: 4px;\n",
              "    }\n",
              "\n",
              "    [theme=dark] .colab-df-convert {\n",
              "      background-color: #3B4455;\n",
              "      fill: #D2E3FC;\n",
              "    }\n",
              "\n",
              "    [theme=dark] .colab-df-convert:hover {\n",
              "      background-color: #434B5C;\n",
              "      box-shadow: 0px 1px 3px 1px rgba(0, 0, 0, 0.15);\n",
              "      filter: drop-shadow(0px 1px 2px rgba(0, 0, 0, 0.3));\n",
              "      fill: #FFFFFF;\n",
              "    }\n",
              "  </style>\n",
              "\n",
              "    <script>\n",
              "      const buttonEl =\n",
              "        document.querySelector('#df-4ebccf6b-9940-461b-918c-9549f61248ab button.colab-df-convert');\n",
              "      buttonEl.style.display =\n",
              "        google.colab.kernel.accessAllowed ? 'block' : 'none';\n",
              "\n",
              "      async function convertToInteractive(key) {\n",
              "        const element = document.querySelector('#df-4ebccf6b-9940-461b-918c-9549f61248ab');\n",
              "        const dataTable =\n",
              "          await google.colab.kernel.invokeFunction('convertToInteractive',\n",
              "                                                    [key], {});\n",
              "        if (!dataTable) return;\n",
              "\n",
              "        const docLinkHtml = 'Like what you see? Visit the ' +\n",
              "          '<a target=\"_blank\" href=https://colab.research.google.com/notebooks/data_table.ipynb>data table notebook</a>'\n",
              "          + ' to learn more about interactive tables.';\n",
              "        element.innerHTML = '';\n",
              "        dataTable['output_type'] = 'display_data';\n",
              "        await google.colab.output.renderOutput(dataTable, element);\n",
              "        const docLink = document.createElement('div');\n",
              "        docLink.innerHTML = docLinkHtml;\n",
              "        element.appendChild(docLink);\n",
              "      }\n",
              "    </script>\n",
              "  </div>\n",
              "\n",
              "\n",
              "<div id=\"df-4a742d58-ab75-4d16-9b2b-7279732716a1\">\n",
              "  <button class=\"colab-df-quickchart\" onclick=\"quickchart('df-4a742d58-ab75-4d16-9b2b-7279732716a1')\"\n",
              "            title=\"Suggest charts\"\n",
              "            style=\"display:none;\">\n",
              "\n",
              "<svg xmlns=\"http://www.w3.org/2000/svg\" height=\"24px\"viewBox=\"0 0 24 24\"\n",
              "     width=\"24px\">\n",
              "    <g>\n",
              "        <path d=\"M19 3H5c-1.1 0-2 .9-2 2v14c0 1.1.9 2 2 2h14c1.1 0 2-.9 2-2V5c0-1.1-.9-2-2-2zM9 17H7v-7h2v7zm4 0h-2V7h2v10zm4 0h-2v-4h2v4z\"/>\n",
              "    </g>\n",
              "</svg>\n",
              "  </button>\n",
              "\n",
              "<style>\n",
              "  .colab-df-quickchart {\n",
              "      --bg-color: #E8F0FE;\n",
              "      --fill-color: #1967D2;\n",
              "      --hover-bg-color: #E2EBFA;\n",
              "      --hover-fill-color: #174EA6;\n",
              "      --disabled-fill-color: #AAA;\n",
              "      --disabled-bg-color: #DDD;\n",
              "  }\n",
              "\n",
              "  [theme=dark] .colab-df-quickchart {\n",
              "      --bg-color: #3B4455;\n",
              "      --fill-color: #D2E3FC;\n",
              "      --hover-bg-color: #434B5C;\n",
              "      --hover-fill-color: #FFFFFF;\n",
              "      --disabled-bg-color: #3B4455;\n",
              "      --disabled-fill-color: #666;\n",
              "  }\n",
              "\n",
              "  .colab-df-quickchart {\n",
              "    background-color: var(--bg-color);\n",
              "    border: none;\n",
              "    border-radius: 50%;\n",
              "    cursor: pointer;\n",
              "    display: none;\n",
              "    fill: var(--fill-color);\n",
              "    height: 32px;\n",
              "    padding: 0;\n",
              "    width: 32px;\n",
              "  }\n",
              "\n",
              "  .colab-df-quickchart:hover {\n",
              "    background-color: var(--hover-bg-color);\n",
              "    box-shadow: 0 1px 2px rgba(60, 64, 67, 0.3), 0 1px 3px 1px rgba(60, 64, 67, 0.15);\n",
              "    fill: var(--button-hover-fill-color);\n",
              "  }\n",
              "\n",
              "  .colab-df-quickchart-complete:disabled,\n",
              "  .colab-df-quickchart-complete:disabled:hover {\n",
              "    background-color: var(--disabled-bg-color);\n",
              "    fill: var(--disabled-fill-color);\n",
              "    box-shadow: none;\n",
              "  }\n",
              "\n",
              "  .colab-df-spinner {\n",
              "    border: 2px solid var(--fill-color);\n",
              "    border-color: transparent;\n",
              "    border-bottom-color: var(--fill-color);\n",
              "    animation:\n",
              "      spin 1s steps(1) infinite;\n",
              "  }\n",
              "\n",
              "  @keyframes spin {\n",
              "    0% {\n",
              "      border-color: transparent;\n",
              "      border-bottom-color: var(--fill-color);\n",
              "      border-left-color: var(--fill-color);\n",
              "    }\n",
              "    20% {\n",
              "      border-color: transparent;\n",
              "      border-left-color: var(--fill-color);\n",
              "      border-top-color: var(--fill-color);\n",
              "    }\n",
              "    30% {\n",
              "      border-color: transparent;\n",
              "      border-left-color: var(--fill-color);\n",
              "      border-top-color: var(--fill-color);\n",
              "      border-right-color: var(--fill-color);\n",
              "    }\n",
              "    40% {\n",
              "      border-color: transparent;\n",
              "      border-right-color: var(--fill-color);\n",
              "      border-top-color: var(--fill-color);\n",
              "    }\n",
              "    60% {\n",
              "      border-color: transparent;\n",
              "      border-right-color: var(--fill-color);\n",
              "    }\n",
              "    80% {\n",
              "      border-color: transparent;\n",
              "      border-right-color: var(--fill-color);\n",
              "      border-bottom-color: var(--fill-color);\n",
              "    }\n",
              "    90% {\n",
              "      border-color: transparent;\n",
              "      border-bottom-color: var(--fill-color);\n",
              "    }\n",
              "  }\n",
              "</style>\n",
              "\n",
              "  <script>\n",
              "    async function quickchart(key) {\n",
              "      const quickchartButtonEl =\n",
              "        document.querySelector('#' + key + ' button');\n",
              "      quickchartButtonEl.disabled = true;  // To prevent multiple clicks.\n",
              "      quickchartButtonEl.classList.add('colab-df-spinner');\n",
              "      try {\n",
              "        const charts = await google.colab.kernel.invokeFunction(\n",
              "            'suggestCharts', [key], {});\n",
              "      } catch (error) {\n",
              "        console.error('Error during call to suggestCharts:', error);\n",
              "      }\n",
              "      quickchartButtonEl.classList.remove('colab-df-spinner');\n",
              "      quickchartButtonEl.classList.add('colab-df-quickchart-complete');\n",
              "    }\n",
              "    (() => {\n",
              "      let quickchartButtonEl =\n",
              "        document.querySelector('#df-4a742d58-ab75-4d16-9b2b-7279732716a1 button');\n",
              "      quickchartButtonEl.style.display =\n",
              "        google.colab.kernel.accessAllowed ? 'block' : 'none';\n",
              "    })();\n",
              "  </script>\n",
              "</div>\n",
              "    </div>\n",
              "  </div>\n"
            ],
            "application/vnd.google.colaboratory.intrinsic+json": {
              "type": "dataframe",
              "variable_name": "df",
              "summary": "{\n  \"name\": \"df\",\n  \"rows\": 6,\n  \"fields\": [\n    {\n      \"column\": \"true\",\n      \"properties\": {\n        \"dtype\": \"number\",\n        \"std\": 1.7209743655076182,\n        \"min\": 0.3,\n        \"max\": 5.0,\n        \"num_unique_values\": 5,\n        \"samples\": [\n          5.0,\n          0.7,\n          1.4142135623730951\n        ],\n        \"semantic_type\": \"\",\n        \"description\": \"\"\n      }\n    },\n    {\n      \"column\": \"estimated\",\n      \"properties\": {\n        \"dtype\": \"number\",\n        \"std\": 1.7299973855248802,\n        \"min\": 0.30117430639946097,\n        \"max\": 5.01959223231107,\n        \"num_unique_values\": 6,\n        \"samples\": [\n          0.9624270289867517,\n          5.01959223231107,\n          0.6988256936005396\n        ],\n        \"semantic_type\": \"\",\n        \"description\": \"\"\n      }\n    },\n    {\n      \"column\": \"abs_diff\",\n      \"properties\": {\n        \"dtype\": \"number\",\n        \"std\": 0.1850717501319875,\n        \"min\": 0.0011743063994603675,\n        \"max\": 0.4729901775960601,\n        \"num_unique_values\": 6,\n        \"samples\": [\n          0.0375729710132483,\n          0.019592232311070212,\n          0.0011743063994603675\n        ],\n        \"semantic_type\": \"\",\n        \"description\": \"\"\n      }\n    }\n  ]\n}"
            }
          },
          "metadata": {},
          "execution_count": 33
        }
      ],
      "source": [
        "df = pd.DataFrame({\n",
        "    \"true\": np.concatenate([mi, sigma, pi]),\n",
        "    \"estimated\": np.concatenate([mi_estimated, sigma_estimated, pi_estimated]),\n",
        "    \"abs_diff\": np.abs(np.concatenate([mi, sigma, pi]) - np.concatenate([mi_estimated, sigma_estimated, pi_estimated]))\n",
        "}, index=[f\"mi_{i}\" for i in range(len(mi))] + [f\"sigma_{i}\" for i in range(len(sigma))] + [f\"pi_{i}\" for i in range(len(pi))])\n",
        "df"
      ],
      "metadata": {
        "ExecuteTime": {
          "end_time": "2024-05-08T11:35:20.377794843Z",
          "start_time": "2024-05-08T11:35:20.355691702Z"
        },
        "colab": {
          "base_uri": "https://localhost:8080/",
          "height": 237
        },
        "id": "7a142fd1bb1878ec",
        "outputId": "caede3f5-a3f7-471a-f342-19b611f44171"
      },
      "id": "7a142fd1bb1878ec",
      "execution_count": 33
    },
    {
      "cell_type": "code",
      "outputs": [],
      "source": [],
      "metadata": {
        "ExecuteTime": {
          "end_time": "2024-05-08T11:35:20.725852299Z",
          "start_time": "2024-05-08T11:35:20.713936714Z"
        },
        "id": "36a57e74b3091d06"
      },
      "id": "36a57e74b3091d06",
      "execution_count": 33
    },
    {
      "cell_type": "markdown",
      "source": [
        "# f)"
      ],
      "metadata": {
        "collapsed": false,
        "id": "63147af712535d8d"
      },
      "id": "63147af712535d8d"
    },
    {
      "cell_type": "code",
      "outputs": [
        {
          "output_type": "display_data",
          "data": {
            "text/plain": [
              "<Figure size 640x480 with 1 Axes>"
            ],
            "image/png": "[encoded data removed]"
          },
          "metadata": {}
        }
      ],
      "source": [
        "plt.hist(data, bins=30, density=True, alpha=0.5, label=\"Observed data\")\n",
        "plt.plot(x, y, label=\"True density\")\n",
        "\n",
        "y_estimated = np.sum([\n",
        "    pi_estimated[j] * norm.pdf(x, loc=mi_estimated[j], scale=np.sqrt(sigma_estimated[j]))\n",
        "    for j in range(len(pi_estimated))\n",
        "], axis=0)\n",
        "\n",
        "plt.plot(x, y_estimated, label=\"Estimated density\")\n",
        "plt.legend()\n",
        "plt.show()"
      ],
      "metadata": {
        "ExecuteTime": {
          "end_time": "2024-05-08T11:35:21.937156771Z",
          "start_time": "2024-05-08T11:35:21.741497448Z"
        },
        "colab": {
          "base_uri": "https://localhost:8080/",
          "height": 430
        },
        "id": "fef74bd7fd2841e9",
        "outputId": "3d4ba122-3d70-44a3-fc07-290b92f76af8"
      },
      "id": "fef74bd7fd2841e9",
      "execution_count": 34
    },
    {
      "cell_type": "code",
      "outputs": [],
      "source": [],
      "metadata": {
        "ExecuteTime": {
          "end_time": "2024-05-08T11:35:23.239085812Z",
          "start_time": "2024-05-08T11:35:23.226865900Z"
        },
        "id": "a04cc450ce173944"
      },
      "id": "a04cc450ce173944",
      "execution_count": null
    },
    {
      "cell_type": "markdown",
      "source": [
        "# g)"
      ],
      "metadata": {
        "collapsed": false,
        "id": "a20393358fc212ab"
      },
      "id": "a20393358fc212ab"
    },
    {
      "cell_type": "code",
      "outputs": [],
      "source": [
        "# repeat for a gaussian mixture model with 3 components\n",
        "mi = np.array([-2, 0, 2])\n",
        "sigma = np.array([0.5, 0.5, 0.5])\n",
        "pi = np.array([0.2, 0.7, 0.1])\n",
        "n = 2000"
      ],
      "metadata": {
        "ExecuteTime": {
          "end_time": "2024-05-08T11:45:48.781353757Z",
          "start_time": "2024-05-08T11:45:48.621729457Z"
        },
        "id": "cec3cf3340796a5b"
      },
      "id": "cec3cf3340796a5b",
      "execution_count": null
    },
    {
      "cell_type": "code",
      "outputs": [],
      "source": [
        "# generate data\n",
        "np.random.seed(0)\n",
        "data = np.zeros(n)\n",
        "for i in range(n):\n",
        "    r = np.random.rand()\n",
        "    for j in range(len(pi)):\n",
        "        if r < np.sum(pi[:j+1]):\n",
        "            data[i] = np.random.normal(mi[j], sigma[j])\n",
        "            break"
      ],
      "metadata": {
        "ExecuteTime": {
          "end_time": "2024-05-08T11:45:49.030820083Z",
          "start_time": "2024-05-08T11:45:48.986116660Z"
        },
        "id": "7c676af113f4363f"
      },
      "id": "7c676af113f4363f",
      "execution_count": null
    },
    {
      "cell_type": "code",
      "outputs": [],
      "source": [
        "# estimate\n",
        "mi_start = np.array([-1, 0, 1])\n",
        "sigma_start = np.array([1, 1, 1])\n",
        "pi_start = np.array([1/3, 1/3, 1/3])\n",
        "\n",
        "theta_estimated = EM_algorithm(data, mi_start, sigma_start, pi_start)\n",
        "mi_estimated, sigma_estimated, pi_estimated, logl = theta_estimated"
      ],
      "metadata": {
        "ExecuteTime": {
          "end_time": "2024-05-08T11:45:54.141423670Z",
          "start_time": "2024-05-08T11:45:54.065385042Z"
        },
        "id": "bc5666b44f2443df"
      },
      "id": "bc5666b44f2443df",
      "execution_count": null
    },
    {
      "cell_type": "code",
      "outputs": [
        {
          "output_type": "display_data",
          "data": {
            "text/plain": [
              "<Figure size 640x480 with 1 Axes>"
            ],
            "image/png": "[encoded data removed]"
          },
          "metadata": {}
        }
      ],
      "source": [
        "# plot\n",
        "plt.hist(data, bins=30, density=True, alpha=0.5, label=\"Observed data\")\n",
        "x = np.linspace(min(data), max(data), 100)\n",
        "y = np.sum([\n",
        "    pi[j] * np.exp(-0.5 * (x - mi[j])**2 / sigma[j]**2) / np.sqrt(2 * np.pi * sigma[j]**2)\n",
        "    for j in range(len(pi))\n",
        "], axis=0)\n",
        "plt.plot(x, y, label=\"True density\")\n",
        "\n",
        "y_estimated = np.sum([\n",
        "    pi_estimated[j] * norm.pdf(x, loc=mi_estimated[j], scale=np.sqrt(sigma_estimated[j]))\n",
        "    for j in range(len(pi_estimated))\n",
        "], axis=0)\n",
        "plt.plot(x, y_estimated, label=\"Estimated density\")\n",
        "\n",
        "plt.legend()\n",
        "plt.show()"
      ],
      "metadata": {
        "ExecuteTime": {
          "end_time": "2024-05-08T11:45:54.696631673Z",
          "start_time": "2024-05-08T11:45:54.520475553Z"
        },
        "colab": {
          "base_uri": "https://localhost:8080/",
          "height": 430
        },
        "id": "a9ff6e48f8d7348b",
        "outputId": "e39a5814-2458-49d9-8955-1d1584bc78a8"
      },
      "id": "a9ff6e48f8d7348b",
      "execution_count": null
    },
    {
      "cell_type": "code",
      "outputs": [],
      "source": [],
      "metadata": {
        "ExecuteTime": {
          "end_time": "2024-05-08T11:45:57.257974428Z",
          "start_time": "2024-05-08T11:45:57.249201149Z"
        },
        "id": "cdf24e54669cb546"
      },
      "id": "cdf24e54669cb546",
      "execution_count": null
    },
    {
      "cell_type": "code",
      "outputs": [],
      "source": [],
      "metadata": {
        "id": "66bc7922c2992059"
      },
      "id": "66bc7922c2992059",
      "execution_count": null
    },
    {
      "cell_type": "code",
      "source": [
        "# repeat for a gaussian mixture model with 5 components\n",
        "mi = np.array([-2, -1, 2, 4, 8])\n",
        "sigma = np.array([0.5, 0.5, 1, 1, 3])\n",
        "pi = np.array([0.1, 0.2, 0.3, 0.2, 0.2])\n",
        "n = 2000"
      ],
      "metadata": {
        "id": "ZX6ec11E_JTE"
      },
      "id": "ZX6ec11E_JTE",
      "execution_count": null,
      "outputs": []
    },
    {
      "cell_type": "code",
      "source": [
        "# generate data\n",
        "np.random.seed(0)\n",
        "data = np.zeros(n)\n",
        "for i in range(n):\n",
        "    r = np.random.rand()\n",
        "    for j in range(len(pi)):\n",
        "        if r < np.sum(pi[:j+1]):\n",
        "            data[i] = np.random.normal(mi[j], sigma[j])\n",
        "            break"
      ],
      "metadata": {
        "id": "YnYfSn5j_gC7"
      },
      "id": "YnYfSn5j_gC7",
      "execution_count": null,
      "outputs": []
    },
    {
      "cell_type": "code",
      "source": [
        "# estimate\n",
        "mi_start = np.array([-2, -1, 0, 1, 2])\n",
        "sigma_start = np.array([1, 1, 1, 1, 1])\n",
        "pi_start = np.array([0.2, 0.2, 0.2, 0.2, 0.2])\n",
        "\n",
        "theta_estimated = EM_algorithm(data, mi_start, sigma_start, pi_start)\n",
        "mi_estimated, sigma_estimated, pi_estimated, logl = theta_estimated"
      ],
      "metadata": {
        "id": "aSq6S80O_icc"
      },
      "id": "aSq6S80O_icc",
      "execution_count": null,
      "outputs": []
    },
    {
      "cell_type": "code",
      "source": [
        "# plot\n",
        "plt.hist(data, bins=30, density=True, alpha=0.5, label=\"Observed data\")\n",
        "x = np.linspace(min(data), max(data), 100)\n",
        "y = np.sum([\n",
        "    pi[j] * np.exp(-0.5 * (x - mi[j])**2 / sigma[j]**2) / np.sqrt(2 * np.pi * sigma[j]**2)\n",
        "    for j in range(len(pi))\n",
        "], axis=0)\n",
        "plt.plot(x, y, label=\"True density\")\n",
        "\n",
        "y_estimated = np.sum([\n",
        "    pi_estimated[j] * norm.pdf(x, loc=mi_estimated[j], scale=np.sqrt(sigma_estimated[j]))\n",
        "    for j in range(len(pi_estimated))\n",
        "], axis=0)\n",
        "plt.plot(x, y_estimated, label=\"Estimated density\")\n",
        "\n",
        "plt.legend()\n",
        "plt.show()"
      ],
      "metadata": {
        "colab": {
          "base_uri": "https://localhost:8080/",
          "height": 430
        },
        "id": "xYg7r8GD_iVZ",
        "outputId": "6584a5f6-0c75-40b9-fb59-e7b0973820a5"
      },
      "id": "xYg7r8GD_iVZ",
      "execution_count": null,
      "outputs": [
        {
          "output_type": "display_data",
          "data": {
            "text/plain": [
              "<Figure size 640x480 with 1 Axes>"
            ],
            "image/png": "[encoded data removed]"
          },
          "metadata": {}
        }
      ]
    },
    {
      "cell_type": "code",
      "source": [],
      "metadata": {
        "id": "3ksUC21x_sXu"
      },
      "id": "3ksUC21x_sXu",
      "execution_count": null,
      "outputs": []
    },
    {
      "cell_type": "code",
      "source": [],
      "metadata": {
        "id": "oSQW9OYG_sMO"
      },
      "id": "oSQW9OYG_sMO",
      "execution_count": null,
      "outputs": []
    }
  ],
  "metadata": {
    "kernelspec": {
      "display_name": "Python 3",
      "language": "python",
      "name": "python3"
    },
    "language_info": {
      "codemirror_mode": {
        "name": "ipython",
        "version": 2
      },
      "file_extension": ".py",
      "mimetype": "text/x-python",
      "name": "python",
      "nbconvert_exporter": "python",
      "pygments_lexer": "ipython2",
      "version": "2.7.6"
    },
    "colab": {
      "provenance": []
    }
  },
  "nbformat": 4,
  "nbformat_minor": 5
}