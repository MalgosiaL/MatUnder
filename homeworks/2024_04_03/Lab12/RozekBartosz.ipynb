{
 "cells": [
  {
   "cell_type": "markdown",
   "metadata": {},
   "source": [
    "# Mathematical Underpinnings - Lab 6"
   ]
  },
  {
   "cell_type": "code",
   "execution_count": 24,
   "metadata": {},
   "outputs": [],
   "source": [
    "from sklearn.metrics import mutual_info_score\n",
    "import itertools\n",
    "import numpy as np\n",
    "import matplotlib.pyplot as plt\n",
    "import seaborn as sns\n",
    "import pandas as pd\n",
    "from tqdm import tqdm"
   ]
  },
  {
   "cell_type": "markdown",
   "metadata": {},
   "source": [
    "## Useful functions"
   ]
  },
  {
   "cell_type": "code",
   "execution_count": 25,
   "metadata": {},
   "outputs": [],
   "source": [
    "def discetize_2bins(X):\n",
    "    X_discrete = 1*(X >= 0)\n",
    "    return X_discrete"
   ]
  },
  {
   "cell_type": "code",
   "execution_count": 26,
   "metadata": {},
   "outputs": [],
   "source": [
    "def conditional_permutation(X, Z):\n",
    "\n",
    "    z_values = np.unique(Z)\n",
    "    n_z_values = len(z_values)\n",
    "    n = len(Z)\n",
    "\n",
    "    X_b = np.zeros(n)\n",
    "\n",
    "    for i in range(n_z_values):\n",
    "\n",
    "        z_value_tmp = z_values[i]\n",
    "\n",
    "        X_b[Z == z_value_tmp] = np.random.permutation(X[Z == z_value_tmp])\n",
    "\n",
    "    return X_b"
   ]
  },
  {
   "cell_type": "code",
   "execution_count": 27,
   "metadata": {},
   "outputs": [],
   "source": [
    "def conditional_mutual_information(X, Y, Z):\n",
    "\n",
    "    z_values = np.unique(Z)\n",
    "    n_z_values = len(z_values)\n",
    "    n = len(Z)\n",
    "\n",
    "    cmi = 0\n",
    "\n",
    "    for i in range(n_z_values):\n",
    "\n",
    "        z_value_tmp = z_values[i]\n",
    "        z_condition = (Z == z_value_tmp)\n",
    "\n",
    "        X_z = X[z_condition]\n",
    "        Y_z = Y[z_condition]\n",
    "\n",
    "        mi_XY_z = mutual_info_score(X_z, Y_z)\n",
    "        p_z = np.sum(z_condition)/n\n",
    "\n",
    "        cmi += p_z*mi_XY_z\n",
    "\n",
    "    return cmi"
   ]
  },
  {
   "cell_type": "code",
   "execution_count": 28,
   "metadata": {},
   "outputs": [],
   "source": [
    "# II(X;Y;Z)\n",
    "def interaction_information(X, Y, Z):\n",
    "    return conditional_mutual_information(X, Y, Z) - mutual_info_score(X, Y)"
   ]
  },
  {
   "cell_type": "code",
   "execution_count": 29,
   "metadata": {},
   "outputs": [],
   "source": [
    "# II(X;Y;Z1;Z2)\n",
    "def interaction_information2(X, Y, Z1, Z2):\n",
    "    Z_1_and_2 = 2*Z2 + Z1\n",
    "    return interaction_information(X, Y, Z_1_and_2) - interaction_information(X, Y, Z1) - interaction_information(X, Y, Z2)"
   ]
  },
  {
   "cell_type": "markdown",
   "metadata": {},
   "source": [
    "## Task 1"
   ]
  },
  {
   "cell_type": "code",
   "execution_count": 30,
   "metadata": {},
   "outputs": [],
   "source": [
    "def secmi2(X, Y, Z):\n",
    "    secmi = mutual_info_score(X, Y)\n",
    "    for i in range(Z.shape[1]):\n",
    "        secmi += interaction_information(X, Y, Z[:,i])\n",
    "    return secmi\n",
    "def secmi3(X, Y, Z):\n",
    "    secmi = secmi2(X, Y, Z)\n",
    "    for combination in itertools.combinations(list(range(Z.shape[1])), 2):\n",
    "        secmi += interaction_information2(X, Y, Z[:,combination[0]], Z[:,combination[1]])\n",
    "    return secmi"
   ]
  },
  {
   "cell_type": "code",
   "execution_count": 31,
   "metadata": {},
   "outputs": [],
   "source": [
    "mean = (1, 2, 1)\n",
    "\n",
    "cov = [[1, 0, 0], [0, 1, 0], [0, 0, 1]]\n",
    "n = 100\n",
    "X = discetize_2bins(np.random.normal(0, 1, n))\n",
    "Y = discetize_2bins(np.random.normal(0, 1, n))\n",
    "Z = discetize_2bins(np.random.multivariate_normal(mean, cov, n))\n",
    "# Z = discetize_2bins(np.random.normal(0, 1, n))"
   ]
  },
  {
   "cell_type": "code",
   "execution_count": 32,
   "metadata": {},
   "outputs": [
    {
     "data": {
      "text/plain": [
       "0.014553565377989896"
      ]
     },
     "execution_count": 32,
     "metadata": {},
     "output_type": "execute_result"
    }
   ],
   "source": [
    "secmi3(X, Y, Z)"
   ]
  },
  {
   "cell_type": "markdown",
   "metadata": {},
   "source": [
    "### a)"
   ]
  },
  {
   "cell_type": "code",
   "execution_count": 33,
   "metadata": {},
   "outputs": [],
   "source": [
    "def cond_indep_test_permutation(X, Y, Z, B, stat):\n",
    "\n",
    "    n_col_Z = Z.shape[1]\n",
    "    Z_1dim = np.dot(Z, 2**np.linspace(0, n_col_Z-1, n_col_Z))\n",
    "\n",
    "    if stat == \"cmi\":\n",
    "        stat_value = conditional_mutual_information(X, Y, Z_1dim)\n",
    "    if stat == \"secmi2\":\n",
    "        stat_value = secmi2(X, Y, Z)\n",
    "    if stat == \"secmi3\":\n",
    "        stat_value = secmi3(X, Y, Z)\n",
    "\n",
    "    condition_p_value = 0\n",
    "    for b in range(B):\n",
    "        X_b = conditional_permutation(X, Z_1dim)\n",
    "\n",
    "        if stat == \"cmi\":\n",
    "            stat_value_b = conditional_mutual_information(X_b, Y, Z_1dim)\n",
    "        if stat == \"secmi2\":\n",
    "            stat_value_b = secmi2(X_b, Y, Z)\n",
    "        if stat == \"secmi3\":\n",
    "            stat_value_b = secmi3(X_b, Y, Z)\n",
    "\n",
    "        if stat_value <= stat_value_b:\n",
    "            condition_p_value += 1\n",
    "\n",
    "    p_value = (1 + condition_p_value)/(1 + B)\n",
    "\n",
    "    return 2*len(X)*stat_value, p_value"
   ]
  },
  {
   "cell_type": "markdown",
   "metadata": {},
   "source": [
    "### b)"
   ]
  },
  {
   "cell_type": "code",
   "execution_count": 34,
   "metadata": {},
   "outputs": [],
   "source": [
    "def sample_from_model(n):\n",
    "    Y_tilde = np.random.normal(size=n)\n",
    "    Y = (Y_tilde > 0) * 2 - 1\n",
    "    Z1 = (np.random.normal(loc=Y, size=n) > 0) * 2 - 1\n",
    "    Z2 = (np.random.normal(loc=Y, size=n) > 0) * 2 - 1\n",
    "    Z3 = (np.random.normal(loc=Y, size=n) > 0) * 2 - 1\n",
    "    X = (np.random.normal(loc=Z1, size=n) > 0) * 2 - 1\n",
    "    return X, Y, Z1, Z2, Z3"
   ]
  },
  {
   "cell_type": "code",
   "execution_count": 35,
   "metadata": {},
   "outputs": [],
   "source": [
    "n = 100\n",
    "X, Y, Z1, Z2, Z3 = sample_from_model(n)"
   ]
  },
  {
   "cell_type": "code",
   "execution_count": 36,
   "metadata": {},
   "outputs": [
    {
     "name": "stdout",
     "output_type": "stream",
     "text": [
      "For first case, cmi:\n",
      "Mean p-value: 0.5858823529411764\n",
      "Rejected in 0.05 cases\n",
      "\n",
      "\n",
      "For second case, cmi:\n",
      "Mean p-value: 0.09313725490196077\n",
      "Rejected in 0.64 cases\n",
      "\n",
      "\n",
      "For first case, secmi2:\n",
      "Mean p-value: 0.5719607843137254\n",
      "Rejected in 0.03 cases\n",
      "\n",
      "\n",
      "For second case, secmi2:\n",
      "Mean p-value: 0.12137254901960784\n",
      "Rejected in 0.61 cases\n",
      "\n",
      "\n",
      "For first case, secmi3:\n",
      "Mean p-value: 0.5809803921568627\n",
      "Rejected in 0.07 cases\n",
      "\n",
      "\n",
      "For second case, secmi3:\n",
      "Mean p-value: 0.10098039215686275\n",
      "Rejected in 0.57 cases\n",
      "\n",
      "\n"
     ]
    }
   ],
   "source": [
    "tries = 100\n",
    "\n",
    "for stat in [\"cmi\", \"secmi2\", \"secmi3\"]:\n",
    "    results = []\n",
    "    for _ in range(tries):\n",
    "        X, Y, Z1, Z2, Z3 = sample_from_model(n)\n",
    "        pval = cond_indep_test_permutation(X, Y, np.array([[z1, z2] for z1, z2 in zip(Z1, Z2)]), 50, stat)[1]\n",
    "        results = [*results, pval]\n",
    "    print(f\"For first case, {stat}:\\nMean p-value: {np.mean(results)}\\nRejected in {(np.sum(np.array(results) < 0.05))/tries} cases\\n\\n\")\n",
    "    results = []\n",
    "    for _ in range(tries):\n",
    "        X, Y, Z1, Z2, Z3 = sample_from_model(n)\n",
    "        pval = cond_indep_test_permutation(X, Y, np.array([[z1, z2] for z1, z2 in zip(Z3, Z2)]), 50, stat)[1]\n",
    "        results = [*results, pval]\n",
    "    print(f\"For second case, {stat}:\\nMean p-value: {np.mean(results)}\\nRejected in {(np.sum(np.array(results) < 0.05))/tries} cases\\n\\n\")"
   ]
  },
  {
   "cell_type": "markdown",
   "metadata": {},
   "source": [
    "### c)"
   ]
  },
  {
   "cell_type": "code",
   "execution_count": 37,
   "metadata": {},
   "outputs": [],
   "source": [
    "n = 100\n",
    "X = np.random.binomial(1, 0.5, n)\n",
    "Z1 = np.random.binomial(1, 0.5, n)\n",
    "Z2 = np.random.binomial(1, 0.5, n)\n",
    "Z3 = np.random.binomial(1, 0.5, n)"
   ]
  },
  {
   "cell_type": "code",
   "execution_count": 38,
   "metadata": {},
   "outputs": [],
   "source": [
    "Y08 = np.random.binomial(1, 0.8, n)\n",
    "Y02 = np.random.binomial(1, 0.2, n)\n",
    "Y = np.repeat(0,n)"
   ]
  },
  {
   "cell_type": "code",
   "execution_count": 39,
   "metadata": {},
   "outputs": [],
   "source": [
    "var_sum = (X + Z1 + Z2) % 2"
   ]
  },
  {
   "cell_type": "code",
   "execution_count": 40,
   "metadata": {},
   "outputs": [],
   "source": [
    "def c_scenario(n=100):\n",
    "    X = np.random.binomial(1, 0.5, n)\n",
    "    Z1 = np.random.binomial(1, 0.5, n)\n",
    "    Z2 = np.random.binomial(1, 0.5, n)\n",
    "    Z3 = np.random.binomial(1, 0.5, n)\n",
    "    Y08 = np.random.binomial(1, 0.8, n)\n",
    "    Y02 = np.random.binomial(1, 0.2, n)\n",
    "    Y = np.repeat(0,n)\n",
    "    var_sum = (X + Z1 + Z2) % 2\n",
    "    Y[var_sum == 1] = Y08[var_sum == 1]\n",
    "    Y[var_sum == 0] = Y02[var_sum == 0]\n",
    "    return X, Z1, Z2, Z3, Y"
   ]
  },
  {
   "cell_type": "code",
   "execution_count": 41,
   "metadata": {},
   "outputs": [
    {
     "name": "stdout",
     "output_type": "stream",
     "text": [
      "For first case, cmi:\n",
      "Mean p-value: 0.515686274509804\n",
      "Rejected in 0.08 cases\n",
      "\n",
      "\n",
      "For second case, cmi:\n",
      "Mean p-value: 0.5566666666666666\n",
      "Rejected in 0.05 cases\n",
      "\n",
      "\n",
      "For first case, secmi2:\n",
      "Mean p-value: 0.49490196078431375\n",
      "Rejected in 0.04 cases\n",
      "\n",
      "\n",
      "For second case, secmi2:\n",
      "Mean p-value: 0.5598039215686275\n",
      "Rejected in 0.04 cases\n",
      "\n",
      "\n",
      "For first case, secmi3:\n",
      "Mean p-value: 0.47\n",
      "Rejected in 0.04 cases\n",
      "\n",
      "\n",
      "For second case, secmi3:\n",
      "Mean p-value: 0.5311764705882352\n",
      "Rejected in 0.03 cases\n",
      "\n",
      "\n"
     ]
    }
   ],
   "source": [
    "tries = 100\n",
    "\n",
    "for stat in [\"cmi\", \"secmi2\", \"secmi3\"]:\n",
    "    results = []\n",
    "    for _ in range(tries):\n",
    "        X, Y, Z1, Z2, Z3 = c_scenario(n)\n",
    "        pval = cond_indep_test_permutation(X, Y, np.array([[z1, z2] for z1, z2 in zip(Z1, Z2)]), 50, stat)[1]\n",
    "        results = [*results, pval]\n",
    "    print(f\"For first case, {stat}:\\nMean p-value: {np.mean(results)}\\nRejected in {(np.sum(np.array(results) < 0.05))/tries} cases\\n\\n\")\n",
    "    results = []\n",
    "    for _ in range(tries):\n",
    "        X, Y, Z1, Z2, Z3 = c_scenario(n)\n",
    "        pval = cond_indep_test_permutation(X, Y, np.array([[z1, z2] for z1, z2 in zip(Z3, Z2)]), 50, stat)[1]\n",
    "        results = [*results, pval]\n",
    "    print(f\"For second case, {stat}:\\nMean p-value: {np.mean(results)}\\nRejected in {(np.sum(np.array(results) < 0.05))/tries} cases\\n\\n\")"
   ]
  },
  {
   "cell_type": "markdown",
   "metadata": {},
   "source": [
    "## Task 2\n",
    " \n",
    "in R"
   ]
  }
 ],
 "metadata": {
  "kernelspec": {
   "display_name": "Python 3 (ipykernel)",
   "language": "python",
   "name": "python3"
  },
  "language_info": {
   "codemirror_mode": {
    "name": "ipython",
    "version": 3
   },
   "file_extension": ".py",
   "mimetype": "text/x-python",
   "name": "python",
   "nbconvert_exporter": "python",
   "pygments_lexer": "ipython3",
   "version": "3.11.2"
  }
 },
 "nbformat": 4,
 "nbformat_minor": 4
}
