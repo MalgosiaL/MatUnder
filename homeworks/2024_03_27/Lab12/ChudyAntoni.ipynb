{
 "cells": [
  {
   "cell_type": "code",
   "execution_count": 26,
   "metadata": {},
   "outputs": [],
   "source": [
    "import warnings\n",
    "\n",
    "warnings.filterwarnings(\"ignore\")"
   ]
  },
  {
   "cell_type": "code",
   "execution_count": 27,
   "metadata": {},
   "outputs": [],
   "source": [
    "from sklearn.metrics import mutual_info_score\n",
    "#from sklearn.feature_selection import chi2\n",
    "from scipy.stats import chi2_contingency\n",
    "from scipy.stats import chi2\n",
    "import numpy as np\n",
    "import matplotlib.pyplot as plt\n",
    "from scipy.stats import gaussian_kde, pearsonr\n",
    "import seaborn as sns\n",
    "import pandas as pd"
   ]
  },
  {
   "cell_type": "markdown",
   "metadata": {},
   "source": [
    "# Mathematical Underpinnings - Lab 4"
   ]
  },
  {
   "cell_type": "markdown",
   "metadata": {},
   "source": [
    "Tests to verify hipoteses of independence (from Lab 4):"
   ]
  },
  {
   "cell_type": "code",
   "execution_count": 28,
   "metadata": {},
   "outputs": [],
   "source": [
    "def indep_test_asymptotic(X, Y, stat = 'mi'):\n",
    "\n",
    "    if stat == \"mi\":\n",
    "\n",
    "        stat_value = 2*len(X)*mutual_info_score(X, Y)\n",
    "\n",
    "    if stat == \"chi2\":\n",
    "\n",
    "        test_res = (chi2_contingency(pd.crosstab(X, Y)))\n",
    "        stat_value = test_res.statistic\n",
    "\n",
    "    df = (len(np.unique(X)) - 1)*(len(np.unique(Y)) - 1)\n",
    "\n",
    "    p_value = 1 - chi2.cdf(stat_value, df=df)\n",
    "\n",
    "    return stat_value, p_value\n",
    "\n",
    "def indep_test_permutation(X, Y, B, stat=\"mi\"):\n",
    "\n",
    "    stat_value = mutual_info_score(X, Y)\n",
    "\n",
    "    condition_p_value = 0\n",
    "    for b in range(B):\n",
    "        X_b = np.random.permutation(X)\n",
    "\n",
    "        stat_value_b = mutual_info_score(X_b, Y)\n",
    "\n",
    "        if stat_value <= stat_value_b:\n",
    "            condition_p_value += 1\n",
    "\n",
    "    p_value = (1 + condition_p_value)/(1 + B)\n",
    "\n",
    "    return 2*len(X)*stat_value, p_value\n",
    "\n"
   ]
  },
  {
   "cell_type": "markdown",
   "metadata": {},
   "source": [
    "## Task 1"
   ]
  },
  {
   "cell_type": "markdown",
   "metadata": {},
   "source": [
    "### a)"
   ]
  },
  {
   "cell_type": "code",
   "execution_count": 29,
   "metadata": {},
   "outputs": [],
   "source": [
    "# a function which computes CMI"
   ]
  },
  {
   "cell_type": "code",
   "execution_count": 30,
   "metadata": {},
   "outputs": [],
   "source": [
    " from sklearn.preprocessing import KBinsDiscretizer"
   ]
  },
  {
   "cell_type": "code",
   "execution_count": 31,
   "metadata": {},
   "outputs": [],
   "source": [
    "def conditional_i_test(X,Y,Z):\n",
    "    df = np.stack((X,Y),axis = 1)\n",
    "    dis = KBinsDiscretizer(n_bins=10, encode='ordinal', strategy = 'uniform')\n",
    "    dis.fit(df)\n",
    "    new_X = dis.transform(df)\n",
    "    n = X.shape[0]\n",
    "    MI = 0\n",
    "    for z in np.unique(Z):\n",
    "        MI += np.count_nonzero(Z == z)/n * mutual_info_score(new_X[Z==z,0], new_X[Z==z,1])\n",
    "    return MI, chi2.sf(2*n*MI, 81*np.shape(np.unique(Z))[0])"
   ]
  },
  {
   "cell_type": "code",
   "execution_count": 32,
   "metadata": {},
   "outputs": [],
   "source": [
    "n = 1000\n",
    "ro = 0.15\n",
    "data = np.random.multivariate_normal(np.zeros(2), np.array([[1,ro], [ro,1]]), n)"
   ]
  },
  {
   "cell_type": "code",
   "execution_count": 33,
   "metadata": {},
   "outputs": [
    {
     "data": {
      "text/plain": [
       "(0.08195836664158211, 0.443113603917279)"
      ]
     },
     "execution_count": 33,
     "metadata": {},
     "output_type": "execute_result"
    }
   ],
   "source": [
    "conditional_i_test(data[:,0], data[:,1], np.random.randint(0,2,n))"
   ]
  },
  {
   "cell_type": "code",
   "execution_count": 34,
   "metadata": {},
   "outputs": [
    {
     "data": {
      "text/plain": [
       "(0.6908642777328198, 2.048815995301209e-192)"
      ]
     },
     "execution_count": 34,
     "metadata": {},
     "output_type": "execute_result"
    }
   ],
   "source": [
    "# teraz drugi przypadek\n",
    "n = 1000\n",
    "ro = 0.15\n",
    "X = np.random.randn(n)\n",
    "Z = np.random.randint(0,2,n)\n",
    "Y = Z * X + 1/10*np.random.randn(n) # noise added\n",
    "conditional_i_test(X,Y,Z)"
   ]
  },
  {
   "cell_type": "markdown",
   "metadata": {},
   "source": [
    "### b)"
   ]
  },
  {
   "cell_type": "code",
   "execution_count": 35,
   "metadata": {},
   "outputs": [],
   "source": [
    "def conditional_permutation_test(X, Y, Z, B):\n",
    "    benchmark = np.zeros(B)\n",
    "    data = np.stack((X,Y),axis=1)\n",
    "    discx = KBinsDiscretizer(n_bins=10, encode='ordinal', strategy='uniform')\n",
    "    discx.fit(data)\n",
    "    new_X = discx.transform(data)\n",
    "    MI = 0\n",
    "    for z in np.unique(Z):\n",
    "        MI += np.count_nonzero(Z == z)/n * mutual_info_score(new_X[Z == z,0], new_X[Z == z,1])\n",
    "    for b in range(B):\n",
    "        for z in np.unique(Z):\n",
    "            MI += np.count_nonzero(Z == z)/n * mutual_info_score(np.random.permutation(new_X[Z == z,0]), new_X[Z == z,1])\n",
    "        benchmark[b] = mutual_info_score(new_X[:,0], new_X[:,1])\n",
    "    return (1 + sum(benchmark >= MI)) / (B + 1)"
   ]
  },
  {
   "cell_type": "markdown",
   "metadata": {},
   "source": [
    "### c)"
   ]
  },
  {
   "cell_type": "code",
   "execution_count": 36,
   "metadata": {},
   "outputs": [
    {
     "data": {
      "text/plain": [
       "(0.07614297065876405, 0.6962391188332047)"
      ]
     },
     "execution_count": 36,
     "metadata": {},
     "output_type": "execute_result"
    }
   ],
   "source": [
    "\n",
    "n = 1000\n",
    "ro = 0.15\n",
    "data = np.random.multivariate_normal(np.zeros(2), np.array([[1, ro], [ro, 1]]), n)\n",
    "conditional_i_test(data[:,0], data[:,1], np.random.randint(0,2,n))"
   ]
  },
  {
   "cell_type": "code",
   "execution_count": 37,
   "metadata": {},
   "outputs": [
    {
     "data": {
      "text/plain": [
       "0.009900990099009901"
      ]
     },
     "execution_count": 37,
     "metadata": {},
     "output_type": "execute_result"
    }
   ],
   "source": [
    "\n",
    "n = 1000\n",
    "ro = 0.15\n",
    "X = np.random.randn(n)\n",
    "Z = np.random.randint(0,2,n)\n",
    "Y = Z * X + 1/10*np.random.randn(n) # noise added\n",
    "conditional_permutation_test(X,Y,Z, 100)\n"
   ]
  },
  {
   "cell_type": "markdown",
   "metadata": {},
   "source": [
    "## Task 2"
   ]
  },
  {
   "cell_type": "code",
   "execution_count": 38,
   "metadata": {},
   "outputs": [],
   "source": [
    "def sample_from_model1():\n",
    "    pass\n",
    "\n",
    "def sample_from_model2():\n",
    "    pass\n",
    "\n",
    "def sample_from_model3():\n",
    "    pass"
   ]
  },
  {
   "cell_type": "code",
   "execution_count": 39,
   "metadata": {},
   "outputs": [],
   "source": [
    "def discretize(Q):\n",
    "    Q[Q < 0] = -1\n",
    "    Q[Q >= 0] = 1\n",
    "    return Q\n",
    "\n",
    "def sample_from_model1(n=1000):\n",
    "    Z = discretize(np.random.normal(0, 1, n))\n",
    "    X = discretize(np.random.normal(Z/2, 1))\n",
    "    Y = discretize(np.random.normal(Z/2, 1))\n",
    "    return X, Y, Z\n",
    "\n",
    "def sample_from_model2(n=1000):\n",
    "    X = discretize(np.random.normal(0, 1, n))\n",
    "    Z = discretize(np.random.normal(X/2, 1))\n",
    "    Y = discretize(np.random.normal(Z/2, 1))\n",
    "    return X, Y, Z\n",
    "\n",
    "def sample_from_model3(n=1000):\n",
    "    X = discretize(np.random.normal(0, 1, n))\n",
    "    Y = discretize(np.random.normal(0, 1, n))\n",
    "    Z = discretize(np.random.normal((X+Y)/2, 1))\n",
    "    return X, Y, Z\n",
    "\n"
   ]
  },
  {
   "cell_type": "markdown",
   "metadata": {},
   "source": [
    "### a)"
   ]
  },
  {
   "cell_type": "markdown",
   "metadata": {},
   "source": [
    "Model 1: dependent, conditionally independent"
   ]
  },
  {
   "cell_type": "markdown",
   "metadata": {},
   "source": [
    "Model 2: dependent, conditionally independent"
   ]
  },
  {
   "cell_type": "markdown",
   "metadata": {},
   "source": [
    "Model 3: independent, conditionally dependent"
   ]
  },
  {
   "cell_type": "markdown",
   "metadata": {},
   "source": [
    "### b)"
   ]
  },
  {
   "cell_type": "code",
   "execution_count": 40,
   "metadata": {},
   "outputs": [
    {
     "name": "stdout",
     "output_type": "stream",
     "text": [
      "MI:\n",
      "0.01452524086812318\n",
      "CMI:\n",
      "0.0006296366411007807\n"
     ]
    }
   ],
   "source": [
    "X, Y, Z = sample_from_model1()\n",
    "\n",
    "print(\"MI:\")\n",
    "print(mutual_info_score(X, Y))\n",
    "print(\"CMI:\")\n",
    "print(conditional_i_test(X, Y, Z)[0])"
   ]
  },
  {
   "cell_type": "code",
   "execution_count": 41,
   "metadata": {},
   "outputs": [
    {
     "name": "stdout",
     "output_type": "stream",
     "text": [
      "MI:\n",
      "0.015690823716691726\n",
      "CMI:\n",
      "0.0018604522542880638\n"
     ]
    }
   ],
   "source": [
    "X, Y, Z = sample_from_model2()\n",
    "\n",
    "print(\"MI:\")\n",
    "print(mutual_info_score(X, Y))\n",
    "print(\"CMI:\")\n",
    "print(conditional_i_test(X, Y, Z)[0])"
   ]
  },
  {
   "cell_type": "code",
   "execution_count": 42,
   "metadata": {},
   "outputs": [
    {
     "name": "stdout",
     "output_type": "stream",
     "text": [
      "MI:\n",
      "7.390300710286013e-08\n",
      "CMI:\n",
      "0.007440045380275112\n"
     ]
    }
   ],
   "source": [
    "X, Y, Z = sample_from_model3()\n",
    "\n",
    "print(\"MI:\")\n",
    "print(mutual_info_score(X, Y))\n",
    "print(\"CMI:\")\n",
    "print(conditional_i_test(X, Y, Z)[0])"
   ]
  },
  {
   "cell_type": "markdown",
   "metadata": {},
   "source": [
    "### c)"
   ]
  },
  {
   "cell_type": "markdown",
   "metadata": {},
   "source": [
    "Model 1"
   ]
  },
  {
   "cell_type": "code",
   "execution_count": 52,
   "metadata": {},
   "outputs": [
    {
     "name": "stdout",
     "output_type": "stream",
     "text": [
      "Independence test p-value: (10.407009682625091, 0.0012553786531661615)\n",
      "Conditional permutation test p-value: 0.009900990099009901\n",
      "Chi2 independence test p-value: 0.001578067856151888\n",
      "Conditional chi2 test p-value: 1.0\n"
     ]
    }
   ],
   "source": [
    "X, Y, Z = sample_from_model1()\n",
    "\n",
    "print(\"Independence test p-value: \"+ str(indep_test_asymptotic(X,Y, 'mi')))\n",
    "print(\"Conditional permutation test p-value: \"+ str(conditional_permutation_test(X,Y, Z, 100)))\n",
    "\n",
    "print(\"Chi2 independence test p-value: \"+ str(indep_test_asymptotic(X,Y,\"chi2\")[1]))\n",
    "print(\"Conditional chi2 test p-value: \"+ str(conditional_i_test(X,Y, Z)[1]))\n"
   ]
  },
  {
   "cell_type": "markdown",
   "metadata": {},
   "source": [
    "Model 2"
   ]
  },
  {
   "cell_type": "code",
   "execution_count": 54,
   "metadata": {},
   "outputs": [
    {
     "name": "stdout",
     "output_type": "stream",
     "text": [
      "Independence test p-value: (24.012473989735494, 9.571359249616052e-07)\n",
      "Conditional permutation test p-value: 0.009900990099009901\n",
      "Chi2 independence test p-value: 1.3952628016289381e-06\n",
      "Conditional chi2 test p-value: 1.0\n"
     ]
    }
   ],
   "source": [
    "X, Y, Z = sample_from_model2()\n",
    "\n",
    "print(\"Independence test p-value: \"+ str(indep_test_asymptotic(X,Y, 'mi')))\n",
    "print(\"Conditional permutation test p-value: \"+ str(conditional_permutation_test(X,Y, Z, 100)))\n",
    "\n",
    "print(\"Chi2 independence test p-value: \"+ str(indep_test_asymptotic(X,Y,\"chi2\")[1]))\n",
    "print(\"Conditional chi2 test p-value: \"+ str(conditional_i_test(X,Y, Z)[1]))"
   ]
  },
  {
   "cell_type": "markdown",
   "metadata": {},
   "source": [
    "Model 3"
   ]
  },
  {
   "cell_type": "code",
   "execution_count": 55,
   "metadata": {},
   "outputs": [
    {
     "name": "stdout",
     "output_type": "stream",
     "text": [
      "Independence test p-value: (1.273135188640473, 0.2591793436316202)\n",
      "Conditional permutation test p-value: 0.009900990099009901\n",
      "Chi2 independence test p-value: 0.2870042376422688\n",
      "Conditional chi2 test p-value: 1.0\n"
     ]
    }
   ],
   "source": [
    "X, Y, Z = sample_from_model3()\n",
    "\n",
    "print(\"Independence test p-value: \"+ str(indep_test_asymptotic(X,Y, 'mi')))\n",
    "print(\"Conditional permutation test p-value: \"+ str(conditional_permutation_test(X,Y, Z, 100)))\n",
    "\n",
    "print(\"Chi2 independence test p-value: \"+ str(indep_test_asymptotic(X,Y,\"chi2\")[1]))\n",
    "print(\"Conditional chi2 test p-value: \"+ str(conditional_i_test(X,Y, Z)[1]))"
   ]
  },
  {
   "cell_type": "code",
   "execution_count": null,
   "metadata": {},
   "outputs": [],
   "source": []
  }
 ],
 "metadata": {
  "kernelspec": {
   "display_name": "Python 3 (ipykernel)",
   "language": "python",
   "name": "python3"
  },
  "language_info": {
   "codemirror_mode": {
    "name": "ipython",
    "version": 3
   },
   "file_extension": ".py",
   "mimetype": "text/x-python",
   "name": "python",
   "nbconvert_exporter": "python",
   "pygments_lexer": "ipython3",
   "version": "3.9.12"
  }
 },
 "nbformat": 4,
 "nbformat_minor": 2
}
