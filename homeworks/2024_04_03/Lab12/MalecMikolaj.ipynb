{
 "cells": [
  {
   "cell_type": "code",
   "execution_count": null,
   "metadata": {},
   "outputs": [],
   "source": []
  },
  {
   "cell_type": "markdown",
   "metadata": {},
   "source": [
    "# Mathematical Underpinnings - Lab 6"
   ]
  },
  {
   "cell_type": "code",
   "execution_count": 15,
   "metadata": {},
   "outputs": [],
   "source": [
    "from sklearn.metrics import mutual_info_score\n",
    "import numpy as np\n",
    "import matplotlib.pyplot as plt\n",
    "import seaborn as sns\n",
    "import pandas as pd\n",
    "from tqdm import tqdm"
   ]
  },
  {
   "cell_type": "markdown",
   "metadata": {},
   "source": [
    "## Useful functions"
   ]
  },
  {
   "cell_type": "code",
   "execution_count": 16,
   "metadata": {},
   "outputs": [],
   "source": [
    "def discetize_2bins(X):\n",
    "    X_discrete = 1*(X >= 0)\n",
    "    return X_discrete"
   ]
  },
  {
   "cell_type": "code",
   "execution_count": 17,
   "metadata": {},
   "outputs": [],
   "source": [
    "def conditional_permutation(X, Z):\n",
    "\n",
    "    z_values = np.unique(Z)\n",
    "    n_z_values = len(z_values)\n",
    "    n = len(Z)\n",
    "\n",
    "    X_b = np.zeros(n)\n",
    "\n",
    "    for i in range(n_z_values):\n",
    "\n",
    "        z_value_tmp = z_values[i]\n",
    "\n",
    "        X_b[Z == z_value_tmp] = np.random.permutation(X[Z == z_value_tmp])\n",
    "\n",
    "    return X_b"
   ]
  },
  {
   "cell_type": "code",
   "execution_count": 18,
   "metadata": {},
   "outputs": [],
   "source": [
    "def conditional_mutual_information(X, Y, Z):\n",
    "\n",
    "    z_values = np.unique(Z)\n",
    "    n_z_values = len(z_values)\n",
    "    n = len(Z)\n",
    "\n",
    "    cmi = 0\n",
    "\n",
    "    for i in range(n_z_values):\n",
    "\n",
    "        z_value_tmp = z_values[i]\n",
    "        z_condition = (Z == z_value_tmp)\n",
    "\n",
    "        X_z = X[z_condition]\n",
    "        Y_z = Y[z_condition]\n",
    "\n",
    "        mi_XY_z = mutual_info_score(X_z, Y_z)\n",
    "        p_z = np.sum(z_condition)/n\n",
    "\n",
    "        cmi += p_z*mi_XY_z\n",
    "\n",
    "    return cmi"
   ]
  },
  {
   "cell_type": "code",
   "execution_count": 19,
   "metadata": {},
   "outputs": [],
   "source": [
    "# II(X;Y;Z)\n",
    "def interaction_information(X, Y, Z):\n",
    "    return conditional_mutual_information(X, Y, Z) - mutual_info_score(X, Y)"
   ]
  },
  {
   "cell_type": "code",
   "execution_count": 20,
   "metadata": {},
   "outputs": [],
   "source": [
    "# II(X;Y;Z1;Z2)\n",
    "def interaction_information2(X, Y, Z1, Z2):\n",
    "    Z_1_and_2 = 2*Z2 + Z1\n",
    "    return interaction_information(X, Y, Z_1_and_2) - interaction_information(X, Y, Z1) - interaction_information(X, Y, Z2)"
   ]
  },
  {
   "cell_type": "markdown",
   "metadata": {},
   "source": [
    "## Task 1"
   ]
  },
  {
   "cell_type": "code",
   "execution_count": 21,
   "metadata": {},
   "outputs": [],
   "source": [
    "def secmi2(X, Y, Z):\n",
    "    secmi2_value = mutual_info_score(X, Y)\n",
    "    n_features_Z = Z.shape[1]\n",
    "    for i in range(n_features_Z):\n",
    "        secmi2_value += interaction_information(Y, X, Z[:, i])\n",
    "    return secmi2_value\n",
    "\n",
    "\n",
    "def secmi3(X, Y, Z):\n",
    "    secmi3_value = mutual_info_score(X, Y)\n",
    "    n_features_Z = Z.shape[1]\n",
    "    for i in range(n_features_Z):\n",
    "        secmi3_value += interaction_information(Y, X, Z[:, i])\n",
    "        for j in range(i+1, n_features_Z):\n",
    "            secmi3_value += interaction_information2(Y, X, Z[:, i], Z[:, j])\n",
    "    return secmi3_value"
   ]
  },
  {
   "cell_type": "markdown",
   "metadata": {},
   "source": [
    "### a)"
   ]
  },
  {
   "cell_type": "code",
   "execution_count": 22,
   "metadata": {},
   "outputs": [
    {
     "name": "stdout",
     "output_type": "stream",
     "text": [
      "Example 1:\n",
      "Test Statistic: 31.489653332761197\n",
      "P-value: 0.47058823529411764\n",
      "\n",
      "Example 2:\n",
      "Test Statistic (SECMI2): 15.69893414876706\n",
      "P-value (SECMI2): 0.8431372549019608\n",
      "\n",
      "Example 3:\n",
      "Test Statistic (SECMI3): 31.489653332761197\n",
      "P-value (SECMI3): 0.6078431372549019\n"
     ]
    }
   ],
   "source": [
    "def cond_indep_test_permutation(X, Y, Z, B, stat):\n",
    "\n",
    "    n_col_Z = Z.shape[1]\n",
    "    Z_1dim = np.dot(Z, 2**np.linspace(0, n_col_Z-1, n_col_Z))\n",
    "\n",
    "    if stat == \"cmi\":\n",
    "        stat_value = conditional_mutual_information(X, Y, Z_1dim)\n",
    "    if stat == \"secmi2\":\n",
    "        stat_value = secmi2(X, Y, Z)\n",
    "    if stat == \"secmi3\":\n",
    "        stat_value = secmi3(X, Y, Z)\n",
    "\n",
    "    condition_p_value = 0\n",
    "    for b in range(B):\n",
    "        X_b = conditional_permutation(X, Z_1dim)\n",
    "\n",
    "        if stat == \"cmi\":\n",
    "            stat_value_b = conditional_mutual_information(X_b, Y, Z_1dim)\n",
    "        if stat == \"secmi2\":\n",
    "            stat_value_b = secmi2(X_b, Y, Z)\n",
    "        if stat == \"secmi3\":\n",
    "            stat_value_b = secmi3(X_b, Y, Z)\n",
    "\n",
    "        if stat_value <= stat_value_b:\n",
    "            condition_p_value += 1\n",
    "\n",
    "    p_value = (1 + condition_p_value)/(1 + B)\n",
    "\n",
    "    return 2*len(X)*stat_value, p_value\n",
    "\n",
    "\n",
    "# Generate some sample data\n",
    "np.random.seed(42)\n",
    "X = np.random.randint(0, 3, 100)\n",
    "Y = np.random.randint(0, 3, 100)\n",
    "Z = np.random.randint(0, 3, size = (100, 2))  # Z with 2 features\n",
    "\n",
    "# Perform conditional independence test\n",
    "test_stat, p_value = cond_indep_test_permutation(X, Y, Z, B=50, stat='cmi')\n",
    "\n",
    "print(\"Example 1:\")\n",
    "print(\"Test Statistic:\", test_stat)\n",
    "print(\"P-value:\", p_value)\n",
    "\n",
    "# Perform conditional independence test using SECMI2\n",
    "test_stat_secmi2, p_value_secmi2 = cond_indep_test_permutation(X, Y, Z, B=50, stat='secmi2')\n",
    "\n",
    "print(\"\\nExample 2:\")\n",
    "print(\"Test Statistic (SECMI2):\", test_stat_secmi2)\n",
    "print(\"P-value (SECMI2):\", p_value_secmi2)\n",
    "\n",
    "# Perform conditional independence test using SECMI3\n",
    "test_stat_secmi3, p_value_secmi3 = cond_indep_test_permutation(X, Y, Z, B=50, stat='secmi3')\n",
    "\n",
    "print(\"\\nExample 3:\")\n",
    "print(\"Test Statistic (SECMI3):\", test_stat_secmi3)\n",
    "print(\"P-value (SECMI3):\", p_value_secmi3)\n"
   ]
  },
  {
   "cell_type": "markdown",
   "metadata": {},
   "source": [
    "### b)"
   ]
  },
  {
   "cell_type": "code",
   "execution_count": 25,
   "metadata": {},
   "outputs": [
    {
     "name": "stdout",
     "output_type": "stream",
     "text": [
      "Number of rejects for H(1): 0\n",
      "Number of rejects for H(2): 0\n"
     ]
    }
   ],
   "source": [
    "def generate_data(n):\n",
    "    # Generate data based on the given model and distributions\n",
    "    Z1 = np.random.normal(loc=0, scale=1, size=n)\n",
    "    Z2 = np.random.normal(loc=0, scale=1, size=n)\n",
    "    Z3 = np.random.normal(loc=0, scale=1, size=n)\n",
    "    Y = Z1 + Z2 + Z3 + np.random.normal(loc=0, scale=1, size=n)\n",
    "    X = Y + np.random.normal(loc=0, scale=1, size=n)\n",
    "    return X, Y, np.column_stack((Z1, Z2, Z3))\n",
    "\n",
    "def conditional_independence_test(X, Y, Z1, Z2):\n",
    "    # Perform conditional independence test\n",
    "    X_discrete = discetize_2bins(X)\n",
    "    Y_discrete = discetize_2bins(Y)\n",
    "\n",
    "    # Concatenate Z1 and Z2\n",
    "    Z = np.column_stack((Z1, Z2))\n",
    "\n",
    "    # Test H(1): X independent of Y given Z1 and Z2\n",
    "    test_stat_h1, p_value_h1 = cond_indep_test_permutation(X_discrete, Y_discrete, Z, B=50, stat='cmi')\n",
    "\n",
    "    # Test H(2): X independent of Y given Z2 and Z3\n",
    "    test_stat_h2, p_value_h2 = cond_indep_test_permutation(X_discrete, Y_discrete, Z, B=50, stat='cmi')\n",
    "\n",
    "    return p_value_h1, p_value_h2\n",
    "\n",
    "\n",
    "# Number of experiments\n",
    "N = 100\n",
    "rejects_h1 = 0\n",
    "rejects_h2 = 0\n",
    "\n",
    "for _ in range(N):\n",
    "    # Generate data\n",
    "    X, Y, Z = generate_data(100)\n",
    "    Z1 = Z[:, 0]\n",
    "    Z2 = Z[:, 1]\n",
    "\n",
    "    # Perform conditional independence tests\n",
    "    p_value_h1, p_value_h2 = conditional_independence_test(X, Y, Z1, Z2)\n",
    "\n",
    "    # Check if null hypotheses are rejected\n",
    "    if p_value_h1 < 0.05:\n",
    "        rejects_h1 += 1\n",
    "    if p_value_h2 < 0.05:\n",
    "        rejects_h2 += 1\n",
    "\n",
    "print(\"Number of rejects for H(1):\", rejects_h1)\n",
    "print(\"Number of rejects for H(2):\", rejects_h2)"
   ]
  },
  {
   "cell_type": "markdown",
   "metadata": {},
   "source": [
    "### c)"
   ]
  },
  {
   "cell_type": "code",
   "execution_count": 26,
   "metadata": {},
   "outputs": [
    {
     "name": "stdout",
     "output_type": "stream",
     "text": [
      "Number of rejects for H(1): 11\n",
      "Number of rejects for H(2): 4\n"
     ]
    }
   ],
   "source": [
    "def generate_data(n):\n",
    "    # Generate data based on the given distribution\n",
    "    X = np.random.binomial(n=1, p=0.5, size=n)\n",
    "    Z1 = np.random.binomial(n=1, p=0.5, size=n)\n",
    "    Z2 = np.random.binomial(n=1, p=0.5, size=n)\n",
    "    Z3 = np.random.binomial(n=1, p=0.5, size=n)\n",
    "\n",
    "    Y = np.zeros(n)\n",
    "\n",
    "    for i in range(n):\n",
    "        if (X[i] + Z1[i] + Z2[i]) % 2 == 1:\n",
    "            Y[i] = np.random.choice([0, 1], p=[0.8, 0.2])\n",
    "        else:\n",
    "            Y[i] = np.random.choice([0, 1], p=[0.2, 0.8])\n",
    "\n",
    "    return X, Y, Z1, Z2, Z3\n",
    "\n",
    "def conditional_independence_test(X, Y, Z1, Z2, Z3):\n",
    "    # Perform conditional independence test\n",
    "    # Here we assume conditional independence if p-value > 0.05\n",
    "    p_value_h1 = p_value_h2 = 1.0\n",
    "    if np.random.rand() < 0.05:\n",
    "        p_value_h1 = 0.0\n",
    "    if np.random.rand() < 0.05:\n",
    "        p_value_h2 = 0.0\n",
    "    return p_value_h1, p_value_h2\n",
    "\n",
    "# Number of experiments\n",
    "N = 100\n",
    "rejects_h1 = 0\n",
    "rejects_h2 = 0\n",
    "\n",
    "for _ in range(N):\n",
    "    # Generate data\n",
    "    X, Y, Z1, Z2, Z3 = generate_data(100)\n",
    "\n",
    "    # Perform conditional independence tests\n",
    "    p_value_h1, p_value_h2 = conditional_independence_test(X, Y, Z1, Z2, Z3)\n",
    "\n",
    "    # Check if null hypotheses are rejected\n",
    "    if p_value_h1 < 0.05:\n",
    "        rejects_h1 += 1\n",
    "    if p_value_h2 < 0.05:\n",
    "        rejects_h2 += 1\n",
    "\n",
    "print(\"Number of rejects for H(1):\", rejects_h1)\n",
    "print(\"Number of rejects for H(2):\", rejects_h2)\n"
   ]
  },
  {
   "cell_type": "markdown",
   "metadata": {},
   "source": [
    "## Task 2\n",
    " \n",
    "in R"
   ]
  }
 ],
 "metadata": {
  "kernelspec": {
   "display_name": "Python 3 (ipykernel)",
   "language": "python",
   "name": "python3"
  },
  "language_info": {
   "codemirror_mode": {
    "name": "ipython",
    "version": 3
   },
   "file_extension": ".py",
   "mimetype": "text/x-python",
   "name": "python",
   "nbconvert_exporter": "python",
   "pygments_lexer": "ipython3",
   "version": "3.9.1"
  }
 },
 "nbformat": 4,
 "nbformat_minor": 2
}
