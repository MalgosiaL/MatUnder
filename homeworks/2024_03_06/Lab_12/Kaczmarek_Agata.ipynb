{
 "cells": [
  {
   "attachments": {},
   "cell_type": "markdown",
   "metadata": {},
   "source": [
    "# Mathematical Underpinnings - Lab 2"
   ]
  },
  {
   "cell_type": "code",
   "execution_count": 1,
   "metadata": {},
   "outputs": [],
   "source": [
    "import numpy as np\n",
    "import matplotlib.pyplot as plt"
   ]
  },
  {
   "attachments": {},
   "cell_type": "markdown",
   "metadata": {},
   "source": [
    "## Task 1"
   ]
  },
  {
   "cell_type": "markdown",
   "metadata": {},
   "source": [
    "### a)\n",
    "\n",
    "$R(a,a^*) = \\mathbb{E} \\mathcal{L}(f(X), Y) = \\mathbb{E}(aX - Y)^2 = \\mathbb{E}(aX - (X+\\epsilon))^2 = a^2 \\mathbb{E} X^2 - 2a \\mathbb{E}X(X+\\epsilon)+\\mathbb{E}(x+\\epsilon)^2 = a^2\\mathbb{E}X^2-2a \\mathbb{E}X^2-2a\\mathbb{E}X\\mathbb{E}\\epsilon+\\mathbb{E}X^2+2\\mathbb{E}X\\mathbb{E}\\epsilon+\\mathbb{E}\\epsilon^2 = a^2-2a+1+\\sigma^2.$\n",
    "\n",
    "In our task we know $a^* = 1$."
   ]
  },
  {
   "cell_type": "code",
   "execution_count": 2,
   "metadata": {},
   "outputs": [],
   "source": [
    "def population_risk(a, sigma_eps):\n",
    "    return (a-1)**2+sigma_eps**2"
   ]
  },
  {
   "attachments": {},
   "cell_type": "markdown",
   "metadata": {},
   "source": [
    "### b)"
   ]
  },
  {
   "cell_type": "code",
   "execution_count": 11,
   "metadata": {},
   "outputs": [
    {
     "name": "stdout",
     "output_type": "stream",
     "text": [
      "[ 0.55840768  0.74786237 -0.30399216  1.22270026  1.18942377  1.50184078\n",
      "  1.31144415  0.19287411 -0.22655724 -0.89209756  0.16106588 -0.32710561\n",
      " -0.2004147   0.14400099  0.01394046  1.41389881 -1.42380379 -0.03141187\n",
      " -0.03856452  1.40281958 -0.0205271   1.90102917 -0.34931589 -0.35254939\n",
      " -0.6977066   0.55137093  0.16926855  0.14447745 -0.83377098  0.84235182\n",
      "  1.07215005 -1.00115495 -0.23915482  0.13927952 -0.23151214 -0.54860659\n",
      " -1.31139564  0.31472611 -1.70918521 -0.7249702   1.01781952 -1.02133182\n",
      " -0.34704115 -0.12845925  0.36423377  0.42367862 -0.76782256  0.28399178\n",
      " -0.69225133  0.9447015 ] [ 0.22502326 -0.45056744 -1.1045735  -0.04243027 -1.18572415  2.08111819\n",
      "  1.77461404  1.39884532  0.33024466 -0.70204601  0.33895963  1.24350765\n",
      " -0.22341297  0.87907001 -0.34910153  2.43413261 -1.59554087  2.24530533\n",
      "  1.66042166  0.40952854 -0.50611448  1.70650536 -1.04018739 -0.44738287\n",
      "  0.52304053 -1.92745681  1.2006864  -0.59408224  0.11544615  1.14187861\n",
      " -0.57101512 -1.08841532 -0.84796858  0.71476921  1.09216683  0.76669458\n",
      " -1.23853504  1.18939326 -3.53961411  0.20952763  1.91111906  0.29115771\n",
      "  2.34115843  0.85908603 -1.48714421  2.13565855 -0.20322838  0.09073059\n",
      " -0.39452426  2.50289951]\n"
     ]
    }
   ],
   "source": [
    "# sampling\n",
    "np.random.seed(123)\n",
    "n=50\n",
    "sigma_square=1\n",
    "X = np.random.normal(0, 1, n)\n",
    "epsilon = np.random.normal(0, sigma_square, n)\n",
    "a0=1\n",
    "Y= a0*X+epsilon\n",
    "print(X, Y)"
   ]
  },
  {
   "cell_type": "markdown",
   "metadata": {},
   "source": [
    "Empirical risk: $\\frac{1}{n} \\sum_{i=1}^n (ax_i - y_i)^2$"
   ]
  },
  {
   "cell_type": "code",
   "execution_count": 4,
   "metadata": {},
   "outputs": [],
   "source": [
    "def empirical_risk(a, x, y):\n",
    "    return np.sum((a*x-y)**2)/y.shape[0]"
   ]
  },
  {
   "attachments": {},
   "cell_type": "markdown",
   "metadata": {},
   "source": [
    "### c)"
   ]
  },
  {
   "cell_type": "code",
   "execution_count": 20,
   "metadata": {},
   "outputs": [
    {
     "name": "stdout",
     "output_type": "stream",
     "text": [
      "Argmin of population risk: 1, min: 1.\n"
     ]
    }
   ],
   "source": [
    "from scipy.optimize import minimize\n",
    "\n",
    "N = 200\n",
    "a_seq = np.linspace(0,2,N)\n",
    "empirical_risk_list = np.zeros(N)\n",
    "population_risk_list = np.zeros(N)\n",
    "\n",
    "for i in range(N):\n",
    "    empirical_risk_list[i]=empirical_risk(a_seq[i], X, Y)\n",
    "    population_risk_list[i]= population_risk(a_seq[i], sigma_square)\n",
    "\n",
    "print(f'Argmin of population risk: {a0}, min: {population_risk(a0, sigma_square)}.')"
   ]
  },
  {
   "cell_type": "code",
   "execution_count": 21,
   "metadata": {},
   "outputs": [
    {
     "name": "stdout",
     "output_type": "stream",
     "text": [
      "Argmin of empirical risk: 0.8512078176431362, min: 1.1059458998471712.\n",
      "Population risk for: 0.8512078176431362 is 1.0221391135305182.\n"
     ]
    }
   ],
   "source": [
    "def empirical_risk_x_y(a):\n",
    "    return empirical_risk(a, X, Y)\n",
    "\n",
    "result_minimization = minimize(empirical_risk_x_y, x0=0)\n",
    "\n",
    "print(f'Argmin of empirical risk: {result_minimization.x[0]}, min: {result_minimization.fun}.')\n",
    "print(f'Population risk for: {result_minimization.x[0]} is {population_risk(result_minimization.x[0], sigma_square)}.')"
   ]
  },
  {
   "cell_type": "code",
   "execution_count": 22,
   "metadata": {},
   "outputs": [
    {
     "data": {
      "image/png": "[encoded data removed]",
      "text/plain": [
       "<Figure size 432x288 with 1 Axes>"
      ]
     },
     "metadata": {
      "needs_background": "light"
     },
     "output_type": "display_data"
    }
   ],
   "source": [
    "#plot\n",
    "plt.plot(a_seq, population_risk_list, c=\"green\", label=\"population\")\n",
    "plt.plot(a_seq, empirical_risk_list, c=\"red\", label=\"empirical\")\n",
    "plt.scatter(a0, population_risk(a0, sigma_square), c=\"green\")\n",
    "plt.scatter(result_minimization.x[0], empirical_risk(result_minimization.x[0], X, Y), c=\"red\")\n",
    "plt.scatter(result_minimization.x[0], population_risk(result_minimization.x[0], sigma_square), c=\"blue\")\n",
    "\n",
    "plt.ylabel(\"Risk\")\n",
    "plt.xlabel(\"a\")\n",
    "plt.legend()\n",
    "plt.show()"
   ]
  },
  {
   "cell_type": "markdown",
   "metadata": {},
   "source": [
    "Value of population risk at the point minimising the empirical risk is ERM estimator."
   ]
  },
  {
   "attachments": {},
   "cell_type": "markdown",
   "metadata": {},
   "source": [
    "### d)"
   ]
  },
  {
   "cell_type": "markdown",
   "metadata": {},
   "source": [
    "Excess risk: $$E(\\hat a, a^*) =R(\\hat a, a^*) - \\textrm{inf}_{a \\in A_0} R(a, a^*)$$"
   ]
  },
  {
   "cell_type": "code",
   "execution_count": 23,
   "metadata": {},
   "outputs": [
    {
     "data": {
      "text/plain": [
       "0.02213911353051823"
      ]
     },
     "execution_count": 23,
     "metadata": {},
     "output_type": "execute_result"
    }
   ],
   "source": [
    "# excess risk\n",
    "population_risk(result_minimization.x[0], sigma_square) - population_risk(a0, sigma_square)"
   ]
  },
  {
   "cell_type": "code",
   "execution_count": 24,
   "metadata": {},
   "outputs": [
    {
     "data": {
      "text/plain": [
       "0.018645010303586812"
      ]
     },
     "execution_count": 24,
     "metadata": {},
     "output_type": "execute_result"
    }
   ],
   "source": [
    "# simulations with fixed sample size\n",
    "L=200\n",
    "excess_risk_list = np.zeros(L)\n",
    "\n",
    "for i in range(L):\n",
    "    a0=1\n",
    "    X = np.random.normal(0, 1, n)\n",
    "    epsilon = np.random.normal(0, sigma_square, n)\n",
    "    Y= a0*X+epsilon\n",
    "\n",
    "    result_minimization = minimize(empirical_risk_x_y, x0=0)\n",
    "    a_hat = result_minimization.x[0]\n",
    "\n",
    "    excess_risk_list[i]=population_risk(a_hat, sigma_square) - population_risk(a0, sigma_square)\n",
    "\n",
    "np.mean(excess_risk_list)"
   ]
  },
  {
   "cell_type": "code",
   "execution_count": 27,
   "metadata": {},
   "outputs": [
    {
     "data": {
      "image/png": "[encoded data removed]",
      "text/plain": [
       "<Figure size 432x288 with 1 Axes>"
      ]
     },
     "metadata": {
      "needs_background": "light"
     },
     "output_type": "display_data"
    }
   ],
   "source": [
    "plt.hist(excess_risk_list)\n",
    "plt.xlabel('Risks')\n",
    "plt.ylabel('Freqency of the risks')\n",
    "plt.title('Histogram for excess risk')\n",
    "plt.show()"
   ]
  },
  {
   "cell_type": "code",
   "execution_count": 28,
   "metadata": {},
   "outputs": [],
   "source": [
    "# simulations for various sample sizes\n",
    "n_list=[25, 50, 75, 100, 200, 300, 400, 500, 1000]\n",
    "mean_list=np.zeros(len(n_list))\n",
    "\n",
    "for j in range(len(n_list)):\n",
    "    n=n_list[j]\n",
    "    excess_risk_list = np.zeros(L)\n",
    "\n",
    "    for i in range(L):\n",
    "        a0=1\n",
    "        X = np.random.normal(0, 1, n)\n",
    "        epsilon = np.random.normal(0, sigma_square, n)\n",
    "        Y= a0*X+epsilon\n",
    "\n",
    "        result_minimization = minimize(empirical_risk_x_y, x0=0)\n",
    "        a_hat = result_minimization.x[0]\n",
    "\n",
    "        excess_risk_list[i]=population_risk(a_hat, sigma_square) - population_risk(a0, sigma_square)\n",
    "\n",
    "    mean_list[j] = np.mean(excess_risk_list)"
   ]
  },
  {
   "cell_type": "code",
   "execution_count": 30,
   "metadata": {},
   "outputs": [
    {
     "data": {
      "image/png": "[encoded data removed]",
      "text/plain": [
       "<Figure size 432x288 with 1 Axes>"
      ]
     },
     "metadata": {
      "needs_background": "light"
     },
     "output_type": "display_data"
    }
   ],
   "source": [
    "# a nice plot visualising the results (how the unconditional excess risk changes with a sample size)\n",
    "plt.plot(n_list, mean_list)\n",
    "plt.ylabel('Mean of excess risk')\n",
    "plt.xlabel('Sample size')\n",
    "plt.title('Mean value of excess risk in comparison with sample size')\n",
    "plt.show()"
   ]
  }
 ],
 "metadata": {
  "kernelspec": {
   "display_name": "base",
   "language": "python",
   "name": "python3"
  },
  "language_info": {
   "codemirror_mode": {
    "name": "ipython",
    "version": 3
   },
   "file_extension": ".py",
   "mimetype": "text/x-python",
   "name": "python",
   "nbconvert_exporter": "python",
   "pygments_lexer": "ipython3",
   "version": "3.8.10"
  },
  "orig_nbformat": 4
 },
 "nbformat": 4,
 "nbformat_minor": 2
}
