{
 "cells": [
  {
   "attachments": {},
   "cell_type": "markdown",
   "metadata": {},
   "source": [
    "# Mathematical Underpinnings - Lab 2"
   ]
  },
  {
   "attachments": {},
   "cell_type": "markdown",
   "metadata": {},
   "source": [
    "## Task 1"
   ]
  },
  {
   "cell_type": "markdown",
   "metadata": {},
   "source": [
    "### a)\n",
    "\n",
    "In our task we know $a^* = 1$.\n",
    "\n",
    "$$R(a,a^*) = \\mathbb{E} \\mathcal{L}(f(X), Y) = \\mathbb{E}(aX - Y)^2 = \\mathbb{E}((a-1)X - \\epsilon)^2 = (a-1)^2\\mathbb{E}(X^2) + \\mathbb{E}(\\epsilon^2) - 2(a-1)\\mathbb{E}(X\\epsilon)=$$\n",
    "\n",
    "$$=(a-1)^2(Var[X] - \\mathbb{E}[X]) + (Var[\\epsilon] - \\mathbb{E}[\\epsilon])- 2(a-1)\\mathbb{E}(X)\\mathbb{E}(\\epsilon) = (a-1)^2 + \\sigma^2$$\n",
    "\n",
    "$$argmin_{a} \\mathbb{E} \\mathcal{L}(f(X), Y) = 1$$\n",
    "\n",
    "$$min_{a} \\mathcal{L}(f(X), Y) = \\sigma^2$$\n",
    "\n"
   ]
  },
  {
   "cell_type": "code",
   "execution_count": 1,
   "metadata": {
    "ExecuteTime": {
     "end_time": "2024-03-08T20:13:55.717698302Z",
     "start_time": "2024-03-08T20:13:55.536983497Z"
    }
   },
   "outputs": [],
   "source": [
    "def population_risk(a, sigma_eps):\n",
    "    return (a-1) ** 2 + sigma_eps ** 2"
   ]
  },
  {
   "cell_type": "code",
   "execution_count": 1,
   "metadata": {
    "ExecuteTime": {
     "end_time": "2024-03-08T20:13:55.791588824Z",
     "start_time": "2024-03-08T20:13:55.720204199Z"
    },
    "collapsed": false,
    "jupyter": {
     "outputs_hidden": false
    }
   },
   "outputs": [],
   "source": []
  },
  {
   "attachments": {},
   "cell_type": "markdown",
   "metadata": {},
   "source": [
    "### b)"
   ]
  },
  {
   "cell_type": "code",
   "execution_count": 2,
   "metadata": {
    "ExecuteTime": {
     "end_time": "2024-03-08T20:13:55.861864474Z",
     "start_time": "2024-03-08T20:13:55.760389473Z"
    }
   },
   "outputs": [],
   "source": [
    "import numpy as np\n",
    "np.random.seed(123)\n",
    "\n",
    "# sampling\n",
    "n = 50\n",
    "sigma = 1\n",
    "a0 = 1\n",
    "\n",
    "x = np.random.normal(0, 1, n)\n",
    "epsilon = np.random.normal(0, sigma, n)\n",
    "y = a0 * x + epsilon"
   ]
  },
  {
   "cell_type": "markdown",
   "metadata": {},
   "source": [
    "Empirical risk: $\\frac{1}{n} \\sum_{i=1}^n (ax_i - y_i)^2$"
   ]
  },
  {
   "cell_type": "code",
   "execution_count": 3,
   "metadata": {
    "ExecuteTime": {
     "end_time": "2024-03-08T20:13:55.898333575Z",
     "start_time": "2024-03-08T20:13:55.837484750Z"
    }
   },
   "outputs": [],
   "source": [
    "def empirical_risk(a, x, y):\n",
    "    return sum([(a*x[i] - y[i]) ** 2 for i in range(len(x))]) / len(x)"
   ]
  },
  {
   "cell_type": "code",
   "execution_count": 3,
   "metadata": {
    "ExecuteTime": {
     "end_time": "2024-03-08T20:13:55.932061398Z",
     "start_time": "2024-03-08T20:13:55.899716233Z"
    },
    "collapsed": false,
    "jupyter": {
     "outputs_hidden": false
    }
   },
   "outputs": [],
   "source": []
  },
  {
   "attachments": {},
   "cell_type": "markdown",
   "metadata": {},
   "source": [
    "### c)"
   ]
  },
  {
   "cell_type": "code",
   "execution_count": 4,
   "metadata": {
    "ExecuteTime": {
     "end_time": "2024-03-08T20:13:55.966350319Z",
     "start_time": "2024-03-08T20:13:55.930489115Z"
    },
    "collapsed": false,
    "jupyter": {
     "outputs_hidden": false
    }
   },
   "outputs": [],
   "source": [
    "N = 200\n",
    "a_seq = np.linspace(0, 2, N)\n",
    "empirical_risk_seq = [empirical_risk(a, x, y) for a in a_seq]\n",
    "population_risk_seq = [population_risk(a, 1) for a in a_seq]"
   ]
  },
  {
   "cell_type": "code",
   "execution_count": 5,
   "metadata": {
    "ExecuteTime": {
     "end_time": "2024-03-08T20:13:56.058838457Z",
     "start_time": "2024-03-08T20:13:55.966432729Z"
    },
    "collapsed": false,
    "jupyter": {
     "outputs_hidden": false
    }
   },
   "outputs": [
    {
     "name": "stdout",
     "output_type": "stream",
     "text": [
      "Population risk minimizer: 1\n",
      "Minimal value of population risk: 1\n"
     ]
    }
   ],
   "source": [
    "print(f'Population risk minimizer: {a0}')\n",
    "print(f'Minimal value of population risk: {population_risk(a0, sigma)}')"
   ]
  },
  {
   "cell_type": "code",
   "execution_count": null,
   "metadata": {},
   "outputs": [],
   "source": []
  },
  {
   "cell_type": "code",
   "execution_count": 6,
   "metadata": {
    "ExecuteTime": {
     "end_time": "2024-03-08T20:13:56.166192810Z",
     "start_time": "2024-03-08T20:13:56.008881299Z"
    },
    "collapsed": false,
    "jupyter": {
     "outputs_hidden": false
    }
   },
   "outputs": [],
   "source": [
    "from scipy.optimize import minimize\n",
    "from functools import partial\n",
    "\n",
    "def empirical_risk_x_y(x, y):\n",
    "    return partial(empirical_risk, x=x, y=y)\n",
    "\n",
    "result_minimization = minimize(empirical_risk_x_y(x, y), x0=np.array([0]))"
   ]
  },
  {
   "cell_type": "code",
   "execution_count": 7,
   "metadata": {
    "ExecuteTime": {
     "end_time": "2024-03-08T20:13:56.288929544Z",
     "start_time": "2024-03-08T20:13:56.161884386Z"
    },
    "collapsed": false,
    "jupyter": {
     "outputs_hidden": false
    }
   },
   "outputs": [
    {
     "name": "stdout",
     "output_type": "stream",
     "text": [
      "Empirical risk minimizer: 0.9242157189434187\n",
      "Minimal value of empirical risk: 1.1238154693511444\n"
     ]
    }
   ],
   "source": [
    "print(f'Empirical risk minimizer: {result_minimization.x[0]}')\n",
    "print(f'Minimal value of empirical risk: {result_minimization.fun}')"
   ]
  },
  {
   "cell_type": "code",
   "execution_count": 8,
   "metadata": {
    "ExecuteTime": {
     "end_time": "2024-03-08T20:13:56.348950762Z",
     "start_time": "2024-03-08T20:13:56.256677293Z"
    },
    "collapsed": false,
    "jupyter": {
     "outputs_hidden": false
    }
   },
   "outputs": [
    {
     "name": "stdout",
     "output_type": "stream",
     "text": [
      "Population risk computed for ERM: 1.005743257255263\n"
     ]
    }
   ],
   "source": [
    "print(f'Population risk computed for ERM: {population_risk(result_minimization.x[0], sigma)}')"
   ]
  },
  {
   "cell_type": "code",
   "execution_count": null,
   "metadata": {},
   "outputs": [],
   "source": []
  },
  {
   "cell_type": "code",
   "execution_count": 9,
   "metadata": {
    "ExecuteTime": {
     "end_time": "2024-03-08T20:13:56.734409979Z",
     "start_time": "2024-03-08T20:13:56.315065332Z"
    },
    "collapsed": false,
    "jupyter": {
     "outputs_hidden": false
    }
   },
   "outputs": [
    {
     "data": {
      "image/png": "[encoded data removed]",
      "text/plain": [
       "<Figure size 640x480 with 1 Axes>"
      ]
     },
     "metadata": {},
     "output_type": "display_data"
    }
   ],
   "source": [
    "import matplotlib.pyplot as plt\n",
    "import seaborn as sns\n",
    "sns.set_style('whitegrid')\n",
    "\n",
    "plt.plot(a_seq, empirical_risk_seq, label='Empirical risk', c='orange')\n",
    "plt.plot(a_seq, population_risk_seq, label='Population risk', c='blue')\n",
    "\n",
    "plt.plot(a0, population_risk(a0, sigma), 'o', label='Population risk minimizer', c='black')\n",
    "plt.plot(result_minimization.x[0], result_minimization.fun, 'o', label='Empirical risk minimizer', c='red')\n",
    "plt.plot(result_minimization.x[0], population_risk(result_minimization.x[0], sigma), 'o', label='Population risk computed for ERM', c='grey')\n",
    "\n",
    "plt.legend()\n",
    "plt.show()"
   ]
  },
  {
   "cell_type": "code",
   "execution_count": 9,
   "metadata": {
    "ExecuteTime": {
     "end_time": "2024-03-08T20:13:56.811276154Z",
     "start_time": "2024-03-08T20:13:56.776918046Z"
    },
    "collapsed": false,
    "jupyter": {
     "outputs_hidden": false
    }
   },
   "outputs": [],
   "source": []
  },
  {
   "attachments": {},
   "cell_type": "markdown",
   "metadata": {},
   "source": [
    "### d)"
   ]
  },
  {
   "cell_type": "markdown",
   "metadata": {},
   "source": [
    "Excess risk: $$E(\\hat a, a^*) =R(\\hat a, a^*) - \\textrm{inf}_{a \\in A_0} R(a, a^*)$$"
   ]
  },
  {
   "cell_type": "code",
   "execution_count": 10,
   "metadata": {
    "ExecuteTime": {
     "end_time": "2024-03-08T20:13:56.812133258Z",
     "start_time": "2024-03-08T20:13:56.777224520Z"
    }
   },
   "outputs": [],
   "source": [
    "# excess risk\n",
    "\n",
    "def excess_risk(a0, a_hat, sigma):\n",
    "    return population_risk(a_hat, sigma) - population_risk(a0, sigma)"
   ]
  },
  {
   "cell_type": "code",
   "execution_count": 11,
   "metadata": {
    "ExecuteTime": {
     "end_time": "2024-03-08T20:13:56.854474497Z",
     "start_time": "2024-03-08T20:13:56.777352461Z"
    },
    "collapsed": false,
    "jupyter": {
     "outputs_hidden": false
    }
   },
   "outputs": [
    {
     "name": "stdout",
     "output_type": "stream",
     "text": [
      "Excess risk: 0.0057432572552629235\n"
     ]
    }
   ],
   "source": [
    "print(f'Excess risk: {excess_risk(a0, result_minimization.x[0], sigma)}')"
   ]
  },
  {
   "cell_type": "code",
   "execution_count": 11,
   "metadata": {
    "ExecuteTime": {
     "end_time": "2024-03-08T20:13:56.855306613Z",
     "start_time": "2024-03-08T20:13:56.827458687Z"
    },
    "collapsed": false,
    "jupyter": {
     "outputs_hidden": false
    }
   },
   "outputs": [],
   "source": []
  },
  {
   "cell_type": "code",
   "execution_count": 12,
   "metadata": {
    "ExecuteTime": {
     "end_time": "2024-03-08T20:13:57.305653494Z",
     "start_time": "2024-03-08T20:13:56.831675439Z"
    }
   },
   "outputs": [],
   "source": [
    "# simulations with fixed sample size\n",
    "\n",
    "L = 200\n",
    "excess_risk_seq = np.zeros(L)\n",
    "\n",
    "for l in range(L):\n",
    "    x = np.random.normal(0, 1, n)\n",
    "    epsilon = np.random.normal(0, sigma, n)\n",
    "    y = a0 * x + epsilon\n",
    "    \n",
    "    result_minimization = minimize(empirical_risk_x_y(x, y), x0=np.array([0]))\n",
    "    excess_risk_seq[l] = excess_risk(a0, result_minimization.x[0], sigma)"
   ]
  },
  {
   "cell_type": "code",
   "execution_count": 13,
   "metadata": {
    "ExecuteTime": {
     "end_time": "2024-03-08T20:13:57.309270349Z",
     "start_time": "2024-03-08T20:13:57.305062265Z"
    },
    "collapsed": false,
    "jupyter": {
     "outputs_hidden": false
    }
   },
   "outputs": [
    {
     "name": "stdout",
     "output_type": "stream",
     "text": [
      "Mean excess risk: 0.02471740907346522\n"
     ]
    }
   ],
   "source": [
    "print(f'Mean excess risk: {np.mean(excess_risk_seq)}')"
   ]
  },
  {
   "cell_type": "code",
   "execution_count": 13,
   "metadata": {
    "ExecuteTime": {
     "end_time": "2024-03-08T20:13:57.402147001Z",
     "start_time": "2024-03-08T20:13:57.309326432Z"
    },
    "collapsed": false,
    "jupyter": {
     "outputs_hidden": false
    }
   },
   "outputs": [],
   "source": []
  },
  {
   "cell_type": "code",
   "execution_count": 14,
   "metadata": {
    "ExecuteTime": {
     "end_time": "2024-03-08T20:13:57.431874532Z",
     "start_time": "2024-03-08T20:13:57.352939729Z"
    },
    "collapsed": false,
    "jupyter": {
     "outputs_hidden": false
    }
   },
   "outputs": [],
   "source": [
    "def excess_risk_simulation(n, L, a0, sigma):\n",
    "    excess_risk_seq = np.zeros(L)\n",
    "    for l in range(L):\n",
    "        x = np.random.normal(0, 1, n)\n",
    "        epsilon = np.random.normal(0, sigma, n)\n",
    "        y = a0 * x + epsilon\n",
    "\n",
    "        result_minimization = minimize(empirical_risk_x_y(x, y), x0=np.array([0]))\n",
    "        excess_risk_seq[l] = excess_risk(a0, result_minimization.x[0], sigma)\n",
    "    return excess_risk_seq"
   ]
  },
  {
   "cell_type": "code",
   "execution_count": 15,
   "metadata": {
    "ExecuteTime": {
     "end_time": "2024-03-08T20:13:57.478967371Z",
     "start_time": "2024-03-08T20:13:57.410887801Z"
    },
    "collapsed": false,
    "jupyter": {
     "outputs_hidden": false
    }
   },
   "outputs": [],
   "source": [
    "n_seq = np.arange(25, 1000, 25)\n",
    "L = 200"
   ]
  },
  {
   "cell_type": "code",
   "execution_count": 16,
   "metadata": {
    "ExecuteTime": {
     "end_time": "2024-03-08T20:14:26.287792602Z",
     "start_time": "2024-03-08T20:13:57.476312725Z"
    },
    "collapsed": false,
    "jupyter": {
     "outputs_hidden": false
    }
   },
   "outputs": [],
   "source": [
    "from multiprocessing import Pool\n",
    "import os\n",
    "\n",
    "with Pool(os.cpu_count()) as pool:\n",
    "    excess_risk_seq = pool.map(\n",
    "        partial(excess_risk_simulation, L=L, a0=a0, sigma=sigma),\n",
    "        n_seq\n",
    "    )"
   ]
  },
  {
   "cell_type": "code",
   "execution_count": 16,
   "metadata": {
    "ExecuteTime": {
     "end_time": "2024-03-08T20:14:26.338931199Z",
     "start_time": "2024-03-08T20:14:26.329222389Z"
    },
    "collapsed": false,
    "jupyter": {
     "outputs_hidden": false
    }
   },
   "outputs": [],
   "source": []
  },
  {
   "cell_type": "code",
   "execution_count": 17,
   "metadata": {
    "ExecuteTime": {
     "end_time": "2024-03-08T20:14:26.495841960Z",
     "start_time": "2024-03-08T20:14:26.329696418Z"
    }
   },
   "outputs": [
    {
     "data": {
      "image/png": "[encoded data removed]",
      "text/plain": [
       "<Figure size 640x480 with 1 Axes>"
      ]
     },
     "metadata": {},
     "output_type": "display_data"
    }
   ],
   "source": [
    "# a nice plot visualising the results (how the unconditional excess risk changes with a sample size)\n",
    "plt.plot(n_seq, np.mean(np.array(excess_risk_seq), axis=1))\n",
    "plt.hlines(0, 25, 1000, color='black')\n",
    "plt.show()"
   ]
  },
  {
   "cell_type": "code",
   "execution_count": 17,
   "metadata": {
    "ExecuteTime": {
     "end_time": "2024-03-08T20:14:26.496845081Z",
     "start_time": "2024-03-08T20:14:26.492993171Z"
    },
    "collapsed": false,
    "jupyter": {
     "outputs_hidden": false
    }
   },
   "outputs": [],
   "source": []
  },
  {
   "cell_type": "code",
   "execution_count": null,
   "metadata": {
    "collapsed": false,
    "jupyter": {
     "outputs_hidden": false
    }
   },
   "outputs": [],
   "source": []
  }
 ],
 "metadata": {
  "kernelspec": {
   "display_name": "Python 3 (ipykernel)",
   "language": "python",
   "name": "python3"
  },
  "language_info": {
   "codemirror_mode": {
    "name": "ipython",
    "version": 3
   },
   "file_extension": ".py",
   "mimetype": "text/x-python",
   "name": "python",
   "nbconvert_exporter": "python",
   "pygments_lexer": "ipython3",
   "version": "3.11.7"
  }
 },
 "nbformat": 4,
 "nbformat_minor": 4
}
