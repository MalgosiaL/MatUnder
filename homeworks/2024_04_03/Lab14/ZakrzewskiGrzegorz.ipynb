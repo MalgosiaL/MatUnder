{
 "cells": [
  {
   "cell_type": "markdown",
   "metadata": {},
   "source": [
    "# Mathematical Underpinnings - Lab 6"
   ]
  },
  {
   "cell_type": "code",
   "execution_count": 26,
   "metadata": {},
   "outputs": [],
   "source": [
    "from sklearn.metrics import mutual_info_score\n",
    "import numpy as np\n",
    "import matplotlib.pyplot as plt\n",
    "import seaborn as sns\n",
    "import pandas as pd\n",
    "from tqdm import tqdm\n",
    "import scipy\n",
    "\n",
    "import warnings\n",
    "warnings.filterwarnings(\"ignore\")"
   ]
  },
  {
   "cell_type": "markdown",
   "metadata": {},
   "source": [
    "## Useful functions"
   ]
  },
  {
   "cell_type": "code",
   "execution_count": 27,
   "metadata": {},
   "outputs": [],
   "source": [
    "def discetize_2bins(X):\n",
    "    X_discrete = 1*(X >= 0)\n",
    "    return X_discrete"
   ]
  },
  {
   "cell_type": "code",
   "execution_count": 28,
   "metadata": {},
   "outputs": [],
   "source": [
    "def conditional_permutation(X, Z):\n",
    "\n",
    "    z_values = np.unique(Z)\n",
    "    n_z_values = len(z_values)\n",
    "    n = len(Z)\n",
    "\n",
    "    X_b = np.zeros(n)\n",
    "\n",
    "    for i in range(n_z_values):\n",
    "\n",
    "        z_value_tmp = z_values[i]\n",
    "\n",
    "        X_b[Z == z_value_tmp] = np.random.permutation(X[Z == z_value_tmp])\n",
    "\n",
    "    return X_b"
   ]
  },
  {
   "cell_type": "code",
   "execution_count": 29,
   "metadata": {},
   "outputs": [],
   "source": [
    "def conditional_mutual_information(X, Y, Z):\n",
    "\n",
    "    z_values = np.unique(Z)\n",
    "    n_z_values = len(z_values)\n",
    "    n = len(Z)\n",
    "\n",
    "    cmi = 0\n",
    "\n",
    "    for i in range(n_z_values):\n",
    "\n",
    "        z_value_tmp = z_values[i]\n",
    "        z_condition = (Z == z_value_tmp)\n",
    "\n",
    "        X_z = X[z_condition]\n",
    "        Y_z = Y[z_condition]\n",
    "\n",
    "        mi_XY_z = mutual_info_score(X_z, Y_z)\n",
    "        p_z = np.sum(z_condition)/n\n",
    "\n",
    "        cmi += p_z*mi_XY_z\n",
    "\n",
    "    return cmi"
   ]
  },
  {
   "cell_type": "code",
   "execution_count": 30,
   "metadata": {},
   "outputs": [],
   "source": [
    "# II(X;Y;Z)\n",
    "def interaction_information(X, Y, Z):\n",
    "    return conditional_mutual_information(X, Y, Z) - mutual_info_score(X, Y)"
   ]
  },
  {
   "cell_type": "code",
   "execution_count": 31,
   "metadata": {},
   "outputs": [],
   "source": [
    "# II(X;Y;Z1;Z2)\n",
    "def interaction_information2(X, Y, Z1, Z2):\n",
    "    Z_1_and_2 = 2*Z2 + Z1\n",
    "    return interaction_information(X, Y, Z_1_and_2) - interaction_information(X, Y, Z1) - interaction_information(X, Y, Z2)"
   ]
  },
  {
   "cell_type": "markdown",
   "metadata": {},
   "source": [
    "## Task 1"
   ]
  },
  {
   "cell_type": "code",
   "execution_count": 32,
   "metadata": {},
   "outputs": [],
   "source": [
    "def secmi2(X, Y, Z):\n",
    "    sum_ = mutual_info_score(X, Y)\n",
    "    for i in range(Z.shape[1]):\n",
    "        sum_ += interaction_information(X, Y, Z[:, i])\n",
    "    return sum_\n",
    "\n",
    "def secmi3(X, Y, Z):\n",
    "    sum_ = mutual_info_score(X, Y)\n",
    "    for i in range(Z.shape[1]):\n",
    "        sum_ += interaction_information(X, Y, Z[:, i])\n",
    "\n",
    "        for j in range(i + 1, Z.shape[1]):\n",
    "            sum_ += interaction_information2(X, Y, Z[:, i], Z[:, j])\n",
    "\n",
    "    return sum_"
   ]
  },
  {
   "cell_type": "markdown",
   "metadata": {},
   "source": [
    "### a)"
   ]
  },
  {
   "cell_type": "code",
   "execution_count": 33,
   "metadata": {},
   "outputs": [],
   "source": [
    "def cond_indep_test_permutation(X, Y, Z, B, stat):\n",
    "\n",
    "    n_col_Z = Z.shape[1]\n",
    "    Z_1dim = np.dot(Z, 2**np.linspace(0, n_col_Z-1, n_col_Z))\n",
    "\n",
    "    if stat == \"cmi\":\n",
    "        stat_value = conditional_mutual_information(X, Y, Z_1dim)\n",
    "    if stat == \"secmi2\":\n",
    "        stat_value = secmi2(X, Y, Z)\n",
    "    if stat == \"secmi3\":\n",
    "        stat_value = secmi3(X, Y, Z)\n",
    "\n",
    "    condition_p_value = 0\n",
    "    for b in range(B):\n",
    "        X_b = conditional_permutation(X, Z_1dim)\n",
    "\n",
    "        if stat == \"cmi\":\n",
    "            stat_value_b = conditional_mutual_information(X_b, Y, Z_1dim)\n",
    "        if stat == \"secmi2\":\n",
    "            stat_value_b = secmi2(X_b, Y, Z)\n",
    "        if stat == \"secmi3\":\n",
    "            stat_value_b = secmi3(X_b, Y, Z)\n",
    "\n",
    "        if stat_value <= stat_value_b:\n",
    "            condition_p_value += 1\n",
    "\n",
    "    p_value = (1 + condition_p_value)/(1 + B)\n",
    "\n",
    "    return 2*len(X)*stat_value, p_value"
   ]
  },
  {
   "cell_type": "markdown",
   "metadata": {},
   "source": [
    "### b)"
   ]
  },
  {
   "cell_type": "code",
   "execution_count": 34,
   "metadata": {},
   "outputs": [],
   "source": [
    "n = 100\n",
    "\n",
    "Y = np.random.normal(0, 1, n)\n",
    "Y_ = discetize_2bins(Y)\n",
    "\n",
    "Z1 = np.random.normal(Y / 2, 1)\n",
    "Z1_ = discetize_2bins(Z1)\n",
    "\n",
    "Z2 = np.random.normal(Y / 2, 1)\n",
    "Z2_ = discetize_2bins(Z2)\n",
    "\n",
    "Z3 = np.random.normal(Y / 2, 1)\n",
    "Z3_ = discetize_2bins(Z3)\n",
    "\n",
    "X = np.random.normal(Z1 / 2, 1)\n",
    "X_ = discetize_2bins(X)"
   ]
  },
  {
   "cell_type": "code",
   "execution_count": 35,
   "metadata": {},
   "outputs": [],
   "source": [
    "B = 100"
   ]
  },
  {
   "cell_type": "code",
   "execution_count": 36,
   "metadata": {},
   "outputs": [
    {
     "name": "stdout",
     "output_type": "stream",
     "text": [
      "CMI 1.0\n",
      "SECMI2 1.0\n",
      "SECMI3 1.0\n"
     ]
    }
   ],
   "source": [
    "_, p_cmi = cond_indep_test_permutation(\n",
    "    X, \n",
    "    Y, \n",
    "    np.vstack([Z1_, Z2_]).T,\n",
    "    B,\n",
    "    \"cmi\"\n",
    ")\n",
    "\n",
    "_, p_secmi2 = cond_indep_test_permutation(\n",
    "    X, \n",
    "    Y, \n",
    "    np.vstack([Z1_, Z2_]).T,\n",
    "    B,\n",
    "    \"secmi2\"\n",
    ")\n",
    "\n",
    "_, p_secmi3 = cond_indep_test_permutation(\n",
    "    X, \n",
    "    Y, \n",
    "    np.vstack([Z1_, Z2_]).T,\n",
    "    B,\n",
    "    \"secmi3\"\n",
    ")\n",
    "\n",
    "print(\"CMI\", p_cmi)\n",
    "print(\"SECMI2\", p_secmi2)\n",
    "print(\"SECMI3\", p_secmi3)\n",
    "\n",
    "# we expect:\n",
    "# independent\n",
    "\n",
    "# large p-value -> don't reject the null hypothesis -> independent"
   ]
  },
  {
   "cell_type": "code",
   "execution_count": 41,
   "metadata": {},
   "outputs": [
    {
     "name": "stdout",
     "output_type": "stream",
     "text": [
      "CMI 1.0\n",
      "SECMI2 1.0\n",
      "SECMI3 1.0\n"
     ]
    }
   ],
   "source": [
    "_, p_cmi = cond_indep_test_permutation(\n",
    "    X, \n",
    "    Y, \n",
    "    np.vstack([Z2_, Z3_]).T,\n",
    "    B,\n",
    "    \"cmi\"\n",
    ")\n",
    "\n",
    "_, p_secmi2 = cond_indep_test_permutation(\n",
    "    X, \n",
    "    Y, \n",
    "    np.vstack([Z2_, Z3_]).T,\n",
    "    B,\n",
    "    \"secmi2\"\n",
    ")\n",
    "\n",
    "_, p_secmi3 = cond_indep_test_permutation(\n",
    "    X, \n",
    "    Y, \n",
    "    np.vstack([Z2_, Z3_]).T,\n",
    "    B,\n",
    "    \"secmi3\"\n",
    ")\n",
    "\n",
    "print(\"CMI\", p_cmi)\n",
    "print(\"SECMI2\", p_secmi2)\n",
    "print(\"SECMI3\", p_secmi3)\n",
    "\n",
    "# we expect:\n",
    "# dependent\n",
    "\n",
    "# large p-value -> don't reject the null hypothesis -> independent"
   ]
  },
  {
   "cell_type": "code",
   "execution_count": 42,
   "metadata": {},
   "outputs": [
    {
     "name": "stdout",
     "output_type": "stream",
     "text": [
      "CMI - hypothesis rejections 0\n",
      "SECMI2 - hypothesis rejections 0\n",
      "SECMI3 - hypothesis rejections 0\n"
     ]
    }
   ],
   "source": [
    "counter_cmi = 0\n",
    "counter_secmi2 = 0\n",
    "counter_secmi3 = 0\n",
    "\n",
    "for i in range(100):\n",
    "\n",
    "    Y = np.random.normal(0, 1, n)\n",
    "    Y_ = discetize_2bins(Y)\n",
    "\n",
    "    Z1 = np.random.normal(Y / 2, 1)\n",
    "    Z1_ = discetize_2bins(Z1)\n",
    "\n",
    "    Z2 = np.random.normal(Y / 2, 1)\n",
    "    Z2_ = discetize_2bins(Z2)\n",
    "\n",
    "    Z3 = np.random.normal(Y / 2, 1)\n",
    "    Z3_ = discetize_2bins(Z3)\n",
    "\n",
    "    X = np.random.normal(Z1 / 2, 1)\n",
    "    X_ = discetize_2bins(X)\n",
    "\n",
    "    _, p_cmi = cond_indep_test_permutation(\n",
    "        X, \n",
    "        Y, \n",
    "        np.vstack([Z1_, Z2_]).T,\n",
    "        B,\n",
    "        \"cmi\"\n",
    "    )\n",
    "    counter_cmi += p_cmi < 0.05\n",
    "\n",
    "    _, p_secmi2 = cond_indep_test_permutation(\n",
    "        X, \n",
    "        Y, \n",
    "        np.vstack([Z1_, Z2_]).T,\n",
    "        B,\n",
    "        \"secmi2\"\n",
    "    )\n",
    "    counter_secmi2 += p_secmi2 < 0.05\n",
    "\n",
    "    _, p_secmi3 = cond_indep_test_permutation(\n",
    "        X, \n",
    "        Y, \n",
    "        np.vstack([Z1_, Z2_]).T,\n",
    "        B,\n",
    "        \"secmi3\"\n",
    "    )\n",
    "    counter_secmi3 += p_secmi3 < 0.05\n",
    "\n",
    "print(\"CMI - hypothesis rejections\", counter_cmi)\n",
    "print(\"SECMI2 - hypothesis rejections\", counter_secmi2)\n",
    "print(\"SECMI3 - hypothesis rejections\", counter_secmi3)\n",
    "# no hypothesis rejections -> something wrong? too small sample?"
   ]
  },
  {
   "cell_type": "code",
   "execution_count": 43,
   "metadata": {},
   "outputs": [
    {
     "name": "stdout",
     "output_type": "stream",
     "text": [
      "CMI - hypothesis rejections 0\n",
      "SECMI2 - hypothesis rejections 0\n",
      "SECMI3 - hypothesis rejections 0\n"
     ]
    }
   ],
   "source": [
    "counter_cmi = 0\n",
    "counter_secmi2 = 0\n",
    "counter_secmi3 = 0\n",
    "\n",
    "for i in range(100):\n",
    "\n",
    "    Y = np.random.normal(0, 1, n)\n",
    "    Y_ = discetize_2bins(Y)\n",
    "\n",
    "    Z1 = np.random.normal(Y / 2, 1)\n",
    "    Z1_ = discetize_2bins(Z1)\n",
    "\n",
    "    Z2 = np.random.normal(Y / 2, 1)\n",
    "    Z2_ = discetize_2bins(Z2)\n",
    "\n",
    "    Z3 = np.random.normal(Y / 2, 1)\n",
    "    Z3_ = discetize_2bins(Z3)\n",
    "\n",
    "    X = np.random.normal(Z1 / 2, 1)\n",
    "    X_ = discetize_2bins(X)\n",
    "\n",
    "    _, p_cmi = cond_indep_test_permutation(\n",
    "        X, \n",
    "        Y, \n",
    "        np.vstack([Z2_, Z3_]).T,\n",
    "        B,\n",
    "        \"cmi\"\n",
    "    )\n",
    "    counter_cmi += p_cmi < 0.05\n",
    "\n",
    "    _, p_secmi2 = cond_indep_test_permutation(\n",
    "        X, \n",
    "        Y, \n",
    "        np.vstack([Z2_, Z3_]).T,\n",
    "        B,\n",
    "        \"secmi2\"\n",
    "    )\n",
    "    counter_secmi2 += p_secmi2 < 0.05\n",
    "\n",
    "    _, p_secmi3 = cond_indep_test_permutation(\n",
    "        X, \n",
    "        Y, \n",
    "        np.vstack([Z2_, Z3_]).T,\n",
    "        B,\n",
    "        \"secmi3\"\n",
    "    )\n",
    "    counter_secmi3 += p_secmi3 < 0.05\n",
    "\n",
    "print(\"CMI - hypothesis rejections\", counter_cmi)\n",
    "print(\"SECMI2 - hypothesis rejections\", counter_secmi2)\n",
    "print(\"SECMI3 - hypothesis rejections\", counter_secmi3)"
   ]
  },
  {
   "cell_type": "markdown",
   "metadata": {},
   "source": [
    "### c)"
   ]
  },
  {
   "cell_type": "code",
   "execution_count": 44,
   "metadata": {},
   "outputs": [],
   "source": [
    "n = 100\n",
    "\n",
    "X = scipy.stats.binom.rvs(1, 0.5, size=n)\n",
    "Z1 = scipy.stats.binom.rvs(1, 0.5, size=n)\n",
    "Z2 = scipy.stats.binom.rvs(1, 0.5, size=n)\n",
    "Z3 = scipy.stats.binom.rvs(1, 0.5, size=n)\n",
    "\n",
    "y1 = scipy.stats.binom.rvs(1, p=0.8, size=100)\n",
    "y2 = scipy.stats.binom.rvs(1, p=0.2, size=100)\n",
    "Y = np.where((X + Z1 + Z2) % 2 == 1, y1, y2)"
   ]
  },
  {
   "cell_type": "code",
   "execution_count": 45,
   "metadata": {},
   "outputs": [
    {
     "name": "stdout",
     "output_type": "stream",
     "text": [
      "CMI - hypothesis rejections 0\n",
      "SECMI2 - hypothesis rejections 0\n",
      "SECMI3 - hypothesis rejections 0\n"
     ]
    }
   ],
   "source": [
    "# H01\n",
    "# we expect:\n",
    "# conditional dependence\n",
    "# CIFE2 should not work\n",
    "# CMI, CIFE3 should\n",
    "\n",
    "\n",
    "counter_cmi = 0\n",
    "counter_secmi2 = 0\n",
    "counter_secmi3 = 0\n",
    "\n",
    "for i in range(100):\n",
    "\n",
    "    _, p_cmi = cond_indep_test_permutation(\n",
    "        X, \n",
    "        Y, \n",
    "        np.vstack([Z1_, Z2_]).T,\n",
    "        B,\n",
    "        \"cmi\"\n",
    "    )\n",
    "    counter_cmi += p_cmi < 0.05\n",
    "\n",
    "    _, p_secmi2 = cond_indep_test_permutation(\n",
    "        X, \n",
    "        Y, \n",
    "        np.vstack([Z1_, Z2_]).T,\n",
    "        B,\n",
    "        \"secmi2\"\n",
    "    )\n",
    "    counter_secmi2 += p_secmi2 < 0.05\n",
    "\n",
    "    _, p_secmi3 = cond_indep_test_permutation(\n",
    "        X, \n",
    "        Y, \n",
    "        np.vstack([Z1_, Z2_]).T,\n",
    "        B,\n",
    "        \"secmi3\"\n",
    "    )\n",
    "    counter_secmi3 += p_secmi3 < 0.05\n",
    "\n",
    "print(\"CMI - hypothesis rejections\", counter_cmi)\n",
    "print(\"SECMI2 - hypothesis rejections\", counter_secmi2)\n",
    "print(\"SECMI3 - hypothesis rejections\", counter_secmi3)"
   ]
  },
  {
   "cell_type": "code",
   "execution_count": 46,
   "metadata": {},
   "outputs": [
    {
     "name": "stdout",
     "output_type": "stream",
     "text": [
      "CMI - hypothesis rejections 0\n",
      "SECMI2 - hypothesis rejections 0\n",
      "SECMI3 - hypothesis rejections 0\n"
     ]
    }
   ],
   "source": [
    "# H02\n",
    "# we expect:\n",
    "# conditional independence\n",
    "\n",
    "counter_cmi = 0\n",
    "counter_secmi2 = 0\n",
    "counter_secmi3 = 0\n",
    "\n",
    "for i in range(100):\n",
    "\n",
    "    _, p_cmi = cond_indep_test_permutation(\n",
    "        X, \n",
    "        Y, \n",
    "        np.vstack([Z2_, Z3_]).T,\n",
    "        B,\n",
    "        \"cmi\"\n",
    "    )\n",
    "    counter_cmi += p_cmi < 0.05\n",
    "\n",
    "    _, p_secmi2 = cond_indep_test_permutation(\n",
    "        X, \n",
    "        Y, \n",
    "        np.vstack([Z2_, Z3_]).T,\n",
    "        B,\n",
    "        \"secmi2\"\n",
    "    )\n",
    "    counter_secmi2 += p_secmi2 < 0.05\n",
    "\n",
    "    _, p_secmi3 = cond_indep_test_permutation(\n",
    "        X, \n",
    "        Y, \n",
    "        np.vstack([Z2_, Z3_]).T,\n",
    "        B,\n",
    "        \"secmi3\"\n",
    "    )\n",
    "    counter_secmi3 += p_secmi3 < 0.05\n",
    "\n",
    "print(\"CMI - hypothesis rejections\", counter_cmi)\n",
    "print(\"SECMI2 - hypothesis rejections\", counter_secmi2)\n",
    "print(\"SECMI3 - hypothesis rejections\", counter_secmi3)"
   ]
  },
  {
   "cell_type": "markdown",
   "metadata": {},
   "source": [
    "## Task 2\n",
    " \n",
    "in R"
   ]
  }
 ],
 "metadata": {
  "kernelspec": {
   "display_name": "dydaktyka",
   "language": "python",
   "name": "python3"
  },
  "language_info": {
   "codemirror_mode": {
    "name": "ipython",
    "version": 3
   },
   "file_extension": ".py",
   "mimetype": "text/x-python",
   "name": "python",
   "nbconvert_exporter": "python",
   "pygments_lexer": "ipython3",
   "version": "3.10.11"
  }
 },
 "nbformat": 4,
 "nbformat_minor": 2
}
