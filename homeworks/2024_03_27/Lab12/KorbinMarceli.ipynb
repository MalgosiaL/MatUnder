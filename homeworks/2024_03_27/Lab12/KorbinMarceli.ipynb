{
 "cells": [
  {
   "cell_type": "code",
   "execution_count": 1,
   "metadata": {},
   "outputs": [],
   "source": [
    "from sklearn.metrics import mutual_info_score\n",
    "#from sklearn.feature_selection import chi2\n",
    "from scipy.stats import chi2_contingency\n",
    "from scipy.stats import chi2\n",
    "import numpy as np\n",
    "import matplotlib.pyplot as plt\n",
    "from scipy.stats import gaussian_kde, pearsonr\n",
    "import seaborn as sns\n",
    "import pandas as pd\n",
    "import warnings\n",
    "warnings.filterwarnings(\"ignore\")"
   ]
  },
  {
   "cell_type": "markdown",
   "metadata": {},
   "source": [
    "# Mathematical Underpinnings - Lab 5"
   ]
  },
  {
   "cell_type": "markdown",
   "metadata": {},
   "source": [
    "Tests to verify hipoteses of independence (from Lab 4):"
   ]
  },
  {
   "cell_type": "code",
   "execution_count": 2,
   "metadata": {},
   "outputs": [],
   "source": [
    "def indep_test_asymptotic(X, Y, stat):\n",
    "    assert stat in [\"mi\", \"chi2\"]\n",
    "    if stat == \"mi\":\n",
    "        stat_value = 2*len(X)*mutual_info_score(X, Y)\n",
    "    if stat == \"chi2\":\n",
    "        test_res, _, _, _ = (chi2_contingency(pd.crosstab(X, Y)))\n",
    "        stat_value = test_res\n",
    "    \n",
    "    df = (len(np.unique(X)) - 1)*(len(np.unique(Y)) - 1)\n",
    "    p_value = 1 - chi2.cdf(stat_value, df=df)\n",
    "    return stat_value, p_value\n",
    "\n",
    "def indep_test_permutation(X, Y, B, stat=\"mi\"):\n",
    "    stat_value = mutual_info_score(X, Y)\n",
    "    condition_p_value = 0\n",
    "    \n",
    "    for b in range(B):\n",
    "        X_b = np.random.permutation(X)\n",
    "        stat_value_b = mutual_info_score(X_b, Y)\n",
    "        if stat_value <= stat_value_b:\n",
    "            condition_p_value += 1\n",
    "\n",
    "    p_value = (1 + condition_p_value)/(1 + B)\n",
    "    return 2*len(X)*stat_value, p_value"
   ]
  },
  {
   "cell_type": "markdown",
   "metadata": {},
   "source": [
    "## Task 1"
   ]
  },
  {
   "cell_type": "markdown",
   "metadata": {},
   "source": [
    "### a)"
   ]
  },
  {
   "cell_type": "code",
   "execution_count": 3,
   "metadata": {},
   "outputs": [],
   "source": [
    "# a function which computes CMI\n",
    "def cond_mutual_info_score(X, Y, Z):\n",
    "    stat_value = 0\n",
    "    for Z_val in np.unique(Z):\n",
    "        stat_value += 2 * len(Z[Z==Z_val]) * mutual_info_score(X[Z==Z_val], Y[Z==Z_val])\n",
    "    return stat_value\n",
    "\n",
    "# CI test based on CMI and asymptotics\n",
    "def cond_indep_test_asymptotic(X, Y, Z):\n",
    "    stat_value = cond_mutual_info_score(X, Y, Z)\n",
    "    df = (len(np.unique(X)) - 1) * (len(np.unique(Y)) - 1) * (len(np.unique(Z)))\n",
    "    p_value = 1 - chi2.cdf(stat_value, df=df)\n",
    "    return stat_value, p_value"
   ]
  },
  {
   "cell_type": "markdown",
   "metadata": {},
   "source": [
    "### b)"
   ]
  },
  {
   "cell_type": "code",
   "execution_count": 4,
   "metadata": {},
   "outputs": [],
   "source": [
    "def cond_permutation(X, Z):\n",
    "    X_b = np.copy(X)\n",
    "    for Z_val in np.unique(Z):\n",
    "        X_b[Z==Z_val] = np.random.permutation(X[Z==Z_val])\n",
    "    return X_b\n",
    "\n",
    "# CI test based on CMI and permutations\n",
    "def cond_indep_test_permutation(X, Y, Z, B):\n",
    "    stat_value = cond_mutual_info_score(X, Y, Z)\n",
    "    condition_p_value = 0\n",
    "    \n",
    "    for b in range(B):\n",
    "        X_b = cond_permutation(X, Z)\n",
    "        stat_value_b = cond_mutual_info_score(X_b, Y, Z)\n",
    "        if stat_value <= stat_value_b:\n",
    "            condition_p_value += 1\n",
    "\n",
    "    p_value = (1 + condition_p_value)/(1 + B)\n",
    "    return 2*len(X)*stat_value, p_value"
   ]
  },
  {
   "cell_type": "markdown",
   "metadata": {},
   "source": [
    "### c)"
   ]
  },
  {
   "cell_type": "code",
   "execution_count": 31,
   "metadata": {},
   "outputs": [],
   "source": [
    "n = 1000\n",
    "B = 20\n",
    "\n",
    "def discretized(X):\n",
    "    return np.where(X<0, -1, 1)"
   ]
  },
  {
   "cell_type": "markdown",
   "metadata": {},
   "source": [
    "conditionally independent"
   ]
  },
  {
   "cell_type": "code",
   "execution_count": 32,
   "metadata": {},
   "outputs": [],
   "source": [
    "Z = np.random.normal(size=n)\n",
    "Z_d = discretized(Z)\n",
    "\n",
    "X = np.random.normal(size=n) + Z_d/2\n",
    "Y = np.random.normal(size=n) + Z_d/2\n",
    "\n",
    "X_d = discretized(X)\n",
    "Y_d = discretized(Y)"
   ]
  },
  {
   "cell_type": "code",
   "execution_count": 33,
   "metadata": {},
   "outputs": [
    {
     "data": {
      "text/plain": [
       "(3.182062897051034, 0.20371538140219647)"
      ]
     },
     "execution_count": 33,
     "metadata": {},
     "output_type": "execute_result"
    }
   ],
   "source": [
    "cond_indep_test_asymptotic(X_d, Y_d, Z_d)"
   ]
  },
  {
   "cell_type": "code",
   "execution_count": 34,
   "metadata": {},
   "outputs": [
    {
     "data": {
      "text/plain": [
       "(6364.1257941020685, 0.19047619047619047)"
      ]
     },
     "execution_count": 34,
     "metadata": {},
     "output_type": "execute_result"
    }
   ],
   "source": [
    "cond_indep_test_permutation(X_d, Y_d, Z_d, B)"
   ]
  },
  {
   "cell_type": "markdown",
   "metadata": {},
   "source": [
    "conditionally dependent"
   ]
  },
  {
   "cell_type": "code",
   "execution_count": 35,
   "metadata": {},
   "outputs": [],
   "source": [
    "X = np.random.normal(size=n)\n",
    "Y = np.random.normal(size=n)\n",
    "\n",
    "X_d = discretized(X)\n",
    "Y_d = discretized(Y)\n",
    "\n",
    "Z = np.random.normal(size=n) + X_d/2 + Y_d/2\n",
    "Z_d = discretized(Z)"
   ]
  },
  {
   "cell_type": "code",
   "execution_count": 36,
   "metadata": {},
   "outputs": [
    {
     "data": {
      "text/plain": [
       "(18.78446912694103, 8.336895471938721e-05)"
      ]
     },
     "execution_count": 36,
     "metadata": {},
     "output_type": "execute_result"
    }
   ],
   "source": [
    "cond_indep_test_asymptotic(X_d, Y_d, Z_d)"
   ]
  },
  {
   "cell_type": "code",
   "execution_count": 37,
   "metadata": {},
   "outputs": [
    {
     "data": {
      "text/plain": [
       "(37568.93825388206, 0.047619047619047616)"
      ]
     },
     "execution_count": 37,
     "metadata": {},
     "output_type": "execute_result"
    }
   ],
   "source": [
    "cond_indep_test_permutation(X_d, Y_d, Z_d, B)"
   ]
  },
  {
   "cell_type": "markdown",
   "metadata": {},
   "source": [
    "## Task 2"
   ]
  },
  {
   "cell_type": "code",
   "execution_count": 38,
   "metadata": {},
   "outputs": [],
   "source": [
    "n = 1000\n",
    "\n",
    "def sample_from_model1():\n",
    "    Z = np.random.normal(size=n)\n",
    "    Z_d = discretized(Z)\n",
    "    \n",
    "    X = np.random.normal(size=n) + Z_d/2\n",
    "    Y = np.random.normal(size=n) + Z_d/2\n",
    "    \n",
    "    X_d = discretized(X)\n",
    "    Y_d = discretized(Y)\n",
    "    return X_d, Y_d, Z_d\n",
    "\n",
    "def sample_from_model2():\n",
    "    X = np.random.normal(size=n)\n",
    "    X_d = discretized(X)\n",
    "    \n",
    "    Z = np.random.normal(size=n) + X_d/2\n",
    "    Z_d = discretized(Z)\n",
    "    \n",
    "    Y = np.random.normal(size=n) + Z_d/2\n",
    "    Y_d = discretized(Y)\n",
    "    return X_d, Y_d, Z_d\n",
    "\n",
    "def sample_from_model3():\n",
    "    X = np.random.normal(size=n)\n",
    "    Y = np.random.normal(size=n)\n",
    "    \n",
    "    X_d = discretized(X)\n",
    "    Y_d = discretized(Y)\n",
    "    \n",
    "    Z = np.random.normal(size=n) + X_d/2 + Y_d/2\n",
    "    Z_d = discretized(Z)\n",
    "    return X_d, Y_d, Z_d"
   ]
  },
  {
   "cell_type": "markdown",
   "metadata": {},
   "source": [
    "### a)"
   ]
  },
  {
   "cell_type": "markdown",
   "metadata": {},
   "source": [
    "answer: A and B conditionally independent, C only **un**conditionally independent"
   ]
  },
  {
   "cell_type": "markdown",
   "metadata": {},
   "source": [
    "### b) / c)"
   ]
  },
  {
   "cell_type": "code",
   "execution_count": 39,
   "metadata": {},
   "outputs": [],
   "source": [
    "def uncond_mutual_info_score(X, Y):\n",
    "    return 2 * len(X) * mutual_info_score(X, Y)"
   ]
  },
  {
   "cell_type": "code",
   "execution_count": 40,
   "metadata": {},
   "outputs": [],
   "source": [
    "def stats(X, Y, Z):\n",
    "    print('Mutual information:', uncond_mutual_info_score(X, Y))\n",
    "    print('Conditional mutual information:', cond_mutual_info_score(X, Y, Z))\n",
    "    print('Asymptotic independence test (MI):', indep_test_asymptotic(X, Y, \"mi\"))\n",
    "    print('Asymptotic independence test (chi^2):', indep_test_asymptotic(X, Y, \"chi2\"))\n",
    "    print('Permutation-based independence test:', indep_test_permutation(X, Y, 20))\n",
    "    print('Asymptotic conditional independence test:', cond_indep_test_asymptotic(X, Y, Z))\n",
    "    print('Permutation-based conditional independence test:', cond_indep_test_permutation(X, Y, Z, 20))"
   ]
  },
  {
   "cell_type": "code",
   "execution_count": 41,
   "metadata": {},
   "outputs": [
    {
     "name": "stdout",
     "output_type": "stream",
     "text": [
      "Mutual information: 20.54861099593608\n",
      "Conditional mutual information: 0.8303374053630881\n",
      "Asymptotic independence test (MI): (20.54861099593608, 5.813595993831022e-06)\n",
      "Asymptotic independence test (chi^2): (19.911734891201323, 8.110098651759046e-06)\n",
      "Permutation-based independence test: (20.54861099593608, 0.047619047619047616)\n",
      "Asymptotic conditional independence test: (0.8303374053630881, 0.6602288889252066)\n",
      "Permutation-based conditional independence test: (1660.6748107261762, 0.7619047619047619)\n"
     ]
    }
   ],
   "source": [
    "X, Y, Z = sample_from_model1()\n",
    "stats(X, Y, Z)"
   ]
  },
  {
   "cell_type": "code",
   "execution_count": 42,
   "metadata": {},
   "outputs": [
    {
     "name": "stdout",
     "output_type": "stream",
     "text": [
      "Mutual information: 27.016540342340356\n",
      "Conditional mutual information: 1.7343962217897246\n",
      "Asymptotic independence test (MI): (27.016540342340356, 2.0172191228517988e-07)\n",
      "Asymptotic independence test (chi^2): (26.242552250692754, 3.0111385440623195e-07)\n",
      "Permutation-based independence test: (27.016540342340356, 0.047619047619047616)\n",
      "Asymptotic conditional independence test: (1.7343962217897246, 0.42012705107290393)\n",
      "Permutation-based conditional independence test: (3468.7924435794494, 0.3333333333333333)\n"
     ]
    }
   ],
   "source": [
    "X, Y, Z = sample_from_model2()\n",
    "stats(X, Y, Z)"
   ]
  },
  {
   "cell_type": "code",
   "execution_count": 43,
   "metadata": {},
   "outputs": [
    {
     "name": "stdout",
     "output_type": "stream",
     "text": [
      "Mutual information: 0.289005302558043\n",
      "Conditional mutual information: 15.352533538990869\n",
      "Asymptotic independence test (MI): (0.289005302558043, 0.59085866192837)\n",
      "Asymptotic independence test (chi^2): (0.22488921257701913, 0.6353395713799781)\n",
      "Permutation-based independence test: (0.289005302558043, 0.5238095238095238)\n",
      "Asymptotic conditional independence test: (15.352533538990869, 0.0004637027808503946)\n",
      "Permutation-based conditional independence test: (30705.067077981737, 0.047619047619047616)\n"
     ]
    }
   ],
   "source": [
    "X, Y, Z = sample_from_model3()\n",
    "stats(X, Y, Z)"
   ]
  }
 ],
 "metadata": {
  "kernelspec": {
   "display_name": "Python 3 (ipykernel)",
   "language": "python",
   "name": "python3"
  },
  "language_info": {
   "codemirror_mode": {
    "name": "ipython",
    "version": 3
   },
   "file_extension": ".py",
   "mimetype": "text/x-python",
   "name": "python",
   "nbconvert_exporter": "python",
   "pygments_lexer": "ipython3",
   "version": "3.8.10"
  }
 },
 "nbformat": 4,
 "nbformat_minor": 2
}
