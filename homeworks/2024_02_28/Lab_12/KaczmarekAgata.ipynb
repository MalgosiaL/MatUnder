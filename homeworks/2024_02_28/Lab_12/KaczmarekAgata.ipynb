{
 "cells": [
  {
   "attachments": {},
   "cell_type": "markdown",
   "metadata": {},
   "source": [
    "# Mathematical Underpinnings - Lab 1"
   ]
  },
  {
   "attachments": {},
   "cell_type": "markdown",
   "metadata": {},
   "source": [
    "## Task 1\n",
    "### a) Generative approach \n",
    "\n",
    "We know $\\pi = P(Y=1)$ and the distributions $f(x|Y=1)$ and $f(x|Y=-1)$.\n",
    "\n",
    "#### First bullet point"
   ]
  },
  {
   "cell_type": "code",
   "execution_count": 1,
   "metadata": {},
   "outputs": [],
   "source": [
    "import numpy as np\n",
    "import matplotlib.pyplot as plt\n",
    "from sklearn.linear_model import LogisticRegression\n",
    "from sklearn.discriminant_analysis import LinearDiscriminantAnalysis"
   ]
  },
  {
   "cell_type": "code",
   "execution_count": 2,
   "metadata": {},
   "outputs": [
    {
     "data": {
      "text/plain": [
       "(array([[-1.4216699 ,  1.92874838],\n",
       "        [ 0.98582434,  0.09719778],\n",
       "        [ 1.04572353,  1.93009607],\n",
       "        [-0.7321041 ,  0.29263188],\n",
       "        [-0.87839523, -1.03647609]]),\n",
       " array([1, 1, 0, 0, 1]))"
      ]
     },
     "execution_count": 2,
     "metadata": {},
     "output_type": "execute_result"
    }
   ],
   "source": [
    "# sampling from multivariate normal distribution and from Bernoulli\n",
    "\n",
    "x = np.random.multivariate_normal(np.array([0,0]), np.eye(2), 5)\n",
    "y = np.random.binomial(1, 0.5, 5)\n",
    "x, y"
   ]
  },
  {
   "cell_type": "code",
   "execution_count": 253,
   "metadata": {},
   "outputs": [],
   "source": [
    "m1 = np.array([1,1])\n",
    "m2 = np.array([0,0])\n",
    "\n",
    "sigma = np.array([[1, -0.5],[-0.5, 1]])"
   ]
  },
  {
   "cell_type": "code",
   "execution_count": null,
   "metadata": {},
   "outputs": [],
   "source": [
    "# sampling\n",
    "# Y_generative = \n",
    "# X_generative = "
   ]
  },
  {
   "cell_type": "markdown",
   "metadata": {},
   "source": [
    "Does the distribution of $P(Y=1|X=x)=p(y=1|x)$ correspond to a logistic model?\n",
    "\n",
    "A hint: Use Bayes theorem to compute $p(y=1|x)$. Is it possible to represent $p(y=1|x)$ as $\\frac{e^{\\beta_0 + \\beta x}}{1 + e^{\\beta_0 + \\beta x}}$?\n"
   ]
  },
  {
   "cell_type": "markdown",
   "metadata": {},
   "source": [
    "#### Second bullet point"
   ]
  },
  {
   "cell_type": "markdown",
   "metadata": {},
   "source": [
    "Find the formulas for the parameters of the logistic model (the coefficients and the intercept).\n",
    "\n",
    "A hint: Use the representation of $p(y=1|x)$ from the first bullet point and solve for $\\beta_0$ and $\\beta$."
   ]
  },
  {
   "cell_type": "code",
   "execution_count": 4,
   "metadata": {},
   "outputs": [],
   "source": [
    "# computing beta_0 and beta using the formulas"
   ]
  },
  {
   "cell_type": "code",
   "execution_count": 5,
   "metadata": {},
   "outputs": [],
   "source": [
    "# a logistic model\n",
    "# mod_a = LogisticRegression(penalty=None)\n",
    "# mod_a.fit(X_generative, Y_generative)\n",
    "# (mod_a.intercept_, mod_a.coef_)"
   ]
  },
  {
   "cell_type": "markdown",
   "metadata": {},
   "source": [
    "### b) Discriminative approach\n",
    "\n",
    "We know $f(x)$ and $P(Y=1|X=x)$.\n",
    "\n",
    "#### First bullet point"
   ]
  },
  {
   "cell_type": "code",
   "execution_count": null,
   "metadata": {},
   "outputs": [],
   "source": [
    "# sampling\n",
    "# X_disciminative = \n",
    "# Y_discriminative = "
   ]
  },
  {
   "cell_type": "code",
   "execution_count": null,
   "metadata": {},
   "outputs": [],
   "source": [
    "# mod_b = LogisticRegression(penalty=None)\n",
    "# mod_b.fit(X_disciminative, Y_discriminative)"
   ]
  },
  {
   "cell_type": "markdown",
   "metadata": {},
   "source": [
    "#### Second bullet point"
   ]
  },
  {
   "cell_type": "code",
   "execution_count": 7,
   "metadata": {},
   "outputs": [],
   "source": [
    "# plt.subplot(1, 2, 1)\n",
    "# plt.scatter(..., c=Y_generative)\n",
    "# plt.ylim(-4,4)\n",
    "# plt.xlim(-4,4)\n",
    "# plt.subplot(1, 2, 2)\n",
    "# plt.scatter(... , c=Y_discriminative)\n",
    "# plt.ylim(-4,4)\n",
    "# plt.xlim(-4,4)\n",
    "# plt.show()"
   ]
  },
  {
   "cell_type": "markdown",
   "metadata": {},
   "source": [
    "What distinguishes the generative approach from the discriminative approach?"
   ]
  },
  {
   "cell_type": "markdown",
   "metadata": {},
   "source": [
    "### c)"
   ]
  },
  {
   "cell_type": "markdown",
   "metadata": {},
   "source": [
    "To sample from $f_{X|Y=-1}$, first, we will give an answer to Q1.\n",
    "\n",
    "Q1. A hint: use Bayes theorem for $p(x|y=-1)$ and use law of total probability for $p(x)$."
   ]
  },
  {
   "cell_type": "code",
   "execution_count": 32,
   "metadata": {},
   "outputs": [],
   "source": [
    "# sampling\n",
    "\n",
    "# n1 = ...\n",
    "# x1 = np.random.exponential(1/lambda, size=n1)\n",
    "\n",
    "# n2 = ...\n",
    "# x2 = ..."
   ]
  },
  {
   "cell_type": "code",
   "execution_count": null,
   "metadata": {},
   "outputs": [],
   "source": [
    "# a model\n",
    "# LogisticRegression(penalty=None)\n",
    "# mod.fit(...)"
   ]
  },
  {
   "cell_type": "markdown",
   "metadata": {},
   "source": [
    "Q2, Q3. A hint: what is the distribution of $f_{X|Y=-1}$? What ia a norming constant?\n",
    "\n",
    "..."
   ]
  },
  {
   "cell_type": "markdown",
   "metadata": {},
   "source": [
    "If that is doable, given $\\beta_1$ and $\\pi$ compute $\\beta_0$.\n",
    "\n",
    "A hint: Of course it is, compute $\\beta_0$."
   ]
  },
  {
   "cell_type": "markdown",
   "metadata": {},
   "source": [
    "## Homework\n",
    "\n",
    "Task: Given $$ p(x|y=-1) = \\frac{\\pi \\exp(-x)}{\\exp(\\beta_0+\\beta_1 x)(1-\\pi)} = C_{\\beta_0, \\pi} \\exp(-(\\beta_1+1)x).$$\n",
    "\n",
    "Find $C_{\\beta_0, \\pi}$. Next, knowing that $C_{\\beta_0, \\pi} = \\beta_1+1$, derive the formula for $\\beta_0$."
   ]
  },
  {
   "cell_type": "markdown",
   "metadata": {},
   "source": [
    "Solution:\n",
    "\n",
    "$$\\frac{\\pi \\exp(-x)}{\\exp(\\beta_0+\\beta_1 x)(1-\\pi)} = C_{\\beta_0, \\pi} \\exp(-(\\beta_1+1)x)$$\n",
    "\n",
    "$$ C_{\\beta_0, \\pi} = \\frac{\\pi \\exp(-x)}{\\exp(\\beta_0+\\beta_1 x)(1-\\pi)\\exp(-(\\beta_1+1)x)}$$\n",
    "\n",
    "$$ C_{\\beta_0, \\pi} = \\frac{\\pi}{(1-\\pi)} \\frac{\\exp(-x)}{\\exp(\\beta_0+\\beta_1 x-\\beta_1x-x)}$$\n",
    "\n",
    "$$ C_{\\beta_0, \\pi} = \\frac{\\pi}{(1-\\pi)} \\frac{\\exp(-x)}{\\exp(\\beta_0-x)}$$\n",
    "\n",
    "$$ C_{\\beta_0, \\pi} = \\frac{\\pi}{(1-\\pi)} \\exp(-x-\\beta_0+x)$$\n",
    "\n",
    "$$ C_{\\beta_0, \\pi} = \\frac{\\pi}{(1-\\pi)} \\exp(-\\beta_0)$$\n",
    "\n",
    "\n",
    "Knowing that $C_{\\beta_0, \\pi} = \\beta_1+1$, derive the formula for $\\beta_0$.\n",
    "\n",
    "$$\\frac{\\pi \\exp(-x)}{\\exp(\\beta_0+\\beta_1 x)(1-\\pi)} = (\\beta_1+1) \\exp(-(\\beta_1+1)x)$$\n",
    "\n",
    "$$ln\\left(\\frac{\\pi \\exp(-x)}{\\exp(\\beta_0+\\beta_1 x)(1-\\pi)}\\right) = ln(\\beta_1+1) -(\\beta_1+1)x$$\n",
    "\n",
    "$$ln(\\pi \\exp(-x))-ln(\\exp(\\beta_0+\\beta_1 x)(1-\\pi)) = ln(\\beta_1+1) -(\\beta_1+1)x$$\n",
    "\n",
    "$$ln(\\pi)-x-(\\beta_0+\\beta_1 x)-ln(1-\\pi) = ln(\\beta_1+1) -(\\beta_1+1)x$$\n",
    "\n",
    "$$ln(\\pi)-ln(1-\\pi)-ln(\\beta_1+1) = x+\\beta_0+\\beta_1 x -\\beta_1 x -x $$\n",
    "\n",
    "$$\\beta_0=ln\\left(\\frac{\\pi}{(1-\\pi)(\\beta_1+1)}\\right)$$\n",
    "\n",
    "For $n_1=1000, n_2=2000, \\beta_1=1$:\n",
    "\n",
    "$$\\pi = n_1/(n_1+n_2) = \\frac{1}{3}$$\n",
    "$$\\beta_0=ln\\left(\\frac{\\frac{1}{3}}{(\\frac{2}{3})(2)}\\right)=ln \\left(\\frac{1}{4}\\right)=-ln(4)=-1.3863$$"
   ]
  },
  {
   "cell_type": "code",
   "execution_count": 8,
   "metadata": {},
   "outputs": [
    {
     "name": "stdout",
     "output_type": "stream",
     "text": [
      "-1.3862943611198908\n"
     ]
    }
   ],
   "source": [
    "# numeric answer to calculate beta0\n",
    "\n",
    "n1 = 1000\n",
    "n2 = 2000\n",
    "beta1 = 1\n",
    "pi_c = n1/(n1 + n2)\n",
    "nominator = pi_c\n",
    "denominator = (1-pi_c)*(beta1+1)\n",
    "beta0=np.log(nominator/denominator)\n",
    "print(beta0)"
   ]
  }
 ],
 "metadata": {
  "kernelspec": {
   "display_name": "base",
   "language": "python",
   "name": "python3"
  },
  "language_info": {
   "codemirror_mode": {
    "name": "ipython",
    "version": 3
   },
   "file_extension": ".py",
   "mimetype": "text/x-python",
   "name": "python",
   "nbconvert_exporter": "python",
   "pygments_lexer": "ipython3",
   "version": "3.8.10"
  },
  "orig_nbformat": 4
 },
 "nbformat": 4,
 "nbformat_minor": 2
}
