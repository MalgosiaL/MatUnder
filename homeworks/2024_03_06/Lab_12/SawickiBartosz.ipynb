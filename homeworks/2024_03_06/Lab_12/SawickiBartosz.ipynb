{
 "cells": [
  {
   "cell_type": "code",
   "execution_count": 2,
   "metadata": {
    "ExecuteTime": {
     "end_time": "2024-03-12T10:33:57.920270900Z",
     "start_time": "2024-03-12T10:33:54.275582200Z"
    }
   },
   "outputs": [],
   "source": [
    "import numpy as np\n",
    "import matplotlib.pyplot as plt\n",
    "from scipy import optimize\n",
    "import pandas as pd\n",
    "import seaborn as sns"
   ]
  },
  {
   "attachments": {},
   "cell_type": "markdown",
   "metadata": {},
   "source": [
    "# Mathematical Underpinnings - Lab 2"
   ]
  },
  {
   "attachments": {},
   "cell_type": "markdown",
   "metadata": {},
   "source": [
    "## Task 1"
   ]
  },
  {
   "cell_type": "markdown",
   "metadata": {},
   "source": [
    "### a)\n",
    "\n",
    "$R(a,a^*) = \\mathbb{E} \\mathcal{L}(f(X), Y) = \\mathbb{E}(aX - Y)^2 = ...$,\n",
    "\n",
    "In our task we know $a^* = 1$."
   ]
  },
  {
   "cell_type": "code",
   "execution_count": 3,
   "metadata": {
    "ExecuteTime": {
     "end_time": "2024-03-12T10:33:57.924271700Z",
     "start_time": "2024-03-12T10:33:57.796272100Z"
    }
   },
   "outputs": [],
   "source": [
    "def population_risk(a, sigma_eps):\n",
    "    return (a-1) ** 2 + sigma_eps ** 2"
   ]
  },
  {
   "attachments": {},
   "cell_type": "markdown",
   "metadata": {},
   "source": [
    "### b)"
   ]
  },
  {
   "cell_type": "code",
   "execution_count": 4,
   "metadata": {
    "ExecuteTime": {
     "end_time": "2024-03-12T10:33:58.048270400Z",
     "start_time": "2024-03-12T10:33:58.034271100Z"
    }
   },
   "outputs": [],
   "source": [
    "# sampling\n",
    "n = 50\n",
    "sigma_eps = 1\n",
    "    \n",
    "x = np.random.normal(0, 1, n)\n",
    "eps = np.random.normal(0, sigma_eps, n)\n",
    "y = x + eps"
   ]
  },
  {
   "cell_type": "markdown",
   "metadata": {},
   "source": [
    "Empirical risk: $\\frac{1}{n} \\sum_{i=1}^n (ax_i - y_i)^2$"
   ]
  },
  {
   "cell_type": "code",
   "execution_count": 5,
   "metadata": {
    "ExecuteTime": {
     "end_time": "2024-03-12T10:33:58.052273500Z",
     "start_time": "2024-03-12T10:33:58.048270400Z"
    }
   },
   "outputs": [],
   "source": [
    "def empirical_risk(a, x, y):\n",
    "    return np.mean(np.square(a * x - y))"
   ]
  },
  {
   "cell_type": "code",
   "execution_count": 6,
   "metadata": {
    "ExecuteTime": {
     "end_time": "2024-03-12T10:33:58.073938400Z",
     "start_time": "2024-03-12T10:33:58.049272500Z"
    }
   },
   "outputs": [
    {
     "data": {
      "text/plain": "1.0651854107412528"
     },
     "execution_count": 6,
     "metadata": {},
     "output_type": "execute_result"
    }
   ],
   "source": [
    "empirical_risk(1, x, y)"
   ]
  },
  {
   "attachments": {},
   "cell_type": "markdown",
   "metadata": {},
   "source": [
    "### c)"
   ]
  },
  {
   "cell_type": "code",
   "execution_count": 7,
   "metadata": {
    "ExecuteTime": {
     "end_time": "2024-03-12T10:33:58.640540400Z",
     "start_time": "2024-03-12T10:33:58.073938400Z"
    }
   },
   "outputs": [
    {
     "data": {
      "text/plain": "[<matplotlib.lines.Line2D at 0x2acfbb94790>]"
     },
     "execution_count": 7,
     "metadata": {},
     "output_type": "execute_result"
    },
    {
     "data": {
      "text/plain": "<Figure size 640x480 with 1 Axes>",
      "image/png": "[encoded data removed]"
     },
     "metadata": {},
     "output_type": "display_data"
    }
   ],
   "source": [
    "# code, plot\n",
    "a = np.linspace(0.75, 1.25, num=1000)\n",
    "pop_risk = population_risk(a, sigma_eps)\n",
    "emp_risk = [empirical_risk(a_i, x, y) for a_i in a]\n",
    "plt.scatter(a[np.argmin(pop_risk)], np.min(pop_risk))\n",
    "plt.scatter(a[np.argmin(emp_risk)], np.min(emp_risk))\n",
    "plt.scatter(a[np.argmin(emp_risk)], pop_risk[np.argmin(emp_risk)])\n",
    "plt.plot(a, pop_risk)\n",
    "plt.plot(a, emp_risk)"
   ]
  },
  {
   "attachments": {},
   "cell_type": "markdown",
   "metadata": {},
   "source": [
    "### d)"
   ]
  },
  {
   "cell_type": "markdown",
   "metadata": {},
   "source": [
    "Excess risk: $$E(\\hat a, a^*) =R(\\hat a, a^*) - \\textrm{inf}_{a \\in A_0} R(a, a^*)$$"
   ]
  },
  {
   "cell_type": "code",
   "execution_count": 8,
   "metadata": {
    "ExecuteTime": {
     "end_time": "2024-03-12T10:33:58.694112800Z",
     "start_time": "2024-03-12T10:33:58.640540400Z"
    }
   },
   "outputs": [],
   "source": [
    "def excess_risk(a_hat, a_star, x, y, sigma_eps):\n",
    "    def population_risk_sigma(a):\n",
    "        return population_risk(a, sigma_eps)\n",
    "    inf = optimize.minimize(population_risk_sigma, x0=0).x\n",
    "    return (empirical_risk(a_hat, x, y) - inf)[0]"
   ]
  },
  {
   "cell_type": "code",
   "execution_count": 9,
   "metadata": {
    "ExecuteTime": {
     "end_time": "2024-03-12T10:33:58.695115100Z",
     "start_time": "2024-03-12T10:33:58.661766400Z"
    }
   },
   "outputs": [
    {
     "data": {
      "text/plain": "0.05951065642712994"
     },
     "execution_count": 9,
     "metadata": {},
     "output_type": "execute_result"
    }
   ],
   "source": [
    "excess_risk(a[np.argmin(emp_risk)], 1, x, y, 1)"
   ]
  },
  {
   "cell_type": "code",
   "execution_count": 10,
   "metadata": {
    "ExecuteTime": {
     "end_time": "2024-03-12T10:34:01.780002400Z",
     "start_time": "2024-03-12T10:33:58.681027400Z"
    }
   },
   "outputs": [
    {
     "data": {
      "text/plain": "-0.020239225293493323"
     },
     "execution_count": 10,
     "metadata": {},
     "output_type": "execute_result"
    }
   ],
   "source": [
    "# simulations with fixed sample size\n",
    "L = 200\n",
    "e_risks = []\n",
    "for i in range(L):\n",
    "    x = np.random.normal(0, 1, n)\n",
    "    eps = np.random.normal(0, sigma_eps, n)\n",
    "    y = x + eps\n",
    "    emp_risk = [empirical_risk(a_i, x, y) for a_i in a]\n",
    "    e_risks += [excess_risk(a[np.argmin(emp_risk)], 1, x, y, 1)]\n",
    "np.mean(e_risks)"
   ]
  },
  {
   "cell_type": "code",
   "execution_count": 11,
   "metadata": {
    "ExecuteTime": {
     "end_time": "2024-03-12T10:34:12.846262Z",
     "start_time": "2024-03-12T10:34:01.780002400Z"
    }
   },
   "outputs": [],
   "source": [
    "# simulations for various sample sizes\n",
    "\n",
    "ns = [20, 50, 100, 250, 500]\n",
    "results = []\n",
    "L = 200\n",
    "e_risks = []\n",
    "for n in ns:\n",
    "    e_risks = []\n",
    "    for i in range(L):\n",
    "        x = np.random.normal(0, 1, n)\n",
    "        eps = np.random.normal(0, sigma_eps, n)\n",
    "        y = x + eps\n",
    "        emp_risk = [empirical_risk(a_i, x, y) for a_i in a]\n",
    "        results += [{'n': n,\n",
    "                    'excess_risk': excess_risk(a[np.argmin(emp_risk)], 1, x, y, 1)}]\n",
    "results = pd.DataFrame(results)"
   ]
  },
  {
   "cell_type": "code",
   "execution_count": 12,
   "metadata": {
    "ExecuteTime": {
     "end_time": "2024-03-12T10:34:12.861887500Z",
     "start_time": "2024-03-12T10:34:12.846262Z"
    }
   },
   "outputs": [],
   "source": [
    "# a nice plot visualising the results (how the unconditional excess risk changes with a sample size)"
   ]
  },
  {
   "cell_type": "code",
   "execution_count": 13,
   "metadata": {
    "ExecuteTime": {
     "end_time": "2024-03-12T10:34:13.421162Z",
     "start_time": "2024-03-12T10:34:12.861887500Z"
    }
   },
   "outputs": [
    {
     "data": {
      "text/plain": "<Axes: xlabel='n', ylabel='excess_risk'>"
     },
     "execution_count": 13,
     "metadata": {},
     "output_type": "execute_result"
    },
    {
     "data": {
      "text/plain": "<Figure size 640x480 with 1 Axes>",
      "image/png": "[encoded data removed]"
     },
     "metadata": {},
     "output_type": "display_data"
    }
   ],
   "source": [
    "sns.boxplot(results, x='n', y='excess_risk')"
   ]
  }
 ],
 "metadata": {
  "kernelspec": {
   "display_name": "Python 3 (ipykernel)",
   "language": "python",
   "name": "python3"
  },
  "language_info": {
   "codemirror_mode": {
    "name": "ipython",
    "version": 3
   },
   "file_extension": ".py",
   "mimetype": "text/x-python",
   "name": "python",
   "nbconvert_exporter": "python",
   "pygments_lexer": "ipython3",
   "version": "3.11.5"
  }
 },
 "nbformat": 4,
 "nbformat_minor": 4
}
