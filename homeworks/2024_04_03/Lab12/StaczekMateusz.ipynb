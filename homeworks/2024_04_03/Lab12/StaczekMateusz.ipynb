{
 "cells": [
  {
   "cell_type": "markdown",
   "metadata": {},
   "source": [
    "# Mathematical Underpinnings - Lab 6"
   ]
  },
  {
   "cell_type": "code",
   "execution_count": 1,
   "metadata": {},
   "outputs": [],
   "source": [
    "from sklearn.metrics import mutual_info_score\n",
    "import numpy as np\n",
    "import matplotlib.pyplot as plt\n",
    "import seaborn as sns\n",
    "import pandas as pd\n",
    "from tqdm import tqdm"
   ]
  },
  {
   "cell_type": "markdown",
   "metadata": {},
   "source": [
    "## Useful functions"
   ]
  },
  {
   "cell_type": "code",
   "execution_count": 2,
   "metadata": {},
   "outputs": [],
   "source": [
    "def discetize_2bins(X):\n",
    "    X_discrete = 1*(X >= 0)\n",
    "    return X_discrete"
   ]
  },
  {
   "cell_type": "code",
   "execution_count": 3,
   "metadata": {},
   "outputs": [],
   "source": [
    "def conditional_permutation(X, Z):\n",
    "\n",
    "    z_values = np.unique(Z)\n",
    "    n_z_values = len(z_values)\n",
    "    n = len(Z)\n",
    "\n",
    "    X_b = np.zeros(n)\n",
    "\n",
    "    for i in range(n_z_values):\n",
    "\n",
    "        z_value_tmp = z_values[i]\n",
    "\n",
    "        X_b[Z == z_value_tmp] = np.random.permutation(X[Z == z_value_tmp])\n",
    "\n",
    "    return X_b"
   ]
  },
  {
   "cell_type": "code",
   "execution_count": 4,
   "metadata": {},
   "outputs": [],
   "source": [
    "def conditional_mutual_information(X, Y, Z):\n",
    "\n",
    "    z_values = np.unique(Z)\n",
    "    n_z_values = len(z_values)\n",
    "    n = len(Z)\n",
    "\n",
    "    cmi = 0\n",
    "\n",
    "    for i in range(n_z_values):\n",
    "\n",
    "        z_value_tmp = z_values[i]\n",
    "        z_condition = (Z == z_value_tmp)\n",
    "\n",
    "        X_z = X[z_condition]\n",
    "        Y_z = Y[z_condition]\n",
    "\n",
    "        mi_XY_z = mutual_info_score(X_z, Y_z)\n",
    "        p_z = np.sum(z_condition)/n\n",
    "\n",
    "        cmi += p_z*mi_XY_z\n",
    "\n",
    "    return cmi"
   ]
  },
  {
   "cell_type": "code",
   "execution_count": 5,
   "metadata": {},
   "outputs": [],
   "source": [
    "# II(X;Y;Z)\n",
    "def interaction_information(X, Y, Z):\n",
    "    return conditional_mutual_information(X, Y, Z) - mutual_info_score(X, Y)"
   ]
  },
  {
   "cell_type": "code",
   "execution_count": 6,
   "metadata": {},
   "outputs": [],
   "source": [
    "# II(X;Y;Z1;Z2)\n",
    "def interaction_information2(X, Y, Z1, Z2):\n",
    "    Z_1_and_2 = 2*Z2 + Z1\n",
    "    return interaction_information(X, Y, Z_1_and_2) - interaction_information(X, Y, Z1) - interaction_information(X, Y, Z2)"
   ]
  },
  {
   "cell_type": "markdown",
   "metadata": {},
   "source": [
    "## Task 1"
   ]
  },
  {
   "cell_type": "code",
   "execution_count": 7,
   "metadata": {},
   "outputs": [],
   "source": [
    "def secmi2(X, Y, Z):\n",
    "    mutual_info = mutual_info_score(X, Y)\n",
    "    II_list = [\n",
    "        interaction_information(X, Y, Z_i.T) for Z_i in Z.T\n",
    "    ]\n",
    "    return mutual_info + np.sum(II_list)\n",
    "\n",
    "def secmi3(X, Y, Z):\n",
    "    mutual_info = mutual_info_score(X, Y)\n",
    "    II_list = [\n",
    "        interaction_information(X, Y, Z_i.T) for Z_i in Z.T\n",
    "    ]\n",
    "    II_second_list = [\n",
    "        interaction_information2(X, Y, Z_i.T, Z_j.T) for i, Z_i in enumerate(Z.T) for j, Z_j in enumerate(Z.T) if j > i\n",
    "    ]\n",
    "    return mutual_info + np.sum(II_list) + np.sum(II_second_list)"
   ]
  },
  {
   "cell_type": "markdown",
   "metadata": {},
   "source": [
    "### a)"
   ]
  },
  {
   "cell_type": "code",
   "execution_count": 8,
   "metadata": {},
   "outputs": [],
   "source": [
    "def cond_indep_test_permutation(X, Y, Z, B, stat):\n",
    "\n",
    "    n_col_Z = Z.shape[1]\n",
    "    Z_1dim = np.dot(Z, 2**np.linspace(0, n_col_Z-1, n_col_Z))\n",
    "\n",
    "    if stat == \"cmi\":\n",
    "        stat_value = conditional_mutual_information(X, Y, Z_1dim)\n",
    "    if stat == \"secmi2\":\n",
    "        stat_value = secmi2(X, Y, Z)\n",
    "    if stat == \"secmi3\":\n",
    "        stat_value = secmi3(X, Y, Z)\n",
    "\n",
    "    condition_p_value = 0\n",
    "    for b in range(B):\n",
    "        X_b = conditional_permutation(X, Z_1dim)\n",
    "\n",
    "        if stat == \"cmi\":\n",
    "            stat_value_b = conditional_mutual_information(X_b, Y, Z_1dim)\n",
    "        if stat == \"secmi2\":\n",
    "            stat_value_b = secmi2(X_b, Y, Z)\n",
    "        if stat == \"secmi3\":\n",
    "            stat_value_b = secmi3(X_b, Y, Z)\n",
    "\n",
    "        if stat_value <= stat_value_b:\n",
    "            condition_p_value += 1\n",
    "\n",
    "    p_value = (1 + condition_p_value)/(1 + B)\n",
    "\n",
    "    return 2*len(X)*stat_value, p_value"
   ]
  },
  {
   "cell_type": "markdown",
   "metadata": {},
   "source": [
    "### b)"
   ]
  },
  {
   "cell_type": "code",
   "execution_count": 11,
   "metadata": {},
   "outputs": [],
   "source": [
    "# the '-0.5) * 2' changes zeros into -1\n",
    "\n",
    "def generate_data(n):\n",
    "    Y = (discetize_2bins(np.random.randn(n))-0.5) * 2\n",
    "    Z1 = (discetize_2bins(np.random.randn(n) + Y)-0.5) * 2\n",
    "    Z2 = (discetize_2bins(np.random.randn(n) + Y)-0.5) * 2\n",
    "    Z3 = (discetize_2bins(np.random.randn(n) + Y)-0.5) * 2\n",
    "    X = (discetize_2bins(np.random.randn(n) + Z1)-0.5) * 2\n",
    "    return X, Y, Z1, Z2, Z3"
   ]
  },
  {
   "cell_type": "code",
   "execution_count": 34,
   "metadata": {},
   "outputs": [
    {
     "name": "stderr",
     "output_type": "stream",
     "text": [
      "100%|██████████| 10/10 [00:28<00:00,  2.83s/it]\n"
     ]
    }
   ],
   "source": [
    "B = 50 # for permutation tests\n",
    "n = 100 # samples\n",
    "N = 10 # repetitions\n",
    "\n",
    "results = []\n",
    "for _ in tqdm(range(N)):\n",
    "    X, Y, Z1, Z2, Z3 = generate_data(n)\n",
    "    for stat in ['cmi', 'secmi2', 'secmi3']:\n",
    "        H1_stat_value, p_value1 = cond_indep_test_permutation(X, Y, np.array([Z1, Z2]).T, B, stat)\n",
    "        H2_stat_value, p_value2 = cond_indep_test_permutation(X, Y, np.array([Z2, Z3]).T, B, stat)\n",
    "        results.append({\n",
    "            'condition': 'Z1,Z2',\n",
    "            'stat': stat,\n",
    "            'stat_value': H1_stat_value,\n",
    "            'p_value': p_value1\n",
    "        })\n",
    "        results.append({\n",
    "            'condition': 'Z2,Z3',\n",
    "            'stat': stat,\n",
    "            'stat_value': H2_stat_value,\n",
    "            'p_value': p_value2\n",
    "        })"
   ]
  },
  {
   "cell_type": "code",
   "execution_count": 35,
   "metadata": {},
   "outputs": [
    {
     "data": {
      "text/html": [
       "<div>\n",
       "<style scoped>\n",
       "    .dataframe tbody tr th:only-of-type {\n",
       "        vertical-align: middle;\n",
       "    }\n",
       "\n",
       "    .dataframe tbody tr th {\n",
       "        vertical-align: top;\n",
       "    }\n",
       "\n",
       "    .dataframe thead th {\n",
       "        text-align: right;\n",
       "    }\n",
       "</style>\n",
       "<table border=\"1\" class=\"dataframe\">\n",
       "  <thead>\n",
       "    <tr style=\"text-align: right;\">\n",
       "      <th></th>\n",
       "      <th></th>\n",
       "      <th>stat_value</th>\n",
       "      <th>p_value</th>\n",
       "      <th>rejected_null_hypothesis</th>\n",
       "    </tr>\n",
       "    <tr>\n",
       "      <th>condition</th>\n",
       "      <th>stat</th>\n",
       "      <th></th>\n",
       "      <th></th>\n",
       "      <th></th>\n",
       "    </tr>\n",
       "  </thead>\n",
       "  <tbody>\n",
       "    <tr>\n",
       "      <th>Z1,Z2</th>\n",
       "      <th>cmi</th>\n",
       "      <td>3.590291</td>\n",
       "      <td>0.509804</td>\n",
       "      <td>False</td>\n",
       "    </tr>\n",
       "    <tr>\n",
       "      <th>Z2,Z3</th>\n",
       "      <th>cmi</th>\n",
       "      <td>19.742496</td>\n",
       "      <td>0.019608</td>\n",
       "      <td>True</td>\n",
       "    </tr>\n",
       "    <tr>\n",
       "      <th>Z1,Z2</th>\n",
       "      <th>secmi2</th>\n",
       "      <td>-6.490278</td>\n",
       "      <td>0.372549</td>\n",
       "      <td>False</td>\n",
       "    </tr>\n",
       "    <tr>\n",
       "      <th>Z2,Z3</th>\n",
       "      <th>secmi2</th>\n",
       "      <td>14.975211</td>\n",
       "      <td>0.019608</td>\n",
       "      <td>True</td>\n",
       "    </tr>\n",
       "    <tr>\n",
       "      <th>Z1,Z2</th>\n",
       "      <th>secmi3</th>\n",
       "      <td>3.590291</td>\n",
       "      <td>0.725490</td>\n",
       "      <td>False</td>\n",
       "    </tr>\n",
       "    <tr>\n",
       "      <th>Z2,Z3</th>\n",
       "      <th>secmi3</th>\n",
       "      <td>19.742496</td>\n",
       "      <td>0.019608</td>\n",
       "      <td>True</td>\n",
       "    </tr>\n",
       "  </tbody>\n",
       "</table>\n",
       "</div>"
      ],
      "text/plain": [
       "                  stat_value   p_value  rejected_null_hypothesis\n",
       "condition stat                                                  \n",
       "Z1,Z2     cmi       3.590291  0.509804                     False\n",
       "Z2,Z3     cmi      19.742496  0.019608                      True\n",
       "Z1,Z2     secmi2   -6.490278  0.372549                     False\n",
       "Z2,Z3     secmi2   14.975211  0.019608                      True\n",
       "Z1,Z2     secmi3    3.590291  0.725490                     False\n",
       "Z2,Z3     secmi3   19.742496  0.019608                      True"
      ]
     },
     "execution_count": 35,
     "metadata": {},
     "output_type": "execute_result"
    }
   ],
   "source": [
    "# make condition and stat columns as index\n",
    "results_df = pd.DataFrame(results).set_index(['condition', 'stat'])\n",
    "results_df[\"rejected_null_hypothesis\"] = results_df[\"p_value\"] < 0.05\n",
    "results_df.head(6)"
   ]
  },
  {
   "cell_type": "code",
   "execution_count": 37,
   "metadata": {},
   "outputs": [
    {
     "name": "stdout",
     "output_type": "stream",
     "text": [
      "Parameters: n=100, N=10, B=50\n"
     ]
    },
    {
     "data": {
      "text/html": [
       "<div>\n",
       "<style scoped>\n",
       "    .dataframe tbody tr th:only-of-type {\n",
       "        vertical-align: middle;\n",
       "    }\n",
       "\n",
       "    .dataframe tbody tr th {\n",
       "        vertical-align: top;\n",
       "    }\n",
       "\n",
       "    .dataframe thead th {\n",
       "        text-align: right;\n",
       "    }\n",
       "</style>\n",
       "<table border=\"1\" class=\"dataframe\">\n",
       "  <thead>\n",
       "    <tr style=\"text-align: right;\">\n",
       "      <th></th>\n",
       "      <th></th>\n",
       "      <th>rejected_null_hypothesis</th>\n",
       "    </tr>\n",
       "    <tr>\n",
       "      <th>condition</th>\n",
       "      <th>stat</th>\n",
       "      <th></th>\n",
       "    </tr>\n",
       "  </thead>\n",
       "  <tbody>\n",
       "    <tr>\n",
       "      <th rowspan=\"3\" valign=\"top\">Z1,Z2</th>\n",
       "      <th>cmi</th>\n",
       "      <td>1</td>\n",
       "    </tr>\n",
       "    <tr>\n",
       "      <th>secmi2</th>\n",
       "      <td>2</td>\n",
       "    </tr>\n",
       "    <tr>\n",
       "      <th>secmi3</th>\n",
       "      <td>1</td>\n",
       "    </tr>\n",
       "    <tr>\n",
       "      <th rowspan=\"3\" valign=\"top\">Z2,Z3</th>\n",
       "      <th>cmi</th>\n",
       "      <td>6</td>\n",
       "    </tr>\n",
       "    <tr>\n",
       "      <th>secmi2</th>\n",
       "      <td>6</td>\n",
       "    </tr>\n",
       "    <tr>\n",
       "      <th>secmi3</th>\n",
       "      <td>7</td>\n",
       "    </tr>\n",
       "  </tbody>\n",
       "</table>\n",
       "</div>"
      ],
      "text/plain": [
       "                  rejected_null_hypothesis\n",
       "condition stat                            \n",
       "Z1,Z2     cmi                            1\n",
       "          secmi2                         2\n",
       "          secmi3                         1\n",
       "Z2,Z3     cmi                            6\n",
       "          secmi2                         6\n",
       "          secmi3                         7"
      ]
     },
     "execution_count": 37,
     "metadata": {},
     "output_type": "execute_result"
    }
   ],
   "source": [
    "print(f\"Parameters: n={n}, N={N}, B={B}\")\n",
    "pd.DataFrame(results_df.groupby(['condition', 'stat']).sum().loc[:, 'rejected_null_hypothesis'])"
   ]
  },
  {
   "cell_type": "markdown",
   "metadata": {},
   "source": [
    "Looks like for condition Z2 and Z3 the null hypothesis is rejected in most of the times whereas for condition Z1 and Z2, rather rarely."
   ]
  },
  {
   "cell_type": "markdown",
   "metadata": {},
   "source": [
    "### c)"
   ]
  },
  {
   "cell_type": "code",
   "execution_count": 77,
   "metadata": {},
   "outputs": [],
   "source": [
    "def generate_data(n):\n",
    "    Z1 = np.random.binomial(1, 0.5, n)\n",
    "    Z2 = np.random.binomial(1, 0.5, n)\n",
    "    Z3 = np.random.binomial(1, 0.5, n)\n",
    "    X  = np.random.binomial(1, 0.5, n)\n",
    "    # Y = 1 with probability 0.8 if X + Z1 + Z2 = 1 modulo 2, otherwise 1 with probability 0.2\n",
    "    Y  = np.random.binomial(1, np.where((X + Z1 + Z2) % 2 == 1, 0.8, 0.2))\n",
    "    return X, Y, Z1, Z2, Z3"
   ]
  },
  {
   "cell_type": "code",
   "execution_count": 78,
   "metadata": {},
   "outputs": [
    {
     "data": {
      "text/plain": [
       "(array([0, 1, 0, 1]),\n",
       " array([0, 1, 0, 0]),\n",
       " array([0, 1, 1, 0]),\n",
       " array([0, 0, 0, 1]),\n",
       " array([1, 0, 0, 0]))"
      ]
     },
     "execution_count": 78,
     "metadata": {},
     "output_type": "execute_result"
    }
   ],
   "source": [
    "generate_data(4)"
   ]
  },
  {
   "cell_type": "code",
   "execution_count": 80,
   "metadata": {},
   "outputs": [
    {
     "name": "stderr",
     "output_type": "stream",
     "text": [
      "100%|██████████| 10/10 [00:28<00:00,  2.89s/it]\n"
     ]
    }
   ],
   "source": [
    "B = 50 # for permutation tests\n",
    "n = 100 # samples\n",
    "N = 10 # repetitions\n",
    "\n",
    "results = []\n",
    "for _ in tqdm(range(N)):\n",
    "    X, Y, Z1, Z2, Z3 = generate_data(n)\n",
    "    for stat in ['cmi', 'secmi2', 'secmi3']:\n",
    "        H1_stat_value, p_value1 = cond_indep_test_permutation(X, Y, np.array([Z1, Z2]).T, B, stat)\n",
    "        H2_stat_value, p_value2 = cond_indep_test_permutation(X, Y, np.array([Z2, Z3]).T, B, stat)\n",
    "        results.append({\n",
    "            'condition': 'Z1,Z2',\n",
    "            'stat': stat,\n",
    "            'stat_value': H1_stat_value,\n",
    "            'p_value': p_value1\n",
    "        })\n",
    "        results.append({\n",
    "            'condition': 'Z2,Z3',\n",
    "            'stat': stat,\n",
    "            'stat_value': H2_stat_value,\n",
    "            'p_value': p_value2\n",
    "        })"
   ]
  },
  {
   "cell_type": "code",
   "execution_count": 81,
   "metadata": {},
   "outputs": [
    {
     "data": {
      "text/html": [
       "<div>\n",
       "<style scoped>\n",
       "    .dataframe tbody tr th:only-of-type {\n",
       "        vertical-align: middle;\n",
       "    }\n",
       "\n",
       "    .dataframe tbody tr th {\n",
       "        vertical-align: top;\n",
       "    }\n",
       "\n",
       "    .dataframe thead th {\n",
       "        text-align: right;\n",
       "    }\n",
       "</style>\n",
       "<table border=\"1\" class=\"dataframe\">\n",
       "  <thead>\n",
       "    <tr style=\"text-align: right;\">\n",
       "      <th></th>\n",
       "      <th></th>\n",
       "      <th>stat_value</th>\n",
       "      <th>p_value</th>\n",
       "      <th>rejected_null_hypothesis</th>\n",
       "    </tr>\n",
       "    <tr>\n",
       "      <th>condition</th>\n",
       "      <th>stat</th>\n",
       "      <th></th>\n",
       "      <th></th>\n",
       "      <th></th>\n",
       "    </tr>\n",
       "  </thead>\n",
       "  <tbody>\n",
       "    <tr>\n",
       "      <th>Z1,Z2</th>\n",
       "      <th>cmi</th>\n",
       "      <td>48.640608</td>\n",
       "      <td>0.019608</td>\n",
       "      <td>True</td>\n",
       "    </tr>\n",
       "    <tr>\n",
       "      <th>Z2,Z3</th>\n",
       "      <th>cmi</th>\n",
       "      <td>5.526978</td>\n",
       "      <td>0.274510</td>\n",
       "      <td>False</td>\n",
       "    </tr>\n",
       "    <tr>\n",
       "      <th>Z1,Z2</th>\n",
       "      <th>secmi2</th>\n",
       "      <td>0.468580</td>\n",
       "      <td>1.000000</td>\n",
       "      <td>False</td>\n",
       "    </tr>\n",
       "    <tr>\n",
       "      <th>Z2,Z3</th>\n",
       "      <th>secmi2</th>\n",
       "      <td>4.261104</td>\n",
       "      <td>0.254902</td>\n",
       "      <td>False</td>\n",
       "    </tr>\n",
       "    <tr>\n",
       "      <th>Z1,Z2</th>\n",
       "      <th>secmi3</th>\n",
       "      <td>48.640608</td>\n",
       "      <td>0.019608</td>\n",
       "      <td>True</td>\n",
       "    </tr>\n",
       "    <tr>\n",
       "      <th>Z2,Z3</th>\n",
       "      <th>secmi3</th>\n",
       "      <td>5.526978</td>\n",
       "      <td>0.313725</td>\n",
       "      <td>False</td>\n",
       "    </tr>\n",
       "  </tbody>\n",
       "</table>\n",
       "</div>"
      ],
      "text/plain": [
       "                  stat_value   p_value  rejected_null_hypothesis\n",
       "condition stat                                                  \n",
       "Z1,Z2     cmi      48.640608  0.019608                      True\n",
       "Z2,Z3     cmi       5.526978  0.274510                     False\n",
       "Z1,Z2     secmi2    0.468580  1.000000                     False\n",
       "Z2,Z3     secmi2    4.261104  0.254902                     False\n",
       "Z1,Z2     secmi3   48.640608  0.019608                      True\n",
       "Z2,Z3     secmi3    5.526978  0.313725                     False"
      ]
     },
     "execution_count": 81,
     "metadata": {},
     "output_type": "execute_result"
    }
   ],
   "source": [
    "# make condition and stat columns as index\n",
    "results_df = pd.DataFrame(results).set_index(['condition', 'stat'])\n",
    "results_df[\"rejected_null_hypothesis\"] = results_df[\"p_value\"] < 0.05\n",
    "results_df.head(6)"
   ]
  },
  {
   "cell_type": "code",
   "execution_count": 82,
   "metadata": {},
   "outputs": [
    {
     "name": "stdout",
     "output_type": "stream",
     "text": [
      "Parameters: n=100, N=10, B=50\n"
     ]
    },
    {
     "data": {
      "text/html": [
       "<div>\n",
       "<style scoped>\n",
       "    .dataframe tbody tr th:only-of-type {\n",
       "        vertical-align: middle;\n",
       "    }\n",
       "\n",
       "    .dataframe tbody tr th {\n",
       "        vertical-align: top;\n",
       "    }\n",
       "\n",
       "    .dataframe thead th {\n",
       "        text-align: right;\n",
       "    }\n",
       "</style>\n",
       "<table border=\"1\" class=\"dataframe\">\n",
       "  <thead>\n",
       "    <tr style=\"text-align: right;\">\n",
       "      <th></th>\n",
       "      <th></th>\n",
       "      <th>rejected_null_hypothesis</th>\n",
       "    </tr>\n",
       "    <tr>\n",
       "      <th>condition</th>\n",
       "      <th>stat</th>\n",
       "      <th></th>\n",
       "    </tr>\n",
       "  </thead>\n",
       "  <tbody>\n",
       "    <tr>\n",
       "      <th rowspan=\"3\" valign=\"top\">Z1,Z2</th>\n",
       "      <th>cmi</th>\n",
       "      <td>10</td>\n",
       "    </tr>\n",
       "    <tr>\n",
       "      <th>secmi2</th>\n",
       "      <td>0</td>\n",
       "    </tr>\n",
       "    <tr>\n",
       "      <th>secmi3</th>\n",
       "      <td>10</td>\n",
       "    </tr>\n",
       "    <tr>\n",
       "      <th rowspan=\"3\" valign=\"top\">Z2,Z3</th>\n",
       "      <th>cmi</th>\n",
       "      <td>0</td>\n",
       "    </tr>\n",
       "    <tr>\n",
       "      <th>secmi2</th>\n",
       "      <td>0</td>\n",
       "    </tr>\n",
       "    <tr>\n",
       "      <th>secmi3</th>\n",
       "      <td>0</td>\n",
       "    </tr>\n",
       "  </tbody>\n",
       "</table>\n",
       "</div>"
      ],
      "text/plain": [
       "                  rejected_null_hypothesis\n",
       "condition stat                            \n",
       "Z1,Z2     cmi                           10\n",
       "          secmi2                         0\n",
       "          secmi3                        10\n",
       "Z2,Z3     cmi                            0\n",
       "          secmi2                         0\n",
       "          secmi3                         0"
      ]
     },
     "execution_count": 82,
     "metadata": {},
     "output_type": "execute_result"
    }
   ],
   "source": [
    "print(f\"Parameters: n={n}, N={N}, B={B}\")\n",
    "pd.DataFrame(results_df.groupby(['condition', 'stat']).sum().loc[:, 'rejected_null_hypothesis'])"
   ]
  },
  {
   "cell_type": "markdown",
   "metadata": {},
   "source": [
    "Based on a small sample of 10 repetitions, null hypothesis is rejected always for condition Z1 and Z2 with stat cmi and secmi3. In all other cases, the null hypothesis has not been rejected even once."
   ]
  },
  {
   "cell_type": "markdown",
   "metadata": {},
   "source": [
    "## Task 2\n",
    " \n",
    "in R"
   ]
  }
 ],
 "metadata": {
  "kernelspec": {
   "display_name": "dydaktyka",
   "language": "python",
   "name": "python3"
  },
  "language_info": {
   "codemirror_mode": {
    "name": "ipython",
    "version": 3
   },
   "file_extension": ".py",
   "mimetype": "text/x-python",
   "name": "python",
   "nbconvert_exporter": "python",
   "pygments_lexer": "ipython3",
   "version": "3.11.4"
  }
 },
 "nbformat": 4,
 "nbformat_minor": 2
}
