{
 "cells": [
  {
   "cell_type": "code",
   "execution_count": 1,
   "metadata": {},
   "outputs": [],
   "source": [
    "from sklearn.metrics import mutual_info_score\n",
    "#from sklearn.feature_selection import chi2\n",
    "from scipy.stats import chi2_contingency\n",
    "from scipy.stats import chi2\n",
    "import numpy as np\n",
    "import matplotlib.pyplot as plt\n",
    "from scipy.stats import gaussian_kde, pearsonr\n",
    "import seaborn as sns\n",
    "import pandas as pd"
   ]
  },
  {
   "cell_type": "markdown",
   "metadata": {},
   "source": [
    "# Mathematical Underpinnings - Lab 4"
   ]
  },
  {
   "cell_type": "markdown",
   "metadata": {},
   "source": [
    "Tests to verify hipoteses of independence (from Lab 4):"
   ]
  },
  {
   "cell_type": "code",
   "execution_count": 2,
   "metadata": {},
   "outputs": [],
   "source": [
    "def indep_test_asymptotic(X, Y, stat):\n",
    "\n",
    "    if stat == \"mi\":\n",
    "        stat_value = 2*len(X)*mutual_info_score(X, Y)\n",
    "\n",
    "    if stat == \"chi2\":\n",
    "        test_res = (chi2_contingency(pd.crosstab(X, Y)))\n",
    "        stat_value = test_res.statistic\n",
    "\n",
    "    df = (len(np.unique(X)) - 1)*(len(np.unique(Y)) - 1)\n",
    "    p_value = 1 - chi2.cdf(stat_value, df=df)\n",
    "    return stat_value, round(p_value, 4)\n",
    "\n",
    "def indep_test_permutation(X, Y, B, stat=\"mi\"):\n",
    "\n",
    "    stat_value = mutual_info_score(X, Y)\n",
    "    condition_p_value = 0\n",
    "    for b in range(B):\n",
    "        X_b = np.random.permutation(X)\n",
    "        stat_value_b = mutual_info_score(X_b, Y)\n",
    "        if stat_value <= stat_value_b:\n",
    "            condition_p_value += 1\n",
    "    p_value = (1 + condition_p_value)/(1 + B)\n",
    "    return 2*len(X)*stat_value, round(p_value, 4)"
   ]
  },
  {
   "cell_type": "markdown",
   "metadata": {},
   "source": [
    "## Task 1"
   ]
  },
  {
   "cell_type": "markdown",
   "metadata": {},
   "source": [
    "### a)"
   ]
  },
  {
   "cell_type": "code",
   "execution_count": 3,
   "metadata": {},
   "outputs": [],
   "source": [
    "# CI test based on CMI and asymptotics\n",
    "\n",
    "def cond_indep_test_asymptotic(X, Y, Z):\n",
    "\n",
    "    stat_value = 0\n",
    "    for z in np.unique(Z):\n",
    "        p_z = (Z == z).sum() / Z.shape[0]\n",
    "        stat_value += 2*len(X[Z == z])*mutual_info_score(X[Z == z], Y[Z == z]) * p_z\n",
    "\n",
    "    df = (len(np.unique(X)) - 1)*(len(np.unique(Y)) - 1) * len(np.unique(Z))\n",
    "\n",
    "    p_value = 1 - chi2.cdf(stat_value, df=df)\n",
    "\n",
    "    return stat_value, p_value"
   ]
  },
  {
   "cell_type": "markdown",
   "metadata": {},
   "source": [
    "### b)"
   ]
  },
  {
   "cell_type": "code",
   "execution_count": 4,
   "metadata": {},
   "outputs": [],
   "source": [
    "# CI test based on CMI and permutations\n",
    "\n",
    "def cond_indep_test_permutation(X, Y, Z, B):\n",
    "\n",
    "    stat_value = 0\n",
    "    for z in np.unique(Z):\n",
    "        p_z = (Z == z).sum() / Z.shape[0]\n",
    "        stat_value += mutual_info_score(X[Z == z], Y[Z == z]) * p_z\n",
    "\n",
    "    condition_p_value = 0\n",
    "    for b in range(B):\n",
    "        stat_value_b = 0\n",
    "        \n",
    "        for z in np.unique(Z):\n",
    "            X_b = np.random.permutation(X[Z == z])\n",
    "            p_z = (Z == z).sum() / Z.shape[0]\n",
    "            stat_value_b += mutual_info_score(X_b, Y[Z == z]) * p_z\n",
    "\n",
    "        if stat_value <= stat_value_b:\n",
    "            condition_p_value += 1\n",
    "\n",
    "    p_value = (1 + condition_p_value)/(1 + B)\n",
    "\n",
    "    return 2*len(X)*stat_value, round(p_value, 4)"
   ]
  },
  {
   "cell_type": "markdown",
   "metadata": {},
   "source": [
    "### c)"
   ]
  },
  {
   "cell_type": "markdown",
   "metadata": {},
   "source": [
    "conditionaly independent"
   ]
  },
  {
   "cell_type": "code",
   "execution_count": 5,
   "metadata": {},
   "outputs": [],
   "source": [
    "# conditionaly independent r.v. - we expect that our tests don't reject the null hypothesis\n",
    "\n",
    "n = 5000\n",
    "X = np.random.normal(0, 1, n)\n",
    "Y = np.random.normal(0, 1, n)\n",
    "Z = np.random.normal(0, 1, n)\n",
    "\n",
    "X = pd.qcut(X, q=10, labels=range(10), retbins=False).to_numpy()\n",
    "Y = pd.qcut(Y, q=10, labels=range(10), retbins=False).to_numpy()\n",
    "Z = pd.qcut(Z, q=10, labels=range(10), retbins=False).to_numpy()"
   ]
  },
  {
   "cell_type": "code",
   "execution_count": 6,
   "metadata": {},
   "outputs": [
    {
     "data": {
      "text/plain": [
       "(84.81203917225527, 1.0)"
      ]
     },
     "execution_count": 6,
     "metadata": {},
     "output_type": "execute_result"
    }
   ],
   "source": [
    "cond_indep_test_asymptotic(X, Y, Z)"
   ]
  },
  {
   "cell_type": "code",
   "execution_count": 7,
   "metadata": {},
   "outputs": [
    {
     "data": {
      "text/plain": [
       "(848.1203917225528, 0.7426)"
      ]
     },
     "execution_count": 7,
     "metadata": {},
     "output_type": "execute_result"
    }
   ],
   "source": [
    "cond_indep_test_permutation(X, Y, Z, B=100)"
   ]
  },
  {
   "cell_type": "markdown",
   "metadata": {},
   "source": [
    "p-values large -> the null hypothesis is not rejected ($\\alpha = 0.05$) -> conditionaly independent"
   ]
  },
  {
   "cell_type": "markdown",
   "metadata": {},
   "source": [
    "conditionaly dependent"
   ]
  },
  {
   "cell_type": "code",
   "execution_count": 8,
   "metadata": {},
   "outputs": [],
   "source": [
    "# conditionaly dependent r.v. - we expect that our tests reject the null hypothesis\n",
    "\n",
    "n = 5000\n",
    "\n",
    "data = np.random.multivariate_normal(np.zeros(2), np.array([[1, 0.93], [0.93, 1]]), n)\n",
    "X = data[:, 0]\n",
    "Y = data[:, 1]\n",
    "Z = np.random.normal(0, 1, n)\n",
    "\n",
    "X = pd.qcut(X, q=10, labels=range(10), retbins=False).to_numpy()\n",
    "Y = pd.qcut(Y, q=10, labels=range(10), retbins=False).to_numpy()\n",
    "Z = pd.qcut(Z, q=10, labels=range(10), retbins=False).to_numpy()"
   ]
  },
  {
   "cell_type": "code",
   "execution_count": 9,
   "metadata": {},
   "outputs": [
    {
     "data": {
      "text/plain": [
       "(915.4315592529199, 0.005701075691179169)"
      ]
     },
     "execution_count": 9,
     "metadata": {},
     "output_type": "execute_result"
    }
   ],
   "source": [
    "cond_indep_test_asymptotic(X, Y, Z)"
   ]
  },
  {
   "cell_type": "code",
   "execution_count": 10,
   "metadata": {},
   "outputs": [
    {
     "data": {
      "text/plain": [
       "(9154.315592529198, 0.0099)"
      ]
     },
     "execution_count": 10,
     "metadata": {},
     "output_type": "execute_result"
    }
   ],
   "source": [
    "cond_indep_test_permutation(X, Y, Z, B=100)"
   ]
  },
  {
   "cell_type": "markdown",
   "metadata": {},
   "source": [
    "p-values small -> the null hypothesis is rejected ($\\alpha = 0.05$) -> conditionaly dependent"
   ]
  },
  {
   "cell_type": "markdown",
   "metadata": {},
   "source": [
    "## Task 2"
   ]
  },
  {
   "cell_type": "code",
   "execution_count": 11,
   "metadata": {},
   "outputs": [],
   "source": [
    "n = 1000\n",
    "\n",
    "def sample_from_model1():\n",
    "    Z = np.random.normal(0, 1, n)\n",
    "    Z_ = np.where(Z < 0, -1, 1)\n",
    "    X = np.random.normal(Z / 2, 1)\n",
    "    X_ = np.where(X < 0, -1, 1)\n",
    "    Y = np.random.normal(Z / 2, 1)\n",
    "    Y_ = np.where(Y < 0, -1, 1)\n",
    "    return X_, Y_, Z_\n",
    "\n",
    "def sample_from_model2():\n",
    "    X = np.random.normal(0, 1, n)\n",
    "    X_ = np.where(X < 0, -1, 1)\n",
    "    Z = np.random.normal(X / 2, 1)\n",
    "    Z_ = np.where(Z < 0, -1, 1)\n",
    "    Y = np.random.normal(Z / 2, 1)\n",
    "    Y_ = np.where(Y < 0, -1, 1)\n",
    "    return X_, Y_, Z_\n",
    "\n",
    "def sample_from_model3():\n",
    "    X = np.random.normal(0, 1, n)\n",
    "    X_ = np.where(X < 0, -1, 1)\n",
    "    Y = np.random.normal(0, 1, n)\n",
    "    Y_ = np.where(Y < 0, -1, 1)\n",
    "    Z = np.random.normal((X+Y) / 2, 1)\n",
    "    Z_ = np.where(Z < 0, -1, 1)\n",
    "    return X_, Y_, Z_"
   ]
  },
  {
   "cell_type": "markdown",
   "metadata": {},
   "source": [
    "### a)"
   ]
  },
  {
   "cell_type": "markdown",
   "metadata": {},
   "source": [
    "answer:\n",
    "\n",
    "1.\n",
    "dependent\n",
    "\n",
    "conditionaly independent\n",
    "\n",
    "2.\n",
    "dependent\n",
    "\n",
    "conditionaly independent\n",
    "\n",
    "3. \n",
    "independent\n",
    "\n",
    "conditionaly dependent"
   ]
  },
  {
   "cell_type": "markdown",
   "metadata": {},
   "source": [
    "### b)"
   ]
  },
  {
   "cell_type": "code",
   "execution_count": 12,
   "metadata": {},
   "outputs": [
    {
     "name": "stdout",
     "output_type": "stream",
     "text": [
      "MI 0.011433460208992274\n",
      "CMI 0.004516327405334752\n"
     ]
    }
   ],
   "source": [
    "# model 1\n",
    "\n",
    "X, Y, Z = sample_from_model1()\n",
    "\n",
    "mi = mutual_info_score(X, Y)\n",
    "\n",
    "cmi = 0\n",
    "for z in np.unique(Z):\n",
    "    p_z = (Z == z).sum() / Z.shape[0]\n",
    "    cmi += mutual_info_score(X[Z == z], Y[Z == z]) * p_z\n",
    "\n",
    "print(\"MI\", mi)\n",
    "print(\"CMI\", cmi)"
   ]
  },
  {
   "cell_type": "code",
   "execution_count": 13,
   "metadata": {},
   "outputs": [
    {
     "name": "stdout",
     "output_type": "stream",
     "text": [
      "MI 0.018037540092452398\n",
      "CMI 0.0036070271550888563\n"
     ]
    }
   ],
   "source": [
    "# model 2\n",
    "\n",
    "X, Y, Z = sample_from_model2()\n",
    "\n",
    "mi = mutual_info_score(X, Y)\n",
    "\n",
    "cmi = 0\n",
    "for z in np.unique(Z):\n",
    "    p_z = (Z == z).sum() / Z.shape[0]\n",
    "    cmi += mutual_info_score(X[Z == z], Y[Z == z]) * p_z\n",
    "\n",
    "print(\"MI\", mi)\n",
    "print(\"CMI\", cmi)"
   ]
  },
  {
   "cell_type": "code",
   "execution_count": 14,
   "metadata": {},
   "outputs": [
    {
     "name": "stdout",
     "output_type": "stream",
     "text": [
      "MI 0.00020276859358631105\n",
      "CMI 0.003320728296923187\n"
     ]
    }
   ],
   "source": [
    "# model 3\n",
    "\n",
    "X, Y, Z = sample_from_model3()\n",
    "\n",
    "mi = mutual_info_score(X, Y)\n",
    "\n",
    "cmi = 0\n",
    "for z in np.unique(Z):\n",
    "    p_z = (Z == z).sum() / Z.shape[0]\n",
    "    cmi += mutual_info_score(X[Z == z], Y[Z == z]) * p_z\n",
    "\n",
    "print(\"MI\", mi)\n",
    "print(\"CMI\", cmi)"
   ]
  },
  {
   "cell_type": "markdown",
   "metadata": {},
   "source": [
    "### c)"
   ]
  },
  {
   "cell_type": "code",
   "execution_count": 15,
   "metadata": {},
   "outputs": [],
   "source": [
    "B = 100"
   ]
  },
  {
   "cell_type": "code",
   "execution_count": 16,
   "metadata": {},
   "outputs": [
    {
     "name": "stdout",
     "output_type": "stream",
     "text": [
      "MI test: (18.847355801097642, 0.0)\n",
      "Permutation test: (18.847355801097642, 0.0099)\n",
      "CMI test: (1.6038890604936178, 0.44845607930623255)\n",
      "Cond permutation test: (3.208600015615626, 0.2079)\n"
     ]
    }
   ],
   "source": [
    "# model 1\n",
    "\n",
    "X, Y, Z = sample_from_model1()\n",
    "\n",
    "print('MI test:', indep_test_asymptotic(X, Y, 'mi'))\n",
    "print('Permutation test:', indep_test_permutation(X, Y, B))\n",
    "print('CMI test:', cond_indep_test_asymptotic(X, Y, Z))\n",
    "print('Cond permutation test:', cond_indep_test_permutation(X, Y, Z, B))\n",
    "\n",
    "# we expect:\n",
    "# dependent\n",
    "# conditionaly independent\n",
    "\n",
    "# we get:\n",
    "# MI test -> small p-value -> reject the null hypothesis -> dependent\n",
    "# CMI test -> large p-value -> don't reject the null hypothesis -> conditionaly independent"
   ]
  },
  {
   "cell_type": "code",
   "execution_count": 17,
   "metadata": {},
   "outputs": [
    {
     "name": "stdout",
     "output_type": "stream",
     "text": [
      "MI test: (14.192425985901536, 0.0002)\n",
      "Permutation test: (14.192425985901536, 0.0099)\n",
      "CMI test: (1.4825839903793, 0.47649788467740195)\n",
      "Cond permutation test: (2.9536338284350494, 0.2376)\n"
     ]
    }
   ],
   "source": [
    "# model 2\n",
    "\n",
    "X, Y, Z = sample_from_model2()\n",
    "\n",
    "print('MI test:', indep_test_asymptotic(X, Y, 'mi'))\n",
    "print('Permutation test:', indep_test_permutation(X, Y, B))\n",
    "print('CMI test:', cond_indep_test_asymptotic(X, Y, Z))\n",
    "print('Cond permutation test:', cond_indep_test_permutation(X, Y, Z, B))\n",
    "\n",
    "# we expect:\n",
    "# dependent\n",
    "# conditionaly independent\n",
    "\n",
    "# we get:\n",
    "# MI test -> small p-value -> reject the null hypothesis -> dependent\n",
    "# CMI test -> large p-value -> don't reject the null hypothesis -> conditionaly independent"
   ]
  },
  {
   "cell_type": "code",
   "execution_count": 18,
   "metadata": {},
   "outputs": [
    {
     "name": "stdout",
     "output_type": "stream",
     "text": [
      "MI test: (0.013334578485957316, 0.9081)\n",
      "Permutation test: (0.013334578485957316, 0.9406)\n",
      "CMI test: (4.935663427905271, 0.0847684621512963)\n",
      "Cond permutation test: (9.700549549572054, 0.0198)\n"
     ]
    }
   ],
   "source": [
    "# model 3\n",
    "\n",
    "X, Y, Z = sample_from_model3()\n",
    "\n",
    "print('MI test:', indep_test_asymptotic(X, Y, 'mi'))\n",
    "print('Permutation test:', indep_test_permutation(X, Y, B))\n",
    "print('CMI test:', cond_indep_test_asymptotic(X, Y, Z))\n",
    "print('Cond permutation test:', cond_indep_test_permutation(X, Y, Z, B))\n",
    "\n",
    "# we expect:\n",
    "# independent\n",
    "# conditionaly dependent\n",
    "\n",
    "# we get:\n",
    "# MI test -> large p-value -> don't reject the null hypothesis -> independent\n",
    "# CMI test ->  small p-value -> reject the null hypothesis -> conditionaly dependent"
   ]
  }
 ],
 "metadata": {
  "kernelspec": {
   "display_name": "dydaktyka",
   "language": "python",
   "name": "python3"
  },
  "language_info": {
   "codemirror_mode": {
    "name": "ipython",
    "version": 3
   },
   "file_extension": ".py",
   "mimetype": "text/x-python",
   "name": "python",
   "nbconvert_exporter": "python",
   "pygments_lexer": "ipython3",
   "version": "3.10.11"
  }
 },
 "nbformat": 4,
 "nbformat_minor": 2
}
