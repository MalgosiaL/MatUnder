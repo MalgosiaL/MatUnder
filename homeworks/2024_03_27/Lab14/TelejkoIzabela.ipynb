{
 "cells": [
  {
   "cell_type": "code",
   "execution_count": 1,
   "metadata": {},
   "outputs": [],
   "source": [
    "from sklearn.metrics import mutual_info_score\n",
    "#from sklearn.feature_selection import chi2\n",
    "from scipy.stats import chi2_contingency\n",
    "from scipy.stats import chi2\n",
    "import numpy as np\n",
    "import matplotlib.pyplot as plt\n",
    "from scipy.stats import gaussian_kde, pearsonr\n",
    "import seaborn as sns\n",
    "import pandas as pd"
   ]
  },
  {
   "cell_type": "markdown",
   "metadata": {},
   "source": [
    "# Mathematical Underpinnings - Lab 4"
   ]
  },
  {
   "cell_type": "markdown",
   "metadata": {},
   "source": [
    "Tests to verify hipoteses of independence (from Lab 4):"
   ]
  },
  {
   "cell_type": "code",
   "execution_count": 11,
   "metadata": {},
   "outputs": [],
   "source": [
    "def indep_test_asymptotic(X, Y, stat):\n",
    "\n",
    "    if stat == \"mi\":\n",
    "\n",
    "        stat_value = 2*len(X)*mutual_info_score(X, Y)\n",
    "\n",
    "    if stat == \"chi2\":\n",
    "\n",
    "        test_res = (chi2_contingency(pd.crosstab(X, Y)))\n",
    "        stat_value = test_res.statistic\n",
    "\n",
    "    df = (len(np.unique(X)) - 1)*(len(np.unique(Y)) - 1)\n",
    "\n",
    "    p_value = 1 - chi2.cdf(stat_value, df=df)\n",
    "\n",
    "    return stat_value, p_value\n",
    "\n",
    "def indep_test_permutation(X, Y, B, stat=\"mi\"):\n",
    "\n",
    "    stat_value = mutual_info_score(X, Y)\n",
    "\n",
    "    condition_p_value = 0\n",
    "    for b in range(B):\n",
    "        X_b = np.random.permutation(X)\n",
    "\n",
    "        stat_value_b = mutual_info_score(X_b, Y)\n",
    "\n",
    "        if stat_value <= stat_value_b:\n",
    "            condition_p_value += 1\n",
    "\n",
    "    p_value = (1 + condition_p_value)/(1 + B)\n",
    "\n",
    "    return 2*len(X)*stat_value, p_value"
   ]
  },
  {
   "cell_type": "markdown",
   "metadata": {},
   "source": [
    "## Task 1"
   ]
  },
  {
   "cell_type": "code",
   "execution_count": 12,
   "metadata": {},
   "outputs": [],
   "source": [
    "# a function which computes CMI\n",
    "def calculate_cmi(X, Y, Z):\n",
    "    n = len(Z)\n",
    "    cmi = 0\n",
    "    for z in np.unique(Z):\n",
    "        cmi += mutual_info_score(X[Z == z], Y[Z == z]) * len(Z[Z==z]) / n   \n",
    "    return cmi"
   ]
  },
  {
   "cell_type": "markdown",
   "metadata": {},
   "source": [
    "### a)"
   ]
  },
  {
   "cell_type": "code",
   "execution_count": 13,
   "metadata": {},
   "outputs": [],
   "source": [
    "# CI test based on CMI and asymptotics\n",
    "def cond_indep_test_asymptotic(X, Y, stat):\n",
    "    stat_value = 2 * len(X) * calculate_cmi(X, Y, Z)\n",
    "    df = (len(np.unique(X)) - 1) * (len(np.unique(Y)) - 1) * len(np.unique(Z))\n",
    "    p_value = 1 - chi2.cdf(stat_value, df=df)\n",
    "    return stat_value, p_value"
   ]
  },
  {
   "cell_type": "markdown",
   "metadata": {},
   "source": [
    "### b)"
   ]
  },
  {
   "cell_type": "code",
   "execution_count": 14,
   "metadata": {},
   "outputs": [],
   "source": [
    "# CI test based on CMI and permutations\n",
    "\n",
    "def cond_permutation(X, Z):\n",
    "    X = X.copy()\n",
    "    ids = np.array([i for i in range(len(Z))])\n",
    "    for z in np.unique(Z):\n",
    "        X_z = X[Z == z]\n",
    "        X_z = np.random.permutation(X_z)\n",
    "        X[Z == z] = X_z\n",
    "    return X\n",
    "        \n",
    "\n",
    "def cond_indep_test_permutation(X, Y, Z, B):\n",
    "    stat_value = calculate_cmi(X, Y, Z)\n",
    "    \n",
    "    condition_p_value = 0\n",
    "    for b in range(B):\n",
    "        X_b = cond_permutation(X, Z)\n",
    "        stat_value_b = calculate_cmi(X_b, Y, Z)\n",
    "        if stat_value <= stat_value_b:\n",
    "            condition_p_value += 1\n",
    "\n",
    "    p_value = (1 + condition_p_value)/(1 + B)\n",
    "    return 2 * len(X) * stat_value, p_value"
   ]
  },
  {
   "cell_type": "markdown",
   "metadata": {},
   "source": [
    "### c)"
   ]
  },
  {
   "cell_type": "markdown",
   "metadata": {},
   "source": [
    "conditionaly independent"
   ]
  },
  {
   "cell_type": "code",
   "execution_count": 68,
   "metadata": {},
   "outputs": [
    {
     "name": "stdout",
     "output_type": "stream",
     "text": [
      "Asymptotic test of conditional independence with mutual information:\n",
      "statistic value: 189.4052743717044, p-value: 0.9954227788843352\n",
      "Permutation test of conditional independence:\n",
      "statistic value: 189.4052743717044, p-value: 0.7450980392156863\n"
     ]
    }
   ],
   "source": [
    "n = 1000\n",
    "X = pd.cut(np.random.normal(0, 1, n), bins=10, labels=False) \n",
    "Y = pd.cut(np.random.normal(0, 2, n), bins=10, labels=False) \n",
    "Z = np.random.randint(0, 3, n)\n",
    "\n",
    "print(f'Asymptotic test of conditional independence with mutual information:')\n",
    "stat_value, p_value = cond_indep_test_asymptotic(X, Y, Z)\n",
    "print(f'statistic value: {stat_value}, p-value: {p_value}')\n",
    "print(f'Permutation test of conditional independence:')\n",
    "stat_value, p_value = cond_indep_test_permutation(X, Y, Z, 50)\n",
    "print(f'statistic value: {stat_value}, p-value: {p_value}')"
   ]
  },
  {
   "cell_type": "markdown",
   "metadata": {},
   "source": [
    "p-value is close to 1, thus we fail to reject the hypothesis that X and Y given Z are independent"
   ]
  },
  {
   "cell_type": "markdown",
   "metadata": {},
   "source": [
    "conditionaly dependent"
   ]
  },
  {
   "cell_type": "code",
   "execution_count": 26,
   "metadata": {},
   "outputs": [
    {
     "name": "stdout",
     "output_type": "stream",
     "text": [
      "Asymptotic test of conditional independence with mutual information:\n",
      "statistic value: 245.49512259358036, p-value: 2.506976507576919e-05\n",
      "Permutation test of conditional independence:\n",
      "statistic value: 245.49512259358036, p-value: 0.0196078431372549\n"
     ]
    }
   ],
   "source": [
    "n = 300\n",
    "X1, Y1 = np.random.multivariate_normal(np.zeros(2), np.array([[1, 0.5], [0.5, 1]]), n).T\n",
    "Z1 = np.ones(n)\n",
    "X2, Y2 = np.random.multivariate_normal(np.zeros(2), np.array([[1, -0.5], [-0.5, 1]]), n).T\n",
    "Z2 = np.ones(n) * 2\n",
    "X = pd.cut(np.concatenate([X1, X2]), bins=10, labels=False)\n",
    "Y = pd.cut(np.concatenate([Y1, Y2]), bins=10, labels=False)\n",
    "Z = np.concatenate([Z1, Z2])\n",
    "\n",
    "print(f'Asymptotic test of conditional independence with mutual information:')\n",
    "stat_value, p_value = cond_indep_test_asymptotic(X, Y, Z)\n",
    "print(f'statistic value: {stat_value}, p-value: {p_value}')\n",
    "print(f'Permutation test of conditional independence:')\n",
    "stat_value, p_value = cond_indep_test_permutation(X, Y, Z, 50)\n",
    "print(f'statistic value: {stat_value}, p-value: {p_value}')"
   ]
  },
  {
   "cell_type": "markdown",
   "metadata": {},
   "source": [
    "p-value is less than 0.05, thus we reject the hypothesis that X and Y given Z are independent"
   ]
  },
  {
   "cell_type": "markdown",
   "metadata": {},
   "source": [
    "## Task 2"
   ]
  },
  {
   "cell_type": "code",
   "execution_count": 15,
   "metadata": {},
   "outputs": [],
   "source": [
    "def discretize(v):\n",
    "    v[v < 0] = -1\n",
    "    v[v >= 0] = 1\n",
    "    return v\n",
    "\n",
    "def sample_from_model1(n=1000):\n",
    "    Z = discretize(np.random.normal(0, 1, n))\n",
    "    X = discretize(np.random.normal(Z/2, 1))\n",
    "    Y = discretize(np.random.normal(Z/2, 1))\n",
    "    return X, Y, Z\n",
    "\n",
    "def sample_from_model2(n=1000):\n",
    "    X = discretize(np.random.normal(0, 1, n))\n",
    "    Z = discretize(np.random.normal(X/2, 1))\n",
    "    Y = discretize(np.random.normal(Z/2, 1))\n",
    "    return X, Y, Z\n",
    "\n",
    "def sample_from_model3(n=1000):\n",
    "    X = discretize(np.random.normal(0, 1, n))\n",
    "    Y = discretize(np.random.normal(0, 1, n))\n",
    "    Z = discretize(np.random.normal((X+Y)/2, 1))\n",
    "    return X, Y, Z"
   ]
  },
  {
   "cell_type": "markdown",
   "metadata": {},
   "source": [
    "### a)"
   ]
  },
  {
   "cell_type": "markdown",
   "metadata": {},
   "source": [
    "answer:\n",
    "\n",
    "Model 1: $X \\not\\!\\perp\\!\\!\\!\\perp Y$ and $X \\!\\perp\\!\\!\\!\\perp Y | Z$\n",
    "\n",
    "Model 2: $X \\not\\!\\perp\\!\\!\\!\\perp Y$ and $X \\!\\perp\\!\\!\\!\\perp Y | Z$\n",
    "\n",
    "Model 3: $X \\!\\perp\\!\\!\\!\\perp Y$ and $X \\not\\!\\perp\\!\\!\\!\\perp Y | Z$"
   ]
  },
  {
   "cell_type": "markdown",
   "metadata": {},
   "source": [
    "### b)"
   ]
  },
  {
   "cell_type": "markdown",
   "metadata": {},
   "source": [
    "#### Model 1"
   ]
  },
  {
   "cell_type": "code",
   "execution_count": 27,
   "metadata": {},
   "outputs": [
    {
     "name": "stdout",
     "output_type": "stream",
     "text": [
      "Mutual information: 0.011286357599670616\n",
      "Conditional mutual information: 0.00022561836562851804\n"
     ]
    }
   ],
   "source": [
    "X, Y, Z = sample_from_model1()\n",
    "print(f'Mutual information: {mutual_info_score(X, Y)}')\n",
    "print(f'Conditional mutual information: {calculate_cmi(X, Y, Z)}')"
   ]
  },
  {
   "cell_type": "markdown",
   "metadata": {},
   "source": [
    "#### Model 2"
   ]
  },
  {
   "cell_type": "code",
   "execution_count": 28,
   "metadata": {},
   "outputs": [
    {
     "name": "stdout",
     "output_type": "stream",
     "text": [
      "Mutual information: 0.006712262263487978\n",
      "Conditional mutual information: 0.00083837904191386\n"
     ]
    }
   ],
   "source": [
    "X, Y, Z = sample_from_model2()\n",
    "print(f'Mutual information: {mutual_info_score(X, Y)}')\n",
    "print(f'Conditional mutual information: {calculate_cmi(X, Y, Z)}')"
   ]
  },
  {
   "cell_type": "markdown",
   "metadata": {},
   "source": [
    "#### Model 3"
   ]
  },
  {
   "cell_type": "code",
   "execution_count": 29,
   "metadata": {},
   "outputs": [
    {
     "name": "stdout",
     "output_type": "stream",
     "text": [
      "Mutual information: 2.048396046228085e-06\n",
      "Conditional mutual information: 0.01386560976362487\n"
     ]
    }
   ],
   "source": [
    "X, Y, Z = sample_from_model3()\n",
    "print(f'Mutual information: {mutual_info_score(X, Y)}')\n",
    "print(f'Conditional mutual information: {calculate_cmi(X, Y, Z)}')"
   ]
  },
  {
   "cell_type": "markdown",
   "metadata": {},
   "source": [
    "### c)"
   ]
  },
  {
   "cell_type": "code",
   "execution_count": 32,
   "metadata": {},
   "outputs": [],
   "source": [
    "def calc_tests(X, Y, Z):\n",
    "    print('Independence tests:')\n",
    "    print(f'Asymptotic test of independence with mutual information:')\n",
    "    stat_value, p_value = indep_test_asymptotic(X, Y, 'mi')\n",
    "    print(f'statistic value: {stat_value}, p-value: {p_value}')\n",
    "    print(f'Permutation test of independence:')\n",
    "    stat_value, p_value = indep_test_permutation(X, Y, 50)\n",
    "    print(f'statistic value: {stat_value}, p-value: {p_value}')\n",
    "    print('----------------------------------------------------')\n",
    "    print('Conditional independence tests:')\n",
    "    print(f'Asymptotic test of conditional independence with mutual information:')\n",
    "    stat_value, p_value = cond_indep_test_asymptotic(X, Y, Z)\n",
    "    print(f'statistic value: {stat_value}, p-value: {p_value}')\n",
    "    print(f'Permutation test of conditional independence:')\n",
    "    stat_value, p_value = cond_indep_test_permutation(X, Y, Z, 50)\n",
    "    print(f'statistic value: {stat_value}, p-value: {p_value}')"
   ]
  },
  {
   "cell_type": "markdown",
   "metadata": {},
   "source": [
    "#### Model 1"
   ]
  },
  {
   "cell_type": "code",
   "execution_count": 31,
   "metadata": {},
   "outputs": [
    {
     "name": "stdout",
     "output_type": "stream",
     "text": [
      "Independence tests:\n",
      "Asymptotic test of independence with mutual information:\n",
      "statistic value: 38.63028295789772, p-value: 5.12180520217953e-10\n",
      "Permutation test of independence:\n",
      "statistic value: 38.63028295789772, p-value: 0.0196078431372549\n",
      "----------------------------------------------------\n",
      "Conditional independence tests:\n",
      "Asymptotic test of conditional independence with mutual information:\n",
      "statistic value: 0.9798267143903748, p-value: 0.6126794761530625\n",
      "Permutation test of conditional independence:\n",
      "statistic value: 0.9798267143903748, p-value: 0.6470588235294118\n"
     ]
    }
   ],
   "source": [
    "X, Y, Z = sample_from_model1()\n",
    "calc_tests(X, Y, Z)"
   ]
  },
  {
   "cell_type": "markdown",
   "metadata": {},
   "source": [
    "p-value in independence tests is less than 0.05, therefore we reject the null hypothesis that X and Y are independent, but in the conditional independence tests p-value is greater than 0.05, so we fail to reject the hypothesis that X and Y given Z are independent."
   ]
  },
  {
   "cell_type": "markdown",
   "metadata": {},
   "source": [
    "#### Model 2"
   ]
  },
  {
   "cell_type": "code",
   "execution_count": 21,
   "metadata": {
    "scrolled": true
   },
   "outputs": [
    {
     "name": "stdout",
     "output_type": "stream",
     "text": [
      "Independence tests:\n",
      "Asymptotic test of independence with mutual information:\n",
      "statistic value: 41.17574006745994, p-value: 1.391388115834502e-10\n",
      "Permutation test of independence:\n",
      "statistic value: 41.17574006745994, p-value: 0.0196078431372549\n",
      "----------------------------------------------------\n",
      "Conditional independence tests:\n",
      "Asymptotic test of conditional independence with mutual information:\n",
      "statistic value: 1.0786226938582484, p-value: 0.5831497019614147\n",
      "Permutation test of conditional independence:\n",
      "statistic value: 1.0786226938582484, p-value: 0.5686274509803921\n"
     ]
    }
   ],
   "source": [
    "X, Y, Z = sample_from_model2()\n",
    "calc_tests(X, Y, Z)"
   ]
  },
  {
   "cell_type": "markdown",
   "metadata": {},
   "source": [
    "Similarly as in sample from model 1, we reject the hypothesis that X and Y are independent, but fail to reject the hypothesis that X and Y given Z are independent. "
   ]
  },
  {
   "cell_type": "markdown",
   "metadata": {},
   "source": [
    "#### Model 3"
   ]
  },
  {
   "cell_type": "code",
   "execution_count": 23,
   "metadata": {},
   "outputs": [
    {
     "name": "stdout",
     "output_type": "stream",
     "text": [
      "Independence tests:\n",
      "Asymptotic test of independence with mutual information:\n",
      "statistic value: 1.1973852178203126, p-value: 0.2738449159862093\n",
      "Permutation test of independence:\n",
      "statistic value: 1.1973852178203126, p-value: 0.21568627450980393\n",
      "----------------------------------------------------\n",
      "Conditional independence tests:\n",
      "Asymptotic test of conditional independence with mutual information:\n",
      "statistic value: 16.559253034787933, p-value: 0.000253631909453933\n",
      "Permutation test of conditional independence:\n",
      "statistic value: 16.559253034787933, p-value: 0.0196078431372549\n"
     ]
    }
   ],
   "source": [
    "X, Y, Z = sample_from_model3()\n",
    "calc_tests(X, Y, Z)"
   ]
  },
  {
   "cell_type": "markdown",
   "metadata": {},
   "source": [
    "In case of sample from model 3 we fail to reject the hypothesis that X and Y are independent, and we reject the hypothesis of conditional independence."
   ]
  }
 ],
 "metadata": {
  "kernelspec": {
   "display_name": "Python 3 (ipykernel)",
   "language": "python",
   "name": "python3"
  },
  "language_info": {
   "codemirror_mode": {
    "name": "ipython",
    "version": 3
   },
   "file_extension": ".py",
   "mimetype": "text/x-python",
   "name": "python",
   "nbconvert_exporter": "python",
   "pygments_lexer": "ipython3",
   "version": "3.10.9"
  }
 },
 "nbformat": 4,
 "nbformat_minor": 2
}
