{
 "cells": [
  {
   "cell_type": "code",
   "execution_count": 1,
   "metadata": {},
   "outputs": [],
   "source": [
    "from sklearn.metrics import mutual_info_score\n",
    "#from sklearn.feature_selection import chi2\n",
    "from scipy.stats import chi2_contingency\n",
    "from scipy.stats import chi2\n",
    "import numpy as np\n",
    "import matplotlib.pyplot as plt\n",
    "from scipy.stats import gaussian_kde, pearsonr\n",
    "import seaborn as sns\n",
    "import pandas as pd\n",
    "\n",
    "from scipy.stats import chi2_contingency\n",
    "from scipy.stats import chi2\n",
    "import numpy as np\n",
    "import matplotlib.pyplot as plt\n",
    "from scipy.stats import gaussian_kde, pearsonr\n",
    "from sklearn.feature_selection import mutual_info_classif\n",
    "import seaborn as sns\n",
    "import pandas as pd\n",
    "from sklearn.preprocessing import KBinsDiscretizer\n",
    "from sklearn.metrics import mutual_info_score\n",
    "from scipy.stats import contingency\n",
    "import pandas as pd\n",
    "from scipy.stats.distributions import chi2"
   ]
  },
  {
   "cell_type": "markdown",
   "metadata": {},
   "source": [
    "# Mathematical Underpinnings - Lab 4"
   ]
  },
  {
   "cell_type": "markdown",
   "metadata": {},
   "source": [
    "Tests to verify hipoteses of independence (from Lab 4):"
   ]
  },
  {
   "cell_type": "code",
   "execution_count": 2,
   "metadata": {},
   "outputs": [],
   "source": [
    "def independence_test(X, Y, stats):\n",
    "    assert stats in [\"chi2\", \"mi\"]\n",
    "    data = np.stack((X,Y),axis=1)\n",
    "    discx = KBinsDiscretizer(n_bins=10, encode='ordinal', strategy='uniform')\n",
    "    discx.fit(data)\n",
    "    new_X = discx.transform(data)\n",
    "    if stats == \"chi2\":\n",
    "        chisq = chi2_contingency(pd.crosstab(new_X[:,0],new_X[:,1]))\n",
    "        return chisq[0], chisq[1]\n",
    "    else:\n",
    "        MI = mutual_info_score(new_X[:,0], new_X[:,1])\n",
    "        return MI, chi2.sf(2*X.shape[0]*MI,81)\n",
    "    \n",
    "def permutation_test(X, Y, B):\n",
    "    benchmark = np.zeros(B)\n",
    "    data = np.stack((X,Y),axis=1)\n",
    "    discx = KBinsDiscretizer(n_bins=10, encode='ordinal', strategy='uniform')\n",
    "    discx.fit(data)\n",
    "    new_X = discx.transform(data)\n",
    "    MI = mutual_info_score(new_X[:,0], new_X[:,1])\n",
    "    for b in range(B):\n",
    "        data[:,0] = np.random.permutation(X)\n",
    "        discx = KBinsDiscretizer(n_bins=10, encode='ordinal', strategy='uniform')\n",
    "        discx.fit(data)\n",
    "        new_X = discx.transform(data)\n",
    "        benchmark[b] = mutual_info_score(new_X[:,0], new_X[:,1])\n",
    "    return (1 + sum(benchmark >= MI)) / (B + 1)"
   ]
  },
  {
   "cell_type": "markdown",
   "metadata": {},
   "source": [
    "## Task 1"
   ]
  },
  {
   "cell_type": "code",
   "execution_count": 3,
   "metadata": {},
   "outputs": [],
   "source": [
    "def conditional_independence_test(X, Y, Z):\n",
    "    data = np.stack((X,Y),axis=1)\n",
    "    discx = KBinsDiscretizer(n_bins=10, encode='ordinal', strategy='uniform')\n",
    "    discx.fit(data)\n",
    "    new_X = discx.transform(data)\n",
    "    n = X.shape[0]\n",
    "    MI = 0\n",
    "    for z in np.unique(Z):\n",
    "        MI += np.count_nonzero(Z == z)/n * mutual_info_score(new_X[Z == z,0], new_X[Z == z,1])\n",
    "    return MI, chi2.sf(2*n*MI,81*np.shape(np.unique(Z))[0])\n",
    "    "
   ]
  },
  {
   "cell_type": "code",
   "execution_count": 4,
   "metadata": {},
   "outputs": [
    {
     "data": {
      "text/plain": [
       "(0.08301572229910961, 0.3977753150081232)"
      ]
     },
     "execution_count": 4,
     "metadata": {},
     "output_type": "execute_result"
    }
   ],
   "source": [
    "# Conditionally independent\n",
    "n = 1000\n",
    "ro = 0.\n",
    "data = np.random.multivariate_normal(np.zeros(2), np.array([[1, ro], [ro, 1]]), n)\n",
    "conditional_independence_test(data[:,0], data[:,1], np.random.randint(0,2,n))"
   ]
  },
  {
   "cell_type": "code",
   "execution_count": 5,
   "metadata": {},
   "outputs": [
    {
     "data": {
      "text/plain": [
       "(0.7067807919222464, 1.545732845611077e-198)"
      ]
     },
     "execution_count": 5,
     "metadata": {},
     "output_type": "execute_result"
    }
   ],
   "source": [
    "# Conditionally dependent\n",
    "n = 1000\n",
    "ro = 0.15\n",
    "X = np.random.randn(n)\n",
    "Z = np.random.randint(0,2,n)\n",
    "Y = Z * X + 1/10*np.random.randn(n) # noise added\n",
    "conditional_independence_test(X,Y,Z)"
   ]
  },
  {
   "cell_type": "code",
   "execution_count": 6,
   "metadata": {},
   "outputs": [],
   "source": [
    "def conditional_permutation_test(X, Y, Z, B):\n",
    "    benchmark = np.zeros(B)\n",
    "    data = np.stack((X,Y),axis=1)\n",
    "    discx = KBinsDiscretizer(n_bins=10, encode='ordinal', strategy='uniform')\n",
    "    discx.fit(data)\n",
    "    new_X = discx.transform(data)\n",
    "    MI = 0\n",
    "    for z in np.unique(Z):\n",
    "        MI += np.count_nonzero(Z == z)/n * mutual_info_score(new_X[Z == z,0], new_X[Z == z,1])\n",
    "    for b in range(B):\n",
    "        for z in np.unique(Z):\n",
    "            benchmark[b] += np.count_nonzero(Z == z)/n * mutual_info_score(np.random.permutation(new_X[Z == z,0]), new_X[Z == z,1])\n",
    "       # benchmark[b] = mutual_info_score(new_X[:,0], new_X[:,1])\n",
    "    return (1 + sum(benchmark >= MI)) / (B + 1)"
   ]
  },
  {
   "cell_type": "code",
   "execution_count": 7,
   "metadata": {},
   "outputs": [
    {
     "data": {
      "text/plain": [
       "(0.08394018283305553, 0.3595158487461059)"
      ]
     },
     "execution_count": 7,
     "metadata": {},
     "output_type": "execute_result"
    }
   ],
   "source": [
    "# Conditionally independent\n",
    "n = 1000\n",
    "ro = 0.15\n",
    "data = np.random.multivariate_normal(np.zeros(2), np.array([[1, ro], [ro, 1]]), n)\n",
    "conditional_independence_test(data[:,0], data[:,1], np.random.randint(0,2,n))"
   ]
  },
  {
   "cell_type": "code",
   "execution_count": 8,
   "metadata": {},
   "outputs": [
    {
     "data": {
      "text/plain": [
       "0.009900990099009901"
      ]
     },
     "execution_count": 8,
     "metadata": {},
     "output_type": "execute_result"
    }
   ],
   "source": [
    "# Conditionally dependent\n",
    "n = 1000\n",
    "X = np.random.randn(n)\n",
    "Z = np.random.randint(0,2,n)\n",
    "Y = Z * X + 1/10*np.random.randn(n) # noise added\n",
    "conditional_permutation_test(X,Y,Z, 100)"
   ]
  },
  {
   "cell_type": "markdown",
   "metadata": {},
   "source": [
    "## Task 2"
   ]
  },
  {
   "cell_type": "code",
   "execution_count": 9,
   "metadata": {},
   "outputs": [],
   "source": [
    "def sample_from_model1(n = 1000):\n",
    "    Z = 2*(np.random.randn(n) > 0) - 1\n",
    "    X = 2*((Z/2 + np.random.randn(n)) > 0) - 1\n",
    "    Y = 2*((Z/2 + np.random.randn(n)) > 0) - 1\n",
    "    return X,Y,Z\n",
    "    \n",
    "def sample_from_model2(n =1000):\n",
    "    X = 2*(np.random.randn(n) > 0) - 1\n",
    "    Z = 2*(X/2 + np.random.randn(n) > 0) - 1\n",
    "    Y = 2*(Z/2 + np.random.randn(n) > 0) - 1\n",
    "    return X,Y,Z\n",
    "\n",
    "def sample_from_model3(n = 1000):\n",
    "    X = 2*(np.random.randn(n) > 0) - 1\n",
    "    Y = 2*(np.random.randn(n) > 0) - 1\n",
    "    Z = 2*(((X + Y)/2 + np.random.randn(n)) > 0) - 1\n",
    "    return X,Y,Z"
   ]
  },
  {
   "cell_type": "markdown",
   "metadata": {},
   "source": [
    "### a)"
   ]
  },
  {
   "cell_type": "markdown",
   "metadata": {},
   "source": [
    "# Model 1: dependent, conditionally independent\n",
    "# Model 2: dependent, conditionally independent\n",
    "# Model 3: independent, conditionally dependent"
   ]
  },
  {
   "cell_type": "markdown",
   "metadata": {},
   "source": [
    "### b)"
   ]
  },
  {
   "cell_type": "code",
   "execution_count": 10,
   "metadata": {},
   "outputs": [
    {
     "name": "stdout",
     "output_type": "stream",
     "text": [
      "MI: 0.015172724527087844\n",
      "CMI: 0.002043055551410947\n"
     ]
    }
   ],
   "source": [
    "X,Y,Z = sample_from_model1()\n",
    "print(\"MI: \"+ str(independence_test(X,Y, stats='mi')[0]))\n",
    "print(\"CMI: \"+ str(conditional_independence_test(X,Y, Z)[0]))"
   ]
  },
  {
   "cell_type": "code",
   "execution_count": 11,
   "metadata": {},
   "outputs": [
    {
     "name": "stdout",
     "output_type": "stream",
     "text": [
      "MI: 0.012861486888514517\n",
      "CMI: 0.0009753020117778604\n"
     ]
    }
   ],
   "source": [
    "X,Y,Z = sample_from_model2()\n",
    "print(\"MI: \"+ str(independence_test(X,Y, stats='mi')[0]))\n",
    "print(\"CMI: \"+ str(conditional_independence_test(X,Y, Z)[0]))"
   ]
  },
  {
   "cell_type": "code",
   "execution_count": 12,
   "metadata": {},
   "outputs": [
    {
     "name": "stdout",
     "output_type": "stream",
     "text": [
      "MI: 0.00024150412125745202\n",
      "CMI: 0.007514799009864512\n"
     ]
    }
   ],
   "source": [
    "X,Y,Z = sample_from_model3()\n",
    "print(\"MI: \"+ str(independence_test(X,Y, stats='mi')[0]))\n",
    "print(\"CMI: \"+ str(conditional_independence_test(X,Y, Z)[0]))"
   ]
  },
  {
   "cell_type": "markdown",
   "metadata": {},
   "source": [
    "### c)"
   ]
  },
  {
   "cell_type": "markdown",
   "metadata": {},
   "source": [
    "# Tests\n"
   ]
  },
  {
   "cell_type": "code",
   "execution_count": 13,
   "metadata": {},
   "outputs": [
    {
     "name": "stdout",
     "output_type": "stream",
     "text": [
      "Permutation test p-value: 0.009900990099009901\n",
      "Conditional permutation test p-value: 0.0297029702970297\n",
      "Chi2 test p-value: 1.5431800009248159e-12\n",
      "Conditional chi2 test p-value: 1.0\n"
     ]
    }
   ],
   "source": [
    "X,Y,Z = sample_from_model1()\n",
    "print(\"Permutation test p-value: \"+ str(permutation_test(X,Y,100)))\n",
    "print(\"Conditional permutation test p-value: \"+ str(conditional_permutation_test(X,Y, Z, 100)))\n",
    "\n",
    "print(\"Chi2 test p-value: \"+ str(independence_test(X,Y,stats=\"chi2\")[1]))\n",
    "print(\"Conditional chi2 test p-value: \"+ str(conditional_independence_test(X,Y, Z)[1]))"
   ]
  },
  {
   "cell_type": "code",
   "execution_count": 14,
   "metadata": {},
   "outputs": [],
   "source": [
    "# Model 1: dependent, conditionally independent - correct "
   ]
  },
  {
   "cell_type": "code",
   "execution_count": 15,
   "metadata": {},
   "outputs": [
    {
     "name": "stdout",
     "output_type": "stream",
     "text": [
      "Permutation test p-value: 0.009900990099009901\n",
      "Conditional permutation test p-value: 0.31683168316831684\n",
      "Chi2 test p-value: 0.00011378439499226755\n",
      "Conditional chi2 test p-value: 1.0\n"
     ]
    }
   ],
   "source": [
    "X,Y,Z = sample_from_model2()\n",
    "print(\"Permutation test p-value: \"+ str(permutation_test(X,Y,100)))\n",
    "print(\"Conditional permutation test p-value: \"+ str(conditional_permutation_test(X,Y, Z, 100)))\n",
    "\n",
    "print(\"Chi2 test p-value: \"+ str(independence_test(X,Y,stats=\"chi2\")[1]))\n",
    "print(\"Conditional chi2 test p-value: \"+ str(conditional_independence_test(X,Y, Z)[1]))"
   ]
  },
  {
   "cell_type": "code",
   "execution_count": 16,
   "metadata": {},
   "outputs": [],
   "source": [
    "# Model 2: dependent, conditionally independent - correct "
   ]
  },
  {
   "cell_type": "code",
   "execution_count": 17,
   "metadata": {},
   "outputs": [
    {
     "name": "stdout",
     "output_type": "stream",
     "text": [
      "Permutation test p-value: 0.4158415841584158\n",
      "Conditional permutation test p-value: 0.009900990099009901\n",
      "Chi2 test p-value: 0.368633718953402\n",
      "Conditional chi2 test p-value: 3.2017351184018677e-290\n"
     ]
    }
   ],
   "source": [
    "X,Y,Z = sample_from_model3(100000)\n",
    "print(\"Permutation test p-value: \"+ str(permutation_test(X,Y,100)))\n",
    "print(\"Conditional permutation test p-value: \"+ str(conditional_permutation_test(X,Y, Z, 100)))\n",
    "\n",
    "print(\"Chi2 test p-value: \"+ str(independence_test(X,Y,stats=\"chi2\")[1]))\n",
    "print(\"Conditional chi2 test p-value: \"+ str(conditional_independence_test(X,Y, Z)[1]))"
   ]
  },
  {
   "cell_type": "code",
   "execution_count": 18,
   "metadata": {},
   "outputs": [],
   "source": [
    "# Model 3: independent, conditionally dependent - correct, but conditional chi2 test works for large n only (slow convergence)"
   ]
  },
  {
   "cell_type": "markdown",
   "metadata": {},
   "source": [
    "## d)"
   ]
  },
  {
   "cell_type": "code",
   "execution_count": 19,
   "metadata": {},
   "outputs": [],
   "source": [
    "def sample_from_model4(n = 1000):\n",
    "    X_cont = np.random.randn(n)\n",
    "    Y_cont = np.random.randn(n)\n",
    "    X = 2*(X_cont > 0) - 1\n",
    "    Y = 2*(Y_cont > 0) - 1\n",
    "    Z = 2*(((X + Y)/2 + np.random.randn(n)) > 0) - 1\n",
    "    return X,Y,Z"
   ]
  },
  {
   "cell_type": "code",
   "execution_count": 20,
   "metadata": {},
   "outputs": [
    {
     "name": "stdout",
     "output_type": "stream",
     "text": [
      "Permutation test p-value: 0.9702970297029703\n",
      "Conditional permutation test p-value: 0.009900990099009901\n",
      "Chi2 test p-value: 0.928006500660194\n",
      "Conditional chi2 test p-value: 4.713256218512558e-282\n"
     ]
    }
   ],
   "source": [
    "X,Y,Z = sample_from_model4(100000)\n",
    "print(\"Permutation test p-value: \"+ str(permutation_test(X,Y,100)))\n",
    "print(\"Conditional permutation test p-value: \"+ str(conditional_permutation_test(X,Y, Z, 100)))\n",
    "\n",
    "print(\"Chi2 test p-value: \"+ str(independence_test(X,Y,stats=\"chi2\")[1]))\n",
    "print(\"Conditional chi2 test p-value: \"+ str(conditional_independence_test(X,Y, Z)[1]))"
   ]
  },
  {
   "cell_type": "markdown",
   "metadata": {},
   "source": [
    "### Not much have changed"
   ]
  }
 ],
 "metadata": {
  "kernelspec": {
   "display_name": "Python 3 (ipykernel)",
   "language": "python",
   "name": "python3"
  },
  "language_info": {
   "codemirror_mode": {
    "name": "ipython",
    "version": 3
   },
   "file_extension": ".py",
   "mimetype": "text/x-python",
   "name": "python",
   "nbconvert_exporter": "python",
   "pygments_lexer": "ipython3",
   "version": "3.9.2"
  }
 },
 "nbformat": 4,
 "nbformat_minor": 2
}
