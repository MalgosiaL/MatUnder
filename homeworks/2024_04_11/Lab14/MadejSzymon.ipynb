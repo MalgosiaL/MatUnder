{
 "cells": [
  {
   "cell_type": "markdown",
   "metadata": {
    "id": "vdcvf6SSl1SE"
   },
   "source": [
    "# Mathematical Underpinnings - Lab 7"
   ]
  },
  {
   "cell_type": "code",
   "execution_count": 1,
   "metadata": {
    "executionInfo": {
     "elapsed": 241,
     "status": "ok",
     "timestamp": 1712853449748,
     "user": {
      "displayName": "Małgorzata Łazęcka",
      "userId": "03377429567880890658"
     },
     "user_tz": -120
    },
    "id": "XMmRp3ftl1SH"
   },
   "outputs": [
    {
     "name": "stderr",
     "output_type": "stream",
     "text": [
      "C:\\Users\\szmnm\\anaconda3\\lib\\site-packages\\scipy\\__init__.py:155: UserWarning: A NumPy version >=1.18.5 and <1.25.0 is required for this version of SciPy (detected version 1.26.3\n",
      "  warnings.warn(f\"A NumPy version >={np_minversion} and <{np_maxversion}\"\n"
     ]
    },
    {
     "name": "stdout",
     "output_type": "stream",
     "text": [
      "WARNING:tensorflow:From C:\\Users\\szmnm\\anaconda3\\lib\\site-packages\\keras\\src\\losses.py:2976: The name tf.losses.sparse_softmax_cross_entropy is deprecated. Please use tf.compat.v1.losses.sparse_softmax_cross_entropy instead.\n",
      "\n"
     ]
    }
   ],
   "source": [
    "import tensorflow as tf\n",
    "import keras\n",
    "import numpy as np\n",
    "import matplotlib.pyplot as plt\n",
    "\n",
    "from keras.layers import Input, Dense, Lambda, InputLayer, concatenate\n",
    "from keras.models import Model, Sequential\n",
    "from keras import backend as K\n",
    "from keras import metrics\n",
    "from keras.datasets import mnist\n",
    "from keras.utils import to_categorical\n",
    "\n",
    "from sklearn.model_selection import train_test_split"
   ]
  },
  {
   "cell_type": "markdown",
   "metadata": {
    "id": "Miu3nt5Xl1SI"
   },
   "source": [
    "## Task 1\n",
    "\n",
    "### a)"
   ]
  },
  {
   "cell_type": "code",
   "execution_count": 2,
   "metadata": {
    "executionInfo": {
     "elapsed": 233,
     "status": "ok",
     "timestamp": 1712853452871,
     "user": {
      "displayName": "Małgorzata Łazęcka",
      "userId": "03377429567880890658"
     },
     "user_tz": -120
    },
    "id": "V6nuk5H1l1SJ"
   },
   "outputs": [],
   "source": [
    "def KL_mult_normal(mu1, mu2, Sigma1, Sigma2):\n",
    "    # the formula is here: https://statproofbook.github.io/P/mvn-kl.html\n",
    "    return (np.dot(mu2-mu1, np.dot(np.linalg.inv(Sigma2), mu2 - mu1)) + np.sum(np.diag(np.dot(np.linalg.inv(Sigma2), Sigma1))) \\\n",
    "        - np.log(np.linalg.det(Sigma1)/np.linalg.det(Sigma2)) - mu1.shape[0])/2"
   ]
  },
  {
   "cell_type": "code",
   "execution_count": 3,
   "metadata": {
    "executionInfo": {
     "elapsed": 249,
     "status": "ok",
     "timestamp": 1712854075786,
     "user": {
      "displayName": "Małgorzata Łazęcka",
      "userId": "03377429567880890658"
     },
     "user_tz": -120
    },
    "id": "FmFrBHkgl1SJ"
   },
   "outputs": [],
   "source": [
    "def T_opt(x, mu1, mu2, Sigma1, Sigma2):\n",
    "    # compute log(p(x)/q(x)), where p and q are multivariate normal with parameters mu1, Sigma1 and mu2, Sigma2 respectively\n",
    "    # density of multivariate normal distribution is e.g. here: https://en.wikipedia.org/wiki/Multivariate_normal_distribution\n",
    "    res = np.zeros(x.shape[0])\n",
    "    for i in range(x.shape[0]):\n",
    "        ft = -np.log(np.linalg.det(Sigma1))/2 - np.dot(np.dot(np.linalg.inv(Sigma1), (x[i,:] - mu1)), x[i,:] - mu1)/2\n",
    "        st = np.log(np.linalg.det(Sigma2))/2 + np.dot(np.dot(np.linalg.inv(Sigma2), x[i,:] - mu2), x[i,:] - mu2)/2\n",
    "        res[i] = ft+st\n",
    "    return res"
   ]
  },
  {
   "cell_type": "markdown",
   "metadata": {
    "id": "dZas_vzRl1SJ"
   },
   "source": [
    "### b)"
   ]
  },
  {
   "cell_type": "code",
   "execution_count": 4,
   "metadata": {
    "executionInfo": {
     "elapsed": 324,
     "status": "ok",
     "timestamp": 1712854973100,
     "user": {
      "displayName": "Małgorzata Łazęcka",
      "userId": "03377429567880890658"
     },
     "user_tz": -120
    },
    "id": "JlOhBgTql1SJ"
   },
   "outputs": [],
   "source": [
    "# sample n = 10000 observations out of np.random.multivariate_normal(mu1, Sigma1, size=n)\n",
    "# and sample n = 10000 observations out of np.random.multivariate_normal(mu2, Sigma2, size=n)\n",
    "# then concatenate the two matrices (your final x is a matrix 2n x 5)\n",
    "# then create a vector y that will have n ones and n zeros (of size 2n)\n",
    "\n",
    "# np.random.seed(123)\n",
    "n = 10000\n",
    "mu1 = np.array([1, 1, 1, 0, 0])/5\n",
    "mu2 = np.array([0, 0, 1, 1, 1])/5\n",
    "Sigma1 = (np.eye(5)*9 + np.ones((5,5)))/10\n",
    "Sigma2 = 1.2*np.eye(5) - np.ones((5,5))/5\n",
    "x1 = np.random.multivariate_normal(mu1, Sigma1, size=n)\n",
    "x2 = np.random.multivariate_normal(mu2, Sigma2, size=n)\n",
    "x = np.concatenate((x1, x2), axis=0)\n",
    "y = np.concatenate((1.0*np.ones(n), 0.0*np.zeros(n)))\n"
   ]
  },
  {
   "cell_type": "code",
   "execution_count": 5,
   "metadata": {
    "executionInfo": {
     "elapsed": 1,
     "status": "ok",
     "timestamp": 1712854973487,
     "user": {
      "displayName": "Małgorzata Łazęcka",
      "userId": "03377429567880890658"
     },
     "user_tz": -120
    },
    "id": "7YA9-af8l1SK"
   },
   "outputs": [],
   "source": [
    "def DV_fun(y, t):\n",
    "    # y - an indicator [y[i]=1 if t[i] corresponds to x sampled from the distribution p, y[i]=0 otherwise]\n",
    "    # t a vector (of the same length as y) t = log(p(x)/q(x))\n",
    "    n1 = np.sum(y)\n",
    "    n2 = np.sum(1 - y)\n",
    "    return np.sum(t*y)/n1 - np.log(np.sum(np.exp(t)*(1-y))/n2)"
   ]
  },
  {
   "cell_type": "code",
   "execution_count": 6,
   "metadata": {
    "colab": {
     "base_uri": "https://localhost:8080/"
    },
    "executionInfo": {
     "elapsed": 2,
     "status": "ok",
     "timestamp": 1712854973846,
     "user": {
      "displayName": "Małgorzata Łazęcka",
      "userId": "03377429567880890658"
     },
     "user_tz": -120
    },
    "id": "oLzlpPpCl1SK",
    "outputId": "2316dcf2-08e3-440a-fcdb-4c6d5ad59137"
   },
   "outputs": [
    {
     "data": {
      "text/plain": [
       "2.169075737042572"
      ]
     },
     "execution_count": 6,
     "metadata": {},
     "output_type": "execute_result"
    }
   ],
   "source": [
    "KL_mult_normal(mu1, mu2, Sigma1, Sigma2)"
   ]
  },
  {
   "cell_type": "code",
   "execution_count": 7,
   "metadata": {
    "colab": {
     "base_uri": "https://localhost:8080/"
    },
    "executionInfo": {
     "elapsed": 1466,
     "status": "ok",
     "timestamp": 1712854975917,
     "user": {
      "displayName": "Małgorzata Łazęcka",
      "userId": "03377429567880890658"
     },
     "user_tz": -120
    },
    "id": "30KzVxSHl1SK",
    "outputId": "f3403ba3-6a06-4019-eb8c-1c7dfb0c069b"
   },
   "outputs": [
    {
     "data": {
      "text/plain": [
       "2.0026353098570553"
      ]
     },
     "execution_count": 7,
     "metadata": {},
     "output_type": "execute_result"
    }
   ],
   "source": [
    "DV_fun(y, T_opt(x, mu1, mu2, Sigma1, Sigma2))"
   ]
  },
  {
   "cell_type": "code",
   "execution_count": 8,
   "metadata": {
    "id": "JJaaQLzFDiBx"
   },
   "outputs": [],
   "source": [
    "# 18:56"
   ]
  },
  {
   "cell_type": "markdown",
   "metadata": {
    "id": "EplD4T6-l1SK"
   },
   "source": [
    "### c)"
   ]
  },
  {
   "cell_type": "code",
   "execution_count": 9,
   "metadata": {
    "executionInfo": {
     "elapsed": 244,
     "status": "ok",
     "timestamp": 1712855014398,
     "user": {
      "displayName": "Małgorzata Łazęcka",
      "userId": "03377429567880890658"
     },
     "user_tz": -120
    },
    "id": "JHMxjpLHl1SK"
   },
   "outputs": [],
   "source": [
    "def DV_loss(y_true, T_x):\n",
    "    n1 = tf.math.reduce_sum(y_true)\n",
    "    n2 = tf.math.reduce_sum(tf.subtract(tf.convert_to_tensor(1.0), y_true))\n",
    "    first_term = tf.math.reduce_sum(tf.math.multiply(T_x, y_true))/n1\n",
    "    second_term = tf.math.log(tf.math.reduce_sum(tf.math.multiply(tf.math.exp(T_x), tf.subtract(tf.convert_to_tensor(1.0), y_true)))/n2)\n",
    "    return -(first_term - second_term)"
   ]
  },
  {
   "cell_type": "markdown",
   "metadata": {
    "id": "-8IbmVHrl1SL"
   },
   "source": [
    "### d)"
   ]
  },
  {
   "cell_type": "code",
   "execution_count": 10,
   "metadata": {
    "executionInfo": {
     "elapsed": 246,
     "status": "ok",
     "timestamp": 1712855058228,
     "user": {
      "displayName": "Małgorzata Łazęcka",
      "userId": "03377429567880890658"
     },
     "user_tz": -120
    },
    "id": "IuHcTFoHl1SL"
   },
   "outputs": [
    {
     "name": "stdout",
     "output_type": "stream",
     "text": [
      "WARNING:tensorflow:From C:\\Users\\szmnm\\anaconda3\\lib\\site-packages\\keras\\src\\backend.py:1398: The name tf.executing_eagerly_outside_functions is deprecated. Please use tf.compat.v1.executing_eagerly_outside_functions instead.\n",
      "\n"
     ]
    }
   ],
   "source": [
    "model_inputs = keras.Input(shape=(5))\n",
    "layer_out = Dense(64, activation='softplus')(model_inputs)\n",
    "#layer_out = Dense(125, activation='tanh')(layer_out)\n",
    "layer_out = Dense(64)(layer_out)\n",
    "model_outputs = Dense(1)(layer_out)\n",
    "model = keras.Model(model_inputs, model_outputs)\n",
    "\n",
    "optimizer = keras.optimizers.SGD(learning_rate=1e-2)\n",
    "es = tf.keras.callbacks.EarlyStopping(monitor='val_loss', mode='min', verbose=1, patience=5)\n",
    "model.compile(optimizer=optimizer, loss=DV_loss)"
   ]
  },
  {
   "cell_type": "code",
   "execution_count": 11,
   "metadata": {
    "executionInfo": {
     "elapsed": 274,
     "status": "ok",
     "timestamp": 1712855060202,
     "user": {
      "displayName": "Małgorzata Łazęcka",
      "userId": "03377429567880890658"
     },
     "user_tz": -120
    },
    "id": "iQm5BL24l1SL"
   },
   "outputs": [],
   "source": [
    "x_train, x_test, y_train, y_test = train_test_split(x, y, test_size=0.25)"
   ]
  },
  {
   "cell_type": "code",
   "execution_count": 12,
   "metadata": {
    "colab": {
     "base_uri": "https://localhost:8080/"
    },
    "executionInfo": {
     "elapsed": 9270,
     "status": "ok",
     "timestamp": 1712855070601,
     "user": {
      "displayName": "Małgorzata Łazęcka",
      "userId": "03377429567880890658"
     },
     "user_tz": -120
    },
    "id": "rQQjoLdHl1SM",
    "outputId": "6db5205f-e5ea-4d07-ed53-b3945cd27870"
   },
   "outputs": [
    {
     "name": "stdout",
     "output_type": "stream",
     "text": [
      "Epoch 1/100\n",
      "WARNING:tensorflow:From C:\\Users\\szmnm\\anaconda3\\lib\\site-packages\\keras\\src\\utils\\tf_utils.py:492: The name tf.ragged.RaggedTensorValue is deprecated. Please use tf.compat.v1.ragged.RaggedTensorValue instead.\n",
      "\n",
      "15/15 [==============================] - 1s 13ms/step - loss: -0.0219 - val_loss: -0.0310\n",
      "Epoch 2/100\n",
      "15/15 [==============================] - 0s 4ms/step - loss: -0.0369 - val_loss: -0.0452\n",
      "Epoch 3/100\n",
      "15/15 [==============================] - 0s 4ms/step - loss: -0.0457 - val_loss: -0.0538\n",
      "Epoch 4/100\n",
      "15/15 [==============================] - 0s 4ms/step - loss: -0.0512 - val_loss: -0.0598\n",
      "Epoch 5/100\n",
      "15/15 [==============================] - 0s 4ms/step - loss: -0.0553 - val_loss: -0.0639\n",
      "Epoch 6/100\n",
      "15/15 [==============================] - 0s 4ms/step - loss: -0.0576 - val_loss: -0.0669\n",
      "Epoch 7/100\n",
      "15/15 [==============================] - 0s 4ms/step - loss: -0.0600 - val_loss: -0.0695\n",
      "Epoch 8/100\n",
      "15/15 [==============================] - 0s 4ms/step - loss: -0.0618 - val_loss: -0.0720\n",
      "Epoch 9/100\n",
      "15/15 [==============================] - 0s 4ms/step - loss: -0.0639 - val_loss: -0.0744\n",
      "Epoch 10/100\n",
      "15/15 [==============================] - 0s 4ms/step - loss: -0.0659 - val_loss: -0.0766\n",
      "Epoch 11/100\n",
      "15/15 [==============================] - 0s 4ms/step - loss: -0.0676 - val_loss: -0.0785\n",
      "Epoch 12/100\n",
      "15/15 [==============================] - 0s 4ms/step - loss: -0.0699 - val_loss: -0.0804\n",
      "Epoch 13/100\n",
      "15/15 [==============================] - 0s 4ms/step - loss: -0.0714 - val_loss: -0.0825\n",
      "Epoch 14/100\n",
      "15/15 [==============================] - 0s 4ms/step - loss: -0.0734 - val_loss: -0.0844\n",
      "Epoch 15/100\n",
      "15/15 [==============================] - 0s 4ms/step - loss: -0.0753 - val_loss: -0.0866\n",
      "Epoch 16/100\n",
      "15/15 [==============================] - 0s 4ms/step - loss: -0.0770 - val_loss: -0.0887\n",
      "Epoch 17/100\n",
      "15/15 [==============================] - 0s 4ms/step - loss: -0.0790 - val_loss: -0.0908\n",
      "Epoch 18/100\n",
      "15/15 [==============================] - 0s 4ms/step - loss: -0.0815 - val_loss: -0.0930\n",
      "Epoch 19/100\n",
      "15/15 [==============================] - 0s 4ms/step - loss: -0.0833 - val_loss: -0.0952\n",
      "Epoch 20/100\n",
      "15/15 [==============================] - 0s 4ms/step - loss: -0.0859 - val_loss: -0.0976\n",
      "Epoch 21/100\n",
      "15/15 [==============================] - 0s 5ms/step - loss: -0.0880 - val_loss: -0.1001\n",
      "Epoch 22/100\n",
      "15/15 [==============================] - 0s 4ms/step - loss: -0.0904 - val_loss: -0.1026\n",
      "Epoch 23/100\n",
      "15/15 [==============================] - 0s 4ms/step - loss: -0.0927 - val_loss: -0.1054\n",
      "Epoch 24/100\n",
      "15/15 [==============================] - 0s 5ms/step - loss: -0.0956 - val_loss: -0.1080\n",
      "Epoch 25/100\n",
      "15/15 [==============================] - 0s 5ms/step - loss: -0.0981 - val_loss: -0.1107\n",
      "Epoch 26/100\n",
      "15/15 [==============================] - 0s 4ms/step - loss: -0.1008 - val_loss: -0.1137\n",
      "Epoch 27/100\n",
      "15/15 [==============================] - 0s 4ms/step - loss: -0.1040 - val_loss: -0.1170\n",
      "Epoch 28/100\n",
      "15/15 [==============================] - 0s 4ms/step - loss: -0.1072 - val_loss: -0.1203\n",
      "Epoch 29/100\n",
      "15/15 [==============================] - 0s 4ms/step - loss: -0.1110 - val_loss: -0.1239\n",
      "Epoch 30/100\n",
      "15/15 [==============================] - 0s 4ms/step - loss: -0.1142 - val_loss: -0.1277\n",
      "Epoch 31/100\n",
      "15/15 [==============================] - 0s 4ms/step - loss: -0.1179 - val_loss: -0.1316\n",
      "Epoch 32/100\n",
      "15/15 [==============================] - 0s 4ms/step - loss: -0.1222 - val_loss: -0.1357\n",
      "Epoch 33/100\n",
      "15/15 [==============================] - 0s 4ms/step - loss: -0.1261 - val_loss: -0.1402\n",
      "Epoch 34/100\n",
      "15/15 [==============================] - 0s 4ms/step - loss: -0.1304 - val_loss: -0.1452\n",
      "Epoch 35/100\n",
      "15/15 [==============================] - 0s 3ms/step - loss: -0.1356 - val_loss: -0.1504\n",
      "Epoch 36/100\n",
      "15/15 [==============================] - 0s 5ms/step - loss: -0.1408 - val_loss: -0.1560\n",
      "Epoch 37/100\n",
      "15/15 [==============================] - 0s 3ms/step - loss: -0.1468 - val_loss: -0.1618\n",
      "Epoch 38/100\n",
      "15/15 [==============================] - 0s 4ms/step - loss: -0.1527 - val_loss: -0.1684\n",
      "Epoch 39/100\n",
      "15/15 [==============================] - 0s 4ms/step - loss: -0.1595 - val_loss: -0.1754\n",
      "Epoch 40/100\n",
      "15/15 [==============================] - 0s 4ms/step - loss: -0.1668 - val_loss: -0.1832\n",
      "Epoch 41/100\n",
      "15/15 [==============================] - 0s 3ms/step - loss: -0.1746 - val_loss: -0.1917\n",
      "Epoch 42/100\n",
      "15/15 [==============================] - 0s 4ms/step - loss: -0.1834 - val_loss: -0.2010\n",
      "Epoch 43/100\n",
      "15/15 [==============================] - 0s 4ms/step - loss: -0.1925 - val_loss: -0.2111\n",
      "Epoch 44/100\n",
      "15/15 [==============================] - 0s 3ms/step - loss: -0.2029 - val_loss: -0.2223\n",
      "Epoch 45/100\n",
      "15/15 [==============================] - 0s 4ms/step - loss: -0.2144 - val_loss: -0.2344\n",
      "Epoch 46/100\n",
      "15/15 [==============================] - 0s 3ms/step - loss: -0.2267 - val_loss: -0.2481\n",
      "Epoch 47/100\n",
      "15/15 [==============================] - 0s 4ms/step - loss: -0.2407 - val_loss: -0.2631\n",
      "Epoch 48/100\n",
      "15/15 [==============================] - 0s 3ms/step - loss: -0.2565 - val_loss: -0.2799\n",
      "Epoch 49/100\n",
      "15/15 [==============================] - 0s 4ms/step - loss: -0.2740 - val_loss: -0.2990\n",
      "Epoch 50/100\n",
      "15/15 [==============================] - 0s 5ms/step - loss: -0.2935 - val_loss: -0.3203\n",
      "Epoch 51/100\n",
      "15/15 [==============================] - 0s 4ms/step - loss: -0.3155 - val_loss: -0.3443\n",
      "Epoch 52/100\n",
      "15/15 [==============================] - 0s 5ms/step - loss: -0.3409 - val_loss: -0.3719\n",
      "Epoch 53/100\n",
      "15/15 [==============================] - 0s 4ms/step - loss: -0.3696 - val_loss: -0.4035\n",
      "Epoch 54/100\n",
      "15/15 [==============================] - 0s 5ms/step - loss: -0.4022 - val_loss: -0.4394\n",
      "Epoch 55/100\n",
      "15/15 [==============================] - 0s 3ms/step - loss: -0.4396 - val_loss: -0.4812\n",
      "Epoch 56/100\n",
      "15/15 [==============================] - 0s 4ms/step - loss: -0.4831 - val_loss: -0.5295\n",
      "Epoch 57/100\n",
      "15/15 [==============================] - 0s 5ms/step - loss: -0.5339 - val_loss: -0.5855\n",
      "Epoch 58/100\n",
      "15/15 [==============================] - 0s 3ms/step - loss: -0.5933 - val_loss: -0.6513\n",
      "Epoch 59/100\n",
      "15/15 [==============================] - 0s 4ms/step - loss: -0.6628 - val_loss: -0.7295\n",
      "Epoch 60/100\n",
      "15/15 [==============================] - 0s 4ms/step - loss: -0.7438 - val_loss: -0.8215\n",
      "Epoch 61/100\n",
      "15/15 [==============================] - 0s 4ms/step - loss: -0.8405 - val_loss: -0.9287\n",
      "Epoch 62/100\n",
      "15/15 [==============================] - 0s 4ms/step - loss: -0.9531 - val_loss: -1.0528\n",
      "Epoch 63/100\n",
      "15/15 [==============================] - 0s 4ms/step - loss: -1.0824 - val_loss: -1.2002\n",
      "Epoch 64/100\n",
      "15/15 [==============================] - 0s 4ms/step - loss: -1.2307 - val_loss: -1.3611\n",
      "Epoch 65/100\n",
      "15/15 [==============================] - 0s 4ms/step - loss: -1.3901 - val_loss: -1.5334\n",
      "Epoch 66/100\n",
      "15/15 [==============================] - 0s 5ms/step - loss: -1.5520 - val_loss: -1.7004\n",
      "Epoch 67/100\n",
      "15/15 [==============================] - 0s 4ms/step - loss: -1.6894 - val_loss: -1.8299\n",
      "Epoch 68/100\n",
      "15/15 [==============================] - 0s 5ms/step - loss: -1.7845 - val_loss: -1.9317\n",
      "Epoch 69/100\n",
      "15/15 [==============================] - 0s 4ms/step - loss: -1.8515 - val_loss: -1.9972\n",
      "Epoch 70/100\n",
      "15/15 [==============================] - 0s 4ms/step - loss: -1.8639 - val_loss: -1.9692\n",
      "Epoch 71/100\n",
      "15/15 [==============================] - 0s 4ms/step - loss: -1.9636 - val_loss: -2.0392\n",
      "Epoch 72/100\n",
      "15/15 [==============================] - 0s 4ms/step - loss: -1.9108 - val_loss: -2.0653\n",
      "Epoch 73/100\n",
      "15/15 [==============================] - 0s 4ms/step - loss: -1.8679 - val_loss: -2.0348\n",
      "Epoch 74/100\n",
      "15/15 [==============================] - 0s 4ms/step - loss: -1.8837 - val_loss: -2.0195\n",
      "Epoch 75/100\n",
      "15/15 [==============================] - 0s 4ms/step - loss: -1.9190 - val_loss: -2.0391\n",
      "Epoch 76/100\n",
      "15/15 [==============================] - 0s 4ms/step - loss: -1.8868 - val_loss: -1.9649\n",
      "Epoch 77/100\n",
      "15/15 [==============================] - 0s 5ms/step - loss: -1.8424 - val_loss: -1.9850\n",
      "Epoch 77: early stopping\n"
     ]
    }
   ],
   "source": [
    "hist = model.fit(x_train, y_train, epochs=100, batch_size=1024, validation_data=(x_test, y_test), callbacks=[es])"
   ]
  },
  {
   "cell_type": "code",
   "execution_count": 13,
   "metadata": {
    "colab": {
     "base_uri": "https://localhost:8080/",
     "height": 430
    },
    "executionInfo": {
     "elapsed": 527,
     "status": "ok",
     "timestamp": 1712855109256,
     "user": {
      "displayName": "Małgorzata Łazęcka",
      "userId": "03377429567880890658"
     },
     "user_tz": -120
    },
    "id": "-kYo5KkJl1SM",
    "outputId": "0336d925-5210-4c98-874f-e7c1f10fc036"
   },
   "outputs": [
    {
     "data": {
      "image/png": "[encoded data removed]",
      "text/plain": [
       "<Figure size 640x480 with 1 Axes>"
      ]
     },
     "metadata": {},
     "output_type": "display_data"
    }
   ],
   "source": [
    "plt.plot(hist.history['loss'])\n",
    "plt.plot(hist.history['val_loss'])\n",
    "plt.show()"
   ]
  },
  {
   "cell_type": "markdown",
   "metadata": {
    "id": "zAUPAi7Yl1SM"
   },
   "source": [
    "### e)"
   ]
  },
  {
   "cell_type": "code",
   "execution_count": 17,
   "metadata": {
    "colab": {
     "base_uri": "https://localhost:8080/"
    },
    "executionInfo": {
     "elapsed": 2870,
     "status": "ok",
     "timestamp": 1712856439558,
     "user": {
      "displayName": "Małgorzata Łazęcka",
      "userId": "03377429567880890658"
     },
     "user_tz": -120
    },
    "id": "c3qnEYqql1SM",
    "outputId": "139e2574-82de-4e35-9b99-6261c6259c24"
   },
   "outputs": [
    {
     "name": "stdout",
     "output_type": "stream",
     "text": [
      "625/625 [==============================] - 0s 745us/step\n"
     ]
    }
   ],
   "source": [
    "t_x_pred = model.predict(x)[:,0]"
   ]
  },
  {
   "cell_type": "code",
   "execution_count": 18,
   "metadata": {
    "executionInfo": {
     "elapsed": 1376,
     "status": "ok",
     "timestamp": 1712856440933,
     "user": {
      "displayName": "Małgorzata Łazęcka",
      "userId": "03377429567880890658"
     },
     "user_tz": -120
    },
    "id": "4wL4M8Eel1SN"
   },
   "outputs": [],
   "source": [
    "t_x_opt = T_opt(x, mu1, mu2, Sigma1, Sigma2)"
   ]
  },
  {
   "cell_type": "code",
   "execution_count": 19,
   "metadata": {
    "colab": {
     "base_uri": "https://localhost:8080/",
     "height": 430
    },
    "executionInfo": {
     "elapsed": 571,
     "status": "ok",
     "timestamp": 1712856441502,
     "user": {
      "displayName": "Małgorzata Łazęcka",
      "userId": "03377429567880890658"
     },
     "user_tz": -120
    },
    "id": "LF1e6FdWl1SN",
    "outputId": "1f24a869-9745-40e5-d03a-a2d69d3ecf77"
   },
   "outputs": [
    {
     "data": {
      "image/png": "[encoded data removed]",
      "text/plain": [
       "<Figure size 640x480 with 1 Axes>"
      ]
     },
     "metadata": {},
     "output_type": "display_data"
    }
   ],
   "source": [
    "plt.plot(t_x_opt)\n",
    "plt.plot(t_x_pred)\n",
    "\n",
    "plt.show()"
   ]
  },
  {
   "cell_type": "code",
   "execution_count": 20,
   "metadata": {
    "colab": {
     "base_uri": "https://localhost:8080/",
     "height": 430
    },
    "executionInfo": {
     "elapsed": 1782,
     "status": "ok",
     "timestamp": 1712856454682,
     "user": {
      "displayName": "Małgorzata Łazęcka",
      "userId": "03377429567880890658"
     },
     "user_tz": -120
    },
    "id": "AAATWc1oM0ii",
    "outputId": "6faaa07e-7954-49df-e123-24e2790a59a3"
   },
   "outputs": [
    {
     "data": {
      "image/png": "[encoded data removed]",
      "text/plain": [
       "<Figure size 640x480 with 1 Axes>"
      ]
     },
     "metadata": {},
     "output_type": "display_data"
    }
   ],
   "source": [
    "plt.plot(t_x_pred[y==1], t_x_opt[y==1], \"o\", alpha=0.2, markersize=2)\n",
    "plt.plot(t_x_pred[y==0], t_x_opt[y==0], \"o\", alpha=0.2, markersize=2)\n",
    "plt.grid()\n",
    "plt.show()"
   ]
  },
  {
   "cell_type": "code",
   "execution_count": 21,
   "metadata": {
    "colab": {
     "base_uri": "https://localhost:8080/",
     "height": 430
    },
    "executionInfo": {
     "elapsed": 567,
     "status": "ok",
     "timestamp": 1712856103173,
     "user": {
      "displayName": "Małgorzata Łazęcka",
      "userId": "03377429567880890658"
     },
     "user_tz": -120
    },
    "id": "FlmICDCal1SN",
    "outputId": "aded465b-008f-49a8-cbbb-7174e54d52c6"
   },
   "outputs": [
    {
     "data": {
      "image/png": "[encoded data removed]",
      "text/plain": [
       "<Figure size 640x480 with 1 Axes>"
      ]
     },
     "metadata": {},
     "output_type": "display_data"
    }
   ],
   "source": [
    "plt.plot(t_x_pred, t_x_opt, \"o\")\n",
    "plt.show()"
   ]
  },
  {
   "cell_type": "code",
   "execution_count": 22,
   "metadata": {
    "colab": {
     "base_uri": "https://localhost:8080/"
    },
    "executionInfo": {
     "elapsed": 240,
     "status": "ok",
     "timestamp": 1712856200274,
     "user": {
      "displayName": "Małgorzata Łazęcka",
      "userId": "03377429567880890658"
     },
     "user_tz": -120
    },
    "id": "qfHonEMZl1SN",
    "outputId": "483251e3-87a6-4940-d869-8e0ffec67c77"
   },
   "outputs": [
    {
     "data": {
      "text/plain": [
       "1.8035661864494674"
      ]
     },
     "execution_count": 22,
     "metadata": {},
     "output_type": "execute_result"
    }
   ],
   "source": [
    "DV_fun(y, t_x_pred)"
   ]
  },
  {
   "cell_type": "code",
   "execution_count": 23,
   "metadata": {
    "colab": {
     "base_uri": "https://localhost:8080/"
    },
    "executionInfo": {
     "elapsed": 342,
     "status": "ok",
     "timestamp": 1712856219108,
     "user": {
      "displayName": "Małgorzata Łazęcka",
      "userId": "03377429567880890658"
     },
     "user_tz": -120
    },
    "id": "Y98oUKf9l1SO",
    "outputId": "77c2aa33-a0c0-4264-cd6c-0f5bfeb0949f"
   },
   "outputs": [
    {
     "data": {
      "text/plain": [
       "2.0026353098570553"
      ]
     },
     "execution_count": 23,
     "metadata": {},
     "output_type": "execute_result"
    }
   ],
   "source": [
    "DV_fun(y, t_x_opt)"
   ]
  },
  {
   "cell_type": "code",
   "execution_count": 24,
   "metadata": {
    "executionInfo": {
     "elapsed": 419,
     "status": "ok",
     "timestamp": 1712856250051,
     "user": {
      "displayName": "Małgorzata Łazęcka",
      "userId": "03377429567880890658"
     },
     "user_tz": -120
    },
    "id": "ee2YQL7ol1SO"
   },
   "outputs": [],
   "source": [
    "# new data\n",
    "n_new = 10000\n",
    "x1 = np.random.multivariate_normal(mu1, Sigma1, size=n_new)\n",
    "x2 = np.random.multivariate_normal(mu2, Sigma2, size=n_new)\n",
    "x_new = np.concatenate((x1, x2), axis=0)\n",
    "y_new = np.concatenate((1.0*np.ones(n_new), 0.0*np.zeros(n_new)))"
   ]
  },
  {
   "cell_type": "code",
   "execution_count": 25,
   "metadata": {
    "colab": {
     "base_uri": "https://localhost:8080/"
    },
    "executionInfo": {
     "elapsed": 2158,
     "status": "ok",
     "timestamp": 1712856264535,
     "user": {
      "displayName": "Małgorzata Łazęcka",
      "userId": "03377429567880890658"
     },
     "user_tz": -120
    },
    "id": "MvCCZFdwMDx4",
    "outputId": "6e6f5d09-e950-4e35-81cd-bba466a66354"
   },
   "outputs": [
    {
     "name": "stdout",
     "output_type": "stream",
     "text": [
      "625/625 [==============================] - 0s 747us/step\n"
     ]
    }
   ],
   "source": [
    "t_x_pred = model.predict(x_new)\n",
    "t_x_pred = t_x_pred[:,0]"
   ]
  },
  {
   "cell_type": "code",
   "execution_count": 26,
   "metadata": {
    "executionInfo": {
     "elapsed": 2919,
     "status": "ok",
     "timestamp": 1712856289190,
     "user": {
      "displayName": "Małgorzata Łazęcka",
      "userId": "03377429567880890658"
     },
     "user_tz": -120
    },
    "id": "NU_cfpmGMK1c"
   },
   "outputs": [],
   "source": [
    "t_x_opt = T_opt(x_new, mu1, mu2, Sigma1, Sigma2)"
   ]
  },
  {
   "cell_type": "code",
   "execution_count": 27,
   "metadata": {
    "colab": {
     "base_uri": "https://localhost:8080/"
    },
    "executionInfo": {
     "elapsed": 279,
     "status": "ok",
     "timestamp": 1712856300549,
     "user": {
      "displayName": "Małgorzata Łazęcka",
      "userId": "03377429567880890658"
     },
     "user_tz": -120
    },
    "id": "WKuFMLnxMPVo",
    "outputId": "30ffd799-967b-47ae-bc6a-a6e24fc8c4e3"
   },
   "outputs": [
    {
     "data": {
      "text/plain": [
       "1.8810778416857286"
      ]
     },
     "execution_count": 27,
     "metadata": {},
     "output_type": "execute_result"
    }
   ],
   "source": [
    "DV_fun(y_new, t_x_pred)"
   ]
  },
  {
   "cell_type": "code",
   "execution_count": 28,
   "metadata": {
    "colab": {
     "base_uri": "https://localhost:8080/"
    },
    "executionInfo": {
     "elapsed": 237,
     "status": "ok",
     "timestamp": 1712856315083,
     "user": {
      "displayName": "Małgorzata Łazęcka",
      "userId": "03377429567880890658"
     },
     "user_tz": -120
    },
    "id": "5quaMnF2MSxF",
    "outputId": "cd0d5489-190c-4c5a-c3c7-c8cae09796c0"
   },
   "outputs": [
    {
     "data": {
      "text/plain": [
       "1.977020586484249"
      ]
     },
     "execution_count": 28,
     "metadata": {},
     "output_type": "execute_result"
    }
   ],
   "source": [
    "DV_fun(y_new, t_x_opt)"
   ]
  },
  {
   "cell_type": "markdown",
   "metadata": {
    "id": "iSIk6efpl1SO"
   },
   "source": [
    "### f)"
   ]
  },
  {
   "cell_type": "code",
   "execution_count": 30,
   "metadata": {
    "id": "_ZF06PZUl1SO"
   },
   "outputs": [],
   "source": [
    "def NWJ_loss(y_true, y_pred):\n",
    "    first_term = tf.math.reduce_mean(y_pred[y_true == 1])\n",
    "    second_term = tf.math.reduce_mean(tf.math.exp(y_pred[y_true == 0]-1))\n",
    "    return -(first_term - second_term)"
   ]
  },
  {
   "cell_type": "code",
   "execution_count": 31,
   "metadata": {},
   "outputs": [],
   "source": [
    "def NWJ_fun(y, t):\n",
    "    return np.mean(t[y == 1]) - np.mean(np.exp(t[y == 0] - 1))"
   ]
  },
  {
   "cell_type": "code",
   "execution_count": 33,
   "metadata": {
    "id": "eWzHzM8al1SO"
   },
   "outputs": [],
   "source": [
    "model_inputs = keras.Input(shape=(5))\n",
    "layer_out = Dense(64, activation='softplus')(model_inputs)\n",
    "#layer_out = Dense(125, activation='tanh')(layer_out)\n",
    "layer_out = Dense(64)(layer_out)\n",
    "model_outputs = Dense(1)(layer_out)\n",
    "model = keras.Model(model_inputs, model_outputs)\n",
    "\n",
    "optimizer = keras.optimizers.SGD(learning_rate=1e-2)\n",
    "es = tf.keras.callbacks.EarlyStopping(monitor='val_loss', mode='min', verbose=1, patience=5)\n",
    "model.co1mpile(optimizer=optimizer, loss=NWJ_loss)"
   ]
  },
  {
   "cell_type": "code",
   "execution_count": 34,
   "metadata": {},
   "outputs": [
    {
     "name": "stdout",
     "output_type": "stream",
     "text": [
      "Epoch 1/100\n",
      "15/15 [==============================] - 1s 12ms/step - loss: 0.2648 - val_loss: 0.0022\n",
      "Epoch 2/100\n",
      "15/15 [==============================] - 0s 4ms/step - loss: -0.0137 - val_loss: -0.0319\n",
      "Epoch 3/100\n",
      "15/15 [==============================] - 0s 4ms/step - loss: -0.0380 - val_loss: -0.0524\n",
      "Epoch 4/100\n",
      "15/15 [==============================] - 0s 5ms/step - loss: -0.0524 - val_loss: -0.0656\n",
      "Epoch 5/100\n",
      "15/15 [==============================] - 0s 6ms/step - loss: -0.0617 - val_loss: -0.0745\n",
      "Epoch 6/100\n",
      "15/15 [==============================] - 0s 6ms/step - loss: -0.0682 - val_loss: -0.0810\n",
      "Epoch 7/100\n",
      "15/15 [==============================] - 0s 4ms/step - loss: -0.0730 - val_loss: -0.0857\n",
      "Epoch 8/100\n",
      "15/15 [==============================] - 0s 4ms/step - loss: -0.0765 - val_loss: -0.0900\n",
      "Epoch 9/100\n",
      "15/15 [==============================] - 0s 4ms/step - loss: -0.0796 - val_loss: -0.0934\n",
      "Epoch 10/100\n",
      "15/15 [==============================] - 0s 4ms/step - loss: -0.0828 - val_loss: -0.0968\n",
      "Epoch 11/100\n",
      "15/15 [==============================] - 0s 4ms/step - loss: -0.0854 - val_loss: -0.0999\n",
      "Epoch 12/100\n",
      "15/15 [==============================] - 0s 4ms/step - loss: -0.0888 - val_loss: -0.1030\n",
      "Epoch 13/100\n",
      "15/15 [==============================] - 0s 4ms/step - loss: -0.0916 - val_loss: -0.1062\n",
      "Epoch 14/100\n",
      "15/15 [==============================] - 0s 4ms/step - loss: -0.0945 - val_loss: -0.1095\n",
      "Epoch 15/100\n",
      "15/15 [==============================] - 0s 4ms/step - loss: -0.0978 - val_loss: -0.1129\n",
      "Epoch 16/100\n",
      "15/15 [==============================] - 0s 4ms/step - loss: -0.1010 - val_loss: -0.1159\n",
      "Epoch 17/100\n",
      "15/15 [==============================] - 0s 4ms/step - loss: -0.1045 - val_loss: -0.1201\n",
      "Epoch 18/100\n",
      "15/15 [==============================] - 0s 4ms/step - loss: -0.1083 - val_loss: -0.1240\n",
      "Epoch 19/100\n",
      "15/15 [==============================] - 0s 4ms/step - loss: -0.1121 - val_loss: -0.1281\n",
      "Epoch 20/100\n",
      "15/15 [==============================] - 0s 4ms/step - loss: -0.1163 - val_loss: -0.1323\n",
      "Epoch 21/100\n",
      "15/15 [==============================] - 0s 4ms/step - loss: -0.1207 - val_loss: -0.1370\n",
      "Epoch 22/100\n",
      "15/15 [==============================] - 0s 4ms/step - loss: -0.1254 - val_loss: -0.1421\n",
      "Epoch 23/100\n",
      "15/15 [==============================] - 0s 5ms/step - loss: -0.1307 - val_loss: -0.1472\n",
      "Epoch 24/100\n",
      "15/15 [==============================] - 0s 4ms/step - loss: -0.1361 - val_loss: -0.1528\n",
      "Epoch 25/100\n",
      "15/15 [==============================] - 0s 4ms/step - loss: -0.1416 - val_loss: -0.1591\n",
      "Epoch 26/100\n",
      "15/15 [==============================] - 0s 4ms/step - loss: -0.1482 - val_loss: -0.1659\n",
      "Epoch 27/100\n",
      "15/15 [==============================] - 0s 4ms/step - loss: -0.1554 - val_loss: -0.1731\n",
      "Epoch 28/100\n",
      "15/15 [==============================] - 0s 4ms/step - loss: -0.1624 - val_loss: -0.1812\n",
      "Epoch 29/100\n",
      "15/15 [==============================] - 0s 4ms/step - loss: -0.1710 - val_loss: -0.1900\n",
      "Epoch 30/100\n",
      "15/15 [==============================] - 0s 4ms/step - loss: -0.1791 - val_loss: -0.1982\n",
      "Epoch 31/100\n",
      "15/15 [==============================] - 0s 4ms/step - loss: -0.1890 - val_loss: -0.2097\n",
      "Epoch 32/100\n",
      "15/15 [==============================] - 0s 4ms/step - loss: -0.2002 - val_loss: -0.2199\n",
      "Epoch 33/100\n",
      "15/15 [==============================] - 0s 4ms/step - loss: -0.2119 - val_loss: -0.2321\n",
      "Epoch 34/100\n",
      "15/15 [==============================] - 0s 4ms/step - loss: -0.2255 - val_loss: -0.2469\n",
      "Epoch 35/100\n",
      "15/15 [==============================] - 0s 4ms/step - loss: -0.2398 - val_loss: -0.2641\n",
      "Epoch 36/100\n",
      "15/15 [==============================] - 0s 5ms/step - loss: -0.2570 - val_loss: -0.2831\n",
      "Epoch 37/100\n",
      "15/15 [==============================] - 0s 4ms/step - loss: -0.2758 - val_loss: -0.3039\n",
      "Epoch 38/100\n",
      "15/15 [==============================] - 0s 4ms/step - loss: -0.2962 - val_loss: -0.3270\n",
      "Epoch 39/100\n",
      "15/15 [==============================] - 0s 4ms/step - loss: -0.3205 - val_loss: -0.3531\n",
      "Epoch 40/100\n",
      "15/15 [==============================] - 0s 4ms/step - loss: -0.3479 - val_loss: -0.3825\n",
      "Epoch 41/100\n",
      "15/15 [==============================] - 0s 4ms/step - loss: -0.3791 - val_loss: -0.4167\n",
      "Epoch 42/100\n",
      "15/15 [==============================] - 0s 4ms/step - loss: -0.4156 - val_loss: -0.4575\n",
      "Epoch 43/100\n",
      "15/15 [==============================] - 0s 4ms/step - loss: -0.4574 - val_loss: -0.5035\n",
      "Epoch 44/100\n",
      "15/15 [==============================] - 0s 4ms/step - loss: -0.5047 - val_loss: -0.5575\n",
      "Epoch 45/100\n",
      "15/15 [==============================] - 0s 4ms/step - loss: -0.5628 - val_loss: -0.6201\n",
      "Epoch 46/100\n",
      "15/15 [==============================] - 0s 4ms/step - loss: -0.6271 - val_loss: -0.6921\n",
      "Epoch 47/100\n",
      "15/15 [==============================] - 0s 4ms/step - loss: -0.7046 - val_loss: -0.7646\n",
      "Epoch 48/100\n",
      "15/15 [==============================] - 0s 4ms/step - loss: -0.7957 - val_loss: -0.8818\n",
      "Epoch 49/100\n",
      "15/15 [==============================] - 0s 4ms/step - loss: -0.9021 - val_loss: -1.0036\n",
      "Epoch 50/100\n",
      "15/15 [==============================] - 0s 4ms/step - loss: -1.0285 - val_loss: -1.1414\n",
      "Epoch 51/100\n",
      "15/15 [==============================] - 0s 4ms/step - loss: -1.1226 - val_loss: -1.0857\n",
      "Epoch 52/100\n",
      "15/15 [==============================] - 0s 4ms/step - loss: -1.2567 - val_loss: -1.4330\n",
      "Epoch 53/100\n",
      "15/15 [==============================] - 0s 5ms/step - loss: -1.3436 - val_loss: -1.6092\n",
      "Epoch 54/100\n",
      "15/15 [==============================] - 0s 4ms/step - loss: -1.5087 - val_loss: -1.7384\n",
      "Epoch 55/100\n",
      "15/15 [==============================] - 0s 4ms/step - loss: -1.4838 - val_loss: -1.5130\n",
      "Epoch 56/100\n",
      "15/15 [==============================] - 0s 4ms/step - loss: -1.3585 - val_loss: 15.3682\n",
      "Epoch 57/100\n",
      "15/15 [==============================] - 0s 4ms/step - loss: 3.6831 - val_loss: -1.4959\n",
      "Epoch 58/100\n",
      "15/15 [==============================] - 0s 4ms/step - loss: -1.5219 - val_loss: -1.6581\n",
      "Epoch 59/100\n",
      "15/15 [==============================] - 0s 4ms/step - loss: -1.5726 - val_loss: -1.6328\n",
      "Epoch 59: early stopping\n"
     ]
    }
   ],
   "source": [
    "hist = model.fit(x_train, y_train, epochs=100, batch_size=1024, validation_data=(x_test, y_test), callbacks=[es])"
   ]
  },
  {
   "cell_type": "code",
   "execution_count": 35,
   "metadata": {},
   "outputs": [
    {
     "data": {
      "image/png": "[encoded data removed]",
      "text/plain": [
       "<Figure size 640x480 with 1 Axes>"
      ]
     },
     "metadata": {},
     "output_type": "display_data"
    }
   ],
   "source": [
    "plt.plot(hist.history['loss'])\n",
    "plt.plot(hist.history['val_loss'])\n",
    "plt.show()"
   ]
  },
  {
   "cell_type": "code",
   "execution_count": 37,
   "metadata": {},
   "outputs": [
    {
     "name": "stdout",
     "output_type": "stream",
     "text": [
      "625/625 [==============================] - 0s 696us/step\n"
     ]
    }
   ],
   "source": [
    "t_x_pred = model.predict(x)[:,0]"
   ]
  },
  {
   "cell_type": "code",
   "execution_count": 38,
   "metadata": {},
   "outputs": [],
   "source": [
    "t_x_opt = T_opt(x, mu1, mu2, Sigma1, Sigma2)"
   ]
  },
  {
   "cell_type": "code",
   "execution_count": 39,
   "metadata": {},
   "outputs": [
    {
     "data": {
      "image/png": "[encoded data removed]",
      "text/plain": [
       "<Figure size 640x480 with 1 Axes>"
      ]
     },
     "metadata": {},
     "output_type": "display_data"
    }
   ],
   "source": [
    "plt.plot(t_x_opt)\n",
    "plt.plot(t_x_pred)\n",
    "\n",
    "plt.show()"
   ]
  },
  {
   "cell_type": "code",
   "execution_count": 40,
   "metadata": {},
   "outputs": [
    {
     "data": {
      "image/png": "[encoded data removed]",
      "text/plain": [
       "<Figure size 640x480 with 1 Axes>"
      ]
     },
     "metadata": {},
     "output_type": "display_data"
    }
   ],
   "source": [
    "plt.plot(t_x_pred[y==1], t_x_opt[y==1], \"o\", alpha=0.2, markersize=2)\n",
    "plt.plot(t_x_pred[y==0], t_x_opt[y==0], \"o\", alpha=0.2, markersize=2)\n",
    "plt.grid()\n",
    "plt.show()"
   ]
  },
  {
   "cell_type": "code",
   "execution_count": 41,
   "metadata": {},
   "outputs": [
    {
     "data": {
      "image/png": "[encoded data removed]",
      "text/plain": [
       "<Figure size 640x480 with 1 Axes>"
      ]
     },
     "metadata": {},
     "output_type": "display_data"
    }
   ],
   "source": [
    "plt.plot(t_x_pred, t_x_opt, \"o\")\n",
    "plt.show()"
   ]
  },
  {
   "cell_type": "code",
   "execution_count": 42,
   "metadata": {},
   "outputs": [
    {
     "name": "stdout",
     "output_type": "stream",
     "text": [
      "625/625 [==============================] - 0s 688us/step\n",
      "625/625 [==============================] - 0s 721us/step\n"
     ]
    },
    {
     "data": {
      "text/plain": [
       "(1.6133878, 1.614365)"
      ]
     },
     "execution_count": 42,
     "metadata": {},
     "output_type": "execute_result"
    }
   ],
   "source": [
    "t_x_nwj = model.predict(x)\n",
    "t_x_nwj_new = model.predict(x_new)\n",
    "NWJ_fun(y, t_x_nwj), NWJ_fun(y_new, t_x_nwj_new)"
   ]
  },
  {
   "cell_type": "code",
   "execution_count": 43,
   "metadata": {},
   "outputs": [],
   "source": [
    "# new data\n",
    "n_new = 10000\n",
    "x1 = np.random.multivariate_normal(mu1, Sigma1, size=n_new)\n",
    "x2 = np.random.multivariate_normal(mu2, Sigma2, size=n_new)\n",
    "x_new = np.concatenate((x1, x2), axis=0)\n",
    "y_new = np.concatenate((1.0*np.ones(n_new), 0.0*np.zeros(n_new)))"
   ]
  },
  {
   "cell_type": "code",
   "execution_count": 44,
   "metadata": {},
   "outputs": [
    {
     "name": "stdout",
     "output_type": "stream",
     "text": [
      "625/625 [==============================] - 0s 672us/step\n"
     ]
    }
   ],
   "source": [
    "t_x_pred = model.predict(x_new)\n",
    "t_x_pred = t_x_pred[:,0]"
   ]
  },
  {
   "cell_type": "code",
   "execution_count": 45,
   "metadata": {},
   "outputs": [],
   "source": [
    "t_x_opt_new = T_opt(x_new, mu1, mu2, Sigma1, Sigma2)"
   ]
  }
 ],
 "metadata": {
  "colab": {
   "provenance": []
  },
  "kernelspec": {
   "display_name": "Python 3 (ipykernel)",
   "language": "python",
   "name": "python3"
  },
  "language_info": {
   "codemirror_mode": {
    "name": "ipython",
    "version": 3
   },
   "file_extension": ".py",
   "mimetype": "text/x-python",
   "name": "python",
   "nbconvert_exporter": "python",
   "pygments_lexer": "ipython3",
   "version": "3.9.13"
  }
 },
 "nbformat": 4,
 "nbformat_minor": 1
}
