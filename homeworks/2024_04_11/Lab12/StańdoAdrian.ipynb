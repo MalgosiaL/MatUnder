{
 "cells": [
  {
   "cell_type": "markdown",
   "metadata": {},
   "source": [
    "# Mathematical Underpinnings - Lab 7"
   ]
  },
  {
   "cell_type": "code",
   "execution_count": 1,
   "metadata": {
    "ExecuteTime": {
     "end_time": "2024-04-14T15:51:06.782847265Z",
     "start_time": "2024-04-14T15:51:04.848530996Z"
    }
   },
   "outputs": [
    {
     "name": "stderr",
     "output_type": "stream",
     "text": [
      "2024-04-14 17:51:05.043267: I tensorflow/core/platform/cpu_feature_guard.cc:182] This TensorFlow binary is optimized to use available CPU instructions in performance-critical operations.\n",
      "To enable the following instructions: SSE4.1 SSE4.2 AVX AVX2 FMA, in other operations, rebuild TensorFlow with the appropriate compiler flags.\n"
     ]
    }
   ],
   "source": [
    "import tensorflow as tf\n",
    "import keras\n",
    "import numpy as np\n",
    "import matplotlib.pyplot as plt\n",
    "\n",
    "from keras.layers import Input, Dense, Lambda, InputLayer, concatenate\n",
    "from keras.models import Model, Sequential\n",
    "from keras import backend as K\n",
    "from keras import metrics\n",
    "from keras.datasets import mnist\n",
    "from keras.utils import to_categorical\n",
    "\n",
    "from sklearn.model_selection import train_test_split"
   ]
  },
  {
   "cell_type": "code",
   "execution_count": 1,
   "metadata": {
    "ExecuteTime": {
     "end_time": "2024-04-14T15:51:06.785948872Z",
     "start_time": "2024-04-14T15:51:06.780539926Z"
    },
    "collapsed": false,
    "jupyter": {
     "outputs_hidden": false
    }
   },
   "outputs": [],
   "source": []
  },
  {
   "cell_type": "markdown",
   "metadata": {},
   "source": [
    "## Task 1\n",
    "\n",
    "### a)"
   ]
  },
  {
   "cell_type": "code",
   "execution_count": 2,
   "metadata": {
    "ExecuteTime": {
     "end_time": "2024-04-14T15:51:06.788824979Z",
     "start_time": "2024-04-14T15:51:06.780763995Z"
    }
   },
   "outputs": [],
   "source": [
    "def KL_mult_normal(mu1, mu2, Sigma1, Sigma2):\n",
    "    # the formula is here: https://statproofbook.github.io/P/mvn-kl.html\n",
    "    return (np.dot(mu2-mu1, np.dot(np.linalg.inv(Sigma2), mu2 - mu1)) + np.sum(np.diag(np.dot(np.linalg.inv(Sigma2), Sigma1))) \\\n",
    "            - np.log(np.linalg.det(Sigma1)/np.linalg.det(Sigma2)) - mu1.shape[0])/2"
   ]
  },
  {
   "cell_type": "code",
   "execution_count": 3,
   "metadata": {
    "ExecuteTime": {
     "end_time": "2024-04-14T15:51:06.850785220Z",
     "start_time": "2024-04-14T15:51:06.780869687Z"
    }
   },
   "outputs": [],
   "source": [
    "def T_opt(x, mu1, mu2, Sigma1, Sigma2):\n",
    "    # compute log(p(x)/q(x)), where p and q are multivariate normal with parameters mu1, Sigma1 and mu2, Sigma2 respectively\n",
    "    # density of multivariate normal distribution is e.g. here: https://en.wikipedia.org/wiki/Multivariate_normal_distribution\n",
    "    res = np.zeros(x.shape[0])\n",
    "    for i in range(x.shape[0]):\n",
    "        ft = -np.log(np.linalg.det(Sigma1))/2 - np.dot(np.dot(np.linalg.inv(Sigma1), (x[i,:] - mu1)), x[i,:] - mu1)/2\n",
    "        st = np.log(np.linalg.det(Sigma2))/2 + np.dot(np.dot(np.linalg.inv(Sigma2), x[i,:] - mu2), x[i,:] - mu2)/2\n",
    "        res[i] = ft+st\n",
    "    return res"
   ]
  },
  {
   "cell_type": "code",
   "execution_count": 3,
   "metadata": {
    "ExecuteTime": {
     "end_time": "2024-04-14T15:51:06.852490782Z",
     "start_time": "2024-04-14T15:51:06.836063469Z"
    },
    "collapsed": false,
    "jupyter": {
     "outputs_hidden": false
    }
   },
   "outputs": [],
   "source": []
  },
  {
   "cell_type": "markdown",
   "metadata": {},
   "source": [
    "### b)"
   ]
  },
  {
   "cell_type": "code",
   "execution_count": 4,
   "metadata": {
    "ExecuteTime": {
     "end_time": "2024-04-14T15:51:06.934053871Z",
     "start_time": "2024-04-14T15:51:06.839616256Z"
    }
   },
   "outputs": [],
   "source": [
    "# sample n = 10000 observations out of np.random.multivariate_normal(mu1, Sigma1, size=n)\n",
    "# and sample n = 10000 observations out of np.random.multivariate_normal(mu2, Sigma2, size=n)\n",
    "# then concatenate the two matrices (your final x is a matrix 2n x 5)\n",
    "# then create a vector y that will have n ones and n zeros (of size 2n)"
   ]
  },
  {
   "cell_type": "code",
   "execution_count": 5,
   "metadata": {
    "ExecuteTime": {
     "end_time": "2024-04-14T15:51:07.282942857Z",
     "start_time": "2024-04-14T15:51:06.934821900Z"
    },
    "collapsed": false,
    "jupyter": {
     "outputs_hidden": false
    }
   },
   "outputs": [],
   "source": [
    "np.random.seed(123)"
   ]
  },
  {
   "cell_type": "code",
   "execution_count": 6,
   "metadata": {
    "ExecuteTime": {
     "end_time": "2024-04-14T15:51:07.342797873Z",
     "start_time": "2024-04-14T15:51:07.262787991Z"
    },
    "collapsed": false,
    "jupyter": {
     "outputs_hidden": false
    }
   },
   "outputs": [],
   "source": [
    "mu1 = np.array([0.2, 0.2, 0.2, 0, 0])\n",
    "ro1 = 0.1\n",
    "Sigma1 = np.array([[1, ro1, ro1, ro1, ro1],\n",
    "                    [ro1, 1, ro1, ro1, ro1],\n",
    "                    [ro1, ro1, 1, ro1, ro1],\n",
    "                    [ro1, ro1, ro1, 1, ro1],\n",
    "                    [ro1, ro1, ro1, ro1, 1]])"
   ]
  },
  {
   "cell_type": "code",
   "execution_count": 7,
   "metadata": {
    "ExecuteTime": {
     "end_time": "2024-04-14T15:51:07.425888588Z",
     "start_time": "2024-04-14T15:51:07.344662989Z"
    },
    "collapsed": false,
    "jupyter": {
     "outputs_hidden": false
    }
   },
   "outputs": [],
   "source": [
    "mu2 = np.array([0, 0, 0.2, 0.2, 0.2])\n",
    "ro2 = -0.2\n",
    "Sigma2 = np.array([[1, ro2, ro2, ro2, ro2],\n",
    "                   [ro2, 1, ro2, ro2, ro2],\n",
    "                   [ro2, ro2, 1, ro2, ro2],\n",
    "                   [ro2, ro2, ro2, 1, ro2],\n",
    "                   [ro2, ro2, ro2, ro2, 1]])"
   ]
  },
  {
   "cell_type": "code",
   "execution_count": 8,
   "metadata": {
    "ExecuteTime": {
     "end_time": "2024-04-14T15:51:07.530175099Z",
     "start_time": "2024-04-14T15:51:07.431815240Z"
    },
    "collapsed": false,
    "jupyter": {
     "outputs_hidden": false
    }
   },
   "outputs": [],
   "source": [
    "X = np.concatenate(\n",
    "    [np.random.multivariate_normal(mu1, Sigma1, size=10000), \n",
    "     np.random.multivariate_normal(mu2, Sigma2, size=10000)]\n",
    ")\n",
    "Y = np.concatenate([1.0 * np.ones(10000), 0.0 * np.zeros(10000)])"
   ]
  },
  {
   "cell_type": "code",
   "execution_count": 9,
   "metadata": {
    "ExecuteTime": {
     "end_time": "2024-04-14T15:51:07.608364906Z",
     "start_time": "2024-04-14T15:51:07.531650683Z"
    }
   },
   "outputs": [],
   "source": [
    "def DV_fun(y, t):\n",
    "    # y - an indicator [y[i]=1 if t[i] corresponds to x sampled from the distribution p, y[i]=0 otherwise]\n",
    "    # t a vector (of the same length as y) t = log(p(x)/q(x))\n",
    "    n1 = np.sum(y)\n",
    "    n2 = np.sum(1 - y)\n",
    "    first_term = np.sum(t * y) / n1\n",
    "    second_term = np.log(np.sum(np.exp(t) * (1 - y)) / n2)\n",
    "    return first_term - second_term"
   ]
  },
  {
   "cell_type": "code",
   "execution_count": 10,
   "metadata": {
    "ExecuteTime": {
     "end_time": "2024-04-14T15:51:07.691771008Z",
     "start_time": "2024-04-14T15:51:07.608917717Z"
    }
   },
   "outputs": [
    {
     "data": {
      "text/plain": [
       "2.169075737042573"
      ]
     },
     "execution_count": 10,
     "metadata": {},
     "output_type": "execute_result"
    }
   ],
   "source": [
    "KL_mult_normal(mu1, mu2, Sigma1, Sigma2)"
   ]
  },
  {
   "cell_type": "code",
   "execution_count": 11,
   "metadata": {
    "ExecuteTime": {
     "end_time": "2024-04-14T15:51:08.799654982Z",
     "start_time": "2024-04-14T15:51:07.690754246Z"
    }
   },
   "outputs": [
    {
     "data": {
      "text/plain": [
       "2.0462300003059717"
      ]
     },
     "execution_count": 11,
     "metadata": {},
     "output_type": "execute_result"
    }
   ],
   "source": [
    "DV_fun(Y, T_opt(X, mu1, mu2, Sigma1, Sigma2))"
   ]
  },
  {
   "cell_type": "code",
   "execution_count": 11,
   "metadata": {
    "ExecuteTime": {
     "end_time": "2024-04-14T15:51:08.805147448Z",
     "start_time": "2024-04-14T15:51:08.799760110Z"
    },
    "collapsed": false,
    "jupyter": {
     "outputs_hidden": false
    }
   },
   "outputs": [],
   "source": []
  },
  {
   "cell_type": "markdown",
   "metadata": {},
   "source": [
    "### c)"
   ]
  },
  {
   "cell_type": "code",
   "execution_count": 12,
   "metadata": {
    "ExecuteTime": {
     "end_time": "2024-04-14T15:51:08.817484595Z",
     "start_time": "2024-04-14T15:51:08.802043459Z"
    }
   },
   "outputs": [],
   "source": [
    "def DV_loss(y_true, T_x):\n",
    "    n1 = tf.math.reduce_sum(y_true)\n",
    "    n2 = tf.math.reduce_sum(tf.subtract(tf.convert_to_tensor(1.0), y_true))\n",
    "    first_term = tf.math.reduce_sum(tf.math.multiply(T_x, y_true))/n1\n",
    "    second_term = tf.math.log(tf.math.reduce_sum(tf.math.multiply(tf.math.exp(T_x), tf.subtract(tf.convert_to_tensor(1.0), y_true)))/n2)\n",
    "    return -(first_term - second_term) "
   ]
  },
  {
   "cell_type": "code",
   "execution_count": 12,
   "metadata": {
    "ExecuteTime": {
     "end_time": "2024-04-14T15:51:08.819524187Z",
     "start_time": "2024-04-14T15:51:08.808812882Z"
    },
    "collapsed": false,
    "jupyter": {
     "outputs_hidden": false
    }
   },
   "outputs": [],
   "source": []
  },
  {
   "cell_type": "markdown",
   "metadata": {},
   "source": [
    "### d)"
   ]
  },
  {
   "cell_type": "code",
   "execution_count": 13,
   "metadata": {
    "ExecuteTime": {
     "end_time": "2024-04-14T15:51:09.010995052Z",
     "start_time": "2024-04-14T15:51:08.813171520Z"
    }
   },
   "outputs": [
    {
     "name": "stderr",
     "output_type": "stream",
     "text": [
      "2024-04-14 17:51:08.922977: I tensorflow/core/common_runtime/process_util.cc:146] Creating new thread pool with default inter op setting: 2. Tune using inter_op_parallelism_threads for best performance.\n"
     ]
    }
   ],
   "source": [
    "model_inputs = keras.Input(shape=(5))\n",
    "layer_out = Dense(64, activation='softplus')(model_inputs)\n",
    "#layer_out = Dense(125, activation='tanh')(layer_out)\n",
    "layer_out = Dense(64)(layer_out)\n",
    "model_outputs = Dense(1)(layer_out)\n",
    "model = keras.Model(model_inputs, model_outputs)\n",
    "\n",
    "optimizer = keras.optimizers.SGD(learning_rate=1e-2)\n",
    "es = tf.keras.callbacks.EarlyStopping(monitor='val_loss', mode='min', verbose=1, patience=5)\n",
    "model.compile(optimizer=optimizer, loss=DV_loss)"
   ]
  },
  {
   "cell_type": "code",
   "execution_count": 14,
   "metadata": {
    "ExecuteTime": {
     "end_time": "2024-04-14T15:51:09.068818078Z",
     "start_time": "2024-04-14T15:51:09.011178444Z"
    }
   },
   "outputs": [],
   "source": [
    "x_train, x_test, y_train, y_test = train_test_split(X, Y, test_size=0.25)"
   ]
  },
  {
   "cell_type": "code",
   "execution_count": 15,
   "metadata": {
    "ExecuteTime": {
     "end_time": "2024-04-14T15:51:31.671406832Z",
     "start_time": "2024-04-14T15:51:09.052615705Z"
    }
   },
   "outputs": [
    {
     "name": "stdout",
     "output_type": "stream",
     "text": [
      "Epoch 1/100\n",
      "15/15 [==============================] - 1s 47ms/step - loss: 0.0113 - val_loss: -0.0189\n",
      "Epoch 2/100\n",
      "15/15 [==============================] - 0s 29ms/step - loss: -0.0272 - val_loss: -0.0469\n",
      "Epoch 3/100\n",
      "15/15 [==============================] - 0s 23ms/step - loss: -0.0503 - val_loss: -0.0631\n",
      "Epoch 4/100\n",
      "15/15 [==============================] - 0s 20ms/step - loss: -0.0640 - val_loss: -0.0732\n",
      "Epoch 5/100\n",
      "15/15 [==============================] - 0s 17ms/step - loss: -0.0734 - val_loss: -0.0795\n",
      "Epoch 6/100\n",
      "15/15 [==============================] - 0s 17ms/step - loss: -0.0792 - val_loss: -0.0839\n",
      "Epoch 7/100\n",
      "15/15 [==============================] - 0s 17ms/step - loss: -0.0848 - val_loss: -0.0873\n",
      "Epoch 8/100\n",
      "15/15 [==============================] - 0s 18ms/step - loss: -0.0886 - val_loss: -0.0902\n",
      "Epoch 9/100\n",
      "15/15 [==============================] - 0s 21ms/step - loss: -0.0927 - val_loss: -0.0929\n",
      "Epoch 10/100\n",
      "15/15 [==============================] - 1s 43ms/step - loss: -0.0958 - val_loss: -0.0955\n",
      "Epoch 11/100\n",
      "15/15 [==============================] - 0s 20ms/step - loss: -0.0995 - val_loss: -0.0980\n",
      "Epoch 12/100\n",
      "15/15 [==============================] - 0s 29ms/step - loss: -0.1027 - val_loss: -0.1006\n",
      "Epoch 13/100\n",
      "15/15 [==============================] - 0s 17ms/step - loss: -0.1060 - val_loss: -0.1034\n",
      "Epoch 14/100\n",
      "15/15 [==============================] - 0s 22ms/step - loss: -0.1096 - val_loss: -0.1062\n",
      "Epoch 15/100\n",
      "15/15 [==============================] - 0s 27ms/step - loss: -0.1129 - val_loss: -0.1090\n",
      "Epoch 16/100\n",
      "15/15 [==============================] - 0s 27ms/step - loss: -0.1167 - val_loss: -0.1122\n",
      "Epoch 17/100\n",
      "15/15 [==============================] - 0s 21ms/step - loss: -0.1201 - val_loss: -0.1153\n",
      "Epoch 18/100\n",
      "15/15 [==============================] - 0s 26ms/step - loss: -0.1247 - val_loss: -0.1188\n",
      "Epoch 19/100\n",
      "15/15 [==============================] - 0s 26ms/step - loss: -0.1280 - val_loss: -0.1225\n",
      "Epoch 20/100\n",
      "15/15 [==============================] - 0s 14ms/step - loss: -0.1321 - val_loss: -0.1263\n",
      "Epoch 21/100\n",
      "15/15 [==============================] - 0s 18ms/step - loss: -0.1366 - val_loss: -0.1305\n",
      "Epoch 22/100\n",
      "15/15 [==============================] - 0s 16ms/step - loss: -0.1414 - val_loss: -0.1350\n",
      "Epoch 23/100\n",
      "15/15 [==============================] - 0s 22ms/step - loss: -0.1466 - val_loss: -0.1396\n",
      "Epoch 24/100\n",
      "15/15 [==============================] - 1s 39ms/step - loss: -0.1519 - val_loss: -0.1446\n",
      "Epoch 25/100\n",
      "15/15 [==============================] - 0s 16ms/step - loss: -0.1577 - val_loss: -0.1500\n",
      "Epoch 26/100\n",
      "15/15 [==============================] - 0s 15ms/step - loss: -0.1638 - val_loss: -0.1559\n",
      "Epoch 27/100\n",
      "15/15 [==============================] - 0s 17ms/step - loss: -0.1707 - val_loss: -0.1621\n",
      "Epoch 28/100\n",
      "15/15 [==============================] - 0s 15ms/step - loss: -0.1779 - val_loss: -0.1691\n",
      "Epoch 29/100\n",
      "15/15 [==============================] - 0s 17ms/step - loss: -0.1856 - val_loss: -0.1767\n",
      "Epoch 30/100\n",
      "15/15 [==============================] - 0s 18ms/step - loss: -0.1936 - val_loss: -0.1850\n",
      "Epoch 31/100\n",
      "15/15 [==============================] - 0s 20ms/step - loss: -0.2028 - val_loss: -0.1939\n",
      "Epoch 32/100\n",
      "15/15 [==============================] - 0s 28ms/step - loss: -0.2127 - val_loss: -0.2037\n",
      "Epoch 33/100\n",
      "15/15 [==============================] - 0s 25ms/step - loss: -0.2238 - val_loss: -0.2145\n",
      "Epoch 34/100\n",
      "15/15 [==============================] - 0s 16ms/step - loss: -0.2355 - val_loss: -0.2265\n",
      "Epoch 35/100\n",
      "15/15 [==============================] - 0s 27ms/step - loss: -0.2494 - val_loss: -0.2399\n",
      "Epoch 36/100\n",
      "15/15 [==============================] - 0s 27ms/step - loss: -0.2646 - val_loss: -0.2545\n",
      "Epoch 37/100\n",
      "15/15 [==============================] - 0s 20ms/step - loss: -0.2802 - val_loss: -0.2711\n",
      "Epoch 38/100\n",
      "15/15 [==============================] - 0s 21ms/step - loss: -0.2992 - val_loss: -0.2899\n",
      "Epoch 39/100\n",
      "15/15 [==============================] - 0s 26ms/step - loss: -0.3196 - val_loss: -0.3111\n",
      "Epoch 40/100\n",
      "15/15 [==============================] - 0s 30ms/step - loss: -0.3432 - val_loss: -0.3351\n",
      "Epoch 41/100\n",
      "15/15 [==============================] - 0s 18ms/step - loss: -0.3697 - val_loss: -0.3622\n",
      "Epoch 42/100\n",
      "15/15 [==============================] - 0s 13ms/step - loss: -0.3994 - val_loss: -0.3933\n",
      "Epoch 43/100\n",
      "15/15 [==============================] - 0s 29ms/step - loss: -0.4339 - val_loss: -0.4290\n",
      "Epoch 44/100\n",
      "15/15 [==============================] - 0s 22ms/step - loss: -0.4747 - val_loss: -0.4705\n",
      "Epoch 45/100\n",
      "15/15 [==============================] - 0s 15ms/step - loss: -0.5208 - val_loss: -0.5191\n",
      "Epoch 46/100\n",
      "15/15 [==============================] - 0s 31ms/step - loss: -0.5752 - val_loss: -0.5760\n",
      "Epoch 47/100\n",
      "15/15 [==============================] - 0s 23ms/step - loss: -0.6364 - val_loss: -0.6422\n",
      "Epoch 48/100\n",
      "15/15 [==============================] - 0s 19ms/step - loss: -0.7121 - val_loss: -0.7189\n",
      "Epoch 49/100\n",
      "15/15 [==============================] - 1s 39ms/step - loss: -0.7992 - val_loss: -0.8122\n",
      "Epoch 50/100\n",
      "15/15 [==============================] - 0s 20ms/step - loss: -0.9038 - val_loss: -0.9219\n",
      "Epoch 51/100\n",
      "15/15 [==============================] - 0s 15ms/step - loss: -1.0254 - val_loss: -1.0489\n",
      "Epoch 52/100\n",
      "15/15 [==============================] - 0s 23ms/step - loss: -1.1706 - val_loss: -1.1993\n",
      "Epoch 53/100\n",
      "15/15 [==============================] - 0s 26ms/step - loss: -1.3368 - val_loss: -1.3626\n",
      "Epoch 54/100\n",
      "15/15 [==============================] - 0s 20ms/step - loss: -1.5198 - val_loss: -1.5294\n",
      "Epoch 55/100\n",
      "15/15 [==============================] - 0s 24ms/step - loss: -1.7209 - val_loss: -1.6961\n",
      "Epoch 56/100\n",
      "15/15 [==============================] - 0s 29ms/step - loss: -1.9027 - val_loss: -1.8277\n",
      "Epoch 57/100\n",
      "15/15 [==============================] - 0s 20ms/step - loss: -2.0624 - val_loss: -1.8357\n",
      "Epoch 58/100\n",
      "15/15 [==============================] - 0s 21ms/step - loss: -2.1703 - val_loss: -1.9009\n",
      "Epoch 59/100\n",
      "15/15 [==============================] - 0s 22ms/step - loss: -2.2455 - val_loss: -1.9251\n",
      "Epoch 60/100\n",
      "15/15 [==============================] - 0s 21ms/step - loss: -2.2765 - val_loss: -1.8863\n",
      "Epoch 61/100\n",
      "15/15 [==============================] - 0s 29ms/step - loss: -2.3010 - val_loss: -1.7356\n",
      "Epoch 62/100\n",
      "15/15 [==============================] - 0s 25ms/step - loss: -2.3069 - val_loss: -1.8827\n",
      "Epoch 63/100\n",
      "15/15 [==============================] - 0s 18ms/step - loss: -2.2915 - val_loss: -1.6718\n",
      "Epoch 64/100\n",
      "15/15 [==============================] - 0s 18ms/step - loss: -2.3851 - val_loss: -1.8639\n",
      "Epoch 64: early stopping\n"
     ]
    }
   ],
   "source": [
    "hist = model.fit(x_train, y_train, epochs=100, batch_size=1024, validation_data=(x_test, y_test), callbacks=[es])"
   ]
  },
  {
   "cell_type": "code",
   "execution_count": 16,
   "metadata": {
    "ExecuteTime": {
     "end_time": "2024-04-14T15:51:32.024104999Z",
     "start_time": "2024-04-14T15:51:31.643931951Z"
    }
   },
   "outputs": [
    {
     "data": {
      "image/png": "[encoded data removed]",
      "text/plain": [
       "<Figure size 640x480 with 1 Axes>"
      ]
     },
     "metadata": {},
     "output_type": "display_data"
    }
   ],
   "source": [
    "plt.plot(hist.history['loss'], label='loss')\n",
    "plt.plot(hist.history['val_loss'], label='val_loss')\n",
    "plt.legend()\n",
    "plt.show()"
   ]
  },
  {
   "cell_type": "code",
   "execution_count": 16,
   "metadata": {
    "ExecuteTime": {
     "end_time": "2024-04-14T15:51:32.024310964Z",
     "start_time": "2024-04-14T15:51:31.954013831Z"
    },
    "collapsed": false,
    "jupyter": {
     "outputs_hidden": false
    }
   },
   "outputs": [],
   "source": []
  },
  {
   "cell_type": "markdown",
   "metadata": {},
   "source": [
    "### e)"
   ]
  },
  {
   "cell_type": "code",
   "execution_count": 17,
   "metadata": {
    "ExecuteTime": {
     "end_time": "2024-04-14T15:51:34.589465730Z",
     "start_time": "2024-04-14T15:51:31.996680538Z"
    }
   },
   "outputs": [
    {
     "name": "stdout",
     "output_type": "stream",
     "text": [
      "625/625 [==============================] - 2s 3ms/step\n"
     ]
    }
   ],
   "source": [
    "t_x_pred = model.predict(X)[:, 0]"
   ]
  },
  {
   "cell_type": "code",
   "execution_count": 18,
   "metadata": {
    "ExecuteTime": {
     "end_time": "2024-04-14T15:51:35.459844267Z",
     "start_time": "2024-04-14T15:51:34.583677877Z"
    }
   },
   "outputs": [],
   "source": [
    "t_x_opt = T_opt(X, mu1, mu2, Sigma1, Sigma2)"
   ]
  },
  {
   "cell_type": "code",
   "execution_count": 19,
   "metadata": {
    "ExecuteTime": {
     "end_time": "2024-04-14T15:51:35.738001432Z",
     "start_time": "2024-04-14T15:51:35.472840594Z"
    }
   },
   "outputs": [
    {
     "data": {
      "image/png": "[encoded data removed]",
      "text/plain": [
       "<Figure size 640x480 with 1 Axes>"
      ]
     },
     "metadata": {},
     "output_type": "display_data"
    }
   ],
   "source": [
    "plt.plot(t_x_opt)\n",
    "plt.plot(t_x_pred)\n",
    "\n",
    "plt.show()"
   ]
  },
  {
   "cell_type": "code",
   "execution_count": 20,
   "metadata": {
    "ExecuteTime": {
     "end_time": "2024-04-14T15:51:35.934580403Z",
     "start_time": "2024-04-14T15:51:35.742483437Z"
    }
   },
   "outputs": [
    {
     "data": {
      "image/png": "[encoded data removed]",
      "text/plain": [
       "<Figure size 640x480 with 1 Axes>"
      ]
     },
     "metadata": {},
     "output_type": "display_data"
    }
   ],
   "source": [
    "plt.plot(t_x_pred, t_x_opt, \"o\")\n",
    "plt.show()"
   ]
  },
  {
   "cell_type": "code",
   "execution_count": 21,
   "metadata": {
    "ExecuteTime": {
     "end_time": "2024-04-14T15:51:35.939094722Z",
     "start_time": "2024-04-14T15:51:35.935173291Z"
    }
   },
   "outputs": [
    {
     "data": {
      "text/plain": [
       "1.9558496395587586"
      ]
     },
     "execution_count": 21,
     "metadata": {},
     "output_type": "execute_result"
    }
   ],
   "source": [
    "DV_fun(Y, t_x_pred)"
   ]
  },
  {
   "cell_type": "code",
   "execution_count": 22,
   "metadata": {
    "ExecuteTime": {
     "end_time": "2024-04-14T15:51:36.044598276Z",
     "start_time": "2024-04-14T15:51:35.939580338Z"
    }
   },
   "outputs": [
    {
     "data": {
      "text/plain": [
       "2.0462300003059717"
      ]
     },
     "execution_count": 22,
     "metadata": {},
     "output_type": "execute_result"
    }
   ],
   "source": [
    "DV_fun(Y, t_x_opt)"
   ]
  },
  {
   "cell_type": "code",
   "execution_count": 23,
   "metadata": {
    "ExecuteTime": {
     "end_time": "2024-04-14T15:51:38.133605938Z",
     "start_time": "2024-04-14T15:51:36.040347996Z"
    }
   },
   "outputs": [
    {
     "name": "stdout",
     "output_type": "stream",
     "text": [
      "625/625 [==============================] - 2s 3ms/step\n"
     ]
    },
    {
     "data": {
      "text/plain": [
       "(2.0690763831403434, 2.0462300003059717)"
      ]
     },
     "execution_count": 23,
     "metadata": {},
     "output_type": "execute_result"
    }
   ],
   "source": [
    "# new data\n",
    "np.random.seed(42)\n",
    "X_new = np.concatenate(\n",
    "    [np.random.multivariate_normal(mu1, Sigma1, size=10000), \n",
    "     np.random.multivariate_normal(mu2, Sigma2, size=10000)]\n",
    ")\n",
    "Y_new = np.concatenate([1.0 * np.ones(10000), 0.0 * np.zeros(10000)])\n",
    "\n",
    "t_x_pred_new = model.predict(X_new)[:, 0]\n",
    "\n",
    "DV_fun(Y, t_x_pred_new), DV_fun(Y, t_x_opt)"
   ]
  },
  {
   "cell_type": "code",
   "execution_count": 23,
   "metadata": {
    "ExecuteTime": {
     "end_time": "2024-04-14T15:51:38.137537895Z",
     "start_time": "2024-04-14T15:51:38.133444967Z"
    },
    "collapsed": false,
    "jupyter": {
     "outputs_hidden": false
    }
   },
   "outputs": [],
   "source": []
  },
  {
   "cell_type": "code",
   "execution_count": 23,
   "metadata": {
    "ExecuteTime": {
     "end_time": "2024-04-14T15:51:38.140792381Z",
     "start_time": "2024-04-14T15:51:38.136191292Z"
    },
    "collapsed": false,
    "jupyter": {
     "outputs_hidden": false
    }
   },
   "outputs": [],
   "source": []
  },
  {
   "cell_type": "markdown",
   "metadata": {},
   "source": [
    "### f)"
   ]
  },
  {
   "cell_type": "code",
   "execution_count": 24,
   "metadata": {
    "ExecuteTime": {
     "end_time": "2024-04-14T15:51:38.152923173Z",
     "start_time": "2024-04-14T15:51:38.141228534Z"
    }
   },
   "outputs": [],
   "source": [
    "def NWJ_loss(y_true, T_x):\n",
    "    n1 = tf.math.reduce_sum(y_true)\n",
    "    n2 = tf.math.reduce_sum(tf.subtract(tf.convert_to_tensor(1.0), y_true))\n",
    "    first_term = tf.math.reduce_sum(tf.math.multiply(T_x, y_true)) / n1\n",
    "    second_term = (\n",
    "            tf.math.reduce_sum(\n",
    "                tf.math.multiply(\n",
    "                    tf.math.exp(tf.subtract(T_x, tf.convert_to_tensor(1.0))),\n",
    "                    tf.subtract(tf.convert_to_tensor(1.0), y_true),\n",
    "                )\n",
    "            )\n",
    "            / n2\n",
    "    )\n",
    "    return -(first_term - second_term)"
   ]
  },
  {
   "cell_type": "code",
   "execution_count": 25,
   "metadata": {
    "ExecuteTime": {
     "end_time": "2024-04-14T15:51:38.259803325Z",
     "start_time": "2024-04-14T15:51:38.143205413Z"
    },
    "collapsed": false,
    "jupyter": {
     "outputs_hidden": false
    }
   },
   "outputs": [],
   "source": [
    "def NWJ_fun(y, t):\n",
    "    return np.mean(t[y == 1]) - np.mean(np.exp(t[y == 0] - 1))"
   ]
  },
  {
   "cell_type": "code",
   "execution_count": 27,
   "metadata": {
    "ExecuteTime": {
     "end_time": "2024-04-14T15:51:59.588533706Z",
     "start_time": "2024-04-14T15:51:59.513520791Z"
    },
    "collapsed": false,
    "jupyter": {
     "outputs_hidden": false
    }
   },
   "outputs": [],
   "source": [
    "model_inputs = keras.Input(shape=(5))\n",
    "layer_out = Dense(64, activation='softplus')(model_inputs)\n",
    "# layer_out = Dense(125, activation='tanh')(layer_out)\n",
    "# layer_out = Dense(64)(layer_out)\n",
    "model_outputs = Dense(1)(layer_out)\n",
    "model = keras.Model(model_inputs, model_outputs)\n",
    "\n",
    "optimizer = keras.optimizers.Adam(learning_rate=1e-3)\n",
    "es = tf.keras.callbacks.EarlyStopping(monitor='val_loss', mode='min', verbose=1, patience=5)\n",
    "model.compile(optimizer=optimizer, loss = NWJ_loss)"
   ]
  },
  {
   "cell_type": "code",
   "execution_count": 28,
   "metadata": {
    "ExecuteTime": {
     "end_time": "2024-04-14T15:52:01.013267891Z",
     "start_time": "2024-04-14T15:52:00.969897400Z"
    },
    "collapsed": false,
    "jupyter": {
     "outputs_hidden": false
    }
   },
   "outputs": [],
   "source": [
    "x_train, x_test, y_train, y_test = train_test_split(X, Y, test_size=0.25)"
   ]
  },
  {
   "cell_type": "code",
   "execution_count": 29,
   "metadata": {
    "ExecuteTime": {
     "end_time": "2024-04-14T15:52:15.337589997Z",
     "start_time": "2024-04-14T15:52:01.705854204Z"
    },
    "collapsed": false,
    "jupyter": {
     "outputs_hidden": false
    }
   },
   "outputs": [
    {
     "name": "stdout",
     "output_type": "stream",
     "text": [
      "Epoch 1/100\n",
      "15/15 [==============================] - 1s 28ms/step - loss: 0.2664 - val_loss: 0.0449\n",
      "Epoch 2/100\n",
      "15/15 [==============================] - 0s 14ms/step - loss: -0.0265 - val_loss: -0.0601\n",
      "Epoch 3/100\n",
      "15/15 [==============================] - 0s 18ms/step - loss: -0.0620 - val_loss: -0.0717\n",
      "Epoch 4/100\n",
      "15/15 [==============================] - 0s 18ms/step - loss: -0.0794 - val_loss: -0.0845\n",
      "Epoch 5/100\n",
      "15/15 [==============================] - 0s 14ms/step - loss: -0.0884 - val_loss: -0.0931\n",
      "Epoch 6/100\n",
      "15/15 [==============================] - 0s 14ms/step - loss: -0.0983 - val_loss: -0.1020\n",
      "Epoch 7/100\n",
      "15/15 [==============================] - 0s 17ms/step - loss: -0.1083 - val_loss: -0.1124\n",
      "Epoch 8/100\n",
      "15/15 [==============================] - 0s 17ms/step - loss: -0.1195 - val_loss: -0.1233\n",
      "Epoch 9/100\n",
      "15/15 [==============================] - 0s 14ms/step - loss: -0.1312 - val_loss: -0.1350\n",
      "Epoch 10/100\n",
      "15/15 [==============================] - 0s 13ms/step - loss: -0.1447 - val_loss: -0.1499\n",
      "Epoch 11/100\n",
      "15/15 [==============================] - 0s 14ms/step - loss: -0.1592 - val_loss: -0.1641\n",
      "Epoch 12/100\n",
      "15/15 [==============================] - 0s 15ms/step - loss: -0.1767 - val_loss: -0.1815\n",
      "Epoch 13/100\n",
      "15/15 [==============================] - 0s 12ms/step - loss: -0.1958 - val_loss: -0.2016\n",
      "Epoch 14/100\n",
      "15/15 [==============================] - 0s 12ms/step - loss: -0.2170 - val_loss: -0.2238\n",
      "Epoch 15/100\n",
      "15/15 [==============================] - 0s 14ms/step - loss: -0.2420 - val_loss: -0.2493\n",
      "Epoch 16/100\n",
      "15/15 [==============================] - 0s 10ms/step - loss: -0.2703 - val_loss: -0.2791\n",
      "Epoch 17/100\n",
      "15/15 [==============================] - 0s 16ms/step - loss: -0.3022 - val_loss: -0.3132\n",
      "Epoch 18/100\n",
      "15/15 [==============================] - 0s 15ms/step - loss: -0.3389 - val_loss: -0.3510\n",
      "Epoch 19/100\n",
      "15/15 [==============================] - 0s 17ms/step - loss: -0.3815 - val_loss: -0.3951\n",
      "Epoch 20/100\n",
      "15/15 [==============================] - 0s 18ms/step - loss: -0.4294 - val_loss: -0.4450\n",
      "Epoch 21/100\n",
      "15/15 [==============================] - 0s 14ms/step - loss: -0.4843 - val_loss: -0.5026\n",
      "Epoch 22/100\n",
      "15/15 [==============================] - 0s 14ms/step - loss: -0.5463 - val_loss: -0.5681\n",
      "Epoch 23/100\n",
      "15/15 [==============================] - 0s 13ms/step - loss: -0.6165 - val_loss: -0.6414\n",
      "Epoch 24/100\n",
      "15/15 [==============================] - 0s 19ms/step - loss: -0.6967 - val_loss: -0.7257\n",
      "Epoch 25/100\n",
      "15/15 [==============================] - 0s 12ms/step - loss: -0.7879 - val_loss: -0.8185\n",
      "Epoch 26/100\n",
      "15/15 [==============================] - 0s 11ms/step - loss: -0.8866 - val_loss: -0.9231\n",
      "Epoch 27/100\n",
      "15/15 [==============================] - 0s 10ms/step - loss: -0.9951 - val_loss: -1.0383\n",
      "Epoch 28/100\n",
      "15/15 [==============================] - 0s 18ms/step - loss: -1.1118 - val_loss: -1.1621\n",
      "Epoch 29/100\n",
      "15/15 [==============================] - 0s 11ms/step - loss: -1.2413 - val_loss: -1.2923\n",
      "Epoch 30/100\n",
      "15/15 [==============================] - 0s 16ms/step - loss: -1.3712 - val_loss: -1.4271\n",
      "Epoch 31/100\n",
      "15/15 [==============================] - 0s 15ms/step - loss: -1.4986 - val_loss: -1.5598\n",
      "Epoch 32/100\n",
      "15/15 [==============================] - 0s 20ms/step - loss: -1.6178 - val_loss: -1.6883\n",
      "Epoch 33/100\n",
      "15/15 [==============================] - 0s 14ms/step - loss: -1.7265 - val_loss: -1.7943\n",
      "Epoch 34/100\n",
      "15/15 [==============================] - 0s 14ms/step - loss: -1.7985 - val_loss: -1.8706\n",
      "Epoch 35/100\n",
      "15/15 [==============================] - 0s 14ms/step - loss: -1.8600 - val_loss: -1.9528\n",
      "Epoch 36/100\n",
      "15/15 [==============================] - 0s 14ms/step - loss: -1.8924 - val_loss: -2.0110\n",
      "Epoch 37/100\n",
      "15/15 [==============================] - 0s 17ms/step - loss: -1.9553 - val_loss: -2.0276\n",
      "Epoch 38/100\n",
      "15/15 [==============================] - 0s 19ms/step - loss: -1.9631 - val_loss: -2.0696\n",
      "Epoch 39/100\n",
      "15/15 [==============================] - 0s 11ms/step - loss: -1.9804 - val_loss: -2.0780\n",
      "Epoch 40/100\n",
      "15/15 [==============================] - 0s 13ms/step - loss: -2.0098 - val_loss: -2.0749\n",
      "Epoch 41/100\n",
      "15/15 [==============================] - 0s 17ms/step - loss: -1.9974 - val_loss: -2.1024\n",
      "Epoch 42/100\n",
      "15/15 [==============================] - 0s 11ms/step - loss: -2.0282 - val_loss: -2.0905\n",
      "Epoch 43/100\n",
      "15/15 [==============================] - 0s 13ms/step - loss: -2.0296 - val_loss: -2.1180\n",
      "Epoch 44/100\n",
      "15/15 [==============================] - 0s 17ms/step - loss: -2.0249 - val_loss: -2.1190\n",
      "Epoch 45/100\n",
      "15/15 [==============================] - 0s 12ms/step - loss: -2.0345 - val_loss: -2.1343\n",
      "Epoch 46/100\n",
      "15/15 [==============================] - 0s 12ms/step - loss: -2.0563 - val_loss: -2.0965\n",
      "Epoch 47/100\n",
      "15/15 [==============================] - 0s 14ms/step - loss: -2.0327 - val_loss: -2.1342\n",
      "Epoch 48/100\n",
      "15/15 [==============================] - 0s 14ms/step - loss: -2.0356 - val_loss: -2.1179\n",
      "Epoch 49/100\n",
      "15/15 [==============================] - 0s 12ms/step - loss: -2.0508 - val_loss: -2.1395\n",
      "Epoch 50/100\n",
      "15/15 [==============================] - 0s 16ms/step - loss: -2.0504 - val_loss: -2.1409\n",
      "Epoch 51/100\n",
      "15/15 [==============================] - 0s 15ms/step - loss: -2.0692 - val_loss: -2.1415\n",
      "Epoch 52/100\n",
      "15/15 [==============================] - 0s 19ms/step - loss: -2.0253 - val_loss: -2.1541\n",
      "Epoch 53/100\n",
      "15/15 [==============================] - 0s 18ms/step - loss: -2.0671 - val_loss: -2.1041\n",
      "Epoch 54/100\n",
      "15/15 [==============================] - 0s 18ms/step - loss: -2.0584 - val_loss: -2.1434\n",
      "Epoch 55/100\n",
      "15/15 [==============================] - 0s 15ms/step - loss: -2.0659 - val_loss: -2.1381\n",
      "Epoch 56/100\n",
      "15/15 [==============================] - 0s 15ms/step - loss: -2.0719 - val_loss: -2.1287\n",
      "Epoch 57/100\n",
      "15/15 [==============================] - 0s 14ms/step - loss: -2.0746 - val_loss: -2.1418\n",
      "Epoch 57: early stopping\n"
     ]
    }
   ],
   "source": [
    "hist = model.fit(x_train, y_train, epochs=100, batch_size=1024, validation_data=(x_test, y_test), callbacks=[es])"
   ]
  },
  {
   "cell_type": "code",
   "execution_count": 30,
   "metadata": {
    "ExecuteTime": {
     "end_time": "2024-04-14T15:52:35.932149376Z",
     "start_time": "2024-04-14T15:52:35.748981700Z"
    }
   },
   "outputs": [
    {
     "data": {
      "image/png": "[encoded data removed]",
      "text/plain": [
       "<Figure size 640x480 with 1 Axes>"
      ]
     },
     "metadata": {},
     "output_type": "display_data"
    }
   ],
   "source": [
    "plt.plot(hist.history['loss'], label='loss')\n",
    "plt.plot(hist.history['val_loss'], label='val_loss')\n",
    "plt.legend()\n",
    "plt.show()"
   ]
  },
  {
   "cell_type": "code",
   "execution_count": 30,
   "metadata": {
    "ExecuteTime": {
     "end_time": "2024-04-14T15:52:38.017339751Z",
     "start_time": "2024-04-14T15:52:37.979745956Z"
    },
    "collapsed": false,
    "jupyter": {
     "outputs_hidden": false
    }
   },
   "outputs": [],
   "source": []
  },
  {
   "cell_type": "code",
   "execution_count": 31,
   "metadata": {
    "ExecuteTime": {
     "end_time": "2024-04-14T15:52:42.111615470Z",
     "start_time": "2024-04-14T15:52:38.754808739Z"
    },
    "collapsed": false,
    "jupyter": {
     "outputs_hidden": false
    }
   },
   "outputs": [
    {
     "name": "stdout",
     "output_type": "stream",
     "text": [
      "625/625 [==============================] - 2s 3ms/step\n"
     ]
    },
    {
     "data": {
      "image/png": "[encoded data removed]",
      "text/plain": [
       "<Figure size 640x480 with 1 Axes>"
      ]
     },
     "metadata": {},
     "output_type": "display_data"
    }
   ],
   "source": [
    "t_x_pred = model.predict(X)[:, 0]\n",
    "t_x_opt = T_opt(X, mu1, mu2, Sigma1, Sigma2)\n",
    "\n",
    "plt.plot(t_x_opt)\n",
    "plt.plot(t_x_pred)\n",
    "plt.show()"
   ]
  },
  {
   "cell_type": "code",
   "execution_count": 32,
   "metadata": {
    "ExecuteTime": {
     "end_time": "2024-04-14T15:52:43.707917963Z",
     "start_time": "2024-04-14T15:52:43.657007138Z"
    },
    "collapsed": false,
    "jupyter": {
     "outputs_hidden": false
    }
   },
   "outputs": [
    {
     "data": {
      "text/plain": [
       "(2.0995107, 1.7473387277077386)"
      ]
     },
     "execution_count": 32,
     "metadata": {},
     "output_type": "execute_result"
    }
   ],
   "source": [
    "NWJ_fun(Y, t_x_pred), NWJ_fun(Y, t_x_opt)"
   ]
  },
  {
   "cell_type": "code",
   "execution_count": 32,
   "metadata": {
    "ExecuteTime": {
     "end_time": "2024-04-14T15:52:45.476721221Z",
     "start_time": "2024-04-14T15:52:45.417956397Z"
    },
    "collapsed": false,
    "jupyter": {
     "outputs_hidden": false
    }
   },
   "outputs": [],
   "source": []
  },
  {
   "cell_type": "code",
   "execution_count": 33,
   "metadata": {
    "ExecuteTime": {
     "end_time": "2024-04-14T15:52:49.719095943Z",
     "start_time": "2024-04-14T15:52:46.820943196Z"
    },
    "collapsed": false,
    "jupyter": {
     "outputs_hidden": false
    }
   },
   "outputs": [
    {
     "name": "stdout",
     "output_type": "stream",
     "text": [
      "625/625 [==============================] - 1s 2ms/step\n"
     ]
    },
    {
     "data": {
      "text/plain": [
       "(2.0597851, 1.9293933483299632)"
      ]
     },
     "execution_count": 33,
     "metadata": {},
     "output_type": "execute_result"
    }
   ],
   "source": [
    "t_x_pred = model.predict(X_new)[:, 0]\n",
    "t_x_opt = T_opt(X_new, mu1, mu2, Sigma1, Sigma2)\n",
    "\n",
    "NWJ_fun(Y_new, t_x_pred), NWJ_fun(Y_new, t_x_opt)"
   ]
  },
  {
   "cell_type": "code",
   "execution_count": null,
   "metadata": {
    "ExecuteTime": {
     "start_time": "2024-04-14T15:51:39.016724386Z"
    },
    "collapsed": false,
    "jupyter": {
     "outputs_hidden": false
    }
   },
   "outputs": [],
   "source": []
  },
  {
   "cell_type": "code",
   "execution_count": null,
   "metadata": {
    "ExecuteTime": {
     "start_time": "2024-04-14T15:51:39.016766667Z"
    },
    "collapsed": false,
    "jupyter": {
     "outputs_hidden": false
    }
   },
   "outputs": [],
   "source": []
  }
 ],
 "metadata": {
  "kernelspec": {
   "display_name": "Python 3 (ipykernel)",
   "language": "python",
   "name": "python3"
  },
  "language_info": {
   "codemirror_mode": {
    "name": "ipython",
    "version": 3
   },
   "file_extension": ".py",
   "mimetype": "text/x-python",
   "name": "python",
   "nbconvert_exporter": "python",
   "pygments_lexer": "ipython3",
   "version": "3.11.5"
  }
 },
 "nbformat": 4,
 "nbformat_minor": 4
}
