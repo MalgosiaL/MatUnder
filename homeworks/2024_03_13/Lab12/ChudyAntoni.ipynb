{
 "cells": [
  {
   "cell_type": "markdown",
   "metadata": {},
   "source": [
    "# Mathematical Underpinnings - Lab 3"
   ]
  },
  {
   "cell_type": "markdown",
   "metadata": {},
   "source": [
    "  - A set $S_n = \\{x_1, x_2, \\ldots, x_n\\}$ is **shattered** by a class $\\mathcal{C}$ (or $\\mathcal{C}$ shatters $S_n$) if $|\\{S_n \\cap c: c \\in \\mathcal{C}\\}| = 2^n$.\n",
    "\n",
    "  - **Shattering coefficient** of $\\mathcal{C}$ is a number such that $\\mathcal{S}_{\\mathcal{C}}(n) = \\max_{S_n} |\\{S_n \\cap c: c \\in \\mathcal{C}\\}|$.\n",
    "\n",
    "  - **Vapnik–Chervonenkis** dimension of $\\mathcal{C}$ is $VC(\\mathcal{C}) = \\min_n \\{n: \\mathcal{S}_{\\mathcal{C}}(n) < 2^n\\}$.\n",
    "\n",
    "*What to do if we have a class of functions $\\mathcal{F}$ instead of a set of subsets $\\mathcal{C}$*\n",
    "\n",
    "  - **Subgraph** of a function $f$ is defined as $\\textrm{Subgraph}(f) = \\{x: f(x) \\leq 0\\}$.\n",
    "\n",
    "  - Then $\\mathcal{C}$ from the above definitions is defined as $\\mathcal{C} = \\{\\textrm{Subgraph}(f): f \\in \\mathcal{F}\\}$\n",
    "\n",
    "  - **Example** for linear decision boundaries in $\\mathbb{R}^2$: \n",
    "  \n",
    "      A function: $f_b(x) = f_b(x^{1}, x^{2}) = b^{0} + b^{1}x^{1} + b^{2}x^{2}$\n",
    "      \n",
    "      A hyperplane (in $\\mathbb{R}^2$ a line): $f_b(x^{1}, x^{2}) = b^{0} + b^{1}x^{1} + b^{2}x^{2} = 0$\n",
    "\n",
    "      $\\textrm{Subgraph}(f_b) = \\{\\textrm{A half space bounded by a hyperplane given above}\\}$\n",
    "\n",
    "      A family of functions: $\\mathcal{F} = \\{f_b: b \\in \\mathbb{R}^3\\}$\n",
    "  \n",
    "      $\\mathcal{C} = \\{\\textrm{All half spaces separated by all hyperplanes}\\}$"
   ]
  },
  {
   "cell_type": "markdown",
   "metadata": {},
   "source": [
    "## Task 1\n",
    "\n",
    "### a)\n",
    "\n",
    "Facts from the lecture:\n",
    "\n",
    "  - If $\\mathcal{F}_{a,b} = \\{f: f(x) = a'x +b\\}$ (a family of linear functions in $\\mathbb{R}^d$), then $VC(\\mathcal{F}_{a,b}) \\leq d+2$.\n",
    "  - If $\\mathcal{F}_{a,b} = \\{f: f(x) = a'x +b\\}$ (a family of linear functions in $\\mathbb{R}^d$), then $VC(\\mathcal{F}_{a,b}) = d+1$.\n",
    "\n",
    "Of course the second implies the first fact, but both are given as proving inequality is simpler (and we repeat what exactly was on the lecture).\n",
    "\n",
    "\n",
    "*Pictures on paper*"
   ]
  },
  {
   "cell_type": "markdown",
   "metadata": {},
   "source": [
    "### b)"
   ]
  },
  {
   "cell_type": "code",
   "execution_count": 12,
   "metadata": {},
   "outputs": [],
   "source": [
    "from sklearn.svm import SVC\n",
    "from itertools import combinations\n",
    "from itertools import permutations\n",
    "from itertools import product\n",
    "import numpy as np\n",
    "import matplotlib.pyplot as plt\n",
    "from sklearn import svm\n",
    "from sklearn import tree"
   ]
  },
  {
   "cell_type": "code",
   "execution_count": 26,
   "metadata": {},
   "outputs": [],
   "source": [
    "# S_n is an array (n) x (d). In rows are point in R^d and there are n of them\n",
    "def is_shattered(S):\n",
    "    d = S.shape[1]\n",
    "    n = S.shape[0]\n",
    "    for i in range(1,n): \n",
    "        for j in combinations(np.arange(n),i):\n",
    "            y = np.zeros(n)\n",
    "            y[list(j)] = 1\n",
    "            svc = svm.SVC(C=10000, shrinking=False, kernel='linear', tol=1e-4)\n",
    "            if svc.fit(S, y).score(S, y) != 1:\n",
    "                return False\n",
    "    return True"
   ]
  },
  {
   "cell_type": "code",
   "execution_count": 28,
   "metadata": {},
   "outputs": [
    {
     "data": {
      "text/plain": [
       "True"
      ]
     },
     "execution_count": 28,
     "metadata": {},
     "output_type": "execute_result"
    }
   ],
   "source": [
    "df = np.array([[5,8],[1,3],[2,5]])\n",
    "is_shattered(df)"
   ]
  },
  {
   "cell_type": "markdown",
   "metadata": {},
   "source": [
    "### c)"
   ]
  },
  {
   "cell_type": "code",
   "execution_count": 42,
   "metadata": {},
   "outputs": [],
   "source": [
    "# there should be 2^n = 2^4 = 16 pictures \n",
    "# (or 8 if you don't differentiate class swithes, \n",
    "# or 8-1=7 if you don't take into account the case in which all observations belongs to one class)"
   ]
  },
  {
   "cell_type": "code",
   "execution_count": 43,
   "metadata": {},
   "outputs": [
    {
     "data": {
      "text/plain": [
       "array([[ 0.70106272, -0.25547604],\n",
       "       [-0.10504279, -0.7420331 ],\n",
       "       [-0.06443415, -0.1628657 ],\n",
       "       [-0.51487259, -0.26496976]])"
      ]
     },
     "execution_count": 43,
     "metadata": {},
     "output_type": "execute_result"
    }
   ],
   "source": [
    "S = np.random.randn(8).reshape(4,2)\n",
    "S"
   ]
  },
  {
   "cell_type": "code",
   "execution_count": 45,
   "metadata": {},
   "outputs": [
    {
     "data": {
      "text/plain": [
       "<matplotlib.collections.PathCollection at 0x1a97e3d1be0>"
      ]
     },
     "execution_count": 45,
     "metadata": {},
     "output_type": "execute_result"
    },
    {
     "data": {
      "image/png": "[encoded data removed]",
      "text/plain": [
       "<Figure size 432x288 with 16 Axes>"
      ]
     },
     "metadata": {
      "needs_background": "light"
     },
     "output_type": "display_data"
    }
   ],
   "source": [
    "S = np.random.randn(8).reshape(4,2)\n",
    "k = 1\n",
    "plt.subplot(4,4,k)\n",
    "for i in range(4):\n",
    "    for j in combinations(np.arange(4),i):\n",
    "        y = np.zeros(4)\n",
    "        y[list(j)] = 1\n",
    "        plt.subplot(4,4,k)\n",
    "        k += 1\n",
    "        plt.scatter(S[:,0], S[:,1], c= y)\n",
    "plt.subplot(4,4,k)\n",
    "plt.scatter(S[:,0], S[:,1], c= \"yellow\")"
   ]
  },
  {
   "cell_type": "markdown",
   "metadata": {},
   "source": [
    "### d)"
   ]
  },
  {
   "cell_type": "code",
   "execution_count": 54,
   "metadata": {},
   "outputs": [],
   "source": [
    "VC = np.zeros(9)\n",
    "for d in range(2,11):\n",
    "    ns = np.arange(d + 2 - 3, d + 2 + 4)\n",
    "    for n in ns:\n",
    "        if n > 0:\n",
    "            stop = 0\n",
    "            for i in range(50):\n",
    "                S = np.random.randn(d*n).reshape(n,d)\n",
    "                if is_shattered(S):\n",
    "                    VC[d-2] = n + 1\n",
    "                    stop = 1\n",
    "                    break\n",
    "            if stop == 0:\n",
    "                break"
   ]
  },
  {
   "cell_type": "code",
   "execution_count": 55,
   "metadata": {},
   "outputs": [
    {
     "data": {
      "text/plain": [
       "array([ 4.,  5.,  6.,  7.,  8.,  9., 10., 11., 12.])"
      ]
     },
     "execution_count": 55,
     "metadata": {},
     "output_type": "execute_result"
    }
   ],
   "source": [
    "VC"
   ]
  },
  {
   "cell_type": "markdown",
   "metadata": {},
   "source": [
    "### e)"
   ]
  },
  {
   "cell_type": "code",
   "execution_count": null,
   "metadata": {},
   "outputs": [],
   "source": [
    "# A hint: change a kernel in SVM"
   ]
  }
 ],
 "metadata": {
  "kernelspec": {
   "display_name": "Python 3 (ipykernel)",
   "language": "python",
   "name": "python3"
  },
  "language_info": {
   "codemirror_mode": {
    "name": "ipython",
    "version": 3
   },
   "file_extension": ".py",
   "mimetype": "text/x-python",
   "name": "python",
   "nbconvert_exporter": "python",
   "pygments_lexer": "ipython3",
   "version": "3.9.12"
  }
 },
 "nbformat": 4,
 "nbformat_minor": 2
}
