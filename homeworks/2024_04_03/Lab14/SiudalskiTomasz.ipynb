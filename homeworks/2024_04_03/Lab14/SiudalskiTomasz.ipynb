{
 "cells": [
  {
   "cell_type": "markdown",
   "metadata": {},
   "source": [
    "# Mathematical Underpinnings - Lab 6"
   ]
  },
  {
   "cell_type": "code",
   "execution_count": 1,
   "metadata": {},
   "outputs": [],
   "source": [
    "from sklearn.metrics import mutual_info_score\n",
    "import numpy as np\n",
    "import matplotlib.pyplot as plt\n",
    "import seaborn as sns\n",
    "import pandas as pd\n",
    "from tqdm import tqdm"
   ]
  },
  {
   "cell_type": "markdown",
   "metadata": {},
   "source": [
    "## Useful functions"
   ]
  },
  {
   "cell_type": "code",
   "execution_count": 2,
   "metadata": {},
   "outputs": [],
   "source": [
    "def discetize_2bins(X):\n",
    "    X_discrete = 1*(X >= 0)\n",
    "    return X_discrete"
   ]
  },
  {
   "cell_type": "code",
   "execution_count": 3,
   "metadata": {},
   "outputs": [],
   "source": [
    "def conditional_permutation(X, Z):\n",
    "\n",
    "    z_values = np.unique(Z)\n",
    "    n_z_values = len(z_values)\n",
    "    n = len(Z)\n",
    "\n",
    "    X_b = np.zeros(n)\n",
    "\n",
    "    for i in range(n_z_values):\n",
    "\n",
    "        z_value_tmp = z_values[i]\n",
    "\n",
    "        X_b[Z == z_value_tmp] = np.random.permutation(X[Z == z_value_tmp])\n",
    "\n",
    "    return X_b"
   ]
  },
  {
   "cell_type": "code",
   "execution_count": 4,
   "metadata": {},
   "outputs": [],
   "source": [
    "def conditional_mutual_information(X, Y, Z):\n",
    "\n",
    "    z_values = np.unique(Z)\n",
    "    n_z_values = len(z_values)\n",
    "    n = len(Z)\n",
    "\n",
    "    cmi = 0\n",
    "\n",
    "    for i in range(n_z_values):\n",
    "\n",
    "        z_value_tmp = z_values[i]\n",
    "        z_condition = (Z == z_value_tmp)\n",
    "\n",
    "        X_z = X[z_condition]\n",
    "        Y_z = Y[z_condition]\n",
    "\n",
    "        mi_XY_z = mutual_info_score(X_z, Y_z)\n",
    "        p_z = np.sum(z_condition)/n\n",
    "\n",
    "        cmi += p_z*mi_XY_z\n",
    "\n",
    "    return cmi"
   ]
  },
  {
   "cell_type": "code",
   "execution_count": 5,
   "metadata": {},
   "outputs": [],
   "source": [
    "# II(X;Y;Z)\n",
    "def interaction_information(X, Y, Z):\n",
    "    return conditional_mutual_information(X, Y, Z) - mutual_info_score(X, Y)"
   ]
  },
  {
   "cell_type": "code",
   "execution_count": 6,
   "metadata": {},
   "outputs": [],
   "source": [
    "# II(X;Y;Z1;Z2)\n",
    "def interaction_information2(X, Y, Z1, Z2):\n",
    "    Z_1_and_2 = 2*Z2 + Z1\n",
    "    return interaction_information(X, Y, Z_1_and_2) - interaction_information(X, Y, Z1) - interaction_information(X, Y, Z2)"
   ]
  },
  {
   "cell_type": "markdown",
   "metadata": {},
   "source": [
    "## Task 1"
   ]
  },
  {
   "cell_type": "code",
   "execution_count": 7,
   "metadata": {},
   "outputs": [],
   "source": [
    "def secmi2(X, Y, Z):    \n",
    "    inter_info_sum = 0\n",
    "    for i in range(Z.shape[1]):\n",
    "        inter_info_sum += interaction_information(X, Y, Z[:, i])\n",
    "    \n",
    "    return mutual_info_score(X, Y) + inter_info_sum"
   ]
  },
  {
   "cell_type": "code",
   "execution_count": 8,
   "metadata": {},
   "outputs": [],
   "source": [
    "def secmi3(X, Y, Z):\n",
    "    inter2_info_sum = 0\n",
    "    for i in range(Z.shape[1]):\n",
    "        for j in range(i+1, Z.shape[1]):\n",
    "            inter2_info_sum += interaction_information2(X, Y, Z[:, i], Z[:, j])\n",
    "    return secmi2(X, Y, Z) + inter2_info_sum"
   ]
  },
  {
   "cell_type": "markdown",
   "metadata": {},
   "source": [
    "### a)"
   ]
  },
  {
   "cell_type": "code",
   "execution_count": 9,
   "metadata": {},
   "outputs": [],
   "source": [
    "def cond_indep_test_permutation(X, Y, Z, B, stat):\n",
    "\n",
    "    n_col_Z = Z.shape[1]\n",
    "    Z_1dim = np.dot(Z, 2**np.linspace(0, n_col_Z-1, n_col_Z))\n",
    "\n",
    "    if stat == \"cmi\":\n",
    "        stat_value = conditional_mutual_information(X, Y, Z_1dim)\n",
    "    if stat == \"secmi2\":\n",
    "        stat_value = secmi2(X, Y, Z)\n",
    "    if stat == \"secmi3\":\n",
    "        stat_value = secmi3(X, Y, Z)\n",
    "\n",
    "    condition_p_value = 0\n",
    "    for b in range(B):\n",
    "        X_b = conditional_permutation(X, Z_1dim)\n",
    "\n",
    "        if stat == \"cmi\":\n",
    "            stat_value_b = conditional_mutual_information(X_b, Y, Z_1dim)\n",
    "        if stat == \"secmi2\":\n",
    "            stat_value_b = secmi2(X_b, Y, Z)\n",
    "        if stat == \"secmi3\":\n",
    "            stat_value_b = secmi3(X_b, Y, Z)\n",
    "\n",
    "        if stat_value <= stat_value_b:\n",
    "            condition_p_value += 1\n",
    "\n",
    "    p_value = (1 + condition_p_value)/(1 + B)\n",
    "\n",
    "    return 2*len(X)*stat_value, p_value"
   ]
  },
  {
   "cell_type": "markdown",
   "metadata": {},
   "source": [
    "### b)"
   ]
  },
  {
   "cell_type": "code",
   "execution_count": 10,
   "metadata": {},
   "outputs": [],
   "source": [
    "def generate_sample(num_samples):\n",
    "    n = num_samples\n",
    "\n",
    "    Y = discetize_2bins(np.random.standard_normal(n))\n",
    "\n",
    "    Z1 = discetize_2bins(np.random.standard_normal(n) + Y)\n",
    "    Z2 = discetize_2bins(np.random.standard_normal(n) + Y)\n",
    "    Z3 = discetize_2bins(np.random.standard_normal(n) + Y)\n",
    "\n",
    "    X = discetize_2bins(np.random.standard_normal(n) + Z1)\n",
    "\n",
    "    return X, Y, Z1, Z2, Z3"
   ]
  },
  {
   "cell_type": "markdown",
   "metadata": {},
   "source": [
    "#### Test 1"
   ]
  },
  {
   "cell_type": "code",
   "execution_count": 11,
   "metadata": {},
   "outputs": [
    {
     "name": "stderr",
     "output_type": "stream",
     "text": [
      "100%|██████████| 100/100 [01:42<00:00,  1.02s/it]"
     ]
    },
    {
     "name": "stdout",
     "output_type": "stream",
     "text": [
      "CMI rejection rate: 0.04\n",
      "SECMI2 rejection rate: 0.04\n",
      "SECMI3 rejection rate: 0.02\n"
     ]
    },
    {
     "name": "stderr",
     "output_type": "stream",
     "text": [
      "\n"
     ]
    }
   ],
   "source": [
    "rejected_cmi = 0\n",
    "rejected_secmi2 = 0\n",
    "rejected_secmi3 = 0\n",
    "\n",
    "for i in tqdm(range(100), total=100):\n",
    "    X, Y, Z1, Z2, Z3 = generate_sample(1000)\n",
    "    Z_1_2 = np.array([Z1, Z2]).T\n",
    "    if cond_indep_test_permutation(X, Y, Z_1_2, B=50, stat=\"cmi\")[1] < 0.05:\n",
    "        rejected_cmi += 1\n",
    "    if cond_indep_test_permutation(X, Y, Z_1_2, B=50, stat=\"secmi2\")[1] < 0.05:\n",
    "        rejected_secmi2 += 1\n",
    "    if cond_indep_test_permutation(X, Y, Z_1_2, B=50, stat=\"secmi3\")[1] < 0.05:\n",
    "        rejected_secmi3 += 1\n",
    "\n",
    "print(f\"CMI rejection rate: {rejected_cmi/100}\")\n",
    "print(f\"SECMI2 rejection rate: {rejected_secmi2/100}\")\n",
    "print(f\"SECMI3 rejection rate: {rejected_secmi3/100}\")"
   ]
  },
  {
   "cell_type": "markdown",
   "metadata": {},
   "source": [
    "#### Test 2"
   ]
  },
  {
   "cell_type": "code",
   "execution_count": 12,
   "metadata": {},
   "outputs": [
    {
     "name": "stderr",
     "output_type": "stream",
     "text": [
      "100%|██████████| 100/100 [01:40<00:00,  1.00s/it]"
     ]
    },
    {
     "name": "stdout",
     "output_type": "stream",
     "text": [
      "CMI rejection rate: 0.8\n",
      "SECMI2 rejection rate: 0.85\n",
      "SECMI3 rejection rate: 0.82\n"
     ]
    },
    {
     "name": "stderr",
     "output_type": "stream",
     "text": [
      "\n"
     ]
    }
   ],
   "source": [
    "rejected_cmi = 0\n",
    "rejected_secmi2 = 0\n",
    "rejected_secmi3 = 0\n",
    "\n",
    "for i in tqdm(range(100), total=100):\n",
    "    X, Y, Z1, Z2, Z3 = generate_sample(1000)\n",
    "    Z_2_3 = np.array([Z2, Z3]).T\n",
    "    if cond_indep_test_permutation(X, Y, Z_2_3, B=50, stat=\"cmi\")[1] < 0.05:\n",
    "        rejected_cmi += 1\n",
    "    if cond_indep_test_permutation(X, Y, Z_2_3, B=50, stat=\"secmi2\")[1] < 0.05:\n",
    "        rejected_secmi2 += 1\n",
    "    if cond_indep_test_permutation(X, Y, Z_2_3, B=50, stat=\"secmi3\")[1] < 0.05:\n",
    "        rejected_secmi3 += 1\n",
    "\n",
    "print(f\"CMI rejection rate: {rejected_cmi/100}\")\n",
    "print(f\"SECMI2 rejection rate: {rejected_secmi2/100}\")\n",
    "print(f\"SECMI3 rejection rate: {rejected_secmi3/100}\")"
   ]
  },
  {
   "cell_type": "markdown",
   "metadata": {},
   "source": [
    "### c)"
   ]
  },
  {
   "cell_type": "code",
   "execution_count": 13,
   "metadata": {},
   "outputs": [],
   "source": [
    "def generate_sample_2(num_samples=1000):\n",
    "    n = num_samples\n",
    "\n",
    "    X = np.random.binomial(1, 0.5, n)\n",
    "    Z1 = np.random.binomial(1, 0.5, n)\n",
    "    Z2 = np.random.binomial(1, 0.5, n)\n",
    "    Z3 = np.random.binomial(1, 0.5, n)\n",
    "\n",
    "    M = (X + Z1 + Z2) % 2\n",
    "\n",
    "    ind_0 = np.where(M == 0)[0]\n",
    "    ind_1 = np.where(M == 1)[0]\n",
    "\n",
    "    Y = np.zeros(n)\n",
    "    Y[ind_0] = np.random.binomial(1, 0.2, len(ind_0))\n",
    "    Y[ind_1] = np.random.binomial(1, 0.8, len(ind_1))\n",
    "\n",
    "    return X, Y, Z1, Z2, Z3"
   ]
  },
  {
   "cell_type": "markdown",
   "metadata": {},
   "source": [
    "#### Test 1"
   ]
  },
  {
   "cell_type": "code",
   "execution_count": 14,
   "metadata": {},
   "outputs": [
    {
     "name": "stderr",
     "output_type": "stream",
     "text": [
      "100%|██████████| 100/100 [01:44<00:00,  1.04s/it]"
     ]
    },
    {
     "name": "stdout",
     "output_type": "stream",
     "text": [
      "CMI rejection rate: 1.0\n",
      "SECMI2 rejection rate: 0.0\n",
      "SECMI3 rejection rate: 1.0\n"
     ]
    },
    {
     "name": "stderr",
     "output_type": "stream",
     "text": [
      "\n"
     ]
    }
   ],
   "source": [
    "rejected_cmi = 0\n",
    "rejected_secmi2 = 0\n",
    "rejected_secmi3 = 0\n",
    "\n",
    "for i in tqdm(range(100), total=100):\n",
    "    X, Y, Z1, Z2, Z3 = generate_sample_2(1000)\n",
    "    Z_1_2 = np.array([Z1, Z2]).T\n",
    "    if cond_indep_test_permutation(X, Y, Z_1_2, B=50, stat=\"cmi\")[1] < 0.05:\n",
    "        rejected_cmi += 1\n",
    "    if cond_indep_test_permutation(X, Y, Z_1_2, B=50, stat=\"secmi2\")[1] < 0.05:\n",
    "        rejected_secmi2 += 1\n",
    "    if cond_indep_test_permutation(X, Y, Z_1_2, B=50, stat=\"secmi3\")[1] < 0.05:\n",
    "        rejected_secmi3 += 1\n",
    "\n",
    "print(f\"CMI rejection rate: {rejected_cmi/100}\")\n",
    "print(f\"SECMI2 rejection rate: {rejected_secmi2/100}\")\n",
    "print(f\"SECMI3 rejection rate: {rejected_secmi3/100}\")"
   ]
  },
  {
   "cell_type": "markdown",
   "metadata": {},
   "source": [
    "#### Test 2"
   ]
  },
  {
   "cell_type": "code",
   "execution_count": 15,
   "metadata": {},
   "outputs": [
    {
     "name": "stderr",
     "output_type": "stream",
     "text": [
      "100%|██████████| 100/100 [01:43<00:00,  1.03s/it]"
     ]
    },
    {
     "name": "stdout",
     "output_type": "stream",
     "text": [
      "CMI rejection rate: 0.02\n",
      "SECMI2 rejection rate: 0.02\n",
      "SECMI3 rejection rate: 0.03\n"
     ]
    },
    {
     "name": "stderr",
     "output_type": "stream",
     "text": [
      "\n"
     ]
    }
   ],
   "source": [
    "rejected_cmi = 0\n",
    "rejected_secmi2 = 0\n",
    "rejected_secmi3 = 0\n",
    "\n",
    "for i in tqdm(range(100), total=100):\n",
    "    X, Y, Z1, Z2, Z3 = generate_sample_2(1000)\n",
    "    Z_2_3 = np.array([Z2, Z3]).T\n",
    "    if cond_indep_test_permutation(X, Y, Z_2_3, B=50, stat=\"cmi\")[1] < 0.05:\n",
    "        rejected_cmi += 1\n",
    "    if cond_indep_test_permutation(X, Y, Z_2_3, B=50, stat=\"secmi2\")[1] < 0.05:\n",
    "        rejected_secmi2 += 1\n",
    "    if cond_indep_test_permutation(X, Y, Z_2_3, B=50, stat=\"secmi3\")[1] < 0.05:\n",
    "        rejected_secmi3 += 1\n",
    "\n",
    "print(f\"CMI rejection rate: {rejected_cmi/100}\")\n",
    "print(f\"SECMI2 rejection rate: {rejected_secmi2/100}\")\n",
    "print(f\"SECMI3 rejection rate: {rejected_secmi3/100}\")"
   ]
  },
  {
   "cell_type": "markdown",
   "metadata": {},
   "source": [
    "## Task 2\n",
    " \n",
    "in R"
   ]
  }
 ],
 "metadata": {
  "kernelspec": {
   "display_name": "Python 3 (ipykernel)",
   "language": "python",
   "name": "python3"
  },
  "language_info": {
   "codemirror_mode": {
    "name": "ipython",
    "version": 3
   },
   "file_extension": ".py",
   "mimetype": "text/x-python",
   "name": "python",
   "nbconvert_exporter": "python",
   "pygments_lexer": "ipython3",
   "version": "3.11.6"
  }
 },
 "nbformat": 4,
 "nbformat_minor": 4
}
