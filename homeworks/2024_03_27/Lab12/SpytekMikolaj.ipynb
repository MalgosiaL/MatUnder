{
 "cells": [
  {
   "cell_type": "code",
   "execution_count": 1,
   "metadata": {},
   "outputs": [],
   "source": [
    "from sklearn.metrics import mutual_info_score\n",
    "#from sklearn.feature_selection import chi2\n",
    "from scipy.stats import chi2_contingency\n",
    "from scipy.stats import chi2\n",
    "import numpy as np\n",
    "import matplotlib.pyplot as plt\n",
    "from scipy.stats import gaussian_kde, pearsonr\n",
    "import seaborn as sns\n",
    "import pandas as pd\n",
    "from copy import copy"
   ]
  },
  {
   "cell_type": "markdown",
   "metadata": {},
   "source": [
    "# Mathematical Underpinnings - Lab 5"
   ]
  },
  {
   "cell_type": "markdown",
   "metadata": {},
   "source": [
    "Tests to verify hipoteses of independence (from Lab 4):"
   ]
  },
  {
   "cell_type": "code",
   "execution_count": 2,
   "metadata": {},
   "outputs": [],
   "source": [
    "def indep_test_asymptotic(X, Y, stat):\n",
    "\n",
    "    if stat == \"mi\":\n",
    "        stat_value = 2 * len(X) * mutual_info_score(X, Y)\n",
    "\n",
    "    if stat == \"chi2\":\n",
    "        test_res = chi2_contingency(pd.crosstab(X, Y))\n",
    "        stat_value = test_res.statistic\n",
    "\n",
    "    df = (len(np.unique(X)) - 1) * (len(np.unique(Y)) - 1)\n",
    "\n",
    "    p_value = 1 - chi2.cdf(stat_value, df=df)\n",
    "\n",
    "    return stat_value, p_value\n",
    "\n",
    "\n",
    "def indep_test_permutation(X, Y, B, stat=\"mi\"):\n",
    "\n",
    "    stat_value = mutual_info_score(X, Y)\n",
    "\n",
    "    X = X.copy()\n",
    "    Y = Y.copy()\n",
    "\n",
    "    condition_p_value = 0\n",
    "    for b in range(B):\n",
    "        X_b = np.random.permutation(X)\n",
    "\n",
    "        stat_value_b = mutual_info_score(X_b, Y)\n",
    "\n",
    "        if stat_value <= stat_value_b:\n",
    "            condition_p_value += 1\n",
    "\n",
    "    p_value = (1 + condition_p_value) / (1 + B)\n",
    "\n",
    "    return stat_value, p_value"
   ]
  },
  {
   "cell_type": "markdown",
   "metadata": {},
   "source": [
    "## Task 1"
   ]
  },
  {
   "cell_type": "code",
   "execution_count": 3,
   "metadata": {},
   "outputs": [],
   "source": [
    "# a function which computes CMI\n",
    "def CMI(X, Y, Z):\n",
    "    mi = 0\n",
    "\n",
    "    for z in np.unique(Z):\n",
    "\n",
    "        X_z = X[Z == z]\n",
    "        Y_z = Y[Z == z]\n",
    "\n",
    "        mi += mutual_info_score(X_z, Y_z) * len(X_z) / len(X)\n",
    "\n",
    "    return mi"
   ]
  },
  {
   "cell_type": "markdown",
   "metadata": {},
   "source": [
    "### a)"
   ]
  },
  {
   "cell_type": "code",
   "execution_count": 4,
   "metadata": {},
   "outputs": [],
   "source": [
    "# CI test based on CMI and asymptotics\n",
    "def cond_indep_test_asymptotic(X, Y, Z, stat=\"cmi\"):\n",
    "\n",
    "    X = X.copy()\n",
    "    Y = Y.copy()\n",
    "    Z = Z.copy()\n",
    "\n",
    "    if stat == \"cmi\":\n",
    "\n",
    "        stat_value = 2 * len(X) * CMI(X, Y, Z)\n",
    "\n",
    "    df = (len(np.unique(X)) - 1) * (len(np.unique(Y)) - 1) * len(np.unique(Z))\n",
    "\n",
    "    p_value = 1 - chi2.cdf(stat_value, df=df)\n",
    "\n",
    "    return stat_value, p_value"
   ]
  },
  {
   "cell_type": "markdown",
   "metadata": {},
   "source": [
    "### b)"
   ]
  },
  {
   "cell_type": "code",
   "execution_count": 5,
   "metadata": {},
   "outputs": [],
   "source": [
    "# CI test based on CMI and permutations\n",
    "def cond_indep_test_permutation(X, Y, Z, B = 1000):\n",
    "\n",
    "    X = X.copy()\n",
    "    Y = Y.copy()\n",
    "    Z = Z.copy()\n",
    "    \n",
    "    stat_value = CMI(X, Y, Z)\n",
    "\n",
    "    condition_p_value = 0\n",
    "    for b in range(B):\n",
    "        for z in np.unique(Z):\n",
    "\n",
    "            # permute the values of X for each value of Z\n",
    "            X[Z == z] = np.random.permutation(X[Z == z])\n",
    "\n",
    "        stat_value_b = CMI(X, Y, Z)\n",
    "\n",
    "        if stat_value <= stat_value_b:\n",
    "            condition_p_value += 1\n",
    "    p_value = (1 + condition_p_value)/(1 + B)\n",
    "           \n",
    "    return stat_value, p_value"
   ]
  },
  {
   "cell_type": "markdown",
   "metadata": {},
   "source": [
    "### c)"
   ]
  },
  {
   "cell_type": "markdown",
   "metadata": {},
   "source": [
    "**conditionaly independent**\n",
    "\n",
    "* Let Z be uniform vector on {-1, 1}.\n",
    "* Let X be discretized normal with mean = Z\n",
    "* Let Y be discretized normal with mean = -Z\n",
    "\n",
    "Then X is conditionally independent of Y through Z"
   ]
  },
  {
   "cell_type": "code",
   "execution_count": 6,
   "metadata": {},
   "outputs": [
    {
     "name": "stdout",
     "output_type": "stream",
     "text": [
      "Asymptotic test  (1.2038518398983862, 0.5477556859798102)\n",
      "Permutation test  (6.019259199491931e-05, 0.5484515484515484)\n"
     ]
    }
   ],
   "source": [
    "seed = 123\n",
    "N = 10000\n",
    "rng = np.random.default_rng(seed)\n",
    "\n",
    "Z = rng.binomial(1, 0.5, N)\n",
    "X = rng.normal(0, 1, N) + Z/2\n",
    "X = np.where(X>=0, 1, -1)\n",
    "Y = rng.normal(0, 1, N) - Z/2\n",
    "Y = np.where(Y>=0, 1, -1)\n",
    "\n",
    "print(\"Asymptotic test \", cond_indep_test_asymptotic(X, Y, Z))\n",
    "print(\"Permutation test \", cond_indep_test_permutation(X, Y, Z))\n"
   ]
  },
  {
   "cell_type": "markdown",
   "metadata": {},
   "source": [
    "**conditionaly dependent**\n",
    "\n",
    "* Let X be from discretized normal\n",
    "* Let Z be from discretized normal\n",
    "* Let Y = XOR(X, Z)\n",
    "\n",
    "Then X is conditionally dependent with Z"
   ]
  },
  {
   "cell_type": "code",
   "execution_count": 7,
   "metadata": {},
   "outputs": [
    {
     "name": "stdout",
     "output_type": "stream",
     "text": [
      "Asymptotic test  (13860.960777326525, 0.0)\n",
      "Permutation test  (0.6930480388663263, 0.000999000999000999)\n"
     ]
    }
   ],
   "source": [
    "X = rng.normal(0, 1, N)\n",
    "X = np.where(X>=0, 1, 0)\n",
    "Z = rng.normal(0, 1, N)\n",
    "Z = np.where(Z>=0, 1, 0)\n",
    "\n",
    "Y = np.logical_xor(X, Z).astype(int)\n",
    "\n",
    "print(\"Asymptotic test \", cond_indep_test_asymptotic(X, Y, Z))\n",
    "print(\"Permutation test \", cond_indep_test_permutation(X, Y, Z))"
   ]
  },
  {
   "cell_type": "markdown",
   "metadata": {},
   "source": [
    "## Task 2"
   ]
  },
  {
   "cell_type": "code",
   "execution_count": 8,
   "metadata": {},
   "outputs": [],
   "source": [
    "def sample_from_model1(n = 1000, seed = 123):\n",
    "    rng = np.random.default_rng(seed) \n",
    "    Z_dash = rng.normal(0, 1, n)\n",
    "    Z = np.where(Z_dash > 0, 1, -1)\n",
    "    X_dash = rng.normal(0, 1, n) + Z/2\n",
    "    Y_dash = rng.normal(0, 1, n) + Z/2\n",
    "    X = np.where(X_dash > 0, 1, -1)\n",
    "    Y = np.where(Y_dash > 0, 1, -1)\n",
    "    return X, Y, Z\n",
    "\n",
    "def sample_from_model2(n = 1000, seed = 123):\n",
    "    rng = np.random.default_rng(seed)\n",
    "    X_dash = rng.normal(0, 1, n)\n",
    "    X = np.where(X_dash > 0, 1, -1)\n",
    "    Z_dash = rng.normal(0, 1, n) + X/2\n",
    "    Z = np.where(Z_dash > 0, 1, -1)\n",
    "    Y_dash = rng.normal(0, 1, n) + Z/2\n",
    "    Y = np.where(Y_dash > 0, 1, -1)\n",
    "\n",
    "    return X, Y, Z\n",
    "\n",
    "def sample_from_model3(n = 1000, seed = 123):\n",
    "    rng = np.random.default_rng(seed)\n",
    "\n",
    "    X_dash = rng.normal(0, 1, n)\n",
    "    X = np.where(X_dash > 0, 1, -1)\n",
    "    Y_dash = rng.normal(0, 1, n)\n",
    "    Y = np.where(Y_dash > 0, 1, -1)\n",
    "    Z_dash = rng.normal(0, 1, n) + X/2 + Y/2\n",
    "    Z = np.where(Z_dash > 0, 1, -1)\n",
    "\n",
    "    return X, Y, Z"
   ]
  },
  {
   "cell_type": "markdown",
   "metadata": {},
   "source": [
    "### a)"
   ]
  },
  {
   "cell_type": "markdown",
   "metadata": {},
   "source": [
    "answer:\n",
    "\n",
    "* Model 1 : conditionally independent through Z, dependent\n",
    "\n",
    "* Model 2 : conditionally independent through Z, dependent\n",
    "\n",
    "* Model 3 : conditionally dependent through Z, independent"
   ]
  },
  {
   "cell_type": "markdown",
   "metadata": {},
   "source": [
    "### b)"
   ]
  },
  {
   "cell_type": "code",
   "execution_count": 9,
   "metadata": {},
   "outputs": [
    {
     "name": "stdout",
     "output_type": "stream",
     "text": [
      "Model 1: MI(X, Y)= 0.013517278650951647\n",
      "Model 2: MI(X, Y)= 0.012469746895038436\n",
      "Model 3: MI(X, Y)= 3.820875885457431e-05\n",
      "Model 1: CMI(X, Y|Z)= 0.0001503073618825845\n",
      "Model 2: CMI(X, Y|Z)= 8.719142638590844e-06\n",
      "Model 3: CMI(X, Y|Z)= 0.008107906643733637\n"
     ]
    }
   ],
   "source": [
    "# MI (X, Y)\n",
    "seed = 123\n",
    "X_m1, Y_m1, Z_m1 = sample_from_model1(n = 10000, seed = seed)\n",
    "X_m2, Y_m2, Z_m2 = sample_from_model2(n = 10000, seed = seed)\n",
    "X_m3, Y_m3, Z_m3 = sample_from_model3(n = 10000, seed = seed)\n",
    "\n",
    "\n",
    "print(\"Model 1: MI(X, Y)=\", mutual_info_score(X_m1, Y_m1))\n",
    "print(\"Model 2: MI(X, Y)=\", mutual_info_score(X_m2, Y_m2))\n",
    "print(\"Model 3: MI(X, Y)=\", mutual_info_score(X_m3, Y_m3))\n",
    "\n",
    "# CMI (X, Y|Z)\n",
    "print(\"Model 1: CMI(X, Y|Z)=\", CMI(X_m1, Y_m1, Z_m1))\n",
    "print(\"Model 2: CMI(X, Y|Z)=\", CMI(X_m2, Y_m2, Z_m2))\n",
    "print(\"Model 3: CMI(X, Y|Z)=\", CMI(X_m3, Y_m3, Z_m3))\n"
   ]
  },
  {
   "cell_type": "markdown",
   "metadata": {},
   "source": [
    "### c)"
   ]
  },
  {
   "cell_type": "code",
   "execution_count": 10,
   "metadata": {},
   "outputs": [
    {
     "name": "stdout",
     "output_type": "stream",
     "text": [
      "Model 1: permutation test CMI(X, Y|Z)= (0.0001503073618825845, 0.2137862137862138)\n",
      "Model 2: permutation test CMI(X, Y|Z)= (8.719142638590844e-06, 0.922077922077922)\n",
      "Model 3: permutation test CMI(X, Y|Z)= (0.008107906643733637, 0.000999000999000999)\n",
      "Model 1: asymptotic test CMI(X, Y|Z)= (3.00614723765169, 0.2224453959786935)\n",
      "Model 2: asymptotic test CMI(X, Y|Z)= (0.17438285277181687, 0.9165016362440044)\n",
      "Model 3: asymptotic test CMI(X, Y|Z)= (162.15813287467276, 0.0)\n"
     ]
    }
   ],
   "source": [
    "# permutation test for CMI\n",
    "\n",
    "print(\"Model 1: permutation test CMI(X, Y|Z)=\", cond_indep_test_permutation(X_m1, Y_m1, Z_m1, 1000))\n",
    "print(\"Model 2: permutation test CMI(X, Y|Z)=\", cond_indep_test_permutation(X_m2, Y_m2, Z_m2, 1000))\n",
    "print(\"Model 3: permutation test CMI(X, Y|Z)=\", cond_indep_test_permutation(X_m3, Y_m3, Z_m3, 1000))\n",
    "\n",
    "# asymptotic test for CMI\n",
    "print(\"Model 1: asymptotic test CMI(X, Y|Z)=\", cond_indep_test_asymptotic(X_m1, Y_m1, Z_m1))\n",
    "print(\"Model 2: asymptotic test CMI(X, Y|Z)=\", cond_indep_test_asymptotic(X_m2, Y_m2, Z_m2))\n",
    "print(\"Model 3: asymptotic test CMI(X, Y|Z)=\", cond_indep_test_asymptotic(X_m3, Y_m3, Z_m3))"
   ]
  },
  {
   "cell_type": "markdown",
   "metadata": {},
   "source": [
    "Both tests indicate, that X is **conditionally independent** of Y through Z in Models 1 and 2. (there is not enough evidence to disprove the null hypothesis of conditional independence).\n",
    "\n",
    "Both tests indicate, that X is **not conditionally independent** of Y through Z in Model 3 "
   ]
  },
  {
   "cell_type": "code",
   "execution_count": 11,
   "metadata": {},
   "outputs": [
    {
     "name": "stdout",
     "output_type": "stream",
     "text": [
      "Model 1: permutation test MI(X, Y)= (0.013517278650951647, 0.000999000999000999)\n",
      "Model 2: permutation test MI(X, Y)= (0.012469746895038436, 0.000999000999000999)\n",
      "Model 3: permutation test MI(X, Y)= (3.820875885457431e-05, 0.4025974025974026)\n",
      "Model 1: asymptotic test MI(X, Y)= (270.34557301903294, 0.0)\n",
      "Model 2: asymptotic test MI(X, Y)= (249.39493790076872, 0.0)\n",
      "Model 3: asymptotic test MI(X, Y)= (0.7641751770914862, 0.3820250617774704)\n",
      "Model 1: asymptotic test (pearson)= (268.4781764616364, 0.0)\n",
      "Model 2: asymptotic test (pearson)= (247.73726157085164, 0.0)\n",
      "Model 3: asymptotic test (pearson)= (0.7295927080792952, 0.393015239510876)\n"
     ]
    }
   ],
   "source": [
    "# test for independence\n",
    "print(\"Model 1: permutation test MI(X, Y)=\", indep_test_permutation(X_m1, Y_m1, 1000))\n",
    "print(\"Model 2: permutation test MI(X, Y)=\", indep_test_permutation(X_m2, Y_m2, 1000))\n",
    "print(\"Model 3: permutation test MI(X, Y)=\", indep_test_permutation(X_m3, Y_m3, 1000))\n",
    "\n",
    "print(\"Model 1: asymptotic test MI(X, Y)=\", indep_test_asymptotic(X_m1, Y_m1, \"mi\"))\n",
    "print(\"Model 2: asymptotic test MI(X, Y)=\", indep_test_asymptotic(X_m2, Y_m2, \"mi\"))\n",
    "print(\"Model 3: asymptotic test MI(X, Y)=\", indep_test_asymptotic(X_m3, Y_m3, \"mi\"))\n",
    "\n",
    "print(\"Model 1: asymptotic test (pearson)=\", indep_test_asymptotic(X_m1, Y_m1, \"chi2\"))\n",
    "print(\"Model 2: asymptotic test (pearson)=\", indep_test_asymptotic(X_m2, Y_m2, \"chi2\"))\n",
    "print(\"Model 3: asymptotic test (pearson)=\", indep_test_asymptotic(X_m3, Y_m3, \"chi2\"))"
   ]
  },
  {
   "cell_type": "markdown",
   "metadata": {},
   "source": [
    "All tests indicate, that X is **not independent** of Y in Models 1 and 2.\n",
    "\n",
    "All tests indicate, that X is **independent** of Y in Model 3 (there is no evidence to disprove the null hypothesis of independence)."
   ]
  }
 ],
 "metadata": {
  "kernelspec": {
   "display_name": "dydaktyka",
   "language": "python",
   "name": "python3"
  },
  "language_info": {
   "codemirror_mode": {
    "name": "ipython",
    "version": 3
   },
   "file_extension": ".py",
   "mimetype": "text/x-python",
   "name": "python",
   "nbconvert_exporter": "python",
   "pygments_lexer": "ipython3",
   "version": "3.11.8"
  }
 },
 "nbformat": 4,
 "nbformat_minor": 2
}
