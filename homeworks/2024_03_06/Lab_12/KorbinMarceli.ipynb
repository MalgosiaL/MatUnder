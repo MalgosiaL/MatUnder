{
 "cells": [
  {
   "cell_type": "markdown",
   "metadata": {},
   "source": [
    "# Mathematical Underpinnings - Lab 2"
   ]
  },
  {
   "cell_type": "code",
   "execution_count": 1,
   "metadata": {},
   "outputs": [],
   "source": [
    "import numpy as np\n",
    "import matplotlib.pyplot as plt"
   ]
  },
  {
   "cell_type": "markdown",
   "metadata": {},
   "source": [
    "## Task 1"
   ]
  },
  {
   "cell_type": "markdown",
   "metadata": {},
   "source": [
    "### a)\n",
    "\n",
    "$R(a,a^*) = \\mathbb{E} \\mathcal{L}(f(X), Y) = \\mathbb{E}(aX - Y)^2 = a^2\\mathbb{E}X^2 - 2a\\mathbb{E}XY + \\mathbb{E}Y^2$\n",
    "\n",
    "first element:\n",
    "\n",
    "$\\mathbb{E}X^2 = \\mathbb{V}X + (\\mathbb{E}X)^2 = 1$\n",
    "\n",
    "second element:\n",
    "\n",
    "$\\mathbb{E}XY = \\mathbb{E}X(X+\\epsilon) = \\mathbb{E}X^2 + \\mathbb{E}X\\epsilon = \\mathbb{E}X^2 + \\mathbb{E}X * \\mathbb{E}\\epsilon = 1 $\n",
    "\n",
    "third element:\n",
    "\n",
    "$\\mathbb{E}Y^2 = \\mathbb{V}Y + (\\mathbb{E}Y)^2$\n",
    "\n",
    "$\\mathbb{E}Y = \\mathbb{E}X + \\mathbb{E}\\epsilon = 0$\n",
    "\n",
    "$\\mathbb{E}Y^2 = \\mathbb{V}Y = \\mathbb{V}(X+\\epsilon) = \\mathbb{V}X + \\mathbb{V}\\epsilon + \\mathbb{Cov}(X, \\epsilon)$\n",
    "\n",
    "$\\mathbb{Cov}(X, \\epsilon) = 0$\n",
    "\n",
    "$\\mathbb{E}Y^2 = \\mathbb{V}X + \\mathbb{V}\\epsilon = 1 + \\sigma^2$\n",
    "\n",
    "added up:\n",
    "\n",
    "$a^2\\mathbb{E}X^2 - 2a\\mathbb{E}XY + \\mathbb{E}Y^2 = a^2 - 2a + 1 + \\sigma^2 = (a-1)^2 + \\sigma^2$\n",
    "\n",
    "In our task we know $a^* = 1$.\n",
    "\n",
    "---\n",
    "\n",
    "minimum of $(a-1)^2$ is 0, the minimizing argument is $a=1$; the minimum value changes proportionally to $\\sigma^2$"
   ]
  },
  {
   "cell_type": "code",
   "execution_count": 2,
   "metadata": {},
   "outputs": [],
   "source": [
    "def population_risk(a, sigma_eps):\n",
    "    return (a-1)**2 + sigma_eps**2"
   ]
  },
  {
   "cell_type": "markdown",
   "metadata": {},
   "source": [
    "### b)"
   ]
  },
  {
   "cell_type": "code",
   "execution_count": 3,
   "metadata": {},
   "outputs": [],
   "source": [
    "# sampling\n",
    "n = 50\n",
    "sigma2 = 1\n",
    "x = np.random.normal(0, 1, n)\n",
    "eps = np.random.normal(0, sigma2, n)\n",
    "y = x + eps"
   ]
  },
  {
   "cell_type": "markdown",
   "metadata": {},
   "source": [
    "Empirical risk: $\\frac{1}{n} \\sum_{i=1}^n (ax_i - y_i)^2$"
   ]
  },
  {
   "cell_type": "code",
   "execution_count": 4,
   "metadata": {},
   "outputs": [],
   "source": [
    "def empirical_risk(a, x, y):\n",
    "    return np.mean((a*x - y)**2)"
   ]
  },
  {
   "cell_type": "markdown",
   "metadata": {},
   "source": [
    "### c)"
   ]
  },
  {
   "cell_type": "code",
   "execution_count": 5,
   "metadata": {},
   "outputs": [
    {
     "data": {
      "image/png": "[encoded data removed]",
      "text/plain": [
       "<Figure size 432x288 with 1 Axes>"
      ]
     },
     "metadata": {
      "needs_background": "light"
     },
     "output_type": "display_data"
    }
   ],
   "source": [
    "a_args = np.linspace(0, 2, 201)\n",
    "a_pop = np.array(list(map(lambda a: population_risk(a, sigma2), a_args)))\n",
    "a_emp = np.array(list(map(lambda a: empirical_risk(a, x, y), a_args)))\n",
    "\n",
    "pop_argmin = a_args[np.argmin(a_pop)]\n",
    "pop_min = population_risk(pop_argmin, sigma2)\n",
    "emp_argmin = a_args[np.argmin(a_emp)]\n",
    "emp_min = empirical_risk(emp_argmin, x, y)\n",
    "emp_min_pop = population_risk(emp_argmin, sigma2)\n",
    "\n",
    "plt.xlabel('a')\n",
    "plt.ylabel('value')\n",
    "plt.plot(a_args, a_pop, c='#00cc00')\n",
    "plt.plot(a_args, a_emp, c='#0000cc')\n",
    "plt.legend(['population risk', 'empirical risk'])\n",
    "plt.scatter(pop_argmin, pop_min, c='#00cc00')\n",
    "plt.scatter(emp_argmin, emp_min, c='#0000cc')\n",
    "plt.scatter(emp_argmin, emp_min_pop, c='#cc0000') # ERM estimator\n",
    "plt.show()"
   ]
  },
  {
   "cell_type": "markdown",
   "metadata": {},
   "source": [
    "### d)"
   ]
  },
  {
   "cell_type": "markdown",
   "metadata": {},
   "source": [
    "Excess risk: $$E(\\hat a, a^*) =R(\\hat a, a^*) - \\textrm{inf}_{a \\in A_0} R(a, a^*)$$"
   ]
  },
  {
   "cell_type": "code",
   "execution_count": 12,
   "metadata": {},
   "outputs": [],
   "source": [
    "# excess risk\n",
    "def excess_risk(A_0, n, sigma2=sigma2):\n",
    "    x = np.random.normal(0, 1, n)\n",
    "    eps = np.random.normal(0, sigma2, n)\n",
    "    y = x + eps\n",
    "    a_pop = np.array(list(map(lambda a: population_risk(a, sigma2), A_0)))\n",
    "    a_emp = np.array(list(map(lambda a: empirical_risk(a, x, y), A_0)))\n",
    "    emp_argmin = a_args[np.argmin(a_emp)]\n",
    "    emp_min_pop = population_risk(emp_argmin, sigma2)\n",
    "    pop_inf = np.min(a_pop)\n",
    "    return emp_min_pop - pop_inf"
   ]
  },
  {
   "cell_type": "code",
   "execution_count": 13,
   "metadata": {},
   "outputs": [],
   "source": [
    "# simulations with fixed sample size\n",
    "L = 200\n",
    "a_args = np.linspace(-10, 10, 1001)\n",
    "risks = []\n",
    "for i in range(L):\n",
    "    risk = excess_risk(a_args, 50)\n",
    "    risks.append(risk)"
   ]
  },
  {
   "cell_type": "code",
   "execution_count": 14,
   "metadata": {},
   "outputs": [
    {
     "data": {
      "text/plain": [
       "0.018680000000000013"
      ]
     },
     "execution_count": 14,
     "metadata": {},
     "output_type": "execute_result"
    }
   ],
   "source": [
    "np.mean(risks)"
   ]
  },
  {
   "cell_type": "code",
   "execution_count": 16,
   "metadata": {},
   "outputs": [],
   "source": [
    "# simulations for various sample sizes\n",
    "s_args = [(n*10)**2 for n in range(1, 11)]\n",
    "means = []\n",
    "for s in s_args:\n",
    "    risks = []\n",
    "    for i in range(L):\n",
    "        risk = excess_risk(a_args, s)\n",
    "        risks.append(risk)\n",
    "    means.append(np.mean(risks))"
   ]
  },
  {
   "cell_type": "code",
   "execution_count": 18,
   "metadata": {},
   "outputs": [
    {
     "data": {
      "text/plain": [
       "[100, 400, 900, 1600, 2500, 3600, 4900, 6400, 8100, 10000]"
      ]
     },
     "execution_count": 18,
     "metadata": {},
     "output_type": "execute_result"
    }
   ],
   "source": [
    "s_args"
   ]
  },
  {
   "cell_type": "code",
   "execution_count": 17,
   "metadata": {},
   "outputs": [
    {
     "data": {
      "image/png": "[encoded data removed]",
      "text/plain": [
       "<Figure size 432x288 with 1 Axes>"
      ]
     },
     "metadata": {
      "needs_background": "light"
     },
     "output_type": "display_data"
    }
   ],
   "source": [
    "# a nice plot visualising the results (how the unconditional excess risk changes with a sample size)\n",
    "plt.xlabel('sample size')\n",
    "plt.ylabel('excess risk')\n",
    "plt.plot(s_args, means, c='#cc0000')\n",
    "plt.legend(['excess risk'])\n",
    "plt.show()"
   ]
  }
 ],
 "metadata": {
  "kernelspec": {
   "display_name": "Python 3 (ipykernel)",
   "language": "python",
   "name": "python3"
  },
  "language_info": {
   "codemirror_mode": {
    "name": "ipython",
    "version": 3
   },
   "file_extension": ".py",
   "mimetype": "text/x-python",
   "name": "python",
   "nbconvert_exporter": "python",
   "pygments_lexer": "ipython3",
   "version": "3.8.10"
  }
 },
 "nbformat": 4,
 "nbformat_minor": 2
}
