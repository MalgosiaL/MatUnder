{
 "cells": [
  {
   "cell_type": "code",
   "execution_count": null,
   "metadata": {},
   "outputs": [],
   "source": []
  },
  {
   "cell_type": "markdown",
   "metadata": {},
   "source": [
    "# Mathematical Underpinnings - Lab 6"
   ]
  },
  {
   "cell_type": "code",
   "execution_count": 1,
   "metadata": {},
   "outputs": [],
   "source": [
    "from sklearn.metrics import mutual_info_score\n",
    "import numpy as np\n",
    "import matplotlib.pyplot as plt\n",
    "import seaborn as sns\n",
    "import pandas as pd\n",
    "from tqdm import tqdm"
   ]
  },
  {
   "cell_type": "markdown",
   "metadata": {},
   "source": [
    "## Useful functions"
   ]
  },
  {
   "cell_type": "code",
   "execution_count": 2,
   "metadata": {},
   "outputs": [],
   "source": [
    "def discetize_2bins(X):\n",
    "    X_discrete = 1 * (X >= 0)\n",
    "    return X_discrete"
   ]
  },
  {
   "cell_type": "code",
   "execution_count": 3,
   "metadata": {},
   "outputs": [],
   "source": [
    "def conditional_permutation(X, Z):\n",
    "\n",
    "    z_values = np.unique(Z)\n",
    "    n_z_values = len(z_values)\n",
    "    n = len(Z)\n",
    "\n",
    "    X_b = np.zeros(n)\n",
    "\n",
    "    for i in range(n_z_values):\n",
    "\n",
    "        z_value_tmp = z_values[i]\n",
    "\n",
    "        X_b[Z == z_value_tmp] = np.random.permutation(X[Z == z_value_tmp])\n",
    "\n",
    "    return X_b"
   ]
  },
  {
   "cell_type": "code",
   "execution_count": 4,
   "metadata": {},
   "outputs": [],
   "source": [
    "def conditional_mutual_information(X, Y, Z):\n",
    "\n",
    "    z_values = np.unique(Z)\n",
    "    n_z_values = len(z_values)\n",
    "    n = len(Z)\n",
    "\n",
    "    cmi = 0\n",
    "\n",
    "    for i in range(n_z_values):\n",
    "\n",
    "        z_value_tmp = z_values[i]\n",
    "        z_condition = (Z == z_value_tmp)\n",
    "\n",
    "        X_z = X[z_condition]\n",
    "        Y_z = Y[z_condition]\n",
    "\n",
    "        mi_XY_z = mutual_info_score(X_z, Y_z)\n",
    "        p_z = np.sum(z_condition)/n\n",
    "\n",
    "        cmi += p_z*mi_XY_z\n",
    "\n",
    "    return cmi"
   ]
  },
  {
   "cell_type": "code",
   "execution_count": 5,
   "metadata": {},
   "outputs": [],
   "source": [
    "# II(X;Y;Z)\n",
    "def interaction_information(X, Y, Z):\n",
    "    return conditional_mutual_information(X, Y, Z) - mutual_info_score(X, Y)"
   ]
  },
  {
   "cell_type": "code",
   "execution_count": 6,
   "metadata": {},
   "outputs": [],
   "source": [
    "# II(X;Y;Z1;Z2)\n",
    "def interaction_information2(X, Y, Z1, Z2):\n",
    "    Z_1_and_2 = 2*Z2 + Z1\n",
    "    return interaction_information(X, Y, Z_1_and_2) - interaction_information(X, Y, Z1) - interaction_information(X, Y, Z2)"
   ]
  },
  {
   "cell_type": "markdown",
   "metadata": {},
   "source": [
    "## Task 1"
   ]
  },
  {
   "cell_type": "code",
   "execution_count": 54,
   "metadata": {},
   "outputs": [],
   "source": [
    "def secmi2(X, Y, Z):\n",
    "    n, k = Z.shape\n",
    "\n",
    "    ii_sum = 0\n",
    "\n",
    "    for i in range(k):\n",
    "        ii_sum += interaction_information(Y, X, Z[:, i])\n",
    "\n",
    "    return mutual_info_score(X, Y) + ii_sum\n",
    "\n",
    "\n",
    "def secmi3(X, Y, Z):\n",
    "    n, k = Z.shape\n",
    "\n",
    "    ii2_sum = 0\n",
    "\n",
    "    for i in range(k):\n",
    "        for j in range(i + 1, k):\n",
    "            ii2_sum += interaction_information2(Y, X, Z[:, i], Z[:, j])\n",
    "\n",
    "    return secmi2(X, Y, Z) + ii2_sum"
   ]
  },
  {
   "cell_type": "markdown",
   "metadata": {},
   "source": [
    "### a)"
   ]
  },
  {
   "cell_type": "code",
   "execution_count": 55,
   "metadata": {},
   "outputs": [],
   "source": [
    "def cond_indep_test_permutation(X, Y, Z, B, stat):\n",
    "\n",
    "    n_col_Z = Z.shape[1]\n",
    "    Z_1dim = np.dot(Z, 2 ** np.linspace(0, n_col_Z - 1, n_col_Z))\n",
    "\n",
    "    if stat == \"cmi\":\n",
    "        stat_value = conditional_mutual_information(X, Y, Z_1dim)\n",
    "    if stat == \"secmi2\":\n",
    "        stat_value = secmi2(X, Y, Z)\n",
    "    if stat == \"secmi3\":\n",
    "        stat_value = secmi3(X, Y, Z)\n",
    "\n",
    "    condition_p_value = 0\n",
    "    for b in range(B):\n",
    "        X_b = conditional_permutation(X, Z_1dim)\n",
    "\n",
    "        if stat == \"cmi\":\n",
    "            stat_value_b = conditional_mutual_information(X_b, Y, Z_1dim)\n",
    "        if stat == \"secmi2\":\n",
    "            stat_value_b = secmi2(X_b, Y, Z)\n",
    "        if stat == \"secmi3\":\n",
    "            stat_value_b = secmi3(X_b, Y, Z)\n",
    "\n",
    "        if stat_value <= stat_value_b:\n",
    "            condition_p_value += 1\n",
    "\n",
    "    p_value = (1 + condition_p_value) / (1 + B)\n",
    "\n",
    "    return 2 * len(X) * stat_value, p_value"
   ]
  },
  {
   "cell_type": "markdown",
   "metadata": {},
   "source": [
    "### b)"
   ]
  },
  {
   "cell_type": "code",
   "execution_count": 61,
   "metadata": {},
   "outputs": [],
   "source": [
    "def get_data_b(n=100):\n",
    "    rng = np.random.default_rng()\n",
    "\n",
    "    Y_tilde = rng.normal(size=n)\n",
    "    Y = discetize_2bins(Y_tilde)\n",
    "\n",
    "    Z1_tilde = rng.normal(loc=Y / 2, scale=1, size=n)\n",
    "    Z2_tilde = rng.normal(loc=Y / 2, scale=1, size=n)\n",
    "    Z3_tilde = rng.normal(loc=Y / 2, scale=1, size=n)\n",
    "\n",
    "    Z1 = discetize_2bins(Z1_tilde)\n",
    "    Z2 = discetize_2bins(Z2_tilde)\n",
    "    Z3 = discetize_2bins(Z3_tilde)\n",
    "\n",
    "    X_tilde = rng.normal(loc=Z1 / 2, scale=1, size=n)\n",
    "    X = discetize_2bins(X_tilde)\n",
    "\n",
    "    Z = np.stack([Z1, Z2, Z3], axis=-1)\n",
    "\n",
    "    return X, Y, Z"
   ]
  },
  {
   "cell_type": "code",
   "execution_count": 115,
   "metadata": {},
   "outputs": [],
   "source": [
    "p_value_threshold = 0.05\n",
    "n = 5000\n",
    "B = 100\n",
    "N = 100"
   ]
  },
  {
   "cell_type": "code",
   "execution_count": 118,
   "metadata": {},
   "outputs": [],
   "source": [
    "# X independent of Y given (Z1, Z2)\n",
    "\n",
    "results = []\n",
    "for _ in range(N):\n",
    "    X, Y, Z = get_data_b(n=n)\n",
    "    Z = Z[:, 0:2]\n",
    "    cmi_test = cond_indep_test_permutation(X, Y, Z, B, \"cmi\")\n",
    "    secmi2_test = cond_indep_test_permutation(X, Y, Z, B, \"secmi2\")\n",
    "    secmi3_test = cond_indep_test_permutation(X, Y, Z, B, \"secmi2\")\n",
    "    results.append({\n",
    "        \"cmi_stat_value\": cmi_test[0],\n",
    "        \"cmi_p_value\": cmi_test[1],\n",
    "        \"secmi2_stat_value\": secmi2_test[0],\n",
    "        \"secmi2_p_value\": secmi2_test[1],\n",
    "        \"secmi3_stat_value\": secmi3_test[0],\n",
    "        \"secmi3_p_value\": secmi3_test[1],\n",
    "    })\n",
    "results_df1 = pd.DataFrame.from_records(results)"
   ]
  },
  {
   "cell_type": "code",
   "execution_count": 119,
   "metadata": {},
   "outputs": [
    {
     "name": "stdout",
     "output_type": "stream",
     "text": [
      "Rejection rate (cmi): 0.05\n",
      "Rejection rate (secmi2): 0.09\n",
      "Rejection rate (secmi3): 0.06\n"
     ]
    }
   ],
   "source": [
    "print(\"Rejection rate (cmi):\", np.sum(results_df1[\"cmi_p_value\"] < p_value_threshold) / N)\n",
    "print(\"Rejection rate (secmi2):\", np.sum(results_df1[\"secmi2_p_value\"] < p_value_threshold) / N)\n",
    "print(\"Rejection rate (secmi3):\", np.sum(results_df1[\"secmi3_p_value\"] < p_value_threshold) / N)"
   ]
  },
  {
   "cell_type": "code",
   "execution_count": 116,
   "metadata": {},
   "outputs": [],
   "source": [
    "# X independent of Y given (Z2, Z3)\n",
    "\n",
    "results = []\n",
    "for _ in range(N):\n",
    "    X, Y, Z = get_data_b(n=n)\n",
    "    Z = Z[:, 1:3]\n",
    "    cmi_test = cond_indep_test_permutation(X, Y, Z, B, \"cmi\")\n",
    "    secmi2_test = cond_indep_test_permutation(X, Y, Z, B, \"secmi2\")\n",
    "    secmi3_test = cond_indep_test_permutation(X, Y, Z, B, \"secmi2\")\n",
    "    results.append({\n",
    "        \"cmi_stat_value\": cmi_test[0],\n",
    "        \"cmi_p_value\": cmi_test[1],\n",
    "        \"secmi2_stat_value\": secmi2_test[0],\n",
    "        \"secmi2_p_value\": secmi2_test[1],\n",
    "        \"secmi3_stat_value\": secmi3_test[0],\n",
    "        \"secmi3_p_value\": secmi3_test[1],\n",
    "    })\n",
    "results_df2 = pd.DataFrame.from_records(results)"
   ]
  },
  {
   "cell_type": "code",
   "execution_count": 117,
   "metadata": {},
   "outputs": [
    {
     "name": "stdout",
     "output_type": "stream",
     "text": [
      "Rejection rate (cmi): 0.46\n",
      "Rejection rate (secmi2): 0.52\n",
      "Rejection rate (secmi3): 0.51\n"
     ]
    }
   ],
   "source": [
    "print(\"Rejection rate (cmi):\", np.sum(results_df2[\"cmi_p_value\"] < p_value_threshold) / N)\n",
    "print(\"Rejection rate (secmi2):\", np.sum(results_df2[\"secmi2_p_value\"] < p_value_threshold) / N)\n",
    "print(\"Rejection rate (secmi3):\", np.sum(results_df2[\"secmi3_p_value\"] < p_value_threshold) / N)"
   ]
  },
  {
   "cell_type": "markdown",
   "metadata": {},
   "source": [
    "### c)"
   ]
  },
  {
   "cell_type": "code",
   "execution_count": 134,
   "metadata": {},
   "outputs": [],
   "source": [
    "def get_data_c(n=100):\n",
    "\n",
    "    rng = np.random.default_rng()\n",
    "\n",
    "    X = rng.choice(2, size=n)\n",
    "    Z1 = rng.choice(2, size=n)\n",
    "    Z2 = rng.choice(2, size=n)\n",
    "    Z3 = rng.choice(2, size=n)\n",
    "\n",
    "    tmp = (X + Z1 + Z2) % 2\n",
    "    Y = np.zeros(n)\n",
    "    Y[tmp == 1] = rng.choice(2, size=np.sum(tmp==1), p=[0.2, 0.8])\n",
    "    Y[tmp == 0] = rng.choice(2, size=np.sum(tmp==0), p=[0.8, 0.2])\n",
    "\n",
    "    Z = np.stack([Z1, Z2, Z3], axis=-1)\n",
    "\n",
    "    return X, Y, Z"
   ]
  },
  {
   "cell_type": "code",
   "execution_count": 136,
   "metadata": {},
   "outputs": [],
   "source": [
    "# X independent of Y given (Z1, Z2)\n",
    "\n",
    "results = []\n",
    "for _ in range(N):\n",
    "    X, Y, Z = get_data_c(n=n)\n",
    "    Z = Z[:, 0:2]\n",
    "    cmi_test = cond_indep_test_permutation(X, Y, Z, B, \"cmi\")\n",
    "    secmi2_test = cond_indep_test_permutation(X, Y, Z, B, \"secmi2\")\n",
    "    secmi3_test = cond_indep_test_permutation(X, Y, Z, B, \"secmi2\")\n",
    "    results.append({\n",
    "        \"cmi_stat_value\": cmi_test[0],\n",
    "        \"cmi_p_value\": cmi_test[1],\n",
    "        \"secmi2_stat_value\": secmi2_test[0],\n",
    "        \"secmi2_p_value\": secmi2_test[1],\n",
    "        \"secmi3_stat_value\": secmi3_test[0],\n",
    "        \"secmi3_p_value\": secmi3_test[1],\n",
    "    })\n",
    "results_df1 = pd.DataFrame.from_records(results)"
   ]
  },
  {
   "cell_type": "code",
   "execution_count": 137,
   "metadata": {},
   "outputs": [
    {
     "name": "stdout",
     "output_type": "stream",
     "text": [
      "Rejection rate (cmi): 1.0\n",
      "Rejection rate (secmi2): 0.03\n",
      "Rejection rate (secmi3): 0.04\n"
     ]
    }
   ],
   "source": [
    "print(\"Rejection rate (cmi):\", np.sum(results_df1[\"cmi_p_value\"] < p_value_threshold) / N)\n",
    "print(\"Rejection rate (secmi2):\", np.sum(results_df1[\"secmi2_p_value\"] < p_value_threshold) / N)\n",
    "print(\"Rejection rate (secmi3):\", np.sum(results_df1[\"secmi3_p_value\"] < p_value_threshold) / N)"
   ]
  },
  {
   "cell_type": "code",
   "execution_count": 141,
   "metadata": {},
   "outputs": [],
   "source": [
    "# X independent of Y given (Z2, Z3)\n",
    "\n",
    "results = []\n",
    "for _ in range(N):\n",
    "    X, Y, Z = get_data_c(n=n)\n",
    "    Z = Z[:, 1:3]\n",
    "    cmi_test = cond_indep_test_permutation(X, Y, Z, B, \"cmi\")\n",
    "    secmi2_test = cond_indep_test_permutation(X, Y, Z, B, \"secmi2\")\n",
    "    secmi3_test = cond_indep_test_permutation(X, Y, Z, B, \"secmi2\")\n",
    "    results.append({\n",
    "        \"cmi_stat_value\": cmi_test[0],\n",
    "        \"cmi_p_value\": cmi_test[1],\n",
    "        \"secmi2_stat_value\": secmi2_test[0],\n",
    "        \"secmi2_p_value\": secmi2_test[1],\n",
    "        \"secmi3_stat_value\": secmi3_test[0],\n",
    "        \"secmi3_p_value\": secmi3_test[1],\n",
    "    })\n",
    "results_df2 = pd.DataFrame.from_records(results)"
   ]
  },
  {
   "cell_type": "code",
   "execution_count": 142,
   "metadata": {},
   "outputs": [
    {
     "name": "stdout",
     "output_type": "stream",
     "text": [
      "Rejection rate (cmi): 0.03\n",
      "Rejection rate (secmi2): 0.03\n",
      "Rejection rate (secmi3): 0.04\n"
     ]
    }
   ],
   "source": [
    "print(\"Rejection rate (cmi):\", np.sum(results_df2[\"cmi_p_value\"] < p_value_threshold) / N)\n",
    "print(\"Rejection rate (secmi2):\", np.sum(results_df2[\"secmi2_p_value\"] < p_value_threshold) / N)\n",
    "print(\"Rejection rate (secmi3):\", np.sum(results_df2[\"secmi3_p_value\"] < p_value_threshold) / N)"
   ]
  },
  {
   "cell_type": "markdown",
   "metadata": {},
   "source": [
    "## Task 2\n",
    " \n",
    "in R"
   ]
  }
 ],
 "metadata": {
  "kernelspec": {
   "display_name": "dydaktyka",
   "language": "python",
   "name": "python3"
  },
  "language_info": {
   "codemirror_mode": {
    "name": "ipython",
    "version": 3
   },
   "file_extension": ".py",
   "mimetype": "text/x-python",
   "name": "python",
   "nbconvert_exporter": "python",
   "pygments_lexer": "ipython3",
   "version": "3.10.9"
  }
 },
 "nbformat": 4,
 "nbformat_minor": 2
}
