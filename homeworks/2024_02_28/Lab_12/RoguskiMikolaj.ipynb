{
 "cells": [
  {
   "attachments": {},
   "cell_type": "markdown",
   "metadata": {},
   "source": [
    "# Mathematical Underpinnings - Lab 1"
   ]
  },
  {
   "attachments": {},
   "cell_type": "markdown",
   "metadata": {},
   "source": [
    "## Task 1\n",
    "### a) Generative approach \n",
    "\n",
    "We know $\\pi = P(Y=1)$ and the distributions $f(x|Y=1)$ and $f(x|Y=-1)$.\n",
    "\n",
    "#### First bullet point"
   ]
  },
  {
   "cell_type": "code",
   "execution_count": 81,
   "metadata": {
    "ExecuteTime": {
     "end_time": "2024-03-03T16:37:10.716748669Z",
     "start_time": "2024-03-03T16:37:10.457255071Z"
    }
   },
   "outputs": [],
   "source": [
    "import numpy as np\n",
    "import matplotlib.pyplot as plt\n",
    "from sklearn.linear_model import LogisticRegression\n",
    "from sklearn.discriminant_analysis import LinearDiscriminantAnalysis"
   ]
  },
  {
   "cell_type": "code",
   "execution_count": 82,
   "metadata": {
    "ExecuteTime": {
     "end_time": "2024-03-03T16:37:10.804937967Z",
     "start_time": "2024-03-03T16:37:10.723846266Z"
    }
   },
   "outputs": [],
   "source": [
    "# sampling from multivariate normal distribution and from Bernoulli\n",
    "\n",
    "x = np.random.multivariate_normal(np.array([0,0]), np.eye(2), 5)\n",
    "y = np.random.binomial(1, 0.5, 5)"
   ]
  },
  {
   "cell_type": "code",
   "execution_count": 83,
   "metadata": {
    "ExecuteTime": {
     "end_time": "2024-03-03T16:37:10.806552055Z",
     "start_time": "2024-03-03T16:37:10.765184002Z"
    }
   },
   "outputs": [],
   "source": [
    "m1 = np.array([1,1])\n",
    "m2 = np.array([0,0])\n",
    "\n",
    "sigma = np.array([[1, -0.5],[-0.5, 1]])"
   ]
  },
  {
   "cell_type": "code",
   "execution_count": 84,
   "metadata": {
    "ExecuteTime": {
     "end_time": "2024-03-03T16:37:10.875608487Z",
     "start_time": "2024-03-03T16:37:10.780959691Z"
    }
   },
   "outputs": [],
   "source": [
    "# sampling\n",
    "Y_generative = np.zeros(1000)\n",
    "Y_generative[:500] = np.ones(500)\n",
    "np.random.shuffle(Y_generative)\n",
    "X_1_generative = np.random.multivariate_normal(m1, sigma, Y_generative[Y_generative==1].size)\n",
    "X_2_generative = np.random.multivariate_normal(m2, sigma, Y_generative[Y_generative==0].size)\n",
    "\n",
    "\n",
    "X_generative = np.zeros((1000, 2))\n",
    "X_generative[Y_generative==1] = X_1_generative\n",
    "X_generative[Y_generative==0] = X_2_generative\n",
    "\n",
    "\n"
   ]
  },
  {
   "cell_type": "markdown",
   "metadata": {},
   "source": [
    "Does the distribution of $P(Y=1|X=x)=p(y=1|x)$ correspond to a logistic model?\n",
    "\n",
    "A hint: Use Bayes theorem to compute $p(y=1|x)$. Is it possible to represent $p(y=1|x)$ as $\\frac{e^{\\beta_0 + \\beta x}}{1 + e^{\\beta_0 + \\beta x}}$?\n"
   ]
  },
  {
   "cell_type": "markdown",
   "source": [
    "### _Solution_:\n",
    " $$P(Y=1|x) = \\frac{P(x|Y=1)P(Y=1)}{P(x|Y=0)P(Y=0)+P(x|Y=1)P(Y=1)}$$\n",
    " $$= \\frac{P(x|Y=1)\\pi}{P(x|Y=0)(1-\\pi)+P(x|Y=1)\\pi}$$\n",
    " $$= \\frac{1}{\\frac{P(x|Y=0)}{P(x|Y=1)}\\frac{1-\\pi}{\\pi} + 1}$$\n",
    " $$= \\frac{1}{1+e^{\\log(\\frac{P(x|Y=0)}{P(x|Y=1)}\\frac{1-\\pi}{\\pi})}}$$\n",
    "\n",
    "Now we simplify the probabilities:\n",
    " \n",
    "\n",
    " $$\\frac{P(x|Y=0)}{P(x|Y=1)} = \\frac{\n",
    "\\frac{1}{(2\\pi)^{d/2} \\, |\\Sigma|^{1/2}} \\, \\exp ( -\\frac{1}{2} (x - \\mu_2)^T\\Sigma^{-1} (x - \\mu_2) )\n",
    "}{\\frac{1}{(2\\pi)^{d/2} \\, |\\Sigma|^{1/2}} \\, \\exp ( -\\frac{1}{2} (x - \\mu_1)^T\\Sigma^{-1} (x - \\mu_1) )\n",
    "}$$\n",
    "$$= \\frac{\\exp ( -\\frac{1}{2} (x - \\mu_2)^T\\Sigma^{-1} (x - \\mu_2) )}{\\exp ( -\\frac{1}{2} (x - \\mu_1)^T\\Sigma^{-1} (x - \\mu_1) )}\n",
    "\n",
    "$$\n",
    "$$= \\exp \\frac{1}{2} ( - (x - \\mu_2)^T\\Sigma^{-1} (x - \\mu_2) + (x - \\mu_1)^T\\Sigma^{-1} (x - \\mu_1) )$$\n",
    "$$= \\exp ( x^T\\Sigma^{-1} (\\mu_2 - \\mu_1) +\\frac{1}{2} (\\mu_1^T\\Sigma^{-1} \\mu_1 - \\mu_2^T\\Sigma^{-1} \\mu_2) )$$\n",
    "\n",
    "And by equating to logistic regression and substituting obtain:\n",
    "$$\\frac{1}{1+e^{-\\beta_0 - \\beta x}} = \\frac{1}{1+e^{\\log(\\frac{P(x|Y=0)}{P(x|Y=1)}\\frac{1-\\pi}{\\pi})}}$$\n",
    "$$-\\beta_0 - \\beta x = \\log(\\frac{P(x|Y=0)}{P(x|Y=1)}\\frac{1-\\pi}{\\pi})$$\n",
    "$$-\\beta_0 - \\beta x = x^T\\Sigma^{-1} (\\mu_2 - \\mu_1) +\\frac{1}{2} (\\mu_1^T\\Sigma^{-1} \\mu_1 - \\mu_2^T\\Sigma^{-1} \\mu_2) +\\log(\\frac{1-\\pi}{\\pi})$$\n",
    "therefore:\n",
    "$$ \\beta = \\Sigma^{-1} (\\mu_1-\\mu_2)$$\n",
    "$$\\beta_0 = \\frac{1}{2} (\\mu_2^T\\Sigma^{-1} \\mu_2 - \\mu_1^T\\Sigma^{-1} \\mu_1) + \\log(\\frac{\\pi}{1-\\pi}) $$\n",
    "\n"
   ],
   "metadata": {
    "collapsed": false
   }
  },
  {
   "cell_type": "markdown",
   "metadata": {},
   "source": [
    "#### Second bullet point"
   ]
  },
  {
   "cell_type": "markdown",
   "metadata": {},
   "source": [
    "Find the formulas for the parameters of the logistic model (the coefficients and the intercept).\n",
    "\n",
    "A hint: Use the representation of $p(y=1|x)$ from the first bullet point and solve for $\\beta_0$ and $\\beta$.\n",
    "### _Solution_: in the first bullet"
   ]
  },
  {
   "cell_type": "code",
   "outputs": [
    {
     "data": {
      "text/plain": "-2.0"
     },
     "execution_count": 85,
     "metadata": {},
     "output_type": "execute_result"
    }
   ],
   "source": [
    "invsigma = np.linalg.inv(sigma)\n",
    "b0 = np.log(1) + m2.T @ invsigma @ m2 * .5 - m1.T @ invsigma @ m1 * .5\n",
    "b0"
   ],
   "metadata": {
    "collapsed": false,
    "ExecuteTime": {
     "end_time": "2024-03-03T16:37:10.946494740Z",
     "start_time": "2024-03-03T16:37:10.840853008Z"
    }
   },
   "execution_count": 85
  },
  {
   "cell_type": "code",
   "execution_count": 86,
   "metadata": {
    "ExecuteTime": {
     "end_time": "2024-03-03T16:37:11.038661229Z",
     "start_time": "2024-03-03T16:37:10.910256927Z"
    }
   },
   "outputs": [
    {
     "data": {
      "text/plain": "array([2., 2.])"
     },
     "execution_count": 86,
     "metadata": {},
     "output_type": "execute_result"
    }
   ],
   "source": [
    "# computing b# theoretical params\n",
    "\n",
    "b = invsigma @ (m1 - m2)\n",
    "b"
   ]
  },
  {
   "cell_type": "code",
   "execution_count": 87,
   "metadata": {
    "ExecuteTime": {
     "end_time": "2024-03-03T16:37:11.124301698Z",
     "start_time": "2024-03-03T16:37:10.981648301Z"
    }
   },
   "outputs": [
    {
     "data": {
      "text/plain": "(array([-2.0571235]), array([[2.18573817, 2.14512939]]))"
     },
     "execution_count": 87,
     "metadata": {},
     "output_type": "execute_result"
    }
   ],
   "source": [
    "# a logistic model\n",
    "mod_a = LogisticRegression(penalty=None)\n",
    "mod_a.fit(X_generative, Y_generative)\n",
    "(mod_a.intercept_, mod_a.coef_)"
   ]
  },
  {
   "cell_type": "markdown",
   "metadata": {},
   "source": [
    "### b) Discriminative approach\n",
    "\n",
    "We know $f(x)$ and $P(Y=1|X=x)$.\n",
    "\n",
    "#### First bullet point"
   ]
  },
  {
   "cell_type": "code",
   "execution_count": 88,
   "metadata": {
    "ExecuteTime": {
     "end_time": "2024-03-03T16:37:11.169264770Z",
     "start_time": "2024-03-03T16:37:11.077875989Z"
    }
   },
   "outputs": [],
   "source": [
    "# sampling\n",
    "distribution = np.random.binomial(1, .5, 1000)\n",
    "X_discriminative = np.zeros((1000, 2))\n",
    "X_discriminative[distribution==0] = np.random.multivariate_normal(m1, sigma, distribution[distribution==0].size)\n",
    "X_discriminative[distribution==1] = np.random.multivariate_normal(m2, sigma, distribution[distribution==1].size)\n",
    "\n",
    "\n",
    "Y_discriminative = np.apply_along_axis(lambda x: np.random.binomial(1, 1/(1+np.exp(2 - np.array([2,2]).T @ x))), 1, X_discriminative)\n"
   ]
  },
  {
   "cell_type": "code",
   "execution_count": 89,
   "metadata": {
    "ExecuteTime": {
     "end_time": "2024-03-03T16:37:11.269527528Z",
     "start_time": "2024-03-03T16:37:11.177491511Z"
    }
   },
   "outputs": [
    {
     "data": {
      "text/plain": "LogisticRegression(penalty=None)",
      "text/html": "<style>#sk-container-id-5 {\n  /* Definition of color scheme common for light and dark mode */\n  --sklearn-color-text: black;\n  --sklearn-color-line: gray;\n  /* Definition of color scheme for unfitted estimators */\n  --sklearn-color-unfitted-level-0: #fff5e6;\n  --sklearn-color-unfitted-level-1: #f6e4d2;\n  --sklearn-color-unfitted-level-2: #ffe0b3;\n  --sklearn-color-unfitted-level-3: chocolate;\n  /* Definition of color scheme for fitted estimators */\n  --sklearn-color-fitted-level-0: #f0f8ff;\n  --sklearn-color-fitted-level-1: #d4ebff;\n  --sklearn-color-fitted-level-2: #b3dbfd;\n  --sklearn-color-fitted-level-3: cornflowerblue;\n\n  /* Specific color for light theme */\n  --sklearn-color-text-on-default-background: var(--sg-text-color, var(--theme-code-foreground, var(--jp-content-font-color1, black)));\n  --sklearn-color-background: var(--sg-background-color, var(--theme-background, var(--jp-layout-color0, white)));\n  --sklearn-color-border-box: var(--sg-text-color, var(--theme-code-foreground, var(--jp-content-font-color1, black)));\n  --sklearn-color-icon: #696969;\n\n  @media (prefers-color-scheme: dark) {\n    /* Redefinition of color scheme for dark theme */\n    --sklearn-color-text-on-default-background: var(--sg-text-color, var(--theme-code-foreground, var(--jp-content-font-color1, white)));\n    --sklearn-color-background: var(--sg-background-color, var(--theme-background, var(--jp-layout-color0, #111)));\n    --sklearn-color-border-box: var(--sg-text-color, var(--theme-code-foreground, var(--jp-content-font-color1, white)));\n    --sklearn-color-icon: #878787;\n  }\n}\n\n#sk-container-id-5 {\n  color: var(--sklearn-color-text);\n}\n\n#sk-container-id-5 pre {\n  padding: 0;\n}\n\n#sk-container-id-5 input.sk-hidden--visually {\n  border: 0;\n  clip: rect(1px 1px 1px 1px);\n  clip: rect(1px, 1px, 1px, 1px);\n  height: 1px;\n  margin: -1px;\n  overflow: hidden;\n  padding: 0;\n  position: absolute;\n  width: 1px;\n}\n\n#sk-container-id-5 div.sk-dashed-wrapped {\n  border: 1px dashed var(--sklearn-color-line);\n  margin: 0 0.4em 0.5em 0.4em;\n  box-sizing: border-box;\n  padding-bottom: 0.4em;\n  background-color: var(--sklearn-color-background);\n}\n\n#sk-container-id-5 div.sk-container {\n  /* jupyter's `normalize.less` sets `[hidden] { display: none; }`\n     but bootstrap.min.css set `[hidden] { display: none !important; }`\n     so we also need the `!important` here to be able to override the\n     default hidden behavior on the sphinx rendered scikit-learn.org.\n     See: https://github.com/scikit-learn/scikit-learn/issues/21755 */\n  display: inline-block !important;\n  position: relative;\n}\n\n#sk-container-id-5 div.sk-text-repr-fallback {\n  display: none;\n}\n\ndiv.sk-parallel-item,\ndiv.sk-serial,\ndiv.sk-item {\n  /* draw centered vertical line to link estimators */\n  background-image: linear-gradient(var(--sklearn-color-text-on-default-background), var(--sklearn-color-text-on-default-background));\n  background-size: 2px 100%;\n  background-repeat: no-repeat;\n  background-position: center center;\n}\n\n/* Parallel-specific style estimator block */\n\n#sk-container-id-5 div.sk-parallel-item::after {\n  content: \"\";\n  width: 100%;\n  border-bottom: 2px solid var(--sklearn-color-text-on-default-background);\n  flex-grow: 1;\n}\n\n#sk-container-id-5 div.sk-parallel {\n  display: flex;\n  align-items: stretch;\n  justify-content: center;\n  background-color: var(--sklearn-color-background);\n  position: relative;\n}\n\n#sk-container-id-5 div.sk-parallel-item {\n  display: flex;\n  flex-direction: column;\n}\n\n#sk-container-id-5 div.sk-parallel-item:first-child::after {\n  align-self: flex-end;\n  width: 50%;\n}\n\n#sk-container-id-5 div.sk-parallel-item:last-child::after {\n  align-self: flex-start;\n  width: 50%;\n}\n\n#sk-container-id-5 div.sk-parallel-item:only-child::after {\n  width: 0;\n}\n\n/* Serial-specific style estimator block */\n\n#sk-container-id-5 div.sk-serial {\n  display: flex;\n  flex-direction: column;\n  align-items: center;\n  background-color: var(--sklearn-color-background);\n  padding-right: 1em;\n  padding-left: 1em;\n}\n\n\n/* Toggleable style: style used for estimator/Pipeline/ColumnTransformer box that is\nclickable and can be expanded/collapsed.\n- Pipeline and ColumnTransformer use this feature and define the default style\n- Estimators will overwrite some part of the style using the `sk-estimator` class\n*/\n\n/* Pipeline and ColumnTransformer style (default) */\n\n#sk-container-id-5 div.sk-toggleable {\n  /* Default theme specific background. It is overwritten whether we have a\n  specific estimator or a Pipeline/ColumnTransformer */\n  background-color: var(--sklearn-color-background);\n}\n\n/* Toggleable label */\n#sk-container-id-5 label.sk-toggleable__label {\n  cursor: pointer;\n  display: block;\n  width: 100%;\n  margin-bottom: 0;\n  padding: 0.5em;\n  box-sizing: border-box;\n  text-align: center;\n}\n\n#sk-container-id-5 label.sk-toggleable__label-arrow:before {\n  /* Arrow on the left of the label */\n  content: \"▸\";\n  float: left;\n  margin-right: 0.25em;\n  color: var(--sklearn-color-icon);\n}\n\n#sk-container-id-5 label.sk-toggleable__label-arrow:hover:before {\n  color: var(--sklearn-color-text);\n}\n\n/* Toggleable content - dropdown */\n\n#sk-container-id-5 div.sk-toggleable__content {\n  max-height: 0;\n  max-width: 0;\n  overflow: hidden;\n  text-align: left;\n  /* unfitted */\n  background-color: var(--sklearn-color-unfitted-level-0);\n}\n\n#sk-container-id-5 div.sk-toggleable__content.fitted {\n  /* fitted */\n  background-color: var(--sklearn-color-fitted-level-0);\n}\n\n#sk-container-id-5 div.sk-toggleable__content pre {\n  margin: 0.2em;\n  border-radius: 0.25em;\n  color: var(--sklearn-color-text);\n  /* unfitted */\n  background-color: var(--sklearn-color-unfitted-level-0);\n}\n\n#sk-container-id-5 div.sk-toggleable__content.fitted pre {\n  /* unfitted */\n  background-color: var(--sklearn-color-fitted-level-0);\n}\n\n#sk-container-id-5 input.sk-toggleable__control:checked~div.sk-toggleable__content {\n  /* Expand drop-down */\n  max-height: 200px;\n  max-width: 100%;\n  overflow: auto;\n}\n\n#sk-container-id-5 input.sk-toggleable__control:checked~label.sk-toggleable__label-arrow:before {\n  content: \"▾\";\n}\n\n/* Pipeline/ColumnTransformer-specific style */\n\n#sk-container-id-5 div.sk-label input.sk-toggleable__control:checked~label.sk-toggleable__label {\n  color: var(--sklearn-color-text);\n  background-color: var(--sklearn-color-unfitted-level-2);\n}\n\n#sk-container-id-5 div.sk-label.fitted input.sk-toggleable__control:checked~label.sk-toggleable__label {\n  background-color: var(--sklearn-color-fitted-level-2);\n}\n\n/* Estimator-specific style */\n\n/* Colorize estimator box */\n#sk-container-id-5 div.sk-estimator input.sk-toggleable__control:checked~label.sk-toggleable__label {\n  /* unfitted */\n  background-color: var(--sklearn-color-unfitted-level-2);\n}\n\n#sk-container-id-5 div.sk-estimator.fitted input.sk-toggleable__control:checked~label.sk-toggleable__label {\n  /* fitted */\n  background-color: var(--sklearn-color-fitted-level-2);\n}\n\n#sk-container-id-5 div.sk-label label.sk-toggleable__label,\n#sk-container-id-5 div.sk-label label {\n  /* The background is the default theme color */\n  color: var(--sklearn-color-text-on-default-background);\n}\n\n/* On hover, darken the color of the background */\n#sk-container-id-5 div.sk-label:hover label.sk-toggleable__label {\n  color: var(--sklearn-color-text);\n  background-color: var(--sklearn-color-unfitted-level-2);\n}\n\n/* Label box, darken color on hover, fitted */\n#sk-container-id-5 div.sk-label.fitted:hover label.sk-toggleable__label.fitted {\n  color: var(--sklearn-color-text);\n  background-color: var(--sklearn-color-fitted-level-2);\n}\n\n/* Estimator label */\n\n#sk-container-id-5 div.sk-label label {\n  font-family: monospace;\n  font-weight: bold;\n  display: inline-block;\n  line-height: 1.2em;\n}\n\n#sk-container-id-5 div.sk-label-container {\n  text-align: center;\n}\n\n/* Estimator-specific */\n#sk-container-id-5 div.sk-estimator {\n  font-family: monospace;\n  border: 1px dotted var(--sklearn-color-border-box);\n  border-radius: 0.25em;\n  box-sizing: border-box;\n  margin-bottom: 0.5em;\n  /* unfitted */\n  background-color: var(--sklearn-color-unfitted-level-0);\n}\n\n#sk-container-id-5 div.sk-estimator.fitted {\n  /* fitted */\n  background-color: var(--sklearn-color-fitted-level-0);\n}\n\n/* on hover */\n#sk-container-id-5 div.sk-estimator:hover {\n  /* unfitted */\n  background-color: var(--sklearn-color-unfitted-level-2);\n}\n\n#sk-container-id-5 div.sk-estimator.fitted:hover {\n  /* fitted */\n  background-color: var(--sklearn-color-fitted-level-2);\n}\n\n/* Specification for estimator info (e.g. \"i\" and \"?\") */\n\n/* Common style for \"i\" and \"?\" */\n\n.sk-estimator-doc-link,\na:link.sk-estimator-doc-link,\na:visited.sk-estimator-doc-link {\n  float: right;\n  font-size: smaller;\n  line-height: 1em;\n  font-family: monospace;\n  background-color: var(--sklearn-color-background);\n  border-radius: 1em;\n  height: 1em;\n  width: 1em;\n  text-decoration: none !important;\n  margin-left: 1ex;\n  /* unfitted */\n  border: var(--sklearn-color-unfitted-level-1) 1pt solid;\n  color: var(--sklearn-color-unfitted-level-1);\n}\n\n.sk-estimator-doc-link.fitted,\na:link.sk-estimator-doc-link.fitted,\na:visited.sk-estimator-doc-link.fitted {\n  /* fitted */\n  border: var(--sklearn-color-fitted-level-1) 1pt solid;\n  color: var(--sklearn-color-fitted-level-1);\n}\n\n/* On hover */\ndiv.sk-estimator:hover .sk-estimator-doc-link:hover,\n.sk-estimator-doc-link:hover,\ndiv.sk-label-container:hover .sk-estimator-doc-link:hover,\n.sk-estimator-doc-link:hover {\n  /* unfitted */\n  background-color: var(--sklearn-color-unfitted-level-3);\n  color: var(--sklearn-color-background);\n  text-decoration: none;\n}\n\ndiv.sk-estimator.fitted:hover .sk-estimator-doc-link.fitted:hover,\n.sk-estimator-doc-link.fitted:hover,\ndiv.sk-label-container:hover .sk-estimator-doc-link.fitted:hover,\n.sk-estimator-doc-link.fitted:hover {\n  /* fitted */\n  background-color: var(--sklearn-color-fitted-level-3);\n  color: var(--sklearn-color-background);\n  text-decoration: none;\n}\n\n/* Span, style for the box shown on hovering the info icon */\n.sk-estimator-doc-link span {\n  display: none;\n  z-index: 9999;\n  position: relative;\n  font-weight: normal;\n  right: .2ex;\n  padding: .5ex;\n  margin: .5ex;\n  width: min-content;\n  min-width: 20ex;\n  max-width: 50ex;\n  color: var(--sklearn-color-text);\n  box-shadow: 2pt 2pt 4pt #999;\n  /* unfitted */\n  background: var(--sklearn-color-unfitted-level-0);\n  border: .5pt solid var(--sklearn-color-unfitted-level-3);\n}\n\n.sk-estimator-doc-link.fitted span {\n  /* fitted */\n  background: var(--sklearn-color-fitted-level-0);\n  border: var(--sklearn-color-fitted-level-3);\n}\n\n.sk-estimator-doc-link:hover span {\n  display: block;\n}\n\n/* \"?\"-specific style due to the `<a>` HTML tag */\n\n#sk-container-id-5 a.estimator_doc_link {\n  float: right;\n  font-size: 1rem;\n  line-height: 1em;\n  font-family: monospace;\n  background-color: var(--sklearn-color-background);\n  border-radius: 1rem;\n  height: 1rem;\n  width: 1rem;\n  text-decoration: none;\n  /* unfitted */\n  color: var(--sklearn-color-unfitted-level-1);\n  border: var(--sklearn-color-unfitted-level-1) 1pt solid;\n}\n\n#sk-container-id-5 a.estimator_doc_link.fitted {\n  /* fitted */\n  border: var(--sklearn-color-fitted-level-1) 1pt solid;\n  color: var(--sklearn-color-fitted-level-1);\n}\n\n/* On hover */\n#sk-container-id-5 a.estimator_doc_link:hover {\n  /* unfitted */\n  background-color: var(--sklearn-color-unfitted-level-3);\n  color: var(--sklearn-color-background);\n  text-decoration: none;\n}\n\n#sk-container-id-5 a.estimator_doc_link.fitted:hover {\n  /* fitted */\n  background-color: var(--sklearn-color-fitted-level-3);\n}\n</style><div id=\"sk-container-id-5\" class=\"sk-top-container\"><div class=\"sk-text-repr-fallback\"><pre>LogisticRegression(penalty=None)</pre><b>In a Jupyter environment, please rerun this cell to show the HTML representation or trust the notebook. <br />On GitHub, the HTML representation is unable to render, please try loading this page with nbviewer.org.</b></div><div class=\"sk-container\" hidden><div class=\"sk-item\"><div class=\"sk-estimator fitted sk-toggleable\"><input class=\"sk-toggleable__control sk-hidden--visually\" id=\"sk-estimator-id-5\" type=\"checkbox\" checked><label for=\"sk-estimator-id-5\" class=\"sk-toggleable__label fitted sk-toggleable__label-arrow fitted\">&nbsp;&nbsp;LogisticRegression<a class=\"sk-estimator-doc-link fitted\" rel=\"noreferrer\" target=\"_blank\" href=\"https://scikit-learn.org/1.4/modules/generated/sklearn.linear_model.LogisticRegression.html\">?<span>Documentation for LogisticRegression</span></a><span class=\"sk-estimator-doc-link fitted\">i<span>Fitted</span></span></label><div class=\"sk-toggleable__content fitted\"><pre>LogisticRegression(penalty=None)</pre></div> </div></div></div></div>"
     },
     "execution_count": 89,
     "metadata": {},
     "output_type": "execute_result"
    }
   ],
   "source": [
    "mod_b = LogisticRegression(penalty=None)\n",
    "mod_b.fit(X_discriminative, Y_discriminative)"
   ]
  },
  {
   "cell_type": "code",
   "outputs": [
    {
     "data": {
      "text/plain": "(array([-2.06533368]), array([[2.03432196, 2.0522426 ]]))"
     },
     "execution_count": 90,
     "metadata": {},
     "output_type": "execute_result"
    }
   ],
   "source": [
    "mod_b.intercept_, mod_b.coef_"
   ],
   "metadata": {
    "collapsed": false,
    "ExecuteTime": {
     "end_time": "2024-03-03T16:37:11.310502358Z",
     "start_time": "2024-03-03T16:37:11.252324920Z"
    }
   },
   "execution_count": 90
  },
  {
   "cell_type": "markdown",
   "metadata": {},
   "source": [
    "#### Second bullet point"
   ]
  },
  {
   "cell_type": "code",
   "execution_count": 91,
   "metadata": {
    "ExecuteTime": {
     "end_time": "2024-03-03T16:37:11.791033818Z",
     "start_time": "2024-03-03T16:37:11.304350133Z"
    }
   },
   "outputs": [
    {
     "data": {
      "text/plain": "<Figure size 640x480 with 2 Axes>",
      "image/png": "[encoded data removed]"
     },
     "metadata": {},
     "output_type": "display_data"
    }
   ],
   "source": [
    "plt.subplot(1, 2, 1)\n",
    "plt.scatter(x=X_generative[:, 0], y=X_generative[:, 1], c=Y_generative)\n",
    "plt.ylim(-4,4)\n",
    "plt.xlim(-4,4)\n",
    "plt.subplot(1, 2, 2)\n",
    "plt.scatter(x=X_discriminative[:, 0], y=X_discriminative[:, 1], c=Y_discriminative)\n",
    "plt.ylim(-4,4)\n",
    "plt.xlim(-4,4)\n",
    "plt.show()"
   ]
  },
  {
   "cell_type": "markdown",
   "metadata": {},
   "source": [
    "What distinguishes the generative approach from the discriminative approach?\n",
    "##### _Solution_:\n",
    "There is no visible difference in the plots of $P_{X,Y}$ distribution.\n",
    "What those two methods differ in is what we control directly, in the generative approach we control $\\pi$ while in discriminative approach we directly control $P(Y=1|x)$"
   ]
  },
  {
   "cell_type": "markdown",
   "metadata": {},
   "source": [
    "### c) "
   ]
  },
  {
   "cell_type": "markdown",
   "metadata": {},
   "source": [
    "To sample from $f_{X|Y=-1}$, first, we will give an answer to Q1.\n",
    "\n",
    "Q1. A hint: use Bayes theorem for $p(x|y=-1)$ and use law of total probability for $p(x)$.\n",
    "\n",
    "#### _Solution_:\n",
    "$$p(y=1|x) = \\frac{\\pi p(x|y=1)}{\\pi p(x|y=1) + (1-\\pi) p(x|y=-1)}.$$\n",
    "\n",
    "$$(\\pi p(x|y=1) + (1-\\pi) p(x|y=-1)) p(y=1|x) = \\pi p(x|y=1)$$\n",
    "$$p(x|y=-1) = \\frac{\\pi p(x|y=1) - p(y=1|x)\\pi p(x|y=1)}{p(y=1|x)(1-\\pi)}$$\n",
    "$$= \\frac{\\pi p(x|y=1)( 1 - p(y=1|x) )}{p(y=1|x)(1-\\pi)}$$\n",
    "$$= \\frac{\\pi p(x|y=1)}{1-\\pi} \\frac{1-p(y=1|x)}{p(y=1|x)}$$\n",
    "$$= \\frac{\\pi p(x|y=1)}{1-\\pi} (\\frac{1}{p(y=1|x)} -1)$$\n",
    "\n",
    "$p(y=1|x)$ corresponds to logistic model and $p(x|y=1)$ corresponds to exponential distribution so:\n",
    "$$p(x|y=-1) = \\frac{\\pi e^{-x}}{1-\\pi} e^{(-\\beta_0 - \\beta_1 x)}$$\n",
    "$$= \\frac{\\pi e^{-\\beta_0}}{1-\\pi} e^{-x(1+\\beta_1)}$$\n",
    "$$= C_{\\beta_0, \\pi} e^{-x(1+\\beta_1)}$$\n",
    "\n",
    "Where\n",
    "$$C_{\\beta_0, \\pi} = \\frac{\\pi e^{-\\beta_0}}{1-\\pi}$$\n",
    "must equal $1+\\beta_1$ to give a probability distribution function ( integral over domain equal to 1 )\n"
   ]
  },
  {
   "cell_type": "markdown",
   "metadata": {},
   "source": [
    "Q2: Once we fix $\\pi$,  $\\beta_0$ is constrained by $C_{\\beta_0, \\pi} = 1 + \\beta_1$, as such it is always uniquely determined\n",
    "Q3: Since we do not know $\\pi$ we can not uniquely determine $\\beta_0$ as we obtain a more or less linear (linear with regard to $-\\log(\\beta_0)$ equation with 2 unknown values\n",
    "Q2, Q3. A hint: what is the distribution of $f_{X|Y=-1}$? What ia a norming constant?\n",
    "\n",
    "..."
   ]
  },
  {
   "cell_type": "markdown",
   "metadata": {},
   "source": [
    "If that is doable, given $\\beta_1$ and $\\pi$ compute $\\beta_0$.\n",
    "\n",
    "A hint: Of course it is, compute $\\beta_0$.\n",
    "\n",
    "setting $\\beta_1 = 1$ and $\\pi = 1/3$ we substitute those values into equation for $C_{\\beta_0, \\pi}$\n",
    "$$C_{\\beta_0, \\pi} = 1 + \\beta_1 = 2 = \\frac{\\pi e^{-\\beta_0}}{1-\\pi}$$\n",
    "$$ = \\frac{  e^{-\\beta_0}}{2}$$\n",
    "$$4 = e^{-\\beta_0}$$\n",
    "$$\\beta_0 = -\\log(4) ~= -1.386$$\n",
    "\n"
   ]
  },
  {
   "cell_type": "code",
   "outputs": [
    {
     "data": {
      "text/plain": "1.3862943611198906"
     },
     "execution_count": 92,
     "metadata": {},
     "output_type": "execute_result"
    }
   ],
   "source": [
    "import numpy as np\n",
    "np.log(4)"
   ],
   "metadata": {
    "collapsed": false,
    "ExecuteTime": {
     "end_time": "2024-03-03T16:37:11.799363351Z",
     "start_time": "2024-03-03T16:37:11.795194452Z"
    }
   },
   "execution_count": 92
  },
  {
   "cell_type": "code",
   "outputs": [],
   "source": [
    "# sampling\n",
    "beta1 = 1\n",
    "n1 = 1000\n",
    "n2 = 2000\n",
    "\n",
    "x1 = np.random.exponential(1, size=n1)\n",
    "x2 = np.random.exponential(1/(beta1 + 1), size=n2)\n",
    "X = np.concatenate([x1, x2]).reshape(-1, 1)\n",
    "y = np.concatenate([np.ones(n1), np.zeros(n2)])"
   ],
   "metadata": {
    "ExecuteTime": {
     "end_time": "2024-03-03T16:37:11.941081675Z",
     "start_time": "2024-03-03T16:37:11.807696230Z"
    }
   },
   "execution_count": 93
  },
  {
   "cell_type": "code",
   "outputs": [
    {
     "data": {
      "text/plain": "(array([-1.36010744]), array([[0.97473931]]))"
     },
     "execution_count": 94,
     "metadata": {},
     "output_type": "execute_result"
    }
   ],
   "source": [
    "# a model\n",
    "model = LogisticRegression(penalty=None)\n",
    "model.fit(X, y)\n",
    "model.intercept_, model.coef_"
   ],
   "metadata": {
    "ExecuteTime": {
     "end_time": "2024-03-03T16:37:11.943000350Z",
     "start_time": "2024-03-03T16:37:11.824017286Z"
    }
   },
   "execution_count": 94
  },
  {
   "cell_type": "code",
   "execution_count": 95,
   "metadata": {
    "ExecuteTime": {
     "end_time": "2024-03-03T16:37:12.016461662Z",
     "start_time": "2024-03-03T16:37:11.846314979Z"
    }
   },
   "outputs": [
    {
     "data": {
      "text/plain": "-1.3862943611198908"
     },
     "execution_count": 95,
     "metadata": {},
     "output_type": "execute_result"
    }
   ],
   "source": [
    "beta1 = 1\n",
    "pi_c = n1/(n1 + n2)\n",
    "beta0 = -np.log((1+beta1) * (1 - pi_c)/pi_c) # for any values of b1 and n1, n2\n",
    "beta0"
   ]
  },
  {
   "attachments": {},
   "cell_type": "markdown",
   "metadata": {},
   "source": [
    "## Task 2"
   ]
  },
  {
   "cell_type": "markdown",
   "metadata": {},
   "source": [
    "### a)\n",
    "\n",
    "$R(a,a^*) = \\mathbb{E} \\mathcal{L}(f(X), Y) = \\mathbb{E}(aX - Y)^2 = ...$,\n",
    "\n",
    "In our task we know $a^* = 1$."
   ]
  },
  {
   "cell_type": "code",
   "execution_count": 96,
   "metadata": {
    "ExecuteTime": {
     "end_time": "2024-03-03T16:37:12.017995630Z",
     "start_time": "2024-03-03T16:37:11.887226140Z"
    }
   },
   "outputs": [],
   "source": [
    "# def population_risk(a, sigma_eps):\n",
    "#     return ..."
   ]
  },
  {
   "attachments": {},
   "cell_type": "markdown",
   "metadata": {},
   "source": [
    "### b)"
   ]
  },
  {
   "cell_type": "code",
   "execution_count": 97,
   "metadata": {
    "ExecuteTime": {
     "end_time": "2024-03-03T16:37:12.019353391Z",
     "start_time": "2024-03-03T16:37:11.887568318Z"
    }
   },
   "outputs": [],
   "source": [
    "# sampling"
   ]
  },
  {
   "cell_type": "markdown",
   "metadata": {},
   "source": [
    "Empirical risk: $\\frac{1}{n} \\sum_{i=1}^n (ax_i - y_i)^2$"
   ]
  },
  {
   "cell_type": "code",
   "execution_count": 98,
   "metadata": {
    "ExecuteTime": {
     "end_time": "2024-03-03T16:37:12.042958691Z",
     "start_time": "2024-03-03T16:37:11.891889812Z"
    }
   },
   "outputs": [],
   "source": [
    "# def empirical_risk(a, x, y):\n",
    "#     return ..."
   ]
  },
  {
   "attachments": {},
   "cell_type": "markdown",
   "metadata": {},
   "source": [
    "### c)"
   ]
  },
  {
   "cell_type": "code",
   "execution_count": 99,
   "metadata": {
    "ExecuteTime": {
     "end_time": "2024-03-03T16:37:12.043266274Z",
     "start_time": "2024-03-03T16:37:11.933262904Z"
    }
   },
   "outputs": [],
   "source": [
    "# code, plot"
   ]
  },
  {
   "attachments": {},
   "cell_type": "markdown",
   "metadata": {},
   "source": [
    "### d)"
   ]
  },
  {
   "cell_type": "markdown",
   "metadata": {},
   "source": [
    "Excess risk: $$E(\\hat a, a^*) =R(\\hat a, a^*) - \\textrm{inf}_{a \\in A_0} R(a, a^*)$$"
   ]
  },
  {
   "cell_type": "code",
   "execution_count": 100,
   "metadata": {
    "ExecuteTime": {
     "end_time": "2024-03-03T16:37:12.044657066Z",
     "start_time": "2024-03-03T16:37:11.933630729Z"
    }
   },
   "outputs": [],
   "source": [
    "# excess risk\n",
    "# ..."
   ]
  },
  {
   "cell_type": "code",
   "execution_count": 101,
   "metadata": {
    "ExecuteTime": {
     "end_time": "2024-03-03T16:37:12.071038109Z",
     "start_time": "2024-03-03T16:37:11.941100991Z"
    }
   },
   "outputs": [],
   "source": [
    "# simulations with fixed sample size"
   ]
  },
  {
   "cell_type": "code",
   "execution_count": 102,
   "metadata": {
    "ExecuteTime": {
     "end_time": "2024-03-03T16:37:12.072590512Z",
     "start_time": "2024-03-03T16:37:11.982075781Z"
    }
   },
   "outputs": [],
   "source": [
    "# simulations for various sample sizes"
   ]
  },
  {
   "cell_type": "code",
   "execution_count": 103,
   "metadata": {
    "ExecuteTime": {
     "end_time": "2024-03-03T16:37:12.146635481Z",
     "start_time": "2024-03-03T16:37:11.982358247Z"
    }
   },
   "outputs": [],
   "source": [
    "# a nice plot visualising the results (how the unconditional excess risk changes with a sample size)"
   ]
  }
 ],
 "metadata": {
  "kernelspec": {
   "display_name": "base",
   "language": "python",
   "name": "python3"
  },
  "language_info": {
   "codemirror_mode": {
    "name": "ipython",
    "version": 3
   },
   "file_extension": ".py",
   "mimetype": "text/x-python",
   "name": "python",
   "nbconvert_exporter": "python",
   "pygments_lexer": "ipython3",
   "version": "3.9.16"
  },
  "orig_nbformat": 4
 },
 "nbformat": 4,
 "nbformat_minor": 2
}
