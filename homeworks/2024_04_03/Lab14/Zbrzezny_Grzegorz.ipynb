{
  "cells": [
    {
      "cell_type": "markdown",
      "metadata": {
        "id": "MbJNKXab8FCJ"
      },
      "source": [
        "# Mathematical Underpinnings - Lab 6"
      ]
    },
    {
      "cell_type": "code",
      "execution_count": null,
      "metadata": {
        "id": "U8bVDtMi8FCK"
      },
      "outputs": [],
      "source": [
        "from sklearn.metrics import mutual_info_score\n",
        "import numpy as np\n",
        "import matplotlib.pyplot as plt\n",
        "import seaborn as sns\n",
        "import pandas as pd\n",
        "from tqdm import tqdm"
      ]
    },
    {
      "cell_type": "markdown",
      "metadata": {
        "id": "zz-i5RME8FCK"
      },
      "source": [
        "## Useful functions"
      ]
    },
    {
      "cell_type": "code",
      "execution_count": null,
      "metadata": {
        "id": "eG9udPjL8FCK"
      },
      "outputs": [],
      "source": [
        "def discetize_2bins(X):\n",
        "    X_discrete = 1*(X >= 0)\n",
        "    return X_discrete"
      ]
    },
    {
      "cell_type": "code",
      "execution_count": null,
      "metadata": {
        "id": "XNOF-njB8FCK"
      },
      "outputs": [],
      "source": [
        "def conditional_permutation(X, Z):\n",
        "\n",
        "    z_values = np.unique(Z)\n",
        "    n_z_values = len(z_values)\n",
        "    n = len(Z)\n",
        "\n",
        "    X_b = np.zeros(n)\n",
        "\n",
        "    for i in range(n_z_values):\n",
        "\n",
        "        z_value_tmp = z_values[i]\n",
        "\n",
        "        X_b[Z == z_value_tmp] = np.random.permutation(X[Z == z_value_tmp])\n",
        "\n",
        "    return X_b"
      ]
    },
    {
      "cell_type": "code",
      "execution_count": null,
      "metadata": {
        "id": "JdPMx_YK8FCK"
      },
      "outputs": [],
      "source": [
        "def conditional_mutual_information(X, Y, Z):\n",
        "\n",
        "    z_values = np.unique(Z)\n",
        "    n_z_values = len(z_values)\n",
        "    n = len(Z)\n",
        "\n",
        "    cmi = 0\n",
        "\n",
        "    for i in range(n_z_values):\n",
        "\n",
        "        z_value_tmp = z_values[i]\n",
        "        z_condition = (Z == z_value_tmp)\n",
        "\n",
        "        X_z = X[z_condition]\n",
        "        Y_z = Y[z_condition]\n",
        "\n",
        "        mi_XY_z = mutual_info_score(X_z, Y_z)\n",
        "        p_z = np.sum(z_condition)/n\n",
        "\n",
        "        cmi += p_z*mi_XY_z\n",
        "\n",
        "    return cmi"
      ]
    },
    {
      "cell_type": "code",
      "execution_count": null,
      "metadata": {
        "id": "iWldRfbW8FCK"
      },
      "outputs": [],
      "source": [
        "# II(X;Y;Z)\n",
        "def interaction_information(X, Y, Z):\n",
        "    return conditional_mutual_information(X, Y, Z) - mutual_info_score(X, Y)"
      ]
    },
    {
      "cell_type": "code",
      "execution_count": null,
      "metadata": {
        "id": "cPmk3lFM8FCL"
      },
      "outputs": [],
      "source": [
        "# II(X;Y;Z1;Z2)\n",
        "def interaction_information2(X, Y, Z1, Z2):\n",
        "    Z_1_and_2 = 2*Z2 + Z1\n",
        "    return interaction_information(X, Y, Z_1_and_2) - interaction_information(X, Y, Z1) - interaction_information(X, Y, Z2)"
      ]
    },
    {
      "cell_type": "markdown",
      "metadata": {
        "id": "0aujKUeJ8FCL"
      },
      "source": [
        "## Task 1"
      ]
    },
    {
      "cell_type": "code",
      "execution_count": null,
      "metadata": {
        "id": "stU_Ug_28FCL"
      },
      "outputs": [],
      "source": [
        "def secmi2(X, Y, Z):\n",
        "    n_col_Z = Z.shape[1]\n",
        "    Z_1dim = np.dot(Z, 2**np.linspace(0, n_col_Z-1, n_col_Z))\n",
        "    return mutual_info_score(X, Y) + conditional_mutual_information(X, Y, Z_1dim)\n",
        "\n",
        "\n",
        "def secmi3(X, Y, Z):\n",
        "    n_col_Z = Z.shape[1]\n",
        "    Z_1dim = np.dot(Z, 2**np.linspace(0, n_col_Z-1, n_col_Z))\n",
        "    secmi2 = mutual_info_score(X, Y) + conditional_mutual_information(X, Y, Z_1dim)\n",
        "    II = 0\n",
        "    for j in range(Z.shape[1]):\n",
        "      for i in range(j):\n",
        "        II += interaction_information2(X, Y, Z[:, i], Z[:, j])\n",
        "    return secmi2 + II"
      ]
    },
    {
      "cell_type": "markdown",
      "metadata": {
        "id": "O43SHNWa8FCL"
      },
      "source": [
        "### a)"
      ]
    },
    {
      "cell_type": "code",
      "execution_count": null,
      "metadata": {
        "id": "fAypbwd78FCL"
      },
      "outputs": [],
      "source": [
        "def cond_indep_test_permutation(X, Y, Z, B, stat):\n",
        "\n",
        "    n_col_Z = Z.shape[1]\n",
        "    Z_1dim = np.dot(Z, 2**np.linspace(0, n_col_Z-1, n_col_Z))\n",
        "\n",
        "    if stat == \"cmi\":\n",
        "        stat_value = conditional_mutual_information(X, Y, Z_1dim)\n",
        "    if stat == \"secmi2\":\n",
        "        stat_value = secmi2(X, Y, Z)\n",
        "    if stat == \"secmi3\":\n",
        "        stat_value = secmi3(X, Y, Z)\n",
        "\n",
        "    condition_p_value = 0\n",
        "    for b in range(B):\n",
        "        X_b = conditional_permutation(X, Z_1dim)\n",
        "\n",
        "        if stat == \"cmi\":\n",
        "            stat_value_b = conditional_mutual_information(X_b, Y, Z_1dim)\n",
        "        if stat == \"secmi2\":\n",
        "            stat_value_b = secmi2(X_b, Y, Z)\n",
        "        if stat == \"secmi3\":\n",
        "            stat_value_b = secmi3(X_b, Y, Z)\n",
        "\n",
        "        if stat_value <= stat_value_b:\n",
        "            condition_p_value += 1\n",
        "\n",
        "    p_value = (1 + condition_p_value)/(1 + B)\n",
        "\n",
        "    return 2*len(X)*stat_value, p_value"
      ]
    },
    {
      "cell_type": "markdown",
      "metadata": {
        "id": "XQG6YZqp8FCL"
      },
      "source": [
        "### b)"
      ]
    },
    {
      "cell_type": "code",
      "execution_count": null,
      "metadata": {
        "id": "ICH9dzkK8FCL"
      },
      "outputs": [],
      "source": [
        "def sample_from_model(n=1000):\n",
        "    Y = np.random.normal(0, 1, n)\n",
        "    Y[Y<0] = -1\n",
        "    Y[Y>=0] = 1\n",
        "\n",
        "    Z1 = np.expand_dims(np.random.normal(Y/2, 1, n), 1)\n",
        "    Z1[Z1<0] = -1\n",
        "    Z1[Z1>=0] = 1\n",
        "\n",
        "    Z2 = np.expand_dims(np.random.normal(Y/2, 1, n), 1)\n",
        "    Z2[Z2<0] = -1\n",
        "    Z2[Z2>=0] = 1\n",
        "\n",
        "    Z3 = np.expand_dims(np.random.normal(Y/2, 1, n), 1)\n",
        "    Z3[Z3<0] = -1\n",
        "    Z3[Z3>=0] = 1\n",
        "\n",
        "    X = np.random.normal(Z1.T[0]/2, 1, n)\n",
        "    X[X<0] = -1\n",
        "    X[X>=0] = 1\n",
        "    return X, Y, Z1, Z2, Z3"
      ]
    },
    {
      "cell_type": "code",
      "source": [
        "X, Y, Z1, Z2, Z3 = sample_from_model()"
      ],
      "metadata": {
        "id": "xvPna3C-BvX2"
      },
      "execution_count": null,
      "outputs": []
    },
    {
      "cell_type": "code",
      "source": [
        "Z = np.concatenate((Z1, Z2), 1)\n",
        "s2_stat, s2_p = cond_indep_test_permutation(X, Y, Z, 20, \"secmi2\")\n",
        "s3_stat, s3_p = cond_indep_test_permutation(X, Y, Z, 20, \"secmi3\")\n",
        "\n",
        "# print(f\"Secmi2 statiscti: {s2_stat}, p-val {s2_p}\")\n",
        "# print(f\"Secmi3 statiscti: {s3_stat}, p-val {s3_p}\")"
      ],
      "metadata": {
        "colab": {
          "base_uri": "https://localhost:8080/"
        },
        "id": "bj_OoaBfBzze",
        "outputId": "2b9aaf3a-58a1-447c-afc2-dc97ea9e37d5"
      },
      "execution_count": null,
      "outputs": [
        {
          "output_type": "stream",
          "name": "stdout",
          "text": [
            "Secmi2 statiscti: 5.255193959762449, p-val 0.43137254901960786\n",
            "Secmi3 statiscti: 9.456559499577857, p-val 0.21568627450980393\n"
          ]
        }
      ]
    },
    {
      "cell_type": "code",
      "source": [
        "Z = np.concatenate((Z2, Z3), 1)\n",
        "s2_stat, s2_p = cond_indep_test_permutation(X, Y, Z, 20, \"secmi2\")\n",
        "s3_stat, s3_p = cond_indep_test_permutation(X, Y, Z, 20, \"secmi3\")\n",
        "\n",
        "# print(f\"Secmi2 statiscti: {s2_stat}, p-val {s2_p}\")\n",
        "# print(f\"Secmi3 statiscti: {s3_stat}, p-val {s3_p}\")"
      ],
      "metadata": {
        "colab": {
          "base_uri": "https://localhost:8080/"
        },
        "id": "1OuL3kCfF90l",
        "outputId": "112e1ca2-fb54-4687-f211-e810df2ff905"
      },
      "execution_count": null,
      "outputs": [
        {
          "output_type": "stream",
          "name": "stdout",
          "text": [
            "Secmi2 statiscti: 10.615579106957195, p-val 0.11764705882352941\n",
            "Secmi3 statiscti: 19.894305754327103, p-val 0.0392156862745098\n"
          ]
        }
      ]
    },
    {
      "cell_type": "code",
      "source": [
        "def perform_testing(sample_fun):\n",
        "  s2_p_1_list = []\n",
        "  s3_p_1_list = []\n",
        "\n",
        "  s2_p_0_list = []\n",
        "  s3_p_0_list = []\n",
        "\n",
        "\n",
        "  for i in tqdm(range(100), \"Calculating...\"):\n",
        "    X, Y, Z1, Z2, Z3 = sample_fun()\n",
        "    Z = np.concatenate((Z1, Z2), 1)\n",
        "    s2_stat, s2_p_1 = cond_indep_test_permutation(X, Y, Z, 20, \"secmi2\")\n",
        "    s3_stat, s3_p_1 = cond_indep_test_permutation(X, Y, Z, 20, \"secmi3\")\n",
        "\n",
        "    Z = np.concatenate((Z2, Z3), 1)\n",
        "    s2_stat, s2_p_0 = cond_indep_test_permutation(X, Y, Z, 20, \"secmi2\")\n",
        "    s3_stat, s3_p_0 = cond_indep_test_permutation(X, Y, Z, 20, \"secmi3\")\n",
        "\n",
        "    s2_p_1_list.append(s2_p_1 < 0.05)\n",
        "    s3_p_1_list.append(s3_p_1 < 0.05)\n",
        "\n",
        "    s2_p_0_list.append(s2_p_0 < 0.05)\n",
        "    s3_p_0_list.append(s3_p_0 < 0.05)\n",
        "\n",
        "  return s2_p_1_list, s3_p_1_list, s2_p_0_list, s3_p_0_list"
      ],
      "metadata": {
        "id": "bwk1QKSnGmse"
      },
      "execution_count": null,
      "outputs": []
    },
    {
      "cell_type": "code",
      "source": [
        "s2_p_1_list, s3_p_1_list, s2_p_0_list, s3_p_0_list = perform_testing(sample_from_model)"
      ],
      "metadata": {
        "colab": {
          "base_uri": "https://localhost:8080/"
        },
        "id": "i4NwoVoXGt7R",
        "outputId": "8630fb2c-046b-475a-dd90-59688091a087"
      },
      "execution_count": null,
      "outputs": [
        {
          "output_type": "stream",
          "name": "stderr",
          "text": [
            "Calculating...: 100%|██████████| 100/100 [01:52<00:00,  1.12s/it]\n"
          ]
        }
      ]
    },
    {
      "cell_type": "code",
      "source": [
        "\n",
        "print(f\"Ratio of H0 rejection in case of secmi2 using Z2 and Z3 (should reject): {np.sum(s2_p_0_list)/100}\")\n",
        "print(f\"Ratio of H0 rejection in case of using Z2 and Z3 (should reject): {np.sum(s3_p_0_list)/100}\")\n",
        "\n",
        "print(f\"Ratio of H0 rejection in case of using Z1 and Z2 (should not reject): {np.sum(s2_p_1_list)/100}\")\n",
        "print(f\"Ratio of H0 rejection in case of using Z1 and Z2 (should not reject): {np.sum(s3_p_1_list)/100}\")"
      ],
      "metadata": {
        "colab": {
          "base_uri": "https://localhost:8080/"
        },
        "id": "ShX93uVOHg6O",
        "outputId": "e3aaab78-60d4-485d-fba3-606d22c33b24"
      },
      "execution_count": null,
      "outputs": [
        {
          "output_type": "stream",
          "name": "stdout",
          "text": [
            "Ratio of H0 rejection in case of secmi2 using Z2 and Z3 (should reject): 0.95\n",
            "Ratio of H0 rejection in case of using Z2 and Z3 (should reject): 0.95\n",
            "Ratio of H0 rejection in case of using Z1 and Z2 (should not reject): 0.01\n",
            "Ratio of H0 rejection in case of using Z1 and Z2 (should not reject): 0.03\n"
          ]
        }
      ]
    },
    {
      "cell_type": "markdown",
      "metadata": {
        "id": "n26AxUr38FCL"
      },
      "source": [
        "### c)"
      ]
    },
    {
      "cell_type": "code",
      "execution_count": null,
      "metadata": {
        "id": "aQKSF1F28FCL"
      },
      "outputs": [],
      "source": [
        "def sample_from_model2(n=1000):\n",
        "  X = np.random.binomial(1, 1/2, n)\n",
        "  Z1 = np.random.binomial(1, 1/2, (1, n))\n",
        "  Z2 = np.random.binomial(1, 1/2, (1, n))\n",
        "  Z3 = np.random.binomial(1, 1/2, (1, n))\n",
        "\n",
        "  _Y = X + Z1 + Z2\n",
        "  Y = []\n",
        "  for y in _Y.T:\n",
        "    prob_of_1 = 0.8 if y % 2 == 1 else 0.2\n",
        "    Y.append(np.random.binomial(1, prob_of_1, 1)[0])\n",
        "\n",
        "  Y = np.array(Y)\n",
        "  Y[Y==0] = -1\n",
        "  X[X==0] = -1\n",
        "  Z1[Z1==0] = -1\n",
        "  Z2[Z2==0] = -1\n",
        "  Z3[Z3==0] = -1\n",
        "\n",
        "  return X, Y, Z1.T, Z2.T, Z3.T"
      ]
    },
    {
      "cell_type": "code",
      "source": [
        "s2_p_1_list, s3_p_1_list, s2_p_0_list, s3_p_0_list = perform_testing(sample_from_model2)"
      ],
      "metadata": {
        "id": "H8eX3apVK6fw",
        "colab": {
          "base_uri": "https://localhost:8080/"
        },
        "outputId": "78caf7f9-fb06-42a3-ce71-529f7b9d9a4f"
      },
      "execution_count": null,
      "outputs": [
        {
          "output_type": "stream",
          "name": "stderr",
          "text": [
            "Calculating...: 100%|██████████| 100/100 [01:51<00:00,  1.12s/it]\n"
          ]
        }
      ]
    },
    {
      "cell_type": "code",
      "source": [
        "print(f\"Ratio of H0 rejection in case of secmi2 using Z2 and Z3: {np.sum(s2_p_0_list)/100}\")\n",
        "print(f\"Ratio of H0 rejection in case of using Z2 and Z3: {np.sum(s3_p_0_list)/100}\")\n",
        "\n",
        "print(f\"Ratio of H0 rejection in case of using Z1 and Z2: {np.sum(s2_p_1_list)/100}\")\n",
        "print(f\"Ratio of H0 rejection in case of using Z1 and Z2: {np.sum(s3_p_1_list)/100}\")"
      ],
      "metadata": {
        "colab": {
          "base_uri": "https://localhost:8080/"
        },
        "id": "6_17_qXfGCU4",
        "outputId": "3ce42358-d5f9-4cfe-c392-f467d62c409d"
      },
      "execution_count": null,
      "outputs": [
        {
          "output_type": "stream",
          "name": "stdout",
          "text": [
            "Ratio of H0 rejection in case of secmi2 using Z2 and Z3: 0.05\n",
            "Ratio of H0 rejection in case of using Z2 and Z3: 0.05\n",
            "Ratio of H0 rejection in case of using Z1 and Z2: 1.0\n",
            "Ratio of H0 rejection in case of using Z1 and Z2: 1.0\n"
          ]
        }
      ]
    },
    {
      "cell_type": "markdown",
      "metadata": {
        "id": "G5bGw2_R8FCM"
      },
      "source": [
        "## Task 2\n",
        "\n",
        "in R"
      ]
    }
  ],
  "metadata": {
    "kernelspec": {
      "display_name": "dydaktyka",
      "language": "python",
      "name": "python3"
    },
    "language_info": {
      "codemirror_mode": {
        "name": "ipython",
        "version": 3
      },
      "file_extension": ".py",
      "mimetype": "text/x-python",
      "name": "python",
      "nbconvert_exporter": "python",
      "pygments_lexer": "ipython3",
      "version": "3.9.16"
    },
    "colab": {
      "provenance": []
    }
  },
  "nbformat": 4,
  "nbformat_minor": 0
}