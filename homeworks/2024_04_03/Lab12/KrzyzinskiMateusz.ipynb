{
 "cells": [
  {
   "cell_type": "markdown",
   "metadata": {},
   "source": [
    "# Mathematical Underpinnings - Lab 6"
   ]
  },
  {
   "cell_type": "code",
   "execution_count": null,
   "metadata": {},
   "outputs": [],
   "source": [
    "from sklearn.metrics import mutual_info_score\n",
    "import numpy as np\n",
    "import pandas as pd\n",
    "from tqdm import tqdm"
   ]
  },
  {
   "cell_type": "markdown",
   "metadata": {},
   "source": [
    "## Useful functions"
   ]
  },
  {
   "cell_type": "code",
   "execution_count": 12,
   "metadata": {},
   "outputs": [],
   "source": [
    "def discretize_2bins(X):\n",
    "    X_discrete = np.where(X >= 0, 1, -1)\n",
    "    return X_discrete"
   ]
  },
  {
   "cell_type": "code",
   "execution_count": 3,
   "metadata": {},
   "outputs": [],
   "source": [
    "def conditional_permutation(X, Z):\n",
    "\n",
    "    z_values = np.unique(Z)\n",
    "    n_z_values = len(z_values)\n",
    "    n = len(Z)\n",
    "\n",
    "    X_b = np.zeros(n)\n",
    "\n",
    "    for i in range(n_z_values):\n",
    "\n",
    "        z_value_tmp = z_values[i]\n",
    "\n",
    "        X_b[Z == z_value_tmp] = np.random.permutation(X[Z == z_value_tmp])\n",
    "\n",
    "    return X_b"
   ]
  },
  {
   "cell_type": "code",
   "execution_count": 4,
   "metadata": {},
   "outputs": [],
   "source": [
    "def conditional_mutual_information(X, Y, Z):\n",
    "\n",
    "    z_values = np.unique(Z)\n",
    "    n_z_values = len(z_values)\n",
    "    n = len(Z)\n",
    "\n",
    "    cmi = 0\n",
    "\n",
    "    for i in range(n_z_values):\n",
    "\n",
    "        z_value_tmp = z_values[i]\n",
    "        z_condition = (Z == z_value_tmp)\n",
    "\n",
    "        X_z = X[z_condition]\n",
    "        Y_z = Y[z_condition]\n",
    "\n",
    "        mi_XY_z = mutual_info_score(X_z, Y_z)\n",
    "        p_z = np.sum(z_condition)/n\n",
    "\n",
    "        cmi += p_z*mi_XY_z\n",
    "\n",
    "    return cmi"
   ]
  },
  {
   "cell_type": "code",
   "execution_count": 5,
   "metadata": {},
   "outputs": [],
   "source": [
    "# II(X;Y;Z)\n",
    "def interaction_information(X, Y, Z):\n",
    "    return conditional_mutual_information(X, Y, Z) - mutual_info_score(X, Y)"
   ]
  },
  {
   "cell_type": "code",
   "execution_count": 6,
   "metadata": {},
   "outputs": [],
   "source": [
    "# II(X;Y;Z1;Z2)\n",
    "def interaction_information2(X, Y, Z1, Z2):\n",
    "    Z_1_and_2 = 2*Z2 + Z1\n",
    "    return interaction_information(X, Y, Z_1_and_2) - interaction_information(X, Y, Z1) - interaction_information(X, Y, Z2)"
   ]
  },
  {
   "cell_type": "markdown",
   "metadata": {},
   "source": [
    "## Task 1"
   ]
  },
  {
   "cell_type": "code",
   "execution_count": 8,
   "metadata": {},
   "outputs": [],
   "source": [
    "def secmi2(X, Y, Z):\n",
    "    value = mutual_info_score(X, Y)\n",
    "    for i in range(Z.shape[1]):\n",
    "        value += conditional_mutual_information(X, Y, Z[:,i])\n",
    "    return value\n",
    "\n",
    "def secmi3(X, Y, Z):\n",
    "    value = secmi2(X, Y, Z)\n",
    "    for i in range(Z.shape[1]):\n",
    "        for j in range(i+1, Z.shape[1]):\n",
    "            value += interaction_information2(X, Y, Z[:,i], Z[:,j])\n",
    "    return value"
   ]
  },
  {
   "cell_type": "markdown",
   "metadata": {},
   "source": [
    "### a)"
   ]
  },
  {
   "cell_type": "code",
   "execution_count": 14,
   "metadata": {},
   "outputs": [],
   "source": [
    "def cond_indep_test_permutation(X, Y, Z, B, stat):\n",
    "\n",
    "    n_col_Z = Z.shape[1]\n",
    "    Z_1dim = np.dot(Z, 2**np.linspace(0, n_col_Z-1, n_col_Z))\n",
    "\n",
    "    if stat == \"cmi\":\n",
    "        stat_value = conditional_mutual_information(X, Y, Z_1dim)\n",
    "    if stat == \"secmi2\":\n",
    "        stat_value = secmi2(X, Y, Z)\n",
    "    if stat == \"secmi3\":\n",
    "        stat_value = secmi3(X, Y, Z)\n",
    "\n",
    "    condition_p_value = 0\n",
    "    for b in range(B):\n",
    "        X_b = conditional_permutation(X, Z_1dim)\n",
    "\n",
    "        if stat == \"cmi\":\n",
    "            stat_value_b = conditional_mutual_information(X_b, Y, Z_1dim)\n",
    "        if stat == \"secmi2\":\n",
    "            stat_value_b = secmi2(X_b, Y, Z)\n",
    "        if stat == \"secmi3\":\n",
    "            stat_value_b = secmi3(X_b, Y, Z)\n",
    "\n",
    "        if stat_value <= stat_value_b:\n",
    "            condition_p_value += 1\n",
    "\n",
    "    p_value = (1 + condition_p_value)/(1 + B)\n",
    "\n",
    "    return 2*len(X)*stat_value, p_value"
   ]
  },
  {
   "cell_type": "markdown",
   "metadata": {},
   "source": [
    "### b)"
   ]
  },
  {
   "cell_type": "code",
   "execution_count": 48,
   "metadata": {},
   "outputs": [],
   "source": [
    "def sample_model_1(n = 100, seed = None):\n",
    "    if seed is not None:\n",
    "        np.random.seed(seed)\n",
    "    Y = discretize_2bins(np.random.randn(n))\n",
    "    Z = np.zeros((n, 3))\n",
    "    for i in range(3):\n",
    "        Z[:,i] = discretize_2bins(np.random.randn(n) + Y)\n",
    "    X = discretize_2bins(np.random.randn(n) + Z[:, 0])\n",
    "    return X, Y, Z"
   ]
  },
  {
   "cell_type": "code",
   "execution_count": 50,
   "metadata": {},
   "outputs": [],
   "source": [
    "B = 100\n",
    "N = 100"
   ]
  },
  {
   "cell_type": "markdown",
   "metadata": {},
   "source": [
    "Only first conditional independence is true, i.e., $X \\perp \\!\\!\\! \\perp Y | (Z_1, Z_2)$.\n",
    "\n",
    "The second hypothesis is false, i.e., $X \\not\\perp \\!\\!\\! \\perp Y | (Z_2, Z_3)$."
   ]
  },
  {
   "cell_type": "code",
   "execution_count": 51,
   "metadata": {},
   "outputs": [
    {
     "name": "stderr",
     "output_type": "stream",
     "text": [
      "100%|██████████| 100/100 [02:41<00:00,  1.61s/it]\n"
     ]
    }
   ],
   "source": [
    "result = []\n",
    "for i in tqdm(range(N)):\n",
    "    X, Y, Z = sample_model_1(100, i)\n",
    "    for stat in [\"cmi\", \"secmi2\", \"secmi3\"]:\n",
    "        for condition in [\"Z1,Z2\", \"Z2,Z3\"]:\n",
    "            Z_c = Z[:, [int(var[1])-1 for var in condition.split(\",\")]]\n",
    "            stat_value, p_value = cond_indep_test_permutation(X, Y, Z_c, B, stat)\n",
    "            result.append({\"stat\": stat, \"condition\": condition, \"stat_value\": stat_value, \"p_value\": p_value})\n",
    "            "
   ]
  },
  {
   "cell_type": "code",
   "execution_count": 53,
   "metadata": {},
   "outputs": [],
   "source": [
    "res_df = pd.DataFrame(result)"
   ]
  },
  {
   "cell_type": "code",
   "execution_count": 54,
   "metadata": {},
   "outputs": [],
   "source": [
    "res_df[\"is_rejected\"] = res_df[\"p_value\"] < 0.05"
   ]
  },
  {
   "cell_type": "code",
   "execution_count": 55,
   "metadata": {},
   "outputs": [
    {
     "data": {
      "text/plain": [
       "condition  stat  \n",
       "Z1,Z2      cmi        5\n",
       "           secmi2     4\n",
       "           secmi3     5\n",
       "Z2,Z3      cmi       68\n",
       "           secmi2    85\n",
       "           secmi3    85\n",
       "Name: is_rejected, dtype: int64"
      ]
     },
     "execution_count": 55,
     "metadata": {},
     "output_type": "execute_result"
    }
   ],
   "source": [
    "res_df.groupby([\"condition\", \"stat\"])[\"is_rejected\"].sum()"
   ]
  },
  {
   "cell_type": "markdown",
   "metadata": {},
   "source": [
    "All tests more often reject the null hypothesis for the second considered case - as expected. It's also visible that tests based on SECMI2 and SECMI3 are more powerful than the one based on CMI. "
   ]
  },
  {
   "cell_type": "markdown",
   "metadata": {},
   "source": [
    "### c)"
   ]
  },
  {
   "cell_type": "code",
   "execution_count": 52,
   "metadata": {},
   "outputs": [],
   "source": [
    "def sample_model_2(n=100, seed=None):\n",
    "    if seed is not None:\n",
    "        np.random.seed(seed)\n",
    "    X = np.random.binomial(1, 0.5, n)\n",
    "    Z = np.zeros((n, 3))\n",
    "    for i in range(3):\n",
    "        Z[:,i] = np.random.binomial(1, 0.5, n)\n",
    "    condition = ((X + Z[:,0] + Z[:,1]) % 2 == 1)\n",
    "    Y = np.random.binomial(1, np.where(condition, 0.8, 0.2), n)\n",
    "    return X, Y, Z"
   ]
  },
  {
   "cell_type": "markdown",
   "metadata": {},
   "source": [
    "In this model, the first conditional independence is not true, i.e., $X \\not\\perp \\!\\!\\! \\perp Y | (Z_1, Z_2)$ as knowing $Z_1$ and $Z_2$ values gives us exact information about probability of $Y=1$ given $X=x$ -- value of $Y$ is dependent on $X$. \n",
    "\n",
    "However, the second conditional independence is true, i.e., $X \\perp \\!\\!\\! \\perp Y | (Z_2, Z_3)$ as knowing $Z_2$ only gives us no additional information about probability of $Y=1$ given $X=x$."
   ]
  },
  {
   "cell_type": "code",
   "execution_count": 56,
   "metadata": {},
   "outputs": [
    {
     "name": "stderr",
     "output_type": "stream",
     "text": [
      "100%|██████████| 100/100 [02:40<00:00,  1.61s/it]\n"
     ]
    }
   ],
   "source": [
    "result2 = []\n",
    "for i in tqdm(range(N)):\n",
    "    X, Y, Z = sample_model_2(100, i)\n",
    "    for stat in [\"cmi\", \"secmi2\", \"secmi3\"]:\n",
    "        for condition in [\"Z1,Z2\", \"Z2,Z3\"]:\n",
    "            Z_c = Z[:, [int(var[1]) - 1 for var in condition.split(\",\")]]\n",
    "            stat_value, p_value = cond_indep_test_permutation(X, Y, Z_c, B, stat)\n",
    "            result2.append({\"stat\": stat, \"condition\": condition, \"stat_value\": stat_value, \"p_value\": p_value})"
   ]
  },
  {
   "cell_type": "code",
   "execution_count": 57,
   "metadata": {},
   "outputs": [],
   "source": [
    "res_df2 = pd.DataFrame(result2)"
   ]
  },
  {
   "cell_type": "code",
   "execution_count": 58,
   "metadata": {},
   "outputs": [],
   "source": [
    "res_df2[\"is_rejected\"] = res_df2[\"p_value\"] < 0.05"
   ]
  },
  {
   "cell_type": "code",
   "execution_count": 59,
   "metadata": {},
   "outputs": [
    {
     "data": {
      "text/plain": [
       "condition  stat  \n",
       "Z1,Z2      cmi       100\n",
       "           secmi2      2\n",
       "           secmi3     99\n",
       "Z2,Z3      cmi         6\n",
       "           secmi2      4\n",
       "           secmi3      2\n",
       "Name: is_rejected, dtype: int64"
      ]
     },
     "execution_count": 59,
     "metadata": {},
     "output_type": "execute_result"
    }
   ],
   "source": [
    "res_df2.groupby([\"condition\", \"stat\"])[\"is_rejected\"].sum()"
   ]
  },
  {
   "cell_type": "markdown",
   "metadata": {},
   "source": [
    "All tests correctly more often do not reject the null hypothesis for the second considered case. However, for the first condition, tests based on CMI and SECMI3 work as expected, but the test based on SECMI2 is not able to reject the null hypothesis in most experiments. It is due to the fact that SECMI2 is able to capture only two-way interactions, and in this case, the 3-way interaction is crucial."
   ]
  },
  {
   "cell_type": "markdown",
   "metadata": {},
   "source": [
    "## Task 2\n",
    " \n",
    "in R"
   ]
  }
 ],
 "metadata": {
  "kernelspec": {
   "display_name": "dydaktyka",
   "language": "python",
   "name": "python3"
  },
  "language_info": {
   "codemirror_mode": {
    "name": "ipython",
    "version": 3
   },
   "file_extension": ".py",
   "mimetype": "text/x-python",
   "name": "python",
   "nbconvert_exporter": "python",
   "pygments_lexer": "ipython3",
   "version": "3.10.5"
  }
 },
 "nbformat": 4,
 "nbformat_minor": 2
}
