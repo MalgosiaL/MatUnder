{
 "cells": [
  {
   "cell_type": "markdown",
   "metadata": {},
   "source": [
    "# Mathematical Underpinnings - Lab 6"
   ]
  },
  {
   "cell_type": "code",
   "execution_count": 1,
   "metadata": {},
   "outputs": [],
   "source": [
    "from sklearn.metrics import mutual_info_score\n",
    "import numpy as np\n",
    "import matplotlib.pyplot as plt\n",
    "import seaborn as sns\n",
    "import pandas as pd\n",
    "from tqdm import tqdm"
   ]
  },
  {
   "cell_type": "markdown",
   "metadata": {},
   "source": [
    "## Useful functions"
   ]
  },
  {
   "cell_type": "code",
   "execution_count": 2,
   "metadata": {},
   "outputs": [],
   "source": [
    "def discetize_2bins(X):\n",
    "    X_discrete = 1*(X >= 0)\n",
    "    return X_discrete"
   ]
  },
  {
   "cell_type": "code",
   "execution_count": 3,
   "metadata": {},
   "outputs": [],
   "source": [
    "def conditional_permutation(X, Z):\n",
    "\n",
    "    z_values = np.unique(Z)\n",
    "    n_z_values = len(z_values)\n",
    "    n = len(Z)\n",
    "\n",
    "    X_b = np.zeros(n)\n",
    "\n",
    "    for i in range(n_z_values):\n",
    "\n",
    "        z_value_tmp = z_values[i]\n",
    "\n",
    "        X_b[Z == z_value_tmp] = np.random.permutation(X[Z == z_value_tmp])\n",
    "\n",
    "    return X_b"
   ]
  },
  {
   "cell_type": "code",
   "execution_count": 4,
   "metadata": {},
   "outputs": [],
   "source": [
    "def conditional_mutual_information(X, Y, Z):\n",
    "\n",
    "    z_values = np.unique(Z)\n",
    "    n_z_values = len(z_values)\n",
    "    n = len(Z)\n",
    "\n",
    "    cmi = 0\n",
    "\n",
    "    for i in range(n_z_values):\n",
    "\n",
    "        z_value_tmp = z_values[i]\n",
    "        z_condition = (Z == z_value_tmp)\n",
    "\n",
    "        X_z = X[z_condition]\n",
    "        Y_z = Y[z_condition]\n",
    "\n",
    "        mi_XY_z = mutual_info_score(X_z, Y_z)\n",
    "        p_z = np.sum(z_condition)/n\n",
    "\n",
    "        cmi += p_z*mi_XY_z\n",
    "\n",
    "    return cmi"
   ]
  },
  {
   "cell_type": "code",
   "execution_count": 5,
   "metadata": {},
   "outputs": [],
   "source": [
    "# II(X;Y;Z)\n",
    "def interaction_information(X, Y, Z):\n",
    "    return conditional_mutual_information(X, Y, Z) - mutual_info_score(X, Y)"
   ]
  },
  {
   "cell_type": "code",
   "execution_count": 6,
   "metadata": {},
   "outputs": [],
   "source": [
    "# II(X;Y;Z1;Z2)\n",
    "def interaction_information2(X, Y, Z1, Z2):\n",
    "    # Zs are binary\n",
    "    Z_1_and_2 = 2*Z2 + Z1\n",
    "    return interaction_information(X, Y, Z_1_and_2) - interaction_information(X, Y, Z1) - interaction_information(X, Y, Z2)"
   ]
  },
  {
   "cell_type": "markdown",
   "metadata": {},
   "source": [
    "## Task 1"
   ]
  },
  {
   "cell_type": "code",
   "execution_count": 7,
   "metadata": {},
   "outputs": [],
   "source": [
    "def secmi2(X, Y, Z):\n",
    "    n_col_Z = Z.shape[1]\n",
    "    secmi = mutual_info_score(X, Y)\n",
    "    for i in range(n_col_Z):\n",
    "        secmi += interaction_information(X, Y, Z[:, i])\n",
    "    return secmi\n",
    "\n",
    "def secmi3(X, Y, Z):\n",
    "    n_col_Z = Z.shape[1]\n",
    "    secmi = secmi2(X, Y, Z)\n",
    "    for i in range(n_col_Z):\n",
    "        for j in range(i):\n",
    "            secmi += interaction_information2(X, Y, Z[:, i], Z[:, j])\n",
    "    return secmi\n"
   ]
  },
  {
   "cell_type": "markdown",
   "metadata": {},
   "source": [
    "### a)"
   ]
  },
  {
   "cell_type": "code",
   "execution_count": 8,
   "metadata": {},
   "outputs": [],
   "source": [
    "def cond_indep_test_permutation(X, Y, Z, B, stat):\n",
    "\n",
    "    n_col_Z = Z.shape[1]\n",
    "    Z_1dim = np.dot(Z, 2**np.linspace(0, n_col_Z-1, n_col_Z))\n",
    "\n",
    "    if stat == \"cmi\":\n",
    "        stat_value = conditional_mutual_information(X, Y, Z_1dim)\n",
    "    if stat == \"secmi2\":\n",
    "        stat_value = secmi2(X, Y, Z)\n",
    "    if stat == \"secmi3\":\n",
    "        stat_value = secmi3(X, Y, Z)\n",
    "\n",
    "    condition_p_value = 0\n",
    "    for b in range(B):\n",
    "        X_b = conditional_permutation(X, Z_1dim)\n",
    "\n",
    "        if stat == \"cmi\":\n",
    "            stat_value_b = conditional_mutual_information(X_b, Y, Z_1dim)\n",
    "        if stat == \"secmi2\":\n",
    "            stat_value_b = secmi2(X_b, Y, Z)\n",
    "        if stat == \"secmi3\":\n",
    "            stat_value_b = secmi3(X_b, Y, Z)\n",
    "\n",
    "        if stat_value <= stat_value_b:\n",
    "            condition_p_value += 1\n",
    "\n",
    "    p_value = (1 + condition_p_value)/(1 + B)\n",
    "\n",
    "    return 2*len(X)*stat_value, p_value"
   ]
  },
  {
   "cell_type": "markdown",
   "metadata": {},
   "source": [
    "### b)"
   ]
  },
  {
   "cell_type": "code",
   "execution_count": 9,
   "metadata": {},
   "outputs": [],
   "source": [
    "def gen_schema_1(n):\n",
    "    Y = np.random.normal(size=n)\n",
    "    Y_disc = discetize_2bins(Y)\n",
    "    Z1 = np.random.normal(loc=Y_disc/2, size=n)\n",
    "    Z2 = np.random.normal(loc=Y_disc/2, size=n)\n",
    "    Z3 = np.random.normal(loc=Y_disc/2, size=n)\n",
    "    X = np.random.normal(loc=discetize_2bins(Z1)/2, size=n)\n",
    "    return discetize_2bins(X), Y_disc, discetize_2bins(Z1), discetize_2bins(Z2), discetize_2bins(Z3)"
   ]
  },
  {
   "cell_type": "code",
   "execution_count": 11,
   "metadata": {},
   "outputs": [
    {
     "name": "stdout",
     "output_type": "stream",
     "text": [
      "0.06\n"
     ]
    }
   ],
   "source": [
    "# should be rejected\n",
    "n_retries = 100\n",
    "rejected = 0\n",
    "for _ in range(n_retries):\n",
    "    X, Y, Z1, Z2, Z3 = gen_schema_1(100)\n",
    "    Z = np.stack([Z3, Z2], axis=1)\n",
    "    _, p_val = cond_indep_test_permutation(X, Y, Z, 50, \"secmi3\")\n",
    "    rejected += p_val < 0.05\n",
    "print(rejected/n_retries)"
   ]
  },
  {
   "cell_type": "code",
   "execution_count": 12,
   "metadata": {},
   "outputs": [
    {
     "name": "stdout",
     "output_type": "stream",
     "text": [
      "0.05\n"
     ]
    }
   ],
   "source": [
    "# should not be rejected\n",
    "n_retries = 100\n",
    "rejected = 0\n",
    "for _ in range(n_retries):\n",
    "    X, Y, Z1, Z2, Z3 = gen_schema_1(100)\n",
    "    Z = np.stack([Z1, Z2], axis=1)\n",
    "    _, p_val = cond_indep_test_permutation(X, Y, Z, 50, \"secmi3\")\n",
    "    rejected += p_val < 0.05\n",
    "print(rejected/n_retries)"
   ]
  },
  {
   "cell_type": "markdown",
   "metadata": {},
   "source": [
    "The test doesn't work for small n (like 100), but starts working for bigger sample sizes:"
   ]
  },
  {
   "cell_type": "code",
   "execution_count": 13,
   "metadata": {},
   "outputs": [
    {
     "name": "stdout",
     "output_type": "stream",
     "text": [
      "0.74\n"
     ]
    }
   ],
   "source": [
    "# should be rejected\n",
    "n_retries = 100\n",
    "rejected = 0\n",
    "for _ in range(n_retries):\n",
    "    X, Y, Z1, Z2, Z3 = gen_schema_1(10000)\n",
    "    Z = np.stack([Z3, Z2], axis=1)\n",
    "    _, p_val = cond_indep_test_permutation(X, Y, Z, 50, \"secmi3\")\n",
    "    rejected += p_val < 0.05\n",
    "print(rejected/n_retries)"
   ]
  },
  {
   "cell_type": "markdown",
   "metadata": {},
   "source": [
    "### c)"
   ]
  },
  {
   "cell_type": "code",
   "execution_count": 15,
   "metadata": {},
   "outputs": [],
   "source": [
    "def gen_schema_2(n):\n",
    "    X = np.random.binomial(1, 0.5, n)\n",
    "    Z1 = np.random.binomial(1, 0.5, n)\n",
    "    Z2 = np.random.binomial(1, 0.5, n)\n",
    "    Z3 = np.random.binomial(1, 0.5, n)\n",
    "    XOR = (X + Z1 + Z2)%2\n",
    "\n",
    "    y_probs = np.where(XOR, 0.8, 0.2)\n",
    "    Y = np.random.binomial(1, y_probs, n)\n",
    "    return X, Y, Z1, Z2, Z3"
   ]
  },
  {
   "cell_type": "code",
   "execution_count": 16,
   "metadata": {},
   "outputs": [
    {
     "name": "stdout",
     "output_type": "stream",
     "text": [
      "0.04\n"
     ]
    }
   ],
   "source": [
    "# should not be rejected\n",
    "n_retries = 100\n",
    "rejected = 0\n",
    "for _ in range(n_retries):\n",
    "    X, Y, Z1, Z2, Z3 = gen_schema_2(100)\n",
    "    Z = np.stack([Z3, Z2], axis=1)\n",
    "    _, p_val = cond_indep_test_permutation(X, Y, Z, 50, \"secmi3\")\n",
    "    rejected += p_val < 0.05\n",
    "print(rejected/n_retries)"
   ]
  },
  {
   "cell_type": "code",
   "execution_count": 17,
   "metadata": {},
   "outputs": [
    {
     "name": "stdout",
     "output_type": "stream",
     "text": [
      "1.0\n"
     ]
    }
   ],
   "source": [
    "# should be rejected\n",
    "n_retries = 100\n",
    "rejected = 0\n",
    "for _ in range(n_retries):\n",
    "    X, Y, Z1, Z2, Z3 = gen_schema_2(100)\n",
    "    Z = np.stack([Z1, Z2], axis=1)\n",
    "    _, p_val = cond_indep_test_permutation(X, Y, Z, 50, \"secmi3\")\n",
    "    rejected += p_val < 0.05\n",
    "print(rejected/n_retries)"
   ]
  },
  {
   "cell_type": "markdown",
   "metadata": {},
   "source": [
    "In this case the test works even on small samples"
   ]
  },
  {
   "cell_type": "markdown",
   "metadata": {},
   "source": [
    "## Task 2\n",
    " \n",
    "in R"
   ]
  }
 ],
 "metadata": {
  "kernelspec": {
   "display_name": "dydaktyka",
   "language": "python",
   "name": "python3"
  },
  "language_info": {
   "codemirror_mode": {
    "name": "ipython",
    "version": 3
   },
   "file_extension": ".py",
   "mimetype": "text/x-python",
   "name": "python",
   "nbconvert_exporter": "python",
   "pygments_lexer": "ipython3",
   "version": "3.12.2"
  }
 },
 "nbformat": 4,
 "nbformat_minor": 2
}
