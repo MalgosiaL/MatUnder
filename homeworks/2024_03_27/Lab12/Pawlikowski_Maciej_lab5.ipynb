{
  "cells": [
    {
      "cell_type": "code",
      "execution_count": 1,
      "metadata": {
        "id": "Vdl2ZinZq9LG"
      },
      "outputs": [],
      "source": [
        "from sklearn.metrics import mutual_info_score\n",
        "#from sklearn.feature_selection import chi2\n",
        "from scipy.stats import chi2_contingency\n",
        "from scipy.stats import chi2\n",
        "import numpy as np\n",
        "import matplotlib.pyplot as plt\n",
        "from scipy.stats import gaussian_kde, pearsonr\n",
        "import seaborn as sns\n",
        "import pandas as pd\n",
        "import warnings\n",
        "warnings.filterwarnings('ignore')"
      ]
    },
    {
      "cell_type": "markdown",
      "metadata": {
        "id": "0LAAgZFKq9LI"
      },
      "source": [
        "# Mathematical Underpinnings - Lab 4"
      ]
    },
    {
      "cell_type": "markdown",
      "metadata": {
        "id": "TrUTE9okq9LJ"
      },
      "source": [
        "Tests to verify hipoteses of independence (from Lab 4):"
      ]
    },
    {
      "cell_type": "code",
      "execution_count": 2,
      "metadata": {
        "id": "CDHE7eJ0q9LJ"
      },
      "outputs": [],
      "source": [
        "def indep_test_asymptotic_dep(X, Y, stat):\n",
        "\n",
        "    if stat == \"mi\":\n",
        "\n",
        "        stat_value = 2*len(X)*mutual_info_score(X, Y)\n",
        "\n",
        "    if stat == \"chi2\":\n",
        "\n",
        "        test_res = (chi2_contingency(pd.crosstab(X, Y)))\n",
        "        stat_value = test_res.statistic\n",
        "\n",
        "    df = (len(np.unique(X)) - 1)*(len(np.unique(Y)) - 1)\n",
        "\n",
        "    p_value = 1 - chi2.cdf(stat_value, df=df)\n",
        "\n",
        "    return stat_value, p_value\n",
        "\n",
        "def indep_test_permutation_dep(X, Y, B, stat=\"mi\"):\n",
        "\n",
        "    stat_value = mutual_info_score(X, Y)\n",
        "\n",
        "    condition_p_value = 0\n",
        "    for b in range(B):\n",
        "        X_b = np.random.permutation(X)\n",
        "\n",
        "        stat_value_b = mutual_info_score(X_b, Y)\n",
        "\n",
        "        if stat_value <= stat_value_b:\n",
        "            condition_p_value += 1\n",
        "\n",
        "    p_value = (1 + condition_p_value)/(1 + B)\n",
        "\n",
        "    return 2*len(X)*stat_value, p_value"
      ]
    },
    {
      "cell_type": "markdown",
      "metadata": {
        "id": "UoZ8MYJkq9LJ"
      },
      "source": [
        "## Task 1"
      ]
    },
    {
      "cell_type": "code",
      "execution_count": 3,
      "metadata": {
        "colab": {
          "base_uri": "https://localhost:8080/"
        },
        "id": "Zoa6XAvDq9LK",
        "outputId": "63202db4-b61d-4f1a-c599-21a5998de8d3"
      },
      "outputs": [
        {
          "output_type": "execute_result",
          "data": {
            "text/plain": [
              "0.5684937554306104"
            ]
          },
          "metadata": {},
          "execution_count": 3
        }
      ],
      "source": [
        "# a function which computes CMI\n",
        "n = 100\n",
        "X = np.random.uniform(0,1,n)\n",
        "Z = [0 for i in range(n//4)] + [1 for i in range(n//4+5)] + [2 for i in range(n//4-5)] + [3 for i in range(n//4)]\n",
        "Y = X + Z\n",
        "\n",
        "xbins = np.linspace(X.min(), X.max(), 10 + 1)\n",
        "ybins = np.linspace(Y.min(), Y.max(), 10 + 1)\n",
        "def get_bucket(x, bins):\n",
        "    for i in range(1,len(bins)):\n",
        "      if x<bins[i]:\n",
        "          return i\n",
        "    return i+1\n",
        "X_bin = [get_bucket(x, xbins) for x in X]\n",
        "Y_bin = [get_bucket(y, ybins) for y in Y]\n",
        "\n",
        "def CMI(X, Y, Z):\n",
        "  CMI = 0\n",
        "  for z in np.unique(Z):\n",
        "    X_filtered = X[Z==z]\n",
        "    Y_filtered = Y[Z==z]\n",
        "    xbins = np.linspace(X_filtered.min(), X_filtered.max(), 10 + 1)\n",
        "    ybins = np.linspace(Y_filtered.min(), Y_filtered.max(), 10 + 1)\n",
        "    prob = np.mean(Z==z)\n",
        "    MI = mutual_info_score([get_bucket(x, xbins) for x in X], [get_bucket(y, ybins) for y in Y])\n",
        "    CMI += MI*prob\n",
        "  return CMI\n",
        "CMI(X,Y,Z)"
      ]
    },
    {
      "cell_type": "markdown",
      "metadata": {
        "id": "p8ma1wywq9LK"
      },
      "source": [
        "### a)"
      ]
    },
    {
      "cell_type": "code",
      "execution_count": 4,
      "metadata": {
        "colab": {
          "base_uri": "https://localhost:8080/"
        },
        "id": "PdUweXtgq9LK",
        "outputId": "d2d1691b-bb18-488a-d213-e32f82312528"
      },
      "outputs": [
        {
          "output_type": "execute_result",
          "data": {
            "text/plain": [
              "(113.69875108612209, 1.0)"
            ]
          },
          "metadata": {},
          "execution_count": 4
        }
      ],
      "source": [
        "# CI test based on CMI and asymptotics\n",
        "def indep_test_asymptotic(X, Y, Z):\n",
        "\n",
        "    stat_value = 2*len(X)*CMI(X, Y, Z)\n",
        "\n",
        "\n",
        "\n",
        "    df = (9)*(9) * len(np.unique(Z))\n",
        "\n",
        "    p_value = 1 - chi2.cdf(stat_value, df=df)\n",
        "\n",
        "    return stat_value, p_value\n",
        "\n",
        "indep_test_asymptotic(X, Y, Z)"
      ]
    },
    {
      "cell_type": "markdown",
      "metadata": {
        "id": "sPtGA8pxq9LK"
      },
      "source": [
        "### b)"
      ]
    },
    {
      "cell_type": "code",
      "execution_count": 5,
      "metadata": {
        "colab": {
          "base_uri": "https://localhost:8080/"
        },
        "id": "FJUh-UKCq9LK",
        "outputId": "54d49f7c-c9ee-4b7e-b61e-1e45a347df59"
      },
      "outputs": [
        {
          "output_type": "execute_result",
          "data": {
            "text/plain": [
              "(113.69875108612209, 0.009900990099009901)"
            ]
          },
          "metadata": {},
          "execution_count": 5
        }
      ],
      "source": [
        "# CI test based on CMI and permutations\n",
        "def indep_test_permutation(X, Y, Z, B):\n",
        "\n",
        "    stat_value = CMI(X, Y, Z)\n",
        "\n",
        "    condition_p_value = 0\n",
        "\n",
        "    for b in range(B):\n",
        "      X_b = []\n",
        "      for z in np.unique(Z):\n",
        "        X_b += list(np.random.permutation(X[Z==z]))\n",
        "\n",
        "      stat_value_b = CMI(np.array(X_b), Y, Z)\n",
        "\n",
        "      if stat_value <= stat_value_b:\n",
        "          condition_p_value += 1\n",
        "\n",
        "    p_value = (1 + condition_p_value)/(1 + B)\n",
        "\n",
        "    return 2*len(X)*stat_value, p_value\n",
        "indep_test_permutation(X, Y, Z, B=100)"
      ]
    },
    {
      "cell_type": "markdown",
      "metadata": {
        "id": "CuQLN5Iuq9LL"
      },
      "source": [
        "### c)"
      ]
    },
    {
      "cell_type": "markdown",
      "metadata": {
        "id": "0kQyBxvVq9LL"
      },
      "source": [
        "conditionaly independent"
      ]
    },
    {
      "cell_type": "code",
      "execution_count": 6,
      "metadata": {
        "colab": {
          "base_uri": "https://localhost:8080/"
        },
        "id": "ZYCgbZx2q9LL",
        "outputId": "1264508d-dbfc-40e1-e0d1-9b636a159aad"
      },
      "outputs": [
        {
          "output_type": "stream",
          "name": "stdout",
          "text": [
            "CMI: 0.03780889732325577\n",
            "Permutation test: (75.61779464651154, 0.9900990099009901)\n",
            "Aymptotic test: (75.61779464651154, 1.0)\n"
          ]
        }
      ],
      "source": [
        "n = 1000\n",
        "X = np.random.uniform(0,1,n)\n",
        "Z = [0 for i in range(n//4)] + [1 for i in range(n//4+5)] + [2 for i in range(n//4-5)] + [3 for i in range(n//4)]\n",
        "Y = np.random.normal(0,1,n)\n",
        "print(f\"CMI: {CMI(X,Y,Z)}\")\n",
        "print(f\"Permutation test: {indep_test_permutation(X, Y, Z, B=100)}\")\n",
        "print(f\"Aymptotic test: {indep_test_asymptotic(X, Y, Z)}\")"
      ]
    },
    {
      "cell_type": "markdown",
      "metadata": {
        "id": "b9j3EtoCq9LL"
      },
      "source": [
        "conditionaly dependent"
      ]
    },
    {
      "cell_type": "code",
      "execution_count": 7,
      "metadata": {
        "colab": {
          "base_uri": "https://localhost:8080/"
        },
        "id": "rYFDxsGbq9LL",
        "outputId": "989c61b3-9716-4c64-8e4b-8b4a19a7fee8"
      },
      "outputs": [
        {
          "output_type": "stream",
          "name": "stdout",
          "text": [
            "CMI: 0.5379881763872735\n",
            "Permutation test: (1075.976352774547, 0.009900990099009901)\n",
            "Aymptotic test: (1075.976352774547, 0.0)\n"
          ]
        }
      ],
      "source": [
        "\n",
        "X = np.random.uniform(0,1,n)\n",
        "Z = [1 for i in range(n//4)] + [2 for i in range(n//4+5)] + [3 for i in range(n//4-5)] + [4 for i in range(n//4)]\n",
        "Y = X + np.array(Z)\n",
        "print(f\"CMI: {CMI(X,Y,Z)}\")\n",
        "print(f\"Permutation test: {indep_test_permutation(X, Y, Z, B=100)}\")\n",
        "print(f\"Aymptotic test: {indep_test_asymptotic(X, Y, Z)}\")\n"
      ]
    },
    {
      "cell_type": "markdown",
      "metadata": {
        "id": "4wMJIQyJq9LL"
      },
      "source": [
        "## Task 2"
      ]
    },
    {
      "cell_type": "code",
      "execution_count": 8,
      "metadata": {
        "id": "ftvx-30qq9LL"
      },
      "outputs": [],
      "source": [
        "def sample_from_model1(n=100):\n",
        "    Z = np.random.normal(0,1,n)\n",
        "    Z = Z/np.abs(Z)\n",
        "    X = [np.random.normal(z/2,1) for z in Z]\n",
        "    Y = [np.random.normal(z/2,1) for z in Z]\n",
        "    Y = Y/np.abs(Y)\n",
        "    X = X/np.abs(X)\n",
        "    return X, Y, Z\n",
        "\n",
        "def sample_from_model2(n=100):\n",
        "  X = np.random.normal(0,1,n)\n",
        "  X = X/np.abs(X)\n",
        "  Z = [np.random.normal(x/2,1) for x in X]\n",
        "  Y = [np.random.normal(z/2,1) for z in Z]\n",
        "  Y = Y/np.abs(Y)\n",
        "  Z = Z/np.abs(Z)\n",
        "  return X, Y, Z\n",
        "\n",
        "def sample_from_model3(n=100):\n",
        "  X = np.random.normal(0,1,n)\n",
        "  Y = np.random.normal(0,1,n)\n",
        "  Y = Y/np.abs(Y)\n",
        "  X = X/np.abs(X)\n",
        "  Z = [np.random.normal((X[i]+Y[i])/2,1) for i in range(len(X))]\n",
        "  Z = Z/np.abs(Z)\n",
        "  return X, Y, Z\n"
      ]
    },
    {
      "cell_type": "markdown",
      "metadata": {
        "id": "67CbEKaOq9LL"
      },
      "source": [
        "### a)"
      ]
    },
    {
      "cell_type": "markdown",
      "metadata": {
        "id": "iqSj0QPwq9LL"
      },
      "source": [
        "* Independent models: 3\n",
        "* Conditionally independent models: 1, 2\n"
      ]
    },
    {
      "cell_type": "markdown",
      "metadata": {
        "id": "vqQUYy54q9LL"
      },
      "source": [
        "### b)"
      ]
    },
    {
      "cell_type": "code",
      "execution_count": 9,
      "metadata": {
        "colab": {
          "base_uri": "https://localhost:8080/"
        },
        "id": "JNsM8X97q9LM",
        "outputId": "f5de4480-c097-4dcc-cf53-b0eb7e21ea73"
      },
      "outputs": [
        {
          "output_type": "stream",
          "name": "stdout",
          "text": [
            "____________________________sample_from_model1____________________________\n",
            "Mutual information: 0.015570393197281707\n",
            "Conditional mutual information: 0.0008420563685527838\n",
            "                     \n",
            "____________________________sample_from_model2____________________________\n",
            "Mutual information: 0.03009052210962676\n",
            "Conditional mutual information: 0.00834095623694324\n",
            "                     \n",
            "____________________________sample_from_model3____________________________\n",
            "Mutual information: 0.0016415720008549628\n",
            "Conditional mutual information: 0.018486657925638528\n",
            "                     \n"
          ]
        }
      ],
      "source": [
        "#CMI for discrete X and Y\n",
        "def CMI_d(X, Y, Z):\n",
        "  CMI = 0\n",
        "  for z in np.unique(Z):\n",
        "    X_filtered = X[Z==z]\n",
        "    Y_filtered = Y[Z==z]\n",
        "    prob = np.mean(Z==z)\n",
        "    MI = mutual_info_score(X_filtered, Y_filtered)\n",
        "    CMI += MI*prob\n",
        "  return CMI\n",
        "\n",
        "\n",
        "for model in [sample_from_model1, sample_from_model2, sample_from_model3]:\n",
        "  X, Y, Z = model(n=1000)\n",
        "  print(f\"____________________________{model.__name__}____________________________\")\n",
        "  print(f\"Mutual information: {mutual_info_score(X, Y)}\")\n",
        "  print(f\"Conditional mutual information: {CMI_d(X, Y, Z)}\")\n",
        "  print(\"                     \")"
      ]
    },
    {
      "cell_type": "markdown",
      "metadata": {
        "id": "OcPZOb2rq9LM"
      },
      "source": [
        "### c)"
      ]
    },
    {
      "cell_type": "code",
      "execution_count": 11,
      "metadata": {
        "colab": {
          "base_uri": "https://localhost:8080/"
        },
        "id": "pv4MAoyNq9LM",
        "outputId": "27c1a34a-08c8-47ec-98bd-b34fd3634ae3"
      },
      "outputs": [
        {
          "output_type": "stream",
          "name": "stdout",
          "text": [
            "____________________________sample_from_model1____________________________\n",
            "CMI: 8.931900842347145e-05\n",
            "Permutation test conditional: 0.9405940594059405\n",
            "Aymptotic test conditional: 0.9145537766756151\n",
            "MI: 0.016063013281034044\n",
            "Permutation test: 0.009900990099009901\n",
            "Aymptotic test: 1.4448864882332657e-08\n",
            "                     \n",
            "____________________________sample_from_model2____________________________\n",
            "CMI: 0.0021422514592079633\n",
            "Permutation test conditional: 0.12871287128712872\n",
            "Aymptotic test conditional: 0.11739024591866021\n",
            "MI: 0.014180073279656369\n",
            "Permutation test: 0.009900990099009901\n",
            "Aymptotic test: 1.007175212119904e-07\n",
            "                     \n",
            "____________________________sample_from_model3____________________________\n",
            "CMI: 0.007715601592188533\n",
            "Permutation test conditional: 0.009900990099009901\n",
            "Aymptotic test conditional: 0.0004458171836136948\n",
            "MI: 0.00020794332689916262\n",
            "Permutation test: 0.6039603960396039\n",
            "Aymptotic test: 0.5189966929491698\n",
            "                     \n"
          ]
        }
      ],
      "source": [
        "# CI test based on CMI and asymptotics\n",
        "def indep_test_asymptotic_d(X, Y, Z):\n",
        "\n",
        "    stat_value = 2*len(X)*CMI_d(X, Y, Z)\n",
        "\n",
        "\n",
        "\n",
        "    df =  len(np.unique(Z))\n",
        "\n",
        "    p_value = 1 - chi2.cdf(stat_value, df=df)\n",
        "\n",
        "    return stat_value, p_value\n",
        "    # CI test based on CMI and permutations\n",
        "def indep_test_permutation_d(X, Y, Z, B):\n",
        "\n",
        "    stat_value = CMI_d(X, Y, Z)\n",
        "\n",
        "    condition_p_value = 0\n",
        "\n",
        "    for b in range(B):\n",
        "      X_b = []\n",
        "      for z in np.unique(Z):\n",
        "        X_b += list(np.random.permutation(X[Z==z]))\n",
        "\n",
        "      stat_value_b = CMI_d(np.array(X_b), Y, Z)\n",
        "\n",
        "      if stat_value <= stat_value_b:\n",
        "          condition_p_value += 1\n",
        "\n",
        "    p_value = (1 + condition_p_value)/(1 + B)\n",
        "\n",
        "    return 2*len(X)*stat_value, p_value\n",
        "\n",
        "\n",
        "for model in [sample_from_model1, sample_from_model2, sample_from_model3]:\n",
        "  X, Y, Z = model(n=1000)\n",
        "  print(f\"____________________________{model.__name__}____________________________\")\n",
        "  print(f\"CMI: {CMI_d(X,Y,Z)}\")\n",
        "  print(f\"Permutation test conditional: {indep_test_permutation_d(X, Y, Z, B=100)[1]}\")\n",
        "  print(f\"Aymptotic test conditional: {indep_test_asymptotic_d(X, Y, Z)[1]}\")\n",
        "  print(f\"MI: {mutual_info_score(X,Y)}\")\n",
        "  print(f\"Permutation test: {indep_test_permutation_dep(X, Y, B=100)[1]}\")\n",
        "  print(f\"Aymptotic test: {indep_test_asymptotic_dep(X, Y, stat='mi')[1]}\")\n",
        "  print(\"                     \")"
      ]
    },
    {
      "cell_type": "code",
      "source": [],
      "metadata": {
        "id": "FJGeXLJF5rl7"
      },
      "execution_count": 10,
      "outputs": []
    }
  ],
  "metadata": {
    "kernelspec": {
      "display_name": "dydaktyka",
      "language": "python",
      "name": "python3"
    },
    "language_info": {
      "codemirror_mode": {
        "name": "ipython",
        "version": 3
      },
      "file_extension": ".py",
      "mimetype": "text/x-python",
      "name": "python",
      "nbconvert_exporter": "python",
      "pygments_lexer": "ipython3",
      "version": "3.9.16"
    },
    "colab": {
      "provenance": []
    }
  },
  "nbformat": 4,
  "nbformat_minor": 0
}