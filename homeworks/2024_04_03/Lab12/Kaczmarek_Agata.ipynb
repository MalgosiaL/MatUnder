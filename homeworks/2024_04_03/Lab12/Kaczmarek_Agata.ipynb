{
 "cells": [
  {
   "cell_type": "markdown",
   "metadata": {},
   "source": [
    "# Mathematical Underpinnings - Lab 6"
   ]
  },
  {
   "cell_type": "code",
   "execution_count": 1,
   "metadata": {},
   "outputs": [],
   "source": [
    "from sklearn.metrics import mutual_info_score\n",
    "import numpy as np\n",
    "import matplotlib.pyplot as plt\n",
    "import seaborn as sns\n",
    "import pandas as pd\n",
    "from tqdm import tqdm"
   ]
  },
  {
   "cell_type": "code",
   "execution_count": 44,
   "metadata": {},
   "outputs": [],
   "source": [
    "np.random.seed(123)"
   ]
  },
  {
   "cell_type": "markdown",
   "metadata": {},
   "source": [
    "## Useful functions"
   ]
  },
  {
   "cell_type": "code",
   "execution_count": 2,
   "metadata": {},
   "outputs": [],
   "source": [
    "def discetize_2bins(X):\n",
    "    X_discrete = 1*(X >= 0)\n",
    "    return X_discrete"
   ]
  },
  {
   "cell_type": "code",
   "execution_count": 3,
   "metadata": {},
   "outputs": [],
   "source": [
    "def conditional_permutation(X, Z):\n",
    "\n",
    "    z_values = np.unique(Z)\n",
    "    n_z_values = len(z_values)\n",
    "    n = len(Z)\n",
    "\n",
    "    X_b = np.zeros(n)\n",
    "\n",
    "    for i in range(n_z_values):\n",
    "\n",
    "        z_value_tmp = z_values[i]\n",
    "\n",
    "        X_b[Z == z_value_tmp] = np.random.permutation(X[Z == z_value_tmp])\n",
    "\n",
    "    return X_b"
   ]
  },
  {
   "cell_type": "code",
   "execution_count": 4,
   "metadata": {},
   "outputs": [],
   "source": [
    "def conditional_mutual_information(X, Y, Z):\n",
    "\n",
    "    z_values = np.unique(Z)\n",
    "    n_z_values = len(z_values)\n",
    "    n = len(Z)\n",
    "\n",
    "    cmi = 0\n",
    "\n",
    "    for i in range(n_z_values):\n",
    "\n",
    "        z_value_tmp = z_values[i]\n",
    "        z_condition = (Z == z_value_tmp)\n",
    "\n",
    "        X_z = X[z_condition]\n",
    "        Y_z = Y[z_condition]\n",
    "\n",
    "        mi_XY_z = mutual_info_score(X_z, Y_z)\n",
    "        p_z = np.sum(z_condition)/n\n",
    "\n",
    "        cmi += p_z*mi_XY_z\n",
    "\n",
    "    return cmi"
   ]
  },
  {
   "cell_type": "code",
   "execution_count": 5,
   "metadata": {},
   "outputs": [],
   "source": [
    "# II(X;Y;Z)\n",
    "def interaction_information(X, Y, Z):\n",
    "    return conditional_mutual_information(X, Y, Z) - mutual_info_score(X, Y)"
   ]
  },
  {
   "cell_type": "code",
   "execution_count": 6,
   "metadata": {},
   "outputs": [],
   "source": [
    "# II(X;Y;Z1;Z2)\n",
    "def interaction_information2(X, Y, Z1, Z2):\n",
    "    Z_1_and_2 = 2*Z2 + Z1\n",
    "    return interaction_information(X, Y, Z_1_and_2) - interaction_information(X, Y, Z1) - interaction_information(X, Y, Z2)"
   ]
  },
  {
   "cell_type": "markdown",
   "metadata": {},
   "source": [
    "## Task 1"
   ]
  },
  {
   "cell_type": "code",
   "execution_count": 15,
   "metadata": {},
   "outputs": [],
   "source": [
    "def secmi2(X, Y, Z):\n",
    "    # I(X;Y)\n",
    "    first = mutual_info_score(X, Y)\n",
    "    second_list=[0 for _ in range(Z.shape[1])]\n",
    "    for i in range(Z.shape[1]):\n",
    "        second_list[i]=interaction_information(X, Y, Z[:,i])\n",
    "    return sum(second_list)+first\n",
    "def secmi3(X, Y, Z):\n",
    "    first_and_second=secmi2(X, Y, Z)\n",
    "    third_list=[0 for _ in range(Z.shape[1])]\n",
    "    for i in range(Z.shape[1]):\n",
    "        for j in range(i+1, Z.shape[1]):\n",
    "            third_list[i]=interaction_information2(X, Y, Z[:,i], Z[:,j])\n",
    "    return sum(third_list)+first_and_second"
   ]
  },
  {
   "cell_type": "markdown",
   "metadata": {},
   "source": [
    "### a)"
   ]
  },
  {
   "cell_type": "code",
   "execution_count": 13,
   "metadata": {},
   "outputs": [],
   "source": [
    "def cond_indep_test_permutation(X, Y, Z, B=50, stat='cmi'):\n",
    "\n",
    "    n_col_Z = Z.shape[1]\n",
    "    Z_1dim = np.dot(Z, 2**np.linspace(0, n_col_Z-1, n_col_Z))\n",
    "\n",
    "    if stat == \"cmi\":\n",
    "        stat_value = conditional_mutual_information(X, Y, Z_1dim)\n",
    "    if stat == \"secmi2\":\n",
    "        stat_value = secmi2(X, Y, Z)\n",
    "    if stat == \"secmi3\":\n",
    "        stat_value = secmi3(X, Y, Z)\n",
    "\n",
    "    condition_p_value = 0\n",
    "    for b in range(B):\n",
    "        X_b = conditional_permutation(X, Z_1dim)\n",
    "\n",
    "        if stat == \"cmi\":\n",
    "            stat_value_b = conditional_mutual_information(X_b, Y, Z_1dim)\n",
    "        if stat == \"secmi2\":\n",
    "            stat_value_b = secmi2(X_b, Y, Z)\n",
    "        if stat == \"secmi3\":\n",
    "            stat_value_b = secmi3(X_b, Y, Z)\n",
    "\n",
    "        if stat_value <= stat_value_b:\n",
    "            condition_p_value += 1\n",
    "\n",
    "    p_value = (1 + condition_p_value)/(1 + B)\n",
    "\n",
    "    return 2*len(X)*stat_value, p_value"
   ]
  },
  {
   "cell_type": "markdown",
   "metadata": {},
   "source": [
    "### b)"
   ]
  },
  {
   "cell_type": "code",
   "execution_count": 9,
   "metadata": {},
   "outputs": [],
   "source": [
    "def generate_data(n):\n",
    "    Y_first = np.random.normal(size=n)\n",
    "    Y = discetize_2bins(Y_first)\n",
    "\n",
    "    Z1_first = np.random.normal(loc=Y/2,size=n)\n",
    "    Z1 = discetize_2bins(Z1_first)\n",
    "\n",
    "    Z2_first = np.random.normal(loc=Y/2,size=n)\n",
    "    Z2 = discetize_2bins(Z2_first)\n",
    "\n",
    "    Z3_first = np.random.normal(loc=Y/2,size=n)\n",
    "    Z3 = discetize_2bins(Z3_first)\n",
    "\n",
    "    X_first = np.random.normal(loc=Z1/2,size=n)\n",
    "    X = discetize_2bins(X_first)\n",
    "\n",
    "    return Y, Z1, Z2, Z3, X"
   ]
  },
  {
   "cell_type": "code",
   "execution_count": 40,
   "metadata": {},
   "outputs": [],
   "source": [
    "def run_tests_b(n):\n",
    "    Y, Z1, Z2, Z3, X = generate_data(n)\n",
    "    results=pd.DataFrame(columns=['stat', 'stat_val_1', 'p_value_1', 'stat_val_2', 'p_value_2'], index=range(3))\n",
    "    results['stat']=['cmi', 'secmi2', 'secmi3']\n",
    "    Z_test_1=np.column_stack((Z1, Z2))\n",
    "    Z_test_2=np.column_stack((Z2, Z3))\n",
    "    for stats in ['cmi', 'secmi2', 'secmi3']:\n",
    "        results.loc[results['stat']==stats,'stat_val_1'], results.loc[results['stat']==stats,'p_value_1']=cond_indep_test_permutation(X, Y, Z_test_1, B=50, stat=stats)\n",
    "        results.loc[results['stat']==stats,'stat_val_2'], results.loc[results['stat']==stats,'p_value_2']=cond_indep_test_permutation(X, Y, Z_test_2, B=50, stat=stats)\n",
    "    return results    "
   ]
  },
  {
   "cell_type": "code",
   "execution_count": 23,
   "metadata": {},
   "outputs": [
    {
     "data": {
      "text/plain": [
       "array([1, 1, 0, 1, 1, 0, 0, 1, 1, 1])"
      ]
     },
     "execution_count": 23,
     "metadata": {},
     "output_type": "execute_result"
    }
   ],
   "source": [
    "Y, Z1, Z2, Z3, X = generate_data(10)\n",
    "Z1"
   ]
  },
  {
   "cell_type": "code",
   "execution_count": 45,
   "metadata": {},
   "outputs": [
    {
     "data": {
      "text/html": [
       "<div>\n",
       "<style scoped>\n",
       "    .dataframe tbody tr th:only-of-type {\n",
       "        vertical-align: middle;\n",
       "    }\n",
       "\n",
       "    .dataframe tbody tr th {\n",
       "        vertical-align: top;\n",
       "    }\n",
       "\n",
       "    .dataframe thead th {\n",
       "        text-align: right;\n",
       "    }\n",
       "</style>\n",
       "<table border=\"1\" class=\"dataframe\">\n",
       "  <thead>\n",
       "    <tr style=\"text-align: right;\">\n",
       "      <th></th>\n",
       "      <th>stat</th>\n",
       "      <th>stat_val_1</th>\n",
       "      <th>p_value_1</th>\n",
       "      <th>stat_val_2</th>\n",
       "      <th>p_value_2</th>\n",
       "    </tr>\n",
       "  </thead>\n",
       "  <tbody>\n",
       "    <tr>\n",
       "      <th>0</th>\n",
       "      <td>cmi</td>\n",
       "      <td>2.481897</td>\n",
       "      <td>0.784314</td>\n",
       "      <td>1.373166</td>\n",
       "      <td>0.862745</td>\n",
       "    </tr>\n",
       "    <tr>\n",
       "      <th>1</th>\n",
       "      <td>secmi2</td>\n",
       "      <td>1.306004</td>\n",
       "      <td>0.764706</td>\n",
       "      <td>1.089497</td>\n",
       "      <td>0.823529</td>\n",
       "    </tr>\n",
       "    <tr>\n",
       "      <th>2</th>\n",
       "      <td>secmi3</td>\n",
       "      <td>2.481897</td>\n",
       "      <td>0.666667</td>\n",
       "      <td>1.373166</td>\n",
       "      <td>0.823529</td>\n",
       "    </tr>\n",
       "  </tbody>\n",
       "</table>\n",
       "</div>"
      ],
      "text/plain": [
       "     stat stat_val_1 p_value_1 stat_val_2 p_value_2\n",
       "0     cmi   2.481897  0.784314   1.373166  0.862745\n",
       "1  secmi2   1.306004  0.764706   1.089497  0.823529\n",
       "2  secmi3   2.481897  0.666667   1.373166  0.823529"
      ]
     },
     "execution_count": 45,
     "metadata": {},
     "output_type": "execute_result"
    }
   ],
   "source": [
    "N=100\n",
    "results_test=run_tests_b(N)\n",
    "results_test"
   ]
  },
  {
   "cell_type": "markdown",
   "metadata": {},
   "source": [
    "In this test there was no test true."
   ]
  },
  {
   "cell_type": "code",
   "execution_count": 59,
   "metadata": {},
   "outputs": [
    {
     "name": "stdout",
     "output_type": "stream",
     "text": [
      "0\n",
      "1\n",
      "2\n",
      "3\n",
      "4\n",
      "5\n",
      "6\n",
      "7\n",
      "8\n",
      "9\n",
      "10\n",
      "11\n",
      "12\n",
      "13\n",
      "14\n",
      "15\n",
      "16\n",
      "17\n",
      "18\n",
      "19\n",
      "20\n",
      "21\n",
      "22\n",
      "23\n",
      "24\n",
      "25\n",
      "26\n",
      "27\n",
      "28\n",
      "29\n",
      "30\n",
      "31\n",
      "32\n",
      "33\n",
      "34\n",
      "35\n",
      "36\n",
      "37\n",
      "38\n",
      "39\n",
      "40\n",
      "41\n",
      "42\n",
      "43\n",
      "44\n",
      "45\n",
      "46\n",
      "47\n",
      "48\n",
      "49\n",
      "50\n",
      "51\n",
      "52\n",
      "53\n",
      "54\n",
      "55\n",
      "56\n",
      "57\n",
      "58\n",
      "59\n",
      "60\n",
      "61\n",
      "62\n",
      "63\n",
      "64\n",
      "65\n",
      "66\n",
      "67\n",
      "68\n",
      "69\n",
      "70\n",
      "71\n",
      "72\n",
      "73\n",
      "74\n",
      "75\n",
      "76\n",
      "77\n",
      "78\n",
      "79\n",
      "80\n",
      "81\n",
      "82\n",
      "83\n",
      "84\n",
      "85\n",
      "86\n",
      "87\n",
      "88\n",
      "89\n",
      "90\n",
      "91\n",
      "92\n",
      "93\n",
      "94\n",
      "95\n",
      "96\n",
      "97\n",
      "98\n",
      "99\n"
     ]
    }
   ],
   "source": [
    "cmi_1=0\n",
    "cmi_2=0\n",
    "secmi2_1=0\n",
    "secmi2_2=0\n",
    "secmi3_1=0\n",
    "secmi3_2=0\n",
    "\n",
    "for i in range(100):\n",
    "    print(i)\n",
    "    results_test=run_tests_b(N)\n",
    "    if int(results_test[results_test['stat']=='cmi']['p_value_1']<0.05):\n",
    "        cmi_1+=1\n",
    "    elif int(results_test[results_test['stat']=='cmi']['p_value_2']<0.05):\n",
    "        cmi_2+=1\n",
    "    elif int(results_test[results_test['stat']=='secmi2']['p_value_1']<0.05):\n",
    "        secmi2_1+=1\n",
    "    elif int(results_test[results_test['stat']=='secmi2']['p_value_2']<0.05):\n",
    "        secmi2_2+=1\n",
    "    elif int(results_test[results_test['stat']=='secmi3']['p_value_1']<0.05):\n",
    "        secmi3_1+=1\n",
    "    elif int(results_test[results_test['stat']=='secmi3']['p_value_2']<0.05):\n",
    "        secmi3_1+=1\n",
    "    else:\n",
    "        pass\n"
   ]
  },
  {
   "cell_type": "code",
   "execution_count": 60,
   "metadata": {},
   "outputs": [
    {
     "name": "stdout",
     "output_type": "stream",
     "text": [
      "For cmi hypothesis 1 was rejected: 91 times.\n",
      "For cmi hypothesis 1 was rejected: 97 times.\n",
      "For secmi2 hypothesis 1 was rejected: 98 times.\n",
      "For secmi2 hypothesis 1 was rejected: 99 times.\n",
      "For secmi3 hypothesis 1 was rejected: 98 times.\n",
      "For secmi3 hypothesis 1 was rejected: 100 times.\n"
     ]
    }
   ],
   "source": [
    "print(f\"For cmi hypothesis 1 was rejected: {100-cmi_1} times.\")\n",
    "print(f\"For cmi hypothesis 2 was rejected: {100-cmi_2} times.\")\n",
    "print(f\"For secmi2 hypothesis 1 was rejected: {100-secmi2_1} times.\")\n",
    "print(f\"For secmi2 hypothesis 2 was rejected: {100-secmi2_2} times.\")\n",
    "print(f\"For secmi3 hypothesis 1 was rejected: {100-secmi3_1} times.\")\n",
    "print(f\"For secmi3 hypothesis 2 was rejected: {100-secmi3_2} times.\")"
   ]
  },
  {
   "cell_type": "markdown",
   "metadata": {},
   "source": [
    "### c)"
   ]
  },
  {
   "cell_type": "code",
   "execution_count": null,
   "metadata": {},
   "outputs": [],
   "source": []
  },
  {
   "cell_type": "markdown",
   "metadata": {},
   "source": [
    "## Task 2\n",
    " \n",
    "in R"
   ]
  }
 ],
 "metadata": {
  "kernelspec": {
   "display_name": "dydaktyka",
   "language": "python",
   "name": "python3"
  },
  "language_info": {
   "codemirror_mode": {
    "name": "ipython",
    "version": 3
   },
   "file_extension": ".py",
   "mimetype": "text/x-python",
   "name": "python",
   "nbconvert_exporter": "python",
   "pygments_lexer": "ipython3",
   "version": "3.8.10"
  }
 },
 "nbformat": 4,
 "nbformat_minor": 2
}
