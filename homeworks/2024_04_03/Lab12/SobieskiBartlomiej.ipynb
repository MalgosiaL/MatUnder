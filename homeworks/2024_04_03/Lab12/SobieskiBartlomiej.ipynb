{
 "cells": [
  {
   "cell_type": "code",
   "execution_count": null,
   "metadata": {},
   "outputs": [],
   "source": []
  },
  {
   "cell_type": "markdown",
   "metadata": {},
   "source": [
    "# Mathematical Underpinnings - Lab 6"
   ]
  },
  {
   "cell_type": "code",
   "execution_count": 1,
   "metadata": {},
   "outputs": [],
   "source": [
    "from sklearn.metrics import mutual_info_score\n",
    "import numpy as np\n",
    "import matplotlib.pyplot as plt\n",
    "import seaborn as sns\n",
    "import pandas as pd\n",
    "from tqdm import tqdm"
   ]
  },
  {
   "cell_type": "markdown",
   "metadata": {},
   "source": [
    "## Useful functions"
   ]
  },
  {
   "cell_type": "code",
   "execution_count": 2,
   "metadata": {},
   "outputs": [],
   "source": [
    "def discetize_2bins(X):\n",
    "    X_discrete = 1*(X >= 0)\n",
    "    return X_discrete"
   ]
  },
  {
   "cell_type": "code",
   "execution_count": 3,
   "metadata": {},
   "outputs": [],
   "source": [
    "def conditional_permutation(X, Z):\n",
    "\n",
    "    z_values = np.unique(Z)\n",
    "    n_z_values = len(z_values)\n",
    "    n = len(Z)\n",
    "\n",
    "    X_b = np.zeros(n)\n",
    "\n",
    "    for i in range(n_z_values):\n",
    "\n",
    "        z_value_tmp = z_values[i]\n",
    "\n",
    "        X_b[Z == z_value_tmp] = np.random.permutation(X[Z == z_value_tmp])\n",
    "\n",
    "    return X_b"
   ]
  },
  {
   "cell_type": "code",
   "execution_count": 4,
   "metadata": {},
   "outputs": [],
   "source": [
    "def conditional_mutual_information(X, Y, Z):\n",
    "\n",
    "    z_values = np.unique(Z)\n",
    "    n_z_values = len(z_values)\n",
    "    n = len(Z)\n",
    "\n",
    "    cmi = 0\n",
    "\n",
    "    for i in range(n_z_values):\n",
    "\n",
    "        z_value_tmp = z_values[i]\n",
    "        z_condition = (Z == z_value_tmp)\n",
    "\n",
    "        X_z = X[z_condition]\n",
    "        Y_z = Y[z_condition]\n",
    "\n",
    "        mi_XY_z = mutual_info_score(X_z, Y_z)\n",
    "        p_z = np.sum(z_condition)/n\n",
    "\n",
    "        cmi += p_z*mi_XY_z\n",
    "\n",
    "    return cmi"
   ]
  },
  {
   "cell_type": "code",
   "execution_count": 5,
   "metadata": {},
   "outputs": [],
   "source": [
    "# II(X;Y;Z)\n",
    "def interaction_information(X, Y, Z):\n",
    "    return conditional_mutual_information(X, Y, Z) - mutual_info_score(X, Y)"
   ]
  },
  {
   "cell_type": "code",
   "execution_count": 6,
   "metadata": {},
   "outputs": [],
   "source": [
    "# II(X;Y;Z1;Z2)\n",
    "def interaction_information2(X, Y, Z1, Z2):\n",
    "    Z_1_and_2 = 2 * Z2 + Z1\n",
    "    return interaction_information(X, Y, Z_1_and_2) - interaction_information(X, Y, Z1) - interaction_information(X, Y, Z2)"
   ]
  },
  {
   "cell_type": "markdown",
   "metadata": {},
   "source": [
    "## Task 1"
   ]
  },
  {
   "cell_type": "code",
   "execution_count": 7,
   "metadata": {},
   "outputs": [],
   "source": [
    "def secmi2(X, Y, Z):\n",
    "\n",
    "    ii = 0.\n",
    "    for z_var in Z.T:\n",
    "        ii += interaction_information(X, Y, z_var)\n",
    "\n",
    "    return mutual_info_score(X, Y) + ii\n",
    "\n",
    "def secmi3(X, Y, Z):\n",
    "\n",
    "    val = secmi2(X, Y, Z)\n",
    "    for i in range(Z.shape[1]):\n",
    "        for j in range(i):\n",
    "            val += interaction_information2(X, Y, Z[:, i], Z[:, j])\n",
    "\n",
    "\n",
    "    return val"
   ]
  },
  {
   "cell_type": "markdown",
   "metadata": {},
   "source": [
    "### a)"
   ]
  },
  {
   "cell_type": "code",
   "execution_count": 8,
   "metadata": {},
   "outputs": [],
   "source": [
    "def cond_indep_test_permutation(X, Y, Z, stat, B = 100):\n",
    "\n",
    "    n_col_Z = Z.shape[1]\n",
    "    Z_1dim = np.dot(Z, 2**np.linspace(0, n_col_Z-1, n_col_Z))\n",
    "\n",
    "    if stat == \"cmi\":\n",
    "        stat_value = conditional_mutual_information(X, Y, Z_1dim)\n",
    "    if stat == \"secmi2\":\n",
    "        stat_value = secmi2(X, Y, Z)\n",
    "    if stat == \"secmi3\":\n",
    "        stat_value = secmi3(X, Y, Z)\n",
    "\n",
    "    condition_p_value = 0\n",
    "    for b in range(B):\n",
    "        X_b = conditional_permutation(X, Z_1dim)\n",
    "\n",
    "        if stat == \"cmi\":\n",
    "            stat_value_b = conditional_mutual_information(X_b, Y, Z_1dim)\n",
    "        if stat == \"secmi2\":\n",
    "            stat_value_b = secmi2(X_b, Y, Z)\n",
    "        if stat == \"secmi3\":\n",
    "            stat_value_b = secmi3(X_b, Y, Z)\n",
    "\n",
    "        if stat_value <= stat_value_b:\n",
    "            condition_p_value += 1\n",
    "\n",
    "    p_value = (1 + condition_p_value)/(1 + B)\n",
    "\n",
    "    return 2*len(X)*stat_value, p_value"
   ]
  },
  {
   "cell_type": "markdown",
   "metadata": {},
   "source": [
    "### b)"
   ]
  },
  {
   "cell_type": "code",
   "execution_count": 9,
   "metadata": {},
   "outputs": [],
   "source": [
    "n = 100\n",
    "stats = ['cmi', 'secmi2', 'secmi3']\n",
    "scenario = 'b'\n",
    "\n",
    "y = np.random.normal(size = n)\n",
    "y = np.where(y > 0, 1, -1)\n",
    "\n",
    "z_1 = np.random.normal(y)\n",
    "z_2 = np.random.normal(y)\n",
    "z_3 = np.random.normal(y)\n",
    "\n",
    "z_1_bin = np.where(z_1 > 0, 1, -1)\n",
    "z_2_bin = np.where(z_2 > 0, 1, -1)\n",
    "z_3_bin = np.where(z_3 > 0, 1, -1)\n",
    "\n",
    "x = np.random.normal(z_1_bin)\n",
    "x = np.where(x > 0, 1, -1)\n",
    "\n",
    "def test_hypo(x, y, z_1, z_2, z_3, scenario, stat):\n",
    "\n",
    "    if scenario == 'a':\n",
    "        z = np.vstack([z_1, z_2]).T\n",
    "    elif scenario == 'b':\n",
    "        z = np.vstack([z_2, z_3]).T\n",
    "\n",
    "    return cond_indep_test_permutation(x, y, z, stat)\n"
   ]
  },
  {
   "cell_type": "code",
   "execution_count": 10,
   "metadata": {},
   "outputs": [
    {
     "data": {
      "text/plain": [
       "(2.213557633009069, 0.5742574257425742)"
      ]
     },
     "execution_count": 10,
     "metadata": {},
     "output_type": "execute_result"
    }
   ],
   "source": [
    "test_hypo(x, y, z_1_bin, z_2_bin, z_3_bin, 'a', 'cmi')"
   ]
  },
  {
   "cell_type": "code",
   "execution_count": 11,
   "metadata": {},
   "outputs": [
    {
     "data": {
      "text/plain": [
       "(-7.696593560112341, 0.36633663366336633)"
      ]
     },
     "execution_count": 11,
     "metadata": {},
     "output_type": "execute_result"
    }
   ],
   "source": [
    "test_hypo(x, y, z_1_bin, z_2_bin, z_3_bin, 'a', 'secmi2')"
   ]
  },
  {
   "cell_type": "code",
   "execution_count": 12,
   "metadata": {},
   "outputs": [
    {
     "data": {
      "text/plain": [
       "(2.2135576330090667, 0.5247524752475248)"
      ]
     },
     "execution_count": 12,
     "metadata": {},
     "output_type": "execute_result"
    }
   ],
   "source": [
    "test_hypo(x, y, z_1_bin, z_2_bin, z_3_bin, 'a', 'secmi3')"
   ]
  },
  {
   "cell_type": "code",
   "execution_count": 13,
   "metadata": {},
   "outputs": [
    {
     "data": {
      "text/plain": [
       "(23.513502734346016, 0.009900990099009901)"
      ]
     },
     "execution_count": 13,
     "metadata": {},
     "output_type": "execute_result"
    }
   ],
   "source": [
    "test_hypo(x, y, z_1_bin, z_2_bin, z_3_bin, 'b', 'cmi')"
   ]
  },
  {
   "cell_type": "code",
   "execution_count": 14,
   "metadata": {},
   "outputs": [
    {
     "data": {
      "text/plain": [
       "(13.690291714872311, 0.009900990099009901)"
      ]
     },
     "execution_count": 14,
     "metadata": {},
     "output_type": "execute_result"
    }
   ],
   "source": [
    "test_hypo(x, y, z_1_bin, z_2_bin, z_3_bin, 'b', 'secmi2')"
   ]
  },
  {
   "cell_type": "code",
   "execution_count": 15,
   "metadata": {},
   "outputs": [
    {
     "data": {
      "text/plain": [
       "(23.513502734346016, 0.009900990099009901)"
      ]
     },
     "execution_count": 15,
     "metadata": {},
     "output_type": "execute_result"
    }
   ],
   "source": [
    "test_hypo(x, y, z_1_bin, z_2_bin, z_3_bin, 'b', 'secmi3')"
   ]
  },
  {
   "cell_type": "code",
   "execution_count": 19,
   "metadata": {},
   "outputs": [
    {
     "name": "stderr",
     "output_type": "stream",
     "text": [
      "100%|██████████| 100/100 [04:40<00:00,  2.81s/it]\n"
     ]
    }
   ],
   "source": [
    "from tqdm import tqdm\n",
    "N = 100\n",
    "results = {}\n",
    "results[('a', 'cmi')] = []\n",
    "results[('a', 'secmi2')] = []\n",
    "results[('a', 'secmi3')] = []\n",
    "results[('b', 'cmi')] = []\n",
    "results[('b', 'secmi2')] = []\n",
    "results[('b', 'secmi3')] = []\n",
    "for _ in tqdm(range(N)):\n",
    "    results[('a', 'cmi')].append(test_hypo(x, y, z_1_bin, z_2_bin, z_3_bin, 'a', 'cmi')[1])\n",
    "    results[('a', 'secmi2')].append(test_hypo(x, y, z_1_bin, z_2_bin, z_3_bin, 'a', 'secmi2')[1])\n",
    "    results[('a', 'secmi3')].append(test_hypo(x, y, z_1_bin, z_2_bin, z_3_bin, 'a', 'secmi3')[1])\n",
    "    results[('b', 'cmi')].append(test_hypo(x, y, z_1_bin, z_2_bin, z_3_bin, 'b', 'cmi')[1])\n",
    "    results[('b', 'secmi2')].append(test_hypo(x, y, z_1_bin, z_2_bin, z_3_bin, 'b', 'secmi2')[1])\n",
    "    results[('b', 'secmi3')].append(test_hypo(x, y, z_1_bin, z_2_bin, z_3_bin, 'b', 'secmi3')[1])"
   ]
  },
  {
   "cell_type": "code",
   "execution_count": 21,
   "metadata": {},
   "outputs": [],
   "source": [
    "df = pd.DataFrame.from_dict(results)"
   ]
  },
  {
   "cell_type": "code",
   "execution_count": 28,
   "metadata": {},
   "outputs": [
    {
     "data": {
      "image/png": "[encoded data removed]",
      "text/plain": [
       "<Figure size 640x480 with 1 Axes>"
      ]
     },
     "metadata": {},
     "output_type": "display_data"
    }
   ],
   "source": [
    "sns.boxplot(df, width = 0.5)\n",
    "plt.ylabel('p-value')\n",
    "plt.show()"
   ]
  },
  {
   "cell_type": "markdown",
   "metadata": {},
   "source": [
    "### c)"
   ]
  },
  {
   "cell_type": "code",
   "execution_count": 37,
   "metadata": {},
   "outputs": [],
   "source": [
    "n = 100\n",
    "x = np.random.randint(0, 2, n)\n",
    "z_1 = np.random.randint(0, 2, n)\n",
    "z_2 = np.random.randint(0, 2, n)\n",
    "z_3 = np.random.randint(0, 2, n)\n",
    "\n",
    "cond = x + z_1 + z_2\n",
    "y = np.zeros_like(x)\n",
    "y[cond % 2 == 0] = np.random.choice([0, 1], size = (n,), p = [0.8, 0.2])[cond % 2 == 0]\n",
    "y[cond % 2 == 1] = np.random.choice([0, 1], size = (n,), p = [0.2, 0.8])[cond % 2 == 1]"
   ]
  },
  {
   "cell_type": "code",
   "execution_count": 38,
   "metadata": {},
   "outputs": [
    {
     "data": {
      "text/plain": [
       "(34.361685737281825, 0.009900990099009901)"
      ]
     },
     "execution_count": 38,
     "metadata": {},
     "output_type": "execute_result"
    }
   ],
   "source": [
    "test_hypo(x, y, z_1, z_2, z_3, 'a', 'cmi')"
   ]
  },
  {
   "cell_type": "code",
   "execution_count": 39,
   "metadata": {},
   "outputs": [
    {
     "data": {
      "text/plain": [
       "(1.9459931951993497, 0.693069306930693)"
      ]
     },
     "execution_count": 39,
     "metadata": {},
     "output_type": "execute_result"
    }
   ],
   "source": [
    "test_hypo(x, y, z_1, z_2, z_3, 'a', 'secmi2')"
   ]
  },
  {
   "cell_type": "code",
   "execution_count": 40,
   "metadata": {},
   "outputs": [
    {
     "data": {
      "text/plain": [
       "(34.361685737281825, 0.009900990099009901)"
      ]
     },
     "execution_count": 40,
     "metadata": {},
     "output_type": "execute_result"
    }
   ],
   "source": [
    "test_hypo(x, y, z_1, z_2, z_3, 'a', 'secmi3')"
   ]
  },
  {
   "cell_type": "code",
   "execution_count": 41,
   "metadata": {},
   "outputs": [
    {
     "data": {
      "text/plain": [
       "(0.5378391325387483, 0.9603960396039604)"
      ]
     },
     "execution_count": 41,
     "metadata": {},
     "output_type": "execute_result"
    }
   ],
   "source": [
    "test_hypo(x, y, z_1, z_2, z_3, 'b', 'cmi')"
   ]
  },
  {
   "cell_type": "code",
   "execution_count": 42,
   "metadata": {},
   "outputs": [
    {
     "data": {
      "text/plain": [
       "(0.17664529160673167, 1.0)"
      ]
     },
     "execution_count": 42,
     "metadata": {},
     "output_type": "execute_result"
    }
   ],
   "source": [
    "test_hypo(x, y, z_1, z_2, z_3, 'b', 'secmi2')"
   ]
  },
  {
   "cell_type": "code",
   "execution_count": 43,
   "metadata": {},
   "outputs": [
    {
     "data": {
      "text/plain": [
       "(0.5378391325387483, 0.9603960396039604)"
      ]
     },
     "execution_count": 43,
     "metadata": {},
     "output_type": "execute_result"
    }
   ],
   "source": [
    "test_hypo(x, y, z_1, z_2, z_3, 'b', 'secmi3')"
   ]
  },
  {
   "cell_type": "code",
   "execution_count": 44,
   "metadata": {},
   "outputs": [
    {
     "name": "stderr",
     "output_type": "stream",
     "text": [
      "100%|██████████| 100/100 [04:46<00:00,  2.86s/it]\n"
     ]
    }
   ],
   "source": [
    "N = 100\n",
    "results = {}\n",
    "results[('a', 'cmi')] = []\n",
    "results[('a', 'secmi2')] = []\n",
    "results[('a', 'secmi3')] = []\n",
    "results[('b', 'cmi')] = []\n",
    "results[('b', 'secmi2')] = []\n",
    "results[('b', 'secmi3')] = []\n",
    "for _ in tqdm(range(N)):\n",
    "    results[('a', 'cmi')].append(test_hypo(x, y, z_1, z_2, z_3, 'a', 'cmi')[1])\n",
    "    results[('a', 'secmi2')].append(test_hypo(x, y, z_1, z_2, z_3, 'a', 'secmi2')[1])\n",
    "    results[('a', 'secmi3')].append(test_hypo(x, y, z_1, z_2, z_3, 'a', 'secmi3')[1])\n",
    "    results[('b', 'cmi')].append(test_hypo(x, y, z_1, z_2, z_3, 'b', 'cmi')[1])\n",
    "    results[('b', 'secmi2')].append(test_hypo(x, y, z_1, z_2, z_3, 'b', 'secmi2')[1])\n",
    "    results[('b', 'secmi3')].append(test_hypo(x, y, z_1, z_2, z_3, 'b', 'secmi3')[1])"
   ]
  },
  {
   "cell_type": "code",
   "execution_count": 45,
   "metadata": {},
   "outputs": [],
   "source": [
    "df = pd.DataFrame.from_dict(results)"
   ]
  },
  {
   "cell_type": "code",
   "execution_count": 46,
   "metadata": {},
   "outputs": [
    {
     "data": {
      "image/png": "[encoded data removed]",
      "text/plain": [
       "<Figure size 640x480 with 1 Axes>"
      ]
     },
     "metadata": {},
     "output_type": "display_data"
    }
   ],
   "source": [
    "sns.boxplot(df, width = 0.5)\n",
    "plt.ylabel('p-value')\n",
    "plt.show()"
   ]
  },
  {
   "cell_type": "markdown",
   "metadata": {},
   "source": [
    "## Task 2\n",
    " \n",
    "in R"
   ]
  }
 ],
 "metadata": {
  "kernelspec": {
   "display_name": "dydaktyka",
   "language": "python",
   "name": "python3"
  },
  "language_info": {
   "codemirror_mode": {
    "name": "ipython",
    "version": 3
   },
   "file_extension": ".py",
   "mimetype": "text/x-python",
   "name": "python",
   "nbconvert_exporter": "python",
   "pygments_lexer": "ipython3",
   "version": "3.10.12"
  }
 },
 "nbformat": 4,
 "nbformat_minor": 2
}
