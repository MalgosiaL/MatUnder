{
  "nbformat": 4,
  "nbformat_minor": 0,
  "metadata": {
    "colab": {
      "provenance": []
    },
    "kernelspec": {
      "name": "python3",
      "display_name": "Python 3"
    },
    "language_info": {
      "name": "python"
    }
  },
  "cells": [
    {
      "cell_type": "markdown",
      "source": [
        "# Mathematical Underpinnings - Lab 7\n"
      ],
      "metadata": {
        "id": "Tpnb-n06CoxO"
      }
    },
    {
      "cell_type": "code",
      "execution_count": 1,
      "metadata": {
        "id": "RPWny-32Bu-l"
      },
      "outputs": [],
      "source": [
        "import tensorflow as tf\n",
        "import keras\n",
        "import numpy as np\n",
        "import matplotlib.pyplot as plt\n",
        "\n",
        "from keras.layers import Input, Dense, Lambda, InputLayer, concatenate\n",
        "from keras.models import Model, Sequential\n",
        "from keras import backend as K\n",
        "from keras import metrics\n",
        "from keras.datasets import mnist\n",
        "from keras.utils import to_categorical\n",
        "\n",
        "from sklearn.model_selection import train_test_split"
      ]
    },
    {
      "cell_type": "markdown",
      "source": [
        "## Task 1\n",
        "\n",
        "### a)"
      ],
      "metadata": {
        "id": "7qjYydMECunu"
      }
    },
    {
      "cell_type": "code",
      "source": [
        "def KL_mult_normal(mu1, mu2, Sigma1, Sigma2):\n",
        "    # the formula is here: https://statproofbook.github.io/P/mvn-kl.html\n",
        "    return (np.dot(mu2-mu1, np.dot(np.linalg.inv(Sigma2), mu2 - mu1)) + np.sum(np.diag(np.dot(np.linalg.inv(Sigma2), Sigma1))) \\\n",
        "        - np.log(np.linalg.det(Sigma1)/np.linalg.det(Sigma2)) - mu1.shape[0])/2"
      ],
      "metadata": {
        "id": "gx13kQp1CtGI"
      },
      "execution_count": 2,
      "outputs": []
    },
    {
      "cell_type": "code",
      "source": [
        "def T_opt(x, mu1, mu2, Sigma1, Sigma2):\n",
        "    # compute log(p(x)/q(x)), where p and q are multivariate normal with parameters mu1, Sigma1 and mu2, Sigma2 respectively\n",
        "    # density of multivariate normal distribution is e.g. here: https://en.wikipedia.org/wiki/Multivariate_normal_distribution\n",
        "    res = np.zeros(x.shape[0])\n",
        "    for i in range(x.shape[0]):\n",
        "        ft = -np.log(np.linalg.det(Sigma1))/2 - np.dot(np.dot(np.linalg.inv(Sigma1), (x[i,:] - mu1)), x[i,:] - mu1)/2\n",
        "        st = np.log(np.linalg.det(Sigma2))/2 + np.dot(np.dot(np.linalg.inv(Sigma2), x[i,:] - mu2), x[i,:] - mu2)/2\n",
        "        res[i] = ft+st\n",
        "    return res"
      ],
      "metadata": {
        "id": "ug_45ffXCxEp"
      },
      "execution_count": 3,
      "outputs": []
    },
    {
      "cell_type": "markdown",
      "source": [
        "### b)"
      ],
      "metadata": {
        "id": "fbDL_kwVC2K_"
      }
    },
    {
      "cell_type": "code",
      "source": [
        "# sample n = 10000 observations out of np.random.multivariate_normal(mu1, Sigma1, size=n)\n",
        "# and sample n = 10000 observations out of np.random.multivariate_normal(mu2, Sigma2, size=n)\n",
        "# then concatenate the two matrices (your final x is a matrix 2n x 5)\n",
        "# then create a vector y that will have n ones and n zeros (of size 2n)\n",
        "\n",
        "# np.random.seed(123)\n",
        "n = 10000\n",
        "mu1 = np.array([1, 1, 1, 0, 0])/5\n",
        "mu2 = np.array([0, 0, 1, 1, 1])/5\n",
        "Sigma1 = (np.eye(5)*9 + np.ones((5,5)))/10\n",
        "Sigma2 = 1.2*np.eye(5) - np.ones((5,5))/5\n",
        "x1 = np.random.multivariate_normal(mu1, Sigma1, size=n)\n",
        "x2 = np.random.multivariate_normal(mu2, Sigma2, size=n)\n",
        "x = np.concatenate((x1, x2), axis=0)\n",
        "y = np.concatenate((1.0*np.ones(n), 0.0*np.zeros(n)))\n"
      ],
      "metadata": {
        "id": "kSSh-KMdC0lR"
      },
      "execution_count": 4,
      "outputs": []
    },
    {
      "cell_type": "code",
      "source": [
        "def DV_fun(y, t):\n",
        "    # y - an indicator [y[i]=1 if t[i] corresponds to x sampled from the distribution p, y[i]=0 otherwise]\n",
        "    # t a vector (of the same length as y) t = log(p(x)/q(x))\n",
        "    n1 = np.sum(y)\n",
        "    n2 = np.sum(1 - y)\n",
        "    return np.sum(t*y)/n1 - np.log(np.sum(np.exp(t)*(1-y))/n2)"
      ],
      "metadata": {
        "id": "6tfV3qMaCzjJ"
      },
      "execution_count": 5,
      "outputs": []
    },
    {
      "cell_type": "code",
      "source": [
        "KL_mult_normal(mu1, mu2, Sigma1, Sigma2)"
      ],
      "metadata": {
        "colab": {
          "base_uri": "https://localhost:8080/"
        },
        "id": "GO4NOyWVC8Af",
        "outputId": "e77797f3-d720-432b-b751-2266fb698b2a"
      },
      "execution_count": 6,
      "outputs": [
        {
          "output_type": "execute_result",
          "data": {
            "text/plain": [
              "2.169075737042572"
            ]
          },
          "metadata": {},
          "execution_count": 6
        }
      ]
    },
    {
      "cell_type": "code",
      "source": [
        "DV_fun(y, T_opt(x, mu1, mu2, Sigma1, Sigma2))"
      ],
      "metadata": {
        "colab": {
          "base_uri": "https://localhost:8080/"
        },
        "id": "UX8ndJ_2DDS0",
        "outputId": "11546e7f-cc05-41f7-df38-198d9c0d3ce7"
      },
      "execution_count": 7,
      "outputs": [
        {
          "output_type": "execute_result",
          "data": {
            "text/plain": [
              "2.1474884662230087"
            ]
          },
          "metadata": {},
          "execution_count": 7
        }
      ]
    },
    {
      "cell_type": "markdown",
      "source": [
        "### c)\n"
      ],
      "metadata": {
        "id": "i2senqdLDHLp"
      }
    },
    {
      "cell_type": "code",
      "source": [
        "def DV_loss(y_true, T_x):\n",
        "    n1 = tf.math.reduce_sum(y_true)\n",
        "    n2 = tf.math.reduce_sum(tf.subtract(tf.convert_to_tensor(1.0), y_true))\n",
        "    first_term = tf.math.reduce_sum(tf.math.multiply(T_x, y_true))/n1\n",
        "    second_term = tf.math.log(tf.math.reduce_sum(tf.math.multiply(tf.math.exp(T_x), tf.subtract(tf.convert_to_tensor(1.0), y_true)))/n2)\n",
        "    return -(first_term - second_term)"
      ],
      "metadata": {
        "id": "AiIulfKuDIB1"
      },
      "execution_count": 10,
      "outputs": []
    },
    {
      "cell_type": "markdown",
      "source": [
        "### d)"
      ],
      "metadata": {
        "id": "NI-ff26GDlTt"
      }
    },
    {
      "cell_type": "code",
      "source": [
        "model_inputs = keras.Input(shape=(5))\n",
        "layer_out = Dense(64, activation='softplus')(model_inputs)\n",
        "#layer_out = Dense(125, activation='tanh')(layer_out)\n",
        "layer_out = Dense(64)(layer_out)\n",
        "model_outputs = Dense(1)(layer_out)\n",
        "model = keras.Model(model_inputs, model_outputs)\n",
        "\n",
        "optimizer = keras.optimizers.SGD(learning_rate=1e-2)\n",
        "es = tf.keras.callbacks.EarlyStopping(monitor='val_loss', mode='min', verbose=1, patience=5)\n",
        "model.compile(optimizer=optimizer, loss=DV_loss)"
      ],
      "metadata": {
        "id": "CLQrHGOdDmIA"
      },
      "execution_count": 11,
      "outputs": []
    },
    {
      "cell_type": "code",
      "source": [
        "x_train, x_test, y_train, y_test = train_test_split(x, y, test_size=0.25)"
      ],
      "metadata": {
        "id": "AK0EhogCDrYg"
      },
      "execution_count": 12,
      "outputs": []
    },
    {
      "cell_type": "code",
      "source": [
        "hist = model.fit(x_train, y_train, epochs=100, batch_size=1024, validation_data=(x_test, y_test), callbacks=[es])"
      ],
      "metadata": {
        "colab": {
          "base_uri": "https://localhost:8080/"
        },
        "id": "kCOwuw_RDsfR",
        "outputId": "764b1bdb-b498-4555-b082-b89b7f71352e"
      },
      "execution_count": 13,
      "outputs": [
        {
          "output_type": "stream",
          "name": "stdout",
          "text": [
            "Epoch 1/100\n",
            "15/15 [==============================] - 2s 36ms/step - loss: 0.0094 - val_loss: 0.0030\n",
            "Epoch 2/100\n",
            "15/15 [==============================] - 0s 7ms/step - loss: -0.0278 - val_loss: -0.0219\n",
            "Epoch 3/100\n",
            "15/15 [==============================] - 0s 7ms/step - loss: -0.0442 - val_loss: -0.0341\n",
            "Epoch 4/100\n",
            "15/15 [==============================] - 0s 7ms/step - loss: -0.0525 - val_loss: -0.0409\n",
            "Epoch 5/100\n",
            "15/15 [==============================] - 0s 12ms/step - loss: -0.0576 - val_loss: -0.0455\n",
            "Epoch 6/100\n",
            "15/15 [==============================] - 0s 11ms/step - loss: -0.0611 - val_loss: -0.0489\n",
            "Epoch 7/100\n",
            "15/15 [==============================] - 0s 15ms/step - loss: -0.0636 - val_loss: -0.0518\n",
            "Epoch 8/100\n",
            "15/15 [==============================] - 0s 10ms/step - loss: -0.0658 - val_loss: -0.0544\n",
            "Epoch 9/100\n",
            "15/15 [==============================] - 0s 10ms/step - loss: -0.0677 - val_loss: -0.0569\n",
            "Epoch 10/100\n",
            "15/15 [==============================] - 0s 13ms/step - loss: -0.0696 - val_loss: -0.0593\n",
            "Epoch 11/100\n",
            "15/15 [==============================] - 0s 10ms/step - loss: -0.0721 - val_loss: -0.0617\n",
            "Epoch 12/100\n",
            "15/15 [==============================] - 0s 9ms/step - loss: -0.0741 - val_loss: -0.0640\n",
            "Epoch 13/100\n",
            "15/15 [==============================] - 0s 10ms/step - loss: -0.0764 - val_loss: -0.0663\n",
            "Epoch 14/100\n",
            "15/15 [==============================] - 0s 10ms/step - loss: -0.0784 - val_loss: -0.0685\n",
            "Epoch 15/100\n",
            "15/15 [==============================] - 0s 13ms/step - loss: -0.0804 - val_loss: -0.0708\n",
            "Epoch 16/100\n",
            "15/15 [==============================] - 0s 11ms/step - loss: -0.0826 - val_loss: -0.0729\n",
            "Epoch 17/100\n",
            "15/15 [==============================] - 0s 11ms/step - loss: -0.0846 - val_loss: -0.0752\n",
            "Epoch 18/100\n",
            "15/15 [==============================] - 0s 10ms/step - loss: -0.0867 - val_loss: -0.0776\n",
            "Epoch 19/100\n",
            "15/15 [==============================] - 0s 10ms/step - loss: -0.0892 - val_loss: -0.0800\n",
            "Epoch 20/100\n",
            "15/15 [==============================] - 0s 18ms/step - loss: -0.0913 - val_loss: -0.0823\n",
            "Epoch 21/100\n",
            "15/15 [==============================] - 0s 12ms/step - loss: -0.0937 - val_loss: -0.0848\n",
            "Epoch 22/100\n",
            "15/15 [==============================] - 0s 13ms/step - loss: -0.0959 - val_loss: -0.0873\n",
            "Epoch 23/100\n",
            "15/15 [==============================] - 0s 14ms/step - loss: -0.0984 - val_loss: -0.0899\n",
            "Epoch 24/100\n",
            "15/15 [==============================] - 0s 13ms/step - loss: -0.1013 - val_loss: -0.0926\n",
            "Epoch 25/100\n",
            "15/15 [==============================] - 0s 14ms/step - loss: -0.1038 - val_loss: -0.0954\n",
            "Epoch 26/100\n",
            "15/15 [==============================] - 0s 13ms/step - loss: -0.1069 - val_loss: -0.0983\n",
            "Epoch 27/100\n",
            "15/15 [==============================] - 0s 11ms/step - loss: -0.1099 - val_loss: -0.1013\n",
            "Epoch 28/100\n",
            "15/15 [==============================] - 0s 14ms/step - loss: -0.1132 - val_loss: -0.1045\n",
            "Epoch 29/100\n",
            "15/15 [==============================] - 0s 12ms/step - loss: -0.1159 - val_loss: -0.1077\n",
            "Epoch 30/100\n",
            "15/15 [==============================] - 0s 10ms/step - loss: -0.1198 - val_loss: -0.1111\n",
            "Epoch 31/100\n",
            "15/15 [==============================] - 0s 7ms/step - loss: -0.1230 - val_loss: -0.1148\n",
            "Epoch 32/100\n",
            "15/15 [==============================] - 0s 6ms/step - loss: -0.1270 - val_loss: -0.1186\n",
            "Epoch 33/100\n",
            "15/15 [==============================] - 0s 7ms/step - loss: -0.1309 - val_loss: -0.1227\n",
            "Epoch 34/100\n",
            "15/15 [==============================] - 0s 6ms/step - loss: -0.1352 - val_loss: -0.1270\n",
            "Epoch 35/100\n",
            "15/15 [==============================] - 0s 7ms/step - loss: -0.1401 - val_loss: -0.1316\n",
            "Epoch 36/100\n",
            "15/15 [==============================] - 0s 7ms/step - loss: -0.1449 - val_loss: -0.1364\n",
            "Epoch 37/100\n",
            "15/15 [==============================] - 0s 6ms/step - loss: -0.1502 - val_loss: -0.1417\n",
            "Epoch 38/100\n",
            "15/15 [==============================] - 0s 6ms/step - loss: -0.1559 - val_loss: -0.1474\n",
            "Epoch 39/100\n",
            "15/15 [==============================] - 0s 7ms/step - loss: -0.1626 - val_loss: -0.1534\n",
            "Epoch 40/100\n",
            "15/15 [==============================] - 0s 7ms/step - loss: -0.1687 - val_loss: -0.1602\n",
            "Epoch 41/100\n",
            "15/15 [==============================] - 0s 6ms/step - loss: -0.1760 - val_loss: -0.1674\n",
            "Epoch 42/100\n",
            "15/15 [==============================] - 0s 7ms/step - loss: -0.1842 - val_loss: -0.1753\n",
            "Epoch 43/100\n",
            "15/15 [==============================] - 0s 7ms/step - loss: -0.1925 - val_loss: -0.1840\n",
            "Epoch 44/100\n",
            "15/15 [==============================] - 0s 7ms/step - loss: -0.2019 - val_loss: -0.1935\n",
            "Epoch 45/100\n",
            "15/15 [==============================] - 0s 9ms/step - loss: -0.2120 - val_loss: -0.2037\n",
            "Epoch 46/100\n",
            "15/15 [==============================] - 0s 10ms/step - loss: -0.2231 - val_loss: -0.2151\n",
            "Epoch 47/100\n",
            "15/15 [==============================] - 0s 13ms/step - loss: -0.2360 - val_loss: -0.2279\n",
            "Epoch 48/100\n",
            "15/15 [==============================] - 0s 13ms/step - loss: -0.2495 - val_loss: -0.2420\n",
            "Epoch 49/100\n",
            "15/15 [==============================] - 0s 11ms/step - loss: -0.2655 - val_loss: -0.2576\n",
            "Epoch 50/100\n",
            "15/15 [==============================] - 0s 13ms/step - loss: -0.2829 - val_loss: -0.2753\n",
            "Epoch 51/100\n",
            "15/15 [==============================] - 0s 11ms/step - loss: -0.3026 - val_loss: -0.2953\n",
            "Epoch 52/100\n",
            "15/15 [==============================] - 0s 14ms/step - loss: -0.3250 - val_loss: -0.3179\n",
            "Epoch 53/100\n",
            "15/15 [==============================] - 0s 10ms/step - loss: -0.3497 - val_loss: -0.3433\n",
            "Epoch 54/100\n",
            "15/15 [==============================] - 0s 11ms/step - loss: -0.3775 - val_loss: -0.3727\n",
            "Epoch 55/100\n",
            "15/15 [==============================] - 0s 18ms/step - loss: -0.4108 - val_loss: -0.4064\n",
            "Epoch 56/100\n",
            "15/15 [==============================] - 0s 19ms/step - loss: -0.4486 - val_loss: -0.4455\n",
            "Epoch 57/100\n",
            "15/15 [==============================] - 0s 10ms/step - loss: -0.4931 - val_loss: -0.4912\n",
            "Epoch 58/100\n",
            "15/15 [==============================] - 0s 11ms/step - loss: -0.5435 - val_loss: -0.5438\n",
            "Epoch 59/100\n",
            "15/15 [==============================] - 0s 17ms/step - loss: -0.6041 - val_loss: -0.6056\n",
            "Epoch 60/100\n",
            "15/15 [==============================] - 0s 15ms/step - loss: -0.6736 - val_loss: -0.6793\n",
            "Epoch 61/100\n",
            "15/15 [==============================] - 0s 21ms/step - loss: -0.7560 - val_loss: -0.7655\n",
            "Epoch 62/100\n",
            "15/15 [==============================] - 0s 19ms/step - loss: -0.8535 - val_loss: -0.8678\n",
            "Epoch 63/100\n",
            "15/15 [==============================] - 0s 11ms/step - loss: -0.9685 - val_loss: -0.9882\n",
            "Epoch 64/100\n",
            "15/15 [==============================] - 0s 14ms/step - loss: -1.1017 - val_loss: -1.1276\n",
            "Epoch 65/100\n",
            "15/15 [==============================] - 0s 14ms/step - loss: -1.2552 - val_loss: -1.2884\n",
            "Epoch 66/100\n",
            "15/15 [==============================] - 0s 13ms/step - loss: -1.4251 - val_loss: -1.4619\n",
            "Epoch 67/100\n",
            "15/15 [==============================] - 0s 11ms/step - loss: -1.5989 - val_loss: -1.6304\n",
            "Epoch 68/100\n",
            "15/15 [==============================] - 0s 14ms/step - loss: -1.7491 - val_loss: -1.7916\n",
            "Epoch 69/100\n",
            "15/15 [==============================] - 0s 16ms/step - loss: -1.8699 - val_loss: -1.9170\n",
            "Epoch 70/100\n",
            "15/15 [==============================] - 0s 16ms/step - loss: -1.9352 - val_loss: -1.9980\n",
            "Epoch 71/100\n",
            "15/15 [==============================] - 0s 16ms/step - loss: -1.9778 - val_loss: -1.9420\n",
            "Epoch 72/100\n",
            "15/15 [==============================] - 0s 15ms/step - loss: -1.9769 - val_loss: -2.0686\n",
            "Epoch 73/100\n",
            "15/15 [==============================] - 0s 14ms/step - loss: -1.9936 - val_loss: -2.1054\n",
            "Epoch 74/100\n",
            "15/15 [==============================] - 0s 12ms/step - loss: -1.9693 - val_loss: -2.0647\n",
            "Epoch 75/100\n",
            "15/15 [==============================] - 0s 22ms/step - loss: -2.0232 - val_loss: -2.1051\n",
            "Epoch 76/100\n",
            "15/15 [==============================] - 0s 19ms/step - loss: -1.9582 - val_loss: -1.9623\n",
            "Epoch 77/100\n",
            "15/15 [==============================] - 0s 22ms/step - loss: -1.9948 - val_loss: -2.1318\n",
            "Epoch 78/100\n",
            "15/15 [==============================] - 0s 27ms/step - loss: -2.0186 - val_loss: -2.1085\n",
            "Epoch 79/100\n",
            "15/15 [==============================] - 0s 21ms/step - loss: -2.0329 - val_loss: -1.9530\n",
            "Epoch 80/100\n",
            "15/15 [==============================] - 0s 15ms/step - loss: -2.0292 - val_loss: -2.1147\n",
            "Epoch 81/100\n",
            "15/15 [==============================] - 0s 29ms/step - loss: -2.0966 - val_loss: -2.0897\n",
            "Epoch 82/100\n",
            "15/15 [==============================] - 0s 24ms/step - loss: -2.0284 - val_loss: -2.1091\n",
            "Epoch 82: early stopping\n"
          ]
        }
      ]
    },
    {
      "cell_type": "code",
      "source": [
        "plt.plot(hist.history['loss'])\n",
        "plt.plot(hist.history['val_loss'])\n",
        "plt.show()"
      ],
      "metadata": {
        "colab": {
          "base_uri": "https://localhost:8080/",
          "height": 430
        },
        "id": "O6i65oJyDuVB",
        "outputId": "4055bd90-4f4d-48fc-c623-7644854c4a3c"
      },
      "execution_count": 14,
      "outputs": [
        {
          "output_type": "display_data",
          "data": {
            "text/plain": [
              "<Figure size 640x480 with 1 Axes>"
            ],
            "image/png": "[encoded data removed]"
          },
          "metadata": {}
        }
      ]
    },
    {
      "cell_type": "markdown",
      "source": [
        "### e)"
      ],
      "metadata": {
        "id": "O3ie_JNvDw1d"
      }
    },
    {
      "cell_type": "code",
      "source": [
        "t_x_pred = model.predict(x)[:,0]"
      ],
      "metadata": {
        "colab": {
          "base_uri": "https://localhost:8080/"
        },
        "id": "ZOd6rViUDwpT",
        "outputId": "13fcf183-0faf-4f8e-b2e4-3d6cd477355c"
      },
      "execution_count": 15,
      "outputs": [
        {
          "output_type": "stream",
          "name": "stdout",
          "text": [
            "625/625 [==============================] - 2s 3ms/step\n"
          ]
        }
      ]
    },
    {
      "cell_type": "code",
      "source": [
        "t_x_opt = T_opt(x, mu1, mu2, Sigma1, Sigma2)"
      ],
      "metadata": {
        "id": "3SusCmCqEMzF"
      },
      "execution_count": 17,
      "outputs": []
    },
    {
      "cell_type": "code",
      "source": [
        "plt.plot(t_x_opt)\n",
        "plt.plot(t_x_pred)\n",
        "\n",
        "plt.show()"
      ],
      "metadata": {
        "colab": {
          "base_uri": "https://localhost:8080/",
          "height": 430
        },
        "id": "op9GyVfKEvgr",
        "outputId": "b74b1e30-f883-470b-bc2a-57ae36529f91"
      },
      "execution_count": 18,
      "outputs": [
        {
          "output_type": "display_data",
          "data": {
            "text/plain": [
              "<Figure size 640x480 with 1 Axes>"
            ],
            "image/png": "[encoded data removed]"
          },
          "metadata": {}
        }
      ]
    },
    {
      "cell_type": "code",
      "source": [
        "plt.plot(t_x_pred[y==1], t_x_opt[y==1], \"o\", alpha=0.2, markersize=2)\n",
        "plt.plot(t_x_pred[y==0], t_x_opt[y==0], \"o\", alpha=0.2, markersize=2)\n",
        "plt.grid()\n",
        "plt.show()"
      ],
      "metadata": {
        "colab": {
          "base_uri": "https://localhost:8080/",
          "height": 430
        },
        "id": "itRWtijkEzvr",
        "outputId": "ad114bec-015c-4eb8-cd1d-b1733c63ac02"
      },
      "execution_count": 19,
      "outputs": [
        {
          "output_type": "display_data",
          "data": {
            "text/plain": [
              "<Figure size 640x480 with 1 Axes>"
            ],
            "image/png": "[encoded data removed]"
          },
          "metadata": {}
        }
      ]
    },
    {
      "cell_type": "code",
      "source": [
        "plt.plot(t_x_pred, t_x_opt, \"o\")\n",
        "plt.show()"
      ],
      "metadata": {
        "colab": {
          "base_uri": "https://localhost:8080/",
          "height": 430
        },
        "id": "6StASKKFE1x7",
        "outputId": "eab6a5a3-494c-42ff-ca78-8d23d98565b2"
      },
      "execution_count": 20,
      "outputs": [
        {
          "output_type": "display_data",
          "data": {
            "text/plain": [
              "<Figure size 640x480 with 1 Axes>"
            ],
            "image/png": "[encoded data removed]"
          },
          "metadata": {}
        }
      ]
    },
    {
      "cell_type": "code",
      "source": [
        "DV_fun(y, t_x_pred)"
      ],
      "metadata": {
        "colab": {
          "base_uri": "https://localhost:8080/"
        },
        "id": "MmnuyiPNE3H7",
        "outputId": "a6efafd7-1bc0-4043-c859-ca7b81ce55d2"
      },
      "execution_count": 21,
      "outputs": [
        {
          "output_type": "execute_result",
          "data": {
            "text/plain": [
              "1.9157678892641652"
            ]
          },
          "metadata": {},
          "execution_count": 21
        }
      ]
    },
    {
      "cell_type": "code",
      "source": [
        "DV_fun(y, t_x_opt)"
      ],
      "metadata": {
        "colab": {
          "base_uri": "https://localhost:8080/"
        },
        "id": "OQr2sRLuE4Kc",
        "outputId": "53e4ba08-442b-4aea-ecc0-9ef7c46fb323"
      },
      "execution_count": 22,
      "outputs": [
        {
          "output_type": "execute_result",
          "data": {
            "text/plain": [
              "2.1474884662230087"
            ]
          },
          "metadata": {},
          "execution_count": 22
        }
      ]
    },
    {
      "cell_type": "code",
      "source": [
        "# new data\n",
        "n_new = 10000\n",
        "x1 = np.random.multivariate_normal(mu1, Sigma1, size=n_new)\n",
        "x2 = np.random.multivariate_normal(mu2, Sigma2, size=n_new)\n",
        "x_new = np.concatenate((x1, x2), axis=0)\n",
        "y_new = np.concatenate((1.0*np.ones(n_new), 0.0*np.zeros(n_new)))"
      ],
      "metadata": {
        "id": "7rD5I6cXE49M"
      },
      "execution_count": 23,
      "outputs": []
    },
    {
      "cell_type": "code",
      "source": [
        "t_x_pred = model.predict(x_new)\n",
        "t_x_pred = t_x_pred[:,0]"
      ],
      "metadata": {
        "colab": {
          "base_uri": "https://localhost:8080/"
        },
        "id": "iJhrEPTQE65s",
        "outputId": "81d0ff08-c4af-4989-d9f2-8d44e4f544a5"
      },
      "execution_count": 24,
      "outputs": [
        {
          "output_type": "stream",
          "name": "stdout",
          "text": [
            "625/625 [==============================] - 2s 2ms/step\n"
          ]
        }
      ]
    },
    {
      "cell_type": "code",
      "source": [
        "t_x_opt = T_opt(x_new, mu1, mu2, Sigma1, Sigma2)"
      ],
      "metadata": {
        "id": "2Tasv4yNE8DM"
      },
      "execution_count": 25,
      "outputs": []
    },
    {
      "cell_type": "code",
      "source": [
        "DV_fun(y_new, t_x_pred)"
      ],
      "metadata": {
        "colab": {
          "base_uri": "https://localhost:8080/"
        },
        "id": "b7WLI4MXE-IN",
        "outputId": "0c06532a-c38d-44e3-d624-9b52e2b8884b"
      },
      "execution_count": 26,
      "outputs": [
        {
          "output_type": "execute_result",
          "data": {
            "text/plain": [
              "2.221327937613065"
            ]
          },
          "metadata": {},
          "execution_count": 26
        }
      ]
    },
    {
      "cell_type": "code",
      "source": [
        "DV_fun(y_new, t_x_opt)"
      ],
      "metadata": {
        "colab": {
          "base_uri": "https://localhost:8080/"
        },
        "id": "qA1E47MCE_mU",
        "outputId": "1428ede6-a463-4443-e0aa-56a70d56f406"
      },
      "execution_count": 27,
      "outputs": [
        {
          "output_type": "execute_result",
          "data": {
            "text/plain": [
              "2.3589896505232546"
            ]
          },
          "metadata": {},
          "execution_count": 27
        }
      ]
    },
    {
      "cell_type": "markdown",
      "source": [
        "### f)"
      ],
      "metadata": {
        "id": "9tLDWKVSF-4n"
      }
    },
    {
      "cell_type": "code",
      "source": [
        "def NWJ_loss(y_true, T_x):\n",
        "    n1 = tf.math.reduce_sum(y_true)\n",
        "    n2 = tf.math.reduce_sum(tf.subtract(tf.convert_to_tensor(1.0), y_true))\n",
        "    first_term = tf.math.reduce_sum(tf.math.multiply(T_x, y_true))/n1\n",
        "    second_term = tf.math.reduce_sum(tf.math.multiply(\n",
        "        tf.math.exp(tf.subtract(T_x, tf.convert_to_tensor(1.0))),\n",
        "        tf.subtract(tf.convert_to_tensor(1.0), y_true))\n",
        "    )/n2\n",
        "    return -(first_term - second_term)"
      ],
      "metadata": {
        "id": "6SiS9jlAGAMf"
      },
      "execution_count": 30,
      "outputs": []
    },
    {
      "cell_type": "code",
      "source": [
        "def NWJ_fun(y, t):\n",
        "    return np.mean(t[y == 1]) - np.mean(np.exp(t[y == 0] - 1))"
      ],
      "metadata": {
        "id": "xPBnGxpWI9Cx"
      },
      "execution_count": 29,
      "outputs": []
    },
    {
      "cell_type": "code",
      "source": [
        "model_inputs = keras.Input(shape=(5))\n",
        "layer_out = Dense(64, activation='softplus')(model_inputs)\n",
        "#layer_out = Dense(125, activation='tanh')(layer_out)\n",
        "layer_out = Dense(64)(layer_out)\n",
        "model_outputs = Dense(1)(layer_out)\n",
        "model = keras.Model(model_inputs, model_outputs)\n",
        "\n",
        "optimizer = keras.optimizers.SGD(learning_rate=1e-2)\n",
        "es = tf.keras.callbacks.EarlyStopping(monitor='val_loss', mode='min', verbose=1, patience=5)\n",
        "model.compile(optimizer=optimizer, loss=NWJ_loss)"
      ],
      "metadata": {
        "id": "iqsglkGwJOj0"
      },
      "execution_count": 31,
      "outputs": []
    },
    {
      "cell_type": "code",
      "source": [
        "x_train, x_test, y_train, y_test = train_test_split(x, y, test_size=0.25)"
      ],
      "metadata": {
        "id": "vNZ_cZUgJUWk"
      },
      "execution_count": 32,
      "outputs": []
    },
    {
      "cell_type": "code",
      "source": [
        "hist = model.fit(x_train, y_train, epochs=100, batch_size=1024, validation_data=(x_test, y_test), callbacks=[es])"
      ],
      "metadata": {
        "colab": {
          "base_uri": "https://localhost:8080/"
        },
        "id": "Mu3cnFWJJXbF",
        "outputId": "4cdb8379-c91f-4c72-a124-eff260259769"
      },
      "execution_count": 33,
      "outputs": [
        {
          "output_type": "stream",
          "name": "stdout",
          "text": [
            "Epoch 1/100\n",
            "15/15 [==============================] - 1s 29ms/step - loss: -0.0059 - val_loss: -0.0349\n",
            "Epoch 2/100\n",
            "15/15 [==============================] - 0s 11ms/step - loss: -0.0436 - val_loss: -0.0587\n",
            "Epoch 3/100\n",
            "15/15 [==============================] - 0s 13ms/step - loss: -0.0611 - val_loss: -0.0684\n",
            "Epoch 4/100\n",
            "15/15 [==============================] - 0s 12ms/step - loss: -0.0696 - val_loss: -0.0744\n",
            "Epoch 5/100\n",
            "15/15 [==============================] - 0s 10ms/step - loss: -0.0736 - val_loss: -0.0779\n",
            "Epoch 6/100\n",
            "15/15 [==============================] - 0s 11ms/step - loss: -0.0767 - val_loss: -0.0802\n",
            "Epoch 7/100\n",
            "15/15 [==============================] - 0s 11ms/step - loss: -0.0788 - val_loss: -0.0812\n",
            "Epoch 8/100\n",
            "15/15 [==============================] - 0s 16ms/step - loss: -0.0803 - val_loss: -0.0832\n",
            "Epoch 9/100\n",
            "15/15 [==============================] - 0s 13ms/step - loss: -0.0817 - val_loss: -0.0847\n",
            "Epoch 10/100\n",
            "15/15 [==============================] - 0s 11ms/step - loss: -0.0833 - val_loss: -0.0842\n",
            "Epoch 11/100\n",
            "15/15 [==============================] - 0s 14ms/step - loss: -0.0845 - val_loss: -0.0877\n",
            "Epoch 12/100\n",
            "15/15 [==============================] - 0s 11ms/step - loss: -0.0867 - val_loss: -0.0887\n",
            "Epoch 13/100\n",
            "15/15 [==============================] - 0s 12ms/step - loss: -0.0883 - val_loss: -0.0908\n",
            "Epoch 14/100\n",
            "15/15 [==============================] - 0s 17ms/step - loss: -0.0902 - val_loss: -0.0927\n",
            "Epoch 15/100\n",
            "15/15 [==============================] - 0s 18ms/step - loss: -0.0919 - val_loss: -0.0945\n",
            "Epoch 16/100\n",
            "15/15 [==============================] - 0s 15ms/step - loss: -0.0934 - val_loss: -0.0964\n",
            "Epoch 17/100\n",
            "15/15 [==============================] - 0s 18ms/step - loss: -0.0955 - val_loss: -0.0982\n",
            "Epoch 18/100\n",
            "15/15 [==============================] - 0s 19ms/step - loss: -0.0974 - val_loss: -0.1001\n",
            "Epoch 19/100\n",
            "15/15 [==============================] - 0s 8ms/step - loss: -0.0995 - val_loss: -0.1021\n",
            "Epoch 20/100\n",
            "15/15 [==============================] - 0s 7ms/step - loss: -0.1017 - val_loss: -0.1038\n",
            "Epoch 21/100\n",
            "15/15 [==============================] - 0s 7ms/step - loss: -0.1032 - val_loss: -0.1065\n",
            "Epoch 22/100\n",
            "15/15 [==============================] - 0s 7ms/step - loss: -0.1060 - val_loss: -0.1088\n",
            "Epoch 23/100\n",
            "15/15 [==============================] - 0s 7ms/step - loss: -0.1081 - val_loss: -0.1117\n",
            "Epoch 24/100\n",
            "15/15 [==============================] - 0s 7ms/step - loss: -0.1111 - val_loss: -0.1139\n",
            "Epoch 25/100\n",
            "15/15 [==============================] - 0s 7ms/step - loss: -0.1133 - val_loss: -0.1163\n",
            "Epoch 26/100\n",
            "15/15 [==============================] - 0s 7ms/step - loss: -0.1166 - val_loss: -0.1204\n",
            "Epoch 27/100\n",
            "15/15 [==============================] - 0s 8ms/step - loss: -0.1194 - val_loss: -0.1234\n",
            "Epoch 28/100\n",
            "15/15 [==============================] - 0s 7ms/step - loss: -0.1228 - val_loss: -0.1271\n",
            "Epoch 29/100\n",
            "15/15 [==============================] - 0s 6ms/step - loss: -0.1259 - val_loss: -0.1295\n",
            "Epoch 30/100\n",
            "15/15 [==============================] - 0s 7ms/step - loss: -0.1291 - val_loss: -0.1336\n",
            "Epoch 31/100\n",
            "15/15 [==============================] - 0s 7ms/step - loss: -0.1332 - val_loss: -0.1381\n",
            "Epoch 32/100\n",
            "15/15 [==============================] - 0s 7ms/step - loss: -0.1371 - val_loss: -0.1432\n",
            "Epoch 33/100\n",
            "15/15 [==============================] - 0s 6ms/step - loss: -0.1423 - val_loss: -0.1487\n",
            "Epoch 34/100\n",
            "15/15 [==============================] - 0s 7ms/step - loss: -0.1466 - val_loss: -0.1539\n",
            "Epoch 35/100\n",
            "15/15 [==============================] - 0s 17ms/step - loss: -0.1525 - val_loss: -0.1601\n",
            "Epoch 36/100\n",
            "15/15 [==============================] - 0s 13ms/step - loss: -0.1577 - val_loss: -0.1664\n",
            "Epoch 37/100\n",
            "15/15 [==============================] - 0s 17ms/step - loss: -0.1641 - val_loss: -0.1725\n",
            "Epoch 38/100\n",
            "15/15 [==============================] - 0s 16ms/step - loss: -0.1711 - val_loss: -0.1804\n",
            "Epoch 39/100\n",
            "15/15 [==============================] - 0s 16ms/step - loss: -0.1787 - val_loss: -0.1889\n",
            "Epoch 40/100\n",
            "15/15 [==============================] - 0s 12ms/step - loss: -0.1866 - val_loss: -0.1982\n",
            "Epoch 41/100\n",
            "15/15 [==============================] - 0s 16ms/step - loss: -0.1960 - val_loss: -0.2085\n",
            "Epoch 42/100\n",
            "15/15 [==============================] - 0s 14ms/step - loss: -0.2059 - val_loss: -0.2197\n",
            "Epoch 43/100\n",
            "15/15 [==============================] - 0s 15ms/step - loss: -0.2165 - val_loss: -0.2318\n",
            "Epoch 44/100\n",
            "15/15 [==============================] - 0s 10ms/step - loss: -0.2290 - val_loss: -0.2458\n",
            "Epoch 45/100\n",
            "15/15 [==============================] - 0s 7ms/step - loss: -0.2433 - val_loss: -0.2618\n",
            "Epoch 46/100\n",
            "15/15 [==============================] - 0s 7ms/step - loss: -0.2589 - val_loss: -0.2784\n",
            "Epoch 47/100\n",
            "15/15 [==============================] - 0s 7ms/step - loss: -0.2759 - val_loss: -0.2995\n",
            "Epoch 48/100\n",
            "15/15 [==============================] - 0s 7ms/step - loss: -0.2957 - val_loss: -0.3217\n",
            "Epoch 49/100\n",
            "15/15 [==============================] - 0s 7ms/step - loss: -0.3176 - val_loss: -0.3476\n",
            "Epoch 50/100\n",
            "15/15 [==============================] - 0s 7ms/step - loss: -0.3439 - val_loss: -0.3776\n",
            "Epoch 51/100\n",
            "15/15 [==============================] - 0s 19ms/step - loss: -0.3740 - val_loss: -0.4077\n",
            "Epoch 52/100\n",
            "15/15 [==============================] - 0s 17ms/step - loss: -0.4074 - val_loss: -0.4507\n",
            "Epoch 53/100\n",
            "15/15 [==============================] - 0s 12ms/step - loss: -0.4474 - val_loss: -0.4958\n",
            "Epoch 54/100\n",
            "15/15 [==============================] - 0s 20ms/step - loss: -0.4930 - val_loss: -0.5475\n",
            "Epoch 55/100\n",
            "15/15 [==============================] - 0s 19ms/step - loss: -0.5464 - val_loss: -0.6113\n",
            "Epoch 56/100\n",
            "15/15 [==============================] - 0s 17ms/step - loss: -0.6091 - val_loss: -0.6841\n",
            "Epoch 57/100\n",
            "15/15 [==============================] - 0s 17ms/step - loss: -0.6820 - val_loss: -0.7643\n",
            "Epoch 58/100\n",
            "15/15 [==============================] - 0s 17ms/step - loss: -0.7693 - val_loss: -0.8717\n",
            "Epoch 59/100\n",
            "15/15 [==============================] - 0s 17ms/step - loss: -0.8666 - val_loss: -0.9896\n",
            "Epoch 60/100\n",
            "15/15 [==============================] - 0s 17ms/step - loss: -0.9926 - val_loss: -1.1308\n",
            "Epoch 61/100\n",
            "15/15 [==============================] - 0s 17ms/step - loss: -1.1178 - val_loss: -1.2842\n",
            "Epoch 62/100\n",
            "15/15 [==============================] - 0s 20ms/step - loss: -1.2443 - val_loss: -1.0898\n",
            "Epoch 63/100\n",
            "15/15 [==============================] - 0s 16ms/step - loss: -1.2723 - val_loss: -1.5741\n",
            "Epoch 64/100\n",
            "15/15 [==============================] - 0s 10ms/step - loss: -1.4632 - val_loss: -1.8078\n",
            "Epoch 65/100\n",
            "15/15 [==============================] - 0s 16ms/step - loss: -1.4309 - val_loss: -1.8959\n",
            "Epoch 66/100\n",
            "15/15 [==============================] - 0s 10ms/step - loss: -1.5935 - val_loss: -1.7127\n",
            "Epoch 67/100\n",
            "15/15 [==============================] - 0s 13ms/step - loss: -1.3766 - val_loss: -1.2469\n",
            "Epoch 68/100\n",
            "15/15 [==============================] - 0s 14ms/step - loss: -1.5458 - val_loss: -2.0892\n",
            "Epoch 69/100\n",
            "15/15 [==============================] - 0s 13ms/step - loss: -0.8763 - val_loss: -1.5567\n",
            "Epoch 70/100\n",
            "15/15 [==============================] - 0s 13ms/step - loss: -1.3763 - val_loss: -1.6557\n",
            "Epoch 71/100\n",
            "15/15 [==============================] - 0s 12ms/step - loss: -1.5588 - val_loss: -2.1433\n",
            "Epoch 72/100\n",
            "15/15 [==============================] - 0s 14ms/step - loss: -1.4477 - val_loss: 1.3072\n",
            "Epoch 73/100\n",
            "15/15 [==============================] - 0s 7ms/step - loss: -1.4257 - val_loss: -1.4463\n",
            "Epoch 74/100\n",
            "15/15 [==============================] - 0s 8ms/step - loss: -1.7281 - val_loss: -2.0270\n",
            "Epoch 75/100\n",
            "15/15 [==============================] - 0s 7ms/step - loss: -1.5066 - val_loss: -2.1612\n",
            "Epoch 76/100\n",
            "15/15 [==============================] - 0s 7ms/step - loss: -1.6518 - val_loss: -0.7086\n",
            "Epoch 77/100\n",
            "15/15 [==============================] - 0s 8ms/step - loss: -1.3991 - val_loss: -2.0550\n",
            "Epoch 78/100\n",
            "15/15 [==============================] - 0s 8ms/step - loss: -1.0267 - val_loss: -1.8051\n",
            "Epoch 79/100\n",
            "15/15 [==============================] - 0s 7ms/step - loss: -1.6878 - val_loss: -2.0488\n",
            "Epoch 80/100\n",
            "15/15 [==============================] - 0s 7ms/step - loss: -1.1122 - val_loss: -1.6957\n",
            "Epoch 80: early stopping\n"
          ]
        }
      ]
    },
    {
      "cell_type": "code",
      "source": [
        "plt.plot(hist.history['loss'])\n",
        "plt.plot(hist.history['val_loss'])\n",
        "plt.show()"
      ],
      "metadata": {
        "colab": {
          "base_uri": "https://localhost:8080/",
          "height": 430
        },
        "id": "xhZ9j0DcJbB2",
        "outputId": "cc5113b4-68a0-4846-e6ab-a10db9ab3e32"
      },
      "execution_count": 34,
      "outputs": [
        {
          "output_type": "display_data",
          "data": {
            "text/plain": [
              "<Figure size 640x480 with 1 Axes>"
            ],
            "image/png": "[encoded data removed]"
          },
          "metadata": {}
        }
      ]
    },
    {
      "cell_type": "code",
      "source": [
        "t_x_pred = model.predict(x)[:,0]"
      ],
      "metadata": {
        "colab": {
          "base_uri": "https://localhost:8080/"
        },
        "id": "woVeIscqJd22",
        "outputId": "24fe94b2-da99-4a6d-89dc-9e84a53e7c1d"
      },
      "execution_count": 35,
      "outputs": [
        {
          "output_type": "stream",
          "name": "stdout",
          "text": [
            "625/625 [==============================] - 2s 3ms/step\n"
          ]
        }
      ]
    },
    {
      "cell_type": "code",
      "source": [
        "t_x_opt = T_opt(x, mu1, mu2, Sigma1, Sigma2) #+ 1"
      ],
      "metadata": {
        "id": "gmgXZT8FJe_t"
      },
      "execution_count": 36,
      "outputs": []
    },
    {
      "cell_type": "code",
      "source": [
        "plt.plot(t_x_opt)\n",
        "plt.plot(t_x_pred)\n",
        "\n",
        "plt.show()"
      ],
      "metadata": {
        "colab": {
          "base_uri": "https://localhost:8080/",
          "height": 430
        },
        "id": "CTu1cB1AJk7H",
        "outputId": "c021a3fc-1c15-4f0a-9c50-b06f9caa9a06"
      },
      "execution_count": 37,
      "outputs": [
        {
          "output_type": "display_data",
          "data": {
            "text/plain": [
              "<Figure size 640x480 with 1 Axes>"
            ],
            "image/png": "[encoded data removed]"
          },
          "metadata": {}
        }
      ]
    },
    {
      "cell_type": "code",
      "source": [
        "plt.plot(t_x_pred, t_x_opt, \"o\")\n",
        "plt.show()"
      ],
      "metadata": {
        "colab": {
          "base_uri": "https://localhost:8080/",
          "height": 430
        },
        "id": "xtBetbQqJnuX",
        "outputId": "a2406d2f-3f7f-45a6-e389-ff9bf6450133"
      },
      "execution_count": 38,
      "outputs": [
        {
          "output_type": "display_data",
          "data": {
            "text/plain": [
              "<Figure size 640x480 with 1 Axes>"
            ],
            "image/png": "[encoded data removed]"
          },
          "metadata": {}
        }
      ]
    },
    {
      "cell_type": "code",
      "source": [
        "NWJ_fun(y, t_x_pred)"
      ],
      "metadata": {
        "colab": {
          "base_uri": "https://localhost:8080/"
        },
        "id": "NrcG4qFUJpMH",
        "outputId": "a6cdb3ef-57ac-4e4f-a60f-678f4b0bf388"
      },
      "execution_count": 39,
      "outputs": [
        {
          "output_type": "execute_result",
          "data": {
            "text/plain": [
              "1.5673196"
            ]
          },
          "metadata": {},
          "execution_count": 39
        }
      ]
    },
    {
      "cell_type": "code",
      "source": [
        "NWJ_fun(y, t_x_opt)"
      ],
      "metadata": {
        "colab": {
          "base_uri": "https://localhost:8080/"
        },
        "id": "FcFGO3L0Jqfo",
        "outputId": "e888328c-c8e8-4886-f55b-00704d23521d"
      },
      "execution_count": 40,
      "outputs": [
        {
          "output_type": "execute_result",
          "data": {
            "text/plain": [
              "1.765466115267248"
            ]
          },
          "metadata": {},
          "execution_count": 40
        }
      ]
    },
    {
      "cell_type": "code",
      "source": [
        "t_x_pred = model.predict(x_new)[:, 0]"
      ],
      "metadata": {
        "colab": {
          "base_uri": "https://localhost:8080/"
        },
        "id": "pQcLbS8LJrkZ",
        "outputId": "646f74ef-73fe-4791-824f-66ffe339fa96"
      },
      "execution_count": 41,
      "outputs": [
        {
          "output_type": "stream",
          "name": "stdout",
          "text": [
            "625/625 [==============================] - 2s 3ms/step\n"
          ]
        }
      ]
    },
    {
      "cell_type": "code",
      "source": [
        "t_x_opt = T_opt(x_new, mu1, mu2, Sigma1, Sigma2)"
      ],
      "metadata": {
        "id": "DxDLr9GNJtPo"
      },
      "execution_count": 45,
      "outputs": []
    },
    {
      "cell_type": "code",
      "source": [
        "NWJ_fun(y_new, t_x_pred)"
      ],
      "metadata": {
        "colab": {
          "base_uri": "https://localhost:8080/"
        },
        "id": "7rI6FI_2JukY",
        "outputId": "a7725a15-8596-4025-bdc7-0554ba999b8d"
      },
      "execution_count": 43,
      "outputs": [
        {
          "output_type": "execute_result",
          "data": {
            "text/plain": [
              "1.6055425"
            ]
          },
          "metadata": {},
          "execution_count": 43
        }
      ]
    },
    {
      "cell_type": "code",
      "source": [
        "NWJ_fun(y_new, t_x_opt)"
      ],
      "metadata": {
        "colab": {
          "base_uri": "https://localhost:8080/"
        },
        "id": "2Etzbs66Jvi4",
        "outputId": "6adc65b1-701a-48de-b873-7620326d5dd9"
      },
      "execution_count": 46,
      "outputs": [
        {
          "output_type": "execute_result",
          "data": {
            "text/plain": [
              "1.882065033920334"
            ]
          },
          "metadata": {},
          "execution_count": 46
        }
      ]
    }
  ]
}