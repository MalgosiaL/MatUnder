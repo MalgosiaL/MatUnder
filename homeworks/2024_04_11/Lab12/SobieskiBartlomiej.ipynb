{
 "cells": [
  {
   "cell_type": "markdown",
   "metadata": {},
   "source": [
    "# Mathematical Underpinnings - Lab 7"
   ]
  },
  {
   "cell_type": "code",
   "execution_count": 152,
   "metadata": {},
   "outputs": [],
   "source": [
    "import tensorflow as tf\n",
    "import keras\n",
    "import numpy as np\n",
    "import matplotlib.pyplot as plt\n",
    "\n",
    "from keras.layers import Input, Dense, Lambda, InputLayer, concatenate\n",
    "from keras.models import Model, Sequential\n",
    "from keras import backend as K\n",
    "from keras import metrics\n",
    "from keras.datasets import mnist\n",
    "from keras.utils import to_categorical\n",
    "\n",
    "from sklearn.model_selection import train_test_split"
   ]
  },
  {
   "cell_type": "markdown",
   "metadata": {},
   "source": [
    "## Task 1\n",
    "\n",
    "### a)"
   ]
  },
  {
   "cell_type": "code",
   "execution_count": 153,
   "metadata": {},
   "outputs": [],
   "source": [
    "def KL_mult_normal(mu1, mu2, Sigma1, Sigma2):\n",
    "    # the formula is here: https://statproofbook.github.io/P/mvn-kl.html\n",
    "    comp_1 = np.dot(mu2-mu1, np.dot(np.linalg.inv(Sigma2), mu2 - mu1))\n",
    "    comp_2 = np.sum(np.diag(np.dot(np.linalg.inv(Sigma2), Sigma1)))\n",
    "    comp_3 = np.log(np.linalg.det(Sigma1)/np.linalg.det(Sigma2))\n",
    "    comp_4 = mu1.shape[0]\n",
    "    return (comp_1 + comp_2 - comp_3 - comp_4) / 2"
   ]
  },
  {
   "cell_type": "code",
   "execution_count": 154,
   "metadata": {},
   "outputs": [],
   "source": [
    "def T_opt(x, mu1, mu2, Sigma1, Sigma2):\n",
    "    # compute log(p(x)/q(x)), where p and q are multivariate normal with parameters mu1, Sigma1 and mu2, Sigma2 respectively\n",
    "    res = np.zeros(x.shape[0])\n",
    "    for i in range(x.shape[0]):\n",
    "        ft = -np.log(np.linalg.det(Sigma1)) / 2 - np.dot(np.dot(np.linalg.inv(Sigma1), (x[i,:] - mu1)), x[i,:] - mu1)/2\n",
    "        st = np.log(np.linalg.det(Sigma2)) / 2 + np.dot(np.dot(np.linalg.inv(Sigma2), x[i,:] - mu2), x[i,:] - mu2)/2\n",
    "        res[i] = ft+st\n",
    "    return res"
   ]
  },
  {
   "cell_type": "markdown",
   "metadata": {},
   "source": [
    "### b)"
   ]
  },
  {
   "cell_type": "code",
   "execution_count": 155,
   "metadata": {},
   "outputs": [],
   "source": [
    "# sample n = 10000 observations out of np.random.multivariate_normal(mu1, Sigma1, size=n)\n",
    "# and sample n = 10000 observations out of np.random.multivariate_normal(mu2, Sigma2, size=n)\n",
    "# then concatenate the two matrices (your final x is a matrix 2n x 5)\n",
    "# then create a vector y that will have n ones and n zeros (of size 2n)\n",
    "np.random.seed(42)\n",
    "n = 10000\n",
    "mu1 = np.array([1, 1, 1, 0, 0])/5\n",
    "mu2 = np.array([0, 0, 1, 1, 1])/5\n",
    "Sigma1 = (np.eye(5)*9 + np.ones((5,5)))/10\n",
    "Sigma2 = 1.2*np.eye(5) - np.ones((5,5))/5\n",
    "x1 = np.random.multivariate_normal(mu1, Sigma1, size=n)\n",
    "x2 = np.random.multivariate_normal(mu2, Sigma2, size=n)\n",
    "x = np.concatenate((x1, x2), axis=0)\n",
    "y = np.concatenate((1.0*np.ones(n), 0.0*np.zeros(n)))"
   ]
  },
  {
   "cell_type": "code",
   "execution_count": 156,
   "metadata": {},
   "outputs": [],
   "source": [
    "def DV_fun(y, t):\n",
    "    # y - an indicator [y[i]=1 if t[i] corresponds to x sampled from the distribution p, y[i]=0 otherwise]\n",
    "    # t a vector (of the same length as y) t = log(p(x)/q(x))\n",
    "    n1 = np.sum(y)\n",
    "    n2 = np.sum(1 - y)\n",
    "    return np.sum(t*y)/n1 - np.log(np.sum(np.exp(t)*(1-y))/n2)"
   ]
  },
  {
   "cell_type": "code",
   "execution_count": 157,
   "metadata": {},
   "outputs": [
    {
     "data": {
      "text/plain": [
       "2.169075737042572"
      ]
     },
     "execution_count": 157,
     "metadata": {},
     "output_type": "execute_result"
    }
   ],
   "source": [
    "KL_mult_normal(mu1, mu2, Sigma1, Sigma2)"
   ]
  },
  {
   "cell_type": "code",
   "execution_count": 158,
   "metadata": {},
   "outputs": [
    {
     "data": {
      "text/plain": [
       "2.339946807718526"
      ]
     },
     "execution_count": 158,
     "metadata": {},
     "output_type": "execute_result"
    }
   ],
   "source": [
    "DV_fun(y, T_opt(x, mu1, mu2, Sigma1, Sigma2))"
   ]
  },
  {
   "cell_type": "markdown",
   "metadata": {},
   "source": [
    "### c)"
   ]
  },
  {
   "cell_type": "code",
   "execution_count": 159,
   "metadata": {},
   "outputs": [],
   "source": [
    "def DV_loss(y_true, T_x):\n",
    "    n1 = tf.math.reduce_sum(y_true)\n",
    "    n2 = tf.math.reduce_sum(tf.subtract(tf.convert_to_tensor(1.0), y_true))\n",
    "    first_term = tf.math.reduce_sum(tf.math.multiply(T_x, y_true))/n1\n",
    "    second_term = tf.math.log(tf.math.reduce_sum(tf.math.multiply(tf.math.exp(T_x), tf.subtract(tf.convert_to_tensor(1.0), y_true)))/n2)\n",
    "    return -(first_term - second_term) "
   ]
  },
  {
   "cell_type": "markdown",
   "metadata": {},
   "source": [
    "### d)"
   ]
  },
  {
   "cell_type": "code",
   "execution_count": 160,
   "metadata": {},
   "outputs": [],
   "source": [
    "model_inputs = keras.Input(shape=(5))\n",
    "layer_out = Dense(64, activation='softplus')(model_inputs)\n",
    "#layer_out = Dense(125, activation='tanh')(layer_out)\n",
    "layer_out = Dense(64)(layer_out)\n",
    "model_outputs = Dense(1)(layer_out)\n",
    "model = keras.Model(model_inputs, model_outputs)\n",
    "\n",
    "optimizer = keras.optimizers.legacy.SGD(learning_rate=1e-2)\n",
    "es = tf.keras.callbacks.EarlyStopping(monitor='val_loss', mode='min', verbose=1, patience=5)\n",
    "model.compile(optimizer=optimizer, loss=DV_loss)"
   ]
  },
  {
   "cell_type": "code",
   "execution_count": 161,
   "metadata": {},
   "outputs": [],
   "source": [
    "x_train, x_test, y_train, y_test = train_test_split(x, y, test_size=0.25)"
   ]
  },
  {
   "cell_type": "code",
   "execution_count": 162,
   "metadata": {},
   "outputs": [
    {
     "name": "stdout",
     "output_type": "stream",
     "text": [
      "Epoch 1/100\n",
      "15/15 [==============================] - 0s 8ms/step - loss: 0.0022 - val_loss: -0.0433\n",
      "Epoch 2/100\n",
      "15/15 [==============================] - 0s 3ms/step - loss: -0.0451 - val_loss: -0.0760\n",
      "Epoch 3/100\n",
      "15/15 [==============================] - 0s 3ms/step - loss: -0.0652 - val_loss: -0.0913\n",
      "Epoch 4/100\n",
      "15/15 [==============================] - 0s 3ms/step - loss: -0.0749 - val_loss: -0.0994\n",
      "Epoch 5/100\n",
      "15/15 [==============================] - 0s 3ms/step - loss: -0.0799 - val_loss: -0.1039\n",
      "Epoch 6/100\n",
      "15/15 [==============================] - 0s 3ms/step - loss: -0.0831 - val_loss: -0.1068\n",
      "Epoch 7/100\n",
      "15/15 [==============================] - 0s 3ms/step - loss: -0.0852 - val_loss: -0.1093\n",
      "Epoch 8/100\n",
      "15/15 [==============================] - 0s 3ms/step - loss: -0.0871 - val_loss: -0.1111\n",
      "Epoch 9/100\n",
      "15/15 [==============================] - 0s 4ms/step - loss: -0.0887 - val_loss: -0.1129\n",
      "Epoch 10/100\n",
      "15/15 [==============================] - 0s 3ms/step - loss: -0.0900 - val_loss: -0.1144\n",
      "Epoch 11/100\n",
      "15/15 [==============================] - 0s 4ms/step - loss: -0.0916 - val_loss: -0.1160\n",
      "Epoch 12/100\n",
      "15/15 [==============================] - 0s 4ms/step - loss: -0.0928 - val_loss: -0.1176\n",
      "Epoch 13/100\n",
      "15/15 [==============================] - 0s 4ms/step - loss: -0.0943 - val_loss: -0.1190\n",
      "Epoch 14/100\n",
      "15/15 [==============================] - 0s 4ms/step - loss: -0.0957 - val_loss: -0.1202\n",
      "Epoch 15/100\n",
      "15/15 [==============================] - 0s 4ms/step - loss: -0.0971 - val_loss: -0.1218\n",
      "Epoch 16/100\n",
      "15/15 [==============================] - 0s 4ms/step - loss: -0.0985 - val_loss: -0.1231\n",
      "Epoch 17/100\n",
      "15/15 [==============================] - 0s 4ms/step - loss: -0.1000 - val_loss: -0.1246\n",
      "Epoch 18/100\n",
      "15/15 [==============================] - 0s 4ms/step - loss: -0.1016 - val_loss: -0.1262\n",
      "Epoch 19/100\n",
      "15/15 [==============================] - 0s 5ms/step - loss: -0.1031 - val_loss: -0.1279\n",
      "Epoch 20/100\n",
      "15/15 [==============================] - 0s 5ms/step - loss: -0.1044 - val_loss: -0.1296\n",
      "Epoch 21/100\n",
      "15/15 [==============================] - 0s 4ms/step - loss: -0.1063 - val_loss: -0.1313\n",
      "Epoch 22/100\n",
      "15/15 [==============================] - 0s 3ms/step - loss: -0.1078 - val_loss: -0.1332\n",
      "Epoch 23/100\n",
      "15/15 [==============================] - 0s 3ms/step - loss: -0.1096 - val_loss: -0.1348\n",
      "Epoch 24/100\n",
      "15/15 [==============================] - 0s 3ms/step - loss: -0.1113 - val_loss: -0.1369\n",
      "Epoch 25/100\n",
      "15/15 [==============================] - 0s 3ms/step - loss: -0.1131 - val_loss: -0.1387\n",
      "Epoch 26/100\n",
      "15/15 [==============================] - 0s 3ms/step - loss: -0.1145 - val_loss: -0.1405\n",
      "Epoch 27/100\n",
      "15/15 [==============================] - 0s 3ms/step - loss: -0.1164 - val_loss: -0.1425\n",
      "Epoch 28/100\n",
      "15/15 [==============================] - 0s 3ms/step - loss: -0.1190 - val_loss: -0.1445\n",
      "Epoch 29/100\n",
      "15/15 [==============================] - 0s 3ms/step - loss: -0.1206 - val_loss: -0.1467\n",
      "Epoch 30/100\n",
      "15/15 [==============================] - 0s 3ms/step - loss: -0.1227 - val_loss: -0.1489\n",
      "Epoch 31/100\n",
      "15/15 [==============================] - 0s 3ms/step - loss: -0.1251 - val_loss: -0.1514\n",
      "Epoch 32/100\n",
      "15/15 [==============================] - 0s 3ms/step - loss: -0.1278 - val_loss: -0.1538\n",
      "Epoch 33/100\n",
      "15/15 [==============================] - 0s 3ms/step - loss: -0.1297 - val_loss: -0.1562\n",
      "Epoch 34/100\n",
      "15/15 [==============================] - 0s 3ms/step - loss: -0.1323 - val_loss: -0.1592\n",
      "Epoch 35/100\n",
      "15/15 [==============================] - 0s 3ms/step - loss: -0.1351 - val_loss: -0.1620\n",
      "Epoch 36/100\n",
      "15/15 [==============================] - 0s 3ms/step - loss: -0.1380 - val_loss: -0.1651\n",
      "Epoch 37/100\n",
      "15/15 [==============================] - 0s 3ms/step - loss: -0.1406 - val_loss: -0.1683\n",
      "Epoch 38/100\n",
      "15/15 [==============================] - 0s 3ms/step - loss: -0.1436 - val_loss: -0.1716\n",
      "Epoch 39/100\n",
      "15/15 [==============================] - 0s 4ms/step - loss: -0.1474 - val_loss: -0.1752\n",
      "Epoch 40/100\n",
      "15/15 [==============================] - 0s 4ms/step - loss: -0.1507 - val_loss: -0.1790\n",
      "Epoch 41/100\n",
      "15/15 [==============================] - 0s 5ms/step - loss: -0.1542 - val_loss: -0.1828\n",
      "Epoch 42/100\n",
      "15/15 [==============================] - 0s 7ms/step - loss: -0.1586 - val_loss: -0.1872\n",
      "Epoch 43/100\n",
      "15/15 [==============================] - 0s 15ms/step - loss: -0.1628 - val_loss: -0.1920\n",
      "Epoch 44/100\n",
      "15/15 [==============================] - 0s 6ms/step - loss: -0.1671 - val_loss: -0.1969\n",
      "Epoch 45/100\n",
      "15/15 [==============================] - 0s 4ms/step - loss: -0.1723 - val_loss: -0.2028\n",
      "Epoch 46/100\n",
      "15/15 [==============================] - 0s 3ms/step - loss: -0.1778 - val_loss: -0.2085\n",
      "Epoch 47/100\n",
      "15/15 [==============================] - 0s 3ms/step - loss: -0.1834 - val_loss: -0.2151\n",
      "Epoch 48/100\n",
      "15/15 [==============================] - 0s 3ms/step - loss: -0.1895 - val_loss: -0.2219\n",
      "Epoch 49/100\n",
      "15/15 [==============================] - 0s 3ms/step - loss: -0.1969 - val_loss: -0.2297\n",
      "Epoch 50/100\n",
      "15/15 [==============================] - 0s 3ms/step - loss: -0.2042 - val_loss: -0.2380\n",
      "Epoch 51/100\n",
      "15/15 [==============================] - 0s 3ms/step - loss: -0.2122 - val_loss: -0.2470\n",
      "Epoch 52/100\n",
      "15/15 [==============================] - 0s 4ms/step - loss: -0.2215 - val_loss: -0.2571\n",
      "Epoch 53/100\n",
      "15/15 [==============================] - 0s 4ms/step - loss: -0.2319 - val_loss: -0.2681\n",
      "Epoch 54/100\n",
      "15/15 [==============================] - 0s 4ms/step - loss: -0.2431 - val_loss: -0.2807\n",
      "Epoch 55/100\n",
      "15/15 [==============================] - 0s 4ms/step - loss: -0.2557 - val_loss: -0.2945\n",
      "Epoch 56/100\n",
      "15/15 [==============================] - 0s 4ms/step - loss: -0.2698 - val_loss: -0.3103\n",
      "Epoch 57/100\n",
      "15/15 [==============================] - 0s 4ms/step - loss: -0.2851 - val_loss: -0.3277\n",
      "Epoch 58/100\n",
      "15/15 [==============================] - 0s 4ms/step - loss: -0.3032 - val_loss: -0.3475\n",
      "Epoch 59/100\n",
      "15/15 [==============================] - 0s 5ms/step - loss: -0.3231 - val_loss: -0.3707\n",
      "Epoch 60/100\n",
      "15/15 [==============================] - 0s 4ms/step - loss: -0.3465 - val_loss: -0.3962\n",
      "Epoch 61/100\n",
      "15/15 [==============================] - 0s 4ms/step - loss: -0.3724 - val_loss: -0.4258\n",
      "Epoch 62/100\n",
      "15/15 [==============================] - 0s 18ms/step - loss: -0.4028 - val_loss: -0.4596\n",
      "Epoch 63/100\n",
      "15/15 [==============================] - 0s 3ms/step - loss: -0.4378 - val_loss: -0.4985\n",
      "Epoch 64/100\n",
      "15/15 [==============================] - 0s 3ms/step - loss: -0.4783 - val_loss: -0.5443\n",
      "Epoch 65/100\n",
      "15/15 [==============================] - 0s 3ms/step - loss: -0.5252 - val_loss: -0.5984\n",
      "Epoch 66/100\n",
      "15/15 [==============================] - 0s 3ms/step - loss: -0.5817 - val_loss: -0.6619\n",
      "Epoch 67/100\n",
      "15/15 [==============================] - 0s 3ms/step - loss: -0.6484 - val_loss: -0.7368\n",
      "Epoch 68/100\n",
      "15/15 [==============================] - 0s 6ms/step - loss: -0.7279 - val_loss: -0.8275\n",
      "Epoch 69/100\n",
      "15/15 [==============================] - 0s 3ms/step - loss: -0.8232 - val_loss: -0.9365\n",
      "Epoch 70/100\n",
      "15/15 [==============================] - 0s 3ms/step - loss: -0.9362 - val_loss: -1.0650\n",
      "Epoch 71/100\n",
      "15/15 [==============================] - 0s 3ms/step - loss: -1.0734 - val_loss: -1.2190\n",
      "Epoch 72/100\n",
      "15/15 [==============================] - 0s 3ms/step - loss: -1.2349 - val_loss: -1.3980\n",
      "Epoch 73/100\n",
      "15/15 [==============================] - 0s 3ms/step - loss: -1.4195 - val_loss: -1.6049\n",
      "Epoch 74/100\n",
      "15/15 [==============================] - 0s 3ms/step - loss: -1.6235 - val_loss: -1.8084\n",
      "Epoch 75/100\n",
      "15/15 [==============================] - 0s 3ms/step - loss: -1.8164 - val_loss: -2.0154\n",
      "Epoch 76/100\n",
      "15/15 [==============================] - 0s 3ms/step - loss: -1.9792 - val_loss: -2.1761\n",
      "Epoch 77/100\n",
      "15/15 [==============================] - 0s 3ms/step - loss: -2.0960 - val_loss: -2.2568\n",
      "Epoch 78/100\n",
      "15/15 [==============================] - 0s 3ms/step - loss: -2.1694 - val_loss: -2.3000\n",
      "Epoch 79/100\n",
      "15/15 [==============================] - 0s 3ms/step - loss: -2.1847 - val_loss: -2.3792\n",
      "Epoch 80/100\n",
      "15/15 [==============================] - 0s 3ms/step - loss: -2.1634 - val_loss: -2.3140\n",
      "Epoch 81/100\n",
      "15/15 [==============================] - 0s 3ms/step - loss: -2.2063 - val_loss: -2.3211\n",
      "Epoch 82/100\n",
      "15/15 [==============================] - 0s 3ms/step - loss: -2.2184 - val_loss: -2.3192\n",
      "Epoch 83/100\n",
      "15/15 [==============================] - 0s 3ms/step - loss: -2.1734 - val_loss: -2.3605\n",
      "Epoch 84/100\n",
      "15/15 [==============================] - 0s 3ms/step - loss: -2.2234 - val_loss: -2.3155\n",
      "Epoch 84: early stopping\n"
     ]
    }
   ],
   "source": [
    "hist = model.fit(x_train, y_train, epochs=100, batch_size=1024, validation_data=(x_test, y_test), callbacks=[es])"
   ]
  },
  {
   "cell_type": "code",
   "execution_count": 163,
   "metadata": {},
   "outputs": [
    {
     "data": {
      "image/png": "[encoded data removed]",
      "text/plain": [
       "<Figure size 640x480 with 1 Axes>"
      ]
     },
     "metadata": {},
     "output_type": "display_data"
    }
   ],
   "source": [
    "plt.plot(hist.history['loss'])\n",
    "plt.plot(hist.history['val_loss'])\n",
    "plt.show()"
   ]
  },
  {
   "cell_type": "markdown",
   "metadata": {},
   "source": [
    "### e)"
   ]
  },
  {
   "cell_type": "code",
   "execution_count": 164,
   "metadata": {},
   "outputs": [
    {
     "name": "stdout",
     "output_type": "stream",
     "text": [
      "625/625 [==============================] - 0s 442us/step\n"
     ]
    }
   ],
   "source": [
    "t_x_pred = model.predict(x)[:,0]"
   ]
  },
  {
   "cell_type": "code",
   "execution_count": 165,
   "metadata": {},
   "outputs": [],
   "source": [
    "t_x_opt = T_opt(x, mu1, mu2, Sigma1, Sigma2)"
   ]
  },
  {
   "cell_type": "code",
   "execution_count": 166,
   "metadata": {},
   "outputs": [
    {
     "data": {
      "image/png": "[encoded data removed]",
      "text/plain": [
       "<Figure size 640x480 with 1 Axes>"
      ]
     },
     "metadata": {},
     "output_type": "display_data"
    }
   ],
   "source": [
    "plt.plot(t_x_opt, label = 'true')\n",
    "plt.plot(t_x_pred, label = 'model')\n",
    "plt.legend()\n",
    "plt.show()"
   ]
  },
  {
   "cell_type": "code",
   "execution_count": 167,
   "metadata": {},
   "outputs": [
    {
     "data": {
      "image/png": "[encoded data removed]",
      "text/plain": [
       "<Figure size 640x480 with 1 Axes>"
      ]
     },
     "metadata": {},
     "output_type": "display_data"
    }
   ],
   "source": [
    "plt.plot(t_x_pred[y==1], t_x_opt[y==1], \"o\", alpha=0.2, markersize=2, label = 'y=1')\n",
    "plt.plot(t_x_pred[y==0], t_x_opt[y==0], \"o\", alpha=0.2, markersize=2, label = 'y=0')\n",
    "plt.grid()\n",
    "plt.legend()\n",
    "plt.show()"
   ]
  },
  {
   "cell_type": "code",
   "execution_count": 168,
   "metadata": {},
   "outputs": [
    {
     "data": {
      "image/png": "[encoded data removed]",
      "text/plain": [
       "<Figure size 640x480 with 1 Axes>"
      ]
     },
     "metadata": {},
     "output_type": "display_data"
    }
   ],
   "source": [
    "plt.plot(t_x_pred, t_x_opt, \"o\")\n",
    "plt.show()"
   ]
  },
  {
   "cell_type": "code",
   "execution_count": 169,
   "metadata": {},
   "outputs": [
    {
     "data": {
      "text/plain": [
       "2.1198761799128594"
      ]
     },
     "execution_count": 169,
     "metadata": {},
     "output_type": "execute_result"
    }
   ],
   "source": [
    "DV_fun(y, t_x_pred)"
   ]
  },
  {
   "cell_type": "code",
   "execution_count": 170,
   "metadata": {},
   "outputs": [
    {
     "data": {
      "text/plain": [
       "2.339946807718526"
      ]
     },
     "execution_count": 170,
     "metadata": {},
     "output_type": "execute_result"
    }
   ],
   "source": [
    "DV_fun(y, t_x_opt)"
   ]
  },
  {
   "cell_type": "code",
   "execution_count": 171,
   "metadata": {},
   "outputs": [],
   "source": [
    "# new data\n",
    "n_new = 10000\n",
    "x1 = np.random.multivariate_normal(mu1, Sigma1, size=n_new)\n",
    "x2 = np.random.multivariate_normal(mu2, Sigma2, size=n_new)\n",
    "x_new = np.concatenate((x1, x2), axis=0)\n",
    "y_new = np.concatenate((1.0*np.ones(n_new), 0.0*np.zeros(n_new)))"
   ]
  },
  {
   "cell_type": "code",
   "execution_count": 172,
   "metadata": {},
   "outputs": [
    {
     "name": "stdout",
     "output_type": "stream",
     "text": [
      "625/625 [==============================] - 1s 936us/step\n"
     ]
    }
   ],
   "source": [
    "t_x_pred = model.predict(x_new)\n",
    "t_x_pred = t_x_pred[:,0]"
   ]
  },
  {
   "cell_type": "code",
   "execution_count": 173,
   "metadata": {},
   "outputs": [],
   "source": [
    "t_x_opt_new = T_opt(x_new, mu1, mu2, Sigma1, Sigma2)"
   ]
  },
  {
   "cell_type": "code",
   "execution_count": 174,
   "metadata": {},
   "outputs": [
    {
     "data": {
      "text/plain": [
       "1.9695243062986585"
      ]
     },
     "execution_count": 174,
     "metadata": {},
     "output_type": "execute_result"
    }
   ],
   "source": [
    "DV_fun(y_new, t_x_pred)"
   ]
  },
  {
   "cell_type": "code",
   "execution_count": 175,
   "metadata": {},
   "outputs": [
    {
     "data": {
      "text/plain": [
       "2.3062762975810776"
      ]
     },
     "execution_count": 175,
     "metadata": {},
     "output_type": "execute_result"
    }
   ],
   "source": [
    "DV_fun(y_new, t_x_opt_new)"
   ]
  },
  {
   "cell_type": "markdown",
   "metadata": {},
   "source": [
    "### f)"
   ]
  },
  {
   "cell_type": "code",
   "execution_count": 176,
   "metadata": {},
   "outputs": [],
   "source": [
    "def NWJ_loss(y_true, y_pred):\n",
    "    first_term = tf.math.reduce_mean(y_pred[y_true == 1])\n",
    "    second_term = tf.math.reduce_mean(tf.math.exp(y_pred[y_true == 0]-1))\n",
    "    return -(first_term - second_term)"
   ]
  },
  {
   "cell_type": "code",
   "execution_count": 177,
   "metadata": {},
   "outputs": [],
   "source": [
    "def NWJ_fun(y, t):\n",
    "    # y - an indicator [y[i]=1 if t[i] corresponds to x sampled from the distribution p, y[i]=0 otherwise]\n",
    "    # t a vector (of the same length as y) t = log(p(x)/q(x)) + 1\n",
    "    return np.mean(t[y == 1]) - np.mean(np.exp(t[y == 0] - 1))"
   ]
  },
  {
   "cell_type": "code",
   "execution_count": 178,
   "metadata": {},
   "outputs": [
    {
     "data": {
      "text/plain": [
       "2.3371830913447598"
      ]
     },
     "execution_count": 178,
     "metadata": {},
     "output_type": "execute_result"
    }
   ],
   "source": [
    "NWJ_fun(y, t_x_opt + 1)"
   ]
  },
  {
   "cell_type": "code",
   "execution_count": 179,
   "metadata": {},
   "outputs": [],
   "source": [
    "model_inputs = keras.Input(shape=(5))\n",
    "layer_out = Dense(64, activation='softplus')(model_inputs)\n",
    "# layer_out = Dense(125, activation='tanh')(layer_out)\n",
    "# layer_out = Dense(64)(layer_out)\n",
    "model_outputs = Dense(1)(layer_out)\n",
    "model = keras.Model(model_inputs, model_outputs)\n",
    "\n",
    "optimizer = keras.optimizers.legacy.Adam(learning_rate=1e-3)\n",
    "es = tf.keras.callbacks.EarlyStopping(monitor='val_loss', mode='min', verbose=1, patience=5)\n",
    "model.compile(optimizer=optimizer, loss = NWJ_loss)"
   ]
  },
  {
   "cell_type": "code",
   "execution_count": 180,
   "metadata": {},
   "outputs": [
    {
     "name": "stdout",
     "output_type": "stream",
     "text": [
      "Epoch 1/100\n",
      "15/15 [==============================] - 0s 10ms/step - loss: 0.1757 - val_loss: -0.0275\n",
      "Epoch 2/100\n",
      "15/15 [==============================] - 0s 3ms/step - loss: -0.0339 - val_loss: -0.0539\n",
      "Epoch 3/100\n",
      "15/15 [==============================] - 0s 2ms/step - loss: -0.0499 - val_loss: -0.0784\n",
      "Epoch 4/100\n",
      "15/15 [==============================] - 0s 2ms/step - loss: -0.0654 - val_loss: -0.0895\n",
      "Epoch 5/100\n",
      "15/15 [==============================] - 0s 3ms/step - loss: -0.0715 - val_loss: -0.0955\n",
      "Epoch 6/100\n",
      "15/15 [==============================] - 0s 3ms/step - loss: -0.0774 - val_loss: -0.1009\n",
      "Epoch 7/100\n",
      "15/15 [==============================] - 0s 3ms/step - loss: -0.0836 - val_loss: -0.1074\n",
      "Epoch 8/100\n",
      "15/15 [==============================] - 0s 3ms/step - loss: -0.0897 - val_loss: -0.1137\n",
      "Epoch 9/100\n",
      "15/15 [==============================] - 0s 4ms/step - loss: -0.0969 - val_loss: -0.1213\n",
      "Epoch 10/100\n",
      "15/15 [==============================] - 0s 4ms/step - loss: -0.1047 - val_loss: -0.1291\n",
      "Epoch 11/100\n",
      "15/15 [==============================] - 0s 4ms/step - loss: -0.1132 - val_loss: -0.1385\n",
      "Epoch 12/100\n",
      "15/15 [==============================] - 0s 4ms/step - loss: -0.1225 - val_loss: -0.1479\n",
      "Epoch 13/100\n",
      "15/15 [==============================] - 0s 4ms/step - loss: -0.1336 - val_loss: -0.1600\n",
      "Epoch 14/100\n",
      "15/15 [==============================] - 0s 4ms/step - loss: -0.1453 - val_loss: -0.1725\n",
      "Epoch 15/100\n",
      "15/15 [==============================] - 0s 4ms/step - loss: -0.1587 - val_loss: -0.1879\n",
      "Epoch 16/100\n",
      "15/15 [==============================] - 0s 5ms/step - loss: -0.1745 - val_loss: -0.2041\n",
      "Epoch 17/100\n",
      "15/15 [==============================] - 0s 6ms/step - loss: -0.1920 - val_loss: -0.2237\n",
      "Epoch 18/100\n",
      "15/15 [==============================] - 0s 8ms/step - loss: -0.2119 - val_loss: -0.2466\n",
      "Epoch 19/100\n",
      "15/15 [==============================] - 0s 11ms/step - loss: -0.2349 - val_loss: -0.2716\n",
      "Epoch 20/100\n",
      "15/15 [==============================] - 0s 6ms/step - loss: -0.2618 - val_loss: -0.3009\n",
      "Epoch 21/100\n",
      "15/15 [==============================] - 0s 4ms/step - loss: -0.2923 - val_loss: -0.3342\n",
      "Epoch 22/100\n",
      "15/15 [==============================] - 0s 3ms/step - loss: -0.3272 - val_loss: -0.3736\n",
      "Epoch 23/100\n",
      "15/15 [==============================] - 0s 3ms/step - loss: -0.3672 - val_loss: -0.4187\n",
      "Epoch 24/100\n",
      "15/15 [==============================] - 0s 3ms/step - loss: -0.4138 - val_loss: -0.4703\n",
      "Epoch 25/100\n",
      "15/15 [==============================] - 0s 3ms/step - loss: -0.4667 - val_loss: -0.5296\n",
      "Epoch 26/100\n",
      "15/15 [==============================] - 0s 3ms/step - loss: -0.5283 - val_loss: -0.5973\n",
      "Epoch 27/100\n",
      "15/15 [==============================] - 0s 3ms/step - loss: -0.5981 - val_loss: -0.6739\n",
      "Epoch 28/100\n",
      "15/15 [==============================] - 0s 3ms/step - loss: -0.6759 - val_loss: -0.7613\n",
      "Epoch 29/100\n",
      "15/15 [==============================] - 0s 3ms/step - loss: -0.7652 - val_loss: -0.8579\n",
      "Epoch 30/100\n",
      "15/15 [==============================] - 0s 3ms/step - loss: -0.8642 - val_loss: -0.9681\n",
      "Epoch 31/100\n",
      "15/15 [==============================] - 0s 3ms/step - loss: -0.9752 - val_loss: -1.0885\n",
      "Epoch 32/100\n",
      "15/15 [==============================] - 0s 3ms/step - loss: -1.0958 - val_loss: -1.2176\n",
      "Epoch 33/100\n",
      "15/15 [==============================] - 0s 3ms/step - loss: -1.2240 - val_loss: -1.3556\n",
      "Epoch 34/100\n",
      "15/15 [==============================] - 0s 3ms/step - loss: -1.3594 - val_loss: -1.4992\n",
      "Epoch 35/100\n",
      "15/15 [==============================] - 0s 3ms/step - loss: -1.4952 - val_loss: -1.6425\n",
      "Epoch 36/100\n",
      "15/15 [==============================] - 0s 3ms/step - loss: -1.6319 - val_loss: -1.7787\n",
      "Epoch 37/100\n",
      "15/15 [==============================] - 0s 3ms/step - loss: -1.7529 - val_loss: -1.9054\n",
      "Epoch 38/100\n",
      "15/15 [==============================] - 0s 3ms/step - loss: -1.8559 - val_loss: -2.0175\n",
      "Epoch 39/100\n",
      "15/15 [==============================] - 0s 3ms/step - loss: -1.9458 - val_loss: -2.0897\n",
      "Epoch 40/100\n",
      "15/15 [==============================] - 0s 3ms/step - loss: -2.0017 - val_loss: -2.1396\n",
      "Epoch 41/100\n",
      "15/15 [==============================] - 0s 3ms/step - loss: -2.0360 - val_loss: -2.2029\n",
      "Epoch 42/100\n",
      "15/15 [==============================] - 0s 4ms/step - loss: -2.0702 - val_loss: -2.2247\n",
      "Epoch 43/100\n",
      "15/15 [==============================] - 0s 4ms/step - loss: -2.1072 - val_loss: -2.2502\n",
      "Epoch 44/100\n",
      "15/15 [==============================] - 0s 4ms/step - loss: -2.1204 - val_loss: -2.2671\n",
      "Epoch 45/100\n",
      "15/15 [==============================] - 0s 4ms/step - loss: -2.1387 - val_loss: -2.2811\n",
      "Epoch 46/100\n",
      "15/15 [==============================] - 0s 4ms/step - loss: -2.1317 - val_loss: -2.2830\n",
      "Epoch 47/100\n",
      "15/15 [==============================] - 0s 3ms/step - loss: -2.1615 - val_loss: -2.2966\n",
      "Epoch 48/100\n",
      "15/15 [==============================] - 0s 3ms/step - loss: -2.1527 - val_loss: -2.2954\n",
      "Epoch 49/100\n",
      "15/15 [==============================] - 0s 3ms/step - loss: -2.1603 - val_loss: -2.2995\n",
      "Epoch 50/100\n",
      "15/15 [==============================] - 0s 3ms/step - loss: -2.1739 - val_loss: -2.3111\n",
      "Epoch 51/100\n",
      "15/15 [==============================] - 0s 3ms/step - loss: -2.1761 - val_loss: -2.3044\n",
      "Epoch 52/100\n",
      "15/15 [==============================] - 0s 3ms/step - loss: -2.1778 - val_loss: -2.3113\n",
      "Epoch 53/100\n",
      "15/15 [==============================] - 0s 3ms/step - loss: -2.1900 - val_loss: -2.3147\n",
      "Epoch 54/100\n",
      "15/15 [==============================] - 0s 3ms/step - loss: -2.1805 - val_loss: -2.3175\n",
      "Epoch 55/100\n",
      "15/15 [==============================] - 0s 3ms/step - loss: -2.1927 - val_loss: -2.3154\n",
      "Epoch 56/100\n",
      "15/15 [==============================] - 0s 3ms/step - loss: -2.1880 - val_loss: -2.3200\n",
      "Epoch 57/100\n",
      "15/15 [==============================] - 0s 3ms/step - loss: -2.1955 - val_loss: -2.3201\n",
      "Epoch 58/100\n",
      "15/15 [==============================] - 0s 3ms/step - loss: -2.1894 - val_loss: -2.3214\n",
      "Epoch 59/100\n",
      "15/15 [==============================] - 0s 3ms/step - loss: -2.2032 - val_loss: -2.3215\n",
      "Epoch 60/100\n",
      "15/15 [==============================] - 0s 3ms/step - loss: -2.1816 - val_loss: -2.3251\n",
      "Epoch 61/100\n",
      "15/15 [==============================] - 0s 2ms/step - loss: -2.2038 - val_loss: -2.3283\n",
      "Epoch 62/100\n",
      "15/15 [==============================] - 0s 2ms/step - loss: -2.1957 - val_loss: -2.3217\n",
      "Epoch 63/100\n",
      "15/15 [==============================] - 0s 3ms/step - loss: -2.2016 - val_loss: -2.3284\n",
      "Epoch 64/100\n",
      "15/15 [==============================] - 0s 3ms/step - loss: -2.2007 - val_loss: -2.3257\n",
      "Epoch 65/100\n",
      "15/15 [==============================] - 0s 3ms/step - loss: -2.2099 - val_loss: -2.3206\n",
      "Epoch 66/100\n",
      "15/15 [==============================] - 0s 2ms/step - loss: -2.2078 - val_loss: -2.3308\n",
      "Epoch 67/100\n",
      "15/15 [==============================] - 0s 3ms/step - loss: -2.2115 - val_loss: -2.3270\n",
      "Epoch 68/100\n",
      "15/15 [==============================] - 0s 3ms/step - loss: -2.1974 - val_loss: -2.3323\n",
      "Epoch 69/100\n",
      "15/15 [==============================] - 0s 3ms/step - loss: -2.2107 - val_loss: -2.3275\n",
      "Epoch 70/100\n",
      "15/15 [==============================] - 0s 3ms/step - loss: -2.2111 - val_loss: -2.3316\n",
      "Epoch 71/100\n",
      "15/15 [==============================] - 0s 4ms/step - loss: -2.2052 - val_loss: -2.3327\n",
      "Epoch 72/100\n",
      "15/15 [==============================] - 0s 4ms/step - loss: -2.2129 - val_loss: -2.3337\n",
      "Epoch 73/100\n",
      "15/15 [==============================] - 0s 5ms/step - loss: -2.2116 - val_loss: -2.3268\n",
      "Epoch 74/100\n",
      "15/15 [==============================] - 0s 4ms/step - loss: -2.2160 - val_loss: -2.3351\n",
      "Epoch 75/100\n",
      "15/15 [==============================] - 0s 3ms/step - loss: -2.2083 - val_loss: -2.3243\n",
      "Epoch 76/100\n",
      "15/15 [==============================] - 0s 4ms/step - loss: -2.2188 - val_loss: -2.3307\n",
      "Epoch 77/100\n",
      "15/15 [==============================] - 0s 6ms/step - loss: -2.2176 - val_loss: -2.3313\n",
      "Epoch 78/100\n",
      "15/15 [==============================] - 0s 8ms/step - loss: -2.2108 - val_loss: -2.3349\n",
      "Epoch 79/100\n",
      "15/15 [==============================] - 0s 10ms/step - loss: -2.2020 - val_loss: -2.3426\n",
      "Epoch 80/100\n",
      "15/15 [==============================] - 0s 6ms/step - loss: -2.2227 - val_loss: -2.3385\n",
      "Epoch 81/100\n",
      "15/15 [==============================] - 0s 4ms/step - loss: -2.2132 - val_loss: -2.3291\n",
      "Epoch 82/100\n",
      "15/15 [==============================] - 0s 3ms/step - loss: -2.2121 - val_loss: -2.3399\n",
      "Epoch 83/100\n",
      "15/15 [==============================] - 0s 3ms/step - loss: -2.2237 - val_loss: -2.3335\n",
      "Epoch 84/100\n",
      "15/15 [==============================] - 0s 3ms/step - loss: -2.2175 - val_loss: -2.3360\n",
      "Epoch 84: early stopping\n"
     ]
    }
   ],
   "source": [
    "hist = model.fit(x_train, y_train, epochs=100, batch_size=1024, validation_data=(x_test, y_test), callbacks=[es])"
   ]
  },
  {
   "cell_type": "code",
   "execution_count": 181,
   "metadata": {},
   "outputs": [
    {
     "data": {
      "image/png": "[encoded data removed]",
      "text/plain": [
       "<Figure size 640x480 with 1 Axes>"
      ]
     },
     "metadata": {},
     "output_type": "display_data"
    }
   ],
   "source": [
    "plt.plot(hist.history['loss'])\n",
    "plt.plot(hist.history['val_loss'])\n",
    "plt.show()"
   ]
  },
  {
   "cell_type": "code",
   "execution_count": 182,
   "metadata": {},
   "outputs": [
    {
     "name": "stdout",
     "output_type": "stream",
     "text": [
      "625/625 [==============================] - 0s 454us/step\n",
      "625/625 [==============================] - 0s 381us/step\n"
     ]
    },
    {
     "data": {
      "text/plain": [
       "(2.2565112, 2.1249962)"
      ]
     },
     "execution_count": 182,
     "metadata": {},
     "output_type": "execute_result"
    }
   ],
   "source": [
    "t_x_nwj = model.predict(x)\n",
    "t_x_nwj_new = model.predict(x_new)\n",
    "NWJ_fun(y, t_x_nwj), NWJ_fun(y_new, t_x_nwj_new)"
   ]
  },
  {
   "cell_type": "code",
   "execution_count": 183,
   "metadata": {},
   "outputs": [
    {
     "data": {
      "text/plain": [
       "(2.169075737042572, 2.3371830913447598, 2.2565112)"
      ]
     },
     "execution_count": 183,
     "metadata": {},
     "output_type": "execute_result"
    }
   ],
   "source": [
    "KL_mult_normal(mu1, mu2, Sigma1, Sigma2), NWJ_fun(y, t_x_opt + 1), NWJ_fun(y, t_x_nwj)"
   ]
  },
  {
   "cell_type": "code",
   "execution_count": 184,
   "metadata": {},
   "outputs": [
    {
     "data": {
      "text/plain": [
       "(2.169075737042572, 2.2935269587277354, 2.1249962)"
      ]
     },
     "execution_count": 184,
     "metadata": {},
     "output_type": "execute_result"
    }
   ],
   "source": [
    "KL_mult_normal(mu1, mu2, Sigma1, Sigma2), NWJ_fun(y_new, t_x_opt_new + 1), NWJ_fun(y_new, t_x_nwj_new)"
   ]
  }
 ],
 "metadata": {
  "kernelspec": {
   "display_name": "Python 3 (ipykernel)",
   "language": "python",
   "name": "python3"
  },
  "language_info": {
   "codemirror_mode": {
    "name": "ipython",
    "version": 3
   },
   "file_extension": ".py",
   "mimetype": "text/x-python",
   "name": "python",
   "nbconvert_exporter": "python",
   "pygments_lexer": "ipython3",
   "version": "3.10.12"
  }
 },
 "nbformat": 4,
 "nbformat_minor": 4
}
