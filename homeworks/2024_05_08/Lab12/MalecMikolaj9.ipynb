{
 "cells": [
  {
   "cell_type": "markdown",
   "id": "20cb7128",
   "metadata": {},
   "source": [
    "# Mathematical Underpinnings Lab 9\n",
    "\n",
    "### Mikołaj Malec\n",
    "\n",
    "## Task 1 (EM)\n",
    "\n",
    "### a)"
   ]
  },
  {
   "cell_type": "code",
   "execution_count": 30,
   "id": "53783f4d",
   "metadata": {},
   "outputs": [
    {
     "data": {
      "image/png": "[encoded data removed]",
      "text/plain": [
       "<Figure size 432x288 with 1 Axes>"
      ]
     },
     "metadata": {
      "needs_background": "light"
     },
     "output_type": "display_data"
    }
   ],
   "source": [
    "import numpy as np\n",
    "import pandas as pd\n",
    "import matplotlib.pyplot as plt\n",
    "import warnings\n",
    "\n",
    "# True parameter values\n",
    "mu0 = 1\n",
    "mu1 = 6\n",
    "sigma0_sq = 1\n",
    "sigma1_sq = 2\n",
    "pi0 = 0.3\n",
    "pi1 = 0.7\n",
    "\n",
    "# Number of observations\n",
    "n = 500\n",
    "\n",
    "# Generate Z values\n",
    "Z = np.random.choice([0, 1], size=n, p=[pi0, pi1])\n",
    "\n",
    "# Generate observations\n",
    "observations = np.zeros(n)\n",
    "for i in range(n):\n",
    "    if Z[i] == 0:\n",
    "        observations[i] = np.random.normal(mu0, np.sqrt(sigma0_sq))\n",
    "    else:\n",
    "        observations[i] = np.random.normal(mu1, np.sqrt(sigma1_sq))\n",
    "\n",
    "# Plot histogram of the sample\n",
    "plt.hist(observations, bins=30, density=True, alpha=0.6, color='g', label='Sample Histogram')\n",
    "\n",
    "# Plot true distribution\n",
    "x = np.linspace(-5, 15, 1000)\n",
    "true_distribution = pi0 * np.exp(-(x - mu0)**2 / (2 * sigma0_sq)) / np.sqrt(2 * np.pi * sigma0_sq) + \\\n",
    "                    pi1 * np.exp(-(x - mu1)**2 / (2 * sigma1_sq)) / np.sqrt(2 * np.pi * sigma1_sq)\n",
    "plt.plot(x, true_distribution, 'r-', label='True Distribution')\n",
    "\n",
    "plt.xlabel('Value')\n",
    "plt.ylabel('Density')\n",
    "plt.title('Histogram of Sample and True Distribution')\n",
    "plt.legend()\n",
    "plt.grid(True)\n",
    "plt.show()"
   ]
  },
  {
   "cell_type": "markdown",
   "id": "fc790e9b",
   "metadata": {},
   "source": [
    "### b)"
   ]
  },
  {
   "cell_type": "markdown",
   "id": "d5ad1cb2",
   "metadata": {},
   "source": [
    "$\n",
    "\\mathcal{L}(\\theta) = \\sum_{i=1}^{n} \\log(p(x_i | G_i = g_i, \\theta)*p(G_i=g_i|\\theta))\n",
    "$"
   ]
  },
  {
   "cell_type": "markdown",
   "id": "99f95ea1",
   "metadata": {},
   "source": [
    "### c)"
   ]
  },
  {
   "cell_type": "code",
   "execution_count": 2,
   "id": "c03bc9d2",
   "metadata": {},
   "outputs": [
    {
     "name": "stdout",
     "output_type": "stream",
     "text": [
      "Expected value of G_i=1 given x_i and theta: 0.8872770529880288\n"
     ]
    }
   ],
   "source": [
    "def compute_gamma(x_i, theta):\n",
    "    # Unpack theta\n",
    "    mu0, mu1, sigma0_sq, sigma1_sq, pi0, pi1 = theta\n",
    "    \n",
    "    # Compute the probability densities for each component\n",
    "    pdf_0 = pi0 * np.exp(-(x_i - mu0)**2 / (2 * sigma0_sq)) / np.sqrt(2 * np.pi * sigma0_sq)\n",
    "    pdf_1 = pi1 * np.exp(-(x_i - mu1)**2 / (2 * sigma1_sq)) / np.sqrt(2 * np.pi * sigma1_sq)\n",
    "    \n",
    "    # Compute the total probability density\n",
    "    total_pdf = pdf_0 + pdf_1\n",
    "    \n",
    "    # Compute the conditional probabilities of G_i being 0 and 1\n",
    "    conditional_prob_0 = pdf_0 / total_pdf\n",
    "    conditional_prob_1 = pdf_1 / total_pdf\n",
    "    \n",
    "    # Return the expected value of G_i given x_i and theta\n",
    "    return conditional_prob_1\n",
    "\n",
    "# Example usage:\n",
    "# Assuming x_i is an observed value and theta contains the current parameter estimates\n",
    "x_i = 3.5  # Example observed value\n",
    "theta = (1, 6, 1, 2, 0.3, 0.7)  # Example parameter estimates\n",
    "\n",
    "gamma_i = compute_gamma(x_i, theta)\n",
    "print(\"Expected value of G_i=1 given x_i and theta:\", gamma_i)"
   ]
  },
  {
   "cell_type": "markdown",
   "id": "7ec984e3",
   "metadata": {},
   "source": [
    "### d)"
   ]
  },
  {
   "cell_type": "code",
   "execution_count": 3,
   "id": "e8693a81",
   "metadata": {},
   "outputs": [
    {
     "name": "stdout",
     "output_type": "stream",
     "text": [
      "Updated mean: 4.766666666666667 5.812128418549347\n",
      "Updated variance: 7.755172413793105 0.41999999999999993\n",
      "Updated mixing coefficient: 6.0317460317460325 0.5800000000000001\n"
     ]
    }
   ],
   "source": [
    "def update_parameters(observations, gamma):\n",
    "    # Update mean parameters\n",
    "    mu0_new = np.sum((1 - gamma) * observations) / np.sum(1 - gamma)\n",
    "    mu1_new = np.sum(gamma * observations) / np.sum(gamma)\n",
    "    \n",
    "    # Update variance parameters\n",
    "    sigma0_sq_new = np.sum((1 - gamma) * (observations - mu0_new)**2) / np.sum(1 - gamma)\n",
    "    sigma1_sq_new = np.sum(gamma * (observations - mu1_new)**2) / np.sum(gamma)\n",
    "    \n",
    "    # Update mixing coefficients\n",
    "    pi0_new = np.mean(1 - gamma)\n",
    "    pi1_new = 1 - pi0_new\n",
    "    \n",
    "    return mu0_new, mu1_new, sigma0_sq_new, sigma1_sq_new, pi0_new, pi1_new\n",
    "\n",
    "# Example usage:\n",
    "# Assuming observations is an array of observed values and gamma contains the expected values of G_i\n",
    "# Continuing from the previous example, let's say we have:\n",
    "example = np.array([2.3, 4.5, 6.7, 8.9, 10.1])  # Example observed values\n",
    "gamma = np.array([0.2, 0.4, 0.6, 0.8, 0.9])  # Example expected values of G_i\n",
    "\n",
    "# Initial parameter estimates\n",
    "mu_initial = 3  # Example initial mean estimate\n",
    "variance_initial = 2  # Example initial variance estimate\n",
    "pi_initial = 0.5  # Example initial mixing coefficient estimate\n",
    "\n",
    "# Update parameters\n",
    "mu_new0, variance_new0, pi_new0, mu_new1, variance_new1, pi_new1 = update_parameters(example, gamma)\n",
    "print(\"Updated mean:\", mu_new0, mu_new1)\n",
    "print(\"Updated variance:\", variance_new0, variance_new1)\n",
    "print(\"Updated mixing coefficient:\", pi_new0, pi_new1)\n"
   ]
  },
  {
   "cell_type": "markdown",
   "id": "c14fa1b7",
   "metadata": {},
   "source": [
    "### e)"
   ]
  },
  {
   "cell_type": "code",
   "execution_count": 4,
   "id": "3f6c1174",
   "metadata": {},
   "outputs": [
    {
     "name": "stdout",
     "output_type": "stream",
     "text": [
      "Estimated parameters:\n",
      "mu0: 1.6538158208859262\n",
      "mu1: 9.062421986965653\n",
      "sigma0^2: 0.9614245101772312\n",
      "sigma1^2: 9.205893636782859\n",
      "pi0: 0.35093267595588823\n",
      "pi1: 0.6490673240441118\n"
     ]
    }
   ],
   "source": [
    "def initialize_parameters():\n",
    "    # Initialize mean parameters randomly\n",
    "    mu0_hat = np.random.uniform(-5, 5)\n",
    "    mu1_hat = np.random.uniform(-5, 5)\n",
    "    \n",
    "    # Initialize variance parameters randomly\n",
    "    sigma0_hat = np.random.uniform(0.1, 5)\n",
    "    sigma1_hat = np.random.uniform(0.1, 5)\n",
    "    \n",
    "    # Initialize mixing coefficients\n",
    "    pi0_hat = 0.5\n",
    "    pi1_hat = 1 - pi0_hat\n",
    "    \n",
    "    return mu0_hat, mu1_hat, sigma0_hat, sigma1_hat, pi0_hat, pi1_hat\n",
    "\n",
    "def em_algorithm(observations, max_iterations=100, tolerance=1e-4):\n",
    "    # Initialize parameters\n",
    "    mu0_hat, mu1_hat, sigma0_hat, sigma1_hat, pi0_hat, pi1_hat = initialize_parameters()\n",
    "    \n",
    "    for i in range(max_iterations):\n",
    "        # E-step\n",
    "        gamma = compute_gamma(observations, (mu0_hat, mu1_hat, sigma0_hat, sigma1_hat, pi0_hat, pi1_hat))\n",
    "        \n",
    "        # M-step\n",
    "        mu0_new, mu1_new, sigma0_sq_new, sigma1_sq_new, pi0_new, pi1_new = update_parameters(observations, gamma)\n",
    "        \n",
    "        # Check convergence\n",
    "        if np.abs(mu0_new - mu0_hat) < tolerance and \\\n",
    "           np.abs(mu1_new - mu1_hat) < tolerance and \\\n",
    "           np.abs(sigma0_sq_new - sigma0_hat) < tolerance and \\\n",
    "           np.abs(sigma1_sq_new - sigma1_hat) < tolerance and \\\n",
    "           np.abs(pi0_new - pi0_hat) < tolerance:\n",
    "            break\n",
    "        \n",
    "        # Update parameters\n",
    "        mu0_hat, mu1_hat, sigma0_hat, sigma1_hat, pi0_hat, pi1_hat = mu0_new, mu1_new, sigma0_sq_new, sigma1_sq_new, pi0_new, pi1_new\n",
    "    \n",
    "    return mu0_hat, mu1_hat, sigma0_hat, sigma1_hat, pi0_hat, pi1_hat\n",
    "\n",
    "# Example usage:\n",
    "# Assuming observations is an array of observed values\n",
    "example = np.array([0.5, 1.7, 2.9, 5.2, 7.4, 9.8, 11.0, 13.2])  # Example observed values\n",
    "\n",
    "# Run EM algorithm\n",
    "mu0_estimate, mu1_estimate, sigma0_sq_estimate, sigma1_sq_estimate, pi0_estimate, pi1_estimate = em_algorithm(example)\n",
    "\n",
    "print(\"Estimated parameters:\")\n",
    "print(\"mu0:\", mu0_estimate)\n",
    "print(\"mu1:\", mu1_estimate)\n",
    "print(\"sigma0^2:\", sigma0_sq_estimate)\n",
    "print(\"sigma1^2:\", sigma1_sq_estimate)\n",
    "print(\"pi0:\", pi0_estimate)\n",
    "print(\"pi1:\", pi1_estimate)\n"
   ]
  },
  {
   "cell_type": "markdown",
   "id": "502ce839",
   "metadata": {},
   "source": [
    "### e)"
   ]
  },
  {
   "cell_type": "code",
   "execution_count": 5,
   "id": "ace5ef1a",
   "metadata": {},
   "outputs": [
    {
     "data": {
      "image/png": "[encoded data removed]",
      "text/plain": [
       "<Figure size 432x288 with 1 Axes>"
      ]
     },
     "metadata": {
      "needs_background": "light"
     },
     "output_type": "display_data"
    },
    {
     "name": "stdout",
     "output_type": "stream",
     "text": [
      "   Parameter  True Value  Estimated Value\n",
      "0        mu0         1.0         1.015700\n",
      "1        mu1         6.0         5.994392\n",
      "2  sigma0_sq         1.0         0.960775\n",
      "3  sigma1_sq         2.0         2.040239\n",
      "4        pi0         0.3         0.288117\n",
      "5        pi1         0.7         0.711883\n"
     ]
    }
   ],
   "source": [
    "# Contiune from point a)\n",
    "\n",
    "# Run EM algorithm\n",
    "mu0_estimate, mu1_estimate, sigma0_sq_estimate, sigma1_sq_estimate, pi0_estimate, pi1_estimate = em_algorithm(observations)\n",
    "\n",
    "# Plot histogram of the sample\n",
    "plt.hist(observations, bins=30, density=True, alpha=0.6, color='g', label='Sample Histogram')\n",
    "\n",
    "# Plot true distribution\n",
    "plt.plot(x, true_distribution, 'r-', label='True Distribution', alpha=0.5)\n",
    "\n",
    "# Plot estimated distribution\n",
    "x = np.linspace(-5, 15, 1000)\n",
    "estimated_distribution = pi0_estimate * np.exp(-(x - mu0_estimate)**2 / (2 * sigma0_sq_estimate)) / np.sqrt(2 * np.pi * sigma0_sq_estimate) + \\\n",
    "                    pi1_estimate * np.exp(-(x - mu1_estimate)**2 / (2 * sigma1_sq_estimate)) / np.sqrt(2 * np.pi * sigma1_sq_estimate)\n",
    "plt.plot(x, true_distribution, 'b-', label='Estimated Distribution', alpha=0.5)\n",
    "\n",
    "plt.xlabel('Value')\n",
    "plt.ylabel('Density')\n",
    "plt.title('Histogram of Sample and True Distribution')\n",
    "plt.legend()\n",
    "plt.grid(True)\n",
    "plt.show()\n",
    "\n",
    "# Print true and estimated parameter values side by side\n",
    "data = {\n",
    "    \"Parameter\": [\"mu0\", \"mu1\", \"sigma0_sq\", \"sigma1_sq\", \"pi0\", \"pi1\"],\n",
    "    \"True Value\": [mu0, mu1, sigma0_sq, sigma1_sq, pi0, pi1],\n",
    "    \"Estimated Value\": [mu0_estimate, mu1_estimate, sigma0_sq_estimate, sigma1_sq_estimate, pi0_estimate, pi1_estimate]\n",
    "}\n",
    "df = pd.DataFrame(data)\n",
    "print(df)\n"
   ]
  },
  {
   "cell_type": "code",
   "execution_count": null,
   "id": "5f882623",
   "metadata": {},
   "outputs": [],
   "source": []
  }
 ],
 "metadata": {
  "kernelspec": {
   "display_name": "Python 3 (ipykernel)",
   "language": "python",
   "name": "python3"
  },
  "language_info": {
   "codemirror_mode": {
    "name": "ipython",
    "version": 3
   },
   "file_extension": ".py",
   "mimetype": "text/x-python",
   "name": "python",
   "nbconvert_exporter": "python",
   "pygments_lexer": "ipython3",
   "version": "3.9.1"
  }
 },
 "nbformat": 4,
 "nbformat_minor": 5
}
