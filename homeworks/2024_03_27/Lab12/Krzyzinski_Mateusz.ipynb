{
 "cells": [
  {
   "cell_type": "code",
   "execution_count": 1,
   "metadata": {},
   "outputs": [],
   "source": [
    "from sklearn.metrics import mutual_info_score\n",
    "#from sklearn.feature_selection import chi2\n",
    "from scipy.stats import chi2_contingency\n",
    "from scipy.stats import chi2\n",
    "import numpy as np\n",
    "import matplotlib.pyplot as plt\n",
    "from scipy.stats import gaussian_kde, pearsonr\n",
    "import seaborn as sns\n",
    "import pandas as pd"
   ]
  },
  {
   "cell_type": "markdown",
   "metadata": {},
   "source": [
    "# Mathematical Underpinnings - Lab 5"
   ]
  },
  {
   "cell_type": "markdown",
   "metadata": {},
   "source": [
    "Tests to verify hipoteses of independence (from Lab 4):"
   ]
  },
  {
   "cell_type": "code",
   "execution_count": 2,
   "metadata": {},
   "outputs": [],
   "source": [
    "def indep_test_asymptotic(X, Y, stat):\n",
    "\n",
    "    if stat == \"mi\":\n",
    "\n",
    "        stat_value = 2*len(X)*mutual_info_score(X, Y)\n",
    "\n",
    "    if stat == \"chi2\":\n",
    "\n",
    "        test_res = (chi2_contingency(pd.crosstab(X, Y)))\n",
    "        stat_value = test_res.statistic\n",
    "\n",
    "    df = (len(np.unique(X)) - 1)*(len(np.unique(Y)) - 1)\n",
    "\n",
    "    p_value = 1 - chi2.cdf(stat_value, df=df)\n",
    "\n",
    "    return stat_value, p_value\n",
    "\n",
    "def indep_test_permutation(X, Y, B, stat=\"mi\"):\n",
    "\n",
    "    stat_value = mutual_info_score(X, Y)\n",
    "\n",
    "    condition_p_value = 0\n",
    "    for b in range(B):\n",
    "        X_b = np.random.permutation(X)\n",
    "\n",
    "        stat_value_b = mutual_info_score(X_b, Y)\n",
    "\n",
    "        if stat_value <= stat_value_b:\n",
    "            condition_p_value += 1\n",
    "\n",
    "    p_value = (1 + condition_p_value)/(1 + B)\n",
    "\n",
    "    return 2*len(X)*stat_value, p_value"
   ]
  },
  {
   "cell_type": "code",
   "execution_count": 3,
   "metadata": {},
   "outputs": [
    {
     "data": {
      "text/html": [
       "<div>\n",
       "<style scoped>\n",
       "    .dataframe tbody tr th:only-of-type {\n",
       "        vertical-align: middle;\n",
       "    }\n",
       "\n",
       "    .dataframe tbody tr th {\n",
       "        vertical-align: top;\n",
       "    }\n",
       "\n",
       "    .dataframe thead th {\n",
       "        text-align: right;\n",
       "    }\n",
       "</style>\n",
       "<table border=\"1\" class=\"dataframe\">\n",
       "  <thead>\n",
       "    <tr style=\"text-align: right;\">\n",
       "      <th>col_0</th>\n",
       "      <th>0</th>\n",
       "      <th>1</th>\n",
       "      <th>3</th>\n",
       "    </tr>\n",
       "    <tr>\n",
       "      <th>row_0</th>\n",
       "      <th></th>\n",
       "      <th></th>\n",
       "      <th></th>\n",
       "    </tr>\n",
       "  </thead>\n",
       "  <tbody>\n",
       "    <tr>\n",
       "      <th>0</th>\n",
       "      <td>1</td>\n",
       "      <td>0</td>\n",
       "      <td>0</td>\n",
       "    </tr>\n",
       "    <tr>\n",
       "      <th>1</th>\n",
       "      <td>1</td>\n",
       "      <td>1</td>\n",
       "      <td>0</td>\n",
       "    </tr>\n",
       "    <tr>\n",
       "      <th>2</th>\n",
       "      <td>0</td>\n",
       "      <td>1</td>\n",
       "      <td>0</td>\n",
       "    </tr>\n",
       "    <tr>\n",
       "      <th>3</th>\n",
       "      <td>0</td>\n",
       "      <td>2</td>\n",
       "      <td>1</td>\n",
       "    </tr>\n",
       "  </tbody>\n",
       "</table>\n",
       "</div>"
      ],
      "text/plain": [
       "col_0  0  1  3\n",
       "row_0         \n",
       "0      1  0  0\n",
       "1      1  1  0\n",
       "2      0  1  0\n",
       "3      0  2  1"
      ]
     },
     "execution_count": 3,
     "metadata": {},
     "output_type": "execute_result"
    }
   ],
   "source": [
    "x = np.array([0, 1, 1, 2, 3, 3, 3])\n",
    "y = np.array([0, 0, 1, 1, 1, 1, 3])\n",
    "# get contingency table\n",
    "contingency = pd.crosstab(x, y)\n",
    "contingency"
   ]
  },
  {
   "cell_type": "markdown",
   "metadata": {},
   "source": [
    "## Task 1"
   ]
  },
  {
   "cell_type": "code",
   "execution_count": 4,
   "metadata": {},
   "outputs": [],
   "source": [
    "def mutual_info_score(x, y, bins=10):\n",
    "    contingency = pd.crosstab(x, y).values\n",
    "    contingency = contingency / np.sum(contingency)\n",
    "    current_sum = 0\n",
    "    for i in range(contingency.shape[0]):\n",
    "        for j in range(contingency.shape[1]):\n",
    "            if contingency[i, j] != 0:\n",
    "                current_sum += contingency[i, j] * np.log(\n",
    "                    contingency[i, j] / (np.sum(contingency[i, :]) * np.sum(contingency[:, j]))\n",
    "                )\n",
    "    return current_sum\n",
    "\n",
    "def conditional_mututal_info_score(x, y, z):\n",
    "\n",
    "    unique_z_values = np.unique(z)\n",
    "    prob_z_values = np.array([np.sum(z == z_value) for z_value in unique_z_values]) / len(z)\n",
    "    cmi_score = 0 \n",
    "\n",
    "    for i, z_value in enumerate(unique_z_values):\n",
    "        x_z = x[z == z_value]\n",
    "        y_z = y[z == z_value]\n",
    "        cmi_score += mutual_info_score(x_z, y_z) * prob_z_values[i]\n",
    "\n",
    "    return cmi_score"
   ]
  },
  {
   "cell_type": "markdown",
   "metadata": {},
   "source": [
    "### a)"
   ]
  },
  {
   "cell_type": "code",
   "execution_count": 5,
   "metadata": {},
   "outputs": [],
   "source": [
    "def asymptotic_conditional_independence_test(x, y, z): \n",
    "    cmi = conditional_mututal_info_score(x, y, z)\n",
    "    n = len(x)\n",
    "    stat_value = 2*n*cmi\n",
    "    df = (len(np.unique(x)) - 1)*(len(np.unique(y)) - 1)*len(np.unique(z))\n",
    "    p_value = 1 - chi2.cdf(stat_value, df=df)\n",
    "    return stat_value, p_value"
   ]
  },
  {
   "cell_type": "markdown",
   "metadata": {},
   "source": [
    "### b)"
   ]
  },
  {
   "cell_type": "code",
   "execution_count": 6,
   "metadata": {},
   "outputs": [],
   "source": [
    "def conditional_permute(x, z): \n",
    "    unique_z_values = np.unique(z)\n",
    "    x_copy = x.copy()\n",
    "    for z_value in unique_z_values: \n",
    "        x_copy[z == z_value] = np.random.permutation(x_copy[z == z_value])\n",
    "    return x_copy\n",
    "\n",
    "def permutation_conditional_independence_test(x, y, z, B=1000):\n",
    "    cmi = conditional_mututal_info_score(x, y, z)\n",
    "    n = len(x)\n",
    "    stat_value = 2*n*cmi\n",
    "    counter = 0\n",
    "    for _ in range(B): \n",
    "        x_b = conditional_permute(x, z)\n",
    "        cmi_b = conditional_mututal_info_score(x_b, y, z)\n",
    "        if cmi <= cmi_b: \n",
    "            counter += 1\n",
    "    p_value = (1 + counter) / (1 + B)\n",
    "    return stat_value, p_value"
   ]
  },
  {
   "cell_type": "markdown",
   "metadata": {},
   "source": [
    "### c)"
   ]
  },
  {
   "cell_type": "code",
   "execution_count": 7,
   "metadata": {},
   "outputs": [],
   "source": [
    "def discretize_pos_neg(vector):\n",
    "    res = np.ones(len(vector))\n",
    "    res[vector < 0] = -1\n",
    "    return res"
   ]
  },
  {
   "cell_type": "markdown",
   "metadata": {},
   "source": [
    "**conditionaly independent**"
   ]
  },
  {
   "cell_type": "code",
   "execution_count": 8,
   "metadata": {},
   "outputs": [],
   "source": [
    "n = 2000\n",
    "Z_tilde = np.random.uniform(-1, 1, n)\n",
    "Z = discretize_pos_neg(Z_tilde)\n",
    "X_tilde = np.random.normal(Z/2, 1, n)\n",
    "Y_tilde = np.random.normal(Z/2, 1, n)\n",
    "X = discretize_pos_neg(X_tilde)\n",
    "Y = discretize_pos_neg(Y_tilde)"
   ]
  },
  {
   "cell_type": "code",
   "execution_count": 9,
   "metadata": {},
   "outputs": [
    {
     "data": {
      "image/png": "[encoded data removed]",
      "text/plain": [
       "<Figure size 640x480 with 1 Axes>"
      ]
     },
     "metadata": {},
     "output_type": "display_data"
    }
   ],
   "source": [
    "X_noisy = X + np.random.normal(0, 0.1, n)\n",
    "Y_noisy = Y + np.random.normal(0, 0.1, n)\n",
    "sns.scatterplot(x=X_noisy, y=Y_noisy, alpha=0.9, s=5, hue=Z, palette=\"coolwarm\")\n",
    "plt.show()"
   ]
  },
  {
   "cell_type": "code",
   "execution_count": 10,
   "metadata": {},
   "outputs": [
    {
     "data": {
      "text/plain": [
       "Z     X     Y   \n",
       "-1.0  -1.0  -1.0    497\n",
       "             1.0    221\n",
       "       1.0  -1.0    196\n",
       "             1.0     87\n",
       " 1.0  -1.0  -1.0     90\n",
       "             1.0    199\n",
       "       1.0  -1.0    231\n",
       "             1.0    479\n",
       "dtype: int64"
      ]
     },
     "execution_count": 10,
     "metadata": {},
     "output_type": "execute_result"
    }
   ],
   "source": [
    "pd.DataFrame({\"X\": X, \"Y\": Y, \"Z\": Z}).groupby([\"Z\", \"X\", \"Y\"]).size()"
   ]
  },
  {
   "cell_type": "code",
   "execution_count": 11,
   "metadata": {},
   "outputs": [
    {
     "data": {
      "text/plain": [
       "(0.18359340046337924, 0.9122905991609609)"
      ]
     },
     "execution_count": 11,
     "metadata": {},
     "output_type": "execute_result"
    }
   ],
   "source": [
    "asymptotic_conditional_independence_test(X, Y, Z)"
   ]
  },
  {
   "cell_type": "code",
   "execution_count": 12,
   "metadata": {},
   "outputs": [
    {
     "data": {
      "text/plain": [
       "(0.18359340046337924, 0.913086913086913)"
      ]
     },
     "execution_count": 12,
     "metadata": {},
     "output_type": "execute_result"
    }
   ],
   "source": [
    "permutation_conditional_independence_test(X, Y, Z)"
   ]
  },
  {
   "cell_type": "markdown",
   "metadata": {},
   "source": [
    "**conditionaly dependent** (but independent unconditionally)"
   ]
  },
  {
   "cell_type": "code",
   "execution_count": 13,
   "metadata": {},
   "outputs": [],
   "source": [
    "X_tilde = np.random.uniform(-1, 1, n)\n",
    "Y_tilde = np.random.uniform(-1, 1, n)\n",
    "X = discretize_pos_neg(X_tilde)\n",
    "Y = discretize_pos_neg(Y_tilde)\n",
    "Z_tilde = np.random.normal(0, 1, n) + (X + Y)/2\n",
    "Z = discretize_pos_neg(Z_tilde)"
   ]
  },
  {
   "cell_type": "code",
   "execution_count": 14,
   "metadata": {},
   "outputs": [
    {
     "data": {
      "image/png": "[encoded data removed]",
      "text/plain": [
       "<Figure size 640x480 with 1 Axes>"
      ]
     },
     "metadata": {},
     "output_type": "display_data"
    }
   ],
   "source": [
    "X_noisy = X + np.random.normal(0, 0.1, n)\n",
    "Y_noisy = Y + np.random.normal(0, 0.1, n)\n",
    "sns.scatterplot(x=X_noisy, y=Y_noisy, alpha=0.9, s=5, hue=Z, palette=\"coolwarm\")\n",
    "plt.show()"
   ]
  },
  {
   "cell_type": "code",
   "execution_count": 15,
   "metadata": {},
   "outputs": [
    {
     "data": {
      "text/plain": [
       "Z     X     Y   \n",
       "-1.0  -1.0  -1.0    417\n",
       "             1.0    214\n",
       "       1.0  -1.0    273\n",
       "             1.0     81\n",
       " 1.0  -1.0  -1.0     86\n",
       "             1.0    245\n",
       "       1.0  -1.0    241\n",
       "             1.0    443\n",
       "dtype: int64"
      ]
     },
     "execution_count": 15,
     "metadata": {},
     "output_type": "execute_result"
    }
   ],
   "source": [
    "pd.DataFrame({\"X\": X, \"Y\": Y, \"Z\": Z}).groupby([\"Z\", \"X\", \"Y\"]).size()"
   ]
  },
  {
   "cell_type": "code",
   "execution_count": 16,
   "metadata": {},
   "outputs": [
    {
     "data": {
      "text/plain": [
       "(22.426069254981222, 1.3497114616289885e-05)"
      ]
     },
     "execution_count": 16,
     "metadata": {},
     "output_type": "execute_result"
    }
   ],
   "source": [
    "asymptotic_conditional_independence_test(X, Y, Z)"
   ]
  },
  {
   "cell_type": "code",
   "execution_count": 17,
   "metadata": {},
   "outputs": [
    {
     "data": {
      "text/plain": [
       "(22.426069254981222, 0.000999000999000999)"
      ]
     },
     "execution_count": 17,
     "metadata": {},
     "output_type": "execute_result"
    }
   ],
   "source": [
    "permutation_conditional_independence_test(X, Y, Z)"
   ]
  },
  {
   "cell_type": "code",
   "execution_count": 18,
   "metadata": {},
   "outputs": [
    {
     "data": {
      "text/plain": [
       "(1.5314890328583728, 0.21588910496340918)"
      ]
     },
     "execution_count": 18,
     "metadata": {},
     "output_type": "execute_result"
    }
   ],
   "source": [
    "indep_test_asymptotic(X, Y, \"mi\")"
   ]
  },
  {
   "cell_type": "code",
   "execution_count": 19,
   "metadata": {},
   "outputs": [
    {
     "data": {
      "text/plain": [
       "(1.4224832017636522, 0.23299511233041315)"
      ]
     },
     "execution_count": 19,
     "metadata": {},
     "output_type": "execute_result"
    }
   ],
   "source": [
    "indep_test_asymptotic(X, Y, \"chi2\")"
   ]
  },
  {
   "cell_type": "markdown",
   "metadata": {},
   "source": [
    "## Task 2"
   ]
  },
  {
   "cell_type": "code",
   "execution_count": 20,
   "metadata": {},
   "outputs": [],
   "source": [
    "def discretize_pos_neg(vector):\n",
    "    res = np.ones(len(vector))\n",
    "    res[vector < 0] = -1\n",
    "    return res\n",
    "\n",
    "def sample_from_model1(n):\n",
    "    Z_tilde = np.random.normal(0, 1, n)\n",
    "    Z = discretize_pos_neg(Z_tilde)\n",
    "    X_tilde = np.random.normal(Z/2, 1, n)\n",
    "    Y_tilde = np.random.normal(Z/2, 1, n)\n",
    "    X = discretize_pos_neg(X_tilde)\n",
    "    Y = discretize_pos_neg(Y_tilde)\n",
    "    return X, Y, Z\n",
    "\n",
    "def sample_from_model2(n):\n",
    "    X_tilde = np.random.normal(0, 1, n)\n",
    "    X = discretize_pos_neg(X_tilde)\n",
    "    Z_tilde = np.random.normal(0, 1, n) + X/2\n",
    "    Z = discretize_pos_neg(Z_tilde)\n",
    "    Y_tilde = np.random.normal(0, 1, n) + Z/2\n",
    "    Y = discretize_pos_neg(Y_tilde)\n",
    "    return X, Y, Z\n",
    "\n",
    "def sample_from_model3(n):\n",
    "    X_tilde = np.random.normal(0, 1, n)\n",
    "    Y_tilde = np.random.normal(0, 1, n)\n",
    "    X = discretize_pos_neg(X_tilde)\n",
    "    Y = discretize_pos_neg(Y_tilde)\n",
    "    Z_tilde = np.random.normal(0, 1, n) + (X + Y)/2\n",
    "    Z = discretize_pos_neg(Z_tilde)\n",
    "    return X, Y, Z"
   ]
  },
  {
   "cell_type": "markdown",
   "metadata": {},
   "source": [
    "### a)"
   ]
  },
  {
   "cell_type": "markdown",
   "metadata": {},
   "source": [
    "answer:\n",
    "\n",
    "- model 1 - dependent unconditionally, independent conditionaly on Z \n",
    "- model 2 - dependent unconditionally, independent conditionaly on Z\n",
    "- model 3 - independent unconditionally, dependent conditionaly on Z"
   ]
  },
  {
   "cell_type": "markdown",
   "metadata": {},
   "source": [
    "### b)"
   ]
  },
  {
   "cell_type": "code",
   "execution_count": 21,
   "metadata": {},
   "outputs": [
    {
     "data": {
      "text/plain": [
       "(0.005320831965835462, 0.00060002073097211)"
      ]
     },
     "execution_count": 21,
     "metadata": {},
     "output_type": "execute_result"
    }
   ],
   "source": [
    "X_1, Y_1, Z_1 = sample_from_model1(1000)\n",
    "mutual_info_score(X_1, Y_1), conditional_mututal_info_score(X_1, Y_1, Z_1)"
   ]
  },
  {
   "cell_type": "code",
   "execution_count": 22,
   "metadata": {},
   "outputs": [
    {
     "data": {
      "text/plain": [
       "(0.01396343351693799, 6.383568680869469e-05)"
      ]
     },
     "execution_count": 22,
     "metadata": {},
     "output_type": "execute_result"
    }
   ],
   "source": [
    "X_2, Y_2, Z_2 = sample_from_model2(1000)\n",
    "mutual_info_score(X_2, Y_2), conditional_mututal_info_score(X_2, Y_2, Z_2)"
   ]
  },
  {
   "cell_type": "code",
   "execution_count": 23,
   "metadata": {},
   "outputs": [
    {
     "data": {
      "text/plain": [
       "(4.24099092224072e-09, 0.0147712073109686)"
      ]
     },
     "execution_count": 23,
     "metadata": {},
     "output_type": "execute_result"
    }
   ],
   "source": [
    "X_3, Y_3, Z_3 = sample_from_model3(1000)\n",
    "mutual_info_score(X_3, Y_3), conditional_mututal_info_score(X_3, Y_3, Z_3)"
   ]
  },
  {
   "cell_type": "markdown",
   "metadata": {},
   "source": [
    "### c)"
   ]
  },
  {
   "cell_type": "code",
   "execution_count": 24,
   "metadata": {},
   "outputs": [
    {
     "data": {
      "text/plain": [
       "(1.2000414619442201, 0.5488002588132364)"
      ]
     },
     "execution_count": 24,
     "metadata": {},
     "output_type": "execute_result"
    }
   ],
   "source": [
    "asymptotic_conditional_independence_test(X_1, Y_1, Z_1)"
   ]
  },
  {
   "cell_type": "code",
   "execution_count": 25,
   "metadata": {},
   "outputs": [
    {
     "data": {
      "text/plain": [
       "(1.2000414619442201, 0.5084915084915085)"
      ]
     },
     "execution_count": 25,
     "metadata": {},
     "output_type": "execute_result"
    }
   ],
   "source": [
    "permutation_conditional_independence_test(X_1, Y_1, Z_1)"
   ]
  },
  {
   "cell_type": "markdown",
   "metadata": {},
   "source": [
    "Both tests lead to the same conclusion. Assuming the level of significance is 0.05, we cannot reject the null hypothesis that the X is conditionaly independent of Y given Z (in model 1)."
   ]
  },
  {
   "cell_type": "code",
   "execution_count": 26,
   "metadata": {},
   "outputs": [
    {
     "data": {
      "text/plain": [
       "(0.12767137361738937, 0.9381591387888727)"
      ]
     },
     "execution_count": 26,
     "metadata": {},
     "output_type": "execute_result"
    }
   ],
   "source": [
    "asymptotic_conditional_independence_test(X_2, Y_2, Z_2)"
   ]
  },
  {
   "cell_type": "code",
   "execution_count": 27,
   "metadata": {},
   "outputs": [
    {
     "data": {
      "text/plain": [
       "(0.12767137361738937, 0.938061938061938)"
      ]
     },
     "execution_count": 27,
     "metadata": {},
     "output_type": "execute_result"
    }
   ],
   "source": [
    "permutation_conditional_independence_test(X_2, Y_2, Z_2)"
   ]
  },
  {
   "cell_type": "markdown",
   "metadata": {},
   "source": [
    "Both tests lead to the same conclusion. Assuming the level of significance is 0.05, we cannot reject the null hypothesis that the X is conditionaly independent of Y given Z (in model 2)."
   ]
  },
  {
   "cell_type": "code",
   "execution_count": 28,
   "metadata": {},
   "outputs": [
    {
     "data": {
      "text/plain": [
       "(29.542414621937198, 3.845441188810028e-07)"
      ]
     },
     "execution_count": 28,
     "metadata": {},
     "output_type": "execute_result"
    }
   ],
   "source": [
    "asymptotic_conditional_independence_test(X_3, Y_3, Z_3)"
   ]
  },
  {
   "cell_type": "code",
   "execution_count": 29,
   "metadata": {},
   "outputs": [
    {
     "data": {
      "text/plain": [
       "(29.542414621937198, 0.000999000999000999)"
      ]
     },
     "execution_count": 29,
     "metadata": {},
     "output_type": "execute_result"
    }
   ],
   "source": [
    "permutation_conditional_independence_test(X_3, Y_3, Z_3)"
   ]
  },
  {
   "cell_type": "markdown",
   "metadata": {},
   "source": [
    "Both tests lead to the same conclusion. Assuming the level of significance is 0.05, we can say that X is conditionaly dependent of Y given Z (in model 3). "
   ]
  }
 ],
 "metadata": {
  "kernelspec": {
   "display_name": "dydaktyka",
   "language": "python",
   "name": "python3"
  },
  "language_info": {
   "codemirror_mode": {
    "name": "ipython",
    "version": 3
   },
   "file_extension": ".py",
   "mimetype": "text/x-python",
   "name": "python",
   "nbconvert_exporter": "python",
   "pygments_lexer": "ipython3",
   "version": "3.10.5"
  }
 },
 "nbformat": 4,
 "nbformat_minor": 2
}
