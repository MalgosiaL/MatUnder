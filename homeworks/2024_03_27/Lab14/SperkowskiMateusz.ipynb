{
 "cells": [
  {
   "cell_type": "code",
   "execution_count": 8,
   "metadata": {
    "ExecuteTime": {
     "end_time": "2024-04-03T10:48:01.735619Z",
     "start_time": "2024-04-03T10:48:01.721583Z"
    }
   },
   "outputs": [],
   "source": [
    "from sklearn.metrics import mutual_info_score\n",
    "#from sklearn.feature_selection import chi2\n",
    "from scipy.stats import chi2_contingency\n",
    "from scipy.stats import chi2\n",
    "import numpy as np\n",
    "import matplotlib.pyplot as plt\n",
    "from scipy.stats import gaussian_kde, pearsonr\n",
    "import seaborn as sns\n",
    "import pandas as pd\n",
    "rng = np.random.default_rng()"
   ]
  },
  {
   "cell_type": "markdown",
   "metadata": {},
   "source": [
    "# Mathematical Underpinnings - Lab 4"
   ]
  },
  {
   "cell_type": "markdown",
   "metadata": {},
   "source": [
    "Tests to verify hipoteses of independence (from Lab 4):"
   ]
  },
  {
   "cell_type": "code",
   "execution_count": 9,
   "metadata": {
    "ExecuteTime": {
     "end_time": "2024-04-03T10:48:01.798757Z",
     "start_time": "2024-04-03T10:48:01.782794Z"
    }
   },
   "outputs": [],
   "source": [
    "def indep_test_asymptotic(X, Y, stat):\n",
    "\n",
    "    if stat == \"mi\":\n",
    "\n",
    "        stat_value = 2*len(X)*mutual_info_score(X, Y)\n",
    "\n",
    "    if stat == \"chi2\":\n",
    "\n",
    "        test_res = (chi2_contingency(pd.crosstab(X, Y)))\n",
    "        stat_value = test_res.statistic\n",
    "\n",
    "    df = (len(np.unique(X)) - 1)*(len(np.unique(Y)) - 1)\n",
    "\n",
    "    p_value = 1 - chi2.cdf(stat_value, df=df)\n",
    "\n",
    "    return stat_value, p_value\n",
    "\n",
    "def indep_test_permutation(X, Y, B, stat=\"mi\"):\n",
    "\n",
    "    stat_value = mutual_info_score(X, Y)\n",
    "\n",
    "    condition_p_value = 0\n",
    "    for b in range(B):\n",
    "        X_b = np.random.permutation(X)\n",
    "\n",
    "        stat_value_b = mutual_info_score(X_b, Y)\n",
    "\n",
    "        if stat_value <= stat_value_b:\n",
    "            condition_p_value += 1\n",
    "\n",
    "    p_value = (1 + condition_p_value)/(1 + B)\n",
    "\n",
    "    return 2*len(X)*stat_value, p_value"
   ]
  },
  {
   "cell_type": "markdown",
   "metadata": {},
   "source": [
    "## Task 1"
   ]
  },
  {
   "cell_type": "code",
   "execution_count": 10,
   "metadata": {
    "ExecuteTime": {
     "end_time": "2024-04-03T10:48:01.814787Z",
     "start_time": "2024-04-03T10:48:01.800755Z"
    }
   },
   "outputs": [],
   "source": [
    "# a function which computes CMI\n",
    "def CMI(X, Y, Z):\n",
    "    results = []\n",
    "    for z in np.unique(Z):\n",
    "        indx = np.where(Z == z)[0]\n",
    "        prob_z = len(indx)/len(Z)\n",
    "        results.append(mutual_info_score(X[indx], Y[indx])*prob_z)\n",
    "    return np.sum(results)"
   ]
  },
  {
   "cell_type": "markdown",
   "metadata": {},
   "source": [
    "### a)"
   ]
  },
  {
   "cell_type": "code",
   "execution_count": 11,
   "metadata": {
    "ExecuteTime": {
     "end_time": "2024-04-03T10:48:01.830791Z",
     "start_time": "2024-04-03T10:48:01.815754Z"
    }
   },
   "outputs": [],
   "source": [
    "# CI test based on CMI and asymptotics\n",
    "def ACI(X, Y, Z):\n",
    "    cmi = CMI(X, Y, Z)\n",
    "    stat = 2*len(X)*cmi\n",
    "    df = (len(np.unique(X))-1)*(len(np.unique(Y))-1)*len(np.unique(Z))\n",
    "    return stat, 1-chi2.cdf(stat, df=df)"
   ]
  },
  {
   "cell_type": "markdown",
   "metadata": {},
   "source": [
    "### b)"
   ]
  },
  {
   "cell_type": "code",
   "execution_count": 12,
   "metadata": {
    "ExecuteTime": {
     "end_time": "2024-04-03T10:48:01.846792Z",
     "start_time": "2024-04-03T10:48:01.831754Z"
    }
   },
   "outputs": [],
   "source": [
    "# CI test based on CMI and permutations\n",
    "def CPT(X, Y, Z, B=1000):\n",
    "    cmi = CMI(X, Y, Z)\n",
    "    results = []\n",
    "    for i in range(B):\n",
    "        Xs = []\n",
    "        for z in np.unique(Z):\n",
    "            indx = np.where(Z == z)[0]\n",
    "            Xs.append(rng.permutation(X[indx]))\n",
    "        X_perm = np.concatenate(Xs)\n",
    "        cmi_perm = CMI(X_perm, Y, Z)\n",
    "        results.append(cmi<=cmi_perm)\n",
    "    p_value = (1+np.sum(results))/(1+B)\n",
    "    return cmi, p_value"
   ]
  },
  {
   "cell_type": "markdown",
   "metadata": {},
   "source": [
    "### c)"
   ]
  },
  {
   "cell_type": "markdown",
   "metadata": {},
   "source": [
    "conditionaly independent"
   ]
  },
  {
   "cell_type": "code",
   "execution_count": 20,
   "metadata": {
    "ExecuteTime": {
     "end_time": "2024-04-03T10:50:24.785632Z",
     "start_time": "2024-04-03T10:50:20.758290Z"
    }
   },
   "outputs": [
    {
     "name": "stdout",
     "output_type": "stream",
     "text": [
      "(2.4276046040200416, 0.2970655961791202)\n",
      "(0.00012138023020100208, 0.3156843156843157)\n"
     ]
    }
   ],
   "source": [
    "N = 10000\n",
    "\n",
    "Z = rng.binomial(1, 0.5, N)\n",
    "X = np.where((rng.normal(0, 1, N) + Z/2)>=0, 1, -1)\n",
    "Y = np.where((rng.normal(0, 1, N) - Z/2)>=0, 1, -1)\n",
    "\n",
    "print(ACI(X, Y, Z))\n",
    "print(CPT(X, Y, Z))"
   ]
  },
  {
   "cell_type": "markdown",
   "metadata": {},
   "source": [
    "conditionaly dependent"
   ]
  },
  {
   "cell_type": "code",
   "execution_count": 21,
   "metadata": {
    "ExecuteTime": {
     "end_time": "2024-04-03T10:50:28.053978Z",
     "start_time": "2024-04-03T10:50:24.787543Z"
    }
   },
   "outputs": [
    {
     "name": "stdout",
     "output_type": "stream",
     "text": [
      "(13862.889364156525, 0.0)\n",
      "(0.6931444682078263, 0.000999000999000999)\n"
     ]
    }
   ],
   "source": [
    "X = np.where(rng.normal(0, 1, N)>=0, 1, 0)\n",
    "Z = np.where(rng.normal(0, 1, N)>=0, 1, 0)\n",
    "\n",
    "Y = np.logical_xor(X, Z).astype(int)\n",
    "\n",
    "print(ACI(X, Y, Z))\n",
    "print(CPT(X, Y, Z))"
   ]
  },
  {
   "cell_type": "markdown",
   "metadata": {},
   "source": [
    "## Task 2"
   ]
  },
  {
   "cell_type": "code",
   "execution_count": 22,
   "metadata": {
    "ExecuteTime": {
     "end_time": "2024-04-03T10:53:07.180024Z",
     "start_time": "2024-04-03T10:53:07.168011Z"
    }
   },
   "outputs": [],
   "source": [
    "def discretize(data):\n",
    "    data[data>0] = 1\n",
    "    data[data<0] = -1\n",
    "    return data\n",
    "\n",
    "def sample_from_model1(n=1000):\n",
    "    Z = discretize(rng.normal(loc=0, scale=1, size=n))\n",
    "    X = discretize(rng.normal(loc=Z/2, scale=1, size = n))\n",
    "    Y = discretize(rng.normal(loc=Z/2, scale=1, size=n))\n",
    "    return X, Y, Z\n",
    "\n",
    "def sample_from_model2(n=1000):\n",
    "    X = discretize(rng.normal(loc=0, scale=1, size = n))\n",
    "    Z = discretize(rng.normal(loc=X/2, scale=1, size=n))\n",
    "    Y = discretize(rng.normal(loc=Z/2, scale=1, size=n))\n",
    "    return X, Y, Z\n",
    "\n",
    "def sample_from_model3(n=1000):\n",
    "    X = discretize(rng.normal(loc=0, scale=1, size = n))\n",
    "    Y = discretize(rng.normal(loc=0, scale=1, size=n))\n",
    "    Z = discretize(rng.normal(loc=(X+Y)/2, scale=1, size=n))\n",
    "    return X, Y, Z"
   ]
  },
  {
   "cell_type": "markdown",
   "metadata": {},
   "source": [
    "### a)"
   ]
  },
  {
   "cell_type": "markdown",
   "metadata": {},
   "source": [
    "    answer:\n",
    "    conditionally independent by Z, dependent\n",
    "    conditionally independent by Z, dependent\n",
    "    conditionally dependent by Z, independent"
   ]
  },
  {
   "cell_type": "markdown",
   "metadata": {},
   "source": [
    "### b)"
   ]
  },
  {
   "cell_type": "code",
   "execution_count": 24,
   "metadata": {
    "ExecuteTime": {
     "end_time": "2024-04-03T10:56:07.601102Z",
     "start_time": "2024-04-03T10:56:07.575399Z"
    }
   },
   "outputs": [
    {
     "name": "stdout",
     "output_type": "stream",
     "text": [
      "M1 MI(X, Y)= 0.01217103182580026\n",
      "M2 MI(X, Y)= 0.013161847159061435\n",
      "M3 MI(X, Y)= 1.8097470140754357e-05\n",
      "M1 CMI(X, Y|Z)= 0.0006968093630406963\n",
      "M2 CMI(X, Y|Z)= 0.0008915689687091646\n",
      "M3 CMI(X, Y|Z)= 0.01031234541755329\n"
     ]
    }
   ],
   "source": [
    "X1, Y1, Z1 = sample_from_model1()\n",
    "X2, Y2, Z2 = sample_from_model2()\n",
    "X3, Y3, Z3 = sample_from_model3()\n",
    "\n",
    "\n",
    "print(\"M1 MI(X, Y)=\", mutual_info_score(X1, Y1))\n",
    "print(\"M2 MI(X, Y)=\", mutual_info_score(X2, Y2))\n",
    "print(\"M3 MI(X, Y)=\", mutual_info_score(X3, Y3))\n",
    "\n",
    "print(\"M1 CMI(X, Y|Z)=\", CMI(X1, Y1, Z1))\n",
    "print(\"M2 CMI(X, Y|Z)=\", CMI(X2, Y2, Z2))\n",
    "print(\"M3 CMI(X, Y|Z)=\", CMI(X3, Y3, Z3))"
   ]
  },
  {
   "cell_type": "markdown",
   "metadata": {},
   "source": [
    "### c)"
   ]
  },
  {
   "cell_type": "code",
   "execution_count": 25,
   "metadata": {
    "ExecuteTime": {
     "end_time": "2024-04-03T10:56:43.160825Z",
     "start_time": "2024-04-03T10:56:36.322181Z"
    }
   },
   "outputs": [
    {
     "name": "stdout",
     "output_type": "stream",
     "text": [
      "M1 permutation  (0.0006968093630406963, 0.4645354645354645)\n",
      "M2 permutation  (0.0008915689687091646, 0.38461538461538464)\n",
      "M3 permutation  (0.01031234541755329, 0.000999000999000999)\n",
      "M1 asymptotic  (1.3936187260813926, 0.4981722575655283)\n",
      "M2 asymptotic  (1.7831379374183292, 0.41001195190979545)\n",
      "M3 asymptotic  (20.624690835106577, 3.322043306619449e-05)\n"
     ]
    }
   ],
   "source": [
    "print(\"M1 permutation \", CPT(X1, Y1, Z1, 1000))\n",
    "print(\"M2 permutation \", CPT(X2, Y2, Z2, 1000))\n",
    "print(\"M3 permutation \", CPT(X3, Y3, Z3, 1000))\n",
    "\n",
    "# asymptotic test for CMI\n",
    "print(\"M1 asymptotic \", ACI(X1, Y1, Z1))\n",
    "print(\"M2 asymptotic \", ACI(X2, Y2, Z2))\n",
    "print(\"M3 asymptotic \", ACI(X3, Y3, Z3))"
   ]
  },
  {
   "cell_type": "code",
   "outputs": [],
   "source": [],
   "metadata": {
    "collapsed": false
   },
   "execution_count": null
  }
 ],
 "metadata": {
  "kernelspec": {
   "display_name": "dydaktyka",
   "language": "python",
   "name": "python3"
  },
  "language_info": {
   "codemirror_mode": {
    "name": "ipython",
    "version": 3
   },
   "file_extension": ".py",
   "mimetype": "text/x-python",
   "name": "python",
   "nbconvert_exporter": "python",
   "pygments_lexer": "ipython3",
   "version": "3.9.16"
  }
 },
 "nbformat": 4,
 "nbformat_minor": 2
}
