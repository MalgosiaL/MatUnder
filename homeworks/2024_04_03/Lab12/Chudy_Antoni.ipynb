{
 "cells": [
  {
   "cell_type": "code",
   "execution_count": null,
   "metadata": {},
   "outputs": [],
   "source": []
  },
  {
   "cell_type": "markdown",
   "metadata": {},
   "source": [
    "# Mathematical Underpinnings - Lab 6"
   ]
  },
  {
   "cell_type": "code",
   "execution_count": 1,
   "metadata": {},
   "outputs": [],
   "source": [
    "from sklearn.metrics import mutual_info_score\n",
    "import numpy as np\n",
    "import matplotlib.pyplot as plt\n",
    "import seaborn as sns\n",
    "import pandas as pd\n",
    "from tqdm import tqdm"
   ]
  },
  {
   "cell_type": "markdown",
   "metadata": {},
   "source": [
    "## Useful functions"
   ]
  },
  {
   "cell_type": "code",
   "execution_count": 2,
   "metadata": {},
   "outputs": [],
   "source": [
    "def discetize_2bins(X):\n",
    "    X_discrete = 1*(X >= 0)\n",
    "    return X_discrete"
   ]
  },
  {
   "cell_type": "code",
   "execution_count": 3,
   "metadata": {},
   "outputs": [],
   "source": [
    "def conditional_permutation(X, Z):\n",
    "\n",
    "    z_values = np.unique(Z)\n",
    "    n_z_values = len(z_values)\n",
    "    n = len(Z)\n",
    "\n",
    "    X_b = np.zeros(n)\n",
    "\n",
    "    for i in range(n_z_values):\n",
    "\n",
    "        z_value_tmp = z_values[i]\n",
    "\n",
    "        X_b[Z == z_value_tmp] = np.random.permutation(X[Z == z_value_tmp])\n",
    "\n",
    "    return X_b"
   ]
  },
  {
   "cell_type": "code",
   "execution_count": 4,
   "metadata": {},
   "outputs": [],
   "source": [
    "def conditional_mutual_information(X, Y, Z):\n",
    "\n",
    "    z_values = np.unique(Z)\n",
    "    n_z_values = len(z_values)\n",
    "    n = len(Z)\n",
    "\n",
    "    cmi = 0\n",
    "\n",
    "    for i in range(n_z_values):\n",
    "\n",
    "        z_value_tmp = z_values[i]\n",
    "        z_condition = (Z == z_value_tmp)\n",
    "\n",
    "        X_z = X[z_condition]\n",
    "        Y_z = Y[z_condition]\n",
    "\n",
    "        mi_XY_z = mutual_info_score(X_z, Y_z)\n",
    "        p_z = np.sum(z_condition)/n\n",
    "\n",
    "        cmi += p_z*mi_XY_z\n",
    "\n",
    "    return cmi"
   ]
  },
  {
   "cell_type": "code",
   "execution_count": 5,
   "metadata": {},
   "outputs": [],
   "source": [
    "# II(X;Y;Z)\n",
    "def interaction_information(X, Y, Z):\n",
    "    return conditional_mutual_information(X, Y, Z) - mutual_info_score(X, Y)"
   ]
  },
  {
   "cell_type": "code",
   "execution_count": 6,
   "metadata": {},
   "outputs": [],
   "source": [
    "# II(X;Y;Z1;Z2)\n",
    "def interaction_information2(X, Y, Z1, Z2):\n",
    "    Z_1_and_2 = 2*Z2 + Z1\n",
    "    return interaction_information(X, Y, Z_1_and_2) - interaction_information(X, Y, Z1) - interaction_information(X, Y, Z2)"
   ]
  },
  {
   "cell_type": "markdown",
   "metadata": {},
   "source": [
    "## Task 1"
   ]
  },
  {
   "cell_type": "code",
   "execution_count": 7,
   "metadata": {},
   "outputs": [],
   "source": [
    "def secmi2(X, Y, Z):\n",
    "    tmp = mutual_info_score(X,Y)\n",
    "    for i in range(Z.shape[1]):\n",
    "        tmp += interaction_information(X, Y, Z[:, i])\n",
    "    return tmp\n",
    "def secmi3(X, Y, Z):\n",
    "    tmp3 = secmi2(X, Y, Z)\n",
    "    for i in range(Z.shape[1]):\n",
    "        for j in range(i + 1, Z.shape[1]):\n",
    "            tmp3 += interaction_information2(X, Y, Z[:,i], Z[:,j])\n",
    "    return tmp3"
   ]
  },
  {
   "cell_type": "markdown",
   "metadata": {},
   "source": [
    "### a)"
   ]
  },
  {
   "cell_type": "code",
   "execution_count": 8,
   "metadata": {},
   "outputs": [],
   "source": [
    "def cond_indep_test_permutation(X, Y, Z, B, stat):\n",
    "\n",
    "    n_col_Z = Z.shape[1]\n",
    "    Z_1dim = np.dot(Z, 2**np.linspace(0, n_col_Z-1, n_col_Z))\n",
    "\n",
    "    if stat == \"cmi\":\n",
    "        stat_value = conditional_mutual_information(X, Y, Z_1dim)\n",
    "    if stat == \"secmi2\":\n",
    "        stat_value = secmi2(X, Y, Z)\n",
    "    if stat == \"secmi3\":\n",
    "        stat_value = secmi3(X, Y, Z)\n",
    "\n",
    "    condition_p_value = 0\n",
    "    for b in range(B):\n",
    "        X_b = conditional_permutation(X, Z_1dim)\n",
    "\n",
    "        if stat == \"cmi\":\n",
    "            stat_value_b = conditional_mutual_information(X_b, Y, Z_1dim)\n",
    "        if stat == \"secmi2\":\n",
    "            stat_value_b = secmi2(X_b, Y, Z)\n",
    "        if stat == \"secmi3\":\n",
    "            stat_value_b = secmi3(X_b, Y, Z)\n",
    "\n",
    "        if stat_value <= stat_value_b:\n",
    "            condition_p_value += 1\n",
    "\n",
    "    p_value = (1 + condition_p_value)/(1 + B)\n",
    "\n",
    "    return 2*len(X)*stat_value, p_value"
   ]
  },
  {
   "cell_type": "markdown",
   "metadata": {},
   "source": [
    "### b)"
   ]
  },
  {
   "cell_type": "code",
   "execution_count": 9,
   "metadata": {},
   "outputs": [],
   "source": [
    "def sample_from_model1(n = 100):\n",
    "    Y = 2*(np.random.randn(n) > 0) - 1\n",
    "    Z1 = 2*(Y/2 + np.random.randn(n) > 0) - 1\n",
    "    Z2 = 2*(Y/2 + np.random.randn(n) > 0) - 1\n",
    "    Z3 = 2*(Y/2 + np.random.randn(n) > 0) - 1\n",
    "    X = 2*(Z1/2 + np.random.randn(n) > 0) - 1\n",
    "    return X,Y, np.stack((Z1,Z2,Z3), axis = -1)"
   ]
  },
  {
   "cell_type": "code",
   "execution_count": 10,
   "metadata": {},
   "outputs": [
    {
     "name": "stdout",
     "output_type": "stream",
     "text": [
      "Test 1 CMI: 0.02\n",
      "Test 1 secmi2: 0.05\n",
      "Test 1 secmi3: 0.03\n"
     ]
    }
   ],
   "source": [
    "n_tests = 100\n",
    "alpha = 5/100\n",
    "cmi_test = 0\n",
    "secmi2_test = 0\n",
    "secmi3_test = 0\n",
    "\n",
    "for n in range(n_tests):\n",
    "    X,Y,Z = sample_from_model1(n = 500)\n",
    "    cmi_test += cond_indep_test_permutation(X,Y,Z[:,0:2], B = 50,stat=\"cmi\")[1] <= alpha\n",
    "    secmi2_test += cond_indep_test_permutation(X,Y,Z[:,0:2], B = 50,stat=\"secmi2\")[1] <= alpha\n",
    "    secmi3_test += cond_indep_test_permutation(X,Y,Z[:,0:2], B = 50,stat=\"secmi3\")[1] <= alpha\n",
    "print(\"Test 1 CMI: \" + str(cmi_test/n_tests))\n",
    "print(\"Test 1 secmi2: \" + str(secmi2_test/n_tests))\n",
    "print(\"Test 1 secmi3: \" + str(secmi3_test/n_tests))"
   ]
  },
  {
   "cell_type": "code",
   "execution_count": 11,
   "metadata": {},
   "outputs": [
    {
     "name": "stdout",
     "output_type": "stream",
     "text": [
      "Test 2 CMI: 0.63\n",
      "Test 2 secmi2: 0.62\n",
      "Test 2 secmi3: 0.57\n"
     ]
    }
   ],
   "source": [
    "cmi_test = 0\n",
    "secmi2_test = 0\n",
    "secmi3_test = 0\n",
    "\n",
    "for n in range(n_tests):\n",
    "    X,Y,Z = sample_from_model1(n = 500)\n",
    "    cmi_test += cond_indep_test_permutation(X,Y,Z[:,1:3], B = 50,stat=\"cmi\")[1] <= alpha\n",
    "    secmi2_test += cond_indep_test_permutation(X,Y,Z[:,1:3], B = 50,stat=\"secmi2\")[1] <= alpha\n",
    "    secmi3_test += cond_indep_test_permutation(X,Y,Z[:,1:3], B = 50,stat=\"secmi3\")[1] <= alpha\n",
    "print(\"Test 2 CMI: \" + str(cmi_test/n_tests))\n",
    "print(\"Test 2 secmi2: \" + str(secmi2_test/n_tests))\n",
    "print(\"Test 2 secmi3: \" + str(secmi3_test/n_tests))"
   ]
  },
  {
   "cell_type": "markdown",
   "metadata": {},
   "source": [
    "### c)"
   ]
  },
  {
   "cell_type": "code",
   "execution_count": 12,
   "metadata": {},
   "outputs": [],
   "source": [
    "def sample_from_model2(n = 100):\n",
    "    X = 2*np.random.randint(0,2,n) -1\n",
    "    Z1 = 2*np.random.randint(0,2,n) -1\n",
    "    Z2 = 2*np.random.randint(0,2,n) -1\n",
    "    Z3 = 2*np.random.randint(0,2,n) -1\n",
    "    p = 0.2 * np.ones(n)\n",
    "    p[X + Z1 + Z2 % 2 == 1] = 0.8\n",
    "    Y = 2*np.random.binomial(1, p) -1\n",
    "    return X,Y,np.stack((Z1,Z2,Z3), axis = -1)"
   ]
  },
  {
   "cell_type": "markdown",
   "metadata": {},
   "source": [
    "## Task 2\n",
    " \n",
    "in R"
   ]
  }
 ],
 "metadata": {
  "kernelspec": {
   "display_name": "Python 3 (ipykernel)",
   "language": "python",
   "name": "python3"
  },
  "language_info": {
   "codemirror_mode": {
    "name": "ipython",
    "version": 3
   },
   "file_extension": ".py",
   "mimetype": "text/x-python",
   "name": "python",
   "nbconvert_exporter": "python",
   "pygments_lexer": "ipython3",
   "version": "3.9.12"
  }
 },
 "nbformat": 4,
 "nbformat_minor": 2
}
