{
 "cells": [
  {
   "cell_type": "code",
   "execution_count": null,
   "metadata": {},
   "outputs": [],
   "source": [
    "import tensorflow as tf\n",
    "import keras\n",
    "import numpy as np\n",
    "import matplotlib.pyplot as plt\n",
    "\n",
    "from keras.layers import Input, Dense, Lambda, InputLayer, concatenate\n",
    "from keras.models import Model, Sequential\n",
    "from keras import backend as K\n",
    "from keras import metrics\n",
    "from keras.datasets import mnist\n",
    "from keras.utils import to_categorical\n",
    "\n",
    "from sklearn.model_selection import train_test_split"
   ]
  },
  {
   "cell_type": "markdown",
   "metadata": {},
   "source": [
    "# Mathematical Underpinnings - Lab 7\n",
    "\n",
    "## Task 2\n",
    "\n",
    "### a)"
   ]
  },
  {
   "cell_type": "code",
   "execution_count": null,
   "metadata": {},
   "outputs": [],
   "source": [
    "from scipy.stats import beta\n",
    "from scipy import stats"
   ]
  },
  {
   "cell_type": "code",
   "execution_count": null,
   "metadata": {},
   "outputs": [],
   "source": [
    "a = 2\n",
    "b = 5"
   ]
  },
  {
   "cell_type": "code",
   "execution_count": null,
   "metadata": {},
   "outputs": [],
   "source": [
    "def p_beta_d5(x, a, b):\n",
    "    mix1 = [beta.pdf(x[:,i], a, b) for i in range(5)]\n",
    "    mix2 = [beta.pdf(x[:,i], b, a) for i in range(5)]\n",
    "    p_mix = np.prod(np.array(mix1), axis=0)/2 + np.prod(np.array(mix2), axis=0)/2\n",
    "    return p_mix"
   ]
  },
  {
   "cell_type": "code",
   "execution_count": null,
   "metadata": {},
   "outputs": [],
   "source": [
    "x_help = np.meshgrid(np.linspace(1e-5, 1-1e-5, 100), np.linspace(1e-5, 1-1e-5, 100)) \n",
    "x_grid = np.array([x_help[0].flatten(), x_help[1].flatten(), 1/2*np.ones(100*100), 1/2*np.ones(100*100), 1/2*np.ones(100*100)]).T"
   ]
  },
  {
   "cell_type": "code",
   "execution_count": null,
   "metadata": {},
   "outputs": [],
   "source": [
    "p_grid = p_beta_d5(x_grid, a, b)"
   ]
  },
  {
   "cell_type": "code",
   "execution_count": null,
   "metadata": {},
   "outputs": [],
   "source": [
    "plt.contourf(np.linspace(1e-10, 1-1e-10, 100), np.linspace(1e-10, 1-1e-10, 100), np.reshape(p_grid, (100, 100)))\n",
    "plt.show()"
   ]
  },
  {
   "cell_type": "markdown",
   "metadata": {},
   "source": [
    "### b)"
   ]
  },
  {
   "cell_type": "code",
   "execution_count": null,
   "metadata": {},
   "outputs": [],
   "source": [
    "np.random.seed(123)\n",
    "n = 10000\n",
    "which_x_p = np.outer(np.random.binomial(1, 0.5, size=n), np.ones(5))\n",
    "x_p = which_x_p*np.random.beta(a, b, size=(n, 5)) + (1 - which_x_p)*np.random.beta(b, a, size=(n, 5))\n",
    "x_q = np.random.uniform(size=(n, 5))\n",
    "x = np.concatenate((x_p, x_q), axis=0)\n",
    "y = np.concatenate((1.0*np.ones(n), 0.0*np.zeros(n)))"
   ]
  },
  {
   "cell_type": "markdown",
   "metadata": {},
   "source": [
    "**Nameless representation**\n",
    "\n",
    "$$\\sup_{\\Phi > 0 } \\left\\{\\mathbb{E}_p \\log \\Phi(X) - \\mathbb{E}_q \\Phi(X) +1\\right\\}$$\n",
    "\n",
    "**Optimal function** \n",
    "\n",
    "$\\textrm{arg max (nameless representation)} = \\Phi^* = \\frac{p}{q} = p$ (last equality due to the fact that $q$ is a density of the uniform distribution thus $q=1$)"
   ]
  },
  {
   "cell_type": "code",
   "execution_count": null,
   "metadata": {},
   "outputs": [],
   "source": [
    "# plug in the optimal Phi = p in the formula for nameless representation and estimate expected values using averages\n",
    "def no_name_representation(x, y):\n",
    "    pass"
   ]
  },
  {
   "cell_type": "code",
   "execution_count": null,
   "metadata": {},
   "outputs": [],
   "source": [
    "opt_val = no_name_representation(x, y)\n",
    "opt_val"
   ]
  },
  {
   "cell_type": "markdown",
   "metadata": {},
   "source": [
    "### c)"
   ]
  },
  {
   "cell_type": "code",
   "execution_count": null,
   "metadata": {},
   "outputs": [],
   "source": [
    "def nameless_loss(y_true, y_pred):\n",
    "    T_x = y_pred\n",
    "    n1 = tf.math.reduce_sum(y_true)\n",
    "    n2 = tf.math.reduce_sum(tf.subtract(tf.convert_to_tensor(1.0), y_true))\n",
    "    first_term = tf.math.reduce_sum(tf.math.multiply(tf.math.log(T_x), y_true))/n1\n",
    "    second_term = tf.math.reduce_sum(tf.math.multiply(T_x, tf.subtract(tf.convert_to_tensor(1.0), y_true)))/n2\n",
    "    return -(first_term - second_term + 1) "
   ]
  },
  {
   "cell_type": "code",
   "execution_count": null,
   "metadata": {},
   "outputs": [],
   "source": [
    "model_inputs = keras.Input(shape=(5))\n",
    "layer_out = Dense(16, activation='tanh')(model_inputs)\n",
    "layer_out = Dense(16, activation='tanh')(layer_out)\n",
    "layer_out = Dense(16, activation='tanh')(layer_out)\n",
    "model_outputs = Dense(1, activation='softplus')(layer_out)\n",
    "\n",
    "model = keras.Model(model_inputs, model_outputs)\n",
    "\n",
    "optimizer = keras.optimizers.SGD(learning_rate=1e-2)\n",
    "es = tf.keras.callbacks.EarlyStopping(monitor='val_loss', mode='min', verbose=1, patience=100)\n",
    "model.compile(optimizer=optimizer, loss=nameless_loss)"
   ]
  },
  {
   "cell_type": "code",
   "execution_count": null,
   "metadata": {},
   "outputs": [],
   "source": [
    "np.random.seed(123)\n",
    "x_train, x_test, y_train, y_test = train_test_split(x, y, test_size=0.25)"
   ]
  },
  {
   "cell_type": "code",
   "execution_count": null,
   "metadata": {},
   "outputs": [],
   "source": [
    "np.random.seed(123)\n",
    "hist = model.fit(x_train, y_train, epochs=2000, batch_size=256, validation_data=(x_test, y_test), callbacks=[es])"
   ]
  },
  {
   "cell_type": "code",
   "execution_count": null,
   "metadata": {},
   "outputs": [],
   "source": [
    "plt.plot(hist.history['loss'])\n",
    "plt.plot(hist.history['val_loss'])\n",
    "plt.axhline(-opt_val, c=\"black\")\n",
    "plt.show()"
   ]
  },
  {
   "cell_type": "markdown",
   "metadata": {},
   "source": [
    "### d)"
   ]
  },
  {
   "cell_type": "code",
   "execution_count": null,
   "metadata": {},
   "outputs": [],
   "source": [
    "# Phi_pred = model's predictions - the model output optimal Phi, so it outputs the density p"
   ]
  },
  {
   "cell_type": "code",
   "execution_count": null,
   "metadata": {},
   "outputs": [],
   "source": [
    "Phi_opt = p_beta_d5(x, a, b)"
   ]
  },
  {
   "cell_type": "code",
   "execution_count": null,
   "metadata": {},
   "outputs": [],
   "source": [
    "plt.plot(Phi_opt[n:], Phi_pred[n:], \"o\")\n",
    "plt.plot(Phi_opt[:n], Phi_pred[:n], \"o\")\n",
    "plt.plot([0,30], [0, 30])\n",
    "plt.show()\n"
   ]
  },
  {
   "cell_type": "markdown",
   "metadata": {},
   "source": [
    "### e)"
   ]
  },
  {
   "cell_type": "code",
   "execution_count": null,
   "metadata": {},
   "outputs": [],
   "source": [
    "kde = stats.gaussian_kde(x_p.T)"
   ]
  },
  {
   "cell_type": "markdown",
   "metadata": {},
   "source": [
    "### f)"
   ]
  },
  {
   "cell_type": "code",
   "execution_count": null,
   "metadata": {},
   "outputs": [],
   "source": [
    "p_est_grid = model.predict(x_grid)\n",
    "p_est_grid = p_est_grid[:,0]"
   ]
  },
  {
   "cell_type": "code",
   "execution_count": null,
   "metadata": {},
   "outputs": [],
   "source": [
    "p_kde_grid = kde(x_grid.T)"
   ]
  },
  {
   "cell_type": "code",
   "execution_count": null,
   "metadata": {},
   "outputs": [],
   "source": [
    "fig, axes = plt.subplots(1, 3, figsize=(10,5))\n",
    "axes[0].contourf(np.linspace(1e-10, 1-1e-10, 100), np.linspace(1e-10, 1-1e-10, 100), np.reshape(p_grid, (100, 100)))\n",
    "axes[1].contourf(np.linspace(1e-10, 1-1e-10, 100), np.linspace(1e-10, 1-1e-10, 100), np.reshape(p_est_grid, (100, 100)))\n",
    "axes[2].contourf(np.linspace(1e-10, 1-1e-10, 100), np.linspace(1e-10, 1-1e-10, 100), np.reshape(p_kde_grid, (100, 100)))\n",
    "plt.show()"
   ]
  },
  {
   "cell_type": "code",
   "execution_count": null,
   "metadata": {},
   "outputs": [],
   "source": [
    "np.random.seed(1234)\n",
    "n = 1000\n",
    "which_x_p_new_data = np.outer(np.random.binomial(1, 0.5, size=n), np.ones(5))\n",
    "x_p_new_data = which_x_p_new_data*np.random.beta(a, b, size=(n, 5)) + (1 - which_x_p_new_data)*np.random.beta(b, a, size=(n, 5))"
   ]
  },
  {
   "cell_type": "code",
   "execution_count": null,
   "metadata": {},
   "outputs": [],
   "source": [
    "# p_nd = "
   ]
  },
  {
   "cell_type": "code",
   "execution_count": null,
   "metadata": {},
   "outputs": [],
   "source": [
    "# p_est_nd = "
   ]
  },
  {
   "cell_type": "code",
   "execution_count": null,
   "metadata": {},
   "outputs": [],
   "source": [
    "# p_kde_nd = "
   ]
  },
  {
   "cell_type": "code",
   "execution_count": null,
   "metadata": {},
   "outputs": [],
   "source": [
    "ordering = np.argsort(p_nd)\n",
    "plt.plot(p_est_nd[ordering], \"o\")\n",
    "plt.plot(p_kde_nd[ordering], \"o\")\n",
    "plt.plot(p_nd[ordering], \"o\")\n",
    "plt.show()"
   ]
  },
  {
   "cell_type": "code",
   "execution_count": null,
   "metadata": {},
   "outputs": [],
   "source": [
    "np.mean((p_kde_nd - p_nd)**2), np.mean((p_est_nd - p_nd)**2)"
   ]
  },
  {
   "cell_type": "code",
   "execution_count": null,
   "metadata": {},
   "outputs": [],
   "source": []
  }
 ],
 "metadata": {
  "kernelspec": {
   "display_name": "Python 3 (ipykernel)",
   "language": "python",
   "name": "python3"
  },
  "language_info": {
   "codemirror_mode": {
    "name": "ipython",
    "version": 3
   },
   "file_extension": ".py",
   "mimetype": "text/x-python",
   "name": "python",
   "nbconvert_exporter": "python",
   "pygments_lexer": "ipython3",
   "version": "3.9.16"
  }
 },
 "nbformat": 4,
 "nbformat_minor": 4
}
