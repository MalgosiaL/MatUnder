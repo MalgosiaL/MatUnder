{
 "cells": [
  {
   "cell_type": "markdown",
   "metadata": {
    "id": "vdcvf6SSl1SE"
   },
   "source": [
    "# Mathematical Underpinnings - Lab 7"
   ]
  },
  {
   "cell_type": "code",
   "execution_count": 1,
   "metadata": {
    "ExecuteTime": {
     "end_time": "2024-04-17T11:55:30.054492Z",
     "start_time": "2024-04-17T11:55:29.832768Z"
    },
    "executionInfo": {
     "elapsed": 241,
     "status": "ok",
     "timestamp": 1712853449748,
     "user": {
      "displayName": "Małgorzata Łazęcka",
      "userId": "03377429567880890658"
     },
     "user_tz": -120
    },
    "id": "XMmRp3ftl1SH"
   },
   "outputs": [],
   "source": [
    "import tensorflow as tf\n",
    "import keras\n",
    "import numpy as np\n",
    "import matplotlib.pyplot as plt\n",
    "\n",
    "from keras.layers import Input, Dense, Lambda, InputLayer, concatenate\n",
    "from keras.models import Model, Sequential\n",
    "from keras import backend as K\n",
    "from keras import metrics\n",
    "from keras.datasets import mnist\n",
    "from keras.utils import to_categorical\n",
    "\n",
    "from sklearn.model_selection import train_test_split"
   ]
  },
  {
   "cell_type": "markdown",
   "metadata": {
    "id": "Miu3nt5Xl1SI"
   },
   "source": [
    "## Task 1\n",
    "\n",
    "### a)"
   ]
  },
  {
   "cell_type": "code",
   "execution_count": 2,
   "metadata": {
    "ExecuteTime": {
     "end_time": "2024-04-17T11:54:14.191942Z",
     "start_time": "2024-04-17T11:54:14.159984Z"
    },
    "executionInfo": {
     "elapsed": 233,
     "status": "ok",
     "timestamp": 1712853452871,
     "user": {
      "displayName": "Małgorzata Łazęcka",
      "userId": "03377429567880890658"
     },
     "user_tz": -120
    },
    "id": "V6nuk5H1l1SJ"
   },
   "outputs": [],
   "source": [
    "def KL_mult_normal(mu1, mu2, Sigma1, Sigma2):\n",
    "    # the formula is here: https://statproofbook.github.io/P/mvn-kl.html\n",
    "    return (np.dot(mu2-mu1, np.dot(np.linalg.inv(Sigma2), mu2 - mu1)) + np.sum(np.diag(np.dot(np.linalg.inv(Sigma2), Sigma1))) \\\n",
    "        - np.log(np.linalg.det(Sigma1)/np.linalg.det(Sigma2)) - mu1.shape[0])/2"
   ]
  },
  {
   "cell_type": "code",
   "execution_count": 3,
   "metadata": {
    "ExecuteTime": {
     "end_time": "2024-04-17T11:54:14.261506Z",
     "start_time": "2024-04-17T11:54:14.196219Z"
    },
    "executionInfo": {
     "elapsed": 249,
     "status": "ok",
     "timestamp": 1712854075786,
     "user": {
      "displayName": "Małgorzata Łazęcka",
      "userId": "03377429567880890658"
     },
     "user_tz": -120
    },
    "id": "FmFrBHkgl1SJ"
   },
   "outputs": [],
   "source": [
    "def T_opt(x, mu1, mu2, Sigma1, Sigma2):\n",
    "    # compute log(p(x)/q(x)), where p and q are multivariate normal with parameters mu1, Sigma1 and mu2, Sigma2 respectively\n",
    "    # density of multivariate normal distribution is e.g. here: https://en.wikipedia.org/wiki/Multivariate_normal_distribution\n",
    "    res = np.zeros(x.shape[0])\n",
    "    for i in range(x.shape[0]):\n",
    "        ft = -np.log(np.linalg.det(Sigma1))/2 - np.dot(np.dot(np.linalg.inv(Sigma1), (x[i,:] - mu1)), x[i,:] - mu1)/2\n",
    "        st = np.log(np.linalg.det(Sigma2))/2 + np.dot(np.dot(np.linalg.inv(Sigma2), x[i,:] - mu2), x[i,:] - mu2)/2\n",
    "        res[i] = ft+st\n",
    "    return res"
   ]
  },
  {
   "cell_type": "markdown",
   "metadata": {
    "id": "dZas_vzRl1SJ"
   },
   "source": [
    "### b)"
   ]
  },
  {
   "cell_type": "code",
   "execution_count": 4,
   "metadata": {
    "ExecuteTime": {
     "end_time": "2024-04-17T11:54:14.277736Z",
     "start_time": "2024-04-17T11:54:14.266838Z"
    },
    "executionInfo": {
     "elapsed": 324,
     "status": "ok",
     "timestamp": 1712854973100,
     "user": {
      "displayName": "Małgorzata Łazęcka",
      "userId": "03377429567880890658"
     },
     "user_tz": -120
    },
    "id": "JlOhBgTql1SJ"
   },
   "outputs": [],
   "source": [
    "# sample n = 10000 observations out of np.random.multivariate_normal(mu1, Sigma1, size=n)\n",
    "# and sample n = 10000 observations out of np.random.multivariate_normal(mu2, Sigma2, size=n)\n",
    "# then concatenate the two matrices (your final x is a matrix 2n x 5)\n",
    "# then create a vector y that will have n ones and n zeros (of size 2n)\n",
    "\n",
    "# np.random.seed(123)\n",
    "n = 10000\n",
    "mu1 = np.array([1, 1, 1, 0, 0])/5\n",
    "mu2 = np.array([0, 0, 1, 1, 1])/5\n",
    "Sigma1 = (np.eye(5)*9 + np.ones((5,5)))/10\n",
    "Sigma2 = 1.2*np.eye(5) - np.ones((5,5))/5\n",
    "x1 = np.random.multivariate_normal(mu1, Sigma1, size=n)\n",
    "x2 = np.random.multivariate_normal(mu2, Sigma2, size=n)\n",
    "x = np.concatenate((x1, x2), axis=0)\n",
    "y = np.concatenate((1.0*np.ones(n), 0.0*np.zeros(n)))\n"
   ]
  },
  {
   "cell_type": "code",
   "execution_count": 5,
   "metadata": {
    "ExecuteTime": {
     "start_time": "2024-04-17T11:54:14.276338Z"
    },
    "executionInfo": {
     "elapsed": 1,
     "status": "ok",
     "timestamp": 1712854973487,
     "user": {
      "displayName": "Małgorzata Łazęcka",
      "userId": "03377429567880890658"
     },
     "user_tz": -120
    },
    "id": "7YA9-af8l1SK"
   },
   "outputs": [],
   "source": [
    "def DV_fun(y, t):\n",
    "    # y - an indicator [y[i]=1 if t[i] corresponds to x sampled from the distribution p, y[i]=0 otherwise]\n",
    "    # t a vector (of the same length as y) t = log(p(x)/q(x))\n",
    "    n1 = np.sum(y)\n",
    "    n2 = np.sum(1 - y)\n",
    "    return np.sum(t*y)/n1 - np.log(np.sum(np.exp(t)*(1-y))/n2)"
   ]
  },
  {
   "cell_type": "code",
   "execution_count": 6,
   "metadata": {
    "ExecuteTime": {
     "end_time": "2024-04-17T11:54:14.284271Z",
     "start_time": "2024-04-17T11:54:14.277951Z"
    },
    "colab": {
     "base_uri": "https://localhost:8080/"
    },
    "executionInfo": {
     "elapsed": 2,
     "status": "ok",
     "timestamp": 1712854973846,
     "user": {
      "displayName": "Małgorzata Łazęcka",
      "userId": "03377429567880890658"
     },
     "user_tz": -120
    },
    "id": "oLzlpPpCl1SK",
    "outputId": "2316dcf2-08e3-440a-fcdb-4c6d5ad59137"
   },
   "outputs": [
    {
     "data": {
      "text/plain": [
       "2.169075737042572"
      ]
     },
     "execution_count": 6,
     "metadata": {},
     "output_type": "execute_result"
    }
   ],
   "source": [
    "KL_mult_normal(mu1, mu2, Sigma1, Sigma2)"
   ]
  },
  {
   "cell_type": "code",
   "execution_count": 7,
   "metadata": {
    "ExecuteTime": {
     "start_time": "2024-04-17T11:54:14.283061Z"
    },
    "colab": {
     "base_uri": "https://localhost:8080/"
    },
    "executionInfo": {
     "elapsed": 1466,
     "status": "ok",
     "timestamp": 1712854975917,
     "user": {
      "displayName": "Małgorzata Łazęcka",
      "userId": "03377429567880890658"
     },
     "user_tz": -120
    },
    "id": "30KzVxSHl1SK",
    "outputId": "f3403ba3-6a06-4019-eb8c-1c7dfb0c069b"
   },
   "outputs": [
    {
     "data": {
      "text/plain": [
       "2.238833165322932"
      ]
     },
     "execution_count": 7,
     "metadata": {},
     "output_type": "execute_result"
    }
   ],
   "source": [
    "DV_fun(y, T_opt(x, mu1, mu2, Sigma1, Sigma2))"
   ]
  },
  {
   "cell_type": "code",
   "execution_count": 8,
   "metadata": {
    "ExecuteTime": {
     "end_time": "2024-04-17T11:54:14.314472Z",
     "start_time": "2024-04-17T11:54:14.291865Z"
    },
    "id": "JJaaQLzFDiBx"
   },
   "outputs": [],
   "source": [
    "# 18:56"
   ]
  },
  {
   "cell_type": "markdown",
   "metadata": {
    "id": "EplD4T6-l1SK"
   },
   "source": [
    "### c)"
   ]
  },
  {
   "cell_type": "code",
   "execution_count": 9,
   "metadata": {
    "ExecuteTime": {
     "end_time": "2024-04-17T11:54:14.322759Z",
     "start_time": "2024-04-17T11:54:14.317089Z"
    },
    "executionInfo": {
     "elapsed": 244,
     "status": "ok",
     "timestamp": 1712855014398,
     "user": {
      "displayName": "Małgorzata Łazęcka",
      "userId": "03377429567880890658"
     },
     "user_tz": -120
    },
    "id": "JHMxjpLHl1SK"
   },
   "outputs": [],
   "source": [
    "def DV_loss(y_true, T_x):\n",
    "    n1 = tf.math.reduce_sum(y_true)\n",
    "    n2 = tf.math.reduce_sum(tf.subtract(tf.convert_to_tensor(1.0), y_true))\n",
    "    first_term = tf.math.reduce_sum(tf.math.multiply(T_x, y_true))/n1\n",
    "    second_term = tf.math.log(tf.math.reduce_sum(tf.math.multiply(tf.math.exp(T_x), tf.subtract(tf.convert_to_tensor(1.0), y_true)))/n2)\n",
    "    return -(first_term - second_term)"
   ]
  },
  {
   "cell_type": "markdown",
   "metadata": {
    "id": "-8IbmVHrl1SL"
   },
   "source": [
    "### d)"
   ]
  },
  {
   "cell_type": "code",
   "execution_count": 10,
   "metadata": {
    "ExecuteTime": {
     "end_time": "2024-04-17T11:54:14.357752Z",
     "start_time": "2024-04-17T11:54:14.332810Z"
    },
    "executionInfo": {
     "elapsed": 246,
     "status": "ok",
     "timestamp": 1712855058228,
     "user": {
      "displayName": "Małgorzata Łazęcka",
      "userId": "03377429567880890658"
     },
     "user_tz": -120
    },
    "id": "IuHcTFoHl1SL"
   },
   "outputs": [
    {
     "name": "stderr",
     "output_type": "stream",
     "text": [
      "WARNING:absl:At this time, the v2.11+ optimizer `tf.keras.optimizers.SGD` runs slowly on M1/M2 Macs, please use the legacy Keras optimizer instead, located at `tf.keras.optimizers.legacy.SGD`.\n",
      "WARNING:absl:There is a known slowdown when using v2.11+ Keras optimizers on M1/M2 Macs. Falling back to the legacy Keras optimizer, i.e., `tf.keras.optimizers.legacy.SGD`.\n"
     ]
    }
   ],
   "source": [
    "model_inputs = keras.Input(shape=(5))\n",
    "layer_out = Dense(64, activation='softplus')(model_inputs)\n",
    "#layer_out = Dense(125, activation='tanh')(layer_out)\n",
    "layer_out = Dense(64)(layer_out)\n",
    "model_outputs = Dense(1)(layer_out)\n",
    "model = keras.Model(model_inputs, model_outputs)\n",
    "\n",
    "optimizer = keras.optimizers.SGD(learning_rate=1e-2)\n",
    "es = tf.keras.callbacks.EarlyStopping(monitor='val_loss', mode='min', verbose=1, patience=5)\n",
    "model.compile(optimizer=optimizer, loss=DV_loss)"
   ]
  },
  {
   "cell_type": "code",
   "execution_count": 11,
   "metadata": {
    "ExecuteTime": {
     "start_time": "2024-04-17T11:54:14.336250Z"
    },
    "executionInfo": {
     "elapsed": 274,
     "status": "ok",
     "timestamp": 1712855060202,
     "user": {
      "displayName": "Małgorzata Łazęcka",
      "userId": "03377429567880890658"
     },
     "user_tz": -120
    },
    "id": "iQm5BL24l1SL"
   },
   "outputs": [],
   "source": [
    "x_train, x_test, y_train, y_test = train_test_split(x, y, test_size=0.25)"
   ]
  },
  {
   "cell_type": "code",
   "execution_count": 12,
   "metadata": {
    "ExecuteTime": {
     "start_time": "2024-04-17T11:54:14.337465Z"
    },
    "colab": {
     "base_uri": "https://localhost:8080/"
    },
    "executionInfo": {
     "elapsed": 9270,
     "status": "ok",
     "timestamp": 1712855070601,
     "user": {
      "displayName": "Małgorzata Łazęcka",
      "userId": "03377429567880890658"
     },
     "user_tz": -120
    },
    "id": "rQQjoLdHl1SM",
    "outputId": "6db5205f-e5ea-4d07-ed53-b3945cd27870"
   },
   "outputs": [
    {
     "name": "stdout",
     "output_type": "stream",
     "text": [
      "Epoch 1/100\n",
      "15/15 [==============================] - 0s 6ms/step - loss: -0.0306 - val_loss: -0.0563\n",
      "Epoch 2/100\n",
      "15/15 [==============================] - 0s 2ms/step - loss: -0.0544 - val_loss: -0.0728\n",
      "Epoch 3/100\n",
      "15/15 [==============================] - 0s 2ms/step - loss: -0.0669 - val_loss: -0.0821\n",
      "Epoch 4/100\n",
      "15/15 [==============================] - 0s 2ms/step - loss: -0.0741 - val_loss: -0.0880\n",
      "Epoch 5/100\n",
      "15/15 [==============================] - 0s 2ms/step - loss: -0.0787 - val_loss: -0.0921\n",
      "Epoch 6/100\n",
      "15/15 [==============================] - 0s 2ms/step - loss: -0.0823 - val_loss: -0.0956\n",
      "Epoch 7/100\n",
      "15/15 [==============================] - 0s 2ms/step - loss: -0.0856 - val_loss: -0.0987\n",
      "Epoch 8/100\n",
      "15/15 [==============================] - 0s 2ms/step - loss: -0.0886 - val_loss: -0.1017\n",
      "Epoch 9/100\n",
      "15/15 [==============================] - 0s 2ms/step - loss: -0.0914 - val_loss: -0.1049\n",
      "Epoch 10/100\n",
      "15/15 [==============================] - 0s 2ms/step - loss: -0.0948 - val_loss: -0.1080\n",
      "Epoch 11/100\n",
      "15/15 [==============================] - 0s 2ms/step - loss: -0.0979 - val_loss: -0.1114\n",
      "Epoch 12/100\n",
      "15/15 [==============================] - 0s 2ms/step - loss: -0.1010 - val_loss: -0.1150\n",
      "Epoch 13/100\n",
      "15/15 [==============================] - 0s 2ms/step - loss: -0.1044 - val_loss: -0.1185\n",
      "Epoch 14/100\n",
      "15/15 [==============================] - 0s 2ms/step - loss: -0.1081 - val_loss: -0.1222\n",
      "Epoch 15/100\n",
      "15/15 [==============================] - 0s 2ms/step - loss: -0.1123 - val_loss: -0.1262\n",
      "Epoch 16/100\n",
      "15/15 [==============================] - 0s 2ms/step - loss: -0.1163 - val_loss: -0.1304\n",
      "Epoch 17/100\n",
      "15/15 [==============================] - 0s 2ms/step - loss: -0.1206 - val_loss: -0.1348\n",
      "Epoch 18/100\n",
      "15/15 [==============================] - 0s 2ms/step - loss: -0.1256 - val_loss: -0.1398\n",
      "Epoch 19/100\n",
      "15/15 [==============================] - 0s 3ms/step - loss: -0.1307 - val_loss: -0.1451\n",
      "Epoch 20/100\n",
      "15/15 [==============================] - 0s 2ms/step - loss: -0.1363 - val_loss: -0.1507\n",
      "Epoch 21/100\n",
      "15/15 [==============================] - 0s 2ms/step - loss: -0.1424 - val_loss: -0.1571\n",
      "Epoch 22/100\n",
      "15/15 [==============================] - 0s 2ms/step - loss: -0.1493 - val_loss: -0.1639\n",
      "Epoch 23/100\n",
      "15/15 [==============================] - 0s 2ms/step - loss: -0.1562 - val_loss: -0.1715\n",
      "Epoch 24/100\n",
      "15/15 [==============================] - 0s 2ms/step - loss: -0.1642 - val_loss: -0.1794\n",
      "Epoch 25/100\n",
      "15/15 [==============================] - 0s 2ms/step - loss: -0.1730 - val_loss: -0.1885\n",
      "Epoch 26/100\n",
      "15/15 [==============================] - 0s 2ms/step - loss: -0.1819 - val_loss: -0.1982\n",
      "Epoch 27/100\n",
      "15/15 [==============================] - 0s 2ms/step - loss: -0.1926 - val_loss: -0.2090\n",
      "Epoch 28/100\n",
      "15/15 [==============================] - 0s 2ms/step - loss: -0.2045 - val_loss: -0.2211\n",
      "Epoch 29/100\n",
      "15/15 [==============================] - 0s 2ms/step - loss: -0.2170 - val_loss: -0.2350\n",
      "Epoch 30/100\n",
      "15/15 [==============================] - 0s 2ms/step - loss: -0.2323 - val_loss: -0.2500\n",
      "Epoch 31/100\n",
      "15/15 [==============================] - 0s 2ms/step - loss: -0.2486 - val_loss: -0.2670\n",
      "Epoch 32/100\n",
      "15/15 [==============================] - 0s 2ms/step - loss: -0.2664 - val_loss: -0.2866\n",
      "Epoch 33/100\n",
      "15/15 [==============================] - 0s 2ms/step - loss: -0.2870 - val_loss: -0.3086\n",
      "Epoch 34/100\n",
      "15/15 [==============================] - 0s 2ms/step - loss: -0.3102 - val_loss: -0.3336\n",
      "Epoch 35/100\n",
      "15/15 [==============================] - 0s 2ms/step - loss: -0.3380 - val_loss: -0.3624\n",
      "Epoch 36/100\n",
      "15/15 [==============================] - 0s 2ms/step - loss: -0.3687 - val_loss: -0.3952\n",
      "Epoch 37/100\n",
      "15/15 [==============================] - 0s 2ms/step - loss: -0.4043 - val_loss: -0.4337\n",
      "Epoch 38/100\n",
      "15/15 [==============================] - 0s 2ms/step - loss: -0.4450 - val_loss: -0.4781\n",
      "Epoch 39/100\n",
      "15/15 [==============================] - 0s 2ms/step - loss: -0.4924 - val_loss: -0.5304\n",
      "Epoch 40/100\n",
      "15/15 [==============================] - 0s 2ms/step - loss: -0.5499 - val_loss: -0.5922\n",
      "Epoch 41/100\n",
      "15/15 [==============================] - 0s 2ms/step - loss: -0.6155 - val_loss: -0.6652\n",
      "Epoch 42/100\n",
      "15/15 [==============================] - 0s 2ms/step - loss: -0.6946 - val_loss: -0.7517\n",
      "Epoch 43/100\n",
      "15/15 [==============================] - 0s 3ms/step - loss: -0.7877 - val_loss: -0.8548\n",
      "Epoch 44/100\n",
      "15/15 [==============================] - 0s 2ms/step - loss: -0.8981 - val_loss: -0.9769\n",
      "Epoch 45/100\n",
      "15/15 [==============================] - 0s 2ms/step - loss: -1.0282 - val_loss: -1.1213\n",
      "Epoch 46/100\n",
      "15/15 [==============================] - 0s 2ms/step - loss: -1.1812 - val_loss: -1.2900\n",
      "Epoch 47/100\n",
      "15/15 [==============================] - 0s 2ms/step - loss: -1.3566 - val_loss: -1.4757\n",
      "Epoch 48/100\n",
      "15/15 [==============================] - 0s 2ms/step - loss: -1.5436 - val_loss: -1.6706\n",
      "Epoch 49/100\n",
      "15/15 [==============================] - 0s 2ms/step - loss: -1.7188 - val_loss: -1.8479\n",
      "Epoch 50/100\n",
      "15/15 [==============================] - 0s 2ms/step - loss: -1.8724 - val_loss: -1.9932\n",
      "Epoch 51/100\n",
      "15/15 [==============================] - 0s 2ms/step - loss: -1.9676 - val_loss: -2.0882\n",
      "Epoch 52/100\n",
      "15/15 [==============================] - 0s 2ms/step - loss: -2.0125 - val_loss: -2.1489\n",
      "Epoch 53/100\n",
      "15/15 [==============================] - 0s 2ms/step - loss: -2.0185 - val_loss: -2.1650\n",
      "Epoch 54/100\n",
      "15/15 [==============================] - 0s 2ms/step - loss: -2.1287 - val_loss: -2.2081\n",
      "Epoch 55/100\n",
      "15/15 [==============================] - 0s 2ms/step - loss: -2.0558 - val_loss: -2.2183\n",
      "Epoch 56/100\n",
      "15/15 [==============================] - 0s 2ms/step - loss: -2.1053 - val_loss: -2.2333\n",
      "Epoch 57/100\n",
      "15/15 [==============================] - 0s 2ms/step - loss: -2.0633 - val_loss: -2.2276\n",
      "Epoch 58/100\n",
      "15/15 [==============================] - 0s 2ms/step - loss: -2.0308 - val_loss: -2.2089\n",
      "Epoch 59/100\n",
      "15/15 [==============================] - 0s 2ms/step - loss: -2.0682 - val_loss: -2.0511\n",
      "Epoch 60/100\n",
      "15/15 [==============================] - 0s 2ms/step - loss: -2.0599 - val_loss: -2.1953\n",
      "Epoch 61/100\n",
      "15/15 [==============================] - 0s 2ms/step - loss: -2.0549 - val_loss: -2.2479\n",
      "Epoch 62/100\n",
      "15/15 [==============================] - 0s 2ms/step - loss: -2.0765 - val_loss: -2.2363\n",
      "Epoch 63/100\n",
      "15/15 [==============================] - 0s 2ms/step - loss: -2.0722 - val_loss: -2.2280\n",
      "Epoch 64/100\n",
      "15/15 [==============================] - 0s 2ms/step - loss: -2.1014 - val_loss: -2.2019\n",
      "Epoch 65/100\n",
      "15/15 [==============================] - 0s 2ms/step - loss: -2.0911 - val_loss: -2.2224\n",
      "Epoch 66/100\n",
      "15/15 [==============================] - 0s 2ms/step - loss: -2.0561 - val_loss: -2.2266\n",
      "Epoch 66: early stopping\n"
     ]
    }
   ],
   "source": [
    "hist = model.fit(x_train, y_train, epochs=100, batch_size=1024, validation_data=(x_test, y_test), callbacks=[es])"
   ]
  },
  {
   "cell_type": "code",
   "execution_count": 13,
   "metadata": {
    "ExecuteTime": {
     "start_time": "2024-04-17T11:54:14.338590Z"
    },
    "colab": {
     "base_uri": "https://localhost:8080/",
     "height": 430
    },
    "executionInfo": {
     "elapsed": 527,
     "status": "ok",
     "timestamp": 1712855109256,
     "user": {
      "displayName": "Małgorzata Łazęcka",
      "userId": "03377429567880890658"
     },
     "user_tz": -120
    },
    "id": "-kYo5KkJl1SM",
    "outputId": "0336d925-5210-4c98-874f-e7c1f10fc036"
   },
   "outputs": [
    {
     "data": {
      "image/png": "[encoded data removed]",
      "text/plain": [
       "<Figure size 640x480 with 1 Axes>"
      ]
     },
     "metadata": {},
     "output_type": "display_data"
    }
   ],
   "source": [
    "plt.plot(hist.history['loss'])\n",
    "plt.plot(hist.history['val_loss'])\n",
    "plt.show()"
   ]
  },
  {
   "cell_type": "markdown",
   "metadata": {
    "id": "zAUPAi7Yl1SM"
   },
   "source": [
    "### e)"
   ]
  },
  {
   "cell_type": "code",
   "execution_count": 14,
   "metadata": {
    "ExecuteTime": {
     "end_time": "2024-04-17T11:54:14.387263Z",
     "start_time": "2024-04-17T11:54:14.358175Z"
    },
    "colab": {
     "base_uri": "https://localhost:8080/"
    },
    "executionInfo": {
     "elapsed": 2870,
     "status": "ok",
     "timestamp": 1712856439558,
     "user": {
      "displayName": "Małgorzata Łazęcka",
      "userId": "03377429567880890658"
     },
     "user_tz": -120
    },
    "id": "c3qnEYqql1SM",
    "outputId": "139e2574-82de-4e35-9b99-6261c6259c24"
   },
   "outputs": [
    {
     "name": "stdout",
     "output_type": "stream",
     "text": [
      "625/625 [==============================] - 0s 418us/step\n"
     ]
    }
   ],
   "source": [
    "t_x_pred = model.predict(x)[:,0]"
   ]
  },
  {
   "cell_type": "code",
   "execution_count": 15,
   "metadata": {
    "ExecuteTime": {
     "start_time": "2024-04-17T11:54:14.363811Z"
    },
    "executionInfo": {
     "elapsed": 1376,
     "status": "ok",
     "timestamp": 1712856440933,
     "user": {
      "displayName": "Małgorzata Łazęcka",
      "userId": "03377429567880890658"
     },
     "user_tz": -120
    },
    "id": "4wL4M8Eel1SN"
   },
   "outputs": [],
   "source": [
    "t_x_opt = T_opt(x, mu1, mu2, Sigma1, Sigma2)"
   ]
  },
  {
   "cell_type": "code",
   "execution_count": 16,
   "metadata": {
    "ExecuteTime": {
     "end_time": "2024-04-17T11:54:14.413622Z",
     "start_time": "2024-04-17T11:54:14.392634Z"
    },
    "colab": {
     "base_uri": "https://localhost:8080/",
     "height": 430
    },
    "executionInfo": {
     "elapsed": 571,
     "status": "ok",
     "timestamp": 1712856441502,
     "user": {
      "displayName": "Małgorzata Łazęcka",
      "userId": "03377429567880890658"
     },
     "user_tz": -120
    },
    "id": "LF1e6FdWl1SN",
    "outputId": "1f24a869-9745-40e5-d03a-a2d69d3ecf77"
   },
   "outputs": [
    {
     "data": {
      "image/png": "[encoded data removed]",
      "text/plain": [
       "<Figure size 640x480 with 1 Axes>"
      ]
     },
     "metadata": {},
     "output_type": "display_data"
    }
   ],
   "source": [
    "plt.plot(t_x_opt)\n",
    "plt.plot(t_x_pred)\n",
    "\n",
    "plt.show()"
   ]
  },
  {
   "cell_type": "code",
   "execution_count": 17,
   "metadata": {
    "ExecuteTime": {
     "start_time": "2024-04-17T11:54:14.395883Z"
    },
    "colab": {
     "base_uri": "https://localhost:8080/",
     "height": 430
    },
    "executionInfo": {
     "elapsed": 1782,
     "status": "ok",
     "timestamp": 1712856454682,
     "user": {
      "displayName": "Małgorzata Łazęcka",
      "userId": "03377429567880890658"
     },
     "user_tz": -120
    },
    "id": "AAATWc1oM0ii",
    "outputId": "6faaa07e-7954-49df-e123-24e2790a59a3"
   },
   "outputs": [
    {
     "data": {
      "image/png": "[encoded data removed]",
      "text/plain": [
       "<Figure size 640x480 with 1 Axes>"
      ]
     },
     "metadata": {},
     "output_type": "display_data"
    }
   ],
   "source": [
    "plt.plot(t_x_pred[y==1], t_x_opt[y==1], \"o\", alpha=0.2, markersize=2)\n",
    "plt.plot(t_x_pred[y==0], t_x_opt[y==0], \"o\", alpha=0.2, markersize=2)\n",
    "plt.grid()\n",
    "plt.show()"
   ]
  },
  {
   "cell_type": "code",
   "execution_count": 18,
   "metadata": {
    "ExecuteTime": {
     "start_time": "2024-04-17T11:54:14.412253Z"
    },
    "colab": {
     "base_uri": "https://localhost:8080/",
     "height": 430
    },
    "executionInfo": {
     "elapsed": 567,
     "status": "ok",
     "timestamp": 1712856103173,
     "user": {
      "displayName": "Małgorzata Łazęcka",
      "userId": "03377429567880890658"
     },
     "user_tz": -120
    },
    "id": "FlmICDCal1SN",
    "outputId": "aded465b-008f-49a8-cbbb-7174e54d52c6"
   },
   "outputs": [
    {
     "data": {
      "image/png": "[encoded data removed]",
      "text/plain": [
       "<Figure size 640x480 with 1 Axes>"
      ]
     },
     "metadata": {},
     "output_type": "display_data"
    }
   ],
   "source": [
    "plt.plot(t_x_pred, t_x_opt, \"o\")\n",
    "plt.show()"
   ]
  },
  {
   "cell_type": "code",
   "execution_count": 19,
   "metadata": {
    "ExecuteTime": {
     "end_time": "2024-04-17T11:54:14.440060Z",
     "start_time": "2024-04-17T11:54:14.420566Z"
    },
    "colab": {
     "base_uri": "https://localhost:8080/"
    },
    "executionInfo": {
     "elapsed": 240,
     "status": "ok",
     "timestamp": 1712856200274,
     "user": {
      "displayName": "Małgorzata Łazęcka",
      "userId": "03377429567880890658"
     },
     "user_tz": -120
    },
    "id": "qfHonEMZl1SN",
    "outputId": "483251e3-87a6-4940-d869-8e0ffec67c77"
   },
   "outputs": [
    {
     "data": {
      "text/plain": [
       "2.0694556233653563"
      ]
     },
     "execution_count": 19,
     "metadata": {},
     "output_type": "execute_result"
    }
   ],
   "source": [
    "DV_fun(y, t_x_pred)"
   ]
  },
  {
   "cell_type": "code",
   "execution_count": 20,
   "metadata": {
    "ExecuteTime": {
     "end_time": "2024-04-17T11:54:14.468589Z",
     "start_time": "2024-04-17T11:54:14.446166Z"
    },
    "colab": {
     "base_uri": "https://localhost:8080/"
    },
    "executionInfo": {
     "elapsed": 342,
     "status": "ok",
     "timestamp": 1712856219108,
     "user": {
      "displayName": "Małgorzata Łazęcka",
      "userId": "03377429567880890658"
     },
     "user_tz": -120
    },
    "id": "Y98oUKf9l1SO",
    "outputId": "77c2aa33-a0c0-4264-cd6c-0f5bfeb0949f"
   },
   "outputs": [
    {
     "data": {
      "text/plain": [
       "2.238833165322932"
      ]
     },
     "execution_count": 20,
     "metadata": {},
     "output_type": "execute_result"
    }
   ],
   "source": [
    "DV_fun(y, t_x_opt)"
   ]
  },
  {
   "cell_type": "code",
   "execution_count": 21,
   "metadata": {
    "ExecuteTime": {
     "start_time": "2024-04-17T11:54:14.452600Z"
    },
    "executionInfo": {
     "elapsed": 419,
     "status": "ok",
     "timestamp": 1712856250051,
     "user": {
      "displayName": "Małgorzata Łazęcka",
      "userId": "03377429567880890658"
     },
     "user_tz": -120
    },
    "id": "ee2YQL7ol1SO"
   },
   "outputs": [],
   "source": [
    "# new data\n",
    "n_new = 10000\n",
    "x1 = np.random.multivariate_normal(mu1, Sigma1, size=n_new)\n",
    "x2 = np.random.multivariate_normal(mu2, Sigma2, size=n_new)\n",
    "x_new = np.concatenate((x1, x2), axis=0)\n",
    "y_new = np.concatenate((1.0*np.ones(n_new), 0.0*np.zeros(n_new)))"
   ]
  },
  {
   "cell_type": "code",
   "execution_count": 22,
   "metadata": {
    "ExecuteTime": {
     "end_time": "2024-04-17T11:54:14.493809Z",
     "start_time": "2024-04-17T11:54:14.474073Z"
    },
    "colab": {
     "base_uri": "https://localhost:8080/"
    },
    "executionInfo": {
     "elapsed": 2158,
     "status": "ok",
     "timestamp": 1712856264535,
     "user": {
      "displayName": "Małgorzata Łazęcka",
      "userId": "03377429567880890658"
     },
     "user_tz": -120
    },
    "id": "MvCCZFdwMDx4",
    "outputId": "6e6f5d09-e950-4e35-81cd-bba466a66354"
   },
   "outputs": [
    {
     "name": "stdout",
     "output_type": "stream",
     "text": [
      "625/625 [==============================] - 0s 297us/step\n"
     ]
    }
   ],
   "source": [
    "t_x_pred = model.predict(x_new)\n",
    "t_x_pred = t_x_pred[:,0]"
   ]
  },
  {
   "cell_type": "code",
   "execution_count": 23,
   "metadata": {
    "ExecuteTime": {
     "start_time": "2024-04-17T11:54:14.477343Z"
    },
    "executionInfo": {
     "elapsed": 2919,
     "status": "ok",
     "timestamp": 1712856289190,
     "user": {
      "displayName": "Małgorzata Łazęcka",
      "userId": "03377429567880890658"
     },
     "user_tz": -120
    },
    "id": "NU_cfpmGMK1c"
   },
   "outputs": [],
   "source": [
    "t_x_opt = T_opt(x_new, mu1, mu2, Sigma1, Sigma2)"
   ]
  },
  {
   "cell_type": "code",
   "execution_count": 24,
   "metadata": {
    "ExecuteTime": {
     "start_time": "2024-04-17T11:54:14.488901Z"
    },
    "colab": {
     "base_uri": "https://localhost:8080/"
    },
    "executionInfo": {
     "elapsed": 279,
     "status": "ok",
     "timestamp": 1712856300549,
     "user": {
      "displayName": "Małgorzata Łazęcka",
      "userId": "03377429567880890658"
     },
     "user_tz": -120
    },
    "id": "WKuFMLnxMPVo",
    "outputId": "30ffd799-967b-47ae-bc6a-a6e24fc8c4e3"
   },
   "outputs": [
    {
     "data": {
      "text/plain": [
       "1.8223777289427403"
      ]
     },
     "execution_count": 24,
     "metadata": {},
     "output_type": "execute_result"
    }
   ],
   "source": [
    "DV_fun(y_new, t_x_pred)"
   ]
  },
  {
   "cell_type": "code",
   "execution_count": 25,
   "metadata": {
    "ExecuteTime": {
     "end_time": "2024-04-17T11:54:14.546614Z",
     "start_time": "2024-04-17T11:54:14.510651Z"
    },
    "colab": {
     "base_uri": "https://localhost:8080/"
    },
    "executionInfo": {
     "elapsed": 237,
     "status": "ok",
     "timestamp": 1712856315083,
     "user": {
      "displayName": "Małgorzata Łazęcka",
      "userId": "03377429567880890658"
     },
     "user_tz": -120
    },
    "id": "5quaMnF2MSxF",
    "outputId": "cd0d5489-190c-4c5a-c3c7-c8cae09796c0"
   },
   "outputs": [
    {
     "data": {
      "text/plain": [
       "2.220597385212848"
      ]
     },
     "execution_count": 25,
     "metadata": {},
     "output_type": "execute_result"
    }
   ],
   "source": [
    "DV_fun(y_new, t_x_opt)"
   ]
  },
  {
   "cell_type": "markdown",
   "metadata": {
    "id": "iSIk6efpl1SO"
   },
   "source": [
    "### f)"
   ]
  },
  {
   "cell_type": "code",
   "execution_count": 26,
   "metadata": {
    "ExecuteTime": {
     "end_time": "2024-04-17T11:54:14.547682Z",
     "start_time": "2024-04-17T11:54:14.514458Z"
    },
    "id": "_ZF06PZUl1SO"
   },
   "outputs": [],
   "source": [
    "def nwj_loss(y_true, T_x):\n",
    "    subs_ytrue = tf.subtract(tf.convert_to_tensor(1.0), y_true)\n",
    "\n",
    "    n1 = tf.math.reduce_sum(y_true)\n",
    "    n2 = tf.math.reduce_sum(subs_ytrue)\n",
    "    \n",
    "    first_term = tf.math.reduce_sum(tf.math.multiply(T_x,y_true)) / n1\n",
    "    second_term = tf.math.reduce_sum(tf.math.multiply(tf.math.exp(T_x),subs_ytrue)) / n2\n",
    "    kl_div = -(first_term - second_term)\n",
    "    \n",
    "    return kl_div"
   ]
  },
  {
   "cell_type": "code",
   "execution_count": 27,
   "metadata": {
    "ExecuteTime": {
     "end_time": "2024-04-17T11:54:14.555768Z",
     "start_time": "2024-04-17T11:54:14.544532Z"
    },
    "id": "eWzHzM8al1SO"
   },
   "outputs": [],
   "source": [
    "def nwj_fun(y, t):\n",
    "    return np.mean(t[y==1]) - np.mean(np.exp(t[y==0]-1))"
   ]
  },
  {
   "cell_type": "code",
   "execution_count": 28,
   "metadata": {
    "ExecuteTime": {
     "end_time": "2024-04-17T11:54:14.581821Z",
     "start_time": "2024-04-17T11:54:14.560553Z"
    },
    "collapsed": false,
    "jupyter": {
     "outputs_hidden": false
    }
   },
   "outputs": [
    {
     "data": {
      "text/plain": [
       "2.2193695581160413"
      ]
     },
     "execution_count": 28,
     "metadata": {},
     "output_type": "execute_result"
    }
   ],
   "source": [
    "nwj_fun(y, t_x_opt+1)"
   ]
  },
  {
   "cell_type": "code",
   "execution_count": 29,
   "metadata": {
    "ExecuteTime": {
     "start_time": "2024-04-17T11:54:14.568888Z"
    },
    "collapsed": false,
    "jupyter": {
     "outputs_hidden": false
    }
   },
   "outputs": [
    {
     "name": "stderr",
     "output_type": "stream",
     "text": [
      "WARNING:absl:At this time, the v2.11+ optimizer `tf.keras.optimizers.SGD` runs slowly on M1/M2 Macs, please use the legacy Keras optimizer instead, located at `tf.keras.optimizers.legacy.SGD`.\n",
      "WARNING:absl:There is a known slowdown when using v2.11+ Keras optimizers on M1/M2 Macs. Falling back to the legacy Keras optimizer, i.e., `tf.keras.optimizers.legacy.SGD`.\n"
     ]
    }
   ],
   "source": [
    "model_inputs = keras.Input(shape=(5,))\n",
    "layer_out = Dense(64, activation='softplus')(model_inputs)\n",
    "#layer_out = Dense(125, activation='tanh')(layer_out)\n",
    "layer_out = Dense(64)(layer_out)\n",
    "model_outputs = Dense(1)(layer_out)\n",
    "model = keras.Model(model_inputs, model_outputs)\n",
    "\n",
    "optimizer = keras.optimizers.SGD(learning_rate=0.01)\n",
    "es = tf.keras.callbacks.EarlyStopping(monitor='val_loss', mode='min', verbose=1, patience=5)\n",
    "model.compile(optimizer=optimizer, loss=nwj_loss)"
   ]
  },
  {
   "cell_type": "code",
   "execution_count": 30,
   "metadata": {
    "ExecuteTime": {
     "start_time": "2024-04-17T11:54:14.570050Z"
    },
    "collapsed": false,
    "jupyter": {
     "outputs_hidden": false
    }
   },
   "outputs": [],
   "source": [
    "x_train, x_test, y_train, y_test = train_test_split(x, y, test_size=0.25)"
   ]
  },
  {
   "cell_type": "code",
   "execution_count": 31,
   "metadata": {
    "ExecuteTime": {
     "end_time": "2024-04-17T11:54:14.612515Z",
     "start_time": "2024-04-17T11:54:14.592219Z"
    },
    "collapsed": false,
    "jupyter": {
     "outputs_hidden": false
    }
   },
   "outputs": [
    {
     "name": "stdout",
     "output_type": "stream",
     "text": [
      "Epoch 1/256\n",
      "15/15 [==============================] - 0s 5ms/step - loss: 2.7933 - val_loss: 0.9674\n",
      "Epoch 2/256\n",
      "15/15 [==============================] - 0s 2ms/step - loss: 0.9658 - val_loss: 0.9512\n",
      "Epoch 3/256\n",
      "15/15 [==============================] - 0s 2ms/step - loss: 0.9540 - val_loss: 0.9408\n",
      "Epoch 4/256\n",
      "15/15 [==============================] - 0s 2ms/step - loss: 0.9464 - val_loss: 0.9341\n",
      "Epoch 5/256\n",
      "15/15 [==============================] - 0s 2ms/step - loss: 0.9416 - val_loss: 0.9293\n",
      "Epoch 6/256\n",
      "15/15 [==============================] - 0s 2ms/step - loss: 0.9379 - val_loss: 0.9265\n",
      "Epoch 7/256\n",
      "15/15 [==============================] - 0s 2ms/step - loss: 0.9355 - val_loss: 0.9235\n",
      "Epoch 8/256\n",
      "15/15 [==============================] - 0s 2ms/step - loss: 0.9335 - val_loss: 0.9214\n",
      "Epoch 9/256\n",
      "15/15 [==============================] - 0s 2ms/step - loss: 0.9316 - val_loss: 0.9195\n",
      "Epoch 10/256\n",
      "15/15 [==============================] - 0s 2ms/step - loss: 0.9300 - val_loss: 0.9180\n",
      "Epoch 11/256\n",
      "15/15 [==============================] - 0s 2ms/step - loss: 0.9287 - val_loss: 0.9166\n",
      "Epoch 12/256\n",
      "15/15 [==============================] - 0s 2ms/step - loss: 0.9274 - val_loss: 0.9148\n",
      "Epoch 13/256\n",
      "15/15 [==============================] - 0s 2ms/step - loss: 0.9255 - val_loss: 0.9142\n",
      "Epoch 14/256\n",
      "15/15 [==============================] - 0s 2ms/step - loss: 0.9244 - val_loss: 0.9125\n",
      "Epoch 15/256\n",
      "15/15 [==============================] - 0s 2ms/step - loss: 0.9228 - val_loss: 0.9106\n",
      "Epoch 16/256\n",
      "15/15 [==============================] - 0s 2ms/step - loss: 0.9215 - val_loss: 0.9092\n",
      "Epoch 17/256\n",
      "15/15 [==============================] - 0s 2ms/step - loss: 0.9202 - val_loss: 0.9078\n",
      "Epoch 18/256\n",
      "15/15 [==============================] - 0s 2ms/step - loss: 0.9189 - val_loss: 0.9067\n",
      "Epoch 19/256\n",
      "15/15 [==============================] - 0s 2ms/step - loss: 0.9174 - val_loss: 0.9052\n",
      "Epoch 20/256\n",
      "15/15 [==============================] - 0s 2ms/step - loss: 0.9158 - val_loss: 0.9037\n",
      "Epoch 21/256\n",
      "15/15 [==============================] - 0s 2ms/step - loss: 0.9142 - val_loss: 0.9021\n",
      "Epoch 22/256\n",
      "15/15 [==============================] - 0s 3ms/step - loss: 0.9128 - val_loss: 0.9006\n",
      "Epoch 23/256\n",
      "15/15 [==============================] - 0s 2ms/step - loss: 0.9113 - val_loss: 0.8997\n",
      "Epoch 24/256\n",
      "15/15 [==============================] - 0s 2ms/step - loss: 0.9099 - val_loss: 0.8981\n",
      "Epoch 25/256\n",
      "15/15 [==============================] - 0s 2ms/step - loss: 0.9084 - val_loss: 0.8959\n",
      "Epoch 26/256\n",
      "15/15 [==============================] - 0s 2ms/step - loss: 0.9066 - val_loss: 0.8944\n",
      "Epoch 27/256\n",
      "15/15 [==============================] - 0s 2ms/step - loss: 0.9049 - val_loss: 0.8926\n",
      "Epoch 28/256\n",
      "15/15 [==============================] - 0s 2ms/step - loss: 0.9032 - val_loss: 0.8908\n",
      "Epoch 29/256\n",
      "15/15 [==============================] - 0s 2ms/step - loss: 0.9015 - val_loss: 0.8891\n",
      "Epoch 30/256\n",
      "15/15 [==============================] - 0s 2ms/step - loss: 0.8999 - val_loss: 0.8871\n",
      "Epoch 31/256\n",
      "15/15 [==============================] - 0s 2ms/step - loss: 0.8974 - val_loss: 0.8853\n",
      "Epoch 32/256\n",
      "15/15 [==============================] - 0s 2ms/step - loss: 0.8957 - val_loss: 0.8835\n",
      "Epoch 33/256\n",
      "15/15 [==============================] - 0s 2ms/step - loss: 0.8938 - val_loss: 0.8814\n",
      "Epoch 34/256\n",
      "15/15 [==============================] - 0s 2ms/step - loss: 0.8919 - val_loss: 0.8793\n",
      "Epoch 35/256\n",
      "15/15 [==============================] - 0s 2ms/step - loss: 0.8895 - val_loss: 0.8770\n",
      "Epoch 36/256\n",
      "15/15 [==============================] - 0s 2ms/step - loss: 0.8874 - val_loss: 0.8750\n",
      "Epoch 37/256\n",
      "15/15 [==============================] - 0s 2ms/step - loss: 0.8849 - val_loss: 0.8727\n",
      "Epoch 38/256\n",
      "15/15 [==============================] - 0s 2ms/step - loss: 0.8826 - val_loss: 0.8698\n",
      "Epoch 39/256\n",
      "15/15 [==============================] - 0s 2ms/step - loss: 0.8804 - val_loss: 0.8671\n",
      "Epoch 40/256\n",
      "15/15 [==============================] - 0s 2ms/step - loss: 0.8771 - val_loss: 0.8649\n",
      "Epoch 41/256\n",
      "15/15 [==============================] - 0s 2ms/step - loss: 0.8747 - val_loss: 0.8618\n",
      "Epoch 42/256\n",
      "15/15 [==============================] - 0s 2ms/step - loss: 0.8716 - val_loss: 0.8585\n",
      "Epoch 43/256\n",
      "15/15 [==============================] - 0s 2ms/step - loss: 0.8682 - val_loss: 0.8563\n",
      "Epoch 44/256\n",
      "15/15 [==============================] - 0s 2ms/step - loss: 0.8650 - val_loss: 0.8521\n",
      "Epoch 45/256\n",
      "15/15 [==============================] - 0s 2ms/step - loss: 0.8617 - val_loss: 0.8489\n",
      "Epoch 46/256\n",
      "15/15 [==============================] - 0s 2ms/step - loss: 0.8581 - val_loss: 0.8446\n",
      "Epoch 47/256\n",
      "15/15 [==============================] - 0s 2ms/step - loss: 0.8540 - val_loss: 0.8407\n",
      "Epoch 48/256\n",
      "15/15 [==============================] - 0s 2ms/step - loss: 0.8504 - val_loss: 0.8365\n",
      "Epoch 49/256\n",
      "15/15 [==============================] - 0s 2ms/step - loss: 0.8457 - val_loss: 0.8320\n",
      "Epoch 50/256\n",
      "15/15 [==============================] - 0s 3ms/step - loss: 0.8411 - val_loss: 0.8270\n",
      "Epoch 51/256\n",
      "15/15 [==============================] - 0s 2ms/step - loss: 0.8359 - val_loss: 0.8219\n",
      "Epoch 52/256\n",
      "15/15 [==============================] - 0s 2ms/step - loss: 0.8305 - val_loss: 0.8164\n",
      "Epoch 53/256\n",
      "15/15 [==============================] - 0s 2ms/step - loss: 0.8256 - val_loss: 0.8107\n",
      "Epoch 54/256\n",
      "15/15 [==============================] - 0s 2ms/step - loss: 0.8188 - val_loss: 0.8043\n",
      "Epoch 55/256\n",
      "15/15 [==============================] - 0s 2ms/step - loss: 0.8126 - val_loss: 0.7979\n",
      "Epoch 56/256\n",
      "15/15 [==============================] - 0s 2ms/step - loss: 0.8054 - val_loss: 0.7909\n",
      "Epoch 57/256\n",
      "15/15 [==============================] - 0s 2ms/step - loss: 0.7981 - val_loss: 0.7827\n",
      "Epoch 58/256\n",
      "15/15 [==============================] - 0s 2ms/step - loss: 0.7897 - val_loss: 0.7740\n",
      "Epoch 59/256\n",
      "15/15 [==============================] - 0s 2ms/step - loss: 0.7802 - val_loss: 0.7650\n",
      "Epoch 60/256\n",
      "15/15 [==============================] - 0s 2ms/step - loss: 0.7714 - val_loss: 0.7547\n",
      "Epoch 61/256\n",
      "15/15 [==============================] - 0s 2ms/step - loss: 0.7605 - val_loss: 0.7440\n",
      "Epoch 62/256\n",
      "15/15 [==============================] - 0s 2ms/step - loss: 0.7487 - val_loss: 0.7316\n",
      "Epoch 63/256\n",
      "15/15 [==============================] - 0s 2ms/step - loss: 0.7364 - val_loss: 0.7185\n",
      "Epoch 64/256\n",
      "15/15 [==============================] - 0s 2ms/step - loss: 0.7232 - val_loss: 0.7045\n",
      "Epoch 65/256\n",
      "15/15 [==============================] - 0s 2ms/step - loss: 0.7070 - val_loss: 0.6883\n",
      "Epoch 66/256\n",
      "15/15 [==============================] - 0s 2ms/step - loss: 0.6909 - val_loss: 0.6712\n",
      "Epoch 67/256\n",
      "15/15 [==============================] - 0s 2ms/step - loss: 0.6716 - val_loss: 0.6507\n",
      "Epoch 68/256\n",
      "15/15 [==============================] - 0s 2ms/step - loss: 0.6505 - val_loss: 0.6286\n",
      "Epoch 69/256\n",
      "15/15 [==============================] - 0s 3ms/step - loss: 0.6268 - val_loss: 0.6045\n",
      "Epoch 70/256\n",
      "15/15 [==============================] - 0s 2ms/step - loss: 0.6015 - val_loss: 0.5778\n",
      "Epoch 71/256\n",
      "15/15 [==============================] - 0s 2ms/step - loss: 0.5712 - val_loss: 0.5457\n",
      "Epoch 72/256\n",
      "15/15 [==============================] - 0s 2ms/step - loss: 0.5392 - val_loss: 0.5103\n",
      "Epoch 73/256\n",
      "15/15 [==============================] - 0s 2ms/step - loss: 0.5004 - val_loss: 0.4699\n",
      "Epoch 74/256\n",
      "15/15 [==============================] - 0s 2ms/step - loss: 0.4571 - val_loss: 0.4242\n",
      "Epoch 75/256\n",
      "15/15 [==============================] - 0s 2ms/step - loss: 0.4066 - val_loss: 0.3713\n",
      "Epoch 76/256\n",
      "15/15 [==============================] - 0s 2ms/step - loss: 0.3505 - val_loss: 0.3110\n",
      "Epoch 77/256\n",
      "15/15 [==============================] - 0s 2ms/step - loss: 0.2834 - val_loss: 0.2403\n",
      "Epoch 78/256\n",
      "15/15 [==============================] - 0s 2ms/step - loss: 0.2073 - val_loss: 0.1602\n",
      "Epoch 79/256\n",
      "15/15 [==============================] - 0s 2ms/step - loss: 0.1184 - val_loss: 0.0671\n",
      "Epoch 80/256\n",
      "15/15 [==============================] - 0s 2ms/step - loss: 0.0173 - val_loss: -0.0448\n",
      "Epoch 81/256\n",
      "15/15 [==============================] - 0s 2ms/step - loss: -0.1002 - val_loss: -0.1703\n",
      "Epoch 82/256\n",
      "15/15 [==============================] - 0s 2ms/step - loss: -0.1911 - val_loss: -0.1921\n",
      "Epoch 83/256\n",
      "15/15 [==============================] - 0s 2ms/step - loss: -0.2716 - val_loss: -0.3307\n",
      "Epoch 84/256\n",
      "15/15 [==============================] - 0s 2ms/step - loss: -0.2715 - val_loss: -0.1848\n",
      "Epoch 85/256\n",
      "15/15 [==============================] - 0s 2ms/step - loss: -0.5374 - val_loss: -0.1854\n",
      "Epoch 86/256\n",
      "15/15 [==============================] - 0s 2ms/step - loss: -0.4468 - val_loss: -0.8684\n",
      "Epoch 87/256\n",
      "15/15 [==============================] - 0s 2ms/step - loss: -0.6956 - val_loss: -0.1772\n",
      "Epoch 88/256\n",
      "15/15 [==============================] - 0s 2ms/step - loss: -0.6654 - val_loss: -1.0852\n",
      "Epoch 89/256\n",
      "15/15 [==============================] - 0s 2ms/step - loss: 0.4318 - val_loss: -0.4023\n",
      "Epoch 90/256\n",
      "15/15 [==============================] - 0s 2ms/step - loss: -0.5716 - val_loss: -0.9716\n",
      "Epoch 91/256\n",
      "15/15 [==============================] - 0s 2ms/step - loss: -0.7403 - val_loss: -0.9423\n",
      "Epoch 92/256\n",
      "15/15 [==============================] - 0s 2ms/step - loss: -0.3948 - val_loss: -1.1744\n",
      "Epoch 93/256\n",
      "15/15 [==============================] - 0s 2ms/step - loss: -0.8642 - val_loss: -1.1144\n",
      "Epoch 94/256\n",
      "15/15 [==============================] - 0s 3ms/step - loss: -0.9284 - val_loss: -0.1243\n",
      "Epoch 95/256\n",
      "15/15 [==============================] - 0s 2ms/step - loss: 0.4895 - val_loss: 0.6799\n",
      "Epoch 96/256\n",
      "15/15 [==============================] - 0s 2ms/step - loss: -0.4886 - val_loss: -1.1383\n",
      "Epoch 97/256\n",
      "15/15 [==============================] - 0s 2ms/step - loss: -0.9976 - val_loss: -1.1249\n",
      "Epoch 97: early stopping\n"
     ]
    }
   ],
   "source": [
    "hist = model.fit(x_train, y_train, epochs=256, batch_size=1024, validation_data=(x_test, y_test), callbacks=[es])"
   ]
  },
  {
   "cell_type": "code",
   "execution_count": 32,
   "metadata": {
    "ExecuteTime": {
     "start_time": "2024-04-17T11:54:14.603848Z"
    },
    "collapsed": false,
    "jupyter": {
     "outputs_hidden": false
    }
   },
   "outputs": [
    {
     "data": {
      "image/png": "[encoded data removed]",
      "text/plain": [
       "<Figure size 640x480 with 1 Axes>"
      ]
     },
     "metadata": {},
     "output_type": "display_data"
    }
   ],
   "source": [
    "plt.plot(hist.history['loss'])\n",
    "plt.plot(hist.history['val_loss'])\n",
    "plt.show()"
   ]
  },
  {
   "cell_type": "code",
   "execution_count": 33,
   "metadata": {
    "ExecuteTime": {
     "end_time": "2024-04-17T11:54:14.631787Z",
     "start_time": "2024-04-17T11:54:14.622234Z"
    },
    "collapsed": false,
    "jupyter": {
     "outputs_hidden": false
    }
   },
   "outputs": [
    {
     "name": "stdout",
     "output_type": "stream",
     "text": [
      "625/625 [==============================] - 0s 308us/step\n"
     ]
    }
   ],
   "source": [
    "t_x_pred = model.predict(x)[:,0]"
   ]
  },
  {
   "cell_type": "code",
   "execution_count": 34,
   "metadata": {
    "ExecuteTime": {
     "end_time": "2024-04-17T11:54:14.658578Z",
     "start_time": "2024-04-17T11:54:14.632771Z"
    },
    "collapsed": false,
    "jupyter": {
     "outputs_hidden": false
    }
   },
   "outputs": [],
   "source": [
    "t_x_opt = T_opt(x, mu1, mu2, Sigma1, Sigma2) + 1"
   ]
  },
  {
   "cell_type": "code",
   "execution_count": 35,
   "metadata": {
    "ExecuteTime": {
     "start_time": "2024-04-17T11:54:14.638047Z"
    },
    "collapsed": false,
    "jupyter": {
     "outputs_hidden": false
    }
   },
   "outputs": [
    {
     "data": {
      "image/png": "[encoded data removed]",
      "text/plain": [
       "<Figure size 640x480 with 1 Axes>"
      ]
     },
     "metadata": {},
     "output_type": "display_data"
    }
   ],
   "source": [
    "plt.plot(t_x_opt)\n",
    "plt.plot(t_x_pred)\n",
    "plt.show()"
   ]
  },
  {
   "cell_type": "code",
   "execution_count": 36,
   "metadata": {
    "ExecuteTime": {
     "end_time": "2024-04-17T11:54:14.687089Z",
     "start_time": "2024-04-17T11:54:14.667182Z"
    },
    "collapsed": false,
    "jupyter": {
     "outputs_hidden": false
    }
   },
   "outputs": [
    {
     "data": {
      "image/png": "[encoded data removed]",
      "text/plain": [
       "<Figure size 640x480 with 1 Axes>"
      ]
     },
     "metadata": {},
     "output_type": "display_data"
    }
   ],
   "source": [
    "plt.plot(t_x_pred, t_x_opt, \"o\")\n",
    "plt.show()"
   ]
  },
  {
   "cell_type": "code",
   "execution_count": 37,
   "metadata": {
    "ExecuteTime": {
     "end_time": "2024-04-17T11:54:14.709794Z",
     "start_time": "2024-04-17T11:54:14.689878Z"
    },
    "collapsed": false,
    "jupyter": {
     "outputs_hidden": false
    }
   },
   "outputs": [
    {
     "data": {
      "text/plain": [
       "1.9928017"
      ]
     },
     "execution_count": 37,
     "metadata": {},
     "output_type": "execute_result"
    }
   ],
   "source": [
    "nwj_fun(y, t_x_pred)"
   ]
  },
  {
   "cell_type": "code",
   "execution_count": 38,
   "metadata": {
    "ExecuteTime": {
     "start_time": "2024-04-17T11:54:14.696415Z"
    },
    "collapsed": false,
    "jupyter": {
     "outputs_hidden": false
    }
   },
   "outputs": [
    {
     "data": {
      "text/plain": [
       "2.2327093606603903"
      ]
     },
     "execution_count": 38,
     "metadata": {},
     "output_type": "execute_result"
    }
   ],
   "source": [
    "nwj_fun(y, t_x_opt)"
   ]
  }
 ],
 "metadata": {
  "colab": {
   "provenance": []
  },
  "kernelspec": {
   "display_name": "aml",
   "language": "python",
   "name": "aml"
  },
  "language_info": {
   "codemirror_mode": {
    "name": "ipython",
    "version": 3
   },
   "file_extension": ".py",
   "mimetype": "text/x-python",
   "name": "python",
   "nbconvert_exporter": "python",
   "pygments_lexer": "ipython3",
   "version": "3.8.16"
  }
 },
 "nbformat": 4,
 "nbformat_minor": 4
}
