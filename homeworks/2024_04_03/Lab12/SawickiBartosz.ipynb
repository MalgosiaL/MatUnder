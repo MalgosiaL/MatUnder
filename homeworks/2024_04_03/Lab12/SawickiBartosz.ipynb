{
 "cells": [
  {
   "cell_type": "markdown",
   "metadata": {},
   "source": [
    "# Mathematical Underpinnings - Lab 6"
   ]
  },
  {
   "cell_type": "code",
   "execution_count": 2,
   "metadata": {
    "ExecuteTime": {
     "end_time": "2024-04-11T13:54:40.721516600Z",
     "start_time": "2024-04-11T13:54:40.522033400Z"
    }
   },
   "outputs": [],
   "source": [
    "from sklearn.metrics import mutual_info_score\n",
    "import numpy as np\n",
    "import matplotlib.pyplot as plt\n",
    "import seaborn as sns\n",
    "import pandas as pd\n",
    "from tqdm import tqdm"
   ]
  },
  {
   "cell_type": "markdown",
   "metadata": {},
   "source": [
    "## Useful functions"
   ]
  },
  {
   "cell_type": "code",
   "execution_count": 3,
   "metadata": {
    "ExecuteTime": {
     "end_time": "2024-04-11T13:54:40.725505700Z",
     "start_time": "2024-04-11T13:54:40.567330100Z"
    }
   },
   "outputs": [],
   "source": [
    "def discetize_2bins(X):\n",
    "    X_discrete = 1*(X >= 0)\n",
    "    return X_discrete"
   ]
  },
  {
   "cell_type": "code",
   "execution_count": 4,
   "metadata": {
    "ExecuteTime": {
     "end_time": "2024-04-11T13:54:40.749437200Z",
     "start_time": "2024-04-11T13:54:40.589464200Z"
    }
   },
   "outputs": [],
   "source": [
    "def conditional_permutation(X, Z):\n",
    "\n",
    "    z_values = np.unique(Z)\n",
    "    n_z_values = len(z_values)\n",
    "    n = len(Z)\n",
    "\n",
    "    X_b = np.zeros(n)\n",
    "\n",
    "    for i in range(n_z_values):\n",
    "\n",
    "        z_value_tmp = z_values[i]\n",
    "\n",
    "        X_b[Z == z_value_tmp] = np.random.permutation(X[Z == z_value_tmp])\n",
    "\n",
    "    return X_b"
   ]
  },
  {
   "cell_type": "code",
   "execution_count": 5,
   "metadata": {
    "ExecuteTime": {
     "end_time": "2024-04-11T13:54:40.784620900Z",
     "start_time": "2024-04-11T13:54:40.688272400Z"
    }
   },
   "outputs": [],
   "source": [
    "def conditional_mutual_information(X, Y, Z):\n",
    "\n",
    "    z_values = np.unique(Z)\n",
    "    n_z_values = len(z_values)\n",
    "    n = len(Z)\n",
    "\n",
    "    cmi = 0\n",
    "\n",
    "    for i in range(n_z_values):\n",
    "\n",
    "        z_value_tmp = z_values[i]\n",
    "        z_condition = (Z == z_value_tmp)\n",
    "\n",
    "        X_z = X[z_condition]\n",
    "        Y_z = Y[z_condition]\n",
    "\n",
    "        mi_XY_z = mutual_info_score(X_z, Y_z)\n",
    "        p_z = np.sum(z_condition)/n\n",
    "\n",
    "        cmi += p_z*mi_XY_z\n",
    "\n",
    "    return cmi"
   ]
  },
  {
   "cell_type": "code",
   "execution_count": 6,
   "metadata": {
    "ExecuteTime": {
     "end_time": "2024-04-11T13:54:40.832984600Z",
     "start_time": "2024-04-11T13:54:40.780632300Z"
    }
   },
   "outputs": [],
   "source": [
    "# II(X;Y;Z)\n",
    "def interaction_information(X, Y, Z):\n",
    "    return conditional_mutual_information(X, Y, Z) - mutual_info_score(X, Y)"
   ]
  },
  {
   "cell_type": "code",
   "execution_count": 7,
   "metadata": {
    "ExecuteTime": {
     "end_time": "2024-04-11T13:54:40.843062400Z",
     "start_time": "2024-04-11T13:54:40.823952400Z"
    }
   },
   "outputs": [],
   "source": [
    "# II(X;Y;Z1;Z2)\n",
    "def interaction_information2(X, Y, Z1, Z2):\n",
    "    Z_1_and_2 = 2*Z2 + Z1\n",
    "    return interaction_information(X, Y, Z_1_and_2) - interaction_information(X, Y, Z1) - interaction_information(X, Y, Z2)"
   ]
  },
  {
   "cell_type": "markdown",
   "metadata": {},
   "source": [
    "## Task 1"
   ]
  },
  {
   "cell_type": "code",
   "execution_count": 8,
   "metadata": {
    "ExecuteTime": {
     "end_time": "2024-04-11T13:54:40.887218900Z",
     "start_time": "2024-04-11T13:54:40.850045100Z"
    }
   },
   "outputs": [],
   "source": [
    "def secmi2(X, Y, Z):\n",
    "    interaction_info = 0\n",
    "    for i in range(Z.shape[1]):\n",
    "        interaction_info += interaction_information(X, Y, Z[:,i])\n",
    "    return mutual_info_score(X, Y) + interaction_info\n",
    "    \n",
    "def secmi3(X, Y, Z):\n",
    "    interaction_info = 0\n",
    "    for i in range(Z.shape[1]):\n",
    "        for j in range(i):\n",
    "            interaction_info += interaction_information2(X, Y, Z[:, i], Z[:, j])\n",
    "    return secmi2(X, Y, Z) + interaction_info"
   ]
  },
  {
   "cell_type": "markdown",
   "metadata": {},
   "source": [
    "### a)"
   ]
  },
  {
   "cell_type": "code",
   "execution_count": 9,
   "metadata": {
    "ExecuteTime": {
     "end_time": "2024-04-11T13:54:40.928110600Z",
     "start_time": "2024-04-11T13:54:40.891208300Z"
    }
   },
   "outputs": [],
   "source": [
    "def cond_indep_test_permutation(X, Y, Z, B, stat):\n",
    "\n",
    "    n_col_Z = Z.shape[1]\n",
    "    Z_1dim = np.dot(Z, 2**np.linspace(0, n_col_Z-1, n_col_Z))\n",
    "\n",
    "    if stat == \"cmi\":\n",
    "        stat_value = conditional_mutual_information(X, Y, Z_1dim)\n",
    "    if stat == \"secmi2\":\n",
    "        stat_value = secmi2(X, Y, Z)\n",
    "    if stat == \"secmi3\":\n",
    "        stat_value = secmi3(X, Y, Z)\n",
    "\n",
    "    condition_p_value = 0\n",
    "    for b in range(B):\n",
    "        X_b = conditional_permutation(X, Z_1dim)\n",
    "\n",
    "        if stat == \"cmi\":\n",
    "            stat_value_b = conditional_mutual_information(X_b, Y, Z_1dim)\n",
    "        if stat == \"secmi2\":\n",
    "            stat_value_b = secmi2(X_b, Y, Z)\n",
    "        if stat == \"secmi3\":\n",
    "            stat_value_b = secmi3(X_b, Y, Z)\n",
    "\n",
    "        if stat_value <= stat_value_b:\n",
    "            condition_p_value += 1\n",
    "\n",
    "    p_value = (1 + condition_p_value)/(1 + B)\n",
    "\n",
    "    return 2*len(X)*stat_value, p_value"
   ]
  },
  {
   "cell_type": "markdown",
   "metadata": {},
   "source": [
    "### b)"
   ]
  },
  {
   "cell_type": "code",
   "execution_count": 10,
   "metadata": {
    "ExecuteTime": {
     "end_time": "2024-04-11T13:54:40.948310300Z",
     "start_time": "2024-04-11T13:54:40.922126800Z"
    }
   },
   "outputs": [],
   "source": [
    "n = 100\n",
    "rng = np.random.default_rng(123)\n",
    "Y = rng.normal(0, 1, n)\n",
    "Y_tilde = 2*(Y > 0) -1\n",
    "Z1 = discetize_2bins(rng.normal(Y_tilde, 1, n))\n",
    "Z2 = discetize_2bins(rng.normal(Y_tilde, 1, n))\n",
    "Z3 = discetize_2bins(rng.normal(Y_tilde, 1, n))\n",
    "Z1_2 = np.vstack([Z1, Z2]).T\n",
    "Z2_3 = np.vstack([Z2, Z3]).T\n",
    "X = discetize_2bins(rng.normal(Z1, 1, n))"
   ]
  },
  {
   "cell_type": "code",
   "execution_count": 11,
   "metadata": {
    "ExecuteTime": {
     "end_time": "2024-04-11T13:54:45.779130300Z",
     "start_time": "2024-04-11T13:54:40.954293700Z"
    }
   },
   "outputs": [
    {
     "data": {
      "text/plain": "(8.993979775732782, 0.13861386138613863)"
     },
     "execution_count": 11,
     "metadata": {},
     "output_type": "execute_result"
    }
   ],
   "source": [
    "cond_indep_test_permutation(X, Y_tilde, Z2_3, B=100, stat='secmi3')"
   ]
  },
  {
   "cell_type": "code",
   "execution_count": 12,
   "metadata": {
    "ExecuteTime": {
     "end_time": "2024-04-11T14:01:16.948210600Z",
     "start_time": "2024-04-11T13:54:45.771162Z"
    }
   },
   "outputs": [],
   "source": [
    "N = 100\n",
    "n = 100\n",
    "p_crit = 0.05\n",
    "results = []\n",
    "for i in range(N):\n",
    "    rng = np.random.default_rng(i)\n",
    "    Y = rng.normal(0, 1, n)\n",
    "    Y_tilde = 2*(Y > 0) -1\n",
    "    Z1 = discetize_2bins(rng.normal(Y_tilde, 1, n))\n",
    "    Z2 = discetize_2bins(rng.normal(Y_tilde, 1, n))\n",
    "    Z3 = discetize_2bins(rng.normal(Y_tilde, 1, n))\n",
    "    Z1_2 = np.vstack([Z1, Z2]).T\n",
    "    Z2_3 = np.vstack([Z2, Z3]).T\n",
    "    X = discetize_2bins(rng.normal(Z1, 1, n))\n",
    "    results += [{\n",
    "        'secmi2_z12': cond_indep_test_permutation(X, Y_tilde, Z1_2, B=50, stat='secmi2')[1],\n",
    "        'secmi3_z12': cond_indep_test_permutation(X, Y_tilde, Z1_2, B=50, stat='secmi3')[1],\n",
    "        'cmi_z12': cond_indep_test_permutation(X, Y_tilde, Z1_2, B=50, stat='cmi')[1],\n",
    "        'secmi2_z23': cond_indep_test_permutation(X, Y_tilde, Z2_3, B=50, stat='secmi2')[1],\n",
    "        'secmi3_z23': cond_indep_test_permutation(X, Y_tilde, Z2_3, B=50, stat='secmi3')[1],\n",
    "        'cmi_z23': cond_indep_test_permutation(X, Y_tilde, Z2_3, B=50, stat='cmi')[1]\n",
    "    }]\n",
    "results = pd.DataFrame(results)"
   ]
  },
  {
   "cell_type": "code",
   "execution_count": 13,
   "metadata": {
    "ExecuteTime": {
     "end_time": "2024-04-11T14:01:17.010629Z",
     "start_time": "2024-04-11T14:01:16.963767800Z"
    }
   },
   "outputs": [
    {
     "data": {
      "text/plain": "secmi2_z12    0.03\nsecmi3_z12    0.04\ncmi_z12       0.04\nsecmi2_z23    0.09\nsecmi3_z23    0.07\ncmi_z23       0.13\ndtype: float64"
     },
     "execution_count": 13,
     "metadata": {},
     "output_type": "execute_result"
    }
   ],
   "source": [
    "(results < 0.05).mean(axis=0)"
   ]
  },
  {
   "cell_type": "markdown",
   "metadata": {},
   "source": [
    "### c)"
   ]
  },
  {
   "cell_type": "code",
   "execution_count": 18,
   "metadata": {
    "ExecuteTime": {
     "end_time": "2024-04-11T14:08:10.189093600Z",
     "start_time": "2024-04-11T14:08:10.157850800Z"
    }
   },
   "outputs": [],
   "source": [
    "rng = np.random.default_rng(123)\n",
    "n = 100\n",
    "X = rng.binomial(n=1, p=0.5, size=n)\n",
    "Z1 = rng.binomial(n=1, p=0.5, size=n)\n",
    "Z2 = rng.binomial(n=1, p=0.5, size=n)\n",
    "Z3 = rng.binomial(n=1, p=0.5, size=n)\n",
    "prob = 0.6 * ((X + Z1 + Z2) % 2) + 0.2\n",
    "Y = rng.binomial(n=1, p=prob, size=n)"
   ]
  },
  {
   "cell_type": "code",
   "execution_count": 27,
   "outputs": [
    {
     "data": {
      "text/plain": "(22.01623492018674, 0.0196078431372549)"
     },
     "execution_count": 27,
     "metadata": {},
     "output_type": "execute_result"
    }
   ],
   "source": [
    "cond_indep_test_permutation(X, Y, np.vstack([Z1, Z2]).T, B=50, stat=\"secmi3\")"
   ],
   "metadata": {
    "collapsed": false,
    "ExecuteTime": {
     "end_time": "2024-04-11T14:13:50.464592400Z",
     "start_time": "2024-04-11T14:13:49.132914700Z"
    }
   }
  },
  {
   "cell_type": "code",
   "execution_count": 28,
   "outputs": [
    {
     "data": {
      "text/plain": "(3.042810044576404, 0.5490196078431373)"
     },
     "execution_count": 28,
     "metadata": {},
     "output_type": "execute_result"
    }
   ],
   "source": [
    "cond_indep_test_permutation(X, Y, np.vstack([Z2, Z3]).T, B=50, stat=\"secmi3\")"
   ],
   "metadata": {
    "collapsed": false,
    "ExecuteTime": {
     "end_time": "2024-04-11T14:14:09.370901500Z",
     "start_time": "2024-04-11T14:14:07.870747200Z"
    }
   }
  },
  {
   "cell_type": "code",
   "execution_count": 29,
   "outputs": [
    {
     "name": "stderr",
     "output_type": "stream",
     "text": [
      "100%|██████████| 100/100 [05:51<00:00,  3.51s/it]\n"
     ]
    }
   ],
   "source": [
    "N = 100\n",
    "n = 100\n",
    "results = []\n",
    "for i in tqdm(range(N)):\n",
    "    rng = np.random.default_rng(i)\n",
    "    X = rng.binomial(n=1, p=0.5, size=n)\n",
    "    Z1 = rng.binomial(n=1, p=0.5, size=n)\n",
    "    Z2 = rng.binomial(n=1, p=0.5, size=n)\n",
    "    Z3 = rng.binomial(n=1, p=0.5, size=n)\n",
    "    prob = 0.6 * ((X + Z1 + Z2) % 2) + 0.2\n",
    "    Y = rng.binomial(n=1, p=prob, size=n)\n",
    "    Z1_2 = np.vstack([Z1, Z2]).T\n",
    "    Z2_3 = np.vstack([Z2, Z3]).T\n",
    "    results += [{\n",
    "        'secmi2_z12': cond_indep_test_permutation(X, Y, Z1_2, B=50, stat='secmi2')[1],\n",
    "        'secmi3_z12': cond_indep_test_permutation(X, Y, Z1_2, B=50, stat='secmi3')[1],\n",
    "        'cmi_z12': cond_indep_test_permutation(X, Y, Z1_2, B=50, stat='cmi')[1],\n",
    "        'secmi2_z23': cond_indep_test_permutation(X, Y, Z2_3, B=50, stat='secmi2')[1],\n",
    "        'secmi3_z23': cond_indep_test_permutation(X, Y, Z2_3, B=50, stat='secmi3')[1],\n",
    "        'cmi_z23': cond_indep_test_permutation(X, Y, Z2_3, B=50, stat='cmi')[1]\n",
    "    }]\n",
    "results = pd.DataFrame(results)"
   ],
   "metadata": {
    "collapsed": false,
    "ExecuteTime": {
     "end_time": "2024-04-11T14:23:44.997846900Z",
     "start_time": "2024-04-11T14:17:53.597364100Z"
    }
   }
  },
  {
   "cell_type": "code",
   "execution_count": 30,
   "outputs": [
    {
     "data": {
      "text/plain": "secmi2_z12    0.02\nsecmi3_z12    1.00\ncmi_z12       1.00\nsecmi2_z23    0.06\nsecmi3_z23    0.04\ncmi_z23       0.05\ndtype: float64"
     },
     "execution_count": 30,
     "metadata": {},
     "output_type": "execute_result"
    }
   ],
   "source": [
    "(results < 0.05).mean(axis=0)"
   ],
   "metadata": {
    "collapsed": false,
    "ExecuteTime": {
     "end_time": "2024-04-11T14:23:50.075540300Z",
     "start_time": "2024-04-11T14:23:50.014706800Z"
    }
   }
  },
  {
   "cell_type": "markdown",
   "metadata": {},
   "source": [
    "## Task 2\n",
    " \n",
    "in R"
   ]
  }
 ],
 "metadata": {
  "kernelspec": {
   "display_name": "Python 3 (ipykernel)",
   "language": "python",
   "name": "python3"
  },
  "language_info": {
   "codemirror_mode": {
    "name": "ipython",
    "version": 3
   },
   "file_extension": ".py",
   "mimetype": "text/x-python",
   "name": "python",
   "nbconvert_exporter": "python",
   "pygments_lexer": "ipython3",
   "version": "3.11.5"
  }
 },
 "nbformat": 4,
 "nbformat_minor": 4
}
