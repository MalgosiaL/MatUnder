{
 "cells": [
  {
   "cell_type": "markdown",
   "metadata": {},
   "source": [
    "# Mathematical Underpinnings - Lab 6"
   ]
  },
  {
   "cell_type": "code",
   "execution_count": 1,
   "metadata": {
    "ExecuteTime": {
     "end_time": "2024-04-05T18:13:49.132933369Z",
     "start_time": "2024-04-05T18:13:48.946342012Z"
    }
   },
   "outputs": [],
   "source": [
    "from sklearn.metrics import mutual_info_score\n",
    "import numpy as np\n",
    "import matplotlib.pyplot as plt\n",
    "import seaborn as sns\n",
    "import pandas as pd"
   ]
  },
  {
   "cell_type": "code",
   "execution_count": 2,
   "metadata": {
    "ExecuteTime": {
     "end_time": "2024-04-05T18:13:49.146330725Z",
     "start_time": "2024-04-05T18:13:49.135935620Z"
    },
    "collapsed": false,
    "jupyter": {
     "outputs_hidden": false
    }
   },
   "outputs": [],
   "source": [
    "np.random.seed(123)"
   ]
  },
  {
   "cell_type": "code",
   "execution_count": 2,
   "metadata": {
    "ExecuteTime": {
     "end_time": "2024-04-05T18:13:49.199152680Z",
     "start_time": "2024-04-05T18:13:49.148242334Z"
    },
    "collapsed": false,
    "jupyter": {
     "outputs_hidden": false
    }
   },
   "outputs": [],
   "source": []
  },
  {
   "cell_type": "markdown",
   "metadata": {},
   "source": [
    "## Useful functions"
   ]
  },
  {
   "cell_type": "code",
   "execution_count": 3,
   "metadata": {
    "ExecuteTime": {
     "end_time": "2024-04-05T18:13:49.275154390Z",
     "start_time": "2024-04-05T18:13:49.249646096Z"
    }
   },
   "outputs": [],
   "source": [
    "def discetize_2bins(X):\n",
    "    X_discrete = 1*(X >= 0)\n",
    "    return X_discrete"
   ]
  },
  {
   "cell_type": "code",
   "execution_count": 4,
   "metadata": {
    "ExecuteTime": {
     "end_time": "2024-04-05T18:13:49.640675737Z",
     "start_time": "2024-04-05T18:13:49.258820605Z"
    }
   },
   "outputs": [],
   "source": [
    "def conditional_permutation(X, Z):\n",
    "    z_values = np.unique(Z)\n",
    "    n_z_values = len(z_values)\n",
    "    n = len(Z)\n",
    "\n",
    "    X_b = np.zeros(n)\n",
    "\n",
    "    for i in range(n_z_values):\n",
    "        z_value_tmp = z_values[i]\n",
    "        X_b[Z == z_value_tmp] = np.random.permutation(X[Z == z_value_tmp])\n",
    "\n",
    "    return X_b"
   ]
  },
  {
   "cell_type": "code",
   "execution_count": 5,
   "metadata": {
    "ExecuteTime": {
     "end_time": "2024-04-05T18:13:49.644816656Z",
     "start_time": "2024-04-05T18:13:49.372842485Z"
    }
   },
   "outputs": [],
   "source": [
    "def conditional_mutual_information(X, Y, Z):\n",
    "    z_values = np.unique(Z)\n",
    "    n_z_values = len(z_values)\n",
    "    n = len(Z)\n",
    "\n",
    "    cmi = 0\n",
    "\n",
    "    for i in range(n_z_values):\n",
    "        z_value_tmp = z_values[i]\n",
    "        z_condition = (Z == z_value_tmp)\n",
    "\n",
    "        X_z = X[z_condition]\n",
    "        Y_z = Y[z_condition]\n",
    "\n",
    "        mi_XY_z = mutual_info_score(X_z, Y_z)\n",
    "        p_z = np.sum(z_condition)/n\n",
    "\n",
    "        cmi += p_z*mi_XY_z\n",
    "\n",
    "    return cmi"
   ]
  },
  {
   "cell_type": "code",
   "execution_count": 6,
   "metadata": {
    "ExecuteTime": {
     "end_time": "2024-04-05T18:13:49.677404521Z",
     "start_time": "2024-04-05T18:13:49.509512512Z"
    }
   },
   "outputs": [],
   "source": [
    "# II(X;Y;Z)\n",
    "def interaction_information(X, Y, Z):\n",
    "    return conditional_mutual_information(X, Y, Z) - mutual_info_score(X, Y)"
   ]
  },
  {
   "cell_type": "code",
   "execution_count": 7,
   "metadata": {
    "ExecuteTime": {
     "end_time": "2024-04-05T18:13:49.817576696Z",
     "start_time": "2024-04-05T18:13:49.672316568Z"
    }
   },
   "outputs": [],
   "source": [
    "# II(X;Y;Z1;Z2)\n",
    "def interaction_information2(X, Y, Z1, Z2):\n",
    "    Z_1_and_2 = 2*Z2 + Z1\n",
    "    return interaction_information(X, Y, Z_1_and_2) - interaction_information(X, Y, Z1) - interaction_information(X, Y, Z2)"
   ]
  },
  {
   "cell_type": "code",
   "execution_count": 7,
   "metadata": {
    "ExecuteTime": {
     "end_time": "2024-04-05T18:13:49.820302867Z",
     "start_time": "2024-04-05T18:13:49.792802020Z"
    },
    "collapsed": false,
    "jupyter": {
     "outputs_hidden": false
    }
   },
   "outputs": [],
   "source": []
  },
  {
   "cell_type": "markdown",
   "metadata": {},
   "source": [
    "## Task 1"
   ]
  },
  {
   "cell_type": "code",
   "execution_count": 8,
   "metadata": {
    "ExecuteTime": {
     "end_time": "2024-04-05T18:13:49.923410811Z",
     "start_time": "2024-04-05T18:13:49.792982590Z"
    }
   },
   "outputs": [],
   "source": [
    "def secmi2(X, Y, Z):\n",
    "    mi = mutual_info_score(X, Y)\n",
    "    ii = sum(\n",
    "        interaction_information(X, Y, Z[:, i]) \n",
    "        for i in range(Z.shape[1])\n",
    "    )\n",
    "    \n",
    "    return mi + ii\n",
    "\n",
    "def secmi3(X, Y, Z):\n",
    "    secmi_2 = secmi2(X, Y, Z)\n",
    "    ii_2 = sum(\n",
    "        interaction_information2(X, Y, Z[:, i], Z[:, j]) \n",
    "        for i in range(Z.shape[1]) \n",
    "        for j in range(i+1, Z.shape[1])\n",
    "    )\n",
    "    \n",
    "    return secmi_2 + ii_2"
   ]
  },
  {
   "cell_type": "code",
   "execution_count": 8,
   "metadata": {
    "ExecuteTime": {
     "end_time": "2024-04-05T18:13:49.924442334Z",
     "start_time": "2024-04-05T18:13:49.898990895Z"
    },
    "collapsed": false,
    "jupyter": {
     "outputs_hidden": false
    }
   },
   "outputs": [],
   "source": []
  },
  {
   "cell_type": "markdown",
   "metadata": {},
   "source": [
    "### a)"
   ]
  },
  {
   "cell_type": "code",
   "execution_count": 9,
   "metadata": {
    "ExecuteTime": {
     "end_time": "2024-04-05T18:13:50.033552758Z",
     "start_time": "2024-04-05T18:13:49.899145578Z"
    }
   },
   "outputs": [],
   "source": [
    "def cond_indep_test_permutation(X, Y, Z, B=50, stat='cmi'):\n",
    "\n",
    "    n_col_Z = Z.shape[1]\n",
    "    Z_1dim = np.dot(Z, 2**np.linspace(0, n_col_Z-1, n_col_Z))\n",
    "\n",
    "    if stat == \"cmi\":\n",
    "        stat_value = conditional_mutual_information(X, Y, Z_1dim)\n",
    "    if stat == \"secmi2\":\n",
    "        stat_value = secmi2(X, Y, Z)\n",
    "    if stat == \"secmi3\":\n",
    "        stat_value = secmi3(X, Y, Z)\n",
    "\n",
    "    condition_p_value = 0\n",
    "    for b in range(B):\n",
    "        X_b = conditional_permutation(X, Z_1dim)\n",
    "\n",
    "        if stat == \"cmi\":\n",
    "            stat_value_b = conditional_mutual_information(X_b, Y, Z_1dim)\n",
    "        if stat == \"secmi2\":\n",
    "            stat_value_b = secmi2(X_b, Y, Z)\n",
    "        if stat == \"secmi3\":\n",
    "            stat_value_b = secmi3(X_b, Y, Z)\n",
    "\n",
    "        if stat_value <= stat_value_b:\n",
    "            condition_p_value += 1\n",
    "\n",
    "    p_value = (1 + condition_p_value)/(1 + B)\n",
    "\n",
    "    return 2*len(X)*stat_value, p_value"
   ]
  },
  {
   "cell_type": "code",
   "execution_count": 9,
   "metadata": {
    "ExecuteTime": {
     "end_time": "2024-04-05T18:13:50.035644293Z",
     "start_time": "2024-04-05T18:13:50.009408092Z"
    },
    "collapsed": false,
    "jupyter": {
     "outputs_hidden": false
    }
   },
   "outputs": [],
   "source": []
  },
  {
   "cell_type": "markdown",
   "metadata": {},
   "source": [
    "### b)"
   ]
  },
  {
   "cell_type": "code",
   "execution_count": 10,
   "metadata": {
    "ExecuteTime": {
     "end_time": "2024-04-05T18:13:50.093618214Z",
     "start_time": "2024-04-05T18:13:50.009582270Z"
    }
   },
   "outputs": [],
   "source": [
    "def draw_data(n=100):\n",
    "    Y = np.random.normal(0, 1, size=n)\n",
    "    Y = discetize_2bins(Y)\n",
    "    \n",
    "    Z1 = np.random.normal(2*(Y - 0.5), 1, size=n)\n",
    "    Z1 = discetize_2bins(Z1)\n",
    "    Z2 = np.random.normal(2*(Y - 0.5), 1, size=n)\n",
    "    Z2 = discetize_2bins(Z2)\n",
    "    Z3 = np.random.normal(2*(Y - 0.5), 1, size=n)\n",
    "    Z3 = discetize_2bins(Z3)\n",
    "    \n",
    "    X = np.random.normal(2*(Z1 - 0.5), 1, size=n)\n",
    "    X = discetize_2bins(X)\n",
    "    \n",
    "    return X, Y, Z1, Z2, Z3"
   ]
  },
  {
   "cell_type": "code",
   "execution_count": 11,
   "metadata": {
    "ExecuteTime": {
     "end_time": "2024-04-05T18:13:50.238062506Z",
     "start_time": "2024-04-05T18:13:50.136823488Z"
    },
    "collapsed": false,
    "jupyter": {
     "outputs_hidden": false
    }
   },
   "outputs": [],
   "source": [
    "from multiprocessing import Pool\n",
    "\n",
    "N = 100\n",
    "\n",
    "def run_test(i, data_generator=draw_data):\n",
    "    np.random.seed(i)\n",
    "    X, Y, Z1, Z2, Z3 = data_generator(100)\n",
    "    results = pd.DataFrame()\n",
    "    for stat in ['cmi', 'secmi2', 'secmi3']:\n",
    "        test1 = cond_indep_test_permutation(\n",
    "            X, Y, np.column_stack((Z1, Z2)), stat=stat\n",
    "        )\n",
    "        test2 = cond_indep_test_permutation(\n",
    "            X, Y, np.column_stack((Z2, Z3)), stat=stat\n",
    "        )\n",
    "\n",
    "        results = pd.concat([\n",
    "            results,\n",
    "            pd.DataFrame({\n",
    "                'stat': stat,\n",
    "                'p_value_1': test1[1],\n",
    "                'stat_value_1': test1[0],\n",
    "                'p_value_2': test2[1],\n",
    "                'stat_value_2': test2[0]\n",
    "            }, index=[0])\n",
    "        ])\n",
    "    return results"
   ]
  },
  {
   "cell_type": "code",
   "execution_count": 12,
   "metadata": {
    "ExecuteTime": {
     "end_time": "2024-04-05T18:15:46.378440201Z",
     "start_time": "2024-04-05T18:13:50.242499385Z"
    },
    "collapsed": false,
    "jupyter": {
     "outputs_hidden": false
    }
   },
   "outputs": [],
   "source": [
    "with Pool() as p:\n",
    "    results = pd.concat(p.map(run_test, range(N)))"
   ]
  },
  {
   "cell_type": "code",
   "execution_count": 13,
   "metadata": {
    "ExecuteTime": {
     "end_time": "2024-04-05T18:15:46.507297011Z",
     "start_time": "2024-04-05T18:15:46.505148367Z"
    },
    "collapsed": false,
    "jupyter": {
     "outputs_hidden": false
    }
   },
   "outputs": [],
   "source": [
    "results['reject_test_1'] = results['p_value_1'] < 0.05\n",
    "results['reject_test_2'] = results['p_value_2'] < 0.05"
   ]
  },
  {
   "cell_type": "code",
   "execution_count": 14,
   "metadata": {
    "ExecuteTime": {
     "end_time": "2024-04-05T18:15:46.702117463Z",
     "start_time": "2024-04-05T18:15:46.505429388Z"
    },
    "collapsed": false,
    "jupyter": {
     "outputs_hidden": false
    }
   },
   "outputs": [],
   "source": [
    "results_pivot = results.melt(\n",
    "    id_vars='stat', value_vars=['reject_test_1', 'reject_test_2'], \n",
    "    var_name='test', value_name='reject'\n",
    ").groupby(\n",
    "    ['stat', 'test']\n",
    ").sum().reset_index()"
   ]
  },
  {
   "cell_type": "code",
   "execution_count": 15,
   "metadata": {
    "ExecuteTime": {
     "end_time": "2024-04-05T18:15:47.371907719Z",
     "start_time": "2024-04-05T18:15:46.707535246Z"
    },
    "collapsed": false,
    "jupyter": {
     "outputs_hidden": false
    }
   },
   "outputs": [
    {
     "data": {
      "image/png": "[encoded data removed]",
      "text/plain": [
       "<Figure size 640x480 with 1 Axes>"
      ]
     },
     "metadata": {},
     "output_type": "display_data"
    }
   ],
   "source": [
    "sns.barplot(\n",
    "    x='stat', y='reject', hue='test', data=results_pivot\n",
    ")\n",
    "plt.hlines(N, -0.5, 2.5, 'red', linestyles='dashed')\n",
    "plt.show()"
   ]
  },
  {
   "cell_type": "code",
   "execution_count": 15,
   "metadata": {
    "ExecuteTime": {
     "end_time": "2024-04-05T18:15:47.372946883Z",
     "start_time": "2024-04-05T18:15:47.369539931Z"
    },
    "collapsed": false,
    "jupyter": {
     "outputs_hidden": false
    }
   },
   "outputs": [],
   "source": []
  },
  {
   "cell_type": "markdown",
   "metadata": {},
   "source": [
    "### c)"
   ]
  },
  {
   "cell_type": "code",
   "execution_count": 16,
   "metadata": {
    "ExecuteTime": {
     "end_time": "2024-04-05T18:15:47.603619168Z",
     "start_time": "2024-04-05T18:15:47.376237227Z"
    }
   },
   "outputs": [],
   "source": [
    "def draw_data_2(n=100):\n",
    "    X = np.random.normal(0, 1, size=n)\n",
    "    X = discetize_2bins(X)\n",
    "    Z1 = np.random.normal(0, 1, size=n)\n",
    "    Z1 = discetize_2bins(Z1)\n",
    "    Z2 = np.random.normal(0, 1, size=n)\n",
    "    Z2 = discetize_2bins(Z2)\n",
    "    Z3 = np.random.normal(0, 1, size=n)\n",
    "    Z3 = discetize_2bins(Z3)\n",
    "    \n",
    "    sum_modulo_2 = (X + Z1 + Z2) % 2\n",
    "    Y = np.random.binomial(1, np.where(sum_modulo_2 == 1, 0.8, 0.2))\n",
    "    return X, Y, Z1, Z2, Z3"
   ]
  },
  {
   "cell_type": "code",
   "execution_count": 17,
   "metadata": {
    "ExecuteTime": {
     "end_time": "2024-04-05T18:17:01.165065010Z",
     "start_time": "2024-04-05T18:15:47.416867828Z"
    },
    "collapsed": false,
    "jupyter": {
     "outputs_hidden": false
    }
   },
   "outputs": [],
   "source": [
    "from functools import partial\n",
    "\n",
    "N = 100\n",
    "\n",
    "with Pool() as p:\n",
    "    results_2 = pd.concat(\n",
    "        p.map(partial(run_test, data_generator=draw_data_2), range(N))\n",
    "    )"
   ]
  },
  {
   "cell_type": "code",
   "execution_count": 18,
   "metadata": {
    "ExecuteTime": {
     "end_time": "2024-04-05T18:17:01.166429105Z",
     "start_time": "2024-04-05T18:17:01.164894027Z"
    },
    "collapsed": false,
    "jupyter": {
     "outputs_hidden": false
    }
   },
   "outputs": [],
   "source": [
    "results_2['reject_test_1'] = results_2['p_value_1'] < 0.05\n",
    "results_2['reject_test_2'] = results_2['p_value_2'] < 0.05"
   ]
  },
  {
   "cell_type": "code",
   "execution_count": 19,
   "metadata": {
    "ExecuteTime": {
     "end_time": "2024-04-05T18:17:01.231684085Z",
     "start_time": "2024-04-05T18:17:01.165074698Z"
    },
    "collapsed": false,
    "jupyter": {
     "outputs_hidden": false
    }
   },
   "outputs": [],
   "source": [
    "results_pivot = results_2.melt(\n",
    "    id_vars='stat', value_vars=['reject_test_1', 'reject_test_2'],\n",
    "    var_name='test', value_name='reject'\n",
    ").groupby(\n",
    "    ['stat', 'test']\n",
    ").sum().reset_index()"
   ]
  },
  {
   "cell_type": "code",
   "execution_count": 20,
   "metadata": {
    "ExecuteTime": {
     "end_time": "2024-04-05T18:17:01.477610047Z",
     "start_time": "2024-04-05T18:17:01.234183790Z"
    },
    "collapsed": false,
    "jupyter": {
     "outputs_hidden": false
    }
   },
   "outputs": [
    {
     "data": {
      "image/png": "[encoded data removed]",
      "text/plain": [
       "<Figure size 640x480 with 1 Axes>"
      ]
     },
     "metadata": {},
     "output_type": "display_data"
    }
   ],
   "source": [
    "sns.barplot(\n",
    "    x='stat', y='reject', hue='test', data=results_pivot\n",
    ")\n",
    "plt.hlines(N, -0.5, 2.5, 'red', linestyles='dashed')\n",
    "plt.show()"
   ]
  },
  {
   "cell_type": "code",
   "execution_count": 20,
   "metadata": {
    "ExecuteTime": {
     "end_time": "2024-04-05T18:17:01.554319073Z",
     "start_time": "2024-04-05T18:17:01.471863074Z"
    },
    "collapsed": false,
    "jupyter": {
     "outputs_hidden": false
    }
   },
   "outputs": [],
   "source": []
  },
  {
   "cell_type": "markdown",
   "metadata": {},
   "source": [
    "## Task 2\n",
    " \n",
    "in R"
   ]
  },
  {
   "cell_type": "code",
   "execution_count": 20,
   "metadata": {
    "ExecuteTime": {
     "end_time": "2024-04-05T18:17:01.555428424Z",
     "start_time": "2024-04-05T18:17:01.512949396Z"
    },
    "collapsed": false,
    "jupyter": {
     "outputs_hidden": false
    }
   },
   "outputs": [],
   "source": []
  }
 ],
 "metadata": {
  "kernelspec": {
   "display_name": "Python 3 (ipykernel)",
   "language": "python",
   "name": "python3"
  },
  "language_info": {
   "codemirror_mode": {
    "name": "ipython",
    "version": 3
   },
   "file_extension": ".py",
   "mimetype": "text/x-python",
   "name": "python",
   "nbconvert_exporter": "python",
   "pygments_lexer": "ipython3",
   "version": "3.11.7"
  }
 },
 "nbformat": 4,
 "nbformat_minor": 4
}
