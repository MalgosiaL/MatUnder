{
 "cells": [
  {
   "cell_type": "markdown",
   "metadata": {},
   "source": [
    "# Mathematical Underpinnings - Lab 7"
   ]
  },
  {
   "cell_type": "code",
   "execution_count": 1,
   "metadata": {},
   "outputs": [],
   "source": [
    "import tensorflow as tf\n",
    "import keras\n",
    "import numpy as np\n",
    "import matplotlib.pyplot as plt\n",
    "\n",
    "from keras.layers import Input, Dense, Lambda, InputLayer, concatenate\n",
    "from keras.models import Model, Sequential\n",
    "from keras import backend as K\n",
    "from keras import metrics\n",
    "from keras.datasets import mnist\n",
    "from keras.utils import to_categorical\n",
    "\n",
    "from sklearn.model_selection import train_test_split"
   ]
  },
  {
   "cell_type": "markdown",
   "metadata": {},
   "source": [
    "## Task 1\n",
    "\n",
    "### a)"
   ]
  },
  {
   "cell_type": "code",
   "execution_count": 2,
   "metadata": {},
   "outputs": [],
   "source": [
    "def KL_mult_normal(mu1, mu2, Sigma1, Sigma2):\n",
    "    return 1/2 * ((np.transpose(mu2 - mu1) @ np.linalg.inv(Sigma2) @ (mu2 - mu1))[0][0] + np.matrix.trace(np.linalg.inv(Sigma2) * Sigma1) - np.log(np.linalg.det(Sigma1)/np.linalg.det(Sigma1)) - len(mu1))\n"
   ]
  },
  {
   "cell_type": "code",
   "execution_count": 3,
   "metadata": {},
   "outputs": [],
   "source": [
    "# compute log(p(x)/q(x)), where p and q are multivariate normal with parameters mu1, Sigma1 and mu2, Sigma2 respectively\n",
    "def T_opt(x, mu1, mu2, Sigma1, Sigma2):\n",
    "\n",
    "    def normal_for_x(x, mu, sigma):\n",
    "        value = (2*np.pi)**(-len(x)/2)*np.linalg.det(sigma)**(-1/2)*np.exp((-1/2 * np.transpose(x - mu) @ np.linalg.inv(sigma) @ (x - mu))[0][0])\n",
    "        return value\n",
    "\n",
    "    res = []\n",
    "    for i in range(x.shape[0]):\n",
    "        x_t = np.reshape(x[i, :], (-1,1))\n",
    "        res.append(np.log(normal_for_x(x_t, mu1, Sigma1)/normal_for_x(x_t, mu2, Sigma2)))\n",
    "\n",
    "    return np.asarray(res)"
   ]
  },
  {
   "cell_type": "markdown",
   "metadata": {},
   "source": [
    "### b)"
   ]
  },
  {
   "cell_type": "code",
   "execution_count": 4,
   "metadata": {},
   "outputs": [],
   "source": [
    "# sample n = 10000 observations out of np.random.multivariate_normal(mu1, Sigma1, size=n)\n",
    "# and sample n = 10000 observations out of np.random.multivariate_normal(mu2, Sigma2, size=n)\n",
    "# then concatenate the two matrices (your final x is a matrix 2n x 5)\n",
    "# then create a vector y that will have n ones and n zeros (of size 2n)\n",
    "\n",
    "np.random.seed(123)\n",
    "\n",
    "mu1 = np.asarray([0.2, 0.2, 0.2, 0, 0]).T\n",
    "mu2 = np.asarray([0, 0, 0.2, 0.2, 0.2]).T\n",
    "n = 10000\n",
    "ro1 = 0.1\n",
    "ro2 = -0.2\n",
    "\n",
    "Sigma1 = np.full((5, 5), ro1)\n",
    "Sigma2 = np.full((5, 5), ro2)\n",
    "np.fill_diagonal(Sigma1, 1)\n",
    "np.fill_diagonal(Sigma2, 1)\n",
    "\n",
    "x1 = np.random.multivariate_normal(mu1, Sigma1, size=n)\n",
    "x2 = np.random.multivariate_normal(mu2, Sigma2, size=n)\n",
    "\n",
    "x = np.vstack([x1, x2])\n",
    "y = np.asarray([1.0]*n + [0.0]*n)\n",
    "\n",
    "mu1 = np.reshape(mu1, (-1,1))\n",
    "mu2 = np.reshape(mu2, (-1,1))\n"
   ]
  },
  {
   "cell_type": "code",
   "execution_count": 5,
   "metadata": {},
   "outputs": [],
   "source": [
    "def DV_fun(y, t):\n",
    "    # y - an indicator [y[i]=1 if t[i] corresponds to x sampled from the distribution p, y[i]=0 otherwise]\n",
    "    # t a vector (of the same length as y) t = log(p(x)/q(x))\n",
    "\n",
    "    t_p = t[y==1]\n",
    "    t_q = t[y==0]\n",
    "\n",
    "    return np.mean(t_p) - np.log(np.mean(np.exp(t_q)))"
   ]
  },
  {
   "cell_type": "code",
   "execution_count": 6,
   "metadata": {},
   "outputs": [
    {
     "data": {
      "text/plain": "1.7333333333333343"
     },
     "execution_count": 6,
     "metadata": {},
     "output_type": "execute_result"
    }
   ],
   "source": [
    "KL_mult_normal(mu1, mu2, Sigma1, Sigma2)"
   ]
  },
  {
   "cell_type": "code",
   "execution_count": 7,
   "outputs": [],
   "source": [
    "t = T_opt(x, mu1, mu2, Sigma1, Sigma2)"
   ],
   "metadata": {
    "collapsed": false
   }
  },
  {
   "cell_type": "code",
   "execution_count": 8,
   "outputs": [
    {
     "data": {
      "text/plain": "2.0462300003059717"
     },
     "execution_count": 8,
     "metadata": {},
     "output_type": "execute_result"
    }
   ],
   "source": [
    "DV_fun(y, t)"
   ],
   "metadata": {
    "collapsed": false
   }
  },
  {
   "cell_type": "markdown",
   "metadata": {},
   "source": [
    "### c)"
   ]
  },
  {
   "cell_type": "code",
   "execution_count": 9,
   "metadata": {},
   "outputs": [],
   "source": [
    "def DV_loss(y_true, T_x):\n",
    "    n1 = tf.math.reduce_sum(y_true)\n",
    "    n2 = tf.math.reduce_sum(tf.subtract(tf.convert_to_tensor(1.0), y_true))\n",
    "    first_term = tf.math.reduce_sum(tf.math.multiply(T_x, y_true))/n1\n",
    "    second_term = tf.math.log(tf.math.reduce_sum(tf.math.multiply(tf.math.exp(T_x), tf.subtract(tf.convert_to_tensor(1.0), y_true)))/n2)\n",
    "    return -(first_term - second_term) "
   ]
  },
  {
   "cell_type": "markdown",
   "metadata": {},
   "source": [
    "### d)"
   ]
  },
  {
   "cell_type": "code",
   "execution_count": 10,
   "metadata": {},
   "outputs": [],
   "source": [
    "model_inputs = keras.Input(shape=(5))\n",
    "layer_out = Dense(64, activation='softplus')(model_inputs)\n",
    "#layer_out = Dense(125, activation='tanh')(layer_out)\n",
    "layer_out = Dense(64)(layer_out)\n",
    "model_outputs = Dense(1)(layer_out)\n",
    "model = keras.Model(model_inputs, model_outputs)\n",
    "\n",
    "optimizer = keras.optimizers.SGD(learning_rate=1e-2)\n",
    "es = tf.keras.callbacks.EarlyStopping(monitor='val_loss', mode='min', verbose=1, patience=5)\n",
    "model.compile(optimizer=optimizer, loss=DV_loss)"
   ]
  },
  {
   "cell_type": "code",
   "execution_count": 11,
   "metadata": {},
   "outputs": [],
   "source": [
    "x_train, x_test, y_train, y_test = train_test_split(x, y, test_size=0.25)"
   ]
  },
  {
   "cell_type": "code",
   "execution_count": 12,
   "metadata": {},
   "outputs": [
    {
     "name": "stdout",
     "output_type": "stream",
     "text": [
      "Epoch 1/100\n",
      "15/15 [==============================] - 1s 15ms/step - loss: -0.0203 - val_loss: -0.0414\n",
      "Epoch 2/100\n",
      "15/15 [==============================] - 0s 5ms/step - loss: -0.0395 - val_loss: -0.0515\n",
      "Epoch 3/100\n",
      "15/15 [==============================] - 0s 6ms/step - loss: -0.0499 - val_loss: -0.0571\n",
      "Epoch 4/100\n",
      "15/15 [==============================] - 0s 5ms/step - loss: -0.0560 - val_loss: -0.0604\n",
      "Epoch 5/100\n",
      "15/15 [==============================] - 0s 5ms/step - loss: -0.0602 - val_loss: -0.0628\n",
      "Epoch 6/100\n",
      "15/15 [==============================] - 0s 5ms/step - loss: -0.0629 - val_loss: -0.0646\n",
      "Epoch 7/100\n",
      "15/15 [==============================] - 0s 5ms/step - loss: -0.0655 - val_loss: -0.0663\n",
      "Epoch 8/100\n",
      "15/15 [==============================] - 0s 5ms/step - loss: -0.0674 - val_loss: -0.0678\n",
      "Epoch 9/100\n",
      "15/15 [==============================] - 0s 5ms/step - loss: -0.0693 - val_loss: -0.0693\n",
      "Epoch 10/100\n",
      "15/15 [==============================] - 0s 5ms/step - loss: -0.0714 - val_loss: -0.0708\n",
      "Epoch 11/100\n",
      "15/15 [==============================] - 0s 5ms/step - loss: -0.0735 - val_loss: -0.0724\n",
      "Epoch 12/100\n",
      "15/15 [==============================] - 0s 4ms/step - loss: -0.0753 - val_loss: -0.0739\n",
      "Epoch 13/100\n",
      "15/15 [==============================] - 0s 5ms/step - loss: -0.0775 - val_loss: -0.0754\n",
      "Epoch 14/100\n",
      "15/15 [==============================] - 0s 5ms/step - loss: -0.0789 - val_loss: -0.0771\n",
      "Epoch 15/100\n",
      "15/15 [==============================] - 0s 5ms/step - loss: -0.0808 - val_loss: -0.0788\n",
      "Epoch 16/100\n",
      "15/15 [==============================] - 0s 4ms/step - loss: -0.0824 - val_loss: -0.0806\n",
      "Epoch 17/100\n",
      "15/15 [==============================] - 0s 4ms/step - loss: -0.0844 - val_loss: -0.0823\n",
      "Epoch 18/100\n",
      "15/15 [==============================] - 0s 4ms/step - loss: -0.0863 - val_loss: -0.0841\n",
      "Epoch 19/100\n",
      "15/15 [==============================] - 0s 4ms/step - loss: -0.0885 - val_loss: -0.0859\n",
      "Epoch 20/100\n",
      "15/15 [==============================] - 0s 5ms/step - loss: -0.0906 - val_loss: -0.0878\n",
      "Epoch 21/100\n",
      "15/15 [==============================] - 0s 4ms/step - loss: -0.0928 - val_loss: -0.0899\n",
      "Epoch 22/100\n",
      "15/15 [==============================] - 0s 5ms/step - loss: -0.0953 - val_loss: -0.0918\n",
      "Epoch 23/100\n",
      "15/15 [==============================] - 0s 5ms/step - loss: -0.0972 - val_loss: -0.0941\n",
      "Epoch 24/100\n",
      "15/15 [==============================] - 0s 5ms/step - loss: -0.0997 - val_loss: -0.0963\n",
      "Epoch 25/100\n",
      "15/15 [==============================] - 0s 5ms/step - loss: -0.1020 - val_loss: -0.0986\n",
      "Epoch 26/100\n",
      "15/15 [==============================] - 0s 5ms/step - loss: -0.1046 - val_loss: -0.1011\n",
      "Epoch 27/100\n",
      "15/15 [==============================] - 0s 5ms/step - loss: -0.1076 - val_loss: -0.1037\n",
      "Epoch 28/100\n",
      "15/15 [==============================] - 0s 4ms/step - loss: -0.1102 - val_loss: -0.1064\n",
      "Epoch 29/100\n",
      "15/15 [==============================] - 0s 3ms/step - loss: -0.1137 - val_loss: -0.1092\n",
      "Epoch 30/100\n",
      "15/15 [==============================] - 0s 4ms/step - loss: -0.1165 - val_loss: -0.1123\n",
      "Epoch 31/100\n",
      "15/15 [==============================] - 0s 4ms/step - loss: -0.1199 - val_loss: -0.1155\n",
      "Epoch 32/100\n",
      "15/15 [==============================] - 0s 4ms/step - loss: -0.1237 - val_loss: -0.1190\n",
      "Epoch 33/100\n",
      "15/15 [==============================] - 0s 4ms/step - loss: -0.1273 - val_loss: -0.1228\n",
      "Epoch 34/100\n",
      "15/15 [==============================] - 0s 3ms/step - loss: -0.1312 - val_loss: -0.1268\n",
      "Epoch 35/100\n",
      "15/15 [==============================] - 0s 3ms/step - loss: -0.1351 - val_loss: -0.1309\n",
      "Epoch 36/100\n",
      "15/15 [==============================] - 0s 4ms/step - loss: -0.1401 - val_loss: -0.1354\n",
      "Epoch 37/100\n",
      "15/15 [==============================] - 0s 4ms/step - loss: -0.1449 - val_loss: -0.1404\n",
      "Epoch 38/100\n",
      "15/15 [==============================] - 0s 4ms/step - loss: -0.1503 - val_loss: -0.1457\n",
      "Epoch 39/100\n",
      "15/15 [==============================] - 0s 5ms/step - loss: -0.1557 - val_loss: -0.1515\n",
      "Epoch 40/100\n",
      "15/15 [==============================] - 0s 5ms/step - loss: -0.1622 - val_loss: -0.1576\n",
      "Epoch 41/100\n",
      "15/15 [==============================] - 0s 5ms/step - loss: -0.1688 - val_loss: -0.1646\n",
      "Epoch 42/100\n",
      "15/15 [==============================] - 0s 5ms/step - loss: -0.1763 - val_loss: -0.1718\n",
      "Epoch 43/100\n",
      "15/15 [==============================] - 0s 5ms/step - loss: -0.1844 - val_loss: -0.1800\n",
      "Epoch 44/100\n",
      "15/15 [==============================] - 0s 4ms/step - loss: -0.1931 - val_loss: -0.1890\n",
      "Epoch 45/100\n",
      "15/15 [==============================] - 0s 5ms/step - loss: -0.2027 - val_loss: -0.1991\n",
      "Epoch 46/100\n",
      "15/15 [==============================] - 0s 5ms/step - loss: -0.2133 - val_loss: -0.2102\n",
      "Epoch 47/100\n",
      "15/15 [==============================] - 0s 5ms/step - loss: -0.2261 - val_loss: -0.2226\n",
      "Epoch 48/100\n",
      "15/15 [==============================] - 0s 5ms/step - loss: -0.2392 - val_loss: -0.2366\n",
      "Epoch 49/100\n",
      "15/15 [==============================] - 0s 4ms/step - loss: -0.2543 - val_loss: -0.2522\n",
      "Epoch 50/100\n",
      "15/15 [==============================] - 0s 4ms/step - loss: -0.2716 - val_loss: -0.2698\n",
      "Epoch 51/100\n",
      "15/15 [==============================] - 0s 5ms/step - loss: -0.2904 - val_loss: -0.2901\n",
      "Epoch 52/100\n",
      "15/15 [==============================] - 0s 4ms/step - loss: -0.3127 - val_loss: -0.3129\n",
      "Epoch 53/100\n",
      "15/15 [==============================] - 0s 4ms/step - loss: -0.3378 - val_loss: -0.3389\n",
      "Epoch 54/100\n",
      "15/15 [==============================] - 0s 5ms/step - loss: -0.3668 - val_loss: -0.3693\n",
      "Epoch 55/100\n",
      "15/15 [==============================] - 0s 5ms/step - loss: -0.3998 - val_loss: -0.4044\n",
      "Epoch 56/100\n",
      "15/15 [==============================] - 0s 5ms/step - loss: -0.4381 - val_loss: -0.4450\n",
      "Epoch 57/100\n",
      "15/15 [==============================] - 0s 5ms/step - loss: -0.4830 - val_loss: -0.4923\n",
      "Epoch 58/100\n",
      "15/15 [==============================] - 0s 4ms/step - loss: -0.5352 - val_loss: -0.5489\n",
      "Epoch 59/100\n",
      "15/15 [==============================] - 0s 4ms/step - loss: -0.5981 - val_loss: -0.6144\n",
      "Epoch 60/100\n",
      "15/15 [==============================] - 0s 4ms/step - loss: -0.6718 - val_loss: -0.6930\n",
      "Epoch 61/100\n",
      "15/15 [==============================] - 0s 5ms/step - loss: -0.7592 - val_loss: -0.7861\n",
      "Epoch 62/100\n",
      "15/15 [==============================] - 0s 5ms/step - loss: -0.8629 - val_loss: -0.8973\n",
      "Epoch 63/100\n",
      "15/15 [==============================] - 0s 5ms/step - loss: -0.9868 - val_loss: -1.0279\n",
      "Epoch 64/100\n",
      "15/15 [==============================] - 0s 5ms/step - loss: -1.1352 - val_loss: -1.1792\n",
      "Epoch 65/100\n",
      "15/15 [==============================] - 0s 5ms/step - loss: -1.3069 - val_loss: -1.3514\n",
      "Epoch 66/100\n",
      "15/15 [==============================] - 0s 5ms/step - loss: -1.4982 - val_loss: -1.5357\n",
      "Epoch 67/100\n",
      "15/15 [==============================] - 0s 5ms/step - loss: -1.7008 - val_loss: -1.6969\n",
      "Epoch 68/100\n",
      "15/15 [==============================] - 0s 5ms/step - loss: -1.8914 - val_loss: -1.8235\n",
      "Epoch 69/100\n",
      "15/15 [==============================] - 0s 5ms/step - loss: -2.0281 - val_loss: -1.8730\n",
      "Epoch 70/100\n",
      "15/15 [==============================] - 0s 5ms/step - loss: -2.1469 - val_loss: -1.8313\n",
      "Epoch 71/100\n",
      "15/15 [==============================] - 0s 5ms/step - loss: -2.1960 - val_loss: -1.8410\n",
      "Epoch 72/100\n",
      "15/15 [==============================] - 0s 5ms/step - loss: -2.2409 - val_loss: -1.8960\n",
      "Epoch 73/100\n",
      "15/15 [==============================] - 0s 5ms/step - loss: -2.1992 - val_loss: -1.8839\n",
      "Epoch 74/100\n",
      "15/15 [==============================] - 0s 5ms/step - loss: -2.2238 - val_loss: -1.9064\n",
      "Epoch 75/100\n",
      "15/15 [==============================] - 0s 5ms/step - loss: -2.2636 - val_loss: -1.7787\n",
      "Epoch 76/100\n",
      "15/15 [==============================] - 0s 5ms/step - loss: -2.2725 - val_loss: -1.7641\n",
      "Epoch 77/100\n",
      "15/15 [==============================] - 0s 5ms/step - loss: -2.3167 - val_loss: -1.8764\n",
      "Epoch 78/100\n",
      "15/15 [==============================] - 0s 5ms/step - loss: -2.2297 - val_loss: -1.7881\n",
      "Epoch 79/100\n",
      "15/15 [==============================] - 0s 5ms/step - loss: -2.2634 - val_loss: -1.6745\n",
      "Epoch 79: early stopping\n"
     ]
    }
   ],
   "source": [
    "hist = model.fit(x_train, y_train, epochs=100, batch_size=1024, validation_data=(x_test, y_test), callbacks=[es])"
   ]
  },
  {
   "cell_type": "code",
   "execution_count": 13,
   "metadata": {},
   "outputs": [
    {
     "data": {
      "text/plain": "<Figure size 640x480 with 1 Axes>",
      "image/png": "[encoded data removed]"
     },
     "metadata": {},
     "output_type": "display_data"
    }
   ],
   "source": [
    "plt.plot(hist.history['loss'])\n",
    "plt.plot(hist.history['val_loss'])\n",
    "plt.show()"
   ]
  },
  {
   "cell_type": "markdown",
   "metadata": {},
   "source": [
    "### e)"
   ]
  },
  {
   "cell_type": "code",
   "execution_count": 14,
   "metadata": {},
   "outputs": [
    {
     "name": "stdout",
     "output_type": "stream",
     "text": [
      "625/625 [==============================] - 1s 1ms/step\n"
     ]
    }
   ],
   "source": [
    "t_x_pred = model.predict(x)[:, 0]"
   ]
  },
  {
   "cell_type": "code",
   "execution_count": 15,
   "metadata": {},
   "outputs": [],
   "source": [
    "t_x_opt = T_opt(x, mu1, mu2, Sigma1, Sigma2)"
   ]
  },
  {
   "cell_type": "code",
   "execution_count": 16,
   "metadata": {},
   "outputs": [
    {
     "data": {
      "text/plain": "<Figure size 640x480 with 1 Axes>",
      "image/png": "[encoded data removed]"
     },
     "metadata": {},
     "output_type": "display_data"
    }
   ],
   "source": [
    "plt.plot(t_x_opt)\n",
    "plt.plot(t_x_pred)\n",
    "\n",
    "plt.show()"
   ]
  },
  {
   "cell_type": "code",
   "execution_count": 17,
   "metadata": {},
   "outputs": [
    {
     "data": {
      "text/plain": "<Figure size 640x480 with 1 Axes>",
      "image/png": "[encoded data removed]"
     },
     "metadata": {},
     "output_type": "display_data"
    }
   ],
   "source": [
    "plt.plot(t_x_pred[y==1], t_x_opt[y==1], \"o\", alpha=0.2, markersize=2)\n",
    "plt.plot(t_x_pred[y==0], t_x_opt[y==0], \"o\", alpha=0.2, markersize=2)\n",
    "plt.grid()\n",
    "plt.show()"
   ]
  },
  {
   "cell_type": "code",
   "execution_count": 18,
   "metadata": {},
   "outputs": [
    {
     "data": {
      "text/plain": "1.8059549"
     },
     "execution_count": 18,
     "metadata": {},
     "output_type": "execute_result"
    }
   ],
   "source": [
    "DV_fun(y, t_x_pred)"
   ]
  },
  {
   "cell_type": "code",
   "execution_count": 19,
   "metadata": {},
   "outputs": [
    {
     "data": {
      "text/plain": "2.0462300003059717"
     },
     "execution_count": 19,
     "metadata": {},
     "output_type": "execute_result"
    }
   ],
   "source": [
    "DV_fun(y, t_x_opt)"
   ]
  },
  {
   "cell_type": "code",
   "execution_count": 20,
   "metadata": {},
   "outputs": [
    {
     "name": "stdout",
     "output_type": "stream",
     "text": [
      "625/625 [==============================] - 1s 945us/step\n"
     ]
    }
   ],
   "source": [
    "# new data\n",
    "\n",
    "x1_new = np.random.multivariate_normal(mu1.flatten(), Sigma1, size=n)\n",
    "x2_new = np.random.multivariate_normal(mu2.flatten(), Sigma2, size=n)\n",
    "\n",
    "x_new = np.vstack([x1_new, x2_new])\n",
    "\n",
    "t_x_pred = model.predict(x_new)[:, 0]\n",
    "t_x_opt = T_opt(x_new, mu1, mu2, Sigma1, Sigma2)"
   ]
  },
  {
   "cell_type": "code",
   "execution_count": 21,
   "outputs": [
    {
     "data": {
      "text/plain": "2.3602638"
     },
     "execution_count": 21,
     "metadata": {},
     "output_type": "execute_result"
    }
   ],
   "source": [
    "DV_fun(y, t_x_pred)"
   ],
   "metadata": {
    "collapsed": false
   }
  },
  {
   "cell_type": "code",
   "execution_count": 22,
   "outputs": [
    {
     "data": {
      "text/plain": "2.368197227647678"
     },
     "execution_count": 22,
     "metadata": {},
     "output_type": "execute_result"
    }
   ],
   "source": [
    "DV_fun(y, t_x_opt)"
   ],
   "metadata": {
    "collapsed": false
   }
  },
  {
   "cell_type": "markdown",
   "metadata": {},
   "source": [
    "### f)"
   ]
  },
  {
   "cell_type": "code",
   "execution_count": 23,
   "metadata": {},
   "outputs": [],
   "source": [
    "def NWJ_loss(y_true, y_pred):\n",
    "    n1 = tf.math.reduce_sum(y_true)\n",
    "    n2 = tf.math.reduce_sum(tf.subtract(tf.convert_to_tensor(1.0), y_true))\n",
    "    first_term = tf.math.reduce_sum(tf.math.multiply(y_pred, y_true))/n1\n",
    "    second_term = tf.math.reduce_sum(tf.math.multiply(tf.math.exp(tf.subtract(y_pred, tf.convert_to_tensor(1.0))), tf.subtract(tf.convert_to_tensor(1.0), y_true)))/n2\n",
    "    return -(first_term - second_term)"
   ]
  },
  {
   "cell_type": "code",
   "execution_count": 24,
   "outputs": [],
   "source": [
    "def NWJ_fun(y, t):\n",
    "    return np.mean(t[y==1])-np.mean(np.exp(t[y==0]-1))"
   ],
   "metadata": {
    "collapsed": false
   }
  },
  {
   "cell_type": "code",
   "execution_count": 25,
   "outputs": [],
   "source": [
    "np.random.seed(123)\n",
    "\n",
    "mu1 = np.asarray([0.2, 0.2, 0.2, 0, 0]).T\n",
    "mu2 = np.asarray([0, 0, 0.2, 0.2, 0.2]).T\n",
    "n = 10000\n",
    "ro1 = 0.1\n",
    "ro2 = -0.2\n",
    "\n",
    "Sigma1 = np.full((5, 5), ro1)\n",
    "Sigma2 = np.full((5, 5), ro2)\n",
    "np.fill_diagonal(Sigma1, 1)\n",
    "np.fill_diagonal(Sigma2, 1)\n",
    "\n",
    "x1 = np.random.multivariate_normal(mu1, Sigma1, size=n)\n",
    "x2 = np.random.multivariate_normal(mu2, Sigma2, size=n)\n",
    "\n",
    "x = np.vstack([x1, x2])\n",
    "y = np.asarray([1.0]*n + [0.0]*n)\n",
    "\n",
    "mu1 = np.reshape(mu1, (-1,1))\n",
    "mu2 = np.reshape(mu2, (-1,1))\n"
   ],
   "metadata": {
    "collapsed": false
   }
  },
  {
   "cell_type": "code",
   "execution_count": 26,
   "outputs": [],
   "source": [
    "model_inputs = keras.Input(shape=(5))\n",
    "layer_out = Dense(64, activation='softplus')(model_inputs)\n",
    "#layer_out = Dense(125, activation='tanh')(layer_out)\n",
    "layer_out = Dense(64)(layer_out)\n",
    "model_outputs = Dense(1)(layer_out)\n",
    "model = keras.Model(model_inputs, model_outputs)\n",
    "\n",
    "optimizer = keras.optimizers.SGD(learning_rate=5e-3)\n",
    "es = tf.keras.callbacks.EarlyStopping(monitor='val_loss', mode='min', verbose=1, patience=5)\n",
    "model.compile(optimizer=optimizer, loss=NWJ_loss)"
   ],
   "metadata": {
    "collapsed": false
   }
  },
  {
   "cell_type": "code",
   "execution_count": 27,
   "outputs": [],
   "source": [
    "x_train, x_test, y_train, y_test = train_test_split(x, y, test_size=0.25)"
   ],
   "metadata": {
    "collapsed": false
   }
  },
  {
   "cell_type": "code",
   "execution_count": 28,
   "outputs": [
    {
     "name": "stdout",
     "output_type": "stream",
     "text": [
      "Epoch 1/200\n",
      "15/15 [==============================] - 1s 12ms/step - loss: 0.0890 - val_loss: 0.0168\n",
      "Epoch 2/200\n",
      "15/15 [==============================] - 0s 5ms/step - loss: 0.0114 - val_loss: 2.4929e-04\n",
      "Epoch 3/200\n",
      "15/15 [==============================] - 0s 4ms/step - loss: -0.0039 - val_loss: -0.0125\n",
      "Epoch 4/200\n",
      "15/15 [==============================] - 0s 5ms/step - loss: -0.0155 - val_loss: -0.0222\n",
      "Epoch 5/200\n",
      "15/15 [==============================] - 0s 4ms/step - loss: -0.0245 - val_loss: -0.0299\n",
      "Epoch 6/200\n",
      "15/15 [==============================] - 0s 5ms/step - loss: -0.0317 - val_loss: -0.0360\n",
      "Epoch 7/200\n",
      "15/15 [==============================] - 0s 4ms/step - loss: -0.0376 - val_loss: -0.0408\n",
      "Epoch 8/200\n",
      "15/15 [==============================] - 0s 5ms/step - loss: -0.0424 - val_loss: -0.0446\n",
      "Epoch 9/200\n",
      "15/15 [==============================] - 0s 4ms/step - loss: -0.0461 - val_loss: -0.0477\n",
      "Epoch 10/200\n",
      "15/15 [==============================] - 0s 4ms/step - loss: -0.0492 - val_loss: -0.0504\n",
      "Epoch 11/200\n",
      "15/15 [==============================] - 0s 4ms/step - loss: -0.0520 - val_loss: -0.0526\n",
      "Epoch 12/200\n",
      "15/15 [==============================] - 0s 4ms/step - loss: -0.0539 - val_loss: -0.0545\n",
      "Epoch 13/200\n",
      "15/15 [==============================] - 0s 3ms/step - loss: -0.0562 - val_loss: -0.0561\n",
      "Epoch 14/200\n",
      "15/15 [==============================] - 0s 5ms/step - loss: -0.0579 - val_loss: -0.0577\n",
      "Epoch 15/200\n",
      "15/15 [==============================] - 0s 5ms/step - loss: -0.0596 - val_loss: -0.0590\n",
      "Epoch 16/200\n",
      "15/15 [==============================] - 0s 4ms/step - loss: -0.0611 - val_loss: -0.0602\n",
      "Epoch 17/200\n",
      "15/15 [==============================] - 0s 5ms/step - loss: -0.0623 - val_loss: -0.0612\n",
      "Epoch 18/200\n",
      "15/15 [==============================] - 0s 5ms/step - loss: -0.0633 - val_loss: -0.0624\n",
      "Epoch 19/200\n",
      "15/15 [==============================] - 0s 5ms/step - loss: -0.0645 - val_loss: -0.0634\n",
      "Epoch 20/200\n",
      "15/15 [==============================] - 0s 5ms/step - loss: -0.0654 - val_loss: -0.0641\n",
      "Epoch 21/200\n",
      "15/15 [==============================] - 0s 5ms/step - loss: -0.0667 - val_loss: -0.0652\n",
      "Epoch 22/200\n",
      "15/15 [==============================] - 0s 5ms/step - loss: -0.0678 - val_loss: -0.0661\n",
      "Epoch 23/200\n",
      "15/15 [==============================] - 0s 5ms/step - loss: -0.0689 - val_loss: -0.0672\n",
      "Epoch 24/200\n",
      "15/15 [==============================] - 0s 5ms/step - loss: -0.0698 - val_loss: -0.0679\n",
      "Epoch 25/200\n",
      "15/15 [==============================] - 0s 5ms/step - loss: -0.0707 - val_loss: -0.0690\n",
      "Epoch 26/200\n",
      "15/15 [==============================] - 0s 5ms/step - loss: -0.0715 - val_loss: -0.0695\n",
      "Epoch 27/200\n",
      "15/15 [==============================] - 0s 5ms/step - loss: -0.0728 - val_loss: -0.0707\n",
      "Epoch 28/200\n",
      "15/15 [==============================] - 0s 5ms/step - loss: -0.0740 - val_loss: -0.0716\n",
      "Epoch 29/200\n",
      "15/15 [==============================] - 0s 5ms/step - loss: -0.0747 - val_loss: -0.0725\n",
      "Epoch 30/200\n",
      "15/15 [==============================] - 0s 5ms/step - loss: -0.0755 - val_loss: -0.0734\n",
      "Epoch 31/200\n",
      "15/15 [==============================] - 0s 5ms/step - loss: -0.0766 - val_loss: -0.0742\n",
      "Epoch 32/200\n",
      "15/15 [==============================] - 0s 4ms/step - loss: -0.0778 - val_loss: -0.0753\n",
      "Epoch 33/200\n",
      "15/15 [==============================] - 0s 5ms/step - loss: -0.0786 - val_loss: -0.0762\n",
      "Epoch 34/200\n",
      "15/15 [==============================] - 0s 5ms/step - loss: -0.0798 - val_loss: -0.0772\n",
      "Epoch 35/200\n",
      "15/15 [==============================] - 0s 5ms/step - loss: -0.0809 - val_loss: -0.0782\n",
      "Epoch 36/200\n",
      "15/15 [==============================] - 0s 5ms/step - loss: -0.0822 - val_loss: -0.0792\n",
      "Epoch 37/200\n",
      "15/15 [==============================] - 0s 5ms/step - loss: -0.0829 - val_loss: -0.0802\n",
      "Epoch 38/200\n",
      "15/15 [==============================] - 0s 5ms/step - loss: -0.0839 - val_loss: -0.0812\n",
      "Epoch 39/200\n",
      "15/15 [==============================] - 0s 5ms/step - loss: -0.0850 - val_loss: -0.0823\n",
      "Epoch 40/200\n",
      "15/15 [==============================] - 0s 5ms/step - loss: -0.0865 - val_loss: -0.0834\n",
      "Epoch 41/200\n",
      "15/15 [==============================] - 0s 5ms/step - loss: -0.0876 - val_loss: -0.0845\n",
      "Epoch 42/200\n",
      "15/15 [==============================] - 0s 5ms/step - loss: -0.0889 - val_loss: -0.0857\n",
      "Epoch 43/200\n",
      "15/15 [==============================] - 0s 5ms/step - loss: -0.0897 - val_loss: -0.0868\n",
      "Epoch 44/200\n",
      "15/15 [==============================] - 0s 5ms/step - loss: -0.0910 - val_loss: -0.0875\n",
      "Epoch 45/200\n",
      "15/15 [==============================] - 0s 4ms/step - loss: -0.0923 - val_loss: -0.0892\n",
      "Epoch 46/200\n",
      "15/15 [==============================] - 0s 5ms/step - loss: -0.0938 - val_loss: -0.0905\n",
      "Epoch 47/200\n",
      "15/15 [==============================] - 0s 5ms/step - loss: -0.0951 - val_loss: -0.0916\n",
      "Epoch 48/200\n",
      "15/15 [==============================] - 0s 5ms/step - loss: -0.0963 - val_loss: -0.0930\n",
      "Epoch 49/200\n",
      "15/15 [==============================] - 0s 5ms/step - loss: -0.0978 - val_loss: -0.0944\n",
      "Epoch 50/200\n",
      "15/15 [==============================] - 0s 4ms/step - loss: -0.0991 - val_loss: -0.0958\n",
      "Epoch 51/200\n",
      "15/15 [==============================] - 0s 4ms/step - loss: -0.1004 - val_loss: -0.0972\n",
      "Epoch 52/200\n",
      "15/15 [==============================] - 0s 4ms/step - loss: -0.1022 - val_loss: -0.0986\n",
      "Epoch 53/200\n",
      "15/15 [==============================] - 0s 5ms/step - loss: -0.1040 - val_loss: -0.1003\n",
      "Epoch 54/200\n",
      "15/15 [==============================] - 0s 5ms/step - loss: -0.1054 - val_loss: -0.1017\n",
      "Epoch 55/200\n",
      "15/15 [==============================] - 0s 4ms/step - loss: -0.1067 - val_loss: -0.1034\n",
      "Epoch 56/200\n",
      "15/15 [==============================] - 0s 4ms/step - loss: -0.1084 - val_loss: -0.1050\n",
      "Epoch 57/200\n",
      "15/15 [==============================] - 0s 4ms/step - loss: -0.1101 - val_loss: -0.1067\n",
      "Epoch 58/200\n",
      "15/15 [==============================] - 0s 4ms/step - loss: -0.1120 - val_loss: -0.1087\n",
      "Epoch 59/200\n",
      "15/15 [==============================] - 0s 4ms/step - loss: -0.1137 - val_loss: -0.1106\n",
      "Epoch 60/200\n",
      "15/15 [==============================] - 0s 4ms/step - loss: -0.1157 - val_loss: -0.1124\n",
      "Epoch 61/200\n",
      "15/15 [==============================] - 0s 4ms/step - loss: -0.1176 - val_loss: -0.1144\n",
      "Epoch 62/200\n",
      "15/15 [==============================] - 0s 4ms/step - loss: -0.1200 - val_loss: -0.1165\n",
      "Epoch 63/200\n",
      "15/15 [==============================] - 0s 4ms/step - loss: -0.1221 - val_loss: -0.1187\n",
      "Epoch 64/200\n",
      "15/15 [==============================] - 0s 5ms/step - loss: -0.1240 - val_loss: -0.1210\n",
      "Epoch 65/200\n",
      "15/15 [==============================] - 0s 5ms/step - loss: -0.1262 - val_loss: -0.1232\n",
      "Epoch 66/200\n",
      "15/15 [==============================] - 0s 5ms/step - loss: -0.1287 - val_loss: -0.1256\n",
      "Epoch 67/200\n",
      "15/15 [==============================] - 0s 5ms/step - loss: -0.1314 - val_loss: -0.1282\n",
      "Epoch 68/200\n",
      "15/15 [==============================] - 0s 5ms/step - loss: -0.1338 - val_loss: -0.1309\n",
      "Epoch 69/200\n",
      "15/15 [==============================] - 0s 5ms/step - loss: -0.1362 - val_loss: -0.1335\n",
      "Epoch 70/200\n",
      "15/15 [==============================] - 0s 5ms/step - loss: -0.1388 - val_loss: -0.1362\n",
      "Epoch 71/200\n",
      "15/15 [==============================] - 0s 4ms/step - loss: -0.1420 - val_loss: -0.1394\n",
      "Epoch 72/200\n",
      "15/15 [==============================] - 0s 5ms/step - loss: -0.1452 - val_loss: -0.1424\n",
      "Epoch 73/200\n",
      "15/15 [==============================] - 0s 5ms/step - loss: -0.1486 - val_loss: -0.1457\n",
      "Epoch 74/200\n",
      "15/15 [==============================] - 0s 4ms/step - loss: -0.1517 - val_loss: -0.1492\n",
      "Epoch 75/200\n",
      "15/15 [==============================] - 0s 4ms/step - loss: -0.1553 - val_loss: -0.1528\n",
      "Epoch 76/200\n",
      "15/15 [==============================] - 0s 4ms/step - loss: -0.1589 - val_loss: -0.1562\n",
      "Epoch 77/200\n",
      "15/15 [==============================] - 0s 5ms/step - loss: -0.1631 - val_loss: -0.1605\n",
      "Epoch 78/200\n",
      "15/15 [==============================] - 0s 4ms/step - loss: -0.1663 - val_loss: -0.1645\n",
      "Epoch 79/200\n",
      "15/15 [==============================] - 0s 4ms/step - loss: -0.1710 - val_loss: -0.1689\n",
      "Epoch 80/200\n",
      "15/15 [==============================] - 0s 4ms/step - loss: -0.1755 - val_loss: -0.1736\n",
      "Epoch 81/200\n",
      "15/15 [==============================] - 0s 4ms/step - loss: -0.1800 - val_loss: -0.1784\n",
      "Epoch 82/200\n",
      "15/15 [==============================] - 0s 4ms/step - loss: -0.1848 - val_loss: -0.1834\n",
      "Epoch 83/200\n",
      "15/15 [==============================] - 0s 4ms/step - loss: -0.1898 - val_loss: -0.1887\n",
      "Epoch 84/200\n",
      "15/15 [==============================] - 0s 4ms/step - loss: -0.1956 - val_loss: -0.1943\n",
      "Epoch 85/200\n",
      "15/15 [==============================] - 0s 4ms/step - loss: -0.2013 - val_loss: -0.2002\n",
      "Epoch 86/200\n",
      "15/15 [==============================] - 0s 4ms/step - loss: -0.2068 - val_loss: -0.2065\n",
      "Epoch 87/200\n",
      "15/15 [==============================] - 0s 5ms/step - loss: -0.2135 - val_loss: -0.2132\n",
      "Epoch 88/200\n",
      "15/15 [==============================] - 0s 5ms/step - loss: -0.2204 - val_loss: -0.2201\n",
      "Epoch 89/200\n",
      "15/15 [==============================] - 0s 5ms/step - loss: -0.2276 - val_loss: -0.2275\n",
      "Epoch 90/200\n",
      "15/15 [==============================] - 0s 5ms/step - loss: -0.2353 - val_loss: -0.2354\n",
      "Epoch 91/200\n",
      "15/15 [==============================] - 0s 5ms/step - loss: -0.2432 - val_loss: -0.2437\n",
      "Epoch 92/200\n",
      "15/15 [==============================] - 0s 5ms/step - loss: -0.2516 - val_loss: -0.2526\n",
      "Epoch 93/200\n",
      "15/15 [==============================] - 0s 5ms/step - loss: -0.2610 - val_loss: -0.2622\n",
      "Epoch 94/200\n",
      "15/15 [==============================] - 0s 5ms/step - loss: -0.2708 - val_loss: -0.2720\n",
      "Epoch 95/200\n",
      "15/15 [==============================] - 0s 5ms/step - loss: -0.2810 - val_loss: -0.2828\n",
      "Epoch 96/200\n",
      "15/15 [==============================] - 0s 4ms/step - loss: -0.2915 - val_loss: -0.2943\n",
      "Epoch 97/200\n",
      "15/15 [==============================] - 0s 4ms/step - loss: -0.3037 - val_loss: -0.3064\n",
      "Epoch 98/200\n",
      "15/15 [==============================] - 0s 4ms/step - loss: -0.3161 - val_loss: -0.3194\n",
      "Epoch 99/200\n",
      "15/15 [==============================] - 0s 4ms/step - loss: -0.3296 - val_loss: -0.3333\n",
      "Epoch 100/200\n",
      "15/15 [==============================] - 0s 5ms/step - loss: -0.3437 - val_loss: -0.3481\n",
      "Epoch 101/200\n",
      "15/15 [==============================] - 0s 5ms/step - loss: -0.3591 - val_loss: -0.3639\n",
      "Epoch 102/200\n",
      "15/15 [==============================] - 0s 5ms/step - loss: -0.3753 - val_loss: -0.3810\n",
      "Epoch 103/200\n",
      "15/15 [==============================] - 0s 4ms/step - loss: -0.3932 - val_loss: -0.3993\n",
      "Epoch 104/200\n",
      "15/15 [==============================] - 0s 5ms/step - loss: -0.4119 - val_loss: -0.4188\n",
      "Epoch 105/200\n",
      "15/15 [==============================] - 0s 5ms/step - loss: -0.4319 - val_loss: -0.4399\n",
      "Epoch 106/200\n",
      "15/15 [==============================] - 0s 5ms/step - loss: -0.4534 - val_loss: -0.4623\n",
      "Epoch 107/200\n",
      "15/15 [==============================] - 0s 5ms/step - loss: -0.4776 - val_loss: -0.4868\n",
      "Epoch 108/200\n",
      "15/15 [==============================] - 0s 5ms/step - loss: -0.5027 - val_loss: -0.5129\n",
      "Epoch 109/200\n",
      "15/15 [==============================] - 0s 5ms/step - loss: -0.5299 - val_loss: -0.5410\n",
      "Epoch 110/200\n",
      "15/15 [==============================] - 0s 5ms/step - loss: -0.5592 - val_loss: -0.5715\n",
      "Epoch 111/200\n",
      "15/15 [==============================] - 0s 5ms/step - loss: -0.5908 - val_loss: -0.6041\n",
      "Epoch 112/200\n",
      "15/15 [==============================] - 0s 4ms/step - loss: -0.6250 - val_loss: -0.6396\n",
      "Epoch 113/200\n",
      "15/15 [==============================] - 0s 4ms/step - loss: -0.6626 - val_loss: -0.6778\n",
      "Epoch 114/200\n",
      "15/15 [==============================] - 0s 5ms/step - loss: -0.7022 - val_loss: -0.7182\n",
      "Epoch 115/200\n",
      "15/15 [==============================] - 0s 4ms/step - loss: -0.7454 - val_loss: -0.7628\n",
      "Epoch 116/200\n",
      "15/15 [==============================] - 0s 4ms/step - loss: -0.7923 - val_loss: -0.8109\n",
      "Epoch 117/200\n",
      "15/15 [==============================] - 0s 5ms/step - loss: -0.8430 - val_loss: -0.8627\n",
      "Epoch 118/200\n",
      "15/15 [==============================] - 0s 5ms/step - loss: -0.8972 - val_loss: -0.9183\n",
      "Epoch 119/200\n",
      "15/15 [==============================] - 0s 5ms/step - loss: -0.9565 - val_loss: -0.9755\n",
      "Epoch 120/200\n",
      "15/15 [==============================] - 0s 5ms/step - loss: -1.0176 - val_loss: -1.0412\n",
      "Epoch 121/200\n",
      "15/15 [==============================] - 0s 5ms/step - loss: -1.0848 - val_loss: -1.1095\n",
      "Epoch 122/200\n",
      "15/15 [==============================] - 0s 5ms/step - loss: -1.1586 - val_loss: -1.1810\n",
      "Epoch 123/200\n",
      "15/15 [==============================] - 0s 5ms/step - loss: -1.2362 - val_loss: -1.2575\n",
      "Epoch 124/200\n",
      "15/15 [==============================] - 0s 4ms/step - loss: -1.3172 - val_loss: -1.3336\n",
      "Epoch 125/200\n",
      "15/15 [==============================] - 0s 5ms/step - loss: -1.3997 - val_loss: -1.4151\n",
      "Epoch 126/200\n",
      "15/15 [==============================] - 0s 5ms/step - loss: -1.4882 - val_loss: -1.4932\n",
      "Epoch 127/200\n",
      "15/15 [==============================] - 0s 5ms/step - loss: -1.5808 - val_loss: -1.5726\n",
      "Epoch 128/200\n",
      "15/15 [==============================] - 0s 4ms/step - loss: -1.6653 - val_loss: -1.6369\n",
      "Epoch 129/200\n",
      "15/15 [==============================] - 0s 4ms/step - loss: -1.7514 - val_loss: -1.7105\n",
      "Epoch 130/200\n",
      "15/15 [==============================] - 0s 5ms/step - loss: -1.8289 - val_loss: -1.7538\n",
      "Epoch 131/200\n",
      "15/15 [==============================] - 0s 5ms/step - loss: -1.8989 - val_loss: -1.7623\n",
      "Epoch 132/200\n",
      "15/15 [==============================] - 0s 5ms/step - loss: -1.9546 - val_loss: -1.8306\n",
      "Epoch 133/200\n",
      "15/15 [==============================] - 0s 5ms/step - loss: -1.9941 - val_loss: -1.8196\n",
      "Epoch 134/200\n",
      "15/15 [==============================] - 0s 5ms/step - loss: -2.0412 - val_loss: -1.6852\n",
      "Epoch 135/200\n",
      "15/15 [==============================] - 0s 5ms/step - loss: -2.0710 - val_loss: -1.7390\n",
      "Epoch 136/200\n",
      "15/15 [==============================] - 0s 5ms/step - loss: -2.1169 - val_loss: -1.4399\n",
      "Epoch 137/200\n",
      "15/15 [==============================] - 0s 4ms/step - loss: -2.1027 - val_loss: -1.8053\n",
      "Epoch 137: early stopping\n"
     ]
    }
   ],
   "source": [
    "hist = model.fit(x_train, y_train, epochs=200, batch_size=1024, validation_data=(x_test, y_test), callbacks=[es])"
   ],
   "metadata": {
    "collapsed": false
   }
  },
  {
   "cell_type": "code",
   "execution_count": 29,
   "outputs": [
    {
     "data": {
      "text/plain": "<Figure size 640x480 with 1 Axes>",
      "image/png": "[encoded data removed]"
     },
     "metadata": {},
     "output_type": "display_data"
    }
   ],
   "source": [
    "plt.plot(hist.history['loss'])\n",
    "plt.plot(hist.history['val_loss'])\n",
    "plt.show()"
   ],
   "metadata": {
    "collapsed": false
   }
  },
  {
   "cell_type": "code",
   "execution_count": 30,
   "outputs": [
    {
     "name": "stdout",
     "output_type": "stream",
     "text": [
      "625/625 [==============================] - 1s 984us/step\n"
     ]
    }
   ],
   "source": [
    "t_x_pred = model.predict(x)[:, 0]"
   ],
   "metadata": {
    "collapsed": false
   }
  },
  {
   "cell_type": "code",
   "execution_count": 31,
   "outputs": [],
   "source": [
    "t_x_opt = T_opt(x, mu1, mu2, Sigma1, Sigma2)"
   ],
   "metadata": {
    "collapsed": false
   }
  },
  {
   "cell_type": "code",
   "execution_count": 32,
   "outputs": [
    {
     "data": {
      "text/plain": "<Figure size 640x480 with 1 Axes>",
      "image/png": "[encoded data removed]"
     },
     "metadata": {},
     "output_type": "display_data"
    }
   ],
   "source": [
    "plt.plot(t_x_opt)\n",
    "plt.plot(t_x_pred)\n",
    "\n",
    "plt.show()"
   ],
   "metadata": {
    "collapsed": false
   }
  },
  {
   "cell_type": "code",
   "execution_count": 33,
   "outputs": [
    {
     "data": {
      "text/plain": "<Figure size 640x480 with 1 Axes>",
      "image/png": "[encoded data removed]"
     },
     "metadata": {},
     "output_type": "display_data"
    }
   ],
   "source": [
    "plt.plot(t_x_pred[y==1], t_x_opt[y==1], \"o\", alpha=0.2, markersize=2)\n",
    "plt.plot(t_x_pred[y==0], t_x_opt[y==0], \"o\", alpha=0.2, markersize=2)\n",
    "plt.grid()\n",
    "plt.show()"
   ],
   "metadata": {
    "collapsed": false
   }
  },
  {
   "cell_type": "code",
   "execution_count": 34,
   "outputs": [
    {
     "data": {
      "text/plain": "2.0839312"
     },
     "execution_count": 34,
     "metadata": {},
     "output_type": "execute_result"
    }
   ],
   "source": [
    "NWJ_fun(y, t_x_pred)"
   ],
   "metadata": {
    "collapsed": false
   }
  },
  {
   "cell_type": "code",
   "execution_count": 35,
   "outputs": [
    {
     "data": {
      "text/plain": "1.7473387277077388"
     },
     "execution_count": 35,
     "metadata": {},
     "output_type": "execute_result"
    }
   ],
   "source": [
    "NWJ_fun(y, t_x_opt)"
   ],
   "metadata": {
    "collapsed": false
   }
  },
  {
   "cell_type": "code",
   "execution_count": 36,
   "outputs": [
    {
     "name": "stdout",
     "output_type": "stream",
     "text": [
      "625/625 [==============================] - 1s 954us/step\n"
     ]
    }
   ],
   "source": [
    "# new data\n",
    "\n",
    "x1_new = np.random.multivariate_normal(mu1.flatten(), Sigma1, size=n)\n",
    "x2_new = np.random.multivariate_normal(mu2.flatten(), Sigma2, size=n)\n",
    "\n",
    "x_new = np.vstack([x1_new, x2_new])\n",
    "\n",
    "t_x_pred = model.predict(x_new)[:, 0]\n",
    "t_x_opt = T_opt(x_new, mu1, mu2, Sigma1, Sigma2)"
   ],
   "metadata": {
    "collapsed": false
   }
  },
  {
   "cell_type": "code",
   "execution_count": 37,
   "outputs": [
    {
     "data": {
      "text/plain": "2.1833005"
     },
     "execution_count": 37,
     "metadata": {},
     "output_type": "execute_result"
    }
   ],
   "source": [
    "NWJ_fun(y, t_x_pred)"
   ],
   "metadata": {
    "collapsed": false
   }
  },
  {
   "cell_type": "code",
   "execution_count": 38,
   "outputs": [
    {
     "data": {
      "text/plain": "1.8822475353066346"
     },
     "execution_count": 38,
     "metadata": {},
     "output_type": "execute_result"
    }
   ],
   "source": [
    "NWJ_fun(y, t_x_opt)"
   ],
   "metadata": {
    "collapsed": false
   }
  },
  {
   "cell_type": "markdown",
   "source": [
    "Results:\n",
    "\n",
    "KL = 1.7333333333333343\n",
    "DV_ratios of densities = 2.0462300003059717\n",
    "DV_neural network = 1.8478403\n",
    "DV_ratios of densities_new data = 2.368197227647678\n",
    "DV_neural network_new data = 2.3640594\n",
    "NWJ_ratios of densities = 1.7473387277077388\n",
    "NWJ_neural network = 2.0605216\n",
    "NWJ_ratios of densities_new data = 1.8822475353066346\n",
    "NWJ_neural network_new data = 2.1833005\n",
    "\n",
    "This experiment was performed only for a single seed, so it should be repeated for better statistical significance. However, it appears that both methods of estimation can give relatively close values to the true value. Based on a single run, it seems like DV estimation is better with neural networks than relying on densities, while for NWJ the opposite is true. The conclusions could be influenced by the model design and training strategy."
   ],
   "metadata": {
    "collapsed": false
   }
  },
  {
   "cell_type": "code",
   "execution_count": 38,
   "outputs": [],
   "source": [],
   "metadata": {
    "collapsed": false
   }
  }
 ],
 "metadata": {
  "kernelspec": {
   "display_name": "Python 3 (ipykernel)",
   "language": "python",
   "name": "python3"
  },
  "language_info": {
   "codemirror_mode": {
    "name": "ipython",
    "version": 3
   },
   "file_extension": ".py",
   "mimetype": "text/x-python",
   "name": "python",
   "nbconvert_exporter": "python",
   "pygments_lexer": "ipython3",
   "version": "3.9.16"
  }
 },
 "nbformat": 4,
 "nbformat_minor": 4
}
