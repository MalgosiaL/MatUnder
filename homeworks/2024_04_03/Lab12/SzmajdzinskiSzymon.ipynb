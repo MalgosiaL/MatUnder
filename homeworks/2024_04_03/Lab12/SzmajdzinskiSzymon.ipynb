{
 "cells": [
  {
   "cell_type": "code",
   "execution_count": null,
   "metadata": {},
   "outputs": [],
   "source": []
  },
  {
   "cell_type": "markdown",
   "metadata": {},
   "source": [
    "# Mathematical Underpinnings - Lab 6"
   ]
  },
  {
   "cell_type": "code",
   "execution_count": 1,
   "metadata": {},
   "outputs": [],
   "source": [
    "from sklearn.metrics import mutual_info_score\n",
    "import numpy as np\n",
    "import matplotlib.pyplot as plt\n",
    "import seaborn as sns\n",
    "import pandas as pd\n",
    "from tqdm import tqdm"
   ]
  },
  {
   "cell_type": "markdown",
   "metadata": {},
   "source": [
    "## Useful functions"
   ]
  },
  {
   "cell_type": "code",
   "execution_count": 2,
   "metadata": {},
   "outputs": [],
   "source": [
    "def discetize_2bins(X):\n",
    "    X_discrete = 1*(X >= 0)\n",
    "    return X_discrete"
   ]
  },
  {
   "cell_type": "code",
   "execution_count": 3,
   "metadata": {},
   "outputs": [],
   "source": [
    "def conditional_permutation(X, Z):\n",
    "\n",
    "    z_values = np.unique(Z)\n",
    "    n_z_values = len(z_values)\n",
    "    n = len(Z)\n",
    "\n",
    "    X_b = np.zeros(n)\n",
    "\n",
    "    for i in range(n_z_values):\n",
    "\n",
    "        z_value_tmp = z_values[i]\n",
    "\n",
    "        X_b[Z == z_value_tmp] = np.random.permutation(X[Z == z_value_tmp])\n",
    "\n",
    "    return X_b"
   ]
  },
  {
   "cell_type": "code",
   "execution_count": 4,
   "metadata": {},
   "outputs": [],
   "source": [
    "def conditional_mutual_information(X, Y, Z):\n",
    "\n",
    "    z_values = np.unique(Z)\n",
    "    n_z_values = len(z_values)\n",
    "    n = len(Z)\n",
    "\n",
    "    cmi = 0\n",
    "\n",
    "    for i in range(n_z_values):\n",
    "\n",
    "        z_value_tmp = z_values[i]\n",
    "        z_condition = (Z == z_value_tmp)\n",
    "\n",
    "        X_z = X[z_condition]\n",
    "        Y_z = Y[z_condition]\n",
    "\n",
    "        mi_XY_z = mutual_info_score(X_z, Y_z)\n",
    "        p_z = np.sum(z_condition)/n\n",
    "\n",
    "        cmi += p_z*mi_XY_z\n",
    "\n",
    "    return cmi"
   ]
  },
  {
   "cell_type": "code",
   "execution_count": 5,
   "metadata": {},
   "outputs": [],
   "source": [
    "# II(X;Y;Z)\n",
    "def interaction_information(X, Y, Z):\n",
    "    return conditional_mutual_information(X, Y, Z) - mutual_info_score(X, Y)"
   ]
  },
  {
   "cell_type": "code",
   "execution_count": 6,
   "metadata": {},
   "outputs": [],
   "source": [
    "# II(X;Y;Z1;Z2)\n",
    "def interaction_information2(X, Y, Z1, Z2):\n",
    "    Z_1_and_2 = 2*Z2 + Z1\n",
    "    return interaction_information(X, Y, Z_1_and_2) - interaction_information(X, Y, Z1) - interaction_information(X, Y, Z2)"
   ]
  },
  {
   "cell_type": "markdown",
   "metadata": {},
   "source": [
    "## Task 1"
   ]
  },
  {
   "cell_type": "code",
   "execution_count": 15,
   "metadata": {},
   "outputs": [],
   "source": [
    "def secmi2(X, Y, Z):\n",
    "    ii = 0\n",
    "    for i in range(Z.shape[1]):\n",
    "        ii += interaction_information(X, Y, Z[:, i])\n",
    "    return ii + mutual_info_score(X, Y)\n",
    "\n",
    "def secmi3(X,Y,Z):\n",
    "    ii = secmi2(X, Y, Z)\n",
    "    ii2 = 0\n",
    "    for i in range(Z.shape[1]):\n",
    "        for j in range(i + 1, Z.shape[1]):\n",
    "            ii2 += interaction_information2(X, Y, Z[:, i], Z[:, j])\n",
    "    return ii + ii2"
   ]
  },
  {
   "cell_type": "markdown",
   "metadata": {},
   "source": [
    "### a)"
   ]
  },
  {
   "cell_type": "code",
   "execution_count": 8,
   "metadata": {},
   "outputs": [],
   "source": [
    "def cond_indep_test_permutation(X, Y, Z, B, stat):\n",
    "\n",
    "    n_col_Z = Z.shape[1]\n",
    "    Z_1dim = np.dot(Z, 2**np.linspace(0, n_col_Z-1, n_col_Z))\n",
    "\n",
    "    if stat == \"cmi\":\n",
    "        stat_value = conditional_mutual_information(X, Y, Z_1dim)\n",
    "    if stat == \"secmi2\":\n",
    "        stat_value = secmi2(X, Y, Z)\n",
    "    if stat == \"secmi3\":\n",
    "        stat_value = secmi3(X, Y, Z)\n",
    "\n",
    "    condition_p_value = 0\n",
    "    for b in range(B):\n",
    "        X_b = conditional_permutation(X, Z_1dim)\n",
    "\n",
    "        if stat == \"cmi\":\n",
    "            stat_value_b = conditional_mutual_information(X_b, Y, Z_1dim)\n",
    "        if stat == \"secmi2\":\n",
    "            stat_value_b = secmi2(X_b, Y, Z)\n",
    "        if stat == \"secmi3\":\n",
    "            stat_value_b = secmi3(X_b, Y, Z)\n",
    "\n",
    "        if stat_value <= stat_value_b:\n",
    "            condition_p_value += 1\n",
    "\n",
    "    p_value = (1 + condition_p_value)/(1 + B)\n",
    "\n",
    "    return 2*len(X)*stat_value, p_value"
   ]
  },
  {
   "cell_type": "markdown",
   "metadata": {},
   "source": [
    "### b)"
   ]
  },
  {
   "cell_type": "code",
   "execution_count": 9,
   "metadata": {},
   "outputs": [],
   "source": [
    "def generate_data_B(n = 100):\n",
    "    Y = np.random.normal(0, 1, n)\n",
    "    Y = discetize_2bins(Y)\n",
    "\n",
    "    Z1 = np.random.normal(2 * Y - 1, 1, n)\n",
    "    Z1 = discetize_2bins(Z1)\n",
    "\n",
    "    Z2 = np.random.normal(2 * Y - 1, 1, n) \n",
    "    Z2 = discetize_2bins(Z2)\n",
    "\n",
    "    Z3 = np.random.normal(2 * Y - 1, 1, n)\n",
    "    Z3 = discetize_2bins(Z3)\n",
    "\n",
    "    X = np.random.normal(2 * Z1 - 1, 1, n)   \n",
    "    X = discetize_2bins(X)\n",
    "    return X, Y, Z1, Z2, Z3"
   ]
  },
  {
   "cell_type": "code",
   "execution_count": 18,
   "metadata": {},
   "outputs": [
    {
     "name": "stdout",
     "output_type": "stream",
     "text": [
      "###  CMI\n",
      "Accepted:  99\n",
      "Rejected:  1 \n",
      "\n",
      "###  SECMI2\n",
      "Accepted:  100\n",
      "Rejected:  0 \n",
      "\n",
      "###  SECMI3\n",
      "Accepted:  100\n",
      "Rejected:  0 \n",
      "\n"
     ]
    }
   ],
   "source": [
    "# Z1 + Z2\n",
    "N = 100\n",
    "results_case_1 = {'cmi': 0, 'secmi2': 0, 'secmi3': 0}\n",
    "for i in range(N):\n",
    "    X, Y, Z1, Z2, Z3 = generate_data_B()\n",
    "    for stat in [\"cmi\", \"secmi2\", \"secmi3\"]:\n",
    "        stat_value, p_val = cond_indep_test_permutation(X, Y, np.transpose([Z1, Z2]), 50, stat)\n",
    "        if p_val < 0.05:\n",
    "            results_case_1[stat] += 1\n",
    "\n",
    "for stat in [\"cmi\", \"secmi2\", \"secmi3\"]:\n",
    "    print(\"### \", stat.upper())\n",
    "    print(\"Accepted: \", N - results_case_1[stat])\n",
    "    print(\"Rejected: \", results_case_1[stat], \"\\n\")\n"
   ]
  },
  {
   "cell_type": "code",
   "execution_count": 19,
   "metadata": {},
   "outputs": [
    {
     "name": "stdout",
     "output_type": "stream",
     "text": [
      "###  CMI\n",
      "Accepted:  2\n",
      "Rejected:  98 \n",
      "\n",
      "###  SECMI2\n",
      "Accepted:  1\n",
      "Rejected:  99 \n",
      "\n",
      "###  SECMI3\n",
      "Accepted:  1\n",
      "Rejected:  99 \n",
      "\n"
     ]
    }
   ],
   "source": [
    "# Z2 + Z3\n",
    "N = 100\n",
    "results_case_2 = {'cmi': 0, 'secmi2': 0, 'secmi3': 0}\n",
    "for i in range(N):\n",
    "    X, Y, Z1, Z2, Z3 = generate_data_B()\n",
    "    for stat in [\"cmi\", \"secmi2\", \"secmi3\"]:\n",
    "        stat_value, p_val = cond_indep_test_permutation(X, Y, np.transpose([Z2, Z3]), 50, stat)\n",
    "        if p_val < 0.05:\n",
    "            results_case_2[stat] += 1\n",
    "\n",
    "for stat in [\"cmi\", \"secmi2\", \"secmi3\"]:\n",
    "    print(\"### \", stat.upper())\n",
    "    print(\"Accepted: \", N - results_case_2[stat])\n",
    "    print(\"Rejected: \", results_case_2[stat], \"\\n\")"
   ]
  },
  {
   "cell_type": "markdown",
   "metadata": {},
   "source": [
    "### c)"
   ]
  },
  {
   "cell_type": "code",
   "execution_count": 20,
   "metadata": {},
   "outputs": [],
   "source": [
    "def generate_data_C(n = 100):\n",
    "    X = np.random.randint(0, 2, n)\n",
    "    Z1 = np.random.randint(0, 2, n)\n",
    "    Z2 = np.random.randint(0, 2, n)\n",
    "    Z3 = np.random.randint(0, 2, n)\n",
    "    Y = np.zeros(n)\n",
    "\n",
    "    for i in range(n):\n",
    "        if (X[i] + Z1[i] + Z2[i]) % 2 == 1:\n",
    "            Y[i] = np.random.choice([0, 1], p=[0.2, 0.8])\n",
    "        else:\n",
    "            Y[i] = np.random.choice([0, 1], p=[0.8, 0.2])\n",
    "    return X, Y, Z1, Z2, Z3"
   ]
  },
  {
   "cell_type": "code",
   "execution_count": 21,
   "metadata": {},
   "outputs": [
    {
     "name": "stdout",
     "output_type": "stream",
     "text": [
      "###  CMI\n",
      "Accepted:  0\n",
      "Rejected:  100 \n",
      "\n",
      "###  SECMI2\n",
      "Accepted:  95\n",
      "Rejected:  5 \n",
      "\n",
      "###  SECMI3\n",
      "Accepted:  0\n",
      "Rejected:  100 \n",
      "\n"
     ]
    }
   ],
   "source": [
    "# Z1 + Z2\n",
    "N = 100\n",
    "results_case_1 = {'cmi': 0, 'secmi2': 0, 'secmi3': 0}\n",
    "for i in range(N):\n",
    "    X, Y, Z1, Z2, Z3 = generate_data_C()\n",
    "    for stat in [\"cmi\", \"secmi2\", \"secmi3\"]:\n",
    "        stat_value, p_val = cond_indep_test_permutation(X, Y, np.transpose([Z1, Z2]), 50, stat)\n",
    "        if p_val < 0.05:\n",
    "            results_case_1[stat] += 1\n",
    "\n",
    "for stat in [\"cmi\", \"secmi2\", \"secmi3\"]:\n",
    "    print(\"### \", stat.upper())\n",
    "    print(\"Accepted: \", N - results_case_1[stat])\n",
    "    print(\"Rejected: \", results_case_1[stat], \"\\n\")"
   ]
  },
  {
   "cell_type": "code",
   "execution_count": 22,
   "metadata": {},
   "outputs": [
    {
     "name": "stdout",
     "output_type": "stream",
     "text": [
      "###  CMI\n",
      "Accepted:  96\n",
      "Rejected:  4 \n",
      "\n",
      "###  SECMI2\n",
      "Accepted:  99\n",
      "Rejected:  1 \n",
      "\n",
      "###  SECMI3\n",
      "Accepted:  95\n",
      "Rejected:  5 \n",
      "\n"
     ]
    }
   ],
   "source": [
    "# Z2 + Z3\n",
    "N = 100\n",
    "results_case_1 = {'cmi': 0, 'secmi2': 0, 'secmi3': 0}\n",
    "for i in range(N):\n",
    "    X, Y, Z1, Z2, Z3 = generate_data_C()\n",
    "    for stat in [\"cmi\", \"secmi2\", \"secmi3\"]:\n",
    "        stat_value, p_val = cond_indep_test_permutation(X, Y, np.transpose([Z2, Z3]), 50, stat)\n",
    "        if p_val < 0.05:\n",
    "            results_case_1[stat] += 1\n",
    "\n",
    "for stat in [\"cmi\", \"secmi2\", \"secmi3\"]:\n",
    "    print(\"### \", stat.upper())\n",
    "    print(\"Accepted: \", N - results_case_1[stat])\n",
    "    print(\"Rejected: \", results_case_1[stat], \"\\n\")"
   ]
  },
  {
   "cell_type": "markdown",
   "metadata": {},
   "source": [
    "## Task 2\n",
    " \n",
    "in R"
   ]
  }
 ],
 "metadata": {
  "kernelspec": {
   "display_name": "dydaktyka",
   "language": "python",
   "name": "python3"
  },
  "language_info": {
   "codemirror_mode": {
    "name": "ipython",
    "version": 3
   },
   "file_extension": ".py",
   "mimetype": "text/x-python",
   "name": "python",
   "nbconvert_exporter": "python",
   "pygments_lexer": "ipython3",
   "version": "3.10.9"
  }
 },
 "nbformat": 4,
 "nbformat_minor": 2
}
