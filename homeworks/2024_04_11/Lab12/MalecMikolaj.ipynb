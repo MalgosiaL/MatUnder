{
 "cells": [
  {
   "cell_type": "markdown",
   "metadata": {},
   "source": [
    "# Mathematical Underpinnings - Lab 7"
   ]
  },
  {
   "cell_type": "code",
   "execution_count": 1,
   "metadata": {},
   "outputs": [],
   "source": [
    "import tensorflow as tf\n",
    "import keras\n",
    "import numpy as np\n",
    "import matplotlib.pyplot as plt\n",
    "\n",
    "from keras.layers import Input, Dense, Lambda, InputLayer, concatenate\n",
    "from keras.models import Model, Sequential\n",
    "from keras import backend as K\n",
    "from keras import metrics\n",
    "from keras.datasets import mnist\n",
    "#from keras.utils import to_categorical\n",
    "from tensorflow.keras.utils import to_categorical\n",
    "\n",
    "from sklearn.model_selection import train_test_split"
   ]
  },
  {
   "cell_type": "markdown",
   "metadata": {},
   "source": [
    "## Task 1\n",
    "\n",
    "### a)"
   ]
  },
  {
   "cell_type": "code",
   "execution_count": 2,
   "metadata": {},
   "outputs": [
    {
     "name": "stdout",
     "output_type": "stream",
     "text": [
      "KL Divergence: 0.8369882167858358\n"
     ]
    }
   ],
   "source": [
    "def KL_mult_normal(mu1, mu2, Sigma1, Sigma2):\n",
    "    n = mu1.shape[0]\n",
    "    term1 = np.dot(np.dot((mu2 - mu1).T, np.linalg.inv(Sigma2)), (mu2 - mu1))\n",
    "    term2 = np.trace(np.linalg.inv(Sigma2) @ Sigma1)\n",
    "    term3 = np.log(np.linalg.det(Sigma1) / np.linalg.det(Sigma2))\n",
    "    \n",
    "    return 0.5 * ( term1 + term2 - term3 - n )\n",
    "\n",
    "\n",
    "# Example mean vectors\n",
    "mu1 = np.array([0, 0])\n",
    "mu2 = np.array([1, 1])\n",
    "\n",
    "# Example covariance matrices\n",
    "Sigma1 = np.array([[1, 0.5], [0.5, 1]])\n",
    "Sigma2 = np.array([[2, 0], [0, 2]])\n",
    "\n",
    "# Compute KL divergence\n",
    "kl_divergence = KL_mult_normal(mu1, mu2, Sigma1, Sigma2)\n",
    "print(\"KL Divergence:\", kl_divergence)"
   ]
  },
  {
   "cell_type": "code",
   "execution_count": 3,
   "metadata": {},
   "outputs": [
    {
     "name": "stdout",
     "output_type": "stream",
     "text": [
      "Log Likelihood Ratio at x: [0.79532155 1.02198822]\n"
     ]
    }
   ],
   "source": [
    "def T_opt(x, mu1, mu2, Sigma1, Sigma2):\n",
    "    # Compute log(p(x)/q(x)), where p and q are multivariate normal with parameters mu1, Sigma1 and mu2, Sigma2 respectively\n",
    "    term1 = np.log(np.linalg.det(Sigma2)) - np.log(np.linalg.det(Sigma1))\n",
    "    \n",
    "    # Calculate term2 for each row in x\n",
    "    term2 = np.array([np.dot(np.dot((xi - mu2), np.linalg.inv(Sigma2)), (xi - mu2)) for xi in x])\n",
    "    \n",
    "    # Calculate term3 for each row in x\n",
    "    term3 = np.array([np.dot(np.dot((xi - mu1), np.linalg.inv(Sigma1)), (xi - mu1)) for xi in x])\n",
    "    \n",
    "    return 0.5 * (term1 + term2 - term3)\n",
    "    \n",
    "# Compute logarithm of likelihood ratio\n",
    "x = np.array([0.5, 0.3])\n",
    "log_likelihood_ratio = T_opt(x, mu1, mu2, Sigma1, Sigma2)\n",
    "print(\"Log Likelihood Ratio at x:\", log_likelihood_ratio)"
   ]
  },
  {
   "cell_type": "markdown",
   "metadata": {},
   "source": [
    "### b)"
   ]
  },
  {
   "cell_type": "code",
   "execution_count": 4,
   "metadata": {},
   "outputs": [],
   "source": [
    "# sample n = 10000 observations out of np.random.multivariate_normal(mu1, Sigma1, size=n)\n",
    "# and sample n = 10000 observations out of np.random.multivariate_normal(mu2, Sigma2, size=n)\n",
    "# then concatenate the two matrices (your final x is a matrix 2n x 5)\n",
    "# then create a vector y that will have n ones and n zeros (of size 2n)\n",
    "\n",
    "# Define parameters\n",
    "mu1 = np.array([0.2, 0.2, 0.2, 0, 0])\n",
    "mu2 = np.array([0, 0, 0.2, 0.2, 0.2])\n",
    "\n",
    "rho1 = 0.1\n",
    "rho2 = -0.2\n",
    "\n",
    "Sigma1 = np.array([[1, rho1, rho1, rho1, rho1],\n",
    "                   [rho1, 1, rho1, rho1, rho1],\n",
    "                   [rho1, rho1, 1, rho1, rho1],\n",
    "                   [rho1, rho1, rho1, 1, rho1],\n",
    "                   [rho1, rho1, rho1, rho1, 1]])\n",
    "\n",
    "Sigma2 = np.array([[1, rho2, rho2, rho2, rho2],\n",
    "                   [rho2, 1, rho2, rho2, rho2],\n",
    "                   [rho2, rho2, 1, rho2, rho2],\n",
    "                   [rho2, rho2, rho2, 1, rho2],\n",
    "                   [rho2, rho2, rho2, rho2, 1]])\n",
    "\n",
    "n = 10000\n",
    "\n",
    "# Sample from the distributions\n",
    "samples1 = np.random.multivariate_normal(mu1, Sigma1, size=n)\n",
    "samples2 = np.random.multivariate_normal(mu2, Sigma2, size=n)\n",
    "\n",
    "# Concatenate the samples\n",
    "x = np.concatenate([samples1, samples2])\n",
    "\n",
    "# Create labels\n",
    "y = np.concatenate([np.ones(n), np.zeros(n)])"
   ]
  },
  {
   "cell_type": "code",
   "execution_count": 5,
   "metadata": {},
   "outputs": [],
   "source": [
    "def DV_fun(y, t):\n",
    "    # y - an indicator [y[i]=1 if t[i] corresponds to x sampled from the distribution p, y[i]=0 otherwise]\n",
    "    # t a vector (of the same length as y) t = log(p(x)/q(x))\n",
    "    return np.mean(t[y == 1]) - np.log(np.mean(np.exp(t[y == 0])))"
   ]
  },
  {
   "cell_type": "code",
   "execution_count": 6,
   "metadata": {},
   "outputs": [
    {
     "name": "stdout",
     "output_type": "stream",
     "text": [
      "KL Divergence: 2.169075737042572\n"
     ]
    }
   ],
   "source": [
    "kl_divergence = KL_mult_normal(mu1, mu2, Sigma1, Sigma2)\n",
    "print(\"KL Divergence:\", kl_divergence)"
   ]
  },
  {
   "cell_type": "code",
   "execution_count": 8,
   "metadata": {},
   "outputs": [
    {
     "data": {
      "text/plain": [
       "2.4350216217716585"
      ]
     },
     "execution_count": 8,
     "metadata": {},
     "output_type": "execute_result"
    }
   ],
   "source": [
    "DV_fun(y, T_opt(x, mu1, mu2, Sigma1, Sigma2))"
   ]
  },
  {
   "cell_type": "markdown",
   "metadata": {},
   "source": [
    "### c)"
   ]
  },
  {
   "cell_type": "code",
   "execution_count": 9,
   "metadata": {},
   "outputs": [],
   "source": [
    "def DV_loss(y_true, T_x):\n",
    "    n1 = tf.math.reduce_sum(y_true)\n",
    "    n2 = tf.math.reduce_sum(tf.subtract(tf.convert_to_tensor(1.0), y_true))\n",
    "    first_term = tf.math.reduce_sum(tf.math.multiply(T_x, y_true))/n1\n",
    "    second_term = tf.math.log(tf.math.reduce_sum(tf.math.multiply(tf.math.exp(T_x), tf.subtract(tf.convert_to_tensor(1.0), y_true)))/n2)\n",
    "    return -(first_term - second_term) "
   ]
  },
  {
   "cell_type": "markdown",
   "metadata": {},
   "source": [
    "### d)"
   ]
  },
  {
   "cell_type": "code",
   "execution_count": 10,
   "metadata": {},
   "outputs": [
    {
     "name": "stderr",
     "output_type": "stream",
     "text": [
      "2024-04-24 14:47:58.850277: I tensorflow/core/platform/cpu_feature_guard.cc:151] This TensorFlow binary is optimized with oneAPI Deep Neural Network Library (oneDNN) to use the following CPU instructions in performance-critical operations:  AVX2 FMA\n",
      "To enable them in other operations, rebuild TensorFlow with the appropriate compiler flags.\n"
     ]
    }
   ],
   "source": [
    "model_inputs = keras.Input(shape=(5))\n",
    "layer_out = Dense(64, activation='softplus')(model_inputs)\n",
    "#layer_out = Dense(125, activation='tanh')(layer_out)\n",
    "layer_out = Dense(64)(layer_out)\n",
    "model_outputs = Dense(1)(layer_out)\n",
    "model = keras.Model(model_inputs, model_outputs)\n",
    "\n",
    "optimizer = tf.keras.optimizers.SGD(learning_rate=1e-2)\n",
    "es = tf.keras.callbacks.EarlyStopping(monitor='val_loss', mode='min', verbose=1, patience=5)\n",
    "model.compile(optimizer=optimizer, loss=DV_loss)"
   ]
  },
  {
   "cell_type": "code",
   "execution_count": 11,
   "metadata": {},
   "outputs": [],
   "source": [
    "x_train, x_test, y_train, y_test = train_test_split(x, y, test_size=0.25)"
   ]
  },
  {
   "cell_type": "code",
   "execution_count": 12,
   "metadata": {},
   "outputs": [
    {
     "name": "stdout",
     "output_type": "stream",
     "text": [
      "Epoch 1/100\n",
      "15/15 [==============================] - 1s 17ms/step - loss: 0.1277 - val_loss: 0.0736\n",
      "Epoch 2/100\n",
      "15/15 [==============================] - 0s 6ms/step - loss: 0.0421 - val_loss: 0.0117\n",
      "Epoch 3/100\n",
      "15/15 [==============================] - 0s 7ms/step - loss: -0.0069 - val_loss: -0.0249\n",
      "Epoch 4/100\n",
      "15/15 [==============================] - 0s 6ms/step - loss: -0.0367 - val_loss: -0.0480\n",
      "Epoch 5/100\n",
      "15/15 [==============================] - 0s 7ms/step - loss: -0.0558 - val_loss: -0.0623\n",
      "Epoch 6/100\n",
      "15/15 [==============================] - 0s 6ms/step - loss: -0.0678 - val_loss: -0.0719\n",
      "Epoch 7/100\n",
      "15/15 [==============================] - 0s 6ms/step - loss: -0.0762 - val_loss: -0.0782\n",
      "Epoch 8/100\n",
      "15/15 [==============================] - 0s 6ms/step - loss: -0.0819 - val_loss: -0.0826\n",
      "Epoch 9/100\n",
      "15/15 [==============================] - 0s 6ms/step - loss: -0.0860 - val_loss: -0.0856\n",
      "Epoch 10/100\n",
      "15/15 [==============================] - 0s 6ms/step - loss: -0.0888 - val_loss: -0.0881\n",
      "Epoch 11/100\n",
      "15/15 [==============================] - 0s 6ms/step - loss: -0.0913 - val_loss: -0.0900\n",
      "Epoch 12/100\n",
      "15/15 [==============================] - 0s 6ms/step - loss: -0.0937 - val_loss: -0.0919\n",
      "Epoch 13/100\n",
      "15/15 [==============================] - 0s 6ms/step - loss: -0.0955 - val_loss: -0.0934\n",
      "Epoch 14/100\n",
      "15/15 [==============================] - 0s 7ms/step - loss: -0.0973 - val_loss: -0.0950\n",
      "Epoch 15/100\n",
      "15/15 [==============================] - 0s 6ms/step - loss: -0.0989 - val_loss: -0.0966\n",
      "Epoch 16/100\n",
      "15/15 [==============================] - 0s 6ms/step - loss: -0.1009 - val_loss: -0.0981\n",
      "Epoch 17/100\n",
      "15/15 [==============================] - 0s 7ms/step - loss: -0.1022 - val_loss: -0.0996\n",
      "Epoch 18/100\n",
      "15/15 [==============================] - 0s 6ms/step - loss: -0.1042 - val_loss: -0.1012\n",
      "Epoch 19/100\n",
      "15/15 [==============================] - 0s 7ms/step - loss: -0.1063 - val_loss: -0.1027\n",
      "Epoch 20/100\n",
      "15/15 [==============================] - 0s 7ms/step - loss: -0.1076 - val_loss: -0.1044\n",
      "Epoch 21/100\n",
      "15/15 [==============================] - 0s 12ms/step - loss: -0.1097 - val_loss: -0.1060\n",
      "Epoch 22/100\n",
      "15/15 [==============================] - 0s 10ms/step - loss: -0.1118 - val_loss: -0.1078\n",
      "Epoch 23/100\n",
      "15/15 [==============================] - 0s 7ms/step - loss: -0.1138 - val_loss: -0.1097\n",
      "Epoch 24/100\n",
      "15/15 [==============================] - 0s 11ms/step - loss: -0.1155 - val_loss: -0.1114\n",
      "Epoch 25/100\n",
      "15/15 [==============================] - 0s 10ms/step - loss: -0.1175 - val_loss: -0.1133\n",
      "Epoch 26/100\n",
      "15/15 [==============================] - 0s 9ms/step - loss: -0.1199 - val_loss: -0.1153\n",
      "Epoch 27/100\n",
      "15/15 [==============================] - 0s 15ms/step - loss: -0.1221 - val_loss: -0.1174\n",
      "Epoch 28/100\n",
      "15/15 [==============================] - 0s 13ms/step - loss: -0.1249 - val_loss: -0.1196\n",
      "Epoch 29/100\n",
      "15/15 [==============================] - 0s 8ms/step - loss: -0.1266 - val_loss: -0.1219\n",
      "Epoch 30/100\n",
      "15/15 [==============================] - 0s 15ms/step - loss: -0.1291 - val_loss: -0.1245\n",
      "Epoch 31/100\n",
      "15/15 [==============================] - 0s 11ms/step - loss: -0.1325 - val_loss: -0.1270\n",
      "Epoch 32/100\n",
      "15/15 [==============================] - 0s 7ms/step - loss: -0.1354 - val_loss: -0.1298\n",
      "Epoch 33/100\n",
      "15/15 [==============================] - 0s 9ms/step - loss: -0.1384 - val_loss: -0.1329\n",
      "Epoch 34/100\n",
      "15/15 [==============================] - 0s 10ms/step - loss: -0.1418 - val_loss: -0.1362\n",
      "Epoch 35/100\n",
      "15/15 [==============================] - 0s 8ms/step - loss: -0.1451 - val_loss: -0.1396\n",
      "Epoch 36/100\n",
      "15/15 [==============================] - 0s 10ms/step - loss: -0.1486 - val_loss: -0.1433\n",
      "Epoch 37/100\n",
      "15/15 [==============================] - 0s 7ms/step - loss: -0.1528 - val_loss: -0.1472\n",
      "Epoch 38/100\n",
      "15/15 [==============================] - 0s 13ms/step - loss: -0.1567 - val_loss: -0.1514\n",
      "Epoch 39/100\n",
      "15/15 [==============================] - 0s 9ms/step - loss: -0.1613 - val_loss: -0.1560\n",
      "Epoch 40/100\n",
      "15/15 [==============================] - 0s 8ms/step - loss: -0.1666 - val_loss: -0.1611\n",
      "Epoch 41/100\n",
      "15/15 [==============================] - 0s 6ms/step - loss: -0.1719 - val_loss: -0.1666\n",
      "Epoch 42/100\n",
      "15/15 [==============================] - 0s 7ms/step - loss: -0.1782 - val_loss: -0.1724\n",
      "Epoch 43/100\n",
      "15/15 [==============================] - 0s 9ms/step - loss: -0.1845 - val_loss: -0.1790\n",
      "Epoch 44/100\n",
      "15/15 [==============================] - 0s 7ms/step - loss: -0.1911 - val_loss: -0.1861\n",
      "Epoch 45/100\n",
      "15/15 [==============================] - 0s 6ms/step - loss: -0.1992 - val_loss: -0.1940\n",
      "Epoch 46/100\n",
      "15/15 [==============================] - 0s 8ms/step - loss: -0.2078 - val_loss: -0.2026\n",
      "Epoch 47/100\n",
      "15/15 [==============================] - 0s 7ms/step - loss: -0.2166 - val_loss: -0.2122\n",
      "Epoch 48/100\n",
      "15/15 [==============================] - 0s 6ms/step - loss: -0.2274 - val_loss: -0.2228\n",
      "Epoch 49/100\n",
      "15/15 [==============================] - 0s 7ms/step - loss: -0.2389 - val_loss: -0.2348\n",
      "Epoch 50/100\n",
      "15/15 [==============================] - 0s 6ms/step - loss: -0.2521 - val_loss: -0.2483\n",
      "Epoch 51/100\n",
      "15/15 [==============================] - 0s 5ms/step - loss: -0.2663 - val_loss: -0.2633\n",
      "Epoch 52/100\n",
      "15/15 [==============================] - 0s 7ms/step - loss: -0.2832 - val_loss: -0.2805\n",
      "Epoch 53/100\n",
      "15/15 [==============================] - 0s 5ms/step - loss: -0.3015 - val_loss: -0.2999\n",
      "Epoch 54/100\n",
      "15/15 [==============================] - 0s 7ms/step - loss: -0.3229 - val_loss: -0.3222\n",
      "Epoch 55/100\n",
      "15/15 [==============================] - 0s 7ms/step - loss: -0.3473 - val_loss: -0.3478\n",
      "Epoch 56/100\n",
      "15/15 [==============================] - 0s 5ms/step - loss: -0.3753 - val_loss: -0.3777\n",
      "Epoch 57/100\n",
      "15/15 [==============================] - 0s 5ms/step - loss: -0.4083 - val_loss: -0.4121\n",
      "Epoch 58/100\n",
      "15/15 [==============================] - 0s 5ms/step - loss: -0.4455 - val_loss: -0.4523\n",
      "Epoch 59/100\n",
      "15/15 [==============================] - 0s 7ms/step - loss: -0.4899 - val_loss: -0.5001\n",
      "Epoch 60/100\n",
      "15/15 [==============================] - 0s 5ms/step - loss: -0.5426 - val_loss: -0.5567\n",
      "Epoch 61/100\n",
      "15/15 [==============================] - 0s 6ms/step - loss: -0.6048 - val_loss: -0.6239\n",
      "Epoch 62/100\n",
      "15/15 [==============================] - 0s 5ms/step - loss: -0.6791 - val_loss: -0.7047\n",
      "Epoch 63/100\n",
      "15/15 [==============================] - 0s 7ms/step - loss: -0.7692 - val_loss: -0.8017\n",
      "Epoch 64/100\n",
      "15/15 [==============================] - 0s 7ms/step - loss: -0.8752 - val_loss: -0.9182\n",
      "Epoch 65/100\n",
      "15/15 [==============================] - 0s 6ms/step - loss: -1.0046 - val_loss: -1.0582\n",
      "Epoch 66/100\n",
      "15/15 [==============================] - 0s 6ms/step - loss: -1.1601 - val_loss: -1.2273\n",
      "Epoch 67/100\n",
      "15/15 [==============================] - 0s 7ms/step - loss: -1.3437 - val_loss: -1.4219\n",
      "Epoch 68/100\n",
      "15/15 [==============================] - 0s 6ms/step - loss: -1.5523 - val_loss: -1.6352\n",
      "Epoch 69/100\n",
      "15/15 [==============================] - 0s 5ms/step - loss: -1.7719 - val_loss: -1.8603\n",
      "Epoch 70/100\n",
      "15/15 [==============================] - 0s 5ms/step - loss: -1.9788 - val_loss: -2.0434\n",
      "Epoch 71/100\n",
      "15/15 [==============================] - 0s 6ms/step - loss: -2.1451 - val_loss: -2.2190\n",
      "Epoch 72/100\n",
      "15/15 [==============================] - 0s 5ms/step - loss: -2.2432 - val_loss: -2.2790\n",
      "Epoch 73/100\n",
      "15/15 [==============================] - 0s 6ms/step - loss: -2.3081 - val_loss: -2.3199\n",
      "Epoch 74/100\n",
      "15/15 [==============================] - 0s 5ms/step - loss: -2.3497 - val_loss: -2.3674\n",
      "Epoch 75/100\n",
      "15/15 [==============================] - 0s 7ms/step - loss: -2.3247 - val_loss: -2.4015\n",
      "Epoch 76/100\n",
      "15/15 [==============================] - 0s 6ms/step - loss: -2.3754 - val_loss: -2.3760\n",
      "Epoch 77/100\n",
      "15/15 [==============================] - 0s 5ms/step - loss: -2.3408 - val_loss: -2.2927\n",
      "Epoch 78/100\n",
      "15/15 [==============================] - 0s 6ms/step - loss: -2.3118 - val_loss: -2.3940\n",
      "Epoch 79/100\n",
      "15/15 [==============================] - 0s 5ms/step - loss: -2.4045 - val_loss: -2.4050\n",
      "Epoch 80/100\n",
      "15/15 [==============================] - 0s 13ms/step - loss: -2.3620 - val_loss: -2.3593\n",
      "Epoch 81/100\n"
     ]
    },
    {
     "name": "stdout",
     "output_type": "stream",
     "text": [
      "15/15 [==============================] - 0s 10ms/step - loss: -2.4136 - val_loss: -2.4528\n",
      "Epoch 82/100\n",
      "15/15 [==============================] - 0s 10ms/step - loss: -2.3497 - val_loss: -2.4177\n",
      "Epoch 83/100\n",
      "15/15 [==============================] - 0s 6ms/step - loss: -2.3572 - val_loss: -2.3622\n",
      "Epoch 84/100\n",
      "15/15 [==============================] - 0s 10ms/step - loss: -2.3714 - val_loss: -2.3839\n",
      "Epoch 85/100\n",
      "15/15 [==============================] - 0s 9ms/step - loss: -2.4249 - val_loss: -2.3228\n",
      "Epoch 86/100\n",
      "15/15 [==============================] - 0s 17ms/step - loss: -2.4323 - val_loss: -2.3983\n",
      "Epoch 00086: early stopping\n"
     ]
    }
   ],
   "source": [
    "hist = model.fit(x_train, y_train, epochs=100, batch_size=1024, validation_data=(x_test, y_test), callbacks=[es])"
   ]
  },
  {
   "cell_type": "code",
   "execution_count": 13,
   "metadata": {},
   "outputs": [
    {
     "data": {
      "image/png": "[encoded data removed]",
      "text/plain": [
       "<Figure size 432x288 with 1 Axes>"
      ]
     },
     "metadata": {
      "needs_background": "light"
     },
     "output_type": "display_data"
    }
   ],
   "source": [
    "plt.plot(hist.history['loss'], label='Training Loss')\n",
    "plt.plot(hist.history['val_loss'], label='Validation Loss')\n",
    "plt.legend()\n",
    "plt.show()"
   ]
  },
  {
   "cell_type": "markdown",
   "metadata": {},
   "source": [
    "### e)"
   ]
  },
  {
   "cell_type": "code",
   "execution_count": 14,
   "metadata": {},
   "outputs": [],
   "source": [
    "t_x_pred = model.predict( x )"
   ]
  },
  {
   "cell_type": "code",
   "execution_count": 15,
   "metadata": {},
   "outputs": [],
   "source": [
    "t_x_opt = T_opt( x, mu1, mu2, Sigma1, Sigma2)"
   ]
  },
  {
   "cell_type": "code",
   "execution_count": 16,
   "metadata": {},
   "outputs": [
    {
     "data": {
      "image/png": "[encoded data removed]",
      "text/plain": [
       "<Figure size 432x288 with 1 Axes>"
      ]
     },
     "metadata": {
      "needs_background": "light"
     },
     "output_type": "display_data"
    }
   ],
   "source": [
    "plt.plot(t_x_opt)\n",
    "plt.plot(t_x_pred)\n",
    "\n",
    "plt.show()"
   ]
  },
  {
   "cell_type": "code",
   "execution_count": 17,
   "metadata": {},
   "outputs": [
    {
     "data": {
      "image/png": "[encoded data removed]",
      "text/plain": [
       "<Figure size 432x288 with 1 Axes>"
      ]
     },
     "metadata": {
      "needs_background": "light"
     },
     "output_type": "display_data"
    }
   ],
   "source": [
    "plt.plot(t_x_pred, t_x_opt, \"o\")\n",
    "plt.show()"
   ]
  },
  {
   "cell_type": "code",
   "execution_count": 18,
   "metadata": {},
   "outputs": [
    {
     "data": {
      "text/plain": [
       "2.3632183"
      ]
     },
     "execution_count": 18,
     "metadata": {},
     "output_type": "execute_result"
    }
   ],
   "source": [
    "DV_fun(y, t_x_pred)"
   ]
  },
  {
   "cell_type": "code",
   "execution_count": 19,
   "metadata": {},
   "outputs": [
    {
     "data": {
      "text/plain": [
       "2.4350216217716585"
      ]
     },
     "execution_count": 19,
     "metadata": {},
     "output_type": "execute_result"
    }
   ],
   "source": [
    "DV_fun(y, t_x_opt)"
   ]
  },
  {
   "cell_type": "code",
   "execution_count": 20,
   "metadata": {},
   "outputs": [
    {
     "name": "stdout",
     "output_type": "stream",
     "text": [
      "DV_fun of model:  1.620008\n",
      "DV_fun of T_opt:  2.1599793253771615\n"
     ]
    }
   ],
   "source": [
    "# new data\n",
    "x_new = np.concatenate(\n",
    "    [\n",
    "        np.random.multivariate_normal(mu1, Sigma1, n),\n",
    "        np.random.multivariate_normal(mu2, Sigma2, n),\n",
    "    ]\n",
    ")\n",
    "y_new = np.repeat([1, 0], n)\n",
    "\n",
    "t_x_pred = model.predict(x_new)[:, 0]\n",
    "t_x_opt = T_opt(x_new, mu1, mu2, Sigma1, Sigma2)\n",
    "print(\"DV_fun of model: \", DV_fun(y_new, t_x_pred) )\n",
    "print(\"DV_fun of T_opt: \", DV_fun(y_new, t_x_opt) )"
   ]
  },
  {
   "cell_type": "markdown",
   "metadata": {},
   "source": [
    "### f)"
   ]
  },
  {
   "cell_type": "code",
   "execution_count": 21,
   "metadata": {},
   "outputs": [],
   "source": [
    "def NWJ_loss(y_true, T_x):\n",
    "    n1 = tf.math.reduce_sum(y_true)\n",
    "    n2 = tf.math.reduce_sum(tf.subtract(tf.convert_to_tensor(1.0), y_true))\n",
    "    first_term = tf.math.reduce_sum(tf.math.multiply(T_x, y_true)) / n1\n",
    "    second_term = (\n",
    "        tf.math.reduce_sum(\n",
    "            tf.math.multiply(\n",
    "                tf.math.exp(tf.subtract(T_x, tf.convert_to_tensor(1.0))),\n",
    "                tf.subtract(tf.convert_to_tensor(1.0), y_true),\n",
    "            )\n",
    "        )\n",
    "        / n2\n",
    "    )\n",
    "    return -(first_term - second_term)\n",
    "\n",
    "def NWJ_fun(y, t):\n",
    "    return np.mean(t[y == 1]) - np.mean(np.exp(t[y == 0] - 1))"
   ]
  },
  {
   "cell_type": "code",
   "execution_count": 22,
   "metadata": {},
   "outputs": [
    {
     "name": "stdout",
     "output_type": "stream",
     "text": [
      "Epoch 1/200\n",
      "15/15 [==============================] - 1s 34ms/step - loss: 0.0188 - val_loss: -0.0124\n",
      "Epoch 2/200\n",
      "15/15 [==============================] - 0s 7ms/step - loss: -0.0227 - val_loss: -0.0394\n",
      "Epoch 3/200\n",
      "15/15 [==============================] - 0s 8ms/step - loss: -0.0449 - val_loss: -0.0545\n",
      "Epoch 4/200\n",
      "15/15 [==============================] - 0s 6ms/step - loss: -0.0576 - val_loss: -0.0629\n",
      "Epoch 5/200\n",
      "15/15 [==============================] - 0s 6ms/step - loss: -0.0658 - val_loss: -0.0682\n",
      "Epoch 6/200\n",
      "15/15 [==============================] - 0s 6ms/step - loss: -0.0709 - val_loss: -0.0711\n",
      "Epoch 7/200\n",
      "15/15 [==============================] - 0s 9ms/step - loss: -0.0743 - val_loss: -0.0727\n",
      "Epoch 8/200\n",
      "15/15 [==============================] - 0s 8ms/step - loss: -0.0780 - val_loss: -0.0756\n",
      "Epoch 9/200\n",
      "15/15 [==============================] - 0s 13ms/step - loss: -0.0798 - val_loss: -0.0772\n",
      "Epoch 10/200\n",
      "15/15 [==============================] - 0s 10ms/step - loss: -0.0820 - val_loss: -0.0793\n",
      "Epoch 11/200\n",
      "15/15 [==============================] - 0s 11ms/step - loss: -0.0845 - val_loss: -0.0810\n",
      "Epoch 12/200\n",
      "15/15 [==============================] - 0s 10ms/step - loss: -0.0860 - val_loss: -0.0821\n",
      "Epoch 13/200\n",
      "15/15 [==============================] - 0s 15ms/step - loss: -0.0889 - val_loss: -0.0846\n",
      "Epoch 14/200\n",
      "15/15 [==============================] - 0s 10ms/step - loss: -0.0906 - val_loss: -0.0863\n",
      "Epoch 15/200\n",
      "15/15 [==============================] - 0s 10ms/step - loss: -0.0926 - val_loss: -0.0878\n",
      "Epoch 16/200\n",
      "15/15 [==============================] - 0s 10ms/step - loss: -0.0946 - val_loss: -0.0897\n",
      "Epoch 17/200\n",
      "15/15 [==============================] - 0s 10ms/step - loss: -0.0968 - val_loss: -0.0900\n",
      "Epoch 18/200\n",
      "15/15 [==============================] - 0s 14ms/step - loss: -0.0989 - val_loss: -0.0937\n",
      "Epoch 19/200\n",
      "15/15 [==============================] - 0s 10ms/step - loss: -0.1011 - val_loss: -0.0948\n",
      "Epoch 20/200\n",
      "15/15 [==============================] - 0s 13ms/step - loss: -0.1027 - val_loss: -0.0979\n",
      "Epoch 21/200\n",
      "15/15 [==============================] - 0s 6ms/step - loss: -0.1055 - val_loss: -0.0987\n",
      "Epoch 22/200\n",
      "15/15 [==============================] - 0s 11ms/step - loss: -0.1077 - val_loss: -0.1020\n",
      "Epoch 23/200\n",
      "15/15 [==============================] - 0s 9ms/step - loss: -0.1108 - val_loss: -0.1048\n",
      "Epoch 24/200\n",
      "15/15 [==============================] - 0s 8ms/step - loss: -0.1131 - val_loss: -0.1072\n",
      "Epoch 25/200\n",
      "15/15 [==============================] - 0s 15ms/step - loss: -0.1160 - val_loss: -0.1101\n",
      "Epoch 26/200\n",
      "15/15 [==============================] - 0s 9ms/step - loss: -0.1185 - val_loss: -0.1130\n",
      "Epoch 27/200\n",
      "15/15 [==============================] - 0s 10ms/step - loss: -0.1222 - val_loss: -0.1160\n",
      "Epoch 28/200\n",
      "15/15 [==============================] - 0s 7ms/step - loss: -0.1252 - val_loss: -0.1191\n",
      "Epoch 29/200\n",
      "15/15 [==============================] - 0s 7ms/step - loss: -0.1291 - val_loss: -0.1219\n",
      "Epoch 30/200\n",
      "15/15 [==============================] - 0s 6ms/step - loss: -0.1323 - val_loss: -0.1261\n",
      "Epoch 31/200\n",
      "15/15 [==============================] - 0s 6ms/step - loss: -0.1361 - val_loss: -0.1295\n",
      "Epoch 32/200\n",
      "15/15 [==============================] - 0s 9ms/step - loss: -0.1402 - val_loss: -0.1330\n",
      "Epoch 33/200\n",
      "15/15 [==============================] - 0s 7ms/step - loss: -0.1443 - val_loss: -0.1384\n",
      "Epoch 34/200\n",
      "15/15 [==============================] - 0s 8ms/step - loss: -0.1494 - val_loss: -0.1434\n",
      "Epoch 35/200\n",
      "15/15 [==============================] - 0s 7ms/step - loss: -0.1547 - val_loss: -0.1485\n",
      "Epoch 36/200\n",
      "15/15 [==============================] - 0s 8ms/step - loss: -0.1594 - val_loss: -0.1542\n",
      "Epoch 37/200\n",
      "15/15 [==============================] - 0s 8ms/step - loss: -0.1663 - val_loss: -0.1591\n",
      "Epoch 38/200\n",
      "15/15 [==============================] - 0s 8ms/step - loss: -0.1720 - val_loss: -0.1661\n",
      "Epoch 39/200\n",
      "15/15 [==============================] - 0s 5ms/step - loss: -0.1801 - val_loss: -0.1744\n",
      "Epoch 40/200\n",
      "15/15 [==============================] - 0s 8ms/step - loss: -0.1877 - val_loss: -0.1815\n",
      "Epoch 41/200\n",
      "15/15 [==============================] - 0s 9ms/step - loss: -0.1964 - val_loss: -0.1890\n",
      "Epoch 42/200\n",
      "15/15 [==============================] - 0s 13ms/step - loss: -0.2052 - val_loss: -0.2009\n",
      "Epoch 43/200\n",
      "15/15 [==============================] - 0s 8ms/step - loss: -0.2162 - val_loss: -0.2118\n",
      "Epoch 44/200\n",
      "15/15 [==============================] - 0s 9ms/step - loss: -0.2282 - val_loss: -0.2238\n",
      "Epoch 45/200\n",
      "15/15 [==============================] - 0s 8ms/step - loss: -0.2406 - val_loss: -0.2376\n",
      "Epoch 46/200\n",
      "15/15 [==============================] - 0s 8ms/step - loss: -0.2554 - val_loss: -0.2527\n",
      "Epoch 47/200\n",
      "15/15 [==============================] - 0s 7ms/step - loss: -0.2718 - val_loss: -0.2704\n",
      "Epoch 48/200\n",
      "15/15 [==============================] - 0s 9ms/step - loss: -0.2911 - val_loss: -0.2903\n",
      "Epoch 49/200\n",
      "15/15 [==============================] - 0s 9ms/step - loss: -0.3123 - val_loss: -0.3109\n",
      "Epoch 50/200\n",
      "15/15 [==============================] - 0s 10ms/step - loss: -0.3368 - val_loss: -0.3375\n",
      "Epoch 51/200\n",
      "15/15 [==============================] - 0s 7ms/step - loss: -0.3647 - val_loss: -0.3690\n",
      "Epoch 52/200\n",
      "15/15 [==============================] - 0s 9ms/step - loss: -0.3983 - val_loss: -0.4004\n",
      "Epoch 53/200\n",
      "15/15 [==============================] - 0s 10ms/step - loss: -0.4361 - val_loss: -0.4443\n",
      "Epoch 54/200\n",
      "15/15 [==============================] - 0s 7ms/step - loss: -0.4808 - val_loss: -0.4931\n",
      "Epoch 55/200\n",
      "15/15 [==============================] - 0s 7ms/step - loss: -0.5343 - val_loss: -0.5488\n",
      "Epoch 56/200\n",
      "15/15 [==============================] - 0s 7ms/step - loss: -0.5974 - val_loss: -0.6189\n",
      "Epoch 57/200\n",
      "15/15 [==============================] - 0s 11ms/step - loss: -0.6718 - val_loss: -0.6974\n",
      "Epoch 58/200\n",
      "15/15 [==============================] - 0s 7ms/step - loss: -0.7567 - val_loss: -0.7678\n",
      "Epoch 59/200\n",
      "15/15 [==============================] - 0s 8ms/step - loss: -0.8650 - val_loss: -0.9079\n",
      "Epoch 60/200\n",
      "15/15 [==============================] - 0s 13ms/step - loss: -0.9890 - val_loss: -1.0489\n",
      "Epoch 61/200\n",
      "15/15 [==============================] - 0s 15ms/step - loss: -1.1426 - val_loss: -1.2144\n",
      "Epoch 62/200\n",
      "15/15 [==============================] - 0s 12ms/step - loss: -1.3132 - val_loss: -1.3635\n",
      "Epoch 63/200\n",
      "15/15 [==============================] - 0s 11ms/step - loss: -1.3590 - val_loss: -1.4406\n",
      "Epoch 64/200\n",
      "15/15 [==============================] - 0s 12ms/step - loss: -1.4669 - val_loss: -1.2103\n",
      "Epoch 65/200\n",
      "15/15 [==============================] - 0s 10ms/step - loss: -1.5802 - val_loss: -1.9317\n",
      "Epoch 66/200\n",
      "15/15 [==============================] - 0s 10ms/step - loss: -1.5224 - val_loss: -2.0823\n",
      "Epoch 67/200\n",
      "15/15 [==============================] - 0s 7ms/step - loss: -1.8212 - val_loss: -2.1935\n",
      "Epoch 68/200\n",
      "15/15 [==============================] - 0s 7ms/step - loss: -1.2586 - val_loss: -1.8608\n",
      "Epoch 69/200\n",
      "15/15 [==============================] - 0s 8ms/step - loss: -1.6492 - val_loss: -2.2706\n",
      "Epoch 70/200\n",
      "15/15 [==============================] - 0s 13ms/step - loss: -1.5372 - val_loss: -2.2287\n",
      "Epoch 71/200\n",
      "15/15 [==============================] - 0s 16ms/step - loss: -1.6582 - val_loss: -2.1145\n",
      "Epoch 72/200\n",
      "15/15 [==============================] - 0s 13ms/step - loss: -1.6467 - val_loss: -2.2961\n",
      "Epoch 73/200\n",
      "15/15 [==============================] - 0s 11ms/step - loss: -0.5240 - val_loss: -1.5755\n",
      "Epoch 74/200\n",
      "15/15 [==============================] - 0s 11ms/step - loss: -1.7335 - val_loss: -2.0816\n",
      "Epoch 75/200\n",
      "15/15 [==============================] - 0s 10ms/step - loss: -1.9510 - val_loss: -1.9359\n",
      "Epoch 76/200\n",
      "15/15 [==============================] - 0s 9ms/step - loss: -1.4844 - val_loss: -1.7892\n",
      "Epoch 77/200\n",
      "15/15 [==============================] - 0s 13ms/step - loss: -1.1917 - val_loss: -1.0721\n",
      "Epoch 00077: early stopping\n"
     ]
    }
   ],
   "source": [
    "model_inputs = keras.Input(shape=(5))\n",
    "layer_out = Dense(64, activation='softplus')(model_inputs)\n",
    "#layer_out = Dense(125, activation='tanh')(layer_out)\n",
    "layer_out = Dense(64)(layer_out)\n",
    "model_outputs = Dense(1)(layer_out)\n",
    "model = keras.Model(model_inputs, model_outputs)\n",
    "\n",
    "optimizer = tf.keras.optimizers.SGD(learning_rate=1e-2)\n",
    "es = tf.keras.callbacks.EarlyStopping(monitor='val_loss', mode='min', verbose=1, patience=5)\n",
    "model.compile(optimizer=optimizer, loss=NWJ_loss)\n",
    "\n",
    "hist = model.fit(x_train, y_train, epochs=200, batch_size=1024, validation_data=(x_test, y_test), callbacks=[es])\n"
   ]
  },
  {
   "cell_type": "code",
   "execution_count": 23,
   "metadata": {},
   "outputs": [
    {
     "data": {
      "image/png": "[encoded data removed]",
      "text/plain": [
       "<Figure size 432x288 with 1 Axes>"
      ]
     },
     "metadata": {
      "needs_background": "light"
     },
     "output_type": "display_data"
    }
   ],
   "source": [
    "plt.plot(hist.history['loss'], label='Training Loss')\n",
    "plt.plot(hist.history['val_loss'], label='Validation Loss')\n",
    "plt.legend()\n",
    "plt.show()\n"
   ]
  },
  {
   "cell_type": "code",
   "execution_count": 24,
   "metadata": {},
   "outputs": [
    {
     "data": {
      "image/png": "[encoded data removed]",
      "text/plain": [
       "<Figure size 432x288 with 1 Axes>"
      ]
     },
     "metadata": {
      "needs_background": "light"
     },
     "output_type": "display_data"
    },
    {
     "data": {
      "image/png": "[encoded data removed]",
      "text/plain": [
       "<Figure size 432x288 with 1 Axes>"
      ]
     },
     "metadata": {
      "needs_background": "light"
     },
     "output_type": "display_data"
    }
   ],
   "source": [
    "t_x_pred = model.predict( x )\n",
    "t_x_opt = T_opt( x, mu1, mu2, Sigma1, Sigma2)\n",
    "\n",
    "plt.plot(t_x_opt)\n",
    "plt.plot(t_x_pred)\n",
    "plt.show()\n",
    "\n",
    "plt.plot(t_x_pred, t_x_opt, \"o\")\n",
    "plt.show()"
   ]
  },
  {
   "cell_type": "code",
   "execution_count": 25,
   "metadata": {},
   "outputs": [
    {
     "name": "stdout",
     "output_type": "stream",
     "text": [
      "DV_fun of model:  2.2083244\n",
      "DV_fun of T_opt:  2.4350216217716585\n"
     ]
    }
   ],
   "source": [
    "print(\"DV_fun of model: \", DV_fun(y, t_x_pred) )\n",
    "print(\"DV_fun of T_opt: \", DV_fun(y, t_x_opt) )"
   ]
  },
  {
   "cell_type": "code",
   "execution_count": 26,
   "metadata": {},
   "outputs": [
    {
     "name": "stdout",
     "output_type": "stream",
     "text": [
      "NWJ_fun of model:  0.58302087\n",
      "NWJ_fun of T_opt:  1.7609457509563309\n"
     ]
    }
   ],
   "source": [
    "# new data\n",
    "x_new = np.concatenate(\n",
    "    [\n",
    "        np.random.multivariate_normal(mu1, Sigma1, n),\n",
    "        np.random.multivariate_normal(mu2, Sigma2, n),\n",
    "    ]\n",
    ")\n",
    "y_new = np.repeat([1, 0], n)\n",
    "\n",
    "t_x_pred = model.predict(x_new)[:, 0]\n",
    "t_x_opt = T_opt(x_new, mu1, mu2, Sigma1, Sigma2)\n",
    "print(\"NWJ_fun of model: \", NWJ_fun(y_new, t_x_pred) )\n",
    "print(\"NWJ_fun of T_opt: \", NWJ_fun(y_new, t_x_opt) )"
   ]
  },
  {
   "cell_type": "code",
   "execution_count": null,
   "metadata": {},
   "outputs": [],
   "source": []
  },
  {
   "cell_type": "code",
   "execution_count": null,
   "metadata": {},
   "outputs": [],
   "source": []
  }
 ],
 "metadata": {
  "kernelspec": {
   "display_name": "Python 3 (ipykernel)",
   "language": "python",
   "name": "python3"
  },
  "language_info": {
   "codemirror_mode": {
    "name": "ipython",
    "version": 3
   },
   "file_extension": ".py",
   "mimetype": "text/x-python",
   "name": "python",
   "nbconvert_exporter": "python",
   "pygments_lexer": "ipython3",
   "version": "3.9.1"
  }
 },
 "nbformat": 4,
 "nbformat_minor": 4
}
