{
 "cells": [
  {
   "cell_type": "markdown",
   "metadata": {},
   "source": [
    "# Mathematical Underpinnings - Lab 6"
   ]
  },
  {
   "cell_type": "code",
   "execution_count": 2,
   "metadata": {},
   "outputs": [],
   "source": [
    "from sklearn.metrics import mutual_info_score\n",
    "import numpy as np\n",
    "import matplotlib.pyplot as plt\n",
    "import seaborn as sns\n",
    "import pandas as pd\n",
    "from tqdm import tqdm, trange"
   ]
  },
  {
   "cell_type": "markdown",
   "metadata": {},
   "source": [
    "## Useful functions"
   ]
  },
  {
   "cell_type": "code",
   "execution_count": 3,
   "metadata": {},
   "outputs": [],
   "source": [
    "def discetize_2bins(X):\n",
    "    X_discrete = 1*(X >= 0)\n",
    "    return X_discrete"
   ]
  },
  {
   "cell_type": "code",
   "execution_count": 4,
   "metadata": {},
   "outputs": [],
   "source": [
    "def conditional_permutation(X, Z):\n",
    "\n",
    "    z_values = np.unique(Z)\n",
    "    n_z_values = len(z_values)\n",
    "    n = len(Z)\n",
    "\n",
    "    X_b = np.zeros(n)\n",
    "\n",
    "    for i in range(n_z_values):\n",
    "\n",
    "        z_value_tmp = z_values[i]\n",
    "\n",
    "        X_b[Z == z_value_tmp] = np.random.permutation(X[Z == z_value_tmp])\n",
    "\n",
    "    return X_b"
   ]
  },
  {
   "cell_type": "code",
   "execution_count": 5,
   "metadata": {},
   "outputs": [],
   "source": [
    "def conditional_mutual_information(X, Y, Z):\n",
    "\n",
    "    z_values = np.unique(Z)\n",
    "    n_z_values = len(z_values)\n",
    "    n = len(Z)\n",
    "\n",
    "    cmi = 0\n",
    "\n",
    "    for i in range(n_z_values):\n",
    "\n",
    "        z_value_tmp = z_values[i]\n",
    "        z_condition = (Z == z_value_tmp)\n",
    "\n",
    "        X_z = X[z_condition]\n",
    "        Y_z = Y[z_condition]\n",
    "\n",
    "        mi_XY_z = mutual_info_score(X_z, Y_z)\n",
    "        p_z = np.sum(z_condition)/n\n",
    "\n",
    "        cmi += p_z*mi_XY_z\n",
    "\n",
    "    return cmi"
   ]
  },
  {
   "cell_type": "code",
   "execution_count": 6,
   "metadata": {},
   "outputs": [],
   "source": [
    "# II(X;Y;Z)\n",
    "def interaction_information(X, Y, Z):\n",
    "    return conditional_mutual_information(X, Y, Z) - mutual_info_score(X, Y)"
   ]
  },
  {
   "cell_type": "code",
   "execution_count": 7,
   "metadata": {},
   "outputs": [],
   "source": [
    "# II(X;Y;Z1;Z2)\n",
    "def interaction_information2(X, Y, Z1, Z2):\n",
    "    Z_1_and_2 = 2*Z2 + Z1\n",
    "    return interaction_information(X, Y, Z_1_and_2) - interaction_information(X, Y, Z1) - interaction_information(X, Y, Z2)"
   ]
  },
  {
   "cell_type": "markdown",
   "metadata": {},
   "source": [
    "## Task 1"
   ]
  },
  {
   "cell_type": "code",
   "execution_count": 8,
   "metadata": {},
   "outputs": [],
   "source": [
    "def secmi2(X, Y, Z):\n",
    "    stat = mutual_info_score(X, Y)\n",
    "    for i in range(Z.shape[-1]):\n",
    "        stat += interaction_information(Y, X, Z[:,i])\n",
    "    return stat\n",
    "    \n",
    "def secmi3(X, Y, Z):\n",
    "    stat = 0\n",
    "    for i in range(Z.shape[-1]):\n",
    "        for j in range(i + 1, Z.shape[-1]):\n",
    "            stat += interaction_information2(Y, X, Z[:,i], Z[:,j])\n",
    "    stat += secmi2(X, Y, Z)\n",
    "    return stat"
   ]
  },
  {
   "cell_type": "markdown",
   "metadata": {},
   "source": [
    "### a)"
   ]
  },
  {
   "cell_type": "code",
   "execution_count": 9,
   "metadata": {},
   "outputs": [],
   "source": [
    "def cond_indep_test_permutation(X, Y, Z, B, stat):\n",
    "\n",
    "    n_col_Z = Z.shape[1]\n",
    "    Z_1dim = np.dot(Z, 2 ** np.linspace(0, n_col_Z - 1, n_col_Z))\n",
    "\n",
    "    if stat == \"cmi\":\n",
    "        stat_value = conditional_mutual_information(X, Y, Z_1dim)\n",
    "    if stat == \"secmi2\":\n",
    "        stat_value = secmi2(X, Y, Z)\n",
    "    if stat == \"secmi3\":\n",
    "        stat_value = secmi3(X, Y, Z)\n",
    "\n",
    "    condition_p_value = 0\n",
    "    for b in range(B):\n",
    "        X_b = conditional_permutation(X, Z_1dim)\n",
    "\n",
    "        if stat == \"cmi\":\n",
    "            stat_value_b = conditional_mutual_information(X_b, Y, Z_1dim)\n",
    "        if stat == \"secmi2\":\n",
    "            stat_value_b = secmi2(X_b, Y, Z)\n",
    "        if stat == \"secmi3\":\n",
    "            stat_value_b = secmi3(X_b, Y, Z)\n",
    "\n",
    "        if stat_value <= stat_value_b:\n",
    "            condition_p_value += 1\n",
    "\n",
    "    p_value = (1 + condition_p_value) / (1 + B)\n",
    "\n",
    "    return 2 * len(X) * stat_value, p_value"
   ]
  },
  {
   "cell_type": "markdown",
   "metadata": {},
   "source": [
    "### b)"
   ]
  },
  {
   "cell_type": "code",
   "execution_count": 10,
   "metadata": {},
   "outputs": [],
   "source": [
    "def get_data(n):\n",
    "    Y = np.random.normal(0, 1, n)\n",
    "    Y_disc = discetize_2bins(Y)\n",
    "\n",
    "    Z1 = np.random.normal(Y / 2, 1, n)\n",
    "    Z2 = np.random.normal(Y / 2, 1, n)\n",
    "    Z3 = np.random.normal(Y / 2, 1, n)\n",
    "\n",
    "    Z1_disc = discetize_2bins(Z1)\n",
    "    Z2_disc = discetize_2bins(Z2)\n",
    "    Z3_disc = discetize_2bins(Z3)\n",
    "\n",
    "    X = np.random.normal(Z1 / 2, 1, n)\n",
    "    X_disc = discetize_2bins(X)\n",
    "\n",
    "    Z = np.column_stack((Z1_disc, Z2_disc, Z3_disc))\n",
    "\n",
    "    return X_disc, Y_disc, Z"
   ]
  },
  {
   "cell_type": "code",
   "execution_count": 22,
   "metadata": {},
   "outputs": [],
   "source": [
    "N = 100\n",
    "n = 5000\n",
    "B = 50\n",
    "th = 0.05"
   ]
  },
  {
   "cell_type": "code",
   "execution_count": 23,
   "metadata": {},
   "outputs": [
    {
     "name": "stderr",
     "output_type": "stream",
     "text": [
      "100%|██████████| 100/100 [05:49<00:00,  3.49s/it]\n"
     ]
    }
   ],
   "source": [
    "ans = []\n",
    "for i in trange(N):\n",
    "    X, Y, Z = get_data(n)\n",
    "    Z = Z[:,:-1]\n",
    "    cmi_test, cmi_p_val = cond_indep_test_permutation(X, Y, Z, B, \"cmi\")\n",
    "    secmi2_test, secmi2_p_val = cond_indep_test_permutation(X, Y, Z, B, \"secmi2\")\n",
    "    secmi3_test, secmi3_p_val = cond_indep_test_permutation(X, Y, Z, B, \"secmi3\")\n",
    "    ans.append([cmi_test, cmi_p_val, secmi2_test, secmi2_p_val, secmi3_test, secmi3_p_val])"
   ]
  },
  {
   "cell_type": "code",
   "execution_count": 24,
   "metadata": {},
   "outputs": [],
   "source": [
    "df = pd.DataFrame(ans, columns=[\"cmi_test\", \"cmi_p_val\", \"secmi2_test\", \"secmi2_p_val\", \"secmi3_test\", \"secmi3_p_val\"])"
   ]
  },
  {
   "cell_type": "code",
   "execution_count": 25,
   "metadata": {},
   "outputs": [
    {
     "name": "stdout",
     "output_type": "stream",
     "text": [
      "Rejection rate - cmi: 0.57\n",
      "Rejection rate - secmi2: 0.55\n",
      "Rejection rate  - secmi3: 0.61\n"
     ]
    }
   ],
   "source": [
    "print(\"Rejection rate - cmi:\", np.sum(df[\"cmi_p_val\"] < th) / N)\n",
    "print(\"Rejection rate - secmi2:\", np.sum(df[\"secmi2_p_val\"] < th) / N)\n",
    "print(\"Rejection rate  - secmi3:\", np.sum(df[\"secmi3_p_val\"] < th) / N)"
   ]
  },
  {
   "cell_type": "code",
   "execution_count": null,
   "metadata": {},
   "outputs": [],
   "source": []
  },
  {
   "cell_type": "code",
   "execution_count": 26,
   "metadata": {},
   "outputs": [
    {
     "name": "stderr",
     "output_type": "stream",
     "text": [
      " 12%|█▏        | 12/100 [00:50<05:14,  3.58s/it]"
     ]
    },
    {
     "name": "stderr",
     "output_type": "stream",
     "text": [
      "100%|██████████| 100/100 [05:44<00:00,  3.45s/it]\n"
     ]
    }
   ],
   "source": [
    "ans = []\n",
    "for i in trange(N):\n",
    "    X, Y, Z = get_data(n)\n",
    "    Z = Z[:, 1:]\n",
    "    cmi_test, cmi_p_val = cond_indep_test_permutation(X, Y, Z, B, \"cmi\")\n",
    "    secmi2_test, secmi2_p_val = cond_indep_test_permutation(X, Y, Z, B, \"secmi2\")\n",
    "    secmi3_test, secmi3_p_val = cond_indep_test_permutation(X, Y, Z, B, \"secmi3\")\n",
    "    ans.append([cmi_test, cmi_p_val, secmi2_test, secmi2_p_val, secmi3_test, secmi3_p_val])"
   ]
  },
  {
   "cell_type": "code",
   "execution_count": 27,
   "metadata": {},
   "outputs": [],
   "source": [
    "df = pd.DataFrame(ans, columns=[\"cmi_test\", \"cmi_p_val\", \"secmi2_test\", \"secmi2_p_val\", \"secmi3_test\", \"secmi3_p_val\"])"
   ]
  },
  {
   "cell_type": "code",
   "execution_count": 28,
   "metadata": {},
   "outputs": [
    {
     "name": "stdout",
     "output_type": "stream",
     "text": [
      "Rejection rate - cmi: 1.0\n",
      "Rejection rate - secmi2: 1.0\n",
      "Rejection rate  - secmi3: 1.0\n"
     ]
    }
   ],
   "source": [
    "print(\"Rejection rate - cmi:\", np.sum(df[\"cmi_p_val\"] < th) / N)\n",
    "print(\"Rejection rate - secmi2:\", np.sum(df[\"secmi2_p_val\"] < th) / N)\n",
    "print(\"Rejection rate  - secmi3:\", np.sum(df[\"secmi3_p_val\"] < th) / N)"
   ]
  },
  {
   "cell_type": "code",
   "execution_count": null,
   "metadata": {},
   "outputs": [],
   "source": []
  },
  {
   "cell_type": "markdown",
   "metadata": {},
   "source": [
    "### c)"
   ]
  },
  {
   "cell_type": "code",
   "execution_count": 29,
   "metadata": {},
   "outputs": [],
   "source": [
    "def get_data(n):\n",
    "    Y = np.random.normal(0, 1, n)\n",
    "    Y_disc = discetize_2bins(Y)\n",
    "\n",
    "    Z1 = np.random.normal(Y / 2, 1, n)\n",
    "    Z2 = np.random.normal(Y / 2, 1, n)\n",
    "    Z3 = np.random.normal(Y / 2, 1, n)\n",
    "\n",
    "    Z1_disc = discetize_2bins(Z1)\n",
    "    Z2_disc = discetize_2bins(Z2)\n",
    "    Z3_disc = discetize_2bins(Z3)\n",
    "\n",
    "    X = np.random.normal(Z1 / 2, 1, n)\n",
    "    X_disc = discetize_2bins(X)\n",
    "\n",
    "    Z = np.column_stack((Z1_disc, Z2_disc, Z3_disc))\n",
    "\n",
    "    return X_disc, Y_disc, Z"
   ]
  },
  {
   "cell_type": "code",
   "execution_count": 30,
   "metadata": {},
   "outputs": [
    {
     "name": "stderr",
     "output_type": "stream",
     "text": [
      "100%|██████████| 100/100 [05:37<00:00,  3.38s/it]\n"
     ]
    }
   ],
   "source": [
    "ans = []\n",
    "for i in trange(N):\n",
    "    X, Y, Z = get_data(n)\n",
    "    Z = Z[:,:-1]\n",
    "    cmi_test, cmi_p_val = cond_indep_test_permutation(X, Y, Z, B, \"cmi\")\n",
    "    secmi2_test, secmi2_p_val = cond_indep_test_permutation(X, Y, Z, B, \"secmi2\")\n",
    "    secmi3_test, secmi3_p_val = cond_indep_test_permutation(X, Y, Z, B, \"secmi3\")\n",
    "    ans.append([cmi_test, cmi_p_val, secmi2_test, secmi2_p_val, secmi3_test, secmi3_p_val])"
   ]
  },
  {
   "cell_type": "code",
   "execution_count": 31,
   "metadata": {},
   "outputs": [],
   "source": [
    "df = pd.DataFrame(ans, columns=[\"cmi_test\", \"cmi_p_val\", \"secmi2_test\", \"secmi2_p_val\", \"secmi3_test\", \"secmi3_p_val\"])"
   ]
  },
  {
   "cell_type": "code",
   "execution_count": 32,
   "metadata": {},
   "outputs": [
    {
     "name": "stdout",
     "output_type": "stream",
     "text": [
      "Rejection rate - cmi: 0.62\n",
      "Rejection rate - secmi2: 0.55\n",
      "Rejection rate  - secmi3: 0.64\n"
     ]
    }
   ],
   "source": [
    "print(\"Rejection rate - cmi:\", np.sum(df[\"cmi_p_val\"] < th) / N)\n",
    "print(\"Rejection rate - secmi2:\", np.sum(df[\"secmi2_p_val\"] < th) / N)\n",
    "print(\"Rejection rate  - secmi3:\", np.sum(df[\"secmi3_p_val\"] < th) / N)"
   ]
  },
  {
   "cell_type": "code",
   "execution_count": null,
   "metadata": {},
   "outputs": [],
   "source": []
  },
  {
   "cell_type": "code",
   "execution_count": 33,
   "metadata": {},
   "outputs": [
    {
     "name": "stderr",
     "output_type": "stream",
     "text": [
      "100%|██████████| 100/100 [05:31<00:00,  3.32s/it]\n"
     ]
    }
   ],
   "source": [
    "ans = []\n",
    "for i in trange(N):\n",
    "    X, Y, Z = get_data(n)\n",
    "    Z = Z[:, 1:]\n",
    "    cmi_test, cmi_p_val = cond_indep_test_permutation(X, Y, Z, B, \"cmi\")\n",
    "    secmi2_test, secmi2_p_val = cond_indep_test_permutation(X, Y, Z, B, \"secmi2\")\n",
    "    secmi3_test, secmi3_p_val = cond_indep_test_permutation(X, Y, Z, B, \"secmi3\")\n",
    "    ans.append([cmi_test, cmi_p_val, secmi2_test, secmi2_p_val, secmi3_test, secmi3_p_val])"
   ]
  },
  {
   "cell_type": "code",
   "execution_count": 34,
   "metadata": {},
   "outputs": [],
   "source": [
    "df = pd.DataFrame(ans, columns=[\"cmi_test\", \"cmi_p_val\", \"secmi2_test\", \"secmi2_p_val\", \"secmi3_test\", \"secmi3_p_val\"])"
   ]
  },
  {
   "cell_type": "code",
   "execution_count": 35,
   "metadata": {},
   "outputs": [
    {
     "name": "stdout",
     "output_type": "stream",
     "text": [
      "Rejection rate - cmi: 1.0\n",
      "Rejection rate - secmi2: 1.0\n",
      "Rejection rate  - secmi3: 1.0\n"
     ]
    }
   ],
   "source": [
    "print(\"Rejection rate - cmi:\", np.sum(df[\"cmi_p_val\"] < th) / N)\n",
    "print(\"Rejection rate - secmi2:\", np.sum(df[\"secmi2_p_val\"] < th) / N)\n",
    "print(\"Rejection rate  - secmi3:\", np.sum(df[\"secmi3_p_val\"] < th) / N)"
   ]
  },
  {
   "cell_type": "code",
   "execution_count": null,
   "metadata": {},
   "outputs": [],
   "source": []
  },
  {
   "cell_type": "markdown",
   "metadata": {},
   "source": [
    "## Task 2\n",
    " \n",
    "in R"
   ]
  }
 ],
 "metadata": {
  "kernelspec": {
   "display_name": "dydaktyka",
   "language": "python",
   "name": "python3"
  },
  "language_info": {
   "codemirror_mode": {
    "name": "ipython",
    "version": 3
   },
   "file_extension": ".py",
   "mimetype": "text/x-python",
   "name": "python",
   "nbconvert_exporter": "python",
   "pygments_lexer": "ipython3",
   "version": "3.10.12"
  }
 },
 "nbformat": 4,
 "nbformat_minor": 2
}
