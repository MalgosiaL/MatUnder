{
 "cells": [
  {
   "cell_type": "markdown",
   "metadata": {},
   "source": [
    "# Mathematical Underpinnings - Lab 6"
   ]
  },
  {
   "cell_type": "code",
   "execution_count": 1,
   "metadata": {},
   "outputs": [],
   "source": [
    "from sklearn.metrics import mutual_info_score\n",
    "import numpy as np\n",
    "import matplotlib.pyplot as plt\n",
    "import seaborn as sns\n",
    "import pandas as pd\n",
    "from tqdm import tqdm"
   ]
  },
  {
   "cell_type": "markdown",
   "metadata": {},
   "source": [
    "## Useful functions"
   ]
  },
  {
   "cell_type": "code",
   "execution_count": 2,
   "metadata": {},
   "outputs": [],
   "source": [
    "def discretize_2bins(X):\n",
    "    X_discrete = 2*(X >= 0)-1\n",
    "    return X_discrete"
   ]
  },
  {
   "cell_type": "code",
   "execution_count": 3,
   "metadata": {},
   "outputs": [],
   "source": [
    "def conditional_permutation(X, Z):\n",
    "    z_values = np.unique(Z)\n",
    "    X_b = np.copy(X)\n",
    "\n",
    "    for z_value_tmp in z_values:\n",
    "        X_b[Z == z_value_tmp] = np.random.permutation(X[Z == z_value_tmp])\n",
    "\n",
    "    return X_b"
   ]
  },
  {
   "cell_type": "code",
   "execution_count": 4,
   "metadata": {},
   "outputs": [],
   "source": [
    "def conditional_mutual_information(X, Y, Z):\n",
    "    z_values = np.unique(Z)\n",
    "    n = len(Z)\n",
    "    cmi = 0\n",
    "\n",
    "    for z_value_tmp in z_values:\n",
    "        z_condition = (Z == z_value_tmp)\n",
    "        X_z = X[z_condition]\n",
    "        Y_z = Y[z_condition]\n",
    "        mi_XY_z = mutual_info_score(X_z, Y_z)\n",
    "        p_z = np.sum(z_condition)/n\n",
    "        cmi += p_z*mi_XY_z\n",
    "    \n",
    "    return cmi"
   ]
  },
  {
   "cell_type": "code",
   "execution_count": 5,
   "metadata": {},
   "outputs": [],
   "source": [
    "# II(X;Y;Z)\n",
    "def interaction_information(X, Y, Z):\n",
    "    return conditional_mutual_information(X, Y, Z) - mutual_info_score(X, Y)"
   ]
  },
  {
   "cell_type": "code",
   "execution_count": 6,
   "metadata": {},
   "outputs": [],
   "source": [
    "# II(X;Y;Z1;Z2)\n",
    "def interaction_information2(X, Y, Z1, Z2):\n",
    "    Z12 = 2*Z2 + Z1\n",
    "    return interaction_information(X, Y, Z12) - interaction_information(X, Y, Z1) - interaction_information(X, Y, Z2)"
   ]
  },
  {
   "cell_type": "markdown",
   "metadata": {},
   "source": [
    "## Task 1"
   ]
  },
  {
   "cell_type": "code",
   "execution_count": 7,
   "metadata": {},
   "outputs": [],
   "source": [
    "def secmi2(X, Y, Z):\n",
    "    z_columns = Z.shape[1]\n",
    "    stat_value = mutual_info_score(X, Y)\n",
    "    \n",
    "    for i in range(z_columns):\n",
    "        Z_i = Z[:, i]\n",
    "        stat_value += interaction_information(Y, X, Z_i)\n",
    "    \n",
    "    return stat_value\n",
    "\n",
    "def secmi3(X, Y, Z):\n",
    "    z_columns = Z.shape[1]\n",
    "    stat_value = secmi2(X, Y, Z)\n",
    "    \n",
    "    for i in range(z_columns):\n",
    "        Z_i = Z[:, i]\n",
    "        for j in range(i+1, z_columns):\n",
    "            Z_j = Z[:, j]\n",
    "            stat_value += interaction_information2(Y, X, Z_i, Z_j)\n",
    "    \n",
    "    return stat_value"
   ]
  },
  {
   "cell_type": "markdown",
   "metadata": {},
   "source": [
    "### a)"
   ]
  },
  {
   "cell_type": "code",
   "execution_count": 8,
   "metadata": {},
   "outputs": [],
   "source": [
    "def cond_indep_test_permutation(X, Y, Z, stat, B=50):\n",
    "    \n",
    "    assert stat in [\"cmi\", \"secmi2\", \"secmi3\"]\n",
    "\n",
    "    n_col_Z = Z.shape[1]\n",
    "    Z_1dim = np.dot(Z, 2**np.linspace(0, n_col_Z-1, n_col_Z))\n",
    "\n",
    "    if stat == \"cmi\":\n",
    "        stat_value = conditional_mutual_information(X, Y, Z_1dim)\n",
    "    if stat == \"secmi2\":\n",
    "        stat_value = secmi2(X, Y, Z)\n",
    "    if stat == \"secmi3\":\n",
    "        stat_value = secmi3(X, Y, Z)\n",
    "\n",
    "    condition_p_value = 0\n",
    "    for b in range(B):\n",
    "        X_b = conditional_permutation(X, Z_1dim)\n",
    "\n",
    "        if stat == \"cmi\":\n",
    "            stat_value_b = conditional_mutual_information(X_b, Y, Z_1dim)\n",
    "        if stat == \"secmi2\":\n",
    "            stat_value_b = secmi2(X_b, Y, Z)\n",
    "        if stat == \"secmi3\":\n",
    "            stat_value_b = secmi3(X_b, Y, Z)\n",
    "\n",
    "        if stat_value <= stat_value_b:\n",
    "            condition_p_value += 1\n",
    "\n",
    "    p_value = (1 + condition_p_value)/(1 + B)\n",
    "\n",
    "    return 2*len(X)*stat_value, p_value"
   ]
  },
  {
   "cell_type": "markdown",
   "metadata": {},
   "source": [
    "### b)"
   ]
  },
  {
   "cell_type": "code",
   "execution_count": 9,
   "metadata": {},
   "outputs": [],
   "source": [
    "def sample_from_model_1b(n):\n",
    "    Y = discretize_2bins(np.random.normal(size=n))\n",
    "    Y_add = np.repeat(Y.reshape((-1, 1)), 3, axis=1)\n",
    "    Z = discretize_2bins(np.random.multivariate_normal([1, 1, 1], np.eye(3), size=n) + Y_add)\n",
    "    X = discretize_2bins(np.random.normal(size=n) + Z[:, 0])\n",
    "    return X, Y, Z"
   ]
  },
  {
   "cell_type": "code",
   "execution_count": 10,
   "metadata": {},
   "outputs": [],
   "source": [
    "def experiment_1b(stat, N=100, alpha=0.05):\n",
    "    null_hyp1 = 0\n",
    "    null_hyp2 = 0\n",
    "    \n",
    "    for i in range(N):\n",
    "        X, Y, Z = sample_from_model_1b(100)\n",
    "        Z12 = Z[:, 0:2]\n",
    "        Z23 = Z[:, 1:3]\n",
    "        \n",
    "        _, p_value1 = cond_indep_test_permutation(X, Y, Z12, stat)\n",
    "        _, p_value2 = cond_indep_test_permutation(X, Y, Z23, stat)\n",
    "        \n",
    "        if p_value1 < alpha:\n",
    "            null_hyp1 += 1\n",
    "        if p_value2 < alpha:\n",
    "            null_hyp2 += 1\n",
    "    \n",
    "    # how many times has each null hypothesis been rejected?\n",
    "    return null_hyp1, null_hyp2"
   ]
  },
  {
   "cell_type": "code",
   "execution_count": 11,
   "metadata": {},
   "outputs": [
    {
     "data": {
      "text/plain": [
       "(4, 39)"
      ]
     },
     "execution_count": 11,
     "metadata": {},
     "output_type": "execute_result"
    }
   ],
   "source": [
    "experiment_1b(\"cmi\")"
   ]
  },
  {
   "cell_type": "code",
   "execution_count": 12,
   "metadata": {},
   "outputs": [
    {
     "data": {
      "text/plain": [
       "(1, 62)"
      ]
     },
     "execution_count": 12,
     "metadata": {},
     "output_type": "execute_result"
    }
   ],
   "source": [
    "experiment_1b(\"secmi2\")"
   ]
  },
  {
   "cell_type": "code",
   "execution_count": 13,
   "metadata": {},
   "outputs": [
    {
     "data": {
      "text/plain": [
       "(3, 55)"
      ]
     },
     "execution_count": 13,
     "metadata": {},
     "output_type": "execute_result"
    }
   ],
   "source": [
    "experiment_1b(\"secmi3\")"
   ]
  },
  {
   "cell_type": "markdown",
   "metadata": {},
   "source": [
    "### c)"
   ]
  },
  {
   "cell_type": "code",
   "execution_count": 32,
   "metadata": {},
   "outputs": [],
   "source": [
    "def sample_from_model_1c(n):\n",
    "    X = np.random.binomial(1, 0.5, n)\n",
    "    Z = np.random.binomial(1, 0.5, (n, 3))\n",
    "    XZ_sum = X + Z[:, 0] + Z[:, 1]\n",
    "    condition_zero = (XZ_sum % 2 == 0)\n",
    "    condition_one = (XZ_sum % 2 == 1)\n",
    "    Y = np.zeros(n)\n",
    "    Y[condition_one] = np.random.binomial(1, 0.8, np.sum(condition_one))\n",
    "    Y[condition_zero] = np.random.binomial(1, 0.2, np.sum(condition_zero))\n",
    "    return X, Y, Z"
   ]
  },
  {
   "cell_type": "code",
   "execution_count": 33,
   "metadata": {},
   "outputs": [],
   "source": [
    "def experiment_1c(stat, N=100, alpha=0.05):\n",
    "    null_hyp1 = 0\n",
    "    null_hyp2 = 0\n",
    "    \n",
    "    for i in range(N):\n",
    "        X, Y, Z = sample_from_model_1c(100)\n",
    "        Z12 = Z[:, 0:2]\n",
    "        Z23 = Z[:, 1:3]\n",
    "        \n",
    "        _, p_value1 = cond_indep_test_permutation(X, Y, Z12, stat)\n",
    "        _, p_value2 = cond_indep_test_permutation(X, Y, Z23, stat)\n",
    "        \n",
    "        if p_value1 < alpha:\n",
    "            null_hyp1 += 1\n",
    "        if p_value2 < alpha:\n",
    "            null_hyp2 += 1\n",
    "    \n",
    "    # how many times has each null hypothesis been rejected?\n",
    "    return null_hyp1, null_hyp2"
   ]
  },
  {
   "cell_type": "code",
   "execution_count": 34,
   "metadata": {},
   "outputs": [
    {
     "data": {
      "text/plain": [
       "(100, 4)"
      ]
     },
     "execution_count": 34,
     "metadata": {},
     "output_type": "execute_result"
    }
   ],
   "source": [
    "experiment_1c(\"cmi\")"
   ]
  },
  {
   "cell_type": "code",
   "execution_count": 35,
   "metadata": {},
   "outputs": [
    {
     "data": {
      "text/plain": [
       "(3, 4)"
      ]
     },
     "execution_count": 35,
     "metadata": {},
     "output_type": "execute_result"
    }
   ],
   "source": [
    "experiment_1c(\"secmi2\")"
   ]
  },
  {
   "cell_type": "code",
   "execution_count": 36,
   "metadata": {},
   "outputs": [
    {
     "data": {
      "text/plain": [
       "(100, 7)"
      ]
     },
     "execution_count": 36,
     "metadata": {},
     "output_type": "execute_result"
    }
   ],
   "source": [
    "experiment_1c(\"secmi3\")"
   ]
  }
 ],
 "metadata": {
  "kernelspec": {
   "display_name": "Python 3 (ipykernel)",
   "language": "python",
   "name": "python3"
  },
  "language_info": {
   "codemirror_mode": {
    "name": "ipython",
    "version": 3
   },
   "file_extension": ".py",
   "mimetype": "text/x-python",
   "name": "python",
   "nbconvert_exporter": "python",
   "pygments_lexer": "ipython3",
   "version": "3.8.10"
  }
 },
 "nbformat": 4,
 "nbformat_minor": 2
}
