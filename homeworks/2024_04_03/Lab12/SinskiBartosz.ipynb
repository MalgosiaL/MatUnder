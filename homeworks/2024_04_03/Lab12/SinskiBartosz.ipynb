{
 "cells": [
  {
   "cell_type": "markdown",
   "metadata": {},
   "source": [
    "# Mathematical Underpinnings - Lab 6"
   ]
  },
  {
   "cell_type": "code",
   "execution_count": 4,
   "metadata": {},
   "outputs": [],
   "source": [
    "from sklearn.metrics import mutual_info_score\n",
    "import numpy as np\n",
    "import matplotlib.pyplot as plt\n",
    "import seaborn as sns\n",
    "import pandas as pd\n",
    "from tqdm import tqdm"
   ]
  },
  {
   "cell_type": "markdown",
   "metadata": {},
   "source": [
    "## Useful functions"
   ]
  },
  {
   "cell_type": "code",
   "execution_count": 16,
   "metadata": {},
   "outputs": [],
   "source": [
    "def discetize_2bins(X):\n",
    "    X_discrete = 1*(X >= 0) \n",
    "    return X_discrete"
   ]
  },
  {
   "cell_type": "code",
   "execution_count": 6,
   "metadata": {},
   "outputs": [],
   "source": [
    "def conditional_permutation(X, Z):\n",
    "\n",
    "    z_values = np.unique(Z)\n",
    "    n_z_values = len(z_values)\n",
    "    n = len(Z)\n",
    "\n",
    "    X_b = np.zeros(n)\n",
    "\n",
    "    for i in range(n_z_values):\n",
    "\n",
    "        z_value_tmp = z_values[i]\n",
    "\n",
    "        X_b[Z == z_value_tmp] = np.random.permutation(X[Z == z_value_tmp])\n",
    "\n",
    "    return X_b"
   ]
  },
  {
   "cell_type": "code",
   "execution_count": 7,
   "metadata": {},
   "outputs": [],
   "source": [
    "def conditional_mutual_information(X, Y, Z):\n",
    "\n",
    "    z_values = np.unique(Z)\n",
    "    n_z_values = len(z_values)\n",
    "    n = len(Z)\n",
    "\n",
    "    cmi = 0\n",
    "\n",
    "    for i in range(n_z_values):\n",
    "\n",
    "        z_value_tmp = z_values[i]\n",
    "        z_condition = (Z == z_value_tmp)\n",
    "        X_z = X[z_condition]\n",
    "        Y_z = Y[z_condition]\n",
    "\n",
    "        mi_XY_z = mutual_info_score(X_z, Y_z)\n",
    "        p_z = np.sum(z_condition)/n\n",
    "\n",
    "        cmi += p_z*mi_XY_z\n",
    "\n",
    "    return cmi"
   ]
  },
  {
   "cell_type": "code",
   "execution_count": 8,
   "metadata": {},
   "outputs": [],
   "source": [
    "# II(X;Y;Z)\n",
    "def interaction_information(X, Y, Z):\n",
    "    return conditional_mutual_information(X, Y, Z) - mutual_info_score(X, Y)"
   ]
  },
  {
   "cell_type": "code",
   "execution_count": 9,
   "metadata": {},
   "outputs": [],
   "source": [
    "# II(X;Y;Z1;Z2)\n",
    "def interaction_information2(X, Y, Z1, Z2):\n",
    "    Z_1_and_2 = 2*Z2 + Z1\n",
    "    return interaction_information(X, Y, Z_1_and_2) - interaction_information(X, Y, Z1) - interaction_information(X, Y, Z2)"
   ]
  },
  {
   "cell_type": "markdown",
   "metadata": {},
   "source": [
    "## Task 1"
   ]
  },
  {
   "cell_type": "code",
   "execution_count": 10,
   "metadata": {},
   "outputs": [],
   "source": [
    "def secmi2(X,Y,Z):\n",
    "    s = len(Z)\n",
    "    sum_ii = 0\n",
    "    for i in range(s):\n",
    "        sum_ii += interaction_information(X,Y,Z[i])\n",
    "    return sum_ii + mutual_info_score(X,Y)\n",
    "    \n",
    "def secmi3(X,Y,Z):\n",
    "    s = len(Z)\n",
    "    sum_ii = 0\n",
    "    for i in range(s):\n",
    "        sum_ii += interaction_information(X,Y,Z[i])\n",
    "    sum_ii2 = 0\n",
    "    for i in range(s):\n",
    "        for j in range(i+1,s):\n",
    "            sum_ii2 += interaction_information2(X,Y,Z[i],Z[j])\n",
    "    return sum_ii + sum_ii2 + mutual_info_score(X,Y)"
   ]
  },
  {
   "cell_type": "markdown",
   "metadata": {},
   "source": [
    "### a)"
   ]
  },
  {
   "cell_type": "code",
   "execution_count": 11,
   "metadata": {},
   "outputs": [],
   "source": [
    "def cond_indep_test_permutation(X, Y, Z, B, stat):\n",
    "\n",
    "    n_col_Z = Z.shape[1]\n",
    "    Z_1dim = np.dot(Z, 2**np.linspace(0, n_col_Z-1, n_col_Z))\n",
    "    Z = Z.T\n",
    "    if stat == \"cmi\":\n",
    "        stat_value = conditional_mutual_information(X, Y, Z_1dim)\n",
    "    if stat == \"secmi2\":\n",
    "        stat_value = secmi2(X, Y, Z)\n",
    "    if stat == \"secmi3\":\n",
    "        stat_value = secmi3(X, Y, Z)\n",
    "\n",
    "    condition_p_value = 0\n",
    "    for b in range(B):\n",
    "        X_b = conditional_permutation(X, Z_1dim)\n",
    "\n",
    "        if stat == \"cmi\":\n",
    "            stat_value_b = conditional_mutual_information(X_b, Y, Z_1dim)\n",
    "        if stat == \"secmi2\":\n",
    "            stat_value_b = secmi2(X_b, Y, Z)\n",
    "        if stat == \"secmi3\":\n",
    "            stat_value_b = secmi3(X_b, Y, Z)\n",
    "\n",
    "        if stat_value <= stat_value_b:\n",
    "            condition_p_value += 1\n",
    "\n",
    "    p_value = (1 + condition_p_value)/(1 + B)\n",
    "\n",
    "    return 2*len(X)*stat_value, p_value"
   ]
  },
  {
   "cell_type": "markdown",
   "metadata": {},
   "source": [
    "### b)"
   ]
  },
  {
   "cell_type": "code",
   "execution_count": 31,
   "metadata": {},
   "outputs": [],
   "source": [
    "n = 100\n",
    "Y_c = np.random.normal(0, 1, n)\n",
    "Y = discetize_2bins(Y_c)\n",
    "Z1_c = np.random.normal(2*Y-1, 1, n)\n",
    "Z1 = discetize_2bins(Z1_c)\n",
    "Z2_c = np.random.normal(2*Y-1, 1, n) \n",
    "Z2 = discetize_2bins(Z2_c)\n",
    "Z3_c = np.random.normal(2*Y-1, 1, n)\n",
    "Z3 = discetize_2bins(Z3_c)\n",
    "X_c = np.random.normal(2*Z1-1,1,n)   \n",
    "X = discetize_2bins(X_c)"
   ]
  },
  {
   "cell_type": "code",
   "execution_count": 32,
   "metadata": {},
   "outputs": [
    {
     "name": "stdout",
     "output_type": "stream",
     "text": [
      "Conditional permutation test based on cmi null hypothesis rejection:  0\n",
      "Conditional permutation test based on secmi2 null hypothesis rejection:  0\n",
      "Conditional permutation test based on secmi3 null hypothesis rejection:  0\n"
     ]
    }
   ],
   "source": [
    "# Z1 and Z2\n",
    "N = 100\n",
    "resultZ1Z2 = {'cmi':0, 'secmi2':0, 'secmi3':0}\n",
    "for i in range(N):\n",
    "    for stat in [\"cmi\", \"secmi2\", \"secmi3\"]:\n",
    "        resultZ1Z2[stat] += cond_indep_test_permutation(X,Y,np.transpose([Z1,Z2]),50,stat)[1] < 0.05\n",
    "for stat in [\"cmi\", \"secmi2\", \"secmi3\"]:\n",
    "    print(f\"Conditional permutation test based on {stat} null hypothesis rejection:  {resultZ1Z2[stat]}\")"
   ]
  },
  {
   "cell_type": "code",
   "execution_count": 33,
   "metadata": {},
   "outputs": [
    {
     "name": "stdout",
     "output_type": "stream",
     "text": [
      "Conditional permutation test based on cmi null hypothesis rejection:  94\n",
      "Conditional permutation test based on secmi2 null hypothesis rejection:  99\n",
      "Conditional permutation test based on secmi3 null hypothesis rejection:  92\n"
     ]
    }
   ],
   "source": [
    "# Z2 and Z3\n",
    "resultZ2Z3 = {'cmi':0, 'secmi2':0, 'secmi3':0}\n",
    "for i in range(N):\n",
    "    for stat in [\"cmi\", \"secmi2\", \"secmi3\"]:\n",
    "        resultZ2Z3[stat] += cond_indep_test_permutation(X,Y,np.transpose([Z2,Z3]),50,stat)[1] < 0.05\n",
    "for stat in [\"cmi\", \"secmi2\", \"secmi3\"]:\n",
    "    print(f\"Conditional permutation test based on {stat} null hypothesis rejection:  {resultZ2Z3[stat]}\")"
   ]
  },
  {
   "cell_type": "markdown",
   "metadata": {},
   "source": [
    "### c)"
   ]
  },
  {
   "cell_type": "code",
   "execution_count": 21,
   "metadata": {},
   "outputs": [],
   "source": [
    "X = np.random.binomial(1, 0.5, n)\n",
    "Z1 = np.random.binomial(1, 0.5, n)\n",
    "Z2 = np.random.binomial(1, 0.5, n)\n",
    "Z3 = np.random.binomial(1, 0.5, n)\n",
    "P = np.random.binomial(1, 0.5, n)\n",
    "Y = np.zeros(n)\n",
    "for i in range(n):\n",
    "    if (X[i] + Z1[i] + Z2[i]) % 2 == 1:\n",
    "        Y[i] = np.random.binomial(1, 0.8)\n",
    "    else:\n",
    "        Y[i] = np.random.binomial(1, 0.2)\n"
   ]
  },
  {
   "cell_type": "code",
   "execution_count": 28,
   "metadata": {},
   "outputs": [
    {
     "name": "stdout",
     "output_type": "stream",
     "text": [
      "Conditional permutation test based on cmi null hypothesis rejection:  100\n",
      "Conditional permutation test based on secmi2 null hypothesis rejection:  0\n",
      "Conditional permutation test based on secmi3 null hypothesis rejection:  100\n"
     ]
    }
   ],
   "source": [
    "#Z1 and Z2\n",
    "N = 100\n",
    "resultZ1Z2 = {'cmi':0, 'secmi2':0, 'secmi3':0}\n",
    "for i in range(N):\n",
    "    for stat in [\"cmi\", \"secmi2\", \"secmi3\"]:\n",
    "        resultZ1Z2[stat] += cond_indep_test_permutation(X,Y,np.transpose([Z1,Z2]),50,stat)[1] < 0.05\n",
    "for stat in [\"cmi\", \"secmi2\", \"secmi3\"]:\n",
    "    print(f\"Conditional permutation test based on {stat} null hypothesis rejection:  {resultZ1Z2[stat]}\")"
   ]
  },
  {
   "cell_type": "code",
   "execution_count": 29,
   "metadata": {},
   "outputs": [
    {
     "name": "stdout",
     "output_type": "stream",
     "text": [
      "Conditional permutation test based on cmi null hypothesis rejection:  0\n",
      "Conditional permutation test based on secmi2 null hypothesis rejection:  0\n",
      "Conditional permutation test based on secmi3 null hypothesis rejection:  0\n"
     ]
    }
   ],
   "source": [
    "# Z2 and Z3\n",
    "resultZ2Z3 = {'cmi':0, 'secmi2':0, 'secmi3':0}\n",
    "for i in range(N):\n",
    "    for stat in [\"cmi\", \"secmi2\", \"secmi3\"]:\n",
    "        resultZ2Z3[stat] += cond_indep_test_permutation(X,Y,np.transpose([Z2,Z3]),50,stat)[1] < 0.05\n",
    "for stat in [\"cmi\", \"secmi2\", \"secmi3\"]:\n",
    "    print(f\"Conditional permutation test based on {stat} null hypothesis rejection:  {resultZ2Z3[stat]}\")"
   ]
  },
  {
   "cell_type": "markdown",
   "metadata": {},
   "source": [
    "## Task 2\n",
    " \n",
    "in R"
   ]
  }
 ],
 "metadata": {
  "kernelspec": {
   "display_name": "dydaktyka",
   "language": "python",
   "name": "python3"
  },
  "language_info": {
   "codemirror_mode": {
    "name": "ipython",
    "version": 3
   },
   "file_extension": ".py",
   "mimetype": "text/x-python",
   "name": "python",
   "nbconvert_exporter": "python",
   "pygments_lexer": "ipython3",
   "version": "3.11.5"
  }
 },
 "nbformat": 4,
 "nbformat_minor": 2
}
