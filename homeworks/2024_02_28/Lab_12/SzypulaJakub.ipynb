{
 "cells": [
  {
   "attachments": {},
   "cell_type": "markdown",
   "metadata": {},
   "source": [
    "# Mathematical Underpinnings - Lab 1\n",
    "\n",
    "### Jakub Szypuła"
   ]
  },
  {
   "attachments": {},
   "cell_type": "markdown",
   "metadata": {},
   "source": [
    "## Task 1\n",
    "### a) Generative approach \n",
    "\n",
    "We know $\\pi = P(Y=1)$ and the distributions $f(x|Y=1)$ and $f(x|Y=-1)$.\n",
    "\n",
    "#### First bullet point"
   ]
  },
  {
   "cell_type": "code",
   "execution_count": 1,
   "metadata": {},
   "outputs": [],
   "source": [
    "import numpy as np\n",
    "import matplotlib.pyplot as plt\n",
    "from sklearn.linear_model import LogisticRegression\n",
    "from sklearn.discriminant_analysis import LinearDiscriminantAnalysis"
   ]
  },
  {
   "cell_type": "code",
   "execution_count": 2,
   "metadata": {},
   "outputs": [
    {
     "data": {
      "text/plain": [
       "(array([[ 2.59859296, -0.39738171],\n",
       "        [ 1.31806545,  0.86547139],\n",
       "        [-0.6437569 , -0.49032211],\n",
       "        [ 0.58001857,  2.12206796],\n",
       "        [ 1.62144852,  0.55331607]]),\n",
       " array([1, 0, 1, 1, 1]))"
      ]
     },
     "execution_count": 2,
     "metadata": {},
     "output_type": "execute_result"
    }
   ],
   "source": [
    "# sampling from multivariate normal distribution and from Bernoulli\n",
    "\n",
    "x = np.random.multivariate_normal(np.array([0,0]), np.eye(2), 5)\n",
    "y = np.random.binomial(1, 0.5, 5)\n",
    "x, y"
   ]
  },
  {
   "cell_type": "code",
   "execution_count": 3,
   "metadata": {},
   "outputs": [],
   "source": [
    "m1 = np.array([1,1])\n",
    "m2 = np.array([0,0])\n",
    "\n",
    "sigma = np.array([[1, -0.5],[-0.5, 1]])"
   ]
  },
  {
   "cell_type": "code",
   "execution_count": 4,
   "metadata": {},
   "outputs": [],
   "source": [
    "# sampling\n",
    "Y_generative = np.append(np.ones(500), np.ones(500)*(-1))\n",
    "X_generative = np.append(np.random.multivariate_normal(m1, sigma, 500), np.random.multivariate_normal(m2, sigma, 500), axis=0)"
   ]
  },
  {
   "cell_type": "markdown",
   "metadata": {},
   "source": [
    "Does the distribution of $P(Y=1|X=x)=p(y=1|x)$ correspond to a logistic model?\n",
    "\n",
    "A hint: Use Bayes theorem to compute $p(y=1|x)$. Is it possible to represent $p(y=1|x)$ as $\\frac{e^{\\beta_0 + \\beta x}}{1 + e^{\\beta_0 + \\beta x}}$?\n"
   ]
  },
  {
   "cell_type": "markdown",
   "metadata": {},
   "source": [
    "$$ p(y=1|x) = \\frac{p(x|y=1)p(y=1)}{p(x)}$$\n",
    "\n",
    "Where:\n",
    "\n",
    "$$ p(x) = p(x|y=1)p(y=1) + p(x|y=-1)p(y=-1)$$"
   ]
  },
  {
   "cell_type": "markdown",
   "metadata": {},
   "source": [
    "We know that $p(y=1) = p(y=-1) = 0.5$ and that $ p(x|y=1) \\sim \\mathcal {N}(\\mu_1, \\sigma)$ and that $ p(x|y=-1) \\sim \\mathcal {N}(\\mu_2, \\sigma)$.\n",
    "\n",
    "$$ p(y=1|x) = \\frac{p(x|y=1)0.5}{p(x|y=1)0.5+p(x|y=-1)0.5} = \\frac{p(x|y=1)}{p(x|y=1)+p(x|y=-1)} = \\frac{p(x|y=1)/p(x|y=-1)}{p(x|y=1)/p(x|y=-1) + 1} $$\n",
    "\n",
    "$$ p(x|y=1) = (2\\pi)^{-d/2} \\det(\\Sigma)^{-d/2}exp(-(x-m_1)'\\Sigma^{-1}(x-m_1)/2) $$\n",
    "\n",
    "$$ p(x|y=-1) = (2\\pi)^{-d/2} \\det(\\Sigma)^{-d/2}exp(-(x-m_2)'\\Sigma^{-1}(x-m_2)/2) $$"
   ]
  },
  {
   "cell_type": "markdown",
   "metadata": {},
   "source": [
    "Let's look at the nominator.\n",
    "\n",
    "$$ p(x|y=1)/p(x|y=-1) = \\frac{(2\\pi)^{-d/2} \\det(\\Sigma)^{-d/2}exp(-(x-m_1)'\\Sigma^{-1}(x-m_1)/2)}{(2\\pi)^{-d/2} \\det(\\Sigma)^{-d/2}exp(-(x-m_2)'\\Sigma^{-1}(x-m_2)/2)} = $$\n",
    "\n",
    "$$ = \\frac{exp(-(x-m_1)'\\Sigma^{-1}(x-m_1)/2)}{exp(-(x-m_2)'\\Sigma^{-1}(x-m_2)/2)} = exp(-(x-m_1)'\\Sigma^{-1}(x-m_1)/2 + (x-m_2)'\\Sigma^{-1}(x-m_2)/2) = (1)$$"
   ]
  },
  {
   "cell_type": "markdown",
   "metadata": {},
   "source": [
    "Keep in mind that $\\Sigma$ is symmetric and that $x'\\Sigma^{-1}m_1 = m_1'\\Sigma^{-1}x$\n",
    "$$ exp(-(x-m_1)'\\Sigma^{-1}(x-m_1)/2) = exp((-x'\\Sigma^{-1}x + x'\\Sigma^{-1}m_1 + m_1'\\Sigma^{-1}x - m_1'\\Sigma^{-1}m_1)/2) = \\exp(-x'\\Sigma^{-1}x/2 + x'\\Sigma^{-1}m_1 - m_1'\\Sigma^{-1}m_1/2) $$\n",
    "\n",
    "$$ (1) = exp(-x'\\Sigma^{-1}x/2 + x'\\Sigma^{-1}m_1 - m_1'\\Sigma^{-1}m_1/2 + x'\\Sigma^{-1}x/2 - x'\\Sigma^{-1}m_2 - m_2'\\Sigma^{-1}m_2/2)  = exp(x'\\Sigma^{-1}m_1 - m_1'\\Sigma^{-1}m_1/2 - x'\\Sigma^{-1}m_2 + m_2'\\Sigma^{-1}m_2/2)$$\n",
    "\n",
    "Thus:\n",
    "\n",
    "$$ \\beta_0 = m_2'\\Sigma^{-1}m_2/2 - m_1'\\Sigma^{-1}m_1/2, \\beta = \\Sigma^{-1}(m_1-m2) $$"
   ]
  },
  {
   "cell_type": "markdown",
   "metadata": {},
   "source": [
    "#### Second bullet point"
   ]
  },
  {
   "cell_type": "markdown",
   "metadata": {},
   "source": [
    "Find the formulas for the parameters of the logistic model (the coefficients and the intercept).\n",
    "\n",
    "A hint: Use the representation of $p(y=1|x)$ from the first bullet point and solve for $\\beta_0$ and $\\beta$."
   ]
  },
  {
   "cell_type": "code",
   "execution_count": 5,
   "metadata": {},
   "outputs": [],
   "source": [
    "# computing beta_0 and beta using the formulas\n",
    "# since \\pi = 0.5 then log \\pi(1-\\pi) = log(1) = 0 so I skipped this for simplicity\n",
    "beta_0 = np.dot(np.dot(m2.transpose(), np.linalg.inv(sigma)), m2)/2 - np.dot(np.dot(m1.transpose(), np.linalg.inv(sigma)), m1)/2\n",
    "beta = np.dot(np.linalg.inv(sigma),(m1-m2))"
   ]
  },
  {
   "cell_type": "code",
   "execution_count": 8,
   "metadata": {},
   "outputs": [
    {
     "data": {
      "text/plain": [
       "(array([-2.17999474]), array([[2.14867137, 2.105641  ]]))"
      ]
     },
     "execution_count": 8,
     "metadata": {},
     "output_type": "execute_result"
    }
   ],
   "source": [
    "# a logistic model\n",
    "mod_a = LogisticRegression(penalty='none')\n",
    "mod_a.fit(X_generative, Y_generative)\n",
    "(mod_a.intercept_, mod_a.coef_)"
   ]
  },
  {
   "cell_type": "markdown",
   "metadata": {},
   "source": [
    "### b) Discriminative approach\n",
    "\n",
    "We know $f(x)$ and $P(Y=1|X=x)$.\n",
    "\n",
    "#### First bullet point"
   ]
  },
  {
   "cell_type": "code",
   "execution_count": 14,
   "metadata": {},
   "outputs": [],
   "source": [
    "# sampling\n",
    "n = 1000\n",
    "x1 = np.random.multivariate_normal(m1, sigma, n)\n",
    "x2 = np.random.multivariate_normal(m2, sigma, n)\n",
    "mixture_coef = np.random.binomial(1, 0.5, n)\n",
    "X_discriminative = np.vstack((x1[mixture_coef == 0,:], x2[mixture_coef == 1,:]))\n",
    "probability_y = 1/(1+np.exp(-(-2 + np.dot(X_discriminative, np.array([2,2])))))\n",
    "Y_discriminative = np.random.binomial(1, probability_y, n)"
   ]
  },
  {
   "cell_type": "code",
   "execution_count": 15,
   "metadata": {},
   "outputs": [
    {
     "data": {
      "text/plain": [
       "array([[1.97223557, 1.98108835]])"
      ]
     },
     "execution_count": 15,
     "metadata": {},
     "output_type": "execute_result"
    }
   ],
   "source": [
    "mod_b = LogisticRegression(penalty='none')\n",
    "mod_b.fit(X_discriminative, Y_discriminative)\n",
    "mod_b.coef_"
   ]
  },
  {
   "cell_type": "markdown",
   "metadata": {},
   "source": [
    "Not that far off.\n"
   ]
  },
  {
   "cell_type": "markdown",
   "metadata": {},
   "source": [
    "#### Second bullet point"
   ]
  },
  {
   "cell_type": "code",
   "execution_count": 16,
   "metadata": {},
   "outputs": [
    {
     "data": {
      "image/png": "[encoded data removed]",
      "text/plain": [
       "<Figure size 640x480 with 2 Axes>"
      ]
     },
     "metadata": {},
     "output_type": "display_data"
    }
   ],
   "source": [
    "plt.subplot(1, 2, 1)\n",
    "plt.scatter(x=X_generative[:,0], y=X_generative[:,1], c=Y_generative)\n",
    "plt.ylim(-4,4)\n",
    "plt.xlim(-4,4)\n",
    "plt.subplot(1, 2, 2)\n",
    "plt.scatter(x=X_discriminative[:,0],y=X_discriminative[:,1] , c=Y_discriminative)\n",
    "plt.ylim(-4,4)\n",
    "plt.xlim(-4,4)\n",
    "plt.show()"
   ]
  },
  {
   "cell_type": "markdown",
   "metadata": {},
   "source": [
    "What distinguishes the generative approach from the discriminative approach?"
   ]
  },
  {
   "cell_type": "markdown",
   "metadata": {},
   "source": [
    "### c)"
   ]
  },
  {
   "cell_type": "markdown",
   "metadata": {},
   "source": [
    "To sample from $f_{X|Y=-1}$, first, we will give an answer to Q1.\n",
    "\n",
    "Q1. A hint: use Bayes theorem for $p(x|y=-1)$ and use law of total probability for $p(x)$."
   ]
  },
  {
   "cell_type": "markdown",
   "metadata": {},
   "source": [
    "$$ p(y=1|x) = \\frac{\\pi p(x|y=1)}{\\pi p(x|y=1)+(1-\\pi) p(x|y=-1)} $$"
   ]
  },
  {
   "cell_type": "markdown",
   "metadata": {},
   "source": [
    "$$ p(x|y=-1) = \\frac{\\pi p(x|y=1)(1-p(y=1|x))}{p(y=1|x)(1-\\pi)} = \\frac{\\pi exp(-x)(1-\\frac{1}{(1+exp(-\\beta_0-\\beta_1 x))})}{\\frac{1}{(1+exp(-\\beta_0-\\beta_1 x))}(1-\\pi)} = \\frac{\\pi exp(-x)(\\frac{exp(-\\beta_0-\\beta_1 x)}{(1+exp(-\\beta_0-\\beta_1 x))})}{\\frac{1}{(1+exp(-\\beta_0-\\beta_1 x))}(1-\\pi)} = \\frac{\\pi exp(-x)(exp(-\\beta_0-\\beta_1 x))}{(1-\\pi)} = $$"
   ]
  },
  {
   "cell_type": "markdown",
   "metadata": {},
   "source": [
    "$$ = \\frac{\\pi exp(-\\beta_0)}{1-\\pi}exp(-(\\beta_1+1)x) = C_{\\beta_0,\\pi}exp(-(\\beta_1+1)x) $$\n",
    "\n",
    "$$ C_{\\beta_0,\\pi} = \\frac{\\pi exp(-\\beta_0)}{1-\\pi} (*)$$"
   ]
  },
  {
   "cell_type": "markdown",
   "metadata": {},
   "source": [
    "Since $X$ given $Y = -1$ has an exponential distribution with $\\lambda = \\beta_1+1$ and $\\int_{0}^{\\infty}p(x|y=-1)dx = 1$. Also note that $\\int_{0}^{\\infty} e^{-ax} dx = \\frac{1}{a} $ for $a>0$. So:\n",
    "\n",
    "$$ \\int_{0}^{\\infty}p(x|y=-1)dx = 1 \\\\\n",
    "\\int_{0}^{\\infty}C_{\\beta_0,\\pi} e^{-(\\beta_1+1)x}dx = 1 \\\\\n",
    "\\int_{0}^{\\infty} e^{-(\\beta_1+1)x}dx = \\frac{1}{C_{\\beta_0,\\pi}} \\\\\n",
    "\\frac{1}{(\\beta_1+1)} = \\frac{1}{C_{\\beta_0,\\pi}} \\\\\n",
    "C_{\\beta_0,\\pi} = (\\beta_1+1)\n",
    "$$\n",
    "\n",
    "Knowing that and that $(*)$ we can conclude that:\n",
    "\n",
    "$$ \\frac{\\pi exp(-\\beta_0)}{1-\\pi} = (\\beta_1+1) $$\n",
    "\n",
    "$$ exp(\\beta_0) = \\frac{\\pi}{(1-\\pi)(\\beta_1+1)} $$\n",
    "\n",
    "$$ \\beta_0 = log( \\frac{\\pi}{(1-\\pi)(\\beta_1+1)} ) $$"
   ]
  },
  {
   "cell_type": "markdown",
   "metadata": {},
   "source": [
    "Let's calculate it for fixed values. Since $n_1=1000, n_2 = 2000$ then $\\pi = 1/3$ and $\\frac{\\pi}{1-\\pi} = \\frac{1}{2}$. $\\beta_1 =1$ so $\\beta_0 = log(\\frac{1}{2*(1+1)}) = -log(4)$"
   ]
  },
  {
   "cell_type": "code",
   "execution_count": 17,
   "metadata": {},
   "outputs": [],
   "source": [
    "# sampling\n",
    "\n",
    "beta1 = 1\n",
    "n1 = 1000\n",
    "x1 = np.random.exponential(1, size=n1)\n",
    "n2 = 2000\n",
    "x2 = np.random.exponential(1/(beta1 + 1), size=n2)\n",
    "X = np.concatenate([x1, x2]).reshape(-1, 1)\n",
    "y = np.concatenate([np.ones(n1), np.zeros(n2)])"
   ]
  },
  {
   "cell_type": "code",
   "execution_count": 26,
   "metadata": {},
   "outputs": [
    {
     "data": {
      "text/plain": [
       "(array([-1.46619323]), array([[1.11391982]]))"
      ]
     },
     "execution_count": 26,
     "metadata": {},
     "output_type": "execute_result"
    }
   ],
   "source": [
    "# a model\n",
    "mod = LogisticRegression(penalty='none')\n",
    "mod.fit(X, y)\n",
    "(mod.intercept_, mod.coef_)"
   ]
  },
  {
   "cell_type": "code",
   "execution_count": 30,
   "metadata": {},
   "outputs": [
    {
     "data": {
      "text/plain": [
       "-1.3862943611198906"
      ]
     },
     "execution_count": 30,
     "metadata": {},
     "output_type": "execute_result"
    }
   ],
   "source": [
    "-np.log(4)"
   ]
  },
  {
   "cell_type": "code",
   "execution_count": 20,
   "metadata": {},
   "outputs": [
    {
     "data": {
      "text/plain": [
       "-1.3862943611198908"
      ]
     },
     "execution_count": 20,
     "metadata": {},
     "output_type": "execute_result"
    }
   ],
   "source": [
    "# a numeric answer to the question about beta0\n",
    "pi_c = n1 / (n1 + n2)\n",
    "-np.log((1 - pi_c)/pi_c * (beta1 + 1))"
   ]
  },
  {
   "cell_type": "markdown",
   "metadata": {},
   "source": [
    "Q1: $f_{X|Y=-1} \\sim Exp(\\beta_1+1)$\n",
    "\n",
    "Q2: No, because the intercept depends on $\\beta_1$ too.\n",
    "\n",
    "Q3: It is not uniquely determined because it also depends on $\\pi$."
   ]
  },
  {
   "attachments": {},
   "cell_type": "markdown",
   "metadata": {},
   "source": [
    "## Task 2"
   ]
  },
  {
   "cell_type": "markdown",
   "metadata": {},
   "source": [
    "### a)\n",
    "\n",
    "In our task we know $a^* = 1$.\n",
    "\n",
    "$R(a,a^*) = \\mathbb{E} \\mathcal{L}(f(X), Y) = \\mathbb{E}(aX - Y)^2 = \\mathbb{E}(aX - (X+\\epsilon))^2 = \\mathbb{E}((a-1)X - \\epsilon)^2 = \\mathbb{E}((a-1)X)^2+\\mathbb{E}(2(a-1)X\\epsilon)+\\mathbb{E}(\\epsilon)^2 = (1)$,\n",
    "\n",
    "Because $\\mathbb{E} \\epsilon=0$ and it is independent of $X$ we can skip the middle term. Also $Var\\epsilon = E\\epsilon^2 - (E\\epsilon)^2 = \\sigma^2 - 0^2 = \\sigma^2$. Thus:\n"
   ]
  },
  {
   "cell_type": "markdown",
   "metadata": {},
   "source": [
    "$ (1) = (a-1)^2\\mathbb{E}X^2+\\sigma^2 = (a-1)^2 + \\sigma^2$ because $Var(X) = \\mathbb{E}X^2 - (\\mathbb{E}X^)2$ and also $Var(X) = 1, E(X) = 0$."
   ]
  },
  {
   "cell_type": "code",
   "execution_count": 268,
   "metadata": {},
   "outputs": [],
   "source": [
    "def population_risk(a, sigma_eps):\n",
    "    return (a-1)**2 + sigma_eps # assuming it is \\sigma^2"
   ]
  },
  {
   "cell_type": "markdown",
   "metadata": {},
   "source": [
    "Minimal value of the population risk function is of course for $a=1$ and it is equal $sigma^2$ so with changing sigma the minimum also changes. "
   ]
  },
  {
   "attachments": {},
   "cell_type": "markdown",
   "metadata": {},
   "source": [
    "### b)"
   ]
  },
  {
   "cell_type": "code",
   "execution_count": 269,
   "metadata": {},
   "outputs": [],
   "source": [
    "# sampling"
   ]
  },
  {
   "cell_type": "markdown",
   "metadata": {},
   "source": [
    "Empirical risk: $\\frac{1}{n} \\sum_{i=1}^n (ax_i - y_i)^2$"
   ]
  },
  {
   "cell_type": "code",
   "execution_count": 270,
   "metadata": {},
   "outputs": [],
   "source": [
    "# def empirical_risk(a, x, y):\n",
    "#     return ..."
   ]
  },
  {
   "attachments": {},
   "cell_type": "markdown",
   "metadata": {},
   "source": [
    "### c)"
   ]
  },
  {
   "cell_type": "code",
   "execution_count": 37,
   "metadata": {},
   "outputs": [],
   "source": [
    "# code, plot"
   ]
  },
  {
   "attachments": {},
   "cell_type": "markdown",
   "metadata": {},
   "source": [
    "### d)"
   ]
  },
  {
   "cell_type": "markdown",
   "metadata": {},
   "source": [
    "Excess risk: $$E(\\hat a, a^*) =R(\\hat a, a^*) - \\textrm{inf}_{a \\in A_0} R(a, a^*)$$"
   ]
  },
  {
   "cell_type": "code",
   "execution_count": 38,
   "metadata": {},
   "outputs": [],
   "source": [
    "# excess risk\n",
    "# ..."
   ]
  },
  {
   "cell_type": "code",
   "execution_count": 39,
   "metadata": {},
   "outputs": [],
   "source": [
    "# simulations with fixed sample size"
   ]
  },
  {
   "cell_type": "code",
   "execution_count": 276,
   "metadata": {},
   "outputs": [],
   "source": [
    "# simulations for various sample sizes"
   ]
  },
  {
   "cell_type": "code",
   "execution_count": 40,
   "metadata": {},
   "outputs": [],
   "source": [
    "# a nice plot visualising the results (how the unconditional excess risk changes with a sample size)"
   ]
  }
 ],
 "metadata": {
  "kernelspec": {
   "display_name": "Python 3 (ipykernel)",
   "language": "python",
   "name": "python3"
  },
  "language_info": {
   "codemirror_mode": {
    "name": "ipython",
    "version": 3
   },
   "file_extension": ".py",
   "mimetype": "text/x-python",
   "name": "python",
   "nbconvert_exporter": "python",
   "pygments_lexer": "ipython3",
   "version": "3.9.13"
  },
  "orig_nbformat": 4
 },
 "nbformat": 4,
 "nbformat_minor": 2
}
