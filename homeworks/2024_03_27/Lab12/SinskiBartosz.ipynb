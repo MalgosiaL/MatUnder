{
 "cells": [
  {
   "cell_type": "code",
   "execution_count": 2,
   "metadata": {},
   "outputs": [],
   "source": [
    "from sklearn.metrics import mutual_info_score\n",
    "#from sklearn.feature_selection import chi2\n",
    "from scipy.stats import chi2_contingency\n",
    "from scipy.stats import chi2\n",
    "import numpy as np\n",
    "import matplotlib.pyplot as plt\n",
    "from scipy.stats import gaussian_kde, pearsonr\n",
    "import seaborn as sns\n",
    "import pandas as pd\n",
    "import warnings\n",
    "from sklearn.preprocessing import KBinsDiscretizer\n",
    "warnings.filterwarnings(\"ignore\")"
   ]
  },
  {
   "cell_type": "markdown",
   "metadata": {},
   "source": [
    "# Mathematical Underpinnings - Lab 4"
   ]
  },
  {
   "cell_type": "markdown",
   "metadata": {},
   "source": [
    "Tests to verify hipoteses of independence (from Lab 4):"
   ]
  },
  {
   "cell_type": "code",
   "execution_count": 3,
   "metadata": {},
   "outputs": [],
   "source": [
    "def indep_test_asymptotic(X, Y, stat):\n",
    "\n",
    "    if stat == \"mi\":\n",
    "\n",
    "        stat_value = 2*len(X)*mutual_info_score(X, Y)\n",
    "\n",
    "    if stat == \"chi2\":\n",
    "\n",
    "        test_res = (chi2_contingency(pd.crosstab(X, Y)))\n",
    "        stat_value = test_res.statistic\n",
    "\n",
    "    df = (len(np.unique(X)) - 1)*(len(np.unique(Y)) - 1)\n",
    "\n",
    "    p_value = 1 - chi2.cdf(stat_value, df=df)\n",
    "\n",
    "    return stat_value, p_value\n",
    "\n",
    "def indep_test_permutation(X, Y, B):\n",
    "\n",
    "    stat_value = mutual_info_score(X, Y)\n",
    "\n",
    "    condition_p_value = 0\n",
    "    for b in range(B):\n",
    "        X_b = np.random.permutation(X)\n",
    "\n",
    "        stat_value_b = mutual_info_score(X_b, Y)\n",
    "\n",
    "        if stat_value <= stat_value_b:\n",
    "            condition_p_value += 1\n",
    "\n",
    "    p_value = (1 + condition_p_value)/(1 + B)\n",
    "\n",
    "    return 2*len(X)*stat_value, p_value"
   ]
  },
  {
   "cell_type": "markdown",
   "metadata": {},
   "source": [
    "## Task 1"
   ]
  },
  {
   "cell_type": "code",
   "execution_count": 4,
   "metadata": {},
   "outputs": [],
   "source": [
    "# a function which computes CMI\n",
    "def conditional_mutual_information(X, Y, Z):\n",
    "    cmi = 0\n",
    "    n = len(Z)\n",
    "    for z in np.unique(Z):\n",
    "        proba = np.sum(Z == z)/n\n",
    "        cmi += proba*mutual_info_score(X[Z == z], Y[Z == z])\n",
    "    return cmi"
   ]
  },
  {
   "cell_type": "markdown",
   "metadata": {},
   "source": [
    "### a)"
   ]
  },
  {
   "cell_type": "code",
   "execution_count": 5,
   "metadata": {},
   "outputs": [],
   "source": [
    "# CI test based on CMI and asymptotics\n",
    "def cond_indep_test_asymptotic(X, Y, Z):\n",
    "    stat_value = 2*len(X)*conditional_mutual_information(X, Y, Z)\n",
    "    df = (len(np.unique(X)) - 1)*(len(np.unique(Y)) - 1) *len(np.unique(Z)) \n",
    "    p_value = 1 - chi2.cdf(stat_value, df=df)\n",
    "\n",
    "    return stat_value, p_value"
   ]
  },
  {
   "cell_type": "markdown",
   "metadata": {},
   "source": [
    "### b)"
   ]
  },
  {
   "cell_type": "code",
   "execution_count": 6,
   "metadata": {},
   "outputs": [],
   "source": [
    "# CI test based on CMI and permutations\n",
    "def conditional_petmutation(X, Z):\n",
    "    X_b = np.zeros(len(X))\n",
    "    for z in np.unique(Z):\n",
    "        X_b[Z==z] = np.random.permutation(X[Z == z])\n",
    "    return X_b\n",
    "\n",
    "def cond_indep_test_permutation(X, Y, Z, B):\n",
    "    stat_value = conditional_mutual_information(X, Y, Z)    \n",
    "    condition_p_value = 0\n",
    "    for _ in range(B):\n",
    "        X_b = conditional_petmutation(X, Z)\n",
    "        stat_value_b = conditional_mutual_information(X_b, Y, Z)\n",
    "        if stat_value <= stat_value_b:\n",
    "            condition_p_value += 1\n",
    "    p_value = (1 + condition_p_value)/(1 + B)\n",
    "\n",
    "    return 2*len(X)*stat_value, p_value"
   ]
  },
  {
   "cell_type": "markdown",
   "metadata": {},
   "source": [
    "### c)"
   ]
  },
  {
   "cell_type": "markdown",
   "metadata": {},
   "source": [
    "conditionaly independent"
   ]
  },
  {
   "cell_type": "code",
   "execution_count": 15,
   "metadata": {},
   "outputs": [
    {
     "name": "stdout",
     "output_type": "stream",
     "text": [
      "Asymptotic test based on conditional mutual information: (172.03812256635607, 1.0)\n",
      "Conditional permutation test: (172.03812256635607, 0.0891089108910891)\n"
     ]
    }
   ],
   "source": [
    "Z = np.random.normal(0, 1, 1000)\n",
    "X = np.random.normal(Z, np.ones(1000)) \n",
    "Y = np.random.normal(Z*2, np.ones(1000))\n",
    "discretizer = KBinsDiscretizer(n_bins=10, encode='ordinal', strategy='uniform',subsample=None)\n",
    "Xt = discretizer.fit_transform(X.reshape(-1, 1)).flatten()\n",
    "Yt = discretizer.fit_transform(Y.reshape(-1, 1)).flatten()\n",
    "Zt = discretizer.fit_transform(Z.reshape(-1, 1)).flatten()\n",
    "print(f\"Asymptotic test based on conditional mutual information: {cond_indep_test_asymptotic(Xt, Yt, Zt)}\")\n",
    "print(f\"Conditional permutation test: {cond_indep_test_permutation(Xt, Yt, Zt, 100)}\")"
   ]
  },
  {
   "cell_type": "markdown",
   "metadata": {},
   "source": [
    "conditionaly dependent"
   ]
  },
  {
   "cell_type": "code",
   "execution_count": 34,
   "metadata": {},
   "outputs": [
    {
     "name": "stdout",
     "output_type": "stream",
     "text": [
      "Asymptotic test based on conditional mutual information: (1501.0516097882858, 0.0)\n",
      "Conditional permutation test: (1501.0516097882858, 0.009900990099009901)\n"
     ]
    }
   ],
   "source": [
    "X = np.random.normal(0, 1, size=1000)\n",
    "Y = np.random.normal(0, 1, size=1000)\n",
    "Z = X + Y\n",
    "discretizer = KBinsDiscretizer(n_bins=10, encode='ordinal', strategy='uniform',subsample=None)\n",
    "Xt = discretizer.fit_transform(X.reshape(-1, 1)).flatten()\n",
    "Yt = discretizer.fit_transform(Y.reshape(-1, 1)).flatten()\n",
    "Zt = discretizer.fit_transform(Z.reshape(-1, 1)).flatten()\n",
    "print(f\"Asymptotic test based on conditional mutual information: {cond_indep_test_asymptotic(Xt, Yt, Zt)}\")\n",
    "print(f\"Conditional permutation test: {cond_indep_test_permutation(Xt, Yt, Zt, 100)}\")"
   ]
  },
  {
   "cell_type": "markdown",
   "metadata": {},
   "source": [
    "## Task 2"
   ]
  },
  {
   "cell_type": "code",
   "execution_count": 29,
   "metadata": {},
   "outputs": [],
   "source": [
    "\n",
    "def sample_from_model1():\n",
    "    n = 1000\n",
    "    Z_c = np.random.normal(0, 1, n)\n",
    "    Z = np.array([-1 if Z_c[i] < 0 else 1 for i in range(n)])\n",
    "    X_c = np.random.normal(Z/2, np.ones(n))\n",
    "    X = np.array([-1 if X_c[i] < 0 else 1 for i in range(n)])\n",
    "    Y_c = np.random.normal(Z/2, np.ones(n))\n",
    "    Y = np.array([-1 if Y_c[i] < 0 else 1 for i in range(n)])\n",
    "    return X, Y, Z\n",
    "\n",
    "def sample_from_model2():\n",
    "    n = 1000\n",
    "    X_c = np.random.normal(0, 1, n)\n",
    "    X = np.array([-1 if X_c[i] < 0 else 1 for i in range(n)])\n",
    "    Z_c = np.random.normal(X/2, np.ones(n))\n",
    "    Z = np.array([-1 if Z_c[i] < 0 else 1 for i in range(n)])\n",
    "    Y_c = np.random.normal(Z/2, np.ones(n))\n",
    "    Y = np.array([-1 if Y_c[i] < 0 else 1 for i in range(n)])\n",
    "    return X, Y, Z\n",
    "\n",
    "def sample_from_model3():\n",
    "    n = 1000\n",
    "    X_c = np.random.normal(0,1,n)\n",
    "    X = np.array([-1 if X_c[i] < 0 else 1 for i in range(n)])\n",
    "    Y_c = np.random.normal(0,1,n)\n",
    "    Y = np.array([-1 if Y_c[i] < 0 else 1 for i in range(n)])\n",
    "    Z_c = np.random.normal((X+Y)/2, np.ones(n))\n",
    "    Z = np.array([-1 if Z_c[i] < 0 else 1 for i in range(n)])\n",
    "    return X, Y, Z"
   ]
  },
  {
   "cell_type": "markdown",
   "metadata": {},
   "source": [
    "### a)"
   ]
  },
  {
   "cell_type": "markdown",
   "metadata": {},
   "source": [
    "answer:   \n",
    "Model 1 and 2 - conditional idependence  \n",
    "Model 3 - independence  \n"
   ]
  },
  {
   "cell_type": "markdown",
   "metadata": {},
   "source": [
    "### b)"
   ]
  },
  {
   "cell_type": "code",
   "execution_count": 31,
   "metadata": {},
   "outputs": [],
   "source": [
    "X1, Y1, Z1 = sample_from_model1()\n",
    "X2, Y2, Z2 = sample_from_model2()\n",
    "X3, Y3, Z3 = sample_from_model3()"
   ]
  },
  {
   "cell_type": "code",
   "execution_count": 38,
   "metadata": {},
   "outputs": [
    {
     "name": "stdout",
     "output_type": "stream",
     "text": [
      "Model 1 MI: 0.005739884023151176\n",
      "Model 1 CMI: 0.0011645847928807192\n",
      "\n",
      "Model 2 MI: 0.011053690733280719\n",
      "Model 2 CMI: 8.855297177055708e-05\n",
      "\n",
      "Model 3 MI: 0.0008469862681012574\n",
      "Model 3 CMI: 0.0063871159739739055\n"
     ]
    }
   ],
   "source": [
    "print(f\"Model 1 MI: {mutual_info_score(X1, Y1)}\")\n",
    "print(f\"Model 1 CMI: {conditional_mutual_information(X1, Y1, Z1)}\\n\")\n",
    "print(f\"Model 2 MI: {mutual_info_score(X2, Y2)}\")\n",
    "print(f\"Model 2 CMI: {conditional_mutual_information(X2, Y2, Z2)}\\n\")\n",
    "print(f\"Model 3 MI: {mutual_info_score(X3, Y3)}\")\n",
    "print(f\"Model 3 CMI: {conditional_mutual_information(X3, Y3, Z3)}\")"
   ]
  },
  {
   "cell_type": "markdown",
   "metadata": {},
   "source": [
    "### c)"
   ]
  },
  {
   "cell_type": "code",
   "execution_count": 34,
   "metadata": {},
   "outputs": [
    {
     "name": "stdout",
     "output_type": "stream",
     "text": [
      "Model 1\n",
      "Asymptotic test based on mutual information: (11.479768046302352, 0.0007035791046886564)\n",
      "Permutation test (11.479768046302352, 0.009900990099009901)\n",
      "Asymptotic test based on conditional mutual information: (2.3291695857614383, 0.3120522014335675)\n",
      "Conditional permutation test (2.3291695857614383, 0.3069306930693069)\n"
     ]
    }
   ],
   "source": [
    "print('Model 1')\n",
    "print(f\"Asymptotic test based on mutual information: {indep_test_asymptotic(X1, Y1,'mi')}\")\n",
    "print(f\"Permutation test {indep_test_permutation(X1, Y1, 100)}\")\n",
    "print(f\"Asymptotic test based on conditional mutual information: {cond_indep_test_asymptotic(X1, Y1, Z1)}\")\n",
    "print(f\"Conditional permutation test {cond_indep_test_permutation(X1, Y1, Z1, 100)}\")"
   ]
  },
  {
   "cell_type": "code",
   "execution_count": 35,
   "metadata": {},
   "outputs": [
    {
     "name": "stdout",
     "output_type": "stream",
     "text": [
      "Model 2\n",
      "Asymptotic test based on mutual information: (22.10738146656144, 2.5781647922107354e-06)\n",
      "Permutation test (22.10738146656144, 0.009900990099009901)\n",
      "Asymptotic test based on conditional mutual information: (0.17710594354111417, 0.9152546267937769)\n",
      "Conditional permutation test (0.17710594354111417, 0.9405940594059405)\n"
     ]
    }
   ],
   "source": [
    "print('Model 2')\n",
    "print(f\"Asymptotic test based on mutual information: {indep_test_asymptotic(X2, Y2,'mi')}\")\n",
    "print(f\"Permutation test {indep_test_permutation(X2, Y2, 100)}\")\n",
    "print(f\"Asymptotic test based on conditional mutual information: {cond_indep_test_asymptotic(X2, Y2, Z2)}\")\n",
    "print(f\"Conditional permutation test {cond_indep_test_permutation(X2, Y2, Z2, 100)}\")"
   ]
  },
  {
   "cell_type": "code",
   "execution_count": 36,
   "metadata": {},
   "outputs": [
    {
     "name": "stdout",
     "output_type": "stream",
     "text": [
      "Model 3\n",
      "Asymptotic test based on mutual information: (1.6939725362025149, 0.1930781282234395)\n",
      "Permutation test (1.6939725362025149, 0.27722772277227725)\n",
      "Asymptotic test based on conditional mutual information: (12.774231947947811, 0.0016831033222041158)\n",
      "Conditional permutation test (12.774231947947811, 0.009900990099009901)\n"
     ]
    }
   ],
   "source": [
    "print('Model 3')\n",
    "print(f\"Asymptotic test based on mutual information: {indep_test_asymptotic(X3, Y3,'mi')}\")\n",
    "print(f\"Permutation test {indep_test_permutation(X3, Y3, 100)}\")\n",
    "print(f\"Asymptotic test based on conditional mutual information: {cond_indep_test_asymptotic(X3, Y3, Z3)}\")\n",
    "print(f\"Conditional permutation test {cond_indep_test_permutation(X3, Y3, Z3, 100)}\")"
   ]
  }
 ],
 "metadata": {
  "kernelspec": {
   "display_name": "dydaktyka",
   "language": "python",
   "name": "python3"
  },
  "language_info": {
   "codemirror_mode": {
    "name": "ipython",
    "version": 3
   },
   "file_extension": ".py",
   "mimetype": "text/x-python",
   "name": "python",
   "nbconvert_exporter": "python",
   "pygments_lexer": "ipython3",
   "version": "3.11.5"
  }
 },
 "nbformat": 4,
 "nbformat_minor": 2
}
