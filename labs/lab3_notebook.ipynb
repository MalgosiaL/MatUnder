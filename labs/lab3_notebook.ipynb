{
 "cells": [
  {
   "cell_type": "markdown",
   "metadata": {},
   "source": [
    "# Mathematical Underpinnings - Lab 3"
   ]
  },
  {
   "cell_type": "markdown",
   "metadata": {},
   "source": [
    "  - A set $S_n = \\{x_1, x_2, \\ldots, x_n\\}$ is **shattered** by a class $\\mathcal{C}$ (or $\\mathcal{C}$ shatters $S_n$) if $|\\{S_n \\cap c: c \\in \\mathcal{C}\\}| = 2^n$.\n",
    "\n",
    "  - **Shattering coefficient** of $\\mathcal{C}$ is a number such that $\\mathcal{S}_{\\mathcal{C}}(n) = \\max_{S_n} |\\{S_n \\cap c: c \\in \\mathcal{C}\\}|$.\n",
    "\n",
    "  - **Vapnik–Chervonenkis** dimension of $\\mathcal{C}$ is $VC(\\mathcal{C}) = \\min_n \\{n: \\mathcal{S}_{\\mathcal{C}}(n) < 2^n\\}$.\n",
    "\n",
    "*What to do if we have a class of functions $\\mathcal{F}$ instead of a set of subsets $\\mathcal{C}$*\n",
    "\n",
    "  - **Subgraph** of a function $f$ is defined as $\\textrm{Subgraph}(f) = \\{x: f(x) \\leq 0\\}$.\n",
    "\n",
    "  - Then $\\mathcal{C}$ from the above definitions is defined as $\\mathcal{C} = \\{\\textrm{Subgraph}(f): f \\in \\mathcal{F}\\}$\n",
    "\n",
    "  - **Example** for linear decision boundaries in $\\mathbb{R}^2$: \n",
    "  \n",
    "      A function: $f_b(x) = f_b(x^{1}, x^{2}) = b^{0} + b^{1}x^{1} + b^{2}x^{2}$\n",
    "      \n",
    "      A hyperplane (in $\\mathbb{R}^2$ a line): $f_b(x^{1}, x^{2}) = b^{0} + b^{1}x^{1} + b^{2}x^{2} = 0$\n",
    "\n",
    "      $\\textrm{Subgraph}(f_b) = \\{\\textrm{A half space bounded by a hyperplane given above}\\}$\n",
    "\n",
    "      A family of functions: $\\mathcal{F} = \\{f_b: b \\in \\mathbb{R}^3\\}$\n",
    "  \n",
    "      $\\mathcal{C} = \\{\\textrm{All half spaces separated by all hyperplanes}\\}$"
   ]
  },
  {
   "cell_type": "markdown",
   "metadata": {},
   "source": [
    "## Task 1\n",
    "\n",
    "### a)\n",
    "\n",
    "Facts from the lecture:\n",
    "\n",
    "  - If $\\mathcal{F}_{a,b} = \\{f: f(x) = a'x +b\\}$ (a family of linear functions in $\\mathbb{R}^d$), then $VC(\\mathcal{F}_{a,b}) \\leq d+2$.\n",
    "  - If $\\mathcal{F}_{a,b} = \\{f: f(x) = a'x +b\\}$ (a family of linear functions in $\\mathbb{R}^d$), then $VC(\\mathcal{F}_{a,b}) = d+1$.\n",
    "\n",
    "Of course the second implies the first fact, but both are given as proving inequality is simpler (and we repeat what exactly was on the lecture).\n",
    "\n",
    "\n",
    "*Pictures on paper*"
   ]
  },
  {
   "cell_type": "markdown",
   "metadata": {},
   "source": [
    "### b)"
   ]
  },
  {
   "cell_type": "code",
   "execution_count": null,
   "metadata": {},
   "outputs": [],
   "source": [
    "# # S_n is an array (n) x (d). In rows are point in R^d and there are n of them\n",
    "# def is_shattered(d, n, S_n):\n",
    "    \n",
    "#     for y in different assigment of classes to points in S_n:\n",
    "#         check if they are linearly separable\n",
    "#         i.e. if we can fit a line so for the points in S_n with classes y the classification error is 0\n",
    "#\n",
    "#     if for at least for one y the answer is no, then return False, else return True\n",
    "#     return True/False"
   ]
  },
  {
   "cell_type": "code",
   "execution_count": null,
   "metadata": {},
   "outputs": [],
   "source": [
    "# useful functions to find all possible assigments of classes:\n",
    "# (I recommend usin combinations, as we don't need to compute the same with the classes swiched)\n",
    "\n",
    "from itertools import combinations\n",
    "from itertools import permutations\n",
    "from itertools import product"
   ]
  },
  {
   "cell_type": "markdown",
   "metadata": {},
   "source": [
    "### c)"
   ]
  },
  {
   "cell_type": "code",
   "execution_count": null,
   "metadata": {},
   "outputs": [],
   "source": [
    "# there should be 2^n = 2^4 = 16 pictures \n",
    "# (or 8 if you don't differentiate class swithes, \n",
    "# or 8-1=7 if you don't take into account the case in which all observations belongs to one class)"
   ]
  },
  {
   "cell_type": "markdown",
   "metadata": {},
   "source": [
    "### d)"
   ]
  },
  {
   "cell_type": "code",
   "execution_count": null,
   "metadata": {},
   "outputs": [],
   "source": [
    "# code"
   ]
  },
  {
   "cell_type": "markdown",
   "metadata": {},
   "source": [
    "### e)"
   ]
  },
  {
   "cell_type": "code",
   "execution_count": null,
   "metadata": {},
   "outputs": [],
   "source": [
    "# A hint: change a kernel in SVM"
   ]
  }
 ],
 "metadata": {
  "kernelspec": {
   "display_name": "dydaktyka",
   "language": "python",
   "name": "python3"
  },
  "language_info": {
   "codemirror_mode": {
    "name": "ipython",
    "version": 3
   },
   "file_extension": ".py",
   "mimetype": "text/x-python",
   "name": "python",
   "nbconvert_exporter": "python",
   "pygments_lexer": "ipython3",
   "version": "3.9.16"
  }
 },
 "nbformat": 4,
 "nbformat_minor": 2
}
