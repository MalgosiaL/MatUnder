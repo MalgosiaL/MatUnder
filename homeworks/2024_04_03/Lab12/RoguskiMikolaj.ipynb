{
 "cells": [
  {
   "cell_type": "code",
   "execution_count": null,
   "metadata": {
    "ExecuteTime": {
     "end_time": "2024-04-07T18:10:07.048321522Z",
     "start_time": "2024-04-07T18:10:07.047748545Z"
    }
   },
   "outputs": [],
   "source": []
  },
  {
   "cell_type": "markdown",
   "metadata": {},
   "source": [
    "# Mathematical Underpinnings - Lab 6"
   ]
  },
  {
   "cell_type": "code",
   "execution_count": 1,
   "metadata": {
    "ExecuteTime": {
     "end_time": "2024-04-07T18:10:07.083142282Z",
     "start_time": "2024-04-07T18:10:07.047912350Z"
    }
   },
   "outputs": [],
   "source": [
    "import numpy as np\n",
    "from sklearn.metrics import mutual_info_score"
   ]
  },
  {
   "cell_type": "markdown",
   "metadata": {},
   "source": [
    "## Useful functions"
   ]
  },
  {
   "cell_type": "code",
   "execution_count": 2,
   "metadata": {
    "ExecuteTime": {
     "end_time": "2024-04-07T18:10:07.084031960Z",
     "start_time": "2024-04-07T18:10:07.074434282Z"
    }
   },
   "outputs": [],
   "source": [
    "def discetize_2bins(X):\n",
    "    X_discrete = np.where(X<0, -1, 1)\n",
    "    return X_discrete"
   ]
  },
  {
   "cell_type": "code",
   "execution_count": 3,
   "metadata": {
    "ExecuteTime": {
     "end_time": "2024-04-07T18:10:07.115689868Z",
     "start_time": "2024-04-07T18:10:07.077672905Z"
    }
   },
   "outputs": [],
   "source": [
    "def conditional_permutation(X, Z):\n",
    "    z_values = np.unique(Z)\n",
    "    n_z_values = len(z_values)\n",
    "    n = len(Z)\n",
    "\n",
    "    X_b = np.zeros(n)\n",
    "\n",
    "    for i in range(n_z_values):\n",
    "        z_value_tmp = z_values[i]\n",
    "\n",
    "        X_b[Z == z_value_tmp] = np.random.permutation(X[Z == z_value_tmp])\n",
    "\n",
    "    return X_b"
   ]
  },
  {
   "cell_type": "code",
   "execution_count": 4,
   "metadata": {
    "ExecuteTime": {
     "end_time": "2024-04-07T18:10:07.148211797Z",
     "start_time": "2024-04-07T18:10:07.116124438Z"
    }
   },
   "outputs": [],
   "source": [
    "def conditional_mutual_information(X, Y, Z):\n",
    "    z_values = np.unique(Z)\n",
    "    n_z_values = len(z_values)\n",
    "    n = len(Z)\n",
    "\n",
    "    cmi = 0\n",
    "\n",
    "    for i in range(n_z_values):\n",
    "        z_value_tmp = z_values[i]\n",
    "        z_condition = (Z == z_value_tmp)\n",
    "\n",
    "        X_z = X[z_condition]\n",
    "        Y_z = Y[z_condition]\n",
    "\n",
    "        mi_XY_z = mutual_info_score(X_z, Y_z)\n",
    "        p_z = np.sum(z_condition) / n\n",
    "\n",
    "        cmi += p_z * mi_XY_z\n",
    "\n",
    "    return cmi"
   ]
  },
  {
   "cell_type": "code",
   "execution_count": 5,
   "metadata": {
    "ExecuteTime": {
     "end_time": "2024-04-07T18:10:07.177224578Z",
     "start_time": "2024-04-07T18:10:07.145388618Z"
    }
   },
   "outputs": [],
   "source": [
    "# II(X;Y;Z)\n",
    "def interaction_information(X, Y, Z):\n",
    "    return conditional_mutual_information(X, Y, Z) - mutual_info_score(X, Y)"
   ]
  },
  {
   "cell_type": "code",
   "execution_count": 6,
   "metadata": {
    "ExecuteTime": {
     "end_time": "2024-04-07T18:10:07.216832065Z",
     "start_time": "2024-04-07T18:10:07.176071871Z"
    }
   },
   "outputs": [],
   "source": [
    "# II(X;Y;Z1;Z2)\n",
    "def interaction_information2(X, Y, Z1, Z2):\n",
    "    Z_1_and_2 = 2 * Z2 + Z1\n",
    "    return interaction_information(X, Y, Z_1_and_2) - interaction_information(X, Y, Z1) - interaction_information(X, Y,\n",
    "                                                                                                                  Z2)"
   ]
  },
  {
   "cell_type": "markdown",
   "metadata": {},
   "source": [
    "## Task 1"
   ]
  },
  {
   "cell_type": "code",
   "execution_count": 7,
   "metadata": {
    "ExecuteTime": {
     "end_time": "2024-04-07T18:10:07.222458405Z",
     "start_time": "2024-04-07T18:10:07.216710939Z"
    }
   },
   "outputs": [],
   "source": [
    "\n",
    "def secmi2(x, y, z):\n",
    "    return mutual_info_score(x, y) + sum(interaction_information(x, y, z[:, i]) for i in range(z.shape[1]))\n",
    "\n",
    "\n",
    "def secmi3(x, y, z):\n",
    "    return (secmi2(x, y, z) + \n",
    "                sum(\n",
    "                    sum(\n",
    "                        interaction_information2(x, y, z[:, i], z[:, j])\n",
    "                        for j in range(i, z.shape[1])\n",
    "                    )\n",
    "                    for i in range(z.shape[1])\n",
    "                )\n",
    "            )\n",
    "            "
   ]
  },
  {
   "cell_type": "markdown",
   "metadata": {},
   "source": [
    "### a)"
   ]
  },
  {
   "cell_type": "code",
   "execution_count": 8,
   "metadata": {
    "ExecuteTime": {
     "end_time": "2024-04-07T18:10:07.252139942Z",
     "start_time": "2024-04-07T18:10:07.222961913Z"
    }
   },
   "outputs": [],
   "source": [
    "def cond_indep_test_permutation(X, Y, Z, B, stat):\n",
    "    n_col_Z = Z.shape[1]\n",
    "    Z_1dim = np.dot(Z, 2 ** np.linspace(0, n_col_Z - 1, n_col_Z))\n",
    "\n",
    "    if stat == \"cmi\":\n",
    "        stat_value = conditional_mutual_information(X, Y, Z_1dim)\n",
    "    if stat == \"secmi2\":\n",
    "        stat_value = secmi2(X, Y, Z)\n",
    "    if stat == \"secmi3\":\n",
    "        stat_value = secmi3(X, Y, Z)\n",
    "\n",
    "    condition_p_value = 0\n",
    "    for b in range(B):\n",
    "        X_b = conditional_permutation(X, Z_1dim)\n",
    "\n",
    "        if stat == \"cmi\":\n",
    "            stat_value_b = conditional_mutual_information(X_b, Y, Z_1dim)\n",
    "        if stat == \"secmi2\":\n",
    "            stat_value_b = secmi2(X_b, Y, Z)\n",
    "        if stat == \"secmi3\":\n",
    "            stat_value_b = secmi3(X_b, Y, Z)\n",
    "\n",
    "        if stat_value <= stat_value_b:\n",
    "            condition_p_value += 1\n",
    "\n",
    "    p_value = (1 + condition_p_value) / (1 + B)\n",
    "\n",
    "    return 2 * len(X) * stat_value, p_value"
   ]
  },
  {
   "cell_type": "markdown",
   "metadata": {},
   "source": [
    "### b)"
   ]
  },
  {
   "cell_type": "code",
   "execution_count": 35,
   "metadata": {
    "ExecuteTime": {
     "end_time": "2024-04-07T18:46:41.326391232Z",
     "start_time": "2024-04-07T18:46:41.321605867Z"
    }
   },
   "outputs": [],
   "source": [
    "def gen_data_1(n):\n",
    "    y = np.random.normal(size=n)\n",
    "    disc_y = discetize_2bins(y)\n",
    "    \n",
    "    z = np.random.normal(size=(n, 3)) + disc_y[:, np.newaxis] / 2 \n",
    "    disc_z = discetize_2bins(z)\n",
    "    \n",
    "    x = np.random.normal(size=n) + disc_z[:, 0] / 2\n",
    "    disc_x = discetize_2bins(x)\n",
    "    \n",
    "    return disc_x, disc_y, disc_z\n"
   ]
  },
  {
   "cell_type": "code",
   "outputs": [
    {
     "name": "stdout",
     "output_type": "stream",
     "text": [
      "(3.6330323551453088, 0.5714285714285714)\n",
      "(2.5986321733707274, 0.23809523809523808)\n",
      "(29.97080441618416, 0.14285714285714285)\n"
     ]
    }
   ],
   "source": [
    "x, y, z = gen_data_1(1000)\n",
    "print(cond_indep_test_permutation(x, y, z[:, [0, 1]], 20, stat=\"cmi\"))\n",
    "print(cond_indep_test_permutation(x, y, z[:, [0, 1]], 20, stat=\"secmi2\"))\n",
    "print(cond_indep_test_permutation(x, y, z[:, [0, 1]], 20, stat=\"secmi3\"))\n"
   ],
   "metadata": {
    "collapsed": false,
    "ExecuteTime": {
     "end_time": "2024-04-07T18:46:42.024686461Z",
     "start_time": "2024-04-07T18:46:41.324782916Z"
    }
   },
   "execution_count": 36
  },
  {
   "cell_type": "code",
   "outputs": [
    {
     "name": "stdout",
     "output_type": "stream",
     "text": [
      "(28.65905638849497, 0.047619047619047616)\n",
      "(28.26896495575873, 0.047619047619047616)\n",
      "(29.326495667145814, 0.047619047619047616)\n"
     ]
    }
   ],
   "source": [
    "print(cond_indep_test_permutation(x, y, z[:, [1, 2]], 20, stat=\"cmi\"))\n",
    "print(cond_indep_test_permutation(x, y, z[:, [1, 2]], 20, stat=\"secmi2\"))\n",
    "print(cond_indep_test_permutation(x, y, z[:, [1, 2]], 20, stat=\"secmi3\"))\n"
   ],
   "metadata": {
    "collapsed": false,
    "ExecuteTime": {
     "end_time": "2024-04-07T18:46:42.699045876Z",
     "start_time": "2024-04-07T18:46:42.021040538Z"
    }
   },
   "execution_count": 37
  },
  {
   "cell_type": "code",
   "outputs": [
    {
     "name": "stderr",
     "output_type": "stream",
     "text": [
      "100%|██████████| 100/100 [02:04<00:00,  1.24s/it]\n"
     ]
    }
   ],
   "source": [
    "from tqdm import tqdm\n",
    "\n",
    "results = []\n",
    "for i in tqdm(range(100)):\n",
    "    x, y, z = gen_data_1(1000)\n",
    "    for stat_ in [\"cmi\", \"secmi2\", \"secmi3\"]:\n",
    "        for cols in [(0,1), (1,2)]:\n",
    "            stat, p = cond_indep_test_permutation(x, y, z[:, cols], 20, stat=stat_)\n",
    "            results.append({\n",
    "                \"hipo\": cols,\n",
    "                \"type\": stat_,\n",
    "                \"it\": i,\n",
    "                \"stat\": stat,\n",
    "                \"p\": p\n",
    "            })\n",
    "    "
   ],
   "metadata": {
    "collapsed": false,
    "ExecuteTime": {
     "end_time": "2024-04-07T18:48:46.930058150Z",
     "start_time": "2024-04-07T18:46:42.697796017Z"
    }
   },
   "execution_count": 38
  },
  {
   "cell_type": "code",
   "outputs": [
    {
     "data": {
      "text/plain": "hipo    type  \n(0, 1)  cmi        3\n        secmi2     4\n        secmi3     7\n(1, 2)  cmi       86\n        secmi2    90\n        secmi3    92\nName: rejected, dtype: int64"
     },
     "execution_count": 39,
     "metadata": {},
     "output_type": "execute_result"
    }
   ],
   "source": [
    "import pandas as pd\n",
    "\n",
    "res = pd.DataFrame(results)\n",
    "res[\"rejected\"] = res[\"p\"] < .05\n",
    "res.groupby([\"hipo\", \"type\"])[\"rejected\"].sum()"
   ],
   "metadata": {
    "collapsed": false,
    "ExecuteTime": {
     "end_time": "2024-04-07T18:48:46.936947075Z",
     "start_time": "2024-04-07T18:48:46.931717101Z"
    }
   },
   "execution_count": 39
  },
  {
   "cell_type": "markdown",
   "metadata": {},
   "source": [
    "### c)"
   ]
  },
  {
   "cell_type": "code",
   "execution_count": 42,
   "metadata": {
    "ExecuteTime": {
     "end_time": "2024-04-07T18:49:43.989576698Z",
     "start_time": "2024-04-07T18:49:43.940937099Z"
    }
   },
   "outputs": [],
   "source": [
    "def gen_data_2(n):\n",
    "    x = np.random.binomial(1, 0.5, size=n)\n",
    "    z = np.random.binomial(1, 0.5, size=(n, 3))\n",
    "    cond = x + np.sum(z[:, :2], axis=1)\n",
    "    y = np.random.binomial(1, np.where(cond % 2, .8, .2), n)\n",
    "    return x, y, z\n"
   ]
  },
  {
   "cell_type": "code",
   "outputs": [
    {
     "name": "stderr",
     "output_type": "stream",
     "text": [
      "100%|██████████| 100/100 [02:05<00:00,  1.26s/it]\n"
     ]
    },
    {
     "data": {
      "text/plain": "hipo    type  \n(0, 1)  cmi       100\n        secmi2      4\n        secmi3    100\n(1, 2)  cmi         4\n        secmi2      4\n        secmi3      3\nName: rejected, dtype: int64"
     },
     "execution_count": 43,
     "metadata": {},
     "output_type": "execute_result"
    }
   ],
   "source": [
    "results = []\n",
    "for i in tqdm(range(100)):\n",
    "    x, y, z = gen_data_2(1000)\n",
    "    for stat_ in [\"cmi\", \"secmi2\", \"secmi3\"]:\n",
    "        for cols in [(0,1), (1,2)]:\n",
    "            stat, p = cond_indep_test_permutation(x, y, z[:, cols], 20, stat=stat_)\n",
    "            results.append({\n",
    "                \"hipo\": cols,\n",
    "                \"type\": stat_,\n",
    "                \"it\": i,\n",
    "                \"stat\": stat,\n",
    "                \"p\": p\n",
    "            })\n",
    "\n",
    "res = pd.DataFrame(results)\n",
    "res[\"rejected\"] = res[\"p\"] < .05\n",
    "res.groupby([\"hipo\", \"type\"])[\"rejected\"].sum()"
   ],
   "metadata": {
    "collapsed": false,
    "ExecuteTime": {
     "end_time": "2024-04-07T18:51:49.968721480Z",
     "start_time": "2024-04-07T18:49:44.191894221Z"
    }
   },
   "execution_count": 43
  },
  {
   "cell_type": "markdown",
   "metadata": {},
   "source": [
    "## Task 2\n",
    " \n",
    "in R"
   ]
  }
 ],
 "metadata": {
  "kernelspec": {
   "display_name": "dydaktyka",
   "language": "python",
   "name": "python3"
  },
  "language_info": {
   "codemirror_mode": {
    "name": "ipython",
    "version": 3
   },
   "file_extension": ".py",
   "mimetype": "text/x-python",
   "name": "python",
   "nbconvert_exporter": "python",
   "pygments_lexer": "ipython3",
   "version": "3.9.16"
  }
 },
 "nbformat": 4,
 "nbformat_minor": 2
}
