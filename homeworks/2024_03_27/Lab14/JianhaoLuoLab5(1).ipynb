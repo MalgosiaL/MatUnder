{
  "nbformat": 4,
  "nbformat_minor": 0,
  "metadata": {
    "colab": {
      "provenance": []
    },
    "kernelspec": {
      "name": "python3",
      "display_name": "Python 3"
    },
    "language_info": {
      "name": "python"
    }
  },
  "cells": [
    {
      "cell_type": "code",
      "execution_count": 1,
      "metadata": {
        "colab": {
          "base_uri": "https://localhost:8080/"
        },
        "id": "V5UHZvYC4gbe",
        "outputId": "030ef4ca-ceea-4f15-f5c3-6a7943e62ff1"
      },
      "outputs": [
        {
          "output_type": "stream",
          "name": "stdout",
          "text": [
            "{'Conditional Dependence': {'Asymptotic Test': (0.38629002895058484, 0.8243624209869187), 'Permutation Test': (0.00019314501447529242, 0.16983016983016982)}, 'Conditional Independence': {'Asymptotic Test': (6.568886441535309, 0.037461437038060375), 'Permutation Test': (0.0032844432207676543, 0.9560439560439561)}}\n"
          ]
        }
      ],
      "source": [
        "from scipy.stats import chi2, norm\n",
        "import numpy as np\n",
        "from sklearn.metrics import mutual_info_score\n",
        "\n",
        "def conditional_mutual_information(X, Y, Z):\n",
        "    \"\"\"\n",
        "    Calculate conditional mutual information I(X;Y|Z)\n",
        "    \"\"\"\n",
        "    unique_Z = np.unique(Z)\n",
        "    cmi = 0\n",
        "    for z in unique_Z:\n",
        "        indices = Z == z\n",
        "        X_z = X[indices]\n",
        "        Y_z = Y[indices]\n",
        "        cmi += mutual_info_score(X_z, Y_z) * len(X_z) / len(Z)\n",
        "    return cmi\n",
        "\n",
        "def asymptotic_test(X, Y, Z):\n",
        "    \"\"\"\n",
        "    Perform asymptotic test of conditional independence\n",
        "    \"\"\"\n",
        "    n = len(Z)\n",
        "    cmi = conditional_mutual_information(X, Y, Z)\n",
        "    chi2_val = 2 * n * cmi\n",
        "    dof = (len(np.unique(X)) - 1) * (len(np.unique(Y)) - 1) * len(np.unique(Z))\n",
        "    p_value = 1 - chi2.cdf(chi2_val, df=dof)\n",
        "    return chi2_val, p_value\n",
        "\n",
        "def conditional_permute(X, Z):\n",
        "    \"\"\"\n",
        "    Conditionally permute X given Z. X is permuted within each subgroup defined by the unique values of Z.\n",
        "    \"\"\"\n",
        "    permuted_X = np.empty_like(X)\n",
        "    for z in np.unique(Z):\n",
        "        indices = Z == z\n",
        "        values = X[indices]\n",
        "        permuted_X[indices] = np.random.permutation(values)\n",
        "    return permuted_X\n",
        "\n",
        "def conditional_permutation_test(X, Y, Z, B=1000):\n",
        "    \"\"\"\n",
        "    Perform conditional independence test based on permutations.\n",
        "    \"\"\"\n",
        "    original_cmi = conditional_mutual_information(X, Y, Z)\n",
        "    cmi_permutations = []\n",
        "    for _ in range(B):\n",
        "        permuted_X = conditional_permute(X, Z)\n",
        "        cmi_perm = conditional_mutual_information(permuted_X, Y, Z)\n",
        "        cmi_permutations.append(cmi_perm)\n",
        "\n",
        "    p_value = (1 + sum(cmi_perm <= original_cmi for cmi_perm in cmi_permutations)) / (1 + B)\n",
        "    return original_cmi, p_value\n",
        "\n",
        "def generate_samples_conditional_dependence(n=1000):\n",
        "    \"\"\"\n",
        "    Generate samples where X and Y are conditionally dependent given Z.\n",
        "    Following Model 1: Z~ ∼ N(0, 1), discretize Z~, then X~ ∼ N(Z/2, 1) and Y~ ∼ N(Z/2, 1), and discretize X~ and Y~.\n",
        "    \"\"\"\n",
        "    Z_tilde = np.random.normal(0, 1, n)\n",
        "    Z = np.where(Z_tilde < 0, -1, 1)  # Discretize Z~\n",
        "    X_tilde = np.random.normal(Z / 2, 1, n)\n",
        "    Y_tilde = np.random.normal(Z / 2, 1, n)\n",
        "    X = np.where(X_tilde < 0, -1, 1)  # Discretize X~\n",
        "    Y = np.where(Y_tilde < 0, -1, 1)  # Discretize Y~\n",
        "    return X, Y, Z\n",
        "\n",
        "def generate_samples_conditional_independence(n=1000):\n",
        "    \"\"\"\n",
        "    Generate samples where X and Y are conditionally independent given Z.\n",
        "    Following Model 3: X~ and Y~ independently from N(0, 1), Z~ ∼ N((X + Y) / 2, 1), then discretize all.\n",
        "    \"\"\"\n",
        "    X_tilde = np.random.normal(0, 1, n)\n",
        "    Y_tilde = np.random.normal(0, 1, n)\n",
        "    Z_tilde = np.random.normal((X_tilde + Y_tilde) / 2, 1, n)\n",
        "    X = np.where(X_tilde < 0, -1, 1)  # Discretize X~\n",
        "    Y = np.where(Y_tilde < 0, -1, 1)  # Discretize Y~\n",
        "    Z = np.where(Z_tilde < 0, -1, 1)  # Discretize Z~\n",
        "    return X, Y, Z\n",
        "\n",
        "# Generate samples for both scenarios\n",
        "X_cd, Y_cd, Z_cd = generate_samples_conditional_dependence()\n",
        "X_ci, Y_ci, Z_ci = generate_samples_conditional_independence()\n",
        "\n",
        "# Apply the tests\n",
        "results = {\n",
        "    \"Conditional Dependence\": {\n",
        "        \"Asymptotic Test\": asymptotic_test(X_cd, Y_cd, Z_cd),\n",
        "        \"Permutation Test\": conditional_permutation_test(X_cd, Y_cd, Z_cd)\n",
        "    },\n",
        "    \"Conditional Independence\": {\n",
        "        \"Asymptotic Test\": asymptotic_test(X_ci, Y_ci, Z_ci),\n",
        "        \"Permutation Test\": conditional_permutation_test(X_ci, Y_ci, Z_ci)\n",
        "    }\n",
        "}\n",
        "\n",
        "print(results)\n"
      ]
    },
    {
      "cell_type": "code",
      "source": [
        "import pprint\n",
        "pprint.pprint(results)"
      ],
      "metadata": {
        "colab": {
          "base_uri": "https://localhost:8080/"
        },
        "id": "7ZU2X8gF5TlK",
        "outputId": "4816808c-5688-4560-8fbc-c85b29221cc0"
      },
      "execution_count": 3,
      "outputs": [
        {
          "output_type": "stream",
          "name": "stdout",
          "text": [
            "{'Conditional Dependence': {'Asymptotic Test': (0.38629002895058484,\n",
            "                                                0.8243624209869187),\n",
            "                            'Permutation Test': (0.00019314501447529242,\n",
            "                                                 0.16983016983016982)},\n",
            " 'Conditional Independence': {'Asymptotic Test': (6.568886441535309,\n",
            "                                                  0.037461437038060375),\n",
            "                              'Permutation Test': (0.0032844432207676543,\n",
            "                                                   0.9560439560439561)}}\n"
          ]
        }
      ]
    },
    {
      "cell_type": "markdown",
      "source": [
        "# Conditional Dependence Scenario\n",
        "\n",
        "    Asymptotic Test: The test statistic value is approximately 0.386 with a p-value of 0.824. This high p-value indicates that there is not enough evidence to reject the null hypothesis of conditional independence between XX and YY given ZZ. In other words, the test does not provide strong evidence against the notion that XX and YY are conditionally independent, despite the fact that we expected them to be conditionally dependent in this scenario.\n",
        "\n",
        "    Permutation Test: The test statistic (conditional mutual information) is about 0.00019 with a p-value of approximately 0.170. Similar to the asymptotic test, this p-value does not strongly reject the null hypothesis of conditional independence. However, it's notably lower than the p-value from the asymptotic test, suggesting a slight inclination towards detecting dependency, yet still not conclusive.\n",
        "\n",
        "# Conditional Independence Scenario\n",
        "\n",
        "    Asymptotic Test: The test statistic value is approximately 6.569 with a p-value of 0.037. This result is significant at common significance levels (e.g., α=0.05α=0.05), suggesting that there is evidence to reject the null hypothesis of conditional independence. This is an interesting outcome because it implies a detection of conditional dependency when, according to the scenario setup, XX and YY should be conditionally independent given ZZ. This could be due to the model capturing underlying patterns or noise in the data that falsely suggest dependency.\n",
        "\n",
        "    Permutation Test: The test statistic here is approximately 0.00328 with a p-value of about 0.956. Contrary to the asymptotic test, this very high p-value strongly suggests that there is no evidence against the null hypothesis of conditional independence in this scenario. This aligns with our expectation that XX and YY are conditionally independent given ZZ in this scenario.\n",
        "\n",
        "# Conclusions\n",
        "\n",
        "    The asymptotic test seems to have provided a counterintuitive result in the conditional independence scenario, detecting dependency where we expected none. This might be due to the sensitivity of the asymptotic test to the sample size, distribution characteristics, or specific patterns in the simulated data.\n",
        "\n",
        "    The permutation test results appear more aligned with expectations, especially in the conditional independence scenario, where it did not find evidence against the null hypothesis.\n",
        "    In the conditional dependence scenario, it suggested a slight, albeit not strong, indication of dependency, which could be due to the inherent randomness and complexity of detecting conditional dependencies in discretized data.\n",
        "\n",
        "    These outcomes underscore the importance of using multiple testing approaches to assess conditional independence, as different tests may have varying sensitivities and specificities to the underlying data structures. They also highlight the complexities involved in statistical testing, where factors like sample size, distribution assumptions, and the method of discretization can significantly influence test outcomes."
      ],
      "metadata": {
        "id": "TR3PpNQA4-By"
      }
    }
  ]
}