{
  "cells": [
    {
      "cell_type": "code",
      "execution_count": 14,
      "metadata": {
        "id": "5V-a6wrtD09Q"
      },
      "outputs": [],
      "source": [
        "from sklearn.metrics import mutual_info_score\n",
        "#from sklearn.feature_selection import chi2\n",
        "from scipy.stats import chi2_contingency\n",
        "from scipy.stats import chi2\n",
        "import numpy as np\n",
        "import matplotlib.pyplot as plt\n",
        "from scipy.stats import gaussian_kde, pearsonr\n",
        "import seaborn as sns\n",
        "import pandas as pd"
      ]
    },
    {
      "cell_type": "markdown",
      "metadata": {
        "id": "Z1_xd2hJD09U"
      },
      "source": [
        "# Mathematical Underpinnings - Lab 4"
      ]
    },
    {
      "cell_type": "markdown",
      "metadata": {
        "id": "WAesJ2kwD09X"
      },
      "source": [
        "Tests to verify hipoteses of independence (from Lab 4):"
      ]
    },
    {
      "cell_type": "code",
      "execution_count": 1,
      "metadata": {
        "id": "LxAEPBwAD09X"
      },
      "outputs": [],
      "source": [
        "def indep_test_asymptotic(X, Y, stat):\n",
        "\n",
        "    if stat == \"mi\":\n",
        "\n",
        "        stat_value = 2*len(X)*mutual_info_score(X, Y)\n",
        "\n",
        "    if stat == \"chi2\":\n",
        "\n",
        "        test_res = (chi2_contingency(pd.crosstab(X, Y)))\n",
        "        stat_value = test_res.statistic\n",
        "\n",
        "    df = (len(np.unique(X)) - 1)*(len(np.unique(Y)) - 1)\n",
        "\n",
        "    p_value = 1 - chi2.cdf(stat_value, df=df)\n",
        "\n",
        "    return stat_value, p_value"
      ]
    },
    {
      "cell_type": "code",
      "source": [
        "def indep_test_permutation(X, Y, B, stat=\"mi\"):\n",
        "\n",
        "    stat_value = mutual_info_score(X, Y)\n",
        "\n",
        "    condition_p_value = 0\n",
        "    for b in range(B):\n",
        "        X_b = np.random.permutation(X)\n",
        "\n",
        "        stat_value_b = mutual_info_score(X_b, Y)\n",
        "\n",
        "        if stat_value <= stat_value_b:\n",
        "            condition_p_value += 1\n",
        "\n",
        "    p_value = (1 + condition_p_value)/(1 + B)\n",
        "\n",
        "    return 2*len(X)*stat_value, p_value"
      ],
      "metadata": {
        "id": "h33tZ5LjHpWh"
      },
      "execution_count": 2,
      "outputs": []
    },
    {
      "cell_type": "markdown",
      "metadata": {
        "id": "mpW_Q_36D09Z"
      },
      "source": [
        "## Task 1"
      ]
    },
    {
      "cell_type": "code",
      "execution_count": 24,
      "metadata": {
        "id": "F-Fl2oEUD09Z"
      },
      "outputs": [],
      "source": [
        "# a function which computes CMI\n",
        "def cond_mutual_score(X, Y, Z):\n",
        "  cmi = 0\n",
        "  for z in np.unique(Z):\n",
        "    mask = Z == z\n",
        "    X_z, Y_z = X[mask], Y[mask]\n",
        "    cmi += mutual_info_score(X_z, Y_z) * len(X_z) / len(X)\n",
        "  return cmi"
      ]
    },
    {
      "cell_type": "markdown",
      "metadata": {
        "id": "sjsNIX1YD09a"
      },
      "source": [
        "### a)"
      ]
    },
    {
      "cell_type": "code",
      "execution_count": 25,
      "metadata": {
        "id": "4Qd3PvYmD09a"
      },
      "outputs": [],
      "source": [
        "# CI test based on CMI and asymptotics\n",
        "def cond_indep_test_asymptotic(X, Y, Z):\n",
        "  stat_value = 2 * len(X) * cond_mutual_score(X, Y, Z)\n",
        "  df = (len(np.unique(X)) - 1) * (len(np.unique(Y)) - 1) * len(np.unique(Z))\n",
        "  p_value = 1 - chi2.cdf(stat_value, df=df)\n",
        "  return stat_value, p_value"
      ]
    },
    {
      "cell_type": "markdown",
      "metadata": {
        "id": "EYfnYKFHD09b"
      },
      "source": [
        "### b)"
      ]
    },
    {
      "cell_type": "code",
      "source": [
        "def cond_permute(X, Z):\n",
        "  X = X.copy()\n",
        "  for z in np.unique(Z):\n",
        "    X[Z == z] = np.random.permutation(X[Z == z])\n",
        "  return X"
      ],
      "metadata": {
        "id": "fdre-FpRMANg"
      },
      "execution_count": 26,
      "outputs": []
    },
    {
      "cell_type": "code",
      "execution_count": 27,
      "metadata": {
        "id": "uSv4hLxvD09b"
      },
      "outputs": [],
      "source": [
        "# CI test based on CMI and permutations\n",
        "def cond_indep_test_permutation(X, Y, Z, B):\n",
        "  stat_value = cond_mutual_score(X, Y, Z)\n",
        "\n",
        "  condition_p_value = 0\n",
        "  for b in range(B):\n",
        "      X_b = cond_permute(X, Z)\n",
        "      stat_value_b = cond_mutual_score(X_b, Y, Z)\n",
        "\n",
        "      if stat_value <= stat_value_b:\n",
        "          condition_p_value += 1\n",
        "\n",
        "  p_value = (1 + condition_p_value)/(1 + B)\n",
        "  return 2 * len(X) * stat_value, p_value"
      ]
    },
    {
      "cell_type": "markdown",
      "metadata": {
        "id": "-Agcryt0D09c"
      },
      "source": [
        "### c)"
      ]
    },
    {
      "cell_type": "code",
      "source": [
        "def discretize(A_dash, thr=0):\n",
        "  return np.where(A_dash >= thr, 1, -1)"
      ],
      "metadata": {
        "id": "soKMG-5vFTe8"
      },
      "execution_count": 21,
      "outputs": []
    },
    {
      "cell_type": "code",
      "source": [
        "n=1000"
      ],
      "metadata": {
        "id": "7Q85CpLXQZLz"
      },
      "execution_count": 11,
      "outputs": []
    },
    {
      "cell_type": "markdown",
      "source": [
        "### conditionaly independent"
      ],
      "metadata": {
        "id": "uRRdUAPEQcnI"
      }
    },
    {
      "cell_type": "code",
      "source": [
        "Z_dash = np.random.normal(0, 1, n)\n",
        "Z = discretize(Z_dash)\n",
        "\n",
        "X_dash = np.random.normal(0, 1, n) + Z / 2\n",
        "X = discretize(X_dash)\n",
        "\n",
        "Y_dash = np.random.normal(0, 1, n) + Z / 2\n",
        "Y = discretize(Y_dash)"
      ],
      "metadata": {
        "id": "t6Mt3CaKGPz2"
      },
      "execution_count": 22,
      "outputs": []
    },
    {
      "cell_type": "code",
      "source": [
        "stat_value, p_value = cond_indep_test_asymptotic(X,Y,Z)\n",
        "print(\"1. Asymptotic test of conditional independence:\")\n",
        "print(f\"- Statistic value: {stat_value:.4f}\\n- p value: {p_value:.4f}\\n\")"
      ],
      "metadata": {
        "colab": {
          "base_uri": "https://localhost:8080/"
        },
        "id": "RBjCfBxHGo8y",
        "outputId": "b62494ea-514b-4421-dd42-8f6f7681b05f"
      },
      "execution_count": 32,
      "outputs": [
        {
          "output_type": "stream",
          "name": "stdout",
          "text": [
            "1. Asymptotic test of conditional independence:\n",
            "- Statistic value: 0.6252\n",
            "- p value: 0.7315\n",
            "\n"
          ]
        }
      ]
    },
    {
      "cell_type": "code",
      "source": [
        "stat_value, p_value = cond_indep_test_permutation(X, Y, Z, B=100)\n",
        "print(\"2. Conditional permutation test:\")\n",
        "print(f\"- Statistic value: {stat_value:.4f}\\n- p value: {p_value:.4f}\\n\")"
      ],
      "metadata": {
        "colab": {
          "base_uri": "https://localhost:8080/"
        },
        "id": "n075aVNPG7-R",
        "outputId": "1cd253bb-af60-4ab3-b17d-e0e204405b75"
      },
      "execution_count": 33,
      "outputs": [
        {
          "output_type": "stream",
          "name": "stdout",
          "text": [
            "2. Conditional permutation test:\n",
            "- Statistic value: 0.6252\n",
            "- p value: 0.7426\n",
            "\n"
          ]
        }
      ]
    },
    {
      "cell_type": "markdown",
      "metadata": {
        "id": "zJHI5zM1D09d"
      },
      "source": [
        "### conditionaly dependent"
      ]
    },
    {
      "cell_type": "code",
      "source": [
        "X_dash = np.random.normal(0, 1, n)\n",
        "X = discretize(X_dash)\n",
        "\n",
        "Y_dash = np.random.normal(0, 1, n)\n",
        "Y = discretize(Y_dash)\n",
        "\n",
        "Z_dash = np.random.normal(0, 1, n) + (X + Y) / 2\n",
        "Z = discretize(Z_dash)"
      ],
      "metadata": {
        "id": "1CfFCgNiIL7R"
      },
      "execution_count": 34,
      "outputs": []
    },
    {
      "cell_type": "code",
      "source": [
        "stat_value, p_value = cond_indep_test_asymptotic(X,Y,Z)\n",
        "print(\"1. Asymptotic test of conditional independence:\")\n",
        "print(f\"- Statistic value: {stat_value:.4f}\\n- p value: {p_value:.4f}\\n\")"
      ],
      "metadata": {
        "colab": {
          "base_uri": "https://localhost:8080/"
        },
        "id": "MMEofBilITES",
        "outputId": "b3386c10-4933-4663-f1f1-84cb5372cc6c"
      },
      "execution_count": 35,
      "outputs": [
        {
          "output_type": "stream",
          "name": "stdout",
          "text": [
            "1. Asymptotic test of conditional independence:\n",
            "- Statistic value: 33.6657\n",
            "- p value: 0.0000\n",
            "\n"
          ]
        }
      ]
    },
    {
      "cell_type": "code",
      "source": [
        "stat_value, p_value = cond_indep_test_permutation(X, Y, Z, B=100)\n",
        "print(\"2. Conditional permutation test:\")\n",
        "print(f\"- Statistic value: {stat_value:.4f}\\n- p value: {p_value:.4f}\\n\")"
      ],
      "metadata": {
        "colab": {
          "base_uri": "https://localhost:8080/"
        },
        "id": "tqGxHzVtIVUD",
        "outputId": "9654c279-6d7e-464a-c841-67e805683cd1"
      },
      "execution_count": 36,
      "outputs": [
        {
          "output_type": "stream",
          "name": "stdout",
          "text": [
            "2. Conditional permutation test:\n",
            "- Statistic value: 33.6657\n",
            "- p value: 0.0099\n",
            "\n"
          ]
        }
      ]
    },
    {
      "cell_type": "markdown",
      "metadata": {
        "id": "0jYWYVyuD09f"
      },
      "source": [
        "## Task 2"
      ]
    },
    {
      "cell_type": "code",
      "execution_count": 60,
      "metadata": {
        "id": "f-Ac0JL6D09g"
      },
      "outputs": [],
      "source": [
        "def sample_from_model1(n=1000):\n",
        "    Z_dash = np.random.normal(0, 1, n)\n",
        "    Z = discretize(Z_dash)\n",
        "    X_dash = np.random.normal(Z/2, 1, n)\n",
        "    X = discretize(X_dash)\n",
        "    Y_dash = np.random.normal(Z/2, 1, n)\n",
        "    Y = discretize(Y_dash)\n",
        "    return X, Y, Z\n",
        "\n",
        "def sample_from_model2():\n",
        "    X_dash = np.random.normal(0, 1, n)\n",
        "    X = discretize(X_dash)\n",
        "    Z_dash = np.random.normal(X/2 ,1, n)\n",
        "    Z = discretize(Z_dash)\n",
        "    Y_dash = np.random.normal(Z/2 ,1, n)\n",
        "    Y = discretize(Y_dash)\n",
        "    return X, Y, Z\n",
        "\n",
        "def sample_from_model3(m=1000):\n",
        "    X_dash = np.random.normal(0, 1, n)\n",
        "    X = discretize(X_dash)\n",
        "    Y_dash = np.random.normal(0, 1, n)\n",
        "    Y = discretize(Y_dash)\n",
        "    Z_dash = np.random.normal((X + Y)/2, 1, n)\n",
        "    Z = discretize(Z_dash)\n",
        "    return X, Y, Z"
      ]
    },
    {
      "cell_type": "markdown",
      "metadata": {
        "id": "wtaLPXOgD09g"
      },
      "source": [
        "### a)"
      ]
    },
    {
      "cell_type": "markdown",
      "metadata": {
        "id": "rKoS6CteD09h"
      },
      "source": [
        "answer:\n",
        "- Model1:\n",
        "    - X and Y are **dependent**\n",
        "    - X and Y are conditionally **independent** given Z\n",
        "- Model2:\n",
        "    - X and Y are **dependent**\n",
        "    - X and Y are conditionally **independent** given Z\n",
        "- Model3:\n",
        "    - X and Y are **independent**\n",
        "    - X and Y are conditionally **dependent** given Z"
      ]
    },
    {
      "cell_type": "markdown",
      "metadata": {
        "id": "lQG4kaNSD09i"
      },
      "source": [
        "### b)"
      ]
    },
    {
      "cell_type": "code",
      "execution_count": 61,
      "metadata": {
        "id": "s6BzzUedD09i"
      },
      "outputs": [],
      "source": [
        "X1, Y1, Z1 = sample_from_model1()\n",
        "X2, Y2, Z2 = sample_from_model2()\n",
        "X3, Y3, Z3 = sample_from_model3()"
      ]
    },
    {
      "cell_type": "markdown",
      "source": [
        "#### Model1"
      ],
      "metadata": {
        "id": "_ad1-6LVJiEJ"
      }
    },
    {
      "cell_type": "code",
      "source": [
        "mi = mutual_info_score(X1, Y1)\n",
        "cmi = cond_mutual_score(X1, Y1, Z1)\n",
        "print(f\"- MI: {mi:.4f}\\n- CMI: {cmi:.4f}\")"
      ],
      "metadata": {
        "colab": {
          "base_uri": "https://localhost:8080/"
        },
        "id": "61YEKx4TJlVa",
        "outputId": "108c680b-6c13-42c0-b828-f4c9f931770d"
      },
      "execution_count": 52,
      "outputs": [
        {
          "output_type": "stream",
          "name": "stdout",
          "text": [
            "- MI: 0.0050\n",
            "- CMI: 0.0026\n"
          ]
        }
      ]
    },
    {
      "cell_type": "markdown",
      "source": [
        "#### Model2"
      ],
      "metadata": {
        "id": "dRNZo1IAJ2U2"
      }
    },
    {
      "cell_type": "code",
      "source": [
        "mi = mutual_info_score(X2, Y2)\n",
        "cmi = cond_mutual_score(X2, Y2, Z2)\n",
        "print(f\"- MI: {mi:.4f}\\n- CMI: {cmi:.4f}\")"
      ],
      "metadata": {
        "colab": {
          "base_uri": "https://localhost:8080/"
        },
        "id": "6ng2oh_iJ1PJ",
        "outputId": "9924a875-f9f0-47d9-8365-784330a224fc"
      },
      "execution_count": 53,
      "outputs": [
        {
          "output_type": "stream",
          "name": "stdout",
          "text": [
            "- MI: 0.0104\n",
            "- CMI: 0.0006\n"
          ]
        }
      ]
    },
    {
      "cell_type": "markdown",
      "source": [
        "#### Model3"
      ],
      "metadata": {
        "id": "BSbaUb39J3Qf"
      }
    },
    {
      "cell_type": "code",
      "source": [
        "mi = mutual_info_score(X3, Y3)\n",
        "cmi = cond_mutual_score(X3, Y3, Z3)\n",
        "print(f\"- MI: {mi:.4f}\\n- CMI: {cmi:.4f}\")"
      ],
      "metadata": {
        "colab": {
          "base_uri": "https://localhost:8080/"
        },
        "id": "4MtBgkbyJ1YP",
        "outputId": "925f73e8-16c4-463b-92ba-62231daf4d47"
      },
      "execution_count": 54,
      "outputs": [
        {
          "output_type": "stream",
          "name": "stdout",
          "text": [
            "- MI: 0.0000\n",
            "- CMI: 0.0130\n"
          ]
        }
      ]
    },
    {
      "cell_type": "markdown",
      "metadata": {
        "id": "O7EHNMBuD09j"
      },
      "source": [
        "### c)"
      ]
    },
    {
      "cell_type": "code",
      "execution_count": 56,
      "metadata": {
        "id": "DKkcguD-D09j"
      },
      "outputs": [],
      "source": [
        "def print_values(stat_value, p_value):\n",
        "  print(f\"statistic value: {stat_value:.4f}, p-value: {p_value:.4f}\")\n",
        "\n",
        "def run_tests(X, Y, Z, B=100):\n",
        "  print(\"1. Independence tests\")\n",
        "  print(\"1.1. Asymptotic test of independence with mutual information:\")\n",
        "  stat_value, p_value = indep_test_asymptotic(X, Y, 'mi')\n",
        "  print_values(stat_value, p_value)\n",
        "\n",
        "  print(\"1.2. Permutation test of independence:\")\n",
        "  stat_value, p_value = indep_test_permutation(X, Y, B, stat=\"mi\")\n",
        "  print_values(stat_value, p_value)\n",
        "\n",
        "  print(\"\\n\\n2. Conditional independence tests: \")\n",
        "  print(\"2.1. Asymptotic test of conditional independence with mutual information:\")\n",
        "  stat_value, p_value = cond_indep_test_asymptotic(X, Y, Z)\n",
        "  print_values(stat_value, p_value)\n",
        "\n",
        "  print(\"2.2. Permutation test of conditional independence:\")\n",
        "  stat_value, p_value = cond_indep_test_permutation(X, Y, Z, B)\n",
        "  print_values(stat_value, p_value)\n",
        ""
      ]
    },
    {
      "cell_type": "markdown",
      "source": [
        "### Model1"
      ],
      "metadata": {
        "id": "Q8ug4TA8Mesc"
      }
    },
    {
      "cell_type": "code",
      "source": [
        "run_tests(X1, Y1, Z1, B=100)"
      ],
      "metadata": {
        "colab": {
          "base_uri": "https://localhost:8080/"
        },
        "id": "CC2gZJu1Mb34",
        "outputId": "a7245b1d-883d-4fa8-dc59-7f707702723c"
      },
      "execution_count": 62,
      "outputs": [
        {
          "output_type": "stream",
          "name": "stdout",
          "text": [
            "1. Independence tests\n",
            "1.1. Asymptotic test of independence with mutual information:\n",
            "statistic value: 21.7094, p-value: 0.0000\n",
            "1.2. Permutation test of independence:\n",
            "statistic value: 21.7094, p-value: 0.0099\n",
            "\n",
            "\n",
            "2. Conditional independence tests: \n",
            "2.1. Asymptotic test of conditional independence with mutual information:\n",
            "statistic value: 0.8838, p-value: 0.6428\n",
            "2.2. Permutation test of conditional independence:\n",
            "statistic value: 0.8838, p-value: 0.7129\n"
          ]
        }
      ]
    },
    {
      "cell_type": "markdown",
      "source": [
        "Conclusions:\n",
        "- [Independence tests] *p-value* < 0.05, **reject** hypothesis of independence\n",
        "- [Conditional independence tests] *p-value* > 0.05, **fail to reject** hypothesis of conditional independence"
      ],
      "metadata": {
        "id": "BeN4pPXbNa5s"
      }
    },
    {
      "cell_type": "markdown",
      "source": [
        "### Model2"
      ],
      "metadata": {
        "id": "RN3rKuLnMf1b"
      }
    },
    {
      "cell_type": "code",
      "source": [
        "run_tests(X2, Y2, Z2, B=100)"
      ],
      "metadata": {
        "colab": {
          "base_uri": "https://localhost:8080/"
        },
        "id": "C-scKPTfMhGa",
        "outputId": "e24f4ca0-22e2-4110-b983-73d7f9744edf"
      },
      "execution_count": 58,
      "outputs": [
        {
          "output_type": "stream",
          "name": "stdout",
          "text": [
            "1. Independence tests\n",
            "1.1. Asymptotic test of independence with mutual information:\n",
            "statistic value: 20.7841, p-value: 0.0000\n",
            "1.2. Permutation test of independence:\n",
            "statistic value: 20.7841, p-value: 0.0099\n",
            "\n",
            "\n",
            "2. Conditional independence tests: \n",
            "2.1. Asymptotic test of conditional independence with mutual information:\n",
            "statistic value: 1.1160, p-value: 0.5724\n",
            "2.2. Permutation test of conditional independence:\n",
            "statistic value: 1.1160, p-value: 0.5347\n"
          ]
        }
      ]
    },
    {
      "cell_type": "markdown",
      "source": [
        "Conclusions:\n",
        "- [Independence tests] *p-value* < 0.05, **reject** hypothesis of independence\n",
        "- [Conditional independence tests] *p-value* > 0.05, **fail to reject** hypothesis of conditional independence"
      ],
      "metadata": {
        "id": "whWE01FtN555"
      }
    },
    {
      "cell_type": "markdown",
      "source": [
        "### Model3"
      ],
      "metadata": {
        "id": "VZcUKF2aMhk3"
      }
    },
    {
      "cell_type": "code",
      "source": [
        "run_tests(X3, Y3, Z3, B=100)"
      ],
      "metadata": {
        "colab": {
          "base_uri": "https://localhost:8080/"
        },
        "id": "JWKRnnuKMic-",
        "outputId": "af15c313-deb3-4513-d616-8e803ea9c631"
      },
      "execution_count": 59,
      "outputs": [
        {
          "output_type": "stream",
          "name": "stdout",
          "text": [
            "1. Independence tests\n",
            "1.1. Asymptotic test of independence with mutual information:\n",
            "statistic value: 0.0676, p-value: 0.7949\n",
            "1.2. Permutation test of independence:\n",
            "statistic value: 0.0676, p-value: 0.8218\n",
            "\n",
            "\n",
            "2. Conditional independence tests: \n",
            "2.1. Asymptotic test of conditional independence with mutual information:\n",
            "statistic value: 26.0859, p-value: 0.0000\n",
            "2.2. Permutation test of conditional independence:\n",
            "statistic value: 26.0859, p-value: 0.0099\n"
          ]
        }
      ]
    },
    {
      "cell_type": "markdown",
      "source": [
        "Conclusions:\n",
        "- [Independence tests] *p-value* > 0.05 => **fail to reject** hypothesis of independence\n",
        "- [Conditional independence tests] *p-value* < 0.05 => **reject** hypothesis of conditional independence"
      ],
      "metadata": {
        "id": "0TdfAVIlN786"
      }
    }
  ],
  "metadata": {
    "kernelspec": {
      "display_name": "dydaktyka",
      "language": "python",
      "name": "python3"
    },
    "language_info": {
      "codemirror_mode": {
        "name": "ipython",
        "version": 3
      },
      "file_extension": ".py",
      "mimetype": "text/x-python",
      "name": "python",
      "nbconvert_exporter": "python",
      "pygments_lexer": "ipython3",
      "version": "3.9.16"
    },
    "colab": {
      "provenance": []
    }
  },
  "nbformat": 4,
  "nbformat_minor": 0
}