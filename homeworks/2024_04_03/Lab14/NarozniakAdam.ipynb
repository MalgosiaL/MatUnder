{
 "cells": [
  {
   "cell_type": "code",
   "execution_count": 8,
   "metadata": {
    "ExecuteTime": {
     "end_time": "2024-04-17T11:23:24.736210Z",
     "start_time": "2024-04-17T11:23:24.706371Z"
    }
   },
   "outputs": [],
   "source": []
  },
  {
   "cell_type": "markdown",
   "metadata": {},
   "source": [
    "# Mathematical Underpinnings - Lab 6"
   ]
  },
  {
   "cell_type": "code",
   "execution_count": 37,
   "metadata": {
    "ExecuteTime": {
     "end_time": "2024-04-17T11:32:01.329110Z",
     "start_time": "2024-04-17T11:32:01.326391Z"
    }
   },
   "outputs": [],
   "source": [
    "from sklearn.metrics import mutual_info_score\n",
    "import numpy as np\n",
    "import matplotlib.pyplot as plt\n",
    "import seaborn as sns\n",
    "import pandas as pd\n",
    "from tqdm import tqdm"
   ]
  },
  {
   "cell_type": "markdown",
   "metadata": {},
   "source": [
    "## Useful functions"
   ]
  },
  {
   "cell_type": "code",
   "execution_count": 38,
   "metadata": {
    "ExecuteTime": {
     "end_time": "2024-04-17T11:32:02.091104Z",
     "start_time": "2024-04-17T11:32:02.087261Z"
    }
   },
   "outputs": [],
   "source": [
    "def discetize_2bins(X):\n",
    "    X_discrete = 1*(X >= 0)\n",
    "    return X_discrete"
   ]
  },
  {
   "cell_type": "code",
   "execution_count": 39,
   "metadata": {
    "ExecuteTime": {
     "end_time": "2024-04-17T11:32:02.434809Z",
     "start_time": "2024-04-17T11:32:02.433410Z"
    }
   },
   "outputs": [],
   "source": [
    "def conditional_permutation(X, Z):\n",
    "\n",
    "    z_values = np.unique(Z)\n",
    "    n_z_values = len(z_values)\n",
    "    n = len(Z)\n",
    "\n",
    "    X_b = np.zeros(n)\n",
    "\n",
    "    for i in range(n_z_values):\n",
    "\n",
    "        z_value_tmp = z_values[i]\n",
    "\n",
    "        X_b[Z == z_value_tmp] = np.random.permutation(X[Z == z_value_tmp])\n",
    "\n",
    "    return X_b"
   ]
  },
  {
   "cell_type": "code",
   "execution_count": 40,
   "metadata": {
    "ExecuteTime": {
     "end_time": "2024-04-17T11:32:03.030507Z",
     "start_time": "2024-04-17T11:32:03.026296Z"
    }
   },
   "outputs": [],
   "source": [
    "def conditional_mutual_information(X, Y, Z):\n",
    "\n",
    "    z_values = np.unique(Z)\n",
    "    n_z_values = len(z_values)\n",
    "    n = len(Z)\n",
    "\n",
    "    cmi = 0\n",
    "\n",
    "    for i in range(n_z_values):\n",
    "\n",
    "        z_value_tmp = z_values[i]\n",
    "        z_condition = (Z == z_value_tmp)\n",
    "\n",
    "        X_z = X[z_condition]\n",
    "        Y_z = Y[z_condition]\n",
    "\n",
    "        mi_XY_z = mutual_info_score(X_z, Y_z)\n",
    "        p_z = np.sum(z_condition)/n\n",
    "\n",
    "        cmi += p_z*mi_XY_z\n",
    "\n",
    "    return cmi"
   ]
  },
  {
   "cell_type": "code",
   "execution_count": 41,
   "metadata": {
    "ExecuteTime": {
     "end_time": "2024-04-17T11:32:03.621875Z",
     "start_time": "2024-04-17T11:32:03.619599Z"
    }
   },
   "outputs": [],
   "source": [
    "# II(X;Y;Z)\n",
    "def interaction_information(X, Y, Z):\n",
    "    return conditional_mutual_information(X, Y, Z) - mutual_info_score(X, Y)"
   ]
  },
  {
   "cell_type": "code",
   "execution_count": 42,
   "metadata": {
    "ExecuteTime": {
     "end_time": "2024-04-17T11:32:04.245395Z",
     "start_time": "2024-04-17T11:32:04.242998Z"
    }
   },
   "outputs": [],
   "source": [
    "# II(X;Y;Z1;Z2)\n",
    "def interaction_information2(X, Y, Z1, Z2):\n",
    "    Z_1_and_2 = 2*Z2 + Z1\n",
    "    return interaction_information(X, Y, Z_1_and_2) - interaction_information(X, Y, Z1) - interaction_information(X, Y, Z2)"
   ]
  },
  {
   "cell_type": "markdown",
   "metadata": {},
   "source": [
    "## Task 1"
   ]
  },
  {
   "cell_type": "code",
   "execution_count": 43,
   "metadata": {
    "ExecuteTime": {
     "end_time": "2024-04-17T11:32:05.662164Z",
     "start_time": "2024-04-17T11:32:05.657454Z"
    }
   },
   "outputs": [],
   "source": [
    "def secmi2(X, Y, Z):\n",
    "    res = 0\n",
    "    mi = mutual_info_score(X, Y)\n",
    "    res += mi\n",
    "    for i in range(Z.shape[1]):\n",
    "        ii = interaction_information(Y, X, Z[:, i])\n",
    "        res += ii\n",
    "    return res\n",
    "\n",
    "def secmi3(X, Y, Z):\n",
    "    res = 0\n",
    "    res += secmi2(X, Y, Z)\n",
    "    \n",
    "    for i in range(Z.shape[1]):\n",
    "        for j in range(Z.shape[1]):\n",
    "            if i < j:\n",
    "                res += interaction_information2(Y, X, Z[:, i], Z[:, j])\n",
    "    return res"
   ]
  },
  {
   "cell_type": "markdown",
   "metadata": {},
   "source": [
    "### a)"
   ]
  },
  {
   "cell_type": "code",
   "execution_count": 52,
   "metadata": {
    "ExecuteTime": {
     "end_time": "2024-04-17T11:40:52.950325Z",
     "start_time": "2024-04-17T11:40:52.947949Z"
    }
   },
   "outputs": [],
   "source": [
    "def cond_indep_test_permutation(X, Y, Z, B, stat):\n",
    "\n",
    "    n_col_Z = Z.shape[1]\n",
    "    Z_1dim = np.dot(Z, 2**np.linspace(0, n_col_Z-1, n_col_Z))\n",
    "\n",
    "    if stat == \"cmi\":\n",
    "        stat_value = conditional_mutual_information(X, Y, Z_1dim)\n",
    "    if stat == \"secmi2\":\n",
    "        stat_value = secmi2(X, Y, Z)\n",
    "    if stat == \"secmi3\":\n",
    "        stat_value = secmi3(X, Y, Z)\n",
    "\n",
    "    condition_p_value = 0\n",
    "    for b in range(B):\n",
    "        X_b = conditional_permutation(X, Z_1dim)\n",
    "\n",
    "        if stat == \"cmi\":\n",
    "            stat_value_b = conditional_mutual_information(X_b, Y, Z_1dim)\n",
    "        if stat == \"secmi2\":\n",
    "            stat_value_b = secmi2(X_b, Y, Z)\n",
    "        if stat == \"secmi3\":\n",
    "            stat_value_b = secmi3(X_b, Y, Z)\n",
    "\n",
    "        if stat_value <= stat_value_b:\n",
    "            condition_p_value += 1\n",
    "\n",
    "    p_value = (1 + condition_p_value)/(1 + B)\n",
    "\n",
    "    return 2*len(X)*stat_value, p_value"
   ]
  },
  {
   "cell_type": "markdown",
   "metadata": {},
   "source": [
    "### b)"
   ]
  },
  {
   "cell_type": "code",
   "execution_count": 53,
   "metadata": {
    "ExecuteTime": {
     "end_time": "2024-04-17T11:40:53.259526Z",
     "start_time": "2024-04-17T11:40:53.257766Z"
    }
   },
   "outputs": [],
   "source": [
    "def generate_sample_b(n):\n",
    "    Y = discetize_2bins(np.random.normal(size=n))\n",
    "    Z1 = discetize_2bins(np.random.normal(Y/2, 1, n))\n",
    "    Z2 = discetize_2bins(np.random.normal(Y/2, 1, n))\n",
    "    Z3 = discetize_2bins(np.random.normal(Y/2, 1, n))\n",
    "    X = discetize_2bins(np.random.normal(Z1/2, 1, n))\n",
    "\n",
    "    return X, Y, Z1, Z2, Z3"
   ]
  },
  {
   "cell_type": "code",
   "outputs": [
    {
     "name": "stdout",
     "output_type": "stream",
     "text": [
      "Hypothesis 1\n",
      "CMI rejected: 5 out of 100\n",
      "SECMI2 rejected: 4 out of 100\n",
      "SECMI3 rejected: 4 out of 100\n",
      "Hypothesis 2\n",
      "CMI rejected: 6 out of 100\n",
      "SECMI2 rejected: 2 out of 100\n",
      "SECMI3 rejected: 3 out of 100\n"
     ]
    }
   ],
   "source": [
    "def experiment(stat, N=100, alpha=0.05, n=100, B=50, sample_gen_fnc=None):\n",
    "    h1_rejected = 0\n",
    "    h2_rejected = 0\n",
    "    for _ in range(N):\n",
    "        X, Y, Z1, Z2, Z3 = sample_gen_fnc(n)\n",
    "\n",
    "            \n",
    "        Z_1_2 = np.array([Z1, Z2]).T\n",
    "        p = cond_indep_test_permutation(X, Y, Z_1_2, B=B, stat=stat)[1]\n",
    "        if p < alpha:\n",
    "            h1_rejected += 1\n",
    "            \n",
    "        Z_2_3 = np.array([Z2, Z3]).T\n",
    "        p = cond_indep_test_permutation(X, Y, Z_2_3, B=B, stat=stat)[1]\n",
    "        if p < alpha:\n",
    "            h2_rejected += 1\n",
    "            \n",
    "    return h1_rejected, h2_rejected\n",
    "N = 100\n",
    "rejected_cmi = experiment(\"cmi\", N=N, sample_gen_fnc=generate_sample_b)\n",
    "print(\"Hypothesis 1\")\n",
    "print(f\"CMI rejected: {rejected_cmi[0]} out of {N}\")\n",
    "rejected_secmi2 = experiment(\"secmi2\", N=N, sample_gen_fnc=generate_sample_b)\n",
    "print(f\"SECMI2 rejected: {rejected_secmi2[0]} out of {N}\")\n",
    "rejected_secmi3 = experiment(\"secmi3\", N=N, sample_gen_fnc=generate_sample_b)\n",
    "print(f\"SECMI3 rejected: {rejected_secmi3[0]} out of {N}\")\n",
    "\n",
    "print(\"Hypothesis 2\")\n",
    "print(f\"CMI rejected: {rejected_cmi[1]} out of {N}\")\n",
    "print(f\"SECMI2 rejected: {rejected_secmi2[1]} out of {N}\")\n",
    "print(f\"SECMI3 rejected: {rejected_secmi3[1]} out of {N}\")\n"
   ],
   "metadata": {
    "collapsed": false,
    "ExecuteTime": {
     "end_time": "2024-04-17T11:42:18.049468Z",
     "start_time": "2024-04-17T11:40:53.451367Z"
    }
   },
   "execution_count": 54
  },
  {
   "cell_type": "markdown",
   "metadata": {},
   "source": [
    "### c)"
   ]
  },
  {
   "cell_type": "code",
   "execution_count": 55,
   "metadata": {
    "ExecuteTime": {
     "end_time": "2024-04-17T11:42:18.054114Z",
     "start_time": "2024-04-17T11:42:18.048647Z"
    }
   },
   "outputs": [],
   "source": [
    "def generate_sample_c(n=1000):\n",
    "    X = np.random.binomial(1, 0.5, n)\n",
    "    Z1 = np.random.binomial(1, 0.5, n)\n",
    "    Z2 = np.random.binomial(1, 0.5, n)\n",
    "    Z3 = np.random.binomial(1, 0.5, n)\n",
    "    X_Z1_Z2 = (X + Z1 + Z2) % 2\n",
    "    ind_0 = np.where(X_Z1_Z2 == 0)[0]\n",
    "    ind_1 = np.where(X_Z1_Z2 == 1)[0]\n",
    "    Y = np.zeros(n)\n",
    "    Y[ind_0] = np.random.binomial(1, 0.2, len(ind_0))\n",
    "    Y[ind_1] = np.random.binomial(1, 0.8, len(ind_1))\n",
    "    return X, Y, Z1, Z2, Z3"
   ]
  },
  {
   "cell_type": "code",
   "outputs": [
    {
     "name": "stdout",
     "output_type": "stream",
     "text": [
      "Hypothesis 1\n",
      "CMI rejected: 100 out of 100\n",
      "SECMI2 rejected: 5 out of 100\n",
      "SECMI3 rejected: 100 out of 100\n",
      "Hypothesis 2\n",
      "CMI rejected: 2 out of 100\n",
      "SECMI2 rejected: 3 out of 100\n",
      "SECMI3 rejected: 5 out of 100\n"
     ]
    }
   ],
   "source": [
    "print(\"Hypothesis 1\")\n",
    "print(f\"CMI rejected: {rejected_cmi[0]} out of {N}\")\n",
    "rejected_cmi = experiment(\"cmi\", N=N, sample_gen_fnc=generate_sample_c)\n",
    "rejected_secmi2 = experiment(\"secmi2\", N=N, sample_gen_fnc=generate_sample_c)\n",
    "print(f\"SECMI2 rejected: {rejected_secmi2[0]} out of {N}\")\n",
    "rejected_secmi3 = experiment(\"secmi3\", N=N, sample_gen_fnc=generate_sample_c)\n",
    "print(f\"SECMI3 rejected: {rejected_secmi3[0]} out of {N}\")\n",
    "\n",
    "print(\"Hypothesis 2\")\n",
    "print(f\"CMI rejected: {rejected_cmi[1]} out of {N}\")\n",
    "print(f\"SECMI2 rejected: {rejected_secmi2[1]} out of {N}\")\n",
    "print(f\"SECMI3 rejected: {rejected_secmi3[1]} out of {N}\")"
   ],
   "metadata": {
    "collapsed": false,
    "ExecuteTime": {
     "end_time": "2024-04-17T11:47:34.803253Z",
     "start_time": "2024-04-17T11:46:03.822843Z"
    }
   },
   "execution_count": 57
  },
  {
   "cell_type": "markdown",
   "metadata": {},
   "source": [
    "## Task 2\n",
    " \n",
    "in R"
   ]
  }
 ],
 "metadata": {
  "kernelspec": {
   "display_name": "dydaktyka",
   "language": "python",
   "name": "python3"
  },
  "language_info": {
   "codemirror_mode": {
    "name": "ipython",
    "version": 3
   },
   "file_extension": ".py",
   "mimetype": "text/x-python",
   "name": "python",
   "nbconvert_exporter": "python",
   "pygments_lexer": "ipython3",
   "version": "3.9.16"
  }
 },
 "nbformat": 4,
 "nbformat_minor": 2
}
